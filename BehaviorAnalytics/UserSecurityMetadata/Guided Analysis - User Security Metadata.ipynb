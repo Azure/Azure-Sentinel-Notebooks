{
 "cells": [
  {
   "cell_type": "markdown",
   "metadata": {},
    "source": [
      "# Guided Analysis - User Security Metadata (Public Preview)\n",
      "\n",
      "**Notebook Version:** 1.0  \n",
      "**Python Version:** Python 3.6  \n",
      "**Required Packages**: kqlmagic, validate_email, jsonpickle, azure-cli-core, Azure-Sentinel-Utilities  \n",
      "  \n",
      "**Platforms Supported**:\n",
      "- Azure Notebooks Free Compute\n",
      "- Azure Notebooks DSVM\n",
      "- OS Independent\n",
      "  \n",
      "**Data Sources Required**:\n",
      "- Log Analytics : UserPeerAnalytics, UserAccessAnalytics\n",
      "\n",
      "**Permissions Required**:\n",
      "- **Log Analytics Read Permissions**: To connect and query the workspace you need to be assigned at least [Reader](https://docs.microsoft.com/en-us/azure/role-based-access-control/built-in-roles#reader) or [Microsoft Sentinel Reader](https://docs.microsoft.com/en-us/azure/role-based-access-control/built-in-roles#azure-sentinel-reader) role on the workspace.\n",
      "- **Directory Basic Read Permissions** : If you are a user who is a native member of the tenant, then by [default](https://docs.microsoft.com/en-us/azure/active-directory/fundamentals/users-default-permissions#compare-member-and-guest-default-permissions) you have permissions to read user, group and serviceprincipal information. If you are a guest user in the tenant, then you need to be assigned [Directory Reader](https://docs.microsoft.com/en-us/azure/active-directory/users-groups-roles/directory-assign-admin-roles#directory-readers) role. \n",
      "\n",
      "**Description**:  \n",
      "This notebook introduces the concept of contextual security metadata that are gathered for AAD users. Here are the security metadata that are available* today\n",
      "- **UserAccessAnalytics**: The most important step of a security incident is to identify the blast radius of the user under investigation. This enrichment data calculates for a given user, the direct or transitive access/permission to resources. In Public Preview, we calculate the blast radius access graph only limited to RBAC access to subscriptions.  For example, if the user under investigation is Jane Smith, Access Graph displays all the Azure subscriptions that she either can access directly, via groups or serviceprincipals. \n",
      "- **UserPeerAnalytics**: Analysts frequently use the peers of a user under investigation to scope the security incident. This enrichment data, for a given user, provides a ranked list of peers. For example, if the user is Jane Smith, Peer Enrichment calculates all of Jane’s peers based on her mailing list, security groups, etc and provides the top 20 of her peers. Specifically, this information is calculated using Natural Language Processing algorithms using group membership information from Azure Active Directory.  \n",
      "\n",
      "This is a Microsoft Sentinel **Public Preview** feature. If you are interested in the above analytics data please contact ramk at microsoft com.\n",
      "\n",
      "## Contents:  \n",
      "- [Setup](#setup)\n",
      "    - [Install Packages](#install)\n",
      "    - [Enter Tenant and Workspace Ids](#tenant-and-worskpace-ids)\n",
      "    - [Connect to Log Analytics](#connect-to-la)\n",
      "    - [Log into Azure CLI](#log-into-azure)\n",
      "    - [Enter User Information](#user-input)\n",
      "- [Access Graph of the user](#access-graph)\n",
      "- [Ranked peers of the user](#user-peers)"
    ]
  },
  {
   "cell_type": "markdown",
   "metadata": {},
   "source": [
    "<a id='setup'></a>\n",
    "# Setup\n",
    "<a id='install'></a>\n",
    "## Install Packages\n",
    "The first time this cell runs for a new Azure Notebooks project or local Python environment it will take several minutes to download and install the packages. In subsequent runs it should run quickly and confirm that package dependencies are already installed. Unless you want to upgrade the packages you can feel free to skip execution of the next cell."
   ]
  },
  {
   "cell_type": "code",
   "execution_count": 1,
   "metadata": {
    "scrolled": true
   },
   "outputs": [
    {
     "name": "stdout",
     "output_type": "stream",
     "text": [
      "Please wait. Installing required packages. This may take a few minutes...\n",
      "Requirement already satisfied: Kqlmagic in c:\\users\\jannieli\\anaconda3\\lib\\site-packages (0.1.113.post1)\n",
      "Collecting Kqlmagic\n",
      "  Downloading Kqlmagic-0.1.114.post2-py3-none-any.whl (229 kB)\n",
      "Requirement already satisfied: msrestazure>=0.6.3 in c:\\users\\jannieli\\anaconda3\\lib\\site-packages (from Kqlmagic) (0.6.4)\n",
      "Requirement already satisfied: psutil>=5.4.7 in c:\\users\\jannieli\\anaconda3\\lib\\site-packages (from Kqlmagic) (5.8.0)\n",
      "Requirement already satisfied: ipykernel>=5.1.1 in c:\\users\\jannieli\\anaconda3\\lib\\site-packages (from Kqlmagic) (5.3.4)\n",
      "Requirement already satisfied: ipython>=7.1.1 in c:\\users\\jannieli\\anaconda3\\lib\\site-packages (from Kqlmagic) (7.22.0)\n",
      "Requirement already satisfied: pandas>=0.23.4 in c:\\users\\jannieli\\anaconda3\\lib\\site-packages (from Kqlmagic) (1.2.4)\n",
      "Requirement already satisfied: plotly>=3.10.0 in c:\\users\\jannieli\\anaconda3\\lib\\site-packages (from Kqlmagic) (4.14.3)\n",
      "Requirement already satisfied: lxml>=4.2.5 in c:\\users\\jannieli\\anaconda3\\lib\\site-packages (from Kqlmagic) (4.6.3)\n",
      "Requirement already satisfied: pyperclip>=1.7.0 in c:\\users\\jannieli\\anaconda3\\lib\\site-packages (from Kqlmagic) (1.8.2)\n",
      "Requirement already satisfied: prettytable>=0.7.2 in c:\\users\\jannieli\\anaconda3\\lib\\site-packages (from Kqlmagic) (2.1.0)\n",
      "Requirement already satisfied: msal>=1.11.0 in c:\\users\\jannieli\\anaconda3\\lib\\site-packages (from Kqlmagic) (1.12.0)\n",
      "Requirement already satisfied: azure-identity>=1.5.0 in c:\\users\\jannieli\\anaconda3\\lib\\site-packages (from Kqlmagic) (1.6.0)\n",
      "Requirement already satisfied: python-dateutil>=2.7.5 in c:\\users\\jannieli\\anaconda3\\lib\\site-packages (from Kqlmagic) (2.8.1)\n",
      "Requirement already satisfied: isodate>=0.6.0 in c:\\users\\jannieli\\anaconda3\\lib\\site-packages (from Kqlmagic) (0.6.0)\n",
      "Requirement already satisfied: msal-extensions>=0.3.0 in c:\\users\\jannieli\\anaconda3\\lib\\site-packages (from Kqlmagic) (0.3.0)\n",
      "Requirement already satisfied: matplotlib>=3.0.0 in c:\\users\\jannieli\\anaconda3\\lib\\site-packages (from Kqlmagic) (3.3.4)\n",
      "Requirement already satisfied: requests>=2.21.0 in c:\\users\\jannieli\\anaconda3\\lib\\site-packages (from Kqlmagic) (2.25.1)\n",
      "Requirement already satisfied: azure-common>=1.1.25 in c:\\users\\jannieli\\anaconda3\\lib\\site-packages (from Kqlmagic) (1.1.27)\n",
      "Requirement already satisfied: setuptools>=41.0.1 in c:\\users\\jannieli\\anaconda3\\lib\\site-packages (from Kqlmagic) (52.0.0.post20210125)\n",
      "Requirement already satisfied: beautifulsoup4>=4.6.3 in c:\\users\\jannieli\\anaconda3\\lib\\site-packages (from Kqlmagic) (4.9.3)\n",
      "Requirement already satisfied: flask>=1.0.3 in c:\\users\\jannieli\\anaconda3\\lib\\site-packages (from Kqlmagic) (1.1.2)\n",
      "Requirement already satisfied: Markdown>=3.0.1 in c:\\users\\jannieli\\anaconda3\\lib\\site-packages (from Kqlmagic) (3.3.4)\n",
      "Requirement already satisfied: cryptography>=2.7 in c:\\users\\jannieli\\anaconda3\\lib\\site-packages (from Kqlmagic) (3.3.2)\n",
      "Requirement already satisfied: password-strength>=0.0.3 in c:\\users\\jannieli\\anaconda3\\lib\\site-packages (from Kqlmagic) (0.0.3.post2)\n",
      "Requirement already satisfied: Pygments>=2.2.0 in c:\\users\\jannieli\\anaconda3\\lib\\site-packages (from Kqlmagic) (2.8.1)\n",
      "Requirement already satisfied: ipywidgets in c:\\users\\jannieli\\anaconda3\\lib\\site-packages (from Kqlmagic) (7.6.3)\n",
      "Requirement already satisfied: traitlets>=4.3.2 in c:\\users\\jannieli\\anaconda3\\lib\\site-packages (from Kqlmagic) (5.0.5)\n",
      "Requirement already satisfied: six>=1.12.0 in c:\\users\\jannieli\\anaconda3\\lib\\site-packages (from azure-identity>=1.5.0->Kqlmagic) (1.15.0)\n",
      "Requirement already satisfied: azure-core<2.0.0,>=1.0.0 in c:\\users\\jannieli\\anaconda3\\lib\\site-packages (from azure-identity>=1.5.0->Kqlmagic) (1.14.0)\n",
      "Requirement already satisfied: soupsieve>1.2 in c:\\users\\jannieli\\anaconda3\\lib\\site-packages (from beautifulsoup4>=4.6.3->Kqlmagic) (2.2.1)\n",
      "Requirement already satisfied: cffi>=1.12 in c:\\users\\jannieli\\anaconda3\\lib\\site-packages (from cryptography>=2.7->Kqlmagic) (1.14.5)\n",
      "Requirement already satisfied: pycparser in c:\\users\\jannieli\\anaconda3\\lib\\site-packages (from cffi>=1.12->cryptography>=2.7->Kqlmagic) (2.20)\n",
      "Requirement already satisfied: Jinja2>=2.10.1 in c:\\users\\jannieli\\anaconda3\\lib\\site-packages (from flask>=1.0.3->Kqlmagic) (2.11.3)\n",
      "Requirement already satisfied: itsdangerous>=0.24 in c:\\users\\jannieli\\anaconda3\\lib\\site-packages (from flask>=1.0.3->Kqlmagic) (1.1.0)\n",
      "Requirement already satisfied: Werkzeug>=0.15 in c:\\users\\jannieli\\anaconda3\\lib\\site-packages (from flask>=1.0.3->Kqlmagic) (1.0.1)\n",
      "Requirement already satisfied: click>=5.1 in c:\\users\\jannieli\\anaconda3\\lib\\site-packages (from flask>=1.0.3->Kqlmagic) (7.1.2)\n",
      "Requirement already satisfied: tornado>=4.2 in c:\\users\\jannieli\\anaconda3\\lib\\site-packages (from ipykernel>=5.1.1->Kqlmagic) (6.1)\n",
      "Requirement already satisfied: jupyter-client in c:\\users\\jannieli\\anaconda3\\lib\\site-packages (from ipykernel>=5.1.1->Kqlmagic) (6.1.12)\n",
      "Requirement already satisfied: colorama in c:\\users\\jannieli\\anaconda3\\lib\\site-packages (from ipython>=7.1.1->Kqlmagic) (0.4.4)\n",
      "Requirement already satisfied: decorator in c:\\users\\jannieli\\anaconda3\\lib\\site-packages (from ipython>=7.1.1->Kqlmagic) (4.4.2)\n",
      "Requirement already satisfied: pickleshare in c:\\users\\jannieli\\anaconda3\\lib\\site-packages (from ipython>=7.1.1->Kqlmagic) (0.7.5)\n",
      "Requirement already satisfied: backcall in c:\\users\\jannieli\\anaconda3\\lib\\site-packages (from ipython>=7.1.1->Kqlmagic) (0.2.0)\n",
      "Requirement already satisfied: prompt-toolkit!=3.0.0,!=3.0.1,<3.1.0,>=2.0.0 in c:\\users\\jannieli\\anaconda3\\lib\\site-packages (from ipython>=7.1.1->Kqlmagic) (3.0.17)\n",
      "Requirement already satisfied: jedi>=0.16 in c:\\users\\jannieli\\anaconda3\\lib\\site-packages (from ipython>=7.1.1->Kqlmagic) (0.17.2)\n",
      "Requirement already satisfied: parso<0.8.0,>=0.7.0 in c:\\users\\jannieli\\anaconda3\\lib\\site-packages (from jedi>=0.16->ipython>=7.1.1->Kqlmagic) (0.7.0)\n",
      "Requirement already satisfied: MarkupSafe>=0.23 in c:\\users\\jannieli\\anaconda3\\lib\\site-packages (from Jinja2>=2.10.1->flask>=1.0.3->Kqlmagic) (1.1.1)\n",
      "Requirement already satisfied: pyparsing!=2.0.4,!=2.1.2,!=2.1.6,>=2.0.3 in c:\\users\\jannieli\\anaconda3\\lib\\site-packages (from matplotlib>=3.0.0->Kqlmagic) (2.4.7)\n",
      "Requirement already satisfied: numpy>=1.15 in c:\\users\\jannieli\\anaconda3\\lib\\site-packages (from matplotlib>=3.0.0->Kqlmagic) (1.20.1)"
     ]
    },
    {
     "name": "stderr",
     "output_type": "stream",
     "text": [
      "WARNING: You are using pip version 21.1.2; however, version 21.2.4 is available.\n",
      "You should consider upgrading via the 'c:\\users\\jannieli\\anaconda3\\python.exe -m pip install --upgrade pip' command.\n"
     ]
    },
    {
     "name": "stdout",
     "output_type": "stream",
     "text": [
      "\n",
      "Requirement already satisfied: pillow>=6.2.0 in c:\\users\\jannieli\\anaconda3\\lib\\site-packages (from matplotlib>=3.0.0->Kqlmagic) (8.2.0)\n",
      "Requirement already satisfied: kiwisolver>=1.0.1 in c:\\users\\jannieli\\anaconda3\\lib\\site-packages (from matplotlib>=3.0.0->Kqlmagic) (1.3.1)\n",
      "Requirement already satisfied: cycler>=0.10 in c:\\users\\jannieli\\anaconda3\\lib\\site-packages (from matplotlib>=3.0.0->Kqlmagic) (0.10.0)\n",
      "Requirement already satisfied: PyJWT[crypto]<3,>=1.0.0 in c:\\users\\jannieli\\anaconda3\\lib\\site-packages (from msal>=1.11.0->Kqlmagic) (1.7.1)\n",
      "Requirement already satisfied: portalocker~=1.6 in c:\\users\\jannieli\\anaconda3\\lib\\site-packages (from msal-extensions>=0.3.0->Kqlmagic) (1.7.1)\n",
      "Requirement already satisfied: msrest<2.0.0,>=0.6.0 in c:\\users\\jannieli\\anaconda3\\lib\\site-packages (from msrestazure>=0.6.3->Kqlmagic) (0.6.21)\n",
      "Requirement already satisfied: adal<2.0.0,>=0.6.0 in c:\\users\\jannieli\\anaconda3\\lib\\site-packages (from msrestazure>=0.6.3->Kqlmagic) (1.2.7)\n",
      "Requirement already satisfied: requests-oauthlib>=0.5.0 in c:\\users\\jannieli\\anaconda3\\lib\\site-packages (from msrest<2.0.0,>=0.6.0->msrestazure>=0.6.3->Kqlmagic) (1.3.0)\n",
      "Requirement already satisfied: certifi>=2017.4.17 in c:\\users\\jannieli\\anaconda3\\lib\\site-packages (from msrest<2.0.0,>=0.6.0->msrestazure>=0.6.3->Kqlmagic) (2020.12.5)\n",
      "Requirement already satisfied: pytz>=2017.3 in c:\\users\\jannieli\\anaconda3\\lib\\site-packages (from pandas>=0.23.4->Kqlmagic) (2019.2)\n",
      "Requirement already satisfied: retrying>=1.3.3 in c:\\users\\jannieli\\anaconda3\\lib\\site-packages (from plotly>=3.10.0->Kqlmagic) (1.3.3)\n",
      "Requirement already satisfied: pywin32!=226 in c:\\users\\jannieli\\anaconda3\\lib\\site-packages (from portalocker~=1.6->msal-extensions>=0.3.0->Kqlmagic) (227)\n",
      "Requirement already satisfied: wcwidth in c:\\users\\jannieli\\anaconda3\\lib\\site-packages (from prettytable>=0.7.2->Kqlmagic) (0.2.5)\n",
      "Requirement already satisfied: chardet<5,>=3.0.2 in c:\\users\\jannieli\\anaconda3\\lib\\site-packages (from requests>=2.21.0->Kqlmagic) (4.0.0)\n",
      "Requirement already satisfied: idna<3,>=2.5 in c:\\users\\jannieli\\anaconda3\\lib\\site-packages (from requests>=2.21.0->Kqlmagic) (2.10)\n",
      "Requirement already satisfied: urllib3<1.27,>=1.21.1 in c:\\users\\jannieli\\anaconda3\\lib\\site-packages (from requests>=2.21.0->Kqlmagic) (1.26.5)\n",
      "Requirement already satisfied: oauthlib>=3.0.0 in c:\\users\\jannieli\\anaconda3\\lib\\site-packages (from requests-oauthlib>=0.5.0->msrest<2.0.0,>=0.6.0->msrestazure>=0.6.3->Kqlmagic) (3.1.1)\n",
      "Requirement already satisfied: ipython-genutils in c:\\users\\jannieli\\anaconda3\\lib\\site-packages (from traitlets>=4.3.2->Kqlmagic) (0.2.0)\n",
      "Requirement already satisfied: widgetsnbextension~=3.5.0 in c:\\users\\jannieli\\anaconda3\\lib\\site-packages (from ipywidgets->Kqlmagic) (3.5.1)\n",
      "Requirement already satisfied: nbformat>=4.2.0 in c:\\users\\jannieli\\anaconda3\\lib\\site-packages (from ipywidgets->Kqlmagic) (5.1.3)\n",
      "Requirement already satisfied: jupyterlab-widgets>=1.0.0 in c:\\users\\jannieli\\anaconda3\\lib\\site-packages (from ipywidgets->Kqlmagic) (1.0.0)\n",
      "Requirement already satisfied: jupyter-core in c:\\users\\jannieli\\anaconda3\\lib\\site-packages (from nbformat>=4.2.0->ipywidgets->Kqlmagic) (4.7.1)\n",
      "Requirement already satisfied: jsonschema!=2.5.0,>=2.4 in c:\\users\\jannieli\\anaconda3\\lib\\site-packages (from nbformat>=4.2.0->ipywidgets->Kqlmagic) (3.2.0)\n",
      "Requirement already satisfied: attrs>=17.4.0 in c:\\users\\jannieli\\anaconda3\\lib\\site-packages (from jsonschema!=2.5.0,>=2.4->nbformat>=4.2.0->ipywidgets->Kqlmagic) (20.3.0)\n",
      "Requirement already satisfied: pyrsistent>=0.14.0 in c:\\users\\jannieli\\anaconda3\\lib\\site-packages (from jsonschema!=2.5.0,>=2.4->nbformat>=4.2.0->ipywidgets->Kqlmagic) (0.17.3)\n",
      "Requirement already satisfied: notebook>=4.4.1 in c:\\users\\jannieli\\anaconda3\\lib\\site-packages (from widgetsnbextension~=3.5.0->ipywidgets->Kqlmagic) (6.3.0)\n",
      "Requirement already satisfied: nbconvert in c:\\users\\jannieli\\anaconda3\\lib\\site-packages (from notebook>=4.4.1->widgetsnbextension~=3.5.0->ipywidgets->Kqlmagic) (6.0.7)\n",
      "Requirement already satisfied: prometheus-client in c:\\users\\jannieli\\anaconda3\\lib\\site-packages (from notebook>=4.4.1->widgetsnbextension~=3.5.0->ipywidgets->Kqlmagic) (0.10.1)\n",
      "Requirement already satisfied: argon2-cffi in c:\\users\\jannieli\\anaconda3\\lib\\site-packages (from notebook>=4.4.1->widgetsnbextension~=3.5.0->ipywidgets->Kqlmagic) (20.1.0)\n",
      "Requirement already satisfied: Send2Trash>=1.5.0 in c:\\users\\jannieli\\anaconda3\\lib\\site-packages (from notebook>=4.4.1->widgetsnbextension~=3.5.0->ipywidgets->Kqlmagic) (1.5.0)\n",
      "Requirement already satisfied: pyzmq>=17 in c:\\users\\jannieli\\anaconda3\\lib\\site-packages (from notebook>=4.4.1->widgetsnbextension~=3.5.0->ipywidgets->Kqlmagic) (20.0.0)\n",
      "Requirement already satisfied: terminado>=0.8.3 in c:\\users\\jannieli\\anaconda3\\lib\\site-packages (from notebook>=4.4.1->widgetsnbextension~=3.5.0->ipywidgets->Kqlmagic) (0.9.4)\n",
      "Requirement already satisfied: pywinpty>=0.5 in c:\\users\\jannieli\\anaconda3\\lib\\site-packages (from terminado>=0.8.3->notebook>=4.4.1->widgetsnbextension~=3.5.0->ipywidgets->Kqlmagic) (0.5.7)\n",
      "Requirement already satisfied: mistune<2,>=0.8.1 in c:\\users\\jannieli\\anaconda3\\lib\\site-packages (from nbconvert->notebook>=4.4.1->widgetsnbextension~=3.5.0->ipywidgets->Kqlmagic) (0.8.4)\n",
      "Requirement already satisfied: jupyterlab-pygments in c:\\users\\jannieli\\anaconda3\\lib\\site-packages (from nbconvert->notebook>=4.4.1->widgetsnbextension~=3.5.0->ipywidgets->Kqlmagic) (0.1.2)\n",
      "Requirement already satisfied: entrypoints>=0.2.2 in c:\\users\\jannieli\\anaconda3\\lib\\site-packages (from nbconvert->notebook>=4.4.1->widgetsnbextension~=3.5.0->ipywidgets->Kqlmagic) (0.3)\n",
      "Requirement already satisfied: nbclient<0.6.0,>=0.5.0 in c:\\users\\jannieli\\anaconda3\\lib\\site-packages (from nbconvert->notebook>=4.4.1->widgetsnbextension~=3.5.0->ipywidgets->Kqlmagic) (0.5.3)\n",
      "Requirement already satisfied: bleach in c:\\users\\jannieli\\anaconda3\\lib\\site-packages (from nbconvert->notebook>=4.4.1->widgetsnbextension~=3.5.0->ipywidgets->Kqlmagic) (3.3.0)\n",
      "Requirement already satisfied: testpath in c:\\users\\jannieli\\anaconda3\\lib\\site-packages (from nbconvert->notebook>=4.4.1->widgetsnbextension~=3.5.0->ipywidgets->Kqlmagic) (0.4.4)\n",
      "Requirement already satisfied: pandocfilters>=1.4.1 in c:\\users\\jannieli\\anaconda3\\lib\\site-packages (from nbconvert->notebook>=4.4.1->widgetsnbextension~=3.5.0->ipywidgets->Kqlmagic) (1.4.3)\n",
      "Requirement already satisfied: defusedxml in c:\\users\\jannieli\\anaconda3\\lib\\site-packages (from nbconvert->notebook>=4.4.1->widgetsnbextension~=3.5.0->ipywidgets->Kqlmagic) (0.7.1)\n",
      "Requirement already satisfied: async-generator in c:\\users\\jannieli\\anaconda3\\lib\\site-packages (from nbclient<0.6.0,>=0.5.0->nbconvert->notebook>=4.4.1->widgetsnbextension~=3.5.0->ipywidgets->Kqlmagic) (1.10)\n",
      "Requirement already satisfied: nest-asyncio in c:\\users\\jannieli\\anaconda3\\lib\\site-packages (from nbclient<0.6.0,>=0.5.0->nbconvert->notebook>=4.4.1->widgetsnbextension~=3.5.0->ipywidgets->Kqlmagic) (1.5.1)\n",
      "Requirement already satisfied: webencodings in c:\\users\\jannieli\\anaconda3\\lib\\site-packages (from bleach->nbconvert->notebook>=4.4.1->widgetsnbextension~=3.5.0->ipywidgets->Kqlmagic) (0.5.1)\n",
      "Requirement already satisfied: packaging in c:\\users\\jannieli\\anaconda3\\lib\\site-packages (from bleach->nbconvert->notebook>=4.4.1->widgetsnbextension~=3.5.0->ipywidgets->Kqlmagic) (20.9)\n",
      "Installing collected packages: Kqlmagic\n",
      "  Attempting uninstall: Kqlmagic\n",
      "    Found existing installation: Kqlmagic 0.1.113.post1\n",
      "    Uninstalling Kqlmagic-0.1.113.post1:\n",
      "      Successfully uninstalled Kqlmagic-0.1.113.post1\n",
      "Successfully installed Kqlmagic-0.1.114.post2\n",
      "Requirement already satisfied: validate_email in c:\\users\\jannieli\\anaconda3\\lib\\site-packages (1.3)"
     ]
    },
    {
     "name": "stderr",
     "output_type": "stream",
     "text": [
      "WARNING: You are using pip version 21.1.2; however, version 21.2.4 is available.\n",
      "You should consider upgrading via the 'c:\\users\\jannieli\\anaconda3\\python.exe -m pip install --upgrade pip' command.\n"
     ]
    },
    {
     "name": "stdout",
     "output_type": "stream",
     "text": [
      "\n",
      "Requirement already satisfied: jsonpickle in c:\\users\\jannieli\\anaconda3\\lib\\site-packages (2.0.0)\n"
     ]
    },
    {
     "name": "stderr",
     "output_type": "stream",
     "text": [
      "WARNING: You are using pip version 21.1.2; however, version 21.2.4 is available.\n",
      "You should consider upgrading via the 'c:\\users\\jannieli\\anaconda3\\python.exe -m pip install --upgrade pip' command.\n"
     ]
    },
    {
     "name": "stdout",
     "output_type": "stream",
     "text": [
      "Requirement already satisfied: azure-cli-core in c:\\users\\jannieli\\anaconda3\\lib\\site-packages (2.25.0)"
     ]
    },
    {
     "name": "stderr",
     "output_type": "stream",
     "text": [
      "ERROR: pip's dependency resolver does not currently take into account all the packages that are installed. This behaviour is the source of the following dependency conflicts."
     ]
    },
    {
     "name": "stdout",
     "output_type": "stream",
     "text": [
      "\n",
      "Collecting azure-cli-core\n",
      "  Downloading azure_cli_core-2.27.2-py3-none-any.whl (179 kB)\n",
      "Collecting PyJWT>=2.1.0\n",
      "  Using cached PyJWT-2.1.0-py3-none-any.whl (16 kB)\n",
      "Requirement already satisfied: knack~=0.8.2 in c:\\users\\jannieli\\anaconda3\\lib\\site-packages (from azure-cli-core) (0.8.2)\n",
      "Requirement already satisfied: paramiko<3.0.0,>=2.0.8 in c:\\users\\jannieli\\anaconda3\\lib\\site-packages (from azure-cli-core) (2.7.2)\n",
      "Requirement already satisfied: jmespath in c:\\users\\jannieli\\anaconda3\\lib\\site-packages (from azure-cli-core) (0.10.0)\n",
      "Requirement already satisfied: urllib3[secure]>=1.26.5 in c:\\users\\jannieli\\anaconda3\\lib\\site-packages (from azure-cli-core) (1.26.5)\n",
      "Requirement already satisfied: six~=1.12 in c:\\users\\jannieli\\anaconda3\\lib\\site-packages (from azure-cli-core) (1.15.0)\n",
      "Requirement already satisfied: cryptography<3.4,>=3.2 in c:\\users\\jannieli\\anaconda3\\lib\\site-packages (from azure-cli-core) (3.3.2)\n",
      "Requirement already satisfied: pyopenssl>=17.1.0 in c:\\users\\jannieli\\anaconda3\\lib\\site-packages (from azure-cli-core) (20.0.1)\n",
      "Requirement already satisfied: argcomplete~=1.8 in c:\\users\\jannieli\\anaconda3\\lib\\site-packages (from azure-cli-core) (1.12.3)\n",
      "Requirement already satisfied: humanfriendly<10.0,>=4.7 in c:\\users\\jannieli\\anaconda3\\lib\\site-packages (from azure-cli-core) (9.1)\n",
      "Requirement already satisfied: pkginfo>=1.5.0.1 in c:\\users\\jannieli\\anaconda3\\lib\\site-packages (from azure-cli-core) (1.7.0)\n",
      "Requirement already satisfied: azure-common~=1.1 in c:\\users\\jannieli\\anaconda3\\lib\\site-packages (from azure-cli-core) (1.1.27)\n",
      "Requirement already satisfied: azure-mgmt-core<1.3.0,>=1.2.0 in c:\\users\\jannieli\\anaconda3\\lib\\site-packages (from azure-cli-core) (1.2.2)\n",
      "Requirement already satisfied: requests[socks]~=2.25.1 in c:\\users\\jannieli\\anaconda3\\lib\\site-packages (from azure-cli-core) (2.25.1)\n",
      "Requirement already satisfied: adal~=1.2.7 in c:\\users\\jannieli\\anaconda3\\lib\\site-packages (from azure-cli-core) (1.2.7)\n",
      "Requirement already satisfied: msal<2.0.0,>=1.10.0 in c:\\users\\jannieli\\anaconda3\\lib\\site-packages (from azure-cli-core) (1.12.0)\n",
      "Requirement already satisfied: psutil~=5.8 in c:\\users\\jannieli\\anaconda3\\lib\\site-packages (from azure-cli-core) (5.8.0)\n",
      "Requirement already satisfied: azure-cli-telemetry==1.0.6.* in c:\\users\\jannieli\\anaconda3\\lib\\site-packages (from azure-cli-core) (1.0.6)\n",
      "Requirement already satisfied: applicationinsights<0.12,>=0.11.1 in c:\\users\\jannieli\\anaconda3\\lib\\site-packages (from azure-cli-telemetry==1.0.6.*->azure-cli-core) (0.11.10)\n",
      "Requirement already satisfied: portalocker~=1.2 in c:\\users\\jannieli\\anaconda3\\lib\\site-packages (from azure-cli-telemetry==1.0.6.*->azure-cli-core) (1.7.1)\n",
      "Requirement already satisfied: python-dateutil<3,>=2.1.0 in c:\\users\\jannieli\\anaconda3\\lib\\site-packages (from adal~=1.2.7->azure-cli-core) (2.8.1)\n",
      "Requirement already satisfied: azure-core<2.0.0,>=1.9.0 in c:\\users\\jannieli\\anaconda3\\lib\\site-packages (from azure-mgmt-core<1.3.0,>=1.2.0->azure-cli-core) (1.14.0)\n",
      "Requirement already satisfied: cffi>=1.12 in c:\\users\\jannieli\\anaconda3\\lib\\site-packages (from cryptography<3.4,>=3.2->azure-cli-core) (1.14.5)\n",
      "Requirement already satisfied: pycparser in c:\\users\\jannieli\\anaconda3\\lib\\site-packages (from cffi>=1.12->cryptography<3.4,>=3.2->azure-cli-core) (2.20)\n",
      "Requirement already satisfied: pyreadline in c:\\users\\jannieli\\anaconda3\\lib\\site-packages (from humanfriendly<10.0,>=4.7->azure-cli-core) (2.1)\n",
      "Requirement already satisfied: pygments in c:\\users\\jannieli\\anaconda3\\lib\\site-packages (from knack~=0.8.2->azure-cli-core) (2.8.1)\n",
      "Requirement already satisfied: pyyaml in c:\\users\\jannieli\\anaconda3\\lib\\site-packages (from knack~=0.8.2->azure-cli-core) (5.4.1)\n",
      "Requirement already satisfied: tabulate in c:\\users\\jannieli\\anaconda3\\lib\\site-packages (from knack~=0.8.2->azure-cli-core) (0.8.9)\n",
      "Requirement already satisfied: colorama in c:\\users\\jannieli\\anaconda3\\lib\\site-packages (from knack~=0.8.2->azure-cli-core) (0.4.4)\n",
      "Requirement already satisfied: PyJWT[crypto]<3,>=1.0.0 in c:\\users\\jannieli\\anaconda3\\lib\\site-packages (from msal<2.0.0,>=1.10.0->azure-cli-core) (1.7.1)\n",
      "Requirement already satisfied: pynacl>=1.0.1 in c:\\users\\jannieli\\anaconda3\\lib\\site-packages (from paramiko<3.0.0,>=2.0.8->azure-cli-core) (1.4.0)\n",
      "Requirement already satisfied: bcrypt>=3.1.3 in c:\\users\\jannieli\\anaconda3\\lib\\site-packages (from paramiko<3.0.0,>=2.0.8->azure-cli-core) (3.2.0)\n",
      "Requirement already satisfied: pywin32!=226 in c:\\users\\jannieli\\anaconda3\\lib\\site-packages (from portalocker~=1.2->azure-cli-telemetry==1.0.6.*->azure-cli-core) (227)\n",
      "Requirement already satisfied: chardet<5,>=3.0.2 in c:\\users\\jannieli\\anaconda3\\lib\\site-packages (from requests[socks]~=2.25.1->azure-cli-core) (4.0.0)\n",
      "Requirement already satisfied: idna<3,>=2.5 in c:\\users\\jannieli\\anaconda3\\lib\\site-packages (from requests[socks]~=2.25.1->azure-cli-core) (2.10)\n",
      "Requirement already satisfied: certifi>=2017.4.17 in c:\\users\\jannieli\\anaconda3\\lib\\site-packages (from requests[socks]~=2.25.1->azure-cli-core) (2020.12.5)\n",
      "Requirement already satisfied: PySocks!=1.5.7,>=1.5.6 in c:\\users\\jannieli\\anaconda3\\lib\\site-packages (from requests[socks]~=2.25.1->azure-cli-core) (1.7.1)\n",
      "Installing collected packages: PyJWT, azure-cli-core\n",
      "  Attempting uninstall: PyJWT\n",
      "    Found existing installation: PyJWT 1.7.1\n",
      "    Uninstalling PyJWT-1.7.1:\n",
      "      Successfully uninstalled PyJWT-1.7.1\n",
      "  Attempting uninstall: azure-cli-core\n",
      "    Found existing installation: azure-cli-core 2.25.0\n",
      "    Uninstalling azure-cli-core-2.25.0:\n",
      "      Successfully uninstalled azure-cli-core-2.25.0\n",
      "Successfully installed PyJWT-2.1.0 azure-cli-core-2.27.2\n"
     ]
    },
    {
     "name": "stderr",
     "output_type": "stream",
     "text": [
      "\n",
      "azure-cli 2.24.2 requires azure-cli-core==2.24.2, but you have azure-cli-core 2.27.2 which is incompatible.\n",
      "azure-cli 2.24.2 requires pytz==2019.1, but you have pytz 2019.2 which is incompatible.\n",
      "WARNING: You are using pip version 21.1.2; however, version 21.2.4 is available.\n",
      "You should consider upgrading via the 'c:\\users\\jannieli\\anaconda3\\python.exe -m pip install --upgrade pip' command.\n"
     ]
    },
    {
     "name": "stdout",
     "output_type": "stream",
     "text": [
      "Requirement already satisfied: Azure-Sentinel-Utilities in c:\\users\\jannieli\\anaconda3\\lib\\site-packages (0.6.5)\n",
      "Requirement already satisfied: azure-cli-core>=2.7.0 in c:\\users\\jannieli\\anaconda3\\lib\\site-packages (from Azure-Sentinel-Utilities) (2.27.2)\n",
      "Required Package Installation Complete\n",
      "Requirement already satisfied: azure-common>=1.1.25 in c:\\users\\jannieli\\anaconda3\\lib\\site-packages (from Azure-Sentinel-Utilities) (1.1.27)"
     ]
    },
    {
     "name": "stderr",
     "output_type": "stream",
     "text": [
      "WARNING: You are using pip version 21.1.2; however, version 21.2.4 is available.\n",
      "You should consider upgrading via the 'c:\\users\\jannieli\\anaconda3\\python.exe -m pip install --upgrade pip' command.\n"
     ]
    },
    {
     "name": "stdout",
     "output_type": "stream",
     "text": [
      "\n",
      "Requirement already satisfied: azure-loganalytics>=0.1.0 in c:\\users\\jannieli\\anaconda3\\lib\\site-packages (from Azure-Sentinel-Utilities) (0.1.0)\n",
      "Requirement already satisfied: azure-mgmt-loganalytics>=0.2.0 in c:\\users\\jannieli\\anaconda3\\lib\\site-packages (from Azure-Sentinel-Utilities) (8.0.0)\n",
      "Requirement already satisfied: azure-mgmt-core<1.3.0,>=1.2.0 in c:\\users\\jannieli\\anaconda3\\lib\\site-packages (from azure-cli-core>=2.7.0->Azure-Sentinel-Utilities) (1.2.2)\n",
      "Requirement already satisfied: cryptography<3.4,>=3.2 in c:\\users\\jannieli\\anaconda3\\lib\\site-packages (from azure-cli-core>=2.7.0->Azure-Sentinel-Utilities) (3.3.2)\n",
      "Requirement already satisfied: pkginfo>=1.5.0.1 in c:\\users\\jannieli\\anaconda3\\lib\\site-packages (from azure-cli-core>=2.7.0->Azure-Sentinel-Utilities) (1.7.0)\n",
      "Requirement already satisfied: knack~=0.8.2 in c:\\users\\jannieli\\anaconda3\\lib\\site-packages (from azure-cli-core>=2.7.0->Azure-Sentinel-Utilities) (0.8.2)\n",
      "Requirement already satisfied: six~=1.12 in c:\\users\\jannieli\\anaconda3\\lib\\site-packages (from azure-cli-core>=2.7.0->Azure-Sentinel-Utilities) (1.15.0)\n",
      "Requirement already satisfied: azure-cli-telemetry==1.0.6.* in c:\\users\\jannieli\\anaconda3\\lib\\site-packages (from azure-cli-core>=2.7.0->Azure-Sentinel-Utilities) (1.0.6)\n",
      "Requirement already satisfied: argcomplete~=1.8 in c:\\users\\jannieli\\anaconda3\\lib\\site-packages (from azure-cli-core>=2.7.0->Azure-Sentinel-Utilities) (1.12.3)\n",
      "Requirement already satisfied: msal<2.0.0,>=1.10.0 in c:\\users\\jannieli\\anaconda3\\lib\\site-packages (from azure-cli-core>=2.7.0->Azure-Sentinel-Utilities) (1.12.0)\n",
      "Requirement already satisfied: urllib3[secure]>=1.26.5 in c:\\users\\jannieli\\anaconda3\\lib\\site-packages (from azure-cli-core>=2.7.0->Azure-Sentinel-Utilities) (1.26.5)\n",
      "Requirement already satisfied: psutil~=5.8 in c:\\users\\jannieli\\anaconda3\\lib\\site-packages (from azure-cli-core>=2.7.0->Azure-Sentinel-Utilities) (5.8.0)\n",
      "Requirement already satisfied: adal~=1.2.7 in c:\\users\\jannieli\\anaconda3\\lib\\site-packages (from azure-cli-core>=2.7.0->Azure-Sentinel-Utilities) (1.2.7)\n",
      "Requirement already satisfied: paramiko<3.0.0,>=2.0.8 in c:\\users\\jannieli\\anaconda3\\lib\\site-packages (from azure-cli-core>=2.7.0->Azure-Sentinel-Utilities) (2.7.2)\n",
      "Requirement already satisfied: humanfriendly<10.0,>=4.7 in c:\\users\\jannieli\\anaconda3\\lib\\site-packages (from azure-cli-core>=2.7.0->Azure-Sentinel-Utilities) (9.1)\n",
      "Requirement already satisfied: PyJWT>=2.1.0 in c:\\users\\jannieli\\anaconda3\\lib\\site-packages (from azure-cli-core>=2.7.0->Azure-Sentinel-Utilities) (2.1.0)\n",
      "Requirement already satisfied: pyopenssl>=17.1.0 in c:\\users\\jannieli\\anaconda3\\lib\\site-packages (from azure-cli-core>=2.7.0->Azure-Sentinel-Utilities) (20.0.1)\n",
      "Requirement already satisfied: requests[socks]~=2.25.1 in c:\\users\\jannieli\\anaconda3\\lib\\site-packages (from azure-cli-core>=2.7.0->Azure-Sentinel-Utilities) (2.25.1)\n",
      "Requirement already satisfied: jmespath in c:\\users\\jannieli\\anaconda3\\lib\\site-packages (from azure-cli-core>=2.7.0->Azure-Sentinel-Utilities) (0.10.0)\n",
      "Requirement already satisfied: portalocker~=1.2 in c:\\users\\jannieli\\anaconda3\\lib\\site-packages (from azure-cli-telemetry==1.0.6.*->azure-cli-core>=2.7.0->Azure-Sentinel-Utilities) (1.7.1)\n",
      "Requirement already satisfied: applicationinsights<0.12,>=0.11.1 in c:\\users\\jannieli\\anaconda3\\lib\\site-packages (from azure-cli-telemetry==1.0.6.*->azure-cli-core>=2.7.0->Azure-Sentinel-Utilities) (0.11.10)\n",
      "Requirement already satisfied: python-dateutil<3,>=2.1.0 in c:\\users\\jannieli\\anaconda3\\lib\\site-packages (from adal~=1.2.7->azure-cli-core>=2.7.0->Azure-Sentinel-Utilities) (2.8.1)\n",
      "Requirement already satisfied: azure-nspkg>=2.0.0 in c:\\users\\jannieli\\anaconda3\\lib\\site-packages (from azure-loganalytics>=0.1.0->Azure-Sentinel-Utilities) (3.0.2)\n",
      "Requirement already satisfied: msrest<2.0.0,>=0.4.29 in c:\\users\\jannieli\\anaconda3\\lib\\site-packages (from azure-loganalytics>=0.1.0->Azure-Sentinel-Utilities) (0.6.21)\n",
      "Requirement already satisfied: azure-core<2.0.0,>=1.9.0 in c:\\users\\jannieli\\anaconda3\\lib\\site-packages (from azure-mgmt-core<1.3.0,>=1.2.0->azure-cli-core>=2.7.0->Azure-Sentinel-Utilities) (1.14.0)\n",
      "Requirement already satisfied: cffi>=1.12 in c:\\users\\jannieli\\anaconda3\\lib\\site-packages (from cryptography<3.4,>=3.2->azure-cli-core>=2.7.0->Azure-Sentinel-Utilities) (1.14.5)\n",
      "Requirement already satisfied: pycparser in c:\\users\\jannieli\\anaconda3\\lib\\site-packages (from cffi>=1.12->cryptography<3.4,>=3.2->azure-cli-core>=2.7.0->Azure-Sentinel-Utilities) (2.20)\n",
      "Requirement already satisfied: pyreadline in c:\\users\\jannieli\\anaconda3\\lib\\site-packages (from humanfriendly<10.0,>=4.7->azure-cli-core>=2.7.0->Azure-Sentinel-Utilities) (2.1)\n",
      "Requirement already satisfied: tabulate in c:\\users\\jannieli\\anaconda3\\lib\\site-packages (from knack~=0.8.2->azure-cli-core>=2.7.0->Azure-Sentinel-Utilities) (0.8.9)\n",
      "Requirement already satisfied: pygments in c:\\users\\jannieli\\anaconda3\\lib\\site-packages (from knack~=0.8.2->azure-cli-core>=2.7.0->Azure-Sentinel-Utilities) (2.8.1)\n",
      "Requirement already satisfied: colorama in c:\\users\\jannieli\\anaconda3\\lib\\site-packages (from knack~=0.8.2->azure-cli-core>=2.7.0->Azure-Sentinel-Utilities) (0.4.4)\n",
      "Requirement already satisfied: pyyaml in c:\\users\\jannieli\\anaconda3\\lib\\site-packages (from knack~=0.8.2->azure-cli-core>=2.7.0->Azure-Sentinel-Utilities) (5.4.1)\n",
      "Requirement already satisfied: requests-oauthlib>=0.5.0 in c:\\users\\jannieli\\anaconda3\\lib\\site-packages (from msrest<2.0.0,>=0.4.29->azure-loganalytics>=0.1.0->Azure-Sentinel-Utilities) (1.3.0)\n",
      "Requirement already satisfied: isodate>=0.6.0 in c:\\users\\jannieli\\anaconda3\\lib\\site-packages (from msrest<2.0.0,>=0.4.29->azure-loganalytics>=0.1.0->Azure-Sentinel-Utilities) (0.6.0)\n",
      "Requirement already satisfied: certifi>=2017.4.17 in c:\\users\\jannieli\\anaconda3\\lib\\site-packages (from msrest<2.0.0,>=0.4.29->azure-loganalytics>=0.1.0->Azure-Sentinel-Utilities) (2020.12.5)\n",
      "Requirement already satisfied: pynacl>=1.0.1 in c:\\users\\jannieli\\anaconda3\\lib\\site-packages (from paramiko<3.0.0,>=2.0.8->azure-cli-core>=2.7.0->Azure-Sentinel-Utilities) (1.4.0)\n",
      "Requirement already satisfied: bcrypt>=3.1.3 in c:\\users\\jannieli\\anaconda3\\lib\\site-packages (from paramiko<3.0.0,>=2.0.8->azure-cli-core>=2.7.0->Azure-Sentinel-Utilities) (3.2.0)\n",
      "Requirement already satisfied: pywin32!=226 in c:\\users\\jannieli\\anaconda3\\lib\\site-packages (from portalocker~=1.2->azure-cli-telemetry==1.0.6.*->azure-cli-core>=2.7.0->Azure-Sentinel-Utilities) (227)\n",
      "Requirement already satisfied: chardet<5,>=3.0.2 in c:\\users\\jannieli\\anaconda3\\lib\\site-packages (from requests[socks]~=2.25.1->azure-cli-core>=2.7.0->Azure-Sentinel-Utilities) (4.0.0)\n",
      "Requirement already satisfied: idna<3,>=2.5 in c:\\users\\jannieli\\anaconda3\\lib\\site-packages (from requests[socks]~=2.25.1->azure-cli-core>=2.7.0->Azure-Sentinel-Utilities) (2.10)\n",
      "Requirement already satisfied: oauthlib>=3.0.0 in c:\\users\\jannieli\\anaconda3\\lib\\site-packages (from requests-oauthlib>=0.5.0->msrest<2.0.0,>=0.4.29->azure-loganalytics>=0.1.0->Azure-Sentinel-Utilities) (3.1.1)\n",
      "Requirement already satisfied: PySocks!=1.5.7,>=1.5.6 in c:\\users\\jannieli\\anaconda3\\lib\\site-packages (from requests[socks]~=2.25.1->azure-cli-core>=2.7.0->Azure-Sentinel-Utilities) (1.7.1)\n"
     ]
    }
   ],
   "source": [
    "print('Please wait. Installing required packages. This may take a few minutes...')\n",
    "!pip install Kqlmagic --no-cache-dir --upgrade\n",
    "!pip install validate_email --upgrade\n",
    "!pip install jsonpickle --upgrade\n",
    "!pip install azure-cli-core --upgrade\n",
    "!pip install --upgrade Azure-Sentinel-Utilities\n",
    "print('Required Package Installation Complete')"
   ]
  },
  {
   "cell_type": "markdown",
   "metadata": {},
   "source": [
    "<a id='tenant-and-worskpace-ids'></a>\n",
    "## Enter Tenant and Workspace Ids\n",
    "You can configure your TenantId and WorskpaceId in config.json file next to the notebook, see sample [here](https://github.com/Azure/Azure-Sentinel/blob/master/Notebooks/config.json). If config.json file is missing then you will be prompted to enter TenantId and WorkspaceId manually.  \n",
    "To find your WorkspaceId go to [Log Analytics](https://portal.azure.com/#blade/HubsExtension/Resources/resourceType/Microsoft.OperationalInsights%2Fworkspaces), and look at the workspace properties to find the ID."
   ]
  },
  {
   "cell_type": "code",
   "execution_count": 5,
   "metadata": {},
   "outputs": [
    {
     "name": "stdout",
     "output_type": "stream",
     "text": [
      "Read Workspace configuration from local '../../config.json' file... Done!\n",
      "Tenant - '4b2462a4-bbee-495a-a0e1-f23ae524cc9c' and Log Analytics Workspace - '8ecf8077-cf51-4820-aadd-14040956f35d' retrieved from ../../config.json\n"
     ]
    }
   ],
   "source": [
    "import os.path\n",
    "import SentinelUtils\n",
    "\n",
    "tenantId = None\n",
    "workspaceId = None\n",
    "configFile = \"../../config.json\"\n",
    "\n",
    "if os.path.isfile(configFile):\n",
    "    try: \n",
    "        print(f\"Read Workspace configuration from local '{configFile}' file... \", end = \"\")\n",
    "        tenantId = SentinelUtils.config_reader.ConfigReader.read_config_values(configFile)[0]\n",
    "        workspaceId = SentinelUtils.config_reader.ConfigReader.read_config_values(configFile)[3]\n",
    "        print(\"Done!\")\n",
    "        print(f\"Tenant - '{tenantId}' and Log Analytics Workspace - '{workspaceId}' retrieved from {configFile}\")\n",
    "    except:\n",
    "        pass\n",
    "\n",
    "if not workspaceId or not tenantId:\n",
    "    print(f\"Unable to retrive tenantId and workspaceid from '{configFile}'.\")\n",
    "    print('Enter Azure TenantId: ')\n",
    "    tenantId = input().strip()\n",
    "    print()\n",
    "    print('Enter Sentinel Workspace Id: ')\n",
    "    workspaceId = input().strip()\n",
    "    print()\n"
   ]
  },
  {
   "cell_type": "markdown",
   "metadata": {},
   "source": [
    "<a id='connect-to-la'></a>\n",
    "## Connect to Log Analytics\n",
    "This is required to read the tables in your log analytics workspace. "
   ]
  },
  {
   "cell_type": "code",
   "execution_count": 6,
   "metadata": {},
   "outputs": [
    {
     "data": {
      "text/html": [
       "<!DOCTYPE html>\n",
       "                            <html><body><script>\n",
       "\n",
       "                                // close authentication window\n",
       "                                if (kql_MagicUserCodeAuthWindow && kql_MagicUserCodeAuthWindow.opener != null && !kql_MagicUserCodeAuthWindow.closed) {\n",
       "                                    kql_MagicUserCodeAuthWindow.close()\n",
       "                                }\n",
       "                                // TODO: make sure, you clear the right cell. BTW, not sure it is a must to do any clearing\n",
       "\n",
       "                                // clear output cell\n",
       "                                Jupyter.notebook.clear_output(Jupyter.notebook.get_selected_index())\n",
       "\n",
       "                                // TODO: if in run all mode, move to last cell, otherwise move to next cell\n",
       "                                // move to next cell\n",
       "\n",
       "                            </script></body></html>"
      ],
      "text/plain": [
       "<IPython.core.display.HTML object>"
      ]
     },
     "metadata": {},
     "output_type": "display_data"
    },
    {
     "data": {
      "text/html": [
       "<!DOCTYPE html>\n",
       "            <html><body>\n",
       "            <div style=''>\n",
       "            \n",
       "            <button onclick=\"this.style.visibility='visible';\n",
       "            kql_MagicLaunchWindowFunction('kqlmagic/temp_files/66653ca8-2837-463a-bae0-5115919c7aeb/_8ecf8077-cf51-4820-aadd-14040956f35d_at_loganalytics_schema.html', 'fullscreen=no,directories=no,location=no,menubar=no,resizable=yes,scrollbars=yes,status=no,titlebar=no,toolbar=no,', '_8ecf8077_cf51_4820_aadd_14040956f35d_at_loganalytics_schema', '');\n",
       "            kql_MagicCloseWindow(kql_Magic__8ecf8077_cf51_4820_aadd_14040956f35d_at_loganalytics_schema, -1, -1);\">\n",
       "            popup schema 8ecf8077-cf51-4820-aadd-14040956f35d@loganalytics</button>\n",
       "            </div>\n",
       "\n",
       "            <script>\n",
       "            var kql_Magic__8ecf8077_cf51_4820_aadd_14040956f35d_at_loganalytics_schema = null;\n",
       "\n",
       "\n",
       "            function kql_MagicCloseWindow(window_obj, obj_secs, itself_secs) {\n",
       "                if (obj_secs >= 0) {\n",
       "                    _timeout = setTimeout(function(){\n",
       "                        window_obj.close();\n",
       "                        if (itself_secs >= 0) {\n",
       "                            __timeout = setTimeout(function(){window.close();}, itself_secs * 1000);\n",
       "                        }\n",
       "                    }, obj_secs * 1000);\n",
       "                } else if (itself_secs >= 0) {\n",
       "                    _timeout = setTimeout(function(){window.close();}, itself_secs * 1000);\n",
       "                }\n",
       "            }\n",
       "\n",
       "            function kql_MagicLaunchWindowFunction(file_path_or_data, window_params, window_name, host_or_text) {\n",
       "                var url;\n",
       "                const baseURI = String(window.location);\n",
       "                if (host_or_text == 'text' || host_or_text == 'body') {\n",
       "                    url = ''\n",
       "                } else if (file_path_or_data.startsWith('http')) {\n",
       "                    url = file_path_or_data;\n",
       "                } else if (host_or_text.endsWith('.azureml.ms') || host_or_text.endsWith('.azureml.net')) {\n",
       "                    let azuremlBaseURI = String(window.document.baseURI);\n",
       "                    let start = azuremlBaseURI.search('activeFilePath=');\n",
       "                    if (start > 0) {\n",
       "                        start += 'activeFilePath='.length;\n",
       "                        let end = azuremlBaseURI.substring(start).search('&');\n",
       "                        if (end < 0) {\n",
       "                            end = undefined;\n",
       "                        }\n",
       "                        let parts = azuremlBaseURI.substring(start, end).split('/');\n",
       "                        parts.pop();\n",
       "                        url = host_or_text + '/tree/' + parts.join('/') + '/' + file_path_or_data;\n",
       "                    } else {\n",
       "                        var parts = baseURI.split('/');\n",
       "                        parts.pop();\n",
       "                        url = parts.join('/') + '/' + file_path_or_data;\n",
       "                    }\n",
       "                } else {\n",
       "                    var base_url = '';\n",
       "\n",
       "                    // check if azure notebook\n",
       "                    var azure_host = (host_or_text == null || host_or_text.length == 0) ? 'https://notebooks.azure.com' : host_or_text;\n",
       "                    var start = azure_host.search('//');\n",
       "                    var azure_host_suffix = '.' + azure_host.substring(start+2);\n",
       "\n",
       "                    var end = baseURI.search(azure_host_suffix);\n",
       "                    start = baseURI.search('//');\n",
       "                    if (start > 0 && end > 0) {\n",
       "                        // # azure notebook environment, assume template: https://library-user.notebooks.azure.com\n",
       "                        var parts = baseURI.substring(start+2, end).split('-');\n",
       "                        if (parts.length == 2) {\n",
       "                            var library = parts[0];\n",
       "                            var user = parts[1];\n",
       "                            base_url = azure_host + '/api/user/' +user+ '/library/' +library+ '/html/';\n",
       "                        }\n",
       "                    }\n",
       "\n",
       "                    // check if local jupyter lab\n",
       "                    if (base_url.length == 0) {\n",
       "                        var configDataScipt  = document.getElementById('jupyter-config-data');\n",
       "                        if (configDataScipt != null) {\n",
       "                            var jupyterConfigData = JSON.parse(configDataScipt.textContent);\n",
       "                            if (jupyterConfigData['appName'] == 'JupyterLab' && jupyterConfigData['serverRoot'] != null &&  jupyterConfigData['treeUrl'] != null) {\n",
       "                                var basePath = 'C:/Users/jannieli/OneDrive - Microsoft/Documents/Azure-Sentinel-Notebooks/BehaviorAnalytics/UserSecurityMetadata' + '/';\n",
       "                                if (basePath.startsWith(jupyterConfigData['serverRoot'])) {\n",
       "                                    base_url = '/files/' + basePath.substring(jupyterConfigData['serverRoot'].length+1);\n",
       "                                }\n",
       "                            }\n",
       "                        }\n",
       "                    }\n",
       "\n",
       "                    // works for local jupyter notebook\n",
       "                    if (base_url.length == 0) {\n",
       "\n",
       "                        var parts = baseURI.split('/');\n",
       "                        parts.pop(); // remove notebook name segment\n",
       "                        base_url = parts.join('/') + '/';\n",
       "                    }\n",
       "                    url = base_url + file_path_or_data;\n",
       "                }\n",
       "\n",
       "                window.focus();\n",
       "                var w = screen.width / 2;\n",
       "                var h = screen.height / 2;\n",
       "                params = 'width='+w+',height='+h;\n",
       "                // kql_Magic + window_name should be a global variable \n",
       "                window_obj = window.open(url, window_name, window_params + params);\n",
       "                if (url == '') {\n",
       "                    let decodedData = atob(file_path_or_data);\n",
       "                    if (host_or_text == 'text') {\n",
       "                        var el = window_obj.document.createElement('p');\n",
       "                        window_obj.document.body.overflow = 'auto';\n",
       "                        el.style.top = 0;\n",
       "                        el.style.left = 0;\n",
       "                        el.innerHTML = decodedData;\n",
       "                        window_obj.document.body.appendChild(el);\n",
       "                    } else {\n",
       "                        window_obj.document.body.innerHTML = decodedData;\n",
       "                    }\n",
       "                }\n",
       "                kql_Magic__8ecf8077_cf51_4820_aadd_14040956f35d_at_loganalytics_schema = window_obj;\n",
       "            }\n",
       "            </script>\n",
       "\n",
       "            </body></html>"
      ],
      "text/plain": [
       "<IPython.core.display.HTML object>"
      ]
     },
     "metadata": {},
     "output_type": "display_data"
    }
   ],
   "source": [
    "%reload_ext Kqlmagic\n",
    "%kql loganalytics://code().tenant(tenantId).workspace(workspaceId)"
   ]
  },
  {
   "cell_type": "markdown",
   "metadata": {},
   "source": [
    "<a id='log-into-azure'></a>\n",
    "## Log into Azure CLI\n",
    "Azure CLI is used to retrieve display name and email address of users, groups and service principals from AAD."
   ]
  },
  {
   "cell_type": "code",
   "execution_count": 7,
   "metadata": {
    "scrolled": true
   },
   "outputs": [
    {
     "name": "stdout",
     "output_type": "stream",
     "text": [
      "[\n",
      "  {\n",
      "    \"cloudName\": \"AzureCloud\",\n",
      "    \"homeTenantId\": \"4b2462a4-bbee-495a-a0e1-f23ae524cc9c\",\n",
      "    \"id\": \"d1d8779d-38d7-4f06-91db-9cbc8de0176f\",\n",
      "    \"isDefault\": true,\n",
      "    \"managedByTenants\": [\n",
      "      {\n",
      "        \"tenantId\": \"72f988bf-86f1-41af-91ab-2d7cd011db47\"\n",
      "      }\n",
      "    ],\n",
      "    \"name\": \"CyberSecSOC\",\n",
      "    \"state\": \"Enabled\",\n",
      "    \"tenantId\": \"4b2462a4-bbee-495a-a0e1-f23ae524cc9c\",\n",
      "    \"user\": {\n",
      "      \"name\": \"jannieli@microsoft.com\",\n",
      "      \"type\": \"user\"\n",
      "    }\n",
      "  }\n",
      "]\n"
     ]
    },
    {
     "name": "stderr",
     "output_type": "stream",
     "text": [
      "WARNING: The default web browser has been opened at https://login.microsoftonline.com/4b2462a4-bbee-495a-a0e1-f23ae524cc9c/oauth2/authorize. Please continue the login in the web browser. If no web browser is available or if the web browser fails to open, use device code flow with `az login --use-device-code`.\n",
      "WARNING: You have logged in. Now let us find all the subscriptions to which you have access...\n"
     ]
    }
   ],
   "source": [
    "!az login --tenant $tenantId\n",
    "%run Entities.py\n",
    "%run GraphVis.py"
   ]
  },
  {
   "cell_type": "markdown",
   "metadata": {},
   "source": [
    "<a id='user-input'></a>\n",
    "## Enter User Information"
   ]
  },
  {
   "cell_type": "code",
   "execution_count": null,
   "metadata": {},
   "outputs": [
    {
     "name": "stdout",
     "output_type": "stream",
     "text": [
      "Enter object Id or UPN or email address of the user: \n"
     ]
    }
   ],
   "source": [
    "from Utils import validatedate\n",
    "from datetime import date\n",
    "import ipywidgets as widgets\n",
    "from IPython.display import display\n",
    "\n",
    "print('Enter object Id or UPN or email address of the user: ')\n",
    "userIdOrEmail = input().strip()\n",
    "print()\n",
    "\n",
    "if not userIdOrEmail :\n",
    "    raise Exception(\"Error: Empty Object Id or UPN or email address.\")\n",
    "\n",
    "print(f'Retrieving user \"{userIdOrEmail}\" from the tenant...', end = '')\n",
    "user = User.getUserByIdOrEmail(userIdOrEmail)\n",
    "print(\"Done!\")\n",
    "print(\"Name - {0}, Email - {1}, Id - {2}\".format(user.name, user.email, user.objectId))\n",
    "print()\n",
    "\n",
    "print('[Optional] Enter date in format yyyy-MM-dd to retrieve analytics from that date. If you want latest, leave it empty and press enter: ')\n",
    "time  = input().strip()\n",
    "\n",
    "if not time :\n",
    "    today = date.today()\n",
    "    time = today.strftime(\"%Y-%m-%d\")\n",
    "else:\n",
    "    validatedate(time)"
   ]
  },
  {
   "cell_type": "markdown",
   "metadata": {},
   "source": [
    "<a id='access-graph'></a>\n",
    "# Access Graph of the user:\n",
    "Run this cell to visualize the access/permissions of the user in a graph. The cell queries the 'UserAccessAnalytics' table to retrieve direct/transitive RBAC access of the user to subscriptions. "
   ]
  },
  {
   "cell_type": "code",
   "execution_count": null,
   "metadata": {
    "scrolled": false
   },
   "outputs": [],
   "source": [
    "from IPython.display import clear_output, display, HTML\n",
    "\n",
    "kql_query = f\"\"\"\n",
    "let userId = \"{user.objectId}\";\n",
    "let blastRadTime = todatetime('{time}');\n",
    "\n",
    "let userSubAccess = UserAccessAnalytics\n",
    "| where SourceEntityId == userId and TargetEntityType == \"AzureSubscription\" and TimeGenerated <= blastRadTime\n",
    "| project UserId = SourceEntityId, TimeGenerated , SubscriptionName = TargetEntityName, Subscription = TargetEntityId, Role = AccessLevel, GroupId = \"\", ServicePrincipalId = \"\"\n",
    "| summarize arg_max(TimeGenerated, *) by Subscription, Role;\n",
    "\n",
    "let userGroupAccess = UserAccessAnalytics\n",
    "| where SourceEntityId == userId and TargetEntityType == \"Group\" and TimeGenerated <= blastRadTime\n",
    "| project UserId = SourceEntityId, GroupId = TargetEntityId, TimeGenerated\n",
    "| summarize arg_max(TimeGenerated, *) by GroupId;\n",
    "\n",
    "let userGroupSubAccess = userGroupAccess\n",
    "| join kind = inner\n",
    "UserAccessAnalytics\n",
    "on $left.GroupId == $right.SourceEntityId\n",
    "| where TargetEntityType == \"AzureSubscription\" and TimeGenerated <= blastRadTime\n",
    "| project UserId, GroupId, ServicePrincipalId = \"\", TimeGenerated, SubscriptionName = TargetEntityName, Subscription = TargetEntityId, Role = AccessLevel\n",
    "| summarize arg_max(TimeGenerated, *) by GroupId, Subscription, Role;\n",
    "\n",
    "let userSPAccess = UserAccessAnalytics\n",
    "| where SourceEntityId == userId and TargetEntityType == \"ServicePrincipal\" and TimeGenerated <= blastRadTime\n",
    "| project UserId = SourceEntityId, ServicePrincipalId = TargetEntityId, TimeGenerated\n",
    "| summarize arg_max(TimeGenerated, *) by ServicePrincipalId;\n",
    "\n",
    "let userSPSubAccess = userSPAccess\n",
    "| join kind = inner\n",
    "UserAccessAnalytics\n",
    "on $left.ServicePrincipalId == $right.SourceEntityId\n",
    "| where TargetEntityType == \"AzureSubscription\" and TimeGenerated <= blastRadTime\n",
    "| project UserId, GroupId = \"\", ServicePrincipalId, TimeGenerated, SubscriptionName = TargetEntityName, Subscription = TargetEntityId, Role = AccessLevel\n",
    "| summarize arg_max(TimeGenerated, *) by ServicePrincipalId, Subscription, Role;\n",
    "\n",
    "userGroupSubAccess\n",
    "| union kind=outer userSubAccess\n",
    "| union kind=outer userSPSubAccess\"\"\"\n",
    "\n",
    "print(f\"Executing Kql query to retrieve access analytics for user '{user.name}', on or before '{time}'.. \", end = '')\n",
    "%kql -query kql_query\n",
    "print('Done!')\n",
    "\n",
    "usersubMappings = _kql_raw_result_.to_dataframe()\n",
    "\n",
    "if len(usersubMappings) == 0:\n",
    "    print(f\"No access analytics data available for user '{user.name}', on or before '{time}'\")\n",
    "else:\n",
    "    print('Creating Graph visualization. This may take a few seconds.. ', end = '')\n",
    "    graph = GraphVis()\n",
    "\n",
    "    for index, row in usersubMappings.iterrows():\n",
    "        sub = Subscription(row['SubscriptionName'], row['Subscription'])\n",
    "        rbacRole = row['Role']\n",
    "\n",
    "        if row['GroupId'] == '' and row['ServicePrincipalId'] == '':\n",
    "            graph.addEdge(user.getNode(), sub.getNode(), rbacRole)\n",
    "        elif row['GroupId']:\n",
    "            group = Group.getGroupById(row['GroupId'])\n",
    "            graph.addEdge(user.getNode(), group.getNode(), \"Member\")\n",
    "            graph.addEdge(group.getNode(), sub.getNode(), rbacRole)\n",
    "        elif row['ServicePrincipalId']:\n",
    "            sp = ServicePrincipal.getServicePrincipalById(row['ServicePrincipalId'])\n",
    "            graph.addEdge(user.getNode(), sp.getNode(), \"Owner\")\n",
    "            graph.addEdge(sp.getNode(), sub.getNode(), rbacRole)\n",
    "\n",
    "    print('Done!')\n",
    "    display(HTML(graph.getHtml()))\n"
   ]
  },
  {
   "cell_type": "code",
   "execution_count": 9,
   "metadata": {},
   "outputs": [
    {
     "name": "stdout",
     "output_type": "stream",
     "text": [
      "2019-01-01\n"
     ]
    }
   ],
   "source": [
    "time  = input().strip()\n",
    "\n",
    "if not time :\n",
    "    today = date.today()\n",
    "    time = today.strftime(\"%Y-%m-%d\")"
   ]
  },
  {
   "cell_type": "code",
   "execution_count": 10,
   "metadata": {
    "scrolled": true
   },
   "outputs": [
    {
     "data": {
      "text/html": [
       "<html>\n",
       "        <head>\n",
       "            \n",
       "            \n",
       "        </head>\n",
       "        <body>\n",
       "            <div><p style='padding: 10px; color: #3a87ad; background-color: #d9edf7; border-color: #bce9f1'>&nbsp;*&nbsp;8ecf8077-cf51-4820-aadd-14040956f35d@loganalytics</p></div>\n",
       "        </body>\n",
       "        </html>"
      ],
      "text/plain": [
       "<IPython.core.display.HTML object>"
      ]
     },
     "metadata": {},
     "output_type": "display_data"
    },
    {
     "data": {
      "text/html": [
       "<html>\n",
       "        <head>\n",
       "            \n",
       "            <title>Kqlmagic - table</title>\n",
       "        </head>\n",
       "        <body>\n",
       "            <table>\n",
       "    <thead>\n",
       "        <tr>\n",
       "            <th>GroupId</th>\n",
       "            <th>Subscription</th>\n",
       "            <th>Role</th>\n",
       "            <th>TimeGenerated</th>\n",
       "            <th>UserId</th>\n",
       "            <th>ServicePrincipalId</th>\n",
       "            <th>SubscriptionName</th>\n",
       "        </tr>\n",
       "    </thead>\n",
       "    <tbody>\n",
       "        <tr>\n",
       "            <td></td>\n",
       "            <td>ad70ac39-7cb2-4ed2-8678-f192bc4272b6</td>\n",
       "            <td>_UNKNOWN_RBAC_ROLE_</td>\n",
       "            <td>2021-06-13 00:00:00+00:00</td>\n",
       "            <td>9267d02c-5f76-40a9-a9eb-b686f3ca47aa</td>\n",
       "            <td></td>\n",
       "            <td>Contoso Hotels Tenant - PREPROD (DEV)</td>\n",
       "        </tr>\n",
       "        <tr>\n",
       "            <td></td>\n",
       "            <td>ebb79bc0-aa86-44a7-8111-cabbe0c43993</td>\n",
       "            <td>_UNKNOWN_RBAC_ROLE_</td>\n",
       "            <td>2021-06-13 00:00:00+00:00</td>\n",
       "            <td>9267d02c-5f76-40a9-a9eb-b686f3ca47aa</td>\n",
       "            <td></td>\n",
       "            <td>Contoso Hotels Tenant - Production</td>\n",
       "        </tr>\n",
       "        <tr>\n",
       "            <td></td>\n",
       "            <td>3ef9c878-c106-464a-820e-4ed22d65f3e2</td>\n",
       "            <td>_UNKNOWN_RBAC_ROLE_</td>\n",
       "            <td>2021-06-13 00:00:00+00:00</td>\n",
       "            <td>9267d02c-5f76-40a9-a9eb-b686f3ca47aa</td>\n",
       "            <td></td>\n",
       "            <td>Contoso Hotels Tenant - Integration</td>\n",
       "        </tr>\n",
       "        <tr>\n",
       "            <td></td>\n",
       "            <td>ad70ac39-7cb2-4ed2-8678-f192bc4272b6</td>\n",
       "            <td>Owner</td>\n",
       "            <td>2021-05-16 00:00:00+00:00</td>\n",
       "            <td>9267d02c-5f76-40a9-a9eb-b686f3ca47aa</td>\n",
       "            <td></td>\n",
       "            <td>Contoso Hotels Tenant - PREPROD (DEV)</td>\n",
       "        </tr>\n",
       "        <tr>\n",
       "            <td></td>\n",
       "            <td>ebb79bc0-aa86-44a7-8111-cabbe0c43993</td>\n",
       "            <td>Owner</td>\n",
       "            <td>2021-05-16 00:00:00+00:00</td>\n",
       "            <td>9267d02c-5f76-40a9-a9eb-b686f3ca47aa</td>\n",
       "            <td></td>\n",
       "            <td>Contoso Hotels Tenant - Production</td>\n",
       "        </tr>\n",
       "        <tr>\n",
       "            <td></td>\n",
       "            <td>3ef9c878-c106-464a-820e-4ed22d65f3e2</td>\n",
       "            <td>Owner</td>\n",
       "            <td>2021-05-16 00:00:00+00:00</td>\n",
       "            <td>9267d02c-5f76-40a9-a9eb-b686f3ca47aa</td>\n",
       "            <td></td>\n",
       "            <td>Contoso Hotels Tenant - Integration</td>\n",
       "        </tr>\n",
       "    </tbody>\n",
       "</table>\n",
       "        </body>\n",
       "        </html>"
      ],
      "text/plain": [
       "<IPython.core.display.HTML object>"
      ]
     },
     "metadata": {},
     "output_type": "display_data"
    },
    {
     "data": {
      "text/html": [
       "<html>\n",
       "        <head>\n",
       "            \n",
       "            \n",
       "        </head>\n",
       "        <body>\n",
       "            <div><p style='padding: 10px; color: #3a87ad; background-color: #d9edf7; border-color: #bce9f1'>Done&nbsp;(00:00.651):&nbsp;6&nbsp;records</p></div>\n",
       "        </body>\n",
       "        </html>"
      ],
      "text/plain": [
       "<IPython.core.display.HTML object>"
      ]
     },
     "metadata": {},
     "output_type": "display_data"
    },
    {
     "data": {
      "text/html": [],
      "text/plain": [
       "[{'GroupId': '', 'Subscription': 'ad70ac39-7cb2-4ed2-8678-f192bc4272b6', 'Role': '_UNKNOWN_RBAC_ROLE_', 'TimeGenerated': datetime.datetime(2021, 6, 13, 0, 0, tzinfo=tzutc()), 'UserId': '9267d02c-5f76-40a9-a9eb-b686f3ca47aa', 'ServicePrincipalId': '', 'SubscriptionName': 'Contoso Hotels Tenant - PREPROD (DEV)'},\n",
       " {'GroupId': '', 'Subscription': 'ebb79bc0-aa86-44a7-8111-cabbe0c43993', 'Role': '_UNKNOWN_RBAC_ROLE_', 'TimeGenerated': datetime.datetime(2021, 6, 13, 0, 0, tzinfo=tzutc()), 'UserId': '9267d02c-5f76-40a9-a9eb-b686f3ca47aa', 'ServicePrincipalId': '', 'SubscriptionName': 'Contoso Hotels Tenant - Production'},\n",
       " {'GroupId': '', 'Subscription': '3ef9c878-c106-464a-820e-4ed22d65f3e2', 'Role': '_UNKNOWN_RBAC_ROLE_', 'TimeGenerated': datetime.datetime(2021, 6, 13, 0, 0, tzinfo=tzutc()), 'UserId': '9267d02c-5f76-40a9-a9eb-b686f3ca47aa', 'ServicePrincipalId': '', 'SubscriptionName': 'Contoso Hotels Tenant - Integration'},\n",
       " {'GroupId': '', 'Subscription': 'ad70ac39-7cb2-4ed2-8678-f192bc4272b6', 'Role': 'Owner', 'TimeGenerated': datetime.datetime(2021, 5, 16, 0, 0, tzinfo=tzutc()), 'UserId': '9267d02c-5f76-40a9-a9eb-b686f3ca47aa', 'ServicePrincipalId': '', 'SubscriptionName': 'Contoso Hotels Tenant - PREPROD (DEV)'},\n",
       " {'GroupId': '', 'Subscription': 'ebb79bc0-aa86-44a7-8111-cabbe0c43993', 'Role': 'Owner', 'TimeGenerated': datetime.datetime(2021, 5, 16, 0, 0, tzinfo=tzutc()), 'UserId': '9267d02c-5f76-40a9-a9eb-b686f3ca47aa', 'ServicePrincipalId': '', 'SubscriptionName': 'Contoso Hotels Tenant - Production'},\n",
       " {'GroupId': '', 'Subscription': '3ef9c878-c106-464a-820e-4ed22d65f3e2', 'Role': 'Owner', 'TimeGenerated': datetime.datetime(2021, 5, 16, 0, 0, tzinfo=tzutc()), 'UserId': '9267d02c-5f76-40a9-a9eb-b686f3ca47aa', 'ServicePrincipalId': '', 'SubscriptionName': 'Contoso Hotels Tenant - Integration'}]"
      ]
     },
     "execution_count": 10,
     "metadata": {},
     "output_type": "execute_result"
    }
   ],
   "source": [
    "kql_query = f\"\"\"\n",
    "let userId = \"9267d02c-5f76-40a9-a9eb-b686f3ca47aa\";\n",
    "let blastRadTime = todatetime('{time}');\n",
    "\n",
    "let userSubAccess = UserAccessAnalytics\n",
    "| where TimeGenerated <= ago(8d)\n",
    "| where SourceEntityId == \"9267d02c-5f76-40a9-a9eb-b686f3ca47aa\" and TargetEntityType == \"AzureSubscription\"\n",
    "| project UserId = SourceEntityId, TimeGenerated , SubscriptionName = TargetEntityName, Subscription = TargetEntityId, Role = AccessLevel, GroupId = \"\", ServicePrincipalId = \"\"\n",
    "| summarize arg_max(TimeGenerated, *) by Subscription, Role;\n",
    "\n",
    "let userGroupAccess = UserAccessAnalytics\n",
    "| where SourceEntityId == userId and TargetEntityType == \"Group\" and TimeGenerated <= blastRadTime\n",
    "| project UserId = SourceEntityId, GroupId = TargetEntityId, TimeGenerated\n",
    "| summarize arg_max(TimeGenerated, *) by GroupId;\n",
    "\n",
    "let userGroupSubAccess = userGroupAccess\n",
    "| join kind = inner\n",
    "UserAccessAnalytics\n",
    "on $left.GroupId == $right.SourceEntityId\n",
    "| where TargetEntityType == \"AzureSubscription\" and TimeGenerated <= blastRadTime\n",
    "| project UserId, GroupId, ServicePrincipalId = \"\", TimeGenerated, SubscriptionName = TargetEntityName, Subscription = TargetEntityId, Role = AccessLevel\n",
    "| summarize arg_max(TimeGenerated, *) by GroupId, Subscription, Role;\n",
    "\n",
    "let userSPAccess = UserAccessAnalytics\n",
    "| where SourceEntityId == userId and TargetEntityType == \"ServicePrincipal\" and TimeGenerated <= blastRadTime\n",
    "| project UserId = SourceEntityId, ServicePrincipalId = TargetEntityId, TimeGenerated\n",
    "| summarize arg_max(TimeGenerated, *) by ServicePrincipalId;\n",
    "\n",
    "let userSPSubAccess = userSPAccess\n",
    "| join kind = inner\n",
    "UserAccessAnalytics\n",
    "on $left.ServicePrincipalId == $right.SourceEntityId\n",
    "| where TargetEntityType == \"AzureSubscription\" and TimeGenerated <= blastRadTime\n",
    "| project UserId, GroupId = \"\", ServicePrincipalId, TimeGenerated, SubscriptionName = TargetEntityName, Subscription = TargetEntityId, Role = AccessLevel\n",
    "| summarize arg_max(TimeGenerated, *) by ServicePrincipalId, Subscription, Role;\n",
    "\n",
    "userGroupSubAccess\n",
    "| union kind=outer userSubAccess\n",
    "| union kind=outer userSPSubAccess\"\"\"\n",
    "%kql -query kql_query"
   ]
  },
  {
   "cell_type": "code",
   "execution_count": 12,
   "metadata": {},
   "outputs": [],
   "source": [
    "usersubMappings = _kql_raw_result_.to_dataframe()"
   ]
  },
  {
   "cell_type": "code",
   "execution_count": 15,
   "metadata": {},
   "outputs": [
    {
     "ename": "FileNotFoundError",
     "evalue": "[WinError 2] The system cannot find the file specified",
     "output_type": "error",
     "traceback": [
      "\u001b[1;31m---------------------------------------------------------------------------\u001b[0m",
      "\u001b[1;31mFileNotFoundError\u001b[0m                         Traceback (most recent call last)",
      "\u001b[1;32m<ipython-input-15-255b440f0c4e>\u001b[0m in \u001b[0;36m<module>\u001b[1;34m\u001b[0m\n\u001b[1;32m----> 1\u001b[1;33m \u001b[0muser\u001b[0m \u001b[1;33m=\u001b[0m \u001b[0mUser\u001b[0m\u001b[1;33m.\u001b[0m\u001b[0mgetUserByIdOrEmail\u001b[0m\u001b[1;33m(\u001b[0m\u001b[1;34m\"9267d02c-5f76-40a9-a9eb-b686f3ca47aa\"\u001b[0m\u001b[1;33m)\u001b[0m\u001b[1;33m\u001b[0m\u001b[1;33m\u001b[0m\u001b[0m\n\u001b[0m",
      "\u001b[1;32m~\\OneDrive - Microsoft\\Documents\\Azure-Sentinel-Notebooks\\BehaviorAnalytics\\UserSecurityMetadata\\Entities.py\u001b[0m in \u001b[0;36mgetUserByIdOrEmail\u001b[1;34m(userIdOrEmail)\u001b[0m\n\u001b[0;32m     49\u001b[0m     \u001b[1;32mdef\u001b[0m \u001b[0mgetUserByIdOrEmail\u001b[0m\u001b[1;33m(\u001b[0m\u001b[0muserIdOrEmail\u001b[0m\u001b[1;33m)\u001b[0m\u001b[1;33m:\u001b[0m\u001b[1;33m\u001b[0m\u001b[1;33m\u001b[0m\u001b[0m\n\u001b[0;32m     50\u001b[0m         \u001b[1;32mtry\u001b[0m\u001b[1;33m:\u001b[0m\u001b[1;33m\u001b[0m\u001b[1;33m\u001b[0m\u001b[0m\n\u001b[1;32m---> 51\u001b[1;33m             \u001b[1;32mreturn\u001b[0m \u001b[0mUser\u001b[0m\u001b[1;33m.\u001b[0m\u001b[0mgetUserById\u001b[0m\u001b[1;33m(\u001b[0m\u001b[0muserIdOrEmail\u001b[0m\u001b[1;33m)\u001b[0m\u001b[1;33m\u001b[0m\u001b[1;33m\u001b[0m\u001b[0m\n\u001b[0m\u001b[0;32m     52\u001b[0m         \u001b[1;32mexcept\u001b[0m\u001b[1;33m:\u001b[0m\u001b[1;33m\u001b[0m\u001b[1;33m\u001b[0m\u001b[0m\n\u001b[0;32m     53\u001b[0m             \u001b[0misvalidEmail\u001b[0m \u001b[1;33m=\u001b[0m \u001b[0mvalidate_email\u001b[0m\u001b[1;33m(\u001b[0m\u001b[0muserIdOrEmail\u001b[0m\u001b[1;33m)\u001b[0m\u001b[1;33m\u001b[0m\u001b[1;33m\u001b[0m\u001b[0m\n",
      "\u001b[1;32m~\\OneDrive - Microsoft\\Documents\\Azure-Sentinel-Notebooks\\BehaviorAnalytics\\UserSecurityMetadata\\Entities.py\u001b[0m in \u001b[0;36mgetUserById\u001b[1;34m(userId)\u001b[0m\n\u001b[0;32m     23\u001b[0m     \u001b[1;33m@\u001b[0m\u001b[0mlru_cache\u001b[0m\u001b[1;33m(\u001b[0m\u001b[0mmaxsize\u001b[0m\u001b[1;33m=\u001b[0m\u001b[1;36m100\u001b[0m\u001b[1;33m)\u001b[0m\u001b[1;33m\u001b[0m\u001b[1;33m\u001b[0m\u001b[0m\n\u001b[0;32m     24\u001b[0m     \u001b[1;32mdef\u001b[0m \u001b[0mgetUserById\u001b[0m\u001b[1;33m(\u001b[0m\u001b[0muserId\u001b[0m\u001b[1;33m)\u001b[0m\u001b[1;33m:\u001b[0m\u001b[1;33m\u001b[0m\u001b[1;33m\u001b[0m\u001b[0m\n\u001b[1;32m---> 25\u001b[1;33m         rawoutput = executeProcess(\n\u001b[0m\u001b[0;32m     26\u001b[0m             f'az ad user show --id {userId} --query [displayName,mail,objectId] --output tsv'.split(' '))\n\u001b[0;32m     27\u001b[0m         \u001b[0moutput\u001b[0m \u001b[1;33m=\u001b[0m \u001b[0mrawoutput\u001b[0m\u001b[1;33m.\u001b[0m\u001b[0msplit\u001b[0m\u001b[1;33m(\u001b[0m\u001b[1;34m'\\n'\u001b[0m\u001b[1;33m)\u001b[0m\u001b[1;33m\u001b[0m\u001b[1;33m\u001b[0m\u001b[0m\n",
      "\u001b[1;32m~\\OneDrive - Microsoft\\Documents\\Azure-Sentinel-Notebooks\\BehaviorAnalytics\\UserSecurityMetadata\\Utils.py\u001b[0m in \u001b[0;36mexecuteProcess\u001b[1;34m(cmdLine)\u001b[0m\n\u001b[0;32m     10\u001b[0m \u001b[1;32mdef\u001b[0m \u001b[0mexecuteProcess\u001b[0m\u001b[1;33m(\u001b[0m\u001b[0mcmdLine\u001b[0m\u001b[1;33m)\u001b[0m\u001b[1;33m:\u001b[0m\u001b[1;33m\u001b[0m\u001b[1;33m\u001b[0m\u001b[0m\n\u001b[0;32m     11\u001b[0m     \u001b[1;32mtry\u001b[0m\u001b[1;33m:\u001b[0m\u001b[1;33m\u001b[0m\u001b[1;33m\u001b[0m\u001b[0m\n\u001b[1;32m---> 12\u001b[1;33m         rawoutput = subprocess.check_output(\n\u001b[0m\u001b[0;32m     13\u001b[0m             cmdLine, stderr=subprocess.STDOUT).decode().strip()\n\u001b[0;32m     14\u001b[0m     \u001b[1;32mexcept\u001b[0m \u001b[0msubprocess\u001b[0m\u001b[1;33m.\u001b[0m\u001b[0mCalledProcessError\u001b[0m \u001b[1;32mas\u001b[0m \u001b[0mexc\u001b[0m\u001b[1;33m:\u001b[0m\u001b[1;33m\u001b[0m\u001b[1;33m\u001b[0m\u001b[0m\n",
      "\u001b[1;32m~\\Anaconda3\\lib\\subprocess.py\u001b[0m in \u001b[0;36mcheck_output\u001b[1;34m(timeout, *popenargs, **kwargs)\u001b[0m\n\u001b[0;32m    413\u001b[0m         \u001b[0mkwargs\u001b[0m\u001b[1;33m[\u001b[0m\u001b[1;34m'input'\u001b[0m\u001b[1;33m]\u001b[0m \u001b[1;33m=\u001b[0m \u001b[0mempty\u001b[0m\u001b[1;33m\u001b[0m\u001b[1;33m\u001b[0m\u001b[0m\n\u001b[0;32m    414\u001b[0m \u001b[1;33m\u001b[0m\u001b[0m\n\u001b[1;32m--> 415\u001b[1;33m     return run(*popenargs, stdout=PIPE, timeout=timeout, check=True,\n\u001b[0m\u001b[0;32m    416\u001b[0m                **kwargs).stdout\n\u001b[0;32m    417\u001b[0m \u001b[1;33m\u001b[0m\u001b[0m\n",
      "\u001b[1;32m~\\Anaconda3\\lib\\subprocess.py\u001b[0m in \u001b[0;36mrun\u001b[1;34m(input, capture_output, timeout, check, *popenargs, **kwargs)\u001b[0m\n\u001b[0;32m    491\u001b[0m         \u001b[0mkwargs\u001b[0m\u001b[1;33m[\u001b[0m\u001b[1;34m'stderr'\u001b[0m\u001b[1;33m]\u001b[0m \u001b[1;33m=\u001b[0m \u001b[0mPIPE\u001b[0m\u001b[1;33m\u001b[0m\u001b[1;33m\u001b[0m\u001b[0m\n\u001b[0;32m    492\u001b[0m \u001b[1;33m\u001b[0m\u001b[0m\n\u001b[1;32m--> 493\u001b[1;33m     \u001b[1;32mwith\u001b[0m \u001b[0mPopen\u001b[0m\u001b[1;33m(\u001b[0m\u001b[1;33m*\u001b[0m\u001b[0mpopenargs\u001b[0m\u001b[1;33m,\u001b[0m \u001b[1;33m**\u001b[0m\u001b[0mkwargs\u001b[0m\u001b[1;33m)\u001b[0m \u001b[1;32mas\u001b[0m \u001b[0mprocess\u001b[0m\u001b[1;33m:\u001b[0m\u001b[1;33m\u001b[0m\u001b[1;33m\u001b[0m\u001b[0m\n\u001b[0m\u001b[0;32m    494\u001b[0m         \u001b[1;32mtry\u001b[0m\u001b[1;33m:\u001b[0m\u001b[1;33m\u001b[0m\u001b[1;33m\u001b[0m\u001b[0m\n\u001b[0;32m    495\u001b[0m             \u001b[0mstdout\u001b[0m\u001b[1;33m,\u001b[0m \u001b[0mstderr\u001b[0m \u001b[1;33m=\u001b[0m \u001b[0mprocess\u001b[0m\u001b[1;33m.\u001b[0m\u001b[0mcommunicate\u001b[0m\u001b[1;33m(\u001b[0m\u001b[0minput\u001b[0m\u001b[1;33m,\u001b[0m \u001b[0mtimeout\u001b[0m\u001b[1;33m=\u001b[0m\u001b[0mtimeout\u001b[0m\u001b[1;33m)\u001b[0m\u001b[1;33m\u001b[0m\u001b[1;33m\u001b[0m\u001b[0m\n",
      "\u001b[1;32m~\\Anaconda3\\lib\\subprocess.py\u001b[0m in \u001b[0;36m__init__\u001b[1;34m(self, args, bufsize, executable, stdin, stdout, stderr, preexec_fn, close_fds, shell, cwd, env, universal_newlines, startupinfo, creationflags, restore_signals, start_new_session, pass_fds, encoding, errors, text)\u001b[0m\n\u001b[0;32m    856\u001b[0m                             encoding=encoding, errors=errors)\n\u001b[0;32m    857\u001b[0m \u001b[1;33m\u001b[0m\u001b[0m\n\u001b[1;32m--> 858\u001b[1;33m             self._execute_child(args, executable, preexec_fn, close_fds,\n\u001b[0m\u001b[0;32m    859\u001b[0m                                 \u001b[0mpass_fds\u001b[0m\u001b[1;33m,\u001b[0m \u001b[0mcwd\u001b[0m\u001b[1;33m,\u001b[0m \u001b[0menv\u001b[0m\u001b[1;33m,\u001b[0m\u001b[1;33m\u001b[0m\u001b[1;33m\u001b[0m\u001b[0m\n\u001b[0;32m    860\u001b[0m                                 \u001b[0mstartupinfo\u001b[0m\u001b[1;33m,\u001b[0m \u001b[0mcreationflags\u001b[0m\u001b[1;33m,\u001b[0m \u001b[0mshell\u001b[0m\u001b[1;33m,\u001b[0m\u001b[1;33m\u001b[0m\u001b[1;33m\u001b[0m\u001b[0m\n",
      "\u001b[1;32m~\\Anaconda3\\lib\\subprocess.py\u001b[0m in \u001b[0;36m_execute_child\u001b[1;34m(self, args, executable, preexec_fn, close_fds, pass_fds, cwd, env, startupinfo, creationflags, shell, p2cread, p2cwrite, c2pread, c2pwrite, errread, errwrite, unused_restore_signals, unused_start_new_session)\u001b[0m\n\u001b[0;32m   1309\u001b[0m             \u001b[1;31m# Start the process\u001b[0m\u001b[1;33m\u001b[0m\u001b[1;33m\u001b[0m\u001b[1;33m\u001b[0m\u001b[0m\n\u001b[0;32m   1310\u001b[0m             \u001b[1;32mtry\u001b[0m\u001b[1;33m:\u001b[0m\u001b[1;33m\u001b[0m\u001b[1;33m\u001b[0m\u001b[0m\n\u001b[1;32m-> 1311\u001b[1;33m                 hp, ht, pid, tid = _winapi.CreateProcess(executable, args,\n\u001b[0m\u001b[0;32m   1312\u001b[0m                                          \u001b[1;31m# no special security\u001b[0m\u001b[1;33m\u001b[0m\u001b[1;33m\u001b[0m\u001b[1;33m\u001b[0m\u001b[0m\n\u001b[0;32m   1313\u001b[0m                                          \u001b[1;32mNone\u001b[0m\u001b[1;33m,\u001b[0m \u001b[1;32mNone\u001b[0m\u001b[1;33m,\u001b[0m\u001b[1;33m\u001b[0m\u001b[1;33m\u001b[0m\u001b[0m\n",
      "\u001b[1;31mFileNotFoundError\u001b[0m: [WinError 2] The system cannot find the file specified"
     ]
    }
   ],
   "source": [
    "user = User.getUserByIdOrEmail(\"9267d02c-5f76-40a9-a9eb-b686f3ca47aa\")"
   ]
  },
  {
   "cell_type": "code",
   "execution_count": 13,
   "metadata": {},
   "outputs": [
    {
     "name": "stdout",
     "output_type": "stream",
     "text": [
      "Creating Graph visualization. This may take a few seconds.. "
     ]
    },
    {
     "ename": "NameError",
     "evalue": "name 'user' is not defined",
     "output_type": "error",
     "traceback": [
      "\u001b[1;31m---------------------------------------------------------------------------\u001b[0m",
      "\u001b[1;31mNameError\u001b[0m                                 Traceback (most recent call last)",
      "\u001b[1;32m<ipython-input-13-9900f6cdb262>\u001b[0m in \u001b[0;36m<module>\u001b[1;34m\u001b[0m\n\u001b[0;32m     10\u001b[0m \u001b[1;33m\u001b[0m\u001b[0m\n\u001b[0;32m     11\u001b[0m         \u001b[1;32mif\u001b[0m \u001b[0mrow\u001b[0m\u001b[1;33m[\u001b[0m\u001b[1;34m'GroupId'\u001b[0m\u001b[1;33m]\u001b[0m \u001b[1;33m==\u001b[0m \u001b[1;34m''\u001b[0m \u001b[1;32mand\u001b[0m \u001b[0mrow\u001b[0m\u001b[1;33m[\u001b[0m\u001b[1;34m'ServicePrincipalId'\u001b[0m\u001b[1;33m]\u001b[0m \u001b[1;33m==\u001b[0m \u001b[1;34m''\u001b[0m\u001b[1;33m:\u001b[0m\u001b[1;33m\u001b[0m\u001b[1;33m\u001b[0m\u001b[0m\n\u001b[1;32m---> 12\u001b[1;33m             \u001b[0mgraph\u001b[0m\u001b[1;33m.\u001b[0m\u001b[0maddEdge\u001b[0m\u001b[1;33m(\u001b[0m\u001b[0muser\u001b[0m\u001b[1;33m.\u001b[0m\u001b[0mgetNode\u001b[0m\u001b[1;33m(\u001b[0m\u001b[1;33m)\u001b[0m\u001b[1;33m,\u001b[0m \u001b[0msub\u001b[0m\u001b[1;33m.\u001b[0m\u001b[0mgetNode\u001b[0m\u001b[1;33m(\u001b[0m\u001b[1;33m)\u001b[0m\u001b[1;33m,\u001b[0m \u001b[0mrbacRole\u001b[0m\u001b[1;33m)\u001b[0m\u001b[1;33m\u001b[0m\u001b[1;33m\u001b[0m\u001b[0m\n\u001b[0m\u001b[0;32m     13\u001b[0m         \u001b[1;32melif\u001b[0m \u001b[0mrow\u001b[0m\u001b[1;33m[\u001b[0m\u001b[1;34m'GroupId'\u001b[0m\u001b[1;33m]\u001b[0m\u001b[1;33m:\u001b[0m\u001b[1;33m\u001b[0m\u001b[1;33m\u001b[0m\u001b[0m\n\u001b[0;32m     14\u001b[0m             \u001b[0mgroup\u001b[0m \u001b[1;33m=\u001b[0m \u001b[0mGroup\u001b[0m\u001b[1;33m.\u001b[0m\u001b[0mgetGroupById\u001b[0m\u001b[1;33m(\u001b[0m\u001b[0mrow\u001b[0m\u001b[1;33m[\u001b[0m\u001b[1;34m'GroupId'\u001b[0m\u001b[1;33m]\u001b[0m\u001b[1;33m)\u001b[0m\u001b[1;33m\u001b[0m\u001b[1;33m\u001b[0m\u001b[0m\n",
      "\u001b[1;31mNameError\u001b[0m: name 'user' is not defined"
     ]
    }
   ],
   "source": [
    "if len(usersubMappings) == 0:\n",
    "    print(f\"No access analytics data available for user '{user.name}', on or before '{time}'\")\n",
    "else:\n",
    "    print('Creating Graph visualization. This may take a few seconds.. ', end = '')\n",
    "    graph = GraphVis()\n",
    "\n",
    "    for index, row in usersubMappings.iterrows():\n",
    "        sub = Subscription(row['SubscriptionName'], row['Subscription'])\n",
    "        rbacRole = row['Role']\n",
    "\n",
    "        if row['GroupId'] == '' and row['ServicePrincipalId'] == '':\n",
    "            graph.addEdge(user.getNode(), sub.getNode(), rbacRole)\n",
    "        elif row['GroupId']:\n",
    "            group = Group.getGroupById(row['GroupId'])\n",
    "            graph.addEdge(user.getNode(), group.getNode(), \"Member\")\n",
    "            graph.addEdge(group.getNode(), sub.getNode(), rbacRole)\n",
    "        elif row['ServicePrincipalId']:\n",
    "            sp = ServicePrincipal.getServicePrincipalById(row['ServicePrincipalId'])\n",
    "            graph.addEdge(user.getNode(), sp.getNode(), \"Owner\")\n",
    "            graph.addEdge(sp.getNode(), sub.getNode(), rbacRole)\n",
    "\n",
    "    print('Done!')\n",
    "    display(HTML(graph.getHtml()))"
   ]
  },
  {
   "cell_type": "markdown",
   "metadata": {},
   "source": [
    "<a id='user-peers'></a>\n",
    "## Ranked peers of the user\n",
    "This cell queries the 'UserPeerAnalytics' table to return a ranked list of peers of the user."
   ]
  },
  {
   "cell_type": "code",
   "execution_count": null,
   "metadata": {},
   "outputs": [],
   "source": [
    "from IPython.display import clear_output, display, HTML\n",
    "import tabulate\n",
    "\n",
    "kql_query = f\"\"\"\n",
    "let userId = \"{user.objectId}\";\n",
    "let snapshotTime = todatetime('{time}');\n",
    "\n",
    "UserPeerAnalytics\n",
    "| where UserId == userId \n",
    "| join kind = inner\n",
    "(\n",
    "UserPeerAnalytics\n",
    "| where TimeGenerated <= snapshotTime and UserId == userId \n",
    "| summarize max(TimeGenerated)\n",
    "| project TimeGenerated = max_TimeGenerated\n",
    ")\n",
    "on TimeGenerated\n",
    "| project PeerUserId, Rank\n",
    "| order by Rank asc\"\"\"\n",
    "\n",
    "print(f\"Executing Kql query to retrieve peer analytics for user '{user.name}', on or before '{time}'.. \", end = '')\n",
    "%kql -query kql_query\n",
    "print('Done!')\n",
    "\n",
    "peerListDF = _kql_raw_result_.to_dataframe()\n",
    "\n",
    "peerList = []\n",
    "peerList.append([\"UserName\", \"PeerUserName\", \"PeerEmail\", \"Rank\"])\n",
    "\n",
    "if len(peerListDF) == 0:\n",
    "    print(f\"No peer analytics data available for user '{user.name}', on or before '{time}'\")\n",
    "else:\n",
    "    print('Retrieving user names and email addresses for peers. This may take a few seconds...', end = '')\n",
    "\n",
    "    for index, row in peerListDF.iterrows():\n",
    "        peerUserId = row['PeerUserId']    \n",
    "        peerRank = row['Rank'] \n",
    "        peerUser = User.getUserByIdOrEmail(peerUserId)\n",
    "        peerList.append([user.name, peerUser.name, peerUser.email, peerRank])\n",
    "\n",
    "    print('Done!')\n",
    "    display(HTML(tabulate.tabulate(peerList, tablefmt='html')))"
   ]
  }
 ],
 "metadata": {
  "kernelspec": {
   "display_name": "Python 3",
   "language": "python",
   "name": "python3"
  },
  "language_info": {
   "codemirror_mode": {
    "name": "ipython",
    "version": 3
   },
   "file_extension": ".py",
   "mimetype": "text/x-python",
   "name": "python",
   "nbconvert_exporter": "python",
   "pygments_lexer": "ipython3",
   "version": "3.8.8"
  }
 },
 "nbformat": 4,
 "nbformat_minor": 2
}
