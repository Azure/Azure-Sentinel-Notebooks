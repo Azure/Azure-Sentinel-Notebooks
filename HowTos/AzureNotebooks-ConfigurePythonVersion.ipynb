{
  "cells": [
    {
      "metadata": {
        "collapsed": true
      },
      "cell_type": "markdown",
      "source": "# Azure Notebooks - Configuring the Default Python Version\n\n__Notebook Version:__ 1.0<br>\n\n    \n### Description\nAzure notebooks currently defaults to Python 3.5. Many of the notebooks and dependent libraries require a minumum of Python 3.6.\n\nCarry out the following steps on your Azure Notebooks project to set the correct defaults.\n\nNote, you cannot configure the python kernel version independently but you can do it by specifying a requirements.txt - which is a list of python dependencies together with the minimum versions required by the environment."
    },
    {
      "metadata": {},
      "cell_type": "markdown",
      "source": "## 1. Click on the cog icon - Project Settings\nNote you may need to navigate to the project root to be able to set this successfully.\n![ProjectSettings.jpg](images/ProjectSettings.jpg)\n",
      "attachments": {}
    },
    {
      "metadata": {},
      "cell_type": "markdown",
      "source": "## 2. Select the Environment tab and click Add\n![AddEnvSetup.jpg](images/AddEnvSetup.jpg)",
      "attachments": {}
    },
    {
      "metadata": {},
      "cell_type": "markdown",
      "source": "## 3. Select Requirements.txt from the first drop-down\n![AddEnvSetup-Requirements.jpg](images/AddEnvSetup-Requirements.jpg)",
      "attachments": {}
    },
    {
      "metadata": {},
      "cell_type": "markdown",
      "source": "## 4. Select the requirements.txt file from the list\nThis should have been cloned from the Microsoft Sentinel github when you first created the project.\n\nThe drop-down list might be quite long. Keep hitting 'r' to jump to files beginning with the letter 'r'.\n\n![AddEnvSetup-Requirements2.jpg](images/AddEnvSetup-Requirements2.jpg)",
      "attachments": {}
    },
    {
      "metadata": {},
      "cell_type": "markdown",
      "source": "## 5. Select the Python version - 3.6\nYou can select a later version such as 3.7 if this is available.\n\n![AddEnvSetupPyVersion.jpg](images/AddEnvSetupPyVersion.jpg)",
      "attachments": {}
    },
    {
      "metadata": {},
      "cell_type": "markdown",
      "source": "## 6. Save the Setup Step\n![Requirements_txt_added.jpg](images/Requirements_txt_added.jpg)",
      "attachments": {}
    },
    {
      "metadata": {
        "trusted": true
      },
      "cell_type": "code",
      "source": "",
      "execution_count": null,
      "outputs": []
    }
  ],
  "metadata": {
    "celltoolbar": "Tags",
    "hide_input": false,
    "kernelspec": {
      "name": "python36",
      "display_name": "Python 3.6",
      "language": "python"
    },
    "language_info": {
      "mimetype": "text/x-python",
      "nbconvert_exporter": "python",
      "name": "python",
      "pygments_lexer": "ipython3",
      "version": "3.6.6",
      "file_extension": ".py",
      "codemirror_mode": {
        "version": 3,
        "name": "ipython"
      }
    },
    "toc": {
      "base_numbering": 1,
      "nav_menu": {},
      "number_sections": false,
      "sideBar": true,
      "skip_h1_title": false,
      "title_cell": "Table of Contents",
      "title_sidebar": "Contents",
      "toc_cell": false,
      "toc_position": {},
      "toc_section_display": true,
      "toc_window_display": true
    }
  },
  "nbformat": 4,
  "nbformat_minor": 2
}