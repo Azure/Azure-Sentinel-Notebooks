{
 "cells": [
  {
   "cell_type": "markdown",
   "metadata": {},
   "source": [
    "# Microsoft Sentinel Notebooks and <i>MSTICPy</i>\n",
    "## Examples of machine learning techniques in Jupyter notebooks\n",
    "\n",
    "Author: Ian Hellen\n",
    "<br>Co-Authors: Pete Bryan, Ashwin Patil\n",
    "\n",
    "Released: 26 Oct 2020"
   ]
  },
  {
   "cell_type": "markdown",
   "metadata": {},
   "source": [
    "## Notebook Setup\n",
    "\n",
    "Please ensure that MSTICPy is installed before continuing with this notebook.\n",
    "\n",
    "The nbinit module loads required libraries and optionally installs require packages."
   ]
  },
  {
   "cell_type": "code",
   "execution_count": 1,
   "metadata": {
    "gather": {
     "logged": 1618337296472
    }
   },
   "outputs": [
    {
     "data": {
      "text/html": [
       "<h3>Starting Notebook setup...</h3>"
      ],
      "text/plain": [
       "<IPython.core.display.HTML object>"
      ]
     },
     "metadata": {},
     "output_type": "display_data"
    },
    {
     "data": {
      "text/html": [
       "\n",
       "This product includes GeoLite2 data created by MaxMind, available from\n",
       "<a href=\"https://www.maxmind.com\">https://www.maxmind.com</a>.\n"
      ],
      "text/plain": [
       "<IPython.core.display.HTML object>"
      ]
     },
     "metadata": {},
     "output_type": "display_data"
    },
    {
     "data": {
      "text/html": [
       "\n",
       "This library uses services provided by ipstack.\n",
       "<a href=\"https://ipstack.com\">https://ipstack.com</a>"
      ],
      "text/plain": [
       "<IPython.core.display.HTML object>"
      ]
     },
     "metadata": {},
     "output_type": "display_data"
    }
   ],
   "source": [
    "from pathlib import Path\n",
    "from IPython.display import display, HTML\n",
    "import warnings\n",
    "warnings.simplefilter(action='ignore', category=FutureWarning)\n",
    "\n",
    "REQ_PYTHON_VER = \"3.6\"\n",
    "REQ_MSTICPY_VER = \"1.0.0\"\n",
    "REQ_MP_EXTRAS = [\"ml\"]\n",
    "\n",
    "\n",
    "display(HTML(\"<h3>Starting Notebook setup...</h3>\"))\n",
    "  \n",
    "import msticpy as mp\n",
    "mp.init_notebook(namespace=globals());\n"
   ]
  },
  {
   "cell_type": "markdown",
   "metadata": {},
   "source": [
    "## Retrieve sample data files"
   ]
  },
  {
   "cell_type": "code",
   "execution_count": 2,
   "metadata": {
    "gather": {
     "logged": 1618336504315
    }
   },
   "outputs": [
    {
     "name": "stderr",
     "output_type": "stream",
     "text": [
      "File download: 100%|Ã¢â€“Ë†Ã¢â€“Ë†Ã¢â€“Ë†Ã¢â€“Ë†Ã¢â€“Ë†Ã¢â€“Ë†Ã¢â€“Ë†Ã¢â€“Ë†Ã¢â€“Ë†Ã¢â€“Ë†| 4/4 [00:01<00:00,  3.76it/s]\n"
     ]
    }
   ],
   "source": [
    "from urllib.request import urlretrieve\n",
    "from pathlib import Path\n",
    "from tqdm.auto import tqdm\n",
    "\n",
    "github_uri = \"https://raw.githubusercontent.com/Azure/Azure-Sentinel-Notebooks/master/{file_name}\"\n",
    "github_files = {\n",
    "    \"exchange_admin.pkl\": \"src/data\",\n",
    "    \"processes_on_host.pkl\": \"src/data\",\n",
    "    \"timeseries.pkl\": \"src/data\",\n",
    "    \"data_queries.yaml\": \"src/data\",\n",
    "}\n",
    "\n",
    "Path(\"./src/data\").mkdir(exist_ok=True, parents=True)\n",
    "for file, path in tqdm(github_files.items(), desc=\"File download\"):\n",
    "    file_path = Path(path).joinpath(file)\n",
    "    url_path = f\"{path}/{file}\" if path else file\n",
    "    urlretrieve(\n",
    "        github_uri.format(file_name=url_path),\n",
    "        file_path\n",
    "    )\n",
    "    assert Path(file_path).is_file()"
   ]
  },
  {
   "cell_type": "markdown",
   "metadata": {},
   "source": [
    "<hr>\n",
    "\n",
    "# Time Series Analysis\n",
    "\n",
    "## Query network data\n",
    "The starting point is ingesting data to analyze.\n",
    "\n",
    "MSTICpy contains a number of [query providers](https://msticpy.readthedocs.io/en/latest/data_acquisition/DataProviders.html) \n",
    "that let you query and return data from several different sources. \n",
    "\n",
    "Below we are using the LocalData query provider to return data from sample files.<br><br>\n",
    "\n",
    "Data is returned in a Pandas [DataFrame](https://pandas.pydata.org/pandas-docs/stable/reference/api/pandas.DataFrame.html) for easy manipulation and to provide a common interface for other features in MSTICpy.<br>\n",
    "Here we are getting a summary of our network traffic for the time period we are interested in.\n"
   ]
  },
  {
   "cell_type": "code",
   "execution_count": 2,
   "metadata": {
    "gather": {
     "logged": 1618336448011
    }
   },
   "outputs": [
    {
     "data": {
      "application/vnd.jupyter.widget-view+json": {
       "model_id": "33e575b2134f4d81a8fdbab45e669122",
       "version_major": 2,
       "version_minor": 0
      },
      "text/plain": [
       "VBox(children=(HTML(value='<h4>Set query time boundaries</h4>'), HBox(children=(DatePicker(value=datetime.dateâ€¦"
      ]
     },
     "metadata": {},
     "output_type": "display_data"
    }
   ],
   "source": [
    "query_range = nbwidgets.QueryTime(\n",
    "    origin_time=pd.Timestamp(\"2020-07-13 00:00:00\"),\n",
    "    before=1,\n",
    "    units=\"week\"\n",
    ")\n",
    "query_range"
   ]
  },
  {
   "cell_type": "markdown",
   "metadata": {},
   "source": [
    "<hr>\n",
    "\n",
    "This query fetches the total number of bytes send outbound on the network, grouped by hour.\n",
    "\n",
    "The input to the Timeseries analysis needs to be in the form of:\n",
    "- a datetime index (in a regular interval like an hour or day)\n",
    "- a scalar value used to determine anomalous values based on periodicity\n"
   ]
  },
  {
   "cell_type": "code",
   "execution_count": 3,
   "metadata": {
    "gather": {
     "logged": 1618336452828
    }
   },
   "outputs": [
    {
     "name": "stdout",
     "output_type": "stream",
     "text": [
      "Connected.\n"
     ]
    },
    {
     "data": {
      "text/html": [
       "<p style='font-size: 130%'>Sample data:</p>"
      ],
      "text/plain": [
       "<IPython.core.display.HTML object>"
      ]
     },
     "metadata": {},
     "output_type": "display_data"
    },
    {
     "data": {
      "text/html": [
       "<div>\n",
       "<style scoped>\n",
       "    .dataframe tbody tr th:only-of-type {\n",
       "        vertical-align: middle;\n",
       "    }\n",
       "\n",
       "    .dataframe tbody tr th {\n",
       "        vertical-align: top;\n",
       "    }\n",
       "\n",
       "    .dataframe thead th {\n",
       "        text-align: right;\n",
       "    }\n",
       "</style>\n",
       "<table border=\"1\" class=\"dataframe\">\n",
       "  <thead>\n",
       "    <tr style=\"text-align: right;\">\n",
       "      <th></th>\n",
       "      <th>TotalBytesSent</th>\n",
       "    </tr>\n",
       "    <tr>\n",
       "      <th>TimeGenerated</th>\n",
       "      <th></th>\n",
       "    </tr>\n",
       "  </thead>\n",
       "  <tbody>\n",
       "    <tr>\n",
       "      <th>2020-07-06 00:00:00+00:00</th>\n",
       "      <td>10823</td>\n",
       "    </tr>\n",
       "    <tr>\n",
       "      <th>2020-07-06 01:00:00+00:00</th>\n",
       "      <td>14821</td>\n",
       "    </tr>\n",
       "    <tr>\n",
       "      <th>2020-07-06 02:00:00+00:00</th>\n",
       "      <td>13532</td>\n",
       "    </tr>\n",
       "  </tbody>\n",
       "</table>\n",
       "</div>"
      ],
      "text/plain": [
       "                          TotalBytesSent\n",
       "TimeGenerated                           \n",
       "2020-07-06 00:00:00+00:00          10823\n",
       "2020-07-06 01:00:00+00:00          14821\n",
       "2020-07-06 02:00:00+00:00          13532"
      ]
     },
     "execution_count": 3,
     "metadata": {},
     "output_type": "execute_result"
    }
   ],
   "source": [
    "# Initialize the data provider and connect to our Splunk instance.\n",
    "qry_prov = QueryProvider(\"LocalData\", data_paths=[\"./src/data\"], query_paths=[\"./src/data\"])\n",
    "qry_prov.connect()\n",
    "\n",
    "ob_bytes_per_hour = qry_prov.Network.get_network_summary(query_range)\n",
    "md(\"Sample data:\", \"large\")\n",
    "ob_bytes_per_hour.head(3)"
   ]
  },
  {
   "cell_type": "markdown",
   "metadata": {},
   "source": [
    "## Using Timeseries decomposition to detect anomalous network activity\n",
    "\n",
    "Below we use MSTICpy's [time series analysis](https://msticpy.readthedocs.io/en/latest/msticpy.analysis.html?highlight=timeseries#module-msticpy.analysis.timeseries) \n",
    "machine learning capabilities to identify anomalies in our network traffic for further investigation.<br>\n",
    "As well as computing anomalies we visualize the data so that we can more easily see where these anomalies present themselves.\n"
   ]
  },
  {
   "cell_type": "code",
   "execution_count": 4,
   "metadata": {
    "gather": {
     "logged": 1618336456021
    }
   },
   "outputs": [
    {
     "data": {
      "text/html": [
       "\n",
       "    <div class=\"bk-root\">\n",
       "        <a href=\"https://bokeh.org\" target=\"_blank\" class=\"bk-logo bk-logo-small bk-logo-notebook\"></a>\n",
       "        <span id=\"1002\">Loading BokehJS ...</span>\n",
       "    </div>"
      ]
     },
     "metadata": {},
     "output_type": "display_data"
    },
    {
     "data": {
      "application/javascript": [
       "\n",
       "(function(root) {\n",
       "  function now() {\n",
       "    return new Date();\n",
       "  }\n",
       "\n",
       "  const force = true;\n",
       "\n",
       "  if (typeof root._bokeh_onload_callbacks === \"undefined\" || force === true) {\n",
       "    root._bokeh_onload_callbacks = [];\n",
       "    root._bokeh_is_loading = undefined;\n",
       "  }\n",
       "\n",
       "  const JS_MIME_TYPE = 'application/javascript';\n",
       "  const HTML_MIME_TYPE = 'text/html';\n",
       "  const EXEC_MIME_TYPE = 'application/vnd.bokehjs_exec.v0+json';\n",
       "  const CLASS_NAME = 'output_bokeh rendered_html';\n",
       "\n",
       "  /**\n",
       "   * Render data to the DOM node\n",
       "   */\n",
       "  function render(props, node) {\n",
       "    const script = document.createElement(\"script\");\n",
       "    node.appendChild(script);\n",
       "  }\n",
       "\n",
       "  /**\n",
       "   * Handle when an output is cleared or removed\n",
       "   */\n",
       "  function handleClearOutput(event, handle) {\n",
       "    const cell = handle.cell;\n",
       "\n",
       "    const id = cell.output_area._bokeh_element_id;\n",
       "    const server_id = cell.output_area._bokeh_server_id;\n",
       "    // Clean up Bokeh references\n",
       "    if (id != null && id in Bokeh.index) {\n",
       "      Bokeh.index[id].model.document.clear();\n",
       "      delete Bokeh.index[id];\n",
       "    }\n",
       "\n",
       "    if (server_id !== undefined) {\n",
       "      // Clean up Bokeh references\n",
       "      const cmd_clean = \"from bokeh.io.state import curstate; print(curstate().uuid_to_server['\" + server_id + \"'].get_sessions()[0].document.roots[0]._id)\";\n",
       "      cell.notebook.kernel.execute(cmd_clean, {\n",
       "        iopub: {\n",
       "          output: function(msg) {\n",
       "            const id = msg.content.text.trim();\n",
       "            if (id in Bokeh.index) {\n",
       "              Bokeh.index[id].model.document.clear();\n",
       "              delete Bokeh.index[id];\n",
       "            }\n",
       "          }\n",
       "        }\n",
       "      });\n",
       "      // Destroy server and session\n",
       "      const cmd_destroy = \"import bokeh.io.notebook as ion; ion.destroy_server('\" + server_id + \"')\";\n",
       "      cell.notebook.kernel.execute(cmd_destroy);\n",
       "    }\n",
       "  }\n",
       "\n",
       "  /**\n",
       "   * Handle when a new output is added\n",
       "   */\n",
       "  function handleAddOutput(event, handle) {\n",
       "    const output_area = handle.output_area;\n",
       "    const output = handle.output;\n",
       "\n",
       "    // limit handleAddOutput to display_data with EXEC_MIME_TYPE content only\n",
       "    if ((output.output_type != \"display_data\") || (!Object.prototype.hasOwnProperty.call(output.data, EXEC_MIME_TYPE))) {\n",
       "      return\n",
       "    }\n",
       "\n",
       "    const toinsert = output_area.element.find(\".\" + CLASS_NAME.split(' ')[0]);\n",
       "\n",
       "    if (output.metadata[EXEC_MIME_TYPE][\"id\"] !== undefined) {\n",
       "      toinsert[toinsert.length - 1].firstChild.textContent = output.data[JS_MIME_TYPE];\n",
       "      // store reference to embed id on output_area\n",
       "      output_area._bokeh_element_id = output.metadata[EXEC_MIME_TYPE][\"id\"];\n",
       "    }\n",
       "    if (output.metadata[EXEC_MIME_TYPE][\"server_id\"] !== undefined) {\n",
       "      const bk_div = document.createElement(\"div\");\n",
       "      bk_div.innerHTML = output.data[HTML_MIME_TYPE];\n",
       "      const script_attrs = bk_div.children[0].attributes;\n",
       "      for (let i = 0; i < script_attrs.length; i++) {\n",
       "        toinsert[toinsert.length - 1].firstChild.setAttribute(script_attrs[i].name, script_attrs[i].value);\n",
       "        toinsert[toinsert.length - 1].firstChild.textContent = bk_div.children[0].textContent\n",
       "      }\n",
       "      // store reference to server id on output_area\n",
       "      output_area._bokeh_server_id = output.metadata[EXEC_MIME_TYPE][\"server_id\"];\n",
       "    }\n",
       "  }\n",
       "\n",
       "  function register_renderer(events, OutputArea) {\n",
       "\n",
       "    function append_mime(data, metadata, element) {\n",
       "      // create a DOM node to render to\n",
       "      const toinsert = this.create_output_subarea(\n",
       "        metadata,\n",
       "        CLASS_NAME,\n",
       "        EXEC_MIME_TYPE\n",
       "      );\n",
       "      this.keyboard_manager.register_events(toinsert);\n",
       "      // Render to node\n",
       "      const props = {data: data, metadata: metadata[EXEC_MIME_TYPE]};\n",
       "      render(props, toinsert[toinsert.length - 1]);\n",
       "      element.append(toinsert);\n",
       "      return toinsert\n",
       "    }\n",
       "\n",
       "    /* Handle when an output is cleared or removed */\n",
       "    events.on('clear_output.CodeCell', handleClearOutput);\n",
       "    events.on('delete.Cell', handleClearOutput);\n",
       "\n",
       "    /* Handle when a new output is added */\n",
       "    events.on('output_added.OutputArea', handleAddOutput);\n",
       "\n",
       "    /**\n",
       "     * Register the mime type and append_mime function with output_area\n",
       "     */\n",
       "    OutputArea.prototype.register_mime_type(EXEC_MIME_TYPE, append_mime, {\n",
       "      /* Is output safe? */\n",
       "      safe: true,\n",
       "      /* Index of renderer in `output_area.display_order` */\n",
       "      index: 0\n",
       "    });\n",
       "  }\n",
       "\n",
       "  // register the mime type if in Jupyter Notebook environment and previously unregistered\n",
       "  if (root.Jupyter !== undefined) {\n",
       "    const events = require('base/js/events');\n",
       "    const OutputArea = require('notebook/js/outputarea').OutputArea;\n",
       "\n",
       "    if (OutputArea.prototype.mime_types().indexOf(EXEC_MIME_TYPE) == -1) {\n",
       "      register_renderer(events, OutputArea);\n",
       "    }\n",
       "  }\n",
       "\n",
       "  \n",
       "  if (typeof (root._bokeh_timeout) === \"undefined\" || force === true) {\n",
       "    root._bokeh_timeout = Date.now() + 5000;\n",
       "    root._bokeh_failed_load = false;\n",
       "  }\n",
       "\n",
       "  const NB_LOAD_WARNING = {'data': {'text/html':\n",
       "     \"<div style='background-color: #fdd'>\\n\"+\n",
       "     \"<p>\\n\"+\n",
       "     \"BokehJS does not appear to have successfully loaded. If loading BokehJS from CDN, this \\n\"+\n",
       "     \"may be due to a slow or bad network connection. Possible fixes:\\n\"+\n",
       "     \"</p>\\n\"+\n",
       "     \"<ul>\\n\"+\n",
       "     \"<li>re-rerun `output_notebook()` to attempt to load from CDN again, or</li>\\n\"+\n",
       "     \"<li>use INLINE resources instead, as so:</li>\\n\"+\n",
       "     \"</ul>\\n\"+\n",
       "     \"<code>\\n\"+\n",
       "     \"from bokeh.resources import INLINE\\n\"+\n",
       "     \"output_notebook(resources=INLINE)\\n\"+\n",
       "     \"</code>\\n\"+\n",
       "     \"</div>\"}};\n",
       "\n",
       "  function display_loaded() {\n",
       "    const el = document.getElementById(\"1002\");\n",
       "    if (el != null) {\n",
       "      el.textContent = \"BokehJS is loading...\";\n",
       "    }\n",
       "    if (root.Bokeh !== undefined) {\n",
       "      if (el != null) {\n",
       "        el.textContent = \"BokehJS \" + root.Bokeh.version + \" successfully loaded.\";\n",
       "      }\n",
       "    } else if (Date.now() < root._bokeh_timeout) {\n",
       "      setTimeout(display_loaded, 100)\n",
       "    }\n",
       "  }\n",
       "\n",
       "\n",
       "  function run_callbacks() {\n",
       "    try {\n",
       "      root._bokeh_onload_callbacks.forEach(function(callback) {\n",
       "        if (callback != null)\n",
       "          callback();\n",
       "      });\n",
       "    } finally {\n",
       "      delete root._bokeh_onload_callbacks\n",
       "    }\n",
       "    console.debug(\"Bokeh: all callbacks have finished\");\n",
       "  }\n",
       "\n",
       "  function load_libs(css_urls, js_urls, callback) {\n",
       "    if (css_urls == null) css_urls = [];\n",
       "    if (js_urls == null) js_urls = [];\n",
       "\n",
       "    root._bokeh_onload_callbacks.push(callback);\n",
       "    if (root._bokeh_is_loading > 0) {\n",
       "      console.debug(\"Bokeh: BokehJS is being loaded, scheduling callback at\", now());\n",
       "      return null;\n",
       "    }\n",
       "    if (js_urls == null || js_urls.length === 0) {\n",
       "      run_callbacks();\n",
       "      return null;\n",
       "    }\n",
       "    console.debug(\"Bokeh: BokehJS not loaded, scheduling load and callback at\", now());\n",
       "    root._bokeh_is_loading = css_urls.length + js_urls.length;\n",
       "\n",
       "    function on_load() {\n",
       "      root._bokeh_is_loading--;\n",
       "      if (root._bokeh_is_loading === 0) {\n",
       "        console.debug(\"Bokeh: all BokehJS libraries/stylesheets loaded\");\n",
       "        run_callbacks()\n",
       "      }\n",
       "    }\n",
       "\n",
       "    function on_error(url) {\n",
       "      console.error(\"failed to load \" + url);\n",
       "    }\n",
       "\n",
       "    for (let i = 0; i < css_urls.length; i++) {\n",
       "      const url = css_urls[i];\n",
       "      const element = document.createElement(\"link\");\n",
       "      element.onload = on_load;\n",
       "      element.onerror = on_error.bind(null, url);\n",
       "      element.rel = \"stylesheet\";\n",
       "      element.type = \"text/css\";\n",
       "      element.href = url;\n",
       "      console.debug(\"Bokeh: injecting link tag for BokehJS stylesheet: \", url);\n",
       "      document.body.appendChild(element);\n",
       "    }\n",
       "\n",
       "    for (let i = 0; i < js_urls.length; i++) {\n",
       "      const url = js_urls[i];\n",
       "      const element = document.createElement('script');\n",
       "      element.onload = on_load;\n",
       "      element.onerror = on_error.bind(null, url);\n",
       "      element.async = false;\n",
       "      element.src = url;\n",
       "      console.debug(\"Bokeh: injecting script tag for BokehJS library: \", url);\n",
       "      document.head.appendChild(element);\n",
       "    }\n",
       "  };\n",
       "\n",
       "  function inject_raw_css(css) {\n",
       "    const element = document.createElement(\"style\");\n",
       "    element.appendChild(document.createTextNode(css));\n",
       "    document.body.appendChild(element);\n",
       "  }\n",
       "\n",
       "  \n",
       "  const js_urls = [\"https://cdn.bokeh.org/bokeh/release/bokeh-2.4.2.min.js\", \"https://cdn.bokeh.org/bokeh/release/bokeh-gl-2.4.2.min.js\", \"https://cdn.bokeh.org/bokeh/release/bokeh-widgets-2.4.2.min.js\", \"https://cdn.bokeh.org/bokeh/release/bokeh-tables-2.4.2.min.js\", \"https://cdn.bokeh.org/bokeh/release/bokeh-mathjax-2.4.2.min.js\"];\n",
       "  const css_urls = [];\n",
       "  \n",
       "\n",
       "  const inline_js = [\n",
       "    function(Bokeh) {\n",
       "      Bokeh.set_log_level(\"info\");\n",
       "    },\n",
       "    function(Bokeh) {\n",
       "    \n",
       "    \n",
       "    }\n",
       "  ];\n",
       "\n",
       "  function run_inline_js() {\n",
       "    \n",
       "    if (root.Bokeh !== undefined || force === true) {\n",
       "      \n",
       "    for (let i = 0; i < inline_js.length; i++) {\n",
       "      inline_js[i].call(root, root.Bokeh);\n",
       "    }\n",
       "    if (force === true) {\n",
       "        display_loaded();\n",
       "      }} else if (Date.now() < root._bokeh_timeout) {\n",
       "      setTimeout(run_inline_js, 100);\n",
       "    } else if (!root._bokeh_failed_load) {\n",
       "      console.log(\"Bokeh: BokehJS failed to load within specified timeout.\");\n",
       "      root._bokeh_failed_load = true;\n",
       "    } else if (force !== true) {\n",
       "      const cell = $(document.getElementById(\"1002\")).parents('.cell').data().cell;\n",
       "      cell.output_area.append_execute_result(NB_LOAD_WARNING)\n",
       "    }\n",
       "\n",
       "  }\n",
       "\n",
       "  if (root._bokeh_is_loading === 0) {\n",
       "    console.debug(\"Bokeh: BokehJS loaded, going straight to plotting\");\n",
       "    run_inline_js();\n",
       "  } else {\n",
       "    load_libs(css_urls, js_urls, function() {\n",
       "      console.debug(\"Bokeh: BokehJS plotting callback run at\", now());\n",
       "      run_inline_js();\n",
       "    });\n",
       "  }\n",
       "}(window));"
      ],
      "application/vnd.bokehjs_load.v0+json": ""
     },
     "metadata": {},
     "output_type": "display_data"
    },
    {
     "data": {
      "text/html": [
       "\n",
       "\n",
       "\n",
       "\n",
       "\n",
       "\n",
       "  <div class=\"bk-root\" id=\"40b75b1d-522d-4ded-b764-8a0d0f6bfe66\" data-root-id=\"1157\"></div>\n"
      ]
     },
     "metadata": {},
     "output_type": "display_data"
    },
    {
     "data": {
      "application/javascript": [
       "(function(root) {\n",
       "  function embed_document(root) {\n",
       "    \n",
       "  const docs_json = {\"bd01492d-db84-491b-8411-6dbe19048924\":{\"defs\":[],\"roots\":{\"references\":[{\"attributes\":{\"children\":[{\"id\":\"1005\"},{\"id\":\"1126\"}]},\"id\":\"1157\",\"type\":\"Column\"},{\"attributes\":{\"below\":[{\"id\":\"1016\"}],\"center\":[{\"id\":\"1019\"},{\"id\":\"1023\"},{\"id\":\"1067\"}],\"height\":300,\"left\":[{\"id\":\"1020\"}],\"min_border_left\":50,\"renderers\":[{\"id\":\"1045\"},{\"id\":\"1073\"},{\"id\":\"1101\"}],\"title\":{\"id\":\"1006\"},\"toolbar\":{\"id\":\"1030\"},\"toolbar_location\":\"above\",\"width\":1200,\"x_range\":{\"id\":\"1008\"},\"x_scale\":{\"id\":\"1012\"},\"y_range\":{\"id\":\"1010\"},\"y_scale\":{\"id\":\"1014\"}},\"id\":\"1005\",\"subtype\":\"Figure\",\"type\":\"Plot\"},{\"attributes\":{\"format\":\"00\"},\"id\":\"1039\",\"type\":\"NumeralTickFormatter\"},{\"attributes\":{\"mantissas\":[1,2,5],\"max_interval\":500.0,\"num_minor_ticks\":0},\"id\":\"1055\",\"type\":\"AdaptiveTicker\"},{\"attributes\":{\"line_alpha\":0.1,\"line_color\":\"green\",\"x\":{\"field\":\"TimeGenerated\"},\"y\":{\"field\":\"baseline\"}},\"id\":\"1071\",\"type\":\"Line\"},{\"attributes\":{\"num_minor_ticks\":10,\"tickers\":[{\"id\":\"1055\"},{\"id\":\"1056\"},{\"id\":\"1057\"},{\"id\":\"1058\"},{\"id\":\"1059\"},{\"id\":\"1060\"},{\"id\":\"1061\"},{\"id\":\"1062\"},{\"id\":\"1063\"},{\"id\":\"1064\"},{\"id\":\"1065\"},{\"id\":\"1066\"}]},\"id\":\"1017\",\"type\":\"DatetimeTicker\"},{\"attributes\":{\"end\":1594624860000.0,\"start\":1593963540000.0},\"id\":\"1008\",\"type\":\"Range1d\"},{\"attributes\":{\"active_multi\":{\"id\":\"1152\"},\"tools\":[{\"id\":\"1152\"}]},\"id\":\"1141\",\"type\":\"Toolbar\"},{\"attributes\":{\"line_color\":\"green\",\"x\":{\"field\":\"TimeGenerated\"},\"y\":{\"field\":\"baseline\"}},\"id\":\"1070\",\"type\":\"Line\"},{\"attributes\":{\"base\":60,\"mantissas\":[1,2,5,10,15,20,30],\"max_interval\":1800000.0,\"min_interval\":1000.0,\"num_minor_ticks\":0},\"id\":\"1056\",\"type\":\"AdaptiveTicker\"},{\"attributes\":{},\"id\":\"1010\",\"type\":\"DataRange1d\"},{\"attributes\":{\"source\":{\"id\":\"1003\"}},\"id\":\"1074\",\"type\":\"CDSView\"},{\"attributes\":{\"days\":[1,8,15,22]},\"id\":\"1060\",\"type\":\"DaysTicker\"},{\"attributes\":{\"axis_label\":\"TotalBytesSent\",\"coordinates\":null,\"formatter\":{\"id\":\"1039\"},\"group\":null,\"major_label_policy\":{\"id\":\"1049\"},\"ticker\":{\"id\":\"1021\"}},\"id\":\"1020\",\"type\":\"LinearAxis\"},{\"attributes\":{\"num_minor_ticks\":5,\"tickers\":[{\"id\":\"1186\"},{\"id\":\"1187\"},{\"id\":\"1188\"},{\"id\":\"1189\"},{\"id\":\"1190\"},{\"id\":\"1191\"},{\"id\":\"1192\"},{\"id\":\"1193\"},{\"id\":\"1194\"},{\"id\":\"1195\"},{\"id\":\"1196\"},{\"id\":\"1197\"}]},\"id\":\"1138\",\"type\":\"DatetimeTicker\"},{\"attributes\":{\"base\":24,\"mantissas\":[1,2,4,6,8,12],\"max_interval\":43200000.0,\"min_interval\":3600000.0,\"num_minor_ticks\":0},\"id\":\"1057\",\"type\":\"AdaptiveTicker\"},{\"attributes\":{\"axis\":{\"id\":\"1137\"},\"coordinates\":null,\"group\":null,\"ticker\":null},\"id\":\"1140\",\"type\":\"Grid\"},{\"attributes\":{\"line_alpha\":0.2,\"line_color\":\"green\",\"x\":{\"field\":\"TimeGenerated\"},\"y\":{\"field\":\"baseline\"}},\"id\":\"1072\",\"type\":\"Line\"},{\"attributes\":{},\"id\":\"1066\",\"type\":\"YearsTicker\"},{\"attributes\":{\"days\":[1,4,7,10,13,16,19,22,25,28]},\"id\":\"1059\",\"type\":\"DaysTicker\"},{\"attributes\":{\"axis_label\":\"TimeGenerated\",\"coordinates\":null,\"formatter\":{\"id\":\"1037\"},\"group\":null,\"major_label_policy\":{\"id\":\"1051\"},\"ticker\":{\"id\":\"1017\"}},\"id\":\"1016\",\"type\":\"DatetimeAxis\"},{\"attributes\":{\"days\":[1,2,3,4,5,6,7,8,9,10,11,12,13,14,15,16,17,18,19,20,21,22,23,24,25,26,27,28,29,30,31]},\"id\":\"1058\",\"type\":\"DaysTicker\"},{\"attributes\":{\"coordinates\":null,\"group\":null,\"text\":\"Time Series Anomalies Visualization\"},\"id\":\"1006\",\"type\":\"Title\"},{\"attributes\":{\"coordinates\":null,\"group\":null,\"text\":\"Range Selector\"},\"id\":\"1127\",\"type\":\"Title\"},{\"attributes\":{\"data\":{\"TimeGenerated\":{\"__ndarray__\":\"AADAwRYyd0IAAKgwGjJ3QgAAkJ8dMndCAAB4DiEyd0IAAGB9JDJ3QgAASOwnMndCAAAwWysyd0IAABjKLjJ3QgAAADkyMndCAADopzUyd0IAANAWOTJ3QgAAuIU8MndCAACg9D8yd0IAAIhjQzJ3QgAAcNJGMndCAABYQUoyd0IAAECwTTJ3QgAAKB9RMndCAAAQjlQyd0IAAPj8VzJ3QgAA4GtbMndCAADI2l4yd0IAALBJYjJ3QgAAmLhlMndCAACAJ2kyd0IAAGiWbDJ3QgAAUAVwMndCAAA4dHMyd0IAACDjdjJ3QgAACFJ6MndCAADwwH0yd0IAANgvgTJ3QgAAwJ6EMndCAACoDYgyd0IAAJB8izJ3QgAAeOuOMndCAABgWpIyd0IAAEjJlTJ3QgAAMDiZMndCAAAYp5wyd0IAAAAWoDJ3QgAA6ISjMndCAADQ86Yyd0IAALhiqjJ3QgAAoNGtMndCAACIQLEyd0IAAHCvtDJ3QgAAWB64MndCAABAjbsyd0IAACj8vjJ3QgAAEGvCMndCAAD42cUyd0IAAOBIyTJ3QgAAyLfMMndCAACwJtAyd0IAAJiV0zJ3QgAAgATXMndCAABoc9oyd0IAAFDi3TJ3QgAAOFHhMndCAAAgwOQyd0IAAAgv6DJ3QgAA8J3rMndCAADYDO8yd0IAAMB78jJ3QgAAqOr1MndCAACQWfkyd0IAAHjI/DJ3QgAAYDcAM3dCAABIpgMzd0IAADAVBzN3QgAAGIQKM3dCAAAA8w0zd0IAAOhhETN3QgAA0NAUM3dCAAC4Pxgzd0IAAKCuGzN3QgAAiB0fM3dCAABwjCIzd0IAAFj7JTN3QgAAQGopM3dCAAAo2Swzd0IAABBIMDN3QgAA+LYzM3dCAADgJTczd0IAAMiUOjN3QgAAsAM+M3dCAACYckEzd0IAAIDhRDN3QgAAaFBIM3dCAABQv0szd0IAADguTzN3QgAAIJ1SM3dCAAAIDFYzd0IAAPB6WTN3QgAA2OlcM3dCAADAWGAzd0IAAKjHYzN3QgAAkDZnM3dCAAB4pWozd0IAAGAUbjN3QgAASINxM3dCAAAw8nQzd0IAABhheDN3QgAAANB7M3dCAADoPn8zd0IAANCtgjN3QgAAuByGM3dCAACgi4kzd0IAAIj6jDN3QgAAcGmQM3dCAABY2JMzd0IAAEBHlzN3QgAAKLaaM3dCAAAQJZ4zd0IAAPiToTN3QgAA4AKlM3dCAADIcagzd0IAALDgqzN3QgAAmE+vM3dCAACAvrIzd0IAAGgttjN3QgAAUJy5M3dCAAA4C70zd0IAACB6wDN3QgAACOnDM3dCAADwV8czd0IAANjGyjN3QgAAwDXOM3dCAACopNEzd0IAAJAT1TN3QgAAeILYM3dCAABg8dszd0IAAEhg3zN3QgAAMM/iM3dCAAAYPuYzd0IAAACt6TN3QgAA6BvtM3dCAADQivAzd0IAALj58zN3QgAAoGj3M3dCAACI1/ozd0IAAHBG/jN3QgAAWLUBNHdCAABAJAU0d0IAACiTCDR3QgAAEAIMNHdCAAD4cA80d0IAAODfEjR3QgAAyE4WNHdCAACwvRk0d0IAAJgsHTR3QgAAgJsgNHdCAABoCiQ0d0IAAFB5JzR3QgAAOOgqNHdCAAAgVy40d0IAAAjGMTR3QgAA8DQ1NHdCAADYozg0d0IAAMASPDR3QgAAqIE/NHdCAACQ8EI0d0IAAHhfRjR3QgAAYM5JNHdCAABIPU00d0IAADCsUDR3QgAAGBtUNHdC\",\"dtype\":\"float64\",\"order\":\"little\",\"shape\":[168]},\"TotalBytesSent\":[10823,14821,13532,11947,11193,13257,13375,27975,31501,28775,31398,32979,32241,33539,28420,25757,30947,27803,29637,29670,11563,13465,13587,14967,12964,13858,13119,13907,12739,11227,11268,31322,26683,32982,32544,31414,28254,29893,31290,28334,26328,26448,30576,30793,10484,14995,11715,11296,10487,10789,14758,10998,10682,14572,13689,34167,27286,33955,33700,26810,30679,31533,33739,32815,26046,27499,33974,29118,12821,12836,13819,14877,14220,10053,14690,13161,14334,12806,11771,25544,27355,33777,27055,27816,32648,25686,32147,33363,28923,31547,33575,26369,14754,10415,10286,12086,11414,14915,14479,14063,13211,12485,14759,26964,31469,26214,33556,32596,25150,31064,25338,25714,26089,25673,48616,45856,11654,13127,12184,14179,13841,11097,13724,10535,10022,12570,14145,18473,19477,19080,17622,18725,17612,19733,19338,18656,17732,17801,16167,16485,11455,10545,13991,10699,12735,12639,14501,12477,11497,10081,11729,18121,17458,18104,16508,17814,16494,17588,18545,19534,16085,15276,15363,18166,13830,13350,11842,11111],\"anomalies\":[0,0,0,0,0,0,0,0,0,0,0,0,0,0,0,0,0,0,0,0,0,0,0,0,0,0,0,0,0,0,0,0,0,0,0,0,0,0,0,0,0,0,0,0,0,0,0,0,0,0,0,0,0,0,0,0,0,0,0,0,0,0,0,0,0,0,0,0,0,0,0,0,0,0,0,0,0,0,0,0,0,0,0,0,0,0,0,0,0,0,0,0,0,0,0,0,0,0,0,0,0,0,0,0,0,0,0,0,0,0,0,0,0,0,1,1,0,0,0,0,0,0,0,0,0,0,0,0,0,0,0,0,0,0,0,0,0,0,0,0,0,0,0,0,0,0,0,0,0,0,0,0,0,0,0,0,0,0,0,0,0,0,0,0,0,0,0,0],\"baseline\":[11187,14007,13280,12238,11314,12641,12350,30664,29442,31531,32547,32060,31540,32721,30726,27678,29255,27470,28928,28791,10907,13894,12754,13436,11796,13334,13807,12503,11862,12800,12552,29979,28690,31444,31693,30566,30470,31010,30430,28406,28016,27368,31130,29511,11469,13234,12458,13336,12055,12579,14104,12723,12402,13021,13045,29441,28468,31613,31518,30080,30103,30386,30901,29854,27887,28203,34349,31499,12950,13611,13072,13965,12753,12328,14733,12960,12805,13258,13457,28209,27735,30514,30198,28394,28438,28562,29639,29520,26364,27468,35919,32037,13313,12912,13020,14080,14269,13789,16208,14404,14225,14694,15656,26848,27373,28686,28393,27900,27131,27913,28314,28378,25707,26105,32232,29906,14825,13953,14045,13866,14136,13332,15009,12709,11857,11592,12842,20300,21208,20687,20314,20820,18816,20331,19942,20270,18209,18082,22571,22484,11144,10574,10923,10288,11477,11094,12823,10765,9983,9851,12111,16511,18096,16513,16469,18378,15622,18256,17387,18026,16531,15796,17900,20157,13089,12694,13044,11487],\"index\":[0,1,2,3,4,5,6,7,8,9,10,11,12,13,14,15,16,17,18,19,20,21,22,23,24,25,26,27,28,29,30,31,32,33,34,35,36,37,38,39,40,41,42,43,44,45,46,47,48,49,50,51,52,53,54,55,56,57,58,59,60,61,62,63,64,65,66,67,68,69,70,71,72,73,74,75,76,77,78,79,80,81,82,83,84,85,86,87,88,89,90,91,92,93,94,95,96,97,98,99,100,101,102,103,104,105,106,107,108,109,110,111,112,113,114,115,116,117,118,119,120,121,122,123,124,125,126,127,128,129,130,131,132,133,134,135,136,137,138,139,140,141,142,143,144,145,146,147,148,149,150,151,152,153,154,155,156,157,158,159,160,161,162,163,164,165,166,167],\"residual\":[-364,813,251,-291,-121,615,1024,-2689,2058,-2756,-1149,918,700,817,-2306,-1921,1691,332,708,878,655,-429,832,1530,1167,523,-688,1403,876,-1573,-1284,1342,-2007,1537,850,847,-2216,-1117,859,-72,-1688,-920,-554,1281,-985,1760,-743,-2040,-1568,-1790,653,-1725,-1720,1550,643,4725,-1182,2341,2181,-3270,575,1146,2837,2960,-1841,-704,-375,-2381,-129,-775,746,911,1466,-2275,-43,200,1528,-452,-1686,-2665,-380,3262,-3143,-578,4209,-2876,2507,3842,2558,4078,-2344,-5668,1440,-2497,-2734,-1994,-2855,1125,-1729,-341,-1014,-2209,-897,115,4095,-2472,5162,4695,-1981,3150,-2976,-2664,381,-432,16383,15949,-3171,-826,-1861,312,-295,-2235,-1285,-2174,-1835,977,1302,-1827,-1731,-1607,-2692,-2095,-1204,-598,-604,-1614,-477,-281,-6404,-5999,310,-29,3067,410,1257,1544,1677,1711,1513,229,-382,1609,-638,1590,38,-564,871,-668,1157,1507,-446,-520,-2537,-1991,740,655,-1202,-376],\"score\":{\"__ndarray__\":\"wXsqBZ0ywr+h30T8qIXTPy3+xdGRbLc/Qy/71X1Lvb/w3KS70YSpvwZYxigsas0/H8eTFymn2D/p2TyNrWjwvwJVXrD35eg/q6FE3vLQ8L99K6a3BjDcv3UMLTlME9Y/HERoszjG0D/6Fj+Cj57TPyOaTsw+Key/nvKk3Oh6578FqiduqG/kPy+B8TWCTb8/zbJcvwX40D8A42b9ShrVP/GqUqAuXM8/foJuB+Fbxb+GZqn47/vTPy8Q3CWJeuI/vQFFTVoh3D8eZtAVwPDIP+PAwOY++tC/kuH3lj3v4D9Ux2m61w3VPxOLoBi9P+O/afdi4Wp437+P+2PZXzHgP5XF5vyWhui/nQAX21KQ4j+UX49T/WvUPxK2E29QWdQ/f6sPaR0R67+5cNSH0mjbvxtcAgEEpNQ/G1q34yT5n7+rZo3erqXkv/JKcUF5nta/mwUFvShwy78YK6A3BOfeP1BOk0IbM9i/Yce1sWxG5T/kOfGYoFDSv+PpjuVN7ei/eyjkBC0w479UqMMKKuPlv5hzWBpIQ88/paYyCtkY5b8NRHb2SAnlv42azXTJuOI/3l51fMfGzj/1E4s0lan8Pxh09oh0/dy/3brRc9JW7D/zZ0X8z2TqP6fTSm7g8PO/HAU6sSl4yz8sX+MNoJ7bPyeRNXNTL/E/oBopmb/u8T8oyd6g54Hmv0Weqf7YXdG/KKwK5pC7wr8BYVj0rxLtv3lSSBs6E6u/qfTCyNQX07+WwCW4k+TRP5ort86459U/a1UK9lSz4T+sAyWFwcjrv/1FVi6wsJS/ivfsIKV2sj9Zgl2ET3TiP/j+Kww8esa/1dgOPXWf5L/khkXEU0Pwv4U2/DTR+cK/R+/7ub7E8z9ZvNimOivzv8GdvwT3msy/DpvF04qG+T/DQBnLs4vxv0q32c+BW+4/kEWqMmNL9z8f2PRlP/ruP+r11Gqruvg/ByGzyIWf7L9O/RMPa0IBwIshncJnYuE/hYMEi7577r+SlQzmta7wv6YrMGMgXui/H9hAOwVr8b+bvIHO5RvbP1HCL01MJeW/R/9sAEIUwb+RX+mNoufYvxK71LNT++q/tYwSv0sP1r9ILrFJNWSkP7jQLlkg1fg/kJZWKO4t7r+XG81frVH/Py/sVfnkevw/tpF5yak16L/bayQQcRbzP60adZBUJ/K/buPlW8VB8L+QDGvt0AjCP4PVZdA6gcW/lDb1kSziGEBDb2xVUTkYQDSdThHOVvO/UTb59E9V1L+GU9DvJ8Dmv0QuZb5/W70/pQzk7Revvb/x7kHnQEzrvz+F4YKkft+/7giuKWOO6r+mH2O8Om/mv8+8V3GUgtc/qc0Bd75p3z9N6Gg2VFbmvydQru6FK+W/S/YH0pCp479JxFvGWG3wv2Qmp75+mOm/f6TWaWiG3b83x4VA+JPNv0BtdNKr3s2/uOZCh1q/47/LsuOWfbHHv84FNZp8Ury/QvaOGCF/A8DJKeiI+0MCwJO/cLKyKb0/P1U0v4V8jr/AbCI5RZXyPxQvF4TfccM/Bd/CE51R3j8K8VGQHKbiPyrJsQMVROQ/YjQZveit5D+TWihJn0XiP5E8RU7CSLU/3W32urcSw7+68uKQbXDjPyEaErj6hc+/R6+wEko14z8cjK/EIqaFP1Ya6Fqp7Mu/JQLxkrfu1D8prN1Ivn3Qv193U/4Z49s/EbGsZPIy4j/uWD16iC/Gv7pYZ9fZyMm/P5jnKD/47r/kVvLwyVTov5JtLu85v9E/8apSoC5czz/SiNkm9Xndv9THBykEyMK/\",\"dtype\":\"float64\",\"order\":\"little\",\"shape\":[168]},\"seasonal\":[-10756,-7953,-8697,-9756,-10696,-9384,-9691,8607,7371,9446,10451,9953,9422,10593,8591,5536,7107,5316,6769,6628,-11261,-8280,-9428,-8756,-10385,-8835,-8347,-9634,-10254,-9288,-9505,7958,6710,9506,9796,8706,8644,9210,8648,6634,6245,5590,9335,7690,-10386,-8661,-9482,-8650,-9974,-9493,-8009,-9429,-9788,-9206,-9218,7140,6131,9240,9113,7648,7648,7913,8416,7361,5392,5710,11862,9021,-9516,-8842,-9364,-8452,-9641,-10039,-7602,-9339,-9454,-8958,-8714,6084,5661,8490,8223,6463,6546,6699,7796,7686,4528,5618,14048,10140,-8612,-9048,-8988,-7986,-7865,-8418,-6074,-7950,-8193,-7776,-6853,4315,4832,6151,5880,5424,4709,5565,6062,6248,3727,4303,10633,8532,-6302,-6906,-6524,-6391,-5789,-6245,-4208,-6142,-6629,-6534,-4936,2855,4081,3858,3764,4527,2756,4475,4259,4727,2775,2730,7286,7253,-4041,-4576,-4198,-4811,-3607,-3979,-2234,-4275,-5042,-5159,-2886,1527,3124,1555,1525,3449,709,3359,2509,3168,1695,982,3111,5395,-1643,-2008,-1625,-3149],\"trend\":[21943,21961,21977,21994,22010,22026,22042,22056,22070,22084,22096,22107,22117,22127,22135,22142,22148,22154,22158,22163,22168,22174,22182,22193,22181,22169,22155,22137,22116,22089,22058,22021,21980,21938,21897,21859,21826,21799,21781,21771,21770,21777,21795,21821,21855,21896,21941,21986,22030,22073,22114,22153,22191,22227,22264,22300,22337,22372,22404,22432,22455,22473,22485,22492,22495,22493,22487,22477,22466,22453,22437,22417,22394,22367,22335,22299,22259,22217,22172,22124,22074,22024,21975,21930,21892,21863,21843,21834,21836,21849,21870,21896,21925,21961,22008,22066,22134,22208,22283,22355,22418,22471,22509,22533,22541,22534,22512,22475,22421,22348,22252,22129,21979,21801,21598,21373,21128,20860,20570,20257,19925,19577,19217,18852,18486,18127,17778,17444,17127,16828,16549,16292,16060,15855,15682,15542,15434,15351,15285,15231,15186,15150,15121,15100,15085,15074,15058,15041,15025,15011,14997,14984,14971,14957,14943,14929,14913,14896,14877,14858,14836,14813,14788,14761,14733,14702,14670,14636],\"weights\":[1,1,1,1,1,1,1,1,1,1,1,1,1,1,1,1,1,1,1,1,1,1,1,1,1,1,1,1,1,1,1,1,1,1,1,1,1,1,1,1,1,1,1,1,1,1,1,1,1,1,1,1,1,1,1,1,1,1,1,1,1,1,1,1,1,1,1,1,1,1,1,1,1,1,1,1,1,1,1,1,1,1,1,1,1,1,1,1,1,1,1,1,1,1,1,1,1,1,1,1,1,1,1,1,1,1,1,1,1,1,1,1,1,1,1,1,1,1,1,1,1,1,1,1,1,1,1,1,1,1,1,1,1,1,1,1,1,1,1,1,1,1,1,1,1,1,1,1,1,1,1,1,1,1,1,1,1,1,1,1,1,1,1,1,1,1,1,1]},\"selected\":{\"id\":\"1184\"},\"selection_policy\":{\"id\":\"1183\"}},\"id\":\"1145\",\"type\":\"ColumnDataSource\"},{\"attributes\":{\"months\":[0,6]},\"id\":\"1065\",\"type\":\"MonthsTicker\"},{\"attributes\":{},\"id\":\"1014\",\"type\":\"LinearScale\"},{\"attributes\":{\"days\":[1,15]},\"id\":\"1061\",\"type\":\"DaysTicker\"},{\"attributes\":{},\"id\":\"1012\",\"type\":\"LinearScale\"},{\"attributes\":{\"coordinates\":null,\"formatter\":{\"id\":\"1143\"},\"group\":null,\"major_label_policy\":{\"id\":\"1165\"},\"ticker\":{\"id\":\"1138\"}},\"id\":\"1137\",\"type\":\"DatetimeAxis\"},{\"attributes\":{\"months\":[0,1,2,3,4,5,6,7,8,9,10,11]},\"id\":\"1062\",\"type\":\"MonthsTicker\"},{\"attributes\":{\"axis\":{\"id\":\"1016\"},\"coordinates\":null,\"grid_line_color\":null,\"group\":null,\"ticker\":null},\"id\":\"1019\",\"type\":\"Grid\"},{\"attributes\":{\"months\":[0,2,4,6,8,10]},\"id\":\"1063\",\"type\":\"MonthsTicker\"},{\"attributes\":{\"axis\":{\"id\":\"1020\"},\"coordinates\":null,\"dimension\":1,\"grid_line_color\":null,\"group\":null,\"ticker\":null},\"id\":\"1023\",\"type\":\"Grid\"},{\"attributes\":{},\"id\":\"1021\",\"type\":\"BasicTicker\"},{\"attributes\":{\"months\":[0,4,8]},\"id\":\"1064\",\"type\":\"MonthsTicker\"},{\"attributes\":{\"callback\":null,\"formatters\":{\"@TimeGenerated\":\"datetime\"},\"tooltips\":[[\"TimeGenerated\",\"@TimeGenerated{%F %T.%3N}\"],[\"TotalBytesSent\",\"@TotalBytesSent\"],[\"residual\",\"@residual\"],[\"trend\",\"@trend\"],[\"seasonal\",\"@seasonal\"],[\"weights\",\"@weights\"],[\"baseline\",\"@baseline\"],[\"score\",\"@score\"]]},\"id\":\"1004\",\"type\":\"HoverTool\"},{\"attributes\":{},\"id\":\"1026\",\"type\":\"ResetTool\"},{\"attributes\":{\"bottom_units\":\"screen\",\"coordinates\":null,\"fill_alpha\":0.5,\"fill_color\":\"lightgrey\",\"group\":null,\"left_units\":\"screen\",\"level\":\"overlay\",\"line_alpha\":1.0,\"line_color\":\"black\",\"line_dash\":[4,4],\"line_width\":2,\"right_units\":\"screen\",\"syncable\":false,\"top_units\":\"screen\"},\"id\":\"1029\",\"type\":\"BoxAnnotation\"},{\"attributes\":{\"dimensions\":\"width\"},\"id\":\"1024\",\"type\":\"WheelZoomTool\"},{\"attributes\":{\"overlay\":{\"id\":\"1029\"}},\"id\":\"1025\",\"type\":\"BoxZoomTool\"},{\"attributes\":{},\"id\":\"1027\",\"type\":\"SaveTool\"},{\"attributes\":{},\"id\":\"1184\",\"type\":\"Selection\"},{\"attributes\":{\"dimensions\":\"width\"},\"id\":\"1028\",\"type\":\"PanTool\"},{\"attributes\":{\"source\":{\"id\":\"1003\"}},\"id\":\"1046\",\"type\":\"CDSView\"},{\"attributes\":{\"days\":[\"%m-%d %H:%M\"],\"hours\":[\"%H:%M:%S\"],\"milliseconds\":[\"%H:%M:%S.%3N\"],\"minutes\":[\"%H:%M:%S\"],\"seconds\":[\"%H:%M:%S\"]},\"id\":\"1143\",\"type\":\"DatetimeTickFormatter\"},{\"attributes\":{\"data\":{\"TimeGenerated\":{\"__ndarray__\":\"AAAQJZ4zd0IAAPiToTN3Qg==\",\"dtype\":\"float64\",\"order\":\"little\",\"shape\":[2]},\"TotalBytesSent\":[48616,45856],\"baseline\":[32232,29906],\"index\":[114,115],\"level_0\":[0,1],\"residual\":[16383,15949],\"score\":{\"__ndarray__\":\"lDb1kSziGEBDb2xVUTkYQA==\",\"dtype\":\"float64\",\"order\":\"little\",\"shape\":[2]},\"seasonal\":[10633,8532],\"trend\":[21598,21373],\"weights\":[1,1]},\"selected\":{\"id\":\"1111\"},\"selection_policy\":{\"id\":\"1110\"}},\"id\":\"1096\",\"type\":\"ColumnDataSource\"},{\"attributes\":{\"below\":[{\"id\":\"1137\"},{\"id\":\"1142\"}],\"center\":[{\"id\":\"1140\"}],\"height\":120,\"renderers\":[{\"id\":\"1150\"}],\"title\":{\"id\":\"1127\"},\"toolbar\":{\"id\":\"1141\"},\"toolbar_location\":null,\"width\":1200,\"x_range\":{\"id\":\"1129\"},\"x_scale\":{\"id\":\"1133\"},\"y_range\":{\"id\":\"1131\"},\"y_scale\":{\"id\":\"1135\"}},\"id\":\"1126\",\"subtype\":\"Figure\",\"type\":\"Plot\"},{\"attributes\":{\"months\":[0,4,8]},\"id\":\"1195\",\"type\":\"MonthsTicker\"},{\"attributes\":{\"click_policy\":\"hide\",\"coordinates\":null,\"group\":null,\"items\":[{\"id\":\"1068\"},{\"id\":\"1095\"},{\"id\":\"1125\"}],\"location\":\"top_left\"},\"id\":\"1067\",\"type\":\"Legend\"},{\"attributes\":{\"fill_alpha\":{\"value\":0.2},\"fill_color\":{\"value\":\"firebrick\"},\"hatch_color\":{\"value\":\"firebrick\"},\"line_color\":{\"value\":\"firebrick\"},\"marker\":{\"value\":\"circle_x\"},\"size\":{\"value\":12},\"x\":{\"field\":\"TimeGenerated\"},\"y\":{\"field\":\"TotalBytesSent\"}},\"id\":\"1098\",\"type\":\"Scatter\"},{\"attributes\":{\"coordinates\":null,\"data_source\":{\"id\":\"1096\"},\"glyph\":{\"id\":\"1098\"},\"group\":null,\"hover_glyph\":null,\"muted_glyph\":{\"id\":\"1100\"},\"nonselection_glyph\":{\"id\":\"1099\"},\"view\":{\"id\":\"1102\"}},\"id\":\"1101\",\"type\":\"GlyphRenderer\"},{\"attributes\":{\"fill_alpha\":{\"value\":0.1},\"fill_color\":{\"value\":\"firebrick\"},\"hatch_alpha\":{\"value\":0.1},\"hatch_color\":{\"value\":\"firebrick\"},\"line_alpha\":{\"value\":0.1},\"line_color\":{\"value\":\"firebrick\"},\"marker\":{\"value\":\"circle_x\"},\"size\":{\"value\":12},\"x\":{\"field\":\"TimeGenerated\"},\"y\":{\"field\":\"TotalBytesSent\"}},\"id\":\"1099\",\"type\":\"Scatter\"},{\"attributes\":{},\"id\":\"1183\",\"type\":\"UnionRenderers\"},{\"attributes\":{\"label\":{\"value\":\"observed\"},\"renderers\":[{\"id\":\"1045\"}]},\"id\":\"1068\",\"type\":\"LegendItem\"},{\"attributes\":{},\"id\":\"1133\",\"type\":\"LinearScale\"},{\"attributes\":{\"align\":\"right\",\"coordinates\":null,\"group\":null,\"text\":\"Drag the middle or edges of the selection box to change the range in the main chart\",\"text_font_size\":\"10px\"},\"id\":\"1142\",\"type\":\"Title\"},{\"attributes\":{\"end\":1594684980000.0,\"start\":1593903420000.0},\"id\":\"1129\",\"type\":\"Range1d\"},{\"attributes\":{\"months\":[0,2,4,6,8,10]},\"id\":\"1194\",\"type\":\"MonthsTicker\"},{\"attributes\":{\"fill_alpha\":{\"value\":0.2},\"fill_color\":{\"value\":\"#1f77b4\"},\"hatch_alpha\":{\"value\":0.2},\"line_alpha\":{\"value\":0.2},\"line_color\":{\"value\":\"navy\"},\"x\":{\"field\":\"TimeGenerated\"},\"y\":{\"field\":\"TotalBytesSent\"}},\"id\":\"1044\",\"type\":\"Circle\"},{\"attributes\":{\"months\":[0,6]},\"id\":\"1196\",\"type\":\"MonthsTicker\"},{\"attributes\":{\"coordinates\":null,\"data_source\":{\"id\":\"1003\"},\"glyph\":{\"id\":\"1042\"},\"group\":null,\"hover_glyph\":null,\"muted_glyph\":{\"id\":\"1044\"},\"nonselection_glyph\":{\"id\":\"1043\"},\"view\":{\"id\":\"1046\"}},\"id\":\"1045\",\"type\":\"GlyphRenderer\"},{\"attributes\":{\"fill_alpha\":{\"value\":0.1},\"fill_color\":{\"value\":\"#1f77b4\"},\"hatch_alpha\":{\"value\":0.1},\"line_alpha\":{\"value\":0.1},\"line_color\":{\"value\":\"navy\"},\"x\":{\"field\":\"TimeGenerated\"},\"y\":{\"field\":\"TotalBytesSent\"}},\"id\":\"1043\",\"type\":\"Circle\"},{\"attributes\":{\"fill_color\":{\"value\":\"#1f77b4\"},\"line_color\":{\"value\":\"navy\"},\"x\":{\"field\":\"TimeGenerated\"},\"y\":{\"field\":\"TotalBytesSent\"}},\"id\":\"1042\",\"type\":\"Circle\"},{\"attributes\":{\"days\":[1,8,15,22]},\"id\":\"1191\",\"type\":\"DaysTicker\"},{\"attributes\":{\"days\":[1,4,7,10,13,16,19,22,25,28]},\"id\":\"1190\",\"type\":\"DaysTicker\"},{\"attributes\":{\"days\":[1,2,3,4,5,6,7,8,9,10,11,12,13,14,15,16,17,18,19,20,21,22,23,24,25,26,27,28,29,30,31]},\"id\":\"1189\",\"type\":\"DaysTicker\"},{\"attributes\":{\"label\":{\"value\":\"baseline\"},\"renderers\":[{\"id\":\"1073\"}]},\"id\":\"1095\",\"type\":\"LegendItem\"},{\"attributes\":{\"days\":[1,15]},\"id\":\"1192\",\"type\":\"DaysTicker\"},{\"attributes\":{},\"id\":\"1110\",\"type\":\"UnionRenderers\"},{\"attributes\":{\"months\":[0,1,2,3,4,5,6,7,8,9,10,11]},\"id\":\"1193\",\"type\":\"MonthsTicker\"},{\"attributes\":{},\"id\":\"1197\",\"type\":\"YearsTicker\"},{\"attributes\":{},\"id\":\"1135\",\"type\":\"LinearScale\"},{\"attributes\":{\"label\":{\"value\":\"anomalies\"},\"renderers\":[{\"id\":\"1101\"}]},\"id\":\"1125\",\"type\":\"LegendItem\"},{\"attributes\":{\"source\":{\"id\":\"1096\"}},\"id\":\"1102\",\"type\":\"CDSView\"},{\"attributes\":{},\"id\":\"1131\",\"type\":\"DataRange1d\"},{\"attributes\":{\"mantissas\":[1,2,5],\"max_interval\":500.0,\"num_minor_ticks\":0},\"id\":\"1186\",\"type\":\"AdaptiveTicker\"},{\"attributes\":{\"coordinates\":null,\"data_source\":{\"id\":\"1003\"},\"glyph\":{\"id\":\"1070\"},\"group\":null,\"hover_glyph\":null,\"muted_glyph\":{\"id\":\"1072\"},\"nonselection_glyph\":{\"id\":\"1071\"},\"view\":{\"id\":\"1074\"}},\"id\":\"1073\",\"type\":\"GlyphRenderer\"},{\"attributes\":{\"fill_alpha\":{\"value\":0.2},\"fill_color\":{\"value\":\"firebrick\"},\"hatch_alpha\":{\"value\":0.2},\"hatch_color\":{\"value\":\"firebrick\"},\"line_alpha\":{\"value\":0.2},\"line_color\":{\"value\":\"firebrick\"},\"marker\":{\"value\":\"circle_x\"},\"size\":{\"value\":12},\"x\":{\"field\":\"TimeGenerated\"},\"y\":{\"field\":\"TotalBytesSent\"}},\"id\":\"1100\",\"type\":\"Scatter\"},{\"attributes\":{\"base\":24,\"mantissas\":[1,2,4,6,8,12],\"max_interval\":43200000.0,\"min_interval\":3600000.0,\"num_minor_ticks\":0},\"id\":\"1188\",\"type\":\"AdaptiveTicker\"},{\"attributes\":{},\"id\":\"1111\",\"type\":\"Selection\"},{\"attributes\":{\"tools\":[{\"id\":\"1004\"},{\"id\":\"1024\"},{\"id\":\"1025\"},{\"id\":\"1026\"},{\"id\":\"1027\"},{\"id\":\"1028\"}]},\"id\":\"1030\",\"type\":\"Toolbar\"},{\"attributes\":{\"base\":60,\"mantissas\":[1,2,5,10,15,20,30],\"max_interval\":1800000.0,\"min_interval\":1000.0,\"num_minor_ticks\":0},\"id\":\"1187\",\"type\":\"AdaptiveTicker\"},{\"attributes\":{\"coordinates\":null,\"fill_alpha\":0.2,\"fill_color\":\"navy\",\"group\":null,\"level\":\"overlay\",\"line_alpha\":1.0,\"line_color\":\"black\",\"line_dash\":[2,2],\"line_width\":0.5,\"syncable\":false},\"id\":\"1153\",\"type\":\"BoxAnnotation\"},{\"attributes\":{\"coordinates\":null,\"data_source\":{\"id\":\"1145\"},\"glyph\":{\"id\":\"1147\"},\"group\":null,\"hover_glyph\":null,\"muted_glyph\":{\"id\":\"1149\"},\"nonselection_glyph\":{\"id\":\"1148\"},\"view\":{\"id\":\"1151\"}},\"id\":\"1150\",\"type\":\"GlyphRenderer\"},{\"attributes\":{\"overlay\":{\"id\":\"1153\"},\"x_range\":{\"id\":\"1008\"},\"y_range\":null},\"id\":\"1152\",\"type\":\"RangeTool\"},{\"attributes\":{\"data\":{\"TimeGenerated\":{\"__ndarray__\":\"AADAwRYyd0IAAKgwGjJ3QgAAkJ8dMndCAAB4DiEyd0IAAGB9JDJ3QgAASOwnMndCAAAwWysyd0IAABjKLjJ3QgAAADkyMndCAADopzUyd0IAANAWOTJ3QgAAuIU8MndCAACg9D8yd0IAAIhjQzJ3QgAAcNJGMndCAABYQUoyd0IAAECwTTJ3QgAAKB9RMndCAAAQjlQyd0IAAPj8VzJ3QgAA4GtbMndCAADI2l4yd0IAALBJYjJ3QgAAmLhlMndCAACAJ2kyd0IAAGiWbDJ3QgAAUAVwMndCAAA4dHMyd0IAACDjdjJ3QgAACFJ6MndCAADwwH0yd0IAANgvgTJ3QgAAwJ6EMndCAACoDYgyd0IAAJB8izJ3QgAAeOuOMndCAABgWpIyd0IAAEjJlTJ3QgAAMDiZMndCAAAYp5wyd0IAAAAWoDJ3QgAA6ISjMndCAADQ86Yyd0IAALhiqjJ3QgAAoNGtMndCAACIQLEyd0IAAHCvtDJ3QgAAWB64MndCAABAjbsyd0IAACj8vjJ3QgAAEGvCMndCAAD42cUyd0IAAOBIyTJ3QgAAyLfMMndCAACwJtAyd0IAAJiV0zJ3QgAAgATXMndCAABoc9oyd0IAAFDi3TJ3QgAAOFHhMndCAAAgwOQyd0IAAAgv6DJ3QgAA8J3rMndCAADYDO8yd0IAAMB78jJ3QgAAqOr1MndCAACQWfkyd0IAAHjI/DJ3QgAAYDcAM3dCAABIpgMzd0IAADAVBzN3QgAAGIQKM3dCAAAA8w0zd0IAAOhhETN3QgAA0NAUM3dCAAC4Pxgzd0IAAKCuGzN3QgAAiB0fM3dCAABwjCIzd0IAAFj7JTN3QgAAQGopM3dCAAAo2Swzd0IAABBIMDN3QgAA+LYzM3dCAADgJTczd0IAAMiUOjN3QgAAsAM+M3dCAACYckEzd0IAAIDhRDN3QgAAaFBIM3dCAABQv0szd0IAADguTzN3QgAAIJ1SM3dCAAAIDFYzd0IAAPB6WTN3QgAA2OlcM3dCAADAWGAzd0IAAKjHYzN3QgAAkDZnM3dCAAB4pWozd0IAAGAUbjN3QgAASINxM3dCAAAw8nQzd0IAABhheDN3QgAAANB7M3dCAADoPn8zd0IAANCtgjN3QgAAuByGM3dCAACgi4kzd0IAAIj6jDN3QgAAcGmQM3dCAABY2JMzd0IAAEBHlzN3QgAAKLaaM3dCAAAQJZ4zd0IAAPiToTN3QgAA4AKlM3dCAADIcagzd0IAALDgqzN3QgAAmE+vM3dCAACAvrIzd0IAAGgttjN3QgAAUJy5M3dCAAA4C70zd0IAACB6wDN3QgAACOnDM3dCAADwV8czd0IAANjGyjN3QgAAwDXOM3dCAACopNEzd0IAAJAT1TN3QgAAeILYM3dCAABg8dszd0IAAEhg3zN3QgAAMM/iM3dCAAAYPuYzd0IAAACt6TN3QgAA6BvtM3dCAADQivAzd0IAALj58zN3QgAAoGj3M3dCAACI1/ozd0IAAHBG/jN3QgAAWLUBNHdCAABAJAU0d0IAACiTCDR3QgAAEAIMNHdCAAD4cA80d0IAAODfEjR3QgAAyE4WNHdCAACwvRk0d0IAAJgsHTR3QgAAgJsgNHdCAABoCiQ0d0IAAFB5JzR3QgAAOOgqNHdCAAAgVy40d0IAAAjGMTR3QgAA8DQ1NHdCAADYozg0d0IAAMASPDR3QgAAqIE/NHdCAACQ8EI0d0IAAHhfRjR3QgAAYM5JNHdCAABIPU00d0IAADCsUDR3QgAAGBtUNHdC\",\"dtype\":\"float64\",\"order\":\"little\",\"shape\":[168]},\"TotalBytesSent\":[10823,14821,13532,11947,11193,13257,13375,27975,31501,28775,31398,32979,32241,33539,28420,25757,30947,27803,29637,29670,11563,13465,13587,14967,12964,13858,13119,13907,12739,11227,11268,31322,26683,32982,32544,31414,28254,29893,31290,28334,26328,26448,30576,30793,10484,14995,11715,11296,10487,10789,14758,10998,10682,14572,13689,34167,27286,33955,33700,26810,30679,31533,33739,32815,26046,27499,33974,29118,12821,12836,13819,14877,14220,10053,14690,13161,14334,12806,11771,25544,27355,33777,27055,27816,32648,25686,32147,33363,28923,31547,33575,26369,14754,10415,10286,12086,11414,14915,14479,14063,13211,12485,14759,26964,31469,26214,33556,32596,25150,31064,25338,25714,26089,25673,48616,45856,11654,13127,12184,14179,13841,11097,13724,10535,10022,12570,14145,18473,19477,19080,17622,18725,17612,19733,19338,18656,17732,17801,16167,16485,11455,10545,13991,10699,12735,12639,14501,12477,11497,10081,11729,18121,17458,18104,16508,17814,16494,17588,18545,19534,16085,15276,15363,18166,13830,13350,11842,11111],\"anomalies\":[0,0,0,0,0,0,0,0,0,0,0,0,0,0,0,0,0,0,0,0,0,0,0,0,0,0,0,0,0,0,0,0,0,0,0,0,0,0,0,0,0,0,0,0,0,0,0,0,0,0,0,0,0,0,0,0,0,0,0,0,0,0,0,0,0,0,0,0,0,0,0,0,0,0,0,0,0,0,0,0,0,0,0,0,0,0,0,0,0,0,0,0,0,0,0,0,0,0,0,0,0,0,0,0,0,0,0,0,0,0,0,0,0,0,1,1,0,0,0,0,0,0,0,0,0,0,0,0,0,0,0,0,0,0,0,0,0,0,0,0,0,0,0,0,0,0,0,0,0,0,0,0,0,0,0,0,0,0,0,0,0,0,0,0,0,0,0,0],\"baseline\":[11187,14007,13280,12238,11314,12641,12350,30664,29442,31531,32547,32060,31540,32721,30726,27678,29255,27470,28928,28791,10907,13894,12754,13436,11796,13334,13807,12503,11862,12800,12552,29979,28690,31444,31693,30566,30470,31010,30430,28406,28016,27368,31130,29511,11469,13234,12458,13336,12055,12579,14104,12723,12402,13021,13045,29441,28468,31613,31518,30080,30103,30386,30901,29854,27887,28203,34349,31499,12950,13611,13072,13965,12753,12328,14733,12960,12805,13258,13457,28209,27735,30514,30198,28394,28438,28562,29639,29520,26364,27468,35919,32037,13313,12912,13020,14080,14269,13789,16208,14404,14225,14694,15656,26848,27373,28686,28393,27900,27131,27913,28314,28378,25707,26105,32232,29906,14825,13953,14045,13866,14136,13332,15009,12709,11857,11592,12842,20300,21208,20687,20314,20820,18816,20331,19942,20270,18209,18082,22571,22484,11144,10574,10923,10288,11477,11094,12823,10765,9983,9851,12111,16511,18096,16513,16469,18378,15622,18256,17387,18026,16531,15796,17900,20157,13089,12694,13044,11487],\"index\":[0,1,2,3,4,5,6,7,8,9,10,11,12,13,14,15,16,17,18,19,20,21,22,23,24,25,26,27,28,29,30,31,32,33,34,35,36,37,38,39,40,41,42,43,44,45,46,47,48,49,50,51,52,53,54,55,56,57,58,59,60,61,62,63,64,65,66,67,68,69,70,71,72,73,74,75,76,77,78,79,80,81,82,83,84,85,86,87,88,89,90,91,92,93,94,95,96,97,98,99,100,101,102,103,104,105,106,107,108,109,110,111,112,113,114,115,116,117,118,119,120,121,122,123,124,125,126,127,128,129,130,131,132,133,134,135,136,137,138,139,140,141,142,143,144,145,146,147,148,149,150,151,152,153,154,155,156,157,158,159,160,161,162,163,164,165,166,167],\"residual\":[-364,813,251,-291,-121,615,1024,-2689,2058,-2756,-1149,918,700,817,-2306,-1921,1691,332,708,878,655,-429,832,1530,1167,523,-688,1403,876,-1573,-1284,1342,-2007,1537,850,847,-2216,-1117,859,-72,-1688,-920,-554,1281,-985,1760,-743,-2040,-1568,-1790,653,-1725,-1720,1550,643,4725,-1182,2341,2181,-3270,575,1146,2837,2960,-1841,-704,-375,-2381,-129,-775,746,911,1466,-2275,-43,200,1528,-452,-1686,-2665,-380,3262,-3143,-578,4209,-2876,2507,3842,2558,4078,-2344,-5668,1440,-2497,-2734,-1994,-2855,1125,-1729,-341,-1014,-2209,-897,115,4095,-2472,5162,4695,-1981,3150,-2976,-2664,381,-432,16383,15949,-3171,-826,-1861,312,-295,-2235,-1285,-2174,-1835,977,1302,-1827,-1731,-1607,-2692,-2095,-1204,-598,-604,-1614,-477,-281,-6404,-5999,310,-29,3067,410,1257,1544,1677,1711,1513,229,-382,1609,-638,1590,38,-564,871,-668,1157,1507,-446,-520,-2537,-1991,740,655,-1202,-376],\"score\":{\"__ndarray__\":\"wXsqBZ0ywr+h30T8qIXTPy3+xdGRbLc/Qy/71X1Lvb/w3KS70YSpvwZYxigsas0/H8eTFymn2D/p2TyNrWjwvwJVXrD35eg/q6FE3vLQ8L99K6a3BjDcv3UMLTlME9Y/HERoszjG0D/6Fj+Cj57TPyOaTsw+Key/nvKk3Oh6578FqiduqG/kPy+B8TWCTb8/zbJcvwX40D8A42b9ShrVP/GqUqAuXM8/foJuB+Fbxb+GZqn47/vTPy8Q3CWJeuI/vQFFTVoh3D8eZtAVwPDIP+PAwOY++tC/kuH3lj3v4D9Ux2m61w3VPxOLoBi9P+O/afdi4Wp437+P+2PZXzHgP5XF5vyWhui/nQAX21KQ4j+UX49T/WvUPxK2E29QWdQ/f6sPaR0R67+5cNSH0mjbvxtcAgEEpNQ/G1q34yT5n7+rZo3erqXkv/JKcUF5nta/mwUFvShwy78YK6A3BOfeP1BOk0IbM9i/Yce1sWxG5T/kOfGYoFDSv+PpjuVN7ei/eyjkBC0w479UqMMKKuPlv5hzWBpIQ88/paYyCtkY5b8NRHb2SAnlv42azXTJuOI/3l51fMfGzj/1E4s0lan8Pxh09oh0/dy/3brRc9JW7D/zZ0X8z2TqP6fTSm7g8PO/HAU6sSl4yz8sX+MNoJ7bPyeRNXNTL/E/oBopmb/u8T8oyd6g54Hmv0Weqf7YXdG/KKwK5pC7wr8BYVj0rxLtv3lSSBs6E6u/qfTCyNQX07+WwCW4k+TRP5ort86459U/a1UK9lSz4T+sAyWFwcjrv/1FVi6wsJS/ivfsIKV2sj9Zgl2ET3TiP/j+Kww8esa/1dgOPXWf5L/khkXEU0Pwv4U2/DTR+cK/R+/7ub7E8z9ZvNimOivzv8GdvwT3msy/DpvF04qG+T/DQBnLs4vxv0q32c+BW+4/kEWqMmNL9z8f2PRlP/ruP+r11Gqruvg/ByGzyIWf7L9O/RMPa0IBwIshncJnYuE/hYMEi7577r+SlQzmta7wv6YrMGMgXui/H9hAOwVr8b+bvIHO5RvbP1HCL01MJeW/R/9sAEIUwb+RX+mNoufYvxK71LNT++q/tYwSv0sP1r9ILrFJNWSkP7jQLlkg1fg/kJZWKO4t7r+XG81frVH/Py/sVfnkevw/tpF5yak16L/bayQQcRbzP60adZBUJ/K/buPlW8VB8L+QDGvt0AjCP4PVZdA6gcW/lDb1kSziGEBDb2xVUTkYQDSdThHOVvO/UTb59E9V1L+GU9DvJ8Dmv0QuZb5/W70/pQzk7Revvb/x7kHnQEzrvz+F4YKkft+/7giuKWOO6r+mH2O8Om/mv8+8V3GUgtc/qc0Bd75p3z9N6Gg2VFbmvydQru6FK+W/S/YH0pCp479JxFvGWG3wv2Qmp75+mOm/f6TWaWiG3b83x4VA+JPNv0BtdNKr3s2/uOZCh1q/47/LsuOWfbHHv84FNZp8Ury/QvaOGCF/A8DJKeiI+0MCwJO/cLKyKb0/P1U0v4V8jr/AbCI5RZXyPxQvF4TfccM/Bd/CE51R3j8K8VGQHKbiPyrJsQMVROQ/YjQZveit5D+TWihJn0XiP5E8RU7CSLU/3W32urcSw7+68uKQbXDjPyEaErj6hc+/R6+wEko14z8cjK/EIqaFP1Ya6Fqp7Mu/JQLxkrfu1D8prN1Ivn3Qv193U/4Z49s/EbGsZPIy4j/uWD16iC/Gv7pYZ9fZyMm/P5jnKD/47r/kVvLwyVTov5JtLu85v9E/8apSoC5czz/SiNkm9Xndv9THBykEyMK/\",\"dtype\":\"float64\",\"order\":\"little\",\"shape\":[168]},\"seasonal\":[-10756,-7953,-8697,-9756,-10696,-9384,-9691,8607,7371,9446,10451,9953,9422,10593,8591,5536,7107,5316,6769,6628,-11261,-8280,-9428,-8756,-10385,-8835,-8347,-9634,-10254,-9288,-9505,7958,6710,9506,9796,8706,8644,9210,8648,6634,6245,5590,9335,7690,-10386,-8661,-9482,-8650,-9974,-9493,-8009,-9429,-9788,-9206,-9218,7140,6131,9240,9113,7648,7648,7913,8416,7361,5392,5710,11862,9021,-9516,-8842,-9364,-8452,-9641,-10039,-7602,-9339,-9454,-8958,-8714,6084,5661,8490,8223,6463,6546,6699,7796,7686,4528,5618,14048,10140,-8612,-9048,-8988,-7986,-7865,-8418,-6074,-7950,-8193,-7776,-6853,4315,4832,6151,5880,5424,4709,5565,6062,6248,3727,4303,10633,8532,-6302,-6906,-6524,-6391,-5789,-6245,-4208,-6142,-6629,-6534,-4936,2855,4081,3858,3764,4527,2756,4475,4259,4727,2775,2730,7286,7253,-4041,-4576,-4198,-4811,-3607,-3979,-2234,-4275,-5042,-5159,-2886,1527,3124,1555,1525,3449,709,3359,2509,3168,1695,982,3111,5395,-1643,-2008,-1625,-3149],\"trend\":[21943,21961,21977,21994,22010,22026,22042,22056,22070,22084,22096,22107,22117,22127,22135,22142,22148,22154,22158,22163,22168,22174,22182,22193,22181,22169,22155,22137,22116,22089,22058,22021,21980,21938,21897,21859,21826,21799,21781,21771,21770,21777,21795,21821,21855,21896,21941,21986,22030,22073,22114,22153,22191,22227,22264,22300,22337,22372,22404,22432,22455,22473,22485,22492,22495,22493,22487,22477,22466,22453,22437,22417,22394,22367,22335,22299,22259,22217,22172,22124,22074,22024,21975,21930,21892,21863,21843,21834,21836,21849,21870,21896,21925,21961,22008,22066,22134,22208,22283,22355,22418,22471,22509,22533,22541,22534,22512,22475,22421,22348,22252,22129,21979,21801,21598,21373,21128,20860,20570,20257,19925,19577,19217,18852,18486,18127,17778,17444,17127,16828,16549,16292,16060,15855,15682,15542,15434,15351,15285,15231,15186,15150,15121,15100,15085,15074,15058,15041,15025,15011,14997,14984,14971,14957,14943,14929,14913,14896,14877,14858,14836,14813,14788,14761,14733,14702,14670,14636],\"weights\":[1,1,1,1,1,1,1,1,1,1,1,1,1,1,1,1,1,1,1,1,1,1,1,1,1,1,1,1,1,1,1,1,1,1,1,1,1,1,1,1,1,1,1,1,1,1,1,1,1,1,1,1,1,1,1,1,1,1,1,1,1,1,1,1,1,1,1,1,1,1,1,1,1,1,1,1,1,1,1,1,1,1,1,1,1,1,1,1,1,1,1,1,1,1,1,1,1,1,1,1,1,1,1,1,1,1,1,1,1,1,1,1,1,1,1,1,1,1,1,1,1,1,1,1,1,1,1,1,1,1,1,1,1,1,1,1,1,1,1,1,1,1,1,1,1,1,1,1,1,1,1,1,1,1,1,1,1,1,1,1,1,1,1,1,1,1,1,1]},\"selected\":{\"id\":\"1053\"},\"selection_policy\":{\"id\":\"1052\"}},\"id\":\"1003\",\"type\":\"ColumnDataSource\"},{\"attributes\":{\"fill_alpha\":{\"value\":0.2},\"fill_color\":{\"value\":\"blue\"},\"hatch_alpha\":{\"value\":0.2},\"hatch_color\":{\"value\":\"blue\"},\"line_alpha\":{\"value\":0.2},\"line_color\":{\"value\":\"blue\"},\"x\":{\"field\":\"TimeGenerated\"},\"y\":{\"field\":\"score\"}},\"id\":\"1149\",\"type\":\"Circle\"},{\"attributes\":{},\"id\":\"1049\",\"type\":\"AllLabels\"},{\"attributes\":{},\"id\":\"1051\",\"type\":\"AllLabels\"},{\"attributes\":{\"fill_color\":{\"value\":\"blue\"},\"hatch_color\":{\"value\":\"blue\"},\"line_color\":{\"value\":\"blue\"},\"x\":{\"field\":\"TimeGenerated\"},\"y\":{\"field\":\"score\"}},\"id\":\"1147\",\"type\":\"Circle\"},{\"attributes\":{},\"id\":\"1052\",\"type\":\"UnionRenderers\"},{\"attributes\":{},\"id\":\"1053\",\"type\":\"Selection\"},{\"attributes\":{},\"id\":\"1165\",\"type\":\"AllLabels\"},{\"attributes\":{\"days\":[\"%m-%d %H:%M\"],\"hours\":[\"%H:%M:%S\"],\"milliseconds\":[\"%H:%M:%S.%3N\"],\"minutes\":[\"%H:%M:%S\"],\"seconds\":[\"%H:%M:%S\"]},\"id\":\"1037\",\"type\":\"DatetimeTickFormatter\"},{\"attributes\":{\"fill_alpha\":{\"value\":0.1},\"fill_color\":{\"value\":\"blue\"},\"hatch_alpha\":{\"value\":0.1},\"hatch_color\":{\"value\":\"blue\"},\"line_alpha\":{\"value\":0.1},\"line_color\":{\"value\":\"blue\"},\"x\":{\"field\":\"TimeGenerated\"},\"y\":{\"field\":\"score\"}},\"id\":\"1148\",\"type\":\"Circle\"},{\"attributes\":{\"source\":{\"id\":\"1145\"}},\"id\":\"1151\",\"type\":\"CDSView\"}],\"root_ids\":[\"1157\"]},\"title\":\"Bokeh Application\",\"version\":\"2.4.2\"}};\n",
       "  const render_items = [{\"docid\":\"bd01492d-db84-491b-8411-6dbe19048924\",\"root_ids\":[\"1157\"],\"roots\":{\"1157\":\"40b75b1d-522d-4ded-b764-8a0d0f6bfe66\"}}];\n",
       "  root.Bokeh.embed.embed_items_notebook(docs_json, render_items);\n",
       "\n",
       "  }\n",
       "  if (root.Bokeh !== undefined) {\n",
       "    embed_document(root);\n",
       "  } else {\n",
       "    let attempts = 0;\n",
       "    const timer = setInterval(function(root) {\n",
       "      if (root.Bokeh !== undefined) {\n",
       "        clearInterval(timer);\n",
       "        embed_document(root);\n",
       "      } else {\n",
       "        attempts++;\n",
       "        if (attempts > 100) {\n",
       "          clearInterval(timer);\n",
       "          console.log(\"Bokeh: ERROR: Unable to run BokehJS code because BokehJS library is missing\");\n",
       "        }\n",
       "      }\n",
       "    }, 10, root)\n",
       "  }\n",
       "})(window);"
      ],
      "application/vnd.bokehjs_exec.v0+json": ""
     },
     "metadata": {
      "application/vnd.bokehjs_exec.v0+json": {
       "id": "1157"
      }
     },
     "output_type": "display_data"
    },
    {
     "data": {
      "text/html": [
       "<p style='font-weight: bold'>We can see two clearly anomalous data points representing unusual outbound traffic.<hr></p>"
      ],
      "text/plain": [
       "<IPython.core.display.HTML object>"
      ]
     },
     "metadata": {},
     "output_type": "display_data"
    }
   ],
   "source": [
    "from msticpy.analysis.timeseries import display_timeseries_anomalies\n",
    "from msticpy.analysis.timeseries import timeseries_anomalies_stl\n",
    "\n",
    "# Conduct our timeseries analysis\n",
    "ts_analysis = timeseries_anomalies_stl(ob_bytes_per_hour)\n",
    "# Visualize the timeseries and any anomalies\n",
    "display_timeseries_anomalies(data=ts_analysis, y= 'TotalBytesSent');\n",
    "\n",
    "md(\"We can see two clearly anomalous data points representing unusual outbound traffic.<hr>\", \"bold\")"
   ]
  },
  {
   "cell_type": "markdown",
   "metadata": {},
   "source": [
    "### View the summary events marked as anomalous"
   ]
  },
  {
   "cell_type": "code",
   "execution_count": 5,
   "metadata": {
    "gather": {
     "logged": 1618336459592
    }
   },
   "outputs": [
    {
     "data": {
      "text/html": [
       "<div>\n",
       "<style scoped>\n",
       "    .dataframe tbody tr th:only-of-type {\n",
       "        vertical-align: middle;\n",
       "    }\n",
       "\n",
       "    .dataframe tbody tr th {\n",
       "        vertical-align: top;\n",
       "    }\n",
       "\n",
       "    .dataframe thead th {\n",
       "        text-align: right;\n",
       "    }\n",
       "</style>\n",
       "<table border=\"1\" class=\"dataframe\">\n",
       "  <thead>\n",
       "    <tr style=\"text-align: right;\">\n",
       "      <th></th>\n",
       "      <th>TimeGenerated</th>\n",
       "      <th>TotalBytesSent</th>\n",
       "      <th>residual</th>\n",
       "      <th>trend</th>\n",
       "      <th>seasonal</th>\n",
       "      <th>weights</th>\n",
       "      <th>baseline</th>\n",
       "      <th>score</th>\n",
       "      <th>anomalies</th>\n",
       "    </tr>\n",
       "  </thead>\n",
       "  <tbody>\n",
       "    <tr>\n",
       "      <th>114</th>\n",
       "      <td>2020-07-10 18:00:00+00:00</td>\n",
       "      <td>48616</td>\n",
       "      <td>16383</td>\n",
       "      <td>21598</td>\n",
       "      <td>10633</td>\n",
       "      <td>1</td>\n",
       "      <td>32232</td>\n",
       "      <td>6.220873</td>\n",
       "      <td>1</td>\n",
       "    </tr>\n",
       "    <tr>\n",
       "      <th>115</th>\n",
       "      <td>2020-07-10 19:00:00+00:00</td>\n",
       "      <td>45856</td>\n",
       "      <td>15949</td>\n",
       "      <td>21373</td>\n",
       "      <td>8532</td>\n",
       "      <td>1</td>\n",
       "      <td>29906</td>\n",
       "      <td>6.055974</td>\n",
       "      <td>1</td>\n",
       "    </tr>\n",
       "  </tbody>\n",
       "</table>\n",
       "</div>"
      ],
      "text/plain": [
       "                TimeGenerated  TotalBytesSent  residual  trend  seasonal  \\\n",
       "114 2020-07-10 18:00:00+00:00           48616     16383  21598     10633   \n",
       "115 2020-07-10 19:00:00+00:00           45856     15949  21373      8532   \n",
       "\n",
       "     weights  baseline     score  anomalies  \n",
       "114        1     32232  6.220873          1  \n",
       "115        1     29906  6.055974          1  "
      ]
     },
     "execution_count": 5,
     "metadata": {},
     "output_type": "execute_result"
    }
   ],
   "source": [
    "max_score, min_score = ts_analysis.score.max(), ts_analysis.min()\n",
    "ts_analysis[ts_analysis[\"anomalies\"] == 1]"
   ]
  },
  {
   "cell_type": "markdown",
   "metadata": {},
   "source": [
    "### Extract the anomaly period\n",
    "We can extract the **start** and **end** times of anomalous events and \n",
    "use this more-focused time range to query for unusual activity in this period.\n",
    "\n",
    "> **Note**: if more than one anomalous period is indicated we can use<br>\n",
    "> `msticpy.analysis.timeseries.extract_anomaly_periods()` function to isolate\n",
    "> time blocks around the anomalous periods."
   ]
  },
  {
   "cell_type": "code",
   "execution_count": 6,
   "metadata": {
    "gather": {
     "logged": 1618336462962
    }
   },
   "outputs": [
    {
     "data": {
      "text/html": [
       "<p style='font-size: 130%'>Anomalous network traffic detected between:</p>"
      ],
      "text/plain": [
       "<IPython.core.display.HTML object>"
      ]
     },
     "metadata": {},
     "output_type": "display_data"
    },
    {
     "data": {
      "text/html": [
       "<p style=''>Start time: <b>2020-07-10 17:00:00+00:00</b><br>End time: <b>2020-07-10 20:00:00+00:00</b><hr></p>"
      ],
      "text/plain": [
       "<IPython.core.display.HTML object>"
      ]
     },
     "metadata": {},
     "output_type": "display_data"
    }
   ],
   "source": [
    "# Identify when the anomalies occur so that we can use this timerange\n",
    "# to scope the next stage of our investigation.\n",
    "# Add a 1 hour buffer around the anomalies\n",
    "start = ts_analysis[ts_analysis['anomalies']==1]['TimeGenerated'].min() -  pd.to_timedelta(1, unit='h')\n",
    "end = ts_analysis[ts_analysis['anomalies']==1]['TimeGenerated'].max() +  pd.to_timedelta(1, unit='h')\n",
    "\n",
    "# md and md_warn are MSTICpy features to provide simple, and clean output in notebook cells\n",
    "md(\"Anomalous network traffic detected between:\", \"large\")\n",
    "md(f\"Start time: <b>{start}</b><br>End time: <b>{end}</b><hr>\",)"
   ]
  },
  {
   "cell_type": "markdown",
   "metadata": {},
   "source": [
    "## Time Series Conclusion\n",
    "\n",
    "We would take these start and end times to zero in on which machines\n",
    "were responsible for the anomalous traffic. Once we find them we can\n",
    "use other techniques to analyze what's going on on these hosts."
   ]
  },
  {
   "cell_type": "markdown",
   "metadata": {},
   "source": [
    "## Other Applications\n",
    "\n",
    "You can use the msticpy query function `MultiDataSource.get_timeseries_anomalies` on most Microsoft Sentinel tables to do this summarization directly.\n",
    "\n",
    "Three examples are shown below.\n",
    "\n",
    "```python\n",
    "start = pd.Timestamp(\"2020-09-01T00:00:00\")\n",
    "end = pd.Timestamp(\"2020-09-301T00:00:00\")\n",
    "\n",
    "# Sent bytes by hour (default) from Palo Alto devices\n",
    "time_series_net_bytes = qry_prov.MultiDataSource.get_timeseries_decompose(\n",
    "    start=start,\n",
    "    end=end,\n",
    "    table=\"CommonSecurityLog\",\n",
    "    timestampcolumn=\"TimeGenerated\",\n",
    "    aggregatecolumn=\"SentBytes\",\n",
    "    groupbycolumn=\"DeviceVendor\",\n",
    "    aggregatefunction=\"sum(SentBytes)\",\n",
    "    where_clause='|where DeviceVendor==\"Palo Alto Networks\"',\n",
    ")\n",
    "\n",
    "# Sign-in failure count in AAD\n",
    "time_series_signin_fail = qry_prov.MultiDataSource.get_timeseries_anomalies(\n",
    "    table=\"SigninLogs\",\n",
    "    start=start,\n",
    "    end=end,\n",
    "    timestampcolumn=\"TimeGenerated\",\n",
    "    aggregatecolumn=\"AppDisplayName\",\n",
    "    groupbycolumn=\"ResultType\",\n",
    "    aggregatefunction=\"count(AppDisplayName)\",\n",
    "    where_clause='| where ResultType in (50126, 50053, 50074, 50076)',\n",
    "    add_query_items='| project-rename Total=AppDisplayName',\n",
    ")\n",
    "\n",
    "# Number of distinct processes by hour\n",
    "time_series_procs = qry_prov.MultiDataSource.get_timeseries_anomalies(\n",
    "    table=\"SecurityEvent\",\n",
    "    start=start,\n",
    "    end=end,\n",
    "    timestampcolumn=\"TimeGenerated\",\n",
    "    aggregatecolumn=\"DistinctProcesses\",\n",
    "    groupbycolumn=\"Account\",\n",
    "    aggregatefunction=\"dcount(NewProcessName)\",\n",
    "    where_clause=\"| where Computer='myhost.domain.con'\",\n",
    ")\n",
    "\n",
    "# Then submit to ts anomalies decomposition\n",
    "ts_analysis = timeseries_anomalies_stl(time_series_procs)\n",
    "# Visualize the timeseries and any anomalies\n",
    "display_timeseries_anomolies(data=ts_analysis, y='Total');\n",
    "```"
   ]
  },
  {
   "cell_type": "markdown",
   "metadata": {},
   "source": [
    "<hr>\n",
    "\n",
    "# Using Clustering \n",
    "## - Example: aggregating similar process patterns to highlight unusual logon sessions\n",
    "\n",
    "Sifting through thousands of events from a host is tedious in the extreme.\n",
    "We want to find a better way of identifying suspicious clusters of activity.\n",
    "\n",
    "Query the data and do some initial analysis of the results"
   ]
  },
  {
   "cell_type": "code",
   "execution_count": 7,
   "metadata": {
    "gather": {
     "logged": 1620085574961
    }
   },
   "outputs": [
    {
     "name": "stdout",
     "output_type": "stream",
     "text": [
      "Getting process events..."
     ]
    },
    {
     "data": {
      "text/html": [
       "<p style='font-size: 130%;font-weight: bold'>Initial analysis of data set</p>"
      ],
      "text/plain": [
       "<IPython.core.display.HTML object>"
      ]
     },
     "metadata": {},
     "output_type": "display_data"
    },
    {
     "data": {
      "text/html": [
       "<p style=''>Total processes in data set <b>22979</b></p>"
      ],
      "text/plain": [
       "<IPython.core.display.HTML object>"
      ]
     },
     "metadata": {},
     "output_type": "display_data"
    },
    {
     "data": {
      "text/html": [
       "<p style=''>Total distinct Account in data <b>5</b></p>"
      ],
      "text/plain": [
       "<IPython.core.display.HTML object>"
      ]
     },
     "metadata": {},
     "output_type": "display_data"
    },
    {
     "data": {
      "text/html": [
       "<p style=''>Total distinct NewProcessName in data <b>192</b></p>"
      ],
      "text/plain": [
       "<IPython.core.display.HTML object>"
      ]
     },
     "metadata": {},
     "output_type": "display_data"
    },
    {
     "data": {
      "text/html": [
       "<p style=''>Total distinct CommandLine in data <b>4551</b></p>"
      ],
      "text/plain": [
       "<IPython.core.display.HTML object>"
      ]
     },
     "metadata": {},
     "output_type": "display_data"
    },
    {
     "data": {
      "text/html": [
       "<p style=''><hr></p>"
      ],
      "text/plain": [
       "<IPython.core.display.HTML object>"
      ]
     },
     "metadata": {},
     "output_type": "display_data"
    },
    {
     "data": {
      "text/html": [
       "<p style='font-size: 130%'>Try grouping by distinct Account, Process, Commandline<br> - we still have 1000s of rows!</p>"
      ],
      "text/plain": [
       "<IPython.core.display.HTML object>"
      ]
     },
     "metadata": {},
     "output_type": "display_data"
    },
    {
     "data": {
      "text/html": [
       "<div>\n",
       "<style scoped>\n",
       "    .dataframe tbody tr th:only-of-type {\n",
       "        vertical-align: middle;\n",
       "    }\n",
       "\n",
       "    .dataframe tbody tr th {\n",
       "        vertical-align: top;\n",
       "    }\n",
       "\n",
       "    .dataframe thead th {\n",
       "        text-align: right;\n",
       "    }\n",
       "</style>\n",
       "<table border=\"1\" class=\"dataframe\">\n",
       "  <thead>\n",
       "    <tr style=\"text-align: right;\">\n",
       "      <th></th>\n",
       "      <th></th>\n",
       "      <th></th>\n",
       "      <th>Count</th>\n",
       "    </tr>\n",
       "    <tr>\n",
       "      <th>Account</th>\n",
       "      <th>NewProcessName</th>\n",
       "      <th>CommandLine</th>\n",
       "      <th></th>\n",
       "    </tr>\n",
       "  </thead>\n",
       "  <tbody>\n",
       "    <tr>\n",
       "      <th rowspan=\"5\" valign=\"top\">MSTICAlertsWin1\\MSTICAdmin</th>\n",
       "      <th rowspan=\"2\" valign=\"top\">C:\\Program Files (x86)\\Internet Explorer\\iexplore.exe</th>\n",
       "      <th>\"C:\\Program Files (x86)\\Internet Explorer\\IEXPLORE.EXE\" SCODEF:30680 CREDAT:82945 /prefetch:2</th>\n",
       "      <td>1</td>\n",
       "    </tr>\n",
       "    <tr>\n",
       "      <th>\"C:\\Program Files (x86)\\Internet Explorer\\IEXPLORE.EXE\" SCODEF:5820 CREDAT:82945 /prefetch:2</th>\n",
       "      <td>1</td>\n",
       "    </tr>\n",
       "    <tr>\n",
       "      <th rowspan=\"2\" valign=\"top\">C:\\Program Files\\Internet Explorer\\iexplore.exe</th>\n",
       "      <th>\"C:\\Program Files\\Internet Explorer\\iexplore.exe\"</th>\n",
       "      <td>1</td>\n",
       "    </tr>\n",
       "    <tr>\n",
       "      <th>\"C:\\Program Files\\Internet Explorer\\iexplore.exe\" -restart /WERRESTART</th>\n",
       "      <td>1</td>\n",
       "    </tr>\n",
       "    <tr>\n",
       "      <th>C:\\Program Files\\PuTTY\\putty.exe</th>\n",
       "      <th>\"C:\\Program Files\\PuTTY\\putty.exe\"</th>\n",
       "      <td>1</td>\n",
       "    </tr>\n",
       "    <tr>\n",
       "      <th>...</th>\n",
       "      <th>...</th>\n",
       "      <th>...</th>\n",
       "      <td>...</td>\n",
       "    </tr>\n",
       "    <tr>\n",
       "      <th rowspan=\"5\" valign=\"top\">WORKGROUP\\MSTICAlertsWin1$</th>\n",
       "      <th>C:\\Windows\\Temp\\CR_42BC8.tmp\\setup.exe</th>\n",
       "      <th>C:\\Windows\\TEMP\\CR_42BC8.tmp\\setup.exe --type=crashpad-handler /prefetch:7 --monitor-self-annotation=ptype=crashpad-handler --database=C:\\Windows\\TEMP\\Crashpad --url=https://clients2.google.com/cr/report --annotation=channel= --annotation=plat=Win64 --annotation=prod=Chrome --annotation=ver=72.0.3626.109 --initial-client-data=0x1e0,0x1e4,0x1e8,0x1dc,0x1ec,0x7ff728255098,0x7ff7282550a8,0x7ff7282550b8</th>\n",
       "      <td>1</td>\n",
       "    </tr>\n",
       "    <tr>\n",
       "      <th>C:\\Windows\\Temp\\D398059B-A17E-43B8-95E4-8F0453629D9F\\DismHost.exe</th>\n",
       "      <th>C:\\Windows\\TEMP\\D398059B-A17E-43B8-95E4-8F0453629D9F\\dismhost.exe {5B5DC19A-0D8F-4B1F-8B28-CAE7B134263A}</th>\n",
       "      <td>1</td>\n",
       "    </tr>\n",
       "    <tr>\n",
       "      <th>C:\\Windows\\WinSxS\\amd64_microsoft-windows-servicingstack_31bf3856ad364e35_10.0.14393.2602_none_7ee6020e2207416d\\TiWorker.exe</th>\n",
       "      <th>C:\\Windows\\winsxs\\amd64_microsoft-windows-servicingstack_31bf3856ad364e35_10.0.14393.2602_none_7ee6020e2207416d\\TiWorker.exe -Embedding</th>\n",
       "      <td>16</td>\n",
       "    </tr>\n",
       "    <tr>\n",
       "      <th>C:\\Windows\\WinSxS\\amd64_microsoft-windows-servicingstack_31bf3856ad364e35_10.0.14393.2782_none_7ee3347222082816\\TiWorker.exe</th>\n",
       "      <th>C:\\Windows\\winsxs\\amd64_microsoft-windows-servicingstack_31bf3856ad364e35_10.0.14393.2782_none_7ee3347222082816\\TiWorker.exe -Embedding</th>\n",
       "      <td>11</td>\n",
       "    </tr>\n",
       "    <tr>\n",
       "      <th>C:\\Windows\\servicing\\TrustedInstaller.exe</th>\n",
       "      <th>C:\\Windows\\servicing\\TrustedInstaller.exe</th>\n",
       "      <td>26</td>\n",
       "    </tr>\n",
       "  </tbody>\n",
       "</table>\n",
       "<p>4594 rows Ã— 1 columns</p>\n",
       "</div>"
      ],
      "text/plain": [
       "                                                                                                                                                                                                                                      Count\n",
       "Account                    NewProcessName                                                                                       CommandLine                                                                                                \n",
       "MSTICAlertsWin1\\MSTICAdmin C:\\Program Files (x86)\\Internet Explorer\\iexplore.exe                                                \"C:\\Program Files (x86)\\Internet Explorer\\IEXPLORE.EXE\" SCODEF:30680 CREDAT:82945 /prefetch:2             1\n",
       "                                                                                                                                \"C:\\Program Files (x86)\\Internet Explorer\\IEXPLORE.EXE\" SCODEF:5820 CREDAT:82945 /prefetch:2              1\n",
       "                           C:\\Program Files\\Internet Explorer\\iexplore.exe                                                      \"C:\\Program Files\\Internet Explorer\\iexplore.exe\"                                                         1\n",
       "                                                                                                                                \"C:\\Program Files\\Internet Explorer\\iexplore.exe\" -restart /WERRESTART                                    1\n",
       "                           C:\\Program Files\\PuTTY\\putty.exe                                                                     \"C:\\Program Files\\PuTTY\\putty.exe\"                                                                        1\n",
       "...                                                                                                                                                                                                                                     ...\n",
       "WORKGROUP\\MSTICAlertsWin1$ C:\\Windows\\Temp\\CR_42BC8.tmp\\setup.exe                                                               C:\\Windows\\TEMP\\CR_42BC8.tmp\\setup.exe --type=crashpad-handler /prefetch:7 --monitor-self-annotat...      1\n",
       "                           C:\\Windows\\Temp\\D398059B-A17E-43B8-95E4-8F0453629D9F\\DismHost.exe                                    C:\\Windows\\TEMP\\D398059B-A17E-43B8-95E4-8F0453629D9F\\dismhost.exe {5B5DC19A-0D8F-4B1F-8B28-CAE7B1...      1\n",
       "                           C:\\Windows\\WinSxS\\amd64_microsoft-windows-servicingstack_31bf3856ad364e35_10.0.14393.2602_none_7e... C:\\Windows\\winsxs\\amd64_microsoft-windows-servicingstack_31bf3856ad364e35_10.0.14393.2602_none_7e...     16\n",
       "                           C:\\Windows\\WinSxS\\amd64_microsoft-windows-servicingstack_31bf3856ad364e35_10.0.14393.2782_none_7e... C:\\Windows\\winsxs\\amd64_microsoft-windows-servicingstack_31bf3856ad364e35_10.0.14393.2782_none_7e...     11\n",
       "                           C:\\Windows\\servicing\\TrustedInstaller.exe                                                            C:\\Windows\\servicing\\TrustedInstaller.exe                                                                26\n",
       "\n",
       "[4594 rows x 1 columns]"
      ]
     },
     "metadata": {},
     "output_type": "display_data"
    }
   ],
   "source": [
    "print(\"Getting process events...\", end=\"\")\n",
    "processes_on_host = qry_prov.WindowsSecurity.list_host_processes(\n",
    "    query_range, host_name=\"MSTICAlertsWin1\"\n",
    ")\n",
    "\n",
    "md(\"Initial analysis of data set\", \"large, bold\")\n",
    "md(f\"Total processes in data set <b>{len(processes_on_host)}</b>\")\n",
    "for column in (\"Account\", \"NewProcessName\", \"CommandLine\"):\n",
    "    md(f\"Total distinct {column} in data <b>{processes_on_host[column].nunique()}</b>\")\n",
    "md(\"<hr>\")\n",
    "md(\"Try grouping by distinct Account, Process, Commandline<br> - we still have 1000s of rows!\", \"large\")\n",
    "display(\n",
    "    processes_on_host\n",
    "    .groupby([\"Account\", \"NewProcessName\", \"CommandLine\"])\n",
    "    [[\"TimeGenerated\"]]\n",
    "    .count()\n",
    "    .rename(columns={\"TimeGenerated\": \"Count\"})\n",
    ")"
   ]
  },
  {
   "cell_type": "markdown",
   "metadata": {},
   "source": [
    "## Clustering motivation\n",
    "\n",
    "We want to find atypical commands being run and see if they are associated with\n",
    "the same user or time period<br>\n",
    "\n",
    "It is tedious to do repeated queries grouping on different attributes of events.<br>\n",
    "Instead we can specify features that we are interested in grouping around and use<br>\n",
    "clustering, a form of unsupervised learning, to group the data. \n",
    "\n",
    "A challenge when using simple grouping is that commands (commandlines) may vary slightly\n",
    "but are essentially repetitions of the same thing (e.g. contain dynamically-generated\n",
    "GUIDs or other temporary data).\n",
    "\n",
    "We can extract features of the commandline rather than using it in its raw form.\n",
    "\n",
    "Using clustering we can add arbitrarily many features to group on. Here we are using the following features:\n",
    "- Account name\n",
    "- Process name\n",
    "- Command line structure\n",
    "- Whether the process is a system session or not\n",
    "\n",
    "> **Note**: A downside to clustering is that text features (usually) need to be transformed from a string<br>\n",
    "> into a numeric representation."
   ]
  },
  {
   "cell_type": "code",
   "execution_count": 8,
   "metadata": {
    "gather": {
     "logged": 1618336998754
    }
   },
   "outputs": [
    {
     "name": "stdout",
     "output_type": "stream",
     "text": [
      "Input data: 22979 events\n",
      "Extracting features....done\n",
      "Clustering...done\n",
      "Number of input events: 22979\n",
      "Number of clustered events: 316\n",
      "Merging with source data and computing rarity...done\n"
     ]
    },
    {
     "data": {
      "text/html": [
       "<p style='font-size: 130%;font-weight: bold'><br><hr>Sessions ordered by process rarity</p>"
      ],
      "text/plain": [
       "<IPython.core.display.HTML object>"
      ]
     },
     "metadata": {},
     "output_type": "display_data"
    },
    {
     "data": {
      "text/html": [
       "<p style=''>Higher score indicates higher number of unusual processes</p>"
      ],
      "text/plain": [
       "<IPython.core.display.HTML object>"
      ]
     },
     "metadata": {},
     "output_type": "display_data"
    },
    {
     "data": {
      "text/html": [
       "<style type=\"text/css\">\n",
       "#T_db78d_row0_col2 {\n",
       "  width: 10em;\n",
       "  background: linear-gradient(90deg, #d65f5f 100.0%, transparent 100.0%);\n",
       "}\n",
       "#T_db78d_row1_col2 {\n",
       "  width: 10em;\n",
       "  background: linear-gradient(90deg, #d65f5f 72.9%, transparent 72.9%);\n",
       "}\n",
       "#T_db78d_row2_col2 {\n",
       "  width: 10em;\n",
       "  background: linear-gradient(90deg, #d65f5f 71.2%, transparent 71.2%);\n",
       "}\n",
       "#T_db78d_row3_col2 {\n",
       "  width: 10em;\n",
       "  background: linear-gradient(90deg, #d65f5f 67.2%, transparent 67.2%);\n",
       "}\n",
       "#T_db78d_row4_col2 {\n",
       "  width: 10em;\n",
       "  background: linear-gradient(90deg, #d65f5f 57.6%, transparent 57.6%);\n",
       "}\n",
       "#T_db78d_row5_col2, #T_db78d_row6_col2 {\n",
       "  width: 10em;\n",
       "  background: linear-gradient(90deg, #d65f5f 47.5%, transparent 47.5%);\n",
       "}\n",
       "#T_db78d_row7_col2, #T_db78d_row8_col2 {\n",
       "  width: 10em;\n",
       "  background: linear-gradient(90deg, #d65f5f 39.5%, transparent 39.5%);\n",
       "}\n",
       "#T_db78d_row9_col2 {\n",
       "  width: 10em;\n",
       "  background: linear-gradient(90deg, #d65f5f 39.0%, transparent 39.0%);\n",
       "}\n",
       "#T_db78d_row10_col2, #T_db78d_row11_col2 {\n",
       "  width: 10em;\n",
       "  background: linear-gradient(90deg, #d65f5f 33.4%, transparent 33.4%);\n",
       "}\n",
       "#T_db78d_row12_col2 {\n",
       "  width: 10em;\n",
       "  background: linear-gradient(90deg, #d65f5f 9.7%, transparent 9.7%);\n",
       "}\n",
       "#T_db78d_row13_col2 {\n",
       "  width: 10em;\n",
       "  background: linear-gradient(90deg, #d65f5f 6.3%, transparent 6.3%);\n",
       "}\n",
       "#T_db78d_row14_col2 {\n",
       "  width: 10em;\n",
       "  background: linear-gradient(90deg, #d65f5f 2.0%, transparent 2.0%);\n",
       "}\n",
       "#T_db78d_row15_col2 {\n",
       "  width: 10em;\n",
       "  background: linear-gradient(90deg, #d65f5f 0.8%, transparent 0.8%);\n",
       "}\n",
       "</style>\n",
       "<table id=\"T_db78d\">\n",
       "  <thead>\n",
       "    <tr>\n",
       "      <th class=\"blank level0\" >&nbsp;</th>\n",
       "      <th id=\"T_db78d_level0_col0\" class=\"col_heading level0 col0\" >SubjectUserName</th>\n",
       "      <th id=\"T_db78d_level0_col1\" class=\"col_heading level0 col1\" >SubjectLogonId</th>\n",
       "      <th id=\"T_db78d_level0_col2\" class=\"col_heading level0 col2\" >Rarity</th>\n",
       "      <th id=\"T_db78d_level0_col3\" class=\"col_heading level0 col3\" >ProcessCount</th>\n",
       "    </tr>\n",
       "  </thead>\n",
       "  <tbody>\n",
       "    <tr>\n",
       "      <th id=\"T_db78d_level0_row0\" class=\"row_heading level0 row0\" >15</th>\n",
       "      <td id=\"T_db78d_row0_col0\" class=\"data row0 col0\" >ian</td>\n",
       "      <td id=\"T_db78d_row0_col1\" class=\"data row0 col1\" >0x5d5af2</td>\n",
       "      <td id=\"T_db78d_row0_col2\" class=\"data row0 col2\" >0.607143</td>\n",
       "      <td id=\"T_db78d_row0_col3\" class=\"data row0 col3\" >56</td>\n",
       "    </tr>\n",
       "    <tr>\n",
       "      <th id=\"T_db78d_level0_row1\" class=\"row_heading level0 row1\" >9</th>\n",
       "      <td id=\"T_db78d_row1_col0\" class=\"data row1 col0\" >MSTICAdmin</td>\n",
       "      <td id=\"T_db78d_row1_col1\" class=\"data row1 col1\" >0xbd57571</td>\n",
       "      <td id=\"T_db78d_row1_col2\" class=\"data row1 col2\" >0.442630</td>\n",
       "      <td id=\"T_db78d_row1_col3\" class=\"data row1 col3\" >38</td>\n",
       "    </tr>\n",
       "    <tr>\n",
       "      <th id=\"T_db78d_level0_row2\" class=\"row_heading level0 row2\" >2</th>\n",
       "      <td id=\"T_db78d_row2_col0\" class=\"data row2 col0\" >MSTICAdmin</td>\n",
       "      <td id=\"T_db78d_row2_col1\" class=\"data row2 col1\" >0x109c408</td>\n",
       "      <td id=\"T_db78d_row2_col2\" class=\"data row2 col2\" >0.432549</td>\n",
       "      <td id=\"T_db78d_row2_col3\" class=\"data row2 col3\" >10</td>\n",
       "    </tr>\n",
       "    <tr>\n",
       "      <th id=\"T_db78d_level0_row3\" class=\"row_heading level0 row3\" >5</th>\n",
       "      <td id=\"T_db78d_row3_col0\" class=\"data row3 col0\" >MSTICAdmin</td>\n",
       "      <td id=\"T_db78d_row3_col1\" class=\"data row3 col1\" >0x2e2017</td>\n",
       "      <td id=\"T_db78d_row3_col2\" class=\"data row3 col2\" >0.408239</td>\n",
       "      <td id=\"T_db78d_row3_col3\" class=\"data row3 col3\" >33</td>\n",
       "    </tr>\n",
       "    <tr>\n",
       "      <th id=\"T_db78d_level0_row4\" class=\"row_heading level0 row4\" >0</th>\n",
       "      <td id=\"T_db78d_row4_col0\" class=\"data row4 col0\" >-</td>\n",
       "      <td id=\"T_db78d_row4_col1\" class=\"data row4 col1\" >0x3e7</td>\n",
       "      <td id=\"T_db78d_row4_col2\" class=\"data row4 col2\" >0.350000</td>\n",
       "      <td id=\"T_db78d_row4_col3\" class=\"data row4 col3\" >20</td>\n",
       "    </tr>\n",
       "    <tr>\n",
       "      <th id=\"T_db78d_level0_row5\" class=\"row_heading level0 row5\" >7</th>\n",
       "      <td id=\"T_db78d_row5_col0\" class=\"data row5 col0\" >MSTICAdmin</td>\n",
       "      <td id=\"T_db78d_row5_col1\" class=\"data row5 col1\" >0x78225e</td>\n",
       "      <td id=\"T_db78d_row5_col2\" class=\"data row5 col2\" >0.288251</td>\n",
       "      <td id=\"T_db78d_row5_col3\" class=\"data row5 col3\" >21</td>\n",
       "    </tr>\n",
       "    <tr>\n",
       "      <th id=\"T_db78d_level0_row6\" class=\"row_heading level0 row6\" >10</th>\n",
       "      <td id=\"T_db78d_row6_col0\" class=\"data row6 col0\" >MSTICAdmin</td>\n",
       "      <td id=\"T_db78d_row6_col1\" class=\"data row6 col1\" >0xbed1e13</td>\n",
       "      <td id=\"T_db78d_row6_col2\" class=\"data row6 col2\" >0.288251</td>\n",
       "      <td id=\"T_db78d_row6_col3\" class=\"data row6 col3\" >21</td>\n",
       "    </tr>\n",
       "    <tr>\n",
       "      <th id=\"T_db78d_level0_row7\" class=\"row_heading level0 row7\" >3</th>\n",
       "      <td id=\"T_db78d_row7_col0\" class=\"data row7 col0\" >MSTICAdmin</td>\n",
       "      <td id=\"T_db78d_row7_col1\" class=\"data row7 col1\" >0x1e821b5</td>\n",
       "      <td id=\"T_db78d_row7_col2\" class=\"data row7 col2\" >0.239992</td>\n",
       "      <td id=\"T_db78d_row7_col3\" class=\"data row7 col3\" >8</td>\n",
       "    </tr>\n",
       "    <tr>\n",
       "      <th id=\"T_db78d_level0_row8\" class=\"row_heading level0 row8\" >8</th>\n",
       "      <td id=\"T_db78d_row8_col0\" class=\"data row8 col0\" >MSTICAdmin</td>\n",
       "      <td id=\"T_db78d_row8_col1\" class=\"data row8 col1\" >0xab5a5ac</td>\n",
       "      <td id=\"T_db78d_row8_col2\" class=\"data row8 col2\" >0.239992</td>\n",
       "      <td id=\"T_db78d_row8_col3\" class=\"data row8 col3\" >8</td>\n",
       "    </tr>\n",
       "    <tr>\n",
       "      <th id=\"T_db78d_level0_row9\" class=\"row_heading level0 row9\" >11</th>\n",
       "      <td id=\"T_db78d_row9_col0\" class=\"data row9 col0\" >MSTICAdmin</td>\n",
       "      <td id=\"T_db78d_row9_col1\" class=\"data row9 col1\" >0xc277459</td>\n",
       "      <td id=\"T_db78d_row9_col2\" class=\"data row9 col2\" >0.236656</td>\n",
       "      <td id=\"T_db78d_row9_col3\" class=\"data row9 col3\" >6</td>\n",
       "    </tr>\n",
       "    <tr>\n",
       "      <th id=\"T_db78d_level0_row10\" class=\"row_heading level0 row10\" >4</th>\n",
       "      <td id=\"T_db78d_row10_col0\" class=\"data row10 col0\" >MSTICAdmin</td>\n",
       "      <td id=\"T_db78d_row10_col1\" class=\"data row10 col1\" >0x1f388a3</td>\n",
       "      <td id=\"T_db78d_row10_col2\" class=\"data row10 col2\" >0.202848</td>\n",
       "      <td id=\"T_db78d_row10_col3\" class=\"data row10 col3\" >7</td>\n",
       "    </tr>\n",
       "    <tr>\n",
       "      <th id=\"T_db78d_level0_row11\" class=\"row_heading level0 row11\" >12</th>\n",
       "      <td id=\"T_db78d_row11_col0\" class=\"data row11 col0\" >MSTICAdmin</td>\n",
       "      <td id=\"T_db78d_row11_col1\" class=\"data row11 col1\" >0xc54c7b9</td>\n",
       "      <td id=\"T_db78d_row11_col2\" class=\"data row11 col2\" >0.202848</td>\n",
       "      <td id=\"T_db78d_row11_col3\" class=\"data row11 col3\" >7</td>\n",
       "    </tr>\n",
       "    <tr>\n",
       "      <th id=\"T_db78d_level0_row12\" class=\"row_heading level0 row12\" >6</th>\n",
       "      <td id=\"T_db78d_row12_col0\" class=\"data row12 col0\" >MSTICAdmin</td>\n",
       "      <td id=\"T_db78d_row12_col1\" class=\"data row12 col1\" >0x527d50d</td>\n",
       "      <td id=\"T_db78d_row12_col2\" class=\"data row12 col2\" >0.058824</td>\n",
       "      <td id=\"T_db78d_row12_col3\" class=\"data row12 col3\" >3</td>\n",
       "    </tr>\n",
       "    <tr>\n",
       "      <th id=\"T_db78d_level0_row13\" class=\"row_heading level0 row13\" >1</th>\n",
       "      <td id=\"T_db78d_row13_col0\" class=\"data row13 col0\" >LOCAL SERVICE</td>\n",
       "      <td id=\"T_db78d_row13_col1\" class=\"data row13 col1\" >0x3e5</td>\n",
       "      <td id=\"T_db78d_row13_col2\" class=\"data row13 col2\" >0.038462</td>\n",
       "      <td id=\"T_db78d_row13_col3\" class=\"data row13 col3\" >26</td>\n",
       "    </tr>\n",
       "    <tr>\n",
       "      <th id=\"T_db78d_level0_row14\" class=\"row_heading level0 row14\" >14</th>\n",
       "      <td id=\"T_db78d_row14_col0\" class=\"data row14 col0\" >MSTICAlertsWin1$</td>\n",
       "      <td id=\"T_db78d_row14_col1\" class=\"data row14 col1\" >0x3e7</td>\n",
       "      <td id=\"T_db78d_row14_col2\" class=\"data row14 col2\" >0.012226</td>\n",
       "      <td id=\"T_db78d_row14_col3\" class=\"data row14 col3\" >14508</td>\n",
       "    </tr>\n",
       "    <tr>\n",
       "      <th id=\"T_db78d_level0_row15\" class=\"row_heading level0 row15\" >13</th>\n",
       "      <td id=\"T_db78d_row15_col0\" class=\"data row15 col0\" >MSTICAlertsWin1$</td>\n",
       "      <td id=\"T_db78d_row15_col1\" class=\"data row15 col1\" >0x3e4</td>\n",
       "      <td id=\"T_db78d_row15_col2\" class=\"data row15 col2\" >0.004636</td>\n",
       "      <td id=\"T_db78d_row15_col3\" class=\"data row15 col3\" >8197</td>\n",
       "    </tr>\n",
       "  </tbody>\n",
       "</table>\n"
      ],
      "text/plain": [
       "<pandas.io.formats.style.Styler at 0x263246d4520>"
      ]
     },
     "metadata": {},
     "output_type": "display_data"
    }
   ],
   "source": [
    "from msticpy.sectools.eventcluster import dbcluster_events, add_process_features, char_ord_score\n",
    "from collections import Counter\n",
    "\n",
    "print(f\"Input data: {len(processes_on_host)} events\")\n",
    "print(\"Extracting features...\", end=\"\")\n",
    "feature_procs = add_process_features(input_frame=processes_on_host, path_separator=\"\\\\\")\n",
    "\n",
    "feature_procs[\"accountNum\"] = feature_procs.apply(\n",
    "    lambda x: char_ord_score(x.Account), axis=1\n",
    ")\n",
    "print(\".\", end=\"\")\n",
    "\n",
    "# you might need to play around with the max_cluster_distance parameter.\n",
    "# decreasing this gives more clusters.\n",
    "cluster_columns = [\"commandlineTokensFull\", \"pathScore\", \"accountNum\", \"isSystemSession\"]\n",
    "print(\"done\")\n",
    "print(\"Clustering...\", end=\"\")\n",
    "(clus_events, dbcluster, x_data) = dbcluster_events(\n",
    "    data=feature_procs,\n",
    "    cluster_columns=cluster_columns,\n",
    "    max_cluster_distance=0.0001,\n",
    ")\n",
    "print(\"done\")\n",
    "print(\"Number of input events:\", len(feature_procs))\n",
    "print(\"Number of clustered events:\", len(clus_events))\n",
    "\n",
    "print(\"Merging with source data and computing rarity...\", end=\"\")\n",
    "\n",
    "# Join the clustered results back to the original process frame\n",
    "procs_with_cluster = feature_procs.merge(\n",
    "    clus_events[[*cluster_columns, \"ClusterSize\"]],\n",
    "    on=[\"commandlineTokensFull\", \"accountNum\", \"pathScore\", \"isSystemSession\"],\n",
    ")\n",
    "\n",
    "# Compute Process pattern Rarity = inverse of cluster size\n",
    "procs_with_cluster[\"Rarity\"] = 1 / procs_with_cluster[\"ClusterSize\"]\n",
    "# count the number of processes for each logon ID\n",
    "lgn_proc_count = (\n",
    "    pd.concat(\n",
    "        [\n",
    "            processes_on_host.groupby(\"TargetLogonId\")[\"TargetLogonId\"].count(),\n",
    "            processes_on_host.groupby(\"SubjectLogonId\")[\"SubjectLogonId\"].count(),\n",
    "        ]\n",
    "    ).sum(level=0)\n",
    ").to_dict()\n",
    "print(\"done\")\n",
    "# Display the results\n",
    "md(\"<br><hr>Sessions ordered by process rarity\", \"large, bold\")\n",
    "md(\"Higher score indicates higher number of unusual processes\")\n",
    "process_rarity = (procs_with_cluster.groupby([\"SubjectUserName\", \"SubjectLogonId\"])\n",
    "    .agg({\"Rarity\": \"mean\", \"TimeGenerated\": \"count\"})\n",
    "    .rename(columns={\"TimeGenerated\": \"ProcessCount\"})\n",
    "    .reset_index())\n",
    "display(\n",
    "    process_rarity\n",
    "    .sort_values(\"Rarity\", ascending=False)\n",
    "    .style.bar(subset=[\"Rarity\"], color=\"#d65f5f\")\n",
    ")"
   ]
  },
  {
   "cell_type": "code",
   "execution_count": 10,
   "metadata": {
    "gather": {
     "logged": 1618337003076
    }
   },
   "outputs": [
    {
     "data": {
      "text/html": [
       "<p style='font-weight: bold'>20 processes executed in 1.323 sec</p>"
      ],
      "text/plain": [
       "<IPython.core.display.HTML object>"
      ]
     },
     "metadata": {},
     "output_type": "display_data"
    },
    {
     "data": {
      "text/html": [
       "<div>\n",
       "<style scoped>\n",
       "    .dataframe tbody tr th:only-of-type {\n",
       "        vertical-align: middle;\n",
       "    }\n",
       "\n",
       "    .dataframe tbody tr th {\n",
       "        vertical-align: top;\n",
       "    }\n",
       "\n",
       "    .dataframe thead th {\n",
       "        text-align: right;\n",
       "    }\n",
       "</style>\n",
       "<table border=\"1\" class=\"dataframe\">\n",
       "  <thead>\n",
       "    <tr style=\"text-align: right;\">\n",
       "      <th></th>\n",
       "      <th>TimeGenerated</th>\n",
       "      <th>CommandLine</th>\n",
       "    </tr>\n",
       "  </thead>\n",
       "  <tbody>\n",
       "    <tr>\n",
       "      <th>22656</th>\n",
       "      <td>2021-06-27 07:48:54.286344</td>\n",
       "      <td>ftp  -s:MG06.dll</td>\n",
       "    </tr>\n",
       "    <tr>\n",
       "      <th>22657</th>\n",
       "      <td>2021-06-27 07:48:55.166344</td>\n",
       "      <td>cacls.exe  C:\\Windows\\system32\\cscript.exe /e /t /g SYSTEM:F</td>\n",
       "    </tr>\n",
       "    <tr>\n",
       "      <th>22658</th>\n",
       "      <td>2021-06-27 07:48:55.256344</td>\n",
       "      <td>net  users</td>\n",
       "    </tr>\n",
       "    <tr>\n",
       "      <th>22659</th>\n",
       "      <td>2021-06-27 07:48:55.269344</td>\n",
       "      <td>findstr  \"abai$\"</td>\n",
       "    </tr>\n",
       "    <tr>\n",
       "      <th>22660</th>\n",
       "      <td>2021-06-27 07:48:55.296344</td>\n",
       "      <td>C:\\Windows\\system32\\net1  users</td>\n",
       "    </tr>\n",
       "    <tr>\n",
       "      <th>22661</th>\n",
       "      <td>2021-06-27 07:48:55.356344</td>\n",
       "      <td>net  user abai$ [PLACEHOLDER] /add</td>\n",
       "    </tr>\n",
       "    <tr>\n",
       "      <th>22662</th>\n",
       "      <td>2021-06-27 07:48:55.366344</td>\n",
       "      <td>C:\\Windows\\system32\\net1  user abai$ [PLACEHOLDER] /add</td>\n",
       "    </tr>\n",
       "    <tr>\n",
       "      <th>22663</th>\n",
       "      <td>2021-06-27 07:48:55.392344</td>\n",
       "      <td>net  user abai$ [PLACEHOLDER]</td>\n",
       "    </tr>\n",
       "    <tr>\n",
       "      <th>22664</th>\n",
       "      <td>2021-06-27 07:48:55.406344</td>\n",
       "      <td>C:\\Windows\\system32\\net1  user abai$ [PLACEHOLDER]</td>\n",
       "    </tr>\n",
       "    <tr>\n",
       "      <th>22665</th>\n",
       "      <td>2021-06-27 07:48:55.432344</td>\n",
       "      <td>net  localgroup administrators</td>\n",
       "    </tr>\n",
       "    <tr>\n",
       "      <th>22666</th>\n",
       "      <td>2021-06-27 07:48:55.439344</td>\n",
       "      <td>findstr  \"abai$\"</td>\n",
       "    </tr>\n",
       "    <tr>\n",
       "      <th>22667</th>\n",
       "      <td>2021-06-27 07:48:55.449344</td>\n",
       "      <td>C:\\Windows\\system32\\net1  localgroup administrators</td>\n",
       "    </tr>\n",
       "    <tr>\n",
       "      <th>22668</th>\n",
       "      <td>2021-06-27 07:48:55.472344</td>\n",
       "      <td>net  localgroup administrators abai$ /add</td>\n",
       "    </tr>\n",
       "    <tr>\n",
       "      <th>22669</th>\n",
       "      <td>2021-06-27 07:48:55.489344</td>\n",
       "      <td>C:\\Windows\\system32\\net1  localgroup administrators abai$ /add</td>\n",
       "    </tr>\n",
       "    <tr>\n",
       "      <th>22670</th>\n",
       "      <td>2021-06-27 07:48:55.529344</td>\n",
       "      <td>net  users</td>\n",
       "    </tr>\n",
       "    <tr>\n",
       "      <th>22671</th>\n",
       "      <td>2021-06-27 07:48:55.536344</td>\n",
       "      <td>findstr  \"www.401hk.com\"</td>\n",
       "    </tr>\n",
       "    <tr>\n",
       "      <th>22672</th>\n",
       "      <td>2021-06-27 07:48:55.542344</td>\n",
       "      <td>C:\\Windows\\system32\\net1  users</td>\n",
       "    </tr>\n",
       "    <tr>\n",
       "      <th>22673</th>\n",
       "      <td>2021-06-27 07:48:55.569344</td>\n",
       "      <td>net  user www.401hk.com [PLACEHOLDER] /add</td>\n",
       "    </tr>\n",
       "    <tr>\n",
       "      <th>22674</th>\n",
       "      <td>2021-06-27 07:48:55.582344</td>\n",
       "      <td>C:\\Windows\\system32\\net1  user www.401hk.com [PLACEHOLDER] /add</td>\n",
       "    </tr>\n",
       "    <tr>\n",
       "      <th>22675</th>\n",
       "      <td>2021-06-27 07:48:55.609344</td>\n",
       "      <td>net  user www.401hk.com Wf9k44_sinc9d3[=$</td>\n",
       "    </tr>\n",
       "  </tbody>\n",
       "</table>\n",
       "</div>"
      ],
      "text/plain": [
       "                   TimeGenerated  \\\n",
       "22656 2021-06-27 07:48:54.286344   \n",
       "22657 2021-06-27 07:48:55.166344   \n",
       "22658 2021-06-27 07:48:55.256344   \n",
       "22659 2021-06-27 07:48:55.269344   \n",
       "22660 2021-06-27 07:48:55.296344   \n",
       "22661 2021-06-27 07:48:55.356344   \n",
       "22662 2021-06-27 07:48:55.366344   \n",
       "22663 2021-06-27 07:48:55.392344   \n",
       "22664 2021-06-27 07:48:55.406344   \n",
       "22665 2021-06-27 07:48:55.432344   \n",
       "22666 2021-06-27 07:48:55.439344   \n",
       "22667 2021-06-27 07:48:55.449344   \n",
       "22668 2021-06-27 07:48:55.472344   \n",
       "22669 2021-06-27 07:48:55.489344   \n",
       "22670 2021-06-27 07:48:55.529344   \n",
       "22671 2021-06-27 07:48:55.536344   \n",
       "22672 2021-06-27 07:48:55.542344   \n",
       "22673 2021-06-27 07:48:55.569344   \n",
       "22674 2021-06-27 07:48:55.582344   \n",
       "22675 2021-06-27 07:48:55.609344   \n",
       "\n",
       "                                                           CommandLine  \n",
       "22656                                                 ftp  -s:MG06.dll  \n",
       "22657     cacls.exe  C:\\Windows\\system32\\cscript.exe /e /t /g SYSTEM:F  \n",
       "22658                                                      net  users   \n",
       "22659                                                 findstr  \"abai$\"  \n",
       "22660                                 C:\\Windows\\system32\\net1  users   \n",
       "22661                               net  user abai$ [PLACEHOLDER] /add  \n",
       "22662          C:\\Windows\\system32\\net1  user abai$ [PLACEHOLDER] /add  \n",
       "22663                                    net  user abai$ [PLACEHOLDER]  \n",
       "22664               C:\\Windows\\system32\\net1  user abai$ [PLACEHOLDER]  \n",
       "22665                                  net  localgroup administrators   \n",
       "22666                                                 findstr  \"abai$\"  \n",
       "22667             C:\\Windows\\system32\\net1  localgroup administrators   \n",
       "22668                        net  localgroup administrators abai$ /add  \n",
       "22669   C:\\Windows\\system32\\net1  localgroup administrators abai$ /add  \n",
       "22670                                                      net  users   \n",
       "22671                                         findstr  \"www.401hk.com\"  \n",
       "22672                                 C:\\Windows\\system32\\net1  users   \n",
       "22673                       net  user www.401hk.com [PLACEHOLDER] /add  \n",
       "22674  C:\\Windows\\system32\\net1  user www.401hk.com [PLACEHOLDER] /add  \n",
       "22675                        net  user www.401hk.com Wf9k44_sinc9d3[=$  "
      ]
     },
     "metadata": {},
     "output_type": "display_data"
    },
    {
     "data": {
      "text/html": [
       "<p style=''>Note: '[PLACEHOLDER]' in the CommandLine values replaces the password value.</p>"
      ],
      "text/plain": [
       "<IPython.core.display.HTML object>"
      ]
     },
     "metadata": {},
     "output_type": "display_data"
    }
   ],
   "source": [
    "# get the logon ID of the rarest session\n",
    "rarest_logonid = process_rarity[process_rarity[\"Rarity\"] == process_rarity.Rarity.max()].SubjectLogonId.iloc[0]\n",
    "# extract processes with this logonID\n",
    "sample_processes = (\n",
    "    processes_on_host\n",
    "    [processes_on_host[\"SubjectLogonId\"] == rarest_logonid]\n",
    "    [[\"TimeGenerated\", \"CommandLine\"]]\n",
    "    .sort_values(\"TimeGenerated\")\n",
    ")[5:25]\n",
    "# compute duration of session\n",
    "duration = sample_processes.TimeGenerated.max() - sample_processes.TimeGenerated.min()\n",
    "md(f\"{len(sample_processes)} processes executed in {duration.total_seconds()} sec\", \"bold\")\n",
    "display(sample_processes)\n",
    "md(\"Note: '[PLACEHOLDER]' in the CommandLine values replaces the password value.\")\n"
   ]
  },
  {
   "cell_type": "markdown",
   "metadata": {},
   "source": [
    "## Clustering conclusion\n",
    "We have narrowed down the task of sifting through > 20,000 processes \n",
    "to a few 10s and have them grouped into sessions ordered by the\n",
    "relative rarity of the process patterns"
   ]
  },
  {
   "cell_type": "markdown",
   "metadata": {},
   "source": [
    "## Other Applications\n",
    "\n",
    "You can use this technique on other datasets where you want to group by multiple features of the data.\n",
    "\n",
    "The caveat is that you need to transform any non-numeric data field into a numeric form.\n",
    "\n",
    "msticpy has a few built-in functions to help with this:\n",
    "```python\n",
    "from msticpy.sectools import eventcluster\n",
    "\n",
    "# This will group similar names together (e.g. \"Administrator\" and \"administrator\")\n",
    "my_df[\"account_num\"] = eventcluster.char_ord_score_df(data=my_df, column=\"Account\")\n",
    "\n",
    "# This will create a distinct hash for even minor differences in the input.\n",
    "# This might be useful to detect imperfectly faked UA strings.\n",
    "my_df[\"ua_hash\"] = eventcluster.crc32_hash_df(data=my_df, column=\"UserAgent\")\n",
    "\n",
    "# This will return the number of delimiter chars in the string - often a \n",
    "# a good proxy for the structure of an input while ignoring variable text values\n",
    "# e.g. \n",
    "# \"https://my.dom.com/path1?u1=163.174.4.23\" will produce the same score as\n",
    "# \"https://www.contoso.com/azure?srcdom=moon.base.alpha.com\"\n",
    "# but\n",
    "# \"curl https://www.contoso.com/top/next?u=23 > ~/my_page\"\n",
    "# \"curl https://www.contoso.com/top_next?u=2.3  > ~/my_page.sh\"\n",
    "# will produce different values despite the similarity of the strings.\n",
    "# Note - you can override the default delimiter list of \" \\-/.,\"'|&:;%\\$()]\"\n",
    "my_df[\"request_struct\"] = eventcluster.delim_count_df(my_df, column=\"Request\")\n",
    "```\n",
    "\n",
    "You can use a combination of these and other functions on the same fields\n",
    "to measure different aspects of the data. For example, the following takes\n",
    "a hash of the browser version of the UA (user agent) string and a structural count of\n",
    "the delimiters used.\n",
    "\n",
    "Use the `ua_pref_hash` and `ua_delims` to cluster on identical browser versions that\n",
    "have the same UA string\n",
    "```python\n",
    "my_df[\"ua_prefix\"] = data=my_df[\"UserAgent\"].str.split(\")\")[-1])\n",
    "my_df[\"ua_pref_hash\"] = eventcluster.crc32_hash_df(data=my_df, column=\"ua_prefix\")\n",
    "my_df[\"ua_delims\"] = eventcluster.delim_count_df(data=my_df, column=\"UserAgent\")\n",
    "```"
   ]
  },
  {
   "cell_type": "markdown",
   "metadata": {},
   "source": [
    "<hr>\n",
    "\n",
    "# Detecting anomalous sequences using Markov Chain\n",
    "\n",
    "The **anomalous_sequence** MSTICPy package uses Markov Chain analysis to predict the probability<br>\n",
    "that a particular sequence of events will occur given what has happened in the past.\n",
    "\n",
    "Here we're applying it to Office activity. \n"
   ]
  },
  {
   "cell_type": "markdown",
   "metadata": {},
   "source": [
    "## Query the data"
   ]
  },
  {
   "cell_type": "code",
   "execution_count": 11,
   "metadata": {
    "gather": {
     "logged": 1617840728875
    }
   },
   "outputs": [
    {
     "name": "stdout",
     "output_type": "stream",
     "text": [
      "Number of events 146\n"
     ]
    },
    {
     "data": {
      "text/html": [
       "<div>\n",
       "<style scoped>\n",
       "    .dataframe tbody tr th:only-of-type {\n",
       "        vertical-align: middle;\n",
       "    }\n",
       "\n",
       "    .dataframe tbody tr th {\n",
       "        vertical-align: top;\n",
       "    }\n",
       "\n",
       "    .dataframe thead th {\n",
       "        text-align: right;\n",
       "    }\n",
       "</style>\n",
       "<table border=\"1\" class=\"dataframe\">\n",
       "  <thead>\n",
       "    <tr style=\"text-align: right;\">\n",
       "      <th></th>\n",
       "      <th>UserId</th>\n",
       "      <th>ClientIP</th>\n",
       "      <th>nCmds</th>\n",
       "      <th>nDistinctCmds</th>\n",
       "      <th>begin</th>\n",
       "      <th>end</th>\n",
       "      <th>duration</th>\n",
       "      <th>cmds</th>\n",
       "    </tr>\n",
       "  </thead>\n",
       "  <tbody>\n",
       "    <tr>\n",
       "      <th>0</th>\n",
       "      <td>NAMPRD06\\Administrator (Microsoft.Office.Datacenter.Torus.PowerShellWorker)</td>\n",
       "      <td>nan</td>\n",
       "      <td>28</td>\n",
       "      <td>1</td>\n",
       "      <td>2020-06-21 02:36:46+00:00</td>\n",
       "      <td>2020-06-21 02:36:46+00:00</td>\n",
       "      <td>0 days</td>\n",
       "      <td>[Set-ConditionalAccessPolicy, Set-ConditionalAccessPolicy, Set-ConditionalAccessPolicy, Set-Cond...</td>\n",
       "    </tr>\n",
       "    <tr>\n",
       "      <th>1</th>\n",
       "      <td>NAMPRD06\\Administrator (Microsoft.Office.Datacenter.Torus.PowerShellWorker)</td>\n",
       "      <td>nan</td>\n",
       "      <td>28</td>\n",
       "      <td>1</td>\n",
       "      <td>2020-06-21 05:31:34+00:00</td>\n",
       "      <td>2020-06-21 05:31:34+00:00</td>\n",
       "      <td>0 days</td>\n",
       "      <td>[Set-ConditionalAccessPolicy, Set-ConditionalAccessPolicy, Set-ConditionalAccessPolicy, Set-Cond...</td>\n",
       "    </tr>\n",
       "    <tr>\n",
       "      <th>2</th>\n",
       "      <td>NAMPRD06\\Administrator (Microsoft.Office.Datacenter.Torus.PowerShellWorker)</td>\n",
       "      <td>nan</td>\n",
       "      <td>2</td>\n",
       "      <td>1</td>\n",
       "      <td>2020-06-22 02:27:06+00:00</td>\n",
       "      <td>2020-06-22 02:27:06+00:00</td>\n",
       "      <td>0 days</td>\n",
       "      <td>[Set-ConditionalAccessPolicy, Set-ConditionalAccessPolicy]</td>\n",
       "    </tr>\n",
       "    <tr>\n",
       "      <th>3</th>\n",
       "      <td>NAMPRD06\\Administrator (Microsoft.Office.Datacenter.Torus.PowerShellWorker)</td>\n",
       "      <td>nan</td>\n",
       "      <td>26</td>\n",
       "      <td>1</td>\n",
       "      <td>2020-06-22 02:30:52+00:00</td>\n",
       "      <td>2020-06-22 02:30:52+00:00</td>\n",
       "      <td>0 days</td>\n",
       "      <td>[Set-ConditionalAccessPolicy, Set-ConditionalAccessPolicy, Set-ConditionalAccessPolicy, Set-Cond...</td>\n",
       "    </tr>\n",
       "    <tr>\n",
       "      <th>4</th>\n",
       "      <td>NAMPRD06\\Administrator (Microsoft.Office.Datacenter.Torus.PowerShellWorker)</td>\n",
       "      <td>nan</td>\n",
       "      <td>28</td>\n",
       "      <td>1</td>\n",
       "      <td>2020-06-22 04:55:59+00:00</td>\n",
       "      <td>2020-06-22 04:55:59+00:00</td>\n",
       "      <td>0 days</td>\n",
       "      <td>[Set-ConditionalAccessPolicy, Set-ConditionalAccessPolicy, Set-ConditionalAccessPolicy, Set-Cond...</td>\n",
       "    </tr>\n",
       "  </tbody>\n",
       "</table>\n",
       "</div>"
      ],
      "text/plain": [
       "                                                                        UserId  \\\n",
       "0  NAMPRD06\\Administrator (Microsoft.Office.Datacenter.Torus.PowerShellWorker)   \n",
       "1  NAMPRD06\\Administrator (Microsoft.Office.Datacenter.Torus.PowerShellWorker)   \n",
       "2  NAMPRD06\\Administrator (Microsoft.Office.Datacenter.Torus.PowerShellWorker)   \n",
       "3  NAMPRD06\\Administrator (Microsoft.Office.Datacenter.Torus.PowerShellWorker)   \n",
       "4  NAMPRD06\\Administrator (Microsoft.Office.Datacenter.Torus.PowerShellWorker)   \n",
       "\n",
       "  ClientIP  nCmds  nDistinctCmds                     begin  \\\n",
       "0      nan     28              1 2020-06-21 02:36:46+00:00   \n",
       "1      nan     28              1 2020-06-21 05:31:34+00:00   \n",
       "2      nan      2              1 2020-06-22 02:27:06+00:00   \n",
       "3      nan     26              1 2020-06-22 02:30:52+00:00   \n",
       "4      nan     28              1 2020-06-22 04:55:59+00:00   \n",
       "\n",
       "                        end duration  \\\n",
       "0 2020-06-21 02:36:46+00:00   0 days   \n",
       "1 2020-06-21 05:31:34+00:00   0 days   \n",
       "2 2020-06-22 02:27:06+00:00   0 days   \n",
       "3 2020-06-22 02:30:52+00:00   0 days   \n",
       "4 2020-06-22 04:55:59+00:00   0 days   \n",
       "\n",
       "                                                                                                  cmds  \n",
       "0  [Set-ConditionalAccessPolicy, Set-ConditionalAccessPolicy, Set-ConditionalAccessPolicy, Set-Cond...  \n",
       "1  [Set-ConditionalAccessPolicy, Set-ConditionalAccessPolicy, Set-ConditionalAccessPolicy, Set-Cond...  \n",
       "2                                           [Set-ConditionalAccessPolicy, Set-ConditionalAccessPolicy]  \n",
       "3  [Set-ConditionalAccessPolicy, Set-ConditionalAccessPolicy, Set-ConditionalAccessPolicy, Set-Cond...  \n",
       "4  [Set-ConditionalAccessPolicy, Set-ConditionalAccessPolicy, Set-ConditionalAccessPolicy, Set-Cond...  "
      ]
     },
     "execution_count": 11,
     "metadata": {},
     "output_type": "execute_result"
    }
   ],
   "source": [
    "query = \"\"\"\n",
    "| where TimeGenerated >= ago(60d)\n",
    "| where RecordType_s == 'ExchangeAdmin'\n",
    "| where UserId_s !startswith \"NT AUTHORITY\"\n",
    "| where UserId_s !contains \"prod.outlook.com\"  \n",
    "| extend params = todynamic(strcat('{\"', Operation_s, '\" : ', tostring(Parameters_s), '}')) \n",
    "| extend UserId = UserId_s, ClientIP = ClientIP_s, Operation = Operation_s\n",
    "| project TimeGenerated= Start_Time_t, UserId, ClientIP, Operation, params\n",
    "| sort by UserId asc, ClientIP asc, TimeGenerated asc\n",
    "| extend begin = row_window_session(TimeGenerated, 20m, 2m, UserId != prev(UserId) or ClientIP != prev(ClientIP))\n",
    "| summarize cmds=makelist(Operation), end=max(TimeGenerated), nCmds=count(), nDistinctCmds=dcount(Operation),\n",
    "params=makelist(params) by UserId, ClientIP, begin\n",
    "| project UserId, ClientIP, nCmds, nDistinctCmds, begin, end, duration=end-begin, cmds, params\n",
    "\"\"\"\n",
    "exchange_df = qry_prov.Azure.OfficeActivity(add_query_items=query)\n",
    "print(f\"Number of events {len(exchange_df)}\")\n",
    "exchange_df.drop(columns=\"params\").head()"
   ]
  },
  {
   "cell_type": "markdown",
   "metadata": {},
   "source": [
    "## Perform Anomalous Sequence analysis on the data\n",
    "\n",
    "The analysis groups events into sessions (time-bounded and linked by a common account). It then<br>\n",
    "builds a probability model for the types of *command* (E.g. \"SetMailboxProperty\")<br>\n",
    "and the parameters and parameter values used for that command.\n",
    "\n",
    "I.e. how likely is it that a given user would be running this sequence of commands in a logon session?\n",
    "\n",
    "Using this probability model, we can highlight sequences that have an extremely low probability, based<br>\n",
    "on prior behaviour.\n"
   ]
  },
  {
   "cell_type": "code",
   "execution_count": 12,
   "metadata": {
    "gather": {
     "logged": 1617840741087
    }
   },
   "outputs": [
    {
     "data": {
      "text/html": [
       "\n",
       "    <div class=\"bk-root\">\n",
       "        <a href=\"https://bokeh.org\" target=\"_blank\" class=\"bk-logo bk-logo-small bk-logo-notebook\"></a>\n",
       "        <span id=\"1399\">Loading BokehJS ...</span>\n",
       "    </div>"
      ]
     },
     "metadata": {},
     "output_type": "display_data"
    },
    {
     "data": {
      "application/javascript": [
       "\n",
       "(function(root) {\n",
       "  function now() {\n",
       "    return new Date();\n",
       "  }\n",
       "\n",
       "  const force = true;\n",
       "\n",
       "  if (typeof root._bokeh_onload_callbacks === \"undefined\" || force === true) {\n",
       "    root._bokeh_onload_callbacks = [];\n",
       "    root._bokeh_is_loading = undefined;\n",
       "  }\n",
       "\n",
       "  const JS_MIME_TYPE = 'application/javascript';\n",
       "  const HTML_MIME_TYPE = 'text/html';\n",
       "  const EXEC_MIME_TYPE = 'application/vnd.bokehjs_exec.v0+json';\n",
       "  const CLASS_NAME = 'output_bokeh rendered_html';\n",
       "\n",
       "  /**\n",
       "   * Render data to the DOM node\n",
       "   */\n",
       "  function render(props, node) {\n",
       "    const script = document.createElement(\"script\");\n",
       "    node.appendChild(script);\n",
       "  }\n",
       "\n",
       "  /**\n",
       "   * Handle when an output is cleared or removed\n",
       "   */\n",
       "  function handleClearOutput(event, handle) {\n",
       "    const cell = handle.cell;\n",
       "\n",
       "    const id = cell.output_area._bokeh_element_id;\n",
       "    const server_id = cell.output_area._bokeh_server_id;\n",
       "    // Clean up Bokeh references\n",
       "    if (id != null && id in Bokeh.index) {\n",
       "      Bokeh.index[id].model.document.clear();\n",
       "      delete Bokeh.index[id];\n",
       "    }\n",
       "\n",
       "    if (server_id !== undefined) {\n",
       "      // Clean up Bokeh references\n",
       "      const cmd_clean = \"from bokeh.io.state import curstate; print(curstate().uuid_to_server['\" + server_id + \"'].get_sessions()[0].document.roots[0]._id)\";\n",
       "      cell.notebook.kernel.execute(cmd_clean, {\n",
       "        iopub: {\n",
       "          output: function(msg) {\n",
       "            const id = msg.content.text.trim();\n",
       "            if (id in Bokeh.index) {\n",
       "              Bokeh.index[id].model.document.clear();\n",
       "              delete Bokeh.index[id];\n",
       "            }\n",
       "          }\n",
       "        }\n",
       "      });\n",
       "      // Destroy server and session\n",
       "      const cmd_destroy = \"import bokeh.io.notebook as ion; ion.destroy_server('\" + server_id + \"')\";\n",
       "      cell.notebook.kernel.execute(cmd_destroy);\n",
       "    }\n",
       "  }\n",
       "\n",
       "  /**\n",
       "   * Handle when a new output is added\n",
       "   */\n",
       "  function handleAddOutput(event, handle) {\n",
       "    const output_area = handle.output_area;\n",
       "    const output = handle.output;\n",
       "\n",
       "    // limit handleAddOutput to display_data with EXEC_MIME_TYPE content only\n",
       "    if ((output.output_type != \"display_data\") || (!Object.prototype.hasOwnProperty.call(output.data, EXEC_MIME_TYPE))) {\n",
       "      return\n",
       "    }\n",
       "\n",
       "    const toinsert = output_area.element.find(\".\" + CLASS_NAME.split(' ')[0]);\n",
       "\n",
       "    if (output.metadata[EXEC_MIME_TYPE][\"id\"] !== undefined) {\n",
       "      toinsert[toinsert.length - 1].firstChild.textContent = output.data[JS_MIME_TYPE];\n",
       "      // store reference to embed id on output_area\n",
       "      output_area._bokeh_element_id = output.metadata[EXEC_MIME_TYPE][\"id\"];\n",
       "    }\n",
       "    if (output.metadata[EXEC_MIME_TYPE][\"server_id\"] !== undefined) {\n",
       "      const bk_div = document.createElement(\"div\");\n",
       "      bk_div.innerHTML = output.data[HTML_MIME_TYPE];\n",
       "      const script_attrs = bk_div.children[0].attributes;\n",
       "      for (let i = 0; i < script_attrs.length; i++) {\n",
       "        toinsert[toinsert.length - 1].firstChild.setAttribute(script_attrs[i].name, script_attrs[i].value);\n",
       "        toinsert[toinsert.length - 1].firstChild.textContent = bk_div.children[0].textContent\n",
       "      }\n",
       "      // store reference to server id on output_area\n",
       "      output_area._bokeh_server_id = output.metadata[EXEC_MIME_TYPE][\"server_id\"];\n",
       "    }\n",
       "  }\n",
       "\n",
       "  function register_renderer(events, OutputArea) {\n",
       "\n",
       "    function append_mime(data, metadata, element) {\n",
       "      // create a DOM node to render to\n",
       "      const toinsert = this.create_output_subarea(\n",
       "        metadata,\n",
       "        CLASS_NAME,\n",
       "        EXEC_MIME_TYPE\n",
       "      );\n",
       "      this.keyboard_manager.register_events(toinsert);\n",
       "      // Render to node\n",
       "      const props = {data: data, metadata: metadata[EXEC_MIME_TYPE]};\n",
       "      render(props, toinsert[toinsert.length - 1]);\n",
       "      element.append(toinsert);\n",
       "      return toinsert\n",
       "    }\n",
       "\n",
       "    /* Handle when an output is cleared or removed */\n",
       "    events.on('clear_output.CodeCell', handleClearOutput);\n",
       "    events.on('delete.Cell', handleClearOutput);\n",
       "\n",
       "    /* Handle when a new output is added */\n",
       "    events.on('output_added.OutputArea', handleAddOutput);\n",
       "\n",
       "    /**\n",
       "     * Register the mime type and append_mime function with output_area\n",
       "     */\n",
       "    OutputArea.prototype.register_mime_type(EXEC_MIME_TYPE, append_mime, {\n",
       "      /* Is output safe? */\n",
       "      safe: true,\n",
       "      /* Index of renderer in `output_area.display_order` */\n",
       "      index: 0\n",
       "    });\n",
       "  }\n",
       "\n",
       "  // register the mime type if in Jupyter Notebook environment and previously unregistered\n",
       "  if (root.Jupyter !== undefined) {\n",
       "    const events = require('base/js/events');\n",
       "    const OutputArea = require('notebook/js/outputarea').OutputArea;\n",
       "\n",
       "    if (OutputArea.prototype.mime_types().indexOf(EXEC_MIME_TYPE) == -1) {\n",
       "      register_renderer(events, OutputArea);\n",
       "    }\n",
       "  }\n",
       "\n",
       "  \n",
       "  if (typeof (root._bokeh_timeout) === \"undefined\" || force === true) {\n",
       "    root._bokeh_timeout = Date.now() + 5000;\n",
       "    root._bokeh_failed_load = false;\n",
       "  }\n",
       "\n",
       "  const NB_LOAD_WARNING = {'data': {'text/html':\n",
       "     \"<div style='background-color: #fdd'>\\n\"+\n",
       "     \"<p>\\n\"+\n",
       "     \"BokehJS does not appear to have successfully loaded. If loading BokehJS from CDN, this \\n\"+\n",
       "     \"may be due to a slow or bad network connection. Possible fixes:\\n\"+\n",
       "     \"</p>\\n\"+\n",
       "     \"<ul>\\n\"+\n",
       "     \"<li>re-rerun `output_notebook()` to attempt to load from CDN again, or</li>\\n\"+\n",
       "     \"<li>use INLINE resources instead, as so:</li>\\n\"+\n",
       "     \"</ul>\\n\"+\n",
       "     \"<code>\\n\"+\n",
       "     \"from bokeh.resources import INLINE\\n\"+\n",
       "     \"output_notebook(resources=INLINE)\\n\"+\n",
       "     \"</code>\\n\"+\n",
       "     \"</div>\"}};\n",
       "\n",
       "  function display_loaded() {\n",
       "    const el = document.getElementById(\"1399\");\n",
       "    if (el != null) {\n",
       "      el.textContent = \"BokehJS is loading...\";\n",
       "    }\n",
       "    if (root.Bokeh !== undefined) {\n",
       "      if (el != null) {\n",
       "        el.textContent = \"BokehJS \" + root.Bokeh.version + \" successfully loaded.\";\n",
       "      }\n",
       "    } else if (Date.now() < root._bokeh_timeout) {\n",
       "      setTimeout(display_loaded, 100)\n",
       "    }\n",
       "  }\n",
       "\n",
       "\n",
       "  function run_callbacks() {\n",
       "    try {\n",
       "      root._bokeh_onload_callbacks.forEach(function(callback) {\n",
       "        if (callback != null)\n",
       "          callback();\n",
       "      });\n",
       "    } finally {\n",
       "      delete root._bokeh_onload_callbacks\n",
       "    }\n",
       "    console.debug(\"Bokeh: all callbacks have finished\");\n",
       "  }\n",
       "\n",
       "  function load_libs(css_urls, js_urls, callback) {\n",
       "    if (css_urls == null) css_urls = [];\n",
       "    if (js_urls == null) js_urls = [];\n",
       "\n",
       "    root._bokeh_onload_callbacks.push(callback);\n",
       "    if (root._bokeh_is_loading > 0) {\n",
       "      console.debug(\"Bokeh: BokehJS is being loaded, scheduling callback at\", now());\n",
       "      return null;\n",
       "    }\n",
       "    if (js_urls == null || js_urls.length === 0) {\n",
       "      run_callbacks();\n",
       "      return null;\n",
       "    }\n",
       "    console.debug(\"Bokeh: BokehJS not loaded, scheduling load and callback at\", now());\n",
       "    root._bokeh_is_loading = css_urls.length + js_urls.length;\n",
       "\n",
       "    function on_load() {\n",
       "      root._bokeh_is_loading--;\n",
       "      if (root._bokeh_is_loading === 0) {\n",
       "        console.debug(\"Bokeh: all BokehJS libraries/stylesheets loaded\");\n",
       "        run_callbacks()\n",
       "      }\n",
       "    }\n",
       "\n",
       "    function on_error(url) {\n",
       "      console.error(\"failed to load \" + url);\n",
       "    }\n",
       "\n",
       "    for (let i = 0; i < css_urls.length; i++) {\n",
       "      const url = css_urls[i];\n",
       "      const element = document.createElement(\"link\");\n",
       "      element.onload = on_load;\n",
       "      element.onerror = on_error.bind(null, url);\n",
       "      element.rel = \"stylesheet\";\n",
       "      element.type = \"text/css\";\n",
       "      element.href = url;\n",
       "      console.debug(\"Bokeh: injecting link tag for BokehJS stylesheet: \", url);\n",
       "      document.body.appendChild(element);\n",
       "    }\n",
       "\n",
       "    for (let i = 0; i < js_urls.length; i++) {\n",
       "      const url = js_urls[i];\n",
       "      const element = document.createElement('script');\n",
       "      element.onload = on_load;\n",
       "      element.onerror = on_error.bind(null, url);\n",
       "      element.async = false;\n",
       "      element.src = url;\n",
       "      console.debug(\"Bokeh: injecting script tag for BokehJS library: \", url);\n",
       "      document.head.appendChild(element);\n",
       "    }\n",
       "  };\n",
       "\n",
       "  function inject_raw_css(css) {\n",
       "    const element = document.createElement(\"style\");\n",
       "    element.appendChild(document.createTextNode(css));\n",
       "    document.body.appendChild(element);\n",
       "  }\n",
       "\n",
       "  \n",
       "  const js_urls = [\"https://cdn.bokeh.org/bokeh/release/bokeh-2.4.2.min.js\", \"https://cdn.bokeh.org/bokeh/release/bokeh-gl-2.4.2.min.js\", \"https://cdn.bokeh.org/bokeh/release/bokeh-widgets-2.4.2.min.js\", \"https://cdn.bokeh.org/bokeh/release/bokeh-tables-2.4.2.min.js\", \"https://cdn.bokeh.org/bokeh/release/bokeh-mathjax-2.4.2.min.js\"];\n",
       "  const css_urls = [];\n",
       "  \n",
       "\n",
       "  const inline_js = [\n",
       "    function(Bokeh) {\n",
       "      Bokeh.set_log_level(\"info\");\n",
       "    },\n",
       "    function(Bokeh) {\n",
       "    \n",
       "    \n",
       "    }\n",
       "  ];\n",
       "\n",
       "  function run_inline_js() {\n",
       "    \n",
       "    if (root.Bokeh !== undefined || force === true) {\n",
       "      \n",
       "    for (let i = 0; i < inline_js.length; i++) {\n",
       "      inline_js[i].call(root, root.Bokeh);\n",
       "    }\n",
       "    if (force === true) {\n",
       "        display_loaded();\n",
       "      }} else if (Date.now() < root._bokeh_timeout) {\n",
       "      setTimeout(run_inline_js, 100);\n",
       "    } else if (!root._bokeh_failed_load) {\n",
       "      console.log(\"Bokeh: BokehJS failed to load within specified timeout.\");\n",
       "      root._bokeh_failed_load = true;\n",
       "    } else if (force !== true) {\n",
       "      const cell = $(document.getElementById(\"1399\")).parents('.cell').data().cell;\n",
       "      cell.output_area.append_execute_result(NB_LOAD_WARNING)\n",
       "    }\n",
       "\n",
       "  }\n",
       "\n",
       "  if (root._bokeh_is_loading === 0) {\n",
       "    console.debug(\"Bokeh: BokehJS loaded, going straight to plotting\");\n",
       "    run_inline_js();\n",
       "  } else {\n",
       "    load_libs(css_urls, js_urls, function() {\n",
       "      console.debug(\"Bokeh: BokehJS plotting callback run at\", now());\n",
       "      run_inline_js();\n",
       "    });\n",
       "  }\n",
       "}(window));"
      ],
      "application/vnd.bokehjs_load.v0+json": ""
     },
     "metadata": {},
     "output_type": "display_data"
    },
    {
     "data": {
      "text/html": [
       "\n",
       "\n",
       "\n",
       "\n",
       "\n",
       "\n",
       "  <div class=\"bk-root\" id=\"9a1b14ba-35ee-430a-9ff4-9b2de6b701f3\" data-root-id=\"1473\"></div>\n"
      ]
     },
     "metadata": {},
     "output_type": "display_data"
    },
    {
     "data": {
      "application/javascript": [
       "(function(root) {\n",
       "  function embed_document(root) {\n",
       "    \n",
       "  const docs_json = {\"d9ee3b18-cfa6-46af-823d-0bb32880e6a5\":{\"defs\":[],\"roots\":{\"references\":[{\"attributes\":{\"children\":[{\"id\":\"1401\"},{\"id\":\"1442\"}]},\"id\":\"1473\",\"type\":\"Column\"},{\"attributes\":{\"fill_alpha\":{\"value\":0.7},\"fill_color\":{\"value\":\"navy\"},\"hatch_alpha\":{\"value\":0.7},\"hatch_color\":{\"value\":\"navy\"},\"line_alpha\":{\"value\":0.7},\"line_color\":{\"value\":\"navy\"},\"x\":{\"field\":\"begin\"},\"y\":{\"field\":\"rarest_window3_likelihood\"}},\"id\":\"1437\",\"type\":\"Circle\"},{\"attributes\":{\"days\":[1,2,3,4,5,6,7,8,9,10,11,12,13,14,15,16,17,18,19,20,21,22,23,24,25,26,27,28,29,30,31]},\"id\":\"1504\",\"type\":\"DaysTicker\"},{\"attributes\":{\"days\":[1,4,7,10,13,16,19,22,25,28]},\"id\":\"1505\",\"type\":\"DaysTicker\"},{\"attributes\":{\"below\":[{\"id\":\"1453\"},{\"id\":\"1458\"}],\"center\":[{\"id\":\"1456\"}],\"height\":120,\"renderers\":[{\"id\":\"1466\"}],\"title\":{\"id\":\"1443\"},\"toolbar\":{\"id\":\"1457\"},\"toolbar_location\":null,\"width\":900,\"x_range\":{\"id\":\"1445\"},\"x_scale\":{\"id\":\"1449\"},\"y_range\":{\"id\":\"1447\"},\"y_scale\":{\"id\":\"1451\"}},\"id\":\"1442\",\"subtype\":\"Figure\",\"type\":\"Plot\"},{\"attributes\":{\"days\":[1,8,15,22]},\"id\":\"1506\",\"type\":\"DaysTicker\"},{\"attributes\":{\"coordinates\":null,\"data_source\":{\"id\":\"1461\"},\"glyph\":{\"id\":\"1463\"},\"group\":null,\"hover_glyph\":null,\"muted_glyph\":{\"id\":\"1465\"},\"nonselection_glyph\":{\"id\":\"1464\"},\"view\":{\"id\":\"1467\"}},\"id\":\"1466\",\"type\":\"GlyphRenderer\"},{\"attributes\":{\"months\":[0,1,2,3,4,5,6,7,8,9,10,11]},\"id\":\"1508\",\"type\":\"MonthsTicker\"},{\"attributes\":{},\"id\":\"1512\",\"type\":\"YearsTicker\"},{\"attributes\":{\"days\":[1,15]},\"id\":\"1507\",\"type\":\"DaysTicker\"},{\"attributes\":{\"months\":[0,6]},\"id\":\"1511\",\"type\":\"MonthsTicker\"},{\"attributes\":{\"months\":[0,2,4,6,8,10]},\"id\":\"1509\",\"type\":\"MonthsTicker\"},{\"attributes\":{\"months\":[0,4,8]},\"id\":\"1510\",\"type\":\"MonthsTicker\"},{\"attributes\":{\"fill_alpha\":{\"value\":0.1},\"fill_color\":{\"value\":\"blue\"},\"hatch_alpha\":{\"value\":0.1},\"hatch_color\":{\"value\":\"blue\"},\"line_alpha\":{\"value\":0.1},\"line_color\":{\"value\":\"blue\"},\"x\":{\"field\":\"begin\"},\"y\":{\"field\":\"y_index\"}},\"id\":\"1464\",\"type\":\"Circle\"},{\"attributes\":{\"num_minor_ticks\":5,\"tickers\":[{\"id\":\"1501\"},{\"id\":\"1502\"},{\"id\":\"1503\"},{\"id\":\"1504\"},{\"id\":\"1505\"},{\"id\":\"1506\"},{\"id\":\"1507\"},{\"id\":\"1508\"},{\"id\":\"1509\"},{\"id\":\"1510\"},{\"id\":\"1511\"},{\"id\":\"1512\"}]},\"id\":\"1454\",\"type\":\"DatetimeTicker\"},{\"attributes\":{\"fill_alpha\":{\"value\":0.1},\"fill_color\":{\"value\":\"navy\"},\"hatch_alpha\":{\"value\":0.1},\"hatch_color\":{\"value\":\"navy\"},\"line_alpha\":{\"value\":0.1},\"line_color\":{\"value\":\"navy\"},\"x\":{\"field\":\"begin\"},\"y\":{\"field\":\"rarest_window3_likelihood\"}},\"id\":\"1438\",\"type\":\"Circle\"},{\"attributes\":{\"source\":{\"id\":\"1435\"}},\"id\":\"1441\",\"type\":\"CDSView\"},{\"attributes\":{},\"id\":\"1447\",\"type\":\"DataRange1d\"},{\"attributes\":{\"source\":{\"id\":\"1461\"}},\"id\":\"1467\",\"type\":\"CDSView\"},{\"attributes\":{\"fill_alpha\":{\"value\":0.2},\"fill_color\":{\"value\":\"navy\"},\"hatch_alpha\":{\"value\":0.2},\"hatch_color\":{\"value\":\"navy\"},\"line_alpha\":{\"value\":0.2},\"line_color\":{\"value\":\"navy\"},\"x\":{\"field\":\"begin\"},\"y\":{\"field\":\"rarest_window3_likelihood\"}},\"id\":\"1439\",\"type\":\"Circle\"},{\"attributes\":{\"fill_alpha\":{\"value\":0.2},\"fill_color\":{\"value\":\"blue\"},\"hatch_alpha\":{\"value\":0.2},\"hatch_color\":{\"value\":\"blue\"},\"line_alpha\":{\"value\":0.2},\"line_color\":{\"value\":\"blue\"},\"x\":{\"field\":\"begin\"},\"y\":{\"field\":\"y_index\"}},\"id\":\"1465\",\"type\":\"Circle\"},{\"attributes\":{\"fill_color\":{\"value\":\"blue\"},\"hatch_color\":{\"value\":\"blue\"},\"line_color\":{\"value\":\"blue\"},\"x\":{\"field\":\"begin\"},\"y\":{\"field\":\"y_index\"}},\"id\":\"1463\",\"type\":\"Circle\"},{\"attributes\":{},\"id\":\"1477\",\"type\":\"BasicTickFormatter\"},{\"attributes\":{\"coordinates\":null,\"data_source\":{\"id\":\"1435\"},\"glyph\":{\"id\":\"1437\"},\"group\":null,\"hover_glyph\":null,\"muted_glyph\":{\"id\":\"1439\"},\"nonselection_glyph\":{\"id\":\"1438\"},\"view\":{\"id\":\"1441\"}},\"id\":\"1440\",\"type\":\"GlyphRenderer\"},{\"attributes\":{},\"id\":\"1451\",\"type\":\"LinearScale\"},{\"attributes\":{},\"id\":\"1478\",\"type\":\"AllLabels\"},{\"attributes\":{},\"id\":\"1449\",\"type\":\"LinearScale\"},{\"attributes\":{},\"id\":\"1480\",\"type\":\"AllLabels\"},{\"attributes\":{\"axis\":{\"id\":\"1453\"},\"coordinates\":null,\"group\":null,\"ticker\":null},\"id\":\"1456\",\"type\":\"Grid\"},{\"attributes\":{\"coordinates\":null,\"group\":null,\"text\":\"Range Selector\"},\"id\":\"1443\",\"type\":\"Title\"},{\"attributes\":{\"coordinates\":null,\"fill_alpha\":0.2,\"fill_color\":\"navy\",\"group\":null,\"level\":\"overlay\",\"line_alpha\":1.0,\"line_color\":\"black\",\"line_dash\":[2,2],\"line_width\":0.5,\"syncable\":false},\"id\":\"1469\",\"type\":\"BoxAnnotation\"},{\"attributes\":{\"end\":1598583683100.0,\"start\":1591940482900.0},\"id\":\"1445\",\"type\":\"Range1d\"},{\"attributes\":{\"coordinates\":null,\"formatter\":{\"id\":\"1459\"},\"group\":null,\"major_label_policy\":{\"id\":\"1482\"},\"ticker\":{\"id\":\"1454\"}},\"id\":\"1453\",\"type\":\"DatetimeAxis\"},{\"attributes\":{\"overlay\":{\"id\":\"1469\"},\"x_range\":{\"id\":\"1404\"},\"y_range\":null},\"id\":\"1468\",\"type\":\"RangeTool\"},{\"attributes\":{},\"id\":\"1482\",\"type\":\"AllLabels\"},{\"attributes\":{\"callback\":null,\"formatters\":{\"@begin\":\"datetime\"},\"tooltips\":[[\"time_col\",\"@time_col\"],[\"ClientIP\",\"@ClientIP\"],[\"UserId\",\"@UserId\"],[\"rarest_window3_likelihood\",\"@rarest_window3_likelihood\"],[\"begin\",\"@begin{%F %T.%3N}\"],[\"rarest_window3\",\"@rarest_window3\"]]},\"id\":\"1400\",\"type\":\"HoverTool\"},{\"attributes\":{},\"id\":\"1483\",\"type\":\"UnionRenderers\"},{\"attributes\":{},\"id\":\"1484\",\"type\":\"Selection\"},{\"attributes\":{\"data\":{\"ClientIP\":[\"nan\",\"nan\",\"nan\",\"nan\",\"nan\",\"nan\",\"nan\",\"nan\",\"nan\",\"nan\",\"nan\",\"nan\",\"nan\",\"nan\",\"nan\",\"nan\",\"nan\",\"nan\",\"nan\",\"nan\",\"nan\",\"nan\",\"nan\",\"nan\",\"nan\",\"nan\",\"nan\",\"nan\",\"nan\",\"nan\",\"nan\",\"nan\",\"nan\",\"nan\",\"nan\",\"nan\",\"nan\",\"nan\",\"nan\",\"nan\",\"nan\",\"nan\",\"nan\",\"nan\",\"nan\",\"nan\",\"nan\",\"nan\",\"nan\",\"nan\",\"nan\",\"nan\",\"nan\",\"nan\",\"nan\",\"nan\",\"nan\",\"nan\",\"nan\",\"nan\",\"nan\",\"nan\",\"nan\",\"nan\",\"nan\",\"nan\",\"nan\",\"nan\",\"nan\",\"nan\",\"nan\",\"nan\",\"nan\",\"nan\",\"nan\",\"nan\",\"nan\",\"nan\",\"nan\",\"nan\",\"nan\",\"nan\",\"nan\",\"nan\",\"nan\",\"nan\",\"nan\",\"nan\",\"nan\",\"nan\",\"nan\",\"nan\",\"nan\",\"nan\",\"nan\",\"nan\",\"nan\",\"nan\",\"nan\",\"nan\",\"nan\",\"nan\",\"nan\",\"nan\",\"nan\",\"nan\",\"nan\",\"nan\",\"nan\",\"nan\",\"nan\",\"nan\",\"nan\",\"nan\",\"nan\",\"nan\",\"nan\",\"nan\",\"nan\",\"nan\",\"nan\",\"nan\",\"nan\",\"nan\",\"nan\",\"nan\",\"nan\",\"nan\",\"nan\",\"nan\",\"nan\",\"nan\",\"nan\",\"nan\",\"nan\",\"nan\",\"nan\",\"nan\",\"nan\",\"nan\",\"nan\",\"nan\",\"nan\",\"nan\",\"nan\",\"20.185.182.48:37965\"],\"UserId\":[\"NAMPRD06\\\\Administrator (Microsoft.Office.Datacenter.Torus.PowerShellWorker)\",\"NAMPRD06\\\\Administrator (Microsoft.Office.Datacenter.Torus.PowerShellWorker)\",\"NAMPRD06\\\\Administrator (Microsoft.Office.Datacenter.Torus.PowerShellWorker)\",\"NAMPRD06\\\\Administrator (Microsoft.Office.Datacenter.Torus.PowerShellWorker)\",\"NAMPRD06\\\\Administrator (Microsoft.Office.Datacenter.Torus.PowerShellWorker)\",\"NAMPRD06\\\\Administrator (Microsoft.Office.Datacenter.Torus.PowerShellWorker)\",\"NAMPRD06\\\\Administrator (Microsoft.Office.Datacenter.Torus.PowerShellWorker)\",\"NAMPRD06\\\\Administrator (Microsoft.Office.Datacenter.Torus.PowerShellWorker)\",\"NAMPRD06\\\\Administrator (Microsoft.Office.Datacenter.Torus.PowerShellWorker)\",\"NAMPRD06\\\\Administrator (Microsoft.Office.Datacenter.Torus.PowerShellWorker)\",\"NAMPRD06\\\\Administrator (Microsoft.Office.Datacenter.Torus.PowerShellWorker)\",\"NAMPRD06\\\\Administrator (Microsoft.Office.Datacenter.Torus.PowerShellWorker)\",\"NAMPRD06\\\\Administrator (Microsoft.Office.Datacenter.Torus.PowerShellWorker)\",\"NAMPRD06\\\\Administrator (Microsoft.Office.Datacenter.Torus.PowerShellWorker)\",\"NAMPRD06\\\\Administrator (Microsoft.Office.Datacenter.Torus.PowerShellWorker)\",\"NAMPRD06\\\\Administrator (Microsoft.Office.Datacenter.Torus.PowerShellWorker)\",\"NAMPRD06\\\\Administrator (Microsoft.Office.Datacenter.Torus.PowerShellWorker)\",\"NAMPRD06\\\\Administrator (Microsoft.Office.Datacenter.Torus.PowerShellWorker)\",\"NAMPRD06\\\\Administrator (Microsoft.Office.Datacenter.Torus.PowerShellWorker)\",\"NAMPRD06\\\\Administrator (Microsoft.Office.Datacenter.Torus.PowerShellWorker)\",\"NAMPRD06\\\\Administrator (Microsoft.Office.Datacenter.Torus.PowerShellWorker)\",\"NAMPRD06\\\\Administrator (Microsoft.Office.Datacenter.Torus.PowerShellWorker)\",\"NAMPRD06\\\\Administrator (Microsoft.Office.Datacenter.Torus.PowerShellWorker)\",\"NAMPRD06\\\\Administrator (Microsoft.Office.Datacenter.Torus.PowerShellWorker)\",\"NAMPRD06\\\\Administrator (Microsoft.Office.Datacenter.Torus.PowerShellWorker)\",\"NAMPRD06\\\\Administrator (Microsoft.Office.Datacenter.Torus.PowerShellWorker)\",\"NAMPRD06\\\\Administrator (Microsoft.Office.Datacenter.Torus.PowerShellWorker)\",\"NAMPRD06\\\\Administrator (Microsoft.Office.Datacenter.Torus.PowerShellWorker)\",\"NAMPRD06\\\\Administrator (Microsoft.Office.Datacenter.Torus.PowerShellWorker)\",\"NAMPRD06\\\\Administrator (Microsoft.Office.Datacenter.Torus.PowerShellWorker)\",\"NAMPRD06\\\\Administrator (Microsoft.Office.Datacenter.Torus.PowerShellWorker)\",\"NAMPRD06\\\\Administrator (Microsoft.Office.Datacenter.Torus.PowerShellWorker)\",\"NAMPRD06\\\\Administrator (Microsoft.Office.Datacenter.Torus.PowerShellWorker)\",\"NAMPRD06\\\\Administrator (Microsoft.Office.Datacenter.Torus.PowerShellWorker)\",\"NAMPRD06\\\\Administrator (Microsoft.Office.Datacenter.Torus.PowerShellWorker)\",\"NAMPRD06\\\\Administrator (Microsoft.Office.Datacenter.Torus.PowerShellWorker)\",\"NAMPRD06\\\\Administrator (Microsoft.Office.Datacenter.Torus.PowerShellWorker)\",\"NAMPRD06\\\\Administrator (Microsoft.Office.Datacenter.Torus.PowerShellWorker)\",\"NAMPRD06\\\\Administrator (Microsoft.Office.Datacenter.Torus.PowerShellWorker)\",\"NAMPRD06\\\\Administrator (Microsoft.Office.Datacenter.Torus.PowerShellWorker)\",\"NAMPRD06\\\\Administrator (Microsoft.Office.Datacenter.Torus.PowerShellWorker)\",\"NAMPRD06\\\\Administrator (Microsoft.Office.Datacenter.Torus.PowerShellWorker)\",\"NAMPRD06\\\\Administrator (Microsoft.Office.Datacenter.Torus.PowerShellWorker)\",\"NAMPRD06\\\\Administrator (Microsoft.Office.Datacenter.Torus.PowerShellWorker)\",\"NAMPRD06\\\\Administrator (Microsoft.Office.Datacenter.Torus.PowerShellWorker)\",\"NAMPRD06\\\\Administrator (Microsoft.Office.Datacenter.Torus.PowerShellWorker)\",\"NAMPRD06\\\\Administrator (Microsoft.Office.Datacenter.Torus.PowerShellWorker)\",\"NAMPRD06\\\\Administrator (Microsoft.Office.Datacenter.Torus.PowerShellWorker)\",\"NAMPRD06\\\\Administrator (Microsoft.Office.Datacenter.Torus.PowerShellWorker)\",\"NAMPRD06\\\\Administrator (Microsoft.Office.Datacenter.Torus.PowerShellWorker)\",\"NAMPRD06\\\\Administrator (Microsoft.Office.Datacenter.Torus.PowerShellWorker)\",\"NAMPRD06\\\\Administrator (Microsoft.Office.Datacenter.Torus.PowerShellWorker)\",\"NAMPRD06\\\\Administrator (Microsoft.Office.Datacenter.Torus.PowerShellWorker)\",\"NAMPRD06\\\\Administrator (Microsoft.Office.Datacenter.Torus.PowerShellWorker)\",\"NAMPRD06\\\\Administrator (Microsoft.Office.Datacenter.Torus.PowerShellWorker)\",\"NAMPRD06\\\\Administrator (Microsoft.Office.Datacenter.Torus.PowerShellWorker)\",\"NAMPRD06\\\\Administrator (Microsoft.Office.Datacenter.Torus.PowerShellWorker)\",\"NAMPRD06\\\\Administrator (Microsoft.Office.Datacenter.Torus.PowerShellWorker)\",\"NAMPRD06\\\\Administrator (Microsoft.Office.Datacenter.Torus.PowerShellWorker)\",\"NAMPRD06\\\\Administrator (Microsoft.Office.Datacenter.Torus.PowerShellWorker)\",\"NAMPRD06\\\\Administrator (Microsoft.Office.Datacenter.Torus.PowerShellWorker)\",\"NAMPRD06\\\\Administrator (Microsoft.Office.Datacenter.Torus.PowerShellWorker)\",\"NAMPRD06\\\\Administrator (Microsoft.Office.Datacenter.Torus.PowerShellWorker)\",\"NAMPRD06\\\\Administrator (Microsoft.Office.Datacenter.Torus.PowerShellWorker)\",\"NAMPRD06\\\\Administrator (Microsoft.Office.Datacenter.Torus.PowerShellWorker)\",\"NAMPRD06\\\\Administrator (Microsoft.Office.Datacenter.Torus.PowerShellWorker)\",\"NAMPRD06\\\\Administrator (Microsoft.Office.Datacenter.Torus.PowerShellWorker)\",\"NAMPRD06\\\\Administrator (Microsoft.Office.Datacenter.Torus.PowerShellWorker)\",\"NAMPRD06\\\\Administrator (Microsoft.Office.Datacenter.Torus.PowerShellWorker)\",\"NAMPRD06\\\\Administrator (Microsoft.Office.Datacenter.Torus.PowerShellWorker)\",\"NAMPRD06\\\\Administrator (Microsoft.Office.Datacenter.Torus.PowerShellWorker)\",\"NAMPRD06\\\\Administrator (Microsoft.Office.Datacenter.Torus.PowerShellWorker)\",\"NAMPRD06\\\\Administrator (Microsoft.Office.Datacenter.Torus.PowerShellWorker)\",\"NAMPRD06\\\\Administrator (Microsoft.Office.Datacenter.Torus.PowerShellWorker)\",\"NAMPRD06\\\\Administrator (Microsoft.Office.Datacenter.Torus.PowerShellWorker)\",\"NAMPRD06\\\\Administrator (Microsoft.Office.Datacenter.Torus.PowerShellWorker)\",\"NAMPRD06\\\\Administrator (Microsoft.Office.Datacenter.Torus.PowerShellWorker)\",\"NAMPRD06\\\\Administrator (Microsoft.Office.Datacenter.Torus.PowerShellWorker)\",\"NAMPRD06\\\\Administrator (Microsoft.Office.Datacenter.Torus.PowerShellWorker)\",\"NAMPRD06\\\\Administrator (Microsoft.Office.Datacenter.Torus.PowerShellWorker)\",\"NAMPRD06\\\\Administrator (Microsoft.Office.Datacenter.Torus.PowerShellWorker)\",\"NAMPRD06\\\\Administrator (Microsoft.Office.Datacenter.Torus.PowerShellWorker)\",\"NAMPRD06\\\\Administrator (Microsoft.Office.Datacenter.Torus.PowerShellWorker)\",\"NAMPRD06\\\\Administrator (Microsoft.Office.Datacenter.Torus.PowerShellWorker)\",\"NAMPRD06\\\\Administrator (Microsoft.Office.Datacenter.Torus.PowerShellWorker)\",\"NAMPRD06\\\\Administrator (Microsoft.Office.Datacenter.Torus.PowerShellWorker)\",\"NAMPRD06\\\\Administrator (Microsoft.Office.Datacenter.Torus.PowerShellWorker)\",\"NAMPRD06\\\\Administrator (Microsoft.Office.Datacenter.Torus.PowerShellWorker)\",\"NAMPRD06\\\\Administrator (Microsoft.Office.Datacenter.Torus.PowerShellWorker)\",\"NAMPRD06\\\\Administrator (Microsoft.Office.Datacenter.Torus.PowerShellWorker)\",\"NAMPRD06\\\\Administrator (Microsoft.Office.Datacenter.Torus.PowerShellWorker)\",\"NAMPRD06\\\\Administrator (Microsoft.Office.Datacenter.Torus.PowerShellWorker)\",\"NAMPRD06\\\\Administrator (Microsoft.Office.Datacenter.Torus.PowerShellWorker)\",\"NAMPRD06\\\\Administrator (Microsoft.Office.Datacenter.Torus.PowerShellWorker)\",\"NAMPRD06\\\\Administrator (Microsoft.Office.Datacenter.Torus.PowerShellWorker)\",\"NAMPRD06\\\\Administrator (Microsoft.Office.Datacenter.Torus.PowerShellWorker)\",\"NAMPRD06\\\\Administrator (Microsoft.Office.Datacenter.Torus.PowerShellWorker)\",\"NAMPRD06\\\\Administrator (Microsoft.Office.Datacenter.Torus.PowerShellWorker)\",\"NAMPRD06\\\\Administrator (Microsoft.Office.Datacenter.Torus.PowerShellWorker)\",\"NAMPRD06\\\\Administrator (Microsoft.Office.Datacenter.Torus.PowerShellWorker)\",\"NAMPRD06\\\\Administrator (Microsoft.Office.Datacenter.Torus.PowerShellWorker)\",\"NAMPRD06\\\\Administrator (Microsoft.Office.Datacenter.Torus.PowerShellWorker)\",\"NAMPRD06\\\\Administrator (Microsoft.Office.Datacenter.Torus.PowerShellWorker)\",\"NAMPRD06\\\\Administrator (Microsoft.Office.Datacenter.Torus.PowerShellWorker)\",\"NAMPRD06\\\\Administrator (Microsoft.Office.Datacenter.Torus.PowerShellWorker)\",\"NAMPRD06\\\\Administrator (Microsoft.Office.Datacenter.Torus.PowerShellWorker)\",\"NAMPRD06\\\\Administrator (Microsoft.Office.Datacenter.Torus.PowerShellWorker)\",\"NAMPRD06\\\\Administrator (Microsoft.Office.Datacenter.Torus.PowerShellWorker)\",\"NAMPRD06\\\\Administrator (Microsoft.Office.Datacenter.Torus.PowerShellWorker)\",\"NAMPRD06\\\\Administrator (Microsoft.Office.Datacenter.Torus.PowerShellWorker)\",\"NAMPRD06\\\\Administrator (Microsoft.Office.Datacenter.Torus.PowerShellWorker)\",\"NAMPRD06\\\\Administrator (Microsoft.Office.Datacenter.Torus.PowerShellWorker)\",\"NAMPRD06\\\\Administrator (Microsoft.Office.Datacenter.Torus.PowerShellWorker)\",\"NAMPRD06\\\\Administrator (Microsoft.Office.Datacenter.Torus.PowerShellWorker)\",\"NAMPRD06\\\\Administrator (Microsoft.Office.Datacenter.Torus.PowerShellWorker)\",\"NAMPRD06\\\\Administrator (Microsoft.Office.Datacenter.Torus.PowerShellWorker)\",\"NAMPRD06\\\\Administrator (Microsoft.Office.Datacenter.Torus.PowerShellWorker)\",\"NAMPRD06\\\\Administrator (Microsoft.Office.Datacenter.Torus.PowerShellWorker)\",\"NAMPRD06\\\\Administrator (Microsoft.Office.Datacenter.Torus.PowerShellWorker)\",\"NAMPRD06\\\\Administrator (Microsoft.Office.Datacenter.Torus.PowerShellWorker)\",\"NAMPRD06\\\\Administrator (Microsoft.Office.Datacenter.Torus.PowerShellWorker)\",\"NAMPRD06\\\\Administrator (Microsoft.Office.Datacenter.Torus.PowerShellWorker)\",\"NAMPRD06\\\\Administrator (Microsoft.Office.Datacenter.Torus.PowerShellWorker)\",\"NAMPRD06\\\\Administrator (Microsoft.Office.Datacenter.Torus.PowerShellWorker)\",\"NAMPRD06\\\\Administrator (Microsoft.Office.Datacenter.Torus.PowerShellWorker)\",\"NAMPRD06\\\\Administrator (Microsoft.Office.Datacenter.Torus.PowerShellWorker)\",\"NAMPRD06\\\\Administrator (Microsoft.Office.Datacenter.Torus.PowerShellWorker)\",\"NAMPRD06\\\\Administrator (Microsoft.Office.Datacenter.Torus.PowerShellWorker)\",\"NAMPRD06\\\\Administrator (Microsoft.Office.Datacenter.Torus.PowerShellWorker)\",\"NAMPRD06\\\\Administrator (Microsoft.Office.Datacenter.Torus.PowerShellWorker)\",\"NAMPRD06\\\\Administrator (Microsoft.Office.Datacenter.Torus.PowerShellWorker)\",\"NAMPRD06\\\\Administrator (Microsoft.Office.Datacenter.Torus.PowerShellWorker)\",\"NAMPRD06\\\\Administrator (Microsoft.Office.Datacenter.Torus.PowerShellWorker)\",\"NAMPRD06\\\\Administrator (Microsoft.Office.Datacenter.Torus.PowerShellWorker)\",\"NAMPRD06\\\\Administrator (Microsoft.Office.Datacenter.Torus.PowerShellWorker)\",\"NAMPRD06\\\\Administrator (Microsoft.Office.Datacenter.Torus.PowerShellWorker)\",\"NAMPRD06\\\\Administrator (Microsoft.Office.Datacenter.Torus.PowerShellWorker)\",\"NAMPRD06\\\\Administrator (Microsoft.Office.Datacenter.Torus.PowerShellWorker)\",\"NAMPRD06\\\\Administrator (Microsoft.Office.Datacenter.Torus.PowerShellWorker)\",\"NAMPRD06\\\\Administrator (Microsoft.Office.Datacenter.Torus.PowerShellWorker)\",\"NAMPRD06\\\\Administrator (Microsoft.Office.Datacenter.Torus.PowerShellWorker)\",\"NAMPRD06\\\\Administrator (Microsoft.Office.Datacenter.Torus.PowerShellWorker)\",\"NAMPRD06\\\\Administrator (Microsoft.Office.Datacenter.Torus.PowerShellWorker)\",\"NAMPRD06\\\\Administrator (Microsoft.Office.Datacenter.Torus.PowerShellWorker)\",\"NAMPRD06\\\\Administrator (Microsoft.Office.Datacenter.Torus.PowerShellWorker)\",\"timvic@contoso.onmicrosoft.com\"],\"begin\":{\"__ndarray__\":\"AADjw0std0IAAG/EVS13QgAACZydLXdCAAA2050td0IAgPEgpi13QgAAukLwLXdCAACTyPotd0IAgP3nQC53QgCA4T9BLndCAABjW0wud0IAAEsmlC53QgAAC27rLndCAABrmfYud0IAgOMbOi93QgCAJ2Q6L3dCAIAG9UIvd0IAgMLqiy93QgAAvzaWL3dCAICsgpYvd0IAgOzx3C93QgAASpzmL3dCAICc7OYvd0IAgOHgLzB3QgAAUiwwMHdCAICKbjowd0IAAK9pgTB3QgCAaiKNMHdCAIAW99Qwd0IAAC9u3jB3QgCA8KUoMXdCAIAx8TIxd0IAgJRveTF3QgCAMYKDMXdCAIDxI8wxd0IAAHFv1jF3QgCAdRwdMndCAAA93yYyd0IAAMwacDJ3QgAAL8LEMndCAACUE80yd0IAgGtxFzN3QgCAQmVqM3dCAICN3nMzd0IAAGpiuzN3QgAABpDEM3dCAABu0sQzd0IAgP07DzR3QgAA86MYNHdCAICZoWI0d0IAANlWazR3QgAAaqdrNHdCAACdG7U0d0IAAFI2vTR3QgAA6q4GNXdCAAAMnQ81d0IAAMTsVzV3QgCAwERgNXdCAICRtGA1d0IAgNlvqDV3QgCAhqmyNXdCAIBr7LI1d0IAgJp4BjZ3QgCAl7lZNndCAACt9aA2d0IAgBLgrTZ3QgAAEoXyNndCAID9Qfw2d0IAgIQrRTd3QgAALYVPN3dCAIBY4Zc3d0IAgDclmDd3QgAAyQKfN3dCAIC5eqI3d0IAgLom6zd3QgCA/GjzN3dCAAD87zw4d0IAACwjSDh3QgAA/PGPOHdCAIAeSpA4d0IAgB6RmTh3QgCA6OPgOHdCAIDAfus4d0IAgGoAMzl3QgCA2Hw+OXdCAIDhuT45d0IAgKICPzl3QgAAO0qEOXdCAIC4bIc5d0IAAINzkDl3QgCAWpmQOXdCAIAzpdg5d0IAAOap4jl3QgAAuS0sOndCAICydyw6d0IAAIcvNDp3QgCAR/99OndCAIA6V4g6d0IAgO+hiDp3QgCAKY/POndCAIBrv9o6d0IAAPCqITt3QgAAh/ohO3dCAAD6kCw7d0IAgG3tcjt3QgCA8BuAO3dCAAD6Wcc7d0IAAEtP0Tt3QgCA9MnSO3dCAAC/U9s7d0IAgL2A+Dt3QgCA9mwZPHdCAICKvyM8d0IAgBDfKDx3QgAAF3ctPHdCAIC+qFY8d0IAgF6sWDx3QgAA9KxgPHdCAADnb248d0IAgIBGbzx3QgCAFv52PHdCAIB3pr08d0IAACb/xzx3QgCACN7WPHdCAABU7g49d0IAAMlUGj13QgAAKJhjPXdCAICoUW09d0IAgAqVbT13QgCAMJ23PXdCAADVXL89d0IAgN4dBj53QgAAubYSPndCAAAe+Vs+d0IAAKkUZT53QgCARfasPndCAIBDW7g+d0IAAI1JUD93QgCAFOdaP3dCAAAAp6I/d0IAgLzNrT93QgAAkIv2P3dCAAC3w/Y/d0IAAECGAEB3QgAAyjBJQHdCAAAUMFVAd0IAgNk3wzl3Qg==\",\"dtype\":\"float64\",\"order\":\"little\",\"shape\":[146]},\"color\":[\"navy\",\"navy\",\"navy\",\"navy\",\"navy\",\"navy\",\"navy\",\"navy\",\"navy\",\"navy\",\"navy\",\"navy\",\"navy\",\"navy\",\"navy\",\"navy\",\"navy\",\"navy\",\"navy\",\"navy\",\"navy\",\"navy\",\"navy\",\"navy\",\"navy\",\"navy\",\"navy\",\"navy\",\"navy\",\"navy\",\"navy\",\"navy\",\"navy\",\"navy\",\"navy\",\"navy\",\"navy\",\"navy\",\"navy\",\"navy\",\"navy\",\"navy\",\"navy\",\"navy\",\"navy\",\"navy\",\"navy\",\"navy\",\"navy\",\"navy\",\"navy\",\"navy\",\"navy\",\"navy\",\"navy\",\"navy\",\"navy\",\"navy\",\"navy\",\"navy\",\"navy\",\"navy\",\"navy\",\"navy\",\"navy\",\"navy\",\"navy\",\"navy\",\"navy\",\"navy\",\"navy\",\"navy\",\"navy\",\"navy\",\"navy\",\"navy\",\"navy\",\"navy\",\"navy\",\"navy\",\"navy\",\"navy\",\"navy\",\"navy\",\"navy\",\"navy\",\"navy\",\"navy\",\"navy\",\"navy\",\"navy\",\"navy\",\"navy\",\"navy\",\"navy\",\"navy\",\"navy\",\"navy\",\"navy\",\"navy\",\"navy\",\"navy\",\"navy\",\"navy\",\"navy\",\"navy\",\"navy\",\"navy\",\"navy\",\"navy\",\"navy\",\"navy\",\"navy\",\"navy\",\"navy\",\"navy\",\"navy\",\"navy\",\"navy\",\"navy\",\"navy\",\"navy\",\"navy\",\"navy\",\"navy\",\"navy\",\"navy\",\"navy\",\"navy\",\"navy\",\"navy\",\"navy\",\"navy\",\"navy\",\"navy\",\"navy\",\"navy\",\"navy\",\"navy\",\"navy\",\"navy\",\"navy\",\"navy\",\"navy\",\"navy\",\"navy\"],\"index\":[0,1,2,3,4,5,6,7,8,9,10,11,12,13,14,15,16,17,18,19,20,21,22,23,24,25,26,27,28,29,30,31,32,33,34,35,36,37,38,39,40,41,42,43,44,45,46,47,48,49,50,51,52,53,54,55,56,57,58,59,60,61,62,63,64,65,66,67,68,69,70,71,72,73,74,75,76,77,78,79,80,81,82,83,84,85,86,87,88,89,90,91,92,93,94,95,96,97,98,99,100,101,102,103,104,105,106,107,108,109,110,111,112,113,114,115,116,117,118,119,120,121,122,123,124,125,126,127,128,129,130,131,132,133,134,135,136,137,138,139,140,141,142,143,144,145],\"rarest_window3\":[[\"Cmd(name='Set-ConditionalAccessPolicy', params={'Identity': 'seccxpninja.onmicrosoft.com\\\\\\\\bcd93f74-64fd-4042-a3ae-ee6d48886d6d', 'PolicyDetails': '{\\\"Version\\\":0,\\\"State\\\":\\\"Enabled\\\",\\\"Conditions\\\":{\\\"Applications\\\":{\\\"Include\\\":[{\\\"Applications\\\":[\\\"c9a559d2-7aab-4f13-a6ed-e7e9c52aec87\\\"]}]},\\\"Users\\\":{\\\"Include\\\":[{\\\"Users\\\":[\\\"bdb72692-2275-412b-8af0-ea21c2ebd174\\\",\\\"eababd92-9dc7-40e3-9359-6c106522db19\\\"]}]}},\\\"SessionControls\\\":[\\\"CloudAppSecurity\\\"],\\\"PersistentBrowserSessionMode\\\":\\\"NotSet\\\",\\\"EnforceAllPoliciesForEas\\\":false,\\\"IncludeOtherLegacyClientTypeForEvaluation\\\":false,\\\"CasSessionControlType\\\":3}', 'PolicyLastUpdatedTime': '6/21/2020 2:26:14 AM', 'TenantDefaultPolicy': '', 'DisplayName': 'Form MCAS', 'PolicyIdentifierString': ''})\",\"Cmd(name='Set-ConditionalAccessPolicy', params={'Identity': 'seccxpninja.onmicrosoft.com\\\\\\\\83a057fb-dbca-4ba8-bb5f-0ce6d6e7cff5', 'PolicyDetails': '{\\\"Version\\\":0,\\\"State\\\":\\\"Enabled\\\",\\\"Conditions\\\":{\\\"Applications\\\":{\\\"Include\\\":[{\\\"Acrs\\\":[\\\"urn:microsoft:req1\\\"]}]},\\\"Users\\\":{\\\"Include\\\":[{\\\"Users\\\":[\\\"eababd92-9dc7-40e3-9359-6c106522db19\\\"]}]}},\\\"Controls\\\":[{\\\"Control\\\":[\\\"Mfa\\\"]}],\\\"PersistentBrowserSessionMode\\\":\\\"NotSet\\\",\\\"EnforceAllPoliciesForEas\\\":false,\\\"IncludeOtherLegacyClientTypeForEvaluation\\\":false}', 'PolicyLastUpdatedTime': '6/21/2020 2:26:14 AM', 'TenantDefaultPolicy': '', 'DisplayName': 'MeganB MCAS Step-up', 'PolicyIdentifierString': ''})\"],[\"Cmd(name='Set-ConditionalAccessPolicy', params={'Identity': 'seccxpninja.onmicrosoft.com\\\\\\\\e183bd29-a3a3-4f91-a5a3-b83b21a544df', 'PolicyDetails': '{\\\"Version\\\":0,\\\"State\\\":\\\"Enabled\\\",\\\"Conditions\\\":{\\\"Applications\\\":{\\\"Include\\\":[{\\\"Applications\\\":[\\\"00000002-0000-0ff1-ce00-000000000000\\\"]}]},\\\"Users\\\":{\\\"Include\\\":[{\\\"Users\\\":[\\\"2935e535-8fdf-4217-865b-e084cb7214f1\\\"]}]}},\\\"SessionControls\\\":[\\\"AppEnforcedRestrictions\\\"],\\\"PersistentBrowserSessionMode\\\":\\\"NotSet\\\",\\\"EnforceAllPoliciesForEas\\\":false,\\\"IncludeOtherLegacyClientTypeForEvaluation\\\":false}', 'PolicyLastUpdatedTime': '6/21/2020 5:24:55 AM', 'TenantDefaultPolicy': '', 'DisplayName': 'JulianI Exchange native controls', 'PolicyIdentifierString': ''})\",\"Cmd(name='Set-ConditionalAccessPolicy', params={'Identity': 'seccxpninja.onmicrosoft.com\\\\\\\\8837fdaa-aaeb-4432-9622-43f6f583d583', 'PolicyDetails': '{\\\"KnownNetworkPolicies\\\":{\\\"NetworkName\\\":\\\"BE-Office\\\",\\\"NetworkId\\\":\\\"b98b9088-ce88-4fae-80fb-5b58cb1ce685\\\",\\\"CidrIpRanges\\\":[\\\"109.88.218.99/28\\\"],\\\"CountryIsoCodes\\\":null,\\\"Categories\\\":[],\\\"ApplyToUnknownCountry\\\":false}}', 'PolicyLastUpdatedTime': '6/21/2020 5:24:55 AM', 'TenantDefaultPolicy': '6', 'DisplayName': 'Known Networks List', 'PolicyIdentifierString': '3/19/2020 7:45:08 PM'})\"],[\"Cmd(name='Set-ConditionalAccessPolicy', params={'Identity': 'seccxpninja.onmicrosoft.com\\\\\\\\8872f6fb-da88-4b63-bcc7-17247669596b', 'PolicyDetails': '{\\\"Version\\\":0,\\\"State\\\":\\\"Enabled\\\",\\\"Conditions\\\":{\\\"Applications\\\":{\\\"Include\\\":[{\\\"Applications\\\":[\\\"00000002-0000-0ff1-ce00-000000000000\\\",\\\"09abbdfd-ed23-44ee-a2d9-a627aa1c90f3\\\",\\\"cc15fd57-2c6c-4117-a88c-83b1d56b4bbe\\\",\\\"00000003-0000-0ff1-ce00-000000000000\\\",\\\"00000005-0000-0ff1-ce00-000000000000\\\"]}]},\\\"Users\\\":{\\\"Include\\\":[{\\\"Users\\\":[\\\"eababd92-9dc7-40e3-9359-6c106522db19\\\"]}]}},\\\"SessionControls\\\":[\\\"CloudAppSecurity\\\"],\\\"PersistentBrowserSessionMode\\\":\\\"NotSet\\\",\\\"EnforceAllPoliciesForEas\\\":false,\\\"IncludeOtherLegacyClientTypeForEvaluation\\\":false,\\\"CasSessionControlType\\\":1}', 'PolicyLastUpdatedTime': '6/22/2020 2:19:55 AM', 'TenantDefaultPolicy': '', 'DisplayName': 'MeganB MCAS Proxy', 'PolicyIdentifierString': ''})\",\"Cmd(name='Set-ConditionalAccessPolicy', params={'Identity': 'seccxpninja.onmicrosoft.com\\\\\\\\8872f6fb-da88-4b63-bcc7-17247669596b', 'PolicyDetails': '{\\\"Version\\\":0,\\\"State\\\":\\\"Enabled\\\",\\\"Conditions\\\":{\\\"Applications\\\":{\\\"Include\\\":[{\\\"Applications\\\":[\\\"00000002-0000-0ff1-ce00-000000000000\\\",\\\"09abbdfd-ed23-44ee-a2d9-a627aa1c90f3\\\",\\\"cc15fd57-2c6c-4117-a88c-83b1d56b4bbe\\\",\\\"00000003-0000-0ff1-ce00-000000000000\\\",\\\"00000005-0000-0ff1-ce00-000000000000\\\"]}]},\\\"Users\\\":{\\\"Include\\\":[{\\\"Users\\\":[\\\"eababd92-9dc7-40e3-9359-6c106522db19\\\"]}]}},\\\"SessionControls\\\":[\\\"CloudAppSecurity\\\"],\\\"PersistentBrowserSessionMode\\\":\\\"NotSet\\\",\\\"EnforceAllPoliciesForEas\\\":false,\\\"IncludeOtherLegacyClientTypeForEvaluation\\\":false,\\\"CasSessionControlType\\\":1}', 'PolicyLastUpdatedTime': '6/22/2020 2:19:55 AM', 'TenantDefaultPolicy': '', 'DisplayName': 'MeganB MCAS Proxy', 'PolicyIdentifierString': ''})\"],[\"Cmd(name='Set-ConditionalAccessPolicy', params={'Identity': 'seccxpninja.onmicrosoft.com\\\\\\\\3b13ea3c-c733-4eb8-bd19-67d308b2ea04', 'PolicyDetails': '{\\\"Version\\\":0,\\\"CreatedDateTime\\\":\\\"2020-05-19T13:34:15.2394934Z\\\",\\\"ModifiedDateTime\\\":\\\"2020-05-19T13:39:04.7333386Z\\\",\\\"State\\\":\\\"Reporting\\\",\\\"Conditions\\\":{\\\"Applications\\\":{\\\"Include\\\":[{\\\"Applications\\\":[\\\"None\\\"]}]},\\\"Users\\\":{\\\"Include\\\":[{\\\"Users\\\":[\\\"Guests\\\"]}]},\\\"DevicePlatforms\\\":{\\\"Include\\\":[{\\\"DevicePlatforms\\\":[\\\"All\\\"]}],\\\"Exclude\\\":[{\\\"DevicePlatforms\\\":[\\\"Android\\\",\\\"iOS\\\",\\\"macOS\\\"]}]},\\\"ClientTypes\\\":{\\\"Include\\\":[{\\\"ClientTypes\\\":[\\\"Browser\\\",\\\"Native\\\"]}]}},\\\"Controls\\\":[{\\\"Control\\\":[\\\"Mfa\\\",\\\"RequireCompliantDevice\\\"]}]}', 'PolicyLastUpdatedTime': '6/22/2020 2:19:59 AM', 'TenantDefaultPolicy': '', 'DisplayName': 'Yanivsh -CA Test', 'PolicyIdentifierString': ''})\",\"Cmd(name='Set-ConditionalAccessPolicy', params={'Identity': 'seccxpninja.onmicrosoft.com\\\\\\\\8837fdaa-aaeb-4432-9622-43f6f583d583', 'PolicyDetails': '{\\\"KnownNetworkPolicies\\\":{\\\"NetworkName\\\":\\\"BE-Office\\\",\\\"NetworkId\\\":\\\"b98b9088-ce88-4fae-80fb-5b58cb1ce685\\\",\\\"CidrIpRanges\\\":[\\\"109.88.218.99/28\\\"],\\\"CountryIsoCodes\\\":null,\\\"Categories\\\":[],\\\"ApplyToUnknownCountry\\\":false}}', 'PolicyLastUpdatedTime': '6/22/2020 2:19:59 AM', 'TenantDefaultPolicy': '6', 'DisplayName': 'Known Networks List', 'PolicyIdentifierString': '3/19/2020 7:45:08 PM'})\"],[\"Cmd(name='Set-ConditionalAccessPolicy', params={'Identity': 'seccxpninja.onmicrosoft.com\\\\\\\\bcd93f74-64fd-4042-a3ae-ee6d48886d6d', 'PolicyDetails': '{\\\"Version\\\":0,\\\"State\\\":\\\"Enabled\\\",\\\"Conditions\\\":{\\\"Applications\\\":{\\\"Include\\\":[{\\\"Applications\\\":[\\\"c9a559d2-7aab-4f13-a6ed-e7e9c52aec87\\\"]}]},\\\"Users\\\":{\\\"Include\\\":[{\\\"Users\\\":[\\\"bdb72692-2275-412b-8af0-ea21c2ebd174\\\",\\\"eababd92-9dc7-40e3-9359-6c106522db19\\\"]}]}},\\\"SessionControls\\\":[\\\"CloudAppSecurity\\\"],\\\"PersistentBrowserSessionMode\\\":\\\"NotSet\\\",\\\"EnforceAllPoliciesForEas\\\":false,\\\"IncludeOtherLegacyClientTypeForEvaluation\\\":false,\\\"CasSessionControlType\\\":3}', 'PolicyLastUpdatedTime': '6/22/2020 4:47:52 AM', 'TenantDefaultPolicy': '', 'DisplayName': 'Form MCAS', 'PolicyIdentifierString': ''})\",\"Cmd(name='Set-ConditionalAccessPolicy', params={'Identity': 'seccxpninja.onmicrosoft.com\\\\\\\\3b13ea3c-c733-4eb8-bd19-67d308b2ea04', 'PolicyDetails': '{\\\"Version\\\":0,\\\"CreatedDateTime\\\":\\\"2020-05-19T13:34:15.2394934Z\\\",\\\"ModifiedDateTime\\\":\\\"2020-05-19T13:39:04.7333386Z\\\",\\\"State\\\":\\\"Reporting\\\",\\\"Conditions\\\":{\\\"Applications\\\":{\\\"Include\\\":[{\\\"Applications\\\":[\\\"None\\\"]}]},\\\"Users\\\":{\\\"Include\\\":[{\\\"Users\\\":[\\\"Guests\\\"]}]},\\\"DevicePlatforms\\\":{\\\"Include\\\":[{\\\"DevicePlatforms\\\":[\\\"All\\\"]}],\\\"Exclude\\\":[{\\\"DevicePlatforms\\\":[\\\"Android\\\",\\\"iOS\\\",\\\"macOS\\\"]}]},\\\"ClientTypes\\\":{\\\"Include\\\":[{\\\"ClientTypes\\\":[\\\"Browser\\\",\\\"Native\\\"]}]}},\\\"Controls\\\":[{\\\"Control\\\":[\\\"Mfa\\\",\\\"RequireCompliantDevice\\\"]}]}', 'PolicyLastUpdatedTime': '6/22/2020 4:47:53 AM', 'TenantDefaultPolicy': '', 'DisplayName': 'Yanivsh -CA Test', 'PolicyIdentifierString': ''})\"],[\"Cmd(name='Set-ConditionalAccessPolicy', params={'Identity': 'seccxpninja.onmicrosoft.com\\\\\\\\ba36f0a4-6d73-4ba4-9282-3b3c14575e36', 'PolicyDetails': '{\\\"Version\\\":0,\\\"ModifiedDateTime\\\":\\\"2020-05-19T13:31:41.7083504Z\\\",\\\"State\\\":\\\"Disabled\\\",\\\"Conditions\\\":{\\\"Applications\\\":{\\\"Include\\\":[{\\\"Applications\\\":[\\\"00000002-0000-0ff1-ce00-000000000000\\\",\\\"00000003-0000-0ff1-ce00-000000000000\\\"]}]},\\\"Users\\\":{\\\"Include\\\":[{\\\"Users\\\":[\\\"2935e535-8fdf-4217-865b-e084cb7214f1\\\"]}]},\\\"DevicePlatforms\\\":{\\\"Include\\\":[{\\\"DevicePlatforms\\\":[\\\"All\\\"]}],\\\"Exclude\\\":[{\\\"DevicePlatforms\\\":[\\\"Android\\\",\\\"iOS\\\",\\\"macOS\\\"]}]},\\\"ClientTypes\\\":{\\\"Include\\\":[{\\\"ClientTypes\\\":[\\\"Browser\\\",\\\"Native\\\"]}]}},\\\"SessionControls\\\":[\\\"CloudAppSecurity\\\"],\\\"CasSessionControlType\\\":1}', 'PolicyLastUpdatedTime': '6/23/2020 2:22:04 AM', 'TenantDefaultPolicy': '', 'DisplayName': 'Block Access JulianI', 'PolicyIdentifierString': ''})\",\"Cmd(name='Set-ConditionalAccessPolicy', params={'Identity': 'seccxpninja.onmicrosoft.com\\\\\\\\6490d00c-7ba1-42cf-aa88-99eb71d53bf7', 'PolicyDetails': '{\\\"Version\\\":0,\\\"LastUpdatedTimestamp\\\":\\\"2020-06-11T12:45:19.4695224Z\\\",\\\"State\\\":\\\"Disabled\\\",\\\"SignInFrequency\\\":\\\"NotSet\\\",\\\"PersistentBrowserSessionMode\\\":\\\"NotSet\\\"}', 'PolicyLastUpdatedTime': '6/23/2020 2:22:03 AM', 'TenantDefaultPolicy': '18', 'DisplayName': 'Default Policy', 'PolicyIdentifierString': '5/19/2020 1:39:05 PM'})\"],[\"Cmd(name='Set-ConditionalAccessPolicy', params={'Identity': 'seccxpninja.onmicrosoft.com\\\\\\\\83a057fb-dbca-4ba8-bb5f-0ce6d6e7cff5', 'PolicyDetails': '{\\\"Version\\\":0,\\\"State\\\":\\\"Enabled\\\",\\\"Conditions\\\":{\\\"Applications\\\":{\\\"Include\\\":[{\\\"Acrs\\\":[\\\"urn:microsoft:req1\\\"]}]},\\\"Users\\\":{\\\"Include\\\":[{\\\"Users\\\":[\\\"eababd92-9dc7-40e3-9359-6c106522db19\\\"]}]}},\\\"Controls\\\":[{\\\"Control\\\":[\\\"Mfa\\\"]}],\\\"PersistentBrowserSessionMode\\\":\\\"NotSet\\\",\\\"EnforceAllPoliciesForEas\\\":false,\\\"IncludeOtherLegacyClientTypeForEvaluation\\\":false}', 'PolicyLastUpdatedTime': '6/23/2020 5:22:45 AM', 'TenantDefaultPolicy': '', 'DisplayName': 'MeganB MCAS Step-up', 'PolicyIdentifierString': ''})\",\"Cmd(name='Set-ConditionalAccessPolicy', params={'Identity': 'seccxpninja.onmicrosoft.com\\\\\\\\bcd93f74-64fd-4042-a3ae-ee6d48886d6d', 'PolicyDetails': '{\\\"Version\\\":0,\\\"State\\\":\\\"Enabled\\\",\\\"Conditions\\\":{\\\"Applications\\\":{\\\"Include\\\":[{\\\"Applications\\\":[\\\"c9a559d2-7aab-4f13-a6ed-e7e9c52aec87\\\"]}]},\\\"Users\\\":{\\\"Include\\\":[{\\\"Users\\\":[\\\"bdb72692-2275-412b-8af0-ea21c2ebd174\\\",\\\"eababd92-9dc7-40e3-9359-6c106522db19\\\"]}]}},\\\"SessionControls\\\":[\\\"CloudAppSecurity\\\"],\\\"PersistentBrowserSessionMode\\\":\\\"NotSet\\\",\\\"EnforceAllPoliciesForEas\\\":false,\\\"IncludeOtherLegacyClientTypeForEvaluation\\\":false,\\\"CasSessionControlType\\\":3}', 'PolicyLastUpdatedTime': '6/23/2020 5:22:45 AM', 'TenantDefaultPolicy': '', 'DisplayName': 'Form MCAS', 'PolicyIdentifierString': ''})\"],[\"Cmd(name='Set-ConditionalAccessPolicy', params={'Identity': 'seccxpninja.onmicrosoft.com\\\\\\\\8872f6fb-da88-4b63-bcc7-17247669596b', 'PolicyDetails': '{\\\"Version\\\":0,\\\"State\\\":\\\"Enabled\\\",\\\"Conditions\\\":{\\\"Applications\\\":{\\\"Include\\\":[{\\\"Applications\\\":[\\\"00000002-0000-0ff1-ce00-000000000000\\\",\\\"09abbdfd-ed23-44ee-a2d9-a627aa1c90f3\\\",\\\"cc15fd57-2c6c-4117-a88c-83b1d56b4bbe\\\",\\\"00000003-0000-0ff1-ce00-000000000000\\\",\\\"00000005-0000-0ff1-ce00-000000000000\\\"]}]},\\\"Users\\\":{\\\"Include\\\":[{\\\"Users\\\":[\\\"eababd92-9dc7-40e3-9359-6c106522db19\\\"]}]}},\\\"SessionControls\\\":[\\\"CloudAppSecurity\\\"],\\\"PersistentBrowserSessionMode\\\":\\\"NotSet\\\",\\\"EnforceAllPoliciesForEas\\\":false,\\\"IncludeOtherLegacyClientTypeForEvaluation\\\":false,\\\"CasSessionControlType\\\":1}', 'PolicyLastUpdatedTime': '6/24/2020 1:55:12 AM', 'TenantDefaultPolicy': '', 'DisplayName': 'MeganB MCAS Proxy', 'PolicyIdentifierString': ''})\",\"Cmd(name='Set-ConditionalAccessPolicy', params={'Identity': 'seccxpninja.onmicrosoft.com\\\\\\\\8872f6fb-da88-4b63-bcc7-17247669596b', 'PolicyDetails': '{\\\"Version\\\":0,\\\"State\\\":\\\"Enabled\\\",\\\"Conditions\\\":{\\\"Applications\\\":{\\\"Include\\\":[{\\\"Applications\\\":[\\\"00000002-0000-0ff1-ce00-000000000000\\\",\\\"09abbdfd-ed23-44ee-a2d9-a627aa1c90f3\\\",\\\"cc15fd57-2c6c-4117-a88c-83b1d56b4bbe\\\",\\\"00000003-0000-0ff1-ce00-000000000000\\\",\\\"00000005-0000-0ff1-ce00-000000000000\\\"]}]},\\\"Users\\\":{\\\"Include\\\":[{\\\"Users\\\":[\\\"eababd92-9dc7-40e3-9359-6c106522db19\\\"]}]}},\\\"SessionControls\\\":[\\\"CloudAppSecurity\\\"],\\\"PersistentBrowserSessionMode\\\":\\\"NotSet\\\",\\\"EnforceAllPoliciesForEas\\\":false,\\\"IncludeOtherLegacyClientTypeForEvaluation\\\":false,\\\"CasSessionControlType\\\":1}', 'PolicyLastUpdatedTime': '6/24/2020 1:55:12 AM', 'TenantDefaultPolicy': '', 'DisplayName': 'MeganB MCAS Proxy', 'PolicyIdentifierString': ''})\"],[\"Cmd(name='Set-ConditionalAccessPolicy', params={'Identity': 'seccxpninja.onmicrosoft.com\\\\\\\\b2915792-0396-4abe-94ec-e17fa17243c5', 'PolicyDetails': '{\\\"Version\\\":0,\\\"State\\\":\\\"Enabled\\\",\\\"Conditions\\\":{\\\"Applications\\\":{\\\"Include\\\":[{\\\"Applications\\\":[\\\"94c63fef-13a3-47bc-8074-75af8c65887a\\\",\\\"c9a559d2-7aab-4f13-a6ed-e7e9c52aec87\\\"]}]},\\\"Users\\\":{\\\"Include\\\":[{\\\"Users\\\":[\\\"bdb72692-2275-412b-8af0-ea21c2ebd174\\\",\\\"eababd92-9dc7-40e3-9359-6c106522db19\\\"]}]},\\\"SignInRisks\\\":{\\\"Include\\\":[{\\\"SignInRisks\\\":[\\\"High\\\",\\\"Medium\\\",\\\"Low\\\"]}]}},\\\"SessionControls\\\":[\\\"CloudAppSecurity\\\"],\\\"PersistentBrowserSessionMode\\\":\\\"NotSet\\\",\\\"EnforceAllPoliciesForEas\\\":false,\\\"IncludeOtherLegacyClientTypeForEvaluation\\\":false,\\\"CasSessionControlType\\\":3}', 'PolicyLastUpdatedTime': '6/24/2020 1:55:13 AM', 'TenantDefaultPolicy': '', 'DisplayName': 'GBB demo', 'PolicyIdentifierString': ''})\",\"Cmd(name='Set-ConditionalAccessPolicy', params={'Identity': 'seccxpninja.onmicrosoft.com\\\\\\\\bcd93f74-64fd-4042-a3ae-ee6d48886d6d', 'PolicyDetails': '{\\\"Version\\\":0,\\\"State\\\":\\\"Enabled\\\",\\\"Conditions\\\":{\\\"Applications\\\":{\\\"Include\\\":[{\\\"Applications\\\":[\\\"c9a559d2-7aab-4f13-a6ed-e7e9c52aec87\\\"]}]},\\\"Users\\\":{\\\"Include\\\":[{\\\"Users\\\":[\\\"bdb72692-2275-412b-8af0-ea21c2ebd174\\\",\\\"eababd92-9dc7-40e3-9359-6c106522db19\\\"]}]}},\\\"SessionControls\\\":[\\\"CloudAppSecurity\\\"],\\\"PersistentBrowserSessionMode\\\":\\\"NotSet\\\",\\\"EnforceAllPoliciesForEas\\\":false,\\\"IncludeOtherLegacyClientTypeForEvaluation\\\":false,\\\"CasSessionControlType\\\":3}', 'PolicyLastUpdatedTime': '6/24/2020 1:55:13 AM', 'TenantDefaultPolicy': '', 'DisplayName': 'Form MCAS', 'PolicyIdentifierString': ''})\"],[\"Cmd(name='Set-ConditionalAccessPolicy', params={'Identity': 'seccxpninja.onmicrosoft.com\\\\\\\\8872f6fb-da88-4b63-bcc7-17247669596b', 'PolicyDetails': '{\\\"Version\\\":0,\\\"State\\\":\\\"Enabled\\\",\\\"Conditions\\\":{\\\"Applications\\\":{\\\"Include\\\":[{\\\"Applications\\\":[\\\"00000002-0000-0ff1-ce00-000000000000\\\",\\\"09abbdfd-ed23-44ee-a2d9-a627aa1c90f3\\\",\\\"cc15fd57-2c6c-4117-a88c-83b1d56b4bbe\\\",\\\"00000003-0000-0ff1-ce00-000000000000\\\",\\\"00000005-0000-0ff1-ce00-000000000000\\\"]}]},\\\"Users\\\":{\\\"Include\\\":[{\\\"Users\\\":[\\\"eababd92-9dc7-40e3-9359-6c106522db19\\\"]}]}},\\\"SessionControls\\\":[\\\"CloudAppSecurity\\\"],\\\"PersistentBrowserSessionMode\\\":\\\"NotSet\\\",\\\"EnforceAllPoliciesForEas\\\":false,\\\"IncludeOtherLegacyClientTypeForEvaluation\\\":false,\\\"CasSessionControlType\\\":1}', 'PolicyLastUpdatedTime': '6/24/2020 5:12:12 AM', 'TenantDefaultPolicy': '', 'DisplayName': 'MeganB MCAS Proxy', 'PolicyIdentifierString': ''})\",\"Cmd(name='Set-ConditionalAccessPolicy', params={'Identity': 'seccxpninja.onmicrosoft.com\\\\\\\\4c5a5ea0-5d9f-4730-baaa-7a69cf29ef26', 'PolicyDetails': '{\\\"Version\\\":0,\\\"State\\\":\\\"Enabled\\\",\\\"Conditions\\\":{\\\"Applications\\\":{\\\"Include\\\":[{\\\"Applications\\\":[\\\"All\\\"]}]},\\\"Users\\\":{\\\"Include\\\":[{\\\"Users\\\":[\\\"bdb72692-2275-412b-8af0-ea21c2ebd174\\\"]}]}},\\\"Controls\\\":[{\\\"Control\\\":[\\\"Mfa\\\"]}],\\\"PersistentBrowserSessionMode\\\":\\\"NotSet\\\",\\\"EnforceAllPoliciesForEas\\\":false,\\\"IncludeOtherLegacyClientTypeForEvaluation\\\":false}', 'PolicyLastUpdatedTime': '6/24/2020 5:12:15 AM', 'TenantDefaultPolicy': '', 'DisplayName': 'Semolen - Admin MFA', 'PolicyIdentifierString': ''})\"],[\"Cmd(name='Set-ConditionalAccessPolicy', params={'Identity': 'seccxpninja.onmicrosoft.com\\\\\\\\e183bd29-a3a3-4f91-a5a3-b83b21a544df', 'PolicyDetails': '{\\\"Version\\\":0,\\\"State\\\":\\\"Enabled\\\",\\\"Conditions\\\":{\\\"Applications\\\":{\\\"Include\\\":[{\\\"Applications\\\":[\\\"00000002-0000-0ff1-ce00-000000000000\\\"]}]},\\\"Users\\\":{\\\"Include\\\":[{\\\"Users\\\":[\\\"2935e535-8fdf-4217-865b-e084cb7214f1\\\"]}]}},\\\"SessionControls\\\":[\\\"AppEnforcedRestrictions\\\"],\\\"PersistentBrowserSessionMode\\\":\\\"NotSet\\\",\\\"EnforceAllPoliciesForEas\\\":false,\\\"IncludeOtherLegacyClientTypeForEvaluation\\\":false}', 'PolicyLastUpdatedTime': '6/25/2020 2:07:28 AM', 'TenantDefaultPolicy': '', 'DisplayName': 'JulianI Exchange native controls', 'PolicyIdentifierString': ''})\",\"Cmd(name='Set-ConditionalAccessPolicy', params={'Identity': 'seccxpninja.onmicrosoft.com\\\\\\\\8837fdaa-aaeb-4432-9622-43f6f583d583', 'PolicyDetails': '{\\\"KnownNetworkPolicies\\\":{\\\"NetworkName\\\":\\\"BE-Office\\\",\\\"NetworkId\\\":\\\"b98b9088-ce88-4fae-80fb-5b58cb1ce685\\\",\\\"CidrIpRanges\\\":[\\\"109.88.218.99/28\\\"],\\\"CountryIsoCodes\\\":null,\\\"Categories\\\":[],\\\"ApplyToUnknownCountry\\\":false}}', 'PolicyLastUpdatedTime': '6/25/2020 2:07:28 AM', 'TenantDefaultPolicy': '6', 'DisplayName': 'Known Networks List', 'PolicyIdentifierString': '3/19/2020 7:45:08 PM'})\"],[\"Cmd(name='Set-ConditionalAccessPolicy', params={'Identity': 'seccxpninja.onmicrosoft.com\\\\\\\\235bec94-f744-48ac-8314-5675953d2def', 'PolicyDetails': '{\\\"Version\\\":0,\\\"State\\\":\\\"Disabled\\\",\\\"Conditions\\\":{\\\"Applications\\\":{\\\"Include\\\":[{\\\"Applications\\\":[\\\"All\\\"]}]},\\\"Users\\\":{\\\"Include\\\":[{\\\"Users\\\":[\\\"eababd92-9dc7-40e3-9359-6c106522db19\\\"]}]},\\\"DevicePlatforms\\\":{\\\"Include\\\":[{\\\"DevicePlatforms\\\":[\\\"All\\\"]}],\\\"Exclude\\\":[{\\\"DevicePlatforms\\\":[\\\"macOS\\\"]}]}},\\\"Controls\\\":[{\\\"Control\\\":[\\\"Mfa\\\"]}],\\\"PersistentBrowserSessionMode\\\":\\\"NotSet\\\",\\\"EnforceAllPoliciesForEas\\\":false,\\\"IncludeOtherLegacyClientTypeForEvaluation\\\":false}', 'PolicyLastUpdatedTime': '6/26/2020 3:33:06 AM', 'TenantDefaultPolicy': '', 'DisplayName': 'Megan MFA demo', 'PolicyIdentifierString': ''})\",\"Cmd(name='Set-ConditionalAccessPolicy', params={'Identity': 'seccxpninja.onmicrosoft.com\\\\\\\\8872f6fb-da88-4b63-bcc7-17247669596b', 'PolicyDetails': '{\\\"Version\\\":0,\\\"State\\\":\\\"Enabled\\\",\\\"Conditions\\\":{\\\"Applications\\\":{\\\"Include\\\":[{\\\"Applications\\\":[\\\"00000002-0000-0ff1-ce00-000000000000\\\",\\\"09abbdfd-ed23-44ee-a2d9-a627aa1c90f3\\\",\\\"cc15fd57-2c6c-4117-a88c-83b1d56b4bbe\\\",\\\"00000003-0000-0ff1-ce00-000000000000\\\",\\\"00000005-0000-0ff1-ce00-000000000000\\\"]}]},\\\"Users\\\":{\\\"Include\\\":[{\\\"Users\\\":[\\\"eababd92-9dc7-40e3-9359-6c106522db19\\\"]}]}},\\\"SessionControls\\\":[\\\"CloudAppSecurity\\\"],\\\"PersistentBrowserSessionMode\\\":\\\"NotSet\\\",\\\"EnforceAllPoliciesForEas\\\":false,\\\"IncludeOtherLegacyClientTypeForEvaluation\\\":false,\\\"CasSessionControlType\\\":1}', 'PolicyLastUpdatedTime': '6/26/2020 3:33:05 AM', 'TenantDefaultPolicy': '', 'DisplayName': 'MeganB MCAS Proxy', 'PolicyIdentifierString': ''})\"],[\"Cmd(name='Set-ConditionalAccessPolicy', params={'Identity': 'seccxpninja.onmicrosoft.com\\\\\\\\e183bd29-a3a3-4f91-a5a3-b83b21a544df', 'PolicyDetails': '{\\\"Version\\\":0,\\\"State\\\":\\\"Enabled\\\",\\\"Conditions\\\":{\\\"Applications\\\":{\\\"Include\\\":[{\\\"Applications\\\":[\\\"00000002-0000-0ff1-ce00-000000000000\\\"]}]},\\\"Users\\\":{\\\"Include\\\":[{\\\"Users\\\":[\\\"2935e535-8fdf-4217-865b-e084cb7214f1\\\"]}]}},\\\"SessionControls\\\":[\\\"AppEnforcedRestrictions\\\"],\\\"PersistentBrowserSessionMode\\\":\\\"NotSet\\\",\\\"EnforceAllPoliciesForEas\\\":false,\\\"IncludeOtherLegacyClientTypeForEvaluation\\\":false}', 'PolicyLastUpdatedTime': '6/26/2020 6:48:26 AM', 'TenantDefaultPolicy': '', 'DisplayName': 'JulianI Exchange native controls', 'PolicyIdentifierString': ''})\",\"Cmd(name='Set-ConditionalAccessPolicy', params={'Identity': 'seccxpninja.onmicrosoft.com\\\\\\\\3b13ea3c-c733-4eb8-bd19-67d308b2ea04', 'PolicyDetails': '{\\\"Version\\\":0,\\\"CreatedDateTime\\\":\\\"2020-05-19T13:34:15.2394934Z\\\",\\\"ModifiedDateTime\\\":\\\"2020-05-19T13:39:04.7333386Z\\\",\\\"State\\\":\\\"Reporting\\\",\\\"Conditions\\\":{\\\"Applications\\\":{\\\"Include\\\":[{\\\"Applications\\\":[\\\"None\\\"]}]},\\\"Users\\\":{\\\"Include\\\":[{\\\"Users\\\":[\\\"Guests\\\"]}]},\\\"DevicePlatforms\\\":{\\\"Include\\\":[{\\\"DevicePlatforms\\\":[\\\"All\\\"]}],\\\"Exclude\\\":[{\\\"DevicePlatforms\\\":[\\\"Android\\\",\\\"iOS\\\",\\\"macOS\\\"]}]},\\\"ClientTypes\\\":{\\\"Include\\\":[{\\\"ClientTypes\\\":[\\\"Browser\\\",\\\"Native\\\"]}]}},\\\"Controls\\\":[{\\\"Control\\\":[\\\"Mfa\\\",\\\"RequireCompliantDevice\\\"]}]}', 'PolicyLastUpdatedTime': '6/26/2020 6:48:26 AM', 'TenantDefaultPolicy': '', 'DisplayName': 'Yanivsh -CA Test', 'PolicyIdentifierString': ''})\"],[\"Cmd(name='Set-ConditionalAccessPolicy', params={'Identity': 'seccxpninja.onmicrosoft.com\\\\\\\\8872f6fb-da88-4b63-bcc7-17247669596b', 'PolicyDetails': '{\\\"Version\\\":0,\\\"State\\\":\\\"Enabled\\\",\\\"Conditions\\\":{\\\"Applications\\\":{\\\"Include\\\":[{\\\"Applications\\\":[\\\"00000002-0000-0ff1-ce00-000000000000\\\",\\\"09abbdfd-ed23-44ee-a2d9-a627aa1c90f3\\\",\\\"cc15fd57-2c6c-4117-a88c-83b1d56b4bbe\\\",\\\"00000003-0000-0ff1-ce00-000000000000\\\",\\\"00000005-0000-0ff1-ce00-000000000000\\\"]}]},\\\"Users\\\":{\\\"Include\\\":[{\\\"Users\\\":[\\\"eababd92-9dc7-40e3-9359-6c106522db19\\\"]}]}},\\\"SessionControls\\\":[\\\"CloudAppSecurity\\\"],\\\"PersistentBrowserSessionMode\\\":\\\"NotSet\\\",\\\"EnforceAllPoliciesForEas\\\":false,\\\"IncludeOtherLegacyClientTypeForEvaluation\\\":false,\\\"CasSessionControlType\\\":1}', 'PolicyLastUpdatedTime': '6/27/2020 2:30:20 AM', 'TenantDefaultPolicy': '', 'DisplayName': 'MeganB MCAS Proxy', 'PolicyIdentifierString': ''})\",\"Cmd(name='Set-ConditionalAccessPolicy', params={'Identity': 'seccxpninja.onmicrosoft.com\\\\\\\\8872f6fb-da88-4b63-bcc7-17247669596b', 'PolicyDetails': '{\\\"Version\\\":0,\\\"State\\\":\\\"Enabled\\\",\\\"Conditions\\\":{\\\"Applications\\\":{\\\"Include\\\":[{\\\"Applications\\\":[\\\"00000002-0000-0ff1-ce00-000000000000\\\",\\\"09abbdfd-ed23-44ee-a2d9-a627aa1c90f3\\\",\\\"cc15fd57-2c6c-4117-a88c-83b1d56b4bbe\\\",\\\"00000003-0000-0ff1-ce00-000000000000\\\",\\\"00000005-0000-0ff1-ce00-000000000000\\\"]}]},\\\"Users\\\":{\\\"Include\\\":[{\\\"Users\\\":[\\\"eababd92-9dc7-40e3-9359-6c106522db19\\\"]}]}},\\\"SessionControls\\\":[\\\"CloudAppSecurity\\\"],\\\"PersistentBrowserSessionMode\\\":\\\"NotSet\\\",\\\"EnforceAllPoliciesForEas\\\":false,\\\"IncludeOtherLegacyClientTypeForEvaluation\\\":false,\\\"CasSessionControlType\\\":1}', 'PolicyLastUpdatedTime': '6/27/2020 2:30:20 AM', 'TenantDefaultPolicy': '', 'DisplayName': 'MeganB MCAS Proxy', 'PolicyIdentifierString': ''})\"],[\"Cmd(name='Set-ConditionalAccessPolicy', params={'Identity': 'seccxpninja.onmicrosoft.com\\\\\\\\235bec94-f744-48ac-8314-5675953d2def', 'PolicyDetails': '{\\\"Version\\\":0,\\\"State\\\":\\\"Disabled\\\",\\\"Conditions\\\":{\\\"Applications\\\":{\\\"Include\\\":[{\\\"Applications\\\":[\\\"All\\\"]}]},\\\"Users\\\":{\\\"Include\\\":[{\\\"Users\\\":[\\\"eababd92-9dc7-40e3-9359-6c106522db19\\\"]}]},\\\"DevicePlatforms\\\":{\\\"Include\\\":[{\\\"DevicePlatforms\\\":[\\\"All\\\"]}],\\\"Exclude\\\":[{\\\"DevicePlatforms\\\":[\\\"macOS\\\"]}]}},\\\"Controls\\\":[{\\\"Control\\\":[\\\"Mfa\\\"]}],\\\"PersistentBrowserSessionMode\\\":\\\"NotSet\\\",\\\"EnforceAllPoliciesForEas\\\":false,\\\"IncludeOtherLegacyClientTypeForEvaluation\\\":false}', 'PolicyLastUpdatedTime': '6/27/2020 2:30:20 AM', 'TenantDefaultPolicy': '', 'DisplayName': 'Megan MFA demo', 'PolicyIdentifierString': ''})\",\"Cmd(name='Set-ConditionalAccessPolicy', params={'Identity': 'seccxpninja.onmicrosoft.com\\\\\\\\bcd93f74-64fd-4042-a3ae-ee6d48886d6d', 'PolicyDetails': '{\\\"Version\\\":0,\\\"State\\\":\\\"Enabled\\\",\\\"Conditions\\\":{\\\"Applications\\\":{\\\"Include\\\":[{\\\"Applications\\\":[\\\"c9a559d2-7aab-4f13-a6ed-e7e9c52aec87\\\"]}]},\\\"Users\\\":{\\\"Include\\\":[{\\\"Users\\\":[\\\"bdb72692-2275-412b-8af0-ea21c2ebd174\\\",\\\"eababd92-9dc7-40e3-9359-6c106522db19\\\"]}]}},\\\"SessionControls\\\":[\\\"CloudAppSecurity\\\"],\\\"PersistentBrowserSessionMode\\\":\\\"NotSet\\\",\\\"EnforceAllPoliciesForEas\\\":false,\\\"IncludeOtherLegacyClientTypeForEvaluation\\\":false,\\\"CasSessionControlType\\\":3}', 'PolicyLastUpdatedTime': '6/27/2020 2:30:20 AM', 'TenantDefaultPolicy': '', 'DisplayName': 'Form MCAS', 'PolicyIdentifierString': ''})\"],[\"Cmd(name='Set-ConditionalAccessPolicy', params={'Identity': 'seccxpninja.onmicrosoft.com\\\\\\\\83a057fb-dbca-4ba8-bb5f-0ce6d6e7cff5', 'PolicyDetails': '{\\\"Version\\\":0,\\\"State\\\":\\\"Enabled\\\",\\\"Conditions\\\":{\\\"Applications\\\":{\\\"Include\\\":[{\\\"Acrs\\\":[\\\"urn:microsoft:req1\\\"]}]},\\\"Users\\\":{\\\"Include\\\":[{\\\"Users\\\":[\\\"eababd92-9dc7-40e3-9359-6c106522db19\\\"]}]}},\\\"Controls\\\":[{\\\"Control\\\":[\\\"Mfa\\\"]}],\\\"PersistentBrowserSessionMode\\\":\\\"NotSet\\\",\\\"EnforceAllPoliciesForEas\\\":false,\\\"IncludeOtherLegacyClientTypeForEvaluation\\\":false}', 'PolicyLastUpdatedTime': '6/27/2020 5:00:44 AM', 'TenantDefaultPolicy': '', 'DisplayName': 'MeganB MCAS Step-up', 'PolicyIdentifierString': ''})\",\"Cmd(name='Set-ConditionalAccessPolicy', params={'Identity': 'seccxpninja.onmicrosoft.com\\\\\\\\5fd0c4ff-1cd7-4bf6-8607-294a04f58f12', 'PolicyDetails': '{\\\"Version\\\":0,\\\"State\\\":\\\"Disabled\\\",\\\"Conditions\\\":{\\\"Applications\\\":{\\\"Include\\\":[{\\\"Applications\\\":[\\\"All\\\"]}]},\\\"Users\\\":{\\\"Include\\\":[{\\\"Users\\\":[\\\"142512c7-f006-46ae-909c-14fa7bf6a887\\\"]}]}},\\\"Controls\\\":[{\\\"Control\\\":[\\\"Mfa\\\"]}],\\\"EnforceAllPoliciesForEas\\\":false,\\\"IncludeOtherLegacyClientTypeForEvaluation\\\":false}', 'PolicyLastUpdatedTime': '6/27/2020 5:00:44 AM', 'TenantDefaultPolicy': '', 'DisplayName': 'Azure MFA', 'PolicyIdentifierString': ''})\"],[\"Cmd(name='Set-ConditionalAccessPolicy', params={'Identity': 'seccxpninja.onmicrosoft.com\\\\\\\\5fd0c4ff-1cd7-4bf6-8607-294a04f58f12', 'PolicyDetails': '{\\\"Version\\\":0,\\\"State\\\":\\\"Disabled\\\",\\\"Conditions\\\":{\\\"Applications\\\":{\\\"Include\\\":[{\\\"Applications\\\":[\\\"All\\\"]}]},\\\"Users\\\":{\\\"Include\\\":[{\\\"Users\\\":[\\\"142512c7-f006-46ae-909c-14fa7bf6a887\\\"]}]}},\\\"Controls\\\":[{\\\"Control\\\":[\\\"Mfa\\\"]}],\\\"EnforceAllPoliciesForEas\\\":false,\\\"IncludeOtherLegacyClientTypeForEvaluation\\\":false}', 'PolicyLastUpdatedTime': '6/28/2020 2:15:28 AM', 'TenantDefaultPolicy': '', 'DisplayName': 'Azure MFA', 'PolicyIdentifierString': ''})\",\"Cmd(name='Set-ConditionalAccessPolicy', params={'Identity': 'seccxpninja.onmicrosoft.com\\\\\\\\5fd0c4ff-1cd7-4bf6-8607-294a04f58f12', 'PolicyDetails': '{\\\"Version\\\":0,\\\"State\\\":\\\"Disabled\\\",\\\"Conditions\\\":{\\\"Applications\\\":{\\\"Include\\\":[{\\\"Applications\\\":[\\\"All\\\"]}]},\\\"Users\\\":{\\\"Include\\\":[{\\\"Users\\\":[\\\"142512c7-f006-46ae-909c-14fa7bf6a887\\\"]}]}},\\\"Controls\\\":[{\\\"Control\\\":[\\\"Mfa\\\"]}],\\\"EnforceAllPoliciesForEas\\\":false,\\\"IncludeOtherLegacyClientTypeForEvaluation\\\":false}', 'PolicyLastUpdatedTime': '6/28/2020 2:15:28 AM', 'TenantDefaultPolicy': '', 'DisplayName': 'Azure MFA', 'PolicyIdentifierString': ''})\"],[\"Cmd(name='Set-ConditionalAccessPolicy', params={'Identity': 'seccxpninja.onmicrosoft.com\\\\\\\\bcd93f74-64fd-4042-a3ae-ee6d48886d6d', 'PolicyDetails': '{\\\"Version\\\":0,\\\"State\\\":\\\"Enabled\\\",\\\"Conditions\\\":{\\\"Applications\\\":{\\\"Include\\\":[{\\\"Applications\\\":[\\\"c9a559d2-7aab-4f13-a6ed-e7e9c52aec87\\\"]}]},\\\"Users\\\":{\\\"Include\\\":[{\\\"Users\\\":[\\\"bdb72692-2275-412b-8af0-ea21c2ebd174\\\",\\\"eababd92-9dc7-40e3-9359-6c106522db19\\\"]}]}},\\\"SessionControls\\\":[\\\"CloudAppSecurity\\\"],\\\"PersistentBrowserSessionMode\\\":\\\"NotSet\\\",\\\"EnforceAllPoliciesForEas\\\":false,\\\"IncludeOtherLegacyClientTypeForEvaluation\\\":false,\\\"CasSessionControlType\\\":3}', 'PolicyLastUpdatedTime': '6/28/2020 5:20:09 AM', 'TenantDefaultPolicy': '', 'DisplayName': 'Form MCAS', 'PolicyIdentifierString': ''})\",\"Cmd(name='Set-ConditionalAccessPolicy', params={'Identity': 'seccxpninja.onmicrosoft.com\\\\\\\\4c5a5ea0-5d9f-4730-baaa-7a69cf29ef26', 'PolicyDetails': '{\\\"Version\\\":0,\\\"State\\\":\\\"Enabled\\\",\\\"Conditions\\\":{\\\"Applications\\\":{\\\"Include\\\":[{\\\"Applications\\\":[\\\"All\\\"]}]},\\\"Users\\\":{\\\"Include\\\":[{\\\"Users\\\":[\\\"bdb72692-2275-412b-8af0-ea21c2ebd174\\\"]}]}},\\\"Controls\\\":[{\\\"Control\\\":[\\\"Mfa\\\"]}],\\\"PersistentBrowserSessionMode\\\":\\\"NotSet\\\",\\\"EnforceAllPoliciesForEas\\\":false,\\\"IncludeOtherLegacyClientTypeForEvaluation\\\":false}', 'PolicyLastUpdatedTime': '6/28/2020 5:20:10 AM', 'TenantDefaultPolicy': '', 'DisplayName': 'Semolen - Admin MFA', 'PolicyIdentifierString': ''})\"],[\"Cmd(name='Set-ConditionalAccessPolicy', params={'Identity': 'seccxpninja.onmicrosoft.com\\\\\\\\3b13ea3c-c733-4eb8-bd19-67d308b2ea04', 'PolicyDetails': '{\\\"Version\\\":0,\\\"CreatedDateTime\\\":\\\"2020-05-19T13:34:15.2394934Z\\\",\\\"ModifiedDateTime\\\":\\\"2020-05-19T13:39:04.7333386Z\\\",\\\"State\\\":\\\"Reporting\\\",\\\"Conditions\\\":{\\\"Applications\\\":{\\\"Include\\\":[{\\\"Applications\\\":[\\\"None\\\"]}]},\\\"Users\\\":{\\\"Include\\\":[{\\\"Users\\\":[\\\"Guests\\\"]}]},\\\"DevicePlatforms\\\":{\\\"Include\\\":[{\\\"DevicePlatforms\\\":[\\\"All\\\"]}],\\\"Exclude\\\":[{\\\"DevicePlatforms\\\":[\\\"Android\\\",\\\"iOS\\\",\\\"macOS\\\"]}]},\\\"ClientTypes\\\":{\\\"Include\\\":[{\\\"ClientTypes\\\":[\\\"Browser\\\",\\\"Native\\\"]}]}},\\\"Controls\\\":[{\\\"Control\\\":[\\\"Mfa\\\",\\\"RequireCompliantDevice\\\"]}]}', 'PolicyLastUpdatedTime': '6/28/2020 5:20:12 AM', 'TenantDefaultPolicy': '', 'DisplayName': 'Yanivsh -CA Test', 'PolicyIdentifierString': ''})\",\"Cmd(name='Set-ConditionalAccessPolicy', params={'Identity': 'seccxpninja.onmicrosoft.com\\\\\\\\83a057fb-dbca-4ba8-bb5f-0ce6d6e7cff5', 'PolicyDetails': '{\\\"Version\\\":0,\\\"State\\\":\\\"Enabled\\\",\\\"Conditions\\\":{\\\"Applications\\\":{\\\"Include\\\":[{\\\"Acrs\\\":[\\\"urn:microsoft:req1\\\"]}]},\\\"Users\\\":{\\\"Include\\\":[{\\\"Users\\\":[\\\"eababd92-9dc7-40e3-9359-6c106522db19\\\"]}]}},\\\"Controls\\\":[{\\\"Control\\\":[\\\"Mfa\\\"]}],\\\"PersistentBrowserSessionMode\\\":\\\"NotSet\\\",\\\"EnforceAllPoliciesForEas\\\":false,\\\"IncludeOtherLegacyClientTypeForEvaluation\\\":false}', 'PolicyLastUpdatedTime': '6/28/2020 5:20:09 AM', 'TenantDefaultPolicy': '', 'DisplayName': 'MeganB MCAS Step-up', 'PolicyIdentifierString': ''})\",\"Cmd(name='Set-ConditionalAccessPolicy', params={'Identity': 'seccxpninja.onmicrosoft.com\\\\\\\\235bec94-f744-48ac-8314-5675953d2def', 'PolicyDetails': '{\\\"Version\\\":0,\\\"State\\\":\\\"Disabled\\\",\\\"Conditions\\\":{\\\"Applications\\\":{\\\"Include\\\":[{\\\"Applications\\\":[\\\"All\\\"]}]},\\\"Users\\\":{\\\"Include\\\":[{\\\"Users\\\":[\\\"eababd92-9dc7-40e3-9359-6c106522db19\\\"]}]},\\\"DevicePlatforms\\\":{\\\"Include\\\":[{\\\"DevicePlatforms\\\":[\\\"All\\\"]}],\\\"Exclude\\\":[{\\\"DevicePlatforms\\\":[\\\"macOS\\\"]}]}},\\\"Controls\\\":[{\\\"Control\\\":[\\\"Mfa\\\"]}],\\\"PersistentBrowserSessionMode\\\":\\\"NotSet\\\",\\\"EnforceAllPoliciesForEas\\\":false,\\\"IncludeOtherLegacyClientTypeForEvaluation\\\":false}', 'PolicyLastUpdatedTime': '6/28/2020 5:20:09 AM', 'TenantDefaultPolicy': '', 'DisplayName': 'Megan MFA demo', 'PolicyIdentifierString': ''})\"],[\"Cmd(name='Set-ConditionalAccessPolicy', params={'Identity': 'seccxpninja.onmicrosoft.com\\\\\\\\e183bd29-a3a3-4f91-a5a3-b83b21a544df', 'PolicyDetails': '{\\\"Version\\\":0,\\\"State\\\":\\\"Enabled\\\",\\\"Conditions\\\":{\\\"Applications\\\":{\\\"Include\\\":[{\\\"Applications\\\":[\\\"00000002-0000-0ff1-ce00-000000000000\\\"]}]},\\\"Users\\\":{\\\"Include\\\":[{\\\"Users\\\":[\\\"2935e535-8fdf-4217-865b-e084cb7214f1\\\"]}]}},\\\"SessionControls\\\":[\\\"AppEnforcedRestrictions\\\"],\\\"PersistentBrowserSessionMode\\\":\\\"NotSet\\\",\\\"EnforceAllPoliciesForEas\\\":false,\\\"IncludeOtherLegacyClientTypeForEvaluation\\\":false}', 'PolicyLastUpdatedTime': '6/29/2020 1:51:34 AM', 'TenantDefaultPolicy': '', 'DisplayName': 'JulianI Exchange native controls', 'PolicyIdentifierString': ''})\",\"Cmd(name='Set-ConditionalAccessPolicy', params={'Identity': 'seccxpninja.onmicrosoft.com\\\\\\\\3b13ea3c-c733-4eb8-bd19-67d308b2ea04', 'PolicyDetails': '{\\\"Version\\\":0,\\\"CreatedDateTime\\\":\\\"2020-05-19T13:34:15.2394934Z\\\",\\\"ModifiedDateTime\\\":\\\"2020-05-19T13:39:04.7333386Z\\\",\\\"State\\\":\\\"Reporting\\\",\\\"Conditions\\\":{\\\"Applications\\\":{\\\"Include\\\":[{\\\"Applications\\\":[\\\"None\\\"]}]},\\\"Users\\\":{\\\"Include\\\":[{\\\"Users\\\":[\\\"Guests\\\"]}]},\\\"DevicePlatforms\\\":{\\\"Include\\\":[{\\\"DevicePlatforms\\\":[\\\"All\\\"]}],\\\"Exclude\\\":[{\\\"DevicePlatforms\\\":[\\\"Android\\\",\\\"iOS\\\",\\\"macOS\\\"]}]},\\\"ClientTypes\\\":{\\\"Include\\\":[{\\\"ClientTypes\\\":[\\\"Browser\\\",\\\"Native\\\"]}]}},\\\"Controls\\\":[{\\\"Control\\\":[\\\"Mfa\\\",\\\"RequireCompliantDevice\\\"]}]}', 'PolicyLastUpdatedTime': '6/29/2020 1:51:34 AM', 'TenantDefaultPolicy': '', 'DisplayName': 'Yanivsh -CA Test', 'PolicyIdentifierString': ''})\"],[\"Cmd(name='Set-ConditionalAccessPolicy', params={'Identity': 'seccxpninja.onmicrosoft.com\\\\\\\\8872f6fb-da88-4b63-bcc7-17247669596b', 'PolicyDetails': '{\\\"Version\\\":0,\\\"State\\\":\\\"Enabled\\\",\\\"Conditions\\\":{\\\"Applications\\\":{\\\"Include\\\":[{\\\"Applications\\\":[\\\"00000002-0000-0ff1-ce00-000000000000\\\",\\\"09abbdfd-ed23-44ee-a2d9-a627aa1c90f3\\\",\\\"cc15fd57-2c6c-4117-a88c-83b1d56b4bbe\\\",\\\"00000003-0000-0ff1-ce00-000000000000\\\",\\\"00000005-0000-0ff1-ce00-000000000000\\\"]}]},\\\"Users\\\":{\\\"Include\\\":[{\\\"Users\\\":[\\\"eababd92-9dc7-40e3-9359-6c106522db19\\\"]}]}},\\\"SessionControls\\\":[\\\"CloudAppSecurity\\\"],\\\"PersistentBrowserSessionMode\\\":\\\"NotSet\\\",\\\"EnforceAllPoliciesForEas\\\":false,\\\"IncludeOtherLegacyClientTypeForEvaluation\\\":false,\\\"CasSessionControlType\\\":1}', 'PolicyLastUpdatedTime': '6/29/2020 4:43:10 AM', 'TenantDefaultPolicy': '', 'DisplayName': 'MeganB MCAS Proxy', 'PolicyIdentifierString': ''})\",\"Cmd(name='Set-ConditionalAccessPolicy', params={'Identity': 'seccxpninja.onmicrosoft.com\\\\\\\\8872f6fb-da88-4b63-bcc7-17247669596b', 'PolicyDetails': '{\\\"Version\\\":0,\\\"State\\\":\\\"Enabled\\\",\\\"Conditions\\\":{\\\"Applications\\\":{\\\"Include\\\":[{\\\"Applications\\\":[\\\"00000002-0000-0ff1-ce00-000000000000\\\",\\\"09abbdfd-ed23-44ee-a2d9-a627aa1c90f3\\\",\\\"cc15fd57-2c6c-4117-a88c-83b1d56b4bbe\\\",\\\"00000003-0000-0ff1-ce00-000000000000\\\",\\\"00000005-0000-0ff1-ce00-000000000000\\\"]}]},\\\"Users\\\":{\\\"Include\\\":[{\\\"Users\\\":[\\\"eababd92-9dc7-40e3-9359-6c106522db19\\\"]}]}},\\\"SessionControls\\\":[\\\"CloudAppSecurity\\\"],\\\"PersistentBrowserSessionMode\\\":\\\"NotSet\\\",\\\"EnforceAllPoliciesForEas\\\":false,\\\"IncludeOtherLegacyClientTypeForEvaluation\\\":false,\\\"CasSessionControlType\\\":1}', 'PolicyLastUpdatedTime': '6/29/2020 4:43:10 AM', 'TenantDefaultPolicy': '', 'DisplayName': 'MeganB MCAS Proxy', 'PolicyIdentifierString': ''})\"],[\"Cmd(name='Set-ConditionalAccessPolicy', params={'Identity': 'seccxpninja.onmicrosoft.com\\\\\\\\69c7a12f-b407-45a3-b07e-fa04fc7f273d', 'PolicyDetails': '{\\\"Version\\\":0,\\\"State\\\":\\\"Enabled\\\",\\\"Conditions\\\":{\\\"Applications\\\":{\\\"Include\\\":[{\\\"Applications\\\":[\\\"00000003-0000-0ff1-ce00-000000000000\\\"]}]},\\\"Users\\\":{\\\"Include\\\":[{\\\"Users\\\":[\\\"All\\\"]}]}},\\\"SessionControls\\\":[\\\"CloudAppSecurity\\\"],\\\"PersistentBrowserSessionMode\\\":\\\"NotSet\\\",\\\"EnforceAllPoliciesForEas\\\":false,\\\"IncludeOtherLegacyClientTypeForEvaluation\\\":false,\\\"CasSessionControlType\\\":1}', 'PolicyLastUpdatedTime': '6/29/2020 4:43:13 AM', 'TenantDefaultPolicy': '', 'DisplayName': 'Test Policy', 'PolicyIdentifierString': ''})\",\"Cmd(name='Set-ConditionalAccessPolicy', params={'Identity': 'seccxpninja.onmicrosoft.com\\\\\\\\bcd93f74-64fd-4042-a3ae-ee6d48886d6d', 'PolicyDetails': '{\\\"Version\\\":0,\\\"State\\\":\\\"Enabled\\\",\\\"Conditions\\\":{\\\"Applications\\\":{\\\"Include\\\":[{\\\"Applications\\\":[\\\"c9a559d2-7aab-4f13-a6ed-e7e9c52aec87\\\"]}]},\\\"Users\\\":{\\\"Include\\\":[{\\\"Users\\\":[\\\"bdb72692-2275-412b-8af0-ea21c2ebd174\\\",\\\"eababd92-9dc7-40e3-9359-6c106522db19\\\"]}]}},\\\"SessionControls\\\":[\\\"CloudAppSecurity\\\"],\\\"PersistentBrowserSessionMode\\\":\\\"NotSet\\\",\\\"EnforceAllPoliciesForEas\\\":false,\\\"IncludeOtherLegacyClientTypeForEvaluation\\\":false,\\\"CasSessionControlType\\\":3}', 'PolicyLastUpdatedTime': '6/29/2020 4:43:12 AM', 'TenantDefaultPolicy': '', 'DisplayName': 'Form MCAS', 'PolicyIdentifierString': ''})\"],[\"Cmd(name='Set-ConditionalAccessPolicy', params={'Identity': 'seccxpninja.onmicrosoft.com\\\\\\\\8872f6fb-da88-4b63-bcc7-17247669596b', 'PolicyDetails': '{\\\"Version\\\":0,\\\"State\\\":\\\"Enabled\\\",\\\"Conditions\\\":{\\\"Applications\\\":{\\\"Include\\\":[{\\\"Applications\\\":[\\\"00000002-0000-0ff1-ce00-000000000000\\\",\\\"09abbdfd-ed23-44ee-a2d9-a627aa1c90f3\\\",\\\"cc15fd57-2c6c-4117-a88c-83b1d56b4bbe\\\",\\\"00000003-0000-0ff1-ce00-000000000000\\\",\\\"00000005-0000-0ff1-ce00-000000000000\\\"]}]},\\\"Users\\\":{\\\"Include\\\":[{\\\"Users\\\":[\\\"eababd92-9dc7-40e3-9359-6c106522db19\\\"]}]}},\\\"SessionControls\\\":[\\\"CloudAppSecurity\\\"],\\\"PersistentBrowserSessionMode\\\":\\\"NotSet\\\",\\\"EnforceAllPoliciesForEas\\\":false,\\\"IncludeOtherLegacyClientTypeForEvaluation\\\":false,\\\"CasSessionControlType\\\":1}', 'PolicyLastUpdatedTime': '6/30/2020 2:05:13 AM', 'TenantDefaultPolicy': '', 'DisplayName': 'MeganB MCAS Proxy', 'PolicyIdentifierString': ''})\",\"Cmd(name='Set-ConditionalAccessPolicy', params={'Identity': 'seccxpninja.onmicrosoft.com\\\\\\\\8872f6fb-da88-4b63-bcc7-17247669596b', 'PolicyDetails': '{\\\"Version\\\":0,\\\"State\\\":\\\"Enabled\\\",\\\"Conditions\\\":{\\\"Applications\\\":{\\\"Include\\\":[{\\\"Applications\\\":[\\\"00000002-0000-0ff1-ce00-000000000000\\\",\\\"09abbdfd-ed23-44ee-a2d9-a627aa1c90f3\\\",\\\"cc15fd57-2c6c-4117-a88c-83b1d56b4bbe\\\",\\\"00000003-0000-0ff1-ce00-000000000000\\\",\\\"00000005-0000-0ff1-ce00-000000000000\\\"]}]},\\\"Users\\\":{\\\"Include\\\":[{\\\"Users\\\":[\\\"eababd92-9dc7-40e3-9359-6c106522db19\\\"]}]}},\\\"SessionControls\\\":[\\\"CloudAppSecurity\\\"],\\\"PersistentBrowserSessionMode\\\":\\\"NotSet\\\",\\\"EnforceAllPoliciesForEas\\\":false,\\\"IncludeOtherLegacyClientTypeForEvaluation\\\":false,\\\"CasSessionControlType\\\":1}', 'PolicyLastUpdatedTime': '6/30/2020 2:05:13 AM', 'TenantDefaultPolicy': '', 'DisplayName': 'MeganB MCAS Proxy', 'PolicyIdentifierString': ''})\"],[\"Cmd(name='Set-ConditionalAccessPolicy', params={'Identity': 'seccxpninja.onmicrosoft.com\\\\\\\\3b13ea3c-c733-4eb8-bd19-67d308b2ea04', 'PolicyDetails': '{\\\"Version\\\":0,\\\"CreatedDateTime\\\":\\\"2020-05-19T13:34:15.2394934Z\\\",\\\"ModifiedDateTime\\\":\\\"2020-05-19T13:39:04.7333386Z\\\",\\\"State\\\":\\\"Reporting\\\",\\\"Conditions\\\":{\\\"Applications\\\":{\\\"Include\\\":[{\\\"Applications\\\":[\\\"None\\\"]}]},\\\"Users\\\":{\\\"Include\\\":[{\\\"Users\\\":[\\\"Guests\\\"]}]},\\\"DevicePlatforms\\\":{\\\"Include\\\":[{\\\"DevicePlatforms\\\":[\\\"All\\\"]}],\\\"Exclude\\\":[{\\\"DevicePlatforms\\\":[\\\"Android\\\",\\\"iOS\\\",\\\"macOS\\\"]}]},\\\"ClientTypes\\\":{\\\"Include\\\":[{\\\"ClientTypes\\\":[\\\"Browser\\\",\\\"Native\\\"]}]}},\\\"Controls\\\":[{\\\"Control\\\":[\\\"Mfa\\\",\\\"RequireCompliantDevice\\\"]}]}', 'PolicyLastUpdatedTime': '6/30/2020 2:05:17 AM', 'TenantDefaultPolicy': '', 'DisplayName': 'Yanivsh -CA Test', 'PolicyIdentifierString': ''})\",\"Cmd(name='Set-ConditionalAccessPolicy', params={'Identity': 'seccxpninja.onmicrosoft.com\\\\\\\\4c5a5ea0-5d9f-4730-baaa-7a69cf29ef26', 'PolicyDetails': '{\\\"Version\\\":0,\\\"State\\\":\\\"Enabled\\\",\\\"Conditions\\\":{\\\"Applications\\\":{\\\"Include\\\":[{\\\"Applications\\\":[\\\"All\\\"]}]},\\\"Users\\\":{\\\"Include\\\":[{\\\"Users\\\":[\\\"bdb72692-2275-412b-8af0-ea21c2ebd174\\\"]}]}},\\\"Controls\\\":[{\\\"Control\\\":[\\\"Mfa\\\"]}],\\\"PersistentBrowserSessionMode\\\":\\\"NotSet\\\",\\\"EnforceAllPoliciesForEas\\\":false,\\\"IncludeOtherLegacyClientTypeForEvaluation\\\":false}', 'PolicyLastUpdatedTime': '6/30/2020 2:05:15 AM', 'TenantDefaultPolicy': '', 'DisplayName': 'Semolen - Admin MFA', 'PolicyIdentifierString': ''})\"],[\"Cmd(name='Set-ConditionalAccessPolicy', params={'Identity': 'seccxpninja.onmicrosoft.com\\\\\\\\b2915792-0396-4abe-94ec-e17fa17243c5', 'PolicyDetails': '{\\\"Version\\\":0,\\\"State\\\":\\\"Enabled\\\",\\\"Conditions\\\":{\\\"Applications\\\":{\\\"Include\\\":[{\\\"Applications\\\":[\\\"94c63fef-13a3-47bc-8074-75af8c65887a\\\",\\\"c9a559d2-7aab-4f13-a6ed-e7e9c52aec87\\\"]}]},\\\"Users\\\":{\\\"Include\\\":[{\\\"Users\\\":[\\\"bdb72692-2275-412b-8af0-ea21c2ebd174\\\",\\\"eababd92-9dc7-40e3-9359-6c106522db19\\\"]}]},\\\"SignInRisks\\\":{\\\"Include\\\":[{\\\"SignInRisks\\\":[\\\"High\\\",\\\"Medium\\\",\\\"Low\\\"]}]}},\\\"SessionControls\\\":[\\\"CloudAppSecurity\\\"],\\\"PersistentBrowserSessionMode\\\":\\\"NotSet\\\",\\\"EnforceAllPoliciesForEas\\\":false,\\\"IncludeOtherLegacyClientTypeForEvaluation\\\":false,\\\"CasSessionControlType\\\":3}', 'PolicyLastUpdatedTime': '6/30/2020 5:06:20 AM', 'TenantDefaultPolicy': '', 'DisplayName': 'GBB demo', 'PolicyIdentifierString': ''})\",\"Cmd(name='Set-ConditionalAccessPolicy', params={'Identity': 'seccxpninja.onmicrosoft.com\\\\\\\\83a057fb-dbca-4ba8-bb5f-0ce6d6e7cff5', 'PolicyDetails': '{\\\"Version\\\":0,\\\"State\\\":\\\"Enabled\\\",\\\"Conditions\\\":{\\\"Applications\\\":{\\\"Include\\\":[{\\\"Acrs\\\":[\\\"urn:microsoft:req1\\\"]}]},\\\"Users\\\":{\\\"Include\\\":[{\\\"Users\\\":[\\\"eababd92-9dc7-40e3-9359-6c106522db19\\\"]}]}},\\\"Controls\\\":[{\\\"Control\\\":[\\\"Mfa\\\"]}],\\\"PersistentBrowserSessionMode\\\":\\\"NotSet\\\",\\\"EnforceAllPoliciesForEas\\\":false,\\\"IncludeOtherLegacyClientTypeForEvaluation\\\":false}', 'PolicyLastUpdatedTime': '6/30/2020 5:06:20 AM', 'TenantDefaultPolicy': '', 'DisplayName': 'MeganB MCAS Step-up', 'PolicyIdentifierString': ''})\"],[\"Cmd(name='Set-ConditionalAccessPolicy', params={'Identity': 'seccxpninja.onmicrosoft.com\\\\\\\\ba36f0a4-6d73-4ba4-9282-3b3c14575e36', 'PolicyDetails': '{\\\"Version\\\":0,\\\"ModifiedDateTime\\\":\\\"2020-05-19T13:31:41.7083504Z\\\",\\\"State\\\":\\\"Disabled\\\",\\\"Conditions\\\":{\\\"Applications\\\":{\\\"Include\\\":[{\\\"Applications\\\":[\\\"00000002-0000-0ff1-ce00-000000000000\\\",\\\"00000003-0000-0ff1-ce00-000000000000\\\"]}]},\\\"Users\\\":{\\\"Include\\\":[{\\\"Users\\\":[\\\"2935e535-8fdf-4217-865b-e084cb7214f1\\\"]}]},\\\"DevicePlatforms\\\":{\\\"Include\\\":[{\\\"DevicePlatforms\\\":[\\\"All\\\"]}],\\\"Exclude\\\":[{\\\"DevicePlatforms\\\":[\\\"Android\\\",\\\"iOS\\\",\\\"macOS\\\"]}]},\\\"ClientTypes\\\":{\\\"Include\\\":[{\\\"ClientTypes\\\":[\\\"Browser\\\",\\\"Native\\\"]}]}},\\\"SessionControls\\\":[\\\"CloudAppSecurity\\\"],\\\"CasSessionControlType\\\":1}', 'PolicyLastUpdatedTime': '7/1/2020 1:49:42 AM', 'TenantDefaultPolicy': '', 'DisplayName': 'Block Access JulianI', 'PolicyIdentifierString': ''})\",\"Cmd(name='Set-ConditionalAccessPolicy', params={'Identity': 'seccxpninja.onmicrosoft.com\\\\\\\\5fd0c4ff-1cd7-4bf6-8607-294a04f58f12', 'PolicyDetails': '{\\\"Version\\\":0,\\\"State\\\":\\\"Disabled\\\",\\\"Conditions\\\":{\\\"Applications\\\":{\\\"Include\\\":[{\\\"Applications\\\":[\\\"All\\\"]}]},\\\"Users\\\":{\\\"Include\\\":[{\\\"Users\\\":[\\\"142512c7-f006-46ae-909c-14fa7bf6a887\\\"]}]}},\\\"Controls\\\":[{\\\"Control\\\":[\\\"Mfa\\\"]}],\\\"EnforceAllPoliciesForEas\\\":false,\\\"IncludeOtherLegacyClientTypeForEvaluation\\\":false}', 'PolicyLastUpdatedTime': '7/1/2020 1:49:42 AM', 'TenantDefaultPolicy': '', 'DisplayName': 'Azure MFA', 'PolicyIdentifierString': ''})\"],[\"Cmd(name='Set-ConditionalAccessPolicy', params={'Identity': 'seccxpninja.onmicrosoft.com\\\\\\\\2e76d011-eaa3-40b4-8ce8-7fba52bf3af8', 'PolicyDetails': '{\\\"Version\\\":0,\\\"State\\\":\\\"Reporting\\\",\\\"Conditions\\\":{\\\"Applications\\\":{\\\"Include\\\":[{\\\"Applications\\\":[\\\"f9e8b3d0-ba26-42cd-b544-c90a66191a81\\\"]}]},\\\"Users\\\":{\\\"Include\\\":[{\\\"Users\\\":[\\\"All\\\"]}]}},\\\"SessionControls\\\":[\\\"CloudAppSecurity\\\"],\\\"PersistentBrowserSessionMode\\\":\\\"NotSet\\\",\\\"EnforceAllPoliciesForEas\\\":false,\\\"IncludeOtherLegacyClientTypeForEvaluation\\\":false,\\\"CasSessionControlType\\\":1}', 'PolicyLastUpdatedTime': '7/1/2020 5:13:17 AM', 'TenantDefaultPolicy': '', 'DisplayName': 'On-Prem SharePoint - MeganB proxy', 'PolicyIdentifierString': ''})\",\"Cmd(name='Set-ConditionalAccessPolicy', params={'Identity': 'seccxpninja.onmicrosoft.com\\\\\\\\5fd0c4ff-1cd7-4bf6-8607-294a04f58f12', 'PolicyDetails': '{\\\"Version\\\":0,\\\"State\\\":\\\"Disabled\\\",\\\"Conditions\\\":{\\\"Applications\\\":{\\\"Include\\\":[{\\\"Applications\\\":[\\\"All\\\"]}]},\\\"Users\\\":{\\\"Include\\\":[{\\\"Users\\\":[\\\"142512c7-f006-46ae-909c-14fa7bf6a887\\\"]}]}},\\\"Controls\\\":[{\\\"Control\\\":[\\\"Mfa\\\"]}],\\\"EnforceAllPoliciesForEas\\\":false,\\\"IncludeOtherLegacyClientTypeForEvaluation\\\":false}', 'PolicyLastUpdatedTime': '7/1/2020 5:13:17 AM', 'TenantDefaultPolicy': '', 'DisplayName': 'Azure MFA', 'PolicyIdentifierString': ''})\"],[\"Cmd(name='Set-ConditionalAccessPolicy', params={'Identity': 'seccxpninja.onmicrosoft.com\\\\\\\\8872f6fb-da88-4b63-bcc7-17247669596b', 'PolicyDetails': '{\\\"Version\\\":0,\\\"State\\\":\\\"Enabled\\\",\\\"Conditions\\\":{\\\"Applications\\\":{\\\"Include\\\":[{\\\"Applications\\\":[\\\"00000002-0000-0ff1-ce00-000000000000\\\",\\\"09abbdfd-ed23-44ee-a2d9-a627aa1c90f3\\\",\\\"cc15fd57-2c6c-4117-a88c-83b1d56b4bbe\\\",\\\"00000003-0000-0ff1-ce00-000000000000\\\",\\\"00000005-0000-0ff1-ce00-000000000000\\\"]}]},\\\"Users\\\":{\\\"Include\\\":[{\\\"Users\\\":[\\\"eababd92-9dc7-40e3-9359-6c106522db19\\\"]}]}},\\\"SessionControls\\\":[\\\"CloudAppSecurity\\\"],\\\"PersistentBrowserSessionMode\\\":\\\"NotSet\\\",\\\"EnforceAllPoliciesForEas\\\":false,\\\"IncludeOtherLegacyClientTypeForEvaluation\\\":false,\\\"CasSessionControlType\\\":1}', 'PolicyLastUpdatedTime': '7/2/2020 2:05:21 AM', 'TenantDefaultPolicy': '', 'DisplayName': 'MeganB MCAS Proxy', 'PolicyIdentifierString': ''})\",\"Cmd(name='Set-ConditionalAccessPolicy', params={'Identity': 'seccxpninja.onmicrosoft.com\\\\\\\\b2915792-0396-4abe-94ec-e17fa17243c5', 'PolicyDetails': '{\\\"Version\\\":0,\\\"State\\\":\\\"Enabled\\\",\\\"Conditions\\\":{\\\"Applications\\\":{\\\"Include\\\":[{\\\"Applications\\\":[\\\"94c63fef-13a3-47bc-8074-75af8c65887a\\\",\\\"c9a559d2-7aab-4f13-a6ed-e7e9c52aec87\\\"]}]},\\\"Users\\\":{\\\"Include\\\":[{\\\"Users\\\":[\\\"bdb72692-2275-412b-8af0-ea21c2ebd174\\\",\\\"eababd92-9dc7-40e3-9359-6c106522db19\\\"]}]},\\\"SignInRisks\\\":{\\\"Include\\\":[{\\\"SignInRisks\\\":[\\\"High\\\",\\\"Medium\\\",\\\"Low\\\"]}]}},\\\"SessionControls\\\":[\\\"CloudAppSecurity\\\"],\\\"PersistentBrowserSessionMode\\\":\\\"NotSet\\\",\\\"EnforceAllPoliciesForEas\\\":false,\\\"IncludeOtherLegacyClientTypeForEvaluation\\\":false,\\\"CasSessionControlType\\\":3}', 'PolicyLastUpdatedTime': '7/2/2020 2:05:23 AM', 'TenantDefaultPolicy': '', 'DisplayName': 'GBB demo', 'PolicyIdentifierString': ''})\"],[\"Cmd(name='Set-ConditionalAccessPolicy', params={'Identity': 'seccxpninja.onmicrosoft.com\\\\\\\\83a057fb-dbca-4ba8-bb5f-0ce6d6e7cff5', 'PolicyDetails': '{\\\"Version\\\":0,\\\"State\\\":\\\"Enabled\\\",\\\"Conditions\\\":{\\\"Applications\\\":{\\\"Include\\\":[{\\\"Acrs\\\":[\\\"urn:microsoft:req1\\\"]}]},\\\"Users\\\":{\\\"Include\\\":[{\\\"Users\\\":[\\\"eababd92-9dc7-40e3-9359-6c106522db19\\\"]}]}},\\\"Controls\\\":[{\\\"Control\\\":[\\\"Mfa\\\"]}],\\\"PersistentBrowserSessionMode\\\":\\\"NotSet\\\",\\\"EnforceAllPoliciesForEas\\\":false,\\\"IncludeOtherLegacyClientTypeForEvaluation\\\":false}', 'PolicyLastUpdatedTime': '7/2/2020 4:53:56 AM', 'TenantDefaultPolicy': '', 'DisplayName': 'MeganB MCAS Step-up', 'PolicyIdentifierString': ''})\",\"Cmd(name='Set-ConditionalAccessPolicy', params={'Identity': 'seccxpninja.onmicrosoft.com\\\\\\\\235bec94-f744-48ac-8314-5675953d2def', 'PolicyDetails': '{\\\"Version\\\":0,\\\"State\\\":\\\"Disabled\\\",\\\"Conditions\\\":{\\\"Applications\\\":{\\\"Include\\\":[{\\\"Applications\\\":[\\\"All\\\"]}]},\\\"Users\\\":{\\\"Include\\\":[{\\\"Users\\\":[\\\"eababd92-9dc7-40e3-9359-6c106522db19\\\"]}]},\\\"DevicePlatforms\\\":{\\\"Include\\\":[{\\\"DevicePlatforms\\\":[\\\"All\\\"]}],\\\"Exclude\\\":[{\\\"DevicePlatforms\\\":[\\\"macOS\\\"]}]}},\\\"Controls\\\":[{\\\"Control\\\":[\\\"Mfa\\\"]}],\\\"PersistentBrowserSessionMode\\\":\\\"NotSet\\\",\\\"EnforceAllPoliciesForEas\\\":false,\\\"IncludeOtherLegacyClientTypeForEvaluation\\\":false}', 'PolicyLastUpdatedTime': '7/2/2020 4:53:56 AM', 'TenantDefaultPolicy': '', 'DisplayName': 'Megan MFA demo', 'PolicyIdentifierString': ''})\"],[\"Cmd(name='Set-ConditionalAccessPolicy', params={'Identity': 'seccxpninja.onmicrosoft.com\\\\\\\\2e76d011-eaa3-40b4-8ce8-7fba52bf3af8', 'PolicyDetails': '{\\\"Version\\\":0,\\\"State\\\":\\\"Reporting\\\",\\\"Conditions\\\":{\\\"Applications\\\":{\\\"Include\\\":[{\\\"Applications\\\":[\\\"f9e8b3d0-ba26-42cd-b544-c90a66191a81\\\"]}]},\\\"Users\\\":{\\\"Include\\\":[{\\\"Users\\\":[\\\"All\\\"]}]}},\\\"SessionControls\\\":[\\\"CloudAppSecurity\\\"],\\\"PersistentBrowserSessionMode\\\":\\\"NotSet\\\",\\\"EnforceAllPoliciesForEas\\\":false,\\\"IncludeOtherLegacyClientTypeForEvaluation\\\":false,\\\"CasSessionControlType\\\":1}', 'PolicyLastUpdatedTime': '7/3/2020 2:12:09 AM', 'TenantDefaultPolicy': '', 'DisplayName': 'On-Prem SharePoint - MeganB proxy', 'PolicyIdentifierString': ''})\",\"Cmd(name='Set-ConditionalAccessPolicy', params={'Identity': 'seccxpninja.onmicrosoft.com\\\\\\\\4c5a5ea0-5d9f-4730-baaa-7a69cf29ef26', 'PolicyDetails': '{\\\"Version\\\":0,\\\"State\\\":\\\"Enabled\\\",\\\"Conditions\\\":{\\\"Applications\\\":{\\\"Include\\\":[{\\\"Applications\\\":[\\\"All\\\"]}]},\\\"Users\\\":{\\\"Include\\\":[{\\\"Users\\\":[\\\"bdb72692-2275-412b-8af0-ea21c2ebd174\\\"]}]}},\\\"Controls\\\":[{\\\"Control\\\":[\\\"Mfa\\\"]}],\\\"PersistentBrowserSessionMode\\\":\\\"NotSet\\\",\\\"EnforceAllPoliciesForEas\\\":false,\\\"IncludeOtherLegacyClientTypeForEvaluation\\\":false}', 'PolicyLastUpdatedTime': '7/3/2020 2:12:08 AM', 'TenantDefaultPolicy': '', 'DisplayName': 'Semolen - Admin MFA', 'PolicyIdentifierString': ''})\"],[\"Cmd(name='Set-ConditionalAccessPolicy', params={'Identity': 'seccxpninja.onmicrosoft.com\\\\\\\\6490d00c-7ba1-42cf-aa88-99eb71d53bf7', 'PolicyDetails': '{\\\"Version\\\":0,\\\"LastUpdatedTimestamp\\\":\\\"2020-07-02T12:42:35.1866847Z\\\",\\\"State\\\":\\\"Disabled\\\",\\\"SignInFrequency\\\":\\\"NotSet\\\",\\\"PersistentBrowserSessionMode\\\":\\\"NotSet\\\"}', 'PolicyLastUpdatedTime': '7/3/2020 5:10:57 AM', 'TenantDefaultPolicy': '18', 'DisplayName': 'Default Policy', 'PolicyIdentifierString': '5/19/2020 1:39:05 PM'})\",\"Cmd(name='Set-ConditionalAccessPolicy', params={'Identity': 'seccxpninja.onmicrosoft.com\\\\\\\\ba36f0a4-6d73-4ba4-9282-3b3c14575e36', 'PolicyDetails': '{\\\"Version\\\":0,\\\"ModifiedDateTime\\\":\\\"2020-05-19T13:31:41.7083504Z\\\",\\\"State\\\":\\\"Disabled\\\",\\\"Conditions\\\":{\\\"Applications\\\":{\\\"Include\\\":[{\\\"Applications\\\":[\\\"00000002-0000-0ff1-ce00-000000000000\\\",\\\"00000003-0000-0ff1-ce00-000000000000\\\"]}]},\\\"Users\\\":{\\\"Include\\\":[{\\\"Users\\\":[\\\"2935e535-8fdf-4217-865b-e084cb7214f1\\\"]}]},\\\"DevicePlatforms\\\":{\\\"Include\\\":[{\\\"DevicePlatforms\\\":[\\\"All\\\"]}],\\\"Exclude\\\":[{\\\"DevicePlatforms\\\":[\\\"Android\\\",\\\"iOS\\\",\\\"macOS\\\"]}]},\\\"ClientTypes\\\":{\\\"Include\\\":[{\\\"ClientTypes\\\":[\\\"Browser\\\",\\\"Native\\\"]}]}},\\\"SessionControls\\\":[\\\"CloudAppSecurity\\\"],\\\"CasSessionControlType\\\":1}', 'PolicyLastUpdatedTime': '7/3/2020 5:10:58 AM', 'TenantDefaultPolicy': '', 'DisplayName': 'Block Access JulianI', 'PolicyIdentifierString': ''})\"],[\"Cmd(name='Set-ConditionalAccessPolicy', params={'Identity': 'seccxpninja.onmicrosoft.com\\\\\\\\69c7a12f-b407-45a3-b07e-fa04fc7f273d', 'PolicyDetails': '{\\\"Version\\\":0,\\\"State\\\":\\\"Enabled\\\",\\\"Conditions\\\":{\\\"Applications\\\":{\\\"Include\\\":[{\\\"Applications\\\":[\\\"00000003-0000-0ff1-ce00-000000000000\\\"]}]},\\\"Users\\\":{\\\"Include\\\":[{\\\"Users\\\":[\\\"All\\\"]}]}},\\\"SessionControls\\\":[\\\"CloudAppSecurity\\\"],\\\"PersistentBrowserSessionMode\\\":\\\"NotSet\\\",\\\"EnforceAllPoliciesForEas\\\":false,\\\"IncludeOtherLegacyClientTypeForEvaluation\\\":false,\\\"CasSessionControlType\\\":1}', 'PolicyLastUpdatedTime': '7/4/2020 2:02:50 AM', 'TenantDefaultPolicy': '', 'DisplayName': 'Test Policy', 'PolicyIdentifierString': ''})\",\"Cmd(name='Set-ConditionalAccessPolicy', params={'Identity': 'seccxpninja.onmicrosoft.com\\\\\\\\3b13ea3c-c733-4eb8-bd19-67d308b2ea04', 'PolicyDetails': '{\\\"Version\\\":0,\\\"CreatedDateTime\\\":\\\"2020-05-19T13:34:15.2394934Z\\\",\\\"ModifiedDateTime\\\":\\\"2020-05-19T13:39:04.7333386Z\\\",\\\"State\\\":\\\"Reporting\\\",\\\"Conditions\\\":{\\\"Applications\\\":{\\\"Include\\\":[{\\\"Applications\\\":[\\\"None\\\"]}]},\\\"Users\\\":{\\\"Include\\\":[{\\\"Users\\\":[\\\"Guests\\\"]}]},\\\"DevicePlatforms\\\":{\\\"Include\\\":[{\\\"DevicePlatforms\\\":[\\\"All\\\"]}],\\\"Exclude\\\":[{\\\"DevicePlatforms\\\":[\\\"Android\\\",\\\"iOS\\\",\\\"macOS\\\"]}]},\\\"ClientTypes\\\":{\\\"Include\\\":[{\\\"ClientTypes\\\":[\\\"Browser\\\",\\\"Native\\\"]}]}},\\\"Controls\\\":[{\\\"Control\\\":[\\\"Mfa\\\",\\\"RequireCompliantDevice\\\"]}]}', 'PolicyLastUpdatedTime': '7/4/2020 2:02:50 AM', 'TenantDefaultPolicy': '', 'DisplayName': 'Yanivsh -CA Test', 'PolicyIdentifierString': ''})\"],[\"Cmd(name='Set-ConditionalAccessPolicy', params={'Identity': 'seccxpninja.onmicrosoft.com\\\\\\\\83a057fb-dbca-4ba8-bb5f-0ce6d6e7cff5', 'PolicyDetails': '{\\\"Version\\\":0,\\\"State\\\":\\\"Enabled\\\",\\\"Conditions\\\":{\\\"Applications\\\":{\\\"Include\\\":[{\\\"Acrs\\\":[\\\"urn:microsoft:req1\\\"]}]},\\\"Users\\\":{\\\"Include\\\":[{\\\"Users\\\":[\\\"eababd92-9dc7-40e3-9359-6c106522db19\\\"]}]}},\\\"Controls\\\":[{\\\"Control\\\":[\\\"Mfa\\\"]}],\\\"PersistentBrowserSessionMode\\\":\\\"NotSet\\\",\\\"EnforceAllPoliciesForEas\\\":false,\\\"IncludeOtherLegacyClientTypeForEvaluation\\\":false}', 'PolicyLastUpdatedTime': '7/4/2020 4:58:34 AM', 'TenantDefaultPolicy': '', 'DisplayName': 'MeganB MCAS Step-up', 'PolicyIdentifierString': ''})\",\"Cmd(name='Set-ConditionalAccessPolicy', params={'Identity': 'seccxpninja.onmicrosoft.com\\\\\\\\235bec94-f744-48ac-8314-5675953d2def', 'PolicyDetails': '{\\\"Version\\\":0,\\\"State\\\":\\\"Disabled\\\",\\\"Conditions\\\":{\\\"Applications\\\":{\\\"Include\\\":[{\\\"Applications\\\":[\\\"All\\\"]}]},\\\"Users\\\":{\\\"Include\\\":[{\\\"Users\\\":[\\\"eababd92-9dc7-40e3-9359-6c106522db19\\\"]}]},\\\"DevicePlatforms\\\":{\\\"Include\\\":[{\\\"DevicePlatforms\\\":[\\\"All\\\"]}],\\\"Exclude\\\":[{\\\"DevicePlatforms\\\":[\\\"macOS\\\"]}]}},\\\"Controls\\\":[{\\\"Control\\\":[\\\"Mfa\\\"]}],\\\"PersistentBrowserSessionMode\\\":\\\"NotSet\\\",\\\"EnforceAllPoliciesForEas\\\":false,\\\"IncludeOtherLegacyClientTypeForEvaluation\\\":false}', 'PolicyLastUpdatedTime': '7/4/2020 4:58:34 AM', 'TenantDefaultPolicy': '', 'DisplayName': 'Megan MFA demo', 'PolicyIdentifierString': ''})\"],[\"Cmd(name='Set-ConditionalAccessPolicy', params={'Identity': 'seccxpninja.onmicrosoft.com\\\\\\\\b2915792-0396-4abe-94ec-e17fa17243c5', 'PolicyDetails': '{\\\"Version\\\":0,\\\"State\\\":\\\"Enabled\\\",\\\"Conditions\\\":{\\\"Applications\\\":{\\\"Include\\\":[{\\\"Applications\\\":[\\\"94c63fef-13a3-47bc-8074-75af8c65887a\\\",\\\"c9a559d2-7aab-4f13-a6ed-e7e9c52aec87\\\"]}]},\\\"Users\\\":{\\\"Include\\\":[{\\\"Users\\\":[\\\"bdb72692-2275-412b-8af0-ea21c2ebd174\\\",\\\"eababd92-9dc7-40e3-9359-6c106522db19\\\"]}]},\\\"SignInRisks\\\":{\\\"Include\\\":[{\\\"SignInRisks\\\":[\\\"High\\\",\\\"Medium\\\",\\\"Low\\\"]}]}},\\\"SessionControls\\\":[\\\"CloudAppSecurity\\\"],\\\"PersistentBrowserSessionMode\\\":\\\"NotSet\\\",\\\"EnforceAllPoliciesForEas\\\":false,\\\"IncludeOtherLegacyClientTypeForEvaluation\\\":false,\\\"CasSessionControlType\\\":3}', 'PolicyLastUpdatedTime': '7/5/2020 2:09:01 AM', 'TenantDefaultPolicy': '', 'DisplayName': 'GBB demo', 'PolicyIdentifierString': ''})\",\"Cmd(name='Set-ConditionalAccessPolicy', params={'Identity': 'seccxpninja.onmicrosoft.com\\\\\\\\5fd0c4ff-1cd7-4bf6-8607-294a04f58f12', 'PolicyDetails': '{\\\"Version\\\":0,\\\"State\\\":\\\"Disabled\\\",\\\"Conditions\\\":{\\\"Applications\\\":{\\\"Include\\\":[{\\\"Applications\\\":[\\\"All\\\"]}]},\\\"Users\\\":{\\\"Include\\\":[{\\\"Users\\\":[\\\"142512c7-f006-46ae-909c-14fa7bf6a887\\\"]}]}},\\\"Controls\\\":[{\\\"Control\\\":[\\\"Mfa\\\"]}],\\\"EnforceAllPoliciesForEas\\\":false,\\\"IncludeOtherLegacyClientTypeForEvaluation\\\":false}', 'PolicyLastUpdatedTime': '7/5/2020 2:09:01 AM', 'TenantDefaultPolicy': '', 'DisplayName': 'Azure MFA', 'PolicyIdentifierString': ''})\"],[\"Cmd(name='Set-ConditionalAccessPolicy', params={'Identity': 'seccxpninja.onmicrosoft.com\\\\\\\\2e76d011-eaa3-40b4-8ce8-7fba52bf3af8', 'PolicyDetails': '{\\\"Version\\\":0,\\\"State\\\":\\\"Reporting\\\",\\\"Conditions\\\":{\\\"Applications\\\":{\\\"Include\\\":[{\\\"Applications\\\":[\\\"f9e8b3d0-ba26-42cd-b544-c90a66191a81\\\"]}]},\\\"Users\\\":{\\\"Include\\\":[{\\\"Users\\\":[\\\"All\\\"]}]}},\\\"SessionControls\\\":[\\\"CloudAppSecurity\\\"],\\\"PersistentBrowserSessionMode\\\":\\\"NotSet\\\",\\\"EnforceAllPoliciesForEas\\\":false,\\\"IncludeOtherLegacyClientTypeForEvaluation\\\":false,\\\"CasSessionControlType\\\":1}', 'PolicyLastUpdatedTime': '7/5/2020 5:05:51 AM', 'TenantDefaultPolicy': '', 'DisplayName': 'On-Prem SharePoint - MeganB proxy', 'PolicyIdentifierString': ''})\",\"Cmd(name='Set-ConditionalAccessPolicy', params={'Identity': 'seccxpninja.onmicrosoft.com\\\\\\\\2e76d011-eaa3-40b4-8ce8-7fba52bf3af8', 'PolicyDetails': '{\\\"Version\\\":0,\\\"State\\\":\\\"Reporting\\\",\\\"Conditions\\\":{\\\"Applications\\\":{\\\"Include\\\":[{\\\"Applications\\\":[\\\"f9e8b3d0-ba26-42cd-b544-c90a66191a81\\\"]}]},\\\"Users\\\":{\\\"Include\\\":[{\\\"Users\\\":[\\\"All\\\"]}]}},\\\"SessionControls\\\":[\\\"CloudAppSecurity\\\"],\\\"PersistentBrowserSessionMode\\\":\\\"NotSet\\\",\\\"EnforceAllPoliciesForEas\\\":false,\\\"IncludeOtherLegacyClientTypeForEvaluation\\\":false,\\\"CasSessionControlType\\\":1}', 'PolicyLastUpdatedTime': '7/5/2020 5:05:51 AM', 'TenantDefaultPolicy': '', 'DisplayName': 'On-Prem SharePoint - MeganB proxy', 'PolicyIdentifierString': ''})\"],[\"Cmd(name='Set-ConditionalAccessPolicy', params={'Identity': 'seccxpninja.onmicrosoft.com\\\\\\\\3b13ea3c-c733-4eb8-bd19-67d308b2ea04', 'PolicyDetails': '{\\\"Version\\\":0,\\\"CreatedDateTime\\\":\\\"2020-05-19T13:34:15.2394934Z\\\",\\\"ModifiedDateTime\\\":\\\"2020-05-19T13:39:04.7333386Z\\\",\\\"State\\\":\\\"Reporting\\\",\\\"Conditions\\\":{\\\"Applications\\\":{\\\"Include\\\":[{\\\"Applications\\\":[\\\"None\\\"]}]},\\\"Users\\\":{\\\"Include\\\":[{\\\"Users\\\":[\\\"Guests\\\"]}]},\\\"DevicePlatforms\\\":{\\\"Include\\\":[{\\\"DevicePlatforms\\\":[\\\"All\\\"]}],\\\"Exclude\\\":[{\\\"DevicePlatforms\\\":[\\\"Android\\\",\\\"iOS\\\",\\\"macOS\\\"]}]},\\\"ClientTypes\\\":{\\\"Include\\\":[{\\\"ClientTypes\\\":[\\\"Browser\\\",\\\"Native\\\"]}]}},\\\"Controls\\\":[{\\\"Control\\\":[\\\"Mfa\\\",\\\"RequireCompliantDevice\\\"]}]}', 'PolicyLastUpdatedTime': '7/6/2020 1:42:07 AM', 'TenantDefaultPolicy': '', 'DisplayName': 'Yanivsh -CA Test', 'PolicyIdentifierString': ''})\",\"Cmd(name='Set-ConditionalAccessPolicy', params={'Identity': 'seccxpninja.onmicrosoft.com\\\\\\\\8837fdaa-aaeb-4432-9622-43f6f583d583', 'PolicyDetails': '{\\\"KnownNetworkPolicies\\\":{\\\"NetworkName\\\":\\\"BE-Office\\\",\\\"NetworkId\\\":\\\"b98b9088-ce88-4fae-80fb-5b58cb1ce685\\\",\\\"CidrIpRanges\\\":[\\\"109.88.218.99/28\\\"],\\\"CountryIsoCodes\\\":null,\\\"Categories\\\":[],\\\"ApplyToUnknownCountry\\\":false}}', 'PolicyLastUpdatedTime': '7/6/2020 1:42:07 AM', 'TenantDefaultPolicy': '6', 'DisplayName': 'Known Networks List', 'PolicyIdentifierString': '3/19/2020 7:45:08 PM'})\"],[\"Cmd(name='Set-ConditionalAccessPolicy', params={'Identity': 'seccxpninja.onmicrosoft.com\\\\\\\\6490d00c-7ba1-42cf-aa88-99eb71d53bf7', 'PolicyDetails': '{\\\"Version\\\":0,\\\"LastUpdatedTimestamp\\\":\\\"2020-07-02T12:42:35.1866847Z\\\",\\\"State\\\":\\\"Disabled\\\",\\\"SignInFrequency\\\":\\\"NotSet\\\",\\\"PersistentBrowserSessionMode\\\":\\\"NotSet\\\"}', 'PolicyLastUpdatedTime': '7/6/2020 4:29:48 AM', 'TenantDefaultPolicy': '18', 'DisplayName': 'Default Policy', 'PolicyIdentifierString': '5/19/2020 1:39:05 PM'})\",\"Cmd(name='Set-ConditionalAccessPolicy', params={'Identity': 'seccxpninja.onmicrosoft.com\\\\\\\\69c7a12f-b407-45a3-b07e-fa04fc7f273d', 'PolicyDetails': '{\\\"Version\\\":0,\\\"State\\\":\\\"Enabled\\\",\\\"Conditions\\\":{\\\"Applications\\\":{\\\"Include\\\":[{\\\"Applications\\\":[\\\"00000003-0000-0ff1-ce00-000000000000\\\"]}]},\\\"Users\\\":{\\\"Include\\\":[{\\\"Users\\\":[\\\"All\\\"]}]}},\\\"SessionControls\\\":[\\\"CloudAppSecurity\\\"],\\\"PersistentBrowserSessionMode\\\":\\\"NotSet\\\",\\\"EnforceAllPoliciesForEas\\\":false,\\\"IncludeOtherLegacyClientTypeForEvaluation\\\":false,\\\"CasSessionControlType\\\":1}', 'PolicyLastUpdatedTime': '7/6/2020 4:29:48 AM', 'TenantDefaultPolicy': '', 'DisplayName': 'Test Policy', 'PolicyIdentifierString': ''})\"],[\"Cmd(name='Set-ConditionalAccessPolicy', params={'Identity': 'seccxpninja.onmicrosoft.com\\\\\\\\83a057fb-dbca-4ba8-bb5f-0ce6d6e7cff5', 'PolicyDetails': '{\\\"Version\\\":0,\\\"State\\\":\\\"Enabled\\\",\\\"Conditions\\\":{\\\"Applications\\\":{\\\"Include\\\":[{\\\"Acrs\\\":[\\\"urn:microsoft:req1\\\"]}]},\\\"Users\\\":{\\\"Include\\\":[{\\\"Users\\\":[\\\"eababd92-9dc7-40e3-9359-6c106522db19\\\"]}]}},\\\"Controls\\\":[{\\\"Control\\\":[\\\"Mfa\\\"]}],\\\"PersistentBrowserSessionMode\\\":\\\"NotSet\\\",\\\"EnforceAllPoliciesForEas\\\":false,\\\"IncludeOtherLegacyClientTypeForEvaluation\\\":false}', 'PolicyLastUpdatedTime': '7/7/2020 1:51:17 AM', 'TenantDefaultPolicy': '', 'DisplayName': 'MeganB MCAS Step-up', 'PolicyIdentifierString': ''})\",\"Cmd(name='Set-ConditionalAccessPolicy', params={'Identity': 'seccxpninja.onmicrosoft.com\\\\\\\\5fd0c4ff-1cd7-4bf6-8607-294a04f58f12', 'PolicyDetails': '{\\\"Version\\\":0,\\\"State\\\":\\\"Disabled\\\",\\\"Conditions\\\":{\\\"Applications\\\":{\\\"Include\\\":[{\\\"Applications\\\":[\\\"All\\\"]}]},\\\"Users\\\":{\\\"Include\\\":[{\\\"Users\\\":[\\\"142512c7-f006-46ae-909c-14fa7bf6a887\\\"]}]}},\\\"Controls\\\":[{\\\"Control\\\":[\\\"Mfa\\\"]}],\\\"EnforceAllPoliciesForEas\\\":false,\\\"IncludeOtherLegacyClientTypeForEvaluation\\\":false}', 'PolicyLastUpdatedTime': '7/7/2020 1:51:18 AM', 'TenantDefaultPolicy': '', 'DisplayName': 'Azure MFA', 'PolicyIdentifierString': ''})\"],[\"Cmd(name='Set-ConditionalAccessPolicy', params={'Identity': 'seccxpninja.onmicrosoft.com\\\\\\\\ba36f0a4-6d73-4ba4-9282-3b3c14575e36', 'PolicyDetails': '{\\\"Version\\\":0,\\\"ModifiedDateTime\\\":\\\"2020-05-19T13:31:41.7083504Z\\\",\\\"State\\\":\\\"Disabled\\\",\\\"Conditions\\\":{\\\"Applications\\\":{\\\"Include\\\":[{\\\"Applications\\\":[\\\"00000002-0000-0ff1-ce00-000000000000\\\",\\\"00000003-0000-0ff1-ce00-000000000000\\\"]}]},\\\"Users\\\":{\\\"Include\\\":[{\\\"Users\\\":[\\\"2935e535-8fdf-4217-865b-e084cb7214f1\\\"]}]},\\\"DevicePlatforms\\\":{\\\"Include\\\":[{\\\"DevicePlatforms\\\":[\\\"All\\\"]}],\\\"Exclude\\\":[{\\\"DevicePlatforms\\\":[\\\"Android\\\",\\\"iOS\\\",\\\"macOS\\\"]}]},\\\"ClientTypes\\\":{\\\"Include\\\":[{\\\"ClientTypes\\\":[\\\"Browser\\\",\\\"Native\\\"]}]}},\\\"SessionControls\\\":[\\\"CloudAppSecurity\\\"],\\\"CasSessionControlType\\\":1}', 'PolicyLastUpdatedTime': '7/8/2020 2:30:50 AM', 'TenantDefaultPolicy': '', 'DisplayName': 'Block Access JulianI', 'PolicyIdentifierString': ''})\",\"Cmd(name='Set-ConditionalAccessPolicy', params={'Identity': 'seccxpninja.onmicrosoft.com\\\\\\\\e183bd29-a3a3-4f91-a5a3-b83b21a544df', 'PolicyDetails': '{\\\"Version\\\":0,\\\"State\\\":\\\"Enabled\\\",\\\"Conditions\\\":{\\\"Applications\\\":{\\\"Include\\\":[{\\\"Applications\\\":[\\\"00000002-0000-0ff1-ce00-000000000000\\\"]}]},\\\"Users\\\":{\\\"Include\\\":[{\\\"Users\\\":[\\\"2935e535-8fdf-4217-865b-e084cb7214f1\\\"]}]}},\\\"SessionControls\\\":[\\\"AppEnforcedRestrictions\\\"],\\\"PersistentBrowserSessionMode\\\":\\\"NotSet\\\",\\\"EnforceAllPoliciesForEas\\\":false,\\\"IncludeOtherLegacyClientTypeForEvaluation\\\":false}', 'PolicyLastUpdatedTime': '7/8/2020 2:30:50 AM', 'TenantDefaultPolicy': '', 'DisplayName': 'JulianI Exchange native controls', 'PolicyIdentifierString': ''})\",\"Cmd(name='Set-ConditionalAccessPolicy', params={'Identity': 'seccxpninja.onmicrosoft.com\\\\\\\\4c5a5ea0-5d9f-4730-baaa-7a69cf29ef26', 'PolicyDetails': '{\\\"Version\\\":0,\\\"State\\\":\\\"Enabled\\\",\\\"Conditions\\\":{\\\"Applications\\\":{\\\"Include\\\":[{\\\"Applications\\\":[\\\"All\\\"]}]},\\\"Users\\\":{\\\"Include\\\":[{\\\"Users\\\":[\\\"bdb72692-2275-412b-8af0-ea21c2ebd174\\\"]}]}},\\\"Controls\\\":[{\\\"Control\\\":[\\\"Mfa\\\"]}],\\\"PersistentBrowserSessionMode\\\":\\\"NotSet\\\",\\\"EnforceAllPoliciesForEas\\\":false,\\\"IncludeOtherLegacyClientTypeForEvaluation\\\":false}', 'PolicyLastUpdatedTime': '7/8/2020 2:30:49 AM', 'TenantDefaultPolicy': '', 'DisplayName': 'Semolen - Admin MFA', 'PolicyIdentifierString': ''})\"],[\"Cmd(name='Set-ConditionalAccessPolicy', params={'Identity': 'seccxpninja.onmicrosoft.com\\\\\\\\e183bd29-a3a3-4f91-a5a3-b83b21a544df', 'PolicyDetails': '{\\\"Version\\\":0,\\\"State\\\":\\\"Enabled\\\",\\\"Conditions\\\":{\\\"Applications\\\":{\\\"Include\\\":[{\\\"Applications\\\":[\\\"00000002-0000-0ff1-ce00-000000000000\\\"]}]},\\\"Users\\\":{\\\"Include\\\":[{\\\"Users\\\":[\\\"2935e535-8fdf-4217-865b-e084cb7214f1\\\"]}]}},\\\"SessionControls\\\":[\\\"AppEnforcedRestrictions\\\"],\\\"PersistentBrowserSessionMode\\\":\\\"NotSet\\\",\\\"EnforceAllPoliciesForEas\\\":false,\\\"IncludeOtherLegacyClientTypeForEvaluation\\\":false}', 'PolicyLastUpdatedTime': '7/8/2020 4:57:43 AM', 'TenantDefaultPolicy': '', 'DisplayName': 'JulianI Exchange native controls', 'PolicyIdentifierString': ''})\",\"Cmd(name='Set-ConditionalAccessPolicy', params={'Identity': 'seccxpninja.onmicrosoft.com\\\\\\\\83a057fb-dbca-4ba8-bb5f-0ce6d6e7cff5', 'PolicyDetails': '{\\\"Version\\\":0,\\\"State\\\":\\\"Enabled\\\",\\\"Conditions\\\":{\\\"Applications\\\":{\\\"Include\\\":[{\\\"Acrs\\\":[\\\"urn:microsoft:req1\\\"]}]},\\\"Users\\\":{\\\"Include\\\":[{\\\"Users\\\":[\\\"eababd92-9dc7-40e3-9359-6c106522db19\\\"]}]}},\\\"Controls\\\":[{\\\"Control\\\":[\\\"Mfa\\\"]}],\\\"PersistentBrowserSessionMode\\\":\\\"NotSet\\\",\\\"EnforceAllPoliciesForEas\\\":false,\\\"IncludeOtherLegacyClientTypeForEvaluation\\\":false}', 'PolicyLastUpdatedTime': '7/8/2020 4:57:42 AM', 'TenantDefaultPolicy': '', 'DisplayName': 'MeganB MCAS Step-up', 'PolicyIdentifierString': ''})\"],[\"Cmd(name='Set-ConditionalAccessPolicy', params={'Identity': 'seccxpninja.onmicrosoft.com\\\\\\\\235bec94-f744-48ac-8314-5675953d2def', 'PolicyDetails': '{\\\"Version\\\":0,\\\"State\\\":\\\"Disabled\\\",\\\"Conditions\\\":{\\\"Applications\\\":{\\\"Include\\\":[{\\\"Applications\\\":[\\\"All\\\"]}]},\\\"Users\\\":{\\\"Include\\\":[{\\\"Users\\\":[\\\"eababd92-9dc7-40e3-9359-6c106522db19\\\"]}]},\\\"DevicePlatforms\\\":{\\\"Include\\\":[{\\\"DevicePlatforms\\\":[\\\"All\\\"]}],\\\"Exclude\\\":[{\\\"DevicePlatforms\\\":[\\\"macOS\\\"]}]}},\\\"Controls\\\":[{\\\"Control\\\":[\\\"Mfa\\\"]}],\\\"PersistentBrowserSessionMode\\\":\\\"NotSet\\\",\\\"EnforceAllPoliciesForEas\\\":false,\\\"IncludeOtherLegacyClientTypeForEvaluation\\\":false}', 'PolicyLastUpdatedTime': '7/9/2020 2:37:12 AM', 'TenantDefaultPolicy': '', 'DisplayName': 'Megan MFA demo', 'PolicyIdentifierString': ''})\",\"Cmd(name='Set-ConditionalAccessPolicy', params={'Identity': 'seccxpninja.onmicrosoft.com\\\\\\\\2e76d011-eaa3-40b4-8ce8-7fba52bf3af8', 'PolicyDetails': '{\\\"Version\\\":0,\\\"State\\\":\\\"Reporting\\\",\\\"Conditions\\\":{\\\"Applications\\\":{\\\"Include\\\":[{\\\"Applications\\\":[\\\"f9e8b3d0-ba26-42cd-b544-c90a66191a81\\\"]}]},\\\"Users\\\":{\\\"Include\\\":[{\\\"Users\\\":[\\\"All\\\"]}]}},\\\"SessionControls\\\":[\\\"CloudAppSecurity\\\"],\\\"PersistentBrowserSessionMode\\\":\\\"NotSet\\\",\\\"EnforceAllPoliciesForEas\\\":false,\\\"IncludeOtherLegacyClientTypeForEvaluation\\\":false,\\\"CasSessionControlType\\\":1}', 'PolicyLastUpdatedTime': '7/9/2020 2:37:14 AM', 'TenantDefaultPolicy': '', 'DisplayName': 'On-Prem SharePoint - MeganB proxy', 'PolicyIdentifierString': ''})\"],[\"Cmd(name='Set-ConditionalAccessPolicy', params={'Identity': 'seccxpninja.onmicrosoft.com\\\\\\\\ba36f0a4-6d73-4ba4-9282-3b3c14575e36', 'PolicyDetails': '{\\\"Version\\\":0,\\\"ModifiedDateTime\\\":\\\"2020-05-19T13:31:41.7083504Z\\\",\\\"State\\\":\\\"Disabled\\\",\\\"Conditions\\\":{\\\"Applications\\\":{\\\"Include\\\":[{\\\"Applications\\\":[\\\"00000002-0000-0ff1-ce00-000000000000\\\",\\\"00000003-0000-0ff1-ce00-000000000000\\\"]}]},\\\"Users\\\":{\\\"Include\\\":[{\\\"Users\\\":[\\\"2935e535-8fdf-4217-865b-e084cb7214f1\\\"]}]},\\\"DevicePlatforms\\\":{\\\"Include\\\":[{\\\"DevicePlatforms\\\":[\\\"All\\\"]}],\\\"Exclude\\\":[{\\\"DevicePlatforms\\\":[\\\"Android\\\",\\\"iOS\\\",\\\"macOS\\\"]}]},\\\"ClientTypes\\\":{\\\"Include\\\":[{\\\"ClientTypes\\\":[\\\"Browser\\\",\\\"Native\\\"]}]}},\\\"SessionControls\\\":[\\\"CloudAppSecurity\\\"],\\\"CasSessionControlType\\\":1}', 'PolicyLastUpdatedTime': '7/10/2020 2:47:08 AM', 'TenantDefaultPolicy': '', 'DisplayName': 'Block Access JulianI', 'PolicyIdentifierString': ''})\",\"Cmd(name='Set-ConditionalAccessPolicy', params={'Identity': 'seccxpninja.onmicrosoft.com\\\\\\\\4c5a5ea0-5d9f-4730-baaa-7a69cf29ef26', 'PolicyDetails': '{\\\"Version\\\":0,\\\"State\\\":\\\"Enabled\\\",\\\"Conditions\\\":{\\\"Applications\\\":{\\\"Include\\\":[{\\\"Applications\\\":[\\\"All\\\"]}]},\\\"Users\\\":{\\\"Include\\\":[{\\\"Users\\\":[\\\"bdb72692-2275-412b-8af0-ea21c2ebd174\\\"]}]}},\\\"Controls\\\":[{\\\"Control\\\":[\\\"Mfa\\\"]}],\\\"PersistentBrowserSessionMode\\\":\\\"NotSet\\\",\\\"EnforceAllPoliciesForEas\\\":false,\\\"IncludeOtherLegacyClientTypeForEvaluation\\\":false}', 'PolicyLastUpdatedTime': '7/10/2020 2:47:08 AM', 'TenantDefaultPolicy': '', 'DisplayName': 'Semolen - Admin MFA', 'PolicyIdentifierString': ''})\"],[\"Cmd(name='Set-ConditionalAccessPolicy', params={'Identity': 'seccxpninja.onmicrosoft.com\\\\\\\\ba36f0a4-6d73-4ba4-9282-3b3c14575e36', 'PolicyDetails': '{\\\"Version\\\":0,\\\"ModifiedDateTime\\\":\\\"2020-05-19T13:31:41.7083504Z\\\",\\\"State\\\":\\\"Disabled\\\",\\\"Conditions\\\":{\\\"Applications\\\":{\\\"Include\\\":[{\\\"Applications\\\":[\\\"00000002-0000-0ff1-ce00-000000000000\\\",\\\"00000003-0000-0ff1-ce00-000000000000\\\"]}]},\\\"Users\\\":{\\\"Include\\\":[{\\\"Users\\\":[\\\"2935e535-8fdf-4217-865b-e084cb7214f1\\\"]}]},\\\"DevicePlatforms\\\":{\\\"Include\\\":[{\\\"DevicePlatforms\\\":[\\\"All\\\"]}],\\\"Exclude\\\":[{\\\"DevicePlatforms\\\":[\\\"Android\\\",\\\"iOS\\\",\\\"macOS\\\"]}]},\\\"ClientTypes\\\":{\\\"Include\\\":[{\\\"ClientTypes\\\":[\\\"Browser\\\",\\\"Native\\\"]}]}},\\\"SessionControls\\\":[\\\"CloudAppSecurity\\\"],\\\"CasSessionControlType\\\":1}', 'PolicyLastUpdatedTime': '7/10/2020 5:29:23 AM', 'TenantDefaultPolicy': '', 'DisplayName': 'Block Access JulianI', 'PolicyIdentifierString': ''})\",\"Cmd(name='Set-ConditionalAccessPolicy', params={'Identity': 'seccxpninja.onmicrosoft.com\\\\\\\\2e76d011-eaa3-40b4-8ce8-7fba52bf3af8', 'PolicyDetails': '{\\\"Version\\\":0,\\\"State\\\":\\\"Reporting\\\",\\\"Conditions\\\":{\\\"Applications\\\":{\\\"Include\\\":[{\\\"Applications\\\":[\\\"f9e8b3d0-ba26-42cd-b544-c90a66191a81\\\"]}]},\\\"Users\\\":{\\\"Include\\\":[{\\\"Users\\\":[\\\"All\\\"]}]}},\\\"SessionControls\\\":[\\\"CloudAppSecurity\\\"],\\\"PersistentBrowserSessionMode\\\":\\\"NotSet\\\",\\\"EnforceAllPoliciesForEas\\\":false,\\\"IncludeOtherLegacyClientTypeForEvaluation\\\":false,\\\"CasSessionControlType\\\":1}', 'PolicyLastUpdatedTime': '7/10/2020 5:29:22 AM', 'TenantDefaultPolicy': '', 'DisplayName': 'On-Prem SharePoint - MeganB proxy', 'PolicyIdentifierString': ''})\"],[\"Cmd(name='Set-ConditionalAccessPolicy', params={'Identity': 'seccxpninja.onmicrosoft.com\\\\\\\\8872f6fb-da88-4b63-bcc7-17247669596b', 'PolicyDetails': '{\\\"Version\\\":0,\\\"State\\\":\\\"Enabled\\\",\\\"Conditions\\\":{\\\"Applications\\\":{\\\"Include\\\":[{\\\"Applications\\\":[\\\"00000002-0000-0ff1-ce00-000000000000\\\",\\\"09abbdfd-ed23-44ee-a2d9-a627aa1c90f3\\\",\\\"cc15fd57-2c6c-4117-a88c-83b1d56b4bbe\\\",\\\"00000003-0000-0ff1-ce00-000000000000\\\",\\\"00000005-0000-0ff1-ce00-000000000000\\\"]}]},\\\"Users\\\":{\\\"Include\\\":[{\\\"Users\\\":[\\\"eababd92-9dc7-40e3-9359-6c106522db19\\\"]}]}},\\\"SessionControls\\\":[\\\"CloudAppSecurity\\\"],\\\"PersistentBrowserSessionMode\\\":\\\"NotSet\\\",\\\"EnforceAllPoliciesForEas\\\":false,\\\"IncludeOtherLegacyClientTypeForEvaluation\\\":false,\\\"CasSessionControlType\\\":1}', 'PolicyLastUpdatedTime': '7/11/2020 2:21:22 AM', 'TenantDefaultPolicy': '', 'DisplayName': 'MeganB MCAS Proxy', 'PolicyIdentifierString': ''})\",\"Cmd(name='Set-ConditionalAccessPolicy', params={'Identity': 'seccxpninja.onmicrosoft.com\\\\\\\\3b13ea3c-c733-4eb8-bd19-67d308b2ea04', 'PolicyDetails': '{\\\"Version\\\":0,\\\"CreatedDateTime\\\":\\\"2020-05-19T13:34:15.2394934Z\\\",\\\"ModifiedDateTime\\\":\\\"2020-05-19T13:39:04.7333386Z\\\",\\\"State\\\":\\\"Reporting\\\",\\\"Conditions\\\":{\\\"Applications\\\":{\\\"Include\\\":[{\\\"Applications\\\":[\\\"None\\\"]}]},\\\"Users\\\":{\\\"Include\\\":[{\\\"Users\\\":[\\\"Guests\\\"]}]},\\\"DevicePlatforms\\\":{\\\"Include\\\":[{\\\"DevicePlatforms\\\":[\\\"All\\\"]}],\\\"Exclude\\\":[{\\\"DevicePlatforms\\\":[\\\"Android\\\",\\\"iOS\\\",\\\"macOS\\\"]}]},\\\"ClientTypes\\\":{\\\"Include\\\":[{\\\"ClientTypes\\\":[\\\"Browser\\\",\\\"Native\\\"]}]}},\\\"Controls\\\":[{\\\"Control\\\":[\\\"Mfa\\\",\\\"RequireCompliantDevice\\\"]}]}', 'PolicyLastUpdatedTime': '7/11/2020 2:21:26 AM', 'TenantDefaultPolicy': '', 'DisplayName': 'Yanivsh -CA Test', 'PolicyIdentifierString': ''})\"],[\"Cmd(name='Set-ConditionalAccessPolicy', params={'Identity': 'seccxpninja.onmicrosoft.com\\\\\\\\6490d00c-7ba1-42cf-aa88-99eb71d53bf7', 'PolicyDetails': '{\\\"Version\\\":0,\\\"LastUpdatedTimestamp\\\":\\\"2020-07-02T12:42:35.1866847Z\\\",\\\"State\\\":\\\"Disabled\\\",\\\"SignInFrequency\\\":\\\"NotSet\\\",\\\"PersistentBrowserSessionMode\\\":\\\"NotSet\\\"}', 'PolicyLastUpdatedTime': '7/11/2020 5:03:43 AM', 'TenantDefaultPolicy': '18', 'DisplayName': 'Default Policy', 'PolicyIdentifierString': '5/19/2020 1:39:05 PM'})\",\"Cmd(name='Set-ConditionalAccessPolicy', params={'Identity': 'seccxpninja.onmicrosoft.com\\\\\\\\e183bd29-a3a3-4f91-a5a3-b83b21a544df', 'PolicyDetails': '{\\\"Version\\\":0,\\\"State\\\":\\\"Enabled\\\",\\\"Conditions\\\":{\\\"Applications\\\":{\\\"Include\\\":[{\\\"Applications\\\":[\\\"00000002-0000-0ff1-ce00-000000000000\\\"]}]},\\\"Users\\\":{\\\"Include\\\":[{\\\"Users\\\":[\\\"2935e535-8fdf-4217-865b-e084cb7214f1\\\"]}]}},\\\"SessionControls\\\":[\\\"AppEnforcedRestrictions\\\"],\\\"PersistentBrowserSessionMode\\\":\\\"NotSet\\\",\\\"EnforceAllPoliciesForEas\\\":false,\\\"IncludeOtherLegacyClientTypeForEvaluation\\\":false}', 'PolicyLastUpdatedTime': '7/11/2020 5:03:44 AM', 'TenantDefaultPolicy': '', 'DisplayName': 'JulianI Exchange native controls', 'PolicyIdentifierString': ''})\"],[\"Cmd(name='Set-ConditionalAccessPolicy', params={'Identity': 'seccxpninja.onmicrosoft.com\\\\\\\\69c7a12f-b407-45a3-b07e-fa04fc7f273d', 'PolicyDetails': '{\\\"Version\\\":0,\\\"State\\\":\\\"Enabled\\\",\\\"Conditions\\\":{\\\"Applications\\\":{\\\"Include\\\":[{\\\"Applications\\\":[\\\"00000003-0000-0ff1-ce00-000000000000\\\"]}]},\\\"Users\\\":{\\\"Include\\\":[{\\\"Users\\\":[\\\"All\\\"]}]}},\\\"SessionControls\\\":[\\\"CloudAppSecurity\\\"],\\\"PersistentBrowserSessionMode\\\":\\\"NotSet\\\",\\\"EnforceAllPoliciesForEas\\\":false,\\\"IncludeOtherLegacyClientTypeForEvaluation\\\":false,\\\"CasSessionControlType\\\":1}', 'PolicyLastUpdatedTime': '7/11/2020 5:03:43 AM', 'TenantDefaultPolicy': '', 'DisplayName': 'Test Policy', 'PolicyIdentifierString': ''})\",\"Cmd(name='Set-ConditionalAccessPolicy', params={'Identity': 'seccxpninja.onmicrosoft.com\\\\\\\\bcd93f74-64fd-4042-a3ae-ee6d48886d6d', 'PolicyDetails': '{\\\"Version\\\":0,\\\"State\\\":\\\"Enabled\\\",\\\"Conditions\\\":{\\\"Applications\\\":{\\\"Include\\\":[{\\\"Applications\\\":[\\\"c9a559d2-7aab-4f13-a6ed-e7e9c52aec87\\\"]}]},\\\"Users\\\":{\\\"Include\\\":[{\\\"Users\\\":[\\\"bdb72692-2275-412b-8af0-ea21c2ebd174\\\",\\\"eababd92-9dc7-40e3-9359-6c106522db19\\\"]}]}},\\\"SessionControls\\\":[\\\"CloudAppSecurity\\\"],\\\"PersistentBrowserSessionMode\\\":\\\"NotSet\\\",\\\"EnforceAllPoliciesForEas\\\":false,\\\"IncludeOtherLegacyClientTypeForEvaluation\\\":false,\\\"CasSessionControlType\\\":3}', 'PolicyLastUpdatedTime': '7/11/2020 5:03:41 AM', 'TenantDefaultPolicy': '', 'DisplayName': 'Form MCAS', 'PolicyIdentifierString': ''})\"],[\"Cmd(name='Set-ConditionalAccessPolicy', params={'Identity': 'seccxpninja.onmicrosoft.com\\\\\\\\e183bd29-a3a3-4f91-a5a3-b83b21a544df', 'PolicyDetails': '{\\\"Version\\\":0,\\\"State\\\":\\\"Enabled\\\",\\\"Conditions\\\":{\\\"Applications\\\":{\\\"Include\\\":[{\\\"Applications\\\":[\\\"00000002-0000-0ff1-ce00-000000000000\\\"]}]},\\\"Users\\\":{\\\"Include\\\":[{\\\"Users\\\":[\\\"2935e535-8fdf-4217-865b-e084cb7214f1\\\"]}]}},\\\"SessionControls\\\":[\\\"AppEnforcedRestrictions\\\"],\\\"PersistentBrowserSessionMode\\\":\\\"NotSet\\\",\\\"EnforceAllPoliciesForEas\\\":false,\\\"IncludeOtherLegacyClientTypeForEvaluation\\\":false}', 'PolicyLastUpdatedTime': '7/12/2020 2:47:24 AM', 'TenantDefaultPolicy': '', 'DisplayName': 'JulianI Exchange native controls', 'PolicyIdentifierString': ''})\",\"Cmd(name='Set-ConditionalAccessPolicy', params={'Identity': 'seccxpninja.onmicrosoft.com\\\\\\\\83a057fb-dbca-4ba8-bb5f-0ce6d6e7cff5', 'PolicyDetails': '{\\\"Version\\\":0,\\\"State\\\":\\\"Enabled\\\",\\\"Conditions\\\":{\\\"Applications\\\":{\\\"Include\\\":[{\\\"Acrs\\\":[\\\"urn:microsoft:req1\\\"]}]},\\\"Users\\\":{\\\"Include\\\":[{\\\"Users\\\":[\\\"eababd92-9dc7-40e3-9359-6c106522db19\\\"]}]}},\\\"Controls\\\":[{\\\"Control\\\":[\\\"Mfa\\\"]}],\\\"PersistentBrowserSessionMode\\\":\\\"NotSet\\\",\\\"EnforceAllPoliciesForEas\\\":false,\\\"IncludeOtherLegacyClientTypeForEvaluation\\\":false}', 'PolicyLastUpdatedTime': '7/12/2020 2:47:24 AM', 'TenantDefaultPolicy': '', 'DisplayName': 'MeganB MCAS Step-up', 'PolicyIdentifierString': ''})\"],[\"Cmd(name='Set-ConditionalAccessPolicy', params={'Identity': 'seccxpninja.onmicrosoft.com\\\\\\\\e183bd29-a3a3-4f91-a5a3-b83b21a544df', 'PolicyDetails': '{\\\"Version\\\":0,\\\"State\\\":\\\"Enabled\\\",\\\"Conditions\\\":{\\\"Applications\\\":{\\\"Include\\\":[{\\\"Applications\\\":[\\\"00000002-0000-0ff1-ce00-000000000000\\\"]}]},\\\"Users\\\":{\\\"Include\\\":[{\\\"Users\\\":[\\\"2935e535-8fdf-4217-865b-e084cb7214f1\\\"]}]}},\\\"SessionControls\\\":[\\\"AppEnforcedRestrictions\\\"],\\\"PersistentBrowserSessionMode\\\":\\\"NotSet\\\",\\\"EnforceAllPoliciesForEas\\\":false,\\\"IncludeOtherLegacyClientTypeForEvaluation\\\":false}', 'PolicyLastUpdatedTime': '7/12/2020 5:31:05 AM', 'TenantDefaultPolicy': '', 'DisplayName': 'JulianI Exchange native controls', 'PolicyIdentifierString': ''})\",\"Cmd(name='Set-ConditionalAccessPolicy', params={'Identity': 'seccxpninja.onmicrosoft.com\\\\\\\\6490d00c-7ba1-42cf-aa88-99eb71d53bf7', 'PolicyDetails': '{\\\"Version\\\":0,\\\"LastUpdatedTimestamp\\\":\\\"2020-07-02T12:42:35.1866847Z\\\",\\\"State\\\":\\\"Disabled\\\",\\\"SignInFrequency\\\":\\\"NotSet\\\",\\\"PersistentBrowserSessionMode\\\":\\\"NotSet\\\"}', 'PolicyLastUpdatedTime': '7/12/2020 5:31:05 AM', 'TenantDefaultPolicy': '18', 'DisplayName': 'Default Policy', 'PolicyIdentifierString': '5/19/2020 1:39:05 PM'})\"],[\"Cmd(name='Set-ConditionalAccessPolicy', params={'Identity': 'seccxpninja.onmicrosoft.com\\\\\\\\8872f6fb-da88-4b63-bcc7-17247669596b', 'PolicyDetails': '{\\\"Version\\\":0,\\\"State\\\":\\\"Enabled\\\",\\\"Conditions\\\":{\\\"Applications\\\":{\\\"Include\\\":[{\\\"Applications\\\":[\\\"00000002-0000-0ff1-ce00-000000000000\\\",\\\"09abbdfd-ed23-44ee-a2d9-a627aa1c90f3\\\",\\\"cc15fd57-2c6c-4117-a88c-83b1d56b4bbe\\\",\\\"00000003-0000-0ff1-ce00-000000000000\\\",\\\"00000005-0000-0ff1-ce00-000000000000\\\"]}]},\\\"Users\\\":{\\\"Include\\\":[{\\\"Users\\\":[\\\"eababd92-9dc7-40e3-9359-6c106522db19\\\"]}]}},\\\"SessionControls\\\":[\\\"CloudAppSecurity\\\"],\\\"PersistentBrowserSessionMode\\\":\\\"NotSet\\\",\\\"EnforceAllPoliciesForEas\\\":false,\\\"IncludeOtherLegacyClientTypeForEvaluation\\\":false,\\\"CasSessionControlType\\\":1}', 'PolicyLastUpdatedTime': '7/13/2020 2:48:08 AM', 'TenantDefaultPolicy': '', 'DisplayName': 'MeganB MCAS Proxy', 'PolicyIdentifierString': ''})\",\"Cmd(name='Set-ConditionalAccessPolicy', params={'Identity': 'seccxpninja.onmicrosoft.com\\\\\\\\235bec94-f744-48ac-8314-5675953d2def', 'PolicyDetails': '{\\\"Version\\\":0,\\\"State\\\":\\\"Disabled\\\",\\\"Conditions\\\":{\\\"Applications\\\":{\\\"Include\\\":[{\\\"Applications\\\":[\\\"All\\\"]}]},\\\"Users\\\":{\\\"Include\\\":[{\\\"Users\\\":[\\\"eababd92-9dc7-40e3-9359-6c106522db19\\\"]}]},\\\"DevicePlatforms\\\":{\\\"Include\\\":[{\\\"DevicePlatforms\\\":[\\\"All\\\"]}],\\\"Exclude\\\":[{\\\"DevicePlatforms\\\":[\\\"macOS\\\"]}]}},\\\"Controls\\\":[{\\\"Control\\\":[\\\"Mfa\\\"]}],\\\"PersistentBrowserSessionMode\\\":\\\"NotSet\\\",\\\"EnforceAllPoliciesForEas\\\":false,\\\"IncludeOtherLegacyClientTypeForEvaluation\\\":false}', 'PolicyLastUpdatedTime': '7/13/2020 2:48:09 AM', 'TenantDefaultPolicy': '', 'DisplayName': 'Megan MFA demo', 'PolicyIdentifierString': ''})\"],[\"Cmd(name='Set-ConditionalAccessPolicy', params={'Identity': 'seccxpninja.onmicrosoft.com\\\\\\\\e183bd29-a3a3-4f91-a5a3-b83b21a544df', 'PolicyDetails': '{\\\"Version\\\":0,\\\"State\\\":\\\"Enabled\\\",\\\"Conditions\\\":{\\\"Applications\\\":{\\\"Include\\\":[{\\\"Applications\\\":[\\\"00000002-0000-0ff1-ce00-000000000000\\\"]}]},\\\"Users\\\":{\\\"Include\\\":[{\\\"Users\\\":[\\\"2935e535-8fdf-4217-865b-e084cb7214f1\\\"]}]}},\\\"SessionControls\\\":[\\\"AppEnforcedRestrictions\\\"],\\\"PersistentBrowserSessionMode\\\":\\\"NotSet\\\",\\\"EnforceAllPoliciesForEas\\\":false,\\\"IncludeOtherLegacyClientTypeForEvaluation\\\":false}', 'PolicyLastUpdatedTime': '7/13/2020 5:38:31 AM', 'TenantDefaultPolicy': '', 'DisplayName': 'JulianI Exchange native controls', 'PolicyIdentifierString': ''})\",\"Cmd(name='Set-ConditionalAccessPolicy', params={'Identity': 'seccxpninja.onmicrosoft.com\\\\\\\\ba36f0a4-6d73-4ba4-9282-3b3c14575e36', 'PolicyDetails': '{\\\"Version\\\":0,\\\"ModifiedDateTime\\\":\\\"2020-05-19T13:31:41.7083504Z\\\",\\\"State\\\":\\\"Disabled\\\",\\\"Conditions\\\":{\\\"Applications\\\":{\\\"Include\\\":[{\\\"Applications\\\":[\\\"00000002-0000-0ff1-ce00-000000000000\\\",\\\"00000003-0000-0ff1-ce00-000000000000\\\"]}]},\\\"Users\\\":{\\\"Include\\\":[{\\\"Users\\\":[\\\"2935e535-8fdf-4217-865b-e084cb7214f1\\\"]}]},\\\"DevicePlatforms\\\":{\\\"Include\\\":[{\\\"DevicePlatforms\\\":[\\\"All\\\"]}],\\\"Exclude\\\":[{\\\"DevicePlatforms\\\":[\\\"Android\\\",\\\"iOS\\\",\\\"macOS\\\"]}]},\\\"ClientTypes\\\":{\\\"Include\\\":[{\\\"ClientTypes\\\":[\\\"Browser\\\",\\\"Native\\\"]}]}},\\\"SessionControls\\\":[\\\"CloudAppSecurity\\\"],\\\"CasSessionControlType\\\":1}', 'PolicyLastUpdatedTime': '7/13/2020 5:38:30 AM', 'TenantDefaultPolicy': '', 'DisplayName': 'Block Access JulianI', 'PolicyIdentifierString': ''})\"],[\"Cmd(name='Set-ConditionalAccessPolicy', params={'Identity': 'seccxpninja.onmicrosoft.com\\\\\\\\2e76d011-eaa3-40b4-8ce8-7fba52bf3af8', 'PolicyDetails': '{\\\"Version\\\":0,\\\"State\\\":\\\"Reporting\\\",\\\"Conditions\\\":{\\\"Applications\\\":{\\\"Include\\\":[{\\\"Applications\\\":[\\\"f9e8b3d0-ba26-42cd-b544-c90a66191a81\\\"]}]},\\\"Users\\\":{\\\"Include\\\":[{\\\"Users\\\":[\\\"All\\\"]}]}},\\\"SessionControls\\\":[\\\"CloudAppSecurity\\\"],\\\"PersistentBrowserSessionMode\\\":\\\"NotSet\\\",\\\"EnforceAllPoliciesForEas\\\":false,\\\"IncludeOtherLegacyClientTypeForEvaluation\\\":false,\\\"CasSessionControlType\\\":1}', 'PolicyLastUpdatedTime': '7/13/2020 5:38:30 AM', 'TenantDefaultPolicy': '', 'DisplayName': 'On-Prem SharePoint - MeganB proxy', 'PolicyIdentifierString': ''})\",\"Cmd(name='Set-ConditionalAccessPolicy', params={'Identity': 'seccxpninja.onmicrosoft.com\\\\\\\\3b13ea3c-c733-4eb8-bd19-67d308b2ea04', 'PolicyDetails': '{\\\"Version\\\":0,\\\"CreatedDateTime\\\":\\\"2020-05-19T13:34:15.2394934Z\\\",\\\"ModifiedDateTime\\\":\\\"2020-05-19T13:39:04.7333386Z\\\",\\\"State\\\":\\\"Reporting\\\",\\\"Conditions\\\":{\\\"Applications\\\":{\\\"Include\\\":[{\\\"Applications\\\":[\\\"None\\\"]}]},\\\"Users\\\":{\\\"Include\\\":[{\\\"Users\\\":[\\\"Guests\\\"]}]},\\\"DevicePlatforms\\\":{\\\"Include\\\":[{\\\"DevicePlatforms\\\":[\\\"All\\\"]}],\\\"Exclude\\\":[{\\\"DevicePlatforms\\\":[\\\"Android\\\",\\\"iOS\\\",\\\"macOS\\\"]}]},\\\"ClientTypes\\\":{\\\"Include\\\":[{\\\"ClientTypes\\\":[\\\"Browser\\\",\\\"Native\\\"]}]}},\\\"Controls\\\":[{\\\"Control\\\":[\\\"Mfa\\\",\\\"RequireCompliantDevice\\\"]}]}', 'PolicyLastUpdatedTime': '7/13/2020 5:38:31 AM', 'TenantDefaultPolicy': '', 'DisplayName': 'Yanivsh -CA Test', 'PolicyIdentifierString': ''})\"],[\"Cmd(name='Set-ConditionalAccessPolicy', params={'Identity': 'seccxpninja.onmicrosoft.com\\\\\\\\5fd0c4ff-1cd7-4bf6-8607-294a04f58f12', 'PolicyDetails': '{\\\"Version\\\":0,\\\"State\\\":\\\"Disabled\\\",\\\"Conditions\\\":{\\\"Applications\\\":{\\\"Include\\\":[{\\\"Applications\\\":[\\\"All\\\"]}]},\\\"Users\\\":{\\\"Include\\\":[{\\\"Users\\\":[\\\"142512c7-f006-46ae-909c-14fa7bf6a887\\\"]}]}},\\\"Controls\\\":[{\\\"Control\\\":[\\\"Mfa\\\"]}],\\\"EnforceAllPoliciesForEas\\\":false,\\\"IncludeOtherLegacyClientTypeForEvaluation\\\":false}', 'PolicyLastUpdatedTime': '7/14/2020 2:31:27 AM', 'TenantDefaultPolicy': '', 'DisplayName': 'Azure MFA', 'PolicyIdentifierString': ''})\",\"Cmd(name='Set-ConditionalAccessPolicy', params={'Identity': 'seccxpninja.onmicrosoft.com\\\\\\\\b2915792-0396-4abe-94ec-e17fa17243c5', 'PolicyDetails': '{\\\"Version\\\":0,\\\"State\\\":\\\"Enabled\\\",\\\"Conditions\\\":{\\\"Applications\\\":{\\\"Include\\\":[{\\\"Applications\\\":[\\\"94c63fef-13a3-47bc-8074-75af8c65887a\\\",\\\"c9a559d2-7aab-4f13-a6ed-e7e9c52aec87\\\"]}]},\\\"Users\\\":{\\\"Include\\\":[{\\\"Users\\\":[\\\"bdb72692-2275-412b-8af0-ea21c2ebd174\\\",\\\"eababd92-9dc7-40e3-9359-6c106522db19\\\"]}]},\\\"SignInRisks\\\":{\\\"Include\\\":[{\\\"SignInRisks\\\":[\\\"High\\\",\\\"Medium\\\",\\\"Low\\\"]}]}},\\\"SessionControls\\\":[\\\"CloudAppSecurity\\\"],\\\"PersistentBrowserSessionMode\\\":\\\"NotSet\\\",\\\"EnforceAllPoliciesForEas\\\":false,\\\"IncludeOtherLegacyClientTypeForEvaluation\\\":false,\\\"CasSessionControlType\\\":3}', 'PolicyLastUpdatedTime': '7/14/2020 2:31:27 AM', 'TenantDefaultPolicy': '', 'DisplayName': 'GBB demo', 'PolicyIdentifierString': ''})\"],[\"Cmd(name='Set-ConditionalAccessPolicy', params={'Identity': 'seccxpninja.onmicrosoft.com\\\\\\\\235bec94-f744-48ac-8314-5675953d2def', 'PolicyDetails': '{\\\"Version\\\":0,\\\"State\\\":\\\"Disabled\\\",\\\"Conditions\\\":{\\\"Applications\\\":{\\\"Include\\\":[{\\\"Applications\\\":[\\\"All\\\"]}]},\\\"Users\\\":{\\\"Include\\\":[{\\\"Users\\\":[\\\"eababd92-9dc7-40e3-9359-6c106522db19\\\"]}]},\\\"DevicePlatforms\\\":{\\\"Include\\\":[{\\\"DevicePlatforms\\\":[\\\"All\\\"]}],\\\"Exclude\\\":[{\\\"DevicePlatforms\\\":[\\\"macOS\\\"]}]}},\\\"Controls\\\":[{\\\"Control\\\":[\\\"Mfa\\\"]}],\\\"PersistentBrowserSessionMode\\\":\\\"NotSet\\\",\\\"EnforceAllPoliciesForEas\\\":false,\\\"IncludeOtherLegacyClientTypeForEvaluation\\\":false}', 'PolicyLastUpdatedTime': '7/14/2020 5:26:43 AM', 'TenantDefaultPolicy': '', 'DisplayName': 'Megan MFA demo', 'PolicyIdentifierString': ''})\",\"Cmd(name='Set-ConditionalAccessPolicy', params={'Identity': 'seccxpninja.onmicrosoft.com\\\\\\\\83a057fb-dbca-4ba8-bb5f-0ce6d6e7cff5', 'PolicyDetails': '{\\\"Version\\\":0,\\\"State\\\":\\\"Enabled\\\",\\\"Conditions\\\":{\\\"Applications\\\":{\\\"Include\\\":[{\\\"Acrs\\\":[\\\"urn:microsoft:req1\\\"]}]},\\\"Users\\\":{\\\"Include\\\":[{\\\"Users\\\":[\\\"eababd92-9dc7-40e3-9359-6c106522db19\\\"]}]}},\\\"Controls\\\":[{\\\"Control\\\":[\\\"Mfa\\\"]}],\\\"PersistentBrowserSessionMode\\\":\\\"NotSet\\\",\\\"EnforceAllPoliciesForEas\\\":false,\\\"IncludeOtherLegacyClientTypeForEvaluation\\\":false}', 'PolicyLastUpdatedTime': '7/14/2020 5:26:43 AM', 'TenantDefaultPolicy': '', 'DisplayName': 'MeganB MCAS Step-up', 'PolicyIdentifierString': ''})\"],[\"Cmd(name='Set-ConditionalAccessPolicy', params={'Identity': 'seccxpninja.onmicrosoft.com\\\\\\\\8872f6fb-da88-4b63-bcc7-17247669596b', 'PolicyDetails': '{\\\"Version\\\":0,\\\"State\\\":\\\"Enabled\\\",\\\"Conditions\\\":{\\\"Applications\\\":{\\\"Include\\\":[{\\\"Applications\\\":[\\\"00000002-0000-0ff1-ce00-000000000000\\\",\\\"09abbdfd-ed23-44ee-a2d9-a627aa1c90f3\\\",\\\"cc15fd57-2c6c-4117-a88c-83b1d56b4bbe\\\",\\\"00000003-0000-0ff1-ce00-000000000000\\\",\\\"00000005-0000-0ff1-ce00-000000000000\\\"]}]},\\\"Users\\\":{\\\"Include\\\":[{\\\"Users\\\":[\\\"eababd92-9dc7-40e3-9359-6c106522db19\\\"]}]}},\\\"SessionControls\\\":[\\\"CloudAppSecurity\\\"],\\\"PersistentBrowserSessionMode\\\":\\\"NotSet\\\",\\\"EnforceAllPoliciesForEas\\\":false,\\\"IncludeOtherLegacyClientTypeForEvaluation\\\":false,\\\"CasSessionControlType\\\":1}', 'PolicyLastUpdatedTime': '7/15/2020 2:50:27 AM', 'TenantDefaultPolicy': '', 'DisplayName': 'MeganB MCAS Proxy', 'PolicyIdentifierString': ''})\",\"Cmd(name='Set-ConditionalAccessPolicy', params={'Identity': 'seccxpninja.onmicrosoft.com\\\\\\\\b2915792-0396-4abe-94ec-e17fa17243c5', 'PolicyDetails': '{\\\"Version\\\":0,\\\"State\\\":\\\"Enabled\\\",\\\"Conditions\\\":{\\\"Applications\\\":{\\\"Include\\\":[{\\\"Applications\\\":[\\\"94c63fef-13a3-47bc-8074-75af8c65887a\\\",\\\"c9a559d2-7aab-4f13-a6ed-e7e9c52aec87\\\"]}]},\\\"Users\\\":{\\\"Include\\\":[{\\\"Users\\\":[\\\"bdb72692-2275-412b-8af0-ea21c2ebd174\\\",\\\"eababd92-9dc7-40e3-9359-6c106522db19\\\"]}]},\\\"SignInRisks\\\":{\\\"Include\\\":[{\\\"SignInRisks\\\":[\\\"High\\\",\\\"Medium\\\",\\\"Low\\\"]}]}},\\\"SessionControls\\\":[\\\"CloudAppSecurity\\\"],\\\"PersistentBrowserSessionMode\\\":\\\"NotSet\\\",\\\"EnforceAllPoliciesForEas\\\":false,\\\"IncludeOtherLegacyClientTypeForEvaluation\\\":false,\\\"CasSessionControlType\\\":3}', 'PolicyLastUpdatedTime': '7/15/2020 2:50:29 AM', 'TenantDefaultPolicy': '', 'DisplayName': 'GBB demo', 'PolicyIdentifierString': ''})\"],[\"Cmd(name='Set-ConditionalAccessPolicy', params={'Identity': 'seccxpninja.onmicrosoft.com\\\\\\\\ba36f0a4-6d73-4ba4-9282-3b3c14575e36', 'PolicyDetails': '{\\\"Version\\\":0,\\\"ModifiedDateTime\\\":\\\"2020-05-19T13:31:41.7083504Z\\\",\\\"State\\\":\\\"Disabled\\\",\\\"Conditions\\\":{\\\"Applications\\\":{\\\"Include\\\":[{\\\"Applications\\\":[\\\"00000002-0000-0ff1-ce00-000000000000\\\",\\\"00000003-0000-0ff1-ce00-000000000000\\\"]}]},\\\"Users\\\":{\\\"Include\\\":[{\\\"Users\\\":[\\\"2935e535-8fdf-4217-865b-e084cb7214f1\\\"]}]},\\\"DevicePlatforms\\\":{\\\"Include\\\":[{\\\"DevicePlatforms\\\":[\\\"All\\\"]}],\\\"Exclude\\\":[{\\\"DevicePlatforms\\\":[\\\"Android\\\",\\\"iOS\\\",\\\"macOS\\\"]}]},\\\"ClientTypes\\\":{\\\"Include\\\":[{\\\"ClientTypes\\\":[\\\"Browser\\\",\\\"Native\\\"]}]}},\\\"SessionControls\\\":[\\\"CloudAppSecurity\\\"],\\\"CasSessionControlType\\\":1}', 'PolicyLastUpdatedTime': '7/15/2020 5:27:44 AM', 'TenantDefaultPolicy': '', 'DisplayName': 'Block Access JulianI', 'PolicyIdentifierString': ''})\",\"Cmd(name='Set-ConditionalAccessPolicy', params={'Identity': 'seccxpninja.onmicrosoft.com\\\\\\\\4c5a5ea0-5d9f-4730-baaa-7a69cf29ef26', 'PolicyDetails': '{\\\"Version\\\":0,\\\"State\\\":\\\"Enabled\\\",\\\"Conditions\\\":{\\\"Applications\\\":{\\\"Include\\\":[{\\\"Applications\\\":[\\\"All\\\"]}]},\\\"Users\\\":{\\\"Include\\\":[{\\\"Users\\\":[\\\"bdb72692-2275-412b-8af0-ea21c2ebd174\\\"]}]}},\\\"Controls\\\":[{\\\"Control\\\":[\\\"Mfa\\\"]}],\\\"PersistentBrowserSessionMode\\\":\\\"NotSet\\\",\\\"EnforceAllPoliciesForEas\\\":false,\\\"IncludeOtherLegacyClientTypeForEvaluation\\\":false}', 'PolicyLastUpdatedTime': '7/15/2020 5:27:43 AM', 'TenantDefaultPolicy': '', 'DisplayName': 'Semolen - Admin MFA', 'PolicyIdentifierString': ''})\"],[\"Cmd(name='Set-ConditionalAccessPolicy', params={'Identity': 'seccxpninja.onmicrosoft.com\\\\\\\\4c5a5ea0-5d9f-4730-baaa-7a69cf29ef26', 'PolicyDetails': '{\\\"Version\\\":0,\\\"State\\\":\\\"Enabled\\\",\\\"Conditions\\\":{\\\"Applications\\\":{\\\"Include\\\":[{\\\"Applications\\\":[\\\"All\\\"]}]},\\\"Users\\\":{\\\"Include\\\":[{\\\"Users\\\":[\\\"bdb72692-2275-412b-8af0-ea21c2ebd174\\\"]}]}},\\\"Controls\\\":[{\\\"Control\\\":[\\\"Mfa\\\"]}],\\\"PersistentBrowserSessionMode\\\":\\\"NotSet\\\",\\\"EnforceAllPoliciesForEas\\\":false,\\\"IncludeOtherLegacyClientTypeForEvaluation\\\":false}', 'PolicyLastUpdatedTime': '7/16/2020 2:31:10 AM', 'TenantDefaultPolicy': '', 'DisplayName': 'Semolen - Admin MFA', 'PolicyIdentifierString': ''})\",\"Cmd(name='Set-ConditionalAccessPolicy', params={'Identity': 'seccxpninja.onmicrosoft.com\\\\\\\\bcd93f74-64fd-4042-a3ae-ee6d48886d6d', 'PolicyDetails': '{\\\"Version\\\":0,\\\"State\\\":\\\"Enabled\\\",\\\"Conditions\\\":{\\\"Applications\\\":{\\\"Include\\\":[{\\\"Applications\\\":[\\\"c9a559d2-7aab-4f13-a6ed-e7e9c52aec87\\\"]}]},\\\"Users\\\":{\\\"Include\\\":[{\\\"Users\\\":[\\\"bdb72692-2275-412b-8af0-ea21c2ebd174\\\",\\\"eababd92-9dc7-40e3-9359-6c106522db19\\\"]}]}},\\\"SessionControls\\\":[\\\"CloudAppSecurity\\\"],\\\"PersistentBrowserSessionMode\\\":\\\"NotSet\\\",\\\"EnforceAllPoliciesForEas\\\":false,\\\"IncludeOtherLegacyClientTypeForEvaluation\\\":false,\\\"CasSessionControlType\\\":3}', 'PolicyLastUpdatedTime': '7/16/2020 2:31:10 AM', 'TenantDefaultPolicy': '', 'DisplayName': 'Form MCAS', 'PolicyIdentifierString': ''})\"],[\"Cmd(name='Set-ConditionalAccessPolicy', params={'Identity': 'seccxpninja.onmicrosoft.com\\\\\\\\8872f6fb-da88-4b63-bcc7-17247669596b', 'PolicyDetails': '{\\\"Version\\\":0,\\\"State\\\":\\\"Enabled\\\",\\\"Conditions\\\":{\\\"Applications\\\":{\\\"Include\\\":[{\\\"Applications\\\":[\\\"00000002-0000-0ff1-ce00-000000000000\\\",\\\"09abbdfd-ed23-44ee-a2d9-a627aa1c90f3\\\",\\\"cc15fd57-2c6c-4117-a88c-83b1d56b4bbe\\\",\\\"00000003-0000-0ff1-ce00-000000000000\\\",\\\"00000005-0000-0ff1-ce00-000000000000\\\"]}]},\\\"Users\\\":{\\\"Include\\\":[{\\\"Users\\\":[\\\"eababd92-9dc7-40e3-9359-6c106522db19\\\"]}]}},\\\"SessionControls\\\":[\\\"CloudAppSecurity\\\"],\\\"PersistentBrowserSessionMode\\\":\\\"NotSet\\\",\\\"EnforceAllPoliciesForEas\\\":false,\\\"IncludeOtherLegacyClientTypeForEvaluation\\\":false,\\\"CasSessionControlType\\\":1}', 'PolicyLastUpdatedTime': '7/16/2020 5:00:45 AM', 'TenantDefaultPolicy': '', 'DisplayName': 'MeganB MCAS Proxy', 'PolicyIdentifierString': ''})\",\"Cmd(name='Set-ConditionalAccessPolicy', params={'Identity': 'seccxpninja.onmicrosoft.com\\\\\\\\8872f6fb-da88-4b63-bcc7-17247669596b', 'PolicyDetails': '{\\\"Version\\\":0,\\\"State\\\":\\\"Enabled\\\",\\\"Conditions\\\":{\\\"Applications\\\":{\\\"Include\\\":[{\\\"Applications\\\":[\\\"00000002-0000-0ff1-ce00-000000000000\\\",\\\"09abbdfd-ed23-44ee-a2d9-a627aa1c90f3\\\",\\\"cc15fd57-2c6c-4117-a88c-83b1d56b4bbe\\\",\\\"00000003-0000-0ff1-ce00-000000000000\\\",\\\"00000005-0000-0ff1-ce00-000000000000\\\"]}]},\\\"Users\\\":{\\\"Include\\\":[{\\\"Users\\\":[\\\"eababd92-9dc7-40e3-9359-6c106522db19\\\"]}]}},\\\"SessionControls\\\":[\\\"CloudAppSecurity\\\"],\\\"PersistentBrowserSessionMode\\\":\\\"NotSet\\\",\\\"EnforceAllPoliciesForEas\\\":false,\\\"IncludeOtherLegacyClientTypeForEvaluation\\\":false,\\\"CasSessionControlType\\\":1}', 'PolicyLastUpdatedTime': '7/16/2020 5:00:45 AM', 'TenantDefaultPolicy': '', 'DisplayName': 'MeganB MCAS Proxy', 'PolicyIdentifierString': ''})\"],[\"Cmd(name='Set-ConditionalAccessPolicy', params={'Identity': 'seccxpninja.onmicrosoft.com\\\\\\\\3b13ea3c-c733-4eb8-bd19-67d308b2ea04', 'PolicyDetails': '{\\\"Version\\\":0,\\\"CreatedDateTime\\\":\\\"2020-05-19T13:34:15.2394934Z\\\",\\\"ModifiedDateTime\\\":\\\"2020-05-19T13:39:04.7333386Z\\\",\\\"State\\\":\\\"Reporting\\\",\\\"Conditions\\\":{\\\"Applications\\\":{\\\"Include\\\":[{\\\"Applications\\\":[\\\"None\\\"]}]},\\\"Users\\\":{\\\"Include\\\":[{\\\"Users\\\":[\\\"Guests\\\"]}]},\\\"DevicePlatforms\\\":{\\\"Include\\\":[{\\\"DevicePlatforms\\\":[\\\"All\\\"]}],\\\"Exclude\\\":[{\\\"DevicePlatforms\\\":[\\\"Android\\\",\\\"iOS\\\",\\\"macOS\\\"]}]},\\\"ClientTypes\\\":{\\\"Include\\\":[{\\\"ClientTypes\\\":[\\\"Browser\\\",\\\"Native\\\"]}]}},\\\"Controls\\\":[{\\\"Control\\\":[\\\"Mfa\\\",\\\"RequireCompliantDevice\\\"]}]}', 'PolicyLastUpdatedTime': '7/16/2020 5:00:49 AM', 'TenantDefaultPolicy': '', 'DisplayName': 'Yanivsh -CA Test', 'PolicyIdentifierString': ''})\",\"Cmd(name='Set-ConditionalAccessPolicy', params={'Identity': 'seccxpninja.onmicrosoft.com\\\\\\\\235bec94-f744-48ac-8314-5675953d2def', 'PolicyDetails': '{\\\"Version\\\":0,\\\"State\\\":\\\"Disabled\\\",\\\"Conditions\\\":{\\\"Applications\\\":{\\\"Include\\\":[{\\\"Applications\\\":[\\\"All\\\"]}]},\\\"Users\\\":{\\\"Include\\\":[{\\\"Users\\\":[\\\"eababd92-9dc7-40e3-9359-6c106522db19\\\"]}]},\\\"DevicePlatforms\\\":{\\\"Include\\\":[{\\\"DevicePlatforms\\\":[\\\"All\\\"]}],\\\"Exclude\\\":[{\\\"DevicePlatforms\\\":[\\\"macOS\\\"]}]}},\\\"Controls\\\":[{\\\"Control\\\":[\\\"Mfa\\\"]}],\\\"PersistentBrowserSessionMode\\\":\\\"NotSet\\\",\\\"EnforceAllPoliciesForEas\\\":false,\\\"IncludeOtherLegacyClientTypeForEvaluation\\\":false}', 'PolicyLastUpdatedTime': '7/16/2020 5:00:46 AM', 'TenantDefaultPolicy': '', 'DisplayName': 'Megan MFA demo', 'PolicyIdentifierString': ''})\"],[\"Cmd(name='Set-ConditionalAccessPolicy', params={'Identity': 'seccxpninja.onmicrosoft.com\\\\\\\\235bec94-f744-48ac-8314-5675953d2def', 'PolicyDetails': '{\\\"Version\\\":0,\\\"State\\\":\\\"Disabled\\\",\\\"Conditions\\\":{\\\"Applications\\\":{\\\"Include\\\":[{\\\"Applications\\\":[\\\"All\\\"]}]},\\\"Users\\\":{\\\"Include\\\":[{\\\"Users\\\":[\\\"eababd92-9dc7-40e3-9359-6c106522db19\\\"]}]},\\\"DevicePlatforms\\\":{\\\"Include\\\":[{\\\"DevicePlatforms\\\":[\\\"All\\\"]}],\\\"Exclude\\\":[{\\\"DevicePlatforms\\\":[\\\"macOS\\\"]}]}},\\\"Controls\\\":[{\\\"Control\\\":[\\\"Mfa\\\"]}],\\\"PersistentBrowserSessionMode\\\":\\\"NotSet\\\",\\\"EnforceAllPoliciesForEas\\\":false,\\\"IncludeOtherLegacyClientTypeForEvaluation\\\":false}', 'PolicyLastUpdatedTime': '7/17/2020 1:59:50 AM', 'TenantDefaultPolicy': '', 'DisplayName': 'Megan MFA demo', 'PolicyIdentifierString': ''})\",\"Cmd(name='Set-ConditionalAccessPolicy', params={'Identity': 'seccxpninja.onmicrosoft.com\\\\\\\\2e76d011-eaa3-40b4-8ce8-7fba52bf3af8', 'PolicyDetails': '{\\\"Version\\\":0,\\\"State\\\":\\\"Reporting\\\",\\\"Conditions\\\":{\\\"Applications\\\":{\\\"Include\\\":[{\\\"Applications\\\":[\\\"f9e8b3d0-ba26-42cd-b544-c90a66191a81\\\"]}]},\\\"Users\\\":{\\\"Include\\\":[{\\\"Users\\\":[\\\"All\\\"]}]}},\\\"SessionControls\\\":[\\\"CloudAppSecurity\\\"],\\\"PersistentBrowserSessionMode\\\":\\\"NotSet\\\",\\\"EnforceAllPoliciesForEas\\\":false,\\\"IncludeOtherLegacyClientTypeForEvaluation\\\":false,\\\"CasSessionControlType\\\":1}', 'PolicyLastUpdatedTime': '7/17/2020 1:59:51 AM', 'TenantDefaultPolicy': '', 'DisplayName': 'On-Prem SharePoint - MeganB proxy', 'PolicyIdentifierString': ''})\"],[\"Cmd(name='Set-ConditionalAccessPolicy', params={'Identity': 'seccxpninja.onmicrosoft.com\\\\\\\\8872f6fb-da88-4b63-bcc7-17247669596b', 'PolicyDetails': '{\\\"Version\\\":0,\\\"State\\\":\\\"Enabled\\\",\\\"Conditions\\\":{\\\"Applications\\\":{\\\"Include\\\":[{\\\"Applications\\\":[\\\"00000002-0000-0ff1-ce00-000000000000\\\",\\\"09abbdfd-ed23-44ee-a2d9-a627aa1c90f3\\\",\\\"cc15fd57-2c6c-4117-a88c-83b1d56b4bbe\\\",\\\"00000003-0000-0ff1-ce00-000000000000\\\",\\\"00000005-0000-0ff1-ce00-000000000000\\\"]}]},\\\"Users\\\":{\\\"Include\\\":[{\\\"Users\\\":[\\\"eababd92-9dc7-40e3-9359-6c106522db19\\\"]}]}},\\\"SessionControls\\\":[\\\"CloudAppSecurity\\\"],\\\"PersistentBrowserSessionMode\\\":\\\"NotSet\\\",\\\"EnforceAllPoliciesForEas\\\":false,\\\"IncludeOtherLegacyClientTypeForEvaluation\\\":false,\\\"CasSessionControlType\\\":1}', 'PolicyLastUpdatedTime': '7/17/2020 5:00:48 AM', 'TenantDefaultPolicy': '', 'DisplayName': 'MeganB MCAS Proxy', 'PolicyIdentifierString': ''})\",\"Cmd(name='Set-ConditionalAccessPolicy', params={'Identity': 'seccxpninja.onmicrosoft.com\\\\\\\\8872f6fb-da88-4b63-bcc7-17247669596b', 'PolicyDetails': '{\\\"Version\\\":0,\\\"State\\\":\\\"Enabled\\\",\\\"Conditions\\\":{\\\"Applications\\\":{\\\"Include\\\":[{\\\"Applications\\\":[\\\"00000002-0000-0ff1-ce00-000000000000\\\",\\\"09abbdfd-ed23-44ee-a2d9-a627aa1c90f3\\\",\\\"cc15fd57-2c6c-4117-a88c-83b1d56b4bbe\\\",\\\"00000003-0000-0ff1-ce00-000000000000\\\",\\\"00000005-0000-0ff1-ce00-000000000000\\\"]}]},\\\"Users\\\":{\\\"Include\\\":[{\\\"Users\\\":[\\\"eababd92-9dc7-40e3-9359-6c106522db19\\\"]}]}},\\\"SessionControls\\\":[\\\"CloudAppSecurity\\\"],\\\"PersistentBrowserSessionMode\\\":\\\"NotSet\\\",\\\"EnforceAllPoliciesForEas\\\":false,\\\"IncludeOtherLegacyClientTypeForEvaluation\\\":false,\\\"CasSessionControlType\\\":1}', 'PolicyLastUpdatedTime': '7/17/2020 5:00:48 AM', 'TenantDefaultPolicy': '', 'DisplayName': 'MeganB MCAS Proxy', 'PolicyIdentifierString': ''})\"],[\"Cmd(name='Set-ConditionalAccessPolicy', params={'Identity': 'seccxpninja.onmicrosoft.com\\\\\\\\b2915792-0396-4abe-94ec-e17fa17243c5', 'PolicyDetails': '{\\\"Version\\\":0,\\\"State\\\":\\\"Enabled\\\",\\\"Conditions\\\":{\\\"Applications\\\":{\\\"Include\\\":[{\\\"Applications\\\":[\\\"94c63fef-13a3-47bc-8074-75af8c65887a\\\",\\\"c9a559d2-7aab-4f13-a6ed-e7e9c52aec87\\\"]}]},\\\"Users\\\":{\\\"Include\\\":[{\\\"Users\\\":[\\\"bdb72692-2275-412b-8af0-ea21c2ebd174\\\",\\\"eababd92-9dc7-40e3-9359-6c106522db19\\\"]}]},\\\"SignInRisks\\\":{\\\"Include\\\":[{\\\"SignInRisks\\\":[\\\"High\\\",\\\"Medium\\\",\\\"Low\\\"]}]}},\\\"SessionControls\\\":[\\\"CloudAppSecurity\\\"],\\\"PersistentBrowserSessionMode\\\":\\\"NotSet\\\",\\\"EnforceAllPoliciesForEas\\\":false,\\\"IncludeOtherLegacyClientTypeForEvaluation\\\":false,\\\"CasSessionControlType\\\":3}', 'PolicyLastUpdatedTime': '7/17/2020 5:00:48 AM', 'TenantDefaultPolicy': '', 'DisplayName': 'GBB demo', 'PolicyIdentifierString': ''})\",\"Cmd(name='Set-ConditionalAccessPolicy', params={'Identity': 'seccxpninja.onmicrosoft.com\\\\\\\\6490d00c-7ba1-42cf-aa88-99eb71d53bf7', 'PolicyDetails': '{\\\"Version\\\":0,\\\"LastUpdatedTimestamp\\\":\\\"2020-07-02T12:42:35.1866847Z\\\",\\\"State\\\":\\\"Disabled\\\",\\\"SignInFrequency\\\":\\\"NotSet\\\",\\\"PersistentBrowserSessionMode\\\":\\\"NotSet\\\"}', 'PolicyLastUpdatedTime': '7/17/2020 5:00:49 AM', 'TenantDefaultPolicy': '18', 'DisplayName': 'Default Policy', 'PolicyIdentifierString': '5/19/2020 1:39:05 PM'})\"],[\"Cmd(name='Set-ConditionalAccessPolicy', params={'Identity': 'seccxpninja.onmicrosoft.com\\\\\\\\ba36f0a4-6d73-4ba4-9282-3b3c14575e36', 'PolicyDetails': '{\\\"Version\\\":0,\\\"ModifiedDateTime\\\":\\\"2020-05-19T13:31:41.7083504Z\\\",\\\"State\\\":\\\"Disabled\\\",\\\"Conditions\\\":{\\\"Applications\\\":{\\\"Include\\\":[{\\\"Applications\\\":[\\\"00000002-0000-0ff1-ce00-000000000000\\\",\\\"00000003-0000-0ff1-ce00-000000000000\\\"]}]},\\\"Users\\\":{\\\"Include\\\":[{\\\"Users\\\":[\\\"2935e535-8fdf-4217-865b-e084cb7214f1\\\"]}]},\\\"DevicePlatforms\\\":{\\\"Include\\\":[{\\\"DevicePlatforms\\\":[\\\"All\\\"]}],\\\"Exclude\\\":[{\\\"DevicePlatforms\\\":[\\\"Android\\\",\\\"iOS\\\",\\\"macOS\\\"]}]},\\\"ClientTypes\\\":{\\\"Include\\\":[{\\\"ClientTypes\\\":[\\\"Browser\\\",\\\"Native\\\"]}]}},\\\"SessionControls\\\":[\\\"CloudAppSecurity\\\"],\\\"CasSessionControlType\\\":1}', 'PolicyLastUpdatedTime': '7/18/2020 5:22:18 AM', 'TenantDefaultPolicy': '', 'DisplayName': 'Block Access JulianI', 'PolicyIdentifierString': ''})\",\"Cmd(name='Set-ConditionalAccessPolicy', params={'Identity': 'seccxpninja.onmicrosoft.com\\\\\\\\bcd93f74-64fd-4042-a3ae-ee6d48886d6d', 'PolicyDetails': '{\\\"Version\\\":0,\\\"State\\\":\\\"Enabled\\\",\\\"Conditions\\\":{\\\"Applications\\\":{\\\"Include\\\":[{\\\"Applications\\\":[\\\"c9a559d2-7aab-4f13-a6ed-e7e9c52aec87\\\"]}]},\\\"Users\\\":{\\\"Include\\\":[{\\\"Users\\\":[\\\"bdb72692-2275-412b-8af0-ea21c2ebd174\\\",\\\"eababd92-9dc7-40e3-9359-6c106522db19\\\"]}]}},\\\"SessionControls\\\":[\\\"CloudAppSecurity\\\"],\\\"PersistentBrowserSessionMode\\\":\\\"NotSet\\\",\\\"EnforceAllPoliciesForEas\\\":false,\\\"IncludeOtherLegacyClientTypeForEvaluation\\\":false,\\\"CasSessionControlType\\\":3}', 'PolicyLastUpdatedTime': '7/18/2020 5:22:16 AM', 'TenantDefaultPolicy': '', 'DisplayName': 'Form MCAS', 'PolicyIdentifierString': ''})\"],[\"Cmd(name='Set-ConditionalAccessPolicy', params={'Identity': 'seccxpninja.onmicrosoft.com\\\\\\\\3b13ea3c-c733-4eb8-bd19-67d308b2ea04', 'PolicyDetails': '{\\\"Version\\\":0,\\\"CreatedDateTime\\\":\\\"2020-05-19T13:34:15.2394934Z\\\",\\\"ModifiedDateTime\\\":\\\"2020-05-19T13:39:04.7333386Z\\\",\\\"State\\\":\\\"Reporting\\\",\\\"Conditions\\\":{\\\"Applications\\\":{\\\"Include\\\":[{\\\"Applications\\\":[\\\"None\\\"]}]},\\\"Users\\\":{\\\"Include\\\":[{\\\"Users\\\":[\\\"Guests\\\"]}]},\\\"DevicePlatforms\\\":{\\\"Include\\\":[{\\\"DevicePlatforms\\\":[\\\"All\\\"]}],\\\"Exclude\\\":[{\\\"DevicePlatforms\\\":[\\\"Android\\\",\\\"iOS\\\",\\\"macOS\\\"]}]},\\\"ClientTypes\\\":{\\\"Include\\\":[{\\\"ClientTypes\\\":[\\\"Browser\\\",\\\"Native\\\"]}]}},\\\"Controls\\\":[{\\\"Control\\\":[\\\"Mfa\\\",\\\"RequireCompliantDevice\\\"]}]}', 'PolicyLastUpdatedTime': '7/19/2020 5:37:55 AM', 'TenantDefaultPolicy': '', 'DisplayName': 'Yanivsh -CA Test', 'PolicyIdentifierString': ''})\",\"Cmd(name='Set-ConditionalAccessPolicy', params={'Identity': 'seccxpninja.onmicrosoft.com\\\\\\\\ba36f0a4-6d73-4ba4-9282-3b3c14575e36', 'PolicyDetails': '{\\\"Version\\\":0,\\\"ModifiedDateTime\\\":\\\"2020-05-19T13:31:41.7083504Z\\\",\\\"State\\\":\\\"Disabled\\\",\\\"Conditions\\\":{\\\"Applications\\\":{\\\"Include\\\":[{\\\"Applications\\\":[\\\"00000002-0000-0ff1-ce00-000000000000\\\",\\\"00000003-0000-0ff1-ce00-000000000000\\\"]}]},\\\"Users\\\":{\\\"Include\\\":[{\\\"Users\\\":[\\\"2935e535-8fdf-4217-865b-e084cb7214f1\\\"]}]},\\\"DevicePlatforms\\\":{\\\"Include\\\":[{\\\"DevicePlatforms\\\":[\\\"All\\\"]}],\\\"Exclude\\\":[{\\\"DevicePlatforms\\\":[\\\"Android\\\",\\\"iOS\\\",\\\"macOS\\\"]}]},\\\"ClientTypes\\\":{\\\"Include\\\":[{\\\"ClientTypes\\\":[\\\"Browser\\\",\\\"Native\\\"]}]}},\\\"SessionControls\\\":[\\\"CloudAppSecurity\\\"],\\\"CasSessionControlType\\\":1}', 'PolicyLastUpdatedTime': '7/19/2020 5:37:55 AM', 'TenantDefaultPolicy': '', 'DisplayName': 'Block Access JulianI', 'PolicyIdentifierString': ''})\"],[\"Cmd(name='Set-ConditionalAccessPolicy', params={'Identity': 'seccxpninja.onmicrosoft.com\\\\\\\\69c7a12f-b407-45a3-b07e-fa04fc7f273d', 'PolicyDetails': '{\\\"Version\\\":0,\\\"State\\\":\\\"Enabled\\\",\\\"Conditions\\\":{\\\"Applications\\\":{\\\"Include\\\":[{\\\"Applications\\\":[\\\"00000003-0000-0ff1-ce00-000000000000\\\"]}]},\\\"Users\\\":{\\\"Include\\\":[{\\\"Users\\\":[\\\"All\\\"]}]}},\\\"SessionControls\\\":[\\\"CloudAppSecurity\\\"],\\\"PersistentBrowserSessionMode\\\":\\\"NotSet\\\",\\\"EnforceAllPoliciesForEas\\\":false,\\\"IncludeOtherLegacyClientTypeForEvaluation\\\":false,\\\"CasSessionControlType\\\":1}', 'PolicyLastUpdatedTime': '7/20/2020 2:21:06 AM', 'TenantDefaultPolicy': '', 'DisplayName': 'Test Policy', 'PolicyIdentifierString': ''})\",\"Cmd(name='Set-ConditionalAccessPolicy', params={'Identity': 'seccxpninja.onmicrosoft.com\\\\\\\\b2915792-0396-4abe-94ec-e17fa17243c5', 'PolicyDetails': '{\\\"Version\\\":0,\\\"State\\\":\\\"Enabled\\\",\\\"Conditions\\\":{\\\"Applications\\\":{\\\"Include\\\":[{\\\"Applications\\\":[\\\"94c63fef-13a3-47bc-8074-75af8c65887a\\\",\\\"c9a559d2-7aab-4f13-a6ed-e7e9c52aec87\\\"]}]},\\\"Users\\\":{\\\"Include\\\":[{\\\"Users\\\":[\\\"bdb72692-2275-412b-8af0-ea21c2ebd174\\\",\\\"eababd92-9dc7-40e3-9359-6c106522db19\\\"]}]},\\\"SignInRisks\\\":{\\\"Include\\\":[{\\\"SignInRisks\\\":[\\\"High\\\",\\\"Medium\\\",\\\"Low\\\"]}]}},\\\"SessionControls\\\":[\\\"CloudAppSecurity\\\"],\\\"PersistentBrowserSessionMode\\\":\\\"NotSet\\\",\\\"EnforceAllPoliciesForEas\\\":false,\\\"IncludeOtherLegacyClientTypeForEvaluation\\\":false,\\\"CasSessionControlType\\\":3}', 'PolicyLastUpdatedTime': '7/20/2020 2:21:04 AM', 'TenantDefaultPolicy': '', 'DisplayName': 'GBB demo', 'PolicyIdentifierString': ''})\"],[\"Cmd(name='Set-ConditionalAccessPolicy', params={'Identity': 'seccxpninja.onmicrosoft.com\\\\\\\\5fd0c4ff-1cd7-4bf6-8607-294a04f58f12', 'PolicyDetails': '{\\\"Version\\\":0,\\\"State\\\":\\\"Disabled\\\",\\\"Conditions\\\":{\\\"Applications\\\":{\\\"Include\\\":[{\\\"Applications\\\":[\\\"All\\\"]}]},\\\"Users\\\":{\\\"Include\\\":[{\\\"Users\\\":[\\\"142512c7-f006-46ae-909c-14fa7bf6a887\\\"]}]}},\\\"Controls\\\":[{\\\"Control\\\":[\\\"Mfa\\\"]}],\\\"EnforceAllPoliciesForEas\\\":false,\\\"IncludeOtherLegacyClientTypeForEvaluation\\\":false}', 'PolicyLastUpdatedTime': '7/20/2020 6:04:37 AM', 'TenantDefaultPolicy': '', 'DisplayName': 'Azure MFA', 'PolicyIdentifierString': ''})\",\"Cmd(name='Set-ConditionalAccessPolicy', params={'Identity': 'seccxpninja.onmicrosoft.com\\\\\\\\8872f6fb-da88-4b63-bcc7-17247669596b', 'PolicyDetails': '{\\\"Version\\\":0,\\\"State\\\":\\\"Enabled\\\",\\\"Conditions\\\":{\\\"Applications\\\":{\\\"Include\\\":[{\\\"Applications\\\":[\\\"00000002-0000-0ff1-ce00-000000000000\\\",\\\"09abbdfd-ed23-44ee-a2d9-a627aa1c90f3\\\",\\\"cc15fd57-2c6c-4117-a88c-83b1d56b4bbe\\\",\\\"00000003-0000-0ff1-ce00-000000000000\\\",\\\"00000005-0000-0ff1-ce00-000000000000\\\"]}]},\\\"Users\\\":{\\\"Include\\\":[{\\\"Users\\\":[\\\"eababd92-9dc7-40e3-9359-6c106522db19\\\"]}]}},\\\"SessionControls\\\":[\\\"CloudAppSecurity\\\"],\\\"PersistentBrowserSessionMode\\\":\\\"NotSet\\\",\\\"EnforceAllPoliciesForEas\\\":false,\\\"IncludeOtherLegacyClientTypeForEvaluation\\\":false,\\\"CasSessionControlType\\\":1}', 'PolicyLastUpdatedTime': '7/20/2020 6:04:35 AM', 'TenantDefaultPolicy': '', 'DisplayName': 'MeganB MCAS Proxy', 'PolicyIdentifierString': ''})\"],[\"Cmd(name='Set-ConditionalAccessPolicy', params={'Identity': 'seccxpninja.onmicrosoft.com\\\\\\\\2e76d011-eaa3-40b4-8ce8-7fba52bf3af8', 'PolicyDetails': '{\\\"Version\\\":0,\\\"State\\\":\\\"Reporting\\\",\\\"Conditions\\\":{\\\"Applications\\\":{\\\"Include\\\":[{\\\"Applications\\\":[\\\"f9e8b3d0-ba26-42cd-b544-c90a66191a81\\\"]}]},\\\"Users\\\":{\\\"Include\\\":[{\\\"Users\\\":[\\\"All\\\"]}]}},\\\"SessionControls\\\":[\\\"CloudAppSecurity\\\"],\\\"PersistentBrowserSessionMode\\\":\\\"NotSet\\\",\\\"EnforceAllPoliciesForEas\\\":false,\\\"IncludeOtherLegacyClientTypeForEvaluation\\\":false,\\\"CasSessionControlType\\\":1}', 'PolicyLastUpdatedTime': '7/21/2020 2:08:13 AM', 'TenantDefaultPolicy': '', 'DisplayName': 'On-Prem SharePoint - MeganB proxy', 'PolicyIdentifierString': ''})\",\"Cmd(name='Set-ConditionalAccessPolicy', params={'Identity': 'seccxpninja.onmicrosoft.com\\\\\\\\e183bd29-a3a3-4f91-a5a3-b83b21a544df', 'PolicyDetails': '{\\\"Version\\\":0,\\\"State\\\":\\\"Enabled\\\",\\\"Conditions\\\":{\\\"Applications\\\":{\\\"Include\\\":[{\\\"Applications\\\":[\\\"00000002-0000-0ff1-ce00-000000000000\\\"]}]},\\\"Users\\\":{\\\"Include\\\":[{\\\"Users\\\":[\\\"2935e535-8fdf-4217-865b-e084cb7214f1\\\"]}]}},\\\"SessionControls\\\":[\\\"AppEnforcedRestrictions\\\"],\\\"PersistentBrowserSessionMode\\\":\\\"NotSet\\\",\\\"EnforceAllPoliciesForEas\\\":false,\\\"IncludeOtherLegacyClientTypeForEvaluation\\\":false}', 'PolicyLastUpdatedTime': '7/21/2020 2:08:14 AM', 'TenantDefaultPolicy': '', 'DisplayName': 'JulianI Exchange native controls', 'PolicyIdentifierString': ''})\"],[\"Cmd(name='Set-ConditionalAccessPolicy', params={'Identity': 'seccxpninja.onmicrosoft.com\\\\\\\\69c7a12f-b407-45a3-b07e-fa04fc7f273d', 'PolicyDetails': '{\\\"Version\\\":0,\\\"State\\\":\\\"Enabled\\\",\\\"Conditions\\\":{\\\"Applications\\\":{\\\"Include\\\":[{\\\"Applications\\\":[\\\"00000003-0000-0ff1-ce00-000000000000\\\"]}]},\\\"Users\\\":{\\\"Include\\\":[{\\\"Users\\\":[\\\"All\\\"]}]}},\\\"SessionControls\\\":[\\\"CloudAppSecurity\\\"],\\\"PersistentBrowserSessionMode\\\":\\\"NotSet\\\",\\\"EnforceAllPoliciesForEas\\\":false,\\\"IncludeOtherLegacyClientTypeForEvaluation\\\":false,\\\"CasSessionControlType\\\":1}', 'PolicyLastUpdatedTime': '7/21/2020 4:59:02 AM', 'TenantDefaultPolicy': '', 'DisplayName': 'Test Policy', 'PolicyIdentifierString': ''})\",\"Cmd(name='Set-ConditionalAccessPolicy', params={'Identity': 'seccxpninja.onmicrosoft.com\\\\\\\\235bec94-f744-48ac-8314-5675953d2def', 'PolicyDetails': '{\\\"Version\\\":0,\\\"State\\\":\\\"Disabled\\\",\\\"Conditions\\\":{\\\"Applications\\\":{\\\"Include\\\":[{\\\"Applications\\\":[\\\"All\\\"]}]},\\\"Users\\\":{\\\"Include\\\":[{\\\"Users\\\":[\\\"eababd92-9dc7-40e3-9359-6c106522db19\\\"]}]},\\\"DevicePlatforms\\\":{\\\"Include\\\":[{\\\"DevicePlatforms\\\":[\\\"All\\\"]}],\\\"Exclude\\\":[{\\\"DevicePlatforms\\\":[\\\"macOS\\\"]}]}},\\\"Controls\\\":[{\\\"Control\\\":[\\\"Mfa\\\"]}],\\\"PersistentBrowserSessionMode\\\":\\\"NotSet\\\",\\\"EnforceAllPoliciesForEas\\\":false,\\\"IncludeOtherLegacyClientTypeForEvaluation\\\":false}', 'PolicyLastUpdatedTime': '7/21/2020 4:59:02 AM', 'TenantDefaultPolicy': '', 'DisplayName': 'Megan MFA demo', 'PolicyIdentifierString': ''})\"],[\"Cmd(name='Set-ConditionalAccessPolicy', params={'Identity': 'seccxpninja.onmicrosoft.com\\\\\\\\8872f6fb-da88-4b63-bcc7-17247669596b', 'PolicyDetails': '{\\\"Version\\\":0,\\\"State\\\":\\\"Enabled\\\",\\\"Conditions\\\":{\\\"Applications\\\":{\\\"Include\\\":[{\\\"Applications\\\":[\\\"00000002-0000-0ff1-ce00-000000000000\\\",\\\"09abbdfd-ed23-44ee-a2d9-a627aa1c90f3\\\",\\\"cc15fd57-2c6c-4117-a88c-83b1d56b4bbe\\\",\\\"00000003-0000-0ff1-ce00-000000000000\\\",\\\"00000005-0000-0ff1-ce00-000000000000\\\"]}]},\\\"Users\\\":{\\\"Include\\\":[{\\\"Users\\\":[\\\"eababd92-9dc7-40e3-9359-6c106522db19\\\"]}]}},\\\"SessionControls\\\":[\\\"CloudAppSecurity\\\"],\\\"PersistentBrowserSessionMode\\\":\\\"NotSet\\\",\\\"EnforceAllPoliciesForEas\\\":false,\\\"IncludeOtherLegacyClientTypeForEvaluation\\\":false,\\\"CasSessionControlType\\\":1}', 'PolicyLastUpdatedTime': '7/22/2020 2:14:16 AM', 'TenantDefaultPolicy': '', 'DisplayName': 'MeganB MCAS Proxy', 'PolicyIdentifierString': ''})\",\"Cmd(name='Set-ConditionalAccessPolicy', params={'Identity': 'seccxpninja.onmicrosoft.com\\\\\\\\5fd0c4ff-1cd7-4bf6-8607-294a04f58f12', 'PolicyDetails': '{\\\"Version\\\":0,\\\"State\\\":\\\"Disabled\\\",\\\"Conditions\\\":{\\\"Applications\\\":{\\\"Include\\\":[{\\\"Applications\\\":[\\\"All\\\"]}]},\\\"Users\\\":{\\\"Include\\\":[{\\\"Users\\\":[\\\"142512c7-f006-46ae-909c-14fa7bf6a887\\\"]}]}},\\\"Controls\\\":[{\\\"Control\\\":[\\\"Mfa\\\"]}],\\\"EnforceAllPoliciesForEas\\\":false,\\\"IncludeOtherLegacyClientTypeForEvaluation\\\":false}', 'PolicyLastUpdatedTime': '7/22/2020 2:14:19 AM', 'TenantDefaultPolicy': '', 'DisplayName': 'Azure MFA', 'PolicyIdentifierString': ''})\"],[\"Cmd(name='Set-ConditionalAccessPolicy', params={'Identity': 'seccxpninja.onmicrosoft.com\\\\\\\\4c5a5ea0-5d9f-4730-baaa-7a69cf29ef26', 'PolicyDetails': '{\\\"Version\\\":0,\\\"State\\\":\\\"Enabled\\\",\\\"Conditions\\\":{\\\"Applications\\\":{\\\"Include\\\":[{\\\"Applications\\\":[\\\"All\\\"]}]},\\\"Users\\\":{\\\"Include\\\":[{\\\"Users\\\":[\\\"bdb72692-2275-412b-8af0-ea21c2ebd174\\\"]}]}},\\\"Controls\\\":[{\\\"Control\\\":[\\\"Mfa\\\"]}],\\\"PersistentBrowserSessionMode\\\":\\\"NotSet\\\",\\\"EnforceAllPoliciesForEas\\\":false,\\\"IncludeOtherLegacyClientTypeForEvaluation\\\":false}', 'PolicyLastUpdatedTime': '7/22/2020 5:08:50 AM', 'TenantDefaultPolicy': '', 'DisplayName': 'Semolen - Admin MFA', 'PolicyIdentifierString': ''})\",\"Cmd(name='Set-ConditionalAccessPolicy', params={'Identity': 'seccxpninja.onmicrosoft.com\\\\\\\\ba36f0a4-6d73-4ba4-9282-3b3c14575e36', 'PolicyDetails': '{\\\"Version\\\":0,\\\"ModifiedDateTime\\\":\\\"2020-05-19T13:31:41.7083504Z\\\",\\\"State\\\":\\\"Disabled\\\",\\\"Conditions\\\":{\\\"Applications\\\":{\\\"Include\\\":[{\\\"Applications\\\":[\\\"00000002-0000-0ff1-ce00-000000000000\\\",\\\"00000003-0000-0ff1-ce00-000000000000\\\"]}]},\\\"Users\\\":{\\\"Include\\\":[{\\\"Users\\\":[\\\"2935e535-8fdf-4217-865b-e084cb7214f1\\\"]}]},\\\"DevicePlatforms\\\":{\\\"Include\\\":[{\\\"DevicePlatforms\\\":[\\\"All\\\"]}],\\\"Exclude\\\":[{\\\"DevicePlatforms\\\":[\\\"Android\\\",\\\"iOS\\\",\\\"macOS\\\"]}]},\\\"ClientTypes\\\":{\\\"Include\\\":[{\\\"ClientTypes\\\":[\\\"Browser\\\",\\\"Native\\\"]}]}},\\\"SessionControls\\\":[\\\"CloudAppSecurity\\\"],\\\"CasSessionControlType\\\":1}', 'PolicyLastUpdatedTime': '7/22/2020 5:08:51 AM', 'TenantDefaultPolicy': '', 'DisplayName': 'Block Access JulianI', 'PolicyIdentifierString': ''})\"],[\"Cmd(name='Set-ConditionalAccessPolicy', params={'Identity': 'seccxpninja.onmicrosoft.com\\\\\\\\8872f6fb-da88-4b63-bcc7-17247669596b', 'PolicyDetails': '{\\\"Version\\\":0,\\\"State\\\":\\\"Enabled\\\",\\\"Conditions\\\":{\\\"Applications\\\":{\\\"Include\\\":[{\\\"Applications\\\":[\\\"00000002-0000-0ff1-ce00-000000000000\\\",\\\"09abbdfd-ed23-44ee-a2d9-a627aa1c90f3\\\",\\\"cc15fd57-2c6c-4117-a88c-83b1d56b4bbe\\\",\\\"00000003-0000-0ff1-ce00-000000000000\\\",\\\"00000005-0000-0ff1-ce00-000000000000\\\"]}]},\\\"Users\\\":{\\\"Include\\\":[{\\\"Users\\\":[\\\"eababd92-9dc7-40e3-9359-6c106522db19\\\"]}]}},\\\"SessionControls\\\":[\\\"CloudAppSecurity\\\"],\\\"PersistentBrowserSessionMode\\\":\\\"NotSet\\\",\\\"EnforceAllPoliciesForEas\\\":false,\\\"IncludeOtherLegacyClientTypeForEvaluation\\\":false,\\\"CasSessionControlType\\\":1}', 'PolicyLastUpdatedTime': '7/23/2020 2:20:37 AM', 'TenantDefaultPolicy': '', 'DisplayName': 'MeganB MCAS Proxy', 'PolicyIdentifierString': ''})\",\"Cmd(name='Set-ConditionalAccessPolicy', params={'Identity': 'seccxpninja.onmicrosoft.com\\\\\\\\8872f6fb-da88-4b63-bcc7-17247669596b', 'PolicyDetails': '{\\\"Version\\\":0,\\\"State\\\":\\\"Enabled\\\",\\\"Conditions\\\":{\\\"Applications\\\":{\\\"Include\\\":[{\\\"Applications\\\":[\\\"00000002-0000-0ff1-ce00-000000000000\\\",\\\"09abbdfd-ed23-44ee-a2d9-a627aa1c90f3\\\",\\\"cc15fd57-2c6c-4117-a88c-83b1d56b4bbe\\\",\\\"00000003-0000-0ff1-ce00-000000000000\\\",\\\"00000005-0000-0ff1-ce00-000000000000\\\"]}]},\\\"Users\\\":{\\\"Include\\\":[{\\\"Users\\\":[\\\"eababd92-9dc7-40e3-9359-6c106522db19\\\"]}]}},\\\"SessionControls\\\":[\\\"CloudAppSecurity\\\"],\\\"PersistentBrowserSessionMode\\\":\\\"NotSet\\\",\\\"EnforceAllPoliciesForEas\\\":false,\\\"IncludeOtherLegacyClientTypeForEvaluation\\\":false,\\\"CasSessionControlType\\\":1}', 'PolicyLastUpdatedTime': '7/23/2020 2:20:37 AM', 'TenantDefaultPolicy': '', 'DisplayName': 'MeganB MCAS Proxy', 'PolicyIdentifierString': ''})\"],[\"Cmd(name='Set-ConditionalAccessPolicy', params={'Identity': 'seccxpninja.onmicrosoft.com\\\\\\\\8837fdaa-aaeb-4432-9622-43f6f583d583', 'PolicyDetails': '{\\\"KnownNetworkPolicies\\\":{\\\"NetworkName\\\":\\\"BE-Office\\\",\\\"NetworkId\\\":\\\"b98b9088-ce88-4fae-80fb-5b58cb1ce685\\\",\\\"CidrIpRanges\\\":[\\\"109.88.218.99/28\\\"],\\\"CountryIsoCodes\\\":null,\\\"Categories\\\":[],\\\"ApplyToUnknownCountry\\\":false}}', 'PolicyLastUpdatedTime': '7/23/2020 2:20:41 AM', 'TenantDefaultPolicy': '6', 'DisplayName': 'Known Networks List', 'PolicyIdentifierString': '3/19/2020 7:45:08 PM'})\",\"Cmd(name='Set-ConditionalAccessPolicy', params={'Identity': 'seccxpninja.onmicrosoft.com\\\\\\\\e183bd29-a3a3-4f91-a5a3-b83b21a544df', 'PolicyDetails': '{\\\"Version\\\":0,\\\"State\\\":\\\"Enabled\\\",\\\"Conditions\\\":{\\\"Applications\\\":{\\\"Include\\\":[{\\\"Applications\\\":[\\\"00000002-0000-0ff1-ce00-000000000000\\\"]}]},\\\"Users\\\":{\\\"Include\\\":[{\\\"Users\\\":[\\\"2935e535-8fdf-4217-865b-e084cb7214f1\\\"]}]}},\\\"SessionControls\\\":[\\\"AppEnforcedRestrictions\\\"],\\\"PersistentBrowserSessionMode\\\":\\\"NotSet\\\",\\\"EnforceAllPoliciesForEas\\\":false,\\\"IncludeOtherLegacyClientTypeForEvaluation\\\":false}', 'PolicyLastUpdatedTime': '7/23/2020 2:20:40 AM', 'TenantDefaultPolicy': '', 'DisplayName': 'JulianI Exchange native controls', 'PolicyIdentifierString': ''})\"],[\"Cmd(name='Set-ConditionalAccessPolicy', params={'Identity': 'seccxpninja.onmicrosoft.com\\\\\\\\6490d00c-7ba1-42cf-aa88-99eb71d53bf7', 'PolicyDetails': '{\\\"Version\\\":0,\\\"LastUpdatedTimestamp\\\":\\\"2020-07-02T12:42:35.1866847Z\\\",\\\"State\\\":\\\"Disabled\\\",\\\"SignInFrequency\\\":\\\"NotSet\\\",\\\"PersistentBrowserSessionMode\\\":\\\"NotSet\\\"}', 'PolicyLastUpdatedTime': '7/23/2020 2:20:40 AM', 'TenantDefaultPolicy': '18', 'DisplayName': 'Default Policy', 'PolicyIdentifierString': '5/19/2020 1:39:05 PM'})\",\"Cmd(name='Set-ConditionalAccessPolicy', params={'Identity': 'seccxpninja.onmicrosoft.com\\\\\\\\b2915792-0396-4abe-94ec-e17fa17243c5', 'PolicyDetails': '{\\\"Version\\\":0,\\\"State\\\":\\\"Enabled\\\",\\\"Conditions\\\":{\\\"Applications\\\":{\\\"Include\\\":[{\\\"Applications\\\":[\\\"94c63fef-13a3-47bc-8074-75af8c65887a\\\",\\\"c9a559d2-7aab-4f13-a6ed-e7e9c52aec87\\\"]}]},\\\"Users\\\":{\\\"Include\\\":[{\\\"Users\\\":[\\\"bdb72692-2275-412b-8af0-ea21c2ebd174\\\",\\\"eababd92-9dc7-40e3-9359-6c106522db19\\\"]}]},\\\"SignInRisks\\\":{\\\"Include\\\":[{\\\"SignInRisks\\\":[\\\"High\\\",\\\"Medium\\\",\\\"Low\\\"]}]}},\\\"SessionControls\\\":[\\\"CloudAppSecurity\\\"],\\\"PersistentBrowserSessionMode\\\":\\\"NotSet\\\",\\\"EnforceAllPoliciesForEas\\\":false,\\\"IncludeOtherLegacyClientTypeForEvaluation\\\":false,\\\"CasSessionControlType\\\":3}', 'PolicyLastUpdatedTime': '7/23/2020 2:20:38 AM', 'TenantDefaultPolicy': '', 'DisplayName': 'GBB demo', 'PolicyIdentifierString': ''})\"],[\"Cmd(name='Set-ConditionalAccessPolicy', params={'Identity': 'seccxpninja.onmicrosoft.com\\\\\\\\2e76d011-eaa3-40b4-8ce8-7fba52bf3af8', 'PolicyDetails': '{\\\"Version\\\":0,\\\"State\\\":\\\"Reporting\\\",\\\"Conditions\\\":{\\\"Applications\\\":{\\\"Include\\\":[{\\\"Applications\\\":[\\\"f9e8b3d0-ba26-42cd-b544-c90a66191a81\\\"]}]},\\\"Users\\\":{\\\"Include\\\":[{\\\"Users\\\":[\\\"All\\\"]}]}},\\\"SessionControls\\\":[\\\"CloudAppSecurity\\\"],\\\"PersistentBrowserSessionMode\\\":\\\"NotSet\\\",\\\"EnforceAllPoliciesForEas\\\":false,\\\"IncludeOtherLegacyClientTypeForEvaluation\\\":false,\\\"CasSessionControlType\\\":1}', 'PolicyLastUpdatedTime': '7/23/2020 5:19:51 AM', 'TenantDefaultPolicy': '', 'DisplayName': 'On-Prem SharePoint - MeganB proxy', 'PolicyIdentifierString': ''})\",\"Cmd(name='Set-ConditionalAccessPolicy', params={'Identity': 'seccxpninja.onmicrosoft.com\\\\\\\\3b13ea3c-c733-4eb8-bd19-67d308b2ea04', 'PolicyDetails': '{\\\"Version\\\":0,\\\"CreatedDateTime\\\":\\\"2020-05-19T13:34:15.2394934Z\\\",\\\"ModifiedDateTime\\\":\\\"2020-05-19T13:39:04.7333386Z\\\",\\\"State\\\":\\\"Reporting\\\",\\\"Conditions\\\":{\\\"Applications\\\":{\\\"Include\\\":[{\\\"Applications\\\":[\\\"None\\\"]}]},\\\"Users\\\":{\\\"Include\\\":[{\\\"Users\\\":[\\\"Guests\\\"]}]},\\\"DevicePlatforms\\\":{\\\"Include\\\":[{\\\"DevicePlatforms\\\":[\\\"All\\\"]}],\\\"Exclude\\\":[{\\\"DevicePlatforms\\\":[\\\"Android\\\",\\\"iOS\\\",\\\"macOS\\\"]}]},\\\"ClientTypes\\\":{\\\"Include\\\":[{\\\"ClientTypes\\\":[\\\"Browser\\\",\\\"Native\\\"]}]}},\\\"Controls\\\":[{\\\"Control\\\":[\\\"Mfa\\\",\\\"RequireCompliantDevice\\\"]}]}', 'PolicyLastUpdatedTime': '7/23/2020 5:19:53 AM', 'TenantDefaultPolicy': '', 'DisplayName': 'Yanivsh -CA Test', 'PolicyIdentifierString': ''})\"],[\"Cmd(name='Set-ConditionalAccessPolicy', params={'Identity': 'seccxpninja.onmicrosoft.com\\\\\\\\ba36f0a4-6d73-4ba4-9282-3b3c14575e36', 'PolicyDetails': '{\\\"Version\\\":0,\\\"ModifiedDateTime\\\":\\\"2020-05-19T13:31:41.7083504Z\\\",\\\"State\\\":\\\"Disabled\\\",\\\"Conditions\\\":{\\\"Applications\\\":{\\\"Include\\\":[{\\\"Applications\\\":[\\\"00000002-0000-0ff1-ce00-000000000000\\\",\\\"00000003-0000-0ff1-ce00-000000000000\\\"]}]},\\\"Users\\\":{\\\"Include\\\":[{\\\"Users\\\":[\\\"2935e535-8fdf-4217-865b-e084cb7214f1\\\"]}]},\\\"DevicePlatforms\\\":{\\\"Include\\\":[{\\\"DevicePlatforms\\\":[\\\"All\\\"]}],\\\"Exclude\\\":[{\\\"DevicePlatforms\\\":[\\\"Android\\\",\\\"iOS\\\",\\\"macOS\\\"]}]},\\\"ClientTypes\\\":{\\\"Include\\\":[{\\\"ClientTypes\\\":[\\\"Browser\\\",\\\"Native\\\"]}]}},\\\"SessionControls\\\":[\\\"CloudAppSecurity\\\"],\\\"CasSessionControlType\\\":1}', 'PolicyLastUpdatedTime': '7/24/2020 2:30:33 AM', 'TenantDefaultPolicy': '', 'DisplayName': 'Block Access JulianI', 'PolicyIdentifierString': ''})\",\"Cmd(name='Set-ConditionalAccessPolicy', params={'Identity': 'seccxpninja.onmicrosoft.com\\\\\\\\e183bd29-a3a3-4f91-a5a3-b83b21a544df', 'PolicyDetails': '{\\\"Version\\\":0,\\\"State\\\":\\\"Enabled\\\",\\\"Conditions\\\":{\\\"Applications\\\":{\\\"Include\\\":[{\\\"Applications\\\":[\\\"00000002-0000-0ff1-ce00-000000000000\\\"]}]},\\\"Users\\\":{\\\"Include\\\":[{\\\"Users\\\":[\\\"2935e535-8fdf-4217-865b-e084cb7214f1\\\"]}]}},\\\"SessionControls\\\":[\\\"AppEnforcedRestrictions\\\"],\\\"PersistentBrowserSessionMode\\\":\\\"NotSet\\\",\\\"EnforceAllPoliciesForEas\\\":false,\\\"IncludeOtherLegacyClientTypeForEvaluation\\\":false}', 'PolicyLastUpdatedTime': '7/24/2020 2:30:33 AM', 'TenantDefaultPolicy': '', 'DisplayName': 'JulianI Exchange native controls', 'PolicyIdentifierString': ''})\"],[\"Cmd(name='Set-ConditionalAccessPolicy', params={'Identity': 'seccxpninja.onmicrosoft.com\\\\\\\\69c7a12f-b407-45a3-b07e-fa04fc7f273d', 'PolicyDetails': '{\\\"Version\\\":0,\\\"State\\\":\\\"Enabled\\\",\\\"Conditions\\\":{\\\"Applications\\\":{\\\"Include\\\":[{\\\"Applications\\\":[\\\"00000003-0000-0ff1-ce00-000000000000\\\"]}]},\\\"Users\\\":{\\\"Include\\\":[{\\\"Users\\\":[\\\"All\\\"]}]}},\\\"SessionControls\\\":[\\\"CloudAppSecurity\\\"],\\\"PersistentBrowserSessionMode\\\":\\\"NotSet\\\",\\\"EnforceAllPoliciesForEas\\\":false,\\\"IncludeOtherLegacyClientTypeForEvaluation\\\":false,\\\"CasSessionControlType\\\":1}', 'PolicyLastUpdatedTime': '7/24/2020 4:59:23 AM', 'TenantDefaultPolicy': '', 'DisplayName': 'Test Policy', 'PolicyIdentifierString': ''})\",\"Cmd(name='Set-ConditionalAccessPolicy', params={'Identity': 'seccxpninja.onmicrosoft.com\\\\\\\\2e76d011-eaa3-40b4-8ce8-7fba52bf3af8', 'PolicyDetails': '{\\\"Version\\\":0,\\\"State\\\":\\\"Reporting\\\",\\\"Conditions\\\":{\\\"Applications\\\":{\\\"Include\\\":[{\\\"Applications\\\":[\\\"f9e8b3d0-ba26-42cd-b544-c90a66191a81\\\"]}]},\\\"Users\\\":{\\\"Include\\\":[{\\\"Users\\\":[\\\"All\\\"]}]}},\\\"SessionControls\\\":[\\\"CloudAppSecurity\\\"],\\\"PersistentBrowserSessionMode\\\":\\\"NotSet\\\",\\\"EnforceAllPoliciesForEas\\\":false,\\\"IncludeOtherLegacyClientTypeForEvaluation\\\":false,\\\"CasSessionControlType\\\":1}', 'PolicyLastUpdatedTime': '7/24/2020 4:59:22 AM', 'TenantDefaultPolicy': '', 'DisplayName': 'On-Prem SharePoint - MeganB proxy', 'PolicyIdentifierString': ''})\"],[\"Cmd(name='Set-ConditionalAccessPolicy', params={'Identity': 'seccxpninja.onmicrosoft.com\\\\\\\\5fd0c4ff-1cd7-4bf6-8607-294a04f58f12', 'PolicyDetails': '{\\\"Version\\\":0,\\\"State\\\":\\\"Disabled\\\",\\\"Conditions\\\":{\\\"Applications\\\":{\\\"Include\\\":[{\\\"Applications\\\":[\\\"All\\\"]}]},\\\"Users\\\":{\\\"Include\\\":[{\\\"Users\\\":[\\\"142512c7-f006-46ae-909c-14fa7bf6a887\\\"]}]}},\\\"Controls\\\":[{\\\"Control\\\":[\\\"Mfa\\\"]}],\\\"EnforceAllPoliciesForEas\\\":false,\\\"IncludeOtherLegacyClientTypeForEvaluation\\\":false}', 'PolicyLastUpdatedTime': '7/25/2020 2:21:52 AM', 'TenantDefaultPolicy': '', 'DisplayName': 'Azure MFA', 'PolicyIdentifierString': ''})\",\"Cmd(name='Set-ConditionalAccessPolicy', params={'Identity': 'seccxpninja.onmicrosoft.com\\\\\\\\8872f6fb-da88-4b63-bcc7-17247669596b', 'PolicyDetails': '{\\\"Version\\\":0,\\\"State\\\":\\\"Enabled\\\",\\\"Conditions\\\":{\\\"Applications\\\":{\\\"Include\\\":[{\\\"Applications\\\":[\\\"00000002-0000-0ff1-ce00-000000000000\\\",\\\"09abbdfd-ed23-44ee-a2d9-a627aa1c90f3\\\",\\\"cc15fd57-2c6c-4117-a88c-83b1d56b4bbe\\\",\\\"00000003-0000-0ff1-ce00-000000000000\\\",\\\"00000005-0000-0ff1-ce00-000000000000\\\"]}]},\\\"Users\\\":{\\\"Include\\\":[{\\\"Users\\\":[\\\"eababd92-9dc7-40e3-9359-6c106522db19\\\"]}]}},\\\"SessionControls\\\":[\\\"CloudAppSecurity\\\"],\\\"PersistentBrowserSessionMode\\\":\\\"NotSet\\\",\\\"EnforceAllPoliciesForEas\\\":false,\\\"IncludeOtherLegacyClientTypeForEvaluation\\\":false,\\\"CasSessionControlType\\\":1}', 'PolicyLastUpdatedTime': '7/25/2020 2:21:50 AM', 'TenantDefaultPolicy': '', 'DisplayName': 'MeganB MCAS Proxy', 'PolicyIdentifierString': ''})\"],[\"Cmd(name='Set-ConditionalAccessPolicy', params={'Identity': 'seccxpninja.onmicrosoft.com\\\\\\\\bcd93f74-64fd-4042-a3ae-ee6d48886d6d', 'PolicyDetails': '{\\\"Version\\\":0,\\\"State\\\":\\\"Enabled\\\",\\\"Conditions\\\":{\\\"Applications\\\":{\\\"Include\\\":[{\\\"Applications\\\":[\\\"c9a559d2-7aab-4f13-a6ed-e7e9c52aec87\\\"]}]},\\\"Users\\\":{\\\"Include\\\":[{\\\"Users\\\":[\\\"bdb72692-2275-412b-8af0-ea21c2ebd174\\\",\\\"eababd92-9dc7-40e3-9359-6c106522db19\\\"]}]}},\\\"SessionControls\\\":[\\\"CloudAppSecurity\\\"],\\\"PersistentBrowserSessionMode\\\":\\\"NotSet\\\",\\\"EnforceAllPoliciesForEas\\\":false,\\\"IncludeOtherLegacyClientTypeForEvaluation\\\":false,\\\"CasSessionControlType\\\":3}', 'PolicyLastUpdatedTime': '7/25/2020 5:37:48 AM', 'TenantDefaultPolicy': '', 'DisplayName': 'Form MCAS', 'PolicyIdentifierString': ''})\",\"Cmd(name='Set-ConditionalAccessPolicy', params={'Identity': 'seccxpninja.onmicrosoft.com\\\\\\\\8837fdaa-aaeb-4432-9622-43f6f583d583', 'PolicyDetails': '{\\\"KnownNetworkPolicies\\\":{\\\"NetworkName\\\":\\\"BE-Office\\\",\\\"NetworkId\\\":\\\"b98b9088-ce88-4fae-80fb-5b58cb1ce685\\\",\\\"CidrIpRanges\\\":[\\\"109.88.218.99/28\\\"],\\\"CountryIsoCodes\\\":null,\\\"Categories\\\":[],\\\"ApplyToUnknownCountry\\\":false}}', 'PolicyLastUpdatedTime': '7/25/2020 5:37:51 AM', 'TenantDefaultPolicy': '6', 'DisplayName': 'Known Networks List', 'PolicyIdentifierString': '3/19/2020 7:45:08 PM'})\"],[\"Cmd(name='Set-ConditionalAccessPolicy', params={'Identity': 'seccxpninja.onmicrosoft.com\\\\\\\\3b13ea3c-c733-4eb8-bd19-67d308b2ea04', 'PolicyDetails': '{\\\"Version\\\":0,\\\"CreatedDateTime\\\":\\\"2020-05-19T13:34:15.2394934Z\\\",\\\"ModifiedDateTime\\\":\\\"2020-05-19T13:39:04.7333386Z\\\",\\\"State\\\":\\\"Reporting\\\",\\\"Conditions\\\":{\\\"Applications\\\":{\\\"Include\\\":[{\\\"Applications\\\":[\\\"None\\\"]}]},\\\"Users\\\":{\\\"Include\\\":[{\\\"Users\\\":[\\\"Guests\\\"]}]},\\\"DevicePlatforms\\\":{\\\"Include\\\":[{\\\"DevicePlatforms\\\":[\\\"All\\\"]}],\\\"Exclude\\\":[{\\\"DevicePlatforms\\\":[\\\"Android\\\",\\\"iOS\\\",\\\"macOS\\\"]}]},\\\"ClientTypes\\\":{\\\"Include\\\":[{\\\"ClientTypes\\\":[\\\"Browser\\\",\\\"Native\\\"]}]}},\\\"Controls\\\":[{\\\"Control\\\":[\\\"Mfa\\\",\\\"RequireCompliantDevice\\\"]}]}', 'PolicyLastUpdatedTime': '7/26/2020 2:25:48 AM', 'TenantDefaultPolicy': '', 'DisplayName': 'Yanivsh -CA Test', 'PolicyIdentifierString': ''})\",\"Cmd(name='Set-ConditionalAccessPolicy', params={'Identity': 'seccxpninja.onmicrosoft.com\\\\\\\\69c7a12f-b407-45a3-b07e-fa04fc7f273d', 'PolicyDetails': '{\\\"Version\\\":0,\\\"State\\\":\\\"Enabled\\\",\\\"Conditions\\\":{\\\"Applications\\\":{\\\"Include\\\":[{\\\"Applications\\\":[\\\"00000003-0000-0ff1-ce00-000000000000\\\"]}]},\\\"Users\\\":{\\\"Include\\\":[{\\\"Users\\\":[\\\"All\\\"]}]}},\\\"SessionControls\\\":[\\\"CloudAppSecurity\\\"],\\\"PersistentBrowserSessionMode\\\":\\\"NotSet\\\",\\\"EnforceAllPoliciesForEas\\\":false,\\\"IncludeOtherLegacyClientTypeForEvaluation\\\":false,\\\"CasSessionControlType\\\":1}', 'PolicyLastUpdatedTime': '7/26/2020 2:25:48 AM', 'TenantDefaultPolicy': '', 'DisplayName': 'Test Policy', 'PolicyIdentifierString': ''})\"],[\"Cmd(name='Set-ConditionalAccessPolicy', params={'Identity': 'seccxpninja.onmicrosoft.com\\\\\\\\8837fdaa-aaeb-4432-9622-43f6f583d583', 'PolicyDetails': '{\\\"KnownNetworkPolicies\\\":{\\\"NetworkName\\\":\\\"BE-Office\\\",\\\"NetworkId\\\":\\\"b98b9088-ce88-4fae-80fb-5b58cb1ce685\\\",\\\"CidrIpRanges\\\":[\\\"109.88.218.99/28\\\"],\\\"CountryIsoCodes\\\":null,\\\"Categories\\\":[],\\\"ApplyToUnknownCountry\\\":false}}', 'PolicyLastUpdatedTime': '7/26/2020 2:25:48 AM', 'TenantDefaultPolicy': '6', 'DisplayName': 'Known Networks List', 'PolicyIdentifierString': '3/19/2020 7:45:08 PM'})\",\"Cmd(name='Set-ConditionalAccessPolicy', params={'Identity': 'seccxpninja.onmicrosoft.com\\\\\\\\8837fdaa-aaeb-4432-9622-43f6f583d583', 'PolicyDetails': '{\\\"KnownNetworkPolicies\\\":{\\\"NetworkName\\\":\\\"BE-Office\\\",\\\"NetworkId\\\":\\\"b98b9088-ce88-4fae-80fb-5b58cb1ce685\\\",\\\"CidrIpRanges\\\":[\\\"109.88.218.99/28\\\"],\\\"CountryIsoCodes\\\":null,\\\"Categories\\\":[],\\\"ApplyToUnknownCountry\\\":false}}', 'PolicyLastUpdatedTime': '7/26/2020 2:25:48 AM', 'TenantDefaultPolicy': '6', 'DisplayName': 'Known Networks List', 'PolicyIdentifierString': '3/19/2020 7:45:08 PM'})\"],[\"Cmd(name='Set-ConditionalAccessPolicy', params={'Identity': 'seccxpninja.onmicrosoft.com\\\\\\\\e183bd29-a3a3-4f91-a5a3-b83b21a544df', 'PolicyDetails': '{\\\"Version\\\":0,\\\"State\\\":\\\"Enabled\\\",\\\"Conditions\\\":{\\\"Applications\\\":{\\\"Include\\\":[{\\\"Applications\\\":[\\\"00000002-0000-0ff1-ce00-000000000000\\\"]}]},\\\"Users\\\":{\\\"Include\\\":[{\\\"Users\\\":[\\\"2935e535-8fdf-4217-865b-e084cb7214f1\\\"]}]}},\\\"SessionControls\\\":[\\\"AppEnforcedRestrictions\\\"],\\\"PersistentBrowserSessionMode\\\":\\\"NotSet\\\",\\\"EnforceAllPoliciesForEas\\\":false,\\\"IncludeOtherLegacyClientTypeForEvaluation\\\":false}', 'PolicyLastUpdatedTime': '7/26/2020 5:09:13 AM', 'TenantDefaultPolicy': '', 'DisplayName': 'JulianI Exchange native controls', 'PolicyIdentifierString': ''})\",\"Cmd(name='Set-ConditionalAccessPolicy', params={'Identity': 'seccxpninja.onmicrosoft.com\\\\\\\\b2915792-0396-4abe-94ec-e17fa17243c5', 'PolicyDetails': '{\\\"Version\\\":0,\\\"State\\\":\\\"Enabled\\\",\\\"Conditions\\\":{\\\"Applications\\\":{\\\"Include\\\":[{\\\"Applications\\\":[\\\"94c63fef-13a3-47bc-8074-75af8c65887a\\\",\\\"c9a559d2-7aab-4f13-a6ed-e7e9c52aec87\\\"]}]},\\\"Users\\\":{\\\"Include\\\":[{\\\"Users\\\":[\\\"bdb72692-2275-412b-8af0-ea21c2ebd174\\\",\\\"eababd92-9dc7-40e3-9359-6c106522db19\\\"]}]},\\\"SignInRisks\\\":{\\\"Include\\\":[{\\\"SignInRisks\\\":[\\\"High\\\",\\\"Medium\\\",\\\"Low\\\"]}]}},\\\"SessionControls\\\":[\\\"CloudAppSecurity\\\"],\\\"PersistentBrowserSessionMode\\\":\\\"NotSet\\\",\\\"EnforceAllPoliciesForEas\\\":false,\\\"IncludeOtherLegacyClientTypeForEvaluation\\\":false,\\\"CasSessionControlType\\\":3}', 'PolicyLastUpdatedTime': '7/26/2020 5:09:11 AM', 'TenantDefaultPolicy': '', 'DisplayName': 'GBB demo', 'PolicyIdentifierString': ''})\"],[\"Cmd(name='Set-ConditionalAccessPolicy', params={'Identity': 'seccxpninja.onmicrosoft.com\\\\\\\\b2915792-0396-4abe-94ec-e17fa17243c5', 'PolicyDetails': '{\\\"Version\\\":0,\\\"State\\\":\\\"Enabled\\\",\\\"Conditions\\\":{\\\"Applications\\\":{\\\"Include\\\":[{\\\"Applications\\\":[\\\"94c63fef-13a3-47bc-8074-75af8c65887a\\\",\\\"c9a559d2-7aab-4f13-a6ed-e7e9c52aec87\\\"]}]},\\\"Users\\\":{\\\"Include\\\":[{\\\"Users\\\":[\\\"bdb72692-2275-412b-8af0-ea21c2ebd174\\\",\\\"eababd92-9dc7-40e3-9359-6c106522db19\\\"]}]},\\\"SignInRisks\\\":{\\\"Include\\\":[{\\\"SignInRisks\\\":[\\\"High\\\",\\\"Medium\\\",\\\"Low\\\"]}]}},\\\"SessionControls\\\":[\\\"CloudAppSecurity\\\"],\\\"PersistentBrowserSessionMode\\\":\\\"NotSet\\\",\\\"EnforceAllPoliciesForEas\\\":false,\\\"IncludeOtherLegacyClientTypeForEvaluation\\\":false,\\\"CasSessionControlType\\\":3}', 'PolicyLastUpdatedTime': '7/27/2020 2:07:10 AM', 'TenantDefaultPolicy': '', 'DisplayName': 'GBB demo', 'PolicyIdentifierString': ''})\",\"Cmd(name='Set-ConditionalAccessPolicy', params={'Identity': 'seccxpninja.onmicrosoft.com\\\\\\\\4c5a5ea0-5d9f-4730-baaa-7a69cf29ef26', 'PolicyDetails': '{\\\"Version\\\":0,\\\"State\\\":\\\"Enabled\\\",\\\"Conditions\\\":{\\\"Applications\\\":{\\\"Include\\\":[{\\\"Applications\\\":[\\\"All\\\"]}]},\\\"Users\\\":{\\\"Include\\\":[{\\\"Users\\\":[\\\"bdb72692-2275-412b-8af0-ea21c2ebd174\\\"]}]}},\\\"Controls\\\":[{\\\"Control\\\":[\\\"Mfa\\\"]}],\\\"PersistentBrowserSessionMode\\\":\\\"NotSet\\\",\\\"EnforceAllPoliciesForEas\\\":false,\\\"IncludeOtherLegacyClientTypeForEvaluation\\\":false}', 'PolicyLastUpdatedTime': '7/27/2020 2:07:11 AM', 'TenantDefaultPolicy': '', 'DisplayName': 'Semolen - Admin MFA', 'PolicyIdentifierString': ''})\"],[\"Cmd(name='Set-ConditionalAccessPolicy', params={'Identity': 'seccxpninja.onmicrosoft.com\\\\\\\\3b13ea3c-c733-4eb8-bd19-67d308b2ea04', 'PolicyDetails': '{\\\"Version\\\":0,\\\"CreatedDateTime\\\":\\\"2020-05-19T13:34:15.2394934Z\\\",\\\"ModifiedDateTime\\\":\\\"2020-05-19T13:39:04.7333386Z\\\",\\\"State\\\":\\\"Reporting\\\",\\\"Conditions\\\":{\\\"Applications\\\":{\\\"Include\\\":[{\\\"Applications\\\":[\\\"None\\\"]}]},\\\"Users\\\":{\\\"Include\\\":[{\\\"Users\\\":[\\\"Guests\\\"]}]},\\\"DevicePlatforms\\\":{\\\"Include\\\":[{\\\"DevicePlatforms\\\":[\\\"All\\\"]}],\\\"Exclude\\\":[{\\\"DevicePlatforms\\\":[\\\"Android\\\",\\\"iOS\\\",\\\"macOS\\\"]}]},\\\"ClientTypes\\\":{\\\"Include\\\":[{\\\"ClientTypes\\\":[\\\"Browser\\\",\\\"Native\\\"]}]}},\\\"Controls\\\":[{\\\"Control\\\":[\\\"Mfa\\\",\\\"RequireCompliantDevice\\\"]}]}', 'PolicyLastUpdatedTime': '7/27/2020 5:11:30 AM', 'TenantDefaultPolicy': '', 'DisplayName': 'Yanivsh -CA Test', 'PolicyIdentifierString': ''})\",\"Cmd(name='Set-ConditionalAccessPolicy', params={'Identity': 'seccxpninja.onmicrosoft.com\\\\\\\\ba36f0a4-6d73-4ba4-9282-3b3c14575e36', 'PolicyDetails': '{\\\"Version\\\":0,\\\"ModifiedDateTime\\\":\\\"2020-05-19T13:31:41.7083504Z\\\",\\\"State\\\":\\\"Disabled\\\",\\\"Conditions\\\":{\\\"Applications\\\":{\\\"Include\\\":[{\\\"Applications\\\":[\\\"00000002-0000-0ff1-ce00-000000000000\\\",\\\"00000003-0000-0ff1-ce00-000000000000\\\"]}]},\\\"Users\\\":{\\\"Include\\\":[{\\\"Users\\\":[\\\"2935e535-8fdf-4217-865b-e084cb7214f1\\\"]}]},\\\"DevicePlatforms\\\":{\\\"Include\\\":[{\\\"DevicePlatforms\\\":[\\\"All\\\"]}],\\\"Exclude\\\":[{\\\"DevicePlatforms\\\":[\\\"Android\\\",\\\"iOS\\\",\\\"macOS\\\"]}]},\\\"ClientTypes\\\":{\\\"Include\\\":[{\\\"ClientTypes\\\":[\\\"Browser\\\",\\\"Native\\\"]}]}},\\\"SessionControls\\\":[\\\"CloudAppSecurity\\\"],\\\"CasSessionControlType\\\":1}', 'PolicyLastUpdatedTime': '7/27/2020 5:11:29 AM', 'TenantDefaultPolicy': '', 'DisplayName': 'Block Access JulianI', 'PolicyIdentifierString': ''})\"],[\"Cmd(name='Set-ConditionalAccessPolicy', params={'Identity': 'seccxpninja.onmicrosoft.com\\\\\\\\ba36f0a4-6d73-4ba4-9282-3b3c14575e36', 'PolicyDetails': '{\\\"Version\\\":0,\\\"ModifiedDateTime\\\":\\\"2020-05-19T13:31:41.7083504Z\\\",\\\"State\\\":\\\"Disabled\\\",\\\"Conditions\\\":{\\\"Applications\\\":{\\\"Include\\\":[{\\\"Applications\\\":[\\\"00000002-0000-0ff1-ce00-000000000000\\\",\\\"00000003-0000-0ff1-ce00-000000000000\\\"]}]},\\\"Users\\\":{\\\"Include\\\":[{\\\"Users\\\":[\\\"2935e535-8fdf-4217-865b-e084cb7214f1\\\"]}]},\\\"DevicePlatforms\\\":{\\\"Include\\\":[{\\\"DevicePlatforms\\\":[\\\"All\\\"]}],\\\"Exclude\\\":[{\\\"DevicePlatforms\\\":[\\\"Android\\\",\\\"iOS\\\",\\\"macOS\\\"]}]},\\\"ClientTypes\\\":{\\\"Include\\\":[{\\\"ClientTypes\\\":[\\\"Browser\\\",\\\"Native\\\"]}]}},\\\"SessionControls\\\":[\\\"CloudAppSecurity\\\"],\\\"CasSessionControlType\\\":1}', 'PolicyLastUpdatedTime': '7/28/2020 2:00:46 AM', 'TenantDefaultPolicy': '', 'DisplayName': 'Block Access JulianI', 'PolicyIdentifierString': ''})\",\"Cmd(name='Set-ConditionalAccessPolicy', params={'Identity': 'seccxpninja.onmicrosoft.com\\\\\\\\2e76d011-eaa3-40b4-8ce8-7fba52bf3af8', 'PolicyDetails': '{\\\"Version\\\":0,\\\"State\\\":\\\"Reporting\\\",\\\"Conditions\\\":{\\\"Applications\\\":{\\\"Include\\\":[{\\\"Applications\\\":[\\\"f9e8b3d0-ba26-42cd-b544-c90a66191a81\\\"]}]},\\\"Users\\\":{\\\"Include\\\":[{\\\"Users\\\":[\\\"All\\\"]}]}},\\\"SessionControls\\\":[\\\"CloudAppSecurity\\\"],\\\"PersistentBrowserSessionMode\\\":\\\"NotSet\\\",\\\"EnforceAllPoliciesForEas\\\":false,\\\"IncludeOtherLegacyClientTypeForEvaluation\\\":false,\\\"CasSessionControlType\\\":1}', 'PolicyLastUpdatedTime': '7/28/2020 2:00:45 AM', 'TenantDefaultPolicy': '', 'DisplayName': 'On-Prem SharePoint - MeganB proxy', 'PolicyIdentifierString': ''})\"],[\"Cmd(name='Set-ConditionalAccessPolicy', params={'Identity': 'seccxpninja.onmicrosoft.com\\\\\\\\235bec94-f744-48ac-8314-5675953d2def', 'PolicyDetails': '{\\\"Version\\\":0,\\\"State\\\":\\\"Disabled\\\",\\\"Conditions\\\":{\\\"Applications\\\":{\\\"Include\\\":[{\\\"Applications\\\":[\\\"All\\\"]}]},\\\"Users\\\":{\\\"Include\\\":[{\\\"Users\\\":[\\\"eababd92-9dc7-40e3-9359-6c106522db19\\\"]}]},\\\"DevicePlatforms\\\":{\\\"Include\\\":[{\\\"DevicePlatforms\\\":[\\\"All\\\"]}],\\\"Exclude\\\":[{\\\"DevicePlatforms\\\":[\\\"macOS\\\"]}]}},\\\"Controls\\\":[{\\\"Control\\\":[\\\"Mfa\\\"]}],\\\"PersistentBrowserSessionMode\\\":\\\"NotSet\\\",\\\"EnforceAllPoliciesForEas\\\":false,\\\"IncludeOtherLegacyClientTypeForEvaluation\\\":false}', 'PolicyLastUpdatedTime': '7/28/2020 5:23:28 AM', 'TenantDefaultPolicy': '', 'DisplayName': 'Megan MFA demo', 'PolicyIdentifierString': ''})\",\"Cmd(name='Set-ConditionalAccessPolicy', params={'Identity': 'seccxpninja.onmicrosoft.com\\\\\\\\6490d00c-7ba1-42cf-aa88-99eb71d53bf7', 'PolicyDetails': '{\\\"Version\\\":0,\\\"LastUpdatedTimestamp\\\":\\\"2020-07-02T12:42:35.1866847Z\\\",\\\"State\\\":\\\"Disabled\\\",\\\"SignInFrequency\\\":\\\"NotSet\\\",\\\"PersistentBrowserSessionMode\\\":\\\"NotSet\\\"}', 'PolicyLastUpdatedTime': '7/28/2020 5:23:30 AM', 'TenantDefaultPolicy': '18', 'DisplayName': 'Default Policy', 'PolicyIdentifierString': '5/19/2020 1:39:05 PM'})\"],[\"Cmd(name='Set-ConditionalAccessPolicy', params={'Identity': 'seccxpninja.onmicrosoft.com\\\\\\\\83a057fb-dbca-4ba8-bb5f-0ce6d6e7cff5', 'PolicyDetails': '{\\\"Version\\\":0,\\\"State\\\":\\\"Enabled\\\",\\\"Conditions\\\":{\\\"Applications\\\":{\\\"Include\\\":[{\\\"Acrs\\\":[\\\"urn:microsoft:req1\\\"]}]},\\\"Users\\\":{\\\"Include\\\":[{\\\"Users\\\":[\\\"eababd92-9dc7-40e3-9359-6c106522db19\\\"]}]}},\\\"Controls\\\":[{\\\"Control\\\":[\\\"Mfa\\\"]}],\\\"PersistentBrowserSessionMode\\\":\\\"NotSet\\\",\\\"EnforceAllPoliciesForEas\\\":false,\\\"IncludeOtherLegacyClientTypeForEvaluation\\\":false}', 'PolicyLastUpdatedTime': '7/28/2020 5:23:28 AM', 'TenantDefaultPolicy': '', 'DisplayName': 'MeganB MCAS Step-up', 'PolicyIdentifierString': ''})\",\"Cmd(name='Set-ConditionalAccessPolicy', params={'Identity': 'seccxpninja.onmicrosoft.com\\\\\\\\b2915792-0396-4abe-94ec-e17fa17243c5', 'PolicyDetails': '{\\\"Version\\\":0,\\\"State\\\":\\\"Enabled\\\",\\\"Conditions\\\":{\\\"Applications\\\":{\\\"Include\\\":[{\\\"Applications\\\":[\\\"94c63fef-13a3-47bc-8074-75af8c65887a\\\",\\\"c9a559d2-7aab-4f13-a6ed-e7e9c52aec87\\\"]}]},\\\"Users\\\":{\\\"Include\\\":[{\\\"Users\\\":[\\\"bdb72692-2275-412b-8af0-ea21c2ebd174\\\",\\\"eababd92-9dc7-40e3-9359-6c106522db19\\\"]}]},\\\"SignInRisks\\\":{\\\"Include\\\":[{\\\"SignInRisks\\\":[\\\"High\\\",\\\"Medium\\\",\\\"Low\\\"]}]}},\\\"SessionControls\\\":[\\\"CloudAppSecurity\\\"],\\\"PersistentBrowserSessionMode\\\":\\\"NotSet\\\",\\\"EnforceAllPoliciesForEas\\\":false,\\\"IncludeOtherLegacyClientTypeForEvaluation\\\":false,\\\"CasSessionControlType\\\":3}', 'PolicyLastUpdatedTime': '7/28/2020 5:23:29 AM', 'TenantDefaultPolicy': '', 'DisplayName': 'GBB demo', 'PolicyIdentifierString': ''})\"],[\"Cmd(name='Set-ConditionalAccessPolicy', params={'Identity': 'seccxpninja.onmicrosoft.com\\\\\\\\69c7a12f-b407-45a3-b07e-fa04fc7f273d', 'PolicyDetails': '{\\\"Version\\\":0,\\\"State\\\":\\\"Enabled\\\",\\\"Conditions\\\":{\\\"Applications\\\":{\\\"Include\\\":[{\\\"Applications\\\":[\\\"00000003-0000-0ff1-ce00-000000000000\\\"]}]},\\\"Users\\\":{\\\"Include\\\":[{\\\"Users\\\":[\\\"All\\\"]}]}},\\\"SessionControls\\\":[\\\"CloudAppSecurity\\\"],\\\"PersistentBrowserSessionMode\\\":\\\"NotSet\\\",\\\"EnforceAllPoliciesForEas\\\":false,\\\"IncludeOtherLegacyClientTypeForEvaluation\\\":false,\\\"CasSessionControlType\\\":1}', 'PolicyLastUpdatedTime': '7/28/2020 5:23:31 AM', 'TenantDefaultPolicy': '', 'DisplayName': 'Test Policy', 'PolicyIdentifierString': ''})\",\"Cmd(name='Set-ConditionalAccessPolicy', params={'Identity': 'seccxpninja.onmicrosoft.com\\\\\\\\8837fdaa-aaeb-4432-9622-43f6f583d583', 'PolicyDetails': '{\\\"KnownNetworkPolicies\\\":{\\\"NetworkName\\\":\\\"BE-Office\\\",\\\"NetworkId\\\":\\\"b98b9088-ce88-4fae-80fb-5b58cb1ce685\\\",\\\"CidrIpRanges\\\":[\\\"109.88.218.99/28\\\"],\\\"CountryIsoCodes\\\":null,\\\"Categories\\\":[],\\\"ApplyToUnknownCountry\\\":false}}', 'PolicyLastUpdatedTime': '7/28/2020 5:23:31 AM', 'TenantDefaultPolicy': '6', 'DisplayName': 'Known Networks List', 'PolicyIdentifierString': '3/19/2020 7:45:08 PM'})\"],[\"Cmd(name='Set-ConditionalAccessPolicy', params={'Identity': 'seccxpninja.onmicrosoft.com\\\\\\\\3b13ea3c-c733-4eb8-bd19-67d308b2ea04', 'PolicyDetails': '{\\\"Version\\\":0,\\\"CreatedDateTime\\\":\\\"2020-05-19T13:34:15.2394934Z\\\",\\\"ModifiedDateTime\\\":\\\"2020-05-19T13:39:04.7333386Z\\\",\\\"State\\\":\\\"Reporting\\\",\\\"Conditions\\\":{\\\"Applications\\\":{\\\"Include\\\":[{\\\"Applications\\\":[\\\"None\\\"]}]},\\\"Users\\\":{\\\"Include\\\":[{\\\"Users\\\":[\\\"Guests\\\"]}]},\\\"DevicePlatforms\\\":{\\\"Include\\\":[{\\\"DevicePlatforms\\\":[\\\"All\\\"]}],\\\"Exclude\\\":[{\\\"DevicePlatforms\\\":[\\\"Android\\\",\\\"iOS\\\",\\\"macOS\\\"]}]},\\\"ClientTypes\\\":{\\\"Include\\\":[{\\\"ClientTypes\\\":[\\\"Browser\\\",\\\"Native\\\"]}]}},\\\"Controls\\\":[{\\\"Control\\\":[\\\"Mfa\\\",\\\"RequireCompliantDevice\\\"]}]}', 'PolicyLastUpdatedTime': '7/29/2020 1:40:55 AM', 'TenantDefaultPolicy': '', 'DisplayName': 'Yanivsh -CA Test', 'PolicyIdentifierString': ''})\",\"Cmd(name='Set-ConditionalAccessPolicy', params={'Identity': 'seccxpninja.onmicrosoft.com\\\\\\\\bcd93f74-64fd-4042-a3ae-ee6d48886d6d', 'PolicyDetails': '{\\\"Version\\\":0,\\\"State\\\":\\\"Enabled\\\",\\\"Conditions\\\":{\\\"Applications\\\":{\\\"Include\\\":[{\\\"Applications\\\":[\\\"c9a559d2-7aab-4f13-a6ed-e7e9c52aec87\\\"]}]},\\\"Users\\\":{\\\"Include\\\":[{\\\"Users\\\":[\\\"bdb72692-2275-412b-8af0-ea21c2ebd174\\\",\\\"eababd92-9dc7-40e3-9359-6c106522db19\\\"]}]}},\\\"SessionControls\\\":[\\\"CloudAppSecurity\\\"],\\\"PersistentBrowserSessionMode\\\":\\\"NotSet\\\",\\\"EnforceAllPoliciesForEas\\\":false,\\\"IncludeOtherLegacyClientTypeForEvaluation\\\":false,\\\"CasSessionControlType\\\":3}', 'PolicyLastUpdatedTime': '7/29/2020 1:40:52 AM', 'TenantDefaultPolicy': '', 'DisplayName': 'Form MCAS', 'PolicyIdentifierString': ''})\",\"Cmd(name='Set-ConditionalAccessPolicy', params={'Identity': 'seccxpninja.onmicrosoft.com\\\\\\\\bcd93f74-64fd-4042-a3ae-ee6d48886d6d', 'PolicyDetails': '{\\\"Version\\\":0,\\\"State\\\":\\\"Enabled\\\",\\\"Conditions\\\":{\\\"Applications\\\":{\\\"Include\\\":[{\\\"Applications\\\":[\\\"c9a559d2-7aab-4f13-a6ed-e7e9c52aec87\\\"]}]},\\\"Users\\\":{\\\"Include\\\":[{\\\"Users\\\":[\\\"bdb72692-2275-412b-8af0-ea21c2ebd174\\\",\\\"eababd92-9dc7-40e3-9359-6c106522db19\\\"]}]}},\\\"SessionControls\\\":[\\\"CloudAppSecurity\\\"],\\\"PersistentBrowserSessionMode\\\":\\\"NotSet\\\",\\\"EnforceAllPoliciesForEas\\\":false,\\\"IncludeOtherLegacyClientTypeForEvaluation\\\":false,\\\"CasSessionControlType\\\":3}', 'PolicyLastUpdatedTime': '7/29/2020 1:40:52 AM', 'TenantDefaultPolicy': '', 'DisplayName': 'Form MCAS', 'PolicyIdentifierString': ''})\"],[\"Cmd(name='Set-ConditionalAccessPolicy', params={'Identity': 'seccxpninja.onmicrosoft.com\\\\\\\\83a057fb-dbca-4ba8-bb5f-0ce6d6e7cff5', 'PolicyDetails': '{\\\"Version\\\":0,\\\"State\\\":\\\"Enabled\\\",\\\"Conditions\\\":{\\\"Applications\\\":{\\\"Include\\\":[{\\\"Acrs\\\":[\\\"urn:microsoft:req1\\\"]}]},\\\"Users\\\":{\\\"Include\\\":[{\\\"Users\\\":[\\\"eababd92-9dc7-40e3-9359-6c106522db19\\\"]}]}},\\\"Controls\\\":[{\\\"Control\\\":[\\\"Mfa\\\"]}],\\\"PersistentBrowserSessionMode\\\":\\\"NotSet\\\",\\\"EnforceAllPoliciesForEas\\\":false,\\\"IncludeOtherLegacyClientTypeForEvaluation\\\":false}', 'PolicyLastUpdatedTime': '7/29/2020 1:40:52 AM', 'TenantDefaultPolicy': '', 'DisplayName': 'MeganB MCAS Step-up', 'PolicyIdentifierString': ''})\",\"Cmd(name='Set-ConditionalAccessPolicy', params={'Identity': 'seccxpninja.onmicrosoft.com\\\\\\\\2e76d011-eaa3-40b4-8ce8-7fba52bf3af8', 'PolicyDetails': '{\\\"Version\\\":0,\\\"State\\\":\\\"Reporting\\\",\\\"Conditions\\\":{\\\"Applications\\\":{\\\"Include\\\":[{\\\"Applications\\\":[\\\"f9e8b3d0-ba26-42cd-b544-c90a66191a81\\\"]}]},\\\"Users\\\":{\\\"Include\\\":[{\\\"Users\\\":[\\\"All\\\"]}]}},\\\"SessionControls\\\":[\\\"CloudAppSecurity\\\"],\\\"PersistentBrowserSessionMode\\\":\\\"NotSet\\\",\\\"EnforceAllPoliciesForEas\\\":false,\\\"IncludeOtherLegacyClientTypeForEvaluation\\\":false,\\\"CasSessionControlType\\\":1}', 'PolicyLastUpdatedTime': '7/29/2020 1:40:53 AM', 'TenantDefaultPolicy': '', 'DisplayName': 'On-Prem SharePoint - MeganB proxy', 'PolicyIdentifierString': ''})\"],[\"Cmd(name='Set-ConditionalAccessPolicy', params={'Identity': 'seccxpninja.onmicrosoft.com\\\\\\\\8872f6fb-da88-4b63-bcc7-17247669596b', 'PolicyDetails': '{\\\"Version\\\":0,\\\"State\\\":\\\"Enabled\\\",\\\"Conditions\\\":{\\\"Applications\\\":{\\\"Include\\\":[{\\\"Applications\\\":[\\\"00000002-0000-0ff1-ce00-000000000000\\\",\\\"09abbdfd-ed23-44ee-a2d9-a627aa1c90f3\\\",\\\"cc15fd57-2c6c-4117-a88c-83b1d56b4bbe\\\",\\\"00000003-0000-0ff1-ce00-000000000000\\\",\\\"00000005-0000-0ff1-ce00-000000000000\\\"]}]},\\\"Users\\\":{\\\"Include\\\":[{\\\"Users\\\":[\\\"eababd92-9dc7-40e3-9359-6c106522db19\\\"]}]}},\\\"SessionControls\\\":[\\\"CloudAppSecurity\\\"],\\\"PersistentBrowserSessionMode\\\":\\\"NotSet\\\",\\\"EnforceAllPoliciesForEas\\\":false,\\\"IncludeOtherLegacyClientTypeForEvaluation\\\":false,\\\"CasSessionControlType\\\":1}', 'PolicyLastUpdatedTime': '7/29/2020 5:15:37 AM', 'TenantDefaultPolicy': '', 'DisplayName': 'MeganB MCAS Proxy', 'PolicyIdentifierString': ''})\",\"Cmd(name='Set-ConditionalAccessPolicy', params={'Identity': 'seccxpninja.onmicrosoft.com\\\\\\\\8872f6fb-da88-4b63-bcc7-17247669596b', 'PolicyDetails': '{\\\"Version\\\":0,\\\"State\\\":\\\"Enabled\\\",\\\"Conditions\\\":{\\\"Applications\\\":{\\\"Include\\\":[{\\\"Applications\\\":[\\\"00000002-0000-0ff1-ce00-000000000000\\\",\\\"09abbdfd-ed23-44ee-a2d9-a627aa1c90f3\\\",\\\"cc15fd57-2c6c-4117-a88c-83b1d56b4bbe\\\",\\\"00000003-0000-0ff1-ce00-000000000000\\\",\\\"00000005-0000-0ff1-ce00-000000000000\\\"]}]},\\\"Users\\\":{\\\"Include\\\":[{\\\"Users\\\":[\\\"eababd92-9dc7-40e3-9359-6c106522db19\\\"]}]}},\\\"SessionControls\\\":[\\\"CloudAppSecurity\\\"],\\\"PersistentBrowserSessionMode\\\":\\\"NotSet\\\",\\\"EnforceAllPoliciesForEas\\\":false,\\\"IncludeOtherLegacyClientTypeForEvaluation\\\":false,\\\"CasSessionControlType\\\":1}', 'PolicyLastUpdatedTime': '7/29/2020 5:15:37 AM', 'TenantDefaultPolicy': '', 'DisplayName': 'MeganB MCAS Proxy', 'PolicyIdentifierString': ''})\"],[\"Cmd(name='Set-ConditionalAccessPolicy', params={'Identity': 'seccxpninja.onmicrosoft.com\\\\\\\\2e76d011-eaa3-40b4-8ce8-7fba52bf3af8', 'PolicyDetails': '{\\\"Version\\\":0,\\\"State\\\":\\\"Reporting\\\",\\\"Conditions\\\":{\\\"Applications\\\":{\\\"Include\\\":[{\\\"Applications\\\":[\\\"f9e8b3d0-ba26-42cd-b544-c90a66191a81\\\"]}]},\\\"Users\\\":{\\\"Include\\\":[{\\\"Users\\\":[\\\"All\\\"]}]}},\\\"SessionControls\\\":[\\\"CloudAppSecurity\\\"],\\\"PersistentBrowserSessionMode\\\":\\\"NotSet\\\",\\\"EnforceAllPoliciesForEas\\\":false,\\\"IncludeOtherLegacyClientTypeForEvaluation\\\":false,\\\"CasSessionControlType\\\":1}', 'PolicyLastUpdatedTime': '7/29/2020 5:15:40 AM', 'TenantDefaultPolicy': '', 'DisplayName': 'On-Prem SharePoint - MeganB proxy', 'PolicyIdentifierString': ''})\",\"Cmd(name='Set-ConditionalAccessPolicy', params={'Identity': 'seccxpninja.onmicrosoft.com\\\\\\\\6490d00c-7ba1-42cf-aa88-99eb71d53bf7', 'PolicyDetails': '{\\\"Version\\\":0,\\\"LastUpdatedTimestamp\\\":\\\"2020-07-02T12:42:35.1866847Z\\\",\\\"State\\\":\\\"Disabled\\\",\\\"SignInFrequency\\\":\\\"NotSet\\\",\\\"PersistentBrowserSessionMode\\\":\\\"NotSet\\\"}', 'PolicyLastUpdatedTime': '7/29/2020 5:15:40 AM', 'TenantDefaultPolicy': '18', 'DisplayName': 'Default Policy', 'PolicyIdentifierString': '5/19/2020 1:39:05 PM'})\"],[\"Cmd(name='Set-ConditionalAccessPolicy', params={'Identity': 'seccxpninja.onmicrosoft.com\\\\\\\\b2915792-0396-4abe-94ec-e17fa17243c5', 'PolicyDetails': '{\\\"Version\\\":0,\\\"State\\\":\\\"Enabled\\\",\\\"Conditions\\\":{\\\"Applications\\\":{\\\"Include\\\":[{\\\"Applications\\\":[\\\"94c63fef-13a3-47bc-8074-75af8c65887a\\\",\\\"c9a559d2-7aab-4f13-a6ed-e7e9c52aec87\\\"]}]},\\\"Users\\\":{\\\"Include\\\":[{\\\"Users\\\":[\\\"bdb72692-2275-412b-8af0-ea21c2ebd174\\\",\\\"eababd92-9dc7-40e3-9359-6c106522db19\\\"]}]},\\\"SignInRisks\\\":{\\\"Include\\\":[{\\\"SignInRisks\\\":[\\\"High\\\",\\\"Medium\\\",\\\"Low\\\"]}]}},\\\"SessionControls\\\":[\\\"CloudAppSecurity\\\"],\\\"PersistentBrowserSessionMode\\\":\\\"NotSet\\\",\\\"EnforceAllPoliciesForEas\\\":false,\\\"IncludeOtherLegacyClientTypeForEvaluation\\\":false,\\\"CasSessionControlType\\\":3}', 'PolicyLastUpdatedTime': '7/30/2020 2:16:46 AM', 'TenantDefaultPolicy': '', 'DisplayName': 'GBB demo', 'PolicyIdentifierString': ''})\",\"Cmd(name='Set-ConditionalAccessPolicy', params={'Identity': 'seccxpninja.onmicrosoft.com\\\\\\\\b2915792-0396-4abe-94ec-e17fa17243c5', 'PolicyDetails': '{\\\"Version\\\":0,\\\"State\\\":\\\"Enabled\\\",\\\"Conditions\\\":{\\\"Applications\\\":{\\\"Include\\\":[{\\\"Applications\\\":[\\\"94c63fef-13a3-47bc-8074-75af8c65887a\\\",\\\"c9a559d2-7aab-4f13-a6ed-e7e9c52aec87\\\"]}]},\\\"Users\\\":{\\\"Include\\\":[{\\\"Users\\\":[\\\"bdb72692-2275-412b-8af0-ea21c2ebd174\\\",\\\"eababd92-9dc7-40e3-9359-6c106522db19\\\"]}]},\\\"SignInRisks\\\":{\\\"Include\\\":[{\\\"SignInRisks\\\":[\\\"High\\\",\\\"Medium\\\",\\\"Low\\\"]}]}},\\\"SessionControls\\\":[\\\"CloudAppSecurity\\\"],\\\"PersistentBrowserSessionMode\\\":\\\"NotSet\\\",\\\"EnforceAllPoliciesForEas\\\":false,\\\"IncludeOtherLegacyClientTypeForEvaluation\\\":false,\\\"CasSessionControlType\\\":3}', 'PolicyLastUpdatedTime': '7/30/2020 2:16:46 AM', 'TenantDefaultPolicy': '', 'DisplayName': 'GBB demo', 'PolicyIdentifierString': ''})\"],[\"Cmd(name='Set-ConditionalAccessPolicy', params={'Identity': 'seccxpninja.onmicrosoft.com\\\\\\\\e183bd29-a3a3-4f91-a5a3-b83b21a544df', 'PolicyDetails': '{\\\"Version\\\":0,\\\"State\\\":\\\"Enabled\\\",\\\"Conditions\\\":{\\\"Applications\\\":{\\\"Include\\\":[{\\\"Applications\\\":[\\\"00000002-0000-0ff1-ce00-000000000000\\\"]}]},\\\"Users\\\":{\\\"Include\\\":[{\\\"Users\\\":[\\\"2935e535-8fdf-4217-865b-e084cb7214f1\\\"]}]}},\\\"SessionControls\\\":[\\\"AppEnforcedRestrictions\\\"],\\\"PersistentBrowserSessionMode\\\":\\\"NotSet\\\",\\\"EnforceAllPoliciesForEas\\\":false,\\\"IncludeOtherLegacyClientTypeForEvaluation\\\":false}', 'PolicyLastUpdatedTime': '7/30/2020 5:13:58 AM', 'TenantDefaultPolicy': '', 'DisplayName': 'JulianI Exchange native controls', 'PolicyIdentifierString': ''})\",\"Cmd(name='Set-ConditionalAccessPolicy', params={'Identity': 'seccxpninja.onmicrosoft.com\\\\\\\\5fd0c4ff-1cd7-4bf6-8607-294a04f58f12', 'PolicyDetails': '{\\\"Version\\\":0,\\\"State\\\":\\\"Disabled\\\",\\\"Conditions\\\":{\\\"Applications\\\":{\\\"Include\\\":[{\\\"Applications\\\":[\\\"All\\\"]}]},\\\"Users\\\":{\\\"Include\\\":[{\\\"Users\\\":[\\\"142512c7-f006-46ae-909c-14fa7bf6a887\\\"]}]}},\\\"Controls\\\":[{\\\"Control\\\":[\\\"Mfa\\\"]}],\\\"EnforceAllPoliciesForEas\\\":false,\\\"IncludeOtherLegacyClientTypeForEvaluation\\\":false}', 'PolicyLastUpdatedTime': '7/30/2020 5:13:58 AM', 'TenantDefaultPolicy': '', 'DisplayName': 'Azure MFA', 'PolicyIdentifierString': ''})\"],[\"Cmd(name='Set-ConditionalAccessPolicy', params={'Identity': 'seccxpninja.onmicrosoft.com\\\\\\\\8872f6fb-da88-4b63-bcc7-17247669596b', 'PolicyDetails': '{\\\"Version\\\":0,\\\"State\\\":\\\"Enabled\\\",\\\"Conditions\\\":{\\\"Applications\\\":{\\\"Include\\\":[{\\\"Applications\\\":[\\\"00000002-0000-0ff1-ce00-000000000000\\\",\\\"09abbdfd-ed23-44ee-a2d9-a627aa1c90f3\\\",\\\"cc15fd57-2c6c-4117-a88c-83b1d56b4bbe\\\",\\\"00000003-0000-0ff1-ce00-000000000000\\\",\\\"00000005-0000-0ff1-ce00-000000000000\\\"]}]},\\\"Users\\\":{\\\"Include\\\":[{\\\"Users\\\":[\\\"eababd92-9dc7-40e3-9359-6c106522db19\\\"]}]}},\\\"SessionControls\\\":[\\\"CloudAppSecurity\\\"],\\\"PersistentBrowserSessionMode\\\":\\\"NotSet\\\",\\\"EnforceAllPoliciesForEas\\\":false,\\\"IncludeOtherLegacyClientTypeForEvaluation\\\":false,\\\"CasSessionControlType\\\":1}', 'PolicyLastUpdatedTime': '7/31/2020 2:40:02 AM', 'TenantDefaultPolicy': '', 'DisplayName': 'MeganB MCAS Proxy', 'PolicyIdentifierString': ''})\",\"Cmd(name='Set-ConditionalAccessPolicy', params={'Identity': 'seccxpninja.onmicrosoft.com\\\\\\\\8872f6fb-da88-4b63-bcc7-17247669596b', 'PolicyDetails': '{\\\"Version\\\":0,\\\"State\\\":\\\"Enabled\\\",\\\"Conditions\\\":{\\\"Applications\\\":{\\\"Include\\\":[{\\\"Applications\\\":[\\\"00000002-0000-0ff1-ce00-000000000000\\\",\\\"09abbdfd-ed23-44ee-a2d9-a627aa1c90f3\\\",\\\"cc15fd57-2c6c-4117-a88c-83b1d56b4bbe\\\",\\\"00000003-0000-0ff1-ce00-000000000000\\\",\\\"00000005-0000-0ff1-ce00-000000000000\\\"]}]},\\\"Users\\\":{\\\"Include\\\":[{\\\"Users\\\":[\\\"eababd92-9dc7-40e3-9359-6c106522db19\\\"]}]}},\\\"SessionControls\\\":[\\\"CloudAppSecurity\\\"],\\\"PersistentBrowserSessionMode\\\":\\\"NotSet\\\",\\\"EnforceAllPoliciesForEas\\\":false,\\\"IncludeOtherLegacyClientTypeForEvaluation\\\":false,\\\"CasSessionControlType\\\":1}', 'PolicyLastUpdatedTime': '7/31/2020 2:40:02 AM', 'TenantDefaultPolicy': '', 'DisplayName': 'MeganB MCAS Proxy', 'PolicyIdentifierString': ''})\"],[\"Cmd(name='Set-ConditionalAccessPolicy', params={'Identity': 'seccxpninja.onmicrosoft.com\\\\\\\\bcd93f74-64fd-4042-a3ae-ee6d48886d6d', 'PolicyDetails': '{\\\"Version\\\":0,\\\"State\\\":\\\"Enabled\\\",\\\"Conditions\\\":{\\\"Applications\\\":{\\\"Include\\\":[{\\\"Applications\\\":[\\\"c9a559d2-7aab-4f13-a6ed-e7e9c52aec87\\\"]}]},\\\"Users\\\":{\\\"Include\\\":[{\\\"Users\\\":[\\\"bdb72692-2275-412b-8af0-ea21c2ebd174\\\",\\\"eababd92-9dc7-40e3-9359-6c106522db19\\\"]}]}},\\\"SessionControls\\\":[\\\"CloudAppSecurity\\\"],\\\"PersistentBrowserSessionMode\\\":\\\"NotSet\\\",\\\"EnforceAllPoliciesForEas\\\":false,\\\"IncludeOtherLegacyClientTypeForEvaluation\\\":false,\\\"CasSessionControlType\\\":3}', 'PolicyLastUpdatedTime': '7/31/2020 2:40:03 AM', 'TenantDefaultPolicy': '', 'DisplayName': 'Form MCAS', 'PolicyIdentifierString': ''})\",\"Cmd(name='Set-ConditionalAccessPolicy', params={'Identity': 'seccxpninja.onmicrosoft.com\\\\\\\\2e76d011-eaa3-40b4-8ce8-7fba52bf3af8', 'PolicyDetails': '{\\\"Version\\\":0,\\\"State\\\":\\\"Reporting\\\",\\\"Conditions\\\":{\\\"Applications\\\":{\\\"Include\\\":[{\\\"Applications\\\":[\\\"f9e8b3d0-ba26-42cd-b544-c90a66191a81\\\"]}]},\\\"Users\\\":{\\\"Include\\\":[{\\\"Users\\\":[\\\"All\\\"]}]}},\\\"SessionControls\\\":[\\\"CloudAppSecurity\\\"],\\\"PersistentBrowserSessionMode\\\":\\\"NotSet\\\",\\\"EnforceAllPoliciesForEas\\\":false,\\\"IncludeOtherLegacyClientTypeForEvaluation\\\":false,\\\"CasSessionControlType\\\":1}', 'PolicyLastUpdatedTime': '7/31/2020 2:40:04 AM', 'TenantDefaultPolicy': '', 'DisplayName': 'On-Prem SharePoint - MeganB proxy', 'PolicyIdentifierString': ''})\"],[\"Cmd(name='Set-ConditionalAccessPolicy', params={'Identity': 'seccxpninja.onmicrosoft.com\\\\\\\\83a057fb-dbca-4ba8-bb5f-0ce6d6e7cff5', 'PolicyDetails': '{\\\"Version\\\":0,\\\"State\\\":\\\"Enabled\\\",\\\"Conditions\\\":{\\\"Applications\\\":{\\\"Include\\\":[{\\\"Acrs\\\":[\\\"urn:microsoft:req1\\\"]}]},\\\"Users\\\":{\\\"Include\\\":[{\\\"Users\\\":[\\\"eababd92-9dc7-40e3-9359-6c106522db19\\\"]}]}},\\\"Controls\\\":[{\\\"Control\\\":[\\\"Mfa\\\"]}],\\\"PersistentBrowserSessionMode\\\":\\\"NotSet\\\",\\\"EnforceAllPoliciesForEas\\\":false,\\\"IncludeOtherLegacyClientTypeForEvaluation\\\":false}', 'PolicyLastUpdatedTime': '7/31/2020 4:58:18 AM', 'TenantDefaultPolicy': '', 'DisplayName': 'MeganB MCAS Step-up', 'PolicyIdentifierString': ''})\",\"Cmd(name='Set-ConditionalAccessPolicy', params={'Identity': 'seccxpninja.onmicrosoft.com\\\\\\\\8872f6fb-da88-4b63-bcc7-17247669596b', 'PolicyDetails': '{\\\"Version\\\":0,\\\"State\\\":\\\"Enabled\\\",\\\"Conditions\\\":{\\\"Applications\\\":{\\\"Include\\\":[{\\\"Applications\\\":[\\\"00000002-0000-0ff1-ce00-000000000000\\\",\\\"09abbdfd-ed23-44ee-a2d9-a627aa1c90f3\\\",\\\"cc15fd57-2c6c-4117-a88c-83b1d56b4bbe\\\",\\\"00000003-0000-0ff1-ce00-000000000000\\\",\\\"00000005-0000-0ff1-ce00-000000000000\\\"]}]},\\\"Users\\\":{\\\"Include\\\":[{\\\"Users\\\":[\\\"eababd92-9dc7-40e3-9359-6c106522db19\\\"]}]}},\\\"SessionControls\\\":[\\\"CloudAppSecurity\\\"],\\\"PersistentBrowserSessionMode\\\":\\\"NotSet\\\",\\\"EnforceAllPoliciesForEas\\\":false,\\\"IncludeOtherLegacyClientTypeForEvaluation\\\":false,\\\"CasSessionControlType\\\":1}', 'PolicyLastUpdatedTime': '7/31/2020 4:58:17 AM', 'TenantDefaultPolicy': '', 'DisplayName': 'MeganB MCAS Proxy', 'PolicyIdentifierString': ''})\"],[\"Cmd(name='Set-ConditionalAccessPolicy', params={'Identity': 'seccxpninja.onmicrosoft.com\\\\\\\\bcd93f74-64fd-4042-a3ae-ee6d48886d6d', 'PolicyDetails': '{\\\"Version\\\":0,\\\"State\\\":\\\"Enabled\\\",\\\"Conditions\\\":{\\\"Applications\\\":{\\\"Include\\\":[{\\\"Applications\\\":[\\\"c9a559d2-7aab-4f13-a6ed-e7e9c52aec87\\\"]}]},\\\"Users\\\":{\\\"Include\\\":[{\\\"Users\\\":[\\\"bdb72692-2275-412b-8af0-ea21c2ebd174\\\",\\\"eababd92-9dc7-40e3-9359-6c106522db19\\\"]}]}},\\\"SessionControls\\\":[\\\"CloudAppSecurity\\\"],\\\"PersistentBrowserSessionMode\\\":\\\"NotSet\\\",\\\"EnforceAllPoliciesForEas\\\":false,\\\"IncludeOtherLegacyClientTypeForEvaluation\\\":false,\\\"CasSessionControlType\\\":3}', 'PolicyLastUpdatedTime': '8/1/2020 2:29:49 AM', 'TenantDefaultPolicy': '', 'DisplayName': 'Form MCAS', 'PolicyIdentifierString': ''})\",\"Cmd(name='Set-ConditionalAccessPolicy', params={'Identity': 'seccxpninja.onmicrosoft.com\\\\\\\\bcd93f74-64fd-4042-a3ae-ee6d48886d6d', 'PolicyDetails': '{\\\"Version\\\":0,\\\"State\\\":\\\"Enabled\\\",\\\"Conditions\\\":{\\\"Applications\\\":{\\\"Include\\\":[{\\\"Applications\\\":[\\\"c9a559d2-7aab-4f13-a6ed-e7e9c52aec87\\\"]}]},\\\"Users\\\":{\\\"Include\\\":[{\\\"Users\\\":[\\\"bdb72692-2275-412b-8af0-ea21c2ebd174\\\",\\\"eababd92-9dc7-40e3-9359-6c106522db19\\\"]}]}},\\\"SessionControls\\\":[\\\"CloudAppSecurity\\\"],\\\"PersistentBrowserSessionMode\\\":\\\"NotSet\\\",\\\"EnforceAllPoliciesForEas\\\":false,\\\"IncludeOtherLegacyClientTypeForEvaluation\\\":false,\\\"CasSessionControlType\\\":3}', 'PolicyLastUpdatedTime': '8/1/2020 2:29:49 AM', 'TenantDefaultPolicy': '', 'DisplayName': 'Form MCAS', 'PolicyIdentifierString': ''})\"],[\"Cmd(name='Set-ConditionalAccessPolicy', params={'Identity': 'seccxpninja.onmicrosoft.com\\\\\\\\8872f6fb-da88-4b63-bcc7-17247669596b', 'PolicyDetails': '{\\\"Version\\\":0,\\\"State\\\":\\\"Enabled\\\",\\\"Conditions\\\":{\\\"Applications\\\":{\\\"Include\\\":[{\\\"Applications\\\":[\\\"00000002-0000-0ff1-ce00-000000000000\\\",\\\"09abbdfd-ed23-44ee-a2d9-a627aa1c90f3\\\",\\\"cc15fd57-2c6c-4117-a88c-83b1d56b4bbe\\\",\\\"00000003-0000-0ff1-ce00-000000000000\\\",\\\"00000005-0000-0ff1-ce00-000000000000\\\"]}]},\\\"Users\\\":{\\\"Include\\\":[{\\\"Users\\\":[\\\"eababd92-9dc7-40e3-9359-6c106522db19\\\"]}]}},\\\"SessionControls\\\":[\\\"CloudAppSecurity\\\"],\\\"PersistentBrowserSessionMode\\\":\\\"NotSet\\\",\\\"EnforceAllPoliciesForEas\\\":false,\\\"IncludeOtherLegacyClientTypeForEvaluation\\\":false,\\\"CasSessionControlType\\\":1}', 'PolicyLastUpdatedTime': '8/1/2020 5:29:05 AM', 'TenantDefaultPolicy': '', 'DisplayName': 'MeganB MCAS Proxy', 'PolicyIdentifierString': ''})\",\"Cmd(name='Set-ConditionalAccessPolicy', params={'Identity': 'seccxpninja.onmicrosoft.com\\\\\\\\8872f6fb-da88-4b63-bcc7-17247669596b', 'PolicyDetails': '{\\\"Version\\\":0,\\\"State\\\":\\\"Enabled\\\",\\\"Conditions\\\":{\\\"Applications\\\":{\\\"Include\\\":[{\\\"Applications\\\":[\\\"00000002-0000-0ff1-ce00-000000000000\\\",\\\"09abbdfd-ed23-44ee-a2d9-a627aa1c90f3\\\",\\\"cc15fd57-2c6c-4117-a88c-83b1d56b4bbe\\\",\\\"00000003-0000-0ff1-ce00-000000000000\\\",\\\"00000005-0000-0ff1-ce00-000000000000\\\"]}]},\\\"Users\\\":{\\\"Include\\\":[{\\\"Users\\\":[\\\"eababd92-9dc7-40e3-9359-6c106522db19\\\"]}]}},\\\"SessionControls\\\":[\\\"CloudAppSecurity\\\"],\\\"PersistentBrowserSessionMode\\\":\\\"NotSet\\\",\\\"EnforceAllPoliciesForEas\\\":false,\\\"IncludeOtherLegacyClientTypeForEvaluation\\\":false,\\\"CasSessionControlType\\\":1}', 'PolicyLastUpdatedTime': '8/1/2020 5:29:05 AM', 'TenantDefaultPolicy': '', 'DisplayName': 'MeganB MCAS Proxy', 'PolicyIdentifierString': ''})\"],[\"Cmd(name='Set-ConditionalAccessPolicy', params={'Identity': 'seccxpninja.onmicrosoft.com\\\\\\\\69c7a12f-b407-45a3-b07e-fa04fc7f273d', 'PolicyDetails': '{\\\"Version\\\":0,\\\"State\\\":\\\"Enabled\\\",\\\"Conditions\\\":{\\\"Applications\\\":{\\\"Include\\\":[{\\\"Applications\\\":[\\\"00000003-0000-0ff1-ce00-000000000000\\\"]}]},\\\"Users\\\":{\\\"Include\\\":[{\\\"Users\\\":[\\\"All\\\"]}]}},\\\"SessionControls\\\":[\\\"CloudAppSecurity\\\"],\\\"PersistentBrowserSessionMode\\\":\\\"NotSet\\\",\\\"EnforceAllPoliciesForEas\\\":false,\\\"IncludeOtherLegacyClientTypeForEvaluation\\\":false,\\\"CasSessionControlType\\\":1}', 'PolicyLastUpdatedTime': '8/1/2020 5:29:08 AM', 'TenantDefaultPolicy': '', 'DisplayName': 'Test Policy', 'PolicyIdentifierString': ''})\",\"Cmd(name='Set-ConditionalAccessPolicy', params={'Identity': 'seccxpninja.onmicrosoft.com\\\\\\\\8837fdaa-aaeb-4432-9622-43f6f583d583', 'PolicyDetails': '{\\\"KnownNetworkPolicies\\\":{\\\"NetworkName\\\":\\\"BE-Office\\\",\\\"NetworkId\\\":\\\"b98b9088-ce88-4fae-80fb-5b58cb1ce685\\\",\\\"CidrIpRanges\\\":[\\\"109.88.218.99/28\\\"],\\\"CountryIsoCodes\\\":null,\\\"Categories\\\":[],\\\"ApplyToUnknownCountry\\\":false}}', 'PolicyLastUpdatedTime': '8/1/2020 5:29:08 AM', 'TenantDefaultPolicy': '6', 'DisplayName': 'Known Networks List', 'PolicyIdentifierString': '3/19/2020 7:45:08 PM'})\"],[\"Cmd(name='Set-ConditionalAccessPolicy', params={'Identity': 'seccxpninja.onmicrosoft.com\\\\\\\\b2915792-0396-4abe-94ec-e17fa17243c5', 'PolicyDetails': '{\\\"Version\\\":0,\\\"State\\\":\\\"Enabled\\\",\\\"Conditions\\\":{\\\"Applications\\\":{\\\"Include\\\":[{\\\"Applications\\\":[\\\"94c63fef-13a3-47bc-8074-75af8c65887a\\\",\\\"c9a559d2-7aab-4f13-a6ed-e7e9c52aec87\\\"]}]},\\\"Users\\\":{\\\"Include\\\":[{\\\"Users\\\":[\\\"bdb72692-2275-412b-8af0-ea21c2ebd174\\\",\\\"eababd92-9dc7-40e3-9359-6c106522db19\\\"]}]},\\\"SignInRisks\\\":{\\\"Include\\\":[{\\\"SignInRisks\\\":[\\\"High\\\",\\\"Medium\\\",\\\"Low\\\"]}]}},\\\"SessionControls\\\":[\\\"CloudAppSecurity\\\"],\\\"PersistentBrowserSessionMode\\\":\\\"NotSet\\\",\\\"EnforceAllPoliciesForEas\\\":false,\\\"IncludeOtherLegacyClientTypeForEvaluation\\\":false,\\\"CasSessionControlType\\\":3}', 'PolicyLastUpdatedTime': '8/2/2020 2:12:56 AM', 'TenantDefaultPolicy': '', 'DisplayName': 'GBB demo', 'PolicyIdentifierString': ''})\",\"Cmd(name='Set-ConditionalAccessPolicy', params={'Identity': 'seccxpninja.onmicrosoft.com\\\\\\\\5fd0c4ff-1cd7-4bf6-8607-294a04f58f12', 'PolicyDetails': '{\\\"Version\\\":0,\\\"State\\\":\\\"Disabled\\\",\\\"Conditions\\\":{\\\"Applications\\\":{\\\"Include\\\":[{\\\"Applications\\\":[\\\"All\\\"]}]},\\\"Users\\\":{\\\"Include\\\":[{\\\"Users\\\":[\\\"142512c7-f006-46ae-909c-14fa7bf6a887\\\"]}]}},\\\"Controls\\\":[{\\\"Control\\\":[\\\"Mfa\\\"]}],\\\"EnforceAllPoliciesForEas\\\":false,\\\"IncludeOtherLegacyClientTypeForEvaluation\\\":false}', 'PolicyLastUpdatedTime': '8/2/2020 2:12:56 AM', 'TenantDefaultPolicy': '', 'DisplayName': 'Azure MFA', 'PolicyIdentifierString': ''})\"],[\"Cmd(name='Set-ConditionalAccessPolicy', params={'Identity': 'seccxpninja.onmicrosoft.com\\\\\\\\8872f6fb-da88-4b63-bcc7-17247669596b', 'PolicyDetails': '{\\\"Version\\\":0,\\\"State\\\":\\\"Enabled\\\",\\\"Conditions\\\":{\\\"Applications\\\":{\\\"Include\\\":[{\\\"Applications\\\":[\\\"00000002-0000-0ff1-ce00-000000000000\\\",\\\"09abbdfd-ed23-44ee-a2d9-a627aa1c90f3\\\",\\\"cc15fd57-2c6c-4117-a88c-83b1d56b4bbe\\\",\\\"00000003-0000-0ff1-ce00-000000000000\\\",\\\"00000005-0000-0ff1-ce00-000000000000\\\"]}]},\\\"Users\\\":{\\\"Include\\\":[{\\\"Users\\\":[\\\"eababd92-9dc7-40e3-9359-6c106522db19\\\"]}]}},\\\"SessionControls\\\":[\\\"CloudAppSecurity\\\"],\\\"PersistentBrowserSessionMode\\\":\\\"NotSet\\\",\\\"EnforceAllPoliciesForEas\\\":false,\\\"IncludeOtherLegacyClientTypeForEvaluation\\\":false,\\\"CasSessionControlType\\\":1}', 'PolicyLastUpdatedTime': '8/2/2020 5:26:58 AM', 'TenantDefaultPolicy': '', 'DisplayName': 'MeganB MCAS Proxy', 'PolicyIdentifierString': ''})\",\"Cmd(name='Set-ConditionalAccessPolicy', params={'Identity': 'seccxpninja.onmicrosoft.com\\\\\\\\b2915792-0396-4abe-94ec-e17fa17243c5', 'PolicyDetails': '{\\\"Version\\\":0,\\\"State\\\":\\\"Enabled\\\",\\\"Conditions\\\":{\\\"Applications\\\":{\\\"Include\\\":[{\\\"Applications\\\":[\\\"94c63fef-13a3-47bc-8074-75af8c65887a\\\",\\\"c9a559d2-7aab-4f13-a6ed-e7e9c52aec87\\\"]}]},\\\"Users\\\":{\\\"Include\\\":[{\\\"Users\\\":[\\\"bdb72692-2275-412b-8af0-ea21c2ebd174\\\",\\\"eababd92-9dc7-40e3-9359-6c106522db19\\\"]}]},\\\"SignInRisks\\\":{\\\"Include\\\":[{\\\"SignInRisks\\\":[\\\"High\\\",\\\"Medium\\\",\\\"Low\\\"]}]}},\\\"SessionControls\\\":[\\\"CloudAppSecurity\\\"],\\\"PersistentBrowserSessionMode\\\":\\\"NotSet\\\",\\\"EnforceAllPoliciesForEas\\\":false,\\\"IncludeOtherLegacyClientTypeForEvaluation\\\":false,\\\"CasSessionControlType\\\":3}', 'PolicyLastUpdatedTime': '8/2/2020 5:27:00 AM', 'TenantDefaultPolicy': '', 'DisplayName': 'GBB demo', 'PolicyIdentifierString': ''})\"],[\"Cmd(name='Set-ConditionalAccessPolicy', params={'Identity': 'seccxpninja.onmicrosoft.com\\\\\\\\8872f6fb-da88-4b63-bcc7-17247669596b', 'PolicyDetails': '{\\\"Version\\\":0,\\\"State\\\":\\\"Enabled\\\",\\\"Conditions\\\":{\\\"Applications\\\":{\\\"Include\\\":[{\\\"Applications\\\":[\\\"00000002-0000-0ff1-ce00-000000000000\\\",\\\"09abbdfd-ed23-44ee-a2d9-a627aa1c90f3\\\",\\\"cc15fd57-2c6c-4117-a88c-83b1d56b4bbe\\\",\\\"00000003-0000-0ff1-ce00-000000000000\\\",\\\"00000005-0000-0ff1-ce00-000000000000\\\"]}]},\\\"Users\\\":{\\\"Include\\\":[{\\\"Users\\\":[\\\"eababd92-9dc7-40e3-9359-6c106522db19\\\"]}]}},\\\"SessionControls\\\":[\\\"CloudAppSecurity\\\"],\\\"PersistentBrowserSessionMode\\\":\\\"NotSet\\\",\\\"EnforceAllPoliciesForEas\\\":false,\\\"IncludeOtherLegacyClientTypeForEvaluation\\\":false,\\\"CasSessionControlType\\\":1}', 'PolicyLastUpdatedTime': '8/3/2020 2:09:01 AM', 'TenantDefaultPolicy': '', 'DisplayName': 'MeganB MCAS Proxy', 'PolicyIdentifierString': ''})\",\"Cmd(name='Set-ConditionalAccessPolicy', params={'Identity': 'seccxpninja.onmicrosoft.com\\\\\\\\8872f6fb-da88-4b63-bcc7-17247669596b', 'PolicyDetails': '{\\\"Version\\\":0,\\\"State\\\":\\\"Enabled\\\",\\\"Conditions\\\":{\\\"Applications\\\":{\\\"Include\\\":[{\\\"Applications\\\":[\\\"00000002-0000-0ff1-ce00-000000000000\\\",\\\"09abbdfd-ed23-44ee-a2d9-a627aa1c90f3\\\",\\\"cc15fd57-2c6c-4117-a88c-83b1d56b4bbe\\\",\\\"00000003-0000-0ff1-ce00-000000000000\\\",\\\"00000005-0000-0ff1-ce00-000000000000\\\"]}]},\\\"Users\\\":{\\\"Include\\\":[{\\\"Users\\\":[\\\"eababd92-9dc7-40e3-9359-6c106522db19\\\"]}]}},\\\"SessionControls\\\":[\\\"CloudAppSecurity\\\"],\\\"PersistentBrowserSessionMode\\\":\\\"NotSet\\\",\\\"EnforceAllPoliciesForEas\\\":false,\\\"IncludeOtherLegacyClientTypeForEvaluation\\\":false,\\\"CasSessionControlType\\\":1}', 'PolicyLastUpdatedTime': '8/3/2020 2:09:01 AM', 'TenantDefaultPolicy': '', 'DisplayName': 'MeganB MCAS Proxy', 'PolicyIdentifierString': ''})\"],[\"Cmd(name='Set-ConditionalAccessPolicy', params={'Identity': 'seccxpninja.onmicrosoft.com\\\\\\\\235bec94-f744-48ac-8314-5675953d2def', 'PolicyDetails': '{\\\"Version\\\":0,\\\"State\\\":\\\"Disabled\\\",\\\"Conditions\\\":{\\\"Applications\\\":{\\\"Include\\\":[{\\\"Applications\\\":[\\\"All\\\"]}]},\\\"Users\\\":{\\\"Include\\\":[{\\\"Users\\\":[\\\"eababd92-9dc7-40e3-9359-6c106522db19\\\"]}]},\\\"DevicePlatforms\\\":{\\\"Include\\\":[{\\\"DevicePlatforms\\\":[\\\"All\\\"]}],\\\"Exclude\\\":[{\\\"DevicePlatforms\\\":[\\\"macOS\\\"]}]}},\\\"Controls\\\":[{\\\"Control\\\":[\\\"Mfa\\\"]}],\\\"PersistentBrowserSessionMode\\\":\\\"NotSet\\\",\\\"EnforceAllPoliciesForEas\\\":false,\\\"IncludeOtherLegacyClientTypeForEvaluation\\\":false}', 'PolicyLastUpdatedTime': '8/3/2020 2:09:02 AM', 'TenantDefaultPolicy': '', 'DisplayName': 'Megan MFA demo', 'PolicyIdentifierString': ''})\",\"Cmd(name='Set-ConditionalAccessPolicy', params={'Identity': 'seccxpninja.onmicrosoft.com\\\\\\\\4c5a5ea0-5d9f-4730-baaa-7a69cf29ef26', 'PolicyDetails': '{\\\"Version\\\":0,\\\"State\\\":\\\"Enabled\\\",\\\"Conditions\\\":{\\\"Applications\\\":{\\\"Include\\\":[{\\\"Applications\\\":[\\\"All\\\"]}]},\\\"Users\\\":{\\\"Include\\\":[{\\\"Users\\\":[\\\"bdb72692-2275-412b-8af0-ea21c2ebd174\\\"]}]}},\\\"Controls\\\":[{\\\"Control\\\":[\\\"Mfa\\\"]}],\\\"PersistentBrowserSessionMode\\\":\\\"NotSet\\\",\\\"EnforceAllPoliciesForEas\\\":false,\\\"IncludeOtherLegacyClientTypeForEvaluation\\\":false}', 'PolicyLastUpdatedTime': '8/3/2020 2:09:04 AM', 'TenantDefaultPolicy': '', 'DisplayName': 'Semolen - Admin MFA', 'PolicyIdentifierString': ''})\"],[\"Cmd(name='Set-ConditionalAccessPolicy', params={'Identity': 'seccxpninja.onmicrosoft.com\\\\\\\\8837fdaa-aaeb-4432-9622-43f6f583d583', 'PolicyDetails': '{\\\"KnownNetworkPolicies\\\":{\\\"NetworkName\\\":\\\"BE-Office\\\",\\\"NetworkId\\\":\\\"b98b9088-ce88-4fae-80fb-5b58cb1ce685\\\",\\\"CidrIpRanges\\\":[\\\"109.88.218.99/28\\\"],\\\"CountryIsoCodes\\\":null,\\\"Categories\\\":[],\\\"ApplyToUnknownCountry\\\":false}}', 'PolicyLastUpdatedTime': '8/3/2020 5:18:08 AM', 'TenantDefaultPolicy': '6', 'DisplayName': 'Known Networks List', 'PolicyIdentifierString': '3/19/2020 7:45:08 PM'})\",\"Cmd(name='Set-ConditionalAccessPolicy', params={'Identity': 'seccxpninja.onmicrosoft.com\\\\\\\\e183bd29-a3a3-4f91-a5a3-b83b21a544df', 'PolicyDetails': '{\\\"Version\\\":0,\\\"State\\\":\\\"Enabled\\\",\\\"Conditions\\\":{\\\"Applications\\\":{\\\"Include\\\":[{\\\"Applications\\\":[\\\"00000002-0000-0ff1-ce00-000000000000\\\"]}]},\\\"Users\\\":{\\\"Include\\\":[{\\\"Users\\\":[\\\"2935e535-8fdf-4217-865b-e084cb7214f1\\\"]}]}},\\\"SessionControls\\\":[\\\"AppEnforcedRestrictions\\\"],\\\"PersistentBrowserSessionMode\\\":\\\"NotSet\\\",\\\"EnforceAllPoliciesForEas\\\":false,\\\"IncludeOtherLegacyClientTypeForEvaluation\\\":false}', 'PolicyLastUpdatedTime': '8/3/2020 5:18:07 AM', 'TenantDefaultPolicy': '', 'DisplayName': 'JulianI Exchange native controls', 'PolicyIdentifierString': ''})\"],[\"Cmd(name='Set-ConditionalAccessPolicy', params={'Identity': 'seccxpninja.onmicrosoft.com\\\\\\\\8837fdaa-aaeb-4432-9622-43f6f583d583', 'PolicyDetails': '{\\\"KnownNetworkPolicies\\\":{\\\"NetworkName\\\":\\\"BE-Office\\\",\\\"NetworkId\\\":\\\"b98b9088-ce88-4fae-80fb-5b58cb1ce685\\\",\\\"CidrIpRanges\\\":[\\\"109.88.218.99/28\\\"],\\\"CountryIsoCodes\\\":null,\\\"Categories\\\":[],\\\"ApplyToUnknownCountry\\\":false}}', 'PolicyLastUpdatedTime': '8/4/2020 1:49:57 AM', 'TenantDefaultPolicy': '6', 'DisplayName': 'Known Networks List', 'PolicyIdentifierString': '3/19/2020 7:45:08 PM'})\",\"Cmd(name='Set-ConditionalAccessPolicy', params={'Identity': 'seccxpninja.onmicrosoft.com\\\\\\\\8872f6fb-da88-4b63-bcc7-17247669596b', 'PolicyDetails': '{\\\"Version\\\":0,\\\"State\\\":\\\"Enabled\\\",\\\"Conditions\\\":{\\\"Applications\\\":{\\\"Include\\\":[{\\\"Applications\\\":[\\\"00000002-0000-0ff1-ce00-000000000000\\\",\\\"09abbdfd-ed23-44ee-a2d9-a627aa1c90f3\\\",\\\"cc15fd57-2c6c-4117-a88c-83b1d56b4bbe\\\",\\\"00000003-0000-0ff1-ce00-000000000000\\\",\\\"00000005-0000-0ff1-ce00-000000000000\\\"]}]},\\\"Users\\\":{\\\"Include\\\":[{\\\"Users\\\":[\\\"eababd92-9dc7-40e3-9359-6c106522db19\\\"]}]}},\\\"SessionControls\\\":[\\\"CloudAppSecurity\\\"],\\\"PersistentBrowserSessionMode\\\":\\\"NotSet\\\",\\\"EnforceAllPoliciesForEas\\\":false,\\\"IncludeOtherLegacyClientTypeForEvaluation\\\":false,\\\"CasSessionControlType\\\":1}', 'PolicyLastUpdatedTime': '8/4/2020 1:49:52 AM', 'TenantDefaultPolicy': '', 'DisplayName': 'MeganB MCAS Proxy', 'PolicyIdentifierString': ''})\"],[\"Cmd(name='Set-ConditionalAccessPolicy', params={'Identity': 'seccxpninja.onmicrosoft.com\\\\\\\\235bec94-f744-48ac-8314-5675953d2def', 'PolicyDetails': '{\\\"Version\\\":0,\\\"State\\\":\\\"Disabled\\\",\\\"Conditions\\\":{\\\"Applications\\\":{\\\"Include\\\":[{\\\"Applications\\\":[\\\"All\\\"]}]},\\\"Users\\\":{\\\"Include\\\":[{\\\"Users\\\":[\\\"eababd92-9dc7-40e3-9359-6c106522db19\\\"]}]},\\\"DevicePlatforms\\\":{\\\"Include\\\":[{\\\"DevicePlatforms\\\":[\\\"All\\\"]}],\\\"Exclude\\\":[{\\\"DevicePlatforms\\\":[\\\"macOS\\\"]}]}},\\\"Controls\\\":[{\\\"Control\\\":[\\\"Mfa\\\"]}],\\\"PersistentBrowserSessionMode\\\":\\\"NotSet\\\",\\\"EnforceAllPoliciesForEas\\\":false,\\\"IncludeOtherLegacyClientTypeForEvaluation\\\":false}', 'PolicyLastUpdatedTime': '8/4/2020 5:28:36 AM', 'TenantDefaultPolicy': '', 'DisplayName': 'Megan MFA demo', 'PolicyIdentifierString': ''})\",\"Cmd(name='Set-ConditionalAccessPolicy', params={'Identity': 'seccxpninja.onmicrosoft.com\\\\\\\\6490d00c-7ba1-42cf-aa88-99eb71d53bf7', 'PolicyDetails': '{\\\"Version\\\":0,\\\"LastUpdatedTimestamp\\\":\\\"2020-07-02T12:42:35.1866847Z\\\",\\\"State\\\":\\\"Disabled\\\",\\\"SignInFrequency\\\":\\\"NotSet\\\",\\\"PersistentBrowserSessionMode\\\":\\\"NotSet\\\"}', 'PolicyLastUpdatedTime': '8/4/2020 5:28:36 AM', 'TenantDefaultPolicy': '18', 'DisplayName': 'Default Policy', 'PolicyIdentifierString': '5/19/2020 1:39:05 PM'})\"],[\"Cmd(name='Set-ConditionalAccessPolicy', params={'Identity': 'seccxpninja.onmicrosoft.com\\\\\\\\69c7a12f-b407-45a3-b07e-fa04fc7f273d', 'PolicyDetails': '{\\\"Version\\\":0,\\\"State\\\":\\\"Enabled\\\",\\\"Conditions\\\":{\\\"Applications\\\":{\\\"Include\\\":[{\\\"Applications\\\":[\\\"00000003-0000-0ff1-ce00-000000000000\\\"]}]},\\\"Users\\\":{\\\"Include\\\":[{\\\"Users\\\":[\\\"All\\\"]}]}},\\\"SessionControls\\\":[\\\"CloudAppSecurity\\\"],\\\"PersistentBrowserSessionMode\\\":\\\"NotSet\\\",\\\"EnforceAllPoliciesForEas\\\":false,\\\"IncludeOtherLegacyClientTypeForEvaluation\\\":false,\\\"CasSessionControlType\\\":1}', 'PolicyLastUpdatedTime': '8/5/2020 2:23:25 AM', 'TenantDefaultPolicy': '', 'DisplayName': 'Test Policy', 'PolicyIdentifierString': ''})\",\"Cmd(name='Set-ConditionalAccessPolicy', params={'Identity': 'seccxpninja.onmicrosoft.com\\\\\\\\3b13ea3c-c733-4eb8-bd19-67d308b2ea04', 'PolicyDetails': '{\\\"Version\\\":0,\\\"CreatedDateTime\\\":\\\"2020-05-19T13:34:15.2394934Z\\\",\\\"ModifiedDateTime\\\":\\\"2020-05-19T13:39:04.7333386Z\\\",\\\"State\\\":\\\"Reporting\\\",\\\"Conditions\\\":{\\\"Applications\\\":{\\\"Include\\\":[{\\\"Applications\\\":[\\\"None\\\"]}]},\\\"Users\\\":{\\\"Include\\\":[{\\\"Users\\\":[\\\"Guests\\\"]}]},\\\"DevicePlatforms\\\":{\\\"Include\\\":[{\\\"DevicePlatforms\\\":[\\\"All\\\"]}],\\\"Exclude\\\":[{\\\"DevicePlatforms\\\":[\\\"Android\\\",\\\"iOS\\\",\\\"macOS\\\"]}]},\\\"ClientTypes\\\":{\\\"Include\\\":[{\\\"ClientTypes\\\":[\\\"Browser\\\",\\\"Native\\\"]}]}},\\\"Controls\\\":[{\\\"Control\\\":[\\\"Mfa\\\",\\\"RequireCompliantDevice\\\"]}]}', 'PolicyLastUpdatedTime': '8/5/2020 2:23:25 AM', 'TenantDefaultPolicy': '', 'DisplayName': 'Yanivsh -CA Test', 'PolicyIdentifierString': ''})\"],[\"Cmd(name='Set-ConditionalAccessPolicy', params={'Identity': 'seccxpninja.onmicrosoft.com\\\\\\\\2e76d011-eaa3-40b4-8ce8-7fba52bf3af8', 'PolicyDetails': '{\\\"Version\\\":0,\\\"State\\\":\\\"Reporting\\\",\\\"Conditions\\\":{\\\"Applications\\\":{\\\"Include\\\":[{\\\"Applications\\\":[\\\"f9e8b3d0-ba26-42cd-b544-c90a66191a81\\\"]}]},\\\"Users\\\":{\\\"Include\\\":[{\\\"Users\\\":[\\\"All\\\"]}]}},\\\"SessionControls\\\":[\\\"CloudAppSecurity\\\"],\\\"PersistentBrowserSessionMode\\\":\\\"NotSet\\\",\\\"EnforceAllPoliciesForEas\\\":false,\\\"IncludeOtherLegacyClientTypeForEvaluation\\\":false,\\\"CasSessionControlType\\\":1}', 'PolicyLastUpdatedTime': '8/5/2020 5:15:31 AM', 'TenantDefaultPolicy': '', 'DisplayName': 'On-Prem SharePoint - MeganB proxy', 'PolicyIdentifierString': ''})\",\"Cmd(name='Set-ConditionalAccessPolicy', params={'Identity': 'seccxpninja.onmicrosoft.com\\\\\\\\b2915792-0396-4abe-94ec-e17fa17243c5', 'PolicyDetails': '{\\\"Version\\\":0,\\\"State\\\":\\\"Enabled\\\",\\\"Conditions\\\":{\\\"Applications\\\":{\\\"Include\\\":[{\\\"Applications\\\":[\\\"94c63fef-13a3-47bc-8074-75af8c65887a\\\",\\\"c9a559d2-7aab-4f13-a6ed-e7e9c52aec87\\\"]}]},\\\"Users\\\":{\\\"Include\\\":[{\\\"Users\\\":[\\\"bdb72692-2275-412b-8af0-ea21c2ebd174\\\",\\\"eababd92-9dc7-40e3-9359-6c106522db19\\\"]}]},\\\"SignInRisks\\\":{\\\"Include\\\":[{\\\"SignInRisks\\\":[\\\"High\\\",\\\"Medium\\\",\\\"Low\\\"]}]}},\\\"SessionControls\\\":[\\\"CloudAppSecurity\\\"],\\\"PersistentBrowserSessionMode\\\":\\\"NotSet\\\",\\\"EnforceAllPoliciesForEas\\\":false,\\\"IncludeOtherLegacyClientTypeForEvaluation\\\":false,\\\"CasSessionControlType\\\":3}', 'PolicyLastUpdatedTime': '8/5/2020 5:15:30 AM', 'TenantDefaultPolicy': '', 'DisplayName': 'GBB demo', 'PolicyIdentifierString': ''})\"],[\"Cmd(name='Set-ConditionalAccessPolicy', params={'Identity': 'seccxpninja.onmicrosoft.com\\\\\\\\83a057fb-dbca-4ba8-bb5f-0ce6d6e7cff5', 'PolicyDetails': '{\\\"Version\\\":0,\\\"State\\\":\\\"Enabled\\\",\\\"Conditions\\\":{\\\"Applications\\\":{\\\"Include\\\":[{\\\"Acrs\\\":[\\\"urn:microsoft:req1\\\"]}]},\\\"Users\\\":{\\\"Include\\\":[{\\\"Users\\\":[\\\"eababd92-9dc7-40e3-9359-6c106522db19\\\"]}]}},\\\"Controls\\\":[{\\\"Control\\\":[\\\"Mfa\\\"]}],\\\"PersistentBrowserSessionMode\\\":\\\"NotSet\\\",\\\"EnforceAllPoliciesForEas\\\":false,\\\"IncludeOtherLegacyClientTypeForEvaluation\\\":false}', 'PolicyLastUpdatedTime': '8/5/2020 5:15:30 AM', 'TenantDefaultPolicy': '', 'DisplayName': 'MeganB MCAS Step-up', 'PolicyIdentifierString': ''})\",\"Cmd(name='Set-ConditionalAccessPolicy', params={'Identity': 'seccxpninja.onmicrosoft.com\\\\\\\\8837fdaa-aaeb-4432-9622-43f6f583d583', 'PolicyDetails': '{\\\"KnownNetworkPolicies\\\":{\\\"NetworkName\\\":\\\"BE-Office\\\",\\\"NetworkId\\\":\\\"b98b9088-ce88-4fae-80fb-5b58cb1ce685\\\",\\\"CidrIpRanges\\\":[\\\"109.88.218.99/28\\\"],\\\"CountryIsoCodes\\\":null,\\\"Categories\\\":[],\\\"ApplyToUnknownCountry\\\":false}}', 'PolicyLastUpdatedTime': '8/5/2020 5:15:33 AM', 'TenantDefaultPolicy': '6', 'DisplayName': 'Known Networks List', 'PolicyIdentifierString': '3/19/2020 7:45:08 PM'})\"],[\"Cmd(name='Set-ConditionalAccessPolicy', params={'Identity': 'seccxpninja.onmicrosoft.com\\\\\\\\69c7a12f-b407-45a3-b07e-fa04fc7f273d', 'PolicyDetails': '{\\\"Version\\\":0,\\\"State\\\":\\\"Enabled\\\",\\\"Conditions\\\":{\\\"Applications\\\":{\\\"Include\\\":[{\\\"Applications\\\":[\\\"00000003-0000-0ff1-ce00-000000000000\\\"]}]},\\\"Users\\\":{\\\"Include\\\":[{\\\"Users\\\":[\\\"All\\\"]}]}},\\\"SessionControls\\\":[\\\"CloudAppSecurity\\\"],\\\"PersistentBrowserSessionMode\\\":\\\"NotSet\\\",\\\"EnforceAllPoliciesForEas\\\":false,\\\"IncludeOtherLegacyClientTypeForEvaluation\\\":false,\\\"CasSessionControlType\\\":1}', 'PolicyLastUpdatedTime': '8/5/2020 5:15:32 AM', 'TenantDefaultPolicy': '', 'DisplayName': 'Test Policy', 'PolicyIdentifierString': ''})\",\"Cmd(name='Set-ConditionalAccessPolicy', params={'Identity': 'seccxpninja.onmicrosoft.com\\\\\\\\b2915792-0396-4abe-94ec-e17fa17243c5', 'PolicyDetails': '{\\\"Version\\\":0,\\\"State\\\":\\\"Enabled\\\",\\\"Conditions\\\":{\\\"Applications\\\":{\\\"Include\\\":[{\\\"Applications\\\":[\\\"94c63fef-13a3-47bc-8074-75af8c65887a\\\",\\\"c9a559d2-7aab-4f13-a6ed-e7e9c52aec87\\\"]}]},\\\"Users\\\":{\\\"Include\\\":[{\\\"Users\\\":[\\\"bdb72692-2275-412b-8af0-ea21c2ebd174\\\",\\\"eababd92-9dc7-40e3-9359-6c106522db19\\\"]}]},\\\"SignInRisks\\\":{\\\"Include\\\":[{\\\"SignInRisks\\\":[\\\"High\\\",\\\"Medium\\\",\\\"Low\\\"]}]}},\\\"SessionControls\\\":[\\\"CloudAppSecurity\\\"],\\\"PersistentBrowserSessionMode\\\":\\\"NotSet\\\",\\\"EnforceAllPoliciesForEas\\\":false,\\\"IncludeOtherLegacyClientTypeForEvaluation\\\":false,\\\"CasSessionControlType\\\":3}', 'PolicyLastUpdatedTime': '8/5/2020 5:15:30 AM', 'TenantDefaultPolicy': '', 'DisplayName': 'GBB demo', 'PolicyIdentifierString': ''})\"],[\"Cmd(name='Set-ConditionalAccessPolicy', params={'Identity': 'seccxpninja.onmicrosoft.com\\\\\\\\235bec94-f744-48ac-8314-5675953d2def', 'PolicyDetails': '{\\\"Version\\\":0,\\\"State\\\":\\\"Disabled\\\",\\\"Conditions\\\":{\\\"Applications\\\":{\\\"Include\\\":[{\\\"Applications\\\":[\\\"All\\\"]}]},\\\"Users\\\":{\\\"Include\\\":[{\\\"Users\\\":[\\\"eababd92-9dc7-40e3-9359-6c106522db19\\\"]}]},\\\"DevicePlatforms\\\":{\\\"Include\\\":[{\\\"DevicePlatforms\\\":[\\\"All\\\"]}],\\\"Exclude\\\":[{\\\"DevicePlatforms\\\":[\\\"macOS\\\"]}]}},\\\"Controls\\\":[{\\\"Control\\\":[\\\"Mfa\\\"]}],\\\"PersistentBrowserSessionMode\\\":\\\"NotSet\\\",\\\"EnforceAllPoliciesForEas\\\":false,\\\"IncludeOtherLegacyClientTypeForEvaluation\\\":false}', 'PolicyLastUpdatedTime': '8/5/2020 5:15:29 AM', 'TenantDefaultPolicy': '', 'DisplayName': 'Megan MFA demo', 'PolicyIdentifierString': ''})\",\"Cmd(name='Set-ConditionalAccessPolicy', params={'Identity': 'seccxpninja.onmicrosoft.com\\\\\\\\4c5a5ea0-5d9f-4730-baaa-7a69cf29ef26', 'PolicyDetails': '{\\\"Version\\\":0,\\\"State\\\":\\\"Enabled\\\",\\\"Conditions\\\":{\\\"Applications\\\":{\\\"Include\\\":[{\\\"Applications\\\":[\\\"All\\\"]}]},\\\"Users\\\":{\\\"Include\\\":[{\\\"Users\\\":[\\\"bdb72692-2275-412b-8af0-ea21c2ebd174\\\"]}]}},\\\"Controls\\\":[{\\\"Control\\\":[\\\"Mfa\\\"]}],\\\"PersistentBrowserSessionMode\\\":\\\"NotSet\\\",\\\"EnforceAllPoliciesForEas\\\":false,\\\"IncludeOtherLegacyClientTypeForEvaluation\\\":false}', 'PolicyLastUpdatedTime': '8/5/2020 5:15:31 AM', 'TenantDefaultPolicy': '', 'DisplayName': 'Semolen - Admin MFA', 'PolicyIdentifierString': ''})\"],[\"Cmd(name='Set-ConditionalAccessPolicy', params={'Identity': 'seccxpninja.onmicrosoft.com\\\\\\\\235bec94-f744-48ac-8314-5675953d2def', 'PolicyDetails': '{\\\"Version\\\":0,\\\"State\\\":\\\"Disabled\\\",\\\"Conditions\\\":{\\\"Applications\\\":{\\\"Include\\\":[{\\\"Applications\\\":[\\\"All\\\"]}]},\\\"Users\\\":{\\\"Include\\\":[{\\\"Users\\\":[\\\"eababd92-9dc7-40e3-9359-6c106522db19\\\"]}]},\\\"DevicePlatforms\\\":{\\\"Include\\\":[{\\\"DevicePlatforms\\\":[\\\"All\\\"]}],\\\"Exclude\\\":[{\\\"DevicePlatforms\\\":[\\\"macOS\\\"]}]}},\\\"Controls\\\":[{\\\"Control\\\":[\\\"Mfa\\\"]}],\\\"PersistentBrowserSessionMode\\\":\\\"NotSet\\\",\\\"EnforceAllPoliciesForEas\\\":false,\\\"IncludeOtherLegacyClientTypeForEvaluation\\\":false}', 'PolicyLastUpdatedTime': '8/6/2020 2:16:15 AM', 'TenantDefaultPolicy': '', 'DisplayName': 'Megan MFA demo', 'PolicyIdentifierString': ''})\",\"Cmd(name='Set-ConditionalAccessPolicy', params={'Identity': 'seccxpninja.onmicrosoft.com\\\\\\\\2e76d011-eaa3-40b4-8ce8-7fba52bf3af8', 'PolicyDetails': '{\\\"Version\\\":0,\\\"State\\\":\\\"Reporting\\\",\\\"Conditions\\\":{\\\"Applications\\\":{\\\"Include\\\":[{\\\"Applications\\\":[\\\"f9e8b3d0-ba26-42cd-b544-c90a66191a81\\\"]}]},\\\"Users\\\":{\\\"Include\\\":[{\\\"Users\\\":[\\\"All\\\"]}]}},\\\"SessionControls\\\":[\\\"CloudAppSecurity\\\"],\\\"PersistentBrowserSessionMode\\\":\\\"NotSet\\\",\\\"EnforceAllPoliciesForEas\\\":false,\\\"IncludeOtherLegacyClientTypeForEvaluation\\\":false,\\\"CasSessionControlType\\\":1}', 'PolicyLastUpdatedTime': '8/6/2020 2:16:16 AM', 'TenantDefaultPolicy': '', 'DisplayName': 'On-Prem SharePoint - MeganB proxy', 'PolicyIdentifierString': ''})\"],[\"Cmd(name='Set-ConditionalAccessPolicy', params={'Identity': 'seccxpninja.onmicrosoft.com\\\\\\\\2e76d011-eaa3-40b4-8ce8-7fba52bf3af8', 'PolicyDetails': '{\\\"Version\\\":0,\\\"State\\\":\\\"Reporting\\\",\\\"Conditions\\\":{\\\"Applications\\\":{\\\"Include\\\":[{\\\"Applications\\\":[\\\"f9e8b3d0-ba26-42cd-b544-c90a66191a81\\\"]}]},\\\"Users\\\":{\\\"Include\\\":[{\\\"Users\\\":[\\\"All\\\"]}]}},\\\"SessionControls\\\":[\\\"CloudAppSecurity\\\"],\\\"PersistentBrowserSessionMode\\\":\\\"NotSet\\\",\\\"EnforceAllPoliciesForEas\\\":false,\\\"IncludeOtherLegacyClientTypeForEvaluation\\\":false,\\\"CasSessionControlType\\\":1}', 'PolicyLastUpdatedTime': '8/6/2020 5:18:56 AM', 'TenantDefaultPolicy': '', 'DisplayName': 'On-Prem SharePoint - MeganB proxy', 'PolicyIdentifierString': ''})\",\"Cmd(name='Set-ConditionalAccessPolicy', params={'Identity': 'seccxpninja.onmicrosoft.com\\\\\\\\235bec94-f744-48ac-8314-5675953d2def', 'PolicyDetails': '{\\\"Version\\\":0,\\\"State\\\":\\\"Disabled\\\",\\\"Conditions\\\":{\\\"Applications\\\":{\\\"Include\\\":[{\\\"Applications\\\":[\\\"All\\\"]}]},\\\"Users\\\":{\\\"Include\\\":[{\\\"Users\\\":[\\\"eababd92-9dc7-40e3-9359-6c106522db19\\\"]}]},\\\"DevicePlatforms\\\":{\\\"Include\\\":[{\\\"DevicePlatforms\\\":[\\\"All\\\"]}],\\\"Exclude\\\":[{\\\"DevicePlatforms\\\":[\\\"macOS\\\"]}]}},\\\"Controls\\\":[{\\\"Control\\\":[\\\"Mfa\\\"]}],\\\"PersistentBrowserSessionMode\\\":\\\"NotSet\\\",\\\"EnforceAllPoliciesForEas\\\":false,\\\"IncludeOtherLegacyClientTypeForEvaluation\\\":false}', 'PolicyLastUpdatedTime': '8/6/2020 5:18:55 AM', 'TenantDefaultPolicy': '', 'DisplayName': 'Megan MFA demo', 'PolicyIdentifierString': ''})\"],[\"Cmd(name='Set-ConditionalAccessPolicy', params={'Identity': 'seccxpninja.onmicrosoft.com\\\\\\\\5fd0c4ff-1cd7-4bf6-8607-294a04f58f12', 'PolicyDetails': '{\\\"Version\\\":0,\\\"State\\\":\\\"Disabled\\\",\\\"Conditions\\\":{\\\"Applications\\\":{\\\"Include\\\":[{\\\"Applications\\\":[\\\"All\\\"]}]},\\\"Users\\\":{\\\"Include\\\":[{\\\"Users\\\":[\\\"142512c7-f006-46ae-909c-14fa7bf6a887\\\"]}]}},\\\"Controls\\\":[{\\\"Control\\\":[\\\"Mfa\\\"]}],\\\"EnforceAllPoliciesForEas\\\":false,\\\"IncludeOtherLegacyClientTypeForEvaluation\\\":false}', 'PolicyLastUpdatedTime': '8/6/2020 2:16:16 AM', 'TenantDefaultPolicy': '', 'DisplayName': 'Azure MFA', 'PolicyIdentifierString': ''})\",\"Cmd(name='Set-ConditionalAccessPolicy', params={'Identity': 'seccxpninja.onmicrosoft.com\\\\\\\\5fd0c4ff-1cd7-4bf6-8607-294a04f58f12', 'PolicyDetails': '{\\\"Version\\\":0,\\\"State\\\":\\\"Disabled\\\",\\\"Conditions\\\":{\\\"Applications\\\":{\\\"Include\\\":[{\\\"Applications\\\":[\\\"All\\\"]}]},\\\"Users\\\":{\\\"Include\\\":[{\\\"Users\\\":[\\\"142512c7-f006-46ae-909c-14fa7bf6a887\\\"]}]}},\\\"Controls\\\":[{\\\"Control\\\":[\\\"Mfa\\\"]}],\\\"EnforceAllPoliciesForEas\\\":false,\\\"IncludeOtherLegacyClientTypeForEvaluation\\\":false}', 'PolicyLastUpdatedTime': '8/6/2020 2:16:16 AM', 'TenantDefaultPolicy': '', 'DisplayName': 'Azure MFA', 'PolicyIdentifierString': ''})\"],[\"Cmd(name='Set-ConditionalAccessPolicy', params={'Identity': 'seccxpninja.onmicrosoft.com\\\\\\\\83a057fb-dbca-4ba8-bb5f-0ce6d6e7cff5', 'PolicyDetails': '{\\\"Version\\\":0,\\\"State\\\":\\\"Enabled\\\",\\\"Conditions\\\":{\\\"Applications\\\":{\\\"Include\\\":[{\\\"Acrs\\\":[\\\"urn:microsoft:req1\\\"]}]},\\\"Users\\\":{\\\"Include\\\":[{\\\"Users\\\":[\\\"eababd92-9dc7-40e3-9359-6c106522db19\\\"]}]}},\\\"Controls\\\":[{\\\"Control\\\":[\\\"Mfa\\\"]}],\\\"PersistentBrowserSessionMode\\\":\\\"NotSet\\\",\\\"EnforceAllPoliciesForEas\\\":false,\\\"IncludeOtherLegacyClientTypeForEvaluation\\\":false}', 'PolicyLastUpdatedTime': '8/6/2020 2:16:15 AM', 'TenantDefaultPolicy': '', 'DisplayName': 'MeganB MCAS Step-up', 'PolicyIdentifierString': ''})\",\"Cmd(name='Set-ConditionalAccessPolicy', params={'Identity': 'seccxpninja.onmicrosoft.com\\\\\\\\3b13ea3c-c733-4eb8-bd19-67d308b2ea04', 'PolicyDetails': '{\\\"Version\\\":0,\\\"CreatedDateTime\\\":\\\"2020-05-19T13:34:15.2394934Z\\\",\\\"ModifiedDateTime\\\":\\\"2020-05-19T13:39:04.7333386Z\\\",\\\"State\\\":\\\"Reporting\\\",\\\"Conditions\\\":{\\\"Applications\\\":{\\\"Include\\\":[{\\\"Applications\\\":[\\\"None\\\"]}]},\\\"Users\\\":{\\\"Include\\\":[{\\\"Users\\\":[\\\"Guests\\\"]}]},\\\"DevicePlatforms\\\":{\\\"Include\\\":[{\\\"DevicePlatforms\\\":[\\\"All\\\"]}],\\\"Exclude\\\":[{\\\"DevicePlatforms\\\":[\\\"Android\\\",\\\"iOS\\\",\\\"macOS\\\"]}]},\\\"ClientTypes\\\":{\\\"Include\\\":[{\\\"ClientTypes\\\":[\\\"Browser\\\",\\\"Native\\\"]}]}},\\\"Controls\\\":[{\\\"Control\\\":[\\\"Mfa\\\",\\\"RequireCompliantDevice\\\"]}]}', 'PolicyLastUpdatedTime': '8/6/2020 2:16:17 AM', 'TenantDefaultPolicy': '', 'DisplayName': 'Yanivsh -CA Test', 'PolicyIdentifierString': ''})\"],[\"Cmd(name='Set-ConditionalAccessPolicy', params={'Identity': 'seccxpninja.onmicrosoft.com\\\\\\\\b2915792-0396-4abe-94ec-e17fa17243c5', 'PolicyDetails': '{\\\"Version\\\":0,\\\"State\\\":\\\"Enabled\\\",\\\"Conditions\\\":{\\\"Applications\\\":{\\\"Include\\\":[{\\\"Applications\\\":[\\\"94c63fef-13a3-47bc-8074-75af8c65887a\\\",\\\"c9a559d2-7aab-4f13-a6ed-e7e9c52aec87\\\"]}]},\\\"Users\\\":{\\\"Include\\\":[{\\\"Users\\\":[\\\"bdb72692-2275-412b-8af0-ea21c2ebd174\\\",\\\"eababd92-9dc7-40e3-9359-6c106522db19\\\"]}]},\\\"SignInRisks\\\":{\\\"Include\\\":[{\\\"SignInRisks\\\":[\\\"High\\\",\\\"Medium\\\",\\\"Low\\\"]}]}},\\\"SessionControls\\\":[\\\"CloudAppSecurity\\\"],\\\"PersistentBrowserSessionMode\\\":\\\"NotSet\\\",\\\"EnforceAllPoliciesForEas\\\":false,\\\"IncludeOtherLegacyClientTypeForEvaluation\\\":false,\\\"CasSessionControlType\\\":3}', 'PolicyLastUpdatedTime': '8/5/2020 5:15:30 AM', 'TenantDefaultPolicy': '', 'DisplayName': 'GBB demo', 'PolicyIdentifierString': ''})\",\"Cmd(name='Set-ConditionalAccessPolicy', params={'Identity': 'seccxpninja.onmicrosoft.com\\\\\\\\69c7a12f-b407-45a3-b07e-fa04fc7f273d', 'PolicyDetails': '{\\\"Version\\\":0,\\\"State\\\":\\\"Enabled\\\",\\\"Conditions\\\":{\\\"Applications\\\":{\\\"Include\\\":[{\\\"Applications\\\":[\\\"00000003-0000-0ff1-ce00-000000000000\\\"]}]},\\\"Users\\\":{\\\"Include\\\":[{\\\"Users\\\":[\\\"All\\\"]}]}},\\\"SessionControls\\\":[\\\"CloudAppSecurity\\\"],\\\"PersistentBrowserSessionMode\\\":\\\"NotSet\\\",\\\"EnforceAllPoliciesForEas\\\":false,\\\"IncludeOtherLegacyClientTypeForEvaluation\\\":false,\\\"CasSessionControlType\\\":1}', 'PolicyLastUpdatedTime': '8/5/2020 5:15:32 AM', 'TenantDefaultPolicy': '', 'DisplayName': 'Test Policy', 'PolicyIdentifierString': ''})\"],[\"Cmd(name='Set-ConditionalAccessPolicy', params={'Identity': 'seccxpninja.onmicrosoft.com\\\\\\\\5fd0c4ff-1cd7-4bf6-8607-294a04f58f12', 'PolicyDetails': '{\\\"Version\\\":0,\\\"State\\\":\\\"Disabled\\\",\\\"Conditions\\\":{\\\"Applications\\\":{\\\"Include\\\":[{\\\"Applications\\\":[\\\"All\\\"]}]},\\\"Users\\\":{\\\"Include\\\":[{\\\"Users\\\":[\\\"142512c7-f006-46ae-909c-14fa7bf6a887\\\"]}]}},\\\"Controls\\\":[{\\\"Control\\\":[\\\"Mfa\\\"]}],\\\"EnforceAllPoliciesForEas\\\":false,\\\"IncludeOtherLegacyClientTypeForEvaluation\\\":false}', 'PolicyLastUpdatedTime': '8/6/2020 2:16:16 AM', 'TenantDefaultPolicy': '', 'DisplayName': 'Azure MFA', 'PolicyIdentifierString': ''})\",\"Cmd(name='Set-ConditionalAccessPolicy', params={'Identity': 'seccxpninja.onmicrosoft.com\\\\\\\\5fd0c4ff-1cd7-4bf6-8607-294a04f58f12', 'PolicyDetails': '{\\\"Version\\\":0,\\\"State\\\":\\\"Disabled\\\",\\\"Conditions\\\":{\\\"Applications\\\":{\\\"Include\\\":[{\\\"Applications\\\":[\\\"All\\\"]}]},\\\"Users\\\":{\\\"Include\\\":[{\\\"Users\\\":[\\\"142512c7-f006-46ae-909c-14fa7bf6a887\\\"]}]}},\\\"Controls\\\":[{\\\"Control\\\":[\\\"Mfa\\\"]}],\\\"EnforceAllPoliciesForEas\\\":false,\\\"IncludeOtherLegacyClientTypeForEvaluation\\\":false}', 'PolicyLastUpdatedTime': '8/6/2020 2:16:16 AM', 'TenantDefaultPolicy': '', 'DisplayName': 'Azure MFA', 'PolicyIdentifierString': ''})\"],[\"Cmd(name='Set-ConditionalAccessPolicy', params={'Identity': 'seccxpninja.onmicrosoft.com\\\\\\\\3b13ea3c-c733-4eb8-bd19-67d308b2ea04', 'PolicyDetails': '{\\\"Version\\\":0,\\\"CreatedDateTime\\\":\\\"2020-05-19T13:34:15.2394934Z\\\",\\\"ModifiedDateTime\\\":\\\"2020-05-19T13:39:04.7333386Z\\\",\\\"State\\\":\\\"Reporting\\\",\\\"Conditions\\\":{\\\"Applications\\\":{\\\"Include\\\":[{\\\"Applications\\\":[\\\"None\\\"]}]},\\\"Users\\\":{\\\"Include\\\":[{\\\"Users\\\":[\\\"Guests\\\"]}]},\\\"DevicePlatforms\\\":{\\\"Include\\\":[{\\\"DevicePlatforms\\\":[\\\"All\\\"]}],\\\"Exclude\\\":[{\\\"DevicePlatforms\\\":[\\\"Android\\\",\\\"iOS\\\",\\\"macOS\\\"]}]},\\\"ClientTypes\\\":{\\\"Include\\\":[{\\\"ClientTypes\\\":[\\\"Browser\\\",\\\"Native\\\"]}]}},\\\"Controls\\\":[{\\\"Control\\\":[\\\"Mfa\\\",\\\"RequireCompliantDevice\\\"]}]}', 'PolicyLastUpdatedTime': '8/6/2020 2:16:17 AM', 'TenantDefaultPolicy': '', 'DisplayName': 'Yanivsh -CA Test', 'PolicyIdentifierString': ''})\",\"Cmd(name='Set-ConditionalAccessPolicy', params={'Identity': 'seccxpninja.onmicrosoft.com\\\\\\\\69c7a12f-b407-45a3-b07e-fa04fc7f273d', 'PolicyDetails': '{\\\"Version\\\":0,\\\"State\\\":\\\"Enabled\\\",\\\"Conditions\\\":{\\\"Applications\\\":{\\\"Include\\\":[{\\\"Applications\\\":[\\\"00000003-0000-0ff1-ce00-000000000000\\\"]}]},\\\"Users\\\":{\\\"Include\\\":[{\\\"Users\\\":[\\\"All\\\"]}]}},\\\"SessionControls\\\":[\\\"CloudAppSecurity\\\"],\\\"PersistentBrowserSessionMode\\\":\\\"NotSet\\\",\\\"EnforceAllPoliciesForEas\\\":false,\\\"IncludeOtherLegacyClientTypeForEvaluation\\\":false,\\\"CasSessionControlType\\\":1}', 'PolicyLastUpdatedTime': '8/6/2020 2:16:17 AM', 'TenantDefaultPolicy': '', 'DisplayName': 'Test Policy', 'PolicyIdentifierString': ''})\"],[\"Cmd(name='Set-ConditionalAccessPolicy', params={'Identity': 'seccxpninja.onmicrosoft.com\\\\\\\\ba36f0a4-6d73-4ba4-9282-3b3c14575e36', 'PolicyDetails': '{\\\"Version\\\":0,\\\"ModifiedDateTime\\\":\\\"2020-05-19T13:31:41.7083504Z\\\",\\\"State\\\":\\\"Disabled\\\",\\\"Conditions\\\":{\\\"Applications\\\":{\\\"Include\\\":[{\\\"Applications\\\":[\\\"00000002-0000-0ff1-ce00-000000000000\\\",\\\"00000003-0000-0ff1-ce00-000000000000\\\"]}]},\\\"Users\\\":{\\\"Include\\\":[{\\\"Users\\\":[\\\"2935e535-8fdf-4217-865b-e084cb7214f1\\\"]}]},\\\"DevicePlatforms\\\":{\\\"Include\\\":[{\\\"DevicePlatforms\\\":[\\\"All\\\"]}],\\\"Exclude\\\":[{\\\"DevicePlatforms\\\":[\\\"Android\\\",\\\"iOS\\\",\\\"macOS\\\"]}]},\\\"ClientTypes\\\":{\\\"Include\\\":[{\\\"ClientTypes\\\":[\\\"Browser\\\",\\\"Native\\\"]}]}},\\\"SessionControls\\\":[\\\"CloudAppSecurity\\\"],\\\"CasSessionControlType\\\":1}', 'PolicyLastUpdatedTime': '8/7/2020 3:03:46 AM', 'TenantDefaultPolicy': '', 'DisplayName': 'Block Access JulianI', 'PolicyIdentifierString': ''})\",\"Cmd(name='Set-ConditionalAccessPolicy', params={'Identity': 'seccxpninja.onmicrosoft.com\\\\\\\\69c7a12f-b407-45a3-b07e-fa04fc7f273d', 'PolicyDetails': '{\\\"Version\\\":0,\\\"State\\\":\\\"Enabled\\\",\\\"Conditions\\\":{\\\"Applications\\\":{\\\"Include\\\":[{\\\"Applications\\\":[\\\"00000003-0000-0ff1-ce00-000000000000\\\"]}]},\\\"Users\\\":{\\\"Include\\\":[{\\\"Users\\\":[\\\"All\\\"]}]}},\\\"SessionControls\\\":[\\\"CloudAppSecurity\\\"],\\\"PersistentBrowserSessionMode\\\":\\\"NotSet\\\",\\\"EnforceAllPoliciesForEas\\\":false,\\\"IncludeOtherLegacyClientTypeForEvaluation\\\":false,\\\"CasSessionControlType\\\":1}', 'PolicyLastUpdatedTime': '8/7/2020 3:03:46 AM', 'TenantDefaultPolicy': '', 'DisplayName': 'Test Policy', 'PolicyIdentifierString': ''})\"],[\"Cmd(name='Set-ConditionalAccessPolicy', params={'Identity': 'seccxpninja.onmicrosoft.com\\\\\\\\2e76d011-eaa3-40b4-8ce8-7fba52bf3af8', 'PolicyDetails': '{\\\"Version\\\":0,\\\"State\\\":\\\"Reporting\\\",\\\"Conditions\\\":{\\\"Applications\\\":{\\\"Include\\\":[{\\\"Applications\\\":[\\\"f9e8b3d0-ba26-42cd-b544-c90a66191a81\\\"]}]},\\\"Users\\\":{\\\"Include\\\":[{\\\"Users\\\":[\\\"All\\\"]}]}},\\\"SessionControls\\\":[\\\"CloudAppSecurity\\\"],\\\"PersistentBrowserSessionMode\\\":\\\"NotSet\\\",\\\"EnforceAllPoliciesForEas\\\":false,\\\"IncludeOtherLegacyClientTypeForEvaluation\\\":false,\\\"CasSessionControlType\\\":1}', 'PolicyLastUpdatedTime': '8/7/2020 3:03:45 AM', 'TenantDefaultPolicy': '', 'DisplayName': 'On-Prem SharePoint - MeganB proxy', 'PolicyIdentifierString': ''})\",\"Cmd(name='Set-ConditionalAccessPolicy', params={'Identity': 'seccxpninja.onmicrosoft.com\\\\\\\\235bec94-f744-48ac-8314-5675953d2def', 'PolicyDetails': '{\\\"Version\\\":0,\\\"State\\\":\\\"Disabled\\\",\\\"Conditions\\\":{\\\"Applications\\\":{\\\"Include\\\":[{\\\"Applications\\\":[\\\"All\\\"]}]},\\\"Users\\\":{\\\"Include\\\":[{\\\"Users\\\":[\\\"eababd92-9dc7-40e3-9359-6c106522db19\\\"]}]},\\\"DevicePlatforms\\\":{\\\"Include\\\":[{\\\"DevicePlatforms\\\":[\\\"All\\\"]}],\\\"Exclude\\\":[{\\\"DevicePlatforms\\\":[\\\"macOS\\\"]}]}},\\\"Controls\\\":[{\\\"Control\\\":[\\\"Mfa\\\"]}],\\\"PersistentBrowserSessionMode\\\":\\\"NotSet\\\",\\\"EnforceAllPoliciesForEas\\\":false,\\\"IncludeOtherLegacyClientTypeForEvaluation\\\":false}', 'PolicyLastUpdatedTime': '8/7/2020 3:03:43 AM', 'TenantDefaultPolicy': '', 'DisplayName': 'Megan MFA demo', 'PolicyIdentifierString': ''})\"],[\"Cmd(name='Set-ConditionalAccessPolicy', params={'Identity': 'seccxpninja.onmicrosoft.com\\\\\\\\5fd0c4ff-1cd7-4bf6-8607-294a04f58f12', 'PolicyDetails': '{\\\"Version\\\":0,\\\"State\\\":\\\"Disabled\\\",\\\"Conditions\\\":{\\\"Applications\\\":{\\\"Include\\\":[{\\\"Applications\\\":[\\\"All\\\"]}]},\\\"Users\\\":{\\\"Include\\\":[{\\\"Users\\\":[\\\"142512c7-f006-46ae-909c-14fa7bf6a887\\\"]}]}},\\\"Controls\\\":[{\\\"Control\\\":[\\\"Mfa\\\"]}],\\\"EnforceAllPoliciesForEas\\\":false,\\\"IncludeOtherLegacyClientTypeForEvaluation\\\":false}', 'PolicyLastUpdatedTime': '8/7/2020 5:32:24 AM', 'TenantDefaultPolicy': '', 'DisplayName': 'Azure MFA', 'PolicyIdentifierString': ''})\",\"Cmd(name='Set-ConditionalAccessPolicy', params={'Identity': 'seccxpninja.onmicrosoft.com\\\\\\\\b2915792-0396-4abe-94ec-e17fa17243c5', 'PolicyDetails': '{\\\"Version\\\":0,\\\"State\\\":\\\"Enabled\\\",\\\"Conditions\\\":{\\\"Applications\\\":{\\\"Include\\\":[{\\\"Applications\\\":[\\\"94c63fef-13a3-47bc-8074-75af8c65887a\\\",\\\"c9a559d2-7aab-4f13-a6ed-e7e9c52aec87\\\"]}]},\\\"Users\\\":{\\\"Include\\\":[{\\\"Users\\\":[\\\"bdb72692-2275-412b-8af0-ea21c2ebd174\\\",\\\"eababd92-9dc7-40e3-9359-6c106522db19\\\"]}]},\\\"SignInRisks\\\":{\\\"Include\\\":[{\\\"SignInRisks\\\":[\\\"High\\\",\\\"Medium\\\",\\\"Low\\\"]}]}},\\\"SessionControls\\\":[\\\"CloudAppSecurity\\\"],\\\"PersistentBrowserSessionMode\\\":\\\"NotSet\\\",\\\"EnforceAllPoliciesForEas\\\":false,\\\"IncludeOtherLegacyClientTypeForEvaluation\\\":false,\\\"CasSessionControlType\\\":3}', 'PolicyLastUpdatedTime': '8/7/2020 5:32:24 AM', 'TenantDefaultPolicy': '', 'DisplayName': 'GBB demo', 'PolicyIdentifierString': ''})\"],[\"Cmd(name='Set-ConditionalAccessPolicy', params={'Identity': 'seccxpninja.onmicrosoft.com\\\\\\\\2e76d011-eaa3-40b4-8ce8-7fba52bf3af8', 'PolicyDetails': '{\\\"Version\\\":0,\\\"State\\\":\\\"Reporting\\\",\\\"Conditions\\\":{\\\"Applications\\\":{\\\"Include\\\":[{\\\"Applications\\\":[\\\"f9e8b3d0-ba26-42cd-b544-c90a66191a81\\\"]}]},\\\"Users\\\":{\\\"Include\\\":[{\\\"Users\\\":[\\\"All\\\"]}]}},\\\"SessionControls\\\":[\\\"CloudAppSecurity\\\"],\\\"PersistentBrowserSessionMode\\\":\\\"NotSet\\\",\\\"EnforceAllPoliciesForEas\\\":false,\\\"IncludeOtherLegacyClientTypeForEvaluation\\\":false,\\\"CasSessionControlType\\\":1}', 'PolicyLastUpdatedTime': '8/8/2020 2:05:37 AM', 'TenantDefaultPolicy': '', 'DisplayName': 'On-Prem SharePoint - MeganB proxy', 'PolicyIdentifierString': ''})\",\"Cmd(name='Set-ConditionalAccessPolicy', params={'Identity': 'seccxpninja.onmicrosoft.com\\\\\\\\e183bd29-a3a3-4f91-a5a3-b83b21a544df', 'PolicyDetails': '{\\\"Version\\\":0,\\\"State\\\":\\\"Enabled\\\",\\\"Conditions\\\":{\\\"Applications\\\":{\\\"Include\\\":[{\\\"Applications\\\":[\\\"00000002-0000-0ff1-ce00-000000000000\\\"]}]},\\\"Users\\\":{\\\"Include\\\":[{\\\"Users\\\":[\\\"2935e535-8fdf-4217-865b-e084cb7214f1\\\"]}]}},\\\"SessionControls\\\":[\\\"AppEnforcedRestrictions\\\"],\\\"PersistentBrowserSessionMode\\\":\\\"NotSet\\\",\\\"EnforceAllPoliciesForEas\\\":false,\\\"IncludeOtherLegacyClientTypeForEvaluation\\\":false}', 'PolicyLastUpdatedTime': '8/8/2020 2:05:38 AM', 'TenantDefaultPolicy': '', 'DisplayName': 'JulianI Exchange native controls', 'PolicyIdentifierString': ''})\",\"Cmd(name='Set-ConditionalAccessPolicy', params={'Identity': 'seccxpninja.onmicrosoft.com\\\\\\\\bcd93f74-64fd-4042-a3ae-ee6d48886d6d', 'PolicyDetails': '{\\\"Version\\\":0,\\\"State\\\":\\\"Enabled\\\",\\\"Conditions\\\":{\\\"Applications\\\":{\\\"Include\\\":[{\\\"Applications\\\":[\\\"c9a559d2-7aab-4f13-a6ed-e7e9c52aec87\\\"]}]},\\\"Users\\\":{\\\"Include\\\":[{\\\"Users\\\":[\\\"bdb72692-2275-412b-8af0-ea21c2ebd174\\\",\\\"eababd92-9dc7-40e3-9359-6c106522db19\\\"]}]}},\\\"SessionControls\\\":[\\\"CloudAppSecurity\\\"],\\\"PersistentBrowserSessionMode\\\":\\\"NotSet\\\",\\\"EnforceAllPoliciesForEas\\\":false,\\\"IncludeOtherLegacyClientTypeForEvaluation\\\":false,\\\"CasSessionControlType\\\":3}', 'PolicyLastUpdatedTime': '8/8/2020 2:05:36 AM', 'TenantDefaultPolicy': '', 'DisplayName': 'Form MCAS', 'PolicyIdentifierString': ''})\"],[\"Cmd(name='Set-ConditionalAccessPolicy', params={'Identity': 'seccxpninja.onmicrosoft.com\\\\\\\\5fd0c4ff-1cd7-4bf6-8607-294a04f58f12', 'PolicyDetails': '{\\\"Version\\\":0,\\\"State\\\":\\\"Disabled\\\",\\\"Conditions\\\":{\\\"Applications\\\":{\\\"Include\\\":[{\\\"Applications\\\":[\\\"All\\\"]}]},\\\"Users\\\":{\\\"Include\\\":[{\\\"Users\\\":[\\\"142512c7-f006-46ae-909c-14fa7bf6a887\\\"]}]}},\\\"Controls\\\":[{\\\"Control\\\":[\\\"Mfa\\\"]}],\\\"EnforceAllPoliciesForEas\\\":false,\\\"IncludeOtherLegacyClientTypeForEvaluation\\\":false}', 'PolicyLastUpdatedTime': '8/8/2020 5:07:46 AM', 'TenantDefaultPolicy': '', 'DisplayName': 'Azure MFA', 'PolicyIdentifierString': ''})\",\"Cmd(name='Set-ConditionalAccessPolicy', params={'Identity': 'seccxpninja.onmicrosoft.com\\\\\\\\8837fdaa-aaeb-4432-9622-43f6f583d583', 'PolicyDetails': '{\\\"KnownNetworkPolicies\\\":{\\\"NetworkName\\\":\\\"BE-Office\\\",\\\"NetworkId\\\":\\\"b98b9088-ce88-4fae-80fb-5b58cb1ce685\\\",\\\"CidrIpRanges\\\":[\\\"109.88.218.99/28\\\"],\\\"CountryIsoCodes\\\":null,\\\"Categories\\\":[],\\\"ApplyToUnknownCountry\\\":false}}', 'PolicyLastUpdatedTime': '8/8/2020 5:07:46 AM', 'TenantDefaultPolicy': '6', 'DisplayName': 'Known Networks List', 'PolicyIdentifierString': '3/19/2020 7:45:08 PM'})\"],[\"Cmd(name='Set-ConditionalAccessPolicy', params={'Identity': 'seccxpninja.onmicrosoft.com\\\\\\\\e183bd29-a3a3-4f91-a5a3-b83b21a544df', 'PolicyDetails': '{\\\"Version\\\":0,\\\"State\\\":\\\"Enabled\\\",\\\"Conditions\\\":{\\\"Applications\\\":{\\\"Include\\\":[{\\\"Applications\\\":[\\\"00000002-0000-0ff1-ce00-000000000000\\\"]}]},\\\"Users\\\":{\\\"Include\\\":[{\\\"Users\\\":[\\\"2935e535-8fdf-4217-865b-e084cb7214f1\\\"]}]}},\\\"SessionControls\\\":[\\\"AppEnforcedRestrictions\\\"],\\\"PersistentBrowserSessionMode\\\":\\\"NotSet\\\",\\\"EnforceAllPoliciesForEas\\\":false,\\\"IncludeOtherLegacyClientTypeForEvaluation\\\":false}', 'PolicyLastUpdatedTime': '8/6/2020 5:18:57 AM', 'TenantDefaultPolicy': '', 'DisplayName': 'JulianI Exchange native controls', 'PolicyIdentifierString': ''})\",\"Cmd(name='Set-ConditionalAccessPolicy', params={'Identity': 'seccxpninja.onmicrosoft.com\\\\\\\\6490d00c-7ba1-42cf-aa88-99eb71d53bf7', 'PolicyDetails': '{\\\"Version\\\":0,\\\"LastUpdatedTimestamp\\\":\\\"2020-07-02T12:42:35.1866847Z\\\",\\\"State\\\":\\\"Disabled\\\",\\\"SignInFrequency\\\":\\\"NotSet\\\",\\\"PersistentBrowserSessionMode\\\":\\\"NotSet\\\"}', 'PolicyLastUpdatedTime': '8/6/2020 5:18:56 AM', 'TenantDefaultPolicy': '18', 'DisplayName': 'Default Policy', 'PolicyIdentifierString': '5/19/2020 1:39:05 PM'})\"],[\"Cmd(name='Set-ConditionalAccessPolicy', params={'Identity': 'seccxpninja.onmicrosoft.com\\\\\\\\69c7a12f-b407-45a3-b07e-fa04fc7f273d', 'PolicyDetails': '{\\\"Version\\\":0,\\\"State\\\":\\\"Enabled\\\",\\\"Conditions\\\":{\\\"Applications\\\":{\\\"Include\\\":[{\\\"Applications\\\":[\\\"00000003-0000-0ff1-ce00-000000000000\\\"]}]},\\\"Users\\\":{\\\"Include\\\":[{\\\"Users\\\":[\\\"All\\\"]}]}},\\\"SessionControls\\\":[\\\"CloudAppSecurity\\\"],\\\"PersistentBrowserSessionMode\\\":\\\"NotSet\\\",\\\"EnforceAllPoliciesForEas\\\":false,\\\"IncludeOtherLegacyClientTypeForEvaluation\\\":false,\\\"CasSessionControlType\\\":1}', 'PolicyLastUpdatedTime': '8/9/2020 1:49:56 AM', 'TenantDefaultPolicy': '', 'DisplayName': 'Test Policy', 'PolicyIdentifierString': ''})\",\"Cmd(name='Set-ConditionalAccessPolicy', params={'Identity': 'seccxpninja.onmicrosoft.com\\\\\\\\8837fdaa-aaeb-4432-9622-43f6f583d583', 'PolicyDetails': '{\\\"KnownNetworkPolicies\\\":{\\\"NetworkName\\\":\\\"BE-Office\\\",\\\"NetworkId\\\":\\\"b98b9088-ce88-4fae-80fb-5b58cb1ce685\\\",\\\"CidrIpRanges\\\":[\\\"109.88.218.99/28\\\"],\\\"CountryIsoCodes\\\":null,\\\"Categories\\\":[],\\\"ApplyToUnknownCountry\\\":false}}', 'PolicyLastUpdatedTime': '8/9/2020 1:49:56 AM', 'TenantDefaultPolicy': '6', 'DisplayName': 'Known Networks List', 'PolicyIdentifierString': '3/19/2020 7:45:08 PM'})\"],[\"Cmd(name='Set-ConditionalAccessPolicy', params={'Identity': 'seccxpninja.onmicrosoft.com\\\\\\\\8872f6fb-da88-4b63-bcc7-17247669596b', 'PolicyDetails': '{\\\"Version\\\":0,\\\"State\\\":\\\"Enabled\\\",\\\"Conditions\\\":{\\\"Applications\\\":{\\\"Include\\\":[{\\\"Applications\\\":[\\\"00000002-0000-0ff1-ce00-000000000000\\\",\\\"09abbdfd-ed23-44ee-a2d9-a627aa1c90f3\\\",\\\"cc15fd57-2c6c-4117-a88c-83b1d56b4bbe\\\",\\\"00000003-0000-0ff1-ce00-000000000000\\\",\\\"00000005-0000-0ff1-ce00-000000000000\\\"]}]},\\\"Users\\\":{\\\"Include\\\":[{\\\"Users\\\":[\\\"eababd92-9dc7-40e3-9359-6c106522db19\\\"]}]}},\\\"SessionControls\\\":[\\\"CloudAppSecurity\\\"],\\\"PersistentBrowserSessionMode\\\":\\\"NotSet\\\",\\\"EnforceAllPoliciesForEas\\\":false,\\\"IncludeOtherLegacyClientTypeForEvaluation\\\":false,\\\"CasSessionControlType\\\":1}', 'PolicyLastUpdatedTime': '8/9/2020 5:08:00 AM', 'TenantDefaultPolicy': '', 'DisplayName': 'MeganB MCAS Proxy', 'PolicyIdentifierString': ''})\",\"Cmd(name='Set-ConditionalAccessPolicy', params={'Identity': 'seccxpninja.onmicrosoft.com\\\\\\\\8837fdaa-aaeb-4432-9622-43f6f583d583', 'PolicyDetails': '{\\\"KnownNetworkPolicies\\\":{\\\"NetworkName\\\":\\\"BE-Office\\\",\\\"NetworkId\\\":\\\"b98b9088-ce88-4fae-80fb-5b58cb1ce685\\\",\\\"CidrIpRanges\\\":[\\\"109.88.218.99/28\\\"],\\\"CountryIsoCodes\\\":null,\\\"Categories\\\":[],\\\"ApplyToUnknownCountry\\\":false}}', 'PolicyLastUpdatedTime': '8/9/2020 5:08:04 AM', 'TenantDefaultPolicy': '6', 'DisplayName': 'Known Networks List', 'PolicyIdentifierString': '3/19/2020 7:45:08 PM'})\"],[\"Cmd(name='Set-ConditionalAccessPolicy', params={'Identity': 'seccxpninja.onmicrosoft.com\\\\\\\\8872f6fb-da88-4b63-bcc7-17247669596b', 'PolicyDetails': '{\\\"Version\\\":0,\\\"State\\\":\\\"Enabled\\\",\\\"Conditions\\\":{\\\"Applications\\\":{\\\"Include\\\":[{\\\"Applications\\\":[\\\"00000002-0000-0ff1-ce00-000000000000\\\",\\\"09abbdfd-ed23-44ee-a2d9-a627aa1c90f3\\\",\\\"cc15fd57-2c6c-4117-a88c-83b1d56b4bbe\\\",\\\"00000003-0000-0ff1-ce00-000000000000\\\",\\\"00000005-0000-0ff1-ce00-000000000000\\\"]}]},\\\"Users\\\":{\\\"Include\\\":[{\\\"Users\\\":[\\\"eababd92-9dc7-40e3-9359-6c106522db19\\\"]}]}},\\\"SessionControls\\\":[\\\"CloudAppSecurity\\\"],\\\"PersistentBrowserSessionMode\\\":\\\"NotSet\\\",\\\"EnforceAllPoliciesForEas\\\":false,\\\"IncludeOtherLegacyClientTypeForEvaluation\\\":false,\\\"CasSessionControlType\\\":1}', 'PolicyLastUpdatedTime': '8/10/2020 2:30:02 AM', 'TenantDefaultPolicy': '', 'DisplayName': 'MeganB MCAS Proxy', 'PolicyIdentifierString': ''})\",\"Cmd(name='Set-ConditionalAccessPolicy', params={'Identity': 'seccxpninja.onmicrosoft.com\\\\\\\\b2915792-0396-4abe-94ec-e17fa17243c5', 'PolicyDetails': '{\\\"Version\\\":0,\\\"State\\\":\\\"Enabled\\\",\\\"Conditions\\\":{\\\"Applications\\\":{\\\"Include\\\":[{\\\"Applications\\\":[\\\"94c63fef-13a3-47bc-8074-75af8c65887a\\\",\\\"c9a559d2-7aab-4f13-a6ed-e7e9c52aec87\\\"]}]},\\\"Users\\\":{\\\"Include\\\":[{\\\"Users\\\":[\\\"bdb72692-2275-412b-8af0-ea21c2ebd174\\\",\\\"eababd92-9dc7-40e3-9359-6c106522db19\\\"]}]},\\\"SignInRisks\\\":{\\\"Include\\\":[{\\\"SignInRisks\\\":[\\\"High\\\",\\\"Medium\\\",\\\"Low\\\"]}]}},\\\"SessionControls\\\":[\\\"CloudAppSecurity\\\"],\\\"PersistentBrowserSessionMode\\\":\\\"NotSet\\\",\\\"EnforceAllPoliciesForEas\\\":false,\\\"IncludeOtherLegacyClientTypeForEvaluation\\\":false,\\\"CasSessionControlType\\\":3}', 'PolicyLastUpdatedTime': '8/10/2020 2:30:04 AM', 'TenantDefaultPolicy': '', 'DisplayName': 'GBB demo', 'PolicyIdentifierString': ''})\"],[\"Cmd(name='Set-ConditionalAccessPolicy', params={'Identity': 'seccxpninja.onmicrosoft.com\\\\\\\\8872f6fb-da88-4b63-bcc7-17247669596b', 'PolicyDetails': '{\\\"Version\\\":0,\\\"State\\\":\\\"Enabled\\\",\\\"Conditions\\\":{\\\"Applications\\\":{\\\"Include\\\":[{\\\"Applications\\\":[\\\"00000002-0000-0ff1-ce00-000000000000\\\",\\\"09abbdfd-ed23-44ee-a2d9-a627aa1c90f3\\\",\\\"cc15fd57-2c6c-4117-a88c-83b1d56b4bbe\\\",\\\"00000003-0000-0ff1-ce00-000000000000\\\",\\\"00000005-0000-0ff1-ce00-000000000000\\\"]}]},\\\"Users\\\":{\\\"Include\\\":[{\\\"Users\\\":[\\\"eababd92-9dc7-40e3-9359-6c106522db19\\\"]}]}},\\\"SessionControls\\\":[\\\"CloudAppSecurity\\\"],\\\"PersistentBrowserSessionMode\\\":\\\"NotSet\\\",\\\"EnforceAllPoliciesForEas\\\":false,\\\"IncludeOtherLegacyClientTypeForEvaluation\\\":false,\\\"CasSessionControlType\\\":1}', 'PolicyLastUpdatedTime': '8/10/2020 5:20:06 AM', 'TenantDefaultPolicy': '', 'DisplayName': 'MeganB MCAS Proxy', 'PolicyIdentifierString': ''})\",\"Cmd(name='Set-ConditionalAccessPolicy', params={'Identity': 'seccxpninja.onmicrosoft.com\\\\\\\\8872f6fb-da88-4b63-bcc7-17247669596b', 'PolicyDetails': '{\\\"Version\\\":0,\\\"State\\\":\\\"Enabled\\\",\\\"Conditions\\\":{\\\"Applications\\\":{\\\"Include\\\":[{\\\"Applications\\\":[\\\"00000002-0000-0ff1-ce00-000000000000\\\",\\\"09abbdfd-ed23-44ee-a2d9-a627aa1c90f3\\\",\\\"cc15fd57-2c6c-4117-a88c-83b1d56b4bbe\\\",\\\"00000003-0000-0ff1-ce00-000000000000\\\",\\\"00000005-0000-0ff1-ce00-000000000000\\\"]}]},\\\"Users\\\":{\\\"Include\\\":[{\\\"Users\\\":[\\\"eababd92-9dc7-40e3-9359-6c106522db19\\\"]}]}},\\\"SessionControls\\\":[\\\"CloudAppSecurity\\\"],\\\"PersistentBrowserSessionMode\\\":\\\"NotSet\\\",\\\"EnforceAllPoliciesForEas\\\":false,\\\"IncludeOtherLegacyClientTypeForEvaluation\\\":false,\\\"CasSessionControlType\\\":1}', 'PolicyLastUpdatedTime': '8/10/2020 5:20:06 AM', 'TenantDefaultPolicy': '', 'DisplayName': 'MeganB MCAS Proxy', 'PolicyIdentifierString': ''})\"],[\"Cmd(name='Set-ConditionalAccessPolicy', params={'Identity': 'seccxpninja.onmicrosoft.com\\\\\\\\235bec94-f744-48ac-8314-5675953d2def', 'PolicyDetails': '{\\\"Version\\\":0,\\\"State\\\":\\\"Disabled\\\",\\\"Conditions\\\":{\\\"Applications\\\":{\\\"Include\\\":[{\\\"Applications\\\":[\\\"All\\\"]}]},\\\"Users\\\":{\\\"Include\\\":[{\\\"Users\\\":[\\\"eababd92-9dc7-40e3-9359-6c106522db19\\\"]}]},\\\"DevicePlatforms\\\":{\\\"Include\\\":[{\\\"DevicePlatforms\\\":[\\\"All\\\"]}],\\\"Exclude\\\":[{\\\"DevicePlatforms\\\":[\\\"macOS\\\"]}]}},\\\"Controls\\\":[{\\\"Control\\\":[\\\"Mfa\\\"]}],\\\"PersistentBrowserSessionMode\\\":\\\"NotSet\\\",\\\"EnforceAllPoliciesForEas\\\":false,\\\"IncludeOtherLegacyClientTypeForEvaluation\\\":false}', 'PolicyLastUpdatedTime': '8/10/2020 5:20:06 AM', 'TenantDefaultPolicy': '', 'DisplayName': 'Megan MFA demo', 'PolicyIdentifierString': ''})\",\"Cmd(name='Set-ConditionalAccessPolicy', params={'Identity': 'seccxpninja.onmicrosoft.com\\\\\\\\3b13ea3c-c733-4eb8-bd19-67d308b2ea04', 'PolicyDetails': '{\\\"Version\\\":0,\\\"CreatedDateTime\\\":\\\"2020-05-19T13:34:15.2394934Z\\\",\\\"ModifiedDateTime\\\":\\\"2020-05-19T13:39:04.7333386Z\\\",\\\"State\\\":\\\"Reporting\\\",\\\"Conditions\\\":{\\\"Applications\\\":{\\\"Include\\\":[{\\\"Applications\\\":[\\\"None\\\"]}]},\\\"Users\\\":{\\\"Include\\\":[{\\\"Users\\\":[\\\"Guests\\\"]}]},\\\"DevicePlatforms\\\":{\\\"Include\\\":[{\\\"DevicePlatforms\\\":[\\\"All\\\"]}],\\\"Exclude\\\":[{\\\"DevicePlatforms\\\":[\\\"Android\\\",\\\"iOS\\\",\\\"macOS\\\"]}]},\\\"ClientTypes\\\":{\\\"Include\\\":[{\\\"ClientTypes\\\":[\\\"Browser\\\",\\\"Native\\\"]}]}},\\\"Controls\\\":[{\\\"Control\\\":[\\\"Mfa\\\",\\\"RequireCompliantDevice\\\"]}]}', 'PolicyLastUpdatedTime': '8/10/2020 5:20:08 AM', 'TenantDefaultPolicy': '', 'DisplayName': 'Yanivsh -CA Test', 'PolicyIdentifierString': ''})\"],[\"Cmd(name='Set-ConditionalAccessPolicy', params={'Identity': 'seccxpninja.onmicrosoft.com\\\\\\\\8872f6fb-da88-4b63-bcc7-17247669596b', 'PolicyDetails': '{\\\"Version\\\":0,\\\"State\\\":\\\"Enabled\\\",\\\"Conditions\\\":{\\\"Applications\\\":{\\\"Include\\\":[{\\\"Applications\\\":[\\\"00000002-0000-0ff1-ce00-000000000000\\\",\\\"09abbdfd-ed23-44ee-a2d9-a627aa1c90f3\\\",\\\"cc15fd57-2c6c-4117-a88c-83b1d56b4bbe\\\",\\\"00000003-0000-0ff1-ce00-000000000000\\\",\\\"00000005-0000-0ff1-ce00-000000000000\\\"]}]},\\\"Users\\\":{\\\"Include\\\":[{\\\"Users\\\":[\\\"eababd92-9dc7-40e3-9359-6c106522db19\\\"]}]}},\\\"SessionControls\\\":[\\\"CloudAppSecurity\\\"],\\\"PersistentBrowserSessionMode\\\":\\\"NotSet\\\",\\\"EnforceAllPoliciesForEas\\\":false,\\\"IncludeOtherLegacyClientTypeForEvaluation\\\":false,\\\"CasSessionControlType\\\":1}', 'PolicyLastUpdatedTime': '8/11/2020 2:42:39 AM', 'TenantDefaultPolicy': '', 'DisplayName': 'MeganB MCAS Proxy', 'PolicyIdentifierString': ''})\",\"Cmd(name='Set-ConditionalAccessPolicy', params={'Identity': 'seccxpninja.onmicrosoft.com\\\\\\\\3b13ea3c-c733-4eb8-bd19-67d308b2ea04', 'PolicyDetails': '{\\\"Version\\\":0,\\\"CreatedDateTime\\\":\\\"2020-05-19T13:34:15.2394934Z\\\",\\\"ModifiedDateTime\\\":\\\"2020-05-19T13:39:04.7333386Z\\\",\\\"State\\\":\\\"Reporting\\\",\\\"Conditions\\\":{\\\"Applications\\\":{\\\"Include\\\":[{\\\"Applications\\\":[\\\"None\\\"]}]},\\\"Users\\\":{\\\"Include\\\":[{\\\"Users\\\":[\\\"Guests\\\"]}]},\\\"DevicePlatforms\\\":{\\\"Include\\\":[{\\\"DevicePlatforms\\\":[\\\"All\\\"]}],\\\"Exclude\\\":[{\\\"DevicePlatforms\\\":[\\\"Android\\\",\\\"iOS\\\",\\\"macOS\\\"]}]},\\\"ClientTypes\\\":{\\\"Include\\\":[{\\\"ClientTypes\\\":[\\\"Browser\\\",\\\"Native\\\"]}]}},\\\"Controls\\\":[{\\\"Control\\\":[\\\"Mfa\\\",\\\"RequireCompliantDevice\\\"]}]}', 'PolicyLastUpdatedTime': '8/11/2020 2:42:41 AM', 'TenantDefaultPolicy': '', 'DisplayName': 'Yanivsh -CA Test', 'PolicyIdentifierString': ''})\"],[\"Cmd(name='Set-ConditionalAccessPolicy', params={'Identity': 'seccxpninja.onmicrosoft.com\\\\\\\\8837fdaa-aaeb-4432-9622-43f6f583d583', 'PolicyDetails': '{\\\"KnownNetworkPolicies\\\":{\\\"NetworkName\\\":\\\"BE-Office\\\",\\\"NetworkId\\\":\\\"b98b9088-ce88-4fae-80fb-5b58cb1ce685\\\",\\\"CidrIpRanges\\\":[\\\"109.88.218.99/28\\\"],\\\"CountryIsoCodes\\\":null,\\\"Categories\\\":[],\\\"ApplyToUnknownCountry\\\":false}}', 'PolicyLastUpdatedTime': '8/11/2020 5:02:25 AM', 'TenantDefaultPolicy': '6', 'DisplayName': 'Known Networks List', 'PolicyIdentifierString': '3/19/2020 7:45:08 PM'})\",\"Cmd(name='Set-ConditionalAccessPolicy', params={'Identity': 'seccxpninja.onmicrosoft.com\\\\\\\\e183bd29-a3a3-4f91-a5a3-b83b21a544df', 'PolicyDetails': '{\\\"Version\\\":0,\\\"State\\\":\\\"Enabled\\\",\\\"Conditions\\\":{\\\"Applications\\\":{\\\"Include\\\":[{\\\"Applications\\\":[\\\"00000002-0000-0ff1-ce00-000000000000\\\"]}]},\\\"Users\\\":{\\\"Include\\\":[{\\\"Users\\\":[\\\"2935e535-8fdf-4217-865b-e084cb7214f1\\\"]}]}},\\\"SessionControls\\\":[\\\"AppEnforcedRestrictions\\\"],\\\"PersistentBrowserSessionMode\\\":\\\"NotSet\\\",\\\"EnforceAllPoliciesForEas\\\":false,\\\"IncludeOtherLegacyClientTypeForEvaluation\\\":false}', 'PolicyLastUpdatedTime': '8/11/2020 5:02:24 AM', 'TenantDefaultPolicy': '', 'DisplayName': 'JulianI Exchange native controls', 'PolicyIdentifierString': ''})\"],[\"Cmd(name='Set-ConditionalAccessPolicy', params={'Identity': 'seccxpninja.onmicrosoft.com\\\\\\\\2e76d011-eaa3-40b4-8ce8-7fba52bf3af8', 'PolicyDetails': '{\\\"Version\\\":0,\\\"State\\\":\\\"Reporting\\\",\\\"Conditions\\\":{\\\"Applications\\\":{\\\"Include\\\":[{\\\"Applications\\\":[\\\"f9e8b3d0-ba26-42cd-b544-c90a66191a81\\\"]}]},\\\"Users\\\":{\\\"Include\\\":[{\\\"Users\\\":[\\\"All\\\"]}]}},\\\"SessionControls\\\":[\\\"CloudAppSecurity\\\"],\\\"PersistentBrowserSessionMode\\\":\\\"NotSet\\\",\\\"EnforceAllPoliciesForEas\\\":false,\\\"IncludeOtherLegacyClientTypeForEvaluation\\\":false,\\\"CasSessionControlType\\\":1}', 'PolicyLastUpdatedTime': '8/12/2020 1:44:50 AM', 'TenantDefaultPolicy': '', 'DisplayName': 'On-Prem SharePoint - MeganB proxy', 'PolicyIdentifierString': ''})\",\"Cmd(name='Set-ConditionalAccessPolicy', params={'Identity': 'seccxpninja.onmicrosoft.com\\\\\\\\8837fdaa-aaeb-4432-9622-43f6f583d583', 'PolicyDetails': '{\\\"KnownNetworkPolicies\\\":{\\\"NetworkName\\\":\\\"BE-Office\\\",\\\"NetworkId\\\":\\\"b98b9088-ce88-4fae-80fb-5b58cb1ce685\\\",\\\"CidrIpRanges\\\":[\\\"109.88.218.99/28\\\"],\\\"CountryIsoCodes\\\":null,\\\"Categories\\\":[],\\\"ApplyToUnknownCountry\\\":false}}', 'PolicyLastUpdatedTime': '8/12/2020 1:44:50 AM', 'TenantDefaultPolicy': '6', 'DisplayName': 'Known Networks List', 'PolicyIdentifierString': '3/19/2020 7:45:08 PM'})\"],[\"Cmd(name='Set-ConditionalAccessPolicy', params={'Identity': 'seccxpninja.onmicrosoft.com\\\\\\\\3b13ea3c-c733-4eb8-bd19-67d308b2ea04', 'PolicyDetails': '{\\\"Version\\\":0,\\\"CreatedDateTime\\\":\\\"2020-05-19T13:34:15.2394934Z\\\",\\\"ModifiedDateTime\\\":\\\"2020-05-19T13:39:04.7333386Z\\\",\\\"State\\\":\\\"Reporting\\\",\\\"Conditions\\\":{\\\"Applications\\\":{\\\"Include\\\":[{\\\"Applications\\\":[\\\"None\\\"]}]},\\\"Users\\\":{\\\"Include\\\":[{\\\"Users\\\":[\\\"Guests\\\"]}]},\\\"DevicePlatforms\\\":{\\\"Include\\\":[{\\\"DevicePlatforms\\\":[\\\"All\\\"]}],\\\"Exclude\\\":[{\\\"DevicePlatforms\\\":[\\\"Android\\\",\\\"iOS\\\",\\\"macOS\\\"]}]},\\\"ClientTypes\\\":{\\\"Include\\\":[{\\\"ClientTypes\\\":[\\\"Browser\\\",\\\"Native\\\"]}]}},\\\"Controls\\\":[{\\\"Control\\\":[\\\"Mfa\\\",\\\"RequireCompliantDevice\\\"]}]}', 'PolicyLastUpdatedTime': '8/12/2020 5:28:44 AM', 'TenantDefaultPolicy': '', 'DisplayName': 'Yanivsh -CA Test', 'PolicyIdentifierString': ''})\",\"Cmd(name='Set-ConditionalAccessPolicy', params={'Identity': 'seccxpninja.onmicrosoft.com\\\\\\\\6490d00c-7ba1-42cf-aa88-99eb71d53bf7', 'PolicyDetails': '{\\\"Version\\\":0,\\\"LastUpdatedTimestamp\\\":\\\"2020-07-02T12:42:35.1866847Z\\\",\\\"State\\\":\\\"Disabled\\\",\\\"SignInFrequency\\\":\\\"NotSet\\\",\\\"PersistentBrowserSessionMode\\\":\\\"NotSet\\\"}', 'PolicyLastUpdatedTime': '8/12/2020 5:28:44 AM', 'TenantDefaultPolicy': '18', 'DisplayName': 'Default Policy', 'PolicyIdentifierString': '5/19/2020 1:39:05 PM'})\"],[\"Cmd(name='Set-ConditionalAccessPolicy', params={'Identity': 'seccxpninja.onmicrosoft.com\\\\\\\\4c5a5ea0-5d9f-4730-baaa-7a69cf29ef26', 'PolicyDetails': '{\\\"Version\\\":0,\\\"State\\\":\\\"Enabled\\\",\\\"Conditions\\\":{\\\"Applications\\\":{\\\"Include\\\":[{\\\"Applications\\\":[\\\"All\\\"]}]},\\\"Users\\\":{\\\"Include\\\":[{\\\"Users\\\":[\\\"bdb72692-2275-412b-8af0-ea21c2ebd174\\\"]}]}},\\\"Controls\\\":[{\\\"Control\\\":[\\\"Mfa\\\"]}],\\\"PersistentBrowserSessionMode\\\":\\\"NotSet\\\",\\\"EnforceAllPoliciesForEas\\\":false,\\\"IncludeOtherLegacyClientTypeForEvaluation\\\":false}', 'PolicyLastUpdatedTime': '8/13/2020 2:49:19 AM', 'TenantDefaultPolicy': '', 'DisplayName': 'Semolen - Admin MFA', 'PolicyIdentifierString': ''})\",\"Cmd(name='Set-ConditionalAccessPolicy', params={'Identity': 'seccxpninja.onmicrosoft.com\\\\\\\\8872f6fb-da88-4b63-bcc7-17247669596b', 'PolicyDetails': '{\\\"Version\\\":0,\\\"State\\\":\\\"Enabled\\\",\\\"Conditions\\\":{\\\"Applications\\\":{\\\"Include\\\":[{\\\"Applications\\\":[\\\"00000002-0000-0ff1-ce00-000000000000\\\",\\\"09abbdfd-ed23-44ee-a2d9-a627aa1c90f3\\\",\\\"cc15fd57-2c6c-4117-a88c-83b1d56b4bbe\\\",\\\"00000003-0000-0ff1-ce00-000000000000\\\",\\\"00000005-0000-0ff1-ce00-000000000000\\\"]}]},\\\"Users\\\":{\\\"Include\\\":[{\\\"Users\\\":[\\\"eababd92-9dc7-40e3-9359-6c106522db19\\\"]}]}},\\\"SessionControls\\\":[\\\"CloudAppSecurity\\\"],\\\"PersistentBrowserSessionMode\\\":\\\"NotSet\\\",\\\"EnforceAllPoliciesForEas\\\":false,\\\"IncludeOtherLegacyClientTypeForEvaluation\\\":false,\\\"CasSessionControlType\\\":1}', 'PolicyLastUpdatedTime': '8/13/2020 2:49:17 AM', 'TenantDefaultPolicy': '', 'DisplayName': 'MeganB MCAS Proxy', 'PolicyIdentifierString': ''})\"],[\"Cmd(name='Set-ConditionalAccessPolicy', params={'Identity': 'seccxpninja.onmicrosoft.com\\\\\\\\8872f6fb-da88-4b63-bcc7-17247669596b', 'PolicyDetails': '{\\\"Version\\\":0,\\\"State\\\":\\\"Enabled\\\",\\\"Conditions\\\":{\\\"Applications\\\":{\\\"Include\\\":[{\\\"Applications\\\":[\\\"00000002-0000-0ff1-ce00-000000000000\\\",\\\"09abbdfd-ed23-44ee-a2d9-a627aa1c90f3\\\",\\\"cc15fd57-2c6c-4117-a88c-83b1d56b4bbe\\\",\\\"00000003-0000-0ff1-ce00-000000000000\\\",\\\"00000005-0000-0ff1-ce00-000000000000\\\"]}]},\\\"Users\\\":{\\\"Include\\\":[{\\\"Users\\\":[\\\"eababd92-9dc7-40e3-9359-6c106522db19\\\"]}]}},\\\"SessionControls\\\":[\\\"CloudAppSecurity\\\"],\\\"PersistentBrowserSessionMode\\\":\\\"NotSet\\\",\\\"EnforceAllPoliciesForEas\\\":false,\\\"IncludeOtherLegacyClientTypeForEvaluation\\\":false,\\\"CasSessionControlType\\\":1}', 'PolicyLastUpdatedTime': '8/13/2020 5:26:09 AM', 'TenantDefaultPolicy': '', 'DisplayName': 'MeganB MCAS Proxy', 'PolicyIdentifierString': ''})\",\"Cmd(name='Set-ConditionalAccessPolicy', params={'Identity': 'seccxpninja.onmicrosoft.com\\\\\\\\83a057fb-dbca-4ba8-bb5f-0ce6d6e7cff5', 'PolicyDetails': '{\\\"Version\\\":0,\\\"State\\\":\\\"Enabled\\\",\\\"Conditions\\\":{\\\"Applications\\\":{\\\"Include\\\":[{\\\"Acrs\\\":[\\\"urn:microsoft:req1\\\"]}]},\\\"Users\\\":{\\\"Include\\\":[{\\\"Users\\\":[\\\"eababd92-9dc7-40e3-9359-6c106522db19\\\"]}]}},\\\"Controls\\\":[{\\\"Control\\\":[\\\"Mfa\\\"]}],\\\"PersistentBrowserSessionMode\\\":\\\"NotSet\\\",\\\"EnforceAllPoliciesForEas\\\":false,\\\"IncludeOtherLegacyClientTypeForEvaluation\\\":false}', 'PolicyLastUpdatedTime': '8/13/2020 5:26:10 AM', 'TenantDefaultPolicy': '', 'DisplayName': 'MeganB MCAS Step-up', 'PolicyIdentifierString': ''})\"],[\"Cmd(name='Set-ConditionalAccessPolicy', params={'Identity': 'seccxpninja.onmicrosoft.com\\\\\\\\5fd0c4ff-1cd7-4bf6-8607-294a04f58f12', 'PolicyDetails': '{\\\"Version\\\":0,\\\"State\\\":\\\"Disabled\\\",\\\"Conditions\\\":{\\\"Applications\\\":{\\\"Include\\\":[{\\\"Applications\\\":[\\\"All\\\"]}]},\\\"Users\\\":{\\\"Include\\\":[{\\\"Users\\\":[\\\"142512c7-f006-46ae-909c-14fa7bf6a887\\\"]}]}},\\\"Controls\\\":[{\\\"Control\\\":[\\\"Mfa\\\"]}],\\\"EnforceAllPoliciesForEas\\\":false,\\\"IncludeOtherLegacyClientTypeForEvaluation\\\":false}', 'PolicyLastUpdatedTime': '8/14/2020 2:18:53 AM', 'TenantDefaultPolicy': '', 'DisplayName': 'Azure MFA', 'PolicyIdentifierString': ''})\",\"Cmd(name='Set-ConditionalAccessPolicy', params={'Identity': 'seccxpninja.onmicrosoft.com\\\\\\\\3b13ea3c-c733-4eb8-bd19-67d308b2ea04', 'PolicyDetails': '{\\\"Version\\\":0,\\\"CreatedDateTime\\\":\\\"2020-05-19T13:34:15.2394934Z\\\",\\\"ModifiedDateTime\\\":\\\"2020-05-19T13:39:04.7333386Z\\\",\\\"State\\\":\\\"Reporting\\\",\\\"Conditions\\\":{\\\"Applications\\\":{\\\"Include\\\":[{\\\"Applications\\\":[\\\"None\\\"]}]},\\\"Users\\\":{\\\"Include\\\":[{\\\"Users\\\":[\\\"Guests\\\"]}]},\\\"DevicePlatforms\\\":{\\\"Include\\\":[{\\\"DevicePlatforms\\\":[\\\"All\\\"]}],\\\"Exclude\\\":[{\\\"DevicePlatforms\\\":[\\\"Android\\\",\\\"iOS\\\",\\\"macOS\\\"]}]},\\\"ClientTypes\\\":{\\\"Include\\\":[{\\\"ClientTypes\\\":[\\\"Browser\\\",\\\"Native\\\"]}]}},\\\"Controls\\\":[{\\\"Control\\\":[\\\"Mfa\\\",\\\"RequireCompliantDevice\\\"]}]}', 'PolicyLastUpdatedTime': '8/14/2020 2:18:54 AM', 'TenantDefaultPolicy': '', 'DisplayName': 'Yanivsh -CA Test', 'PolicyIdentifierString': ''})\"],[\"Cmd(name='Set-ConditionalAccessPolicy', params={'Identity': 'seccxpninja.onmicrosoft.com\\\\\\\\2e76d011-eaa3-40b4-8ce8-7fba52bf3af8', 'PolicyDetails': '{\\\"Version\\\":0,\\\"State\\\":\\\"Reporting\\\",\\\"Conditions\\\":{\\\"Applications\\\":{\\\"Include\\\":[{\\\"Applications\\\":[\\\"f9e8b3d0-ba26-42cd-b544-c90a66191a81\\\"]}]},\\\"Users\\\":{\\\"Include\\\":[{\\\"Users\\\":[\\\"All\\\"]}]}},\\\"SessionControls\\\":[\\\"CloudAppSecurity\\\"],\\\"PersistentBrowserSessionMode\\\":\\\"NotSet\\\",\\\"EnforceAllPoliciesForEas\\\":false,\\\"IncludeOtherLegacyClientTypeForEvaluation\\\":false,\\\"CasSessionControlType\\\":1}', 'PolicyLastUpdatedTime': '8/14/2020 5:38:47 AM', 'TenantDefaultPolicy': '', 'DisplayName': 'On-Prem SharePoint - MeganB proxy', 'PolicyIdentifierString': ''})\",\"Cmd(name='Set-ConditionalAccessPolicy', params={'Identity': 'seccxpninja.onmicrosoft.com\\\\\\\\8837fdaa-aaeb-4432-9622-43f6f583d583', 'PolicyDetails': '{\\\"KnownNetworkPolicies\\\":{\\\"NetworkName\\\":\\\"BE-Office\\\",\\\"NetworkId\\\":\\\"b98b9088-ce88-4fae-80fb-5b58cb1ce685\\\",\\\"CidrIpRanges\\\":[\\\"109.88.218.99/28\\\"],\\\"CountryIsoCodes\\\":null,\\\"Categories\\\":[],\\\"ApplyToUnknownCountry\\\":false}}', 'PolicyLastUpdatedTime': '8/14/2020 5:38:49 AM', 'TenantDefaultPolicy': '6', 'DisplayName': 'Known Networks List', 'PolicyIdentifierString': '3/19/2020 7:45:08 PM'})\"],[\"Cmd(name='Set-ConditionalAccessPolicy', params={'Identity': 'seccxpninja.onmicrosoft.com\\\\\\\\3b13ea3c-c733-4eb8-bd19-67d308b2ea04', 'PolicyDetails': '{\\\"Version\\\":0,\\\"CreatedDateTime\\\":\\\"2020-05-19T13:34:15.2394934Z\\\",\\\"ModifiedDateTime\\\":\\\"2020-05-19T13:39:04.7333386Z\\\",\\\"State\\\":\\\"Reporting\\\",\\\"Conditions\\\":{\\\"Applications\\\":{\\\"Include\\\":[{\\\"Applications\\\":[\\\"None\\\"]}]},\\\"Users\\\":{\\\"Include\\\":[{\\\"Users\\\":[\\\"Guests\\\"]}]},\\\"DevicePlatforms\\\":{\\\"Include\\\":[{\\\"DevicePlatforms\\\":[\\\"All\\\"]}],\\\"Exclude\\\":[{\\\"DevicePlatforms\\\":[\\\"Android\\\",\\\"iOS\\\",\\\"macOS\\\"]}]},\\\"ClientTypes\\\":{\\\"Include\\\":[{\\\"ClientTypes\\\":[\\\"Browser\\\",\\\"Native\\\"]}]}},\\\"Controls\\\":[{\\\"Control\\\":[\\\"Mfa\\\",\\\"RequireCompliantDevice\\\"]}]}', 'PolicyLastUpdatedTime': '8/16/2020 1:57:15 AM', 'TenantDefaultPolicy': '', 'DisplayName': 'Yanivsh -CA Test', 'PolicyIdentifierString': ''})\",\"Cmd(name='Set-ConditionalAccessPolicy', params={'Identity': 'seccxpninja.onmicrosoft.com\\\\\\\\83a057fb-dbca-4ba8-bb5f-0ce6d6e7cff5', 'PolicyDetails': '{\\\"Version\\\":0,\\\"State\\\":\\\"Enabled\\\",\\\"Conditions\\\":{\\\"Applications\\\":{\\\"Include\\\":[{\\\"Acrs\\\":[\\\"urn:microsoft:req1\\\"]}]},\\\"Users\\\":{\\\"Include\\\":[{\\\"Users\\\":[\\\"eababd92-9dc7-40e3-9359-6c106522db19\\\"]}]}},\\\"Controls\\\":[{\\\"Control\\\":[\\\"Mfa\\\"]}],\\\"PersistentBrowserSessionMode\\\":\\\"NotSet\\\",\\\"EnforceAllPoliciesForEas\\\":false,\\\"IncludeOtherLegacyClientTypeForEvaluation\\\":false}', 'PolicyLastUpdatedTime': '8/16/2020 1:57:13 AM', 'TenantDefaultPolicy': '', 'DisplayName': 'MeganB MCAS Step-up', 'PolicyIdentifierString': ''})\"],[\"Cmd(name='Set-ConditionalAccessPolicy', params={'Identity': 'seccxpninja.onmicrosoft.com\\\\\\\\83a057fb-dbca-4ba8-bb5f-0ce6d6e7cff5', 'PolicyDetails': '{\\\"Version\\\":0,\\\"State\\\":\\\"Enabled\\\",\\\"Conditions\\\":{\\\"Applications\\\":{\\\"Include\\\":[{\\\"Acrs\\\":[\\\"urn:microsoft:req1\\\"]}]},\\\"Users\\\":{\\\"Include\\\":[{\\\"Users\\\":[\\\"eababd92-9dc7-40e3-9359-6c106522db19\\\"]}]}},\\\"Controls\\\":[{\\\"Control\\\":[\\\"Mfa\\\"]}],\\\"PersistentBrowserSessionMode\\\":\\\"NotSet\\\",\\\"EnforceAllPoliciesForEas\\\":false,\\\"IncludeOtherLegacyClientTypeForEvaluation\\\":false}', 'PolicyLastUpdatedTime': '8/16/2020 5:00:37 AM', 'TenantDefaultPolicy': '', 'DisplayName': 'MeganB MCAS Step-up', 'PolicyIdentifierString': ''})\",\"Cmd(name='Set-ConditionalAccessPolicy', params={'Identity': 'seccxpninja.onmicrosoft.com\\\\\\\\4c5a5ea0-5d9f-4730-baaa-7a69cf29ef26', 'PolicyDetails': '{\\\"Version\\\":0,\\\"State\\\":\\\"Enabled\\\",\\\"Conditions\\\":{\\\"Applications\\\":{\\\"Include\\\":[{\\\"Applications\\\":[\\\"All\\\"]}]},\\\"Users\\\":{\\\"Include\\\":[{\\\"Users\\\":[\\\"bdb72692-2275-412b-8af0-ea21c2ebd174\\\"]}]}},\\\"Controls\\\":[{\\\"Control\\\":[\\\"Mfa\\\"]}],\\\"PersistentBrowserSessionMode\\\":\\\"NotSet\\\",\\\"EnforceAllPoliciesForEas\\\":false,\\\"IncludeOtherLegacyClientTypeForEvaluation\\\":false}', 'PolicyLastUpdatedTime': '8/16/2020 5:00:38 AM', 'TenantDefaultPolicy': '', 'DisplayName': 'Semolen - Admin MFA', 'PolicyIdentifierString': ''})\"],[\"Cmd(name='Set-ConditionalAccessPolicy', params={'Identity': 'seccxpninja.onmicrosoft.com\\\\\\\\5fd0c4ff-1cd7-4bf6-8607-294a04f58f12', 'PolicyDetails': '{\\\"Version\\\":0,\\\"State\\\":\\\"Disabled\\\",\\\"Conditions\\\":{\\\"Applications\\\":{\\\"Include\\\":[{\\\"Applications\\\":[\\\"All\\\"]}]},\\\"Users\\\":{\\\"Include\\\":[{\\\"Users\\\":[\\\"142512c7-f006-46ae-909c-14fa7bf6a887\\\"]}]}},\\\"Controls\\\":[{\\\"Control\\\":[\\\"Mfa\\\"]}],\\\"EnforceAllPoliciesForEas\\\":false,\\\"IncludeOtherLegacyClientTypeForEvaluation\\\":false}', 'PolicyLastUpdatedTime': '8/17/2020 1:59:56 AM', 'TenantDefaultPolicy': '', 'DisplayName': 'Azure MFA', 'PolicyIdentifierString': ''})\",\"Cmd(name='Set-ConditionalAccessPolicy', params={'Identity': 'seccxpninja.onmicrosoft.com\\\\\\\\235bec94-f744-48ac-8314-5675953d2def', 'PolicyDetails': '{\\\"Version\\\":0,\\\"State\\\":\\\"Disabled\\\",\\\"Conditions\\\":{\\\"Applications\\\":{\\\"Include\\\":[{\\\"Applications\\\":[\\\"All\\\"]}]},\\\"Users\\\":{\\\"Include\\\":[{\\\"Users\\\":[\\\"eababd92-9dc7-40e3-9359-6c106522db19\\\"]}]},\\\"DevicePlatforms\\\":{\\\"Include\\\":[{\\\"DevicePlatforms\\\":[\\\"All\\\"]}],\\\"Exclude\\\":[{\\\"DevicePlatforms\\\":[\\\"macOS\\\"]}]}},\\\"Controls\\\":[{\\\"Control\\\":[\\\"Mfa\\\"]}],\\\"PersistentBrowserSessionMode\\\":\\\"NotSet\\\",\\\"EnforceAllPoliciesForEas\\\":false,\\\"IncludeOtherLegacyClientTypeForEvaluation\\\":false}', 'PolicyLastUpdatedTime': '8/17/2020 1:59:55 AM', 'TenantDefaultPolicy': '', 'DisplayName': 'Megan MFA demo', 'PolicyIdentifierString': ''})\"],[\"Cmd(name='Set-ConditionalAccessPolicy', params={'Identity': 'seccxpninja.onmicrosoft.com\\\\\\\\3b13ea3c-c733-4eb8-bd19-67d308b2ea04', 'PolicyDetails': '{\\\"Version\\\":0,\\\"CreatedDateTime\\\":\\\"2020-05-19T13:34:15.2394934Z\\\",\\\"ModifiedDateTime\\\":\\\"2020-05-19T13:39:04.7333386Z\\\",\\\"State\\\":\\\"Reporting\\\",\\\"Conditions\\\":{\\\"Applications\\\":{\\\"Include\\\":[{\\\"Applications\\\":[\\\"None\\\"]}]},\\\"Users\\\":{\\\"Include\\\":[{\\\"Users\\\":[\\\"Guests\\\"]}]},\\\"DevicePlatforms\\\":{\\\"Include\\\":[{\\\"DevicePlatforms\\\":[\\\"All\\\"]}],\\\"Exclude\\\":[{\\\"DevicePlatforms\\\":[\\\"Android\\\",\\\"iOS\\\",\\\"macOS\\\"]}]},\\\"ClientTypes\\\":{\\\"Include\\\":[{\\\"ClientTypes\\\":[\\\"Browser\\\",\\\"Native\\\"]}]}},\\\"Controls\\\":[{\\\"Control\\\":[\\\"Mfa\\\",\\\"RequireCompliantDevice\\\"]}]}', 'PolicyLastUpdatedTime': '8/17/2020 5:14:40 AM', 'TenantDefaultPolicy': '', 'DisplayName': 'Yanivsh -CA Test', 'PolicyIdentifierString': ''})\",\"Cmd(name='Set-ConditionalAccessPolicy', params={'Identity': 'seccxpninja.onmicrosoft.com\\\\\\\\ba36f0a4-6d73-4ba4-9282-3b3c14575e36', 'PolicyDetails': '{\\\"Version\\\":0,\\\"ModifiedDateTime\\\":\\\"2020-05-19T13:31:41.7083504Z\\\",\\\"State\\\":\\\"Disabled\\\",\\\"Conditions\\\":{\\\"Applications\\\":{\\\"Include\\\":[{\\\"Applications\\\":[\\\"00000002-0000-0ff1-ce00-000000000000\\\",\\\"00000003-0000-0ff1-ce00-000000000000\\\"]}]},\\\"Users\\\":{\\\"Include\\\":[{\\\"Users\\\":[\\\"2935e535-8fdf-4217-865b-e084cb7214f1\\\"]}]},\\\"DevicePlatforms\\\":{\\\"Include\\\":[{\\\"DevicePlatforms\\\":[\\\"All\\\"]}],\\\"Exclude\\\":[{\\\"DevicePlatforms\\\":[\\\"Android\\\",\\\"iOS\\\",\\\"macOS\\\"]}]},\\\"ClientTypes\\\":{\\\"Include\\\":[{\\\"ClientTypes\\\":[\\\"Browser\\\",\\\"Native\\\"]}]}},\\\"SessionControls\\\":[\\\"CloudAppSecurity\\\"],\\\"CasSessionControlType\\\":1}', 'PolicyLastUpdatedTime': '8/17/2020 5:14:39 AM', 'TenantDefaultPolicy': '', 'DisplayName': 'Block Access JulianI', 'PolicyIdentifierString': ''})\"],[\"Cmd(name='Set-ConditionalAccessPolicy', params={'Identity': 'seccxpninja.onmicrosoft.com\\\\\\\\b2915792-0396-4abe-94ec-e17fa17243c5', 'PolicyDetails': '{\\\"Version\\\":0,\\\"State\\\":\\\"Enabled\\\",\\\"Conditions\\\":{\\\"Applications\\\":{\\\"Include\\\":[{\\\"Applications\\\":[\\\"94c63fef-13a3-47bc-8074-75af8c65887a\\\",\\\"c9a559d2-7aab-4f13-a6ed-e7e9c52aec87\\\"]}]},\\\"Users\\\":{\\\"Include\\\":[{\\\"Users\\\":[\\\"bdb72692-2275-412b-8af0-ea21c2ebd174\\\",\\\"eababd92-9dc7-40e3-9359-6c106522db19\\\"]}]},\\\"SignInRisks\\\":{\\\"Include\\\":[{\\\"SignInRisks\\\":[\\\"High\\\",\\\"Medium\\\",\\\"Low\\\"]}]}},\\\"SessionControls\\\":[\\\"CloudAppSecurity\\\"],\\\"PersistentBrowserSessionMode\\\":\\\"NotSet\\\",\\\"EnforceAllPoliciesForEas\\\":false,\\\"IncludeOtherLegacyClientTypeForEvaluation\\\":false,\\\"CasSessionControlType\\\":3}', 'PolicyLastUpdatedTime': '8/18/2020 2:24:12 AM', 'TenantDefaultPolicy': '', 'DisplayName': 'GBB demo', 'PolicyIdentifierString': ''})\",\"Cmd(name='Set-ConditionalAccessPolicy', params={'Identity': 'seccxpninja.onmicrosoft.com\\\\\\\\235bec94-f744-48ac-8314-5675953d2def', 'PolicyDetails': '{\\\"Version\\\":0,\\\"State\\\":\\\"Disabled\\\",\\\"Conditions\\\":{\\\"Applications\\\":{\\\"Include\\\":[{\\\"Applications\\\":[\\\"All\\\"]}]},\\\"Users\\\":{\\\"Include\\\":[{\\\"Users\\\":[\\\"eababd92-9dc7-40e3-9359-6c106522db19\\\"]}]},\\\"DevicePlatforms\\\":{\\\"Include\\\":[{\\\"DevicePlatforms\\\":[\\\"All\\\"]}],\\\"Exclude\\\":[{\\\"DevicePlatforms\\\":[\\\"macOS\\\"]}]}},\\\"Controls\\\":[{\\\"Control\\\":[\\\"Mfa\\\"]}],\\\"PersistentBrowserSessionMode\\\":\\\"NotSet\\\",\\\"EnforceAllPoliciesForEas\\\":false,\\\"IncludeOtherLegacyClientTypeForEvaluation\\\":false}', 'PolicyLastUpdatedTime': '8/18/2020 2:24:11 AM', 'TenantDefaultPolicy': '', 'DisplayName': 'Megan MFA demo', 'PolicyIdentifierString': ''})\"],[\"Cmd(name='Set-ConditionalAccessPolicy', params={'Identity': 'seccxpninja.onmicrosoft.com\\\\\\\\bcd93f74-64fd-4042-a3ae-ee6d48886d6d', 'PolicyDetails': '{\\\"Version\\\":0,\\\"State\\\":\\\"Enabled\\\",\\\"Conditions\\\":{\\\"Applications\\\":{\\\"Include\\\":[{\\\"Applications\\\":[\\\"c9a559d2-7aab-4f13-a6ed-e7e9c52aec87\\\"]}]},\\\"Users\\\":{\\\"Include\\\":[{\\\"Users\\\":[\\\"bdb72692-2275-412b-8af0-ea21c2ebd174\\\",\\\"eababd92-9dc7-40e3-9359-6c106522db19\\\"]}]}},\\\"SessionControls\\\":[\\\"CloudAppSecurity\\\"],\\\"PersistentBrowserSessionMode\\\":\\\"NotSet\\\",\\\"EnforceAllPoliciesForEas\\\":false,\\\"IncludeOtherLegacyClientTypeForEvaluation\\\":false,\\\"CasSessionControlType\\\":3}', 'PolicyLastUpdatedTime': '8/18/2020 2:24:11 AM', 'TenantDefaultPolicy': '', 'DisplayName': 'Form MCAS', 'PolicyIdentifierString': ''})\",\"Cmd(name='Set-ConditionalAccessPolicy', params={'Identity': 'seccxpninja.onmicrosoft.com\\\\\\\\bcd93f74-64fd-4042-a3ae-ee6d48886d6d', 'PolicyDetails': '{\\\"Version\\\":0,\\\"State\\\":\\\"Enabled\\\",\\\"Conditions\\\":{\\\"Applications\\\":{\\\"Include\\\":[{\\\"Applications\\\":[\\\"c9a559d2-7aab-4f13-a6ed-e7e9c52aec87\\\"]}]},\\\"Users\\\":{\\\"Include\\\":[{\\\"Users\\\":[\\\"bdb72692-2275-412b-8af0-ea21c2ebd174\\\",\\\"eababd92-9dc7-40e3-9359-6c106522db19\\\"]}]}},\\\"SessionControls\\\":[\\\"CloudAppSecurity\\\"],\\\"PersistentBrowserSessionMode\\\":\\\"NotSet\\\",\\\"EnforceAllPoliciesForEas\\\":false,\\\"IncludeOtherLegacyClientTypeForEvaluation\\\":false,\\\"CasSessionControlType\\\":3}', 'PolicyLastUpdatedTime': '8/18/2020 2:24:11 AM', 'TenantDefaultPolicy': '', 'DisplayName': 'Form MCAS', 'PolicyIdentifierString': ''})\"],[\"Cmd(name='Set-ConditionalAccessPolicy', params={'Identity': 'seccxpninja.onmicrosoft.com\\\\\\\\8837fdaa-aaeb-4432-9622-43f6f583d583', 'PolicyDetails': '{\\\"KnownNetworkPolicies\\\":{\\\"NetworkName\\\":\\\"BE-Office\\\",\\\"NetworkId\\\":\\\"b98b9088-ce88-4fae-80fb-5b58cb1ce685\\\",\\\"CidrIpRanges\\\":[\\\"109.88.218.99/28\\\"],\\\"CountryIsoCodes\\\":null,\\\"Categories\\\":[],\\\"ApplyToUnknownCountry\\\":false}}', 'PolicyLastUpdatedTime': '8/18/2020 5:19:26 AM', 'TenantDefaultPolicy': '6', 'DisplayName': 'Known Networks List', 'PolicyIdentifierString': '3/19/2020 7:45:08 PM'})\",\"Cmd(name='Set-ConditionalAccessPolicy', params={'Identity': 'seccxpninja.onmicrosoft.com\\\\\\\\bcd93f74-64fd-4042-a3ae-ee6d48886d6d', 'PolicyDetails': '{\\\"Version\\\":0,\\\"State\\\":\\\"Enabled\\\",\\\"Conditions\\\":{\\\"Applications\\\":{\\\"Include\\\":[{\\\"Applications\\\":[\\\"c9a559d2-7aab-4f13-a6ed-e7e9c52aec87\\\"]}]},\\\"Users\\\":{\\\"Include\\\":[{\\\"Users\\\":[\\\"bdb72692-2275-412b-8af0-ea21c2ebd174\\\",\\\"eababd92-9dc7-40e3-9359-6c106522db19\\\"]}]}},\\\"SessionControls\\\":[\\\"CloudAppSecurity\\\"],\\\"PersistentBrowserSessionMode\\\":\\\"NotSet\\\",\\\"EnforceAllPoliciesForEas\\\":false,\\\"IncludeOtherLegacyClientTypeForEvaluation\\\":false,\\\"CasSessionControlType\\\":3}', 'PolicyLastUpdatedTime': '8/18/2020 5:19:23 AM', 'TenantDefaultPolicy': '', 'DisplayName': 'Form MCAS', 'PolicyIdentifierString': ''})\"],[\"Cmd(name='Set-ConditionalAccessPolicy', params={'Identity': 'seccxpninja.onmicrosoft.com\\\\\\\\8837fdaa-aaeb-4432-9622-43f6f583d583', 'PolicyDetails': '{\\\"KnownNetworkPolicies\\\":{\\\"NetworkName\\\":\\\"BE-Office\\\",\\\"NetworkId\\\":\\\"b98b9088-ce88-4fae-80fb-5b58cb1ce685\\\",\\\"CidrIpRanges\\\":[\\\"109.88.218.99/28\\\"],\\\"CountryIsoCodes\\\":null,\\\"Categories\\\":[],\\\"ApplyToUnknownCountry\\\":false}}', 'PolicyLastUpdatedTime': '8/19/2020 2:29:04 AM', 'TenantDefaultPolicy': '6', 'DisplayName': 'Known Networks List', 'PolicyIdentifierString': '3/19/2020 7:45:08 PM'})\",\"Cmd(name='Set-ConditionalAccessPolicy', params={'Identity': 'seccxpninja.onmicrosoft.com\\\\\\\\69c7a12f-b407-45a3-b07e-fa04fc7f273d', 'PolicyDetails': '{\\\"Version\\\":0,\\\"State\\\":\\\"Enabled\\\",\\\"Conditions\\\":{\\\"Applications\\\":{\\\"Include\\\":[{\\\"Applications\\\":[\\\"00000003-0000-0ff1-ce00-000000000000\\\"]}]},\\\"Users\\\":{\\\"Include\\\":[{\\\"Users\\\":[\\\"All\\\"]}]}},\\\"SessionControls\\\":[\\\"CloudAppSecurity\\\"],\\\"PersistentBrowserSessionMode\\\":\\\"NotSet\\\",\\\"EnforceAllPoliciesForEas\\\":false,\\\"IncludeOtherLegacyClientTypeForEvaluation\\\":false,\\\"CasSessionControlType\\\":1}', 'PolicyLastUpdatedTime': '8/19/2020 2:29:03 AM', 'TenantDefaultPolicy': '', 'DisplayName': 'Test Policy', 'PolicyIdentifierString': ''})\"],[\"Cmd(name='Set-ConditionalAccessPolicy', params={'Identity': 'seccxpninja.onmicrosoft.com\\\\\\\\3b13ea3c-c733-4eb8-bd19-67d308b2ea04', 'PolicyDetails': '{\\\"Version\\\":0,\\\"CreatedDateTime\\\":\\\"2020-05-19T13:34:15.2394934Z\\\",\\\"ModifiedDateTime\\\":\\\"2020-05-19T13:39:04.7333386Z\\\",\\\"State\\\":\\\"Reporting\\\",\\\"Conditions\\\":{\\\"Applications\\\":{\\\"Include\\\":[{\\\"Applications\\\":[\\\"None\\\"]}]},\\\"Users\\\":{\\\"Include\\\":[{\\\"Users\\\":[\\\"Guests\\\"]}]},\\\"DevicePlatforms\\\":{\\\"Include\\\":[{\\\"DevicePlatforms\\\":[\\\"All\\\"]}],\\\"Exclude\\\":[{\\\"DevicePlatforms\\\":[\\\"Android\\\",\\\"iOS\\\",\\\"macOS\\\"]}]},\\\"ClientTypes\\\":{\\\"Include\\\":[{\\\"ClientTypes\\\":[\\\"Browser\\\",\\\"Native\\\"]}]}},\\\"Controls\\\":[{\\\"Control\\\":[\\\"Mfa\\\",\\\"RequireCompliantDevice\\\"]}]}', 'PolicyLastUpdatedTime': '8/19/2020 5:55:34 AM', 'TenantDefaultPolicy': '', 'DisplayName': 'Yanivsh -CA Test', 'PolicyIdentifierString': ''})\",\"Cmd(name='Set-ConditionalAccessPolicy', params={'Identity': 'seccxpninja.onmicrosoft.com\\\\\\\\235bec94-f744-48ac-8314-5675953d2def', 'PolicyDetails': '{\\\"Version\\\":0,\\\"State\\\":\\\"Disabled\\\",\\\"Conditions\\\":{\\\"Applications\\\":{\\\"Include\\\":[{\\\"Applications\\\":[\\\"All\\\"]}]},\\\"Users\\\":{\\\"Include\\\":[{\\\"Users\\\":[\\\"eababd92-9dc7-40e3-9359-6c106522db19\\\"]}]},\\\"DevicePlatforms\\\":{\\\"Include\\\":[{\\\"DevicePlatforms\\\":[\\\"All\\\"]}],\\\"Exclude\\\":[{\\\"DevicePlatforms\\\":[\\\"macOS\\\"]}]}},\\\"Controls\\\":[{\\\"Control\\\":[\\\"Mfa\\\"]}],\\\"PersistentBrowserSessionMode\\\":\\\"NotSet\\\",\\\"EnforceAllPoliciesForEas\\\":false,\\\"IncludeOtherLegacyClientTypeForEvaluation\\\":false}', 'PolicyLastUpdatedTime': '8/19/2020 5:55:31 AM', 'TenantDefaultPolicy': '', 'DisplayName': 'Megan MFA demo', 'PolicyIdentifierString': ''})\"],[\"Cmd(name='Update-RoleGroupMember', params={'Members': 'CBoehmSA;ComplianceAdmins_939735849', 'Identity': 'Compliance Management'})\",\"Cmd(name='Update-RoleGroupMember', params={'Members': 'CBoehmSA', 'Identity': 'Discovery Management'})\",\"Cmd(name='Update-RoleGroupMember', params={'Members': 'CBoehmSA;ComplianceAdmins_939735849', 'Identity': 'Compliance Management'})\"]],\"rarest_window3_likelihood\":{\"__ndarray__\":\"pMNMZgJHVj+fo/MNXnNrP/uhBFXA21c/xXdJN6mCaz/RsX64a1NWP0t+aF9NO2g/pMNMZgJHVj/7oQRVwNtXP25O7nnAX1Y/pMNMZgJHVj+fo/MNXnNrP6TDTGYCR1Y/0bF+uGtTVj/7oQRVwNtXP6TDTGYCR1Y/pMNMZgJHVj+kw0xmAkdWP6TDTGYCR1Y/uZOq5DGydT/RsX64a1NWP/uhBFXA21c/9alw+QBsVj/7oQRVwNtXP9KxfrhrU1Y/bk7uecBfVj9PJZ0yhDpWP08lnTKEOlY/bk7uecBfVj+kw0xmAkdWP08lnTKEOlY/wa3FmuAvaz+mcfvnfnhWP6TDTGYCR1Y/bk7uecBfVj+MLHQADS5WP8V3STepgms/UM7nWmdsaz+kw0xmAkdWPyTwhzf+mXU/pMNMZgJHVj9PJZ0yhDpWP08lnTKEOlY/jCx0AA0uVj/RsX64a1NWPxaGejcoP2s/9alw+QBsVj+kw0xmAkdWPxaGejcoP2s/pMNMZgJHVj9PJZ0yhDpWP0gj/o7mRlY/bk7uecBfVj+kw0xmAkdWP25O7nnAX1Y/TyWdMoQ6Vj+kw0xmAkdWP/uhBFXA21c/0rF+uGtTVj9PJZ0yhDpWP/uhBFXA21c/1mv3NWtdaz9PJZ0yhDpWP0kj/o7mRlY/5xmdI+iEVj+kw0xmAkdWP08lnTKEOlY/9alw+QBsVj+kw0xmAkdWP08lnTKEOlY/+6EEVcDbVz+fo/MNXnNrP9Zr9zVrXWs/SCP+juZGVj9PJZ0yhDpWP29TuwZuX1Y/pMNMZgJHVj+fo/MNXnNrP6dx++d+eFY/2Ptwf+gcgj9uTu55wF9WP25O7nnAX1Y/SSP+juZGVj+MLHQADS5WPxaGejcoP2s/bk7uecBfVj+Uxg7l86BrP7mTquQxsnU/TyWdMoQ6Vj/7oQRVwNtXP8GtxZrgL2s/HGiJCJp4Vj+kw0xmAkdWP/uhBFXA21c/TyWdMoQ6Vj+kw0xmAkdWP6TDTGYCR1Y/+6EEVcDbVz+Uxg7l86BrP25O7nnAX1Y/bk7uecBfVj/7oQRVwNtXP6TDTGYCR1Y/n6PzDV5zaz+fo/MNXnNrPxaGejcoP2s/pnH75354Vj/2PiVmNFNWP5+j8w1ec2s/5xmdI+iEVj+kw0xmAkdWP08lnTKEOlY/TyWdMoQ6Vj/7oQRVwNtXP9GxfrhrU1Y/5xmdI+iEVj/7oQRVwNtXP6dx++d+eFY/cFO7Bm5fVj9PJZ0yhDpWP25O7nnAX1Y/JPCHN/6ZdT+fo/MNXnNrPxaGejcoP2s/lMYO5fOgaz+fo/MNXnNrP25O7nnAX1Y/+6EEVcDbVz/RsX64a1NWP9GxfrhrU1Y/n6PzDV5zaz9Va8op+WNrPzDrS0pWTms/pMNMZgJHVj+kw0xmAkdWP9GxfrhrU1Y/VWvKKfljaz/SsX64a1NWP6TDTGYCR1Y/pMNMZgJHVj9JI/6O5kZWP25O7nnAX1Y/pMNMZgJHVj+fo/MNXnNrP5TGDuXzoGs/0rF+uGtTVj9mFBl9kFHFPg==\",\"dtype\":\"float64\",\"order\":\"little\",\"shape\":[146]},\"time_col\":[\"2020-06-21 02:36:46+00:00\",\"2020-06-21 05:31:34+00:00\",\"2020-06-22 02:27:06+00:00\",\"2020-06-22 02:30:52+00:00\",\"2020-06-22 04:55:59+00:00\",\"2020-06-23 02:31:32+00:00\",\"2020-06-23 05:35:26+00:00\",\"2020-06-24 02:00:55+00:00\",\"2020-06-24 02:06:55+00:00\",\"2020-06-24 05:21:02+00:00\",\"2020-06-25 02:15:42+00:00\",\"2020-06-26 03:41:02+00:00\",\"2020-06-26 06:56:14+00:00\",\"2020-06-27 02:36:03+00:00\",\"2020-06-27 02:40:59+00:00\",\"2020-06-27 05:10:41+00:00\",\"2020-06-28 02:25:45+00:00\",\"2020-06-28 05:25:42+00:00\",\"2020-06-28 05:30:53+00:00\",\"2020-06-29 02:01:49+00:00\",\"2020-06-29 04:50:44+00:00\",\"2020-06-29 04:56:13+00:00\",\"2020-06-30 02:11:11+00:00\",\"2020-06-30 02:16:20+00:00\",\"2020-06-30 05:15:37+00:00\",\"2020-07-01 01:56:06+00:00\",\"2020-07-01 05:20:57+00:00\",\"2020-07-02 02:16:17+00:00\",\"2020-07-02 05:01:42+00:00\",\"2020-07-03 02:38:45+00:00\",\"2020-07-03 05:38:39+00:00\",\"2020-07-04 02:10:37+00:00\",\"2020-07-04 05:06:39+00:00\",\"2020-07-05 02:15:59+00:00\",\"2020-07-05 05:15:54+00:00\",\"2020-07-06 01:51:03+00:00\",\"2020-07-06 04:41:38+00:00\",\"2020-07-07 02:01:28+00:00\",\"2020-07-08 02:40:54+00:00\",\"2020-07-08 05:06:16+00:00\",\"2020-07-09 02:45:55+00:00\",\"2020-07-10 02:55:37+00:00\",\"2020-07-10 05:41:11+00:00\",\"2020-07-11 02:31:00+00:00\",\"2020-07-11 05:11:24+00:00\",\"2020-07-11 05:15:56+00:00\",\"2020-07-12 02:56:23+00:00\",\"2020-07-12 05:40:46+00:00\",\"2020-07-13 03:13:51+00:00\",\"2020-07-13 05:46:02+00:00\",\"2020-07-13 05:51:32+00:00\",\"2020-07-14 03:15:14+00:00\",\"2020-07-14 05:36:52+00:00\",\"2020-07-15 03:00:52+00:00\",\"2020-07-15 05:36:56+00:00\",\"2020-07-16 02:40:40+00:00\",\"2020-07-16 05:06:29+00:00\",\"2020-07-16 05:14:07+00:00\",\"2020-07-17 02:07:43+00:00\",\"2020-07-17 05:06:25+00:00\",\"2020-07-17 05:10:59+00:00\",\"2020-07-18 05:31:05+00:00\",\"2020-07-19 05:46:03+00:00\",\"2020-07-20 02:30:58+00:00\",\"2020-07-20 06:16:41+00:00\",\"2020-07-21 02:16:20+00:00\",\"2020-07-21 05:06:31+00:00\",\"2020-07-22 02:20:45+00:00\",\"2020-07-22 05:21:38+00:00\",\"2020-07-23 02:26:13+00:00\",\"2020-07-23 02:30:51+00:00\",\"2020-07-23 04:30:50+00:00\",\"2020-07-23 05:31:27+00:00\",\"2020-07-24 02:41:29+00:00\",\"2020-07-24 05:05:49+00:00\",\"2020-07-25 02:30:48+00:00\",\"2020-07-25 05:46:32+00:00\",\"2020-07-26 02:41:28+00:00\",\"2020-07-26 02:47:29+00:00\",\"2020-07-26 05:29:37+00:00\",\"2020-07-27 02:16:05+00:00\",\"2020-07-27 05:21:25+00:00\",\"2020-07-28 02:11:05+00:00\",\"2020-07-28 05:31:49+00:00\",\"2020-07-28 05:35:59+00:00\",\"2020-07-28 05:40:57+00:00\",\"2020-07-29 01:51:42+00:00\",\"2020-07-29 02:46:29+00:00\",\"2020-07-29 05:24:14+00:00\",\"2020-07-29 05:26:49+00:00\",\"2020-07-30 02:25:55+00:00\",\"2020-07-30 05:21:00+00:00\",\"2020-07-31 02:45:46+00:00\",\"2020-07-31 02:50:49+00:00\",\"2020-07-31 05:05:42+00:00\",\"2020-08-01 02:35:39+00:00\",\"2020-08-01 05:36:25+00:00\",\"2020-08-01 05:41:31+00:00\",\"2020-08-02 02:21:03+00:00\",\"2020-08-02 05:36:35+00:00\",\"2020-08-03 02:16:00+00:00\",\"2020-08-03 02:21:26+00:00\",\"2020-08-03 05:26:28+00:00\",\"2020-08-04 01:56:07+00:00\",\"2020-08-04 05:46:29+00:00\",\"2020-08-05 02:31:32+00:00\",\"2020-08-05 05:25:34+00:00\",\"2020-08-05 05:51:25+00:00\",\"2020-08-05 08:20:38+00:00\",\"2020-08-05 16:50:31+00:00\",\"2020-08-06 02:25:53+00:00\",\"2020-08-06 05:26:17+00:00\",\"2020-08-06 06:55:49+00:00\",\"2020-08-06 08:16:06+00:00\",\"2020-08-06 20:16:01+00:00\",\"2020-08-06 20:51:13+00:00\",\"2020-08-06 23:11:04+00:00\",\"2020-08-07 03:11:34+00:00\",\"2020-08-07 03:26:13+00:00\",\"2020-08-07 05:41:05+00:00\",\"2020-08-08 02:15:55+00:00\",\"2020-08-08 05:16:44+00:00\",\"2020-08-08 09:36:37+00:00\",\"2020-08-09 01:56:24+00:00\",\"2020-08-09 05:15:38+00:00\",\"2020-08-10 02:36:00+00:00\",\"2020-08-10 05:25:57+00:00\",\"2020-08-10 05:30:33+00:00\",\"2020-08-11 03:04:21+00:00\",\"2020-08-11 05:19:46+00:00\",\"2020-08-12 01:56:17+00:00\",\"2020-08-12 05:36:26+00:00\",\"2020-08-13 02:56:44+00:00\",\"2020-08-13 05:35:54+00:00\",\"2020-08-14 02:32:07+00:00\",\"2020-08-14 05:51:15+00:00\",\"2020-08-16 02:06:26+00:00\",\"2020-08-16 05:11:57+00:00\",\"2020-08-17 02:05:52+00:00\",\"2020-08-17 05:20:45+00:00\",\"2020-08-18 02:32:00+00:00\",\"2020-08-18 02:35:50+00:00\",\"2020-08-18 05:26:24+00:00\",\"2020-08-19 02:36:20+00:00\",\"2020-08-19 06:06:00+00:00\",\"2020-07-29 20:11:27+00:00\"],\"y_index\":[1,1,1,1,1,1,1,1,1,1,1,1,1,1,1,1,1,1,1,1,1,1,1,1,1,1,1,1,1,1,1,1,1,1,1,1,1,1,1,1,1,1,1,1,1,1,1,1,1,1,1,1,1,1,1,1,1,1,1,1,1,1,1,1,1,1,1,1,1,1,1,1,1,1,1,1,1,1,1,1,1,1,1,1,1,1,1,1,1,1,1,1,1,1,1,1,1,1,1,1,1,1,1,1,1,1,1,1,1,1,1,1,1,1,1,1,1,1,1,1,1,1,1,1,1,1,1,1,1,1,1,1,1,1,1,1,1,1,1,1,1,1,1,1,1,1]},\"selected\":{\"id\":\"1499\"},\"selection_policy\":{\"id\":\"1498\"}},\"id\":\"1461\",\"type\":\"ColumnDataSource\"},{\"attributes\":{\"bottom_units\":\"screen\",\"coordinates\":null,\"fill_alpha\":0.5,\"fill_color\":\"lightgrey\",\"group\":null,\"left_units\":\"screen\",\"level\":\"overlay\",\"line_alpha\":1.0,\"line_color\":\"black\",\"line_dash\":[4,4],\"line_width\":2,\"right_units\":\"screen\",\"syncable\":false,\"top_units\":\"screen\"},\"id\":\"1425\",\"type\":\"BoxAnnotation\"},{\"attributes\":{\"tools\":[{\"id\":\"1400\"},{\"id\":\"1420\"},{\"id\":\"1421\"},{\"id\":\"1422\"},{\"id\":\"1423\"},{\"id\":\"1424\"}]},\"id\":\"1426\",\"type\":\"Toolbar\"},{\"attributes\":{\"mantissas\":[1,2,5],\"max_interval\":500.0,\"num_minor_ticks\":0},\"id\":\"1486\",\"type\":\"AdaptiveTicker\"},{\"attributes\":{\"days\":[\"%m-%d %H:%M\"],\"hours\":[\"%H:%M:%S\"],\"milliseconds\":[\"%H:%M:%S.%3N\"],\"minutes\":[\"%H:%M:%S\"],\"seconds\":[\"%H:%M:%S\"]},\"id\":\"1459\",\"type\":\"DatetimeTickFormatter\"},{\"attributes\":{\"base\":60,\"mantissas\":[1,2,5,10,15,20,30],\"max_interval\":1800000.0,\"min_interval\":1000.0,\"num_minor_ticks\":0},\"id\":\"1487\",\"type\":\"AdaptiveTicker\"},{\"attributes\":{\"days\":[\"%m-%d %H:%M\"],\"hours\":[\"%H:%M:%S\"],\"milliseconds\":[\"%H:%M:%S.%3N\"],\"minutes\":[\"%H:%M:%S\"],\"seconds\":[\"%H:%M:%S\"]},\"id\":\"1433\",\"type\":\"DatetimeTickFormatter\"},{\"attributes\":{\"base\":24,\"mantissas\":[1,2,4,6,8,12],\"max_interval\":43200000.0,\"min_interval\":3600000.0,\"num_minor_ticks\":0},\"id\":\"1488\",\"type\":\"AdaptiveTicker\"},{\"attributes\":{},\"id\":\"1497\",\"type\":\"YearsTicker\"},{\"attributes\":{\"months\":[0,1,2,3,4,5,6,7,8,9,10,11]},\"id\":\"1493\",\"type\":\"MonthsTicker\"},{\"attributes\":{\"days\":[1,15]},\"id\":\"1492\",\"type\":\"DaysTicker\"},{\"attributes\":{\"days\":[1,2,3,4,5,6,7,8,9,10,11,12,13,14,15,16,17,18,19,20,21,22,23,24,25,26,27,28,29,30,31]},\"id\":\"1489\",\"type\":\"DaysTicker\"},{\"attributes\":{\"active_multi\":{\"id\":\"1468\"},\"tools\":[{\"id\":\"1468\"}]},\"id\":\"1457\",\"type\":\"Toolbar\"},{\"attributes\":{\"days\":[1,4,7,10,13,16,19,22,25,28]},\"id\":\"1490\",\"type\":\"DaysTicker\"},{\"attributes\":{\"below\":[{\"id\":\"1412\"}],\"center\":[{\"id\":\"1415\"},{\"id\":\"1419\"}],\"height\":300,\"left\":[{\"id\":\"1416\"}],\"min_border_left\":50,\"renderers\":[{\"id\":\"1440\"}],\"title\":{\"id\":\"1402\"},\"toolbar\":{\"id\":\"1426\"},\"toolbar_location\":\"above\",\"width\":900,\"x_range\":{\"id\":\"1404\"},\"x_scale\":{\"id\":\"1408\"},\"y_range\":{\"id\":\"1406\"},\"y_scale\":{\"id\":\"1410\"}},\"id\":\"1401\",\"subtype\":\"Figure\",\"type\":\"Plot\"},{\"attributes\":{\"days\":[1,8,15,22]},\"id\":\"1491\",\"type\":\"DaysTicker\"},{\"attributes\":{\"months\":[0,6]},\"id\":\"1496\",\"type\":\"MonthsTicker\"},{\"attributes\":{\"months\":[0,2,4,6,8,10]},\"id\":\"1494\",\"type\":\"MonthsTicker\"},{\"attributes\":{\"align\":\"right\",\"coordinates\":null,\"group\":null,\"text\":\"Drag the middle or edges of the selection box to change the range in the main chart\",\"text_font_size\":\"10px\"},\"id\":\"1458\",\"type\":\"Title\"},{\"attributes\":{\"months\":[0,4,8]},\"id\":\"1495\",\"type\":\"MonthsTicker\"},{\"attributes\":{\"end\":1598328175400.0,\"start\":1592195990600.0},\"id\":\"1404\",\"type\":\"Range1d\"},{\"attributes\":{\"data\":{\"ClientIP\":[\"nan\",\"nan\",\"nan\",\"nan\",\"nan\",\"nan\",\"nan\",\"nan\",\"nan\",\"nan\",\"nan\",\"nan\",\"nan\",\"nan\",\"nan\",\"nan\",\"nan\",\"nan\",\"nan\",\"nan\",\"nan\",\"nan\",\"nan\",\"nan\",\"nan\",\"nan\",\"nan\",\"nan\",\"nan\",\"nan\",\"nan\",\"nan\",\"nan\",\"nan\",\"nan\",\"nan\",\"nan\",\"nan\",\"nan\",\"nan\",\"nan\",\"nan\",\"nan\",\"nan\",\"nan\",\"nan\",\"nan\",\"nan\",\"nan\",\"nan\",\"nan\",\"nan\",\"nan\",\"nan\",\"nan\",\"nan\",\"nan\",\"nan\",\"nan\",\"nan\",\"nan\",\"nan\",\"nan\",\"nan\",\"nan\",\"nan\",\"nan\",\"nan\",\"nan\",\"nan\",\"nan\",\"nan\",\"nan\",\"nan\",\"nan\",\"nan\",\"nan\",\"nan\",\"nan\",\"nan\",\"nan\",\"nan\",\"nan\",\"nan\",\"nan\",\"nan\",\"nan\",\"nan\",\"nan\",\"nan\",\"nan\",\"nan\",\"nan\",\"nan\",\"nan\",\"nan\",\"nan\",\"nan\",\"nan\",\"nan\",\"nan\",\"nan\",\"nan\",\"nan\",\"nan\",\"nan\",\"nan\",\"nan\",\"nan\",\"nan\",\"nan\",\"nan\",\"nan\",\"nan\",\"nan\",\"nan\",\"nan\",\"nan\",\"nan\",\"nan\",\"nan\",\"nan\",\"nan\",\"nan\",\"nan\",\"nan\",\"nan\",\"nan\",\"nan\",\"nan\",\"nan\",\"nan\",\"nan\",\"nan\",\"nan\",\"nan\",\"nan\",\"nan\",\"nan\",\"nan\",\"nan\",\"nan\",\"nan\",\"nan\",\"nan\",\"20.185.182.48:37965\"],\"UserId\":[\"NAMPRD06\\\\Administrator (Microsoft.Office.Datacenter.Torus.PowerShellWorker)\",\"NAMPRD06\\\\Administrator (Microsoft.Office.Datacenter.Torus.PowerShellWorker)\",\"NAMPRD06\\\\Administrator (Microsoft.Office.Datacenter.Torus.PowerShellWorker)\",\"NAMPRD06\\\\Administrator (Microsoft.Office.Datacenter.Torus.PowerShellWorker)\",\"NAMPRD06\\\\Administrator (Microsoft.Office.Datacenter.Torus.PowerShellWorker)\",\"NAMPRD06\\\\Administrator (Microsoft.Office.Datacenter.Torus.PowerShellWorker)\",\"NAMPRD06\\\\Administrator (Microsoft.Office.Datacenter.Torus.PowerShellWorker)\",\"NAMPRD06\\\\Administrator (Microsoft.Office.Datacenter.Torus.PowerShellWorker)\",\"NAMPRD06\\\\Administrator (Microsoft.Office.Datacenter.Torus.PowerShellWorker)\",\"NAMPRD06\\\\Administrator (Microsoft.Office.Datacenter.Torus.PowerShellWorker)\",\"NAMPRD06\\\\Administrator (Microsoft.Office.Datacenter.Torus.PowerShellWorker)\",\"NAMPRD06\\\\Administrator (Microsoft.Office.Datacenter.Torus.PowerShellWorker)\",\"NAMPRD06\\\\Administrator (Microsoft.Office.Datacenter.Torus.PowerShellWorker)\",\"NAMPRD06\\\\Administrator (Microsoft.Office.Datacenter.Torus.PowerShellWorker)\",\"NAMPRD06\\\\Administrator (Microsoft.Office.Datacenter.Torus.PowerShellWorker)\",\"NAMPRD06\\\\Administrator (Microsoft.Office.Datacenter.Torus.PowerShellWorker)\",\"NAMPRD06\\\\Administrator (Microsoft.Office.Datacenter.Torus.PowerShellWorker)\",\"NAMPRD06\\\\Administrator (Microsoft.Office.Datacenter.Torus.PowerShellWorker)\",\"NAMPRD06\\\\Administrator (Microsoft.Office.Datacenter.Torus.PowerShellWorker)\",\"NAMPRD06\\\\Administrator (Microsoft.Office.Datacenter.Torus.PowerShellWorker)\",\"NAMPRD06\\\\Administrator (Microsoft.Office.Datacenter.Torus.PowerShellWorker)\",\"NAMPRD06\\\\Administrator (Microsoft.Office.Datacenter.Torus.PowerShellWorker)\",\"NAMPRD06\\\\Administrator (Microsoft.Office.Datacenter.Torus.PowerShellWorker)\",\"NAMPRD06\\\\Administrator (Microsoft.Office.Datacenter.Torus.PowerShellWorker)\",\"NAMPRD06\\\\Administrator (Microsoft.Office.Datacenter.Torus.PowerShellWorker)\",\"NAMPRD06\\\\Administrator (Microsoft.Office.Datacenter.Torus.PowerShellWorker)\",\"NAMPRD06\\\\Administrator (Microsoft.Office.Datacenter.Torus.PowerShellWorker)\",\"NAMPRD06\\\\Administrator (Microsoft.Office.Datacenter.Torus.PowerShellWorker)\",\"NAMPRD06\\\\Administrator (Microsoft.Office.Datacenter.Torus.PowerShellWorker)\",\"NAMPRD06\\\\Administrator (Microsoft.Office.Datacenter.Torus.PowerShellWorker)\",\"NAMPRD06\\\\Administrator (Microsoft.Office.Datacenter.Torus.PowerShellWorker)\",\"NAMPRD06\\\\Administrator (Microsoft.Office.Datacenter.Torus.PowerShellWorker)\",\"NAMPRD06\\\\Administrator (Microsoft.Office.Datacenter.Torus.PowerShellWorker)\",\"NAMPRD06\\\\Administrator (Microsoft.Office.Datacenter.Torus.PowerShellWorker)\",\"NAMPRD06\\\\Administrator (Microsoft.Office.Datacenter.Torus.PowerShellWorker)\",\"NAMPRD06\\\\Administrator (Microsoft.Office.Datacenter.Torus.PowerShellWorker)\",\"NAMPRD06\\\\Administrator (Microsoft.Office.Datacenter.Torus.PowerShellWorker)\",\"NAMPRD06\\\\Administrator (Microsoft.Office.Datacenter.Torus.PowerShellWorker)\",\"NAMPRD06\\\\Administrator (Microsoft.Office.Datacenter.Torus.PowerShellWorker)\",\"NAMPRD06\\\\Administrator (Microsoft.Office.Datacenter.Torus.PowerShellWorker)\",\"NAMPRD06\\\\Administrator (Microsoft.Office.Datacenter.Torus.PowerShellWorker)\",\"NAMPRD06\\\\Administrator (Microsoft.Office.Datacenter.Torus.PowerShellWorker)\",\"NAMPRD06\\\\Administrator (Microsoft.Office.Datacenter.Torus.PowerShellWorker)\",\"NAMPRD06\\\\Administrator (Microsoft.Office.Datacenter.Torus.PowerShellWorker)\",\"NAMPRD06\\\\Administrator (Microsoft.Office.Datacenter.Torus.PowerShellWorker)\",\"NAMPRD06\\\\Administrator (Microsoft.Office.Datacenter.Torus.PowerShellWorker)\",\"NAMPRD06\\\\Administrator (Microsoft.Office.Datacenter.Torus.PowerShellWorker)\",\"NAMPRD06\\\\Administrator (Microsoft.Office.Datacenter.Torus.PowerShellWorker)\",\"NAMPRD06\\\\Administrator (Microsoft.Office.Datacenter.Torus.PowerShellWorker)\",\"NAMPRD06\\\\Administrator (Microsoft.Office.Datacenter.Torus.PowerShellWorker)\",\"NAMPRD06\\\\Administrator (Microsoft.Office.Datacenter.Torus.PowerShellWorker)\",\"NAMPRD06\\\\Administrator (Microsoft.Office.Datacenter.Torus.PowerShellWorker)\",\"NAMPRD06\\\\Administrator (Microsoft.Office.Datacenter.Torus.PowerShellWorker)\",\"NAMPRD06\\\\Administrator (Microsoft.Office.Datacenter.Torus.PowerShellWorker)\",\"NAMPRD06\\\\Administrator (Microsoft.Office.Datacenter.Torus.PowerShellWorker)\",\"NAMPRD06\\\\Administrator (Microsoft.Office.Datacenter.Torus.PowerShellWorker)\",\"NAMPRD06\\\\Administrator (Microsoft.Office.Datacenter.Torus.PowerShellWorker)\",\"NAMPRD06\\\\Administrator (Microsoft.Office.Datacenter.Torus.PowerShellWorker)\",\"NAMPRD06\\\\Administrator (Microsoft.Office.Datacenter.Torus.PowerShellWorker)\",\"NAMPRD06\\\\Administrator (Microsoft.Office.Datacenter.Torus.PowerShellWorker)\",\"NAMPRD06\\\\Administrator (Microsoft.Office.Datacenter.Torus.PowerShellWorker)\",\"NAMPRD06\\\\Administrator (Microsoft.Office.Datacenter.Torus.PowerShellWorker)\",\"NAMPRD06\\\\Administrator (Microsoft.Office.Datacenter.Torus.PowerShellWorker)\",\"NAMPRD06\\\\Administrator (Microsoft.Office.Datacenter.Torus.PowerShellWorker)\",\"NAMPRD06\\\\Administrator (Microsoft.Office.Datacenter.Torus.PowerShellWorker)\",\"NAMPRD06\\\\Administrator (Microsoft.Office.Datacenter.Torus.PowerShellWorker)\",\"NAMPRD06\\\\Administrator (Microsoft.Office.Datacenter.Torus.PowerShellWorker)\",\"NAMPRD06\\\\Administrator (Microsoft.Office.Datacenter.Torus.PowerShellWorker)\",\"NAMPRD06\\\\Administrator (Microsoft.Office.Datacenter.Torus.PowerShellWorker)\",\"NAMPRD06\\\\Administrator (Microsoft.Office.Datacenter.Torus.PowerShellWorker)\",\"NAMPRD06\\\\Administrator (Microsoft.Office.Datacenter.Torus.PowerShellWorker)\",\"NAMPRD06\\\\Administrator (Microsoft.Office.Datacenter.Torus.PowerShellWorker)\",\"NAMPRD06\\\\Administrator (Microsoft.Office.Datacenter.Torus.PowerShellWorker)\",\"NAMPRD06\\\\Administrator (Microsoft.Office.Datacenter.Torus.PowerShellWorker)\",\"NAMPRD06\\\\Administrator (Microsoft.Office.Datacenter.Torus.PowerShellWorker)\",\"NAMPRD06\\\\Administrator (Microsoft.Office.Datacenter.Torus.PowerShellWorker)\",\"NAMPRD06\\\\Administrator (Microsoft.Office.Datacenter.Torus.PowerShellWorker)\",\"NAMPRD06\\\\Administrator (Microsoft.Office.Datacenter.Torus.PowerShellWorker)\",\"NAMPRD06\\\\Administrator (Microsoft.Office.Datacenter.Torus.PowerShellWorker)\",\"NAMPRD06\\\\Administrator (Microsoft.Office.Datacenter.Torus.PowerShellWorker)\",\"NAMPRD06\\\\Administrator (Microsoft.Office.Datacenter.Torus.PowerShellWorker)\",\"NAMPRD06\\\\Administrator (Microsoft.Office.Datacenter.Torus.PowerShellWorker)\",\"NAMPRD06\\\\Administrator (Microsoft.Office.Datacenter.Torus.PowerShellWorker)\",\"NAMPRD06\\\\Administrator (Microsoft.Office.Datacenter.Torus.PowerShellWorker)\",\"NAMPRD06\\\\Administrator (Microsoft.Office.Datacenter.Torus.PowerShellWorker)\",\"NAMPRD06\\\\Administrator (Microsoft.Office.Datacenter.Torus.PowerShellWorker)\",\"NAMPRD06\\\\Administrator (Microsoft.Office.Datacenter.Torus.PowerShellWorker)\",\"NAMPRD06\\\\Administrator (Microsoft.Office.Datacenter.Torus.PowerShellWorker)\",\"NAMPRD06\\\\Administrator (Microsoft.Office.Datacenter.Torus.PowerShellWorker)\",\"NAMPRD06\\\\Administrator (Microsoft.Office.Datacenter.Torus.PowerShellWorker)\",\"NAMPRD06\\\\Administrator (Microsoft.Office.Datacenter.Torus.PowerShellWorker)\",\"NAMPRD06\\\\Administrator (Microsoft.Office.Datacenter.Torus.PowerShellWorker)\",\"NAMPRD06\\\\Administrator (Microsoft.Office.Datacenter.Torus.PowerShellWorker)\",\"NAMPRD06\\\\Administrator (Microsoft.Office.Datacenter.Torus.PowerShellWorker)\",\"NAMPRD06\\\\Administrator (Microsoft.Office.Datacenter.Torus.PowerShellWorker)\",\"NAMPRD06\\\\Administrator (Microsoft.Office.Datacenter.Torus.PowerShellWorker)\",\"NAMPRD06\\\\Administrator (Microsoft.Office.Datacenter.Torus.PowerShellWorker)\",\"NAMPRD06\\\\Administrator (Microsoft.Office.Datacenter.Torus.PowerShellWorker)\",\"NAMPRD06\\\\Administrator (Microsoft.Office.Datacenter.Torus.PowerShellWorker)\",\"NAMPRD06\\\\Administrator (Microsoft.Office.Datacenter.Torus.PowerShellWorker)\",\"NAMPRD06\\\\Administrator (Microsoft.Office.Datacenter.Torus.PowerShellWorker)\",\"NAMPRD06\\\\Administrator (Microsoft.Office.Datacenter.Torus.PowerShellWorker)\",\"NAMPRD06\\\\Administrator (Microsoft.Office.Datacenter.Torus.PowerShellWorker)\",\"NAMPRD06\\\\Administrator (Microsoft.Office.Datacenter.Torus.PowerShellWorker)\",\"NAMPRD06\\\\Administrator (Microsoft.Office.Datacenter.Torus.PowerShellWorker)\",\"NAMPRD06\\\\Administrator (Microsoft.Office.Datacenter.Torus.PowerShellWorker)\",\"NAMPRD06\\\\Administrator (Microsoft.Office.Datacenter.Torus.PowerShellWorker)\",\"NAMPRD06\\\\Administrator (Microsoft.Office.Datacenter.Torus.PowerShellWorker)\",\"NAMPRD06\\\\Administrator (Microsoft.Office.Datacenter.Torus.PowerShellWorker)\",\"NAMPRD06\\\\Administrator (Microsoft.Office.Datacenter.Torus.PowerShellWorker)\",\"NAMPRD06\\\\Administrator (Microsoft.Office.Datacenter.Torus.PowerShellWorker)\",\"NAMPRD06\\\\Administrator (Microsoft.Office.Datacenter.Torus.PowerShellWorker)\",\"NAMPRD06\\\\Administrator (Microsoft.Office.Datacenter.Torus.PowerShellWorker)\",\"NAMPRD06\\\\Administrator (Microsoft.Office.Datacenter.Torus.PowerShellWorker)\",\"NAMPRD06\\\\Administrator (Microsoft.Office.Datacenter.Torus.PowerShellWorker)\",\"NAMPRD06\\\\Administrator (Microsoft.Office.Datacenter.Torus.PowerShellWorker)\",\"NAMPRD06\\\\Administrator (Microsoft.Office.Datacenter.Torus.PowerShellWorker)\",\"NAMPRD06\\\\Administrator (Microsoft.Office.Datacenter.Torus.PowerShellWorker)\",\"NAMPRD06\\\\Administrator (Microsoft.Office.Datacenter.Torus.PowerShellWorker)\",\"NAMPRD06\\\\Administrator (Microsoft.Office.Datacenter.Torus.PowerShellWorker)\",\"NAMPRD06\\\\Administrator (Microsoft.Office.Datacenter.Torus.PowerShellWorker)\",\"NAMPRD06\\\\Administrator (Microsoft.Office.Datacenter.Torus.PowerShellWorker)\",\"NAMPRD06\\\\Administrator (Microsoft.Office.Datacenter.Torus.PowerShellWorker)\",\"NAMPRD06\\\\Administrator (Microsoft.Office.Datacenter.Torus.PowerShellWorker)\",\"NAMPRD06\\\\Administrator (Microsoft.Office.Datacenter.Torus.PowerShellWorker)\",\"NAMPRD06\\\\Administrator (Microsoft.Office.Datacenter.Torus.PowerShellWorker)\",\"NAMPRD06\\\\Administrator (Microsoft.Office.Datacenter.Torus.PowerShellWorker)\",\"NAMPRD06\\\\Administrator (Microsoft.Office.Datacenter.Torus.PowerShellWorker)\",\"NAMPRD06\\\\Administrator (Microsoft.Office.Datacenter.Torus.PowerShellWorker)\",\"NAMPRD06\\\\Administrator (Microsoft.Office.Datacenter.Torus.PowerShellWorker)\",\"NAMPRD06\\\\Administrator (Microsoft.Office.Datacenter.Torus.PowerShellWorker)\",\"NAMPRD06\\\\Administrator (Microsoft.Office.Datacenter.Torus.PowerShellWorker)\",\"NAMPRD06\\\\Administrator (Microsoft.Office.Datacenter.Torus.PowerShellWorker)\",\"NAMPRD06\\\\Administrator (Microsoft.Office.Datacenter.Torus.PowerShellWorker)\",\"NAMPRD06\\\\Administrator (Microsoft.Office.Datacenter.Torus.PowerShellWorker)\",\"NAMPRD06\\\\Administrator (Microsoft.Office.Datacenter.Torus.PowerShellWorker)\",\"NAMPRD06\\\\Administrator (Microsoft.Office.Datacenter.Torus.PowerShellWorker)\",\"NAMPRD06\\\\Administrator (Microsoft.Office.Datacenter.Torus.PowerShellWorker)\",\"NAMPRD06\\\\Administrator (Microsoft.Office.Datacenter.Torus.PowerShellWorker)\",\"NAMPRD06\\\\Administrator (Microsoft.Office.Datacenter.Torus.PowerShellWorker)\",\"NAMPRD06\\\\Administrator (Microsoft.Office.Datacenter.Torus.PowerShellWorker)\",\"NAMPRD06\\\\Administrator (Microsoft.Office.Datacenter.Torus.PowerShellWorker)\",\"NAMPRD06\\\\Administrator (Microsoft.Office.Datacenter.Torus.PowerShellWorker)\",\"NAMPRD06\\\\Administrator (Microsoft.Office.Datacenter.Torus.PowerShellWorker)\",\"NAMPRD06\\\\Administrator (Microsoft.Office.Datacenter.Torus.PowerShellWorker)\",\"timvic@contoso.onmicrosoft.com\"],\"begin\":{\"__ndarray__\":\"AADjw0std0IAAG/EVS13QgAACZydLXdCAAA2050td0IAgPEgpi13QgAAukLwLXdCAACTyPotd0IAgP3nQC53QgCA4T9BLndCAABjW0wud0IAAEsmlC53QgAAC27rLndCAABrmfYud0IAgOMbOi93QgCAJ2Q6L3dCAIAG9UIvd0IAgMLqiy93QgAAvzaWL3dCAICsgpYvd0IAgOzx3C93QgAASpzmL3dCAICc7OYvd0IAgOHgLzB3QgAAUiwwMHdCAICKbjowd0IAAK9pgTB3QgCAaiKNMHdCAIAW99Qwd0IAAC9u3jB3QgCA8KUoMXdCAIAx8TIxd0IAgJRveTF3QgCAMYKDMXdCAIDxI8wxd0IAAHFv1jF3QgCAdRwdMndCAAA93yYyd0IAAMwacDJ3QgAAL8LEMndCAACUE80yd0IAgGtxFzN3QgCAQmVqM3dCAICN3nMzd0IAAGpiuzN3QgAABpDEM3dCAABu0sQzd0IAgP07DzR3QgAA86MYNHdCAICZoWI0d0IAANlWazR3QgAAaqdrNHdCAACdG7U0d0IAAFI2vTR3QgAA6q4GNXdCAAAMnQ81d0IAAMTsVzV3QgCAwERgNXdCAICRtGA1d0IAgNlvqDV3QgCAhqmyNXdCAIBr7LI1d0IAgJp4BjZ3QgCAl7lZNndCAACt9aA2d0IAgBLgrTZ3QgAAEoXyNndCAID9Qfw2d0IAgIQrRTd3QgAALYVPN3dCAIBY4Zc3d0IAgDclmDd3QgAAyQKfN3dCAIC5eqI3d0IAgLom6zd3QgCA/GjzN3dCAAD87zw4d0IAACwjSDh3QgAA/PGPOHdCAIAeSpA4d0IAgB6RmTh3QgCA6OPgOHdCAIDAfus4d0IAgGoAMzl3QgCA2Hw+OXdCAIDhuT45d0IAgKICPzl3QgAAO0qEOXdCAIC4bIc5d0IAAINzkDl3QgCAWpmQOXdCAIAzpdg5d0IAAOap4jl3QgAAuS0sOndCAICydyw6d0IAAIcvNDp3QgCAR/99OndCAIA6V4g6d0IAgO+hiDp3QgCAKY/POndCAIBrv9o6d0IAAPCqITt3QgAAh/ohO3dCAAD6kCw7d0IAgG3tcjt3QgCA8BuAO3dCAAD6Wcc7d0IAAEtP0Tt3QgCA9MnSO3dCAAC/U9s7d0IAgL2A+Dt3QgCA9mwZPHdCAICKvyM8d0IAgBDfKDx3QgAAF3ctPHdCAIC+qFY8d0IAgF6sWDx3QgAA9KxgPHdCAADnb248d0IAgIBGbzx3QgCAFv52PHdCAIB3pr08d0IAACb/xzx3QgCACN7WPHdCAABU7g49d0IAAMlUGj13QgAAKJhjPXdCAICoUW09d0IAgAqVbT13QgCAMJ23PXdCAADVXL89d0IAgN4dBj53QgAAubYSPndCAAAe+Vs+d0IAAKkUZT53QgCARfasPndCAIBDW7g+d0IAAI1JUD93QgCAFOdaP3dCAAAAp6I/d0IAgLzNrT93QgAAkIv2P3dCAAC3w/Y/d0IAAECGAEB3QgAAyjBJQHdCAAAUMFVAd0IAgNk3wzl3Qg==\",\"dtype\":\"float64\",\"order\":\"little\",\"shape\":[146]},\"color\":[\"navy\",\"navy\",\"navy\",\"navy\",\"navy\",\"navy\",\"navy\",\"navy\",\"navy\",\"navy\",\"navy\",\"navy\",\"navy\",\"navy\",\"navy\",\"navy\",\"navy\",\"navy\",\"navy\",\"navy\",\"navy\",\"navy\",\"navy\",\"navy\",\"navy\",\"navy\",\"navy\",\"navy\",\"navy\",\"navy\",\"navy\",\"navy\",\"navy\",\"navy\",\"navy\",\"navy\",\"navy\",\"navy\",\"navy\",\"navy\",\"navy\",\"navy\",\"navy\",\"navy\",\"navy\",\"navy\",\"navy\",\"navy\",\"navy\",\"navy\",\"navy\",\"navy\",\"navy\",\"navy\",\"navy\",\"navy\",\"navy\",\"navy\",\"navy\",\"navy\",\"navy\",\"navy\",\"navy\",\"navy\",\"navy\",\"navy\",\"navy\",\"navy\",\"navy\",\"navy\",\"navy\",\"navy\",\"navy\",\"navy\",\"navy\",\"navy\",\"navy\",\"navy\",\"navy\",\"navy\",\"navy\",\"navy\",\"navy\",\"navy\",\"navy\",\"navy\",\"navy\",\"navy\",\"navy\",\"navy\",\"navy\",\"navy\",\"navy\",\"navy\",\"navy\",\"navy\",\"navy\",\"navy\",\"navy\",\"navy\",\"navy\",\"navy\",\"navy\",\"navy\",\"navy\",\"navy\",\"navy\",\"navy\",\"navy\",\"navy\",\"navy\",\"navy\",\"navy\",\"navy\",\"navy\",\"navy\",\"navy\",\"navy\",\"navy\",\"navy\",\"navy\",\"navy\",\"navy\",\"navy\",\"navy\",\"navy\",\"navy\",\"navy\",\"navy\",\"navy\",\"navy\",\"navy\",\"navy\",\"navy\",\"navy\",\"navy\",\"navy\",\"navy\",\"navy\",\"navy\",\"navy\",\"navy\",\"navy\",\"navy\",\"navy\",\"navy\"],\"index\":[0,1,2,3,4,5,6,7,8,9,10,11,12,13,14,15,16,17,18,19,20,21,22,23,24,25,26,27,28,29,30,31,32,33,34,35,36,37,38,39,40,41,42,43,44,45,46,47,48,49,50,51,52,53,54,55,56,57,58,59,60,61,62,63,64,65,66,67,68,69,70,71,72,73,74,75,76,77,78,79,80,81,82,83,84,85,86,87,88,89,90,91,92,93,94,95,96,97,98,99,100,101,102,103,104,105,106,107,108,109,110,111,112,113,114,115,116,117,118,119,120,121,122,123,124,125,126,127,128,129,130,131,132,133,134,135,136,137,138,139,140,141,142,143,144,145],\"rarest_window3\":[[\"Cmd(name='Set-ConditionalAccessPolicy', params={'Identity': 'seccxpninja.onmicrosoft.com\\\\\\\\bcd93f74-64fd-4042-a3ae-ee6d48886d6d', 'PolicyDetails': '{\\\"Version\\\":0,\\\"State\\\":\\\"Enabled\\\",\\\"Conditions\\\":{\\\"Applications\\\":{\\\"Include\\\":[{\\\"Applications\\\":[\\\"c9a559d2-7aab-4f13-a6ed-e7e9c52aec87\\\"]}]},\\\"Users\\\":{\\\"Include\\\":[{\\\"Users\\\":[\\\"bdb72692-2275-412b-8af0-ea21c2ebd174\\\",\\\"eababd92-9dc7-40e3-9359-6c106522db19\\\"]}]}},\\\"SessionControls\\\":[\\\"CloudAppSecurity\\\"],\\\"PersistentBrowserSessionMode\\\":\\\"NotSet\\\",\\\"EnforceAllPoliciesForEas\\\":false,\\\"IncludeOtherLegacyClientTypeForEvaluation\\\":false,\\\"CasSessionControlType\\\":3}', 'PolicyLastUpdatedTime': '6/21/2020 2:26:14 AM', 'TenantDefaultPolicy': '', 'DisplayName': 'Form MCAS', 'PolicyIdentifierString': ''})\",\"Cmd(name='Set-ConditionalAccessPolicy', params={'Identity': 'seccxpninja.onmicrosoft.com\\\\\\\\83a057fb-dbca-4ba8-bb5f-0ce6d6e7cff5', 'PolicyDetails': '{\\\"Version\\\":0,\\\"State\\\":\\\"Enabled\\\",\\\"Conditions\\\":{\\\"Applications\\\":{\\\"Include\\\":[{\\\"Acrs\\\":[\\\"urn:microsoft:req1\\\"]}]},\\\"Users\\\":{\\\"Include\\\":[{\\\"Users\\\":[\\\"eababd92-9dc7-40e3-9359-6c106522db19\\\"]}]}},\\\"Controls\\\":[{\\\"Control\\\":[\\\"Mfa\\\"]}],\\\"PersistentBrowserSessionMode\\\":\\\"NotSet\\\",\\\"EnforceAllPoliciesForEas\\\":false,\\\"IncludeOtherLegacyClientTypeForEvaluation\\\":false}', 'PolicyLastUpdatedTime': '6/21/2020 2:26:14 AM', 'TenantDefaultPolicy': '', 'DisplayName': 'MeganB MCAS Step-up', 'PolicyIdentifierString': ''})\"],[\"Cmd(name='Set-ConditionalAccessPolicy', params={'Identity': 'seccxpninja.onmicrosoft.com\\\\\\\\e183bd29-a3a3-4f91-a5a3-b83b21a544df', 'PolicyDetails': '{\\\"Version\\\":0,\\\"State\\\":\\\"Enabled\\\",\\\"Conditions\\\":{\\\"Applications\\\":{\\\"Include\\\":[{\\\"Applications\\\":[\\\"00000002-0000-0ff1-ce00-000000000000\\\"]}]},\\\"Users\\\":{\\\"Include\\\":[{\\\"Users\\\":[\\\"2935e535-8fdf-4217-865b-e084cb7214f1\\\"]}]}},\\\"SessionControls\\\":[\\\"AppEnforcedRestrictions\\\"],\\\"PersistentBrowserSessionMode\\\":\\\"NotSet\\\",\\\"EnforceAllPoliciesForEas\\\":false,\\\"IncludeOtherLegacyClientTypeForEvaluation\\\":false}', 'PolicyLastUpdatedTime': '6/21/2020 5:24:55 AM', 'TenantDefaultPolicy': '', 'DisplayName': 'JulianI Exchange native controls', 'PolicyIdentifierString': ''})\",\"Cmd(name='Set-ConditionalAccessPolicy', params={'Identity': 'seccxpninja.onmicrosoft.com\\\\\\\\8837fdaa-aaeb-4432-9622-43f6f583d583', 'PolicyDetails': '{\\\"KnownNetworkPolicies\\\":{\\\"NetworkName\\\":\\\"BE-Office\\\",\\\"NetworkId\\\":\\\"b98b9088-ce88-4fae-80fb-5b58cb1ce685\\\",\\\"CidrIpRanges\\\":[\\\"109.88.218.99/28\\\"],\\\"CountryIsoCodes\\\":null,\\\"Categories\\\":[],\\\"ApplyToUnknownCountry\\\":false}}', 'PolicyLastUpdatedTime': '6/21/2020 5:24:55 AM', 'TenantDefaultPolicy': '6', 'DisplayName': 'Known Networks List', 'PolicyIdentifierString': '3/19/2020 7:45:08 PM'})\"],[\"Cmd(name='Set-ConditionalAccessPolicy', params={'Identity': 'seccxpninja.onmicrosoft.com\\\\\\\\8872f6fb-da88-4b63-bcc7-17247669596b', 'PolicyDetails': '{\\\"Version\\\":0,\\\"State\\\":\\\"Enabled\\\",\\\"Conditions\\\":{\\\"Applications\\\":{\\\"Include\\\":[{\\\"Applications\\\":[\\\"00000002-0000-0ff1-ce00-000000000000\\\",\\\"09abbdfd-ed23-44ee-a2d9-a627aa1c90f3\\\",\\\"cc15fd57-2c6c-4117-a88c-83b1d56b4bbe\\\",\\\"00000003-0000-0ff1-ce00-000000000000\\\",\\\"00000005-0000-0ff1-ce00-000000000000\\\"]}]},\\\"Users\\\":{\\\"Include\\\":[{\\\"Users\\\":[\\\"eababd92-9dc7-40e3-9359-6c106522db19\\\"]}]}},\\\"SessionControls\\\":[\\\"CloudAppSecurity\\\"],\\\"PersistentBrowserSessionMode\\\":\\\"NotSet\\\",\\\"EnforceAllPoliciesForEas\\\":false,\\\"IncludeOtherLegacyClientTypeForEvaluation\\\":false,\\\"CasSessionControlType\\\":1}', 'PolicyLastUpdatedTime': '6/22/2020 2:19:55 AM', 'TenantDefaultPolicy': '', 'DisplayName': 'MeganB MCAS Proxy', 'PolicyIdentifierString': ''})\",\"Cmd(name='Set-ConditionalAccessPolicy', params={'Identity': 'seccxpninja.onmicrosoft.com\\\\\\\\8872f6fb-da88-4b63-bcc7-17247669596b', 'PolicyDetails': '{\\\"Version\\\":0,\\\"State\\\":\\\"Enabled\\\",\\\"Conditions\\\":{\\\"Applications\\\":{\\\"Include\\\":[{\\\"Applications\\\":[\\\"00000002-0000-0ff1-ce00-000000000000\\\",\\\"09abbdfd-ed23-44ee-a2d9-a627aa1c90f3\\\",\\\"cc15fd57-2c6c-4117-a88c-83b1d56b4bbe\\\",\\\"00000003-0000-0ff1-ce00-000000000000\\\",\\\"00000005-0000-0ff1-ce00-000000000000\\\"]}]},\\\"Users\\\":{\\\"Include\\\":[{\\\"Users\\\":[\\\"eababd92-9dc7-40e3-9359-6c106522db19\\\"]}]}},\\\"SessionControls\\\":[\\\"CloudAppSecurity\\\"],\\\"PersistentBrowserSessionMode\\\":\\\"NotSet\\\",\\\"EnforceAllPoliciesForEas\\\":false,\\\"IncludeOtherLegacyClientTypeForEvaluation\\\":false,\\\"CasSessionControlType\\\":1}', 'PolicyLastUpdatedTime': '6/22/2020 2:19:55 AM', 'TenantDefaultPolicy': '', 'DisplayName': 'MeganB MCAS Proxy', 'PolicyIdentifierString': ''})\"],[\"Cmd(name='Set-ConditionalAccessPolicy', params={'Identity': 'seccxpninja.onmicrosoft.com\\\\\\\\3b13ea3c-c733-4eb8-bd19-67d308b2ea04', 'PolicyDetails': '{\\\"Version\\\":0,\\\"CreatedDateTime\\\":\\\"2020-05-19T13:34:15.2394934Z\\\",\\\"ModifiedDateTime\\\":\\\"2020-05-19T13:39:04.7333386Z\\\",\\\"State\\\":\\\"Reporting\\\",\\\"Conditions\\\":{\\\"Applications\\\":{\\\"Include\\\":[{\\\"Applications\\\":[\\\"None\\\"]}]},\\\"Users\\\":{\\\"Include\\\":[{\\\"Users\\\":[\\\"Guests\\\"]}]},\\\"DevicePlatforms\\\":{\\\"Include\\\":[{\\\"DevicePlatforms\\\":[\\\"All\\\"]}],\\\"Exclude\\\":[{\\\"DevicePlatforms\\\":[\\\"Android\\\",\\\"iOS\\\",\\\"macOS\\\"]}]},\\\"ClientTypes\\\":{\\\"Include\\\":[{\\\"ClientTypes\\\":[\\\"Browser\\\",\\\"Native\\\"]}]}},\\\"Controls\\\":[{\\\"Control\\\":[\\\"Mfa\\\",\\\"RequireCompliantDevice\\\"]}]}', 'PolicyLastUpdatedTime': '6/22/2020 2:19:59 AM', 'TenantDefaultPolicy': '', 'DisplayName': 'Yanivsh -CA Test', 'PolicyIdentifierString': ''})\",\"Cmd(name='Set-ConditionalAccessPolicy', params={'Identity': 'seccxpninja.onmicrosoft.com\\\\\\\\8837fdaa-aaeb-4432-9622-43f6f583d583', 'PolicyDetails': '{\\\"KnownNetworkPolicies\\\":{\\\"NetworkName\\\":\\\"BE-Office\\\",\\\"NetworkId\\\":\\\"b98b9088-ce88-4fae-80fb-5b58cb1ce685\\\",\\\"CidrIpRanges\\\":[\\\"109.88.218.99/28\\\"],\\\"CountryIsoCodes\\\":null,\\\"Categories\\\":[],\\\"ApplyToUnknownCountry\\\":false}}', 'PolicyLastUpdatedTime': '6/22/2020 2:19:59 AM', 'TenantDefaultPolicy': '6', 'DisplayName': 'Known Networks List', 'PolicyIdentifierString': '3/19/2020 7:45:08 PM'})\"],[\"Cmd(name='Set-ConditionalAccessPolicy', params={'Identity': 'seccxpninja.onmicrosoft.com\\\\\\\\bcd93f74-64fd-4042-a3ae-ee6d48886d6d', 'PolicyDetails': '{\\\"Version\\\":0,\\\"State\\\":\\\"Enabled\\\",\\\"Conditions\\\":{\\\"Applications\\\":{\\\"Include\\\":[{\\\"Applications\\\":[\\\"c9a559d2-7aab-4f13-a6ed-e7e9c52aec87\\\"]}]},\\\"Users\\\":{\\\"Include\\\":[{\\\"Users\\\":[\\\"bdb72692-2275-412b-8af0-ea21c2ebd174\\\",\\\"eababd92-9dc7-40e3-9359-6c106522db19\\\"]}]}},\\\"SessionControls\\\":[\\\"CloudAppSecurity\\\"],\\\"PersistentBrowserSessionMode\\\":\\\"NotSet\\\",\\\"EnforceAllPoliciesForEas\\\":false,\\\"IncludeOtherLegacyClientTypeForEvaluation\\\":false,\\\"CasSessionControlType\\\":3}', 'PolicyLastUpdatedTime': '6/22/2020 4:47:52 AM', 'TenantDefaultPolicy': '', 'DisplayName': 'Form MCAS', 'PolicyIdentifierString': ''})\",\"Cmd(name='Set-ConditionalAccessPolicy', params={'Identity': 'seccxpninja.onmicrosoft.com\\\\\\\\3b13ea3c-c733-4eb8-bd19-67d308b2ea04', 'PolicyDetails': '{\\\"Version\\\":0,\\\"CreatedDateTime\\\":\\\"2020-05-19T13:34:15.2394934Z\\\",\\\"ModifiedDateTime\\\":\\\"2020-05-19T13:39:04.7333386Z\\\",\\\"State\\\":\\\"Reporting\\\",\\\"Conditions\\\":{\\\"Applications\\\":{\\\"Include\\\":[{\\\"Applications\\\":[\\\"None\\\"]}]},\\\"Users\\\":{\\\"Include\\\":[{\\\"Users\\\":[\\\"Guests\\\"]}]},\\\"DevicePlatforms\\\":{\\\"Include\\\":[{\\\"DevicePlatforms\\\":[\\\"All\\\"]}],\\\"Exclude\\\":[{\\\"DevicePlatforms\\\":[\\\"Android\\\",\\\"iOS\\\",\\\"macOS\\\"]}]},\\\"ClientTypes\\\":{\\\"Include\\\":[{\\\"ClientTypes\\\":[\\\"Browser\\\",\\\"Native\\\"]}]}},\\\"Controls\\\":[{\\\"Control\\\":[\\\"Mfa\\\",\\\"RequireCompliantDevice\\\"]}]}', 'PolicyLastUpdatedTime': '6/22/2020 4:47:53 AM', 'TenantDefaultPolicy': '', 'DisplayName': 'Yanivsh -CA Test', 'PolicyIdentifierString': ''})\"],[\"Cmd(name='Set-ConditionalAccessPolicy', params={'Identity': 'seccxpninja.onmicrosoft.com\\\\\\\\ba36f0a4-6d73-4ba4-9282-3b3c14575e36', 'PolicyDetails': '{\\\"Version\\\":0,\\\"ModifiedDateTime\\\":\\\"2020-05-19T13:31:41.7083504Z\\\",\\\"State\\\":\\\"Disabled\\\",\\\"Conditions\\\":{\\\"Applications\\\":{\\\"Include\\\":[{\\\"Applications\\\":[\\\"00000002-0000-0ff1-ce00-000000000000\\\",\\\"00000003-0000-0ff1-ce00-000000000000\\\"]}]},\\\"Users\\\":{\\\"Include\\\":[{\\\"Users\\\":[\\\"2935e535-8fdf-4217-865b-e084cb7214f1\\\"]}]},\\\"DevicePlatforms\\\":{\\\"Include\\\":[{\\\"DevicePlatforms\\\":[\\\"All\\\"]}],\\\"Exclude\\\":[{\\\"DevicePlatforms\\\":[\\\"Android\\\",\\\"iOS\\\",\\\"macOS\\\"]}]},\\\"ClientTypes\\\":{\\\"Include\\\":[{\\\"ClientTypes\\\":[\\\"Browser\\\",\\\"Native\\\"]}]}},\\\"SessionControls\\\":[\\\"CloudAppSecurity\\\"],\\\"CasSessionControlType\\\":1}', 'PolicyLastUpdatedTime': '6/23/2020 2:22:04 AM', 'TenantDefaultPolicy': '', 'DisplayName': 'Block Access JulianI', 'PolicyIdentifierString': ''})\",\"Cmd(name='Set-ConditionalAccessPolicy', params={'Identity': 'seccxpninja.onmicrosoft.com\\\\\\\\6490d00c-7ba1-42cf-aa88-99eb71d53bf7', 'PolicyDetails': '{\\\"Version\\\":0,\\\"LastUpdatedTimestamp\\\":\\\"2020-06-11T12:45:19.4695224Z\\\",\\\"State\\\":\\\"Disabled\\\",\\\"SignInFrequency\\\":\\\"NotSet\\\",\\\"PersistentBrowserSessionMode\\\":\\\"NotSet\\\"}', 'PolicyLastUpdatedTime': '6/23/2020 2:22:03 AM', 'TenantDefaultPolicy': '18', 'DisplayName': 'Default Policy', 'PolicyIdentifierString': '5/19/2020 1:39:05 PM'})\"],[\"Cmd(name='Set-ConditionalAccessPolicy', params={'Identity': 'seccxpninja.onmicrosoft.com\\\\\\\\83a057fb-dbca-4ba8-bb5f-0ce6d6e7cff5', 'PolicyDetails': '{\\\"Version\\\":0,\\\"State\\\":\\\"Enabled\\\",\\\"Conditions\\\":{\\\"Applications\\\":{\\\"Include\\\":[{\\\"Acrs\\\":[\\\"urn:microsoft:req1\\\"]}]},\\\"Users\\\":{\\\"Include\\\":[{\\\"Users\\\":[\\\"eababd92-9dc7-40e3-9359-6c106522db19\\\"]}]}},\\\"Controls\\\":[{\\\"Control\\\":[\\\"Mfa\\\"]}],\\\"PersistentBrowserSessionMode\\\":\\\"NotSet\\\",\\\"EnforceAllPoliciesForEas\\\":false,\\\"IncludeOtherLegacyClientTypeForEvaluation\\\":false}', 'PolicyLastUpdatedTime': '6/23/2020 5:22:45 AM', 'TenantDefaultPolicy': '', 'DisplayName': 'MeganB MCAS Step-up', 'PolicyIdentifierString': ''})\",\"Cmd(name='Set-ConditionalAccessPolicy', params={'Identity': 'seccxpninja.onmicrosoft.com\\\\\\\\bcd93f74-64fd-4042-a3ae-ee6d48886d6d', 'PolicyDetails': '{\\\"Version\\\":0,\\\"State\\\":\\\"Enabled\\\",\\\"Conditions\\\":{\\\"Applications\\\":{\\\"Include\\\":[{\\\"Applications\\\":[\\\"c9a559d2-7aab-4f13-a6ed-e7e9c52aec87\\\"]}]},\\\"Users\\\":{\\\"Include\\\":[{\\\"Users\\\":[\\\"bdb72692-2275-412b-8af0-ea21c2ebd174\\\",\\\"eababd92-9dc7-40e3-9359-6c106522db19\\\"]}]}},\\\"SessionControls\\\":[\\\"CloudAppSecurity\\\"],\\\"PersistentBrowserSessionMode\\\":\\\"NotSet\\\",\\\"EnforceAllPoliciesForEas\\\":false,\\\"IncludeOtherLegacyClientTypeForEvaluation\\\":false,\\\"CasSessionControlType\\\":3}', 'PolicyLastUpdatedTime': '6/23/2020 5:22:45 AM', 'TenantDefaultPolicy': '', 'DisplayName': 'Form MCAS', 'PolicyIdentifierString': ''})\"],[\"Cmd(name='Set-ConditionalAccessPolicy', params={'Identity': 'seccxpninja.onmicrosoft.com\\\\\\\\8872f6fb-da88-4b63-bcc7-17247669596b', 'PolicyDetails': '{\\\"Version\\\":0,\\\"State\\\":\\\"Enabled\\\",\\\"Conditions\\\":{\\\"Applications\\\":{\\\"Include\\\":[{\\\"Applications\\\":[\\\"00000002-0000-0ff1-ce00-000000000000\\\",\\\"09abbdfd-ed23-44ee-a2d9-a627aa1c90f3\\\",\\\"cc15fd57-2c6c-4117-a88c-83b1d56b4bbe\\\",\\\"00000003-0000-0ff1-ce00-000000000000\\\",\\\"00000005-0000-0ff1-ce00-000000000000\\\"]}]},\\\"Users\\\":{\\\"Include\\\":[{\\\"Users\\\":[\\\"eababd92-9dc7-40e3-9359-6c106522db19\\\"]}]}},\\\"SessionControls\\\":[\\\"CloudAppSecurity\\\"],\\\"PersistentBrowserSessionMode\\\":\\\"NotSet\\\",\\\"EnforceAllPoliciesForEas\\\":false,\\\"IncludeOtherLegacyClientTypeForEvaluation\\\":false,\\\"CasSessionControlType\\\":1}', 'PolicyLastUpdatedTime': '6/24/2020 1:55:12 AM', 'TenantDefaultPolicy': '', 'DisplayName': 'MeganB MCAS Proxy', 'PolicyIdentifierString': ''})\",\"Cmd(name='Set-ConditionalAccessPolicy', params={'Identity': 'seccxpninja.onmicrosoft.com\\\\\\\\8872f6fb-da88-4b63-bcc7-17247669596b', 'PolicyDetails': '{\\\"Version\\\":0,\\\"State\\\":\\\"Enabled\\\",\\\"Conditions\\\":{\\\"Applications\\\":{\\\"Include\\\":[{\\\"Applications\\\":[\\\"00000002-0000-0ff1-ce00-000000000000\\\",\\\"09abbdfd-ed23-44ee-a2d9-a627aa1c90f3\\\",\\\"cc15fd57-2c6c-4117-a88c-83b1d56b4bbe\\\",\\\"00000003-0000-0ff1-ce00-000000000000\\\",\\\"00000005-0000-0ff1-ce00-000000000000\\\"]}]},\\\"Users\\\":{\\\"Include\\\":[{\\\"Users\\\":[\\\"eababd92-9dc7-40e3-9359-6c106522db19\\\"]}]}},\\\"SessionControls\\\":[\\\"CloudAppSecurity\\\"],\\\"PersistentBrowserSessionMode\\\":\\\"NotSet\\\",\\\"EnforceAllPoliciesForEas\\\":false,\\\"IncludeOtherLegacyClientTypeForEvaluation\\\":false,\\\"CasSessionControlType\\\":1}', 'PolicyLastUpdatedTime': '6/24/2020 1:55:12 AM', 'TenantDefaultPolicy': '', 'DisplayName': 'MeganB MCAS Proxy', 'PolicyIdentifierString': ''})\"],[\"Cmd(name='Set-ConditionalAccessPolicy', params={'Identity': 'seccxpninja.onmicrosoft.com\\\\\\\\b2915792-0396-4abe-94ec-e17fa17243c5', 'PolicyDetails': '{\\\"Version\\\":0,\\\"State\\\":\\\"Enabled\\\",\\\"Conditions\\\":{\\\"Applications\\\":{\\\"Include\\\":[{\\\"Applications\\\":[\\\"94c63fef-13a3-47bc-8074-75af8c65887a\\\",\\\"c9a559d2-7aab-4f13-a6ed-e7e9c52aec87\\\"]}]},\\\"Users\\\":{\\\"Include\\\":[{\\\"Users\\\":[\\\"bdb72692-2275-412b-8af0-ea21c2ebd174\\\",\\\"eababd92-9dc7-40e3-9359-6c106522db19\\\"]}]},\\\"SignInRisks\\\":{\\\"Include\\\":[{\\\"SignInRisks\\\":[\\\"High\\\",\\\"Medium\\\",\\\"Low\\\"]}]}},\\\"SessionControls\\\":[\\\"CloudAppSecurity\\\"],\\\"PersistentBrowserSessionMode\\\":\\\"NotSet\\\",\\\"EnforceAllPoliciesForEas\\\":false,\\\"IncludeOtherLegacyClientTypeForEvaluation\\\":false,\\\"CasSessionControlType\\\":3}', 'PolicyLastUpdatedTime': '6/24/2020 1:55:13 AM', 'TenantDefaultPolicy': '', 'DisplayName': 'GBB demo', 'PolicyIdentifierString': ''})\",\"Cmd(name='Set-ConditionalAccessPolicy', params={'Identity': 'seccxpninja.onmicrosoft.com\\\\\\\\bcd93f74-64fd-4042-a3ae-ee6d48886d6d', 'PolicyDetails': '{\\\"Version\\\":0,\\\"State\\\":\\\"Enabled\\\",\\\"Conditions\\\":{\\\"Applications\\\":{\\\"Include\\\":[{\\\"Applications\\\":[\\\"c9a559d2-7aab-4f13-a6ed-e7e9c52aec87\\\"]}]},\\\"Users\\\":{\\\"Include\\\":[{\\\"Users\\\":[\\\"bdb72692-2275-412b-8af0-ea21c2ebd174\\\",\\\"eababd92-9dc7-40e3-9359-6c106522db19\\\"]}]}},\\\"SessionControls\\\":[\\\"CloudAppSecurity\\\"],\\\"PersistentBrowserSessionMode\\\":\\\"NotSet\\\",\\\"EnforceAllPoliciesForEas\\\":false,\\\"IncludeOtherLegacyClientTypeForEvaluation\\\":false,\\\"CasSessionControlType\\\":3}', 'PolicyLastUpdatedTime': '6/24/2020 1:55:13 AM', 'TenantDefaultPolicy': '', 'DisplayName': 'Form MCAS', 'PolicyIdentifierString': ''})\"],[\"Cmd(name='Set-ConditionalAccessPolicy', params={'Identity': 'seccxpninja.onmicrosoft.com\\\\\\\\8872f6fb-da88-4b63-bcc7-17247669596b', 'PolicyDetails': '{\\\"Version\\\":0,\\\"State\\\":\\\"Enabled\\\",\\\"Conditions\\\":{\\\"Applications\\\":{\\\"Include\\\":[{\\\"Applications\\\":[\\\"00000002-0000-0ff1-ce00-000000000000\\\",\\\"09abbdfd-ed23-44ee-a2d9-a627aa1c90f3\\\",\\\"cc15fd57-2c6c-4117-a88c-83b1d56b4bbe\\\",\\\"00000003-0000-0ff1-ce00-000000000000\\\",\\\"00000005-0000-0ff1-ce00-000000000000\\\"]}]},\\\"Users\\\":{\\\"Include\\\":[{\\\"Users\\\":[\\\"eababd92-9dc7-40e3-9359-6c106522db19\\\"]}]}},\\\"SessionControls\\\":[\\\"CloudAppSecurity\\\"],\\\"PersistentBrowserSessionMode\\\":\\\"NotSet\\\",\\\"EnforceAllPoliciesForEas\\\":false,\\\"IncludeOtherLegacyClientTypeForEvaluation\\\":false,\\\"CasSessionControlType\\\":1}', 'PolicyLastUpdatedTime': '6/24/2020 5:12:12 AM', 'TenantDefaultPolicy': '', 'DisplayName': 'MeganB MCAS Proxy', 'PolicyIdentifierString': ''})\",\"Cmd(name='Set-ConditionalAccessPolicy', params={'Identity': 'seccxpninja.onmicrosoft.com\\\\\\\\4c5a5ea0-5d9f-4730-baaa-7a69cf29ef26', 'PolicyDetails': '{\\\"Version\\\":0,\\\"State\\\":\\\"Enabled\\\",\\\"Conditions\\\":{\\\"Applications\\\":{\\\"Include\\\":[{\\\"Applications\\\":[\\\"All\\\"]}]},\\\"Users\\\":{\\\"Include\\\":[{\\\"Users\\\":[\\\"bdb72692-2275-412b-8af0-ea21c2ebd174\\\"]}]}},\\\"Controls\\\":[{\\\"Control\\\":[\\\"Mfa\\\"]}],\\\"PersistentBrowserSessionMode\\\":\\\"NotSet\\\",\\\"EnforceAllPoliciesForEas\\\":false,\\\"IncludeOtherLegacyClientTypeForEvaluation\\\":false}', 'PolicyLastUpdatedTime': '6/24/2020 5:12:15 AM', 'TenantDefaultPolicy': '', 'DisplayName': 'Semolen - Admin MFA', 'PolicyIdentifierString': ''})\"],[\"Cmd(name='Set-ConditionalAccessPolicy', params={'Identity': 'seccxpninja.onmicrosoft.com\\\\\\\\e183bd29-a3a3-4f91-a5a3-b83b21a544df', 'PolicyDetails': '{\\\"Version\\\":0,\\\"State\\\":\\\"Enabled\\\",\\\"Conditions\\\":{\\\"Applications\\\":{\\\"Include\\\":[{\\\"Applications\\\":[\\\"00000002-0000-0ff1-ce00-000000000000\\\"]}]},\\\"Users\\\":{\\\"Include\\\":[{\\\"Users\\\":[\\\"2935e535-8fdf-4217-865b-e084cb7214f1\\\"]}]}},\\\"SessionControls\\\":[\\\"AppEnforcedRestrictions\\\"],\\\"PersistentBrowserSessionMode\\\":\\\"NotSet\\\",\\\"EnforceAllPoliciesForEas\\\":false,\\\"IncludeOtherLegacyClientTypeForEvaluation\\\":false}', 'PolicyLastUpdatedTime': '6/25/2020 2:07:28 AM', 'TenantDefaultPolicy': '', 'DisplayName': 'JulianI Exchange native controls', 'PolicyIdentifierString': ''})\",\"Cmd(name='Set-ConditionalAccessPolicy', params={'Identity': 'seccxpninja.onmicrosoft.com\\\\\\\\8837fdaa-aaeb-4432-9622-43f6f583d583', 'PolicyDetails': '{\\\"KnownNetworkPolicies\\\":{\\\"NetworkName\\\":\\\"BE-Office\\\",\\\"NetworkId\\\":\\\"b98b9088-ce88-4fae-80fb-5b58cb1ce685\\\",\\\"CidrIpRanges\\\":[\\\"109.88.218.99/28\\\"],\\\"CountryIsoCodes\\\":null,\\\"Categories\\\":[],\\\"ApplyToUnknownCountry\\\":false}}', 'PolicyLastUpdatedTime': '6/25/2020 2:07:28 AM', 'TenantDefaultPolicy': '6', 'DisplayName': 'Known Networks List', 'PolicyIdentifierString': '3/19/2020 7:45:08 PM'})\"],[\"Cmd(name='Set-ConditionalAccessPolicy', params={'Identity': 'seccxpninja.onmicrosoft.com\\\\\\\\235bec94-f744-48ac-8314-5675953d2def', 'PolicyDetails': '{\\\"Version\\\":0,\\\"State\\\":\\\"Disabled\\\",\\\"Conditions\\\":{\\\"Applications\\\":{\\\"Include\\\":[{\\\"Applications\\\":[\\\"All\\\"]}]},\\\"Users\\\":{\\\"Include\\\":[{\\\"Users\\\":[\\\"eababd92-9dc7-40e3-9359-6c106522db19\\\"]}]},\\\"DevicePlatforms\\\":{\\\"Include\\\":[{\\\"DevicePlatforms\\\":[\\\"All\\\"]}],\\\"Exclude\\\":[{\\\"DevicePlatforms\\\":[\\\"macOS\\\"]}]}},\\\"Controls\\\":[{\\\"Control\\\":[\\\"Mfa\\\"]}],\\\"PersistentBrowserSessionMode\\\":\\\"NotSet\\\",\\\"EnforceAllPoliciesForEas\\\":false,\\\"IncludeOtherLegacyClientTypeForEvaluation\\\":false}', 'PolicyLastUpdatedTime': '6/26/2020 3:33:06 AM', 'TenantDefaultPolicy': '', 'DisplayName': 'Megan MFA demo', 'PolicyIdentifierString': ''})\",\"Cmd(name='Set-ConditionalAccessPolicy', params={'Identity': 'seccxpninja.onmicrosoft.com\\\\\\\\8872f6fb-da88-4b63-bcc7-17247669596b', 'PolicyDetails': '{\\\"Version\\\":0,\\\"State\\\":\\\"Enabled\\\",\\\"Conditions\\\":{\\\"Applications\\\":{\\\"Include\\\":[{\\\"Applications\\\":[\\\"00000002-0000-0ff1-ce00-000000000000\\\",\\\"09abbdfd-ed23-44ee-a2d9-a627aa1c90f3\\\",\\\"cc15fd57-2c6c-4117-a88c-83b1d56b4bbe\\\",\\\"00000003-0000-0ff1-ce00-000000000000\\\",\\\"00000005-0000-0ff1-ce00-000000000000\\\"]}]},\\\"Users\\\":{\\\"Include\\\":[{\\\"Users\\\":[\\\"eababd92-9dc7-40e3-9359-6c106522db19\\\"]}]}},\\\"SessionControls\\\":[\\\"CloudAppSecurity\\\"],\\\"PersistentBrowserSessionMode\\\":\\\"NotSet\\\",\\\"EnforceAllPoliciesForEas\\\":false,\\\"IncludeOtherLegacyClientTypeForEvaluation\\\":false,\\\"CasSessionControlType\\\":1}', 'PolicyLastUpdatedTime': '6/26/2020 3:33:05 AM', 'TenantDefaultPolicy': '', 'DisplayName': 'MeganB MCAS Proxy', 'PolicyIdentifierString': ''})\"],[\"Cmd(name='Set-ConditionalAccessPolicy', params={'Identity': 'seccxpninja.onmicrosoft.com\\\\\\\\e183bd29-a3a3-4f91-a5a3-b83b21a544df', 'PolicyDetails': '{\\\"Version\\\":0,\\\"State\\\":\\\"Enabled\\\",\\\"Conditions\\\":{\\\"Applications\\\":{\\\"Include\\\":[{\\\"Applications\\\":[\\\"00000002-0000-0ff1-ce00-000000000000\\\"]}]},\\\"Users\\\":{\\\"Include\\\":[{\\\"Users\\\":[\\\"2935e535-8fdf-4217-865b-e084cb7214f1\\\"]}]}},\\\"SessionControls\\\":[\\\"AppEnforcedRestrictions\\\"],\\\"PersistentBrowserSessionMode\\\":\\\"NotSet\\\",\\\"EnforceAllPoliciesForEas\\\":false,\\\"IncludeOtherLegacyClientTypeForEvaluation\\\":false}', 'PolicyLastUpdatedTime': '6/26/2020 6:48:26 AM', 'TenantDefaultPolicy': '', 'DisplayName': 'JulianI Exchange native controls', 'PolicyIdentifierString': ''})\",\"Cmd(name='Set-ConditionalAccessPolicy', params={'Identity': 'seccxpninja.onmicrosoft.com\\\\\\\\3b13ea3c-c733-4eb8-bd19-67d308b2ea04', 'PolicyDetails': '{\\\"Version\\\":0,\\\"CreatedDateTime\\\":\\\"2020-05-19T13:34:15.2394934Z\\\",\\\"ModifiedDateTime\\\":\\\"2020-05-19T13:39:04.7333386Z\\\",\\\"State\\\":\\\"Reporting\\\",\\\"Conditions\\\":{\\\"Applications\\\":{\\\"Include\\\":[{\\\"Applications\\\":[\\\"None\\\"]}]},\\\"Users\\\":{\\\"Include\\\":[{\\\"Users\\\":[\\\"Guests\\\"]}]},\\\"DevicePlatforms\\\":{\\\"Include\\\":[{\\\"DevicePlatforms\\\":[\\\"All\\\"]}],\\\"Exclude\\\":[{\\\"DevicePlatforms\\\":[\\\"Android\\\",\\\"iOS\\\",\\\"macOS\\\"]}]},\\\"ClientTypes\\\":{\\\"Include\\\":[{\\\"ClientTypes\\\":[\\\"Browser\\\",\\\"Native\\\"]}]}},\\\"Controls\\\":[{\\\"Control\\\":[\\\"Mfa\\\",\\\"RequireCompliantDevice\\\"]}]}', 'PolicyLastUpdatedTime': '6/26/2020 6:48:26 AM', 'TenantDefaultPolicy': '', 'DisplayName': 'Yanivsh -CA Test', 'PolicyIdentifierString': ''})\"],[\"Cmd(name='Set-ConditionalAccessPolicy', params={'Identity': 'seccxpninja.onmicrosoft.com\\\\\\\\8872f6fb-da88-4b63-bcc7-17247669596b', 'PolicyDetails': '{\\\"Version\\\":0,\\\"State\\\":\\\"Enabled\\\",\\\"Conditions\\\":{\\\"Applications\\\":{\\\"Include\\\":[{\\\"Applications\\\":[\\\"00000002-0000-0ff1-ce00-000000000000\\\",\\\"09abbdfd-ed23-44ee-a2d9-a627aa1c90f3\\\",\\\"cc15fd57-2c6c-4117-a88c-83b1d56b4bbe\\\",\\\"00000003-0000-0ff1-ce00-000000000000\\\",\\\"00000005-0000-0ff1-ce00-000000000000\\\"]}]},\\\"Users\\\":{\\\"Include\\\":[{\\\"Users\\\":[\\\"eababd92-9dc7-40e3-9359-6c106522db19\\\"]}]}},\\\"SessionControls\\\":[\\\"CloudAppSecurity\\\"],\\\"PersistentBrowserSessionMode\\\":\\\"NotSet\\\",\\\"EnforceAllPoliciesForEas\\\":false,\\\"IncludeOtherLegacyClientTypeForEvaluation\\\":false,\\\"CasSessionControlType\\\":1}', 'PolicyLastUpdatedTime': '6/27/2020 2:30:20 AM', 'TenantDefaultPolicy': '', 'DisplayName': 'MeganB MCAS Proxy', 'PolicyIdentifierString': ''})\",\"Cmd(name='Set-ConditionalAccessPolicy', params={'Identity': 'seccxpninja.onmicrosoft.com\\\\\\\\8872f6fb-da88-4b63-bcc7-17247669596b', 'PolicyDetails': '{\\\"Version\\\":0,\\\"State\\\":\\\"Enabled\\\",\\\"Conditions\\\":{\\\"Applications\\\":{\\\"Include\\\":[{\\\"Applications\\\":[\\\"00000002-0000-0ff1-ce00-000000000000\\\",\\\"09abbdfd-ed23-44ee-a2d9-a627aa1c90f3\\\",\\\"cc15fd57-2c6c-4117-a88c-83b1d56b4bbe\\\",\\\"00000003-0000-0ff1-ce00-000000000000\\\",\\\"00000005-0000-0ff1-ce00-000000000000\\\"]}]},\\\"Users\\\":{\\\"Include\\\":[{\\\"Users\\\":[\\\"eababd92-9dc7-40e3-9359-6c106522db19\\\"]}]}},\\\"SessionControls\\\":[\\\"CloudAppSecurity\\\"],\\\"PersistentBrowserSessionMode\\\":\\\"NotSet\\\",\\\"EnforceAllPoliciesForEas\\\":false,\\\"IncludeOtherLegacyClientTypeForEvaluation\\\":false,\\\"CasSessionControlType\\\":1}', 'PolicyLastUpdatedTime': '6/27/2020 2:30:20 AM', 'TenantDefaultPolicy': '', 'DisplayName': 'MeganB MCAS Proxy', 'PolicyIdentifierString': ''})\"],[\"Cmd(name='Set-ConditionalAccessPolicy', params={'Identity': 'seccxpninja.onmicrosoft.com\\\\\\\\235bec94-f744-48ac-8314-5675953d2def', 'PolicyDetails': '{\\\"Version\\\":0,\\\"State\\\":\\\"Disabled\\\",\\\"Conditions\\\":{\\\"Applications\\\":{\\\"Include\\\":[{\\\"Applications\\\":[\\\"All\\\"]}]},\\\"Users\\\":{\\\"Include\\\":[{\\\"Users\\\":[\\\"eababd92-9dc7-40e3-9359-6c106522db19\\\"]}]},\\\"DevicePlatforms\\\":{\\\"Include\\\":[{\\\"DevicePlatforms\\\":[\\\"All\\\"]}],\\\"Exclude\\\":[{\\\"DevicePlatforms\\\":[\\\"macOS\\\"]}]}},\\\"Controls\\\":[{\\\"Control\\\":[\\\"Mfa\\\"]}],\\\"PersistentBrowserSessionMode\\\":\\\"NotSet\\\",\\\"EnforceAllPoliciesForEas\\\":false,\\\"IncludeOtherLegacyClientTypeForEvaluation\\\":false}', 'PolicyLastUpdatedTime': '6/27/2020 2:30:20 AM', 'TenantDefaultPolicy': '', 'DisplayName': 'Megan MFA demo', 'PolicyIdentifierString': ''})\",\"Cmd(name='Set-ConditionalAccessPolicy', params={'Identity': 'seccxpninja.onmicrosoft.com\\\\\\\\bcd93f74-64fd-4042-a3ae-ee6d48886d6d', 'PolicyDetails': '{\\\"Version\\\":0,\\\"State\\\":\\\"Enabled\\\",\\\"Conditions\\\":{\\\"Applications\\\":{\\\"Include\\\":[{\\\"Applications\\\":[\\\"c9a559d2-7aab-4f13-a6ed-e7e9c52aec87\\\"]}]},\\\"Users\\\":{\\\"Include\\\":[{\\\"Users\\\":[\\\"bdb72692-2275-412b-8af0-ea21c2ebd174\\\",\\\"eababd92-9dc7-40e3-9359-6c106522db19\\\"]}]}},\\\"SessionControls\\\":[\\\"CloudAppSecurity\\\"],\\\"PersistentBrowserSessionMode\\\":\\\"NotSet\\\",\\\"EnforceAllPoliciesForEas\\\":false,\\\"IncludeOtherLegacyClientTypeForEvaluation\\\":false,\\\"CasSessionControlType\\\":3}', 'PolicyLastUpdatedTime': '6/27/2020 2:30:20 AM', 'TenantDefaultPolicy': '', 'DisplayName': 'Form MCAS', 'PolicyIdentifierString': ''})\"],[\"Cmd(name='Set-ConditionalAccessPolicy', params={'Identity': 'seccxpninja.onmicrosoft.com\\\\\\\\83a057fb-dbca-4ba8-bb5f-0ce6d6e7cff5', 'PolicyDetails': '{\\\"Version\\\":0,\\\"State\\\":\\\"Enabled\\\",\\\"Conditions\\\":{\\\"Applications\\\":{\\\"Include\\\":[{\\\"Acrs\\\":[\\\"urn:microsoft:req1\\\"]}]},\\\"Users\\\":{\\\"Include\\\":[{\\\"Users\\\":[\\\"eababd92-9dc7-40e3-9359-6c106522db19\\\"]}]}},\\\"Controls\\\":[{\\\"Control\\\":[\\\"Mfa\\\"]}],\\\"PersistentBrowserSessionMode\\\":\\\"NotSet\\\",\\\"EnforceAllPoliciesForEas\\\":false,\\\"IncludeOtherLegacyClientTypeForEvaluation\\\":false}', 'PolicyLastUpdatedTime': '6/27/2020 5:00:44 AM', 'TenantDefaultPolicy': '', 'DisplayName': 'MeganB MCAS Step-up', 'PolicyIdentifierString': ''})\",\"Cmd(name='Set-ConditionalAccessPolicy', params={'Identity': 'seccxpninja.onmicrosoft.com\\\\\\\\5fd0c4ff-1cd7-4bf6-8607-294a04f58f12', 'PolicyDetails': '{\\\"Version\\\":0,\\\"State\\\":\\\"Disabled\\\",\\\"Conditions\\\":{\\\"Applications\\\":{\\\"Include\\\":[{\\\"Applications\\\":[\\\"All\\\"]}]},\\\"Users\\\":{\\\"Include\\\":[{\\\"Users\\\":[\\\"142512c7-f006-46ae-909c-14fa7bf6a887\\\"]}]}},\\\"Controls\\\":[{\\\"Control\\\":[\\\"Mfa\\\"]}],\\\"EnforceAllPoliciesForEas\\\":false,\\\"IncludeOtherLegacyClientTypeForEvaluation\\\":false}', 'PolicyLastUpdatedTime': '6/27/2020 5:00:44 AM', 'TenantDefaultPolicy': '', 'DisplayName': 'Azure MFA', 'PolicyIdentifierString': ''})\"],[\"Cmd(name='Set-ConditionalAccessPolicy', params={'Identity': 'seccxpninja.onmicrosoft.com\\\\\\\\5fd0c4ff-1cd7-4bf6-8607-294a04f58f12', 'PolicyDetails': '{\\\"Version\\\":0,\\\"State\\\":\\\"Disabled\\\",\\\"Conditions\\\":{\\\"Applications\\\":{\\\"Include\\\":[{\\\"Applications\\\":[\\\"All\\\"]}]},\\\"Users\\\":{\\\"Include\\\":[{\\\"Users\\\":[\\\"142512c7-f006-46ae-909c-14fa7bf6a887\\\"]}]}},\\\"Controls\\\":[{\\\"Control\\\":[\\\"Mfa\\\"]}],\\\"EnforceAllPoliciesForEas\\\":false,\\\"IncludeOtherLegacyClientTypeForEvaluation\\\":false}', 'PolicyLastUpdatedTime': '6/28/2020 2:15:28 AM', 'TenantDefaultPolicy': '', 'DisplayName': 'Azure MFA', 'PolicyIdentifierString': ''})\",\"Cmd(name='Set-ConditionalAccessPolicy', params={'Identity': 'seccxpninja.onmicrosoft.com\\\\\\\\5fd0c4ff-1cd7-4bf6-8607-294a04f58f12', 'PolicyDetails': '{\\\"Version\\\":0,\\\"State\\\":\\\"Disabled\\\",\\\"Conditions\\\":{\\\"Applications\\\":{\\\"Include\\\":[{\\\"Applications\\\":[\\\"All\\\"]}]},\\\"Users\\\":{\\\"Include\\\":[{\\\"Users\\\":[\\\"142512c7-f006-46ae-909c-14fa7bf6a887\\\"]}]}},\\\"Controls\\\":[{\\\"Control\\\":[\\\"Mfa\\\"]}],\\\"EnforceAllPoliciesForEas\\\":false,\\\"IncludeOtherLegacyClientTypeForEvaluation\\\":false}', 'PolicyLastUpdatedTime': '6/28/2020 2:15:28 AM', 'TenantDefaultPolicy': '', 'DisplayName': 'Azure MFA', 'PolicyIdentifierString': ''})\"],[\"Cmd(name='Set-ConditionalAccessPolicy', params={'Identity': 'seccxpninja.onmicrosoft.com\\\\\\\\bcd93f74-64fd-4042-a3ae-ee6d48886d6d', 'PolicyDetails': '{\\\"Version\\\":0,\\\"State\\\":\\\"Enabled\\\",\\\"Conditions\\\":{\\\"Applications\\\":{\\\"Include\\\":[{\\\"Applications\\\":[\\\"c9a559d2-7aab-4f13-a6ed-e7e9c52aec87\\\"]}]},\\\"Users\\\":{\\\"Include\\\":[{\\\"Users\\\":[\\\"bdb72692-2275-412b-8af0-ea21c2ebd174\\\",\\\"eababd92-9dc7-40e3-9359-6c106522db19\\\"]}]}},\\\"SessionControls\\\":[\\\"CloudAppSecurity\\\"],\\\"PersistentBrowserSessionMode\\\":\\\"NotSet\\\",\\\"EnforceAllPoliciesForEas\\\":false,\\\"IncludeOtherLegacyClientTypeForEvaluation\\\":false,\\\"CasSessionControlType\\\":3}', 'PolicyLastUpdatedTime': '6/28/2020 5:20:09 AM', 'TenantDefaultPolicy': '', 'DisplayName': 'Form MCAS', 'PolicyIdentifierString': ''})\",\"Cmd(name='Set-ConditionalAccessPolicy', params={'Identity': 'seccxpninja.onmicrosoft.com\\\\\\\\4c5a5ea0-5d9f-4730-baaa-7a69cf29ef26', 'PolicyDetails': '{\\\"Version\\\":0,\\\"State\\\":\\\"Enabled\\\",\\\"Conditions\\\":{\\\"Applications\\\":{\\\"Include\\\":[{\\\"Applications\\\":[\\\"All\\\"]}]},\\\"Users\\\":{\\\"Include\\\":[{\\\"Users\\\":[\\\"bdb72692-2275-412b-8af0-ea21c2ebd174\\\"]}]}},\\\"Controls\\\":[{\\\"Control\\\":[\\\"Mfa\\\"]}],\\\"PersistentBrowserSessionMode\\\":\\\"NotSet\\\",\\\"EnforceAllPoliciesForEas\\\":false,\\\"IncludeOtherLegacyClientTypeForEvaluation\\\":false}', 'PolicyLastUpdatedTime': '6/28/2020 5:20:10 AM', 'TenantDefaultPolicy': '', 'DisplayName': 'Semolen - Admin MFA', 'PolicyIdentifierString': ''})\"],[\"Cmd(name='Set-ConditionalAccessPolicy', params={'Identity': 'seccxpninja.onmicrosoft.com\\\\\\\\3b13ea3c-c733-4eb8-bd19-67d308b2ea04', 'PolicyDetails': '{\\\"Version\\\":0,\\\"CreatedDateTime\\\":\\\"2020-05-19T13:34:15.2394934Z\\\",\\\"ModifiedDateTime\\\":\\\"2020-05-19T13:39:04.7333386Z\\\",\\\"State\\\":\\\"Reporting\\\",\\\"Conditions\\\":{\\\"Applications\\\":{\\\"Include\\\":[{\\\"Applications\\\":[\\\"None\\\"]}]},\\\"Users\\\":{\\\"Include\\\":[{\\\"Users\\\":[\\\"Guests\\\"]}]},\\\"DevicePlatforms\\\":{\\\"Include\\\":[{\\\"DevicePlatforms\\\":[\\\"All\\\"]}],\\\"Exclude\\\":[{\\\"DevicePlatforms\\\":[\\\"Android\\\",\\\"iOS\\\",\\\"macOS\\\"]}]},\\\"ClientTypes\\\":{\\\"Include\\\":[{\\\"ClientTypes\\\":[\\\"Browser\\\",\\\"Native\\\"]}]}},\\\"Controls\\\":[{\\\"Control\\\":[\\\"Mfa\\\",\\\"RequireCompliantDevice\\\"]}]}', 'PolicyLastUpdatedTime': '6/28/2020 5:20:12 AM', 'TenantDefaultPolicy': '', 'DisplayName': 'Yanivsh -CA Test', 'PolicyIdentifierString': ''})\",\"Cmd(name='Set-ConditionalAccessPolicy', params={'Identity': 'seccxpninja.onmicrosoft.com\\\\\\\\83a057fb-dbca-4ba8-bb5f-0ce6d6e7cff5', 'PolicyDetails': '{\\\"Version\\\":0,\\\"State\\\":\\\"Enabled\\\",\\\"Conditions\\\":{\\\"Applications\\\":{\\\"Include\\\":[{\\\"Acrs\\\":[\\\"urn:microsoft:req1\\\"]}]},\\\"Users\\\":{\\\"Include\\\":[{\\\"Users\\\":[\\\"eababd92-9dc7-40e3-9359-6c106522db19\\\"]}]}},\\\"Controls\\\":[{\\\"Control\\\":[\\\"Mfa\\\"]}],\\\"PersistentBrowserSessionMode\\\":\\\"NotSet\\\",\\\"EnforceAllPoliciesForEas\\\":false,\\\"IncludeOtherLegacyClientTypeForEvaluation\\\":false}', 'PolicyLastUpdatedTime': '6/28/2020 5:20:09 AM', 'TenantDefaultPolicy': '', 'DisplayName': 'MeganB MCAS Step-up', 'PolicyIdentifierString': ''})\",\"Cmd(name='Set-ConditionalAccessPolicy', params={'Identity': 'seccxpninja.onmicrosoft.com\\\\\\\\235bec94-f744-48ac-8314-5675953d2def', 'PolicyDetails': '{\\\"Version\\\":0,\\\"State\\\":\\\"Disabled\\\",\\\"Conditions\\\":{\\\"Applications\\\":{\\\"Include\\\":[{\\\"Applications\\\":[\\\"All\\\"]}]},\\\"Users\\\":{\\\"Include\\\":[{\\\"Users\\\":[\\\"eababd92-9dc7-40e3-9359-6c106522db19\\\"]}]},\\\"DevicePlatforms\\\":{\\\"Include\\\":[{\\\"DevicePlatforms\\\":[\\\"All\\\"]}],\\\"Exclude\\\":[{\\\"DevicePlatforms\\\":[\\\"macOS\\\"]}]}},\\\"Controls\\\":[{\\\"Control\\\":[\\\"Mfa\\\"]}],\\\"PersistentBrowserSessionMode\\\":\\\"NotSet\\\",\\\"EnforceAllPoliciesForEas\\\":false,\\\"IncludeOtherLegacyClientTypeForEvaluation\\\":false}', 'PolicyLastUpdatedTime': '6/28/2020 5:20:09 AM', 'TenantDefaultPolicy': '', 'DisplayName': 'Megan MFA demo', 'PolicyIdentifierString': ''})\"],[\"Cmd(name='Set-ConditionalAccessPolicy', params={'Identity': 'seccxpninja.onmicrosoft.com\\\\\\\\e183bd29-a3a3-4f91-a5a3-b83b21a544df', 'PolicyDetails': '{\\\"Version\\\":0,\\\"State\\\":\\\"Enabled\\\",\\\"Conditions\\\":{\\\"Applications\\\":{\\\"Include\\\":[{\\\"Applications\\\":[\\\"00000002-0000-0ff1-ce00-000000000000\\\"]}]},\\\"Users\\\":{\\\"Include\\\":[{\\\"Users\\\":[\\\"2935e535-8fdf-4217-865b-e084cb7214f1\\\"]}]}},\\\"SessionControls\\\":[\\\"AppEnforcedRestrictions\\\"],\\\"PersistentBrowserSessionMode\\\":\\\"NotSet\\\",\\\"EnforceAllPoliciesForEas\\\":false,\\\"IncludeOtherLegacyClientTypeForEvaluation\\\":false}', 'PolicyLastUpdatedTime': '6/29/2020 1:51:34 AM', 'TenantDefaultPolicy': '', 'DisplayName': 'JulianI Exchange native controls', 'PolicyIdentifierString': ''})\",\"Cmd(name='Set-ConditionalAccessPolicy', params={'Identity': 'seccxpninja.onmicrosoft.com\\\\\\\\3b13ea3c-c733-4eb8-bd19-67d308b2ea04', 'PolicyDetails': '{\\\"Version\\\":0,\\\"CreatedDateTime\\\":\\\"2020-05-19T13:34:15.2394934Z\\\",\\\"ModifiedDateTime\\\":\\\"2020-05-19T13:39:04.7333386Z\\\",\\\"State\\\":\\\"Reporting\\\",\\\"Conditions\\\":{\\\"Applications\\\":{\\\"Include\\\":[{\\\"Applications\\\":[\\\"None\\\"]}]},\\\"Users\\\":{\\\"Include\\\":[{\\\"Users\\\":[\\\"Guests\\\"]}]},\\\"DevicePlatforms\\\":{\\\"Include\\\":[{\\\"DevicePlatforms\\\":[\\\"All\\\"]}],\\\"Exclude\\\":[{\\\"DevicePlatforms\\\":[\\\"Android\\\",\\\"iOS\\\",\\\"macOS\\\"]}]},\\\"ClientTypes\\\":{\\\"Include\\\":[{\\\"ClientTypes\\\":[\\\"Browser\\\",\\\"Native\\\"]}]}},\\\"Controls\\\":[{\\\"Control\\\":[\\\"Mfa\\\",\\\"RequireCompliantDevice\\\"]}]}', 'PolicyLastUpdatedTime': '6/29/2020 1:51:34 AM', 'TenantDefaultPolicy': '', 'DisplayName': 'Yanivsh -CA Test', 'PolicyIdentifierString': ''})\"],[\"Cmd(name='Set-ConditionalAccessPolicy', params={'Identity': 'seccxpninja.onmicrosoft.com\\\\\\\\8872f6fb-da88-4b63-bcc7-17247669596b', 'PolicyDetails': '{\\\"Version\\\":0,\\\"State\\\":\\\"Enabled\\\",\\\"Conditions\\\":{\\\"Applications\\\":{\\\"Include\\\":[{\\\"Applications\\\":[\\\"00000002-0000-0ff1-ce00-000000000000\\\",\\\"09abbdfd-ed23-44ee-a2d9-a627aa1c90f3\\\",\\\"cc15fd57-2c6c-4117-a88c-83b1d56b4bbe\\\",\\\"00000003-0000-0ff1-ce00-000000000000\\\",\\\"00000005-0000-0ff1-ce00-000000000000\\\"]}]},\\\"Users\\\":{\\\"Include\\\":[{\\\"Users\\\":[\\\"eababd92-9dc7-40e3-9359-6c106522db19\\\"]}]}},\\\"SessionControls\\\":[\\\"CloudAppSecurity\\\"],\\\"PersistentBrowserSessionMode\\\":\\\"NotSet\\\",\\\"EnforceAllPoliciesForEas\\\":false,\\\"IncludeOtherLegacyClientTypeForEvaluation\\\":false,\\\"CasSessionControlType\\\":1}', 'PolicyLastUpdatedTime': '6/29/2020 4:43:10 AM', 'TenantDefaultPolicy': '', 'DisplayName': 'MeganB MCAS Proxy', 'PolicyIdentifierString': ''})\",\"Cmd(name='Set-ConditionalAccessPolicy', params={'Identity': 'seccxpninja.onmicrosoft.com\\\\\\\\8872f6fb-da88-4b63-bcc7-17247669596b', 'PolicyDetails': '{\\\"Version\\\":0,\\\"State\\\":\\\"Enabled\\\",\\\"Conditions\\\":{\\\"Applications\\\":{\\\"Include\\\":[{\\\"Applications\\\":[\\\"00000002-0000-0ff1-ce00-000000000000\\\",\\\"09abbdfd-ed23-44ee-a2d9-a627aa1c90f3\\\",\\\"cc15fd57-2c6c-4117-a88c-83b1d56b4bbe\\\",\\\"00000003-0000-0ff1-ce00-000000000000\\\",\\\"00000005-0000-0ff1-ce00-000000000000\\\"]}]},\\\"Users\\\":{\\\"Include\\\":[{\\\"Users\\\":[\\\"eababd92-9dc7-40e3-9359-6c106522db19\\\"]}]}},\\\"SessionControls\\\":[\\\"CloudAppSecurity\\\"],\\\"PersistentBrowserSessionMode\\\":\\\"NotSet\\\",\\\"EnforceAllPoliciesForEas\\\":false,\\\"IncludeOtherLegacyClientTypeForEvaluation\\\":false,\\\"CasSessionControlType\\\":1}', 'PolicyLastUpdatedTime': '6/29/2020 4:43:10 AM', 'TenantDefaultPolicy': '', 'DisplayName': 'MeganB MCAS Proxy', 'PolicyIdentifierString': ''})\"],[\"Cmd(name='Set-ConditionalAccessPolicy', params={'Identity': 'seccxpninja.onmicrosoft.com\\\\\\\\69c7a12f-b407-45a3-b07e-fa04fc7f273d', 'PolicyDetails': '{\\\"Version\\\":0,\\\"State\\\":\\\"Enabled\\\",\\\"Conditions\\\":{\\\"Applications\\\":{\\\"Include\\\":[{\\\"Applications\\\":[\\\"00000003-0000-0ff1-ce00-000000000000\\\"]}]},\\\"Users\\\":{\\\"Include\\\":[{\\\"Users\\\":[\\\"All\\\"]}]}},\\\"SessionControls\\\":[\\\"CloudAppSecurity\\\"],\\\"PersistentBrowserSessionMode\\\":\\\"NotSet\\\",\\\"EnforceAllPoliciesForEas\\\":false,\\\"IncludeOtherLegacyClientTypeForEvaluation\\\":false,\\\"CasSessionControlType\\\":1}', 'PolicyLastUpdatedTime': '6/29/2020 4:43:13 AM', 'TenantDefaultPolicy': '', 'DisplayName': 'Test Policy', 'PolicyIdentifierString': ''})\",\"Cmd(name='Set-ConditionalAccessPolicy', params={'Identity': 'seccxpninja.onmicrosoft.com\\\\\\\\bcd93f74-64fd-4042-a3ae-ee6d48886d6d', 'PolicyDetails': '{\\\"Version\\\":0,\\\"State\\\":\\\"Enabled\\\",\\\"Conditions\\\":{\\\"Applications\\\":{\\\"Include\\\":[{\\\"Applications\\\":[\\\"c9a559d2-7aab-4f13-a6ed-e7e9c52aec87\\\"]}]},\\\"Users\\\":{\\\"Include\\\":[{\\\"Users\\\":[\\\"bdb72692-2275-412b-8af0-ea21c2ebd174\\\",\\\"eababd92-9dc7-40e3-9359-6c106522db19\\\"]}]}},\\\"SessionControls\\\":[\\\"CloudAppSecurity\\\"],\\\"PersistentBrowserSessionMode\\\":\\\"NotSet\\\",\\\"EnforceAllPoliciesForEas\\\":false,\\\"IncludeOtherLegacyClientTypeForEvaluation\\\":false,\\\"CasSessionControlType\\\":3}', 'PolicyLastUpdatedTime': '6/29/2020 4:43:12 AM', 'TenantDefaultPolicy': '', 'DisplayName': 'Form MCAS', 'PolicyIdentifierString': ''})\"],[\"Cmd(name='Set-ConditionalAccessPolicy', params={'Identity': 'seccxpninja.onmicrosoft.com\\\\\\\\8872f6fb-da88-4b63-bcc7-17247669596b', 'PolicyDetails': '{\\\"Version\\\":0,\\\"State\\\":\\\"Enabled\\\",\\\"Conditions\\\":{\\\"Applications\\\":{\\\"Include\\\":[{\\\"Applications\\\":[\\\"00000002-0000-0ff1-ce00-000000000000\\\",\\\"09abbdfd-ed23-44ee-a2d9-a627aa1c90f3\\\",\\\"cc15fd57-2c6c-4117-a88c-83b1d56b4bbe\\\",\\\"00000003-0000-0ff1-ce00-000000000000\\\",\\\"00000005-0000-0ff1-ce00-000000000000\\\"]}]},\\\"Users\\\":{\\\"Include\\\":[{\\\"Users\\\":[\\\"eababd92-9dc7-40e3-9359-6c106522db19\\\"]}]}},\\\"SessionControls\\\":[\\\"CloudAppSecurity\\\"],\\\"PersistentBrowserSessionMode\\\":\\\"NotSet\\\",\\\"EnforceAllPoliciesForEas\\\":false,\\\"IncludeOtherLegacyClientTypeForEvaluation\\\":false,\\\"CasSessionControlType\\\":1}', 'PolicyLastUpdatedTime': '6/30/2020 2:05:13 AM', 'TenantDefaultPolicy': '', 'DisplayName': 'MeganB MCAS Proxy', 'PolicyIdentifierString': ''})\",\"Cmd(name='Set-ConditionalAccessPolicy', params={'Identity': 'seccxpninja.onmicrosoft.com\\\\\\\\8872f6fb-da88-4b63-bcc7-17247669596b', 'PolicyDetails': '{\\\"Version\\\":0,\\\"State\\\":\\\"Enabled\\\",\\\"Conditions\\\":{\\\"Applications\\\":{\\\"Include\\\":[{\\\"Applications\\\":[\\\"00000002-0000-0ff1-ce00-000000000000\\\",\\\"09abbdfd-ed23-44ee-a2d9-a627aa1c90f3\\\",\\\"cc15fd57-2c6c-4117-a88c-83b1d56b4bbe\\\",\\\"00000003-0000-0ff1-ce00-000000000000\\\",\\\"00000005-0000-0ff1-ce00-000000000000\\\"]}]},\\\"Users\\\":{\\\"Include\\\":[{\\\"Users\\\":[\\\"eababd92-9dc7-40e3-9359-6c106522db19\\\"]}]}},\\\"SessionControls\\\":[\\\"CloudAppSecurity\\\"],\\\"PersistentBrowserSessionMode\\\":\\\"NotSet\\\",\\\"EnforceAllPoliciesForEas\\\":false,\\\"IncludeOtherLegacyClientTypeForEvaluation\\\":false,\\\"CasSessionControlType\\\":1}', 'PolicyLastUpdatedTime': '6/30/2020 2:05:13 AM', 'TenantDefaultPolicy': '', 'DisplayName': 'MeganB MCAS Proxy', 'PolicyIdentifierString': ''})\"],[\"Cmd(name='Set-ConditionalAccessPolicy', params={'Identity': 'seccxpninja.onmicrosoft.com\\\\\\\\3b13ea3c-c733-4eb8-bd19-67d308b2ea04', 'PolicyDetails': '{\\\"Version\\\":0,\\\"CreatedDateTime\\\":\\\"2020-05-19T13:34:15.2394934Z\\\",\\\"ModifiedDateTime\\\":\\\"2020-05-19T13:39:04.7333386Z\\\",\\\"State\\\":\\\"Reporting\\\",\\\"Conditions\\\":{\\\"Applications\\\":{\\\"Include\\\":[{\\\"Applications\\\":[\\\"None\\\"]}]},\\\"Users\\\":{\\\"Include\\\":[{\\\"Users\\\":[\\\"Guests\\\"]}]},\\\"DevicePlatforms\\\":{\\\"Include\\\":[{\\\"DevicePlatforms\\\":[\\\"All\\\"]}],\\\"Exclude\\\":[{\\\"DevicePlatforms\\\":[\\\"Android\\\",\\\"iOS\\\",\\\"macOS\\\"]}]},\\\"ClientTypes\\\":{\\\"Include\\\":[{\\\"ClientTypes\\\":[\\\"Browser\\\",\\\"Native\\\"]}]}},\\\"Controls\\\":[{\\\"Control\\\":[\\\"Mfa\\\",\\\"RequireCompliantDevice\\\"]}]}', 'PolicyLastUpdatedTime': '6/30/2020 2:05:17 AM', 'TenantDefaultPolicy': '', 'DisplayName': 'Yanivsh -CA Test', 'PolicyIdentifierString': ''})\",\"Cmd(name='Set-ConditionalAccessPolicy', params={'Identity': 'seccxpninja.onmicrosoft.com\\\\\\\\4c5a5ea0-5d9f-4730-baaa-7a69cf29ef26', 'PolicyDetails': '{\\\"Version\\\":0,\\\"State\\\":\\\"Enabled\\\",\\\"Conditions\\\":{\\\"Applications\\\":{\\\"Include\\\":[{\\\"Applications\\\":[\\\"All\\\"]}]},\\\"Users\\\":{\\\"Include\\\":[{\\\"Users\\\":[\\\"bdb72692-2275-412b-8af0-ea21c2ebd174\\\"]}]}},\\\"Controls\\\":[{\\\"Control\\\":[\\\"Mfa\\\"]}],\\\"PersistentBrowserSessionMode\\\":\\\"NotSet\\\",\\\"EnforceAllPoliciesForEas\\\":false,\\\"IncludeOtherLegacyClientTypeForEvaluation\\\":false}', 'PolicyLastUpdatedTime': '6/30/2020 2:05:15 AM', 'TenantDefaultPolicy': '', 'DisplayName': 'Semolen - Admin MFA', 'PolicyIdentifierString': ''})\"],[\"Cmd(name='Set-ConditionalAccessPolicy', params={'Identity': 'seccxpninja.onmicrosoft.com\\\\\\\\b2915792-0396-4abe-94ec-e17fa17243c5', 'PolicyDetails': '{\\\"Version\\\":0,\\\"State\\\":\\\"Enabled\\\",\\\"Conditions\\\":{\\\"Applications\\\":{\\\"Include\\\":[{\\\"Applications\\\":[\\\"94c63fef-13a3-47bc-8074-75af8c65887a\\\",\\\"c9a559d2-7aab-4f13-a6ed-e7e9c52aec87\\\"]}]},\\\"Users\\\":{\\\"Include\\\":[{\\\"Users\\\":[\\\"bdb72692-2275-412b-8af0-ea21c2ebd174\\\",\\\"eababd92-9dc7-40e3-9359-6c106522db19\\\"]}]},\\\"SignInRisks\\\":{\\\"Include\\\":[{\\\"SignInRisks\\\":[\\\"High\\\",\\\"Medium\\\",\\\"Low\\\"]}]}},\\\"SessionControls\\\":[\\\"CloudAppSecurity\\\"],\\\"PersistentBrowserSessionMode\\\":\\\"NotSet\\\",\\\"EnforceAllPoliciesForEas\\\":false,\\\"IncludeOtherLegacyClientTypeForEvaluation\\\":false,\\\"CasSessionControlType\\\":3}', 'PolicyLastUpdatedTime': '6/30/2020 5:06:20 AM', 'TenantDefaultPolicy': '', 'DisplayName': 'GBB demo', 'PolicyIdentifierString': ''})\",\"Cmd(name='Set-ConditionalAccessPolicy', params={'Identity': 'seccxpninja.onmicrosoft.com\\\\\\\\83a057fb-dbca-4ba8-bb5f-0ce6d6e7cff5', 'PolicyDetails': '{\\\"Version\\\":0,\\\"State\\\":\\\"Enabled\\\",\\\"Conditions\\\":{\\\"Applications\\\":{\\\"Include\\\":[{\\\"Acrs\\\":[\\\"urn:microsoft:req1\\\"]}]},\\\"Users\\\":{\\\"Include\\\":[{\\\"Users\\\":[\\\"eababd92-9dc7-40e3-9359-6c106522db19\\\"]}]}},\\\"Controls\\\":[{\\\"Control\\\":[\\\"Mfa\\\"]}],\\\"PersistentBrowserSessionMode\\\":\\\"NotSet\\\",\\\"EnforceAllPoliciesForEas\\\":false,\\\"IncludeOtherLegacyClientTypeForEvaluation\\\":false}', 'PolicyLastUpdatedTime': '6/30/2020 5:06:20 AM', 'TenantDefaultPolicy': '', 'DisplayName': 'MeganB MCAS Step-up', 'PolicyIdentifierString': ''})\"],[\"Cmd(name='Set-ConditionalAccessPolicy', params={'Identity': 'seccxpninja.onmicrosoft.com\\\\\\\\ba36f0a4-6d73-4ba4-9282-3b3c14575e36', 'PolicyDetails': '{\\\"Version\\\":0,\\\"ModifiedDateTime\\\":\\\"2020-05-19T13:31:41.7083504Z\\\",\\\"State\\\":\\\"Disabled\\\",\\\"Conditions\\\":{\\\"Applications\\\":{\\\"Include\\\":[{\\\"Applications\\\":[\\\"00000002-0000-0ff1-ce00-000000000000\\\",\\\"00000003-0000-0ff1-ce00-000000000000\\\"]}]},\\\"Users\\\":{\\\"Include\\\":[{\\\"Users\\\":[\\\"2935e535-8fdf-4217-865b-e084cb7214f1\\\"]}]},\\\"DevicePlatforms\\\":{\\\"Include\\\":[{\\\"DevicePlatforms\\\":[\\\"All\\\"]}],\\\"Exclude\\\":[{\\\"DevicePlatforms\\\":[\\\"Android\\\",\\\"iOS\\\",\\\"macOS\\\"]}]},\\\"ClientTypes\\\":{\\\"Include\\\":[{\\\"ClientTypes\\\":[\\\"Browser\\\",\\\"Native\\\"]}]}},\\\"SessionControls\\\":[\\\"CloudAppSecurity\\\"],\\\"CasSessionControlType\\\":1}', 'PolicyLastUpdatedTime': '7/1/2020 1:49:42 AM', 'TenantDefaultPolicy': '', 'DisplayName': 'Block Access JulianI', 'PolicyIdentifierString': ''})\",\"Cmd(name='Set-ConditionalAccessPolicy', params={'Identity': 'seccxpninja.onmicrosoft.com\\\\\\\\5fd0c4ff-1cd7-4bf6-8607-294a04f58f12', 'PolicyDetails': '{\\\"Version\\\":0,\\\"State\\\":\\\"Disabled\\\",\\\"Conditions\\\":{\\\"Applications\\\":{\\\"Include\\\":[{\\\"Applications\\\":[\\\"All\\\"]}]},\\\"Users\\\":{\\\"Include\\\":[{\\\"Users\\\":[\\\"142512c7-f006-46ae-909c-14fa7bf6a887\\\"]}]}},\\\"Controls\\\":[{\\\"Control\\\":[\\\"Mfa\\\"]}],\\\"EnforceAllPoliciesForEas\\\":false,\\\"IncludeOtherLegacyClientTypeForEvaluation\\\":false}', 'PolicyLastUpdatedTime': '7/1/2020 1:49:42 AM', 'TenantDefaultPolicy': '', 'DisplayName': 'Azure MFA', 'PolicyIdentifierString': ''})\"],[\"Cmd(name='Set-ConditionalAccessPolicy', params={'Identity': 'seccxpninja.onmicrosoft.com\\\\\\\\2e76d011-eaa3-40b4-8ce8-7fba52bf3af8', 'PolicyDetails': '{\\\"Version\\\":0,\\\"State\\\":\\\"Reporting\\\",\\\"Conditions\\\":{\\\"Applications\\\":{\\\"Include\\\":[{\\\"Applications\\\":[\\\"f9e8b3d0-ba26-42cd-b544-c90a66191a81\\\"]}]},\\\"Users\\\":{\\\"Include\\\":[{\\\"Users\\\":[\\\"All\\\"]}]}},\\\"SessionControls\\\":[\\\"CloudAppSecurity\\\"],\\\"PersistentBrowserSessionMode\\\":\\\"NotSet\\\",\\\"EnforceAllPoliciesForEas\\\":false,\\\"IncludeOtherLegacyClientTypeForEvaluation\\\":false,\\\"CasSessionControlType\\\":1}', 'PolicyLastUpdatedTime': '7/1/2020 5:13:17 AM', 'TenantDefaultPolicy': '', 'DisplayName': 'On-Prem SharePoint - MeganB proxy', 'PolicyIdentifierString': ''})\",\"Cmd(name='Set-ConditionalAccessPolicy', params={'Identity': 'seccxpninja.onmicrosoft.com\\\\\\\\5fd0c4ff-1cd7-4bf6-8607-294a04f58f12', 'PolicyDetails': '{\\\"Version\\\":0,\\\"State\\\":\\\"Disabled\\\",\\\"Conditions\\\":{\\\"Applications\\\":{\\\"Include\\\":[{\\\"Applications\\\":[\\\"All\\\"]}]},\\\"Users\\\":{\\\"Include\\\":[{\\\"Users\\\":[\\\"142512c7-f006-46ae-909c-14fa7bf6a887\\\"]}]}},\\\"Controls\\\":[{\\\"Control\\\":[\\\"Mfa\\\"]}],\\\"EnforceAllPoliciesForEas\\\":false,\\\"IncludeOtherLegacyClientTypeForEvaluation\\\":false}', 'PolicyLastUpdatedTime': '7/1/2020 5:13:17 AM', 'TenantDefaultPolicy': '', 'DisplayName': 'Azure MFA', 'PolicyIdentifierString': ''})\"],[\"Cmd(name='Set-ConditionalAccessPolicy', params={'Identity': 'seccxpninja.onmicrosoft.com\\\\\\\\8872f6fb-da88-4b63-bcc7-17247669596b', 'PolicyDetails': '{\\\"Version\\\":0,\\\"State\\\":\\\"Enabled\\\",\\\"Conditions\\\":{\\\"Applications\\\":{\\\"Include\\\":[{\\\"Applications\\\":[\\\"00000002-0000-0ff1-ce00-000000000000\\\",\\\"09abbdfd-ed23-44ee-a2d9-a627aa1c90f3\\\",\\\"cc15fd57-2c6c-4117-a88c-83b1d56b4bbe\\\",\\\"00000003-0000-0ff1-ce00-000000000000\\\",\\\"00000005-0000-0ff1-ce00-000000000000\\\"]}]},\\\"Users\\\":{\\\"Include\\\":[{\\\"Users\\\":[\\\"eababd92-9dc7-40e3-9359-6c106522db19\\\"]}]}},\\\"SessionControls\\\":[\\\"CloudAppSecurity\\\"],\\\"PersistentBrowserSessionMode\\\":\\\"NotSet\\\",\\\"EnforceAllPoliciesForEas\\\":false,\\\"IncludeOtherLegacyClientTypeForEvaluation\\\":false,\\\"CasSessionControlType\\\":1}', 'PolicyLastUpdatedTime': '7/2/2020 2:05:21 AM', 'TenantDefaultPolicy': '', 'DisplayName': 'MeganB MCAS Proxy', 'PolicyIdentifierString': ''})\",\"Cmd(name='Set-ConditionalAccessPolicy', params={'Identity': 'seccxpninja.onmicrosoft.com\\\\\\\\b2915792-0396-4abe-94ec-e17fa17243c5', 'PolicyDetails': '{\\\"Version\\\":0,\\\"State\\\":\\\"Enabled\\\",\\\"Conditions\\\":{\\\"Applications\\\":{\\\"Include\\\":[{\\\"Applications\\\":[\\\"94c63fef-13a3-47bc-8074-75af8c65887a\\\",\\\"c9a559d2-7aab-4f13-a6ed-e7e9c52aec87\\\"]}]},\\\"Users\\\":{\\\"Include\\\":[{\\\"Users\\\":[\\\"bdb72692-2275-412b-8af0-ea21c2ebd174\\\",\\\"eababd92-9dc7-40e3-9359-6c106522db19\\\"]}]},\\\"SignInRisks\\\":{\\\"Include\\\":[{\\\"SignInRisks\\\":[\\\"High\\\",\\\"Medium\\\",\\\"Low\\\"]}]}},\\\"SessionControls\\\":[\\\"CloudAppSecurity\\\"],\\\"PersistentBrowserSessionMode\\\":\\\"NotSet\\\",\\\"EnforceAllPoliciesForEas\\\":false,\\\"IncludeOtherLegacyClientTypeForEvaluation\\\":false,\\\"CasSessionControlType\\\":3}', 'PolicyLastUpdatedTime': '7/2/2020 2:05:23 AM', 'TenantDefaultPolicy': '', 'DisplayName': 'GBB demo', 'PolicyIdentifierString': ''})\"],[\"Cmd(name='Set-ConditionalAccessPolicy', params={'Identity': 'seccxpninja.onmicrosoft.com\\\\\\\\83a057fb-dbca-4ba8-bb5f-0ce6d6e7cff5', 'PolicyDetails': '{\\\"Version\\\":0,\\\"State\\\":\\\"Enabled\\\",\\\"Conditions\\\":{\\\"Applications\\\":{\\\"Include\\\":[{\\\"Acrs\\\":[\\\"urn:microsoft:req1\\\"]}]},\\\"Users\\\":{\\\"Include\\\":[{\\\"Users\\\":[\\\"eababd92-9dc7-40e3-9359-6c106522db19\\\"]}]}},\\\"Controls\\\":[{\\\"Control\\\":[\\\"Mfa\\\"]}],\\\"PersistentBrowserSessionMode\\\":\\\"NotSet\\\",\\\"EnforceAllPoliciesForEas\\\":false,\\\"IncludeOtherLegacyClientTypeForEvaluation\\\":false}', 'PolicyLastUpdatedTime': '7/2/2020 4:53:56 AM', 'TenantDefaultPolicy': '', 'DisplayName': 'MeganB MCAS Step-up', 'PolicyIdentifierString': ''})\",\"Cmd(name='Set-ConditionalAccessPolicy', params={'Identity': 'seccxpninja.onmicrosoft.com\\\\\\\\235bec94-f744-48ac-8314-5675953d2def', 'PolicyDetails': '{\\\"Version\\\":0,\\\"State\\\":\\\"Disabled\\\",\\\"Conditions\\\":{\\\"Applications\\\":{\\\"Include\\\":[{\\\"Applications\\\":[\\\"All\\\"]}]},\\\"Users\\\":{\\\"Include\\\":[{\\\"Users\\\":[\\\"eababd92-9dc7-40e3-9359-6c106522db19\\\"]}]},\\\"DevicePlatforms\\\":{\\\"Include\\\":[{\\\"DevicePlatforms\\\":[\\\"All\\\"]}],\\\"Exclude\\\":[{\\\"DevicePlatforms\\\":[\\\"macOS\\\"]}]}},\\\"Controls\\\":[{\\\"Control\\\":[\\\"Mfa\\\"]}],\\\"PersistentBrowserSessionMode\\\":\\\"NotSet\\\",\\\"EnforceAllPoliciesForEas\\\":false,\\\"IncludeOtherLegacyClientTypeForEvaluation\\\":false}', 'PolicyLastUpdatedTime': '7/2/2020 4:53:56 AM', 'TenantDefaultPolicy': '', 'DisplayName': 'Megan MFA demo', 'PolicyIdentifierString': ''})\"],[\"Cmd(name='Set-ConditionalAccessPolicy', params={'Identity': 'seccxpninja.onmicrosoft.com\\\\\\\\2e76d011-eaa3-40b4-8ce8-7fba52bf3af8', 'PolicyDetails': '{\\\"Version\\\":0,\\\"State\\\":\\\"Reporting\\\",\\\"Conditions\\\":{\\\"Applications\\\":{\\\"Include\\\":[{\\\"Applications\\\":[\\\"f9e8b3d0-ba26-42cd-b544-c90a66191a81\\\"]}]},\\\"Users\\\":{\\\"Include\\\":[{\\\"Users\\\":[\\\"All\\\"]}]}},\\\"SessionControls\\\":[\\\"CloudAppSecurity\\\"],\\\"PersistentBrowserSessionMode\\\":\\\"NotSet\\\",\\\"EnforceAllPoliciesForEas\\\":false,\\\"IncludeOtherLegacyClientTypeForEvaluation\\\":false,\\\"CasSessionControlType\\\":1}', 'PolicyLastUpdatedTime': '7/3/2020 2:12:09 AM', 'TenantDefaultPolicy': '', 'DisplayName': 'On-Prem SharePoint - MeganB proxy', 'PolicyIdentifierString': ''})\",\"Cmd(name='Set-ConditionalAccessPolicy', params={'Identity': 'seccxpninja.onmicrosoft.com\\\\\\\\4c5a5ea0-5d9f-4730-baaa-7a69cf29ef26', 'PolicyDetails': '{\\\"Version\\\":0,\\\"State\\\":\\\"Enabled\\\",\\\"Conditions\\\":{\\\"Applications\\\":{\\\"Include\\\":[{\\\"Applications\\\":[\\\"All\\\"]}]},\\\"Users\\\":{\\\"Include\\\":[{\\\"Users\\\":[\\\"bdb72692-2275-412b-8af0-ea21c2ebd174\\\"]}]}},\\\"Controls\\\":[{\\\"Control\\\":[\\\"Mfa\\\"]}],\\\"PersistentBrowserSessionMode\\\":\\\"NotSet\\\",\\\"EnforceAllPoliciesForEas\\\":false,\\\"IncludeOtherLegacyClientTypeForEvaluation\\\":false}', 'PolicyLastUpdatedTime': '7/3/2020 2:12:08 AM', 'TenantDefaultPolicy': '', 'DisplayName': 'Semolen - Admin MFA', 'PolicyIdentifierString': ''})\"],[\"Cmd(name='Set-ConditionalAccessPolicy', params={'Identity': 'seccxpninja.onmicrosoft.com\\\\\\\\6490d00c-7ba1-42cf-aa88-99eb71d53bf7', 'PolicyDetails': '{\\\"Version\\\":0,\\\"LastUpdatedTimestamp\\\":\\\"2020-07-02T12:42:35.1866847Z\\\",\\\"State\\\":\\\"Disabled\\\",\\\"SignInFrequency\\\":\\\"NotSet\\\",\\\"PersistentBrowserSessionMode\\\":\\\"NotSet\\\"}', 'PolicyLastUpdatedTime': '7/3/2020 5:10:57 AM', 'TenantDefaultPolicy': '18', 'DisplayName': 'Default Policy', 'PolicyIdentifierString': '5/19/2020 1:39:05 PM'})\",\"Cmd(name='Set-ConditionalAccessPolicy', params={'Identity': 'seccxpninja.onmicrosoft.com\\\\\\\\ba36f0a4-6d73-4ba4-9282-3b3c14575e36', 'PolicyDetails': '{\\\"Version\\\":0,\\\"ModifiedDateTime\\\":\\\"2020-05-19T13:31:41.7083504Z\\\",\\\"State\\\":\\\"Disabled\\\",\\\"Conditions\\\":{\\\"Applications\\\":{\\\"Include\\\":[{\\\"Applications\\\":[\\\"00000002-0000-0ff1-ce00-000000000000\\\",\\\"00000003-0000-0ff1-ce00-000000000000\\\"]}]},\\\"Users\\\":{\\\"Include\\\":[{\\\"Users\\\":[\\\"2935e535-8fdf-4217-865b-e084cb7214f1\\\"]}]},\\\"DevicePlatforms\\\":{\\\"Include\\\":[{\\\"DevicePlatforms\\\":[\\\"All\\\"]}],\\\"Exclude\\\":[{\\\"DevicePlatforms\\\":[\\\"Android\\\",\\\"iOS\\\",\\\"macOS\\\"]}]},\\\"ClientTypes\\\":{\\\"Include\\\":[{\\\"ClientTypes\\\":[\\\"Browser\\\",\\\"Native\\\"]}]}},\\\"SessionControls\\\":[\\\"CloudAppSecurity\\\"],\\\"CasSessionControlType\\\":1}', 'PolicyLastUpdatedTime': '7/3/2020 5:10:58 AM', 'TenantDefaultPolicy': '', 'DisplayName': 'Block Access JulianI', 'PolicyIdentifierString': ''})\"],[\"Cmd(name='Set-ConditionalAccessPolicy', params={'Identity': 'seccxpninja.onmicrosoft.com\\\\\\\\69c7a12f-b407-45a3-b07e-fa04fc7f273d', 'PolicyDetails': '{\\\"Version\\\":0,\\\"State\\\":\\\"Enabled\\\",\\\"Conditions\\\":{\\\"Applications\\\":{\\\"Include\\\":[{\\\"Applications\\\":[\\\"00000003-0000-0ff1-ce00-000000000000\\\"]}]},\\\"Users\\\":{\\\"Include\\\":[{\\\"Users\\\":[\\\"All\\\"]}]}},\\\"SessionControls\\\":[\\\"CloudAppSecurity\\\"],\\\"PersistentBrowserSessionMode\\\":\\\"NotSet\\\",\\\"EnforceAllPoliciesForEas\\\":false,\\\"IncludeOtherLegacyClientTypeForEvaluation\\\":false,\\\"CasSessionControlType\\\":1}', 'PolicyLastUpdatedTime': '7/4/2020 2:02:50 AM', 'TenantDefaultPolicy': '', 'DisplayName': 'Test Policy', 'PolicyIdentifierString': ''})\",\"Cmd(name='Set-ConditionalAccessPolicy', params={'Identity': 'seccxpninja.onmicrosoft.com\\\\\\\\3b13ea3c-c733-4eb8-bd19-67d308b2ea04', 'PolicyDetails': '{\\\"Version\\\":0,\\\"CreatedDateTime\\\":\\\"2020-05-19T13:34:15.2394934Z\\\",\\\"ModifiedDateTime\\\":\\\"2020-05-19T13:39:04.7333386Z\\\",\\\"State\\\":\\\"Reporting\\\",\\\"Conditions\\\":{\\\"Applications\\\":{\\\"Include\\\":[{\\\"Applications\\\":[\\\"None\\\"]}]},\\\"Users\\\":{\\\"Include\\\":[{\\\"Users\\\":[\\\"Guests\\\"]}]},\\\"DevicePlatforms\\\":{\\\"Include\\\":[{\\\"DevicePlatforms\\\":[\\\"All\\\"]}],\\\"Exclude\\\":[{\\\"DevicePlatforms\\\":[\\\"Android\\\",\\\"iOS\\\",\\\"macOS\\\"]}]},\\\"ClientTypes\\\":{\\\"Include\\\":[{\\\"ClientTypes\\\":[\\\"Browser\\\",\\\"Native\\\"]}]}},\\\"Controls\\\":[{\\\"Control\\\":[\\\"Mfa\\\",\\\"RequireCompliantDevice\\\"]}]}', 'PolicyLastUpdatedTime': '7/4/2020 2:02:50 AM', 'TenantDefaultPolicy': '', 'DisplayName': 'Yanivsh -CA Test', 'PolicyIdentifierString': ''})\"],[\"Cmd(name='Set-ConditionalAccessPolicy', params={'Identity': 'seccxpninja.onmicrosoft.com\\\\\\\\83a057fb-dbca-4ba8-bb5f-0ce6d6e7cff5', 'PolicyDetails': '{\\\"Version\\\":0,\\\"State\\\":\\\"Enabled\\\",\\\"Conditions\\\":{\\\"Applications\\\":{\\\"Include\\\":[{\\\"Acrs\\\":[\\\"urn:microsoft:req1\\\"]}]},\\\"Users\\\":{\\\"Include\\\":[{\\\"Users\\\":[\\\"eababd92-9dc7-40e3-9359-6c106522db19\\\"]}]}},\\\"Controls\\\":[{\\\"Control\\\":[\\\"Mfa\\\"]}],\\\"PersistentBrowserSessionMode\\\":\\\"NotSet\\\",\\\"EnforceAllPoliciesForEas\\\":false,\\\"IncludeOtherLegacyClientTypeForEvaluation\\\":false}', 'PolicyLastUpdatedTime': '7/4/2020 4:58:34 AM', 'TenantDefaultPolicy': '', 'DisplayName': 'MeganB MCAS Step-up', 'PolicyIdentifierString': ''})\",\"Cmd(name='Set-ConditionalAccessPolicy', params={'Identity': 'seccxpninja.onmicrosoft.com\\\\\\\\235bec94-f744-48ac-8314-5675953d2def', 'PolicyDetails': '{\\\"Version\\\":0,\\\"State\\\":\\\"Disabled\\\",\\\"Conditions\\\":{\\\"Applications\\\":{\\\"Include\\\":[{\\\"Applications\\\":[\\\"All\\\"]}]},\\\"Users\\\":{\\\"Include\\\":[{\\\"Users\\\":[\\\"eababd92-9dc7-40e3-9359-6c106522db19\\\"]}]},\\\"DevicePlatforms\\\":{\\\"Include\\\":[{\\\"DevicePlatforms\\\":[\\\"All\\\"]}],\\\"Exclude\\\":[{\\\"DevicePlatforms\\\":[\\\"macOS\\\"]}]}},\\\"Controls\\\":[{\\\"Control\\\":[\\\"Mfa\\\"]}],\\\"PersistentBrowserSessionMode\\\":\\\"NotSet\\\",\\\"EnforceAllPoliciesForEas\\\":false,\\\"IncludeOtherLegacyClientTypeForEvaluation\\\":false}', 'PolicyLastUpdatedTime': '7/4/2020 4:58:34 AM', 'TenantDefaultPolicy': '', 'DisplayName': 'Megan MFA demo', 'PolicyIdentifierString': ''})\"],[\"Cmd(name='Set-ConditionalAccessPolicy', params={'Identity': 'seccxpninja.onmicrosoft.com\\\\\\\\b2915792-0396-4abe-94ec-e17fa17243c5', 'PolicyDetails': '{\\\"Version\\\":0,\\\"State\\\":\\\"Enabled\\\",\\\"Conditions\\\":{\\\"Applications\\\":{\\\"Include\\\":[{\\\"Applications\\\":[\\\"94c63fef-13a3-47bc-8074-75af8c65887a\\\",\\\"c9a559d2-7aab-4f13-a6ed-e7e9c52aec87\\\"]}]},\\\"Users\\\":{\\\"Include\\\":[{\\\"Users\\\":[\\\"bdb72692-2275-412b-8af0-ea21c2ebd174\\\",\\\"eababd92-9dc7-40e3-9359-6c106522db19\\\"]}]},\\\"SignInRisks\\\":{\\\"Include\\\":[{\\\"SignInRisks\\\":[\\\"High\\\",\\\"Medium\\\",\\\"Low\\\"]}]}},\\\"SessionControls\\\":[\\\"CloudAppSecurity\\\"],\\\"PersistentBrowserSessionMode\\\":\\\"NotSet\\\",\\\"EnforceAllPoliciesForEas\\\":false,\\\"IncludeOtherLegacyClientTypeForEvaluation\\\":false,\\\"CasSessionControlType\\\":3}', 'PolicyLastUpdatedTime': '7/5/2020 2:09:01 AM', 'TenantDefaultPolicy': '', 'DisplayName': 'GBB demo', 'PolicyIdentifierString': ''})\",\"Cmd(name='Set-ConditionalAccessPolicy', params={'Identity': 'seccxpninja.onmicrosoft.com\\\\\\\\5fd0c4ff-1cd7-4bf6-8607-294a04f58f12', 'PolicyDetails': '{\\\"Version\\\":0,\\\"State\\\":\\\"Disabled\\\",\\\"Conditions\\\":{\\\"Applications\\\":{\\\"Include\\\":[{\\\"Applications\\\":[\\\"All\\\"]}]},\\\"Users\\\":{\\\"Include\\\":[{\\\"Users\\\":[\\\"142512c7-f006-46ae-909c-14fa7bf6a887\\\"]}]}},\\\"Controls\\\":[{\\\"Control\\\":[\\\"Mfa\\\"]}],\\\"EnforceAllPoliciesForEas\\\":false,\\\"IncludeOtherLegacyClientTypeForEvaluation\\\":false}', 'PolicyLastUpdatedTime': '7/5/2020 2:09:01 AM', 'TenantDefaultPolicy': '', 'DisplayName': 'Azure MFA', 'PolicyIdentifierString': ''})\"],[\"Cmd(name='Set-ConditionalAccessPolicy', params={'Identity': 'seccxpninja.onmicrosoft.com\\\\\\\\2e76d011-eaa3-40b4-8ce8-7fba52bf3af8', 'PolicyDetails': '{\\\"Version\\\":0,\\\"State\\\":\\\"Reporting\\\",\\\"Conditions\\\":{\\\"Applications\\\":{\\\"Include\\\":[{\\\"Applications\\\":[\\\"f9e8b3d0-ba26-42cd-b544-c90a66191a81\\\"]}]},\\\"Users\\\":{\\\"Include\\\":[{\\\"Users\\\":[\\\"All\\\"]}]}},\\\"SessionControls\\\":[\\\"CloudAppSecurity\\\"],\\\"PersistentBrowserSessionMode\\\":\\\"NotSet\\\",\\\"EnforceAllPoliciesForEas\\\":false,\\\"IncludeOtherLegacyClientTypeForEvaluation\\\":false,\\\"CasSessionControlType\\\":1}', 'PolicyLastUpdatedTime': '7/5/2020 5:05:51 AM', 'TenantDefaultPolicy': '', 'DisplayName': 'On-Prem SharePoint - MeganB proxy', 'PolicyIdentifierString': ''})\",\"Cmd(name='Set-ConditionalAccessPolicy', params={'Identity': 'seccxpninja.onmicrosoft.com\\\\\\\\2e76d011-eaa3-40b4-8ce8-7fba52bf3af8', 'PolicyDetails': '{\\\"Version\\\":0,\\\"State\\\":\\\"Reporting\\\",\\\"Conditions\\\":{\\\"Applications\\\":{\\\"Include\\\":[{\\\"Applications\\\":[\\\"f9e8b3d0-ba26-42cd-b544-c90a66191a81\\\"]}]},\\\"Users\\\":{\\\"Include\\\":[{\\\"Users\\\":[\\\"All\\\"]}]}},\\\"SessionControls\\\":[\\\"CloudAppSecurity\\\"],\\\"PersistentBrowserSessionMode\\\":\\\"NotSet\\\",\\\"EnforceAllPoliciesForEas\\\":false,\\\"IncludeOtherLegacyClientTypeForEvaluation\\\":false,\\\"CasSessionControlType\\\":1}', 'PolicyLastUpdatedTime': '7/5/2020 5:05:51 AM', 'TenantDefaultPolicy': '', 'DisplayName': 'On-Prem SharePoint - MeganB proxy', 'PolicyIdentifierString': ''})\"],[\"Cmd(name='Set-ConditionalAccessPolicy', params={'Identity': 'seccxpninja.onmicrosoft.com\\\\\\\\3b13ea3c-c733-4eb8-bd19-67d308b2ea04', 'PolicyDetails': '{\\\"Version\\\":0,\\\"CreatedDateTime\\\":\\\"2020-05-19T13:34:15.2394934Z\\\",\\\"ModifiedDateTime\\\":\\\"2020-05-19T13:39:04.7333386Z\\\",\\\"State\\\":\\\"Reporting\\\",\\\"Conditions\\\":{\\\"Applications\\\":{\\\"Include\\\":[{\\\"Applications\\\":[\\\"None\\\"]}]},\\\"Users\\\":{\\\"Include\\\":[{\\\"Users\\\":[\\\"Guests\\\"]}]},\\\"DevicePlatforms\\\":{\\\"Include\\\":[{\\\"DevicePlatforms\\\":[\\\"All\\\"]}],\\\"Exclude\\\":[{\\\"DevicePlatforms\\\":[\\\"Android\\\",\\\"iOS\\\",\\\"macOS\\\"]}]},\\\"ClientTypes\\\":{\\\"Include\\\":[{\\\"ClientTypes\\\":[\\\"Browser\\\",\\\"Native\\\"]}]}},\\\"Controls\\\":[{\\\"Control\\\":[\\\"Mfa\\\",\\\"RequireCompliantDevice\\\"]}]}', 'PolicyLastUpdatedTime': '7/6/2020 1:42:07 AM', 'TenantDefaultPolicy': '', 'DisplayName': 'Yanivsh -CA Test', 'PolicyIdentifierString': ''})\",\"Cmd(name='Set-ConditionalAccessPolicy', params={'Identity': 'seccxpninja.onmicrosoft.com\\\\\\\\8837fdaa-aaeb-4432-9622-43f6f583d583', 'PolicyDetails': '{\\\"KnownNetworkPolicies\\\":{\\\"NetworkName\\\":\\\"BE-Office\\\",\\\"NetworkId\\\":\\\"b98b9088-ce88-4fae-80fb-5b58cb1ce685\\\",\\\"CidrIpRanges\\\":[\\\"109.88.218.99/28\\\"],\\\"CountryIsoCodes\\\":null,\\\"Categories\\\":[],\\\"ApplyToUnknownCountry\\\":false}}', 'PolicyLastUpdatedTime': '7/6/2020 1:42:07 AM', 'TenantDefaultPolicy': '6', 'DisplayName': 'Known Networks List', 'PolicyIdentifierString': '3/19/2020 7:45:08 PM'})\"],[\"Cmd(name='Set-ConditionalAccessPolicy', params={'Identity': 'seccxpninja.onmicrosoft.com\\\\\\\\6490d00c-7ba1-42cf-aa88-99eb71d53bf7', 'PolicyDetails': '{\\\"Version\\\":0,\\\"LastUpdatedTimestamp\\\":\\\"2020-07-02T12:42:35.1866847Z\\\",\\\"State\\\":\\\"Disabled\\\",\\\"SignInFrequency\\\":\\\"NotSet\\\",\\\"PersistentBrowserSessionMode\\\":\\\"NotSet\\\"}', 'PolicyLastUpdatedTime': '7/6/2020 4:29:48 AM', 'TenantDefaultPolicy': '18', 'DisplayName': 'Default Policy', 'PolicyIdentifierString': '5/19/2020 1:39:05 PM'})\",\"Cmd(name='Set-ConditionalAccessPolicy', params={'Identity': 'seccxpninja.onmicrosoft.com\\\\\\\\69c7a12f-b407-45a3-b07e-fa04fc7f273d', 'PolicyDetails': '{\\\"Version\\\":0,\\\"State\\\":\\\"Enabled\\\",\\\"Conditions\\\":{\\\"Applications\\\":{\\\"Include\\\":[{\\\"Applications\\\":[\\\"00000003-0000-0ff1-ce00-000000000000\\\"]}]},\\\"Users\\\":{\\\"Include\\\":[{\\\"Users\\\":[\\\"All\\\"]}]}},\\\"SessionControls\\\":[\\\"CloudAppSecurity\\\"],\\\"PersistentBrowserSessionMode\\\":\\\"NotSet\\\",\\\"EnforceAllPoliciesForEas\\\":false,\\\"IncludeOtherLegacyClientTypeForEvaluation\\\":false,\\\"CasSessionControlType\\\":1}', 'PolicyLastUpdatedTime': '7/6/2020 4:29:48 AM', 'TenantDefaultPolicy': '', 'DisplayName': 'Test Policy', 'PolicyIdentifierString': ''})\"],[\"Cmd(name='Set-ConditionalAccessPolicy', params={'Identity': 'seccxpninja.onmicrosoft.com\\\\\\\\83a057fb-dbca-4ba8-bb5f-0ce6d6e7cff5', 'PolicyDetails': '{\\\"Version\\\":0,\\\"State\\\":\\\"Enabled\\\",\\\"Conditions\\\":{\\\"Applications\\\":{\\\"Include\\\":[{\\\"Acrs\\\":[\\\"urn:microsoft:req1\\\"]}]},\\\"Users\\\":{\\\"Include\\\":[{\\\"Users\\\":[\\\"eababd92-9dc7-40e3-9359-6c106522db19\\\"]}]}},\\\"Controls\\\":[{\\\"Control\\\":[\\\"Mfa\\\"]}],\\\"PersistentBrowserSessionMode\\\":\\\"NotSet\\\",\\\"EnforceAllPoliciesForEas\\\":false,\\\"IncludeOtherLegacyClientTypeForEvaluation\\\":false}', 'PolicyLastUpdatedTime': '7/7/2020 1:51:17 AM', 'TenantDefaultPolicy': '', 'DisplayName': 'MeganB MCAS Step-up', 'PolicyIdentifierString': ''})\",\"Cmd(name='Set-ConditionalAccessPolicy', params={'Identity': 'seccxpninja.onmicrosoft.com\\\\\\\\5fd0c4ff-1cd7-4bf6-8607-294a04f58f12', 'PolicyDetails': '{\\\"Version\\\":0,\\\"State\\\":\\\"Disabled\\\",\\\"Conditions\\\":{\\\"Applications\\\":{\\\"Include\\\":[{\\\"Applications\\\":[\\\"All\\\"]}]},\\\"Users\\\":{\\\"Include\\\":[{\\\"Users\\\":[\\\"142512c7-f006-46ae-909c-14fa7bf6a887\\\"]}]}},\\\"Controls\\\":[{\\\"Control\\\":[\\\"Mfa\\\"]}],\\\"EnforceAllPoliciesForEas\\\":false,\\\"IncludeOtherLegacyClientTypeForEvaluation\\\":false}', 'PolicyLastUpdatedTime': '7/7/2020 1:51:18 AM', 'TenantDefaultPolicy': '', 'DisplayName': 'Azure MFA', 'PolicyIdentifierString': ''})\"],[\"Cmd(name='Set-ConditionalAccessPolicy', params={'Identity': 'seccxpninja.onmicrosoft.com\\\\\\\\ba36f0a4-6d73-4ba4-9282-3b3c14575e36', 'PolicyDetails': '{\\\"Version\\\":0,\\\"ModifiedDateTime\\\":\\\"2020-05-19T13:31:41.7083504Z\\\",\\\"State\\\":\\\"Disabled\\\",\\\"Conditions\\\":{\\\"Applications\\\":{\\\"Include\\\":[{\\\"Applications\\\":[\\\"00000002-0000-0ff1-ce00-000000000000\\\",\\\"00000003-0000-0ff1-ce00-000000000000\\\"]}]},\\\"Users\\\":{\\\"Include\\\":[{\\\"Users\\\":[\\\"2935e535-8fdf-4217-865b-e084cb7214f1\\\"]}]},\\\"DevicePlatforms\\\":{\\\"Include\\\":[{\\\"DevicePlatforms\\\":[\\\"All\\\"]}],\\\"Exclude\\\":[{\\\"DevicePlatforms\\\":[\\\"Android\\\",\\\"iOS\\\",\\\"macOS\\\"]}]},\\\"ClientTypes\\\":{\\\"Include\\\":[{\\\"ClientTypes\\\":[\\\"Browser\\\",\\\"Native\\\"]}]}},\\\"SessionControls\\\":[\\\"CloudAppSecurity\\\"],\\\"CasSessionControlType\\\":1}', 'PolicyLastUpdatedTime': '7/8/2020 2:30:50 AM', 'TenantDefaultPolicy': '', 'DisplayName': 'Block Access JulianI', 'PolicyIdentifierString': ''})\",\"Cmd(name='Set-ConditionalAccessPolicy', params={'Identity': 'seccxpninja.onmicrosoft.com\\\\\\\\e183bd29-a3a3-4f91-a5a3-b83b21a544df', 'PolicyDetails': '{\\\"Version\\\":0,\\\"State\\\":\\\"Enabled\\\",\\\"Conditions\\\":{\\\"Applications\\\":{\\\"Include\\\":[{\\\"Applications\\\":[\\\"00000002-0000-0ff1-ce00-000000000000\\\"]}]},\\\"Users\\\":{\\\"Include\\\":[{\\\"Users\\\":[\\\"2935e535-8fdf-4217-865b-e084cb7214f1\\\"]}]}},\\\"SessionControls\\\":[\\\"AppEnforcedRestrictions\\\"],\\\"PersistentBrowserSessionMode\\\":\\\"NotSet\\\",\\\"EnforceAllPoliciesForEas\\\":false,\\\"IncludeOtherLegacyClientTypeForEvaluation\\\":false}', 'PolicyLastUpdatedTime': '7/8/2020 2:30:50 AM', 'TenantDefaultPolicy': '', 'DisplayName': 'JulianI Exchange native controls', 'PolicyIdentifierString': ''})\",\"Cmd(name='Set-ConditionalAccessPolicy', params={'Identity': 'seccxpninja.onmicrosoft.com\\\\\\\\4c5a5ea0-5d9f-4730-baaa-7a69cf29ef26', 'PolicyDetails': '{\\\"Version\\\":0,\\\"State\\\":\\\"Enabled\\\",\\\"Conditions\\\":{\\\"Applications\\\":{\\\"Include\\\":[{\\\"Applications\\\":[\\\"All\\\"]}]},\\\"Users\\\":{\\\"Include\\\":[{\\\"Users\\\":[\\\"bdb72692-2275-412b-8af0-ea21c2ebd174\\\"]}]}},\\\"Controls\\\":[{\\\"Control\\\":[\\\"Mfa\\\"]}],\\\"PersistentBrowserSessionMode\\\":\\\"NotSet\\\",\\\"EnforceAllPoliciesForEas\\\":false,\\\"IncludeOtherLegacyClientTypeForEvaluation\\\":false}', 'PolicyLastUpdatedTime': '7/8/2020 2:30:49 AM', 'TenantDefaultPolicy': '', 'DisplayName': 'Semolen - Admin MFA', 'PolicyIdentifierString': ''})\"],[\"Cmd(name='Set-ConditionalAccessPolicy', params={'Identity': 'seccxpninja.onmicrosoft.com\\\\\\\\e183bd29-a3a3-4f91-a5a3-b83b21a544df', 'PolicyDetails': '{\\\"Version\\\":0,\\\"State\\\":\\\"Enabled\\\",\\\"Conditions\\\":{\\\"Applications\\\":{\\\"Include\\\":[{\\\"Applications\\\":[\\\"00000002-0000-0ff1-ce00-000000000000\\\"]}]},\\\"Users\\\":{\\\"Include\\\":[{\\\"Users\\\":[\\\"2935e535-8fdf-4217-865b-e084cb7214f1\\\"]}]}},\\\"SessionControls\\\":[\\\"AppEnforcedRestrictions\\\"],\\\"PersistentBrowserSessionMode\\\":\\\"NotSet\\\",\\\"EnforceAllPoliciesForEas\\\":false,\\\"IncludeOtherLegacyClientTypeForEvaluation\\\":false}', 'PolicyLastUpdatedTime': '7/8/2020 4:57:43 AM', 'TenantDefaultPolicy': '', 'DisplayName': 'JulianI Exchange native controls', 'PolicyIdentifierString': ''})\",\"Cmd(name='Set-ConditionalAccessPolicy', params={'Identity': 'seccxpninja.onmicrosoft.com\\\\\\\\83a057fb-dbca-4ba8-bb5f-0ce6d6e7cff5', 'PolicyDetails': '{\\\"Version\\\":0,\\\"State\\\":\\\"Enabled\\\",\\\"Conditions\\\":{\\\"Applications\\\":{\\\"Include\\\":[{\\\"Acrs\\\":[\\\"urn:microsoft:req1\\\"]}]},\\\"Users\\\":{\\\"Include\\\":[{\\\"Users\\\":[\\\"eababd92-9dc7-40e3-9359-6c106522db19\\\"]}]}},\\\"Controls\\\":[{\\\"Control\\\":[\\\"Mfa\\\"]}],\\\"PersistentBrowserSessionMode\\\":\\\"NotSet\\\",\\\"EnforceAllPoliciesForEas\\\":false,\\\"IncludeOtherLegacyClientTypeForEvaluation\\\":false}', 'PolicyLastUpdatedTime': '7/8/2020 4:57:42 AM', 'TenantDefaultPolicy': '', 'DisplayName': 'MeganB MCAS Step-up', 'PolicyIdentifierString': ''})\"],[\"Cmd(name='Set-ConditionalAccessPolicy', params={'Identity': 'seccxpninja.onmicrosoft.com\\\\\\\\235bec94-f744-48ac-8314-5675953d2def', 'PolicyDetails': '{\\\"Version\\\":0,\\\"State\\\":\\\"Disabled\\\",\\\"Conditions\\\":{\\\"Applications\\\":{\\\"Include\\\":[{\\\"Applications\\\":[\\\"All\\\"]}]},\\\"Users\\\":{\\\"Include\\\":[{\\\"Users\\\":[\\\"eababd92-9dc7-40e3-9359-6c106522db19\\\"]}]},\\\"DevicePlatforms\\\":{\\\"Include\\\":[{\\\"DevicePlatforms\\\":[\\\"All\\\"]}],\\\"Exclude\\\":[{\\\"DevicePlatforms\\\":[\\\"macOS\\\"]}]}},\\\"Controls\\\":[{\\\"Control\\\":[\\\"Mfa\\\"]}],\\\"PersistentBrowserSessionMode\\\":\\\"NotSet\\\",\\\"EnforceAllPoliciesForEas\\\":false,\\\"IncludeOtherLegacyClientTypeForEvaluation\\\":false}', 'PolicyLastUpdatedTime': '7/9/2020 2:37:12 AM', 'TenantDefaultPolicy': '', 'DisplayName': 'Megan MFA demo', 'PolicyIdentifierString': ''})\",\"Cmd(name='Set-ConditionalAccessPolicy', params={'Identity': 'seccxpninja.onmicrosoft.com\\\\\\\\2e76d011-eaa3-40b4-8ce8-7fba52bf3af8', 'PolicyDetails': '{\\\"Version\\\":0,\\\"State\\\":\\\"Reporting\\\",\\\"Conditions\\\":{\\\"Applications\\\":{\\\"Include\\\":[{\\\"Applications\\\":[\\\"f9e8b3d0-ba26-42cd-b544-c90a66191a81\\\"]}]},\\\"Users\\\":{\\\"Include\\\":[{\\\"Users\\\":[\\\"All\\\"]}]}},\\\"SessionControls\\\":[\\\"CloudAppSecurity\\\"],\\\"PersistentBrowserSessionMode\\\":\\\"NotSet\\\",\\\"EnforceAllPoliciesForEas\\\":false,\\\"IncludeOtherLegacyClientTypeForEvaluation\\\":false,\\\"CasSessionControlType\\\":1}', 'PolicyLastUpdatedTime': '7/9/2020 2:37:14 AM', 'TenantDefaultPolicy': '', 'DisplayName': 'On-Prem SharePoint - MeganB proxy', 'PolicyIdentifierString': ''})\"],[\"Cmd(name='Set-ConditionalAccessPolicy', params={'Identity': 'seccxpninja.onmicrosoft.com\\\\\\\\ba36f0a4-6d73-4ba4-9282-3b3c14575e36', 'PolicyDetails': '{\\\"Version\\\":0,\\\"ModifiedDateTime\\\":\\\"2020-05-19T13:31:41.7083504Z\\\",\\\"State\\\":\\\"Disabled\\\",\\\"Conditions\\\":{\\\"Applications\\\":{\\\"Include\\\":[{\\\"Applications\\\":[\\\"00000002-0000-0ff1-ce00-000000000000\\\",\\\"00000003-0000-0ff1-ce00-000000000000\\\"]}]},\\\"Users\\\":{\\\"Include\\\":[{\\\"Users\\\":[\\\"2935e535-8fdf-4217-865b-e084cb7214f1\\\"]}]},\\\"DevicePlatforms\\\":{\\\"Include\\\":[{\\\"DevicePlatforms\\\":[\\\"All\\\"]}],\\\"Exclude\\\":[{\\\"DevicePlatforms\\\":[\\\"Android\\\",\\\"iOS\\\",\\\"macOS\\\"]}]},\\\"ClientTypes\\\":{\\\"Include\\\":[{\\\"ClientTypes\\\":[\\\"Browser\\\",\\\"Native\\\"]}]}},\\\"SessionControls\\\":[\\\"CloudAppSecurity\\\"],\\\"CasSessionControlType\\\":1}', 'PolicyLastUpdatedTime': '7/10/2020 2:47:08 AM', 'TenantDefaultPolicy': '', 'DisplayName': 'Block Access JulianI', 'PolicyIdentifierString': ''})\",\"Cmd(name='Set-ConditionalAccessPolicy', params={'Identity': 'seccxpninja.onmicrosoft.com\\\\\\\\4c5a5ea0-5d9f-4730-baaa-7a69cf29ef26', 'PolicyDetails': '{\\\"Version\\\":0,\\\"State\\\":\\\"Enabled\\\",\\\"Conditions\\\":{\\\"Applications\\\":{\\\"Include\\\":[{\\\"Applications\\\":[\\\"All\\\"]}]},\\\"Users\\\":{\\\"Include\\\":[{\\\"Users\\\":[\\\"bdb72692-2275-412b-8af0-ea21c2ebd174\\\"]}]}},\\\"Controls\\\":[{\\\"Control\\\":[\\\"Mfa\\\"]}],\\\"PersistentBrowserSessionMode\\\":\\\"NotSet\\\",\\\"EnforceAllPoliciesForEas\\\":false,\\\"IncludeOtherLegacyClientTypeForEvaluation\\\":false}', 'PolicyLastUpdatedTime': '7/10/2020 2:47:08 AM', 'TenantDefaultPolicy': '', 'DisplayName': 'Semolen - Admin MFA', 'PolicyIdentifierString': ''})\"],[\"Cmd(name='Set-ConditionalAccessPolicy', params={'Identity': 'seccxpninja.onmicrosoft.com\\\\\\\\ba36f0a4-6d73-4ba4-9282-3b3c14575e36', 'PolicyDetails': '{\\\"Version\\\":0,\\\"ModifiedDateTime\\\":\\\"2020-05-19T13:31:41.7083504Z\\\",\\\"State\\\":\\\"Disabled\\\",\\\"Conditions\\\":{\\\"Applications\\\":{\\\"Include\\\":[{\\\"Applications\\\":[\\\"00000002-0000-0ff1-ce00-000000000000\\\",\\\"00000003-0000-0ff1-ce00-000000000000\\\"]}]},\\\"Users\\\":{\\\"Include\\\":[{\\\"Users\\\":[\\\"2935e535-8fdf-4217-865b-e084cb7214f1\\\"]}]},\\\"DevicePlatforms\\\":{\\\"Include\\\":[{\\\"DevicePlatforms\\\":[\\\"All\\\"]}],\\\"Exclude\\\":[{\\\"DevicePlatforms\\\":[\\\"Android\\\",\\\"iOS\\\",\\\"macOS\\\"]}]},\\\"ClientTypes\\\":{\\\"Include\\\":[{\\\"ClientTypes\\\":[\\\"Browser\\\",\\\"Native\\\"]}]}},\\\"SessionControls\\\":[\\\"CloudAppSecurity\\\"],\\\"CasSessionControlType\\\":1}', 'PolicyLastUpdatedTime': '7/10/2020 5:29:23 AM', 'TenantDefaultPolicy': '', 'DisplayName': 'Block Access JulianI', 'PolicyIdentifierString': ''})\",\"Cmd(name='Set-ConditionalAccessPolicy', params={'Identity': 'seccxpninja.onmicrosoft.com\\\\\\\\2e76d011-eaa3-40b4-8ce8-7fba52bf3af8', 'PolicyDetails': '{\\\"Version\\\":0,\\\"State\\\":\\\"Reporting\\\",\\\"Conditions\\\":{\\\"Applications\\\":{\\\"Include\\\":[{\\\"Applications\\\":[\\\"f9e8b3d0-ba26-42cd-b544-c90a66191a81\\\"]}]},\\\"Users\\\":{\\\"Include\\\":[{\\\"Users\\\":[\\\"All\\\"]}]}},\\\"SessionControls\\\":[\\\"CloudAppSecurity\\\"],\\\"PersistentBrowserSessionMode\\\":\\\"NotSet\\\",\\\"EnforceAllPoliciesForEas\\\":false,\\\"IncludeOtherLegacyClientTypeForEvaluation\\\":false,\\\"CasSessionControlType\\\":1}', 'PolicyLastUpdatedTime': '7/10/2020 5:29:22 AM', 'TenantDefaultPolicy': '', 'DisplayName': 'On-Prem SharePoint - MeganB proxy', 'PolicyIdentifierString': ''})\"],[\"Cmd(name='Set-ConditionalAccessPolicy', params={'Identity': 'seccxpninja.onmicrosoft.com\\\\\\\\8872f6fb-da88-4b63-bcc7-17247669596b', 'PolicyDetails': '{\\\"Version\\\":0,\\\"State\\\":\\\"Enabled\\\",\\\"Conditions\\\":{\\\"Applications\\\":{\\\"Include\\\":[{\\\"Applications\\\":[\\\"00000002-0000-0ff1-ce00-000000000000\\\",\\\"09abbdfd-ed23-44ee-a2d9-a627aa1c90f3\\\",\\\"cc15fd57-2c6c-4117-a88c-83b1d56b4bbe\\\",\\\"00000003-0000-0ff1-ce00-000000000000\\\",\\\"00000005-0000-0ff1-ce00-000000000000\\\"]}]},\\\"Users\\\":{\\\"Include\\\":[{\\\"Users\\\":[\\\"eababd92-9dc7-40e3-9359-6c106522db19\\\"]}]}},\\\"SessionControls\\\":[\\\"CloudAppSecurity\\\"],\\\"PersistentBrowserSessionMode\\\":\\\"NotSet\\\",\\\"EnforceAllPoliciesForEas\\\":false,\\\"IncludeOtherLegacyClientTypeForEvaluation\\\":false,\\\"CasSessionControlType\\\":1}', 'PolicyLastUpdatedTime': '7/11/2020 2:21:22 AM', 'TenantDefaultPolicy': '', 'DisplayName': 'MeganB MCAS Proxy', 'PolicyIdentifierString': ''})\",\"Cmd(name='Set-ConditionalAccessPolicy', params={'Identity': 'seccxpninja.onmicrosoft.com\\\\\\\\3b13ea3c-c733-4eb8-bd19-67d308b2ea04', 'PolicyDetails': '{\\\"Version\\\":0,\\\"CreatedDateTime\\\":\\\"2020-05-19T13:34:15.2394934Z\\\",\\\"ModifiedDateTime\\\":\\\"2020-05-19T13:39:04.7333386Z\\\",\\\"State\\\":\\\"Reporting\\\",\\\"Conditions\\\":{\\\"Applications\\\":{\\\"Include\\\":[{\\\"Applications\\\":[\\\"None\\\"]}]},\\\"Users\\\":{\\\"Include\\\":[{\\\"Users\\\":[\\\"Guests\\\"]}]},\\\"DevicePlatforms\\\":{\\\"Include\\\":[{\\\"DevicePlatforms\\\":[\\\"All\\\"]}],\\\"Exclude\\\":[{\\\"DevicePlatforms\\\":[\\\"Android\\\",\\\"iOS\\\",\\\"macOS\\\"]}]},\\\"ClientTypes\\\":{\\\"Include\\\":[{\\\"ClientTypes\\\":[\\\"Browser\\\",\\\"Native\\\"]}]}},\\\"Controls\\\":[{\\\"Control\\\":[\\\"Mfa\\\",\\\"RequireCompliantDevice\\\"]}]}', 'PolicyLastUpdatedTime': '7/11/2020 2:21:26 AM', 'TenantDefaultPolicy': '', 'DisplayName': 'Yanivsh -CA Test', 'PolicyIdentifierString': ''})\"],[\"Cmd(name='Set-ConditionalAccessPolicy', params={'Identity': 'seccxpninja.onmicrosoft.com\\\\\\\\6490d00c-7ba1-42cf-aa88-99eb71d53bf7', 'PolicyDetails': '{\\\"Version\\\":0,\\\"LastUpdatedTimestamp\\\":\\\"2020-07-02T12:42:35.1866847Z\\\",\\\"State\\\":\\\"Disabled\\\",\\\"SignInFrequency\\\":\\\"NotSet\\\",\\\"PersistentBrowserSessionMode\\\":\\\"NotSet\\\"}', 'PolicyLastUpdatedTime': '7/11/2020 5:03:43 AM', 'TenantDefaultPolicy': '18', 'DisplayName': 'Default Policy', 'PolicyIdentifierString': '5/19/2020 1:39:05 PM'})\",\"Cmd(name='Set-ConditionalAccessPolicy', params={'Identity': 'seccxpninja.onmicrosoft.com\\\\\\\\e183bd29-a3a3-4f91-a5a3-b83b21a544df', 'PolicyDetails': '{\\\"Version\\\":0,\\\"State\\\":\\\"Enabled\\\",\\\"Conditions\\\":{\\\"Applications\\\":{\\\"Include\\\":[{\\\"Applications\\\":[\\\"00000002-0000-0ff1-ce00-000000000000\\\"]}]},\\\"Users\\\":{\\\"Include\\\":[{\\\"Users\\\":[\\\"2935e535-8fdf-4217-865b-e084cb7214f1\\\"]}]}},\\\"SessionControls\\\":[\\\"AppEnforcedRestrictions\\\"],\\\"PersistentBrowserSessionMode\\\":\\\"NotSet\\\",\\\"EnforceAllPoliciesForEas\\\":false,\\\"IncludeOtherLegacyClientTypeForEvaluation\\\":false}', 'PolicyLastUpdatedTime': '7/11/2020 5:03:44 AM', 'TenantDefaultPolicy': '', 'DisplayName': 'JulianI Exchange native controls', 'PolicyIdentifierString': ''})\"],[\"Cmd(name='Set-ConditionalAccessPolicy', params={'Identity': 'seccxpninja.onmicrosoft.com\\\\\\\\69c7a12f-b407-45a3-b07e-fa04fc7f273d', 'PolicyDetails': '{\\\"Version\\\":0,\\\"State\\\":\\\"Enabled\\\",\\\"Conditions\\\":{\\\"Applications\\\":{\\\"Include\\\":[{\\\"Applications\\\":[\\\"00000003-0000-0ff1-ce00-000000000000\\\"]}]},\\\"Users\\\":{\\\"Include\\\":[{\\\"Users\\\":[\\\"All\\\"]}]}},\\\"SessionControls\\\":[\\\"CloudAppSecurity\\\"],\\\"PersistentBrowserSessionMode\\\":\\\"NotSet\\\",\\\"EnforceAllPoliciesForEas\\\":false,\\\"IncludeOtherLegacyClientTypeForEvaluation\\\":false,\\\"CasSessionControlType\\\":1}', 'PolicyLastUpdatedTime': '7/11/2020 5:03:43 AM', 'TenantDefaultPolicy': '', 'DisplayName': 'Test Policy', 'PolicyIdentifierString': ''})\",\"Cmd(name='Set-ConditionalAccessPolicy', params={'Identity': 'seccxpninja.onmicrosoft.com\\\\\\\\bcd93f74-64fd-4042-a3ae-ee6d48886d6d', 'PolicyDetails': '{\\\"Version\\\":0,\\\"State\\\":\\\"Enabled\\\",\\\"Conditions\\\":{\\\"Applications\\\":{\\\"Include\\\":[{\\\"Applications\\\":[\\\"c9a559d2-7aab-4f13-a6ed-e7e9c52aec87\\\"]}]},\\\"Users\\\":{\\\"Include\\\":[{\\\"Users\\\":[\\\"bdb72692-2275-412b-8af0-ea21c2ebd174\\\",\\\"eababd92-9dc7-40e3-9359-6c106522db19\\\"]}]}},\\\"SessionControls\\\":[\\\"CloudAppSecurity\\\"],\\\"PersistentBrowserSessionMode\\\":\\\"NotSet\\\",\\\"EnforceAllPoliciesForEas\\\":false,\\\"IncludeOtherLegacyClientTypeForEvaluation\\\":false,\\\"CasSessionControlType\\\":3}', 'PolicyLastUpdatedTime': '7/11/2020 5:03:41 AM', 'TenantDefaultPolicy': '', 'DisplayName': 'Form MCAS', 'PolicyIdentifierString': ''})\"],[\"Cmd(name='Set-ConditionalAccessPolicy', params={'Identity': 'seccxpninja.onmicrosoft.com\\\\\\\\e183bd29-a3a3-4f91-a5a3-b83b21a544df', 'PolicyDetails': '{\\\"Version\\\":0,\\\"State\\\":\\\"Enabled\\\",\\\"Conditions\\\":{\\\"Applications\\\":{\\\"Include\\\":[{\\\"Applications\\\":[\\\"00000002-0000-0ff1-ce00-000000000000\\\"]}]},\\\"Users\\\":{\\\"Include\\\":[{\\\"Users\\\":[\\\"2935e535-8fdf-4217-865b-e084cb7214f1\\\"]}]}},\\\"SessionControls\\\":[\\\"AppEnforcedRestrictions\\\"],\\\"PersistentBrowserSessionMode\\\":\\\"NotSet\\\",\\\"EnforceAllPoliciesForEas\\\":false,\\\"IncludeOtherLegacyClientTypeForEvaluation\\\":false}', 'PolicyLastUpdatedTime': '7/12/2020 2:47:24 AM', 'TenantDefaultPolicy': '', 'DisplayName': 'JulianI Exchange native controls', 'PolicyIdentifierString': ''})\",\"Cmd(name='Set-ConditionalAccessPolicy', params={'Identity': 'seccxpninja.onmicrosoft.com\\\\\\\\83a057fb-dbca-4ba8-bb5f-0ce6d6e7cff5', 'PolicyDetails': '{\\\"Version\\\":0,\\\"State\\\":\\\"Enabled\\\",\\\"Conditions\\\":{\\\"Applications\\\":{\\\"Include\\\":[{\\\"Acrs\\\":[\\\"urn:microsoft:req1\\\"]}]},\\\"Users\\\":{\\\"Include\\\":[{\\\"Users\\\":[\\\"eababd92-9dc7-40e3-9359-6c106522db19\\\"]}]}},\\\"Controls\\\":[{\\\"Control\\\":[\\\"Mfa\\\"]}],\\\"PersistentBrowserSessionMode\\\":\\\"NotSet\\\",\\\"EnforceAllPoliciesForEas\\\":false,\\\"IncludeOtherLegacyClientTypeForEvaluation\\\":false}', 'PolicyLastUpdatedTime': '7/12/2020 2:47:24 AM', 'TenantDefaultPolicy': '', 'DisplayName': 'MeganB MCAS Step-up', 'PolicyIdentifierString': ''})\"],[\"Cmd(name='Set-ConditionalAccessPolicy', params={'Identity': 'seccxpninja.onmicrosoft.com\\\\\\\\e183bd29-a3a3-4f91-a5a3-b83b21a544df', 'PolicyDetails': '{\\\"Version\\\":0,\\\"State\\\":\\\"Enabled\\\",\\\"Conditions\\\":{\\\"Applications\\\":{\\\"Include\\\":[{\\\"Applications\\\":[\\\"00000002-0000-0ff1-ce00-000000000000\\\"]}]},\\\"Users\\\":{\\\"Include\\\":[{\\\"Users\\\":[\\\"2935e535-8fdf-4217-865b-e084cb7214f1\\\"]}]}},\\\"SessionControls\\\":[\\\"AppEnforcedRestrictions\\\"],\\\"PersistentBrowserSessionMode\\\":\\\"NotSet\\\",\\\"EnforceAllPoliciesForEas\\\":false,\\\"IncludeOtherLegacyClientTypeForEvaluation\\\":false}', 'PolicyLastUpdatedTime': '7/12/2020 5:31:05 AM', 'TenantDefaultPolicy': '', 'DisplayName': 'JulianI Exchange native controls', 'PolicyIdentifierString': ''})\",\"Cmd(name='Set-ConditionalAccessPolicy', params={'Identity': 'seccxpninja.onmicrosoft.com\\\\\\\\6490d00c-7ba1-42cf-aa88-99eb71d53bf7', 'PolicyDetails': '{\\\"Version\\\":0,\\\"LastUpdatedTimestamp\\\":\\\"2020-07-02T12:42:35.1866847Z\\\",\\\"State\\\":\\\"Disabled\\\",\\\"SignInFrequency\\\":\\\"NotSet\\\",\\\"PersistentBrowserSessionMode\\\":\\\"NotSet\\\"}', 'PolicyLastUpdatedTime': '7/12/2020 5:31:05 AM', 'TenantDefaultPolicy': '18', 'DisplayName': 'Default Policy', 'PolicyIdentifierString': '5/19/2020 1:39:05 PM'})\"],[\"Cmd(name='Set-ConditionalAccessPolicy', params={'Identity': 'seccxpninja.onmicrosoft.com\\\\\\\\8872f6fb-da88-4b63-bcc7-17247669596b', 'PolicyDetails': '{\\\"Version\\\":0,\\\"State\\\":\\\"Enabled\\\",\\\"Conditions\\\":{\\\"Applications\\\":{\\\"Include\\\":[{\\\"Applications\\\":[\\\"00000002-0000-0ff1-ce00-000000000000\\\",\\\"09abbdfd-ed23-44ee-a2d9-a627aa1c90f3\\\",\\\"cc15fd57-2c6c-4117-a88c-83b1d56b4bbe\\\",\\\"00000003-0000-0ff1-ce00-000000000000\\\",\\\"00000005-0000-0ff1-ce00-000000000000\\\"]}]},\\\"Users\\\":{\\\"Include\\\":[{\\\"Users\\\":[\\\"eababd92-9dc7-40e3-9359-6c106522db19\\\"]}]}},\\\"SessionControls\\\":[\\\"CloudAppSecurity\\\"],\\\"PersistentBrowserSessionMode\\\":\\\"NotSet\\\",\\\"EnforceAllPoliciesForEas\\\":false,\\\"IncludeOtherLegacyClientTypeForEvaluation\\\":false,\\\"CasSessionControlType\\\":1}', 'PolicyLastUpdatedTime': '7/13/2020 2:48:08 AM', 'TenantDefaultPolicy': '', 'DisplayName': 'MeganB MCAS Proxy', 'PolicyIdentifierString': ''})\",\"Cmd(name='Set-ConditionalAccessPolicy', params={'Identity': 'seccxpninja.onmicrosoft.com\\\\\\\\235bec94-f744-48ac-8314-5675953d2def', 'PolicyDetails': '{\\\"Version\\\":0,\\\"State\\\":\\\"Disabled\\\",\\\"Conditions\\\":{\\\"Applications\\\":{\\\"Include\\\":[{\\\"Applications\\\":[\\\"All\\\"]}]},\\\"Users\\\":{\\\"Include\\\":[{\\\"Users\\\":[\\\"eababd92-9dc7-40e3-9359-6c106522db19\\\"]}]},\\\"DevicePlatforms\\\":{\\\"Include\\\":[{\\\"DevicePlatforms\\\":[\\\"All\\\"]}],\\\"Exclude\\\":[{\\\"DevicePlatforms\\\":[\\\"macOS\\\"]}]}},\\\"Controls\\\":[{\\\"Control\\\":[\\\"Mfa\\\"]}],\\\"PersistentBrowserSessionMode\\\":\\\"NotSet\\\",\\\"EnforceAllPoliciesForEas\\\":false,\\\"IncludeOtherLegacyClientTypeForEvaluation\\\":false}', 'PolicyLastUpdatedTime': '7/13/2020 2:48:09 AM', 'TenantDefaultPolicy': '', 'DisplayName': 'Megan MFA demo', 'PolicyIdentifierString': ''})\"],[\"Cmd(name='Set-ConditionalAccessPolicy', params={'Identity': 'seccxpninja.onmicrosoft.com\\\\\\\\e183bd29-a3a3-4f91-a5a3-b83b21a544df', 'PolicyDetails': '{\\\"Version\\\":0,\\\"State\\\":\\\"Enabled\\\",\\\"Conditions\\\":{\\\"Applications\\\":{\\\"Include\\\":[{\\\"Applications\\\":[\\\"00000002-0000-0ff1-ce00-000000000000\\\"]}]},\\\"Users\\\":{\\\"Include\\\":[{\\\"Users\\\":[\\\"2935e535-8fdf-4217-865b-e084cb7214f1\\\"]}]}},\\\"SessionControls\\\":[\\\"AppEnforcedRestrictions\\\"],\\\"PersistentBrowserSessionMode\\\":\\\"NotSet\\\",\\\"EnforceAllPoliciesForEas\\\":false,\\\"IncludeOtherLegacyClientTypeForEvaluation\\\":false}', 'PolicyLastUpdatedTime': '7/13/2020 5:38:31 AM', 'TenantDefaultPolicy': '', 'DisplayName': 'JulianI Exchange native controls', 'PolicyIdentifierString': ''})\",\"Cmd(name='Set-ConditionalAccessPolicy', params={'Identity': 'seccxpninja.onmicrosoft.com\\\\\\\\ba36f0a4-6d73-4ba4-9282-3b3c14575e36', 'PolicyDetails': '{\\\"Version\\\":0,\\\"ModifiedDateTime\\\":\\\"2020-05-19T13:31:41.7083504Z\\\",\\\"State\\\":\\\"Disabled\\\",\\\"Conditions\\\":{\\\"Applications\\\":{\\\"Include\\\":[{\\\"Applications\\\":[\\\"00000002-0000-0ff1-ce00-000000000000\\\",\\\"00000003-0000-0ff1-ce00-000000000000\\\"]}]},\\\"Users\\\":{\\\"Include\\\":[{\\\"Users\\\":[\\\"2935e535-8fdf-4217-865b-e084cb7214f1\\\"]}]},\\\"DevicePlatforms\\\":{\\\"Include\\\":[{\\\"DevicePlatforms\\\":[\\\"All\\\"]}],\\\"Exclude\\\":[{\\\"DevicePlatforms\\\":[\\\"Android\\\",\\\"iOS\\\",\\\"macOS\\\"]}]},\\\"ClientTypes\\\":{\\\"Include\\\":[{\\\"ClientTypes\\\":[\\\"Browser\\\",\\\"Native\\\"]}]}},\\\"SessionControls\\\":[\\\"CloudAppSecurity\\\"],\\\"CasSessionControlType\\\":1}', 'PolicyLastUpdatedTime': '7/13/2020 5:38:30 AM', 'TenantDefaultPolicy': '', 'DisplayName': 'Block Access JulianI', 'PolicyIdentifierString': ''})\"],[\"Cmd(name='Set-ConditionalAccessPolicy', params={'Identity': 'seccxpninja.onmicrosoft.com\\\\\\\\2e76d011-eaa3-40b4-8ce8-7fba52bf3af8', 'PolicyDetails': '{\\\"Version\\\":0,\\\"State\\\":\\\"Reporting\\\",\\\"Conditions\\\":{\\\"Applications\\\":{\\\"Include\\\":[{\\\"Applications\\\":[\\\"f9e8b3d0-ba26-42cd-b544-c90a66191a81\\\"]}]},\\\"Users\\\":{\\\"Include\\\":[{\\\"Users\\\":[\\\"All\\\"]}]}},\\\"SessionControls\\\":[\\\"CloudAppSecurity\\\"],\\\"PersistentBrowserSessionMode\\\":\\\"NotSet\\\",\\\"EnforceAllPoliciesForEas\\\":false,\\\"IncludeOtherLegacyClientTypeForEvaluation\\\":false,\\\"CasSessionControlType\\\":1}', 'PolicyLastUpdatedTime': '7/13/2020 5:38:30 AM', 'TenantDefaultPolicy': '', 'DisplayName': 'On-Prem SharePoint - MeganB proxy', 'PolicyIdentifierString': ''})\",\"Cmd(name='Set-ConditionalAccessPolicy', params={'Identity': 'seccxpninja.onmicrosoft.com\\\\\\\\3b13ea3c-c733-4eb8-bd19-67d308b2ea04', 'PolicyDetails': '{\\\"Version\\\":0,\\\"CreatedDateTime\\\":\\\"2020-05-19T13:34:15.2394934Z\\\",\\\"ModifiedDateTime\\\":\\\"2020-05-19T13:39:04.7333386Z\\\",\\\"State\\\":\\\"Reporting\\\",\\\"Conditions\\\":{\\\"Applications\\\":{\\\"Include\\\":[{\\\"Applications\\\":[\\\"None\\\"]}]},\\\"Users\\\":{\\\"Include\\\":[{\\\"Users\\\":[\\\"Guests\\\"]}]},\\\"DevicePlatforms\\\":{\\\"Include\\\":[{\\\"DevicePlatforms\\\":[\\\"All\\\"]}],\\\"Exclude\\\":[{\\\"DevicePlatforms\\\":[\\\"Android\\\",\\\"iOS\\\",\\\"macOS\\\"]}]},\\\"ClientTypes\\\":{\\\"Include\\\":[{\\\"ClientTypes\\\":[\\\"Browser\\\",\\\"Native\\\"]}]}},\\\"Controls\\\":[{\\\"Control\\\":[\\\"Mfa\\\",\\\"RequireCompliantDevice\\\"]}]}', 'PolicyLastUpdatedTime': '7/13/2020 5:38:31 AM', 'TenantDefaultPolicy': '', 'DisplayName': 'Yanivsh -CA Test', 'PolicyIdentifierString': ''})\"],[\"Cmd(name='Set-ConditionalAccessPolicy', params={'Identity': 'seccxpninja.onmicrosoft.com\\\\\\\\5fd0c4ff-1cd7-4bf6-8607-294a04f58f12', 'PolicyDetails': '{\\\"Version\\\":0,\\\"State\\\":\\\"Disabled\\\",\\\"Conditions\\\":{\\\"Applications\\\":{\\\"Include\\\":[{\\\"Applications\\\":[\\\"All\\\"]}]},\\\"Users\\\":{\\\"Include\\\":[{\\\"Users\\\":[\\\"142512c7-f006-46ae-909c-14fa7bf6a887\\\"]}]}},\\\"Controls\\\":[{\\\"Control\\\":[\\\"Mfa\\\"]}],\\\"EnforceAllPoliciesForEas\\\":false,\\\"IncludeOtherLegacyClientTypeForEvaluation\\\":false}', 'PolicyLastUpdatedTime': '7/14/2020 2:31:27 AM', 'TenantDefaultPolicy': '', 'DisplayName': 'Azure MFA', 'PolicyIdentifierString': ''})\",\"Cmd(name='Set-ConditionalAccessPolicy', params={'Identity': 'seccxpninja.onmicrosoft.com\\\\\\\\b2915792-0396-4abe-94ec-e17fa17243c5', 'PolicyDetails': '{\\\"Version\\\":0,\\\"State\\\":\\\"Enabled\\\",\\\"Conditions\\\":{\\\"Applications\\\":{\\\"Include\\\":[{\\\"Applications\\\":[\\\"94c63fef-13a3-47bc-8074-75af8c65887a\\\",\\\"c9a559d2-7aab-4f13-a6ed-e7e9c52aec87\\\"]}]},\\\"Users\\\":{\\\"Include\\\":[{\\\"Users\\\":[\\\"bdb72692-2275-412b-8af0-ea21c2ebd174\\\",\\\"eababd92-9dc7-40e3-9359-6c106522db19\\\"]}]},\\\"SignInRisks\\\":{\\\"Include\\\":[{\\\"SignInRisks\\\":[\\\"High\\\",\\\"Medium\\\",\\\"Low\\\"]}]}},\\\"SessionControls\\\":[\\\"CloudAppSecurity\\\"],\\\"PersistentBrowserSessionMode\\\":\\\"NotSet\\\",\\\"EnforceAllPoliciesForEas\\\":false,\\\"IncludeOtherLegacyClientTypeForEvaluation\\\":false,\\\"CasSessionControlType\\\":3}', 'PolicyLastUpdatedTime': '7/14/2020 2:31:27 AM', 'TenantDefaultPolicy': '', 'DisplayName': 'GBB demo', 'PolicyIdentifierString': ''})\"],[\"Cmd(name='Set-ConditionalAccessPolicy', params={'Identity': 'seccxpninja.onmicrosoft.com\\\\\\\\235bec94-f744-48ac-8314-5675953d2def', 'PolicyDetails': '{\\\"Version\\\":0,\\\"State\\\":\\\"Disabled\\\",\\\"Conditions\\\":{\\\"Applications\\\":{\\\"Include\\\":[{\\\"Applications\\\":[\\\"All\\\"]}]},\\\"Users\\\":{\\\"Include\\\":[{\\\"Users\\\":[\\\"eababd92-9dc7-40e3-9359-6c106522db19\\\"]}]},\\\"DevicePlatforms\\\":{\\\"Include\\\":[{\\\"DevicePlatforms\\\":[\\\"All\\\"]}],\\\"Exclude\\\":[{\\\"DevicePlatforms\\\":[\\\"macOS\\\"]}]}},\\\"Controls\\\":[{\\\"Control\\\":[\\\"Mfa\\\"]}],\\\"PersistentBrowserSessionMode\\\":\\\"NotSet\\\",\\\"EnforceAllPoliciesForEas\\\":false,\\\"IncludeOtherLegacyClientTypeForEvaluation\\\":false}', 'PolicyLastUpdatedTime': '7/14/2020 5:26:43 AM', 'TenantDefaultPolicy': '', 'DisplayName': 'Megan MFA demo', 'PolicyIdentifierString': ''})\",\"Cmd(name='Set-ConditionalAccessPolicy', params={'Identity': 'seccxpninja.onmicrosoft.com\\\\\\\\83a057fb-dbca-4ba8-bb5f-0ce6d6e7cff5', 'PolicyDetails': '{\\\"Version\\\":0,\\\"State\\\":\\\"Enabled\\\",\\\"Conditions\\\":{\\\"Applications\\\":{\\\"Include\\\":[{\\\"Acrs\\\":[\\\"urn:microsoft:req1\\\"]}]},\\\"Users\\\":{\\\"Include\\\":[{\\\"Users\\\":[\\\"eababd92-9dc7-40e3-9359-6c106522db19\\\"]}]}},\\\"Controls\\\":[{\\\"Control\\\":[\\\"Mfa\\\"]}],\\\"PersistentBrowserSessionMode\\\":\\\"NotSet\\\",\\\"EnforceAllPoliciesForEas\\\":false,\\\"IncludeOtherLegacyClientTypeForEvaluation\\\":false}', 'PolicyLastUpdatedTime': '7/14/2020 5:26:43 AM', 'TenantDefaultPolicy': '', 'DisplayName': 'MeganB MCAS Step-up', 'PolicyIdentifierString': ''})\"],[\"Cmd(name='Set-ConditionalAccessPolicy', params={'Identity': 'seccxpninja.onmicrosoft.com\\\\\\\\8872f6fb-da88-4b63-bcc7-17247669596b', 'PolicyDetails': '{\\\"Version\\\":0,\\\"State\\\":\\\"Enabled\\\",\\\"Conditions\\\":{\\\"Applications\\\":{\\\"Include\\\":[{\\\"Applications\\\":[\\\"00000002-0000-0ff1-ce00-000000000000\\\",\\\"09abbdfd-ed23-44ee-a2d9-a627aa1c90f3\\\",\\\"cc15fd57-2c6c-4117-a88c-83b1d56b4bbe\\\",\\\"00000003-0000-0ff1-ce00-000000000000\\\",\\\"00000005-0000-0ff1-ce00-000000000000\\\"]}]},\\\"Users\\\":{\\\"Include\\\":[{\\\"Users\\\":[\\\"eababd92-9dc7-40e3-9359-6c106522db19\\\"]}]}},\\\"SessionControls\\\":[\\\"CloudAppSecurity\\\"],\\\"PersistentBrowserSessionMode\\\":\\\"NotSet\\\",\\\"EnforceAllPoliciesForEas\\\":false,\\\"IncludeOtherLegacyClientTypeForEvaluation\\\":false,\\\"CasSessionControlType\\\":1}', 'PolicyLastUpdatedTime': '7/15/2020 2:50:27 AM', 'TenantDefaultPolicy': '', 'DisplayName': 'MeganB MCAS Proxy', 'PolicyIdentifierString': ''})\",\"Cmd(name='Set-ConditionalAccessPolicy', params={'Identity': 'seccxpninja.onmicrosoft.com\\\\\\\\b2915792-0396-4abe-94ec-e17fa17243c5', 'PolicyDetails': '{\\\"Version\\\":0,\\\"State\\\":\\\"Enabled\\\",\\\"Conditions\\\":{\\\"Applications\\\":{\\\"Include\\\":[{\\\"Applications\\\":[\\\"94c63fef-13a3-47bc-8074-75af8c65887a\\\",\\\"c9a559d2-7aab-4f13-a6ed-e7e9c52aec87\\\"]}]},\\\"Users\\\":{\\\"Include\\\":[{\\\"Users\\\":[\\\"bdb72692-2275-412b-8af0-ea21c2ebd174\\\",\\\"eababd92-9dc7-40e3-9359-6c106522db19\\\"]}]},\\\"SignInRisks\\\":{\\\"Include\\\":[{\\\"SignInRisks\\\":[\\\"High\\\",\\\"Medium\\\",\\\"Low\\\"]}]}},\\\"SessionControls\\\":[\\\"CloudAppSecurity\\\"],\\\"PersistentBrowserSessionMode\\\":\\\"NotSet\\\",\\\"EnforceAllPoliciesForEas\\\":false,\\\"IncludeOtherLegacyClientTypeForEvaluation\\\":false,\\\"CasSessionControlType\\\":3}', 'PolicyLastUpdatedTime': '7/15/2020 2:50:29 AM', 'TenantDefaultPolicy': '', 'DisplayName': 'GBB demo', 'PolicyIdentifierString': ''})\"],[\"Cmd(name='Set-ConditionalAccessPolicy', params={'Identity': 'seccxpninja.onmicrosoft.com\\\\\\\\ba36f0a4-6d73-4ba4-9282-3b3c14575e36', 'PolicyDetails': '{\\\"Version\\\":0,\\\"ModifiedDateTime\\\":\\\"2020-05-19T13:31:41.7083504Z\\\",\\\"State\\\":\\\"Disabled\\\",\\\"Conditions\\\":{\\\"Applications\\\":{\\\"Include\\\":[{\\\"Applications\\\":[\\\"00000002-0000-0ff1-ce00-000000000000\\\",\\\"00000003-0000-0ff1-ce00-000000000000\\\"]}]},\\\"Users\\\":{\\\"Include\\\":[{\\\"Users\\\":[\\\"2935e535-8fdf-4217-865b-e084cb7214f1\\\"]}]},\\\"DevicePlatforms\\\":{\\\"Include\\\":[{\\\"DevicePlatforms\\\":[\\\"All\\\"]}],\\\"Exclude\\\":[{\\\"DevicePlatforms\\\":[\\\"Android\\\",\\\"iOS\\\",\\\"macOS\\\"]}]},\\\"ClientTypes\\\":{\\\"Include\\\":[{\\\"ClientTypes\\\":[\\\"Browser\\\",\\\"Native\\\"]}]}},\\\"SessionControls\\\":[\\\"CloudAppSecurity\\\"],\\\"CasSessionControlType\\\":1}', 'PolicyLastUpdatedTime': '7/15/2020 5:27:44 AM', 'TenantDefaultPolicy': '', 'DisplayName': 'Block Access JulianI', 'PolicyIdentifierString': ''})\",\"Cmd(name='Set-ConditionalAccessPolicy', params={'Identity': 'seccxpninja.onmicrosoft.com\\\\\\\\4c5a5ea0-5d9f-4730-baaa-7a69cf29ef26', 'PolicyDetails': '{\\\"Version\\\":0,\\\"State\\\":\\\"Enabled\\\",\\\"Conditions\\\":{\\\"Applications\\\":{\\\"Include\\\":[{\\\"Applications\\\":[\\\"All\\\"]}]},\\\"Users\\\":{\\\"Include\\\":[{\\\"Users\\\":[\\\"bdb72692-2275-412b-8af0-ea21c2ebd174\\\"]}]}},\\\"Controls\\\":[{\\\"Control\\\":[\\\"Mfa\\\"]}],\\\"PersistentBrowserSessionMode\\\":\\\"NotSet\\\",\\\"EnforceAllPoliciesForEas\\\":false,\\\"IncludeOtherLegacyClientTypeForEvaluation\\\":false}', 'PolicyLastUpdatedTime': '7/15/2020 5:27:43 AM', 'TenantDefaultPolicy': '', 'DisplayName': 'Semolen - Admin MFA', 'PolicyIdentifierString': ''})\"],[\"Cmd(name='Set-ConditionalAccessPolicy', params={'Identity': 'seccxpninja.onmicrosoft.com\\\\\\\\4c5a5ea0-5d9f-4730-baaa-7a69cf29ef26', 'PolicyDetails': '{\\\"Version\\\":0,\\\"State\\\":\\\"Enabled\\\",\\\"Conditions\\\":{\\\"Applications\\\":{\\\"Include\\\":[{\\\"Applications\\\":[\\\"All\\\"]}]},\\\"Users\\\":{\\\"Include\\\":[{\\\"Users\\\":[\\\"bdb72692-2275-412b-8af0-ea21c2ebd174\\\"]}]}},\\\"Controls\\\":[{\\\"Control\\\":[\\\"Mfa\\\"]}],\\\"PersistentBrowserSessionMode\\\":\\\"NotSet\\\",\\\"EnforceAllPoliciesForEas\\\":false,\\\"IncludeOtherLegacyClientTypeForEvaluation\\\":false}', 'PolicyLastUpdatedTime': '7/16/2020 2:31:10 AM', 'TenantDefaultPolicy': '', 'DisplayName': 'Semolen - Admin MFA', 'PolicyIdentifierString': ''})\",\"Cmd(name='Set-ConditionalAccessPolicy', params={'Identity': 'seccxpninja.onmicrosoft.com\\\\\\\\bcd93f74-64fd-4042-a3ae-ee6d48886d6d', 'PolicyDetails': '{\\\"Version\\\":0,\\\"State\\\":\\\"Enabled\\\",\\\"Conditions\\\":{\\\"Applications\\\":{\\\"Include\\\":[{\\\"Applications\\\":[\\\"c9a559d2-7aab-4f13-a6ed-e7e9c52aec87\\\"]}]},\\\"Users\\\":{\\\"Include\\\":[{\\\"Users\\\":[\\\"bdb72692-2275-412b-8af0-ea21c2ebd174\\\",\\\"eababd92-9dc7-40e3-9359-6c106522db19\\\"]}]}},\\\"SessionControls\\\":[\\\"CloudAppSecurity\\\"],\\\"PersistentBrowserSessionMode\\\":\\\"NotSet\\\",\\\"EnforceAllPoliciesForEas\\\":false,\\\"IncludeOtherLegacyClientTypeForEvaluation\\\":false,\\\"CasSessionControlType\\\":3}', 'PolicyLastUpdatedTime': '7/16/2020 2:31:10 AM', 'TenantDefaultPolicy': '', 'DisplayName': 'Form MCAS', 'PolicyIdentifierString': ''})\"],[\"Cmd(name='Set-ConditionalAccessPolicy', params={'Identity': 'seccxpninja.onmicrosoft.com\\\\\\\\8872f6fb-da88-4b63-bcc7-17247669596b', 'PolicyDetails': '{\\\"Version\\\":0,\\\"State\\\":\\\"Enabled\\\",\\\"Conditions\\\":{\\\"Applications\\\":{\\\"Include\\\":[{\\\"Applications\\\":[\\\"00000002-0000-0ff1-ce00-000000000000\\\",\\\"09abbdfd-ed23-44ee-a2d9-a627aa1c90f3\\\",\\\"cc15fd57-2c6c-4117-a88c-83b1d56b4bbe\\\",\\\"00000003-0000-0ff1-ce00-000000000000\\\",\\\"00000005-0000-0ff1-ce00-000000000000\\\"]}]},\\\"Users\\\":{\\\"Include\\\":[{\\\"Users\\\":[\\\"eababd92-9dc7-40e3-9359-6c106522db19\\\"]}]}},\\\"SessionControls\\\":[\\\"CloudAppSecurity\\\"],\\\"PersistentBrowserSessionMode\\\":\\\"NotSet\\\",\\\"EnforceAllPoliciesForEas\\\":false,\\\"IncludeOtherLegacyClientTypeForEvaluation\\\":false,\\\"CasSessionControlType\\\":1}', 'PolicyLastUpdatedTime': '7/16/2020 5:00:45 AM', 'TenantDefaultPolicy': '', 'DisplayName': 'MeganB MCAS Proxy', 'PolicyIdentifierString': ''})\",\"Cmd(name='Set-ConditionalAccessPolicy', params={'Identity': 'seccxpninja.onmicrosoft.com\\\\\\\\8872f6fb-da88-4b63-bcc7-17247669596b', 'PolicyDetails': '{\\\"Version\\\":0,\\\"State\\\":\\\"Enabled\\\",\\\"Conditions\\\":{\\\"Applications\\\":{\\\"Include\\\":[{\\\"Applications\\\":[\\\"00000002-0000-0ff1-ce00-000000000000\\\",\\\"09abbdfd-ed23-44ee-a2d9-a627aa1c90f3\\\",\\\"cc15fd57-2c6c-4117-a88c-83b1d56b4bbe\\\",\\\"00000003-0000-0ff1-ce00-000000000000\\\",\\\"00000005-0000-0ff1-ce00-000000000000\\\"]}]},\\\"Users\\\":{\\\"Include\\\":[{\\\"Users\\\":[\\\"eababd92-9dc7-40e3-9359-6c106522db19\\\"]}]}},\\\"SessionControls\\\":[\\\"CloudAppSecurity\\\"],\\\"PersistentBrowserSessionMode\\\":\\\"NotSet\\\",\\\"EnforceAllPoliciesForEas\\\":false,\\\"IncludeOtherLegacyClientTypeForEvaluation\\\":false,\\\"CasSessionControlType\\\":1}', 'PolicyLastUpdatedTime': '7/16/2020 5:00:45 AM', 'TenantDefaultPolicy': '', 'DisplayName': 'MeganB MCAS Proxy', 'PolicyIdentifierString': ''})\"],[\"Cmd(name='Set-ConditionalAccessPolicy', params={'Identity': 'seccxpninja.onmicrosoft.com\\\\\\\\3b13ea3c-c733-4eb8-bd19-67d308b2ea04', 'PolicyDetails': '{\\\"Version\\\":0,\\\"CreatedDateTime\\\":\\\"2020-05-19T13:34:15.2394934Z\\\",\\\"ModifiedDateTime\\\":\\\"2020-05-19T13:39:04.7333386Z\\\",\\\"State\\\":\\\"Reporting\\\",\\\"Conditions\\\":{\\\"Applications\\\":{\\\"Include\\\":[{\\\"Applications\\\":[\\\"None\\\"]}]},\\\"Users\\\":{\\\"Include\\\":[{\\\"Users\\\":[\\\"Guests\\\"]}]},\\\"DevicePlatforms\\\":{\\\"Include\\\":[{\\\"DevicePlatforms\\\":[\\\"All\\\"]}],\\\"Exclude\\\":[{\\\"DevicePlatforms\\\":[\\\"Android\\\",\\\"iOS\\\",\\\"macOS\\\"]}]},\\\"ClientTypes\\\":{\\\"Include\\\":[{\\\"ClientTypes\\\":[\\\"Browser\\\",\\\"Native\\\"]}]}},\\\"Controls\\\":[{\\\"Control\\\":[\\\"Mfa\\\",\\\"RequireCompliantDevice\\\"]}]}', 'PolicyLastUpdatedTime': '7/16/2020 5:00:49 AM', 'TenantDefaultPolicy': '', 'DisplayName': 'Yanivsh -CA Test', 'PolicyIdentifierString': ''})\",\"Cmd(name='Set-ConditionalAccessPolicy', params={'Identity': 'seccxpninja.onmicrosoft.com\\\\\\\\235bec94-f744-48ac-8314-5675953d2def', 'PolicyDetails': '{\\\"Version\\\":0,\\\"State\\\":\\\"Disabled\\\",\\\"Conditions\\\":{\\\"Applications\\\":{\\\"Include\\\":[{\\\"Applications\\\":[\\\"All\\\"]}]},\\\"Users\\\":{\\\"Include\\\":[{\\\"Users\\\":[\\\"eababd92-9dc7-40e3-9359-6c106522db19\\\"]}]},\\\"DevicePlatforms\\\":{\\\"Include\\\":[{\\\"DevicePlatforms\\\":[\\\"All\\\"]}],\\\"Exclude\\\":[{\\\"DevicePlatforms\\\":[\\\"macOS\\\"]}]}},\\\"Controls\\\":[{\\\"Control\\\":[\\\"Mfa\\\"]}],\\\"PersistentBrowserSessionMode\\\":\\\"NotSet\\\",\\\"EnforceAllPoliciesForEas\\\":false,\\\"IncludeOtherLegacyClientTypeForEvaluation\\\":false}', 'PolicyLastUpdatedTime': '7/16/2020 5:00:46 AM', 'TenantDefaultPolicy': '', 'DisplayName': 'Megan MFA demo', 'PolicyIdentifierString': ''})\"],[\"Cmd(name='Set-ConditionalAccessPolicy', params={'Identity': 'seccxpninja.onmicrosoft.com\\\\\\\\235bec94-f744-48ac-8314-5675953d2def', 'PolicyDetails': '{\\\"Version\\\":0,\\\"State\\\":\\\"Disabled\\\",\\\"Conditions\\\":{\\\"Applications\\\":{\\\"Include\\\":[{\\\"Applications\\\":[\\\"All\\\"]}]},\\\"Users\\\":{\\\"Include\\\":[{\\\"Users\\\":[\\\"eababd92-9dc7-40e3-9359-6c106522db19\\\"]}]},\\\"DevicePlatforms\\\":{\\\"Include\\\":[{\\\"DevicePlatforms\\\":[\\\"All\\\"]}],\\\"Exclude\\\":[{\\\"DevicePlatforms\\\":[\\\"macOS\\\"]}]}},\\\"Controls\\\":[{\\\"Control\\\":[\\\"Mfa\\\"]}],\\\"PersistentBrowserSessionMode\\\":\\\"NotSet\\\",\\\"EnforceAllPoliciesForEas\\\":false,\\\"IncludeOtherLegacyClientTypeForEvaluation\\\":false}', 'PolicyLastUpdatedTime': '7/17/2020 1:59:50 AM', 'TenantDefaultPolicy': '', 'DisplayName': 'Megan MFA demo', 'PolicyIdentifierString': ''})\",\"Cmd(name='Set-ConditionalAccessPolicy', params={'Identity': 'seccxpninja.onmicrosoft.com\\\\\\\\2e76d011-eaa3-40b4-8ce8-7fba52bf3af8', 'PolicyDetails': '{\\\"Version\\\":0,\\\"State\\\":\\\"Reporting\\\",\\\"Conditions\\\":{\\\"Applications\\\":{\\\"Include\\\":[{\\\"Applications\\\":[\\\"f9e8b3d0-ba26-42cd-b544-c90a66191a81\\\"]}]},\\\"Users\\\":{\\\"Include\\\":[{\\\"Users\\\":[\\\"All\\\"]}]}},\\\"SessionControls\\\":[\\\"CloudAppSecurity\\\"],\\\"PersistentBrowserSessionMode\\\":\\\"NotSet\\\",\\\"EnforceAllPoliciesForEas\\\":false,\\\"IncludeOtherLegacyClientTypeForEvaluation\\\":false,\\\"CasSessionControlType\\\":1}', 'PolicyLastUpdatedTime': '7/17/2020 1:59:51 AM', 'TenantDefaultPolicy': '', 'DisplayName': 'On-Prem SharePoint - MeganB proxy', 'PolicyIdentifierString': ''})\"],[\"Cmd(name='Set-ConditionalAccessPolicy', params={'Identity': 'seccxpninja.onmicrosoft.com\\\\\\\\8872f6fb-da88-4b63-bcc7-17247669596b', 'PolicyDetails': '{\\\"Version\\\":0,\\\"State\\\":\\\"Enabled\\\",\\\"Conditions\\\":{\\\"Applications\\\":{\\\"Include\\\":[{\\\"Applications\\\":[\\\"00000002-0000-0ff1-ce00-000000000000\\\",\\\"09abbdfd-ed23-44ee-a2d9-a627aa1c90f3\\\",\\\"cc15fd57-2c6c-4117-a88c-83b1d56b4bbe\\\",\\\"00000003-0000-0ff1-ce00-000000000000\\\",\\\"00000005-0000-0ff1-ce00-000000000000\\\"]}]},\\\"Users\\\":{\\\"Include\\\":[{\\\"Users\\\":[\\\"eababd92-9dc7-40e3-9359-6c106522db19\\\"]}]}},\\\"SessionControls\\\":[\\\"CloudAppSecurity\\\"],\\\"PersistentBrowserSessionMode\\\":\\\"NotSet\\\",\\\"EnforceAllPoliciesForEas\\\":false,\\\"IncludeOtherLegacyClientTypeForEvaluation\\\":false,\\\"CasSessionControlType\\\":1}', 'PolicyLastUpdatedTime': '7/17/2020 5:00:48 AM', 'TenantDefaultPolicy': '', 'DisplayName': 'MeganB MCAS Proxy', 'PolicyIdentifierString': ''})\",\"Cmd(name='Set-ConditionalAccessPolicy', params={'Identity': 'seccxpninja.onmicrosoft.com\\\\\\\\8872f6fb-da88-4b63-bcc7-17247669596b', 'PolicyDetails': '{\\\"Version\\\":0,\\\"State\\\":\\\"Enabled\\\",\\\"Conditions\\\":{\\\"Applications\\\":{\\\"Include\\\":[{\\\"Applications\\\":[\\\"00000002-0000-0ff1-ce00-000000000000\\\",\\\"09abbdfd-ed23-44ee-a2d9-a627aa1c90f3\\\",\\\"cc15fd57-2c6c-4117-a88c-83b1d56b4bbe\\\",\\\"00000003-0000-0ff1-ce00-000000000000\\\",\\\"00000005-0000-0ff1-ce00-000000000000\\\"]}]},\\\"Users\\\":{\\\"Include\\\":[{\\\"Users\\\":[\\\"eababd92-9dc7-40e3-9359-6c106522db19\\\"]}]}},\\\"SessionControls\\\":[\\\"CloudAppSecurity\\\"],\\\"PersistentBrowserSessionMode\\\":\\\"NotSet\\\",\\\"EnforceAllPoliciesForEas\\\":false,\\\"IncludeOtherLegacyClientTypeForEvaluation\\\":false,\\\"CasSessionControlType\\\":1}', 'PolicyLastUpdatedTime': '7/17/2020 5:00:48 AM', 'TenantDefaultPolicy': '', 'DisplayName': 'MeganB MCAS Proxy', 'PolicyIdentifierString': ''})\"],[\"Cmd(name='Set-ConditionalAccessPolicy', params={'Identity': 'seccxpninja.onmicrosoft.com\\\\\\\\b2915792-0396-4abe-94ec-e17fa17243c5', 'PolicyDetails': '{\\\"Version\\\":0,\\\"State\\\":\\\"Enabled\\\",\\\"Conditions\\\":{\\\"Applications\\\":{\\\"Include\\\":[{\\\"Applications\\\":[\\\"94c63fef-13a3-47bc-8074-75af8c65887a\\\",\\\"c9a559d2-7aab-4f13-a6ed-e7e9c52aec87\\\"]}]},\\\"Users\\\":{\\\"Include\\\":[{\\\"Users\\\":[\\\"bdb72692-2275-412b-8af0-ea21c2ebd174\\\",\\\"eababd92-9dc7-40e3-9359-6c106522db19\\\"]}]},\\\"SignInRisks\\\":{\\\"Include\\\":[{\\\"SignInRisks\\\":[\\\"High\\\",\\\"Medium\\\",\\\"Low\\\"]}]}},\\\"SessionControls\\\":[\\\"CloudAppSecurity\\\"],\\\"PersistentBrowserSessionMode\\\":\\\"NotSet\\\",\\\"EnforceAllPoliciesForEas\\\":false,\\\"IncludeOtherLegacyClientTypeForEvaluation\\\":false,\\\"CasSessionControlType\\\":3}', 'PolicyLastUpdatedTime': '7/17/2020 5:00:48 AM', 'TenantDefaultPolicy': '', 'DisplayName': 'GBB demo', 'PolicyIdentifierString': ''})\",\"Cmd(name='Set-ConditionalAccessPolicy', params={'Identity': 'seccxpninja.onmicrosoft.com\\\\\\\\6490d00c-7ba1-42cf-aa88-99eb71d53bf7', 'PolicyDetails': '{\\\"Version\\\":0,\\\"LastUpdatedTimestamp\\\":\\\"2020-07-02T12:42:35.1866847Z\\\",\\\"State\\\":\\\"Disabled\\\",\\\"SignInFrequency\\\":\\\"NotSet\\\",\\\"PersistentBrowserSessionMode\\\":\\\"NotSet\\\"}', 'PolicyLastUpdatedTime': '7/17/2020 5:00:49 AM', 'TenantDefaultPolicy': '18', 'DisplayName': 'Default Policy', 'PolicyIdentifierString': '5/19/2020 1:39:05 PM'})\"],[\"Cmd(name='Set-ConditionalAccessPolicy', params={'Identity': 'seccxpninja.onmicrosoft.com\\\\\\\\ba36f0a4-6d73-4ba4-9282-3b3c14575e36', 'PolicyDetails': '{\\\"Version\\\":0,\\\"ModifiedDateTime\\\":\\\"2020-05-19T13:31:41.7083504Z\\\",\\\"State\\\":\\\"Disabled\\\",\\\"Conditions\\\":{\\\"Applications\\\":{\\\"Include\\\":[{\\\"Applications\\\":[\\\"00000002-0000-0ff1-ce00-000000000000\\\",\\\"00000003-0000-0ff1-ce00-000000000000\\\"]}]},\\\"Users\\\":{\\\"Include\\\":[{\\\"Users\\\":[\\\"2935e535-8fdf-4217-865b-e084cb7214f1\\\"]}]},\\\"DevicePlatforms\\\":{\\\"Include\\\":[{\\\"DevicePlatforms\\\":[\\\"All\\\"]}],\\\"Exclude\\\":[{\\\"DevicePlatforms\\\":[\\\"Android\\\",\\\"iOS\\\",\\\"macOS\\\"]}]},\\\"ClientTypes\\\":{\\\"Include\\\":[{\\\"ClientTypes\\\":[\\\"Browser\\\",\\\"Native\\\"]}]}},\\\"SessionControls\\\":[\\\"CloudAppSecurity\\\"],\\\"CasSessionControlType\\\":1}', 'PolicyLastUpdatedTime': '7/18/2020 5:22:18 AM', 'TenantDefaultPolicy': '', 'DisplayName': 'Block Access JulianI', 'PolicyIdentifierString': ''})\",\"Cmd(name='Set-ConditionalAccessPolicy', params={'Identity': 'seccxpninja.onmicrosoft.com\\\\\\\\bcd93f74-64fd-4042-a3ae-ee6d48886d6d', 'PolicyDetails': '{\\\"Version\\\":0,\\\"State\\\":\\\"Enabled\\\",\\\"Conditions\\\":{\\\"Applications\\\":{\\\"Include\\\":[{\\\"Applications\\\":[\\\"c9a559d2-7aab-4f13-a6ed-e7e9c52aec87\\\"]}]},\\\"Users\\\":{\\\"Include\\\":[{\\\"Users\\\":[\\\"bdb72692-2275-412b-8af0-ea21c2ebd174\\\",\\\"eababd92-9dc7-40e3-9359-6c106522db19\\\"]}]}},\\\"SessionControls\\\":[\\\"CloudAppSecurity\\\"],\\\"PersistentBrowserSessionMode\\\":\\\"NotSet\\\",\\\"EnforceAllPoliciesForEas\\\":false,\\\"IncludeOtherLegacyClientTypeForEvaluation\\\":false,\\\"CasSessionControlType\\\":3}', 'PolicyLastUpdatedTime': '7/18/2020 5:22:16 AM', 'TenantDefaultPolicy': '', 'DisplayName': 'Form MCAS', 'PolicyIdentifierString': ''})\"],[\"Cmd(name='Set-ConditionalAccessPolicy', params={'Identity': 'seccxpninja.onmicrosoft.com\\\\\\\\3b13ea3c-c733-4eb8-bd19-67d308b2ea04', 'PolicyDetails': '{\\\"Version\\\":0,\\\"CreatedDateTime\\\":\\\"2020-05-19T13:34:15.2394934Z\\\",\\\"ModifiedDateTime\\\":\\\"2020-05-19T13:39:04.7333386Z\\\",\\\"State\\\":\\\"Reporting\\\",\\\"Conditions\\\":{\\\"Applications\\\":{\\\"Include\\\":[{\\\"Applications\\\":[\\\"None\\\"]}]},\\\"Users\\\":{\\\"Include\\\":[{\\\"Users\\\":[\\\"Guests\\\"]}]},\\\"DevicePlatforms\\\":{\\\"Include\\\":[{\\\"DevicePlatforms\\\":[\\\"All\\\"]}],\\\"Exclude\\\":[{\\\"DevicePlatforms\\\":[\\\"Android\\\",\\\"iOS\\\",\\\"macOS\\\"]}]},\\\"ClientTypes\\\":{\\\"Include\\\":[{\\\"ClientTypes\\\":[\\\"Browser\\\",\\\"Native\\\"]}]}},\\\"Controls\\\":[{\\\"Control\\\":[\\\"Mfa\\\",\\\"RequireCompliantDevice\\\"]}]}', 'PolicyLastUpdatedTime': '7/19/2020 5:37:55 AM', 'TenantDefaultPolicy': '', 'DisplayName': 'Yanivsh -CA Test', 'PolicyIdentifierString': ''})\",\"Cmd(name='Set-ConditionalAccessPolicy', params={'Identity': 'seccxpninja.onmicrosoft.com\\\\\\\\ba36f0a4-6d73-4ba4-9282-3b3c14575e36', 'PolicyDetails': '{\\\"Version\\\":0,\\\"ModifiedDateTime\\\":\\\"2020-05-19T13:31:41.7083504Z\\\",\\\"State\\\":\\\"Disabled\\\",\\\"Conditions\\\":{\\\"Applications\\\":{\\\"Include\\\":[{\\\"Applications\\\":[\\\"00000002-0000-0ff1-ce00-000000000000\\\",\\\"00000003-0000-0ff1-ce00-000000000000\\\"]}]},\\\"Users\\\":{\\\"Include\\\":[{\\\"Users\\\":[\\\"2935e535-8fdf-4217-865b-e084cb7214f1\\\"]}]},\\\"DevicePlatforms\\\":{\\\"Include\\\":[{\\\"DevicePlatforms\\\":[\\\"All\\\"]}],\\\"Exclude\\\":[{\\\"DevicePlatforms\\\":[\\\"Android\\\",\\\"iOS\\\",\\\"macOS\\\"]}]},\\\"ClientTypes\\\":{\\\"Include\\\":[{\\\"ClientTypes\\\":[\\\"Browser\\\",\\\"Native\\\"]}]}},\\\"SessionControls\\\":[\\\"CloudAppSecurity\\\"],\\\"CasSessionControlType\\\":1}', 'PolicyLastUpdatedTime': '7/19/2020 5:37:55 AM', 'TenantDefaultPolicy': '', 'DisplayName': 'Block Access JulianI', 'PolicyIdentifierString': ''})\"],[\"Cmd(name='Set-ConditionalAccessPolicy', params={'Identity': 'seccxpninja.onmicrosoft.com\\\\\\\\69c7a12f-b407-45a3-b07e-fa04fc7f273d', 'PolicyDetails': '{\\\"Version\\\":0,\\\"State\\\":\\\"Enabled\\\",\\\"Conditions\\\":{\\\"Applications\\\":{\\\"Include\\\":[{\\\"Applications\\\":[\\\"00000003-0000-0ff1-ce00-000000000000\\\"]}]},\\\"Users\\\":{\\\"Include\\\":[{\\\"Users\\\":[\\\"All\\\"]}]}},\\\"SessionControls\\\":[\\\"CloudAppSecurity\\\"],\\\"PersistentBrowserSessionMode\\\":\\\"NotSet\\\",\\\"EnforceAllPoliciesForEas\\\":false,\\\"IncludeOtherLegacyClientTypeForEvaluation\\\":false,\\\"CasSessionControlType\\\":1}', 'PolicyLastUpdatedTime': '7/20/2020 2:21:06 AM', 'TenantDefaultPolicy': '', 'DisplayName': 'Test Policy', 'PolicyIdentifierString': ''})\",\"Cmd(name='Set-ConditionalAccessPolicy', params={'Identity': 'seccxpninja.onmicrosoft.com\\\\\\\\b2915792-0396-4abe-94ec-e17fa17243c5', 'PolicyDetails': '{\\\"Version\\\":0,\\\"State\\\":\\\"Enabled\\\",\\\"Conditions\\\":{\\\"Applications\\\":{\\\"Include\\\":[{\\\"Applications\\\":[\\\"94c63fef-13a3-47bc-8074-75af8c65887a\\\",\\\"c9a559d2-7aab-4f13-a6ed-e7e9c52aec87\\\"]}]},\\\"Users\\\":{\\\"Include\\\":[{\\\"Users\\\":[\\\"bdb72692-2275-412b-8af0-ea21c2ebd174\\\",\\\"eababd92-9dc7-40e3-9359-6c106522db19\\\"]}]},\\\"SignInRisks\\\":{\\\"Include\\\":[{\\\"SignInRisks\\\":[\\\"High\\\",\\\"Medium\\\",\\\"Low\\\"]}]}},\\\"SessionControls\\\":[\\\"CloudAppSecurity\\\"],\\\"PersistentBrowserSessionMode\\\":\\\"NotSet\\\",\\\"EnforceAllPoliciesForEas\\\":false,\\\"IncludeOtherLegacyClientTypeForEvaluation\\\":false,\\\"CasSessionControlType\\\":3}', 'PolicyLastUpdatedTime': '7/20/2020 2:21:04 AM', 'TenantDefaultPolicy': '', 'DisplayName': 'GBB demo', 'PolicyIdentifierString': ''})\"],[\"Cmd(name='Set-ConditionalAccessPolicy', params={'Identity': 'seccxpninja.onmicrosoft.com\\\\\\\\5fd0c4ff-1cd7-4bf6-8607-294a04f58f12', 'PolicyDetails': '{\\\"Version\\\":0,\\\"State\\\":\\\"Disabled\\\",\\\"Conditions\\\":{\\\"Applications\\\":{\\\"Include\\\":[{\\\"Applications\\\":[\\\"All\\\"]}]},\\\"Users\\\":{\\\"Include\\\":[{\\\"Users\\\":[\\\"142512c7-f006-46ae-909c-14fa7bf6a887\\\"]}]}},\\\"Controls\\\":[{\\\"Control\\\":[\\\"Mfa\\\"]}],\\\"EnforceAllPoliciesForEas\\\":false,\\\"IncludeOtherLegacyClientTypeForEvaluation\\\":false}', 'PolicyLastUpdatedTime': '7/20/2020 6:04:37 AM', 'TenantDefaultPolicy': '', 'DisplayName': 'Azure MFA', 'PolicyIdentifierString': ''})\",\"Cmd(name='Set-ConditionalAccessPolicy', params={'Identity': 'seccxpninja.onmicrosoft.com\\\\\\\\8872f6fb-da88-4b63-bcc7-17247669596b', 'PolicyDetails': '{\\\"Version\\\":0,\\\"State\\\":\\\"Enabled\\\",\\\"Conditions\\\":{\\\"Applications\\\":{\\\"Include\\\":[{\\\"Applications\\\":[\\\"00000002-0000-0ff1-ce00-000000000000\\\",\\\"09abbdfd-ed23-44ee-a2d9-a627aa1c90f3\\\",\\\"cc15fd57-2c6c-4117-a88c-83b1d56b4bbe\\\",\\\"00000003-0000-0ff1-ce00-000000000000\\\",\\\"00000005-0000-0ff1-ce00-000000000000\\\"]}]},\\\"Users\\\":{\\\"Include\\\":[{\\\"Users\\\":[\\\"eababd92-9dc7-40e3-9359-6c106522db19\\\"]}]}},\\\"SessionControls\\\":[\\\"CloudAppSecurity\\\"],\\\"PersistentBrowserSessionMode\\\":\\\"NotSet\\\",\\\"EnforceAllPoliciesForEas\\\":false,\\\"IncludeOtherLegacyClientTypeForEvaluation\\\":false,\\\"CasSessionControlType\\\":1}', 'PolicyLastUpdatedTime': '7/20/2020 6:04:35 AM', 'TenantDefaultPolicy': '', 'DisplayName': 'MeganB MCAS Proxy', 'PolicyIdentifierString': ''})\"],[\"Cmd(name='Set-ConditionalAccessPolicy', params={'Identity': 'seccxpninja.onmicrosoft.com\\\\\\\\2e76d011-eaa3-40b4-8ce8-7fba52bf3af8', 'PolicyDetails': '{\\\"Version\\\":0,\\\"State\\\":\\\"Reporting\\\",\\\"Conditions\\\":{\\\"Applications\\\":{\\\"Include\\\":[{\\\"Applications\\\":[\\\"f9e8b3d0-ba26-42cd-b544-c90a66191a81\\\"]}]},\\\"Users\\\":{\\\"Include\\\":[{\\\"Users\\\":[\\\"All\\\"]}]}},\\\"SessionControls\\\":[\\\"CloudAppSecurity\\\"],\\\"PersistentBrowserSessionMode\\\":\\\"NotSet\\\",\\\"EnforceAllPoliciesForEas\\\":false,\\\"IncludeOtherLegacyClientTypeForEvaluation\\\":false,\\\"CasSessionControlType\\\":1}', 'PolicyLastUpdatedTime': '7/21/2020 2:08:13 AM', 'TenantDefaultPolicy': '', 'DisplayName': 'On-Prem SharePoint - MeganB proxy', 'PolicyIdentifierString': ''})\",\"Cmd(name='Set-ConditionalAccessPolicy', params={'Identity': 'seccxpninja.onmicrosoft.com\\\\\\\\e183bd29-a3a3-4f91-a5a3-b83b21a544df', 'PolicyDetails': '{\\\"Version\\\":0,\\\"State\\\":\\\"Enabled\\\",\\\"Conditions\\\":{\\\"Applications\\\":{\\\"Include\\\":[{\\\"Applications\\\":[\\\"00000002-0000-0ff1-ce00-000000000000\\\"]}]},\\\"Users\\\":{\\\"Include\\\":[{\\\"Users\\\":[\\\"2935e535-8fdf-4217-865b-e084cb7214f1\\\"]}]}},\\\"SessionControls\\\":[\\\"AppEnforcedRestrictions\\\"],\\\"PersistentBrowserSessionMode\\\":\\\"NotSet\\\",\\\"EnforceAllPoliciesForEas\\\":false,\\\"IncludeOtherLegacyClientTypeForEvaluation\\\":false}', 'PolicyLastUpdatedTime': '7/21/2020 2:08:14 AM', 'TenantDefaultPolicy': '', 'DisplayName': 'JulianI Exchange native controls', 'PolicyIdentifierString': ''})\"],[\"Cmd(name='Set-ConditionalAccessPolicy', params={'Identity': 'seccxpninja.onmicrosoft.com\\\\\\\\69c7a12f-b407-45a3-b07e-fa04fc7f273d', 'PolicyDetails': '{\\\"Version\\\":0,\\\"State\\\":\\\"Enabled\\\",\\\"Conditions\\\":{\\\"Applications\\\":{\\\"Include\\\":[{\\\"Applications\\\":[\\\"00000003-0000-0ff1-ce00-000000000000\\\"]}]},\\\"Users\\\":{\\\"Include\\\":[{\\\"Users\\\":[\\\"All\\\"]}]}},\\\"SessionControls\\\":[\\\"CloudAppSecurity\\\"],\\\"PersistentBrowserSessionMode\\\":\\\"NotSet\\\",\\\"EnforceAllPoliciesForEas\\\":false,\\\"IncludeOtherLegacyClientTypeForEvaluation\\\":false,\\\"CasSessionControlType\\\":1}', 'PolicyLastUpdatedTime': '7/21/2020 4:59:02 AM', 'TenantDefaultPolicy': '', 'DisplayName': 'Test Policy', 'PolicyIdentifierString': ''})\",\"Cmd(name='Set-ConditionalAccessPolicy', params={'Identity': 'seccxpninja.onmicrosoft.com\\\\\\\\235bec94-f744-48ac-8314-5675953d2def', 'PolicyDetails': '{\\\"Version\\\":0,\\\"State\\\":\\\"Disabled\\\",\\\"Conditions\\\":{\\\"Applications\\\":{\\\"Include\\\":[{\\\"Applications\\\":[\\\"All\\\"]}]},\\\"Users\\\":{\\\"Include\\\":[{\\\"Users\\\":[\\\"eababd92-9dc7-40e3-9359-6c106522db19\\\"]}]},\\\"DevicePlatforms\\\":{\\\"Include\\\":[{\\\"DevicePlatforms\\\":[\\\"All\\\"]}],\\\"Exclude\\\":[{\\\"DevicePlatforms\\\":[\\\"macOS\\\"]}]}},\\\"Controls\\\":[{\\\"Control\\\":[\\\"Mfa\\\"]}],\\\"PersistentBrowserSessionMode\\\":\\\"NotSet\\\",\\\"EnforceAllPoliciesForEas\\\":false,\\\"IncludeOtherLegacyClientTypeForEvaluation\\\":false}', 'PolicyLastUpdatedTime': '7/21/2020 4:59:02 AM', 'TenantDefaultPolicy': '', 'DisplayName': 'Megan MFA demo', 'PolicyIdentifierString': ''})\"],[\"Cmd(name='Set-ConditionalAccessPolicy', params={'Identity': 'seccxpninja.onmicrosoft.com\\\\\\\\8872f6fb-da88-4b63-bcc7-17247669596b', 'PolicyDetails': '{\\\"Version\\\":0,\\\"State\\\":\\\"Enabled\\\",\\\"Conditions\\\":{\\\"Applications\\\":{\\\"Include\\\":[{\\\"Applications\\\":[\\\"00000002-0000-0ff1-ce00-000000000000\\\",\\\"09abbdfd-ed23-44ee-a2d9-a627aa1c90f3\\\",\\\"cc15fd57-2c6c-4117-a88c-83b1d56b4bbe\\\",\\\"00000003-0000-0ff1-ce00-000000000000\\\",\\\"00000005-0000-0ff1-ce00-000000000000\\\"]}]},\\\"Users\\\":{\\\"Include\\\":[{\\\"Users\\\":[\\\"eababd92-9dc7-40e3-9359-6c106522db19\\\"]}]}},\\\"SessionControls\\\":[\\\"CloudAppSecurity\\\"],\\\"PersistentBrowserSessionMode\\\":\\\"NotSet\\\",\\\"EnforceAllPoliciesForEas\\\":false,\\\"IncludeOtherLegacyClientTypeForEvaluation\\\":false,\\\"CasSessionControlType\\\":1}', 'PolicyLastUpdatedTime': '7/22/2020 2:14:16 AM', 'TenantDefaultPolicy': '', 'DisplayName': 'MeganB MCAS Proxy', 'PolicyIdentifierString': ''})\",\"Cmd(name='Set-ConditionalAccessPolicy', params={'Identity': 'seccxpninja.onmicrosoft.com\\\\\\\\5fd0c4ff-1cd7-4bf6-8607-294a04f58f12', 'PolicyDetails': '{\\\"Version\\\":0,\\\"State\\\":\\\"Disabled\\\",\\\"Conditions\\\":{\\\"Applications\\\":{\\\"Include\\\":[{\\\"Applications\\\":[\\\"All\\\"]}]},\\\"Users\\\":{\\\"Include\\\":[{\\\"Users\\\":[\\\"142512c7-f006-46ae-909c-14fa7bf6a887\\\"]}]}},\\\"Controls\\\":[{\\\"Control\\\":[\\\"Mfa\\\"]}],\\\"EnforceAllPoliciesForEas\\\":false,\\\"IncludeOtherLegacyClientTypeForEvaluation\\\":false}', 'PolicyLastUpdatedTime': '7/22/2020 2:14:19 AM', 'TenantDefaultPolicy': '', 'DisplayName': 'Azure MFA', 'PolicyIdentifierString': ''})\"],[\"Cmd(name='Set-ConditionalAccessPolicy', params={'Identity': 'seccxpninja.onmicrosoft.com\\\\\\\\4c5a5ea0-5d9f-4730-baaa-7a69cf29ef26', 'PolicyDetails': '{\\\"Version\\\":0,\\\"State\\\":\\\"Enabled\\\",\\\"Conditions\\\":{\\\"Applications\\\":{\\\"Include\\\":[{\\\"Applications\\\":[\\\"All\\\"]}]},\\\"Users\\\":{\\\"Include\\\":[{\\\"Users\\\":[\\\"bdb72692-2275-412b-8af0-ea21c2ebd174\\\"]}]}},\\\"Controls\\\":[{\\\"Control\\\":[\\\"Mfa\\\"]}],\\\"PersistentBrowserSessionMode\\\":\\\"NotSet\\\",\\\"EnforceAllPoliciesForEas\\\":false,\\\"IncludeOtherLegacyClientTypeForEvaluation\\\":false}', 'PolicyLastUpdatedTime': '7/22/2020 5:08:50 AM', 'TenantDefaultPolicy': '', 'DisplayName': 'Semolen - Admin MFA', 'PolicyIdentifierString': ''})\",\"Cmd(name='Set-ConditionalAccessPolicy', params={'Identity': 'seccxpninja.onmicrosoft.com\\\\\\\\ba36f0a4-6d73-4ba4-9282-3b3c14575e36', 'PolicyDetails': '{\\\"Version\\\":0,\\\"ModifiedDateTime\\\":\\\"2020-05-19T13:31:41.7083504Z\\\",\\\"State\\\":\\\"Disabled\\\",\\\"Conditions\\\":{\\\"Applications\\\":{\\\"Include\\\":[{\\\"Applications\\\":[\\\"00000002-0000-0ff1-ce00-000000000000\\\",\\\"00000003-0000-0ff1-ce00-000000000000\\\"]}]},\\\"Users\\\":{\\\"Include\\\":[{\\\"Users\\\":[\\\"2935e535-8fdf-4217-865b-e084cb7214f1\\\"]}]},\\\"DevicePlatforms\\\":{\\\"Include\\\":[{\\\"DevicePlatforms\\\":[\\\"All\\\"]}],\\\"Exclude\\\":[{\\\"DevicePlatforms\\\":[\\\"Android\\\",\\\"iOS\\\",\\\"macOS\\\"]}]},\\\"ClientTypes\\\":{\\\"Include\\\":[{\\\"ClientTypes\\\":[\\\"Browser\\\",\\\"Native\\\"]}]}},\\\"SessionControls\\\":[\\\"CloudAppSecurity\\\"],\\\"CasSessionControlType\\\":1}', 'PolicyLastUpdatedTime': '7/22/2020 5:08:51 AM', 'TenantDefaultPolicy': '', 'DisplayName': 'Block Access JulianI', 'PolicyIdentifierString': ''})\"],[\"Cmd(name='Set-ConditionalAccessPolicy', params={'Identity': 'seccxpninja.onmicrosoft.com\\\\\\\\8872f6fb-da88-4b63-bcc7-17247669596b', 'PolicyDetails': '{\\\"Version\\\":0,\\\"State\\\":\\\"Enabled\\\",\\\"Conditions\\\":{\\\"Applications\\\":{\\\"Include\\\":[{\\\"Applications\\\":[\\\"00000002-0000-0ff1-ce00-000000000000\\\",\\\"09abbdfd-ed23-44ee-a2d9-a627aa1c90f3\\\",\\\"cc15fd57-2c6c-4117-a88c-83b1d56b4bbe\\\",\\\"00000003-0000-0ff1-ce00-000000000000\\\",\\\"00000005-0000-0ff1-ce00-000000000000\\\"]}]},\\\"Users\\\":{\\\"Include\\\":[{\\\"Users\\\":[\\\"eababd92-9dc7-40e3-9359-6c106522db19\\\"]}]}},\\\"SessionControls\\\":[\\\"CloudAppSecurity\\\"],\\\"PersistentBrowserSessionMode\\\":\\\"NotSet\\\",\\\"EnforceAllPoliciesForEas\\\":false,\\\"IncludeOtherLegacyClientTypeForEvaluation\\\":false,\\\"CasSessionControlType\\\":1}', 'PolicyLastUpdatedTime': '7/23/2020 2:20:37 AM', 'TenantDefaultPolicy': '', 'DisplayName': 'MeganB MCAS Proxy', 'PolicyIdentifierString': ''})\",\"Cmd(name='Set-ConditionalAccessPolicy', params={'Identity': 'seccxpninja.onmicrosoft.com\\\\\\\\8872f6fb-da88-4b63-bcc7-17247669596b', 'PolicyDetails': '{\\\"Version\\\":0,\\\"State\\\":\\\"Enabled\\\",\\\"Conditions\\\":{\\\"Applications\\\":{\\\"Include\\\":[{\\\"Applications\\\":[\\\"00000002-0000-0ff1-ce00-000000000000\\\",\\\"09abbdfd-ed23-44ee-a2d9-a627aa1c90f3\\\",\\\"cc15fd57-2c6c-4117-a88c-83b1d56b4bbe\\\",\\\"00000003-0000-0ff1-ce00-000000000000\\\",\\\"00000005-0000-0ff1-ce00-000000000000\\\"]}]},\\\"Users\\\":{\\\"Include\\\":[{\\\"Users\\\":[\\\"eababd92-9dc7-40e3-9359-6c106522db19\\\"]}]}},\\\"SessionControls\\\":[\\\"CloudAppSecurity\\\"],\\\"PersistentBrowserSessionMode\\\":\\\"NotSet\\\",\\\"EnforceAllPoliciesForEas\\\":false,\\\"IncludeOtherLegacyClientTypeForEvaluation\\\":false,\\\"CasSessionControlType\\\":1}', 'PolicyLastUpdatedTime': '7/23/2020 2:20:37 AM', 'TenantDefaultPolicy': '', 'DisplayName': 'MeganB MCAS Proxy', 'PolicyIdentifierString': ''})\"],[\"Cmd(name='Set-ConditionalAccessPolicy', params={'Identity': 'seccxpninja.onmicrosoft.com\\\\\\\\8837fdaa-aaeb-4432-9622-43f6f583d583', 'PolicyDetails': '{\\\"KnownNetworkPolicies\\\":{\\\"NetworkName\\\":\\\"BE-Office\\\",\\\"NetworkId\\\":\\\"b98b9088-ce88-4fae-80fb-5b58cb1ce685\\\",\\\"CidrIpRanges\\\":[\\\"109.88.218.99/28\\\"],\\\"CountryIsoCodes\\\":null,\\\"Categories\\\":[],\\\"ApplyToUnknownCountry\\\":false}}', 'PolicyLastUpdatedTime': '7/23/2020 2:20:41 AM', 'TenantDefaultPolicy': '6', 'DisplayName': 'Known Networks List', 'PolicyIdentifierString': '3/19/2020 7:45:08 PM'})\",\"Cmd(name='Set-ConditionalAccessPolicy', params={'Identity': 'seccxpninja.onmicrosoft.com\\\\\\\\e183bd29-a3a3-4f91-a5a3-b83b21a544df', 'PolicyDetails': '{\\\"Version\\\":0,\\\"State\\\":\\\"Enabled\\\",\\\"Conditions\\\":{\\\"Applications\\\":{\\\"Include\\\":[{\\\"Applications\\\":[\\\"00000002-0000-0ff1-ce00-000000000000\\\"]}]},\\\"Users\\\":{\\\"Include\\\":[{\\\"Users\\\":[\\\"2935e535-8fdf-4217-865b-e084cb7214f1\\\"]}]}},\\\"SessionControls\\\":[\\\"AppEnforcedRestrictions\\\"],\\\"PersistentBrowserSessionMode\\\":\\\"NotSet\\\",\\\"EnforceAllPoliciesForEas\\\":false,\\\"IncludeOtherLegacyClientTypeForEvaluation\\\":false}', 'PolicyLastUpdatedTime': '7/23/2020 2:20:40 AM', 'TenantDefaultPolicy': '', 'DisplayName': 'JulianI Exchange native controls', 'PolicyIdentifierString': ''})\"],[\"Cmd(name='Set-ConditionalAccessPolicy', params={'Identity': 'seccxpninja.onmicrosoft.com\\\\\\\\6490d00c-7ba1-42cf-aa88-99eb71d53bf7', 'PolicyDetails': '{\\\"Version\\\":0,\\\"LastUpdatedTimestamp\\\":\\\"2020-07-02T12:42:35.1866847Z\\\",\\\"State\\\":\\\"Disabled\\\",\\\"SignInFrequency\\\":\\\"NotSet\\\",\\\"PersistentBrowserSessionMode\\\":\\\"NotSet\\\"}', 'PolicyLastUpdatedTime': '7/23/2020 2:20:40 AM', 'TenantDefaultPolicy': '18', 'DisplayName': 'Default Policy', 'PolicyIdentifierString': '5/19/2020 1:39:05 PM'})\",\"Cmd(name='Set-ConditionalAccessPolicy', params={'Identity': 'seccxpninja.onmicrosoft.com\\\\\\\\b2915792-0396-4abe-94ec-e17fa17243c5', 'PolicyDetails': '{\\\"Version\\\":0,\\\"State\\\":\\\"Enabled\\\",\\\"Conditions\\\":{\\\"Applications\\\":{\\\"Include\\\":[{\\\"Applications\\\":[\\\"94c63fef-13a3-47bc-8074-75af8c65887a\\\",\\\"c9a559d2-7aab-4f13-a6ed-e7e9c52aec87\\\"]}]},\\\"Users\\\":{\\\"Include\\\":[{\\\"Users\\\":[\\\"bdb72692-2275-412b-8af0-ea21c2ebd174\\\",\\\"eababd92-9dc7-40e3-9359-6c106522db19\\\"]}]},\\\"SignInRisks\\\":{\\\"Include\\\":[{\\\"SignInRisks\\\":[\\\"High\\\",\\\"Medium\\\",\\\"Low\\\"]}]}},\\\"SessionControls\\\":[\\\"CloudAppSecurity\\\"],\\\"PersistentBrowserSessionMode\\\":\\\"NotSet\\\",\\\"EnforceAllPoliciesForEas\\\":false,\\\"IncludeOtherLegacyClientTypeForEvaluation\\\":false,\\\"CasSessionControlType\\\":3}', 'PolicyLastUpdatedTime': '7/23/2020 2:20:38 AM', 'TenantDefaultPolicy': '', 'DisplayName': 'GBB demo', 'PolicyIdentifierString': ''})\"],[\"Cmd(name='Set-ConditionalAccessPolicy', params={'Identity': 'seccxpninja.onmicrosoft.com\\\\\\\\2e76d011-eaa3-40b4-8ce8-7fba52bf3af8', 'PolicyDetails': '{\\\"Version\\\":0,\\\"State\\\":\\\"Reporting\\\",\\\"Conditions\\\":{\\\"Applications\\\":{\\\"Include\\\":[{\\\"Applications\\\":[\\\"f9e8b3d0-ba26-42cd-b544-c90a66191a81\\\"]}]},\\\"Users\\\":{\\\"Include\\\":[{\\\"Users\\\":[\\\"All\\\"]}]}},\\\"SessionControls\\\":[\\\"CloudAppSecurity\\\"],\\\"PersistentBrowserSessionMode\\\":\\\"NotSet\\\",\\\"EnforceAllPoliciesForEas\\\":false,\\\"IncludeOtherLegacyClientTypeForEvaluation\\\":false,\\\"CasSessionControlType\\\":1}', 'PolicyLastUpdatedTime': '7/23/2020 5:19:51 AM', 'TenantDefaultPolicy': '', 'DisplayName': 'On-Prem SharePoint - MeganB proxy', 'PolicyIdentifierString': ''})\",\"Cmd(name='Set-ConditionalAccessPolicy', params={'Identity': 'seccxpninja.onmicrosoft.com\\\\\\\\3b13ea3c-c733-4eb8-bd19-67d308b2ea04', 'PolicyDetails': '{\\\"Version\\\":0,\\\"CreatedDateTime\\\":\\\"2020-05-19T13:34:15.2394934Z\\\",\\\"ModifiedDateTime\\\":\\\"2020-05-19T13:39:04.7333386Z\\\",\\\"State\\\":\\\"Reporting\\\",\\\"Conditions\\\":{\\\"Applications\\\":{\\\"Include\\\":[{\\\"Applications\\\":[\\\"None\\\"]}]},\\\"Users\\\":{\\\"Include\\\":[{\\\"Users\\\":[\\\"Guests\\\"]}]},\\\"DevicePlatforms\\\":{\\\"Include\\\":[{\\\"DevicePlatforms\\\":[\\\"All\\\"]}],\\\"Exclude\\\":[{\\\"DevicePlatforms\\\":[\\\"Android\\\",\\\"iOS\\\",\\\"macOS\\\"]}]},\\\"ClientTypes\\\":{\\\"Include\\\":[{\\\"ClientTypes\\\":[\\\"Browser\\\",\\\"Native\\\"]}]}},\\\"Controls\\\":[{\\\"Control\\\":[\\\"Mfa\\\",\\\"RequireCompliantDevice\\\"]}]}', 'PolicyLastUpdatedTime': '7/23/2020 5:19:53 AM', 'TenantDefaultPolicy': '', 'DisplayName': 'Yanivsh -CA Test', 'PolicyIdentifierString': ''})\"],[\"Cmd(name='Set-ConditionalAccessPolicy', params={'Identity': 'seccxpninja.onmicrosoft.com\\\\\\\\ba36f0a4-6d73-4ba4-9282-3b3c14575e36', 'PolicyDetails': '{\\\"Version\\\":0,\\\"ModifiedDateTime\\\":\\\"2020-05-19T13:31:41.7083504Z\\\",\\\"State\\\":\\\"Disabled\\\",\\\"Conditions\\\":{\\\"Applications\\\":{\\\"Include\\\":[{\\\"Applications\\\":[\\\"00000002-0000-0ff1-ce00-000000000000\\\",\\\"00000003-0000-0ff1-ce00-000000000000\\\"]}]},\\\"Users\\\":{\\\"Include\\\":[{\\\"Users\\\":[\\\"2935e535-8fdf-4217-865b-e084cb7214f1\\\"]}]},\\\"DevicePlatforms\\\":{\\\"Include\\\":[{\\\"DevicePlatforms\\\":[\\\"All\\\"]}],\\\"Exclude\\\":[{\\\"DevicePlatforms\\\":[\\\"Android\\\",\\\"iOS\\\",\\\"macOS\\\"]}]},\\\"ClientTypes\\\":{\\\"Include\\\":[{\\\"ClientTypes\\\":[\\\"Browser\\\",\\\"Native\\\"]}]}},\\\"SessionControls\\\":[\\\"CloudAppSecurity\\\"],\\\"CasSessionControlType\\\":1}', 'PolicyLastUpdatedTime': '7/24/2020 2:30:33 AM', 'TenantDefaultPolicy': '', 'DisplayName': 'Block Access JulianI', 'PolicyIdentifierString': ''})\",\"Cmd(name='Set-ConditionalAccessPolicy', params={'Identity': 'seccxpninja.onmicrosoft.com\\\\\\\\e183bd29-a3a3-4f91-a5a3-b83b21a544df', 'PolicyDetails': '{\\\"Version\\\":0,\\\"State\\\":\\\"Enabled\\\",\\\"Conditions\\\":{\\\"Applications\\\":{\\\"Include\\\":[{\\\"Applications\\\":[\\\"00000002-0000-0ff1-ce00-000000000000\\\"]}]},\\\"Users\\\":{\\\"Include\\\":[{\\\"Users\\\":[\\\"2935e535-8fdf-4217-865b-e084cb7214f1\\\"]}]}},\\\"SessionControls\\\":[\\\"AppEnforcedRestrictions\\\"],\\\"PersistentBrowserSessionMode\\\":\\\"NotSet\\\",\\\"EnforceAllPoliciesForEas\\\":false,\\\"IncludeOtherLegacyClientTypeForEvaluation\\\":false}', 'PolicyLastUpdatedTime': '7/24/2020 2:30:33 AM', 'TenantDefaultPolicy': '', 'DisplayName': 'JulianI Exchange native controls', 'PolicyIdentifierString': ''})\"],[\"Cmd(name='Set-ConditionalAccessPolicy', params={'Identity': 'seccxpninja.onmicrosoft.com\\\\\\\\69c7a12f-b407-45a3-b07e-fa04fc7f273d', 'PolicyDetails': '{\\\"Version\\\":0,\\\"State\\\":\\\"Enabled\\\",\\\"Conditions\\\":{\\\"Applications\\\":{\\\"Include\\\":[{\\\"Applications\\\":[\\\"00000003-0000-0ff1-ce00-000000000000\\\"]}]},\\\"Users\\\":{\\\"Include\\\":[{\\\"Users\\\":[\\\"All\\\"]}]}},\\\"SessionControls\\\":[\\\"CloudAppSecurity\\\"],\\\"PersistentBrowserSessionMode\\\":\\\"NotSet\\\",\\\"EnforceAllPoliciesForEas\\\":false,\\\"IncludeOtherLegacyClientTypeForEvaluation\\\":false,\\\"CasSessionControlType\\\":1}', 'PolicyLastUpdatedTime': '7/24/2020 4:59:23 AM', 'TenantDefaultPolicy': '', 'DisplayName': 'Test Policy', 'PolicyIdentifierString': ''})\",\"Cmd(name='Set-ConditionalAccessPolicy', params={'Identity': 'seccxpninja.onmicrosoft.com\\\\\\\\2e76d011-eaa3-40b4-8ce8-7fba52bf3af8', 'PolicyDetails': '{\\\"Version\\\":0,\\\"State\\\":\\\"Reporting\\\",\\\"Conditions\\\":{\\\"Applications\\\":{\\\"Include\\\":[{\\\"Applications\\\":[\\\"f9e8b3d0-ba26-42cd-b544-c90a66191a81\\\"]}]},\\\"Users\\\":{\\\"Include\\\":[{\\\"Users\\\":[\\\"All\\\"]}]}},\\\"SessionControls\\\":[\\\"CloudAppSecurity\\\"],\\\"PersistentBrowserSessionMode\\\":\\\"NotSet\\\",\\\"EnforceAllPoliciesForEas\\\":false,\\\"IncludeOtherLegacyClientTypeForEvaluation\\\":false,\\\"CasSessionControlType\\\":1}', 'PolicyLastUpdatedTime': '7/24/2020 4:59:22 AM', 'TenantDefaultPolicy': '', 'DisplayName': 'On-Prem SharePoint - MeganB proxy', 'PolicyIdentifierString': ''})\"],[\"Cmd(name='Set-ConditionalAccessPolicy', params={'Identity': 'seccxpninja.onmicrosoft.com\\\\\\\\5fd0c4ff-1cd7-4bf6-8607-294a04f58f12', 'PolicyDetails': '{\\\"Version\\\":0,\\\"State\\\":\\\"Disabled\\\",\\\"Conditions\\\":{\\\"Applications\\\":{\\\"Include\\\":[{\\\"Applications\\\":[\\\"All\\\"]}]},\\\"Users\\\":{\\\"Include\\\":[{\\\"Users\\\":[\\\"142512c7-f006-46ae-909c-14fa7bf6a887\\\"]}]}},\\\"Controls\\\":[{\\\"Control\\\":[\\\"Mfa\\\"]}],\\\"EnforceAllPoliciesForEas\\\":false,\\\"IncludeOtherLegacyClientTypeForEvaluation\\\":false}', 'PolicyLastUpdatedTime': '7/25/2020 2:21:52 AM', 'TenantDefaultPolicy': '', 'DisplayName': 'Azure MFA', 'PolicyIdentifierString': ''})\",\"Cmd(name='Set-ConditionalAccessPolicy', params={'Identity': 'seccxpninja.onmicrosoft.com\\\\\\\\8872f6fb-da88-4b63-bcc7-17247669596b', 'PolicyDetails': '{\\\"Version\\\":0,\\\"State\\\":\\\"Enabled\\\",\\\"Conditions\\\":{\\\"Applications\\\":{\\\"Include\\\":[{\\\"Applications\\\":[\\\"00000002-0000-0ff1-ce00-000000000000\\\",\\\"09abbdfd-ed23-44ee-a2d9-a627aa1c90f3\\\",\\\"cc15fd57-2c6c-4117-a88c-83b1d56b4bbe\\\",\\\"00000003-0000-0ff1-ce00-000000000000\\\",\\\"00000005-0000-0ff1-ce00-000000000000\\\"]}]},\\\"Users\\\":{\\\"Include\\\":[{\\\"Users\\\":[\\\"eababd92-9dc7-40e3-9359-6c106522db19\\\"]}]}},\\\"SessionControls\\\":[\\\"CloudAppSecurity\\\"],\\\"PersistentBrowserSessionMode\\\":\\\"NotSet\\\",\\\"EnforceAllPoliciesForEas\\\":false,\\\"IncludeOtherLegacyClientTypeForEvaluation\\\":false,\\\"CasSessionControlType\\\":1}', 'PolicyLastUpdatedTime': '7/25/2020 2:21:50 AM', 'TenantDefaultPolicy': '', 'DisplayName': 'MeganB MCAS Proxy', 'PolicyIdentifierString': ''})\"],[\"Cmd(name='Set-ConditionalAccessPolicy', params={'Identity': 'seccxpninja.onmicrosoft.com\\\\\\\\bcd93f74-64fd-4042-a3ae-ee6d48886d6d', 'PolicyDetails': '{\\\"Version\\\":0,\\\"State\\\":\\\"Enabled\\\",\\\"Conditions\\\":{\\\"Applications\\\":{\\\"Include\\\":[{\\\"Applications\\\":[\\\"c9a559d2-7aab-4f13-a6ed-e7e9c52aec87\\\"]}]},\\\"Users\\\":{\\\"Include\\\":[{\\\"Users\\\":[\\\"bdb72692-2275-412b-8af0-ea21c2ebd174\\\",\\\"eababd92-9dc7-40e3-9359-6c106522db19\\\"]}]}},\\\"SessionControls\\\":[\\\"CloudAppSecurity\\\"],\\\"PersistentBrowserSessionMode\\\":\\\"NotSet\\\",\\\"EnforceAllPoliciesForEas\\\":false,\\\"IncludeOtherLegacyClientTypeForEvaluation\\\":false,\\\"CasSessionControlType\\\":3}', 'PolicyLastUpdatedTime': '7/25/2020 5:37:48 AM', 'TenantDefaultPolicy': '', 'DisplayName': 'Form MCAS', 'PolicyIdentifierString': ''})\",\"Cmd(name='Set-ConditionalAccessPolicy', params={'Identity': 'seccxpninja.onmicrosoft.com\\\\\\\\8837fdaa-aaeb-4432-9622-43f6f583d583', 'PolicyDetails': '{\\\"KnownNetworkPolicies\\\":{\\\"NetworkName\\\":\\\"BE-Office\\\",\\\"NetworkId\\\":\\\"b98b9088-ce88-4fae-80fb-5b58cb1ce685\\\",\\\"CidrIpRanges\\\":[\\\"109.88.218.99/28\\\"],\\\"CountryIsoCodes\\\":null,\\\"Categories\\\":[],\\\"ApplyToUnknownCountry\\\":false}}', 'PolicyLastUpdatedTime': '7/25/2020 5:37:51 AM', 'TenantDefaultPolicy': '6', 'DisplayName': 'Known Networks List', 'PolicyIdentifierString': '3/19/2020 7:45:08 PM'})\"],[\"Cmd(name='Set-ConditionalAccessPolicy', params={'Identity': 'seccxpninja.onmicrosoft.com\\\\\\\\3b13ea3c-c733-4eb8-bd19-67d308b2ea04', 'PolicyDetails': '{\\\"Version\\\":0,\\\"CreatedDateTime\\\":\\\"2020-05-19T13:34:15.2394934Z\\\",\\\"ModifiedDateTime\\\":\\\"2020-05-19T13:39:04.7333386Z\\\",\\\"State\\\":\\\"Reporting\\\",\\\"Conditions\\\":{\\\"Applications\\\":{\\\"Include\\\":[{\\\"Applications\\\":[\\\"None\\\"]}]},\\\"Users\\\":{\\\"Include\\\":[{\\\"Users\\\":[\\\"Guests\\\"]}]},\\\"DevicePlatforms\\\":{\\\"Include\\\":[{\\\"DevicePlatforms\\\":[\\\"All\\\"]}],\\\"Exclude\\\":[{\\\"DevicePlatforms\\\":[\\\"Android\\\",\\\"iOS\\\",\\\"macOS\\\"]}]},\\\"ClientTypes\\\":{\\\"Include\\\":[{\\\"ClientTypes\\\":[\\\"Browser\\\",\\\"Native\\\"]}]}},\\\"Controls\\\":[{\\\"Control\\\":[\\\"Mfa\\\",\\\"RequireCompliantDevice\\\"]}]}', 'PolicyLastUpdatedTime': '7/26/2020 2:25:48 AM', 'TenantDefaultPolicy': '', 'DisplayName': 'Yanivsh -CA Test', 'PolicyIdentifierString': ''})\",\"Cmd(name='Set-ConditionalAccessPolicy', params={'Identity': 'seccxpninja.onmicrosoft.com\\\\\\\\69c7a12f-b407-45a3-b07e-fa04fc7f273d', 'PolicyDetails': '{\\\"Version\\\":0,\\\"State\\\":\\\"Enabled\\\",\\\"Conditions\\\":{\\\"Applications\\\":{\\\"Include\\\":[{\\\"Applications\\\":[\\\"00000003-0000-0ff1-ce00-000000000000\\\"]}]},\\\"Users\\\":{\\\"Include\\\":[{\\\"Users\\\":[\\\"All\\\"]}]}},\\\"SessionControls\\\":[\\\"CloudAppSecurity\\\"],\\\"PersistentBrowserSessionMode\\\":\\\"NotSet\\\",\\\"EnforceAllPoliciesForEas\\\":false,\\\"IncludeOtherLegacyClientTypeForEvaluation\\\":false,\\\"CasSessionControlType\\\":1}', 'PolicyLastUpdatedTime': '7/26/2020 2:25:48 AM', 'TenantDefaultPolicy': '', 'DisplayName': 'Test Policy', 'PolicyIdentifierString': ''})\"],[\"Cmd(name='Set-ConditionalAccessPolicy', params={'Identity': 'seccxpninja.onmicrosoft.com\\\\\\\\8837fdaa-aaeb-4432-9622-43f6f583d583', 'PolicyDetails': '{\\\"KnownNetworkPolicies\\\":{\\\"NetworkName\\\":\\\"BE-Office\\\",\\\"NetworkId\\\":\\\"b98b9088-ce88-4fae-80fb-5b58cb1ce685\\\",\\\"CidrIpRanges\\\":[\\\"109.88.218.99/28\\\"],\\\"CountryIsoCodes\\\":null,\\\"Categories\\\":[],\\\"ApplyToUnknownCountry\\\":false}}', 'PolicyLastUpdatedTime': '7/26/2020 2:25:48 AM', 'TenantDefaultPolicy': '6', 'DisplayName': 'Known Networks List', 'PolicyIdentifierString': '3/19/2020 7:45:08 PM'})\",\"Cmd(name='Set-ConditionalAccessPolicy', params={'Identity': 'seccxpninja.onmicrosoft.com\\\\\\\\8837fdaa-aaeb-4432-9622-43f6f583d583', 'PolicyDetails': '{\\\"KnownNetworkPolicies\\\":{\\\"NetworkName\\\":\\\"BE-Office\\\",\\\"NetworkId\\\":\\\"b98b9088-ce88-4fae-80fb-5b58cb1ce685\\\",\\\"CidrIpRanges\\\":[\\\"109.88.218.99/28\\\"],\\\"CountryIsoCodes\\\":null,\\\"Categories\\\":[],\\\"ApplyToUnknownCountry\\\":false}}', 'PolicyLastUpdatedTime': '7/26/2020 2:25:48 AM', 'TenantDefaultPolicy': '6', 'DisplayName': 'Known Networks List', 'PolicyIdentifierString': '3/19/2020 7:45:08 PM'})\"],[\"Cmd(name='Set-ConditionalAccessPolicy', params={'Identity': 'seccxpninja.onmicrosoft.com\\\\\\\\e183bd29-a3a3-4f91-a5a3-b83b21a544df', 'PolicyDetails': '{\\\"Version\\\":0,\\\"State\\\":\\\"Enabled\\\",\\\"Conditions\\\":{\\\"Applications\\\":{\\\"Include\\\":[{\\\"Applications\\\":[\\\"00000002-0000-0ff1-ce00-000000000000\\\"]}]},\\\"Users\\\":{\\\"Include\\\":[{\\\"Users\\\":[\\\"2935e535-8fdf-4217-865b-e084cb7214f1\\\"]}]}},\\\"SessionControls\\\":[\\\"AppEnforcedRestrictions\\\"],\\\"PersistentBrowserSessionMode\\\":\\\"NotSet\\\",\\\"EnforceAllPoliciesForEas\\\":false,\\\"IncludeOtherLegacyClientTypeForEvaluation\\\":false}', 'PolicyLastUpdatedTime': '7/26/2020 5:09:13 AM', 'TenantDefaultPolicy': '', 'DisplayName': 'JulianI Exchange native controls', 'PolicyIdentifierString': ''})\",\"Cmd(name='Set-ConditionalAccessPolicy', params={'Identity': 'seccxpninja.onmicrosoft.com\\\\\\\\b2915792-0396-4abe-94ec-e17fa17243c5', 'PolicyDetails': '{\\\"Version\\\":0,\\\"State\\\":\\\"Enabled\\\",\\\"Conditions\\\":{\\\"Applications\\\":{\\\"Include\\\":[{\\\"Applications\\\":[\\\"94c63fef-13a3-47bc-8074-75af8c65887a\\\",\\\"c9a559d2-7aab-4f13-a6ed-e7e9c52aec87\\\"]}]},\\\"Users\\\":{\\\"Include\\\":[{\\\"Users\\\":[\\\"bdb72692-2275-412b-8af0-ea21c2ebd174\\\",\\\"eababd92-9dc7-40e3-9359-6c106522db19\\\"]}]},\\\"SignInRisks\\\":{\\\"Include\\\":[{\\\"SignInRisks\\\":[\\\"High\\\",\\\"Medium\\\",\\\"Low\\\"]}]}},\\\"SessionControls\\\":[\\\"CloudAppSecurity\\\"],\\\"PersistentBrowserSessionMode\\\":\\\"NotSet\\\",\\\"EnforceAllPoliciesForEas\\\":false,\\\"IncludeOtherLegacyClientTypeForEvaluation\\\":false,\\\"CasSessionControlType\\\":3}', 'PolicyLastUpdatedTime': '7/26/2020 5:09:11 AM', 'TenantDefaultPolicy': '', 'DisplayName': 'GBB demo', 'PolicyIdentifierString': ''})\"],[\"Cmd(name='Set-ConditionalAccessPolicy', params={'Identity': 'seccxpninja.onmicrosoft.com\\\\\\\\b2915792-0396-4abe-94ec-e17fa17243c5', 'PolicyDetails': '{\\\"Version\\\":0,\\\"State\\\":\\\"Enabled\\\",\\\"Conditions\\\":{\\\"Applications\\\":{\\\"Include\\\":[{\\\"Applications\\\":[\\\"94c63fef-13a3-47bc-8074-75af8c65887a\\\",\\\"c9a559d2-7aab-4f13-a6ed-e7e9c52aec87\\\"]}]},\\\"Users\\\":{\\\"Include\\\":[{\\\"Users\\\":[\\\"bdb72692-2275-412b-8af0-ea21c2ebd174\\\",\\\"eababd92-9dc7-40e3-9359-6c106522db19\\\"]}]},\\\"SignInRisks\\\":{\\\"Include\\\":[{\\\"SignInRisks\\\":[\\\"High\\\",\\\"Medium\\\",\\\"Low\\\"]}]}},\\\"SessionControls\\\":[\\\"CloudAppSecurity\\\"],\\\"PersistentBrowserSessionMode\\\":\\\"NotSet\\\",\\\"EnforceAllPoliciesForEas\\\":false,\\\"IncludeOtherLegacyClientTypeForEvaluation\\\":false,\\\"CasSessionControlType\\\":3}', 'PolicyLastUpdatedTime': '7/27/2020 2:07:10 AM', 'TenantDefaultPolicy': '', 'DisplayName': 'GBB demo', 'PolicyIdentifierString': ''})\",\"Cmd(name='Set-ConditionalAccessPolicy', params={'Identity': 'seccxpninja.onmicrosoft.com\\\\\\\\4c5a5ea0-5d9f-4730-baaa-7a69cf29ef26', 'PolicyDetails': '{\\\"Version\\\":0,\\\"State\\\":\\\"Enabled\\\",\\\"Conditions\\\":{\\\"Applications\\\":{\\\"Include\\\":[{\\\"Applications\\\":[\\\"All\\\"]}]},\\\"Users\\\":{\\\"Include\\\":[{\\\"Users\\\":[\\\"bdb72692-2275-412b-8af0-ea21c2ebd174\\\"]}]}},\\\"Controls\\\":[{\\\"Control\\\":[\\\"Mfa\\\"]}],\\\"PersistentBrowserSessionMode\\\":\\\"NotSet\\\",\\\"EnforceAllPoliciesForEas\\\":false,\\\"IncludeOtherLegacyClientTypeForEvaluation\\\":false}', 'PolicyLastUpdatedTime': '7/27/2020 2:07:11 AM', 'TenantDefaultPolicy': '', 'DisplayName': 'Semolen - Admin MFA', 'PolicyIdentifierString': ''})\"],[\"Cmd(name='Set-ConditionalAccessPolicy', params={'Identity': 'seccxpninja.onmicrosoft.com\\\\\\\\3b13ea3c-c733-4eb8-bd19-67d308b2ea04', 'PolicyDetails': '{\\\"Version\\\":0,\\\"CreatedDateTime\\\":\\\"2020-05-19T13:34:15.2394934Z\\\",\\\"ModifiedDateTime\\\":\\\"2020-05-19T13:39:04.7333386Z\\\",\\\"State\\\":\\\"Reporting\\\",\\\"Conditions\\\":{\\\"Applications\\\":{\\\"Include\\\":[{\\\"Applications\\\":[\\\"None\\\"]}]},\\\"Users\\\":{\\\"Include\\\":[{\\\"Users\\\":[\\\"Guests\\\"]}]},\\\"DevicePlatforms\\\":{\\\"Include\\\":[{\\\"DevicePlatforms\\\":[\\\"All\\\"]}],\\\"Exclude\\\":[{\\\"DevicePlatforms\\\":[\\\"Android\\\",\\\"iOS\\\",\\\"macOS\\\"]}]},\\\"ClientTypes\\\":{\\\"Include\\\":[{\\\"ClientTypes\\\":[\\\"Browser\\\",\\\"Native\\\"]}]}},\\\"Controls\\\":[{\\\"Control\\\":[\\\"Mfa\\\",\\\"RequireCompliantDevice\\\"]}]}', 'PolicyLastUpdatedTime': '7/27/2020 5:11:30 AM', 'TenantDefaultPolicy': '', 'DisplayName': 'Yanivsh -CA Test', 'PolicyIdentifierString': ''})\",\"Cmd(name='Set-ConditionalAccessPolicy', params={'Identity': 'seccxpninja.onmicrosoft.com\\\\\\\\ba36f0a4-6d73-4ba4-9282-3b3c14575e36', 'PolicyDetails': '{\\\"Version\\\":0,\\\"ModifiedDateTime\\\":\\\"2020-05-19T13:31:41.7083504Z\\\",\\\"State\\\":\\\"Disabled\\\",\\\"Conditions\\\":{\\\"Applications\\\":{\\\"Include\\\":[{\\\"Applications\\\":[\\\"00000002-0000-0ff1-ce00-000000000000\\\",\\\"00000003-0000-0ff1-ce00-000000000000\\\"]}]},\\\"Users\\\":{\\\"Include\\\":[{\\\"Users\\\":[\\\"2935e535-8fdf-4217-865b-e084cb7214f1\\\"]}]},\\\"DevicePlatforms\\\":{\\\"Include\\\":[{\\\"DevicePlatforms\\\":[\\\"All\\\"]}],\\\"Exclude\\\":[{\\\"DevicePlatforms\\\":[\\\"Android\\\",\\\"iOS\\\",\\\"macOS\\\"]}]},\\\"ClientTypes\\\":{\\\"Include\\\":[{\\\"ClientTypes\\\":[\\\"Browser\\\",\\\"Native\\\"]}]}},\\\"SessionControls\\\":[\\\"CloudAppSecurity\\\"],\\\"CasSessionControlType\\\":1}', 'PolicyLastUpdatedTime': '7/27/2020 5:11:29 AM', 'TenantDefaultPolicy': '', 'DisplayName': 'Block Access JulianI', 'PolicyIdentifierString': ''})\"],[\"Cmd(name='Set-ConditionalAccessPolicy', params={'Identity': 'seccxpninja.onmicrosoft.com\\\\\\\\ba36f0a4-6d73-4ba4-9282-3b3c14575e36', 'PolicyDetails': '{\\\"Version\\\":0,\\\"ModifiedDateTime\\\":\\\"2020-05-19T13:31:41.7083504Z\\\",\\\"State\\\":\\\"Disabled\\\",\\\"Conditions\\\":{\\\"Applications\\\":{\\\"Include\\\":[{\\\"Applications\\\":[\\\"00000002-0000-0ff1-ce00-000000000000\\\",\\\"00000003-0000-0ff1-ce00-000000000000\\\"]}]},\\\"Users\\\":{\\\"Include\\\":[{\\\"Users\\\":[\\\"2935e535-8fdf-4217-865b-e084cb7214f1\\\"]}]},\\\"DevicePlatforms\\\":{\\\"Include\\\":[{\\\"DevicePlatforms\\\":[\\\"All\\\"]}],\\\"Exclude\\\":[{\\\"DevicePlatforms\\\":[\\\"Android\\\",\\\"iOS\\\",\\\"macOS\\\"]}]},\\\"ClientTypes\\\":{\\\"Include\\\":[{\\\"ClientTypes\\\":[\\\"Browser\\\",\\\"Native\\\"]}]}},\\\"SessionControls\\\":[\\\"CloudAppSecurity\\\"],\\\"CasSessionControlType\\\":1}', 'PolicyLastUpdatedTime': '7/28/2020 2:00:46 AM', 'TenantDefaultPolicy': '', 'DisplayName': 'Block Access JulianI', 'PolicyIdentifierString': ''})\",\"Cmd(name='Set-ConditionalAccessPolicy', params={'Identity': 'seccxpninja.onmicrosoft.com\\\\\\\\2e76d011-eaa3-40b4-8ce8-7fba52bf3af8', 'PolicyDetails': '{\\\"Version\\\":0,\\\"State\\\":\\\"Reporting\\\",\\\"Conditions\\\":{\\\"Applications\\\":{\\\"Include\\\":[{\\\"Applications\\\":[\\\"f9e8b3d0-ba26-42cd-b544-c90a66191a81\\\"]}]},\\\"Users\\\":{\\\"Include\\\":[{\\\"Users\\\":[\\\"All\\\"]}]}},\\\"SessionControls\\\":[\\\"CloudAppSecurity\\\"],\\\"PersistentBrowserSessionMode\\\":\\\"NotSet\\\",\\\"EnforceAllPoliciesForEas\\\":false,\\\"IncludeOtherLegacyClientTypeForEvaluation\\\":false,\\\"CasSessionControlType\\\":1}', 'PolicyLastUpdatedTime': '7/28/2020 2:00:45 AM', 'TenantDefaultPolicy': '', 'DisplayName': 'On-Prem SharePoint - MeganB proxy', 'PolicyIdentifierString': ''})\"],[\"Cmd(name='Set-ConditionalAccessPolicy', params={'Identity': 'seccxpninja.onmicrosoft.com\\\\\\\\235bec94-f744-48ac-8314-5675953d2def', 'PolicyDetails': '{\\\"Version\\\":0,\\\"State\\\":\\\"Disabled\\\",\\\"Conditions\\\":{\\\"Applications\\\":{\\\"Include\\\":[{\\\"Applications\\\":[\\\"All\\\"]}]},\\\"Users\\\":{\\\"Include\\\":[{\\\"Users\\\":[\\\"eababd92-9dc7-40e3-9359-6c106522db19\\\"]}]},\\\"DevicePlatforms\\\":{\\\"Include\\\":[{\\\"DevicePlatforms\\\":[\\\"All\\\"]}],\\\"Exclude\\\":[{\\\"DevicePlatforms\\\":[\\\"macOS\\\"]}]}},\\\"Controls\\\":[{\\\"Control\\\":[\\\"Mfa\\\"]}],\\\"PersistentBrowserSessionMode\\\":\\\"NotSet\\\",\\\"EnforceAllPoliciesForEas\\\":false,\\\"IncludeOtherLegacyClientTypeForEvaluation\\\":false}', 'PolicyLastUpdatedTime': '7/28/2020 5:23:28 AM', 'TenantDefaultPolicy': '', 'DisplayName': 'Megan MFA demo', 'PolicyIdentifierString': ''})\",\"Cmd(name='Set-ConditionalAccessPolicy', params={'Identity': 'seccxpninja.onmicrosoft.com\\\\\\\\6490d00c-7ba1-42cf-aa88-99eb71d53bf7', 'PolicyDetails': '{\\\"Version\\\":0,\\\"LastUpdatedTimestamp\\\":\\\"2020-07-02T12:42:35.1866847Z\\\",\\\"State\\\":\\\"Disabled\\\",\\\"SignInFrequency\\\":\\\"NotSet\\\",\\\"PersistentBrowserSessionMode\\\":\\\"NotSet\\\"}', 'PolicyLastUpdatedTime': '7/28/2020 5:23:30 AM', 'TenantDefaultPolicy': '18', 'DisplayName': 'Default Policy', 'PolicyIdentifierString': '5/19/2020 1:39:05 PM'})\"],[\"Cmd(name='Set-ConditionalAccessPolicy', params={'Identity': 'seccxpninja.onmicrosoft.com\\\\\\\\83a057fb-dbca-4ba8-bb5f-0ce6d6e7cff5', 'PolicyDetails': '{\\\"Version\\\":0,\\\"State\\\":\\\"Enabled\\\",\\\"Conditions\\\":{\\\"Applications\\\":{\\\"Include\\\":[{\\\"Acrs\\\":[\\\"urn:microsoft:req1\\\"]}]},\\\"Users\\\":{\\\"Include\\\":[{\\\"Users\\\":[\\\"eababd92-9dc7-40e3-9359-6c106522db19\\\"]}]}},\\\"Controls\\\":[{\\\"Control\\\":[\\\"Mfa\\\"]}],\\\"PersistentBrowserSessionMode\\\":\\\"NotSet\\\",\\\"EnforceAllPoliciesForEas\\\":false,\\\"IncludeOtherLegacyClientTypeForEvaluation\\\":false}', 'PolicyLastUpdatedTime': '7/28/2020 5:23:28 AM', 'TenantDefaultPolicy': '', 'DisplayName': 'MeganB MCAS Step-up', 'PolicyIdentifierString': ''})\",\"Cmd(name='Set-ConditionalAccessPolicy', params={'Identity': 'seccxpninja.onmicrosoft.com\\\\\\\\b2915792-0396-4abe-94ec-e17fa17243c5', 'PolicyDetails': '{\\\"Version\\\":0,\\\"State\\\":\\\"Enabled\\\",\\\"Conditions\\\":{\\\"Applications\\\":{\\\"Include\\\":[{\\\"Applications\\\":[\\\"94c63fef-13a3-47bc-8074-75af8c65887a\\\",\\\"c9a559d2-7aab-4f13-a6ed-e7e9c52aec87\\\"]}]},\\\"Users\\\":{\\\"Include\\\":[{\\\"Users\\\":[\\\"bdb72692-2275-412b-8af0-ea21c2ebd174\\\",\\\"eababd92-9dc7-40e3-9359-6c106522db19\\\"]}]},\\\"SignInRisks\\\":{\\\"Include\\\":[{\\\"SignInRisks\\\":[\\\"High\\\",\\\"Medium\\\",\\\"Low\\\"]}]}},\\\"SessionControls\\\":[\\\"CloudAppSecurity\\\"],\\\"PersistentBrowserSessionMode\\\":\\\"NotSet\\\",\\\"EnforceAllPoliciesForEas\\\":false,\\\"IncludeOtherLegacyClientTypeForEvaluation\\\":false,\\\"CasSessionControlType\\\":3}', 'PolicyLastUpdatedTime': '7/28/2020 5:23:29 AM', 'TenantDefaultPolicy': '', 'DisplayName': 'GBB demo', 'PolicyIdentifierString': ''})\"],[\"Cmd(name='Set-ConditionalAccessPolicy', params={'Identity': 'seccxpninja.onmicrosoft.com\\\\\\\\69c7a12f-b407-45a3-b07e-fa04fc7f273d', 'PolicyDetails': '{\\\"Version\\\":0,\\\"State\\\":\\\"Enabled\\\",\\\"Conditions\\\":{\\\"Applications\\\":{\\\"Include\\\":[{\\\"Applications\\\":[\\\"00000003-0000-0ff1-ce00-000000000000\\\"]}]},\\\"Users\\\":{\\\"Include\\\":[{\\\"Users\\\":[\\\"All\\\"]}]}},\\\"SessionControls\\\":[\\\"CloudAppSecurity\\\"],\\\"PersistentBrowserSessionMode\\\":\\\"NotSet\\\",\\\"EnforceAllPoliciesForEas\\\":false,\\\"IncludeOtherLegacyClientTypeForEvaluation\\\":false,\\\"CasSessionControlType\\\":1}', 'PolicyLastUpdatedTime': '7/28/2020 5:23:31 AM', 'TenantDefaultPolicy': '', 'DisplayName': 'Test Policy', 'PolicyIdentifierString': ''})\",\"Cmd(name='Set-ConditionalAccessPolicy', params={'Identity': 'seccxpninja.onmicrosoft.com\\\\\\\\8837fdaa-aaeb-4432-9622-43f6f583d583', 'PolicyDetails': '{\\\"KnownNetworkPolicies\\\":{\\\"NetworkName\\\":\\\"BE-Office\\\",\\\"NetworkId\\\":\\\"b98b9088-ce88-4fae-80fb-5b58cb1ce685\\\",\\\"CidrIpRanges\\\":[\\\"109.88.218.99/28\\\"],\\\"CountryIsoCodes\\\":null,\\\"Categories\\\":[],\\\"ApplyToUnknownCountry\\\":false}}', 'PolicyLastUpdatedTime': '7/28/2020 5:23:31 AM', 'TenantDefaultPolicy': '6', 'DisplayName': 'Known Networks List', 'PolicyIdentifierString': '3/19/2020 7:45:08 PM'})\"],[\"Cmd(name='Set-ConditionalAccessPolicy', params={'Identity': 'seccxpninja.onmicrosoft.com\\\\\\\\3b13ea3c-c733-4eb8-bd19-67d308b2ea04', 'PolicyDetails': '{\\\"Version\\\":0,\\\"CreatedDateTime\\\":\\\"2020-05-19T13:34:15.2394934Z\\\",\\\"ModifiedDateTime\\\":\\\"2020-05-19T13:39:04.7333386Z\\\",\\\"State\\\":\\\"Reporting\\\",\\\"Conditions\\\":{\\\"Applications\\\":{\\\"Include\\\":[{\\\"Applications\\\":[\\\"None\\\"]}]},\\\"Users\\\":{\\\"Include\\\":[{\\\"Users\\\":[\\\"Guests\\\"]}]},\\\"DevicePlatforms\\\":{\\\"Include\\\":[{\\\"DevicePlatforms\\\":[\\\"All\\\"]}],\\\"Exclude\\\":[{\\\"DevicePlatforms\\\":[\\\"Android\\\",\\\"iOS\\\",\\\"macOS\\\"]}]},\\\"ClientTypes\\\":{\\\"Include\\\":[{\\\"ClientTypes\\\":[\\\"Browser\\\",\\\"Native\\\"]}]}},\\\"Controls\\\":[{\\\"Control\\\":[\\\"Mfa\\\",\\\"RequireCompliantDevice\\\"]}]}', 'PolicyLastUpdatedTime': '7/29/2020 1:40:55 AM', 'TenantDefaultPolicy': '', 'DisplayName': 'Yanivsh -CA Test', 'PolicyIdentifierString': ''})\",\"Cmd(name='Set-ConditionalAccessPolicy', params={'Identity': 'seccxpninja.onmicrosoft.com\\\\\\\\bcd93f74-64fd-4042-a3ae-ee6d48886d6d', 'PolicyDetails': '{\\\"Version\\\":0,\\\"State\\\":\\\"Enabled\\\",\\\"Conditions\\\":{\\\"Applications\\\":{\\\"Include\\\":[{\\\"Applications\\\":[\\\"c9a559d2-7aab-4f13-a6ed-e7e9c52aec87\\\"]}]},\\\"Users\\\":{\\\"Include\\\":[{\\\"Users\\\":[\\\"bdb72692-2275-412b-8af0-ea21c2ebd174\\\",\\\"eababd92-9dc7-40e3-9359-6c106522db19\\\"]}]}},\\\"SessionControls\\\":[\\\"CloudAppSecurity\\\"],\\\"PersistentBrowserSessionMode\\\":\\\"NotSet\\\",\\\"EnforceAllPoliciesForEas\\\":false,\\\"IncludeOtherLegacyClientTypeForEvaluation\\\":false,\\\"CasSessionControlType\\\":3}', 'PolicyLastUpdatedTime': '7/29/2020 1:40:52 AM', 'TenantDefaultPolicy': '', 'DisplayName': 'Form MCAS', 'PolicyIdentifierString': ''})\",\"Cmd(name='Set-ConditionalAccessPolicy', params={'Identity': 'seccxpninja.onmicrosoft.com\\\\\\\\bcd93f74-64fd-4042-a3ae-ee6d48886d6d', 'PolicyDetails': '{\\\"Version\\\":0,\\\"State\\\":\\\"Enabled\\\",\\\"Conditions\\\":{\\\"Applications\\\":{\\\"Include\\\":[{\\\"Applications\\\":[\\\"c9a559d2-7aab-4f13-a6ed-e7e9c52aec87\\\"]}]},\\\"Users\\\":{\\\"Include\\\":[{\\\"Users\\\":[\\\"bdb72692-2275-412b-8af0-ea21c2ebd174\\\",\\\"eababd92-9dc7-40e3-9359-6c106522db19\\\"]}]}},\\\"SessionControls\\\":[\\\"CloudAppSecurity\\\"],\\\"PersistentBrowserSessionMode\\\":\\\"NotSet\\\",\\\"EnforceAllPoliciesForEas\\\":false,\\\"IncludeOtherLegacyClientTypeForEvaluation\\\":false,\\\"CasSessionControlType\\\":3}', 'PolicyLastUpdatedTime': '7/29/2020 1:40:52 AM', 'TenantDefaultPolicy': '', 'DisplayName': 'Form MCAS', 'PolicyIdentifierString': ''})\"],[\"Cmd(name='Set-ConditionalAccessPolicy', params={'Identity': 'seccxpninja.onmicrosoft.com\\\\\\\\83a057fb-dbca-4ba8-bb5f-0ce6d6e7cff5', 'PolicyDetails': '{\\\"Version\\\":0,\\\"State\\\":\\\"Enabled\\\",\\\"Conditions\\\":{\\\"Applications\\\":{\\\"Include\\\":[{\\\"Acrs\\\":[\\\"urn:microsoft:req1\\\"]}]},\\\"Users\\\":{\\\"Include\\\":[{\\\"Users\\\":[\\\"eababd92-9dc7-40e3-9359-6c106522db19\\\"]}]}},\\\"Controls\\\":[{\\\"Control\\\":[\\\"Mfa\\\"]}],\\\"PersistentBrowserSessionMode\\\":\\\"NotSet\\\",\\\"EnforceAllPoliciesForEas\\\":false,\\\"IncludeOtherLegacyClientTypeForEvaluation\\\":false}', 'PolicyLastUpdatedTime': '7/29/2020 1:40:52 AM', 'TenantDefaultPolicy': '', 'DisplayName': 'MeganB MCAS Step-up', 'PolicyIdentifierString': ''})\",\"Cmd(name='Set-ConditionalAccessPolicy', params={'Identity': 'seccxpninja.onmicrosoft.com\\\\\\\\2e76d011-eaa3-40b4-8ce8-7fba52bf3af8', 'PolicyDetails': '{\\\"Version\\\":0,\\\"State\\\":\\\"Reporting\\\",\\\"Conditions\\\":{\\\"Applications\\\":{\\\"Include\\\":[{\\\"Applications\\\":[\\\"f9e8b3d0-ba26-42cd-b544-c90a66191a81\\\"]}]},\\\"Users\\\":{\\\"Include\\\":[{\\\"Users\\\":[\\\"All\\\"]}]}},\\\"SessionControls\\\":[\\\"CloudAppSecurity\\\"],\\\"PersistentBrowserSessionMode\\\":\\\"NotSet\\\",\\\"EnforceAllPoliciesForEas\\\":false,\\\"IncludeOtherLegacyClientTypeForEvaluation\\\":false,\\\"CasSessionControlType\\\":1}', 'PolicyLastUpdatedTime': '7/29/2020 1:40:53 AM', 'TenantDefaultPolicy': '', 'DisplayName': 'On-Prem SharePoint - MeganB proxy', 'PolicyIdentifierString': ''})\"],[\"Cmd(name='Set-ConditionalAccessPolicy', params={'Identity': 'seccxpninja.onmicrosoft.com\\\\\\\\8872f6fb-da88-4b63-bcc7-17247669596b', 'PolicyDetails': '{\\\"Version\\\":0,\\\"State\\\":\\\"Enabled\\\",\\\"Conditions\\\":{\\\"Applications\\\":{\\\"Include\\\":[{\\\"Applications\\\":[\\\"00000002-0000-0ff1-ce00-000000000000\\\",\\\"09abbdfd-ed23-44ee-a2d9-a627aa1c90f3\\\",\\\"cc15fd57-2c6c-4117-a88c-83b1d56b4bbe\\\",\\\"00000003-0000-0ff1-ce00-000000000000\\\",\\\"00000005-0000-0ff1-ce00-000000000000\\\"]}]},\\\"Users\\\":{\\\"Include\\\":[{\\\"Users\\\":[\\\"eababd92-9dc7-40e3-9359-6c106522db19\\\"]}]}},\\\"SessionControls\\\":[\\\"CloudAppSecurity\\\"],\\\"PersistentBrowserSessionMode\\\":\\\"NotSet\\\",\\\"EnforceAllPoliciesForEas\\\":false,\\\"IncludeOtherLegacyClientTypeForEvaluation\\\":false,\\\"CasSessionControlType\\\":1}', 'PolicyLastUpdatedTime': '7/29/2020 5:15:37 AM', 'TenantDefaultPolicy': '', 'DisplayName': 'MeganB MCAS Proxy', 'PolicyIdentifierString': ''})\",\"Cmd(name='Set-ConditionalAccessPolicy', params={'Identity': 'seccxpninja.onmicrosoft.com\\\\\\\\8872f6fb-da88-4b63-bcc7-17247669596b', 'PolicyDetails': '{\\\"Version\\\":0,\\\"State\\\":\\\"Enabled\\\",\\\"Conditions\\\":{\\\"Applications\\\":{\\\"Include\\\":[{\\\"Applications\\\":[\\\"00000002-0000-0ff1-ce00-000000000000\\\",\\\"09abbdfd-ed23-44ee-a2d9-a627aa1c90f3\\\",\\\"cc15fd57-2c6c-4117-a88c-83b1d56b4bbe\\\",\\\"00000003-0000-0ff1-ce00-000000000000\\\",\\\"00000005-0000-0ff1-ce00-000000000000\\\"]}]},\\\"Users\\\":{\\\"Include\\\":[{\\\"Users\\\":[\\\"eababd92-9dc7-40e3-9359-6c106522db19\\\"]}]}},\\\"SessionControls\\\":[\\\"CloudAppSecurity\\\"],\\\"PersistentBrowserSessionMode\\\":\\\"NotSet\\\",\\\"EnforceAllPoliciesForEas\\\":false,\\\"IncludeOtherLegacyClientTypeForEvaluation\\\":false,\\\"CasSessionControlType\\\":1}', 'PolicyLastUpdatedTime': '7/29/2020 5:15:37 AM', 'TenantDefaultPolicy': '', 'DisplayName': 'MeganB MCAS Proxy', 'PolicyIdentifierString': ''})\"],[\"Cmd(name='Set-ConditionalAccessPolicy', params={'Identity': 'seccxpninja.onmicrosoft.com\\\\\\\\2e76d011-eaa3-40b4-8ce8-7fba52bf3af8', 'PolicyDetails': '{\\\"Version\\\":0,\\\"State\\\":\\\"Reporting\\\",\\\"Conditions\\\":{\\\"Applications\\\":{\\\"Include\\\":[{\\\"Applications\\\":[\\\"f9e8b3d0-ba26-42cd-b544-c90a66191a81\\\"]}]},\\\"Users\\\":{\\\"Include\\\":[{\\\"Users\\\":[\\\"All\\\"]}]}},\\\"SessionControls\\\":[\\\"CloudAppSecurity\\\"],\\\"PersistentBrowserSessionMode\\\":\\\"NotSet\\\",\\\"EnforceAllPoliciesForEas\\\":false,\\\"IncludeOtherLegacyClientTypeForEvaluation\\\":false,\\\"CasSessionControlType\\\":1}', 'PolicyLastUpdatedTime': '7/29/2020 5:15:40 AM', 'TenantDefaultPolicy': '', 'DisplayName': 'On-Prem SharePoint - MeganB proxy', 'PolicyIdentifierString': ''})\",\"Cmd(name='Set-ConditionalAccessPolicy', params={'Identity': 'seccxpninja.onmicrosoft.com\\\\\\\\6490d00c-7ba1-42cf-aa88-99eb71d53bf7', 'PolicyDetails': '{\\\"Version\\\":0,\\\"LastUpdatedTimestamp\\\":\\\"2020-07-02T12:42:35.1866847Z\\\",\\\"State\\\":\\\"Disabled\\\",\\\"SignInFrequency\\\":\\\"NotSet\\\",\\\"PersistentBrowserSessionMode\\\":\\\"NotSet\\\"}', 'PolicyLastUpdatedTime': '7/29/2020 5:15:40 AM', 'TenantDefaultPolicy': '18', 'DisplayName': 'Default Policy', 'PolicyIdentifierString': '5/19/2020 1:39:05 PM'})\"],[\"Cmd(name='Set-ConditionalAccessPolicy', params={'Identity': 'seccxpninja.onmicrosoft.com\\\\\\\\b2915792-0396-4abe-94ec-e17fa17243c5', 'PolicyDetails': '{\\\"Version\\\":0,\\\"State\\\":\\\"Enabled\\\",\\\"Conditions\\\":{\\\"Applications\\\":{\\\"Include\\\":[{\\\"Applications\\\":[\\\"94c63fef-13a3-47bc-8074-75af8c65887a\\\",\\\"c9a559d2-7aab-4f13-a6ed-e7e9c52aec87\\\"]}]},\\\"Users\\\":{\\\"Include\\\":[{\\\"Users\\\":[\\\"bdb72692-2275-412b-8af0-ea21c2ebd174\\\",\\\"eababd92-9dc7-40e3-9359-6c106522db19\\\"]}]},\\\"SignInRisks\\\":{\\\"Include\\\":[{\\\"SignInRisks\\\":[\\\"High\\\",\\\"Medium\\\",\\\"Low\\\"]}]}},\\\"SessionControls\\\":[\\\"CloudAppSecurity\\\"],\\\"PersistentBrowserSessionMode\\\":\\\"NotSet\\\",\\\"EnforceAllPoliciesForEas\\\":false,\\\"IncludeOtherLegacyClientTypeForEvaluation\\\":false,\\\"CasSessionControlType\\\":3}', 'PolicyLastUpdatedTime': '7/30/2020 2:16:46 AM', 'TenantDefaultPolicy': '', 'DisplayName': 'GBB demo', 'PolicyIdentifierString': ''})\",\"Cmd(name='Set-ConditionalAccessPolicy', params={'Identity': 'seccxpninja.onmicrosoft.com\\\\\\\\b2915792-0396-4abe-94ec-e17fa17243c5', 'PolicyDetails': '{\\\"Version\\\":0,\\\"State\\\":\\\"Enabled\\\",\\\"Conditions\\\":{\\\"Applications\\\":{\\\"Include\\\":[{\\\"Applications\\\":[\\\"94c63fef-13a3-47bc-8074-75af8c65887a\\\",\\\"c9a559d2-7aab-4f13-a6ed-e7e9c52aec87\\\"]}]},\\\"Users\\\":{\\\"Include\\\":[{\\\"Users\\\":[\\\"bdb72692-2275-412b-8af0-ea21c2ebd174\\\",\\\"eababd92-9dc7-40e3-9359-6c106522db19\\\"]}]},\\\"SignInRisks\\\":{\\\"Include\\\":[{\\\"SignInRisks\\\":[\\\"High\\\",\\\"Medium\\\",\\\"Low\\\"]}]}},\\\"SessionControls\\\":[\\\"CloudAppSecurity\\\"],\\\"PersistentBrowserSessionMode\\\":\\\"NotSet\\\",\\\"EnforceAllPoliciesForEas\\\":false,\\\"IncludeOtherLegacyClientTypeForEvaluation\\\":false,\\\"CasSessionControlType\\\":3}', 'PolicyLastUpdatedTime': '7/30/2020 2:16:46 AM', 'TenantDefaultPolicy': '', 'DisplayName': 'GBB demo', 'PolicyIdentifierString': ''})\"],[\"Cmd(name='Set-ConditionalAccessPolicy', params={'Identity': 'seccxpninja.onmicrosoft.com\\\\\\\\e183bd29-a3a3-4f91-a5a3-b83b21a544df', 'PolicyDetails': '{\\\"Version\\\":0,\\\"State\\\":\\\"Enabled\\\",\\\"Conditions\\\":{\\\"Applications\\\":{\\\"Include\\\":[{\\\"Applications\\\":[\\\"00000002-0000-0ff1-ce00-000000000000\\\"]}]},\\\"Users\\\":{\\\"Include\\\":[{\\\"Users\\\":[\\\"2935e535-8fdf-4217-865b-e084cb7214f1\\\"]}]}},\\\"SessionControls\\\":[\\\"AppEnforcedRestrictions\\\"],\\\"PersistentBrowserSessionMode\\\":\\\"NotSet\\\",\\\"EnforceAllPoliciesForEas\\\":false,\\\"IncludeOtherLegacyClientTypeForEvaluation\\\":false}', 'PolicyLastUpdatedTime': '7/30/2020 5:13:58 AM', 'TenantDefaultPolicy': '', 'DisplayName': 'JulianI Exchange native controls', 'PolicyIdentifierString': ''})\",\"Cmd(name='Set-ConditionalAccessPolicy', params={'Identity': 'seccxpninja.onmicrosoft.com\\\\\\\\5fd0c4ff-1cd7-4bf6-8607-294a04f58f12', 'PolicyDetails': '{\\\"Version\\\":0,\\\"State\\\":\\\"Disabled\\\",\\\"Conditions\\\":{\\\"Applications\\\":{\\\"Include\\\":[{\\\"Applications\\\":[\\\"All\\\"]}]},\\\"Users\\\":{\\\"Include\\\":[{\\\"Users\\\":[\\\"142512c7-f006-46ae-909c-14fa7bf6a887\\\"]}]}},\\\"Controls\\\":[{\\\"Control\\\":[\\\"Mfa\\\"]}],\\\"EnforceAllPoliciesForEas\\\":false,\\\"IncludeOtherLegacyClientTypeForEvaluation\\\":false}', 'PolicyLastUpdatedTime': '7/30/2020 5:13:58 AM', 'TenantDefaultPolicy': '', 'DisplayName': 'Azure MFA', 'PolicyIdentifierString': ''})\"],[\"Cmd(name='Set-ConditionalAccessPolicy', params={'Identity': 'seccxpninja.onmicrosoft.com\\\\\\\\8872f6fb-da88-4b63-bcc7-17247669596b', 'PolicyDetails': '{\\\"Version\\\":0,\\\"State\\\":\\\"Enabled\\\",\\\"Conditions\\\":{\\\"Applications\\\":{\\\"Include\\\":[{\\\"Applications\\\":[\\\"00000002-0000-0ff1-ce00-000000000000\\\",\\\"09abbdfd-ed23-44ee-a2d9-a627aa1c90f3\\\",\\\"cc15fd57-2c6c-4117-a88c-83b1d56b4bbe\\\",\\\"00000003-0000-0ff1-ce00-000000000000\\\",\\\"00000005-0000-0ff1-ce00-000000000000\\\"]}]},\\\"Users\\\":{\\\"Include\\\":[{\\\"Users\\\":[\\\"eababd92-9dc7-40e3-9359-6c106522db19\\\"]}]}},\\\"SessionControls\\\":[\\\"CloudAppSecurity\\\"],\\\"PersistentBrowserSessionMode\\\":\\\"NotSet\\\",\\\"EnforceAllPoliciesForEas\\\":false,\\\"IncludeOtherLegacyClientTypeForEvaluation\\\":false,\\\"CasSessionControlType\\\":1}', 'PolicyLastUpdatedTime': '7/31/2020 2:40:02 AM', 'TenantDefaultPolicy': '', 'DisplayName': 'MeganB MCAS Proxy', 'PolicyIdentifierString': ''})\",\"Cmd(name='Set-ConditionalAccessPolicy', params={'Identity': 'seccxpninja.onmicrosoft.com\\\\\\\\8872f6fb-da88-4b63-bcc7-17247669596b', 'PolicyDetails': '{\\\"Version\\\":0,\\\"State\\\":\\\"Enabled\\\",\\\"Conditions\\\":{\\\"Applications\\\":{\\\"Include\\\":[{\\\"Applications\\\":[\\\"00000002-0000-0ff1-ce00-000000000000\\\",\\\"09abbdfd-ed23-44ee-a2d9-a627aa1c90f3\\\",\\\"cc15fd57-2c6c-4117-a88c-83b1d56b4bbe\\\",\\\"00000003-0000-0ff1-ce00-000000000000\\\",\\\"00000005-0000-0ff1-ce00-000000000000\\\"]}]},\\\"Users\\\":{\\\"Include\\\":[{\\\"Users\\\":[\\\"eababd92-9dc7-40e3-9359-6c106522db19\\\"]}]}},\\\"SessionControls\\\":[\\\"CloudAppSecurity\\\"],\\\"PersistentBrowserSessionMode\\\":\\\"NotSet\\\",\\\"EnforceAllPoliciesForEas\\\":false,\\\"IncludeOtherLegacyClientTypeForEvaluation\\\":false,\\\"CasSessionControlType\\\":1}', 'PolicyLastUpdatedTime': '7/31/2020 2:40:02 AM', 'TenantDefaultPolicy': '', 'DisplayName': 'MeganB MCAS Proxy', 'PolicyIdentifierString': ''})\"],[\"Cmd(name='Set-ConditionalAccessPolicy', params={'Identity': 'seccxpninja.onmicrosoft.com\\\\\\\\bcd93f74-64fd-4042-a3ae-ee6d48886d6d', 'PolicyDetails': '{\\\"Version\\\":0,\\\"State\\\":\\\"Enabled\\\",\\\"Conditions\\\":{\\\"Applications\\\":{\\\"Include\\\":[{\\\"Applications\\\":[\\\"c9a559d2-7aab-4f13-a6ed-e7e9c52aec87\\\"]}]},\\\"Users\\\":{\\\"Include\\\":[{\\\"Users\\\":[\\\"bdb72692-2275-412b-8af0-ea21c2ebd174\\\",\\\"eababd92-9dc7-40e3-9359-6c106522db19\\\"]}]}},\\\"SessionControls\\\":[\\\"CloudAppSecurity\\\"],\\\"PersistentBrowserSessionMode\\\":\\\"NotSet\\\",\\\"EnforceAllPoliciesForEas\\\":false,\\\"IncludeOtherLegacyClientTypeForEvaluation\\\":false,\\\"CasSessionControlType\\\":3}', 'PolicyLastUpdatedTime': '7/31/2020 2:40:03 AM', 'TenantDefaultPolicy': '', 'DisplayName': 'Form MCAS', 'PolicyIdentifierString': ''})\",\"Cmd(name='Set-ConditionalAccessPolicy', params={'Identity': 'seccxpninja.onmicrosoft.com\\\\\\\\2e76d011-eaa3-40b4-8ce8-7fba52bf3af8', 'PolicyDetails': '{\\\"Version\\\":0,\\\"State\\\":\\\"Reporting\\\",\\\"Conditions\\\":{\\\"Applications\\\":{\\\"Include\\\":[{\\\"Applications\\\":[\\\"f9e8b3d0-ba26-42cd-b544-c90a66191a81\\\"]}]},\\\"Users\\\":{\\\"Include\\\":[{\\\"Users\\\":[\\\"All\\\"]}]}},\\\"SessionControls\\\":[\\\"CloudAppSecurity\\\"],\\\"PersistentBrowserSessionMode\\\":\\\"NotSet\\\",\\\"EnforceAllPoliciesForEas\\\":false,\\\"IncludeOtherLegacyClientTypeForEvaluation\\\":false,\\\"CasSessionControlType\\\":1}', 'PolicyLastUpdatedTime': '7/31/2020 2:40:04 AM', 'TenantDefaultPolicy': '', 'DisplayName': 'On-Prem SharePoint - MeganB proxy', 'PolicyIdentifierString': ''})\"],[\"Cmd(name='Set-ConditionalAccessPolicy', params={'Identity': 'seccxpninja.onmicrosoft.com\\\\\\\\83a057fb-dbca-4ba8-bb5f-0ce6d6e7cff5', 'PolicyDetails': '{\\\"Version\\\":0,\\\"State\\\":\\\"Enabled\\\",\\\"Conditions\\\":{\\\"Applications\\\":{\\\"Include\\\":[{\\\"Acrs\\\":[\\\"urn:microsoft:req1\\\"]}]},\\\"Users\\\":{\\\"Include\\\":[{\\\"Users\\\":[\\\"eababd92-9dc7-40e3-9359-6c106522db19\\\"]}]}},\\\"Controls\\\":[{\\\"Control\\\":[\\\"Mfa\\\"]}],\\\"PersistentBrowserSessionMode\\\":\\\"NotSet\\\",\\\"EnforceAllPoliciesForEas\\\":false,\\\"IncludeOtherLegacyClientTypeForEvaluation\\\":false}', 'PolicyLastUpdatedTime': '7/31/2020 4:58:18 AM', 'TenantDefaultPolicy': '', 'DisplayName': 'MeganB MCAS Step-up', 'PolicyIdentifierString': ''})\",\"Cmd(name='Set-ConditionalAccessPolicy', params={'Identity': 'seccxpninja.onmicrosoft.com\\\\\\\\8872f6fb-da88-4b63-bcc7-17247669596b', 'PolicyDetails': '{\\\"Version\\\":0,\\\"State\\\":\\\"Enabled\\\",\\\"Conditions\\\":{\\\"Applications\\\":{\\\"Include\\\":[{\\\"Applications\\\":[\\\"00000002-0000-0ff1-ce00-000000000000\\\",\\\"09abbdfd-ed23-44ee-a2d9-a627aa1c90f3\\\",\\\"cc15fd57-2c6c-4117-a88c-83b1d56b4bbe\\\",\\\"00000003-0000-0ff1-ce00-000000000000\\\",\\\"00000005-0000-0ff1-ce00-000000000000\\\"]}]},\\\"Users\\\":{\\\"Include\\\":[{\\\"Users\\\":[\\\"eababd92-9dc7-40e3-9359-6c106522db19\\\"]}]}},\\\"SessionControls\\\":[\\\"CloudAppSecurity\\\"],\\\"PersistentBrowserSessionMode\\\":\\\"NotSet\\\",\\\"EnforceAllPoliciesForEas\\\":false,\\\"IncludeOtherLegacyClientTypeForEvaluation\\\":false,\\\"CasSessionControlType\\\":1}', 'PolicyLastUpdatedTime': '7/31/2020 4:58:17 AM', 'TenantDefaultPolicy': '', 'DisplayName': 'MeganB MCAS Proxy', 'PolicyIdentifierString': ''})\"],[\"Cmd(name='Set-ConditionalAccessPolicy', params={'Identity': 'seccxpninja.onmicrosoft.com\\\\\\\\bcd93f74-64fd-4042-a3ae-ee6d48886d6d', 'PolicyDetails': '{\\\"Version\\\":0,\\\"State\\\":\\\"Enabled\\\",\\\"Conditions\\\":{\\\"Applications\\\":{\\\"Include\\\":[{\\\"Applications\\\":[\\\"c9a559d2-7aab-4f13-a6ed-e7e9c52aec87\\\"]}]},\\\"Users\\\":{\\\"Include\\\":[{\\\"Users\\\":[\\\"bdb72692-2275-412b-8af0-ea21c2ebd174\\\",\\\"eababd92-9dc7-40e3-9359-6c106522db19\\\"]}]}},\\\"SessionControls\\\":[\\\"CloudAppSecurity\\\"],\\\"PersistentBrowserSessionMode\\\":\\\"NotSet\\\",\\\"EnforceAllPoliciesForEas\\\":false,\\\"IncludeOtherLegacyClientTypeForEvaluation\\\":false,\\\"CasSessionControlType\\\":3}', 'PolicyLastUpdatedTime': '8/1/2020 2:29:49 AM', 'TenantDefaultPolicy': '', 'DisplayName': 'Form MCAS', 'PolicyIdentifierString': ''})\",\"Cmd(name='Set-ConditionalAccessPolicy', params={'Identity': 'seccxpninja.onmicrosoft.com\\\\\\\\bcd93f74-64fd-4042-a3ae-ee6d48886d6d', 'PolicyDetails': '{\\\"Version\\\":0,\\\"State\\\":\\\"Enabled\\\",\\\"Conditions\\\":{\\\"Applications\\\":{\\\"Include\\\":[{\\\"Applications\\\":[\\\"c9a559d2-7aab-4f13-a6ed-e7e9c52aec87\\\"]}]},\\\"Users\\\":{\\\"Include\\\":[{\\\"Users\\\":[\\\"bdb72692-2275-412b-8af0-ea21c2ebd174\\\",\\\"eababd92-9dc7-40e3-9359-6c106522db19\\\"]}]}},\\\"SessionControls\\\":[\\\"CloudAppSecurity\\\"],\\\"PersistentBrowserSessionMode\\\":\\\"NotSet\\\",\\\"EnforceAllPoliciesForEas\\\":false,\\\"IncludeOtherLegacyClientTypeForEvaluation\\\":false,\\\"CasSessionControlType\\\":3}', 'PolicyLastUpdatedTime': '8/1/2020 2:29:49 AM', 'TenantDefaultPolicy': '', 'DisplayName': 'Form MCAS', 'PolicyIdentifierString': ''})\"],[\"Cmd(name='Set-ConditionalAccessPolicy', params={'Identity': 'seccxpninja.onmicrosoft.com\\\\\\\\8872f6fb-da88-4b63-bcc7-17247669596b', 'PolicyDetails': '{\\\"Version\\\":0,\\\"State\\\":\\\"Enabled\\\",\\\"Conditions\\\":{\\\"Applications\\\":{\\\"Include\\\":[{\\\"Applications\\\":[\\\"00000002-0000-0ff1-ce00-000000000000\\\",\\\"09abbdfd-ed23-44ee-a2d9-a627aa1c90f3\\\",\\\"cc15fd57-2c6c-4117-a88c-83b1d56b4bbe\\\",\\\"00000003-0000-0ff1-ce00-000000000000\\\",\\\"00000005-0000-0ff1-ce00-000000000000\\\"]}]},\\\"Users\\\":{\\\"Include\\\":[{\\\"Users\\\":[\\\"eababd92-9dc7-40e3-9359-6c106522db19\\\"]}]}},\\\"SessionControls\\\":[\\\"CloudAppSecurity\\\"],\\\"PersistentBrowserSessionMode\\\":\\\"NotSet\\\",\\\"EnforceAllPoliciesForEas\\\":false,\\\"IncludeOtherLegacyClientTypeForEvaluation\\\":false,\\\"CasSessionControlType\\\":1}', 'PolicyLastUpdatedTime': '8/1/2020 5:29:05 AM', 'TenantDefaultPolicy': '', 'DisplayName': 'MeganB MCAS Proxy', 'PolicyIdentifierString': ''})\",\"Cmd(name='Set-ConditionalAccessPolicy', params={'Identity': 'seccxpninja.onmicrosoft.com\\\\\\\\8872f6fb-da88-4b63-bcc7-17247669596b', 'PolicyDetails': '{\\\"Version\\\":0,\\\"State\\\":\\\"Enabled\\\",\\\"Conditions\\\":{\\\"Applications\\\":{\\\"Include\\\":[{\\\"Applications\\\":[\\\"00000002-0000-0ff1-ce00-000000000000\\\",\\\"09abbdfd-ed23-44ee-a2d9-a627aa1c90f3\\\",\\\"cc15fd57-2c6c-4117-a88c-83b1d56b4bbe\\\",\\\"00000003-0000-0ff1-ce00-000000000000\\\",\\\"00000005-0000-0ff1-ce00-000000000000\\\"]}]},\\\"Users\\\":{\\\"Include\\\":[{\\\"Users\\\":[\\\"eababd92-9dc7-40e3-9359-6c106522db19\\\"]}]}},\\\"SessionControls\\\":[\\\"CloudAppSecurity\\\"],\\\"PersistentBrowserSessionMode\\\":\\\"NotSet\\\",\\\"EnforceAllPoliciesForEas\\\":false,\\\"IncludeOtherLegacyClientTypeForEvaluation\\\":false,\\\"CasSessionControlType\\\":1}', 'PolicyLastUpdatedTime': '8/1/2020 5:29:05 AM', 'TenantDefaultPolicy': '', 'DisplayName': 'MeganB MCAS Proxy', 'PolicyIdentifierString': ''})\"],[\"Cmd(name='Set-ConditionalAccessPolicy', params={'Identity': 'seccxpninja.onmicrosoft.com\\\\\\\\69c7a12f-b407-45a3-b07e-fa04fc7f273d', 'PolicyDetails': '{\\\"Version\\\":0,\\\"State\\\":\\\"Enabled\\\",\\\"Conditions\\\":{\\\"Applications\\\":{\\\"Include\\\":[{\\\"Applications\\\":[\\\"00000003-0000-0ff1-ce00-000000000000\\\"]}]},\\\"Users\\\":{\\\"Include\\\":[{\\\"Users\\\":[\\\"All\\\"]}]}},\\\"SessionControls\\\":[\\\"CloudAppSecurity\\\"],\\\"PersistentBrowserSessionMode\\\":\\\"NotSet\\\",\\\"EnforceAllPoliciesForEas\\\":false,\\\"IncludeOtherLegacyClientTypeForEvaluation\\\":false,\\\"CasSessionControlType\\\":1}', 'PolicyLastUpdatedTime': '8/1/2020 5:29:08 AM', 'TenantDefaultPolicy': '', 'DisplayName': 'Test Policy', 'PolicyIdentifierString': ''})\",\"Cmd(name='Set-ConditionalAccessPolicy', params={'Identity': 'seccxpninja.onmicrosoft.com\\\\\\\\8837fdaa-aaeb-4432-9622-43f6f583d583', 'PolicyDetails': '{\\\"KnownNetworkPolicies\\\":{\\\"NetworkName\\\":\\\"BE-Office\\\",\\\"NetworkId\\\":\\\"b98b9088-ce88-4fae-80fb-5b58cb1ce685\\\",\\\"CidrIpRanges\\\":[\\\"109.88.218.99/28\\\"],\\\"CountryIsoCodes\\\":null,\\\"Categories\\\":[],\\\"ApplyToUnknownCountry\\\":false}}', 'PolicyLastUpdatedTime': '8/1/2020 5:29:08 AM', 'TenantDefaultPolicy': '6', 'DisplayName': 'Known Networks List', 'PolicyIdentifierString': '3/19/2020 7:45:08 PM'})\"],[\"Cmd(name='Set-ConditionalAccessPolicy', params={'Identity': 'seccxpninja.onmicrosoft.com\\\\\\\\b2915792-0396-4abe-94ec-e17fa17243c5', 'PolicyDetails': '{\\\"Version\\\":0,\\\"State\\\":\\\"Enabled\\\",\\\"Conditions\\\":{\\\"Applications\\\":{\\\"Include\\\":[{\\\"Applications\\\":[\\\"94c63fef-13a3-47bc-8074-75af8c65887a\\\",\\\"c9a559d2-7aab-4f13-a6ed-e7e9c52aec87\\\"]}]},\\\"Users\\\":{\\\"Include\\\":[{\\\"Users\\\":[\\\"bdb72692-2275-412b-8af0-ea21c2ebd174\\\",\\\"eababd92-9dc7-40e3-9359-6c106522db19\\\"]}]},\\\"SignInRisks\\\":{\\\"Include\\\":[{\\\"SignInRisks\\\":[\\\"High\\\",\\\"Medium\\\",\\\"Low\\\"]}]}},\\\"SessionControls\\\":[\\\"CloudAppSecurity\\\"],\\\"PersistentBrowserSessionMode\\\":\\\"NotSet\\\",\\\"EnforceAllPoliciesForEas\\\":false,\\\"IncludeOtherLegacyClientTypeForEvaluation\\\":false,\\\"CasSessionControlType\\\":3}', 'PolicyLastUpdatedTime': '8/2/2020 2:12:56 AM', 'TenantDefaultPolicy': '', 'DisplayName': 'GBB demo', 'PolicyIdentifierString': ''})\",\"Cmd(name='Set-ConditionalAccessPolicy', params={'Identity': 'seccxpninja.onmicrosoft.com\\\\\\\\5fd0c4ff-1cd7-4bf6-8607-294a04f58f12', 'PolicyDetails': '{\\\"Version\\\":0,\\\"State\\\":\\\"Disabled\\\",\\\"Conditions\\\":{\\\"Applications\\\":{\\\"Include\\\":[{\\\"Applications\\\":[\\\"All\\\"]}]},\\\"Users\\\":{\\\"Include\\\":[{\\\"Users\\\":[\\\"142512c7-f006-46ae-909c-14fa7bf6a887\\\"]}]}},\\\"Controls\\\":[{\\\"Control\\\":[\\\"Mfa\\\"]}],\\\"EnforceAllPoliciesForEas\\\":false,\\\"IncludeOtherLegacyClientTypeForEvaluation\\\":false}', 'PolicyLastUpdatedTime': '8/2/2020 2:12:56 AM', 'TenantDefaultPolicy': '', 'DisplayName': 'Azure MFA', 'PolicyIdentifierString': ''})\"],[\"Cmd(name='Set-ConditionalAccessPolicy', params={'Identity': 'seccxpninja.onmicrosoft.com\\\\\\\\8872f6fb-da88-4b63-bcc7-17247669596b', 'PolicyDetails': '{\\\"Version\\\":0,\\\"State\\\":\\\"Enabled\\\",\\\"Conditions\\\":{\\\"Applications\\\":{\\\"Include\\\":[{\\\"Applications\\\":[\\\"00000002-0000-0ff1-ce00-000000000000\\\",\\\"09abbdfd-ed23-44ee-a2d9-a627aa1c90f3\\\",\\\"cc15fd57-2c6c-4117-a88c-83b1d56b4bbe\\\",\\\"00000003-0000-0ff1-ce00-000000000000\\\",\\\"00000005-0000-0ff1-ce00-000000000000\\\"]}]},\\\"Users\\\":{\\\"Include\\\":[{\\\"Users\\\":[\\\"eababd92-9dc7-40e3-9359-6c106522db19\\\"]}]}},\\\"SessionControls\\\":[\\\"CloudAppSecurity\\\"],\\\"PersistentBrowserSessionMode\\\":\\\"NotSet\\\",\\\"EnforceAllPoliciesForEas\\\":false,\\\"IncludeOtherLegacyClientTypeForEvaluation\\\":false,\\\"CasSessionControlType\\\":1}', 'PolicyLastUpdatedTime': '8/2/2020 5:26:58 AM', 'TenantDefaultPolicy': '', 'DisplayName': 'MeganB MCAS Proxy', 'PolicyIdentifierString': ''})\",\"Cmd(name='Set-ConditionalAccessPolicy', params={'Identity': 'seccxpninja.onmicrosoft.com\\\\\\\\b2915792-0396-4abe-94ec-e17fa17243c5', 'PolicyDetails': '{\\\"Version\\\":0,\\\"State\\\":\\\"Enabled\\\",\\\"Conditions\\\":{\\\"Applications\\\":{\\\"Include\\\":[{\\\"Applications\\\":[\\\"94c63fef-13a3-47bc-8074-75af8c65887a\\\",\\\"c9a559d2-7aab-4f13-a6ed-e7e9c52aec87\\\"]}]},\\\"Users\\\":{\\\"Include\\\":[{\\\"Users\\\":[\\\"bdb72692-2275-412b-8af0-ea21c2ebd174\\\",\\\"eababd92-9dc7-40e3-9359-6c106522db19\\\"]}]},\\\"SignInRisks\\\":{\\\"Include\\\":[{\\\"SignInRisks\\\":[\\\"High\\\",\\\"Medium\\\",\\\"Low\\\"]}]}},\\\"SessionControls\\\":[\\\"CloudAppSecurity\\\"],\\\"PersistentBrowserSessionMode\\\":\\\"NotSet\\\",\\\"EnforceAllPoliciesForEas\\\":false,\\\"IncludeOtherLegacyClientTypeForEvaluation\\\":false,\\\"CasSessionControlType\\\":3}', 'PolicyLastUpdatedTime': '8/2/2020 5:27:00 AM', 'TenantDefaultPolicy': '', 'DisplayName': 'GBB demo', 'PolicyIdentifierString': ''})\"],[\"Cmd(name='Set-ConditionalAccessPolicy', params={'Identity': 'seccxpninja.onmicrosoft.com\\\\\\\\8872f6fb-da88-4b63-bcc7-17247669596b', 'PolicyDetails': '{\\\"Version\\\":0,\\\"State\\\":\\\"Enabled\\\",\\\"Conditions\\\":{\\\"Applications\\\":{\\\"Include\\\":[{\\\"Applications\\\":[\\\"00000002-0000-0ff1-ce00-000000000000\\\",\\\"09abbdfd-ed23-44ee-a2d9-a627aa1c90f3\\\",\\\"cc15fd57-2c6c-4117-a88c-83b1d56b4bbe\\\",\\\"00000003-0000-0ff1-ce00-000000000000\\\",\\\"00000005-0000-0ff1-ce00-000000000000\\\"]}]},\\\"Users\\\":{\\\"Include\\\":[{\\\"Users\\\":[\\\"eababd92-9dc7-40e3-9359-6c106522db19\\\"]}]}},\\\"SessionControls\\\":[\\\"CloudAppSecurity\\\"],\\\"PersistentBrowserSessionMode\\\":\\\"NotSet\\\",\\\"EnforceAllPoliciesForEas\\\":false,\\\"IncludeOtherLegacyClientTypeForEvaluation\\\":false,\\\"CasSessionControlType\\\":1}', 'PolicyLastUpdatedTime': '8/3/2020 2:09:01 AM', 'TenantDefaultPolicy': '', 'DisplayName': 'MeganB MCAS Proxy', 'PolicyIdentifierString': ''})\",\"Cmd(name='Set-ConditionalAccessPolicy', params={'Identity': 'seccxpninja.onmicrosoft.com\\\\\\\\8872f6fb-da88-4b63-bcc7-17247669596b', 'PolicyDetails': '{\\\"Version\\\":0,\\\"State\\\":\\\"Enabled\\\",\\\"Conditions\\\":{\\\"Applications\\\":{\\\"Include\\\":[{\\\"Applications\\\":[\\\"00000002-0000-0ff1-ce00-000000000000\\\",\\\"09abbdfd-ed23-44ee-a2d9-a627aa1c90f3\\\",\\\"cc15fd57-2c6c-4117-a88c-83b1d56b4bbe\\\",\\\"00000003-0000-0ff1-ce00-000000000000\\\",\\\"00000005-0000-0ff1-ce00-000000000000\\\"]}]},\\\"Users\\\":{\\\"Include\\\":[{\\\"Users\\\":[\\\"eababd92-9dc7-40e3-9359-6c106522db19\\\"]}]}},\\\"SessionControls\\\":[\\\"CloudAppSecurity\\\"],\\\"PersistentBrowserSessionMode\\\":\\\"NotSet\\\",\\\"EnforceAllPoliciesForEas\\\":false,\\\"IncludeOtherLegacyClientTypeForEvaluation\\\":false,\\\"CasSessionControlType\\\":1}', 'PolicyLastUpdatedTime': '8/3/2020 2:09:01 AM', 'TenantDefaultPolicy': '', 'DisplayName': 'MeganB MCAS Proxy', 'PolicyIdentifierString': ''})\"],[\"Cmd(name='Set-ConditionalAccessPolicy', params={'Identity': 'seccxpninja.onmicrosoft.com\\\\\\\\235bec94-f744-48ac-8314-5675953d2def', 'PolicyDetails': '{\\\"Version\\\":0,\\\"State\\\":\\\"Disabled\\\",\\\"Conditions\\\":{\\\"Applications\\\":{\\\"Include\\\":[{\\\"Applications\\\":[\\\"All\\\"]}]},\\\"Users\\\":{\\\"Include\\\":[{\\\"Users\\\":[\\\"eababd92-9dc7-40e3-9359-6c106522db19\\\"]}]},\\\"DevicePlatforms\\\":{\\\"Include\\\":[{\\\"DevicePlatforms\\\":[\\\"All\\\"]}],\\\"Exclude\\\":[{\\\"DevicePlatforms\\\":[\\\"macOS\\\"]}]}},\\\"Controls\\\":[{\\\"Control\\\":[\\\"Mfa\\\"]}],\\\"PersistentBrowserSessionMode\\\":\\\"NotSet\\\",\\\"EnforceAllPoliciesForEas\\\":false,\\\"IncludeOtherLegacyClientTypeForEvaluation\\\":false}', 'PolicyLastUpdatedTime': '8/3/2020 2:09:02 AM', 'TenantDefaultPolicy': '', 'DisplayName': 'Megan MFA demo', 'PolicyIdentifierString': ''})\",\"Cmd(name='Set-ConditionalAccessPolicy', params={'Identity': 'seccxpninja.onmicrosoft.com\\\\\\\\4c5a5ea0-5d9f-4730-baaa-7a69cf29ef26', 'PolicyDetails': '{\\\"Version\\\":0,\\\"State\\\":\\\"Enabled\\\",\\\"Conditions\\\":{\\\"Applications\\\":{\\\"Include\\\":[{\\\"Applications\\\":[\\\"All\\\"]}]},\\\"Users\\\":{\\\"Include\\\":[{\\\"Users\\\":[\\\"bdb72692-2275-412b-8af0-ea21c2ebd174\\\"]}]}},\\\"Controls\\\":[{\\\"Control\\\":[\\\"Mfa\\\"]}],\\\"PersistentBrowserSessionMode\\\":\\\"NotSet\\\",\\\"EnforceAllPoliciesForEas\\\":false,\\\"IncludeOtherLegacyClientTypeForEvaluation\\\":false}', 'PolicyLastUpdatedTime': '8/3/2020 2:09:04 AM', 'TenantDefaultPolicy': '', 'DisplayName': 'Semolen - Admin MFA', 'PolicyIdentifierString': ''})\"],[\"Cmd(name='Set-ConditionalAccessPolicy', params={'Identity': 'seccxpninja.onmicrosoft.com\\\\\\\\8837fdaa-aaeb-4432-9622-43f6f583d583', 'PolicyDetails': '{\\\"KnownNetworkPolicies\\\":{\\\"NetworkName\\\":\\\"BE-Office\\\",\\\"NetworkId\\\":\\\"b98b9088-ce88-4fae-80fb-5b58cb1ce685\\\",\\\"CidrIpRanges\\\":[\\\"109.88.218.99/28\\\"],\\\"CountryIsoCodes\\\":null,\\\"Categories\\\":[],\\\"ApplyToUnknownCountry\\\":false}}', 'PolicyLastUpdatedTime': '8/3/2020 5:18:08 AM', 'TenantDefaultPolicy': '6', 'DisplayName': 'Known Networks List', 'PolicyIdentifierString': '3/19/2020 7:45:08 PM'})\",\"Cmd(name='Set-ConditionalAccessPolicy', params={'Identity': 'seccxpninja.onmicrosoft.com\\\\\\\\e183bd29-a3a3-4f91-a5a3-b83b21a544df', 'PolicyDetails': '{\\\"Version\\\":0,\\\"State\\\":\\\"Enabled\\\",\\\"Conditions\\\":{\\\"Applications\\\":{\\\"Include\\\":[{\\\"Applications\\\":[\\\"00000002-0000-0ff1-ce00-000000000000\\\"]}]},\\\"Users\\\":{\\\"Include\\\":[{\\\"Users\\\":[\\\"2935e535-8fdf-4217-865b-e084cb7214f1\\\"]}]}},\\\"SessionControls\\\":[\\\"AppEnforcedRestrictions\\\"],\\\"PersistentBrowserSessionMode\\\":\\\"NotSet\\\",\\\"EnforceAllPoliciesForEas\\\":false,\\\"IncludeOtherLegacyClientTypeForEvaluation\\\":false}', 'PolicyLastUpdatedTime': '8/3/2020 5:18:07 AM', 'TenantDefaultPolicy': '', 'DisplayName': 'JulianI Exchange native controls', 'PolicyIdentifierString': ''})\"],[\"Cmd(name='Set-ConditionalAccessPolicy', params={'Identity': 'seccxpninja.onmicrosoft.com\\\\\\\\8837fdaa-aaeb-4432-9622-43f6f583d583', 'PolicyDetails': '{\\\"KnownNetworkPolicies\\\":{\\\"NetworkName\\\":\\\"BE-Office\\\",\\\"NetworkId\\\":\\\"b98b9088-ce88-4fae-80fb-5b58cb1ce685\\\",\\\"CidrIpRanges\\\":[\\\"109.88.218.99/28\\\"],\\\"CountryIsoCodes\\\":null,\\\"Categories\\\":[],\\\"ApplyToUnknownCountry\\\":false}}', 'PolicyLastUpdatedTime': '8/4/2020 1:49:57 AM', 'TenantDefaultPolicy': '6', 'DisplayName': 'Known Networks List', 'PolicyIdentifierString': '3/19/2020 7:45:08 PM'})\",\"Cmd(name='Set-ConditionalAccessPolicy', params={'Identity': 'seccxpninja.onmicrosoft.com\\\\\\\\8872f6fb-da88-4b63-bcc7-17247669596b', 'PolicyDetails': '{\\\"Version\\\":0,\\\"State\\\":\\\"Enabled\\\",\\\"Conditions\\\":{\\\"Applications\\\":{\\\"Include\\\":[{\\\"Applications\\\":[\\\"00000002-0000-0ff1-ce00-000000000000\\\",\\\"09abbdfd-ed23-44ee-a2d9-a627aa1c90f3\\\",\\\"cc15fd57-2c6c-4117-a88c-83b1d56b4bbe\\\",\\\"00000003-0000-0ff1-ce00-000000000000\\\",\\\"00000005-0000-0ff1-ce00-000000000000\\\"]}]},\\\"Users\\\":{\\\"Include\\\":[{\\\"Users\\\":[\\\"eababd92-9dc7-40e3-9359-6c106522db19\\\"]}]}},\\\"SessionControls\\\":[\\\"CloudAppSecurity\\\"],\\\"PersistentBrowserSessionMode\\\":\\\"NotSet\\\",\\\"EnforceAllPoliciesForEas\\\":false,\\\"IncludeOtherLegacyClientTypeForEvaluation\\\":false,\\\"CasSessionControlType\\\":1}', 'PolicyLastUpdatedTime': '8/4/2020 1:49:52 AM', 'TenantDefaultPolicy': '', 'DisplayName': 'MeganB MCAS Proxy', 'PolicyIdentifierString': ''})\"],[\"Cmd(name='Set-ConditionalAccessPolicy', params={'Identity': 'seccxpninja.onmicrosoft.com\\\\\\\\235bec94-f744-48ac-8314-5675953d2def', 'PolicyDetails': '{\\\"Version\\\":0,\\\"State\\\":\\\"Disabled\\\",\\\"Conditions\\\":{\\\"Applications\\\":{\\\"Include\\\":[{\\\"Applications\\\":[\\\"All\\\"]}]},\\\"Users\\\":{\\\"Include\\\":[{\\\"Users\\\":[\\\"eababd92-9dc7-40e3-9359-6c106522db19\\\"]}]},\\\"DevicePlatforms\\\":{\\\"Include\\\":[{\\\"DevicePlatforms\\\":[\\\"All\\\"]}],\\\"Exclude\\\":[{\\\"DevicePlatforms\\\":[\\\"macOS\\\"]}]}},\\\"Controls\\\":[{\\\"Control\\\":[\\\"Mfa\\\"]}],\\\"PersistentBrowserSessionMode\\\":\\\"NotSet\\\",\\\"EnforceAllPoliciesForEas\\\":false,\\\"IncludeOtherLegacyClientTypeForEvaluation\\\":false}', 'PolicyLastUpdatedTime': '8/4/2020 5:28:36 AM', 'TenantDefaultPolicy': '', 'DisplayName': 'Megan MFA demo', 'PolicyIdentifierString': ''})\",\"Cmd(name='Set-ConditionalAccessPolicy', params={'Identity': 'seccxpninja.onmicrosoft.com\\\\\\\\6490d00c-7ba1-42cf-aa88-99eb71d53bf7', 'PolicyDetails': '{\\\"Version\\\":0,\\\"LastUpdatedTimestamp\\\":\\\"2020-07-02T12:42:35.1866847Z\\\",\\\"State\\\":\\\"Disabled\\\",\\\"SignInFrequency\\\":\\\"NotSet\\\",\\\"PersistentBrowserSessionMode\\\":\\\"NotSet\\\"}', 'PolicyLastUpdatedTime': '8/4/2020 5:28:36 AM', 'TenantDefaultPolicy': '18', 'DisplayName': 'Default Policy', 'PolicyIdentifierString': '5/19/2020 1:39:05 PM'})\"],[\"Cmd(name='Set-ConditionalAccessPolicy', params={'Identity': 'seccxpninja.onmicrosoft.com\\\\\\\\69c7a12f-b407-45a3-b07e-fa04fc7f273d', 'PolicyDetails': '{\\\"Version\\\":0,\\\"State\\\":\\\"Enabled\\\",\\\"Conditions\\\":{\\\"Applications\\\":{\\\"Include\\\":[{\\\"Applications\\\":[\\\"00000003-0000-0ff1-ce00-000000000000\\\"]}]},\\\"Users\\\":{\\\"Include\\\":[{\\\"Users\\\":[\\\"All\\\"]}]}},\\\"SessionControls\\\":[\\\"CloudAppSecurity\\\"],\\\"PersistentBrowserSessionMode\\\":\\\"NotSet\\\",\\\"EnforceAllPoliciesForEas\\\":false,\\\"IncludeOtherLegacyClientTypeForEvaluation\\\":false,\\\"CasSessionControlType\\\":1}', 'PolicyLastUpdatedTime': '8/5/2020 2:23:25 AM', 'TenantDefaultPolicy': '', 'DisplayName': 'Test Policy', 'PolicyIdentifierString': ''})\",\"Cmd(name='Set-ConditionalAccessPolicy', params={'Identity': 'seccxpninja.onmicrosoft.com\\\\\\\\3b13ea3c-c733-4eb8-bd19-67d308b2ea04', 'PolicyDetails': '{\\\"Version\\\":0,\\\"CreatedDateTime\\\":\\\"2020-05-19T13:34:15.2394934Z\\\",\\\"ModifiedDateTime\\\":\\\"2020-05-19T13:39:04.7333386Z\\\",\\\"State\\\":\\\"Reporting\\\",\\\"Conditions\\\":{\\\"Applications\\\":{\\\"Include\\\":[{\\\"Applications\\\":[\\\"None\\\"]}]},\\\"Users\\\":{\\\"Include\\\":[{\\\"Users\\\":[\\\"Guests\\\"]}]},\\\"DevicePlatforms\\\":{\\\"Include\\\":[{\\\"DevicePlatforms\\\":[\\\"All\\\"]}],\\\"Exclude\\\":[{\\\"DevicePlatforms\\\":[\\\"Android\\\",\\\"iOS\\\",\\\"macOS\\\"]}]},\\\"ClientTypes\\\":{\\\"Include\\\":[{\\\"ClientTypes\\\":[\\\"Browser\\\",\\\"Native\\\"]}]}},\\\"Controls\\\":[{\\\"Control\\\":[\\\"Mfa\\\",\\\"RequireCompliantDevice\\\"]}]}', 'PolicyLastUpdatedTime': '8/5/2020 2:23:25 AM', 'TenantDefaultPolicy': '', 'DisplayName': 'Yanivsh -CA Test', 'PolicyIdentifierString': ''})\"],[\"Cmd(name='Set-ConditionalAccessPolicy', params={'Identity': 'seccxpninja.onmicrosoft.com\\\\\\\\2e76d011-eaa3-40b4-8ce8-7fba52bf3af8', 'PolicyDetails': '{\\\"Version\\\":0,\\\"State\\\":\\\"Reporting\\\",\\\"Conditions\\\":{\\\"Applications\\\":{\\\"Include\\\":[{\\\"Applications\\\":[\\\"f9e8b3d0-ba26-42cd-b544-c90a66191a81\\\"]}]},\\\"Users\\\":{\\\"Include\\\":[{\\\"Users\\\":[\\\"All\\\"]}]}},\\\"SessionControls\\\":[\\\"CloudAppSecurity\\\"],\\\"PersistentBrowserSessionMode\\\":\\\"NotSet\\\",\\\"EnforceAllPoliciesForEas\\\":false,\\\"IncludeOtherLegacyClientTypeForEvaluation\\\":false,\\\"CasSessionControlType\\\":1}', 'PolicyLastUpdatedTime': '8/5/2020 5:15:31 AM', 'TenantDefaultPolicy': '', 'DisplayName': 'On-Prem SharePoint - MeganB proxy', 'PolicyIdentifierString': ''})\",\"Cmd(name='Set-ConditionalAccessPolicy', params={'Identity': 'seccxpninja.onmicrosoft.com\\\\\\\\b2915792-0396-4abe-94ec-e17fa17243c5', 'PolicyDetails': '{\\\"Version\\\":0,\\\"State\\\":\\\"Enabled\\\",\\\"Conditions\\\":{\\\"Applications\\\":{\\\"Include\\\":[{\\\"Applications\\\":[\\\"94c63fef-13a3-47bc-8074-75af8c65887a\\\",\\\"c9a559d2-7aab-4f13-a6ed-e7e9c52aec87\\\"]}]},\\\"Users\\\":{\\\"Include\\\":[{\\\"Users\\\":[\\\"bdb72692-2275-412b-8af0-ea21c2ebd174\\\",\\\"eababd92-9dc7-40e3-9359-6c106522db19\\\"]}]},\\\"SignInRisks\\\":{\\\"Include\\\":[{\\\"SignInRisks\\\":[\\\"High\\\",\\\"Medium\\\",\\\"Low\\\"]}]}},\\\"SessionControls\\\":[\\\"CloudAppSecurity\\\"],\\\"PersistentBrowserSessionMode\\\":\\\"NotSet\\\",\\\"EnforceAllPoliciesForEas\\\":false,\\\"IncludeOtherLegacyClientTypeForEvaluation\\\":false,\\\"CasSessionControlType\\\":3}', 'PolicyLastUpdatedTime': '8/5/2020 5:15:30 AM', 'TenantDefaultPolicy': '', 'DisplayName': 'GBB demo', 'PolicyIdentifierString': ''})\"],[\"Cmd(name='Set-ConditionalAccessPolicy', params={'Identity': 'seccxpninja.onmicrosoft.com\\\\\\\\83a057fb-dbca-4ba8-bb5f-0ce6d6e7cff5', 'PolicyDetails': '{\\\"Version\\\":0,\\\"State\\\":\\\"Enabled\\\",\\\"Conditions\\\":{\\\"Applications\\\":{\\\"Include\\\":[{\\\"Acrs\\\":[\\\"urn:microsoft:req1\\\"]}]},\\\"Users\\\":{\\\"Include\\\":[{\\\"Users\\\":[\\\"eababd92-9dc7-40e3-9359-6c106522db19\\\"]}]}},\\\"Controls\\\":[{\\\"Control\\\":[\\\"Mfa\\\"]}],\\\"PersistentBrowserSessionMode\\\":\\\"NotSet\\\",\\\"EnforceAllPoliciesForEas\\\":false,\\\"IncludeOtherLegacyClientTypeForEvaluation\\\":false}', 'PolicyLastUpdatedTime': '8/5/2020 5:15:30 AM', 'TenantDefaultPolicy': '', 'DisplayName': 'MeganB MCAS Step-up', 'PolicyIdentifierString': ''})\",\"Cmd(name='Set-ConditionalAccessPolicy', params={'Identity': 'seccxpninja.onmicrosoft.com\\\\\\\\8837fdaa-aaeb-4432-9622-43f6f583d583', 'PolicyDetails': '{\\\"KnownNetworkPolicies\\\":{\\\"NetworkName\\\":\\\"BE-Office\\\",\\\"NetworkId\\\":\\\"b98b9088-ce88-4fae-80fb-5b58cb1ce685\\\",\\\"CidrIpRanges\\\":[\\\"109.88.218.99/28\\\"],\\\"CountryIsoCodes\\\":null,\\\"Categories\\\":[],\\\"ApplyToUnknownCountry\\\":false}}', 'PolicyLastUpdatedTime': '8/5/2020 5:15:33 AM', 'TenantDefaultPolicy': '6', 'DisplayName': 'Known Networks List', 'PolicyIdentifierString': '3/19/2020 7:45:08 PM'})\"],[\"Cmd(name='Set-ConditionalAccessPolicy', params={'Identity': 'seccxpninja.onmicrosoft.com\\\\\\\\69c7a12f-b407-45a3-b07e-fa04fc7f273d', 'PolicyDetails': '{\\\"Version\\\":0,\\\"State\\\":\\\"Enabled\\\",\\\"Conditions\\\":{\\\"Applications\\\":{\\\"Include\\\":[{\\\"Applications\\\":[\\\"00000003-0000-0ff1-ce00-000000000000\\\"]}]},\\\"Users\\\":{\\\"Include\\\":[{\\\"Users\\\":[\\\"All\\\"]}]}},\\\"SessionControls\\\":[\\\"CloudAppSecurity\\\"],\\\"PersistentBrowserSessionMode\\\":\\\"NotSet\\\",\\\"EnforceAllPoliciesForEas\\\":false,\\\"IncludeOtherLegacyClientTypeForEvaluation\\\":false,\\\"CasSessionControlType\\\":1}', 'PolicyLastUpdatedTime': '8/5/2020 5:15:32 AM', 'TenantDefaultPolicy': '', 'DisplayName': 'Test Policy', 'PolicyIdentifierString': ''})\",\"Cmd(name='Set-ConditionalAccessPolicy', params={'Identity': 'seccxpninja.onmicrosoft.com\\\\\\\\b2915792-0396-4abe-94ec-e17fa17243c5', 'PolicyDetails': '{\\\"Version\\\":0,\\\"State\\\":\\\"Enabled\\\",\\\"Conditions\\\":{\\\"Applications\\\":{\\\"Include\\\":[{\\\"Applications\\\":[\\\"94c63fef-13a3-47bc-8074-75af8c65887a\\\",\\\"c9a559d2-7aab-4f13-a6ed-e7e9c52aec87\\\"]}]},\\\"Users\\\":{\\\"Include\\\":[{\\\"Users\\\":[\\\"bdb72692-2275-412b-8af0-ea21c2ebd174\\\",\\\"eababd92-9dc7-40e3-9359-6c106522db19\\\"]}]},\\\"SignInRisks\\\":{\\\"Include\\\":[{\\\"SignInRisks\\\":[\\\"High\\\",\\\"Medium\\\",\\\"Low\\\"]}]}},\\\"SessionControls\\\":[\\\"CloudAppSecurity\\\"],\\\"PersistentBrowserSessionMode\\\":\\\"NotSet\\\",\\\"EnforceAllPoliciesForEas\\\":false,\\\"IncludeOtherLegacyClientTypeForEvaluation\\\":false,\\\"CasSessionControlType\\\":3}', 'PolicyLastUpdatedTime': '8/5/2020 5:15:30 AM', 'TenantDefaultPolicy': '', 'DisplayName': 'GBB demo', 'PolicyIdentifierString': ''})\"],[\"Cmd(name='Set-ConditionalAccessPolicy', params={'Identity': 'seccxpninja.onmicrosoft.com\\\\\\\\235bec94-f744-48ac-8314-5675953d2def', 'PolicyDetails': '{\\\"Version\\\":0,\\\"State\\\":\\\"Disabled\\\",\\\"Conditions\\\":{\\\"Applications\\\":{\\\"Include\\\":[{\\\"Applications\\\":[\\\"All\\\"]}]},\\\"Users\\\":{\\\"Include\\\":[{\\\"Users\\\":[\\\"eababd92-9dc7-40e3-9359-6c106522db19\\\"]}]},\\\"DevicePlatforms\\\":{\\\"Include\\\":[{\\\"DevicePlatforms\\\":[\\\"All\\\"]}],\\\"Exclude\\\":[{\\\"DevicePlatforms\\\":[\\\"macOS\\\"]}]}},\\\"Controls\\\":[{\\\"Control\\\":[\\\"Mfa\\\"]}],\\\"PersistentBrowserSessionMode\\\":\\\"NotSet\\\",\\\"EnforceAllPoliciesForEas\\\":false,\\\"IncludeOtherLegacyClientTypeForEvaluation\\\":false}', 'PolicyLastUpdatedTime': '8/5/2020 5:15:29 AM', 'TenantDefaultPolicy': '', 'DisplayName': 'Megan MFA demo', 'PolicyIdentifierString': ''})\",\"Cmd(name='Set-ConditionalAccessPolicy', params={'Identity': 'seccxpninja.onmicrosoft.com\\\\\\\\4c5a5ea0-5d9f-4730-baaa-7a69cf29ef26', 'PolicyDetails': '{\\\"Version\\\":0,\\\"State\\\":\\\"Enabled\\\",\\\"Conditions\\\":{\\\"Applications\\\":{\\\"Include\\\":[{\\\"Applications\\\":[\\\"All\\\"]}]},\\\"Users\\\":{\\\"Include\\\":[{\\\"Users\\\":[\\\"bdb72692-2275-412b-8af0-ea21c2ebd174\\\"]}]}},\\\"Controls\\\":[{\\\"Control\\\":[\\\"Mfa\\\"]}],\\\"PersistentBrowserSessionMode\\\":\\\"NotSet\\\",\\\"EnforceAllPoliciesForEas\\\":false,\\\"IncludeOtherLegacyClientTypeForEvaluation\\\":false}', 'PolicyLastUpdatedTime': '8/5/2020 5:15:31 AM', 'TenantDefaultPolicy': '', 'DisplayName': 'Semolen - Admin MFA', 'PolicyIdentifierString': ''})\"],[\"Cmd(name='Set-ConditionalAccessPolicy', params={'Identity': 'seccxpninja.onmicrosoft.com\\\\\\\\235bec94-f744-48ac-8314-5675953d2def', 'PolicyDetails': '{\\\"Version\\\":0,\\\"State\\\":\\\"Disabled\\\",\\\"Conditions\\\":{\\\"Applications\\\":{\\\"Include\\\":[{\\\"Applications\\\":[\\\"All\\\"]}]},\\\"Users\\\":{\\\"Include\\\":[{\\\"Users\\\":[\\\"eababd92-9dc7-40e3-9359-6c106522db19\\\"]}]},\\\"DevicePlatforms\\\":{\\\"Include\\\":[{\\\"DevicePlatforms\\\":[\\\"All\\\"]}],\\\"Exclude\\\":[{\\\"DevicePlatforms\\\":[\\\"macOS\\\"]}]}},\\\"Controls\\\":[{\\\"Control\\\":[\\\"Mfa\\\"]}],\\\"PersistentBrowserSessionMode\\\":\\\"NotSet\\\",\\\"EnforceAllPoliciesForEas\\\":false,\\\"IncludeOtherLegacyClientTypeForEvaluation\\\":false}', 'PolicyLastUpdatedTime': '8/6/2020 2:16:15 AM', 'TenantDefaultPolicy': '', 'DisplayName': 'Megan MFA demo', 'PolicyIdentifierString': ''})\",\"Cmd(name='Set-ConditionalAccessPolicy', params={'Identity': 'seccxpninja.onmicrosoft.com\\\\\\\\2e76d011-eaa3-40b4-8ce8-7fba52bf3af8', 'PolicyDetails': '{\\\"Version\\\":0,\\\"State\\\":\\\"Reporting\\\",\\\"Conditions\\\":{\\\"Applications\\\":{\\\"Include\\\":[{\\\"Applications\\\":[\\\"f9e8b3d0-ba26-42cd-b544-c90a66191a81\\\"]}]},\\\"Users\\\":{\\\"Include\\\":[{\\\"Users\\\":[\\\"All\\\"]}]}},\\\"SessionControls\\\":[\\\"CloudAppSecurity\\\"],\\\"PersistentBrowserSessionMode\\\":\\\"NotSet\\\",\\\"EnforceAllPoliciesForEas\\\":false,\\\"IncludeOtherLegacyClientTypeForEvaluation\\\":false,\\\"CasSessionControlType\\\":1}', 'PolicyLastUpdatedTime': '8/6/2020 2:16:16 AM', 'TenantDefaultPolicy': '', 'DisplayName': 'On-Prem SharePoint - MeganB proxy', 'PolicyIdentifierString': ''})\"],[\"Cmd(name='Set-ConditionalAccessPolicy', params={'Identity': 'seccxpninja.onmicrosoft.com\\\\\\\\2e76d011-eaa3-40b4-8ce8-7fba52bf3af8', 'PolicyDetails': '{\\\"Version\\\":0,\\\"State\\\":\\\"Reporting\\\",\\\"Conditions\\\":{\\\"Applications\\\":{\\\"Include\\\":[{\\\"Applications\\\":[\\\"f9e8b3d0-ba26-42cd-b544-c90a66191a81\\\"]}]},\\\"Users\\\":{\\\"Include\\\":[{\\\"Users\\\":[\\\"All\\\"]}]}},\\\"SessionControls\\\":[\\\"CloudAppSecurity\\\"],\\\"PersistentBrowserSessionMode\\\":\\\"NotSet\\\",\\\"EnforceAllPoliciesForEas\\\":false,\\\"IncludeOtherLegacyClientTypeForEvaluation\\\":false,\\\"CasSessionControlType\\\":1}', 'PolicyLastUpdatedTime': '8/6/2020 5:18:56 AM', 'TenantDefaultPolicy': '', 'DisplayName': 'On-Prem SharePoint - MeganB proxy', 'PolicyIdentifierString': ''})\",\"Cmd(name='Set-ConditionalAccessPolicy', params={'Identity': 'seccxpninja.onmicrosoft.com\\\\\\\\235bec94-f744-48ac-8314-5675953d2def', 'PolicyDetails': '{\\\"Version\\\":0,\\\"State\\\":\\\"Disabled\\\",\\\"Conditions\\\":{\\\"Applications\\\":{\\\"Include\\\":[{\\\"Applications\\\":[\\\"All\\\"]}]},\\\"Users\\\":{\\\"Include\\\":[{\\\"Users\\\":[\\\"eababd92-9dc7-40e3-9359-6c106522db19\\\"]}]},\\\"DevicePlatforms\\\":{\\\"Include\\\":[{\\\"DevicePlatforms\\\":[\\\"All\\\"]}],\\\"Exclude\\\":[{\\\"DevicePlatforms\\\":[\\\"macOS\\\"]}]}},\\\"Controls\\\":[{\\\"Control\\\":[\\\"Mfa\\\"]}],\\\"PersistentBrowserSessionMode\\\":\\\"NotSet\\\",\\\"EnforceAllPoliciesForEas\\\":false,\\\"IncludeOtherLegacyClientTypeForEvaluation\\\":false}', 'PolicyLastUpdatedTime': '8/6/2020 5:18:55 AM', 'TenantDefaultPolicy': '', 'DisplayName': 'Megan MFA demo', 'PolicyIdentifierString': ''})\"],[\"Cmd(name='Set-ConditionalAccessPolicy', params={'Identity': 'seccxpninja.onmicrosoft.com\\\\\\\\5fd0c4ff-1cd7-4bf6-8607-294a04f58f12', 'PolicyDetails': '{\\\"Version\\\":0,\\\"State\\\":\\\"Disabled\\\",\\\"Conditions\\\":{\\\"Applications\\\":{\\\"Include\\\":[{\\\"Applications\\\":[\\\"All\\\"]}]},\\\"Users\\\":{\\\"Include\\\":[{\\\"Users\\\":[\\\"142512c7-f006-46ae-909c-14fa7bf6a887\\\"]}]}},\\\"Controls\\\":[{\\\"Control\\\":[\\\"Mfa\\\"]}],\\\"EnforceAllPoliciesForEas\\\":false,\\\"IncludeOtherLegacyClientTypeForEvaluation\\\":false}', 'PolicyLastUpdatedTime': '8/6/2020 2:16:16 AM', 'TenantDefaultPolicy': '', 'DisplayName': 'Azure MFA', 'PolicyIdentifierString': ''})\",\"Cmd(name='Set-ConditionalAccessPolicy', params={'Identity': 'seccxpninja.onmicrosoft.com\\\\\\\\5fd0c4ff-1cd7-4bf6-8607-294a04f58f12', 'PolicyDetails': '{\\\"Version\\\":0,\\\"State\\\":\\\"Disabled\\\",\\\"Conditions\\\":{\\\"Applications\\\":{\\\"Include\\\":[{\\\"Applications\\\":[\\\"All\\\"]}]},\\\"Users\\\":{\\\"Include\\\":[{\\\"Users\\\":[\\\"142512c7-f006-46ae-909c-14fa7bf6a887\\\"]}]}},\\\"Controls\\\":[{\\\"Control\\\":[\\\"Mfa\\\"]}],\\\"EnforceAllPoliciesForEas\\\":false,\\\"IncludeOtherLegacyClientTypeForEvaluation\\\":false}', 'PolicyLastUpdatedTime': '8/6/2020 2:16:16 AM', 'TenantDefaultPolicy': '', 'DisplayName': 'Azure MFA', 'PolicyIdentifierString': ''})\"],[\"Cmd(name='Set-ConditionalAccessPolicy', params={'Identity': 'seccxpninja.onmicrosoft.com\\\\\\\\83a057fb-dbca-4ba8-bb5f-0ce6d6e7cff5', 'PolicyDetails': '{\\\"Version\\\":0,\\\"State\\\":\\\"Enabled\\\",\\\"Conditions\\\":{\\\"Applications\\\":{\\\"Include\\\":[{\\\"Acrs\\\":[\\\"urn:microsoft:req1\\\"]}]},\\\"Users\\\":{\\\"Include\\\":[{\\\"Users\\\":[\\\"eababd92-9dc7-40e3-9359-6c106522db19\\\"]}]}},\\\"Controls\\\":[{\\\"Control\\\":[\\\"Mfa\\\"]}],\\\"PersistentBrowserSessionMode\\\":\\\"NotSet\\\",\\\"EnforceAllPoliciesForEas\\\":false,\\\"IncludeOtherLegacyClientTypeForEvaluation\\\":false}', 'PolicyLastUpdatedTime': '8/6/2020 2:16:15 AM', 'TenantDefaultPolicy': '', 'DisplayName': 'MeganB MCAS Step-up', 'PolicyIdentifierString': ''})\",\"Cmd(name='Set-ConditionalAccessPolicy', params={'Identity': 'seccxpninja.onmicrosoft.com\\\\\\\\3b13ea3c-c733-4eb8-bd19-67d308b2ea04', 'PolicyDetails': '{\\\"Version\\\":0,\\\"CreatedDateTime\\\":\\\"2020-05-19T13:34:15.2394934Z\\\",\\\"ModifiedDateTime\\\":\\\"2020-05-19T13:39:04.7333386Z\\\",\\\"State\\\":\\\"Reporting\\\",\\\"Conditions\\\":{\\\"Applications\\\":{\\\"Include\\\":[{\\\"Applications\\\":[\\\"None\\\"]}]},\\\"Users\\\":{\\\"Include\\\":[{\\\"Users\\\":[\\\"Guests\\\"]}]},\\\"DevicePlatforms\\\":{\\\"Include\\\":[{\\\"DevicePlatforms\\\":[\\\"All\\\"]}],\\\"Exclude\\\":[{\\\"DevicePlatforms\\\":[\\\"Android\\\",\\\"iOS\\\",\\\"macOS\\\"]}]},\\\"ClientTypes\\\":{\\\"Include\\\":[{\\\"ClientTypes\\\":[\\\"Browser\\\",\\\"Native\\\"]}]}},\\\"Controls\\\":[{\\\"Control\\\":[\\\"Mfa\\\",\\\"RequireCompliantDevice\\\"]}]}', 'PolicyLastUpdatedTime': '8/6/2020 2:16:17 AM', 'TenantDefaultPolicy': '', 'DisplayName': 'Yanivsh -CA Test', 'PolicyIdentifierString': ''})\"],[\"Cmd(name='Set-ConditionalAccessPolicy', params={'Identity': 'seccxpninja.onmicrosoft.com\\\\\\\\b2915792-0396-4abe-94ec-e17fa17243c5', 'PolicyDetails': '{\\\"Version\\\":0,\\\"State\\\":\\\"Enabled\\\",\\\"Conditions\\\":{\\\"Applications\\\":{\\\"Include\\\":[{\\\"Applications\\\":[\\\"94c63fef-13a3-47bc-8074-75af8c65887a\\\",\\\"c9a559d2-7aab-4f13-a6ed-e7e9c52aec87\\\"]}]},\\\"Users\\\":{\\\"Include\\\":[{\\\"Users\\\":[\\\"bdb72692-2275-412b-8af0-ea21c2ebd174\\\",\\\"eababd92-9dc7-40e3-9359-6c106522db19\\\"]}]},\\\"SignInRisks\\\":{\\\"Include\\\":[{\\\"SignInRisks\\\":[\\\"High\\\",\\\"Medium\\\",\\\"Low\\\"]}]}},\\\"SessionControls\\\":[\\\"CloudAppSecurity\\\"],\\\"PersistentBrowserSessionMode\\\":\\\"NotSet\\\",\\\"EnforceAllPoliciesForEas\\\":false,\\\"IncludeOtherLegacyClientTypeForEvaluation\\\":false,\\\"CasSessionControlType\\\":3}', 'PolicyLastUpdatedTime': '8/5/2020 5:15:30 AM', 'TenantDefaultPolicy': '', 'DisplayName': 'GBB demo', 'PolicyIdentifierString': ''})\",\"Cmd(name='Set-ConditionalAccessPolicy', params={'Identity': 'seccxpninja.onmicrosoft.com\\\\\\\\69c7a12f-b407-45a3-b07e-fa04fc7f273d', 'PolicyDetails': '{\\\"Version\\\":0,\\\"State\\\":\\\"Enabled\\\",\\\"Conditions\\\":{\\\"Applications\\\":{\\\"Include\\\":[{\\\"Applications\\\":[\\\"00000003-0000-0ff1-ce00-000000000000\\\"]}]},\\\"Users\\\":{\\\"Include\\\":[{\\\"Users\\\":[\\\"All\\\"]}]}},\\\"SessionControls\\\":[\\\"CloudAppSecurity\\\"],\\\"PersistentBrowserSessionMode\\\":\\\"NotSet\\\",\\\"EnforceAllPoliciesForEas\\\":false,\\\"IncludeOtherLegacyClientTypeForEvaluation\\\":false,\\\"CasSessionControlType\\\":1}', 'PolicyLastUpdatedTime': '8/5/2020 5:15:32 AM', 'TenantDefaultPolicy': '', 'DisplayName': 'Test Policy', 'PolicyIdentifierString': ''})\"],[\"Cmd(name='Set-ConditionalAccessPolicy', params={'Identity': 'seccxpninja.onmicrosoft.com\\\\\\\\5fd0c4ff-1cd7-4bf6-8607-294a04f58f12', 'PolicyDetails': '{\\\"Version\\\":0,\\\"State\\\":\\\"Disabled\\\",\\\"Conditions\\\":{\\\"Applications\\\":{\\\"Include\\\":[{\\\"Applications\\\":[\\\"All\\\"]}]},\\\"Users\\\":{\\\"Include\\\":[{\\\"Users\\\":[\\\"142512c7-f006-46ae-909c-14fa7bf6a887\\\"]}]}},\\\"Controls\\\":[{\\\"Control\\\":[\\\"Mfa\\\"]}],\\\"EnforceAllPoliciesForEas\\\":false,\\\"IncludeOtherLegacyClientTypeForEvaluation\\\":false}', 'PolicyLastUpdatedTime': '8/6/2020 2:16:16 AM', 'TenantDefaultPolicy': '', 'DisplayName': 'Azure MFA', 'PolicyIdentifierString': ''})\",\"Cmd(name='Set-ConditionalAccessPolicy', params={'Identity': 'seccxpninja.onmicrosoft.com\\\\\\\\5fd0c4ff-1cd7-4bf6-8607-294a04f58f12', 'PolicyDetails': '{\\\"Version\\\":0,\\\"State\\\":\\\"Disabled\\\",\\\"Conditions\\\":{\\\"Applications\\\":{\\\"Include\\\":[{\\\"Applications\\\":[\\\"All\\\"]}]},\\\"Users\\\":{\\\"Include\\\":[{\\\"Users\\\":[\\\"142512c7-f006-46ae-909c-14fa7bf6a887\\\"]}]}},\\\"Controls\\\":[{\\\"Control\\\":[\\\"Mfa\\\"]}],\\\"EnforceAllPoliciesForEas\\\":false,\\\"IncludeOtherLegacyClientTypeForEvaluation\\\":false}', 'PolicyLastUpdatedTime': '8/6/2020 2:16:16 AM', 'TenantDefaultPolicy': '', 'DisplayName': 'Azure MFA', 'PolicyIdentifierString': ''})\"],[\"Cmd(name='Set-ConditionalAccessPolicy', params={'Identity': 'seccxpninja.onmicrosoft.com\\\\\\\\3b13ea3c-c733-4eb8-bd19-67d308b2ea04', 'PolicyDetails': '{\\\"Version\\\":0,\\\"CreatedDateTime\\\":\\\"2020-05-19T13:34:15.2394934Z\\\",\\\"ModifiedDateTime\\\":\\\"2020-05-19T13:39:04.7333386Z\\\",\\\"State\\\":\\\"Reporting\\\",\\\"Conditions\\\":{\\\"Applications\\\":{\\\"Include\\\":[{\\\"Applications\\\":[\\\"None\\\"]}]},\\\"Users\\\":{\\\"Include\\\":[{\\\"Users\\\":[\\\"Guests\\\"]}]},\\\"DevicePlatforms\\\":{\\\"Include\\\":[{\\\"DevicePlatforms\\\":[\\\"All\\\"]}],\\\"Exclude\\\":[{\\\"DevicePlatforms\\\":[\\\"Android\\\",\\\"iOS\\\",\\\"macOS\\\"]}]},\\\"ClientTypes\\\":{\\\"Include\\\":[{\\\"ClientTypes\\\":[\\\"Browser\\\",\\\"Native\\\"]}]}},\\\"Controls\\\":[{\\\"Control\\\":[\\\"Mfa\\\",\\\"RequireCompliantDevice\\\"]}]}', 'PolicyLastUpdatedTime': '8/6/2020 2:16:17 AM', 'TenantDefaultPolicy': '', 'DisplayName': 'Yanivsh -CA Test', 'PolicyIdentifierString': ''})\",\"Cmd(name='Set-ConditionalAccessPolicy', params={'Identity': 'seccxpninja.onmicrosoft.com\\\\\\\\69c7a12f-b407-45a3-b07e-fa04fc7f273d', 'PolicyDetails': '{\\\"Version\\\":0,\\\"State\\\":\\\"Enabled\\\",\\\"Conditions\\\":{\\\"Applications\\\":{\\\"Include\\\":[{\\\"Applications\\\":[\\\"00000003-0000-0ff1-ce00-000000000000\\\"]}]},\\\"Users\\\":{\\\"Include\\\":[{\\\"Users\\\":[\\\"All\\\"]}]}},\\\"SessionControls\\\":[\\\"CloudAppSecurity\\\"],\\\"PersistentBrowserSessionMode\\\":\\\"NotSet\\\",\\\"EnforceAllPoliciesForEas\\\":false,\\\"IncludeOtherLegacyClientTypeForEvaluation\\\":false,\\\"CasSessionControlType\\\":1}', 'PolicyLastUpdatedTime': '8/6/2020 2:16:17 AM', 'TenantDefaultPolicy': '', 'DisplayName': 'Test Policy', 'PolicyIdentifierString': ''})\"],[\"Cmd(name='Set-ConditionalAccessPolicy', params={'Identity': 'seccxpninja.onmicrosoft.com\\\\\\\\ba36f0a4-6d73-4ba4-9282-3b3c14575e36', 'PolicyDetails': '{\\\"Version\\\":0,\\\"ModifiedDateTime\\\":\\\"2020-05-19T13:31:41.7083504Z\\\",\\\"State\\\":\\\"Disabled\\\",\\\"Conditions\\\":{\\\"Applications\\\":{\\\"Include\\\":[{\\\"Applications\\\":[\\\"00000002-0000-0ff1-ce00-000000000000\\\",\\\"00000003-0000-0ff1-ce00-000000000000\\\"]}]},\\\"Users\\\":{\\\"Include\\\":[{\\\"Users\\\":[\\\"2935e535-8fdf-4217-865b-e084cb7214f1\\\"]}]},\\\"DevicePlatforms\\\":{\\\"Include\\\":[{\\\"DevicePlatforms\\\":[\\\"All\\\"]}],\\\"Exclude\\\":[{\\\"DevicePlatforms\\\":[\\\"Android\\\",\\\"iOS\\\",\\\"macOS\\\"]}]},\\\"ClientTypes\\\":{\\\"Include\\\":[{\\\"ClientTypes\\\":[\\\"Browser\\\",\\\"Native\\\"]}]}},\\\"SessionControls\\\":[\\\"CloudAppSecurity\\\"],\\\"CasSessionControlType\\\":1}', 'PolicyLastUpdatedTime': '8/7/2020 3:03:46 AM', 'TenantDefaultPolicy': '', 'DisplayName': 'Block Access JulianI', 'PolicyIdentifierString': ''})\",\"Cmd(name='Set-ConditionalAccessPolicy', params={'Identity': 'seccxpninja.onmicrosoft.com\\\\\\\\69c7a12f-b407-45a3-b07e-fa04fc7f273d', 'PolicyDetails': '{\\\"Version\\\":0,\\\"State\\\":\\\"Enabled\\\",\\\"Conditions\\\":{\\\"Applications\\\":{\\\"Include\\\":[{\\\"Applications\\\":[\\\"00000003-0000-0ff1-ce00-000000000000\\\"]}]},\\\"Users\\\":{\\\"Include\\\":[{\\\"Users\\\":[\\\"All\\\"]}]}},\\\"SessionControls\\\":[\\\"CloudAppSecurity\\\"],\\\"PersistentBrowserSessionMode\\\":\\\"NotSet\\\",\\\"EnforceAllPoliciesForEas\\\":false,\\\"IncludeOtherLegacyClientTypeForEvaluation\\\":false,\\\"CasSessionControlType\\\":1}', 'PolicyLastUpdatedTime': '8/7/2020 3:03:46 AM', 'TenantDefaultPolicy': '', 'DisplayName': 'Test Policy', 'PolicyIdentifierString': ''})\"],[\"Cmd(name='Set-ConditionalAccessPolicy', params={'Identity': 'seccxpninja.onmicrosoft.com\\\\\\\\2e76d011-eaa3-40b4-8ce8-7fba52bf3af8', 'PolicyDetails': '{\\\"Version\\\":0,\\\"State\\\":\\\"Reporting\\\",\\\"Conditions\\\":{\\\"Applications\\\":{\\\"Include\\\":[{\\\"Applications\\\":[\\\"f9e8b3d0-ba26-42cd-b544-c90a66191a81\\\"]}]},\\\"Users\\\":{\\\"Include\\\":[{\\\"Users\\\":[\\\"All\\\"]}]}},\\\"SessionControls\\\":[\\\"CloudAppSecurity\\\"],\\\"PersistentBrowserSessionMode\\\":\\\"NotSet\\\",\\\"EnforceAllPoliciesForEas\\\":false,\\\"IncludeOtherLegacyClientTypeForEvaluation\\\":false,\\\"CasSessionControlType\\\":1}', 'PolicyLastUpdatedTime': '8/7/2020 3:03:45 AM', 'TenantDefaultPolicy': '', 'DisplayName': 'On-Prem SharePoint - MeganB proxy', 'PolicyIdentifierString': ''})\",\"Cmd(name='Set-ConditionalAccessPolicy', params={'Identity': 'seccxpninja.onmicrosoft.com\\\\\\\\235bec94-f744-48ac-8314-5675953d2def', 'PolicyDetails': '{\\\"Version\\\":0,\\\"State\\\":\\\"Disabled\\\",\\\"Conditions\\\":{\\\"Applications\\\":{\\\"Include\\\":[{\\\"Applications\\\":[\\\"All\\\"]}]},\\\"Users\\\":{\\\"Include\\\":[{\\\"Users\\\":[\\\"eababd92-9dc7-40e3-9359-6c106522db19\\\"]}]},\\\"DevicePlatforms\\\":{\\\"Include\\\":[{\\\"DevicePlatforms\\\":[\\\"All\\\"]}],\\\"Exclude\\\":[{\\\"DevicePlatforms\\\":[\\\"macOS\\\"]}]}},\\\"Controls\\\":[{\\\"Control\\\":[\\\"Mfa\\\"]}],\\\"PersistentBrowserSessionMode\\\":\\\"NotSet\\\",\\\"EnforceAllPoliciesForEas\\\":false,\\\"IncludeOtherLegacyClientTypeForEvaluation\\\":false}', 'PolicyLastUpdatedTime': '8/7/2020 3:03:43 AM', 'TenantDefaultPolicy': '', 'DisplayName': 'Megan MFA demo', 'PolicyIdentifierString': ''})\"],[\"Cmd(name='Set-ConditionalAccessPolicy', params={'Identity': 'seccxpninja.onmicrosoft.com\\\\\\\\5fd0c4ff-1cd7-4bf6-8607-294a04f58f12', 'PolicyDetails': '{\\\"Version\\\":0,\\\"State\\\":\\\"Disabled\\\",\\\"Conditions\\\":{\\\"Applications\\\":{\\\"Include\\\":[{\\\"Applications\\\":[\\\"All\\\"]}]},\\\"Users\\\":{\\\"Include\\\":[{\\\"Users\\\":[\\\"142512c7-f006-46ae-909c-14fa7bf6a887\\\"]}]}},\\\"Controls\\\":[{\\\"Control\\\":[\\\"Mfa\\\"]}],\\\"EnforceAllPoliciesForEas\\\":false,\\\"IncludeOtherLegacyClientTypeForEvaluation\\\":false}', 'PolicyLastUpdatedTime': '8/7/2020 5:32:24 AM', 'TenantDefaultPolicy': '', 'DisplayName': 'Azure MFA', 'PolicyIdentifierString': ''})\",\"Cmd(name='Set-ConditionalAccessPolicy', params={'Identity': 'seccxpninja.onmicrosoft.com\\\\\\\\b2915792-0396-4abe-94ec-e17fa17243c5', 'PolicyDetails': '{\\\"Version\\\":0,\\\"State\\\":\\\"Enabled\\\",\\\"Conditions\\\":{\\\"Applications\\\":{\\\"Include\\\":[{\\\"Applications\\\":[\\\"94c63fef-13a3-47bc-8074-75af8c65887a\\\",\\\"c9a559d2-7aab-4f13-a6ed-e7e9c52aec87\\\"]}]},\\\"Users\\\":{\\\"Include\\\":[{\\\"Users\\\":[\\\"bdb72692-2275-412b-8af0-ea21c2ebd174\\\",\\\"eababd92-9dc7-40e3-9359-6c106522db19\\\"]}]},\\\"SignInRisks\\\":{\\\"Include\\\":[{\\\"SignInRisks\\\":[\\\"High\\\",\\\"Medium\\\",\\\"Low\\\"]}]}},\\\"SessionControls\\\":[\\\"CloudAppSecurity\\\"],\\\"PersistentBrowserSessionMode\\\":\\\"NotSet\\\",\\\"EnforceAllPoliciesForEas\\\":false,\\\"IncludeOtherLegacyClientTypeForEvaluation\\\":false,\\\"CasSessionControlType\\\":3}', 'PolicyLastUpdatedTime': '8/7/2020 5:32:24 AM', 'TenantDefaultPolicy': '', 'DisplayName': 'GBB demo', 'PolicyIdentifierString': ''})\"],[\"Cmd(name='Set-ConditionalAccessPolicy', params={'Identity': 'seccxpninja.onmicrosoft.com\\\\\\\\2e76d011-eaa3-40b4-8ce8-7fba52bf3af8', 'PolicyDetails': '{\\\"Version\\\":0,\\\"State\\\":\\\"Reporting\\\",\\\"Conditions\\\":{\\\"Applications\\\":{\\\"Include\\\":[{\\\"Applications\\\":[\\\"f9e8b3d0-ba26-42cd-b544-c90a66191a81\\\"]}]},\\\"Users\\\":{\\\"Include\\\":[{\\\"Users\\\":[\\\"All\\\"]}]}},\\\"SessionControls\\\":[\\\"CloudAppSecurity\\\"],\\\"PersistentBrowserSessionMode\\\":\\\"NotSet\\\",\\\"EnforceAllPoliciesForEas\\\":false,\\\"IncludeOtherLegacyClientTypeForEvaluation\\\":false,\\\"CasSessionControlType\\\":1}', 'PolicyLastUpdatedTime': '8/8/2020 2:05:37 AM', 'TenantDefaultPolicy': '', 'DisplayName': 'On-Prem SharePoint - MeganB proxy', 'PolicyIdentifierString': ''})\",\"Cmd(name='Set-ConditionalAccessPolicy', params={'Identity': 'seccxpninja.onmicrosoft.com\\\\\\\\e183bd29-a3a3-4f91-a5a3-b83b21a544df', 'PolicyDetails': '{\\\"Version\\\":0,\\\"State\\\":\\\"Enabled\\\",\\\"Conditions\\\":{\\\"Applications\\\":{\\\"Include\\\":[{\\\"Applications\\\":[\\\"00000002-0000-0ff1-ce00-000000000000\\\"]}]},\\\"Users\\\":{\\\"Include\\\":[{\\\"Users\\\":[\\\"2935e535-8fdf-4217-865b-e084cb7214f1\\\"]}]}},\\\"SessionControls\\\":[\\\"AppEnforcedRestrictions\\\"],\\\"PersistentBrowserSessionMode\\\":\\\"NotSet\\\",\\\"EnforceAllPoliciesForEas\\\":false,\\\"IncludeOtherLegacyClientTypeForEvaluation\\\":false}', 'PolicyLastUpdatedTime': '8/8/2020 2:05:38 AM', 'TenantDefaultPolicy': '', 'DisplayName': 'JulianI Exchange native controls', 'PolicyIdentifierString': ''})\",\"Cmd(name='Set-ConditionalAccessPolicy', params={'Identity': 'seccxpninja.onmicrosoft.com\\\\\\\\bcd93f74-64fd-4042-a3ae-ee6d48886d6d', 'PolicyDetails': '{\\\"Version\\\":0,\\\"State\\\":\\\"Enabled\\\",\\\"Conditions\\\":{\\\"Applications\\\":{\\\"Include\\\":[{\\\"Applications\\\":[\\\"c9a559d2-7aab-4f13-a6ed-e7e9c52aec87\\\"]}]},\\\"Users\\\":{\\\"Include\\\":[{\\\"Users\\\":[\\\"bdb72692-2275-412b-8af0-ea21c2ebd174\\\",\\\"eababd92-9dc7-40e3-9359-6c106522db19\\\"]}]}},\\\"SessionControls\\\":[\\\"CloudAppSecurity\\\"],\\\"PersistentBrowserSessionMode\\\":\\\"NotSet\\\",\\\"EnforceAllPoliciesForEas\\\":false,\\\"IncludeOtherLegacyClientTypeForEvaluation\\\":false,\\\"CasSessionControlType\\\":3}', 'PolicyLastUpdatedTime': '8/8/2020 2:05:36 AM', 'TenantDefaultPolicy': '', 'DisplayName': 'Form MCAS', 'PolicyIdentifierString': ''})\"],[\"Cmd(name='Set-ConditionalAccessPolicy', params={'Identity': 'seccxpninja.onmicrosoft.com\\\\\\\\5fd0c4ff-1cd7-4bf6-8607-294a04f58f12', 'PolicyDetails': '{\\\"Version\\\":0,\\\"State\\\":\\\"Disabled\\\",\\\"Conditions\\\":{\\\"Applications\\\":{\\\"Include\\\":[{\\\"Applications\\\":[\\\"All\\\"]}]},\\\"Users\\\":{\\\"Include\\\":[{\\\"Users\\\":[\\\"142512c7-f006-46ae-909c-14fa7bf6a887\\\"]}]}},\\\"Controls\\\":[{\\\"Control\\\":[\\\"Mfa\\\"]}],\\\"EnforceAllPoliciesForEas\\\":false,\\\"IncludeOtherLegacyClientTypeForEvaluation\\\":false}', 'PolicyLastUpdatedTime': '8/8/2020 5:07:46 AM', 'TenantDefaultPolicy': '', 'DisplayName': 'Azure MFA', 'PolicyIdentifierString': ''})\",\"Cmd(name='Set-ConditionalAccessPolicy', params={'Identity': 'seccxpninja.onmicrosoft.com\\\\\\\\8837fdaa-aaeb-4432-9622-43f6f583d583', 'PolicyDetails': '{\\\"KnownNetworkPolicies\\\":{\\\"NetworkName\\\":\\\"BE-Office\\\",\\\"NetworkId\\\":\\\"b98b9088-ce88-4fae-80fb-5b58cb1ce685\\\",\\\"CidrIpRanges\\\":[\\\"109.88.218.99/28\\\"],\\\"CountryIsoCodes\\\":null,\\\"Categories\\\":[],\\\"ApplyToUnknownCountry\\\":false}}', 'PolicyLastUpdatedTime': '8/8/2020 5:07:46 AM', 'TenantDefaultPolicy': '6', 'DisplayName': 'Known Networks List', 'PolicyIdentifierString': '3/19/2020 7:45:08 PM'})\"],[\"Cmd(name='Set-ConditionalAccessPolicy', params={'Identity': 'seccxpninja.onmicrosoft.com\\\\\\\\e183bd29-a3a3-4f91-a5a3-b83b21a544df', 'PolicyDetails': '{\\\"Version\\\":0,\\\"State\\\":\\\"Enabled\\\",\\\"Conditions\\\":{\\\"Applications\\\":{\\\"Include\\\":[{\\\"Applications\\\":[\\\"00000002-0000-0ff1-ce00-000000000000\\\"]}]},\\\"Users\\\":{\\\"Include\\\":[{\\\"Users\\\":[\\\"2935e535-8fdf-4217-865b-e084cb7214f1\\\"]}]}},\\\"SessionControls\\\":[\\\"AppEnforcedRestrictions\\\"],\\\"PersistentBrowserSessionMode\\\":\\\"NotSet\\\",\\\"EnforceAllPoliciesForEas\\\":false,\\\"IncludeOtherLegacyClientTypeForEvaluation\\\":false}', 'PolicyLastUpdatedTime': '8/6/2020 5:18:57 AM', 'TenantDefaultPolicy': '', 'DisplayName': 'JulianI Exchange native controls', 'PolicyIdentifierString': ''})\",\"Cmd(name='Set-ConditionalAccessPolicy', params={'Identity': 'seccxpninja.onmicrosoft.com\\\\\\\\6490d00c-7ba1-42cf-aa88-99eb71d53bf7', 'PolicyDetails': '{\\\"Version\\\":0,\\\"LastUpdatedTimestamp\\\":\\\"2020-07-02T12:42:35.1866847Z\\\",\\\"State\\\":\\\"Disabled\\\",\\\"SignInFrequency\\\":\\\"NotSet\\\",\\\"PersistentBrowserSessionMode\\\":\\\"NotSet\\\"}', 'PolicyLastUpdatedTime': '8/6/2020 5:18:56 AM', 'TenantDefaultPolicy': '18', 'DisplayName': 'Default Policy', 'PolicyIdentifierString': '5/19/2020 1:39:05 PM'})\"],[\"Cmd(name='Set-ConditionalAccessPolicy', params={'Identity': 'seccxpninja.onmicrosoft.com\\\\\\\\69c7a12f-b407-45a3-b07e-fa04fc7f273d', 'PolicyDetails': '{\\\"Version\\\":0,\\\"State\\\":\\\"Enabled\\\",\\\"Conditions\\\":{\\\"Applications\\\":{\\\"Include\\\":[{\\\"Applications\\\":[\\\"00000003-0000-0ff1-ce00-000000000000\\\"]}]},\\\"Users\\\":{\\\"Include\\\":[{\\\"Users\\\":[\\\"All\\\"]}]}},\\\"SessionControls\\\":[\\\"CloudAppSecurity\\\"],\\\"PersistentBrowserSessionMode\\\":\\\"NotSet\\\",\\\"EnforceAllPoliciesForEas\\\":false,\\\"IncludeOtherLegacyClientTypeForEvaluation\\\":false,\\\"CasSessionControlType\\\":1}', 'PolicyLastUpdatedTime': '8/9/2020 1:49:56 AM', 'TenantDefaultPolicy': '', 'DisplayName': 'Test Policy', 'PolicyIdentifierString': ''})\",\"Cmd(name='Set-ConditionalAccessPolicy', params={'Identity': 'seccxpninja.onmicrosoft.com\\\\\\\\8837fdaa-aaeb-4432-9622-43f6f583d583', 'PolicyDetails': '{\\\"KnownNetworkPolicies\\\":{\\\"NetworkName\\\":\\\"BE-Office\\\",\\\"NetworkId\\\":\\\"b98b9088-ce88-4fae-80fb-5b58cb1ce685\\\",\\\"CidrIpRanges\\\":[\\\"109.88.218.99/28\\\"],\\\"CountryIsoCodes\\\":null,\\\"Categories\\\":[],\\\"ApplyToUnknownCountry\\\":false}}', 'PolicyLastUpdatedTime': '8/9/2020 1:49:56 AM', 'TenantDefaultPolicy': '6', 'DisplayName': 'Known Networks List', 'PolicyIdentifierString': '3/19/2020 7:45:08 PM'})\"],[\"Cmd(name='Set-ConditionalAccessPolicy', params={'Identity': 'seccxpninja.onmicrosoft.com\\\\\\\\8872f6fb-da88-4b63-bcc7-17247669596b', 'PolicyDetails': '{\\\"Version\\\":0,\\\"State\\\":\\\"Enabled\\\",\\\"Conditions\\\":{\\\"Applications\\\":{\\\"Include\\\":[{\\\"Applications\\\":[\\\"00000002-0000-0ff1-ce00-000000000000\\\",\\\"09abbdfd-ed23-44ee-a2d9-a627aa1c90f3\\\",\\\"cc15fd57-2c6c-4117-a88c-83b1d56b4bbe\\\",\\\"00000003-0000-0ff1-ce00-000000000000\\\",\\\"00000005-0000-0ff1-ce00-000000000000\\\"]}]},\\\"Users\\\":{\\\"Include\\\":[{\\\"Users\\\":[\\\"eababd92-9dc7-40e3-9359-6c106522db19\\\"]}]}},\\\"SessionControls\\\":[\\\"CloudAppSecurity\\\"],\\\"PersistentBrowserSessionMode\\\":\\\"NotSet\\\",\\\"EnforceAllPoliciesForEas\\\":false,\\\"IncludeOtherLegacyClientTypeForEvaluation\\\":false,\\\"CasSessionControlType\\\":1}', 'PolicyLastUpdatedTime': '8/9/2020 5:08:00 AM', 'TenantDefaultPolicy': '', 'DisplayName': 'MeganB MCAS Proxy', 'PolicyIdentifierString': ''})\",\"Cmd(name='Set-ConditionalAccessPolicy', params={'Identity': 'seccxpninja.onmicrosoft.com\\\\\\\\8837fdaa-aaeb-4432-9622-43f6f583d583', 'PolicyDetails': '{\\\"KnownNetworkPolicies\\\":{\\\"NetworkName\\\":\\\"BE-Office\\\",\\\"NetworkId\\\":\\\"b98b9088-ce88-4fae-80fb-5b58cb1ce685\\\",\\\"CidrIpRanges\\\":[\\\"109.88.218.99/28\\\"],\\\"CountryIsoCodes\\\":null,\\\"Categories\\\":[],\\\"ApplyToUnknownCountry\\\":false}}', 'PolicyLastUpdatedTime': '8/9/2020 5:08:04 AM', 'TenantDefaultPolicy': '6', 'DisplayName': 'Known Networks List', 'PolicyIdentifierString': '3/19/2020 7:45:08 PM'})\"],[\"Cmd(name='Set-ConditionalAccessPolicy', params={'Identity': 'seccxpninja.onmicrosoft.com\\\\\\\\8872f6fb-da88-4b63-bcc7-17247669596b', 'PolicyDetails': '{\\\"Version\\\":0,\\\"State\\\":\\\"Enabled\\\",\\\"Conditions\\\":{\\\"Applications\\\":{\\\"Include\\\":[{\\\"Applications\\\":[\\\"00000002-0000-0ff1-ce00-000000000000\\\",\\\"09abbdfd-ed23-44ee-a2d9-a627aa1c90f3\\\",\\\"cc15fd57-2c6c-4117-a88c-83b1d56b4bbe\\\",\\\"00000003-0000-0ff1-ce00-000000000000\\\",\\\"00000005-0000-0ff1-ce00-000000000000\\\"]}]},\\\"Users\\\":{\\\"Include\\\":[{\\\"Users\\\":[\\\"eababd92-9dc7-40e3-9359-6c106522db19\\\"]}]}},\\\"SessionControls\\\":[\\\"CloudAppSecurity\\\"],\\\"PersistentBrowserSessionMode\\\":\\\"NotSet\\\",\\\"EnforceAllPoliciesForEas\\\":false,\\\"IncludeOtherLegacyClientTypeForEvaluation\\\":false,\\\"CasSessionControlType\\\":1}', 'PolicyLastUpdatedTime': '8/10/2020 2:30:02 AM', 'TenantDefaultPolicy': '', 'DisplayName': 'MeganB MCAS Proxy', 'PolicyIdentifierString': ''})\",\"Cmd(name='Set-ConditionalAccessPolicy', params={'Identity': 'seccxpninja.onmicrosoft.com\\\\\\\\b2915792-0396-4abe-94ec-e17fa17243c5', 'PolicyDetails': '{\\\"Version\\\":0,\\\"State\\\":\\\"Enabled\\\",\\\"Conditions\\\":{\\\"Applications\\\":{\\\"Include\\\":[{\\\"Applications\\\":[\\\"94c63fef-13a3-47bc-8074-75af8c65887a\\\",\\\"c9a559d2-7aab-4f13-a6ed-e7e9c52aec87\\\"]}]},\\\"Users\\\":{\\\"Include\\\":[{\\\"Users\\\":[\\\"bdb72692-2275-412b-8af0-ea21c2ebd174\\\",\\\"eababd92-9dc7-40e3-9359-6c106522db19\\\"]}]},\\\"SignInRisks\\\":{\\\"Include\\\":[{\\\"SignInRisks\\\":[\\\"High\\\",\\\"Medium\\\",\\\"Low\\\"]}]}},\\\"SessionControls\\\":[\\\"CloudAppSecurity\\\"],\\\"PersistentBrowserSessionMode\\\":\\\"NotSet\\\",\\\"EnforceAllPoliciesForEas\\\":false,\\\"IncludeOtherLegacyClientTypeForEvaluation\\\":false,\\\"CasSessionControlType\\\":3}', 'PolicyLastUpdatedTime': '8/10/2020 2:30:04 AM', 'TenantDefaultPolicy': '', 'DisplayName': 'GBB demo', 'PolicyIdentifierString': ''})\"],[\"Cmd(name='Set-ConditionalAccessPolicy', params={'Identity': 'seccxpninja.onmicrosoft.com\\\\\\\\8872f6fb-da88-4b63-bcc7-17247669596b', 'PolicyDetails': '{\\\"Version\\\":0,\\\"State\\\":\\\"Enabled\\\",\\\"Conditions\\\":{\\\"Applications\\\":{\\\"Include\\\":[{\\\"Applications\\\":[\\\"00000002-0000-0ff1-ce00-000000000000\\\",\\\"09abbdfd-ed23-44ee-a2d9-a627aa1c90f3\\\",\\\"cc15fd57-2c6c-4117-a88c-83b1d56b4bbe\\\",\\\"00000003-0000-0ff1-ce00-000000000000\\\",\\\"00000005-0000-0ff1-ce00-000000000000\\\"]}]},\\\"Users\\\":{\\\"Include\\\":[{\\\"Users\\\":[\\\"eababd92-9dc7-40e3-9359-6c106522db19\\\"]}]}},\\\"SessionControls\\\":[\\\"CloudAppSecurity\\\"],\\\"PersistentBrowserSessionMode\\\":\\\"NotSet\\\",\\\"EnforceAllPoliciesForEas\\\":false,\\\"IncludeOtherLegacyClientTypeForEvaluation\\\":false,\\\"CasSessionControlType\\\":1}', 'PolicyLastUpdatedTime': '8/10/2020 5:20:06 AM', 'TenantDefaultPolicy': '', 'DisplayName': 'MeganB MCAS Proxy', 'PolicyIdentifierString': ''})\",\"Cmd(name='Set-ConditionalAccessPolicy', params={'Identity': 'seccxpninja.onmicrosoft.com\\\\\\\\8872f6fb-da88-4b63-bcc7-17247669596b', 'PolicyDetails': '{\\\"Version\\\":0,\\\"State\\\":\\\"Enabled\\\",\\\"Conditions\\\":{\\\"Applications\\\":{\\\"Include\\\":[{\\\"Applications\\\":[\\\"00000002-0000-0ff1-ce00-000000000000\\\",\\\"09abbdfd-ed23-44ee-a2d9-a627aa1c90f3\\\",\\\"cc15fd57-2c6c-4117-a88c-83b1d56b4bbe\\\",\\\"00000003-0000-0ff1-ce00-000000000000\\\",\\\"00000005-0000-0ff1-ce00-000000000000\\\"]}]},\\\"Users\\\":{\\\"Include\\\":[{\\\"Users\\\":[\\\"eababd92-9dc7-40e3-9359-6c106522db19\\\"]}]}},\\\"SessionControls\\\":[\\\"CloudAppSecurity\\\"],\\\"PersistentBrowserSessionMode\\\":\\\"NotSet\\\",\\\"EnforceAllPoliciesForEas\\\":false,\\\"IncludeOtherLegacyClientTypeForEvaluation\\\":false,\\\"CasSessionControlType\\\":1}', 'PolicyLastUpdatedTime': '8/10/2020 5:20:06 AM', 'TenantDefaultPolicy': '', 'DisplayName': 'MeganB MCAS Proxy', 'PolicyIdentifierString': ''})\"],[\"Cmd(name='Set-ConditionalAccessPolicy', params={'Identity': 'seccxpninja.onmicrosoft.com\\\\\\\\235bec94-f744-48ac-8314-5675953d2def', 'PolicyDetails': '{\\\"Version\\\":0,\\\"State\\\":\\\"Disabled\\\",\\\"Conditions\\\":{\\\"Applications\\\":{\\\"Include\\\":[{\\\"Applications\\\":[\\\"All\\\"]}]},\\\"Users\\\":{\\\"Include\\\":[{\\\"Users\\\":[\\\"eababd92-9dc7-40e3-9359-6c106522db19\\\"]}]},\\\"DevicePlatforms\\\":{\\\"Include\\\":[{\\\"DevicePlatforms\\\":[\\\"All\\\"]}],\\\"Exclude\\\":[{\\\"DevicePlatforms\\\":[\\\"macOS\\\"]}]}},\\\"Controls\\\":[{\\\"Control\\\":[\\\"Mfa\\\"]}],\\\"PersistentBrowserSessionMode\\\":\\\"NotSet\\\",\\\"EnforceAllPoliciesForEas\\\":false,\\\"IncludeOtherLegacyClientTypeForEvaluation\\\":false}', 'PolicyLastUpdatedTime': '8/10/2020 5:20:06 AM', 'TenantDefaultPolicy': '', 'DisplayName': 'Megan MFA demo', 'PolicyIdentifierString': ''})\",\"Cmd(name='Set-ConditionalAccessPolicy', params={'Identity': 'seccxpninja.onmicrosoft.com\\\\\\\\3b13ea3c-c733-4eb8-bd19-67d308b2ea04', 'PolicyDetails': '{\\\"Version\\\":0,\\\"CreatedDateTime\\\":\\\"2020-05-19T13:34:15.2394934Z\\\",\\\"ModifiedDateTime\\\":\\\"2020-05-19T13:39:04.7333386Z\\\",\\\"State\\\":\\\"Reporting\\\",\\\"Conditions\\\":{\\\"Applications\\\":{\\\"Include\\\":[{\\\"Applications\\\":[\\\"None\\\"]}]},\\\"Users\\\":{\\\"Include\\\":[{\\\"Users\\\":[\\\"Guests\\\"]}]},\\\"DevicePlatforms\\\":{\\\"Include\\\":[{\\\"DevicePlatforms\\\":[\\\"All\\\"]}],\\\"Exclude\\\":[{\\\"DevicePlatforms\\\":[\\\"Android\\\",\\\"iOS\\\",\\\"macOS\\\"]}]},\\\"ClientTypes\\\":{\\\"Include\\\":[{\\\"ClientTypes\\\":[\\\"Browser\\\",\\\"Native\\\"]}]}},\\\"Controls\\\":[{\\\"Control\\\":[\\\"Mfa\\\",\\\"RequireCompliantDevice\\\"]}]}', 'PolicyLastUpdatedTime': '8/10/2020 5:20:08 AM', 'TenantDefaultPolicy': '', 'DisplayName': 'Yanivsh -CA Test', 'PolicyIdentifierString': ''})\"],[\"Cmd(name='Set-ConditionalAccessPolicy', params={'Identity': 'seccxpninja.onmicrosoft.com\\\\\\\\8872f6fb-da88-4b63-bcc7-17247669596b', 'PolicyDetails': '{\\\"Version\\\":0,\\\"State\\\":\\\"Enabled\\\",\\\"Conditions\\\":{\\\"Applications\\\":{\\\"Include\\\":[{\\\"Applications\\\":[\\\"00000002-0000-0ff1-ce00-000000000000\\\",\\\"09abbdfd-ed23-44ee-a2d9-a627aa1c90f3\\\",\\\"cc15fd57-2c6c-4117-a88c-83b1d56b4bbe\\\",\\\"00000003-0000-0ff1-ce00-000000000000\\\",\\\"00000005-0000-0ff1-ce00-000000000000\\\"]}]},\\\"Users\\\":{\\\"Include\\\":[{\\\"Users\\\":[\\\"eababd92-9dc7-40e3-9359-6c106522db19\\\"]}]}},\\\"SessionControls\\\":[\\\"CloudAppSecurity\\\"],\\\"PersistentBrowserSessionMode\\\":\\\"NotSet\\\",\\\"EnforceAllPoliciesForEas\\\":false,\\\"IncludeOtherLegacyClientTypeForEvaluation\\\":false,\\\"CasSessionControlType\\\":1}', 'PolicyLastUpdatedTime': '8/11/2020 2:42:39 AM', 'TenantDefaultPolicy': '', 'DisplayName': 'MeganB MCAS Proxy', 'PolicyIdentifierString': ''})\",\"Cmd(name='Set-ConditionalAccessPolicy', params={'Identity': 'seccxpninja.onmicrosoft.com\\\\\\\\3b13ea3c-c733-4eb8-bd19-67d308b2ea04', 'PolicyDetails': '{\\\"Version\\\":0,\\\"CreatedDateTime\\\":\\\"2020-05-19T13:34:15.2394934Z\\\",\\\"ModifiedDateTime\\\":\\\"2020-05-19T13:39:04.7333386Z\\\",\\\"State\\\":\\\"Reporting\\\",\\\"Conditions\\\":{\\\"Applications\\\":{\\\"Include\\\":[{\\\"Applications\\\":[\\\"None\\\"]}]},\\\"Users\\\":{\\\"Include\\\":[{\\\"Users\\\":[\\\"Guests\\\"]}]},\\\"DevicePlatforms\\\":{\\\"Include\\\":[{\\\"DevicePlatforms\\\":[\\\"All\\\"]}],\\\"Exclude\\\":[{\\\"DevicePlatforms\\\":[\\\"Android\\\",\\\"iOS\\\",\\\"macOS\\\"]}]},\\\"ClientTypes\\\":{\\\"Include\\\":[{\\\"ClientTypes\\\":[\\\"Browser\\\",\\\"Native\\\"]}]}},\\\"Controls\\\":[{\\\"Control\\\":[\\\"Mfa\\\",\\\"RequireCompliantDevice\\\"]}]}', 'PolicyLastUpdatedTime': '8/11/2020 2:42:41 AM', 'TenantDefaultPolicy': '', 'DisplayName': 'Yanivsh -CA Test', 'PolicyIdentifierString': ''})\"],[\"Cmd(name='Set-ConditionalAccessPolicy', params={'Identity': 'seccxpninja.onmicrosoft.com\\\\\\\\8837fdaa-aaeb-4432-9622-43f6f583d583', 'PolicyDetails': '{\\\"KnownNetworkPolicies\\\":{\\\"NetworkName\\\":\\\"BE-Office\\\",\\\"NetworkId\\\":\\\"b98b9088-ce88-4fae-80fb-5b58cb1ce685\\\",\\\"CidrIpRanges\\\":[\\\"109.88.218.99/28\\\"],\\\"CountryIsoCodes\\\":null,\\\"Categories\\\":[],\\\"ApplyToUnknownCountry\\\":false}}', 'PolicyLastUpdatedTime': '8/11/2020 5:02:25 AM', 'TenantDefaultPolicy': '6', 'DisplayName': 'Known Networks List', 'PolicyIdentifierString': '3/19/2020 7:45:08 PM'})\",\"Cmd(name='Set-ConditionalAccessPolicy', params={'Identity': 'seccxpninja.onmicrosoft.com\\\\\\\\e183bd29-a3a3-4f91-a5a3-b83b21a544df', 'PolicyDetails': '{\\\"Version\\\":0,\\\"State\\\":\\\"Enabled\\\",\\\"Conditions\\\":{\\\"Applications\\\":{\\\"Include\\\":[{\\\"Applications\\\":[\\\"00000002-0000-0ff1-ce00-000000000000\\\"]}]},\\\"Users\\\":{\\\"Include\\\":[{\\\"Users\\\":[\\\"2935e535-8fdf-4217-865b-e084cb7214f1\\\"]}]}},\\\"SessionControls\\\":[\\\"AppEnforcedRestrictions\\\"],\\\"PersistentBrowserSessionMode\\\":\\\"NotSet\\\",\\\"EnforceAllPoliciesForEas\\\":false,\\\"IncludeOtherLegacyClientTypeForEvaluation\\\":false}', 'PolicyLastUpdatedTime': '8/11/2020 5:02:24 AM', 'TenantDefaultPolicy': '', 'DisplayName': 'JulianI Exchange native controls', 'PolicyIdentifierString': ''})\"],[\"Cmd(name='Set-ConditionalAccessPolicy', params={'Identity': 'seccxpninja.onmicrosoft.com\\\\\\\\2e76d011-eaa3-40b4-8ce8-7fba52bf3af8', 'PolicyDetails': '{\\\"Version\\\":0,\\\"State\\\":\\\"Reporting\\\",\\\"Conditions\\\":{\\\"Applications\\\":{\\\"Include\\\":[{\\\"Applications\\\":[\\\"f9e8b3d0-ba26-42cd-b544-c90a66191a81\\\"]}]},\\\"Users\\\":{\\\"Include\\\":[{\\\"Users\\\":[\\\"All\\\"]}]}},\\\"SessionControls\\\":[\\\"CloudAppSecurity\\\"],\\\"PersistentBrowserSessionMode\\\":\\\"NotSet\\\",\\\"EnforceAllPoliciesForEas\\\":false,\\\"IncludeOtherLegacyClientTypeForEvaluation\\\":false,\\\"CasSessionControlType\\\":1}', 'PolicyLastUpdatedTime': '8/12/2020 1:44:50 AM', 'TenantDefaultPolicy': '', 'DisplayName': 'On-Prem SharePoint - MeganB proxy', 'PolicyIdentifierString': ''})\",\"Cmd(name='Set-ConditionalAccessPolicy', params={'Identity': 'seccxpninja.onmicrosoft.com\\\\\\\\8837fdaa-aaeb-4432-9622-43f6f583d583', 'PolicyDetails': '{\\\"KnownNetworkPolicies\\\":{\\\"NetworkName\\\":\\\"BE-Office\\\",\\\"NetworkId\\\":\\\"b98b9088-ce88-4fae-80fb-5b58cb1ce685\\\",\\\"CidrIpRanges\\\":[\\\"109.88.218.99/28\\\"],\\\"CountryIsoCodes\\\":null,\\\"Categories\\\":[],\\\"ApplyToUnknownCountry\\\":false}}', 'PolicyLastUpdatedTime': '8/12/2020 1:44:50 AM', 'TenantDefaultPolicy': '6', 'DisplayName': 'Known Networks List', 'PolicyIdentifierString': '3/19/2020 7:45:08 PM'})\"],[\"Cmd(name='Set-ConditionalAccessPolicy', params={'Identity': 'seccxpninja.onmicrosoft.com\\\\\\\\3b13ea3c-c733-4eb8-bd19-67d308b2ea04', 'PolicyDetails': '{\\\"Version\\\":0,\\\"CreatedDateTime\\\":\\\"2020-05-19T13:34:15.2394934Z\\\",\\\"ModifiedDateTime\\\":\\\"2020-05-19T13:39:04.7333386Z\\\",\\\"State\\\":\\\"Reporting\\\",\\\"Conditions\\\":{\\\"Applications\\\":{\\\"Include\\\":[{\\\"Applications\\\":[\\\"None\\\"]}]},\\\"Users\\\":{\\\"Include\\\":[{\\\"Users\\\":[\\\"Guests\\\"]}]},\\\"DevicePlatforms\\\":{\\\"Include\\\":[{\\\"DevicePlatforms\\\":[\\\"All\\\"]}],\\\"Exclude\\\":[{\\\"DevicePlatforms\\\":[\\\"Android\\\",\\\"iOS\\\",\\\"macOS\\\"]}]},\\\"ClientTypes\\\":{\\\"Include\\\":[{\\\"ClientTypes\\\":[\\\"Browser\\\",\\\"Native\\\"]}]}},\\\"Controls\\\":[{\\\"Control\\\":[\\\"Mfa\\\",\\\"RequireCompliantDevice\\\"]}]}', 'PolicyLastUpdatedTime': '8/12/2020 5:28:44 AM', 'TenantDefaultPolicy': '', 'DisplayName': 'Yanivsh -CA Test', 'PolicyIdentifierString': ''})\",\"Cmd(name='Set-ConditionalAccessPolicy', params={'Identity': 'seccxpninja.onmicrosoft.com\\\\\\\\6490d00c-7ba1-42cf-aa88-99eb71d53bf7', 'PolicyDetails': '{\\\"Version\\\":0,\\\"LastUpdatedTimestamp\\\":\\\"2020-07-02T12:42:35.1866847Z\\\",\\\"State\\\":\\\"Disabled\\\",\\\"SignInFrequency\\\":\\\"NotSet\\\",\\\"PersistentBrowserSessionMode\\\":\\\"NotSet\\\"}', 'PolicyLastUpdatedTime': '8/12/2020 5:28:44 AM', 'TenantDefaultPolicy': '18', 'DisplayName': 'Default Policy', 'PolicyIdentifierString': '5/19/2020 1:39:05 PM'})\"],[\"Cmd(name='Set-ConditionalAccessPolicy', params={'Identity': 'seccxpninja.onmicrosoft.com\\\\\\\\4c5a5ea0-5d9f-4730-baaa-7a69cf29ef26', 'PolicyDetails': '{\\\"Version\\\":0,\\\"State\\\":\\\"Enabled\\\",\\\"Conditions\\\":{\\\"Applications\\\":{\\\"Include\\\":[{\\\"Applications\\\":[\\\"All\\\"]}]},\\\"Users\\\":{\\\"Include\\\":[{\\\"Users\\\":[\\\"bdb72692-2275-412b-8af0-ea21c2ebd174\\\"]}]}},\\\"Controls\\\":[{\\\"Control\\\":[\\\"Mfa\\\"]}],\\\"PersistentBrowserSessionMode\\\":\\\"NotSet\\\",\\\"EnforceAllPoliciesForEas\\\":false,\\\"IncludeOtherLegacyClientTypeForEvaluation\\\":false}', 'PolicyLastUpdatedTime': '8/13/2020 2:49:19 AM', 'TenantDefaultPolicy': '', 'DisplayName': 'Semolen - Admin MFA', 'PolicyIdentifierString': ''})\",\"Cmd(name='Set-ConditionalAccessPolicy', params={'Identity': 'seccxpninja.onmicrosoft.com\\\\\\\\8872f6fb-da88-4b63-bcc7-17247669596b', 'PolicyDetails': '{\\\"Version\\\":0,\\\"State\\\":\\\"Enabled\\\",\\\"Conditions\\\":{\\\"Applications\\\":{\\\"Include\\\":[{\\\"Applications\\\":[\\\"00000002-0000-0ff1-ce00-000000000000\\\",\\\"09abbdfd-ed23-44ee-a2d9-a627aa1c90f3\\\",\\\"cc15fd57-2c6c-4117-a88c-83b1d56b4bbe\\\",\\\"00000003-0000-0ff1-ce00-000000000000\\\",\\\"00000005-0000-0ff1-ce00-000000000000\\\"]}]},\\\"Users\\\":{\\\"Include\\\":[{\\\"Users\\\":[\\\"eababd92-9dc7-40e3-9359-6c106522db19\\\"]}]}},\\\"SessionControls\\\":[\\\"CloudAppSecurity\\\"],\\\"PersistentBrowserSessionMode\\\":\\\"NotSet\\\",\\\"EnforceAllPoliciesForEas\\\":false,\\\"IncludeOtherLegacyClientTypeForEvaluation\\\":false,\\\"CasSessionControlType\\\":1}', 'PolicyLastUpdatedTime': '8/13/2020 2:49:17 AM', 'TenantDefaultPolicy': '', 'DisplayName': 'MeganB MCAS Proxy', 'PolicyIdentifierString': ''})\"],[\"Cmd(name='Set-ConditionalAccessPolicy', params={'Identity': 'seccxpninja.onmicrosoft.com\\\\\\\\8872f6fb-da88-4b63-bcc7-17247669596b', 'PolicyDetails': '{\\\"Version\\\":0,\\\"State\\\":\\\"Enabled\\\",\\\"Conditions\\\":{\\\"Applications\\\":{\\\"Include\\\":[{\\\"Applications\\\":[\\\"00000002-0000-0ff1-ce00-000000000000\\\",\\\"09abbdfd-ed23-44ee-a2d9-a627aa1c90f3\\\",\\\"cc15fd57-2c6c-4117-a88c-83b1d56b4bbe\\\",\\\"00000003-0000-0ff1-ce00-000000000000\\\",\\\"00000005-0000-0ff1-ce00-000000000000\\\"]}]},\\\"Users\\\":{\\\"Include\\\":[{\\\"Users\\\":[\\\"eababd92-9dc7-40e3-9359-6c106522db19\\\"]}]}},\\\"SessionControls\\\":[\\\"CloudAppSecurity\\\"],\\\"PersistentBrowserSessionMode\\\":\\\"NotSet\\\",\\\"EnforceAllPoliciesForEas\\\":false,\\\"IncludeOtherLegacyClientTypeForEvaluation\\\":false,\\\"CasSessionControlType\\\":1}', 'PolicyLastUpdatedTime': '8/13/2020 5:26:09 AM', 'TenantDefaultPolicy': '', 'DisplayName': 'MeganB MCAS Proxy', 'PolicyIdentifierString': ''})\",\"Cmd(name='Set-ConditionalAccessPolicy', params={'Identity': 'seccxpninja.onmicrosoft.com\\\\\\\\83a057fb-dbca-4ba8-bb5f-0ce6d6e7cff5', 'PolicyDetails': '{\\\"Version\\\":0,\\\"State\\\":\\\"Enabled\\\",\\\"Conditions\\\":{\\\"Applications\\\":{\\\"Include\\\":[{\\\"Acrs\\\":[\\\"urn:microsoft:req1\\\"]}]},\\\"Users\\\":{\\\"Include\\\":[{\\\"Users\\\":[\\\"eababd92-9dc7-40e3-9359-6c106522db19\\\"]}]}},\\\"Controls\\\":[{\\\"Control\\\":[\\\"Mfa\\\"]}],\\\"PersistentBrowserSessionMode\\\":\\\"NotSet\\\",\\\"EnforceAllPoliciesForEas\\\":false,\\\"IncludeOtherLegacyClientTypeForEvaluation\\\":false}', 'PolicyLastUpdatedTime': '8/13/2020 5:26:10 AM', 'TenantDefaultPolicy': '', 'DisplayName': 'MeganB MCAS Step-up', 'PolicyIdentifierString': ''})\"],[\"Cmd(name='Set-ConditionalAccessPolicy', params={'Identity': 'seccxpninja.onmicrosoft.com\\\\\\\\5fd0c4ff-1cd7-4bf6-8607-294a04f58f12', 'PolicyDetails': '{\\\"Version\\\":0,\\\"State\\\":\\\"Disabled\\\",\\\"Conditions\\\":{\\\"Applications\\\":{\\\"Include\\\":[{\\\"Applications\\\":[\\\"All\\\"]}]},\\\"Users\\\":{\\\"Include\\\":[{\\\"Users\\\":[\\\"142512c7-f006-46ae-909c-14fa7bf6a887\\\"]}]}},\\\"Controls\\\":[{\\\"Control\\\":[\\\"Mfa\\\"]}],\\\"EnforceAllPoliciesForEas\\\":false,\\\"IncludeOtherLegacyClientTypeForEvaluation\\\":false}', 'PolicyLastUpdatedTime': '8/14/2020 2:18:53 AM', 'TenantDefaultPolicy': '', 'DisplayName': 'Azure MFA', 'PolicyIdentifierString': ''})\",\"Cmd(name='Set-ConditionalAccessPolicy', params={'Identity': 'seccxpninja.onmicrosoft.com\\\\\\\\3b13ea3c-c733-4eb8-bd19-67d308b2ea04', 'PolicyDetails': '{\\\"Version\\\":0,\\\"CreatedDateTime\\\":\\\"2020-05-19T13:34:15.2394934Z\\\",\\\"ModifiedDateTime\\\":\\\"2020-05-19T13:39:04.7333386Z\\\",\\\"State\\\":\\\"Reporting\\\",\\\"Conditions\\\":{\\\"Applications\\\":{\\\"Include\\\":[{\\\"Applications\\\":[\\\"None\\\"]}]},\\\"Users\\\":{\\\"Include\\\":[{\\\"Users\\\":[\\\"Guests\\\"]}]},\\\"DevicePlatforms\\\":{\\\"Include\\\":[{\\\"DevicePlatforms\\\":[\\\"All\\\"]}],\\\"Exclude\\\":[{\\\"DevicePlatforms\\\":[\\\"Android\\\",\\\"iOS\\\",\\\"macOS\\\"]}]},\\\"ClientTypes\\\":{\\\"Include\\\":[{\\\"ClientTypes\\\":[\\\"Browser\\\",\\\"Native\\\"]}]}},\\\"Controls\\\":[{\\\"Control\\\":[\\\"Mfa\\\",\\\"RequireCompliantDevice\\\"]}]}', 'PolicyLastUpdatedTime': '8/14/2020 2:18:54 AM', 'TenantDefaultPolicy': '', 'DisplayName': 'Yanivsh -CA Test', 'PolicyIdentifierString': ''})\"],[\"Cmd(name='Set-ConditionalAccessPolicy', params={'Identity': 'seccxpninja.onmicrosoft.com\\\\\\\\2e76d011-eaa3-40b4-8ce8-7fba52bf3af8', 'PolicyDetails': '{\\\"Version\\\":0,\\\"State\\\":\\\"Reporting\\\",\\\"Conditions\\\":{\\\"Applications\\\":{\\\"Include\\\":[{\\\"Applications\\\":[\\\"f9e8b3d0-ba26-42cd-b544-c90a66191a81\\\"]}]},\\\"Users\\\":{\\\"Include\\\":[{\\\"Users\\\":[\\\"All\\\"]}]}},\\\"SessionControls\\\":[\\\"CloudAppSecurity\\\"],\\\"PersistentBrowserSessionMode\\\":\\\"NotSet\\\",\\\"EnforceAllPoliciesForEas\\\":false,\\\"IncludeOtherLegacyClientTypeForEvaluation\\\":false,\\\"CasSessionControlType\\\":1}', 'PolicyLastUpdatedTime': '8/14/2020 5:38:47 AM', 'TenantDefaultPolicy': '', 'DisplayName': 'On-Prem SharePoint - MeganB proxy', 'PolicyIdentifierString': ''})\",\"Cmd(name='Set-ConditionalAccessPolicy', params={'Identity': 'seccxpninja.onmicrosoft.com\\\\\\\\8837fdaa-aaeb-4432-9622-43f6f583d583', 'PolicyDetails': '{\\\"KnownNetworkPolicies\\\":{\\\"NetworkName\\\":\\\"BE-Office\\\",\\\"NetworkId\\\":\\\"b98b9088-ce88-4fae-80fb-5b58cb1ce685\\\",\\\"CidrIpRanges\\\":[\\\"109.88.218.99/28\\\"],\\\"CountryIsoCodes\\\":null,\\\"Categories\\\":[],\\\"ApplyToUnknownCountry\\\":false}}', 'PolicyLastUpdatedTime': '8/14/2020 5:38:49 AM', 'TenantDefaultPolicy': '6', 'DisplayName': 'Known Networks List', 'PolicyIdentifierString': '3/19/2020 7:45:08 PM'})\"],[\"Cmd(name='Set-ConditionalAccessPolicy', params={'Identity': 'seccxpninja.onmicrosoft.com\\\\\\\\3b13ea3c-c733-4eb8-bd19-67d308b2ea04', 'PolicyDetails': '{\\\"Version\\\":0,\\\"CreatedDateTime\\\":\\\"2020-05-19T13:34:15.2394934Z\\\",\\\"ModifiedDateTime\\\":\\\"2020-05-19T13:39:04.7333386Z\\\",\\\"State\\\":\\\"Reporting\\\",\\\"Conditions\\\":{\\\"Applications\\\":{\\\"Include\\\":[{\\\"Applications\\\":[\\\"None\\\"]}]},\\\"Users\\\":{\\\"Include\\\":[{\\\"Users\\\":[\\\"Guests\\\"]}]},\\\"DevicePlatforms\\\":{\\\"Include\\\":[{\\\"DevicePlatforms\\\":[\\\"All\\\"]}],\\\"Exclude\\\":[{\\\"DevicePlatforms\\\":[\\\"Android\\\",\\\"iOS\\\",\\\"macOS\\\"]}]},\\\"ClientTypes\\\":{\\\"Include\\\":[{\\\"ClientTypes\\\":[\\\"Browser\\\",\\\"Native\\\"]}]}},\\\"Controls\\\":[{\\\"Control\\\":[\\\"Mfa\\\",\\\"RequireCompliantDevice\\\"]}]}', 'PolicyLastUpdatedTime': '8/16/2020 1:57:15 AM', 'TenantDefaultPolicy': '', 'DisplayName': 'Yanivsh -CA Test', 'PolicyIdentifierString': ''})\",\"Cmd(name='Set-ConditionalAccessPolicy', params={'Identity': 'seccxpninja.onmicrosoft.com\\\\\\\\83a057fb-dbca-4ba8-bb5f-0ce6d6e7cff5', 'PolicyDetails': '{\\\"Version\\\":0,\\\"State\\\":\\\"Enabled\\\",\\\"Conditions\\\":{\\\"Applications\\\":{\\\"Include\\\":[{\\\"Acrs\\\":[\\\"urn:microsoft:req1\\\"]}]},\\\"Users\\\":{\\\"Include\\\":[{\\\"Users\\\":[\\\"eababd92-9dc7-40e3-9359-6c106522db19\\\"]}]}},\\\"Controls\\\":[{\\\"Control\\\":[\\\"Mfa\\\"]}],\\\"PersistentBrowserSessionMode\\\":\\\"NotSet\\\",\\\"EnforceAllPoliciesForEas\\\":false,\\\"IncludeOtherLegacyClientTypeForEvaluation\\\":false}', 'PolicyLastUpdatedTime': '8/16/2020 1:57:13 AM', 'TenantDefaultPolicy': '', 'DisplayName': 'MeganB MCAS Step-up', 'PolicyIdentifierString': ''})\"],[\"Cmd(name='Set-ConditionalAccessPolicy', params={'Identity': 'seccxpninja.onmicrosoft.com\\\\\\\\83a057fb-dbca-4ba8-bb5f-0ce6d6e7cff5', 'PolicyDetails': '{\\\"Version\\\":0,\\\"State\\\":\\\"Enabled\\\",\\\"Conditions\\\":{\\\"Applications\\\":{\\\"Include\\\":[{\\\"Acrs\\\":[\\\"urn:microsoft:req1\\\"]}]},\\\"Users\\\":{\\\"Include\\\":[{\\\"Users\\\":[\\\"eababd92-9dc7-40e3-9359-6c106522db19\\\"]}]}},\\\"Controls\\\":[{\\\"Control\\\":[\\\"Mfa\\\"]}],\\\"PersistentBrowserSessionMode\\\":\\\"NotSet\\\",\\\"EnforceAllPoliciesForEas\\\":false,\\\"IncludeOtherLegacyClientTypeForEvaluation\\\":false}', 'PolicyLastUpdatedTime': '8/16/2020 5:00:37 AM', 'TenantDefaultPolicy': '', 'DisplayName': 'MeganB MCAS Step-up', 'PolicyIdentifierString': ''})\",\"Cmd(name='Set-ConditionalAccessPolicy', params={'Identity': 'seccxpninja.onmicrosoft.com\\\\\\\\4c5a5ea0-5d9f-4730-baaa-7a69cf29ef26', 'PolicyDetails': '{\\\"Version\\\":0,\\\"State\\\":\\\"Enabled\\\",\\\"Conditions\\\":{\\\"Applications\\\":{\\\"Include\\\":[{\\\"Applications\\\":[\\\"All\\\"]}]},\\\"Users\\\":{\\\"Include\\\":[{\\\"Users\\\":[\\\"bdb72692-2275-412b-8af0-ea21c2ebd174\\\"]}]}},\\\"Controls\\\":[{\\\"Control\\\":[\\\"Mfa\\\"]}],\\\"PersistentBrowserSessionMode\\\":\\\"NotSet\\\",\\\"EnforceAllPoliciesForEas\\\":false,\\\"IncludeOtherLegacyClientTypeForEvaluation\\\":false}', 'PolicyLastUpdatedTime': '8/16/2020 5:00:38 AM', 'TenantDefaultPolicy': '', 'DisplayName': 'Semolen - Admin MFA', 'PolicyIdentifierString': ''})\"],[\"Cmd(name='Set-ConditionalAccessPolicy', params={'Identity': 'seccxpninja.onmicrosoft.com\\\\\\\\5fd0c4ff-1cd7-4bf6-8607-294a04f58f12', 'PolicyDetails': '{\\\"Version\\\":0,\\\"State\\\":\\\"Disabled\\\",\\\"Conditions\\\":{\\\"Applications\\\":{\\\"Include\\\":[{\\\"Applications\\\":[\\\"All\\\"]}]},\\\"Users\\\":{\\\"Include\\\":[{\\\"Users\\\":[\\\"142512c7-f006-46ae-909c-14fa7bf6a887\\\"]}]}},\\\"Controls\\\":[{\\\"Control\\\":[\\\"Mfa\\\"]}],\\\"EnforceAllPoliciesForEas\\\":false,\\\"IncludeOtherLegacyClientTypeForEvaluation\\\":false}', 'PolicyLastUpdatedTime': '8/17/2020 1:59:56 AM', 'TenantDefaultPolicy': '', 'DisplayName': 'Azure MFA', 'PolicyIdentifierString': ''})\",\"Cmd(name='Set-ConditionalAccessPolicy', params={'Identity': 'seccxpninja.onmicrosoft.com\\\\\\\\235bec94-f744-48ac-8314-5675953d2def', 'PolicyDetails': '{\\\"Version\\\":0,\\\"State\\\":\\\"Disabled\\\",\\\"Conditions\\\":{\\\"Applications\\\":{\\\"Include\\\":[{\\\"Applications\\\":[\\\"All\\\"]}]},\\\"Users\\\":{\\\"Include\\\":[{\\\"Users\\\":[\\\"eababd92-9dc7-40e3-9359-6c106522db19\\\"]}]},\\\"DevicePlatforms\\\":{\\\"Include\\\":[{\\\"DevicePlatforms\\\":[\\\"All\\\"]}],\\\"Exclude\\\":[{\\\"DevicePlatforms\\\":[\\\"macOS\\\"]}]}},\\\"Controls\\\":[{\\\"Control\\\":[\\\"Mfa\\\"]}],\\\"PersistentBrowserSessionMode\\\":\\\"NotSet\\\",\\\"EnforceAllPoliciesForEas\\\":false,\\\"IncludeOtherLegacyClientTypeForEvaluation\\\":false}', 'PolicyLastUpdatedTime': '8/17/2020 1:59:55 AM', 'TenantDefaultPolicy': '', 'DisplayName': 'Megan MFA demo', 'PolicyIdentifierString': ''})\"],[\"Cmd(name='Set-ConditionalAccessPolicy', params={'Identity': 'seccxpninja.onmicrosoft.com\\\\\\\\3b13ea3c-c733-4eb8-bd19-67d308b2ea04', 'PolicyDetails': '{\\\"Version\\\":0,\\\"CreatedDateTime\\\":\\\"2020-05-19T13:34:15.2394934Z\\\",\\\"ModifiedDateTime\\\":\\\"2020-05-19T13:39:04.7333386Z\\\",\\\"State\\\":\\\"Reporting\\\",\\\"Conditions\\\":{\\\"Applications\\\":{\\\"Include\\\":[{\\\"Applications\\\":[\\\"None\\\"]}]},\\\"Users\\\":{\\\"Include\\\":[{\\\"Users\\\":[\\\"Guests\\\"]}]},\\\"DevicePlatforms\\\":{\\\"Include\\\":[{\\\"DevicePlatforms\\\":[\\\"All\\\"]}],\\\"Exclude\\\":[{\\\"DevicePlatforms\\\":[\\\"Android\\\",\\\"iOS\\\",\\\"macOS\\\"]}]},\\\"ClientTypes\\\":{\\\"Include\\\":[{\\\"ClientTypes\\\":[\\\"Browser\\\",\\\"Native\\\"]}]}},\\\"Controls\\\":[{\\\"Control\\\":[\\\"Mfa\\\",\\\"RequireCompliantDevice\\\"]}]}', 'PolicyLastUpdatedTime': '8/17/2020 5:14:40 AM', 'TenantDefaultPolicy': '', 'DisplayName': 'Yanivsh -CA Test', 'PolicyIdentifierString': ''})\",\"Cmd(name='Set-ConditionalAccessPolicy', params={'Identity': 'seccxpninja.onmicrosoft.com\\\\\\\\ba36f0a4-6d73-4ba4-9282-3b3c14575e36', 'PolicyDetails': '{\\\"Version\\\":0,\\\"ModifiedDateTime\\\":\\\"2020-05-19T13:31:41.7083504Z\\\",\\\"State\\\":\\\"Disabled\\\",\\\"Conditions\\\":{\\\"Applications\\\":{\\\"Include\\\":[{\\\"Applications\\\":[\\\"00000002-0000-0ff1-ce00-000000000000\\\",\\\"00000003-0000-0ff1-ce00-000000000000\\\"]}]},\\\"Users\\\":{\\\"Include\\\":[{\\\"Users\\\":[\\\"2935e535-8fdf-4217-865b-e084cb7214f1\\\"]}]},\\\"DevicePlatforms\\\":{\\\"Include\\\":[{\\\"DevicePlatforms\\\":[\\\"All\\\"]}],\\\"Exclude\\\":[{\\\"DevicePlatforms\\\":[\\\"Android\\\",\\\"iOS\\\",\\\"macOS\\\"]}]},\\\"ClientTypes\\\":{\\\"Include\\\":[{\\\"ClientTypes\\\":[\\\"Browser\\\",\\\"Native\\\"]}]}},\\\"SessionControls\\\":[\\\"CloudAppSecurity\\\"],\\\"CasSessionControlType\\\":1}', 'PolicyLastUpdatedTime': '8/17/2020 5:14:39 AM', 'TenantDefaultPolicy': '', 'DisplayName': 'Block Access JulianI', 'PolicyIdentifierString': ''})\"],[\"Cmd(name='Set-ConditionalAccessPolicy', params={'Identity': 'seccxpninja.onmicrosoft.com\\\\\\\\b2915792-0396-4abe-94ec-e17fa17243c5', 'PolicyDetails': '{\\\"Version\\\":0,\\\"State\\\":\\\"Enabled\\\",\\\"Conditions\\\":{\\\"Applications\\\":{\\\"Include\\\":[{\\\"Applications\\\":[\\\"94c63fef-13a3-47bc-8074-75af8c65887a\\\",\\\"c9a559d2-7aab-4f13-a6ed-e7e9c52aec87\\\"]}]},\\\"Users\\\":{\\\"Include\\\":[{\\\"Users\\\":[\\\"bdb72692-2275-412b-8af0-ea21c2ebd174\\\",\\\"eababd92-9dc7-40e3-9359-6c106522db19\\\"]}]},\\\"SignInRisks\\\":{\\\"Include\\\":[{\\\"SignInRisks\\\":[\\\"High\\\",\\\"Medium\\\",\\\"Low\\\"]}]}},\\\"SessionControls\\\":[\\\"CloudAppSecurity\\\"],\\\"PersistentBrowserSessionMode\\\":\\\"NotSet\\\",\\\"EnforceAllPoliciesForEas\\\":false,\\\"IncludeOtherLegacyClientTypeForEvaluation\\\":false,\\\"CasSessionControlType\\\":3}', 'PolicyLastUpdatedTime': '8/18/2020 2:24:12 AM', 'TenantDefaultPolicy': '', 'DisplayName': 'GBB demo', 'PolicyIdentifierString': ''})\",\"Cmd(name='Set-ConditionalAccessPolicy', params={'Identity': 'seccxpninja.onmicrosoft.com\\\\\\\\235bec94-f744-48ac-8314-5675953d2def', 'PolicyDetails': '{\\\"Version\\\":0,\\\"State\\\":\\\"Disabled\\\",\\\"Conditions\\\":{\\\"Applications\\\":{\\\"Include\\\":[{\\\"Applications\\\":[\\\"All\\\"]}]},\\\"Users\\\":{\\\"Include\\\":[{\\\"Users\\\":[\\\"eababd92-9dc7-40e3-9359-6c106522db19\\\"]}]},\\\"DevicePlatforms\\\":{\\\"Include\\\":[{\\\"DevicePlatforms\\\":[\\\"All\\\"]}],\\\"Exclude\\\":[{\\\"DevicePlatforms\\\":[\\\"macOS\\\"]}]}},\\\"Controls\\\":[{\\\"Control\\\":[\\\"Mfa\\\"]}],\\\"PersistentBrowserSessionMode\\\":\\\"NotSet\\\",\\\"EnforceAllPoliciesForEas\\\":false,\\\"IncludeOtherLegacyClientTypeForEvaluation\\\":false}', 'PolicyLastUpdatedTime': '8/18/2020 2:24:11 AM', 'TenantDefaultPolicy': '', 'DisplayName': 'Megan MFA demo', 'PolicyIdentifierString': ''})\"],[\"Cmd(name='Set-ConditionalAccessPolicy', params={'Identity': 'seccxpninja.onmicrosoft.com\\\\\\\\bcd93f74-64fd-4042-a3ae-ee6d48886d6d', 'PolicyDetails': '{\\\"Version\\\":0,\\\"State\\\":\\\"Enabled\\\",\\\"Conditions\\\":{\\\"Applications\\\":{\\\"Include\\\":[{\\\"Applications\\\":[\\\"c9a559d2-7aab-4f13-a6ed-e7e9c52aec87\\\"]}]},\\\"Users\\\":{\\\"Include\\\":[{\\\"Users\\\":[\\\"bdb72692-2275-412b-8af0-ea21c2ebd174\\\",\\\"eababd92-9dc7-40e3-9359-6c106522db19\\\"]}]}},\\\"SessionControls\\\":[\\\"CloudAppSecurity\\\"],\\\"PersistentBrowserSessionMode\\\":\\\"NotSet\\\",\\\"EnforceAllPoliciesForEas\\\":false,\\\"IncludeOtherLegacyClientTypeForEvaluation\\\":false,\\\"CasSessionControlType\\\":3}', 'PolicyLastUpdatedTime': '8/18/2020 2:24:11 AM', 'TenantDefaultPolicy': '', 'DisplayName': 'Form MCAS', 'PolicyIdentifierString': ''})\",\"Cmd(name='Set-ConditionalAccessPolicy', params={'Identity': 'seccxpninja.onmicrosoft.com\\\\\\\\bcd93f74-64fd-4042-a3ae-ee6d48886d6d', 'PolicyDetails': '{\\\"Version\\\":0,\\\"State\\\":\\\"Enabled\\\",\\\"Conditions\\\":{\\\"Applications\\\":{\\\"Include\\\":[{\\\"Applications\\\":[\\\"c9a559d2-7aab-4f13-a6ed-e7e9c52aec87\\\"]}]},\\\"Users\\\":{\\\"Include\\\":[{\\\"Users\\\":[\\\"bdb72692-2275-412b-8af0-ea21c2ebd174\\\",\\\"eababd92-9dc7-40e3-9359-6c106522db19\\\"]}]}},\\\"SessionControls\\\":[\\\"CloudAppSecurity\\\"],\\\"PersistentBrowserSessionMode\\\":\\\"NotSet\\\",\\\"EnforceAllPoliciesForEas\\\":false,\\\"IncludeOtherLegacyClientTypeForEvaluation\\\":false,\\\"CasSessionControlType\\\":3}', 'PolicyLastUpdatedTime': '8/18/2020 2:24:11 AM', 'TenantDefaultPolicy': '', 'DisplayName': 'Form MCAS', 'PolicyIdentifierString': ''})\"],[\"Cmd(name='Set-ConditionalAccessPolicy', params={'Identity': 'seccxpninja.onmicrosoft.com\\\\\\\\8837fdaa-aaeb-4432-9622-43f6f583d583', 'PolicyDetails': '{\\\"KnownNetworkPolicies\\\":{\\\"NetworkName\\\":\\\"BE-Office\\\",\\\"NetworkId\\\":\\\"b98b9088-ce88-4fae-80fb-5b58cb1ce685\\\",\\\"CidrIpRanges\\\":[\\\"109.88.218.99/28\\\"],\\\"CountryIsoCodes\\\":null,\\\"Categories\\\":[],\\\"ApplyToUnknownCountry\\\":false}}', 'PolicyLastUpdatedTime': '8/18/2020 5:19:26 AM', 'TenantDefaultPolicy': '6', 'DisplayName': 'Known Networks List', 'PolicyIdentifierString': '3/19/2020 7:45:08 PM'})\",\"Cmd(name='Set-ConditionalAccessPolicy', params={'Identity': 'seccxpninja.onmicrosoft.com\\\\\\\\bcd93f74-64fd-4042-a3ae-ee6d48886d6d', 'PolicyDetails': '{\\\"Version\\\":0,\\\"State\\\":\\\"Enabled\\\",\\\"Conditions\\\":{\\\"Applications\\\":{\\\"Include\\\":[{\\\"Applications\\\":[\\\"c9a559d2-7aab-4f13-a6ed-e7e9c52aec87\\\"]}]},\\\"Users\\\":{\\\"Include\\\":[{\\\"Users\\\":[\\\"bdb72692-2275-412b-8af0-ea21c2ebd174\\\",\\\"eababd92-9dc7-40e3-9359-6c106522db19\\\"]}]}},\\\"SessionControls\\\":[\\\"CloudAppSecurity\\\"],\\\"PersistentBrowserSessionMode\\\":\\\"NotSet\\\",\\\"EnforceAllPoliciesForEas\\\":false,\\\"IncludeOtherLegacyClientTypeForEvaluation\\\":false,\\\"CasSessionControlType\\\":3}', 'PolicyLastUpdatedTime': '8/18/2020 5:19:23 AM', 'TenantDefaultPolicy': '', 'DisplayName': 'Form MCAS', 'PolicyIdentifierString': ''})\"],[\"Cmd(name='Set-ConditionalAccessPolicy', params={'Identity': 'seccxpninja.onmicrosoft.com\\\\\\\\8837fdaa-aaeb-4432-9622-43f6f583d583', 'PolicyDetails': '{\\\"KnownNetworkPolicies\\\":{\\\"NetworkName\\\":\\\"BE-Office\\\",\\\"NetworkId\\\":\\\"b98b9088-ce88-4fae-80fb-5b58cb1ce685\\\",\\\"CidrIpRanges\\\":[\\\"109.88.218.99/28\\\"],\\\"CountryIsoCodes\\\":null,\\\"Categories\\\":[],\\\"ApplyToUnknownCountry\\\":false}}', 'PolicyLastUpdatedTime': '8/19/2020 2:29:04 AM', 'TenantDefaultPolicy': '6', 'DisplayName': 'Known Networks List', 'PolicyIdentifierString': '3/19/2020 7:45:08 PM'})\",\"Cmd(name='Set-ConditionalAccessPolicy', params={'Identity': 'seccxpninja.onmicrosoft.com\\\\\\\\69c7a12f-b407-45a3-b07e-fa04fc7f273d', 'PolicyDetails': '{\\\"Version\\\":0,\\\"State\\\":\\\"Enabled\\\",\\\"Conditions\\\":{\\\"Applications\\\":{\\\"Include\\\":[{\\\"Applications\\\":[\\\"00000003-0000-0ff1-ce00-000000000000\\\"]}]},\\\"Users\\\":{\\\"Include\\\":[{\\\"Users\\\":[\\\"All\\\"]}]}},\\\"SessionControls\\\":[\\\"CloudAppSecurity\\\"],\\\"PersistentBrowserSessionMode\\\":\\\"NotSet\\\",\\\"EnforceAllPoliciesForEas\\\":false,\\\"IncludeOtherLegacyClientTypeForEvaluation\\\":false,\\\"CasSessionControlType\\\":1}', 'PolicyLastUpdatedTime': '8/19/2020 2:29:03 AM', 'TenantDefaultPolicy': '', 'DisplayName': 'Test Policy', 'PolicyIdentifierString': ''})\"],[\"Cmd(name='Set-ConditionalAccessPolicy', params={'Identity': 'seccxpninja.onmicrosoft.com\\\\\\\\3b13ea3c-c733-4eb8-bd19-67d308b2ea04', 'PolicyDetails': '{\\\"Version\\\":0,\\\"CreatedDateTime\\\":\\\"2020-05-19T13:34:15.2394934Z\\\",\\\"ModifiedDateTime\\\":\\\"2020-05-19T13:39:04.7333386Z\\\",\\\"State\\\":\\\"Reporting\\\",\\\"Conditions\\\":{\\\"Applications\\\":{\\\"Include\\\":[{\\\"Applications\\\":[\\\"None\\\"]}]},\\\"Users\\\":{\\\"Include\\\":[{\\\"Users\\\":[\\\"Guests\\\"]}]},\\\"DevicePlatforms\\\":{\\\"Include\\\":[{\\\"DevicePlatforms\\\":[\\\"All\\\"]}],\\\"Exclude\\\":[{\\\"DevicePlatforms\\\":[\\\"Android\\\",\\\"iOS\\\",\\\"macOS\\\"]}]},\\\"ClientTypes\\\":{\\\"Include\\\":[{\\\"ClientTypes\\\":[\\\"Browser\\\",\\\"Native\\\"]}]}},\\\"Controls\\\":[{\\\"Control\\\":[\\\"Mfa\\\",\\\"RequireCompliantDevice\\\"]}]}', 'PolicyLastUpdatedTime': '8/19/2020 5:55:34 AM', 'TenantDefaultPolicy': '', 'DisplayName': 'Yanivsh -CA Test', 'PolicyIdentifierString': ''})\",\"Cmd(name='Set-ConditionalAccessPolicy', params={'Identity': 'seccxpninja.onmicrosoft.com\\\\\\\\235bec94-f744-48ac-8314-5675953d2def', 'PolicyDetails': '{\\\"Version\\\":0,\\\"State\\\":\\\"Disabled\\\",\\\"Conditions\\\":{\\\"Applications\\\":{\\\"Include\\\":[{\\\"Applications\\\":[\\\"All\\\"]}]},\\\"Users\\\":{\\\"Include\\\":[{\\\"Users\\\":[\\\"eababd92-9dc7-40e3-9359-6c106522db19\\\"]}]},\\\"DevicePlatforms\\\":{\\\"Include\\\":[{\\\"DevicePlatforms\\\":[\\\"All\\\"]}],\\\"Exclude\\\":[{\\\"DevicePlatforms\\\":[\\\"macOS\\\"]}]}},\\\"Controls\\\":[{\\\"Control\\\":[\\\"Mfa\\\"]}],\\\"PersistentBrowserSessionMode\\\":\\\"NotSet\\\",\\\"EnforceAllPoliciesForEas\\\":false,\\\"IncludeOtherLegacyClientTypeForEvaluation\\\":false}', 'PolicyLastUpdatedTime': '8/19/2020 5:55:31 AM', 'TenantDefaultPolicy': '', 'DisplayName': 'Megan MFA demo', 'PolicyIdentifierString': ''})\"],[\"Cmd(name='Update-RoleGroupMember', params={'Members': 'CBoehmSA;ComplianceAdmins_939735849', 'Identity': 'Compliance Management'})\",\"Cmd(name='Update-RoleGroupMember', params={'Members': 'CBoehmSA', 'Identity': 'Discovery Management'})\",\"Cmd(name='Update-RoleGroupMember', params={'Members': 'CBoehmSA;ComplianceAdmins_939735849', 'Identity': 'Compliance Management'})\"]],\"rarest_window3_likelihood\":{\"__ndarray__\":\"pMNMZgJHVj+fo/MNXnNrP/uhBFXA21c/xXdJN6mCaz/RsX64a1NWP0t+aF9NO2g/pMNMZgJHVj/7oQRVwNtXP25O7nnAX1Y/pMNMZgJHVj+fo/MNXnNrP6TDTGYCR1Y/0bF+uGtTVj/7oQRVwNtXP6TDTGYCR1Y/pMNMZgJHVj+kw0xmAkdWP6TDTGYCR1Y/uZOq5DGydT/RsX64a1NWP/uhBFXA21c/9alw+QBsVj/7oQRVwNtXP9KxfrhrU1Y/bk7uecBfVj9PJZ0yhDpWP08lnTKEOlY/bk7uecBfVj+kw0xmAkdWP08lnTKEOlY/wa3FmuAvaz+mcfvnfnhWP6TDTGYCR1Y/bk7uecBfVj+MLHQADS5WP8V3STepgms/UM7nWmdsaz+kw0xmAkdWPyTwhzf+mXU/pMNMZgJHVj9PJZ0yhDpWP08lnTKEOlY/jCx0AA0uVj/RsX64a1NWPxaGejcoP2s/9alw+QBsVj+kw0xmAkdWPxaGejcoP2s/pMNMZgJHVj9PJZ0yhDpWP0gj/o7mRlY/bk7uecBfVj+kw0xmAkdWP25O7nnAX1Y/TyWdMoQ6Vj+kw0xmAkdWP/uhBFXA21c/0rF+uGtTVj9PJZ0yhDpWP/uhBFXA21c/1mv3NWtdaz9PJZ0yhDpWP0kj/o7mRlY/5xmdI+iEVj+kw0xmAkdWP08lnTKEOlY/9alw+QBsVj+kw0xmAkdWP08lnTKEOlY/+6EEVcDbVz+fo/MNXnNrP9Zr9zVrXWs/SCP+juZGVj9PJZ0yhDpWP29TuwZuX1Y/pMNMZgJHVj+fo/MNXnNrP6dx++d+eFY/2Ptwf+gcgj9uTu55wF9WP25O7nnAX1Y/SSP+juZGVj+MLHQADS5WPxaGejcoP2s/bk7uecBfVj+Uxg7l86BrP7mTquQxsnU/TyWdMoQ6Vj/7oQRVwNtXP8GtxZrgL2s/HGiJCJp4Vj+kw0xmAkdWP/uhBFXA21c/TyWdMoQ6Vj+kw0xmAkdWP6TDTGYCR1Y/+6EEVcDbVz+Uxg7l86BrP25O7nnAX1Y/bk7uecBfVj/7oQRVwNtXP6TDTGYCR1Y/n6PzDV5zaz+fo/MNXnNrPxaGejcoP2s/pnH75354Vj/2PiVmNFNWP5+j8w1ec2s/5xmdI+iEVj+kw0xmAkdWP08lnTKEOlY/TyWdMoQ6Vj/7oQRVwNtXP9GxfrhrU1Y/5xmdI+iEVj/7oQRVwNtXP6dx++d+eFY/cFO7Bm5fVj9PJZ0yhDpWP25O7nnAX1Y/JPCHN/6ZdT+fo/MNXnNrPxaGejcoP2s/lMYO5fOgaz+fo/MNXnNrP25O7nnAX1Y/+6EEVcDbVz/RsX64a1NWP9GxfrhrU1Y/n6PzDV5zaz9Va8op+WNrPzDrS0pWTms/pMNMZgJHVj+kw0xmAkdWP9GxfrhrU1Y/VWvKKfljaz/SsX64a1NWP6TDTGYCR1Y/pMNMZgJHVj9JI/6O5kZWP25O7nnAX1Y/pMNMZgJHVj+fo/MNXnNrP5TGDuXzoGs/0rF+uGtTVj9mFBl9kFHFPg==\",\"dtype\":\"float64\",\"order\":\"little\",\"shape\":[146]},\"time_col\":[\"2020-06-21 02:36:46+00:00\",\"2020-06-21 05:31:34+00:00\",\"2020-06-22 02:27:06+00:00\",\"2020-06-22 02:30:52+00:00\",\"2020-06-22 04:55:59+00:00\",\"2020-06-23 02:31:32+00:00\",\"2020-06-23 05:35:26+00:00\",\"2020-06-24 02:00:55+00:00\",\"2020-06-24 02:06:55+00:00\",\"2020-06-24 05:21:02+00:00\",\"2020-06-25 02:15:42+00:00\",\"2020-06-26 03:41:02+00:00\",\"2020-06-26 06:56:14+00:00\",\"2020-06-27 02:36:03+00:00\",\"2020-06-27 02:40:59+00:00\",\"2020-06-27 05:10:41+00:00\",\"2020-06-28 02:25:45+00:00\",\"2020-06-28 05:25:42+00:00\",\"2020-06-28 05:30:53+00:00\",\"2020-06-29 02:01:49+00:00\",\"2020-06-29 04:50:44+00:00\",\"2020-06-29 04:56:13+00:00\",\"2020-06-30 02:11:11+00:00\",\"2020-06-30 02:16:20+00:00\",\"2020-06-30 05:15:37+00:00\",\"2020-07-01 01:56:06+00:00\",\"2020-07-01 05:20:57+00:00\",\"2020-07-02 02:16:17+00:00\",\"2020-07-02 05:01:42+00:00\",\"2020-07-03 02:38:45+00:00\",\"2020-07-03 05:38:39+00:00\",\"2020-07-04 02:10:37+00:00\",\"2020-07-04 05:06:39+00:00\",\"2020-07-05 02:15:59+00:00\",\"2020-07-05 05:15:54+00:00\",\"2020-07-06 01:51:03+00:00\",\"2020-07-06 04:41:38+00:00\",\"2020-07-07 02:01:28+00:00\",\"2020-07-08 02:40:54+00:00\",\"2020-07-08 05:06:16+00:00\",\"2020-07-09 02:45:55+00:00\",\"2020-07-10 02:55:37+00:00\",\"2020-07-10 05:41:11+00:00\",\"2020-07-11 02:31:00+00:00\",\"2020-07-11 05:11:24+00:00\",\"2020-07-11 05:15:56+00:00\",\"2020-07-12 02:56:23+00:00\",\"2020-07-12 05:40:46+00:00\",\"2020-07-13 03:13:51+00:00\",\"2020-07-13 05:46:02+00:00\",\"2020-07-13 05:51:32+00:00\",\"2020-07-14 03:15:14+00:00\",\"2020-07-14 05:36:52+00:00\",\"2020-07-15 03:00:52+00:00\",\"2020-07-15 05:36:56+00:00\",\"2020-07-16 02:40:40+00:00\",\"2020-07-16 05:06:29+00:00\",\"2020-07-16 05:14:07+00:00\",\"2020-07-17 02:07:43+00:00\",\"2020-07-17 05:06:25+00:00\",\"2020-07-17 05:10:59+00:00\",\"2020-07-18 05:31:05+00:00\",\"2020-07-19 05:46:03+00:00\",\"2020-07-20 02:30:58+00:00\",\"2020-07-20 06:16:41+00:00\",\"2020-07-21 02:16:20+00:00\",\"2020-07-21 05:06:31+00:00\",\"2020-07-22 02:20:45+00:00\",\"2020-07-22 05:21:38+00:00\",\"2020-07-23 02:26:13+00:00\",\"2020-07-23 02:30:51+00:00\",\"2020-07-23 04:30:50+00:00\",\"2020-07-23 05:31:27+00:00\",\"2020-07-24 02:41:29+00:00\",\"2020-07-24 05:05:49+00:00\",\"2020-07-25 02:30:48+00:00\",\"2020-07-25 05:46:32+00:00\",\"2020-07-26 02:41:28+00:00\",\"2020-07-26 02:47:29+00:00\",\"2020-07-26 05:29:37+00:00\",\"2020-07-27 02:16:05+00:00\",\"2020-07-27 05:21:25+00:00\",\"2020-07-28 02:11:05+00:00\",\"2020-07-28 05:31:49+00:00\",\"2020-07-28 05:35:59+00:00\",\"2020-07-28 05:40:57+00:00\",\"2020-07-29 01:51:42+00:00\",\"2020-07-29 02:46:29+00:00\",\"2020-07-29 05:24:14+00:00\",\"2020-07-29 05:26:49+00:00\",\"2020-07-30 02:25:55+00:00\",\"2020-07-30 05:21:00+00:00\",\"2020-07-31 02:45:46+00:00\",\"2020-07-31 02:50:49+00:00\",\"2020-07-31 05:05:42+00:00\",\"2020-08-01 02:35:39+00:00\",\"2020-08-01 05:36:25+00:00\",\"2020-08-01 05:41:31+00:00\",\"2020-08-02 02:21:03+00:00\",\"2020-08-02 05:36:35+00:00\",\"2020-08-03 02:16:00+00:00\",\"2020-08-03 02:21:26+00:00\",\"2020-08-03 05:26:28+00:00\",\"2020-08-04 01:56:07+00:00\",\"2020-08-04 05:46:29+00:00\",\"2020-08-05 02:31:32+00:00\",\"2020-08-05 05:25:34+00:00\",\"2020-08-05 05:51:25+00:00\",\"2020-08-05 08:20:38+00:00\",\"2020-08-05 16:50:31+00:00\",\"2020-08-06 02:25:53+00:00\",\"2020-08-06 05:26:17+00:00\",\"2020-08-06 06:55:49+00:00\",\"2020-08-06 08:16:06+00:00\",\"2020-08-06 20:16:01+00:00\",\"2020-08-06 20:51:13+00:00\",\"2020-08-06 23:11:04+00:00\",\"2020-08-07 03:11:34+00:00\",\"2020-08-07 03:26:13+00:00\",\"2020-08-07 05:41:05+00:00\",\"2020-08-08 02:15:55+00:00\",\"2020-08-08 05:16:44+00:00\",\"2020-08-08 09:36:37+00:00\",\"2020-08-09 01:56:24+00:00\",\"2020-08-09 05:15:38+00:00\",\"2020-08-10 02:36:00+00:00\",\"2020-08-10 05:25:57+00:00\",\"2020-08-10 05:30:33+00:00\",\"2020-08-11 03:04:21+00:00\",\"2020-08-11 05:19:46+00:00\",\"2020-08-12 01:56:17+00:00\",\"2020-08-12 05:36:26+00:00\",\"2020-08-13 02:56:44+00:00\",\"2020-08-13 05:35:54+00:00\",\"2020-08-14 02:32:07+00:00\",\"2020-08-14 05:51:15+00:00\",\"2020-08-16 02:06:26+00:00\",\"2020-08-16 05:11:57+00:00\",\"2020-08-17 02:05:52+00:00\",\"2020-08-17 05:20:45+00:00\",\"2020-08-18 02:32:00+00:00\",\"2020-08-18 02:35:50+00:00\",\"2020-08-18 05:26:24+00:00\",\"2020-08-19 02:36:20+00:00\",\"2020-08-19 06:06:00+00:00\",\"2020-07-29 20:11:27+00:00\"],\"y_index\":[1,1,1,1,1,1,1,1,1,1,1,1,1,1,1,1,1,1,1,1,1,1,1,1,1,1,1,1,1,1,1,1,1,1,1,1,1,1,1,1,1,1,1,1,1,1,1,1,1,1,1,1,1,1,1,1,1,1,1,1,1,1,1,1,1,1,1,1,1,1,1,1,1,1,1,1,1,1,1,1,1,1,1,1,1,1,1,1,1,1,1,1,1,1,1,1,1,1,1,1,1,1,1,1,1,1,1,1,1,1,1,1,1,1,1,1,1,1,1,1,1,1,1,1,1,1,1,1,1,1,1,1,1,1,1,1,1,1,1,1,1,1,1,1,1,1]},\"selected\":{\"id\":\"1484\"},\"selection_policy\":{\"id\":\"1483\"}},\"id\":\"1435\",\"type\":\"ColumnDataSource\"},{\"attributes\":{\"num_minor_ticks\":10,\"tickers\":[{\"id\":\"1486\"},{\"id\":\"1487\"},{\"id\":\"1488\"},{\"id\":\"1489\"},{\"id\":\"1490\"},{\"id\":\"1491\"},{\"id\":\"1492\"},{\"id\":\"1493\"},{\"id\":\"1494\"},{\"id\":\"1495\"},{\"id\":\"1496\"},{\"id\":\"1497\"}]},\"id\":\"1413\",\"type\":\"DatetimeTicker\"},{\"attributes\":{\"overlay\":{\"id\":\"1425\"}},\"id\":\"1421\",\"type\":\"BoxZoomTool\"},{\"attributes\":{},\"id\":\"1498\",\"type\":\"UnionRenderers\"},{\"attributes\":{},\"id\":\"1406\",\"type\":\"DataRange1d\"},{\"attributes\":{\"axis_label\":\"rarest_window3_likelihood\",\"coordinates\":null,\"formatter\":{\"id\":\"1477\"},\"group\":null,\"major_label_policy\":{\"id\":\"1478\"},\"ticker\":{\"id\":\"1417\"}},\"id\":\"1416\",\"type\":\"LinearAxis\"},{\"attributes\":{},\"id\":\"1499\",\"type\":\"Selection\"},{\"attributes\":{\"axis_label\":\"Event Time\",\"coordinates\":null,\"formatter\":{\"id\":\"1433\"},\"group\":null,\"major_label_policy\":{\"id\":\"1480\"},\"ticker\":{\"id\":\"1413\"}},\"id\":\"1412\",\"type\":\"DatetimeAxis\"},{\"attributes\":{\"coordinates\":null,\"group\":null,\"text\":\"Timeline\"},\"id\":\"1402\",\"type\":\"Title\"},{\"attributes\":{},\"id\":\"1408\",\"type\":\"LinearScale\"},{\"attributes\":{\"axis\":{\"id\":\"1412\"},\"coordinates\":null,\"grid_line_alpha\":0.3,\"grid_line_color\":\"navy\",\"group\":null,\"minor_grid_line_alpha\":0.1,\"minor_grid_line_color\":\"navy\",\"ticker\":null},\"id\":\"1415\",\"type\":\"Grid\"},{\"attributes\":{\"axis\":{\"id\":\"1416\"},\"coordinates\":null,\"dimension\":1,\"grid_line_alpha\":0.3,\"grid_line_color\":\"navy\",\"group\":null,\"minor_grid_line_alpha\":0.1,\"minor_grid_line_color\":\"navy\",\"ticker\":null},\"id\":\"1419\",\"type\":\"Grid\"},{\"attributes\":{},\"id\":\"1410\",\"type\":\"LinearScale\"},{\"attributes\":{},\"id\":\"1417\",\"type\":\"BasicTicker\"},{\"attributes\":{\"dimensions\":\"width\"},\"id\":\"1420\",\"type\":\"WheelZoomTool\"},{\"attributes\":{},\"id\":\"1422\",\"type\":\"ResetTool\"},{\"attributes\":{},\"id\":\"1423\",\"type\":\"SaveTool\"},{\"attributes\":{\"mantissas\":[1,2,5],\"max_interval\":500.0,\"num_minor_ticks\":0},\"id\":\"1501\",\"type\":\"AdaptiveTicker\"},{\"attributes\":{\"dimensions\":\"width\"},\"id\":\"1424\",\"type\":\"PanTool\"},{\"attributes\":{\"base\":60,\"mantissas\":[1,2,5,10,15,20,30],\"max_interval\":1800000.0,\"min_interval\":1000.0,\"num_minor_ticks\":0},\"id\":\"1502\",\"type\":\"AdaptiveTicker\"},{\"attributes\":{\"base\":24,\"mantissas\":[1,2,4,6,8,12],\"max_interval\":43200000.0,\"min_interval\":3600000.0,\"num_minor_ticks\":0},\"id\":\"1503\",\"type\":\"AdaptiveTicker\"}],\"root_ids\":[\"1473\"]},\"title\":\"Bokeh Application\",\"version\":\"2.4.2\"}};\n",
       "  const render_items = [{\"docid\":\"d9ee3b18-cfa6-46af-823d-0bb32880e6a5\",\"root_ids\":[\"1473\"],\"roots\":{\"1473\":\"9a1b14ba-35ee-430a-9ff4-9b2de6b701f3\"}}];\n",
       "  root.Bokeh.embed.embed_items_notebook(docs_json, render_items);\n",
       "\n",
       "  }\n",
       "  if (root.Bokeh !== undefined) {\n",
       "    embed_document(root);\n",
       "  } else {\n",
       "    let attempts = 0;\n",
       "    const timer = setInterval(function(root) {\n",
       "      if (root.Bokeh !== undefined) {\n",
       "        clearInterval(timer);\n",
       "        embed_document(root);\n",
       "      } else {\n",
       "        attempts++;\n",
       "        if (attempts > 100) {\n",
       "          clearInterval(timer);\n",
       "          console.log(\"Bokeh: ERROR: Unable to run BokehJS code because BokehJS library is missing\");\n",
       "        }\n",
       "      }\n",
       "    }, 10, root)\n",
       "  }\n",
       "})(window);"
      ],
      "application/vnd.bokehjs_exec.v0+json": ""
     },
     "metadata": {
      "application/vnd.bokehjs_exec.v0+json": {
       "id": "1473"
      }
     },
     "output_type": "display_data"
    }
   ],
   "source": [
    "from msticpy.analysis.anomalous_sequence.utils.data_structures import Cmd\n",
    "from msticpy.analysis.anomalous_sequence import anomalous\n",
    "\n",
    "def process_exchange_session(session_with_params, include_vals):\n",
    "    new_ses = []\n",
    "    for cmd in session_with_params:\n",
    "        c = list(cmd.keys())[0]\n",
    "        par = list(cmd.values())[0]\n",
    "        new_pars = set()\n",
    "        if include_vals:\n",
    "            new_pars = dict()\n",
    "        for p in par:\n",
    "            if include_vals:\n",
    "                new_pars[p['Name']] = p['Value']\n",
    "            else:\n",
    "                new_pars.add(p['Name'])\n",
    "        new_ses.append(Cmd(name=c, params=new_pars))\n",
    "    return new_ses\n",
    "\n",
    "sessions = exchange_df.cmds.values.tolist()\n",
    "param_sessions = []\n",
    "param_value_sessions = []\n",
    "\n",
    "for ses in exchange_df.params.values.tolist():\n",
    "    new_ses_set = process_exchange_session(session_with_params=ses, include_vals=False)\n",
    "    new_ses_dict = process_exchange_session(session_with_params=ses, include_vals=True)\n",
    "    param_sessions.append(new_ses_set)\n",
    "    param_value_sessions.append(new_ses_dict)\n",
    "\n",
    "data = exchange_df\n",
    "data['session'] = sessions\n",
    "data['param_session'] = param_sessions\n",
    "data['param_value_session'] = param_value_sessions\n",
    "\n",
    "modelled_df = anomalous.score_sessions(\n",
    "    data=data,\n",
    "    session_column='param_value_session',\n",
    "    window_length=3\n",
    ")\n",
    "\n",
    "anomalous.visualise_scored_sessions(\n",
    "    data_with_scores=modelled_df,\n",
    "    time_column='begin',  # this will appear on the x-axis\n",
    "    score_column='rarest_window3_likelihood',  # this will appear on the y axis\n",
    "    window_column='rarest_window3',  # this will represent the session in the tool-tips\n",
    "    source_columns=['UserId', 'ClientIP'],  # specify any additional columns to appear in the tool-tips\n",
    ")"
   ]
  },
  {
   "cell_type": "markdown",
   "metadata": {},
   "source": [
    "The events are shown in descending order of likelihood (vertically), so the<br>\n",
    "events at the bottom of the chart are the ones most interesting to us.\n",
    "\n",
    "**Looking at these rare events, we can see potentially suspicious activity changing role memberships.**"
   ]
  },
  {
   "cell_type": "code",
   "execution_count": 13,
   "metadata": {
    "gather": {
     "logged": 1617841520179
    }
   },
   "outputs": [
    {
     "data": {
      "text/html": [
       "<p style='font-weight: bold'>Move the slider to see event sessions below the selected <i>likelihood</i> threshold</p>"
      ],
      "text/plain": [
       "<IPython.core.display.HTML object>"
      ]
     },
     "metadata": {},
     "output_type": "display_data"
    },
    {
     "data": {
      "text/html": [
       "<hr>"
      ],
      "text/plain": [
       "<IPython.core.display.HTML object>"
      ]
     },
     "metadata": {},
     "output_type": "display_data"
    },
    {
     "data": {
      "application/vnd.jupyter.widget-view+json": {
       "model_id": "96094f98b76e4e5b90f30ea2f8361053",
       "version_major": 2,
       "version_minor": 0
      },
      "text/plain": [
       "FloatSlider(value=0.0004446243329172012, description='Select likelihood threshold', layout=Layout(width='60%')â€¦"
      ]
     },
     "metadata": {},
     "output_type": "display_data"
    },
    {
     "data": {
      "text/html": [
       "<hr>"
      ],
      "text/plain": [
       "<IPython.core.display.HTML object>"
      ]
     },
     "metadata": {},
     "output_type": "display_data"
    },
    {
     "data": {
      "text/html": [
       "<p style=''>Range is 0.0000025 (min likelihood) to 0.0088442 (max likelihood)<br><br><hr></p>"
      ],
      "text/plain": [
       "<IPython.core.display.HTML object>"
      ]
     },
     "metadata": {},
     "output_type": "display_data"
    },
    {
     "data": {
      "text/html": [
       "<div>\n",
       "<style scoped>\n",
       "    .dataframe tbody tr th:only-of-type {\n",
       "        vertical-align: middle;\n",
       "    }\n",
       "\n",
       "    .dataframe tbody tr th {\n",
       "        vertical-align: top;\n",
       "    }\n",
       "\n",
       "    .dataframe thead th {\n",
       "        text-align: right;\n",
       "    }\n",
       "</style>\n",
       "<table border=\"1\" class=\"dataframe\">\n",
       "  <thead>\n",
       "    <tr style=\"text-align: right;\">\n",
       "      <th></th>\n",
       "      <th>UserId</th>\n",
       "      <th>ClientIP</th>\n",
       "      <th>nCmds</th>\n",
       "      <th>nDistinctCmds</th>\n",
       "      <th>begin</th>\n",
       "      <th>end</th>\n",
       "      <th>duration</th>\n",
       "      <th>cmds</th>\n",
       "      <th>params</th>\n",
       "      <th>session</th>\n",
       "      <th>param_session</th>\n",
       "      <th>param_value_session</th>\n",
       "      <th>rarest_window3_likelihood</th>\n",
       "      <th>rarest_window3</th>\n",
       "    </tr>\n",
       "  </thead>\n",
       "  <tbody>\n",
       "    <tr>\n",
       "      <th>145</th>\n",
       "      <td>timvic@contoso.onmicrosoft.com</td>\n",
       "      <td>20.185.182.48:37965</td>\n",
       "      <td>6</td>\n",
       "      <td>1</td>\n",
       "      <td>2020-07-29 20:11:27+00:00</td>\n",
       "      <td>2020-07-29 20:11:27+00:00</td>\n",
       "      <td>0 days</td>\n",
       "      <td>[Update-RoleGroupMember, Update-RoleGroupMember, Update-RoleGroupMember, Update-RoleGroupMember,...</td>\n",
       "      <td>[{'Update-RoleGroupMember': [{'Name': 'Members', 'Value': 'CBoehmSA;pcadmin;SecurityAdmins_20075...</td>\n",
       "      <td>[Update-RoleGroupMember, Update-RoleGroupMember, Update-RoleGroupMember, Update-RoleGroupMember,...</td>\n",
       "      <td>[Cmd(name='Update-RoleGroupMember', params={'Members', 'Identity'}), Cmd(name='Update-RoleGroupM...</td>\n",
       "      <td>[Cmd(name='Update-RoleGroupMember', params={'Members': 'CBoehmSA;pcadmin;SecurityAdmins_20075581...</td>\n",
       "      <td>0.000003</td>\n",
       "      <td>[Cmd(name='Update-RoleGroupMember', params={'Members': 'CBoehmSA;ComplianceAdmins_939735849', 'I...</td>\n",
       "    </tr>\n",
       "  </tbody>\n",
       "</table>\n",
       "</div>"
      ],
      "text/plain": [
       "                             UserId             ClientIP  nCmds  \\\n",
       "145  timvic@contoso.onmicrosoft.com  20.185.182.48:37965      6   \n",
       "\n",
       "     nDistinctCmds                     begin                       end  \\\n",
       "145              1 2020-07-29 20:11:27+00:00 2020-07-29 20:11:27+00:00   \n",
       "\n",
       "    duration  \\\n",
       "145   0 days   \n",
       "\n",
       "                                                                                                    cmds  \\\n",
       "145  [Update-RoleGroupMember, Update-RoleGroupMember, Update-RoleGroupMember, Update-RoleGroupMember,...   \n",
       "\n",
       "                                                                                                  params  \\\n",
       "145  [{'Update-RoleGroupMember': [{'Name': 'Members', 'Value': 'CBoehmSA;pcadmin;SecurityAdmins_20075...   \n",
       "\n",
       "                                                                                                 session  \\\n",
       "145  [Update-RoleGroupMember, Update-RoleGroupMember, Update-RoleGroupMember, Update-RoleGroupMember,...   \n",
       "\n",
       "                                                                                           param_session  \\\n",
       "145  [Cmd(name='Update-RoleGroupMember', params={'Members', 'Identity'}), Cmd(name='Update-RoleGroupM...   \n",
       "\n",
       "                                                                                     param_value_session  \\\n",
       "145  [Cmd(name='Update-RoleGroupMember', params={'Members': 'CBoehmSA;pcadmin;SecurityAdmins_20075581...   \n",
       "\n",
       "     rarest_window3_likelihood  \\\n",
       "145                   0.000003   \n",
       "\n",
       "                                                                                          rarest_window3  \n",
       "145  [Cmd(name='Update-RoleGroupMember', params={'Members': 'CBoehmSA;ComplianceAdmins_939735849', 'I...  "
      ]
     },
     "metadata": {},
     "output_type": "display_data"
    }
   ],
   "source": [
    "pd.set_option(\"display.html.table_schema\", False)\n",
    "\n",
    "likelihood_max=modelled_df[\"rarest_window3_likelihood\"].max()\n",
    "likelihood_min=modelled_df[\"rarest_window3_likelihood\"].min()\n",
    "slider_step = (likelihood_max - likelihood_min) / 20\n",
    "start_val = likelihood_min + slider_step\n",
    "threshold = widgets.FloatSlider(\n",
    "    description=\"Select likelihood threshold\",\n",
    "    max=likelihood_max,\n",
    "    min=likelihood_min,\n",
    "    value=start_val,\n",
    "    step=start_val,\n",
    "    layout=widgets.Layout(width=\"60%\"),\n",
    "    style={\"description_width\": \"200px\"},\n",
    "    readout_format=\".7f\"\n",
    ")\n",
    "\n",
    "\n",
    "def show_rows(change):\n",
    "    thresh = change[\"new\"]\n",
    "    pd_disp.update(modelled_df[modelled_df[\"rarest_window3_likelihood\"] < thresh])\n",
    "\n",
    "threshold.observe(show_rows, names=\"value\")\n",
    "md(\"Move the slider to see event sessions below the selected <i>likelihood</i> threshold\", \"bold\")\n",
    "display(HTML(\"<hr>\"))\n",
    "display(threshold)\n",
    "display(HTML(\"<hr>\"))\n",
    "md(f\"Range is {likelihood_min:.7f} (min likelihood) to {likelihood_max:.7f} (max likelihood)<br><br><hr>\")\n",
    "pd_disp = display(\n",
    "    modelled_df[modelled_df[\"rarest_window3_likelihood\"] < start_val],\n",
    "    display_id=True\n",
    ")"
   ]
  },
  {
   "cell_type": "markdown",
   "metadata": {},
   "source": [
    "### Print out content of the selected events/commands in more readable format\n",
    "\n",
    "> Note for many events the output will be long"
   ]
  },
  {
   "cell_type": "code",
   "execution_count": 14,
   "metadata": {
    "gather": {
     "logged": 1617841645541
    }
   },
   "outputs": [
    {
     "data": {
      "text/html": [
       "<p style='font-size: 130%'>Event 1</p>"
      ],
      "text/plain": [
       "<IPython.core.display.HTML object>"
      ]
     },
     "metadata": {},
     "output_type": "display_data"
    },
    {
     "data": {
      "text/html": [
       "<div>\n",
       "<style scoped>\n",
       "    .dataframe tbody tr th:only-of-type {\n",
       "        vertical-align: middle;\n",
       "    }\n",
       "\n",
       "    .dataframe tbody tr th {\n",
       "        vertical-align: top;\n",
       "    }\n",
       "\n",
       "    .dataframe thead th {\n",
       "        text-align: right;\n",
       "    }\n",
       "</style>\n",
       "<table border=\"1\" class=\"dataframe\">\n",
       "  <thead>\n",
       "    <tr style=\"text-align: right;\">\n",
       "      <th></th>\n",
       "      <th>145</th>\n",
       "    </tr>\n",
       "  </thead>\n",
       "  <tbody>\n",
       "    <tr>\n",
       "      <th>UserId</th>\n",
       "      <td>timvic@contoso.onmicrosoft.com</td>\n",
       "    </tr>\n",
       "    <tr>\n",
       "      <th>ClientIP</th>\n",
       "      <td>20.185.182.48:37965</td>\n",
       "    </tr>\n",
       "    <tr>\n",
       "      <th>begin</th>\n",
       "      <td>2020-07-29 20:11:27+00:00</td>\n",
       "    </tr>\n",
       "    <tr>\n",
       "      <th>end</th>\n",
       "      <td>2020-07-29 20:11:27+00:00</td>\n",
       "    </tr>\n",
       "    <tr>\n",
       "      <th>likelihood</th>\n",
       "      <td>0.000003</td>\n",
       "    </tr>\n",
       "  </tbody>\n",
       "</table>\n",
       "</div>"
      ],
      "text/plain": [
       "                                       145\n",
       "UserId      timvic@contoso.onmicrosoft.com\n",
       "ClientIP               20.185.182.48:37965\n",
       "begin            2020-07-29 20:11:27+00:00\n",
       "end              2020-07-29 20:11:27+00:00\n",
       "likelihood                        0.000003"
      ]
     },
     "metadata": {},
     "output_type": "display_data"
    },
    {
     "data": {
      "text/html": [
       "<p style=''><hr></p>"
      ],
      "text/plain": [
       "<IPython.core.display.HTML object>"
      ]
     },
     "metadata": {},
     "output_type": "display_data"
    },
    {
     "data": {
      "text/html": [
       "<p style='font-weight: bold'>Param session details:</p>"
      ],
      "text/plain": [
       "<IPython.core.display.HTML object>"
      ]
     },
     "metadata": {},
     "output_type": "display_data"
    },
    {
     "data": {
      "text/html": [
       "<p style=''>Command: Update-RoleGroupMember</p>"
      ],
      "text/plain": [
       "<IPython.core.display.HTML object>"
      ]
     },
     "metadata": {},
     "output_type": "display_data"
    },
    {
     "data": {
      "text/html": [
       "<p style=''>{'Identity': 'Security Administrator',\n",
       " 'Members': 'CBoehmSA;pcadmin;SecurityAdmins_2007558133'}</p>"
      ],
      "text/plain": [
       "<IPython.core.display.HTML object>"
      ]
     },
     "metadata": {},
     "output_type": "display_data"
    },
    {
     "data": {
      "text/html": [
       "<p style=''>Command: Update-RoleGroupMember</p>"
      ],
      "text/plain": [
       "<IPython.core.display.HTML object>"
      ]
     },
     "metadata": {},
     "output_type": "display_data"
    },
    {
     "data": {
      "text/html": [
       "<p style=''>{'Identity': 'Compliance Management',\n",
       " 'Members': 'CBoehmSA;ComplianceAdmins_939735849'}</p>"
      ],
      "text/plain": [
       "<IPython.core.display.HTML object>"
      ]
     },
     "metadata": {},
     "output_type": "display_data"
    },
    {
     "data": {
      "text/html": [
       "<p style=''>Command: Update-RoleGroupMember</p>"
      ],
      "text/plain": [
       "<IPython.core.display.HTML object>"
      ]
     },
     "metadata": {},
     "output_type": "display_data"
    },
    {
     "data": {
      "text/html": [
       "<p style=''>{'Identity': 'Discovery Management', 'Members': 'CBoehmSA'}</p>"
      ],
      "text/plain": [
       "<IPython.core.display.HTML object>"
      ]
     },
     "metadata": {},
     "output_type": "display_data"
    },
    {
     "data": {
      "text/html": [
       "<p style=''>Command: Update-RoleGroupMember</p>"
      ],
      "text/plain": [
       "<IPython.core.display.HTML object>"
      ]
     },
     "metadata": {},
     "output_type": "display_data"
    },
    {
     "data": {
      "text/html": [
       "<p style=''>{'Identity': 'Compliance Management',\n",
       " 'Members': 'CBoehmSA;ComplianceAdmins_939735849'}</p>"
      ],
      "text/plain": [
       "<IPython.core.display.HTML object>"
      ]
     },
     "metadata": {},
     "output_type": "display_data"
    },
    {
     "data": {
      "text/html": [
       "<p style=''>Command: Update-RoleGroupMember</p>"
      ],
      "text/plain": [
       "<IPython.core.display.HTML object>"
      ]
     },
     "metadata": {},
     "output_type": "display_data"
    },
    {
     "data": {
      "text/html": [
       "<p style=''>{'Identity': 'Discovery Management', 'Members': 'CBoehmSA'}</p>"
      ],
      "text/plain": [
       "<IPython.core.display.HTML object>"
      ]
     },
     "metadata": {},
     "output_type": "display_data"
    },
    {
     "data": {
      "text/html": [
       "<p style=''>Command: Update-RoleGroupMember</p>"
      ],
      "text/plain": [
       "<IPython.core.display.HTML object>"
      ]
     },
     "metadata": {},
     "output_type": "display_data"
    },
    {
     "data": {
      "text/html": [
       "<p style=''>{'Identity': 'Security Administrator',\n",
       " 'Members': 'CBoehmSA;pcadmin;SecurityAdmins_2007558133'}</p>"
      ],
      "text/plain": [
       "<IPython.core.display.HTML object>"
      ]
     },
     "metadata": {},
     "output_type": "display_data"
    },
    {
     "data": {
      "text/html": [
       "<p style=''><hr><br></p>"
      ],
      "text/plain": [
       "<IPython.core.display.HTML object>"
      ]
     },
     "metadata": {},
     "output_type": "display_data"
    }
   ],
   "source": [
    "import pprint\n",
    "\n",
    "rarest_events = (\n",
    "    modelled_df[modelled_df[\"rarest_window3_likelihood\"] < threshold.value]\n",
    "    [[\n",
    "        \"UserId\", \"ClientIP\", \"begin\", \"end\", \"param_value_session\", \"rarest_window3_likelihood\"\n",
    "    ]]\n",
    "    .rename(columns={\"rarest_window3_likelihood\": \"likelihood\"})\n",
    "    .sort_values(\"likelihood\")\n",
    ")\n",
    "for idx, (_, rarest_event) in enumerate(rarest_events.iterrows(), 1):\n",
    "    md(f\"Event {idx}\", \"large\")\n",
    "    display(pd.DataFrame(rarest_event[[\"UserId\", \"ClientIP\", \"begin\", \"end\", \"likelihood\"]]))\n",
    "\n",
    "    md(\"<hr>\")\n",
    "    md(\"Param session details:\", \"bold\")\n",
    "    for cmd in rarest_event.param_value_session:\n",
    "        md(f\"Command: {cmd.name}\")\n",
    "        md(pprint.pformat(cmd.params))\n",
    "    md(\"<hr><br>\")"
   ]
  },
  {
   "cell_type": "markdown",
   "metadata": {},
   "source": [
    "<hr>\n",
    "\n",
    "# Resources\n",
    "## MSTICpy:\n",
    "- msticpy Github https://github.com/Microsoft/msticpy\n",
    "- msticpy Docs https://msticpy.readthedocs.io/en/latest/\n",
    "- msticpy Release Blog https://medium.com/@msticmed\n",
    "\n",
    "### MSTICpy maintainers:\n",
    "- Ian Hellen [@ianhellen](https://twitter.com/ianhellen)\n",
    "- Pete Bryan [@MSSPete](https://twitter.com/MSSPete)\n",
    "- Ashwin Patil [@ashwinpatil](https://twitter.com/ashwinpatil)\n",
    "\n",
    "## Microsoft Sentinel Notebooks:\n",
    "- Microsoft Sentinel Github Notebooks https://github.com/Azure/Azure-Sentinel-Notebooks/\n",
    "  - (Samples with data in Sample-Notebooks folder)\n",
    "- Microsoft Sentinel Tech Community Blogs https://aka.ms/AzureSentinelBlog"
   ]
  }
 ],
 "metadata": {
  "kernel_info": {
   "name": "python38-azureml"
  },
  "kernelspec": {
   "display_name": "Python 3.8 - AzureML",
   "language": "python",
   "name": "python38-azureml"
  },
  "language_info": {
   "codemirror_mode": {
    "name": "ipython",
    "version": 3
   },
   "file_extension": ".py",
   "mimetype": "text/x-python",
   "name": "python",
   "nbconvert_exporter": "python",
   "pygments_lexer": "ipython3",
   "version": "3.9.7"
  },
  "microsoft": {
   "host": {
    "AzureML": {
     "notebookHasBeenCompleted": true
    }
   }
  },
  "nteract": {
   "version": "nteract-front-end@1.0.0"
  },
  "vscode": {
   "interpreter": {
    "hash": "0f1a8e166ce5c1ec1911a36e4fdbd34b2f623e2a3442791008b8ac429a1d6070"
   }
  },
  "widgets": {
   "application/vnd.jupyter.widget-state+json": {
    "state": {
     "01ba1e590e824842974c46b92a572248": {
      "model_module": "@jupyter-widgets/controls",
      "model_module_version": "1.5.0",
      "model_name": "DatePickerModel",
      "state": {
       "description": "Origin Date",
       "disabled": false,
       "layout": "IPY_MODEL_d989df2f97ed453db87a1a25b3b1b84b",
       "style": "IPY_MODEL_4bb0ca7c9d2140efbcab23ad776ccb83",
       "value": {
        "date": 13,
        "month": 6,
        "year": 2020
       }
      }
     },
     "0882ca8f0b054004aaf6591e4dbb359c": {
      "model_module": "@jupyter-widgets/controls",
      "model_module_version": "1.5.0",
      "model_name": "DropdownModel",
      "state": {
       "_options_labels": [
        "minute",
        "hour",
        "day",
        "week"
       ],
       "index": 3,
       "layout": "IPY_MODEL_18bcb1655d9545609346dc96fadcc1fe",
       "style": "IPY_MODEL_7e3f296c3ae44d6698eaea631ce43bca"
      }
     },
     "0fc7c9c65965490c830610a053d866f2": {
      "model_module": "@jupyter-widgets/controls",
      "model_module_version": "1.5.0",
      "model_name": "LabelModel",
      "state": {
       "layout": "IPY_MODEL_7afebe79bc2a4b4c883e2703e0a4fcd9",
       "style": "IPY_MODEL_b862a3d85adc495d84359398ca486dd2",
       "value": "100%"
      }
     },
     "13e2344cd2774762bd54f242b8c44dfe": {
      "model_module": "@jupyter-widgets/base",
      "model_module_version": "1.2.0",
      "model_name": "LayoutModel",
      "state": {}
     },
     "184475986c3f4c7ca441f5819f518aa6": {
      "model_module": "@jupyter-widgets/base",
      "model_module_version": "1.2.0",
      "model_name": "LayoutModel",
      "state": {
       "width": "95%"
      }
     },
     "18729d4e1a0d41fd95c1faca1330b549": {
      "model_module": "@jupyter-widgets/controls",
      "model_module_version": "1.5.0",
      "model_name": "DescriptionStyleModel",
      "state": {
       "description_width": ""
      }
     },
     "18bcb1655d9545609346dc96fadcc1fe": {
      "model_module": "@jupyter-widgets/base",
      "model_module_version": "1.2.0",
      "model_name": "LayoutModel",
      "state": {
       "width": "100px"
      }
     },
     "19f5751e938f45d8bd768abe57654fc6": {
      "model_module": "@jupyter-widgets/controls",
      "model_module_version": "1.5.0",
      "model_name": "IntProgressModel",
      "state": {
       "bar_style": "info",
       "description": "Progress:",
       "layout": "IPY_MODEL_deea9207e4db4771a533ba7feafe1093",
       "style": "IPY_MODEL_4b40f919cc6e4883a4438c518f7aa1a6",
       "value": 100
      }
     },
     "1bc75883289349c4a9d4e0c0dba0dadf": {
      "model_module": "@jupyter-widgets/controls",
      "model_module_version": "1.5.0",
      "model_name": "TextModel",
      "state": {
       "description": "Time (24hr)",
       "layout": "IPY_MODEL_8dc37975c4df44da9a56f2102551a777",
       "style": "IPY_MODEL_c598b00d74804623a14e553ef00799bf",
       "value": "00:00:00"
      }
     },
     "278ad59728c24b788b011bd3e813712e": {
      "model_module": "@jupyter-widgets/controls",
      "model_module_version": "1.5.0",
      "model_name": "DescriptionStyleModel",
      "state": {
       "description_width": "initial"
      }
     },
     "27f7586811ee4a72b0bd5431174e8420": {
      "model_module": "@jupyter-widgets/controls",
      "model_module_version": "1.5.0",
      "model_name": "HBoxModel",
      "state": {
       "children": [
        "IPY_MODEL_19f5751e938f45d8bd768abe57654fc6",
        "IPY_MODEL_0fc7c9c65965490c830610a053d866f2"
       ],
       "layout": "IPY_MODEL_ba1c9306dd5e4a9aaca23d200bddb5e4"
      }
     },
     "2ad5f3c4f028422486d340e4feee3078": {
      "model_module": "@jupyter-widgets/controls",
      "model_module_version": "1.5.0",
      "model_name": "TextModel",
      "state": {
       "description": "Time (24hr)",
       "layout": "IPY_MODEL_7b560266d658437eb061865530333f6f",
       "style": "IPY_MODEL_e5aadef205c748fcaf51a6ccdc708e0e",
       "value": "00:00:00"
      }
     },
     "2b73f1469341413a83189848a6e147ce": {
      "model_module": "@jupyter-widgets/controls",
      "model_module_version": "1.5.0",
      "model_name": "DropdownModel",
      "state": {
       "_options_labels": [
        "minute",
        "hour",
        "day",
        "week"
       ],
       "index": 3,
       "layout": "IPY_MODEL_9d870bab2ec2480e989a28e39974b49e",
       "style": "IPY_MODEL_8f0f37ef0c5d4a2aba9fe1ab395bc230"
      }
     },
     "31c1f260cb084bd693f71fef4a5d3845": {
      "model_module": "@jupyter-widgets/base",
      "model_module_version": "1.2.0",
      "model_name": "LayoutModel",
      "state": {
       "width": "50%"
      }
     },
     "380bc162c4b54ea98913ce5255fa28da": {
      "model_module": "@jupyter-widgets/base",
      "model_module_version": "1.2.0",
      "model_name": "LayoutModel",
      "state": {
       "width": "50%"
      }
     },
     "386213aad72a446a91a574c448c07f05": {
      "model_module": "@jupyter-widgets/controls",
      "model_module_version": "1.5.0",
      "model_name": "IntProgressModel",
      "state": {
       "bar_style": "info",
       "description": "Progress:",
       "layout": "IPY_MODEL_c3c999b7957e4ce796725014c374b292",
       "style": "IPY_MODEL_9c30a83472eb44609c79de6d7f4adb43",
       "value": 100
      }
     },
     "3bae2a60c79045e3ba41fcdf7b9f9ebc": {
      "model_module": "@jupyter-widgets/controls",
      "model_module_version": "1.5.0",
      "model_name": "HTMLModel",
      "state": {
       "layout": "IPY_MODEL_b64152d23e344d31ad4ce567989c71a6",
       "style": "IPY_MODEL_91cb50981213473e9998d2e2322619f8",
       "value": "<h4>Set query time boundaries</h4>"
      }
     },
     "40a81b67aa16475f856604e4cb5acf1a": {
      "model_module": "@jupyter-widgets/base",
      "model_module_version": "1.2.0",
      "model_name": "LayoutModel",
      "state": {
       "width": "50%"
      }
     },
     "46e6a4a1759646b1ac41d1de18d4ab5d": {
      "model_module": "@jupyter-widgets/base",
      "model_module_version": "1.2.0",
      "model_name": "LayoutModel",
      "state": {}
     },
     "4a492d5b1b204ea596046abaa15a99f6": {
      "model_module": "@jupyter-widgets/base",
      "model_module_version": "1.2.0",
      "model_name": "LayoutModel",
      "state": {
       "width": "95%"
      }
     },
     "4aaa418fa48e43a397a963873975b2f4": {
      "model_module": "@jupyter-widgets/controls",
      "model_module_version": "1.5.0",
      "model_name": "IntRangeSliderModel",
      "state": {
       "_model_name": "IntRangeSliderModel",
       "_view_name": "IntRangeSliderView",
       "description": "Time Range",
       "layout": "IPY_MODEL_987c8f8d72c0495b92348113745ec55f",
       "max": 4,
       "min": -4,
       "style": "IPY_MODEL_877eb05806e94a2d9a483192ff2fe37b",
       "value": [
        -1,
        1
       ]
      }
     },
     "4b40f919cc6e4883a4438c518f7aa1a6": {
      "model_module": "@jupyter-widgets/controls",
      "model_module_version": "1.5.0",
      "model_name": "ProgressStyleModel",
      "state": {
       "description_width": ""
      }
     },
     "4b9ed72ab5004db78d462304fa8e8acc": {
      "model_module": "@jupyter-widgets/controls",
      "model_module_version": "1.5.0",
      "model_name": "HBoxModel",
      "state": {
       "children": [
        "IPY_MODEL_71d6580dbaba46048591f6e78a9f4dc8",
        "IPY_MODEL_0882ca8f0b054004aaf6591e4dbb359c"
       ],
       "layout": "IPY_MODEL_ba6f8485a4a640cea950629ddeaeba99"
      }
     },
     "4bb0ca7c9d2140efbcab23ad776ccb83": {
      "model_module": "@jupyter-widgets/controls",
      "model_module_version": "1.5.0",
      "model_name": "DescriptionStyleModel",
      "state": {
       "description_width": ""
      }
     },
     "4c30743265444bf895f8672d314172ac": {
      "model_module": "@jupyter-widgets/controls",
      "model_module_version": "1.5.0",
      "model_name": "TextModel",
      "state": {
       "description": "Query start time (UTC):",
       "layout": "IPY_MODEL_380bc162c4b54ea98913ce5255fa28da",
       "style": "IPY_MODEL_bc1b97ab40c8438ba85c2510937f9ec0",
       "value": "2020-07-06 00:00:00"
      }
     },
     "59a62ce678e5478a81061a518ae8355e": {
      "model_module": "@jupyter-widgets/controls",
      "model_module_version": "1.5.0",
      "model_name": "DescriptionStyleModel",
      "state": {
       "description_width": ""
      }
     },
     "5b2daaeceea04259b680c257785170f3": {
      "model_module": "@jupyter-widgets/controls",
      "model_module_version": "1.5.0",
      "model_name": "FloatSliderModel",
      "state": {
       "description": "Select likelihood threshold",
       "layout": "IPY_MODEL_78428296b3f044c4999b780203af8403",
       "max": 0.010681888131276969,
       "min": 2.5413764681869644e-06,
       "readout_format": ".7f",
       "step": 0.000536508714208626,
       "style": "IPY_MODEL_ee502b67ea1c4eab82e4d243c02b8c73",
       "value": 0.000536508714208626
      }
     },
     "626275c71570448fbf584e2e8c2d5f7e": {
      "model_module": "@jupyter-widgets/controls",
      "model_module_version": "1.5.0",
      "model_name": "DatePickerModel",
      "state": {
       "description": "Origin Date",
       "disabled": false,
       "layout": "IPY_MODEL_8037eeafd501428a9bb3f294fd000609",
       "style": "IPY_MODEL_9b78ce2e6cd74b32a5e9cd3d67b41527",
       "value": {
        "date": 13,
        "month": 6,
        "year": 2020
       }
      }
     },
     "65505c398f3e433197b41d3f1ff341f7": {
      "model_module": "@jupyter-widgets/controls",
      "model_module_version": "1.5.0",
      "model_name": "HBoxModel",
      "state": {
       "children": [
        "IPY_MODEL_626275c71570448fbf584e2e8c2d5f7e",
        "IPY_MODEL_1bc75883289349c4a9d4e0c0dba0dadf"
       ],
       "layout": "IPY_MODEL_abdefa161f0447659577406216849ea3"
      }
     },
     "69fbcd0371c642359e7d4fe65b5bc71f": {
      "model_module": "@jupyter-widgets/controls",
      "model_module_version": "1.5.0",
      "model_name": "VBoxModel",
      "state": {
       "children": [
        "IPY_MODEL_3bae2a60c79045e3ba41fcdf7b9f9ebc",
        "IPY_MODEL_76b75453fd964ccd97bff0e4661171c5",
        "IPY_MODEL_b4659a11678c4245b01ebcffbcaf644c"
       ],
       "layout": "IPY_MODEL_8a6f67bfea514e67ad5955eddb43189f"
      }
     },
     "6db9845a51ce4df1b9e12dbee544b83f": {
      "model_module": "@jupyter-widgets/controls",
      "model_module_version": "1.5.0",
      "model_name": "DescriptionStyleModel",
      "state": {
       "description_width": "initial"
      }
     },
     "71d6580dbaba46048591f6e78a9f4dc8": {
      "model_module": "@jupyter-widgets/controls",
      "model_module_version": "1.5.0",
      "model_name": "IntRangeSliderModel",
      "state": {
       "_model_name": "IntRangeSliderModel",
       "_view_name": "IntRangeSliderView",
       "description": "Time Range",
       "layout": "IPY_MODEL_b5816bd9a55d4e889023bb9de4202982",
       "max": 4,
       "min": -4,
       "style": "IPY_MODEL_9113f350382c4d4aab835674cd5f0237",
       "value": [
        -1,
        1
       ]
      }
     },
     "76b75453fd964ccd97bff0e4661171c5": {
      "model_module": "@jupyter-widgets/controls",
      "model_module_version": "1.5.0",
      "model_name": "HBoxModel",
      "state": {
       "children": [
        "IPY_MODEL_01ba1e590e824842974c46b92a572248",
        "IPY_MODEL_2ad5f3c4f028422486d340e4feee3078"
       ],
       "layout": "IPY_MODEL_fad8d1327484412eaa667c78e810d979"
      }
     },
     "78428296b3f044c4999b780203af8403": {
      "model_module": "@jupyter-widgets/base",
      "model_module_version": "1.2.0",
      "model_name": "LayoutModel",
      "state": {
       "width": "60%"
      }
     },
     "7afebe79bc2a4b4c883e2703e0a4fcd9": {
      "model_module": "@jupyter-widgets/base",
      "model_module_version": "1.2.0",
      "model_name": "LayoutModel",
      "state": {}
     },
     "7b560266d658437eb061865530333f6f": {
      "model_module": "@jupyter-widgets/base",
      "model_module_version": "1.2.0",
      "model_name": "LayoutModel",
      "state": {}
     },
     "7e3f296c3ae44d6698eaea631ce43bca": {
      "model_module": "@jupyter-widgets/controls",
      "model_module_version": "1.5.0",
      "model_name": "DescriptionStyleModel",
      "state": {
       "description_width": ""
      }
     },
     "7fd4379b135442e880be60c07225c7b7": {
      "model_module": "@jupyter-widgets/controls",
      "model_module_version": "1.5.0",
      "model_name": "VBoxModel",
      "state": {
       "children": [
        "IPY_MODEL_a2e3b13ca35745f096adf88b1b2f06a3",
        "IPY_MODEL_c4791dd3281740e99c36e9b1dd0d5178",
        "IPY_MODEL_e3f798d4a5ab4abe9242d6f5f7098f83"
       ],
       "layout": "IPY_MODEL_9c31801f75ae40d38947a7115c88f5eb"
      }
     },
     "8037eeafd501428a9bb3f294fd000609": {
      "model_module": "@jupyter-widgets/base",
      "model_module_version": "1.2.0",
      "model_name": "LayoutModel",
      "state": {}
     },
     "877eb05806e94a2d9a483192ff2fe37b": {
      "model_module": "@jupyter-widgets/controls",
      "model_module_version": "1.5.0",
      "model_name": "SliderStyleModel",
      "state": {
       "description_width": "initial"
      }
     },
     "8a6f67bfea514e67ad5955eddb43189f": {
      "model_module": "@jupyter-widgets/base",
      "model_module_version": "1.2.0",
      "model_name": "LayoutModel",
      "state": {}
     },
     "8aa4edd1f4ac403b9b0dfc46e1ffc018": {
      "model_module": "@jupyter-widgets/controls",
      "model_module_version": "1.5.0",
      "model_name": "TextModel",
      "state": {
       "description": "Query end time (UTC) :  ",
       "layout": "IPY_MODEL_40a81b67aa16475f856604e4cb5acf1a",
       "style": "IPY_MODEL_bc7fcd7d96f549f8b3383a8d6429e24a",
       "value": "2020-07-20 00:00:00"
      }
     },
     "8dc37975c4df44da9a56f2102551a777": {
      "model_module": "@jupyter-widgets/base",
      "model_module_version": "1.2.0",
      "model_name": "LayoutModel",
      "state": {}
     },
     "8dde524a72ca47fa9b0b110111f86abd": {
      "model_module": "@jupyter-widgets/base",
      "model_module_version": "1.2.0",
      "model_name": "LayoutModel",
      "state": {}
     },
     "8f0f37ef0c5d4a2aba9fe1ab395bc230": {
      "model_module": "@jupyter-widgets/controls",
      "model_module_version": "1.5.0",
      "model_name": "DescriptionStyleModel",
      "state": {
       "description_width": ""
      }
     },
     "9113f350382c4d4aab835674cd5f0237": {
      "model_module": "@jupyter-widgets/controls",
      "model_module_version": "1.5.0",
      "model_name": "SliderStyleModel",
      "state": {
       "description_width": "initial"
      }
     },
     "91cb50981213473e9998d2e2322619f8": {
      "model_module": "@jupyter-widgets/controls",
      "model_module_version": "1.5.0",
      "model_name": "DescriptionStyleModel",
      "state": {
       "description_width": ""
      }
     },
     "987c8f8d72c0495b92348113745ec55f": {
      "model_module": "@jupyter-widgets/base",
      "model_module_version": "1.2.0",
      "model_name": "LayoutModel",
      "state": {
       "width": "70%"
      }
     },
     "9b78ce2e6cd74b32a5e9cd3d67b41527": {
      "model_module": "@jupyter-widgets/controls",
      "model_module_version": "1.5.0",
      "model_name": "DescriptionStyleModel",
      "state": {
       "description_width": ""
      }
     },
     "9c30a83472eb44609c79de6d7f4adb43": {
      "model_module": "@jupyter-widgets/controls",
      "model_module_version": "1.5.0",
      "model_name": "ProgressStyleModel",
      "state": {
       "description_width": ""
      }
     },
     "9c31801f75ae40d38947a7115c88f5eb": {
      "model_module": "@jupyter-widgets/base",
      "model_module_version": "1.2.0",
      "model_name": "LayoutModel",
      "state": {}
     },
     "9d870bab2ec2480e989a28e39974b49e": {
      "model_module": "@jupyter-widgets/base",
      "model_module_version": "1.2.0",
      "model_name": "LayoutModel",
      "state": {
       "width": "100px"
      }
     },
     "a2e3b13ca35745f096adf88b1b2f06a3": {
      "model_module": "@jupyter-widgets/controls",
      "model_module_version": "1.5.0",
      "model_name": "HBoxModel",
      "state": {
       "children": [
        "IPY_MODEL_4aaa418fa48e43a397a963873975b2f4",
        "IPY_MODEL_2b73f1469341413a83189848a6e147ce"
       ],
       "layout": "IPY_MODEL_13e2344cd2774762bd54f242b8c44dfe"
      }
     },
     "abdefa161f0447659577406216849ea3": {
      "model_module": "@jupyter-widgets/base",
      "model_module_version": "1.2.0",
      "model_name": "LayoutModel",
      "state": {}
     },
     "b4659a11678c4245b01ebcffbcaf644c": {
      "model_module": "@jupyter-widgets/controls",
      "model_module_version": "1.5.0",
      "model_name": "VBoxModel",
      "state": {
       "children": [
        "IPY_MODEL_4b9ed72ab5004db78d462304fa8e8acc",
        "IPY_MODEL_4c30743265444bf895f8672d314172ac",
        "IPY_MODEL_8aa4edd1f4ac403b9b0dfc46e1ffc018"
       ],
       "layout": "IPY_MODEL_c6a8c5f6b0054179a29c20f856fa9522"
      }
     },
     "b5816bd9a55d4e889023bb9de4202982": {
      "model_module": "@jupyter-widgets/base",
      "model_module_version": "1.2.0",
      "model_name": "LayoutModel",
      "state": {
       "width": "70%"
      }
     },
     "b64152d23e344d31ad4ce567989c71a6": {
      "model_module": "@jupyter-widgets/base",
      "model_module_version": "1.2.0",
      "model_name": "LayoutModel",
      "state": {}
     },
     "b862a3d85adc495d84359398ca486dd2": {
      "model_module": "@jupyter-widgets/controls",
      "model_module_version": "1.5.0",
      "model_name": "DescriptionStyleModel",
      "state": {
       "description_width": ""
      }
     },
     "b8f5463d81294f28aa0bd31b72f95769": {
      "model_module": "@jupyter-widgets/controls",
      "model_module_version": "1.5.0",
      "model_name": "VBoxModel",
      "state": {
       "children": [
        "IPY_MODEL_ced87e84a0b8486190ecd97ee7e9c4d9",
        "IPY_MODEL_65505c398f3e433197b41d3f1ff341f7",
        "IPY_MODEL_7fd4379b135442e880be60c07225c7b7"
       ],
       "layout": "IPY_MODEL_8dde524a72ca47fa9b0b110111f86abd"
      }
     },
     "ba1c9306dd5e4a9aaca23d200bddb5e4": {
      "model_module": "@jupyter-widgets/base",
      "model_module_version": "1.2.0",
      "model_name": "LayoutModel",
      "state": {}
     },
     "ba6f8485a4a640cea950629ddeaeba99": {
      "model_module": "@jupyter-widgets/base",
      "model_module_version": "1.2.0",
      "model_name": "LayoutModel",
      "state": {}
     },
     "bc1b97ab40c8438ba85c2510937f9ec0": {
      "model_module": "@jupyter-widgets/controls",
      "model_module_version": "1.5.0",
      "model_name": "DescriptionStyleModel",
      "state": {
       "description_width": "initial"
      }
     },
     "bc7fcd7d96f549f8b3383a8d6429e24a": {
      "model_module": "@jupyter-widgets/controls",
      "model_module_version": "1.5.0",
      "model_name": "DescriptionStyleModel",
      "state": {
       "description_width": "initial"
      }
     },
     "c18f4a3635a24271bbb6cd22ae6b7afe": {
      "model_module": "@jupyter-widgets/base",
      "model_module_version": "1.2.0",
      "model_name": "LayoutModel",
      "state": {
       "width": "50%"
      }
     },
     "c3c999b7957e4ce796725014c374b292": {
      "model_module": "@jupyter-widgets/base",
      "model_module_version": "1.2.0",
      "model_name": "LayoutModel",
      "state": {}
     },
     "c4791dd3281740e99c36e9b1dd0d5178": {
      "model_module": "@jupyter-widgets/controls",
      "model_module_version": "1.5.0",
      "model_name": "TextModel",
      "state": {
       "description": "Query start time (UTC):",
       "layout": "IPY_MODEL_31c1f260cb084bd693f71fef4a5d3845",
       "style": "IPY_MODEL_6db9845a51ce4df1b9e12dbee544b83f",
       "value": "2020-07-06 00:00:00"
      }
     },
     "c598b00d74804623a14e553ef00799bf": {
      "model_module": "@jupyter-widgets/controls",
      "model_module_version": "1.5.0",
      "model_name": "DescriptionStyleModel",
      "state": {
       "description_width": ""
      }
     },
     "c6a8c5f6b0054179a29c20f856fa9522": {
      "model_module": "@jupyter-widgets/base",
      "model_module_version": "1.2.0",
      "model_name": "LayoutModel",
      "state": {}
     },
     "ced87e84a0b8486190ecd97ee7e9c4d9": {
      "model_module": "@jupyter-widgets/controls",
      "model_module_version": "1.5.0",
      "model_name": "HTMLModel",
      "state": {
       "layout": "IPY_MODEL_f17832d53284464c9c026467ceb41ab2",
       "style": "IPY_MODEL_59a62ce678e5478a81061a518ae8355e",
       "value": "<h4>Set query time boundaries</h4>"
      }
     },
     "d115fcd972d8492a8ba17f79e927e903": {
      "model_module": "@jupyter-widgets/base",
      "model_module_version": "1.2.0",
      "model_name": "LayoutModel",
      "state": {}
     },
     "d1356e7bde6447b68e96d347f56fbc4a": {
      "model_module": "@jupyter-widgets/controls",
      "model_module_version": "1.5.0",
      "model_name": "HBoxModel",
      "state": {
       "children": [
        "IPY_MODEL_386213aad72a446a91a574c448c07f05",
        "IPY_MODEL_ed884427443941b79eae35ecaede56fe"
       ],
       "layout": "IPY_MODEL_d115fcd972d8492a8ba17f79e927e903"
      }
     },
     "d32f9e99095149069a06961cba2ba950": {
      "model_module": "@jupyter-widgets/base",
      "model_module_version": "1.2.0",
      "model_name": "LayoutModel",
      "state": {
       "width": "95%"
      }
     },
     "d989df2f97ed453db87a1a25b3b1b84b": {
      "model_module": "@jupyter-widgets/base",
      "model_module_version": "1.2.0",
      "model_name": "LayoutModel",
      "state": {}
     },
     "deea9207e4db4771a533ba7feafe1093": {
      "model_module": "@jupyter-widgets/base",
      "model_module_version": "1.2.0",
      "model_name": "LayoutModel",
      "state": {}
     },
     "e3f798d4a5ab4abe9242d6f5f7098f83": {
      "model_module": "@jupyter-widgets/controls",
      "model_module_version": "1.5.0",
      "model_name": "TextModel",
      "state": {
       "description": "Query end time (UTC) :  ",
       "layout": "IPY_MODEL_c18f4a3635a24271bbb6cd22ae6b7afe",
       "style": "IPY_MODEL_278ad59728c24b788b011bd3e813712e",
       "value": "2020-07-20 00:00:00"
      }
     },
     "e5aadef205c748fcaf51a6ccdc708e0e": {
      "model_module": "@jupyter-widgets/controls",
      "model_module_version": "1.5.0",
      "model_name": "DescriptionStyleModel",
      "state": {
       "description_width": ""
      }
     },
     "ed884427443941b79eae35ecaede56fe": {
      "model_module": "@jupyter-widgets/controls",
      "model_module_version": "1.5.0",
      "model_name": "LabelModel",
      "state": {
       "layout": "IPY_MODEL_46e6a4a1759646b1ac41d1de18d4ab5d",
       "style": "IPY_MODEL_18729d4e1a0d41fd95c1faca1330b549",
       "value": "100%"
      }
     },
     "ee502b67ea1c4eab82e4d243c02b8c73": {
      "model_module": "@jupyter-widgets/controls",
      "model_module_version": "1.5.0",
      "model_name": "SliderStyleModel",
      "state": {
       "description_width": "200px"
      }
     },
     "f17832d53284464c9c026467ceb41ab2": {
      "model_module": "@jupyter-widgets/base",
      "model_module_version": "1.2.0",
      "model_name": "LayoutModel",
      "state": {}
     },
     "fad8d1327484412eaa667c78e810d979": {
      "model_module": "@jupyter-widgets/base",
      "model_module_version": "1.2.0",
      "model_name": "LayoutModel",
      "state": {}
     }
    },
    "version_major": 2,
    "version_minor": 0
   }
  }
 },
 "nbformat": 4,
 "nbformat_minor": 4
}
