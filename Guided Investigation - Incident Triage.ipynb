{
 "cells": [
  {
   "cell_type": "markdown",
   "metadata": {},
   "source": [
    "# Guided Triage - Incidents\n",
    "<details>\n",
    "    <summary> <u>Details...</u></summary>\n",
    "Notebook Version: 1.0<br>\n",
    "\n",
    "**Data Sources Used**:<br>\n",
    "- Microsoft Sentinel\n",
    "    - Incidents\n",
    "<br>\n",
    "- Threat Intelligence Providers\n",
    "    - OTX (https://otx.alienvault.com/)\n",
    "    - VirusTotal (https://www.virustotal.com/)\n",
    "    - XForce (https://www.ibm.com/security/xforce)\n",
    "    - GreyNoise (https://www.greynoise.io)\n",
    "</details>\n",
    "\n",
    "This notebooks takes you through a guided triage of an Microsoft Sentinel Incident. The triage focuses on investigating the entities that attached to an Microsoft Sentinel Incident. This notebook can be extended with additional triage steps based on specific processes and workflows."
   ]
  },
  {
   "cell_type": "markdown",
   "metadata": {},
   "source": [
    "---\n",
    "### Notebook initialization\n",
    "The next cell:\n",
    "- Checks for the correct Python version\n",
    "- Checks versions and optionally installs required packages\n",
    "- Imports the required packages into the notebook\n",
    "- Sets a number of configuration options.\n",
    "\n",
    "This should complete without errors. If you encounter errors or warnings look at the following two notebooks:\n",
    "- [TroubleShootingNotebooks](https://github.com/Azure/Azure-Sentinel-Notebooks/blob/master/TroubleShootingNotebooks.ipynb)\n",
    "- [ConfiguringNotebookEnvironment](https://github.com/Azure/Azure-Sentinel-Notebooks/blob/master/ConfiguringNotebookEnvironment.ipynb)\n",
    "\n",
    "If you are running in the Microsoft Sentinel Notebooks environment (Azure Notebooks or Azure ML) you can run live versions of these notebooks:\n",
    "- [Run TroubleShootingNotebooks](./TroubleShootingNotebooks.ipynb)\n",
    "- [Run ConfiguringNotebookEnvironment](./ConfiguringNotebookEnvironment.ipynb)\n",
    "\n",
    "You may also need to do some additional configuration to successfully use functions such as Threat Intelligence service lookup and Geo IP lookup. \n",
    "There are more details about this in the `ConfiguringNotebookEnvironment` notebook and in these documents:\n",
    "- [msticpy configuration](https://msticpy.readthedocs.io/en/latest/getting_started/msticpyconfig.html)\n",
    "- [Threat intelligence provider configuration](https://msticpy.readthedocs.io/en/latest/data_acquisition/TIProviders.html#configuration-file)\n"
   ]
  },
  {
   "cell_type": "code",
   "execution_count": 1,
   "metadata": {
    "tags": []
   },
   "outputs": [
    {
     "data": {
      "text/html": [
       "<hr><h4>Starting Notebook initialization...</h4>"
      ],
      "text/plain": [
       "<IPython.core.display.HTML object>"
      ]
     },
     "metadata": {},
     "output_type": "display_data"
    },
    {
     "data": {
      "text/html": [
       "msticpy version installed: 1.6.0 latest published: 1.5.2<br>Latest version is installed.<br> <br>"
      ],
      "text/plain": [
       "<IPython.core.display.HTML object>"
      ]
     },
     "metadata": {},
     "output_type": "display_data"
    },
    {
     "data": {
      "text/html": [
       "Processing imports.... <br>"
      ],
      "text/plain": [
       "<IPython.core.display.HTML object>"
      ]
     },
     "metadata": {},
     "output_type": "display_data"
    },
    {
     "name": "stdout",
     "output_type": "stream",
     "text": [
      "All packages are already installed\n",
      "Notebooklets: 9 notebooklets loaded.\n"
     ]
    },
    {
     "data": {
      "text/html": [
       "Imported: pd (pandas), IPython.get_ipython, IPython.display.display, IPython.display.HTML, IPython.display.Markdown, widgets (ipywidgets), pathlib.Path, plt (matplotlib.pyplot), matplotlib.MatplotlibDeprecationWarning, sns (seaborn), np (numpy), msticpy, msticpy.data.QueryProvider, msticpy.nbtools.foliummap.FoliumMap, msticpy.common.utility.md, msticpy.common.utility.md_warn, msticpy.common.wsconfig.WorkspaceConfig, msticpy.datamodel.pivot.Pivot, msticpy.datamodel.entities, msticpy.vis.mp_pandas_plot, json, collections.Counter, datetime.datetime, datetime.timedelta, plt (matplotlib.pyplot), np (numpy), pd (pandas), bokeh.plotting.show, whois.whois, pytz, nb (msticnb), msticpy.common.azure_auth.az_connect, msticpy.common.timespan.TimeSpan, msticpy.nbtools.nbwidgets.SelectAlert, msticpy.nbtools.nbwidgets.Progress, msticpy.data.azure_sentinel.AzureSentinel, msticpy.nbtools.foliummap.FoliumMap, msticpy.vis.entity_graph_tools.EntityGraph <br>"
      ],
      "text/plain": [
       "<IPython.core.display.HTML object>"
      ]
     },
     "metadata": {},
     "output_type": "display_data"
    },
    {
     "data": {
      "text/html": [
       "Checking configuration.... <br>"
      ],
      "text/plain": [
       "<IPython.core.display.HTML object>"
      ]
     },
     "metadata": {},
     "output_type": "display_data"
    },
    {
     "data": {
      "text/html": [
       "Azure CLI credentials not detected. (see <a href='https://github.com/Azure/Azure-Sentinel-Notebooks/wiki/Caching-credentials-with-Azure-CLI'>Caching credentials with Azure CLI</>) <br>"
      ],
      "text/plain": [
       "<IPython.core.display.HTML object>"
      ]
     },
     "metadata": {},
     "output_type": "display_data"
    },
    {
     "data": {
      "text/html": [
       "Setting notebook options.... <br>"
      ],
      "text/plain": [
       "<IPython.core.display.HTML object>"
      ]
     },
     "metadata": {},
     "output_type": "display_data"
    },
    {
     "data": {
      "text/html": [
       " <br>"
      ],
      "text/plain": [
       "<IPython.core.display.HTML object>"
      ]
     },
     "metadata": {},
     "output_type": "display_data"
    },
    {
     "data": {
      "text/html": [
       "<h4>Notebook initialization complete</h4>"
      ],
      "text/plain": [
       "<IPython.core.display.HTML object>"
      ]
     },
     "metadata": {},
     "output_type": "display_data"
    },
    {
     "data": {
      "text/plain": [
       "True"
      ]
     },
     "execution_count": 1,
     "metadata": {},
     "output_type": "execute_result"
    }
   ],
   "source": [
    "extra_imports = [\n",
    "    \"json\",\n",
    "    \"collections,Counter\",\n",
    "    \"datetime,datetime\",\n",
    "    \"datetime,timedelta\",\n",
    "    \"matplotlib.pyplot,,plt\",\n",
    "    \"numpy,,np\",\n",
    "    \"pandas,,pd\",\n",
    "    \"bokeh.plotting,show\",\n",
    "    \"whois,whois\",\n",
    "    \"pytz\",\n",
    "    \"msticnb,,nb\",\n",
    "    \"msticpy.common.azure_auth,az_connect\",\n",
    "    \"msticpy.common.timespan,TimeSpan\",\n",
    "    \"msticpy.nbtools.nbwidgets,SelectAlert\",\n",
    "    \"msticpy.nbtools.nbwidgets,Progress\",\n",
    "    \"msticpy.data.azure_sentinel,AzureSentinel\",\n",
    "    \"msticpy.nbtools.foliummap,FoliumMap\",\n",
    "    \"msticpy.vis.entity_graph_tools, EntityGraph\",\n",
    "]\n",
    "\n",
    "from msticpy.common.exceptions import MsticpyDataQueryError\n",
    "import msticpy\n",
    "\n",
    "msticpy.init_notebook(\n",
    "    namespace=globals(),\n",
    "    extra_imports=extra_imports,\n",
    "    additional_packages=[\"python-whois>=0.7.3\"],\n",
    ")"
   ]
  },
  {
   "cell_type": "markdown",
   "metadata": {},
   "source": [
    "<div class=\"alert alert-block alert-info\">\n",
    "<b>Note:</b> The following cell creates some helper functions used later in the notebook. This cell has no output.\n",
    "</div>"
   ]
  },
  {
   "cell_type": "code",
   "execution_count": 2,
   "metadata": {},
   "outputs": [],
   "source": [
    "def check_ent(items, entity):\n",
    "    \"\"\"Check if entity is present\"\"\"\n",
    "    for item in items:\n",
    "        if item[0].casefold() == entity.casefold():\n",
    "            return True\n",
    "    return False\n",
    "\n",
    "\n",
    "def ti_color_cells(val):\n",
    "    \"\"\"Color cells of output dataframe based on severity\"\"\"\n",
    "    color = \"none\"\n",
    "    if isinstance(val, str):\n",
    "        if val.casefold() == \"high\":\n",
    "            color = \"Red\"\n",
    "        elif val.casefold() == \"warning\" or val.casefold() == \"medium\":\n",
    "            color = \"Orange\"\n",
    "        elif val.casefold() == \"information\" or val.casefold() == \"low\":\n",
    "            color = \"Green\"\n",
    "    return f\"background-color: {color}\"\n",
    "\n",
    "\n",
    "def ent_color_cells(val):\n",
    "    \"\"\"Color table cells based on values in the cells\"\"\"\n",
    "    if isinstance(val, int):\n",
    "        color = \"yellow\" if val < 3 else \"none\"\n",
    "    elif isinstance(val, float):\n",
    "        color = \"yellow\" if val > 4.30891 or val < 2.72120 else \"none\"\n",
    "    else:\n",
    "        color = \"none\"\n",
    "    return \"background-color: %s\" % color\n",
    "\n",
    "def ent_alerts(ent_val):\n",
    "    query = f\" SecurityAlert | where TimeGenerated between(datetime({alert_q_times.start})..datetime({alert_q_times.end})) | where Entities contains '{ent_val}'\"\n",
    "    alerts_df = qry_prov.exec_query(query)\n",
    "    if isinstance(alerts_df, pd.DataFrame) and not alerts_df.empty:\n",
    "        nbdisplay.display_timeline(\n",
    "            data=alerts_df,\n",
    "            source_columns=[\"DisplayName\", \"AlertSeverity\", \"ProviderName\"],\n",
    "            title=f\"Alerts involving {ent_val}\",\n",
    "            group_by=\"AlertSeverity\",\n",
    "            height=300,\n",
    "            time_column=\"TimeGenerated\",\n",
    "        )\n"
   ]
  },
  {
   "cell_type": "markdown",
   "metadata": {},
   "source": [
    "### Authenticate to Microsoft Sentinel APIs and Select Subscriptions\n",
    "\n",
    "This cell connects to the Microsoft Sentinel APIs and gets a list of subscriptions the user has access to for them to select. In order to use this the user must have at least read permissions on the Microsoft Sentinel workspace.\n",
    "In the drop down select the name of the subscription that contains the Microsoft Sentinel workspace you want to triage incidents from."
   ]
  },
  {
   "cell_type": "code",
   "execution_count": 3,
   "metadata": {},
   "outputs": [
    {
     "data": {
      "application/vnd.jupyter.widget-view+json": {
       "model_id": "cc6e26b5f67141fb97da9920068703c7",
       "version_major": 2,
       "version_minor": 0
      },
      "text/plain": [
       "VBox(children=(Text(value='', description='Filter:', style=DescriptionStyle(description_width='initial')), Sel…"
      ]
     },
     "metadata": {},
     "output_type": "display_data"
    },
    {
     "data": {
      "text/html": [
       "<hr>"
      ],
      "text/plain": [
       "<IPython.core.display.HTML object>"
      ]
     },
     "metadata": {},
     "output_type": "display_data"
    }
   ],
   "source": [
    "azs = AzureSentinel()\n",
    "azs.connect()\n",
    "subs = azs.get_subscriptions()\n",
    "active_subs = subs[subs[\"State\"] == \"Enabled\"]\n",
    "ws = WorkspaceConfig()\n",
    "\n",
    "if ws.list_workspaces()[\"Default\"] and \"SubscriptionId\" in ws.list_workspaces()[\"Default\"]:\n",
    "    default_sub = active_subs[active_subs['Subscription ID'] == ws.list_workspaces()['Default'][\"SubscriptionId\"]][\"Display Name\"].iloc[0]\n",
    "else:\n",
    "    default_sub = \"\"\n",
    "\n",
    "sub_picker = nbwidgets.SelectItem(\n",
    "    description=\"Select subscription:\",\n",
    "    item_list=active_subs[\"Display Name\"].unique().tolist(),\n",
    "    value=default_sub\n",
    ")\n",
    "display(sub_picker)"
   ]
  },
  {
   "cell_type": "markdown",
   "metadata": {},
   "source": [
    "Now select the name of the Microsoft Sentinel workspace in the subscription you want to triage incidents from."
   ]
  },
  {
   "cell_type": "code",
   "execution_count": 4,
   "metadata": {},
   "outputs": [
    {
     "name": "stdout",
     "output_type": "stream",
     "text": [
      "Finding Microsoft Sentinel Workspaces...\n"
     ]
    },
    {
     "data": {
      "text/html": [
       "<p style=''>Only one workspace found, selecting CyberSecuritySOC</p>"
      ],
      "text/plain": [
       "<IPython.core.display.HTML object>"
      ]
     },
     "metadata": {},
     "output_type": "display_data"
    }
   ],
   "source": [
    "ws_id = None\n",
    "sub_value = active_subs[active_subs[\"Display Name\"] == sub_picker.value][\n",
    "    \"Subscription ID\"\n",
    "].iloc[0]\n",
    "\n",
    "wspcs = azs.get_sentinel_workspaces(sub_id=sub_value)\n",
    "\n",
    "if ws.list_workspaces():\n",
    "    default_wss = list(set(ws.list_workspaces()).intersection(wspcs))\n",
    "    default_ws = default_wss[0] if default_wss else \"\"\n",
    "else:\n",
    "    default_ws = \"\"\n",
    "\n",
    "if wspcs and len(wspcs.keys()) > 1:\n",
    "    wspc_picker = nbwidgets.SelectItem(\n",
    "        description=\"Select your Microsoft Sentinel workspace:\",\n",
    "        item_list=list(wspcs.keys()),\n",
    "        value = default_ws,\n",
    "    )\n",
    "    display(wspc_picker)\n",
    "elif wspcs:\n",
    "    ws_id = wspcs[list(wspcs.keys())[0]]\n",
    "    md(f\"Only one workspace found, selecting {list(wspcs.keys())[0]}\")\n",
    "else:\n",
    "    md(\n",
    "        f\"{sub_picker.value} has no Microsoft Sentinel Workspaces, please pick another subscription\"\n",
    "    )"
   ]
  },
  {
   "cell_type": "markdown",
   "metadata": {},
   "source": [
    "\n",
    "### Authenticate to Microsoft Sentinel, TI providers and load Notebooklets\n",
    "<details>\n",
    "    <summary> <u>Details...</u></summary>\n",
    "If you are using user/device authentication, run the following cell. \n",
    "- Click the 'Copy code to clipboard and authenticate' button.\n",
    "- This will pop up an Azure Active Directory authentication dialog (in a new tab or browser window). The device code will have been copied to the clipboard. \n",
    "- Select the text box and paste (Ctrl-V/Cmd-V) the copied value. \n",
    "- You should then be redirected to a user authentication page where you should authenticate with a user account that has permission to query your Log Analytics workspace.\n",
    "\n",
    "Note: you may occasionally see a JavaScript error displayed at the end of the authentication - you can safely ignore this.<br>\n",
    "On successful authentication you should see a ```popup schema``` button.\n",
    "To find your Workspace Id go to [Log Analytics](https://ms.portal.azure.com/#blade/HubsExtension/Resources/resourceType/Microsoft.OperationalInsights%2Fworkspaces). Look at the workspace properties to find the ID.\n",
    "    \n",
    "Note that you may see a warning relating to the IPStack service when running this cell. This can be safely ignored as its not used in this case.\n",
    "</details>"
   ]
  },
  {
   "cell_type": "code",
   "execution_count": 5,
   "metadata": {},
   "outputs": [
    {
     "name": "stdout",
     "output_type": "stream",
     "text": [
      "Please wait. Loading Kqlmagic extension...done\n",
      "Connecting... "
     ]
    },
    {
     "data": {
      "text/html": [
       "<!DOCTYPE html>\n",
       "            <html><body>\n",
       "            <div style=''>\n",
       "            <a href='file:///e:/src/Azure-Sentinel-Notebooks/kqlmagic/temp_files/37272db1-6085-417d-ab1d-e08f198f14c4/_8ecf8077-cf51-4820-aadd-14040956f35d_at_loganalytics_schema.html' style='padding: 2px 6px 2px 6px; color: #333333; background-color: #EEEEEE; border-top: 1px solid #CCCCCC; border-right: 1px solid #333333; border-bottom: 1px solid #333333; border-left: 1px solid #CCCCCC' target='_8ecf8077-cf51-4820-aadd-14040956f35d_at_loganalytics_schema'>popup schema 8ecf8077-cf51-4820-aadd-14040956f35d@loganalytics</a>\n",
       "            </div>\n",
       "            </body></html>"
      ],
      "text/plain": [
       "<IPython.core.display.HTML object>"
      ]
     },
     "metadata": {},
     "output_type": "display_data"
    },
    {
     "name": "stdout",
     "output_type": "stream",
     "text": [
      "connected\n",
      "Using Open PageRank. See https://www.domcop.com/openpagerank/what-is-openpagerank\n"
     ]
    },
    {
     "data": {
      "text/html": [
       "\n",
       "This product includes GeoLite2 data created by MaxMind, available from\n",
       "<a href=\"https://www.maxmind.com\">https://www.maxmind.com</a>.\n"
      ],
      "text/plain": [
       "<IPython.core.display.HTML object>"
      ]
     },
     "metadata": {},
     "output_type": "display_data"
    },
    {
     "name": "stdout",
     "output_type": "stream",
     "text": [
      "Using Open PageRank. See https://www.domcop.com/openpagerank/what-is-openpagerank\n",
      "Notebooklets: Loaded providers: AzureSentinel, geolitelookup, tilookup\n"
     ]
    },
    {
     "data": {
      "text/html": [
       "\n",
       "This library uses services provided by ipstack.\n",
       "<a href=\"https://ipstack.com\">https://ipstack.com</a>"
      ],
      "text/plain": [
       "<IPython.core.display.HTML object>"
      ]
     },
     "metadata": {},
     "output_type": "display_data"
    }
   ],
   "source": [
    "if not ws_id:\n",
    "    ws_id = wspcs[wspc_picker.value]\n",
    "# Set up notebooklets\n",
    "qry_prov = QueryProvider(\"AzureSentinel\")\n",
    "qry_prov.connect(WorkspaceConfig(workspace=ws_id.split(\"/\")[-1]))\n",
    "ti = TILookup()\n",
    "nb.init(qry_prov)\n",
    "timespan = TimeSpan(start=datetime.now() - timedelta(days=7))"
   ]
  },
  {
   "cell_type": "markdown",
   "metadata": {},
   "source": [
    "Use the time selector below to set the time range you wish to get incidents from."
   ]
  },
  {
   "cell_type": "code",
   "execution_count": 6,
   "metadata": {},
   "outputs": [
    {
     "data": {
      "text/html": [
       "<p style='font-weight: bold'>Select a time range in which to get incidents from:</p>"
      ],
      "text/plain": [
       "<IPython.core.display.HTML object>"
      ]
     },
     "metadata": {},
     "output_type": "display_data"
    },
    {
     "data": {
      "application/vnd.jupyter.widget-view+json": {
       "model_id": "bfb237433c8c4076bc6b964dcfddc4c0",
       "version_major": 2,
       "version_minor": 0
      },
      "text/plain": [
       "VBox(children=(HTML(value='<h4>Set query time boundaries</h4>'), HBox(children=(DatePicker(value=datetime.date…"
      ]
     },
     "metadata": {},
     "output_type": "display_data"
    }
   ],
   "source": [
    "md(\"Select a time range in which to get incidents from:\", \"bold\")\n",
    "alert_q_times = nbwidgets.QueryTime(units=\"hours\", max_before=72, max_after=1, before=24)\n",
    "alert_q_times.display()"
   ]
  },
  {
   "cell_type": "markdown",
   "metadata": {
    "tags": []
   },
   "source": [
    "\n",
    "### Incident Timeline\n",
    "This timeline shows you all events in the selected workspace, grouped by the severity of the incident."
   ]
  },
  {
   "cell_type": "code",
   "execution_count": 7,
   "metadata": {},
   "outputs": [
    {
     "data": {
      "text/html": [
       "\n",
       "    <div class=\"bk-root\">\n",
       "        <a href=\"https://bokeh.org\" target=\"_blank\" class=\"bk-logo bk-logo-small bk-logo-notebook\"></a>\n",
       "        <span id=\"1002\">Loading BokehJS ...</span>\n",
       "    </div>"
      ]
     },
     "metadata": {},
     "output_type": "display_data"
    },
    {
     "data": {
      "application/javascript": "\n(function(root) {\n  function now() {\n    return new Date();\n  }\n\n  const force = true;\n\n  if (typeof root._bokeh_onload_callbacks === \"undefined\" || force === true) {\n    root._bokeh_onload_callbacks = [];\n    root._bokeh_is_loading = undefined;\n  }\n\n  const JS_MIME_TYPE = 'application/javascript';\n  const HTML_MIME_TYPE = 'text/html';\n  const EXEC_MIME_TYPE = 'application/vnd.bokehjs_exec.v0+json';\n  const CLASS_NAME = 'output_bokeh rendered_html';\n\n  /**\n   * Render data to the DOM node\n   */\n  function render(props, node) {\n    const script = document.createElement(\"script\");\n    node.appendChild(script);\n  }\n\n  /**\n   * Handle when an output is cleared or removed\n   */\n  function handleClearOutput(event, handle) {\n    const cell = handle.cell;\n\n    const id = cell.output_area._bokeh_element_id;\n    const server_id = cell.output_area._bokeh_server_id;\n    // Clean up Bokeh references\n    if (id != null && id in Bokeh.index) {\n      Bokeh.index[id].model.document.clear();\n      delete Bokeh.index[id];\n    }\n\n    if (server_id !== undefined) {\n      // Clean up Bokeh references\n      const cmd_clean = \"from bokeh.io.state import curstate; print(curstate().uuid_to_server['\" + server_id + \"'].get_sessions()[0].document.roots[0]._id)\";\n      cell.notebook.kernel.execute(cmd_clean, {\n        iopub: {\n          output: function(msg) {\n            const id = msg.content.text.trim();\n            if (id in Bokeh.index) {\n              Bokeh.index[id].model.document.clear();\n              delete Bokeh.index[id];\n            }\n          }\n        }\n      });\n      // Destroy server and session\n      const cmd_destroy = \"import bokeh.io.notebook as ion; ion.destroy_server('\" + server_id + \"')\";\n      cell.notebook.kernel.execute(cmd_destroy);\n    }\n  }\n\n  /**\n   * Handle when a new output is added\n   */\n  function handleAddOutput(event, handle) {\n    const output_area = handle.output_area;\n    const output = handle.output;\n\n    // limit handleAddOutput to display_data with EXEC_MIME_TYPE content only\n    if ((output.output_type != \"display_data\") || (!Object.prototype.hasOwnProperty.call(output.data, EXEC_MIME_TYPE))) {\n      return\n    }\n\n    const toinsert = output_area.element.find(\".\" + CLASS_NAME.split(' ')[0]);\n\n    if (output.metadata[EXEC_MIME_TYPE][\"id\"] !== undefined) {\n      toinsert[toinsert.length - 1].firstChild.textContent = output.data[JS_MIME_TYPE];\n      // store reference to embed id on output_area\n      output_area._bokeh_element_id = output.metadata[EXEC_MIME_TYPE][\"id\"];\n    }\n    if (output.metadata[EXEC_MIME_TYPE][\"server_id\"] !== undefined) {\n      const bk_div = document.createElement(\"div\");\n      bk_div.innerHTML = output.data[HTML_MIME_TYPE];\n      const script_attrs = bk_div.children[0].attributes;\n      for (let i = 0; i < script_attrs.length; i++) {\n        toinsert[toinsert.length - 1].firstChild.setAttribute(script_attrs[i].name, script_attrs[i].value);\n        toinsert[toinsert.length - 1].firstChild.textContent = bk_div.children[0].textContent\n      }\n      // store reference to server id on output_area\n      output_area._bokeh_server_id = output.metadata[EXEC_MIME_TYPE][\"server_id\"];\n    }\n  }\n\n  function register_renderer(events, OutputArea) {\n\n    function append_mime(data, metadata, element) {\n      // create a DOM node to render to\n      const toinsert = this.create_output_subarea(\n        metadata,\n        CLASS_NAME,\n        EXEC_MIME_TYPE\n      );\n      this.keyboard_manager.register_events(toinsert);\n      // Render to node\n      const props = {data: data, metadata: metadata[EXEC_MIME_TYPE]};\n      render(props, toinsert[toinsert.length - 1]);\n      element.append(toinsert);\n      return toinsert\n    }\n\n    /* Handle when an output is cleared or removed */\n    events.on('clear_output.CodeCell', handleClearOutput);\n    events.on('delete.Cell', handleClearOutput);\n\n    /* Handle when a new output is added */\n    events.on('output_added.OutputArea', handleAddOutput);\n\n    /**\n     * Register the mime type and append_mime function with output_area\n     */\n    OutputArea.prototype.register_mime_type(EXEC_MIME_TYPE, append_mime, {\n      /* Is output safe? */\n      safe: true,\n      /* Index of renderer in `output_area.display_order` */\n      index: 0\n    });\n  }\n\n  // register the mime type if in Jupyter Notebook environment and previously unregistered\n  if (root.Jupyter !== undefined) {\n    const events = require('base/js/events');\n    const OutputArea = require('notebook/js/outputarea').OutputArea;\n\n    if (OutputArea.prototype.mime_types().indexOf(EXEC_MIME_TYPE) == -1) {\n      register_renderer(events, OutputArea);\n    }\n  }\n\n  \n  if (typeof (root._bokeh_timeout) === \"undefined\" || force === true) {\n    root._bokeh_timeout = Date.now() + 5000;\n    root._bokeh_failed_load = false;\n  }\n\n  const NB_LOAD_WARNING = {'data': {'text/html':\n     \"<div style='background-color: #fdd'>\\n\"+\n     \"<p>\\n\"+\n     \"BokehJS does not appear to have successfully loaded. If loading BokehJS from CDN, this \\n\"+\n     \"may be due to a slow or bad network connection. Possible fixes:\\n\"+\n     \"</p>\\n\"+\n     \"<ul>\\n\"+\n     \"<li>re-rerun `output_notebook()` to attempt to load from CDN again, or</li>\\n\"+\n     \"<li>use INLINE resources instead, as so:</li>\\n\"+\n     \"</ul>\\n\"+\n     \"<code>\\n\"+\n     \"from bokeh.resources import INLINE\\n\"+\n     \"output_notebook(resources=INLINE)\\n\"+\n     \"</code>\\n\"+\n     \"</div>\"}};\n\n  function display_loaded() {\n    const el = document.getElementById(\"1002\");\n    if (el != null) {\n      el.textContent = \"BokehJS is loading...\";\n    }\n    if (root.Bokeh !== undefined) {\n      if (el != null) {\n        el.textContent = \"BokehJS \" + root.Bokeh.version + \" successfully loaded.\";\n      }\n    } else if (Date.now() < root._bokeh_timeout) {\n      setTimeout(display_loaded, 100)\n    }\n  }\n\n\n  function run_callbacks() {\n    try {\n      root._bokeh_onload_callbacks.forEach(function(callback) {\n        if (callback != null)\n          callback();\n      });\n    } finally {\n      delete root._bokeh_onload_callbacks\n    }\n    console.debug(\"Bokeh: all callbacks have finished\");\n  }\n\n  function load_libs(css_urls, js_urls, callback) {\n    if (css_urls == null) css_urls = [];\n    if (js_urls == null) js_urls = [];\n\n    root._bokeh_onload_callbacks.push(callback);\n    if (root._bokeh_is_loading > 0) {\n      console.debug(\"Bokeh: BokehJS is being loaded, scheduling callback at\", now());\n      return null;\n    }\n    if (js_urls == null || js_urls.length === 0) {\n      run_callbacks();\n      return null;\n    }\n    console.debug(\"Bokeh: BokehJS not loaded, scheduling load and callback at\", now());\n    root._bokeh_is_loading = css_urls.length + js_urls.length;\n\n    function on_load() {\n      root._bokeh_is_loading--;\n      if (root._bokeh_is_loading === 0) {\n        console.debug(\"Bokeh: all BokehJS libraries/stylesheets loaded\");\n        run_callbacks()\n      }\n    }\n\n    function on_error(url) {\n      console.error(\"failed to load \" + url);\n    }\n\n    for (let i = 0; i < css_urls.length; i++) {\n      const url = css_urls[i];\n      const element = document.createElement(\"link\");\n      element.onload = on_load;\n      element.onerror = on_error.bind(null, url);\n      element.rel = \"stylesheet\";\n      element.type = \"text/css\";\n      element.href = url;\n      console.debug(\"Bokeh: injecting link tag for BokehJS stylesheet: \", url);\n      document.body.appendChild(element);\n    }\n\n    for (let i = 0; i < js_urls.length; i++) {\n      const url = js_urls[i];\n      const element = document.createElement('script');\n      element.onload = on_load;\n      element.onerror = on_error.bind(null, url);\n      element.async = false;\n      element.src = url;\n      console.debug(\"Bokeh: injecting script tag for BokehJS library: \", url);\n      document.head.appendChild(element);\n    }\n  };\n\n  function inject_raw_css(css) {\n    const element = document.createElement(\"style\");\n    element.appendChild(document.createTextNode(css));\n    document.body.appendChild(element);\n  }\n\n  \n  const js_urls = [\"https://cdn.bokeh.org/bokeh/release/bokeh-2.4.2.min.js\", \"https://cdn.bokeh.org/bokeh/release/bokeh-gl-2.4.2.min.js\", \"https://cdn.bokeh.org/bokeh/release/bokeh-widgets-2.4.2.min.js\", \"https://cdn.bokeh.org/bokeh/release/bokeh-tables-2.4.2.min.js\", \"https://cdn.bokeh.org/bokeh/release/bokeh-mathjax-2.4.2.min.js\"];\n  const css_urls = [];\n  \n\n  const inline_js = [\n    function(Bokeh) {\n      Bokeh.set_log_level(\"info\");\n    },\n    function(Bokeh) {\n    \n    \n    }\n  ];\n\n  function run_inline_js() {\n    \n    if (root.Bokeh !== undefined || force === true) {\n      \n    for (let i = 0; i < inline_js.length; i++) {\n      inline_js[i].call(root, root.Bokeh);\n    }\n    if (force === true) {\n        display_loaded();\n      }} else if (Date.now() < root._bokeh_timeout) {\n      setTimeout(run_inline_js, 100);\n    } else if (!root._bokeh_failed_load) {\n      console.log(\"Bokeh: BokehJS failed to load within specified timeout.\");\n      root._bokeh_failed_load = true;\n    } else if (force !== true) {\n      const cell = $(document.getElementById(\"1002\")).parents('.cell').data().cell;\n      cell.output_area.append_execute_result(NB_LOAD_WARNING)\n    }\n\n  }\n\n  if (root._bokeh_is_loading === 0) {\n    console.debug(\"Bokeh: BokehJS loaded, going straight to plotting\");\n    run_inline_js();\n  } else {\n    load_libs(css_urls, js_urls, function() {\n      console.debug(\"Bokeh: BokehJS plotting callback run at\", now());\n      run_inline_js();\n    });\n  }\n}(window));",
      "application/vnd.bokehjs_load.v0+json": ""
     },
     "metadata": {},
     "output_type": "display_data"
    },
    {
     "data": {
      "text/html": [
       "\n",
       "\n",
       "\n",
       "\n",
       "\n",
       "\n",
       "  <div class=\"bk-root\" id=\"de8e4c08-5c20-485f-b3e1-c820ee4059cd\" data-root-id=\"1119\"></div>\n"
      ]
     },
     "metadata": {},
     "output_type": "display_data"
    },
    {
     "data": {
      "application/javascript": "(function(root) {\n  function embed_document(root) {\n    \n  const docs_json = {\"99de4578-655f-4c25-a67e-5fa9c64dfc8a\":{\"defs\":[],\"roots\":{\"references\":[{\"attributes\":{\"children\":[{\"id\":\"1008\"},{\"id\":\"1040\"}]},\"id\":\"1119\",\"type\":\"Column\"},{\"attributes\":{\"fill_color\":{\"value\":\"#440154\"},\"hatch_color\":{\"value\":\"#440154\"},\"line_color\":{\"value\":\"#440154\"},\"x\":{\"field\":\"date\"},\"y\":{\"field\":\"y_index\"}},\"id\":\"1060\",\"type\":\"Circle\"},{\"attributes\":{},\"id\":\"1129\",\"type\":\"UnionRenderers\"},{\"attributes\":{},\"id\":\"1130\",\"type\":\"Selection\"},{\"attributes\":{\"axis\":{\"id\":\"1023\"},\"coordinates\":null,\"dimension\":1,\"grid_line_color\":null,\"group\":null,\"ticker\":null},\"id\":\"1026\",\"type\":\"Grid\"},{\"attributes\":{\"fill_color\":{\"value\":\"#35B778\"},\"hatch_color\":{\"value\":\"#35B778\"},\"line_color\":{\"value\":\"#35B778\"},\"x\":{\"field\":\"date\"},\"y\":{\"field\":\"y_index\"}},\"id\":\"1072\",\"type\":\"Circle\"},{\"attributes\":{\"fill_alpha\":{\"value\":0.2},\"fill_color\":{\"value\":\"#30678D\"},\"hatch_alpha\":{\"value\":0.2},\"hatch_color\":{\"value\":\"#30678D\"},\"line_alpha\":{\"value\":0.2},\"line_color\":{\"value\":\"#30678D\"},\"x\":{\"field\":\"date\"},\"y\":{\"field\":\"y_index\"}},\"id\":\"1068\",\"type\":\"Circle\"},{\"attributes\":{\"active_multi\":{\"id\":\"1083\"},\"tools\":[{\"id\":\"1083\"}]},\"id\":\"1055\",\"type\":\"Toolbar\"},{\"attributes\":{\"axis\":{\"id\":\"1019\"},\"coordinates\":null,\"group\":null,\"minor_grid_line_alpha\":0.3,\"minor_grid_line_color\":\"navy\",\"ticker\":null},\"id\":\"1022\",\"type\":\"Grid\"},{\"attributes\":{\"align\":\"right\",\"coordinates\":null,\"group\":null,\"text\":\"Drag the middle or edges of the selection box to change the range in the main chart\",\"text_font_size\":\"10px\"},\"id\":\"1056\",\"type\":\"Title\"},{\"attributes\":{\"fill_alpha\":{\"value\":0.2},\"fill_color\":{\"value\":\"#35B778\"},\"hatch_alpha\":{\"value\":0.2},\"hatch_color\":{\"value\":\"#35B778\"},\"line_alpha\":{\"value\":0.2},\"line_color\":{\"value\":\"#35B778\"},\"x\":{\"field\":\"date\"},\"y\":{\"field\":\"y_index\"}},\"id\":\"1074\",\"type\":\"Circle\"},{\"attributes\":{\"data\":{\"date\":{\"__ndarray__\":\"MeAU06rkd0K0vADQquR3Qr7TH8Cq5HdCdemgu6rkd0LjWXe1quR3QvaK5l6p5HdC\",\"dtype\":\"float64\",\"order\":\"little\",\"shape\":[6]},\"index\":[39,41,44,45,47,48],\"properties.status\":[\"New\",\"New\",\"New\",\"New\",\"New\",\"New\"],\"properties.title\":[\"ADFS DKM Master Key Export\",\"Successful logon from IP and failure from a\\ndifferent IP\",\"URL Detonation (Zscaler)\",\"Azure Security Center unusual storage access\",\"Azure activity matching known threats\",\"Terminal: Suspicious Remote WMI Execution\"],\"y_index\":[3,3,3,3,3,3]},\"selected\":{\"id\":\"1136\"},\"selection_policy\":{\"id\":\"1135\"}},\"id\":\"1006\",\"type\":\"ColumnDataSource\"},{\"attributes\":{\"source\":{\"id\":\"1005\"}},\"id\":\"1076\",\"type\":\"CDSView\"},{\"attributes\":{\"dimensions\":\"width\"},\"id\":\"1027\",\"type\":\"WheelZoomTool\"},{\"attributes\":{\"days\":[\"%m-%d %H:%M\"],\"hours\":[\"%H:%M:%S\"],\"milliseconds\":[\"%H:%M:%S.%3N\"],\"minutes\":[\"%H:%M:%S\"],\"seconds\":[\"%H:%M:%S\"]},\"id\":\"1057\",\"type\":\"DatetimeTickFormatter\"},{\"attributes\":{\"source\":{\"id\":\"1004\"}},\"id\":\"1070\",\"type\":\"CDSView\"},{\"attributes\":{\"fill_color\":{\"value\":\"#FDE724\"},\"hatch_color\":{\"value\":\"#FDE724\"},\"line_color\":{\"value\":\"#FDE724\"},\"x\":{\"field\":\"date\"},\"y\":{\"field\":\"y_index\"}},\"id\":\"1078\",\"type\":\"Circle\"},{\"attributes\":{},\"id\":\"1131\",\"type\":\"UnionRenderers\"},{\"attributes\":{},\"id\":\"1017\",\"type\":\"LinearScale\"},{\"attributes\":{},\"id\":\"1132\",\"type\":\"Selection\"},{\"attributes\":{\"coordinates\":null,\"group\":null,\"text\":\"Range Selector\"},\"id\":\"1041\",\"type\":\"Title\"},{\"attributes\":{\"source\":{\"id\":\"1003\"}},\"id\":\"1064\",\"type\":\"CDSView\"},{\"attributes\":{},\"id\":\"1049\",\"type\":\"LinearScale\"},{\"attributes\":{\"fill_alpha\":{\"value\":0.2},\"fill_color\":{\"value\":\"#440154\"},\"hatch_alpha\":{\"value\":0.2},\"hatch_color\":{\"value\":\"#440154\"},\"line_alpha\":{\"value\":0.2},\"line_color\":{\"value\":\"#440154\"},\"x\":{\"field\":\"date\"},\"y\":{\"field\":\"y_index\"}},\"id\":\"1062\",\"type\":\"Circle\"},{\"attributes\":{\"fill_alpha\":{\"value\":0.1},\"fill_color\":{\"value\":\"#30678D\"},\"hatch_alpha\":{\"value\":0.1},\"hatch_color\":{\"value\":\"#30678D\"},\"line_alpha\":{\"value\":0.1},\"line_color\":{\"value\":\"#30678D\"},\"x\":{\"field\":\"date\"},\"y\":{\"field\":\"y_index\"}},\"id\":\"1067\",\"type\":\"Circle\"},{\"attributes\":{\"below\":[{\"id\":\"1051\"},{\"id\":\"1056\"}],\"center\":[{\"id\":\"1054\"}],\"height\":120,\"renderers\":[{\"id\":\"1063\"},{\"id\":\"1069\"},{\"id\":\"1075\"},{\"id\":\"1081\"}],\"title\":{\"id\":\"1041\"},\"toolbar\":{\"id\":\"1055\"},\"toolbar_location\":null,\"width\":900,\"x_range\":{\"id\":\"1043\"},\"x_scale\":{\"id\":\"1047\"},\"y_range\":{\"id\":\"1045\"},\"y_scale\":{\"id\":\"1049\"}},\"id\":\"1040\",\"subtype\":\"Figure\",\"type\":\"Plot\"},{\"attributes\":{\"axis\":{\"id\":\"1051\"},\"coordinates\":null,\"group\":null,\"ticker\":null},\"id\":\"1054\",\"type\":\"Grid\"},{\"attributes\":{},\"id\":\"1024\",\"type\":\"BasicTicker\"},{\"attributes\":{\"below\":[{\"id\":\"1019\"}],\"center\":[{\"id\":\"1022\"},{\"id\":\"1026\"}],\"height\":300,\"left\":[{\"id\":\"1023\"},{\"id\":\"1118\"}],\"min_border_left\":50,\"renderers\":[{\"id\":\"1094\"},{\"id\":\"1101\"},{\"id\":\"1108\"},{\"id\":\"1115\"}],\"title\":{\"id\":\"1009\"},\"toolbar\":{\"id\":\"1033\"},\"width\":900,\"x_range\":{\"id\":\"1011\"},\"x_scale\":{\"id\":\"1015\"},\"y_range\":{\"id\":\"1013\"},\"y_scale\":{\"id\":\"1017\"}},\"id\":\"1008\",\"subtype\":\"Figure\",\"type\":\"Plot\"},{\"attributes\":{\"num_minor_ticks\":5,\"tickers\":[{\"id\":\"1151\"},{\"id\":\"1152\"},{\"id\":\"1153\"},{\"id\":\"1154\"},{\"id\":\"1155\"},{\"id\":\"1156\"},{\"id\":\"1157\"},{\"id\":\"1158\"},{\"id\":\"1159\"},{\"id\":\"1160\"},{\"id\":\"1161\"},{\"id\":\"1162\"}]},\"id\":\"1052\",\"type\":\"DatetimeTicker\"},{\"attributes\":{\"coordinates\":null,\"data_source\":{\"id\":\"1005\"},\"glyph\":{\"id\":\"1072\"},\"group\":null,\"hover_glyph\":null,\"muted_glyph\":{\"id\":\"1074\"},\"nonselection_glyph\":{\"id\":\"1073\"},\"view\":{\"id\":\"1076\"}},\"id\":\"1075\",\"type\":\"GlyphRenderer\"},{\"attributes\":{\"coordinates\":null,\"group\":null,\"text\":\"Timeline: Incidents over time - grouped by severity\"},\"id\":\"1009\",\"type\":\"Title\"},{\"attributes\":{\"data\":{\"date\":{\"__ndarray__\":\"rqPQtqvkd0IphK62q+R3Qqi2rLar5HdC9sCqtqvkd0Iz46i2q+R3QrTQprar5HdCmq+Ztqvkd0K80Je2q+R3Qo0Dlrar5HdCBNKTtqvkd0Ll8m+2q+R3Qkz5bbar5HdC0zVDtqvkd0K4Li+1q+R3QqrvLLWr5HdCc/Qqtavkd0J7mii1q+R3QuViJrWr5HdC9OMjtavkd0L6lBa1q+R3Qn9C8bSr5HdC7GvvtKvkd0K4bO20q+R3QghG67Sr5HdC07vhtKvkd0Ipkt+0q+R3Qgbr3bSr5HdCaCvctKvkd0KqYdq0q+R3Qsdl2LSr5HdCvPSutKvkd0LZzKy0q+R3QoecqrSr5HdCLbaotKvkd0KJi6a0q+R3QqZTgrSr5HdCvmGIwarkd0K+/Xm7quR3Qg==\",\"dtype\":\"float64\",\"order\":\"little\",\"shape\":[38]},\"index\":[3,4,5,6,7,8,9,10,11,12,13,14,15,16,17,18,19,20,21,22,23,24,25,26,27,28,29,30,31,32,33,34,35,36,37,38,43,46],\"properties.status\":[\"New\",\"New\",\"New\",\"New\",\"New\",\"New\",\"New\",\"New\",\"New\",\"New\",\"New\",\"New\",\"New\",\"New\",\"New\",\"New\",\"New\",\"New\",\"New\",\"New\",\"New\",\"New\",\"New\",\"New\",\"New\",\"New\",\"New\",\"New\",\"New\",\"New\",\"New\",\"New\",\"New\",\"New\",\"New\",\"New\",\"New\",\"New\"],\"properties.title\":[\"'WannaCrypt' ransomware was prevented\",\"Suspicious PowerShell command line\",\"Suspicious process injection observed\",\"Malicious URL\",\"An active 'Mimikatz' hacktool was blocked\",\"An active 'Webdoid' exploit malware was blocked\",\"Suspected credential theft activity\",\"Defender Antivirus is not turned on\",\"Suspected use of attack framework\",\"Network request to TOR anonymization service\",\"User and IP address reconnaissance (SMB)\",\"Suspected skeleton key attack (encryption\\ndowngrade)\",\"Suspicious Remote WMI Execution\",\"Fileless attack behavior detected\",\"Network intrusion detection signature activation\\n[seen multiple times]\",\"Connection to web page from anomalous IP address\\ndetected\",\"Network communication with a malicious machine\\ndetected\",\"Crypto-mining activity\",\"Detected obfuscated command line\",\"Suspicious process termination burst\",\"Detected suspicious network activity\",\"Suspicious PowerShell command line\",\"Crypto-mining activity\",\"Mass download by a single user\",\"Suspicious impersonated activity\",\"Suspicious inbox forwarding\",\"Ransomware activity\",\"Suspicious administrative activity\",\"Mass share\",\"Mass delete\",\"Impossible travel to atypical locations\",\"Mass download\",\"Sign-in from an anonymous IP\",\"Sign-in from User with leaked Credentials\",\"Sign-in from an infected device\",\"Sign-in from an unfamiliar location\",\"Excessive Windows logon failures\",\"Fortinet - Beacon pattern detected\"],\"y_index\":[2,2,2,2,2,2,2,2,2,2,2,2,2,2,2,2,2,2,2,2,2,2,2,2,2,2,2,2,2,2,2,2,2,2,2,2,2,2]},\"selected\":{\"id\":\"1134\"},\"selection_policy\":{\"id\":\"1133\"}},\"id\":\"1005\",\"type\":\"ColumnDataSource\"},{\"attributes\":{\"base\":60,\"mantissas\":[1,2,5,10,15,20,30],\"max_interval\":1800000.0,\"min_interval\":1000.0,\"num_minor_ticks\":0},\"id\":\"1152\",\"type\":\"AdaptiveTicker\"},{\"attributes\":{\"end\":1641933665698.276,\"start\":1641928011798.008},\"id\":\"1043\",\"type\":\"Range1d\"},{\"attributes\":{},\"id\":\"1133\",\"type\":\"UnionRenderers\"},{\"attributes\":{\"mantissas\":[1,2,5],\"max_interval\":500.0,\"num_minor_ticks\":0},\"id\":\"1151\",\"type\":\"AdaptiveTicker\"},{\"attributes\":{},\"id\":\"1045\",\"type\":\"DataRange1d\"},{\"attributes\":{\"base\":24,\"mantissas\":[1,2,4,6,8,12],\"max_interval\":43200000.0,\"min_interval\":3600000.0,\"num_minor_ticks\":0},\"id\":\"1153\",\"type\":\"AdaptiveTicker\"},{\"attributes\":{},\"id\":\"1134\",\"type\":\"Selection\"},{\"attributes\":{},\"id\":\"1162\",\"type\":\"YearsTicker\"},{\"attributes\":{\"months\":[0,1,2,3,4,5,6,7,8,9,10,11]},\"id\":\"1158\",\"type\":\"MonthsTicker\"},{\"attributes\":{\"coordinates\":null,\"data_source\":{\"id\":\"1004\"},\"glyph\":{\"id\":\"1066\"},\"group\":null,\"hover_glyph\":null,\"muted_glyph\":{\"id\":\"1068\"},\"nonselection_glyph\":{\"id\":\"1067\"},\"view\":{\"id\":\"1070\"}},\"id\":\"1069\",\"type\":\"GlyphRenderer\"},{\"attributes\":{\"days\":[1,15]},\"id\":\"1157\",\"type\":\"DaysTicker\"},{\"attributes\":{\"days\":[1,2,3,4,5,6,7,8,9,10,11,12,13,14,15,16,17,18,19,20,21,22,23,24,25,26,27,28,29,30,31]},\"id\":\"1154\",\"type\":\"DaysTicker\"},{\"attributes\":{\"days\":[1,4,7,10,13,16,19,22,25,28]},\"id\":\"1155\",\"type\":\"DaysTicker\"},{\"attributes\":{\"days\":[1,8,15,22]},\"id\":\"1156\",\"type\":\"DaysTicker\"},{\"attributes\":{\"months\":[0,6]},\"id\":\"1161\",\"type\":\"MonthsTicker\"},{\"attributes\":{\"coordinates\":null,\"data_source\":{\"id\":\"1003\"},\"glyph\":{\"id\":\"1060\"},\"group\":null,\"hover_glyph\":null,\"muted_glyph\":{\"id\":\"1062\"},\"nonselection_glyph\":{\"id\":\"1061\"},\"view\":{\"id\":\"1064\"}},\"id\":\"1063\",\"type\":\"GlyphRenderer\"},{\"attributes\":{\"months\":[0,2,4,6,8,10]},\"id\":\"1159\",\"type\":\"MonthsTicker\"},{\"attributes\":{\"coordinates\":null,\"formatter\":{\"id\":\"1123\"},\"group\":null,\"major_label_policy\":{\"id\":\"1124\"},\"ticker\":{\"id\":\"1024\"},\"visible\":false},\"id\":\"1023\",\"type\":\"LinearAxis\"},{\"attributes\":{\"months\":[0,4,8]},\"id\":\"1160\",\"type\":\"MonthsTicker\"},{\"attributes\":{\"fill_color\":{\"value\":\"#30678D\"},\"hatch_color\":{\"value\":\"#30678D\"},\"line_color\":{\"value\":\"#30678D\"},\"x\":{\"field\":\"date\"},\"y\":{\"field\":\"y_index\"}},\"id\":\"1066\",\"type\":\"Circle\"},{\"attributes\":{\"axis_label\":\"Event Time\",\"coordinates\":null,\"formatter\":{\"id\":\"1088\"},\"group\":null,\"major_label_policy\":{\"id\":\"1126\"},\"ticker\":{\"id\":\"1020\"}},\"id\":\"1019\",\"type\":\"DatetimeAxis\"},{\"attributes\":{\"overlay\":{\"id\":\"1032\"}},\"id\":\"1028\",\"type\":\"BoxZoomTool\"},{\"attributes\":{\"num_minor_ticks\":10,\"tickers\":[{\"id\":\"1138\"},{\"id\":\"1139\"},{\"id\":\"1140\"},{\"id\":\"1141\"},{\"id\":\"1142\"},{\"id\":\"1143\"},{\"id\":\"1144\"},{\"id\":\"1145\"},{\"id\":\"1146\"},{\"id\":\"1147\"},{\"id\":\"1148\"},{\"id\":\"1149\"}]},\"id\":\"1020\",\"type\":\"DatetimeTicker\"},{\"attributes\":{},\"id\":\"1029\",\"type\":\"ResetTool\"},{\"attributes\":{},\"id\":\"1135\",\"type\":\"UnionRenderers\"},{\"attributes\":{\"dimensions\":\"width\"},\"id\":\"1031\",\"type\":\"PanTool\"},{\"attributes\":{},\"id\":\"1136\",\"type\":\"Selection\"},{\"attributes\":{},\"id\":\"1047\",\"type\":\"LinearScale\"},{\"attributes\":{\"bottom_units\":\"screen\",\"coordinates\":null,\"fill_alpha\":0.5,\"fill_color\":\"lightgrey\",\"group\":null,\"left_units\":\"screen\",\"level\":\"overlay\",\"line_alpha\":1.0,\"line_color\":\"black\",\"line_dash\":[4,4],\"line_width\":2,\"right_units\":\"screen\",\"syncable\":false,\"top_units\":\"screen\"},\"id\":\"1032\",\"type\":\"BoxAnnotation\"},{\"attributes\":{\"end\":1641933448240.5735,\"start\":1641928229255.7104},\"id\":\"1011\",\"type\":\"Range1d\"},{\"attributes\":{},\"id\":\"1015\",\"type\":\"LinearScale\"},{\"attributes\":{},\"id\":\"1030\",\"type\":\"SaveTool\"},{\"attributes\":{\"fill_alpha\":{\"value\":0.1},\"fill_color\":{\"value\":\"#440154\"},\"hatch_alpha\":{\"value\":0.1},\"hatch_color\":{\"value\":\"#440154\"},\"line_alpha\":{\"value\":0.1},\"line_color\":{\"value\":\"#440154\"},\"x\":{\"field\":\"date\"},\"y\":{\"field\":\"y_index\"}},\"id\":\"1061\",\"type\":\"Circle\"},{\"attributes\":{\"tools\":[{\"id\":\"1007\"},{\"id\":\"1027\"},{\"id\":\"1028\"},{\"id\":\"1029\"},{\"id\":\"1030\"},{\"id\":\"1031\"}]},\"id\":\"1033\",\"type\":\"Toolbar\"},{\"attributes\":{\"end\":3.25,\"start\":-0.25},\"id\":\"1013\",\"type\":\"Range1d\"},{\"attributes\":{\"coordinates\":null,\"formatter\":{\"id\":\"1057\"},\"group\":null,\"major_label_policy\":{\"id\":\"1128\"},\"ticker\":{\"id\":\"1052\"}},\"id\":\"1051\",\"type\":\"DatetimeAxis\"},{\"attributes\":{\"fill_alpha\":{\"value\":0.1},\"fill_color\":{\"value\":\"#35B778\"},\"hatch_alpha\":{\"value\":0.1},\"hatch_color\":{\"value\":\"#35B778\"},\"line_alpha\":{\"value\":0.1},\"line_color\":{\"value\":\"#35B778\"},\"x\":{\"field\":\"date\"},\"y\":{\"field\":\"y_index\"}},\"id\":\"1073\",\"type\":\"Circle\"},{\"attributes\":{\"label\":{\"value\":\"High\"},\"renderers\":[{\"id\":\"1094\"}]},\"id\":\"1096\",\"type\":\"LegendItem\"},{\"attributes\":{\"fill_alpha\":{\"value\":0.2},\"fill_color\":{\"value\":\"#440154\"},\"hatch_alpha\":{\"value\":0.2},\"hatch_color\":{\"value\":\"#440154\"},\"line_alpha\":{\"value\":0.2},\"line_color\":{\"value\":\"#440154\"},\"marker\":{\"value\":\"diamond\"},\"size\":{\"value\":10},\"x\":{\"field\":\"date\"},\"y\":{\"field\":\"y_index\"}},\"id\":\"1093\",\"type\":\"Scatter\"},{\"attributes\":{\"coordinates\":null,\"data_source\":{\"id\":\"1003\"},\"glyph\":{\"id\":\"1091\"},\"group\":null,\"hover_glyph\":null,\"muted_glyph\":{\"id\":\"1093\"},\"nonselection_glyph\":{\"id\":\"1092\"},\"view\":{\"id\":\"1095\"}},\"id\":\"1094\",\"type\":\"GlyphRenderer\"},{\"attributes\":{\"source\":{\"id\":\"1003\"}},\"id\":\"1095\",\"type\":\"CDSView\"},{\"attributes\":{\"fill_alpha\":{\"value\":0.1},\"fill_color\":{\"value\":\"#30678D\"},\"hatch_alpha\":{\"value\":0.1},\"hatch_color\":{\"value\":\"#30678D\"},\"line_alpha\":{\"value\":0.1},\"line_color\":{\"value\":\"#30678D\"},\"marker\":{\"value\":\"diamond\"},\"size\":{\"value\":10},\"x\":{\"field\":\"date\"},\"y\":{\"field\":\"y_index\"}},\"id\":\"1099\",\"type\":\"Scatter\"},{\"attributes\":{\"fill_alpha\":{\"value\":0.5},\"fill_color\":{\"value\":\"#30678D\"},\"hatch_alpha\":{\"value\":0.5},\"hatch_color\":{\"value\":\"#30678D\"},\"line_alpha\":{\"value\":0.5},\"line_color\":{\"value\":\"#30678D\"},\"marker\":{\"value\":\"diamond\"},\"size\":{\"value\":10},\"x\":{\"field\":\"date\"},\"y\":{\"field\":\"y_index\"}},\"id\":\"1098\",\"type\":\"Scatter\"},{\"attributes\":{},\"id\":\"1123\",\"type\":\"BasicTickFormatter\"},{\"attributes\":{\"fill_alpha\":{\"value\":0.2},\"fill_color\":{\"value\":\"#30678D\"},\"hatch_alpha\":{\"value\":0.2},\"hatch_color\":{\"value\":\"#30678D\"},\"line_alpha\":{\"value\":0.2},\"line_color\":{\"value\":\"#30678D\"},\"marker\":{\"value\":\"diamond\"},\"size\":{\"value\":10},\"x\":{\"field\":\"date\"},\"y\":{\"field\":\"y_index\"}},\"id\":\"1100\",\"type\":\"Scatter\"},{\"attributes\":{\"coordinates\":null,\"data_source\":{\"id\":\"1004\"},\"glyph\":{\"id\":\"1098\"},\"group\":null,\"hover_glyph\":null,\"muted_glyph\":{\"id\":\"1100\"},\"nonselection_glyph\":{\"id\":\"1099\"},\"view\":{\"id\":\"1102\"}},\"id\":\"1101\",\"type\":\"GlyphRenderer\"},{\"attributes\":{},\"id\":\"1124\",\"type\":\"AllLabels\"},{\"attributes\":{\"fill_alpha\":{\"value\":0.1},\"fill_color\":{\"value\":\"#35B778\"},\"hatch_alpha\":{\"value\":0.1},\"hatch_color\":{\"value\":\"#35B778\"},\"line_alpha\":{\"value\":0.1},\"line_color\":{\"value\":\"#35B778\"},\"marker\":{\"value\":\"diamond\"},\"size\":{\"value\":10},\"x\":{\"field\":\"date\"},\"y\":{\"field\":\"y_index\"}},\"id\":\"1106\",\"type\":\"Scatter\"},{\"attributes\":{\"label\":{\"value\":\"Informational\"},\"renderers\":[{\"id\":\"1101\"}]},\"id\":\"1103\",\"type\":\"LegendItem\"},{\"attributes\":{\"data\":{\"date\":{\"__ndarray__\":\"d1jR0arkd0I=\",\"dtype\":\"float64\",\"order\":\"little\",\"shape\":[1]},\"index\":[40],\"properties.status\":[\"New\"],\"properties.title\":[\"My Failed Logon Example\"],\"y_index\":[1]},\"selected\":{\"id\":\"1132\"},\"selection_policy\":{\"id\":\"1131\"}},\"id\":\"1004\",\"type\":\"ColumnDataSource\"},{\"attributes\":{\"source\":{\"id\":\"1004\"}},\"id\":\"1102\",\"type\":\"CDSView\"},{\"attributes\":{},\"id\":\"1126\",\"type\":\"AllLabels\"},{\"attributes\":{\"fill_alpha\":{\"value\":0.5},\"fill_color\":{\"value\":\"#35B778\"},\"hatch_alpha\":{\"value\":0.5},\"hatch_color\":{\"value\":\"#35B778\"},\"line_alpha\":{\"value\":0.5},\"line_color\":{\"value\":\"#35B778\"},\"marker\":{\"value\":\"diamond\"},\"size\":{\"value\":10},\"x\":{\"field\":\"date\"},\"y\":{\"field\":\"y_index\"}},\"id\":\"1105\",\"type\":\"Scatter\"},{\"attributes\":{\"fill_alpha\":{\"value\":0.2},\"fill_color\":{\"value\":\"#35B778\"},\"hatch_alpha\":{\"value\":0.2},\"hatch_color\":{\"value\":\"#35B778\"},\"line_alpha\":{\"value\":0.2},\"line_color\":{\"value\":\"#35B778\"},\"marker\":{\"value\":\"diamond\"},\"size\":{\"value\":10},\"x\":{\"field\":\"date\"},\"y\":{\"field\":\"y_index\"}},\"id\":\"1107\",\"type\":\"Scatter\"},{\"attributes\":{\"coordinates\":null,\"data_source\":{\"id\":\"1005\"},\"glyph\":{\"id\":\"1105\"},\"group\":null,\"hover_glyph\":null,\"muted_glyph\":{\"id\":\"1107\"},\"nonselection_glyph\":{\"id\":\"1106\"},\"view\":{\"id\":\"1109\"}},\"id\":\"1108\",\"type\":\"GlyphRenderer\"},{\"attributes\":{\"fill_alpha\":{\"value\":0.1},\"fill_color\":{\"value\":\"#FDE724\"},\"hatch_alpha\":{\"value\":0.1},\"hatch_color\":{\"value\":\"#FDE724\"},\"line_alpha\":{\"value\":0.1},\"line_color\":{\"value\":\"#FDE724\"},\"marker\":{\"value\":\"diamond\"},\"size\":{\"value\":10},\"x\":{\"field\":\"date\"},\"y\":{\"field\":\"y_index\"}},\"id\":\"1113\",\"type\":\"Scatter\"},{\"attributes\":{\"mantissas\":[1,2,5],\"max_interval\":500.0,\"num_minor_ticks\":0},\"id\":\"1138\",\"type\":\"AdaptiveTicker\"},{\"attributes\":{\"label\":{\"value\":\"Low\"},\"renderers\":[{\"id\":\"1108\"}]},\"id\":\"1110\",\"type\":\"LegendItem\"},{\"attributes\":{\"base\":60,\"mantissas\":[1,2,5,10,15,20,30],\"max_interval\":1800000.0,\"min_interval\":1000.0,\"num_minor_ticks\":0},\"id\":\"1139\",\"type\":\"AdaptiveTicker\"},{\"attributes\":{\"days\":[1,8,15,22]},\"id\":\"1143\",\"type\":\"DaysTicker\"},{\"attributes\":{\"base\":24,\"mantissas\":[1,2,4,6,8,12],\"max_interval\":43200000.0,\"min_interval\":3600000.0,\"num_minor_ticks\":0},\"id\":\"1140\",\"type\":\"AdaptiveTicker\"},{\"attributes\":{},\"id\":\"1149\",\"type\":\"YearsTicker\"},{\"attributes\":{\"days\":[1,4,7,10,13,16,19,22,25,28]},\"id\":\"1142\",\"type\":\"DaysTicker\"},{\"attributes\":{\"days\":[1,2,3,4,5,6,7,8,9,10,11,12,13,14,15,16,17,18,19,20,21,22,23,24,25,26,27,28,29,30,31]},\"id\":\"1141\",\"type\":\"DaysTicker\"},{\"attributes\":{\"fill_alpha\":{\"value\":0.2},\"fill_color\":{\"value\":\"#FDE724\"},\"hatch_alpha\":{\"value\":0.2},\"hatch_color\":{\"value\":\"#FDE724\"},\"line_alpha\":{\"value\":0.2},\"line_color\":{\"value\":\"#FDE724\"},\"marker\":{\"value\":\"diamond\"},\"size\":{\"value\":10},\"x\":{\"field\":\"date\"},\"y\":{\"field\":\"y_index\"}},\"id\":\"1114\",\"type\":\"Scatter\"},{\"attributes\":{\"months\":[0,6]},\"id\":\"1148\",\"type\":\"MonthsTicker\"},{\"attributes\":{\"days\":[1,15]},\"id\":\"1144\",\"type\":\"DaysTicker\"},{\"attributes\":{\"coordinates\":null,\"data_source\":{\"id\":\"1006\"},\"glyph\":{\"id\":\"1112\"},\"group\":null,\"hover_glyph\":null,\"muted_glyph\":{\"id\":\"1114\"},\"nonselection_glyph\":{\"id\":\"1113\"},\"view\":{\"id\":\"1116\"}},\"id\":\"1115\",\"type\":\"GlyphRenderer\"},{\"attributes\":{\"months\":[0,1,2,3,4,5,6,7,8,9,10,11]},\"id\":\"1145\",\"type\":\"MonthsTicker\"},{\"attributes\":{\"source\":{\"id\":\"1005\"}},\"id\":\"1109\",\"type\":\"CDSView\"},{\"attributes\":{\"months\":[0,2,4,6,8,10]},\"id\":\"1146\",\"type\":\"MonthsTicker\"},{\"attributes\":{\"fill_alpha\":{\"value\":0.5},\"fill_color\":{\"value\":\"#FDE724\"},\"hatch_alpha\":{\"value\":0.5},\"hatch_color\":{\"value\":\"#FDE724\"},\"line_alpha\":{\"value\":0.5},\"line_color\":{\"value\":\"#FDE724\"},\"marker\":{\"value\":\"diamond\"},\"size\":{\"value\":10},\"x\":{\"field\":\"date\"},\"y\":{\"field\":\"y_index\"}},\"id\":\"1112\",\"type\":\"Scatter\"},{\"attributes\":{\"callback\":null,\"formatters\":{\"@date\":\"datetime\"},\"tooltips\":[[\"properties.status\",\"@properties.status\"],[\"properties.title\",\"@properties.title\"],[\"date\",\"@date{%F %T.%3N}\"]]},\"id\":\"1007\",\"type\":\"HoverTool\"},{\"attributes\":{\"months\":[0,4,8]},\"id\":\"1147\",\"type\":\"MonthsTicker\"},{\"attributes\":{\"fill_alpha\":{\"value\":0.1},\"fill_color\":{\"value\":\"#440154\"},\"hatch_alpha\":{\"value\":0.1},\"hatch_color\":{\"value\":\"#440154\"},\"line_alpha\":{\"value\":0.1},\"line_color\":{\"value\":\"#440154\"},\"marker\":{\"value\":\"diamond\"},\"size\":{\"value\":10},\"x\":{\"field\":\"date\"},\"y\":{\"field\":\"y_index\"}},\"id\":\"1092\",\"type\":\"Scatter\"},{\"attributes\":{\"days\":[\"%m-%d %H:%M\"],\"hours\":[\"%H:%M:%S\"],\"milliseconds\":[\"%H:%M:%S.%3N\"],\"minutes\":[\"%H:%M:%S\"],\"seconds\":[\"%H:%M:%S\"]},\"id\":\"1088\",\"type\":\"DatetimeTickFormatter\"},{\"attributes\":{\"fill_alpha\":{\"value\":0.1},\"fill_color\":{\"value\":\"#FDE724\"},\"hatch_alpha\":{\"value\":0.1},\"hatch_color\":{\"value\":\"#FDE724\"},\"line_alpha\":{\"value\":0.1},\"line_color\":{\"value\":\"#FDE724\"},\"x\":{\"field\":\"date\"},\"y\":{\"field\":\"y_index\"}},\"id\":\"1079\",\"type\":\"Circle\"},{\"attributes\":{\"source\":{\"id\":\"1006\"}},\"id\":\"1082\",\"type\":\"CDSView\"},{\"attributes\":{\"overlay\":{\"id\":\"1084\"},\"x_range\":{\"id\":\"1011\"},\"y_range\":null},\"id\":\"1083\",\"type\":\"RangeTool\"},{\"attributes\":{\"coordinates\":null,\"fill_alpha\":0.2,\"fill_color\":\"navy\",\"group\":null,\"level\":\"overlay\",\"line_alpha\":1.0,\"line_color\":\"black\",\"line_dash\":[2,2],\"line_width\":0.5,\"syncable\":false},\"id\":\"1084\",\"type\":\"BoxAnnotation\"},{\"attributes\":{\"fill_alpha\":{\"value\":0.5},\"fill_color\":{\"value\":\"#440154\"},\"hatch_alpha\":{\"value\":0.5},\"hatch_color\":{\"value\":\"#440154\"},\"line_alpha\":{\"value\":0.5},\"line_color\":{\"value\":\"#440154\"},\"marker\":{\"value\":\"diamond\"},\"size\":{\"value\":10},\"x\":{\"field\":\"date\"},\"y\":{\"field\":\"y_index\"}},\"id\":\"1091\",\"type\":\"Scatter\"},{\"attributes\":{\"data\":{\"date\":{\"__ndarray__\":\"sNIUWK3kd0KikcGgrOR3QjnAj+ur5HdCJ7nlwarkd0LXsUYyqeR3Qg==\",\"dtype\":\"float64\",\"order\":\"little\",\"shape\":[5]},\"index\":[0,1,2,42,49],\"properties.status\":[\"New\",\"New\",\"New\",\"New\",\"New\"],\"properties.title\":[\"Log4j vulnerability exploit aka Log4Shell IP IOC\",\"Log4j vulnerability exploit aka Log4Shell IP IOC\",\"Atypical travel\",\"Correlate Unfamiliar sign-in properties and\\natypical travel alerts\",\"AUTO DISABLED Solorigate Network Beacon\"],\"y_index\":[0,0,0,0,0]},\"selected\":{\"id\":\"1130\"},\"selection_policy\":{\"id\":\"1129\"}},\"id\":\"1003\",\"type\":\"ColumnDataSource\"},{\"attributes\":{\"click_policy\":\"hide\",\"coordinates\":null,\"group\":null,\"items\":[{\"id\":\"1117\"},{\"id\":\"1110\"},{\"id\":\"1103\"},{\"id\":\"1096\"}],\"label_text_font_size\":\"8pt\",\"location\":\"center\"},\"id\":\"1118\",\"type\":\"Legend\"},{\"attributes\":{},\"id\":\"1128\",\"type\":\"AllLabels\"},{\"attributes\":{\"coordinates\":null,\"data_source\":{\"id\":\"1006\"},\"glyph\":{\"id\":\"1078\"},\"group\":null,\"hover_glyph\":null,\"muted_glyph\":{\"id\":\"1080\"},\"nonselection_glyph\":{\"id\":\"1079\"},\"view\":{\"id\":\"1082\"}},\"id\":\"1081\",\"type\":\"GlyphRenderer\"},{\"attributes\":{\"fill_alpha\":{\"value\":0.2},\"fill_color\":{\"value\":\"#FDE724\"},\"hatch_alpha\":{\"value\":0.2},\"hatch_color\":{\"value\":\"#FDE724\"},\"line_alpha\":{\"value\":0.2},\"line_color\":{\"value\":\"#FDE724\"},\"x\":{\"field\":\"date\"},\"y\":{\"field\":\"y_index\"}},\"id\":\"1080\",\"type\":\"Circle\"},{\"attributes\":{\"label\":{\"value\":\"Medium\"},\"renderers\":[{\"id\":\"1115\"}]},\"id\":\"1117\",\"type\":\"LegendItem\"},{\"attributes\":{\"source\":{\"id\":\"1006\"}},\"id\":\"1116\",\"type\":\"CDSView\"}],\"root_ids\":[\"1119\"]},\"title\":\"Bokeh Application\",\"version\":\"2.4.2\"}};\n  const render_items = [{\"docid\":\"99de4578-655f-4c25-a67e-5fa9c64dfc8a\",\"root_ids\":[\"1119\"],\"roots\":{\"1119\":\"de8e4c08-5c20-485f-b3e1-c820ee4059cd\"}}];\n  root.Bokeh.embed.embed_items_notebook(docs_json, render_items);\n\n  }\n  if (root.Bokeh !== undefined) {\n    embed_document(root);\n  } else {\n    let attempts = 0;\n    const timer = setInterval(function(root) {\n      if (root.Bokeh !== undefined) {\n        clearInterval(timer);\n        embed_document(root);\n      } else {\n        attempts++;\n        if (attempts > 100) {\n          clearInterval(timer);\n          console.log(\"Bokeh: ERROR: Unable to run BokehJS code because BokehJS library is missing\");\n        }\n      }\n    }, 10, root)\n  }\n})(window);",
      "application/vnd.bokehjs_exec.v0+json": ""
     },
     "metadata": {
      "application/vnd.bokehjs_exec.v0+json": {
       "id": "1119"
      }
     },
     "output_type": "display_data"
    }
   ],
   "source": [
    "incidents = azs.get_incidents(ws_id)\n",
    "# Adding timezones to allow comparison with UTC incident times\n",
    "start = alert_q_times.start.astimezone()\n",
    "end = alert_q_times.end.astimezone()\n",
    "if isinstance(incidents, pd.DataFrame) and not incidents.empty:\n",
    "    incidents[\"date\"] = pd.to_datetime(incidents[\"properties.createdTimeUtc\"], utc=True)\n",
    "    filtered_incidents = incidents[incidents[\"date\"].between(start, end)] if not incidents[incidents[\"date\"].between(start, end)].empty else incidents\n",
    "    filtered_incidents.mp_plot.timeline(\n",
    "        source_columns=[\"properties.title\", \"properties.status\"],\n",
    "        title=\"Incidents over time - grouped by severity\",\n",
    "        height=300,\n",
    "        group_by=\"properties.severity\",\n",
    "        time_column=\"date\",\n",
    "    )\n",
    "else:\n",
    "    md(\"No incidents found\")"
   ]
  },
  {
   "cell_type": "markdown",
   "metadata": {},
   "source": [
    "\n",
    "### Select Incident to Triage\n",
    "From the table below select the incident you wish to triage."
   ]
  },
  {
   "cell_type": "code",
   "execution_count": 8,
   "metadata": {},
   "outputs": [
    {
     "data": {
      "text/html": [
       "<p style='font-weight: bold'>Select an incident to triage:</p>"
      ],
      "text/plain": [
       "<IPython.core.display.HTML object>"
      ]
     },
     "metadata": {},
     "output_type": "display_data"
    },
    {
     "data": {
      "application/vnd.jupyter.widget-view+json": {
       "model_id": "5d53c3eece54422f848fdad63dd53b51",
       "version_major": 2,
       "version_minor": 0
      },
      "text/plain": [
       "VBox(children=(Text(value='', description='Filter alerts by title:', style=DescriptionStyle(description_width=…"
      ]
     },
     "metadata": {},
     "output_type": "display_data"
    },
    {
     "data": {
      "text/html": [
       "<hr>"
      ],
      "text/plain": [
       "<IPython.core.display.HTML object>"
      ]
     },
     "metadata": {},
     "output_type": "display_data"
    },
    {
     "data": {
      "text/html": [
       "\n",
       "            <h3>Selected Incident: Detected obfuscated command line,</h3>\n",
       "            <b>Incident time: </b> 2022-01-11T20:01:37.3422477Z - \n",
       "            <b>Severity: </b> Low - \n",
       "            <b>Assigned to: </b>None - \n",
       "            <b>Status: </b> New\n",
       "            "
      ],
      "text/plain": [
       "<IPython.core.display.HTML object>"
      ]
     },
     "metadata": {},
     "output_type": "display_data"
    },
    {
     "data": {
      "text/html": [
       "<div>\n",
       "<style scoped>\n",
       "    .dataframe tbody tr th:only-of-type {\n",
       "        vertical-align: middle;\n",
       "    }\n",
       "\n",
       "    .dataframe tbody tr th {\n",
       "        vertical-align: top;\n",
       "    }\n",
       "\n",
       "    .dataframe thead th {\n",
       "        text-align: right;\n",
       "    }\n",
       "</style>\n",
       "<table border=\"1\" class=\"dataframe\">\n",
       "  <thead>\n",
       "    <tr style=\"text-align: right;\">\n",
       "      <th></th>\n",
       "      <th>21</th>\n",
       "    </tr>\n",
       "  </thead>\n",
       "  <tbody>\n",
       "    <tr>\n",
       "      <th>id</th>\n",
       "      <td>/subscriptions/d1d8779d-38d7-4f06-91db-9cbc8de0176f/resourceGroups/SOC/providers/Microsoft.Opera...</td>\n",
       "    </tr>\n",
       "    <tr>\n",
       "      <th>name</th>\n",
       "      <td>fac7e091-b7cb-4d27-88e6-61336ea63a36</td>\n",
       "    </tr>\n",
       "    <tr>\n",
       "      <th>etag</th>\n",
       "      <td>\"de022301-0000-0100-0000-61dde2210000\"</td>\n",
       "    </tr>\n",
       "    <tr>\n",
       "      <th>type</th>\n",
       "      <td>Microsoft.SecurityInsights/Incidents</td>\n",
       "    </tr>\n",
       "    <tr>\n",
       "      <th>title</th>\n",
       "      <td>Detected obfuscated command line</td>\n",
       "    </tr>\n",
       "    <tr>\n",
       "      <th>description</th>\n",
       "      <td>Azure Security Center has raised an alert of type Detected obfuscated command line</td>\n",
       "    </tr>\n",
       "    <tr>\n",
       "      <th>severity</th>\n",
       "      <td>Low</td>\n",
       "    </tr>\n",
       "    <tr>\n",
       "      <th>status</th>\n",
       "      <td>New</td>\n",
       "    </tr>\n",
       "    <tr>\n",
       "      <th>objectId</th>\n",
       "      <td>None</td>\n",
       "    </tr>\n",
       "    <tr>\n",
       "      <th>email</th>\n",
       "      <td>None</td>\n",
       "    </tr>\n",
       "    <tr>\n",
       "      <th>assignedTo</th>\n",
       "      <td>None</td>\n",
       "    </tr>\n",
       "    <tr>\n",
       "      <th>userPrincipalName</th>\n",
       "      <td>None</td>\n",
       "    </tr>\n",
       "    <tr>\n",
       "      <th>labels</th>\n",
       "      <td>[]</td>\n",
       "    </tr>\n",
       "    <tr>\n",
       "      <th>firstActivityTimeUtc</th>\n",
       "      <td>2022-01-11T19:11:41.751Z</td>\n",
       "    </tr>\n",
       "    <tr>\n",
       "      <th>lastActivityTimeUtc</th>\n",
       "      <td>2022-01-11T19:58:00Z</td>\n",
       "    </tr>\n",
       "    <tr>\n",
       "      <th>lastModifiedTimeUtc</th>\n",
       "      <td>2022-01-11T20:01:37.3422477Z</td>\n",
       "    </tr>\n",
       "    <tr>\n",
       "      <th>createdTimeUtc</th>\n",
       "      <td>2022-01-11T20:01:37.3422477Z</td>\n",
       "    </tr>\n",
       "    <tr>\n",
       "      <th>incidentNumber</th>\n",
       "      <td>116294</td>\n",
       "    </tr>\n",
       "    <tr>\n",
       "      <th>alertsCount</th>\n",
       "      <td>1</td>\n",
       "    </tr>\n",
       "    <tr>\n",
       "      <th>bookmarksCount</th>\n",
       "      <td>0</td>\n",
       "    </tr>\n",
       "    <tr>\n",
       "      <th>commentsCount</th>\n",
       "      <td>0</td>\n",
       "    </tr>\n",
       "    <tr>\n",
       "      <th>alertProductNames</th>\n",
       "      <td>[Azure Security Center]</td>\n",
       "    </tr>\n",
       "    <tr>\n",
       "      <th>tactics</th>\n",
       "      <td>[]</td>\n",
       "    </tr>\n",
       "    <tr>\n",
       "      <th>relatedAnalyticRuleIds</th>\n",
       "      <td>[/subscriptions/d1d8779d-38d7-4f06-91db-9cbc8de0176f/resourceGroups/SOC/providers/Microsoft.Oper...</td>\n",
       "    </tr>\n",
       "    <tr>\n",
       "      <th>incidentUrl</th>\n",
       "      <td>https://portal.azure.com/#asset/Microsoft_Azure_Security_Insights/Incident/subscriptions/d1d8779...</td>\n",
       "    </tr>\n",
       "    <tr>\n",
       "      <th>date</th>\n",
       "      <td>2022-01-11 20:01:37.342247700+00:00</td>\n",
       "    </tr>\n",
       "    <tr>\n",
       "      <th>short_id</th>\n",
       "      <td>fac7e091-b7cb-4d27-88e6-61336ea63a36</td>\n",
       "    </tr>\n",
       "  </tbody>\n",
       "</table>\n",
       "</div>"
      ],
      "text/plain": [
       "                                                                                                                         21\n",
       "id                      /subscriptions/d1d8779d-38d7-4f06-91db-9cbc8de0176f/resourceGroups/SOC/providers/Microsoft.Opera...\n",
       "name                                                                                   fac7e091-b7cb-4d27-88e6-61336ea63a36\n",
       "etag                                                                                 \"de022301-0000-0100-0000-61dde2210000\"\n",
       "type                                                                                   Microsoft.SecurityInsights/Incidents\n",
       "title                                                                                      Detected obfuscated command line\n",
       "description                              Azure Security Center has raised an alert of type Detected obfuscated command line\n",
       "severity                                                                                                                Low\n",
       "status                                                                                                                  New\n",
       "objectId                                                                                                               None\n",
       "email                                                                                                                  None\n",
       "assignedTo                                                                                                             None\n",
       "userPrincipalName                                                                                                      None\n",
       "labels                                                                                                                   []\n",
       "firstActivityTimeUtc                                                                               2022-01-11T19:11:41.751Z\n",
       "lastActivityTimeUtc                                                                                    2022-01-11T19:58:00Z\n",
       "lastModifiedTimeUtc                                                                            2022-01-11T20:01:37.3422477Z\n",
       "createdTimeUtc                                                                                 2022-01-11T20:01:37.3422477Z\n",
       "incidentNumber                                                                                                       116294\n",
       "alertsCount                                                                                                               1\n",
       "bookmarksCount                                                                                                            0\n",
       "commentsCount                                                                                                             0\n",
       "alertProductNames                                                                                   [Azure Security Center]\n",
       "tactics                                                                                                                  []\n",
       "relatedAnalyticRuleIds  [/subscriptions/d1d8779d-38d7-4f06-91db-9cbc8de0176f/resourceGroups/SOC/providers/Microsoft.Oper...\n",
       "incidentUrl             https://portal.azure.com/#asset/Microsoft_Azure_Security_Insights/Incident/subscriptions/d1d8779...\n",
       "date                                                                                    2022-01-11 20:01:37.342247700+00:00\n",
       "short_id                                                                               fac7e091-b7cb-4d27-88e6-61336ea63a36"
      ]
     },
     "metadata": {},
     "output_type": "display_data"
    }
   ],
   "source": [
    "md(\"Select an incident to triage:\", \"bold\")\n",
    "\n",
    "\n",
    "def display_incident(incident):\n",
    "    details = f\"\"\"\n",
    "            <h3>Selected Incident: {incident['properties.title']},</h3>\n",
    "            <b>Incident time: </b> {incident['properties.createdTimeUtc']} - \n",
    "            <b>Severity: </b> {incident['properties.severity']} - \n",
    "            <b>Assigned to: </b>{incident['properties.owner.userPrincipalName']} - \n",
    "            <b>Status: </b> {incident['properties.status']}\n",
    "            \"\"\"\n",
    "    new_idx = [idx.split(\".\")[-1] for idx in incident.index]\n",
    "    incident.set_axis(new_idx, inplace=True)\n",
    "    return HTML(details), pd.DataFrame(incident)\n",
    "\n",
    "\n",
    "filtered_incidents[\"short_id\"] = filtered_incidents[\"id\"].apply(\n",
    "    lambda x: x.split(\"/\")[-1]\n",
    ")\n",
    "\n",
    "alert_sel = SelectAlert(\n",
    "    alerts=filtered_incidents,\n",
    "    columns=[\"properties.title\", \"properties.severity\", \"properties.status\"],\n",
    "    time_col=\"properties.createdTimeUtc\",\n",
    "    id_col=\"short_id\",\n",
    "    action=display_incident,\n",
    ")\n",
    "alert_sel.display()"
   ]
  },
  {
   "cell_type": "markdown",
   "metadata": {},
   "source": [
    "The cell below shows you key details relating to the incident, including the associated entities and the graph of the relationships between these entities."
   ]
  },
  {
   "cell_type": "code",
   "execution_count": 18,
   "metadata": {},
   "outputs": [
    {
     "data": {
      "text/html": [
       "<p style='font-weight: bold'>Incident Entities:</p>"
      ],
      "text/plain": [
       "<IPython.core.display.HTML object>"
      ]
     },
     "metadata": {},
     "output_type": "display_data"
    },
    {
     "data": {
      "text/html": [
       "<p style='font-weight: bold'>Account</p>"
      ],
      "text/plain": [
       "<IPython.core.display.HTML object>"
      ]
     },
     "metadata": {},
     "output_type": "display_data"
    },
    {
     "data": {
      "text/html": [
       "<div>\n",
       "<style scoped>\n",
       "    .dataframe tbody tr th:only-of-type {\n",
       "        vertical-align: middle;\n",
       "    }\n",
       "\n",
       "    .dataframe tbody tr th {\n",
       "        vertical-align: top;\n",
       "    }\n",
       "\n",
       "    .dataframe thead th {\n",
       "        text-align: right;\n",
       "    }\n",
       "</style>\n",
       "<table border=\"1\" class=\"dataframe\">\n",
       "  <thead>\n",
       "    <tr style=\"text-align: right;\">\n",
       "      <th></th>\n",
       "      <th>accountName</th>\n",
       "      <th>upnSuffix</th>\n",
       "      <th>aadTenantId</th>\n",
       "      <th>aadUserId</th>\n",
       "      <th>displayName</th>\n",
       "      <th>friendlyName</th>\n",
       "      <th>Type</th>\n",
       "    </tr>\n",
       "  </thead>\n",
       "  <tbody>\n",
       "    <tr>\n",
       "      <th>0</th>\n",
       "      <td>JeffL</td>\n",
       "      <td>seccxpninja.onmicrosoft.com</td>\n",
       "      <td>72f988bf-86f1-41af-91ab-2d7cd011db47</td>\n",
       "      <td>313a54a7-bc65-1473-fa90-e60e7d1f57c8</td>\n",
       "      <td>JeffL</td>\n",
       "      <td>JeffL</td>\n",
       "      <td>Account</td>\n",
       "    </tr>\n",
       "  </tbody>\n",
       "</table>\n",
       "</div>"
      ],
      "text/plain": [
       "  accountName                    upnSuffix  \\\n",
       "0       JeffL  seccxpninja.onmicrosoft.com   \n",
       "\n",
       "                            aadTenantId                             aadUserId  \\\n",
       "0  72f988bf-86f1-41af-91ab-2d7cd011db47  313a54a7-bc65-1473-fa90-e60e7d1f57c8   \n",
       "\n",
       "  displayName friendlyName     Type  \n",
       "0       JeffL        JeffL  Account  "
      ]
     },
     "metadata": {},
     "output_type": "display_data"
    },
    {
     "data": {
      "text/html": [
       "<p style='font-weight: bold'>Host</p>"
      ],
      "text/plain": [
       "<IPython.core.display.HTML object>"
      ]
     },
     "metadata": {},
     "output_type": "display_data"
    },
    {
     "data": {
      "text/html": [
       "<div>\n",
       "<style scoped>\n",
       "    .dataframe tbody tr th:only-of-type {\n",
       "        vertical-align: middle;\n",
       "    }\n",
       "\n",
       "    .dataframe tbody tr th {\n",
       "        vertical-align: top;\n",
       "    }\n",
       "\n",
       "    .dataframe thead th {\n",
       "        text-align: right;\n",
       "    }\n",
       "</style>\n",
       "<table border=\"1\" class=\"dataframe\">\n",
       "  <thead>\n",
       "    <tr style=\"text-align: right;\">\n",
       "      <th></th>\n",
       "      <th>friendlyName</th>\n",
       "      <th>Type</th>\n",
       "      <th>hostName</th>\n",
       "    </tr>\n",
       "  </thead>\n",
       "  <tbody>\n",
       "    <tr>\n",
       "      <th>1</th>\n",
       "      <td>AdminHost</td>\n",
       "      <td>Host</td>\n",
       "      <td>AdminHost</td>\n",
       "    </tr>\n",
       "    <tr>\n",
       "      <th>3</th>\n",
       "      <td>DummyTestHost-805873551</td>\n",
       "      <td>Host</td>\n",
       "      <td>DummyTestHost-805873551</td>\n",
       "    </tr>\n",
       "  </tbody>\n",
       "</table>\n",
       "</div>"
      ],
      "text/plain": [
       "              friendlyName  Type                 hostName\n",
       "1                AdminHost  Host                AdminHost\n",
       "3  DummyTestHost-805873551  Host  DummyTestHost-805873551"
      ]
     },
     "metadata": {},
     "output_type": "display_data"
    },
    {
     "data": {
      "text/html": [
       "<p style='font-weight: bold'>Ip</p>"
      ],
      "text/plain": [
       "<IPython.core.display.HTML object>"
      ]
     },
     "metadata": {},
     "output_type": "display_data"
    },
    {
     "data": {
      "text/html": [
       "<div>\n",
       "<style scoped>\n",
       "    .dataframe tbody tr th:only-of-type {\n",
       "        vertical-align: middle;\n",
       "    }\n",
       "\n",
       "    .dataframe tbody tr th {\n",
       "        vertical-align: top;\n",
       "    }\n",
       "\n",
       "    .dataframe thead th {\n",
       "        text-align: right;\n",
       "    }\n",
       "</style>\n",
       "<table border=\"1\" class=\"dataframe\">\n",
       "  <thead>\n",
       "    <tr style=\"text-align: right;\">\n",
       "      <th></th>\n",
       "      <th>friendlyName</th>\n",
       "      <th>Type</th>\n",
       "      <th>address</th>\n",
       "    </tr>\n",
       "  </thead>\n",
       "  <tbody>\n",
       "    <tr>\n",
       "      <th>2</th>\n",
       "      <td>26.68.157.223</td>\n",
       "      <td>Ip</td>\n",
       "      <td>26.68.157.223</td>\n",
       "    </tr>\n",
       "  </tbody>\n",
       "</table>\n",
       "</div>"
      ],
      "text/plain": [
       "    friendlyName Type        address\n",
       "2  26.68.157.223   Ip  26.68.157.223"
      ]
     },
     "metadata": {},
     "output_type": "display_data"
    },
    {
     "data": {
      "text/html": [
       "<div>\n",
       "<style scoped>\n",
       "    .dataframe tbody tr th:only-of-type {\n",
       "        vertical-align: middle;\n",
       "    }\n",
       "\n",
       "    .dataframe tbody tr th {\n",
       "        vertical-align: top;\n",
       "    }\n",
       "\n",
       "    .dataframe thead th {\n",
       "        text-align: right;\n",
       "    }\n",
       "</style>\n",
       "<table border=\"1\" class=\"dataframe\">\n",
       "  <thead>\n",
       "    <tr style=\"text-align: right;\">\n",
       "      <th></th>\n",
       "      <th>TenantId</th>\n",
       "      <th>TimeGenerated</th>\n",
       "      <th>DisplayName</th>\n",
       "      <th>AlertName</th>\n",
       "      <th>AlertSeverity</th>\n",
       "      <th>Description</th>\n",
       "      <th>ProviderName</th>\n",
       "      <th>VendorName</th>\n",
       "      <th>VendorOriginalId</th>\n",
       "      <th>SystemAlertId</th>\n",
       "      <th>ResourceId</th>\n",
       "      <th>SourceComputerId</th>\n",
       "      <th>AlertType</th>\n",
       "      <th>ConfidenceLevel</th>\n",
       "      <th>ConfidenceScore</th>\n",
       "      <th>IsIncident</th>\n",
       "      <th>StartTime</th>\n",
       "      <th>EndTime</th>\n",
       "      <th>ProcessingEndTime</th>\n",
       "      <th>RemediationSteps</th>\n",
       "      <th>ExtendedProperties</th>\n",
       "      <th>Entities</th>\n",
       "      <th>SourceSystem</th>\n",
       "      <th>WorkspaceSubscriptionId</th>\n",
       "      <th>WorkspaceResourceGroup</th>\n",
       "      <th>ExtendedLinks</th>\n",
       "      <th>ProductName</th>\n",
       "      <th>ProductComponentName</th>\n",
       "      <th>AlertLink</th>\n",
       "      <th>Status</th>\n",
       "      <th>CompromisedEntity</th>\n",
       "      <th>Tactics</th>\n",
       "      <th>Techniques</th>\n",
       "      <th>Type</th>\n",
       "    </tr>\n",
       "  </thead>\n",
       "  <tbody>\n",
       "    <tr>\n",
       "      <th>0</th>\n",
       "      <td>8ecf8077-cf51-4820-aadd-14040956f35d</td>\n",
       "      <td>2022-01-11 20:01:34.001000+00:00</td>\n",
       "      <td>Detected obfuscated command line</td>\n",
       "      <td>Detected obfuscated command line</td>\n",
       "      <td>Low</td>\n",
       "      <td>Azure Security Center has raised an alert of type Detected obfuscated command line</td>\n",
       "      <td>Azure Security Center</td>\n",
       "      <td>Microsoft</td>\n",
       "      <td>d7d60f2a8ca2eeedab10b69a880a5bbd33450f1343672015f060019ac78d84df</td>\n",
       "      <td>98513445-5947-bfcb-ca66-4182c794c2ba</td>\n",
       "      <td></td>\n",
       "      <td></td>\n",
       "      <td>Detected obfuscated command line</td>\n",
       "      <td></td>\n",
       "      <td>NaN</td>\n",
       "      <td>False</td>\n",
       "      <td>2022-01-11 19:11:41.751000+00:00</td>\n",
       "      <td>2022-01-11 19:58:00+00:00</td>\n",
       "      <td>2022-01-11 20:01:34.001000+00:00</td>\n",
       "      <td></td>\n",
       "      <td>{\"IpAddress\":\"26.68.157.223\",\"FusionSyntheticAlert\":\"true\",\"TenantId\":\"72f988bf-86f1-41af-91ab-2...</td>\n",
       "      <td>[{\"$id\":\"3\",\"AadTenantId\":\"72f988bf-86f1-41af-91ab-2d7cd011db47\",\"AadUserId\":\"313a54a7-bc65-1473...</td>\n",
       "      <td>Detection</td>\n",
       "      <td></td>\n",
       "      <td></td>\n",
       "      <td></td>\n",
       "      <td>Azure Security Center</td>\n",
       "      <td></td>\n",
       "      <td></td>\n",
       "      <td>New</td>\n",
       "      <td>313a54a7-bc65-1473-fa90-e60e7d1f57c8</td>\n",
       "      <td>Unknown</td>\n",
       "      <td></td>\n",
       "      <td>SecurityAlert</td>\n",
       "    </tr>\n",
       "    <tr>\n",
       "      <th>1</th>\n",
       "      <td>8ecf8077-cf51-4820-aadd-14040956f35d</td>\n",
       "      <td>2022-01-11 20:01:33.980000+00:00</td>\n",
       "      <td>Detected obfuscated command line</td>\n",
       "      <td>Detected obfuscated command line</td>\n",
       "      <td>Low</td>\n",
       "      <td>Azure Security Center has raised an alert of type Detected obfuscated command line</td>\n",
       "      <td>Azure Security Center</td>\n",
       "      <td>Microsoft</td>\n",
       "      <td>d7d60f2a8ca2eeedab10b69a880a5bbd33450f1343672015f060019ac78d84df</td>\n",
       "      <td>98513445-5947-bfcb-ca66-4182c794c2ba</td>\n",
       "      <td></td>\n",
       "      <td></td>\n",
       "      <td>Detected obfuscated command line</td>\n",
       "      <td></td>\n",
       "      <td>NaN</td>\n",
       "      <td>False</td>\n",
       "      <td>2022-01-11 19:11:41.751000+00:00</td>\n",
       "      <td>2022-01-11 19:58:00+00:00</td>\n",
       "      <td>2022-01-11 20:01:33.980000+00:00</td>\n",
       "      <td></td>\n",
       "      <td>{\"IpAddress\":\"26.68.157.223\",\"FusionSyntheticAlert\":\"true\",\"TenantId\":\"72f988bf-86f1-41af-91ab-2...</td>\n",
       "      <td>[{\"$id\":\"3\",\"AadTenantId\":\"72f988bf-86f1-41af-91ab-2d7cd011db47\",\"AadUserId\":\"313a54a7-bc65-1473...</td>\n",
       "      <td>Detection</td>\n",
       "      <td></td>\n",
       "      <td></td>\n",
       "      <td></td>\n",
       "      <td>Azure Security Center</td>\n",
       "      <td></td>\n",
       "      <td></td>\n",
       "      <td>New</td>\n",
       "      <td>313a54a7-bc65-1473-fa90-e60e7d1f57c8</td>\n",
       "      <td>Unknown</td>\n",
       "      <td></td>\n",
       "      <td>SecurityAlert</td>\n",
       "    </tr>\n",
       "  </tbody>\n",
       "</table>\n",
       "</div>"
      ],
      "text/plain": [
       "                               TenantId                    TimeGenerated  \\\n",
       "0  8ecf8077-cf51-4820-aadd-14040956f35d 2022-01-11 20:01:34.001000+00:00   \n",
       "1  8ecf8077-cf51-4820-aadd-14040956f35d 2022-01-11 20:01:33.980000+00:00   \n",
       "\n",
       "                        DisplayName                         AlertName  \\\n",
       "0  Detected obfuscated command line  Detected obfuscated command line   \n",
       "1  Detected obfuscated command line  Detected obfuscated command line   \n",
       "\n",
       "  AlertSeverity  \\\n",
       "0           Low   \n",
       "1           Low   \n",
       "\n",
       "                                                                          Description  \\\n",
       "0  Azure Security Center has raised an alert of type Detected obfuscated command line   \n",
       "1  Azure Security Center has raised an alert of type Detected obfuscated command line   \n",
       "\n",
       "            ProviderName VendorName  \\\n",
       "0  Azure Security Center  Microsoft   \n",
       "1  Azure Security Center  Microsoft   \n",
       "\n",
       "                                                   VendorOriginalId  \\\n",
       "0  d7d60f2a8ca2eeedab10b69a880a5bbd33450f1343672015f060019ac78d84df   \n",
       "1  d7d60f2a8ca2eeedab10b69a880a5bbd33450f1343672015f060019ac78d84df   \n",
       "\n",
       "                          SystemAlertId ResourceId SourceComputerId  \\\n",
       "0  98513445-5947-bfcb-ca66-4182c794c2ba                               \n",
       "1  98513445-5947-bfcb-ca66-4182c794c2ba                               \n",
       "\n",
       "                          AlertType ConfidenceLevel  ConfidenceScore  \\\n",
       "0  Detected obfuscated command line                              NaN   \n",
       "1  Detected obfuscated command line                              NaN   \n",
       "\n",
       "   IsIncident                        StartTime                   EndTime  \\\n",
       "0       False 2022-01-11 19:11:41.751000+00:00 2022-01-11 19:58:00+00:00   \n",
       "1       False 2022-01-11 19:11:41.751000+00:00 2022-01-11 19:58:00+00:00   \n",
       "\n",
       "                 ProcessingEndTime RemediationSteps  \\\n",
       "0 2022-01-11 20:01:34.001000+00:00                    \n",
       "1 2022-01-11 20:01:33.980000+00:00                    \n",
       "\n",
       "                                                                                    ExtendedProperties  \\\n",
       "0  {\"IpAddress\":\"26.68.157.223\",\"FusionSyntheticAlert\":\"true\",\"TenantId\":\"72f988bf-86f1-41af-91ab-2...   \n",
       "1  {\"IpAddress\":\"26.68.157.223\",\"FusionSyntheticAlert\":\"true\",\"TenantId\":\"72f988bf-86f1-41af-91ab-2...   \n",
       "\n",
       "                                                                                              Entities  \\\n",
       "0  [{\"$id\":\"3\",\"AadTenantId\":\"72f988bf-86f1-41af-91ab-2d7cd011db47\",\"AadUserId\":\"313a54a7-bc65-1473...   \n",
       "1  [{\"$id\":\"3\",\"AadTenantId\":\"72f988bf-86f1-41af-91ab-2d7cd011db47\",\"AadUserId\":\"313a54a7-bc65-1473...   \n",
       "\n",
       "  SourceSystem WorkspaceSubscriptionId WorkspaceResourceGroup ExtendedLinks  \\\n",
       "0    Detection                                                                \n",
       "1    Detection                                                                \n",
       "\n",
       "             ProductName ProductComponentName AlertLink Status  \\\n",
       "0  Azure Security Center                                   New   \n",
       "1  Azure Security Center                                   New   \n",
       "\n",
       "                      CompromisedEntity  Tactics Techniques           Type  \n",
       "0  313a54a7-bc65-1473-fa90-e60e7d1f57c8  Unknown             SecurityAlert  \n",
       "1  313a54a7-bc65-1473-fa90-e60e7d1f57c8  Unknown             SecurityAlert  "
      ]
     },
     "metadata": {},
     "output_type": "display_data"
    },
    {
     "data": {
      "text/html": [
       "<p style='font-weight: bold'>Graph of incident entities:</p>"
      ],
      "text/plain": [
       "<IPython.core.display.HTML object>"
      ]
     },
     "metadata": {},
     "output_type": "display_data"
    },
    {
     "data": {
      "text/html": [
       "\n",
       "    <div class=\"bk-root\">\n",
       "        <a href=\"https://bokeh.org\" target=\"_blank\" class=\"bk-logo bk-logo-small bk-logo-notebook\"></a>\n",
       "        <span id=\"1909\">Loading BokehJS ...</span>\n",
       "    </div>"
      ]
     },
     "metadata": {},
     "output_type": "display_data"
    },
    {
     "data": {
      "application/javascript": "\n(function(root) {\n  function now() {\n    return new Date();\n  }\n\n  const force = true;\n\n  if (typeof root._bokeh_onload_callbacks === \"undefined\" || force === true) {\n    root._bokeh_onload_callbacks = [];\n    root._bokeh_is_loading = undefined;\n  }\n\n  const JS_MIME_TYPE = 'application/javascript';\n  const HTML_MIME_TYPE = 'text/html';\n  const EXEC_MIME_TYPE = 'application/vnd.bokehjs_exec.v0+json';\n  const CLASS_NAME = 'output_bokeh rendered_html';\n\n  /**\n   * Render data to the DOM node\n   */\n  function render(props, node) {\n    const script = document.createElement(\"script\");\n    node.appendChild(script);\n  }\n\n  /**\n   * Handle when an output is cleared or removed\n   */\n  function handleClearOutput(event, handle) {\n    const cell = handle.cell;\n\n    const id = cell.output_area._bokeh_element_id;\n    const server_id = cell.output_area._bokeh_server_id;\n    // Clean up Bokeh references\n    if (id != null && id in Bokeh.index) {\n      Bokeh.index[id].model.document.clear();\n      delete Bokeh.index[id];\n    }\n\n    if (server_id !== undefined) {\n      // Clean up Bokeh references\n      const cmd_clean = \"from bokeh.io.state import curstate; print(curstate().uuid_to_server['\" + server_id + \"'].get_sessions()[0].document.roots[0]._id)\";\n      cell.notebook.kernel.execute(cmd_clean, {\n        iopub: {\n          output: function(msg) {\n            const id = msg.content.text.trim();\n            if (id in Bokeh.index) {\n              Bokeh.index[id].model.document.clear();\n              delete Bokeh.index[id];\n            }\n          }\n        }\n      });\n      // Destroy server and session\n      const cmd_destroy = \"import bokeh.io.notebook as ion; ion.destroy_server('\" + server_id + \"')\";\n      cell.notebook.kernel.execute(cmd_destroy);\n    }\n  }\n\n  /**\n   * Handle when a new output is added\n   */\n  function handleAddOutput(event, handle) {\n    const output_area = handle.output_area;\n    const output = handle.output;\n\n    // limit handleAddOutput to display_data with EXEC_MIME_TYPE content only\n    if ((output.output_type != \"display_data\") || (!Object.prototype.hasOwnProperty.call(output.data, EXEC_MIME_TYPE))) {\n      return\n    }\n\n    const toinsert = output_area.element.find(\".\" + CLASS_NAME.split(' ')[0]);\n\n    if (output.metadata[EXEC_MIME_TYPE][\"id\"] !== undefined) {\n      toinsert[toinsert.length - 1].firstChild.textContent = output.data[JS_MIME_TYPE];\n      // store reference to embed id on output_area\n      output_area._bokeh_element_id = output.metadata[EXEC_MIME_TYPE][\"id\"];\n    }\n    if (output.metadata[EXEC_MIME_TYPE][\"server_id\"] !== undefined) {\n      const bk_div = document.createElement(\"div\");\n      bk_div.innerHTML = output.data[HTML_MIME_TYPE];\n      const script_attrs = bk_div.children[0].attributes;\n      for (let i = 0; i < script_attrs.length; i++) {\n        toinsert[toinsert.length - 1].firstChild.setAttribute(script_attrs[i].name, script_attrs[i].value);\n        toinsert[toinsert.length - 1].firstChild.textContent = bk_div.children[0].textContent\n      }\n      // store reference to server id on output_area\n      output_area._bokeh_server_id = output.metadata[EXEC_MIME_TYPE][\"server_id\"];\n    }\n  }\n\n  function register_renderer(events, OutputArea) {\n\n    function append_mime(data, metadata, element) {\n      // create a DOM node to render to\n      const toinsert = this.create_output_subarea(\n        metadata,\n        CLASS_NAME,\n        EXEC_MIME_TYPE\n      );\n      this.keyboard_manager.register_events(toinsert);\n      // Render to node\n      const props = {data: data, metadata: metadata[EXEC_MIME_TYPE]};\n      render(props, toinsert[toinsert.length - 1]);\n      element.append(toinsert);\n      return toinsert\n    }\n\n    /* Handle when an output is cleared or removed */\n    events.on('clear_output.CodeCell', handleClearOutput);\n    events.on('delete.Cell', handleClearOutput);\n\n    /* Handle when a new output is added */\n    events.on('output_added.OutputArea', handleAddOutput);\n\n    /**\n     * Register the mime type and append_mime function with output_area\n     */\n    OutputArea.prototype.register_mime_type(EXEC_MIME_TYPE, append_mime, {\n      /* Is output safe? */\n      safe: true,\n      /* Index of renderer in `output_area.display_order` */\n      index: 0\n    });\n  }\n\n  // register the mime type if in Jupyter Notebook environment and previously unregistered\n  if (root.Jupyter !== undefined) {\n    const events = require('base/js/events');\n    const OutputArea = require('notebook/js/outputarea').OutputArea;\n\n    if (OutputArea.prototype.mime_types().indexOf(EXEC_MIME_TYPE) == -1) {\n      register_renderer(events, OutputArea);\n    }\n  }\n\n  \n  if (typeof (root._bokeh_timeout) === \"undefined\" || force === true) {\n    root._bokeh_timeout = Date.now() + 5000;\n    root._bokeh_failed_load = false;\n  }\n\n  const NB_LOAD_WARNING = {'data': {'text/html':\n     \"<div style='background-color: #fdd'>\\n\"+\n     \"<p>\\n\"+\n     \"BokehJS does not appear to have successfully loaded. If loading BokehJS from CDN, this \\n\"+\n     \"may be due to a slow or bad network connection. Possible fixes:\\n\"+\n     \"</p>\\n\"+\n     \"<ul>\\n\"+\n     \"<li>re-rerun `output_notebook()` to attempt to load from CDN again, or</li>\\n\"+\n     \"<li>use INLINE resources instead, as so:</li>\\n\"+\n     \"</ul>\\n\"+\n     \"<code>\\n\"+\n     \"from bokeh.resources import INLINE\\n\"+\n     \"output_notebook(resources=INLINE)\\n\"+\n     \"</code>\\n\"+\n     \"</div>\"}};\n\n  function display_loaded() {\n    const el = document.getElementById(\"1909\");\n    if (el != null) {\n      el.textContent = \"BokehJS is loading...\";\n    }\n    if (root.Bokeh !== undefined) {\n      if (el != null) {\n        el.textContent = \"BokehJS \" + root.Bokeh.version + \" successfully loaded.\";\n      }\n    } else if (Date.now() < root._bokeh_timeout) {\n      setTimeout(display_loaded, 100)\n    }\n  }\n\n\n  function run_callbacks() {\n    try {\n      root._bokeh_onload_callbacks.forEach(function(callback) {\n        if (callback != null)\n          callback();\n      });\n    } finally {\n      delete root._bokeh_onload_callbacks\n    }\n    console.debug(\"Bokeh: all callbacks have finished\");\n  }\n\n  function load_libs(css_urls, js_urls, callback) {\n    if (css_urls == null) css_urls = [];\n    if (js_urls == null) js_urls = [];\n\n    root._bokeh_onload_callbacks.push(callback);\n    if (root._bokeh_is_loading > 0) {\n      console.debug(\"Bokeh: BokehJS is being loaded, scheduling callback at\", now());\n      return null;\n    }\n    if (js_urls == null || js_urls.length === 0) {\n      run_callbacks();\n      return null;\n    }\n    console.debug(\"Bokeh: BokehJS not loaded, scheduling load and callback at\", now());\n    root._bokeh_is_loading = css_urls.length + js_urls.length;\n\n    function on_load() {\n      root._bokeh_is_loading--;\n      if (root._bokeh_is_loading === 0) {\n        console.debug(\"Bokeh: all BokehJS libraries/stylesheets loaded\");\n        run_callbacks()\n      }\n    }\n\n    function on_error(url) {\n      console.error(\"failed to load \" + url);\n    }\n\n    for (let i = 0; i < css_urls.length; i++) {\n      const url = css_urls[i];\n      const element = document.createElement(\"link\");\n      element.onload = on_load;\n      element.onerror = on_error.bind(null, url);\n      element.rel = \"stylesheet\";\n      element.type = \"text/css\";\n      element.href = url;\n      console.debug(\"Bokeh: injecting link tag for BokehJS stylesheet: \", url);\n      document.body.appendChild(element);\n    }\n\n    for (let i = 0; i < js_urls.length; i++) {\n      const url = js_urls[i];\n      const element = document.createElement('script');\n      element.onload = on_load;\n      element.onerror = on_error.bind(null, url);\n      element.async = false;\n      element.src = url;\n      console.debug(\"Bokeh: injecting script tag for BokehJS library: \", url);\n      document.head.appendChild(element);\n    }\n  };\n\n  function inject_raw_css(css) {\n    const element = document.createElement(\"style\");\n    element.appendChild(document.createTextNode(css));\n    document.body.appendChild(element);\n  }\n\n  \n  const js_urls = [\"https://cdn.bokeh.org/bokeh/release/bokeh-2.4.2.min.js\", \"https://cdn.bokeh.org/bokeh/release/bokeh-gl-2.4.2.min.js\", \"https://cdn.bokeh.org/bokeh/release/bokeh-widgets-2.4.2.min.js\", \"https://cdn.bokeh.org/bokeh/release/bokeh-tables-2.4.2.min.js\", \"https://cdn.bokeh.org/bokeh/release/bokeh-mathjax-2.4.2.min.js\"];\n  const css_urls = [];\n  \n\n  const inline_js = [\n    function(Bokeh) {\n      Bokeh.set_log_level(\"info\");\n    },\n    function(Bokeh) {\n    \n    \n    }\n  ];\n\n  function run_inline_js() {\n    \n    if (root.Bokeh !== undefined || force === true) {\n      \n    for (let i = 0; i < inline_js.length; i++) {\n      inline_js[i].call(root, root.Bokeh);\n    }\n    if (force === true) {\n        display_loaded();\n      }} else if (Date.now() < root._bokeh_timeout) {\n      setTimeout(run_inline_js, 100);\n    } else if (!root._bokeh_failed_load) {\n      console.log(\"Bokeh: BokehJS failed to load within specified timeout.\");\n      root._bokeh_failed_load = true;\n    } else if (force !== true) {\n      const cell = $(document.getElementById(\"1909\")).parents('.cell').data().cell;\n      cell.output_area.append_execute_result(NB_LOAD_WARNING)\n    }\n\n  }\n\n  if (root._bokeh_is_loading === 0) {\n    console.debug(\"Bokeh: BokehJS loaded, going straight to plotting\");\n    run_inline_js();\n  } else {\n    load_libs(css_urls, js_urls, function() {\n      console.debug(\"Bokeh: BokehJS plotting callback run at\", now());\n      run_inline_js();\n    });\n  }\n}(window));",
      "application/vnd.bokehjs_load.v0+json": ""
     },
     "metadata": {},
     "output_type": "display_data"
    },
    {
     "data": {
      "text/html": [
       "\n",
       "    <div class=\"bk-root\">\n",
       "        <a href=\"https://bokeh.org\" target=\"_blank\" class=\"bk-logo bk-logo-small bk-logo-notebook\"></a>\n",
       "        <span id=\"1910\">Loading BokehJS ...</span>\n",
       "    </div>"
      ]
     },
     "metadata": {},
     "output_type": "display_data"
    },
    {
     "data": {
      "application/javascript": "\n(function(root) {\n  function now() {\n    return new Date();\n  }\n\n  const force = true;\n\n  if (typeof root._bokeh_onload_callbacks === \"undefined\" || force === true) {\n    root._bokeh_onload_callbacks = [];\n    root._bokeh_is_loading = undefined;\n  }\n\n  const JS_MIME_TYPE = 'application/javascript';\n  const HTML_MIME_TYPE = 'text/html';\n  const EXEC_MIME_TYPE = 'application/vnd.bokehjs_exec.v0+json';\n  const CLASS_NAME = 'output_bokeh rendered_html';\n\n  /**\n   * Render data to the DOM node\n   */\n  function render(props, node) {\n    const script = document.createElement(\"script\");\n    node.appendChild(script);\n  }\n\n  /**\n   * Handle when an output is cleared or removed\n   */\n  function handleClearOutput(event, handle) {\n    const cell = handle.cell;\n\n    const id = cell.output_area._bokeh_element_id;\n    const server_id = cell.output_area._bokeh_server_id;\n    // Clean up Bokeh references\n    if (id != null && id in Bokeh.index) {\n      Bokeh.index[id].model.document.clear();\n      delete Bokeh.index[id];\n    }\n\n    if (server_id !== undefined) {\n      // Clean up Bokeh references\n      const cmd_clean = \"from bokeh.io.state import curstate; print(curstate().uuid_to_server['\" + server_id + \"'].get_sessions()[0].document.roots[0]._id)\";\n      cell.notebook.kernel.execute(cmd_clean, {\n        iopub: {\n          output: function(msg) {\n            const id = msg.content.text.trim();\n            if (id in Bokeh.index) {\n              Bokeh.index[id].model.document.clear();\n              delete Bokeh.index[id];\n            }\n          }\n        }\n      });\n      // Destroy server and session\n      const cmd_destroy = \"import bokeh.io.notebook as ion; ion.destroy_server('\" + server_id + \"')\";\n      cell.notebook.kernel.execute(cmd_destroy);\n    }\n  }\n\n  /**\n   * Handle when a new output is added\n   */\n  function handleAddOutput(event, handle) {\n    const output_area = handle.output_area;\n    const output = handle.output;\n\n    // limit handleAddOutput to display_data with EXEC_MIME_TYPE content only\n    if ((output.output_type != \"display_data\") || (!Object.prototype.hasOwnProperty.call(output.data, EXEC_MIME_TYPE))) {\n      return\n    }\n\n    const toinsert = output_area.element.find(\".\" + CLASS_NAME.split(' ')[0]);\n\n    if (output.metadata[EXEC_MIME_TYPE][\"id\"] !== undefined) {\n      toinsert[toinsert.length - 1].firstChild.textContent = output.data[JS_MIME_TYPE];\n      // store reference to embed id on output_area\n      output_area._bokeh_element_id = output.metadata[EXEC_MIME_TYPE][\"id\"];\n    }\n    if (output.metadata[EXEC_MIME_TYPE][\"server_id\"] !== undefined) {\n      const bk_div = document.createElement(\"div\");\n      bk_div.innerHTML = output.data[HTML_MIME_TYPE];\n      const script_attrs = bk_div.children[0].attributes;\n      for (let i = 0; i < script_attrs.length; i++) {\n        toinsert[toinsert.length - 1].firstChild.setAttribute(script_attrs[i].name, script_attrs[i].value);\n        toinsert[toinsert.length - 1].firstChild.textContent = bk_div.children[0].textContent\n      }\n      // store reference to server id on output_area\n      output_area._bokeh_server_id = output.metadata[EXEC_MIME_TYPE][\"server_id\"];\n    }\n  }\n\n  function register_renderer(events, OutputArea) {\n\n    function append_mime(data, metadata, element) {\n      // create a DOM node to render to\n      const toinsert = this.create_output_subarea(\n        metadata,\n        CLASS_NAME,\n        EXEC_MIME_TYPE\n      );\n      this.keyboard_manager.register_events(toinsert);\n      // Render to node\n      const props = {data: data, metadata: metadata[EXEC_MIME_TYPE]};\n      render(props, toinsert[toinsert.length - 1]);\n      element.append(toinsert);\n      return toinsert\n    }\n\n    /* Handle when an output is cleared or removed */\n    events.on('clear_output.CodeCell', handleClearOutput);\n    events.on('delete.Cell', handleClearOutput);\n\n    /* Handle when a new output is added */\n    events.on('output_added.OutputArea', handleAddOutput);\n\n    /**\n     * Register the mime type and append_mime function with output_area\n     */\n    OutputArea.prototype.register_mime_type(EXEC_MIME_TYPE, append_mime, {\n      /* Is output safe? */\n      safe: true,\n      /* Index of renderer in `output_area.display_order` */\n      index: 0\n    });\n  }\n\n  // register the mime type if in Jupyter Notebook environment and previously unregistered\n  if (root.Jupyter !== undefined) {\n    const events = require('base/js/events');\n    const OutputArea = require('notebook/js/outputarea').OutputArea;\n\n    if (OutputArea.prototype.mime_types().indexOf(EXEC_MIME_TYPE) == -1) {\n      register_renderer(events, OutputArea);\n    }\n  }\n\n  \n  if (typeof (root._bokeh_timeout) === \"undefined\" || force === true) {\n    root._bokeh_timeout = Date.now() + 5000;\n    root._bokeh_failed_load = false;\n  }\n\n  const NB_LOAD_WARNING = {'data': {'text/html':\n     \"<div style='background-color: #fdd'>\\n\"+\n     \"<p>\\n\"+\n     \"BokehJS does not appear to have successfully loaded. If loading BokehJS from CDN, this \\n\"+\n     \"may be due to a slow or bad network connection. Possible fixes:\\n\"+\n     \"</p>\\n\"+\n     \"<ul>\\n\"+\n     \"<li>re-rerun `output_notebook()` to attempt to load from CDN again, or</li>\\n\"+\n     \"<li>use INLINE resources instead, as so:</li>\\n\"+\n     \"</ul>\\n\"+\n     \"<code>\\n\"+\n     \"from bokeh.resources import INLINE\\n\"+\n     \"output_notebook(resources=INLINE)\\n\"+\n     \"</code>\\n\"+\n     \"</div>\"}};\n\n  function display_loaded() {\n    const el = document.getElementById(\"1910\");\n    if (el != null) {\n      el.textContent = \"BokehJS is loading...\";\n    }\n    if (root.Bokeh !== undefined) {\n      if (el != null) {\n        el.textContent = \"BokehJS \" + root.Bokeh.version + \" successfully loaded.\";\n      }\n    } else if (Date.now() < root._bokeh_timeout) {\n      setTimeout(display_loaded, 100)\n    }\n  }\n\n\n  function run_callbacks() {\n    try {\n      root._bokeh_onload_callbacks.forEach(function(callback) {\n        if (callback != null)\n          callback();\n      });\n    } finally {\n      delete root._bokeh_onload_callbacks\n    }\n    console.debug(\"Bokeh: all callbacks have finished\");\n  }\n\n  function load_libs(css_urls, js_urls, callback) {\n    if (css_urls == null) css_urls = [];\n    if (js_urls == null) js_urls = [];\n\n    root._bokeh_onload_callbacks.push(callback);\n    if (root._bokeh_is_loading > 0) {\n      console.debug(\"Bokeh: BokehJS is being loaded, scheduling callback at\", now());\n      return null;\n    }\n    if (js_urls == null || js_urls.length === 0) {\n      run_callbacks();\n      return null;\n    }\n    console.debug(\"Bokeh: BokehJS not loaded, scheduling load and callback at\", now());\n    root._bokeh_is_loading = css_urls.length + js_urls.length;\n\n    function on_load() {\n      root._bokeh_is_loading--;\n      if (root._bokeh_is_loading === 0) {\n        console.debug(\"Bokeh: all BokehJS libraries/stylesheets loaded\");\n        run_callbacks()\n      }\n    }\n\n    function on_error(url) {\n      console.error(\"failed to load \" + url);\n    }\n\n    for (let i = 0; i < css_urls.length; i++) {\n      const url = css_urls[i];\n      const element = document.createElement(\"link\");\n      element.onload = on_load;\n      element.onerror = on_error.bind(null, url);\n      element.rel = \"stylesheet\";\n      element.type = \"text/css\";\n      element.href = url;\n      console.debug(\"Bokeh: injecting link tag for BokehJS stylesheet: \", url);\n      document.body.appendChild(element);\n    }\n\n    for (let i = 0; i < js_urls.length; i++) {\n      const url = js_urls[i];\n      const element = document.createElement('script');\n      element.onload = on_load;\n      element.onerror = on_error.bind(null, url);\n      element.async = false;\n      element.src = url;\n      console.debug(\"Bokeh: injecting script tag for BokehJS library: \", url);\n      document.head.appendChild(element);\n    }\n  };\n\n  function inject_raw_css(css) {\n    const element = document.createElement(\"style\");\n    element.appendChild(document.createTextNode(css));\n    document.body.appendChild(element);\n  }\n\n  \n  const js_urls = [\"https://cdn.bokeh.org/bokeh/release/bokeh-2.4.2.min.js\", \"https://cdn.bokeh.org/bokeh/release/bokeh-gl-2.4.2.min.js\", \"https://cdn.bokeh.org/bokeh/release/bokeh-widgets-2.4.2.min.js\", \"https://cdn.bokeh.org/bokeh/release/bokeh-tables-2.4.2.min.js\", \"https://cdn.bokeh.org/bokeh/release/bokeh-mathjax-2.4.2.min.js\"];\n  const css_urls = [];\n  \n\n  const inline_js = [\n    function(Bokeh) {\n      Bokeh.set_log_level(\"info\");\n    },\n    function(Bokeh) {\n    \n    \n    }\n  ];\n\n  function run_inline_js() {\n    \n    if (root.Bokeh !== undefined || force === true) {\n      \n    for (let i = 0; i < inline_js.length; i++) {\n      inline_js[i].call(root, root.Bokeh);\n    }\n    if (force === true) {\n        display_loaded();\n      }} else if (Date.now() < root._bokeh_timeout) {\n      setTimeout(run_inline_js, 100);\n    } else if (!root._bokeh_failed_load) {\n      console.log(\"Bokeh: BokehJS failed to load within specified timeout.\");\n      root._bokeh_failed_load = true;\n    } else if (force !== true) {\n      const cell = $(document.getElementById(\"1910\")).parents('.cell').data().cell;\n      cell.output_area.append_execute_result(NB_LOAD_WARNING)\n    }\n\n  }\n\n  if (root._bokeh_is_loading === 0) {\n    console.debug(\"Bokeh: BokehJS loaded, going straight to plotting\");\n    run_inline_js();\n  } else {\n    load_libs(css_urls, js_urls, function() {\n      console.debug(\"Bokeh: BokehJS plotting callback run at\", now());\n      run_inline_js();\n    });\n  }\n}(window));",
      "application/vnd.bokehjs_load.v0+json": ""
     },
     "metadata": {},
     "output_type": "display_data"
    },
    {
     "data": {
      "text/html": [
       "\n",
       "    <div class=\"bk-root\">\n",
       "        <a href=\"https://bokeh.org\" target=\"_blank\" class=\"bk-logo bk-logo-small bk-logo-notebook\"></a>\n",
       "        <span id=\"1967\">Loading BokehJS ...</span>\n",
       "    </div>"
      ]
     },
     "metadata": {},
     "output_type": "display_data"
    },
    {
     "data": {
      "application/javascript": "\n(function(root) {\n  function now() {\n    return new Date();\n  }\n\n  const force = true;\n\n  if (typeof root._bokeh_onload_callbacks === \"undefined\" || force === true) {\n    root._bokeh_onload_callbacks = [];\n    root._bokeh_is_loading = undefined;\n  }\n\n  const JS_MIME_TYPE = 'application/javascript';\n  const HTML_MIME_TYPE = 'text/html';\n  const EXEC_MIME_TYPE = 'application/vnd.bokehjs_exec.v0+json';\n  const CLASS_NAME = 'output_bokeh rendered_html';\n\n  /**\n   * Render data to the DOM node\n   */\n  function render(props, node) {\n    const script = document.createElement(\"script\");\n    node.appendChild(script);\n  }\n\n  /**\n   * Handle when an output is cleared or removed\n   */\n  function handleClearOutput(event, handle) {\n    const cell = handle.cell;\n\n    const id = cell.output_area._bokeh_element_id;\n    const server_id = cell.output_area._bokeh_server_id;\n    // Clean up Bokeh references\n    if (id != null && id in Bokeh.index) {\n      Bokeh.index[id].model.document.clear();\n      delete Bokeh.index[id];\n    }\n\n    if (server_id !== undefined) {\n      // Clean up Bokeh references\n      const cmd_clean = \"from bokeh.io.state import curstate; print(curstate().uuid_to_server['\" + server_id + \"'].get_sessions()[0].document.roots[0]._id)\";\n      cell.notebook.kernel.execute(cmd_clean, {\n        iopub: {\n          output: function(msg) {\n            const id = msg.content.text.trim();\n            if (id in Bokeh.index) {\n              Bokeh.index[id].model.document.clear();\n              delete Bokeh.index[id];\n            }\n          }\n        }\n      });\n      // Destroy server and session\n      const cmd_destroy = \"import bokeh.io.notebook as ion; ion.destroy_server('\" + server_id + \"')\";\n      cell.notebook.kernel.execute(cmd_destroy);\n    }\n  }\n\n  /**\n   * Handle when a new output is added\n   */\n  function handleAddOutput(event, handle) {\n    const output_area = handle.output_area;\n    const output = handle.output;\n\n    // limit handleAddOutput to display_data with EXEC_MIME_TYPE content only\n    if ((output.output_type != \"display_data\") || (!Object.prototype.hasOwnProperty.call(output.data, EXEC_MIME_TYPE))) {\n      return\n    }\n\n    const toinsert = output_area.element.find(\".\" + CLASS_NAME.split(' ')[0]);\n\n    if (output.metadata[EXEC_MIME_TYPE][\"id\"] !== undefined) {\n      toinsert[toinsert.length - 1].firstChild.textContent = output.data[JS_MIME_TYPE];\n      // store reference to embed id on output_area\n      output_area._bokeh_element_id = output.metadata[EXEC_MIME_TYPE][\"id\"];\n    }\n    if (output.metadata[EXEC_MIME_TYPE][\"server_id\"] !== undefined) {\n      const bk_div = document.createElement(\"div\");\n      bk_div.innerHTML = output.data[HTML_MIME_TYPE];\n      const script_attrs = bk_div.children[0].attributes;\n      for (let i = 0; i < script_attrs.length; i++) {\n        toinsert[toinsert.length - 1].firstChild.setAttribute(script_attrs[i].name, script_attrs[i].value);\n        toinsert[toinsert.length - 1].firstChild.textContent = bk_div.children[0].textContent\n      }\n      // store reference to server id on output_area\n      output_area._bokeh_server_id = output.metadata[EXEC_MIME_TYPE][\"server_id\"];\n    }\n  }\n\n  function register_renderer(events, OutputArea) {\n\n    function append_mime(data, metadata, element) {\n      // create a DOM node to render to\n      const toinsert = this.create_output_subarea(\n        metadata,\n        CLASS_NAME,\n        EXEC_MIME_TYPE\n      );\n      this.keyboard_manager.register_events(toinsert);\n      // Render to node\n      const props = {data: data, metadata: metadata[EXEC_MIME_TYPE]};\n      render(props, toinsert[toinsert.length - 1]);\n      element.append(toinsert);\n      return toinsert\n    }\n\n    /* Handle when an output is cleared or removed */\n    events.on('clear_output.CodeCell', handleClearOutput);\n    events.on('delete.Cell', handleClearOutput);\n\n    /* Handle when a new output is added */\n    events.on('output_added.OutputArea', handleAddOutput);\n\n    /**\n     * Register the mime type and append_mime function with output_area\n     */\n    OutputArea.prototype.register_mime_type(EXEC_MIME_TYPE, append_mime, {\n      /* Is output safe? */\n      safe: true,\n      /* Index of renderer in `output_area.display_order` */\n      index: 0\n    });\n  }\n\n  // register the mime type if in Jupyter Notebook environment and previously unregistered\n  if (root.Jupyter !== undefined) {\n    const events = require('base/js/events');\n    const OutputArea = require('notebook/js/outputarea').OutputArea;\n\n    if (OutputArea.prototype.mime_types().indexOf(EXEC_MIME_TYPE) == -1) {\n      register_renderer(events, OutputArea);\n    }\n  }\n\n  \n  if (typeof (root._bokeh_timeout) === \"undefined\" || force === true) {\n    root._bokeh_timeout = Date.now() + 5000;\n    root._bokeh_failed_load = false;\n  }\n\n  const NB_LOAD_WARNING = {'data': {'text/html':\n     \"<div style='background-color: #fdd'>\\n\"+\n     \"<p>\\n\"+\n     \"BokehJS does not appear to have successfully loaded. If loading BokehJS from CDN, this \\n\"+\n     \"may be due to a slow or bad network connection. Possible fixes:\\n\"+\n     \"</p>\\n\"+\n     \"<ul>\\n\"+\n     \"<li>re-rerun `output_notebook()` to attempt to load from CDN again, or</li>\\n\"+\n     \"<li>use INLINE resources instead, as so:</li>\\n\"+\n     \"</ul>\\n\"+\n     \"<code>\\n\"+\n     \"from bokeh.resources import INLINE\\n\"+\n     \"output_notebook(resources=INLINE)\\n\"+\n     \"</code>\\n\"+\n     \"</div>\"}};\n\n  function display_loaded() {\n    const el = document.getElementById(\"1967\");\n    if (el != null) {\n      el.textContent = \"BokehJS is loading...\";\n    }\n    if (root.Bokeh !== undefined) {\n      if (el != null) {\n        el.textContent = \"BokehJS \" + root.Bokeh.version + \" successfully loaded.\";\n      }\n    } else if (Date.now() < root._bokeh_timeout) {\n      setTimeout(display_loaded, 100)\n    }\n  }\n\n\n  function run_callbacks() {\n    try {\n      root._bokeh_onload_callbacks.forEach(function(callback) {\n        if (callback != null)\n          callback();\n      });\n    } finally {\n      delete root._bokeh_onload_callbacks\n    }\n    console.debug(\"Bokeh: all callbacks have finished\");\n  }\n\n  function load_libs(css_urls, js_urls, callback) {\n    if (css_urls == null) css_urls = [];\n    if (js_urls == null) js_urls = [];\n\n    root._bokeh_onload_callbacks.push(callback);\n    if (root._bokeh_is_loading > 0) {\n      console.debug(\"Bokeh: BokehJS is being loaded, scheduling callback at\", now());\n      return null;\n    }\n    if (js_urls == null || js_urls.length === 0) {\n      run_callbacks();\n      return null;\n    }\n    console.debug(\"Bokeh: BokehJS not loaded, scheduling load and callback at\", now());\n    root._bokeh_is_loading = css_urls.length + js_urls.length;\n\n    function on_load() {\n      root._bokeh_is_loading--;\n      if (root._bokeh_is_loading === 0) {\n        console.debug(\"Bokeh: all BokehJS libraries/stylesheets loaded\");\n        run_callbacks()\n      }\n    }\n\n    function on_error(url) {\n      console.error(\"failed to load \" + url);\n    }\n\n    for (let i = 0; i < css_urls.length; i++) {\n      const url = css_urls[i];\n      const element = document.createElement(\"link\");\n      element.onload = on_load;\n      element.onerror = on_error.bind(null, url);\n      element.rel = \"stylesheet\";\n      element.type = \"text/css\";\n      element.href = url;\n      console.debug(\"Bokeh: injecting link tag for BokehJS stylesheet: \", url);\n      document.body.appendChild(element);\n    }\n\n    for (let i = 0; i < js_urls.length; i++) {\n      const url = js_urls[i];\n      const element = document.createElement('script');\n      element.onload = on_load;\n      element.onerror = on_error.bind(null, url);\n      element.async = false;\n      element.src = url;\n      console.debug(\"Bokeh: injecting script tag for BokehJS library: \", url);\n      document.head.appendChild(element);\n    }\n  };\n\n  function inject_raw_css(css) {\n    const element = document.createElement(\"style\");\n    element.appendChild(document.createTextNode(css));\n    document.body.appendChild(element);\n  }\n\n  \n  const js_urls = [\"https://cdn.bokeh.org/bokeh/release/bokeh-2.4.2.min.js\", \"https://cdn.bokeh.org/bokeh/release/bokeh-gl-2.4.2.min.js\", \"https://cdn.bokeh.org/bokeh/release/bokeh-widgets-2.4.2.min.js\", \"https://cdn.bokeh.org/bokeh/release/bokeh-tables-2.4.2.min.js\", \"https://cdn.bokeh.org/bokeh/release/bokeh-mathjax-2.4.2.min.js\"];\n  const css_urls = [];\n  \n\n  const inline_js = [\n    function(Bokeh) {\n      Bokeh.set_log_level(\"info\");\n    },\n    function(Bokeh) {\n    \n    \n    }\n  ];\n\n  function run_inline_js() {\n    \n    if (root.Bokeh !== undefined || force === true) {\n      \n    for (let i = 0; i < inline_js.length; i++) {\n      inline_js[i].call(root, root.Bokeh);\n    }\n    if (force === true) {\n        display_loaded();\n      }} else if (Date.now() < root._bokeh_timeout) {\n      setTimeout(run_inline_js, 100);\n    } else if (!root._bokeh_failed_load) {\n      console.log(\"Bokeh: BokehJS failed to load within specified timeout.\");\n      root._bokeh_failed_load = true;\n    } else if (force !== true) {\n      const cell = $(document.getElementById(\"1967\")).parents('.cell').data().cell;\n      cell.output_area.append_execute_result(NB_LOAD_WARNING)\n    }\n\n  }\n\n  if (root._bokeh_is_loading === 0) {\n    console.debug(\"Bokeh: BokehJS loaded, going straight to plotting\");\n    run_inline_js();\n  } else {\n    load_libs(css_urls, js_urls, function() {\n      console.debug(\"Bokeh: BokehJS plotting callback run at\", now());\n      run_inline_js();\n    });\n  }\n}(window));",
      "application/vnd.bokehjs_load.v0+json": ""
     },
     "metadata": {},
     "output_type": "display_data"
    },
    {
     "data": {
      "text/html": [
       "\n",
       "\n",
       "\n",
       "\n",
       "\n",
       "\n",
       "  <div class=\"bk-root\" id=\"e7875f04-529e-4e88-a261-e0deb33e2a46\" data-root-id=\"2050\"></div>\n"
      ]
     },
     "metadata": {},
     "output_type": "display_data"
    },
    {
     "data": {
      "application/javascript": "(function(root) {\n  function embed_document(root) {\n    \n  const docs_json = {\"6ff7a9c9-09c6-4b3e-92bc-f92ffe56c33b\":{\"defs\":[],\"roots\":{\"references\":[{\"attributes\":{\"children\":[{\"id\":\"1911\"},{\"id\":\"2049\"}]},\"id\":\"2050\",\"type\":\"Column\"},{\"attributes\":{\"end\":3,\"start\":-3},\"id\":\"1914\",\"type\":\"Range1d\"},{\"attributes\":{},\"id\":\"2083\",\"type\":\"Selection\"},{\"attributes\":{\"fill_alpha\":{\"value\":0.2},\"fill_color\":{\"value\":\"navy\"},\"hatch_alpha\":{\"value\":0.2},\"hatch_color\":{\"value\":\"navy\"},\"height\":{\"value\":0.3},\"line_alpha\":{\"value\":0.2},\"line_color\":{\"value\":\"navy\"},\"width\":{\"field\":\"Width\"},\"x\":{\"field\":\"Center\"},\"y\":{\"field\":\"Row\",\"transform\":{\"id\":\"2002\"}}},\"id\":\"2006\",\"type\":\"Rect\"},{\"attributes\":{\"num_minor_ticks\":10,\"tickers\":[{\"id\":\"2087\"},{\"id\":\"2088\"},{\"id\":\"2089\"},{\"id\":\"2090\"},{\"id\":\"2091\"},{\"id\":\"2092\"},{\"id\":\"2093\"},{\"id\":\"2094\"},{\"id\":\"2095\"},{\"id\":\"2096\"},{\"id\":\"2097\"},{\"id\":\"2098\"}]},\"id\":\"1983\",\"type\":\"DatetimeTicker\"},{\"attributes\":{},\"id\":\"1920\",\"type\":\"LinearScale\"},{\"attributes\":{},\"id\":\"2084\",\"type\":\"UnionRenderers\"},{\"attributes\":{},\"id\":\"2085\",\"type\":\"Selection\"},{\"attributes\":{\"coordinates\":null,\"data_source\":{\"id\":\"1968\"},\"glyph\":{\"id\":\"2004\"},\"group\":null,\"hover_glyph\":null,\"muted_glyph\":{\"id\":\"2006\"},\"nonselection_glyph\":{\"id\":\"2005\"},\"view\":{\"id\":\"2008\"}},\"id\":\"2007\",\"type\":\"GlyphRenderer\"},{\"attributes\":{\"coordinates\":null,\"formatter\":{\"id\":\"2066\"},\"group\":null,\"major_label_policy\":{\"id\":\"2067\"},\"ticker\":{\"id\":\"1923\"}},\"id\":\"1922\",\"type\":\"LinearAxis\"},{\"attributes\":{\"below\":[{\"id\":\"1922\"}],\"center\":[{\"id\":\"1925\"},{\"id\":\"1929\"},{\"id\":\"1961\"},{\"id\":\"1962\"},{\"id\":\"1963\"},{\"id\":\"1964\"},{\"id\":\"1965\"},{\"id\":\"1966\"}],\"height\":800,\"left\":[{\"id\":\"1926\"}],\"renderers\":[{\"id\":\"1946\"}],\"title\":{\"id\":\"1912\"},\"toolbar\":{\"id\":\"1937\"},\"width\":800,\"x_range\":{\"id\":\"1914\"},\"x_scale\":{\"id\":\"1918\"},\"y_range\":{\"id\":\"1916\"},\"y_scale\":{\"id\":\"1920\"}},\"id\":\"1911\",\"subtype\":\"Figure\",\"type\":\"Plot\"},{\"attributes\":{\"source\":{\"id\":\"1968\"}},\"id\":\"2008\",\"type\":\"CDSView\"},{\"attributes\":{\"fill_alpha\":{\"value\":0.1},\"fill_color\":{\"value\":\"navy\"},\"hatch_alpha\":{\"value\":0.1},\"hatch_color\":{\"value\":\"navy\"},\"height\":{\"value\":0.3},\"line_alpha\":{\"value\":0.1},\"line_color\":{\"value\":\"navy\"},\"width\":{\"field\":\"Width\"},\"x\":{\"field\":\"Center\"},\"y\":{\"field\":\"Row\",\"transform\":{\"id\":\"2002\"}}},\"id\":\"2005\",\"type\":\"Rect\"},{\"attributes\":{\"tools\":[{\"id\":\"1970\"},{\"id\":\"1989\"},{\"id\":\"1990\"},{\"id\":\"1991\"},{\"id\":\"1992\"},{\"id\":\"1993\"}]},\"id\":\"1995\",\"type\":\"Toolbar\"},{\"attributes\":{\"fill_alpha\":{\"value\":0.5},\"fill_color\":{\"field\":\"node_color\"},\"size\":{\"value\":25}},\"id\":\"1956\",\"type\":\"Circle\"},{\"attributes\":{},\"id\":\"1923\",\"type\":\"BasicTicker\"},{\"attributes\":{\"mantissas\":[1,2,5],\"max_interval\":500.0,\"num_minor_ticks\":0},\"id\":\"2087\",\"type\":\"AdaptiveTicker\"},{\"attributes\":{\"fill_alpha\":{\"value\":0.5},\"fill_color\":{\"value\":\"navy\"},\"hatch_alpha\":{\"value\":0.5},\"hatch_color\":{\"value\":\"navy\"},\"line_alpha\":{\"value\":0.5},\"line_color\":{\"value\":\"navy\"},\"marker\":{\"value\":\"diamond\"},\"size\":{\"value\":5},\"x\":{\"field\":\"StartTime\"},\"y\":{\"field\":\"Row\",\"transform\":{\"id\":\"2009\"}}},\"id\":\"2011\",\"type\":\"Scatter\"},{\"attributes\":{\"base\":60,\"mantissas\":[1,2,5,10,15,20,30],\"max_interval\":1800000.0,\"min_interval\":1000.0,\"num_minor_ticks\":0},\"id\":\"2088\",\"type\":\"AdaptiveTicker\"},{\"attributes\":{\"base\":24,\"mantissas\":[1,2,4,6,8,12],\"max_interval\":43200000.0,\"min_interval\":3600000.0,\"num_minor_ticks\":0},\"id\":\"2089\",\"type\":\"AdaptiveTicker\"},{\"attributes\":{},\"id\":\"2098\",\"type\":\"YearsTicker\"},{\"attributes\":{\"range\":null,\"value\":0.5},\"id\":\"2009\",\"type\":\"Dodge\"},{\"attributes\":{\"months\":[0,1,2,3,4,5,6,7,8,9,10,11]},\"id\":\"2094\",\"type\":\"MonthsTicker\"},{\"attributes\":{\"days\":[1,15]},\"id\":\"2093\",\"type\":\"DaysTicker\"},{\"attributes\":{\"days\":[1,2,3,4,5,6,7,8,9,10,11,12,13,14,15,16,17,18,19,20,21,22,23,24,25,26,27,28,29,30,31]},\"id\":\"2090\",\"type\":\"DaysTicker\"},{\"attributes\":{\"bottom_units\":\"screen\",\"coordinates\":null,\"fill_alpha\":0.5,\"fill_color\":\"lightgrey\",\"group\":null,\"left_units\":\"screen\",\"level\":\"overlay\",\"line_alpha\":1.0,\"line_color\":\"black\",\"line_dash\":[4,4],\"line_width\":2,\"right_units\":\"screen\",\"syncable\":false,\"top_units\":\"screen\"},\"id\":\"1994\",\"type\":\"BoxAnnotation\"},{\"attributes\":{\"days\":[1,4,7,10,13,16,19,22,25,28]},\"id\":\"2091\",\"type\":\"DaysTicker\"},{\"attributes\":{\"days\":[1,8,15,22]},\"id\":\"2092\",\"type\":\"DaysTicker\"},{\"attributes\":{\"axis\":{\"id\":\"1922\"},\"coordinates\":null,\"group\":null,\"ticker\":null},\"id\":\"1925\",\"type\":\"Grid\"},{\"attributes\":{},\"id\":\"1991\",\"type\":\"ResetTool\"},{\"attributes\":{\"months\":[0,6]},\"id\":\"2097\",\"type\":\"MonthsTicker\"},{\"attributes\":{\"dimensions\":\"width\"},\"id\":\"1993\",\"type\":\"PanTool\"},{\"attributes\":{\"months\":[0,2,4,6,8,10]},\"id\":\"2095\",\"type\":\"MonthsTicker\"},{\"attributes\":{\"months\":[0,4,8]},\"id\":\"2096\",\"type\":\"MonthsTicker\"},{\"attributes\":{\"dimensions\":\"width\"},\"id\":\"1989\",\"type\":\"WheelZoomTool\"},{\"attributes\":{},\"id\":\"1987\",\"type\":\"CategoricalTicker\"},{\"attributes\":{\"axis\":{\"id\":\"1982\"},\"coordinates\":null,\"group\":null,\"minor_grid_line_alpha\":0.3,\"minor_grid_line_color\":\"navy\",\"ticker\":null},\"id\":\"1985\",\"type\":\"Grid\"},{\"attributes\":{\"axis\":{\"id\":\"1986\"},\"coordinates\":null,\"dimension\":1,\"grid_line_color\":null,\"group\":null,\"ticker\":null},\"id\":\"1988\",\"type\":\"Grid\"},{\"attributes\":{},\"id\":\"1918\",\"type\":\"LinearScale\"},{\"attributes\":{},\"id\":\"2099\",\"type\":\"UnionRenderers\"},{\"attributes\":{\"axis_label\":\"Event Time\",\"coordinates\":null,\"formatter\":{\"id\":\"2047\"},\"group\":null,\"major_label_policy\":{\"id\":\"2075\"},\"ticker\":{\"id\":\"1983\"}},\"id\":\"1982\",\"type\":\"DatetimeAxis\"},{\"attributes\":{},\"id\":\"1978\",\"type\":\"LinearScale\"},{\"attributes\":{\"coordinates\":null,\"group\":null,\"text\":\"Timeline: Entity Timeline\"},\"id\":\"1972\",\"type\":\"Title\"},{\"attributes\":{\"callback\":null,\"formatters\":{\"@end_time\":\"datetime\",\"@start_time\":\"datetime\"},\"tooltips\":[[\"Name\",\"@Name\"],[\"start_time\",\"@start_time{%F %T.%3N}\"],[\"end_time\",\"@end_time{%F %T.%3N}\"],[\"Name\",\"@Name\"],[\"Description\",\"@Description\"],[\"Type\",\"@Type\"],[\"TimeGenerated\",\"@TimeGenerated\"]]},\"id\":\"1970\",\"type\":\"HoverTool\"},{\"attributes\":{},\"id\":\"2100\",\"type\":\"Selection\"},{\"attributes\":{\"coordinates\":null,\"group\":null,\"text\":\"Alert Entity graph\"},\"id\":\"1912\",\"type\":\"Title\"},{\"attributes\":{},\"id\":\"1980\",\"type\":\"CategoricalScale\"},{\"attributes\":{},\"id\":\"1992\",\"type\":\"SaveTool\"},{\"attributes\":{\"factors\":[\"Incident: Detected obfuscated command line\"]},\"id\":\"1976\",\"type\":\"FactorRange\"},{\"attributes\":{\"axis_label\":\"Name\",\"coordinates\":null,\"formatter\":{\"id\":\"2072\"},\"group\":null,\"major_label_policy\":{\"id\":\"2073\"},\"ticker\":{\"id\":\"1987\"}},\"id\":\"1986\",\"type\":\"CategoricalAxis\"},{\"attributes\":{\"fill_alpha\":{\"value\":0.4},\"fill_color\":{\"value\":\"navy\"},\"hatch_color\":{\"value\":\"navy\"},\"height\":{\"value\":0.3},\"line_color\":{\"value\":\"navy\"},\"width\":{\"field\":\"Width\"},\"x\":{\"field\":\"Center\"},\"y\":{\"field\":\"Row\",\"transform\":{\"id\":\"2002\"}}},\"id\":\"2004\",\"type\":\"Rect\"},{\"attributes\":{\"overlay\":{\"id\":\"1994\"}},\"id\":\"1990\",\"type\":\"BoxZoomTool\"},{\"attributes\":{\"end\":1641931357824.9001,\"start\":1641928023926.0999},\"id\":\"1974\",\"type\":\"Range1d\"},{\"attributes\":{\"source\":{\"id\":\"1952\"}},\"id\":\"1954\",\"type\":\"CDSView\"},{\"attributes\":{\"coordinates\":null,\"data_source\":{\"id\":\"1969\"},\"glyph\":{\"id\":\"2011\"},\"group\":null,\"hover_glyph\":null,\"muted_glyph\":{\"id\":\"2013\"},\"nonselection_glyph\":{\"id\":\"2012\"},\"view\":{\"id\":\"2015\"}},\"id\":\"2014\",\"type\":\"GlyphRenderer\"},{\"attributes\":{\"end\":1641931496737.3499,\"start\":1641927885013.65},\"id\":\"2019\",\"type\":\"Range1d\"},{\"attributes\":{},\"id\":\"2072\",\"type\":\"CategoricalTickFormatter\"},{\"attributes\":{\"overlay\":{\"id\":\"1936\"}},\"id\":\"1932\",\"type\":\"BoxZoomTool\"},{\"attributes\":{\"coordinates\":null,\"data_source\":{\"id\":\"2035\"},\"glyph\":{\"id\":\"2037\"},\"group\":null,\"hover_glyph\":null,\"muted_glyph\":{\"id\":\"2039\"},\"nonselection_glyph\":{\"id\":\"2038\"},\"view\":{\"id\":\"2041\"}},\"id\":\"2040\",\"type\":\"GlyphRenderer\"},{\"attributes\":{\"bottom_units\":\"screen\",\"coordinates\":null,\"fill_alpha\":0.5,\"fill_color\":\"lightgrey\",\"group\":null,\"left_units\":\"screen\",\"level\":\"overlay\",\"line_alpha\":1.0,\"line_color\":\"black\",\"line_dash\":[4,4],\"line_width\":2,\"right_units\":\"screen\",\"syncable\":false,\"top_units\":\"screen\"},\"id\":\"1936\",\"type\":\"BoxAnnotation\"},{\"attributes\":{},\"id\":\"2073\",\"type\":\"AllLabels\"},{\"attributes\":{},\"id\":\"2064\",\"type\":\"AllLabels\"},{\"attributes\":{\"fill_alpha\":{\"value\":0.2},\"fill_color\":{\"value\":\"navy\"},\"hatch_alpha\":{\"value\":0.2},\"hatch_color\":{\"value\":\"navy\"},\"line_alpha\":{\"value\":0.2},\"line_color\":{\"value\":\"navy\"},\"marker\":{\"value\":\"diamond\"},\"size\":{\"value\":5},\"x\":{\"field\":\"StartTime\"},\"y\":{\"field\":\"Row\",\"transform\":{\"id\":\"2009\"}}},\"id\":\"2013\",\"type\":\"Scatter\"},{\"attributes\":{},\"id\":\"2075\",\"type\":\"AllLabels\"},{\"attributes\":{\"mantissas\":[1,2,5],\"max_interval\":500.0,\"num_minor_ticks\":0},\"id\":\"2102\",\"type\":\"AdaptiveTicker\"},{\"attributes\":{\"days\":[\"%m-%d %H:%M\"],\"hours\":[\"%H:%M:%S\"],\"milliseconds\":[\"%H:%M:%S.%3N\"],\"minutes\":[\"%H:%M:%S\"],\"seconds\":[\"%H:%M:%S\"]},\"id\":\"2033\",\"type\":\"DatetimeTickFormatter\"},{\"attributes\":{\"base\":60,\"mantissas\":[1,2,5,10,15,20,30],\"max_interval\":1800000.0,\"min_interval\":1000.0,\"num_minor_ticks\":0},\"id\":\"2103\",\"type\":\"AdaptiveTicker\"},{\"attributes\":{},\"id\":\"2063\",\"type\":\"BasicTickFormatter\"},{\"attributes\":{},\"id\":\"2023\",\"type\":\"LinearScale\"},{\"attributes\":{\"coordinates\":null,\"data_source\":{\"id\":\"1948\"},\"glyph\":{\"id\":\"1956\"},\"group\":null,\"hover_glyph\":null,\"view\":{\"id\":\"1950\"}},\"id\":\"1949\",\"type\":\"GlyphRenderer\"},{\"attributes\":{},\"id\":\"2025\",\"type\":\"LinearScale\"},{\"attributes\":{\"base\":24,\"mantissas\":[1,2,4,6,8,12],\"max_interval\":43200000.0,\"min_interval\":3600000.0,\"num_minor_ticks\":0},\"id\":\"2104\",\"type\":\"AdaptiveTicker\"},{\"attributes\":{\"coordinates\":null,\"formatter\":{\"id\":\"2033\"},\"group\":null,\"major_label_policy\":{\"id\":\"2077\"},\"ticker\":{\"id\":\"2028\"}},\"id\":\"2027\",\"type\":\"DatetimeAxis\"},{\"attributes\":{},\"id\":\"2113\",\"type\":\"YearsTicker\"},{\"attributes\":{},\"id\":\"2066\",\"type\":\"BasicTickFormatter\"},{\"attributes\":{\"months\":[0,1,2,3,4,5,6,7,8,9,10,11]},\"id\":\"2109\",\"type\":\"MonthsTicker\"},{\"attributes\":{\"active_multi\":{\"id\":\"2042\"},\"tools\":[{\"id\":\"2042\"}]},\"id\":\"2031\",\"type\":\"Toolbar\"},{\"attributes\":{\"days\":[1,15]},\"id\":\"2108\",\"type\":\"DaysTicker\"},{\"attributes\":{\"days\":[1,2,3,4,5,6,7,8,9,10,11,12,13,14,15,16,17,18,19,20,21,22,23,24,25,26,27,28,29,30,31]},\"id\":\"2105\",\"type\":\"DaysTicker\"},{\"attributes\":{\"days\":[1,4,7,10,13,16,19,22,25,28]},\"id\":\"2106\",\"type\":\"DaysTicker\"},{\"attributes\":{\"data\":{\"Center\":{\"__ndarray__\":\"ALjvLKrkd0I=\",\"dtype\":\"float64\",\"order\":\"little\",\"shape\":[1]},\"Description\":[\"2022-01-11T20:01:37.3422477Z - Detected obfuscated command line - fac7e091-b7cb-4d27-88e6-61336ea63a36\"],\"EndTime\":{\"__ndarray__\":\"AAAUgKvkd0I=\",\"dtype\":\"float64\",\"order\":\"little\",\"shape\":[1]},\"Name\":[\"Incident: Detected obfuscated command line\"],\"Row\":[0],\"StartTime\":{\"__ndarray__\":\"AHDL2ajkd0I=\",\"dtype\":\"float64\",\"order\":\"little\",\"shape\":[1]},\"TimeGenerated\":{\"__ndarray__\":\"9OMjtavkd0I=\",\"dtype\":\"float64\",\"order\":\"little\",\"shape\":[1]},\"Type\":[\"incident\"],\"Width\":{\"__ndarray__\":\"AAAAgEQyRUE=\",\"dtype\":\"float64\",\"order\":\"little\",\"shape\":[1]},\"end_time\":{\"__ndarray__\":\"AAAUgKvkd0I=\",\"dtype\":\"float64\",\"order\":\"little\",\"shape\":[1]},\"index\":[0],\"start_time\":{\"__ndarray__\":\"AHDL2ajkd0I=\",\"dtype\":\"float64\",\"order\":\"little\",\"shape\":[1]}},\"selected\":{\"id\":\"2100\"},\"selection_policy\":{\"id\":\"2099\"}},\"id\":\"2035\",\"type\":\"ColumnDataSource\"},{\"attributes\":{\"days\":[1,8,15,22]},\"id\":\"2107\",\"type\":\"DaysTicker\"},{\"attributes\":{\"months\":[0,6]},\"id\":\"2112\",\"type\":\"MonthsTicker\"},{\"attributes\":{\"months\":[0,2,4,6,8,10]},\"id\":\"2110\",\"type\":\"MonthsTicker\"},{\"attributes\":{\"children\":[{\"id\":\"1971\"},{\"id\":\"2016\"}]},\"id\":\"2049\",\"type\":\"Column\"},{\"attributes\":{},\"id\":\"2061\",\"type\":\"NodesOnly\"},{\"attributes\":{\"months\":[0,4,8]},\"id\":\"2111\",\"type\":\"MonthsTicker\"},{\"attributes\":{\"data\":{\"Center\":{\"__ndarray__\":\"ALjvLKrkd0I=\",\"dtype\":\"float64\",\"order\":\"little\",\"shape\":[1]},\"Description\":[\"2022-01-11T20:01:37.3422477Z - Detected obfuscated command line - fac7e091-b7cb-4d27-88e6-61336ea63a36\"],\"EndTime\":{\"__ndarray__\":\"AAAUgKvkd0I=\",\"dtype\":\"float64\",\"order\":\"little\",\"shape\":[1]},\"Name\":[\"Incident: Detected obfuscated command line\"],\"Row\":[0],\"StartTime\":{\"__ndarray__\":\"AHDL2ajkd0I=\",\"dtype\":\"float64\",\"order\":\"little\",\"shape\":[1]},\"TimeGenerated\":{\"__ndarray__\":\"9OMjtavkd0I=\",\"dtype\":\"float64\",\"order\":\"little\",\"shape\":[1]},\"Type\":[\"incident\"],\"Width\":{\"__ndarray__\":\"AAAAgEQyRUE=\",\"dtype\":\"float64\",\"order\":\"little\",\"shape\":[1]},\"end_time\":{\"__ndarray__\":\"AAAUgKvkd0I=\",\"dtype\":\"float64\",\"order\":\"little\",\"shape\":[1]},\"index\":[0],\"start_time\":{\"__ndarray__\":\"AHDL2ajkd0I=\",\"dtype\":\"float64\",\"order\":\"little\",\"shape\":[1]}},\"selected\":{\"id\":\"2085\"},\"selection_policy\":{\"id\":\"2084\"}},\"id\":\"1969\",\"type\":\"ColumnDataSource\"},{\"attributes\":{\"below\":[{\"id\":\"1982\"}],\"center\":[{\"id\":\"1985\"},{\"id\":\"1988\"}],\"height\":300,\"left\":[{\"id\":\"1986\"}],\"min_border_left\":50,\"renderers\":[{\"id\":\"2007\"},{\"id\":\"2014\"}],\"title\":{\"id\":\"1972\"},\"toolbar\":{\"id\":\"1995\"},\"width\":800,\"x_range\":{\"id\":\"1974\"},\"x_scale\":{\"id\":\"1978\"},\"y_range\":{\"id\":\"1976\"},\"y_scale\":{\"id\":\"1980\"}},\"id\":\"1971\",\"subtype\":\"Figure\",\"type\":\"Plot\"},{\"attributes\":{},\"id\":\"1951\",\"type\":\"MultiLine\"},{\"attributes\":{\"fill_alpha\":{\"value\":0.1},\"fill_color\":{\"value\":\"navy\"},\"hatch_alpha\":{\"value\":0.1},\"hatch_color\":{\"value\":\"navy\"},\"line_alpha\":{\"value\":0.1},\"line_color\":{\"value\":\"navy\"},\"marker\":{\"value\":\"diamond\"},\"size\":{\"value\":5},\"x\":{\"field\":\"StartTime\"},\"y\":{\"field\":\"Row\",\"transform\":{\"id\":\"2009\"}}},\"id\":\"2012\",\"type\":\"Scatter\"},{\"attributes\":{\"coordinates\":null,\"group\":null,\"text\":\"AdminHost\",\"text_font_size\":\"10pt\",\"x\":-2.0,\"x_offset\":5,\"y\":0.5809262454228309,\"y_offset\":5},\"id\":\"1966\",\"type\":\"Label\"},{\"attributes\":{\"data\":{\"end\":[\"Alert: Detected obfuscated command line\",\"JeffL\",\"AdminHost\",\"26.68.157.223\",\"DummyTestHost-805873551\",\"JeffL\",\"DummyTestHost-805873551\",\"26.68.157.223\"],\"start\":[\"Incident: Detected obfuscated command line\",\"Incident: Detected obfuscated command line\",\"Incident: Detected obfuscated command line\",\"Incident: Detected obfuscated command line\",\"Incident: Detected obfuscated command line\",\"Alert: Detected obfuscated command line\",\"Alert: Detected obfuscated command line\",\"Alert: Detected obfuscated command line\"]},\"selected\":{\"id\":\"2081\"},\"selection_policy\":{\"id\":\"2080\"}},\"id\":\"1952\",\"type\":\"ColumnDataSource\"},{\"attributes\":{\"source\":{\"id\":\"1969\"}},\"id\":\"2015\",\"type\":\"CDSView\"},{\"attributes\":{\"range\":null,\"value\":0.5},\"id\":\"2002\",\"type\":\"Dodge\"},{\"attributes\":{},\"id\":\"2077\",\"type\":\"AllLabels\"},{\"attributes\":{\"coordinates\":null,\"formatter\":{\"id\":\"2063\"},\"group\":null,\"major_label_policy\":{\"id\":\"2064\"},\"ticker\":{\"id\":\"1927\"}},\"id\":\"1926\",\"type\":\"LinearAxis\"},{\"attributes\":{\"coordinates\":null,\"group\":null,\"text\":\"DummyTestHost-805873551\",\"text_font_size\":\"10pt\",\"x\":1.5272961372665153,\"x_offset\":5,\"y\":0.007347547177464504,\"y_offset\":5},\"id\":\"1964\",\"type\":\"Label\"},{\"attributes\":{\"align\":\"right\",\"coordinates\":null,\"group\":null,\"text\":\"Drag the middle or edges of the selection box to change the range in the main chart\",\"text_font_size\":\"10px\"},\"id\":\"2032\",\"type\":\"Title\"},{\"attributes\":{\"coordinates\":null,\"edge_renderer\":{\"id\":\"1953\"},\"group\":null,\"inspection_policy\":{\"id\":\"2061\"},\"layout_provider\":{\"id\":\"1955\"},\"node_renderer\":{\"id\":\"1949\"},\"selection_policy\":{\"id\":\"2060\"}},\"id\":\"1946\",\"type\":\"GraphRenderer\"},{\"attributes\":{\"below\":[{\"id\":\"2027\"},{\"id\":\"2032\"}],\"center\":[{\"id\":\"2030\"}],\"height\":120,\"renderers\":[{\"id\":\"2040\"}],\"title\":{\"id\":\"2017\"},\"toolbar\":{\"id\":\"2031\"},\"toolbar_location\":null,\"width\":800,\"x_range\":{\"id\":\"2019\"},\"x_scale\":{\"id\":\"2023\"},\"y_range\":{\"id\":\"2021\"},\"y_scale\":{\"id\":\"2025\"}},\"id\":\"2016\",\"subtype\":\"Figure\",\"type\":\"Plot\"},{\"attributes\":{},\"id\":\"2067\",\"type\":\"AllLabels\"},{\"attributes\":{},\"id\":\"2021\",\"type\":\"DataRange1d\"},{\"attributes\":{},\"id\":\"1933\",\"type\":\"SaveTool\"},{\"attributes\":{\"axis\":{\"id\":\"2027\"},\"coordinates\":null,\"group\":null,\"ticker\":null},\"id\":\"2030\",\"type\":\"Grid\"},{\"attributes\":{\"coordinates\":null,\"group\":null,\"text\":\"Range Selector\"},\"id\":\"2017\",\"type\":\"Title\"},{\"attributes\":{\"coordinates\":null,\"group\":null,\"text\":\"Alert: Detected obfuscated command line\",\"text_font_size\":\"10pt\",\"x\":0.6018849494324452,\"x_offset\":5,\"y\":-0.3868268074757101,\"y_offset\":5},\"id\":\"1962\",\"type\":\"Label\"},{\"attributes\":{\"data\":{\"AadTenantId\":[null,null,\"72f988bf-86f1-41af-91ab-2d7cd011db47\",null,null,null],\"AadUserId\":[null,null,\"313a54a7-bc65-1473-fa90-e60e7d1f57c8\",null,null,null],\"AdditionalData\":[\"{'Alert Count': 1, 'Bookmarks Count': 0, 'Comments Count': 0, 'Products': ['Azure Security Center'], 'Tactics': [], 'Related Rule IDs': ['/subscriptions/d1d8779d-38d7-4f06-91db-9cbc8de0176f/resourceGroups/SOC/providers/Microsoft.OperationalInsights/workspaces/CyberSecuritySOC/providers/Microsoft.SecurityInsights/alertRules/7e750173-7950-4d27-a168-cea43b0c5792', '/subscriptions/d1d8779d-38d7-4f06-91db-9cbc8de0176f/resourceGroups/SOC/providers/Microsoft.OperationalInsights/workspaces/CyberSecuritySOC/providers/Microsoft.SecurityInsights/alertRules/f2e6c77f-6afa-49a5-8aa6-4649ccea4e85', '/subscriptions/d1d8779d-38d7-4f06-91db-9cbc8de0176f/resourceGroups/SOC/providers/Microsoft.OperationalInsights/workspaces/CyberSecuritySOC/providers/Microsoft.SecurityInsights/alertRules/a1d7cf4d-9228-46ad-917d-c843ec1e68f1'], 'Incident Number': 116294}\",\"{'ID': '98513445-5947-bfcb-ca66-4182c794c2ba', 'Name': 'Detected obfuscated command line'}\",\"{}\",\"{}\",\"{}\",\"{}\"],\"Address\":[null,null,null,null,\"26.68.157.223\",null],\"AlertType\":[null,\"None\",null,null,null,null],\"AzureID\":[null,null,null,\"None\",null,\"None\"],\"Classification\":[\"None\",null,null,null,null,null],\"CompromisedEntity\":[null,\"None\",null,null,null,null],\"Count\":[null,\"None\",null,null,null,null],\"Description\":[\"2022-01-11T20:01:37.3422477Z - Detected obfuscated command line - fac7e091-b7cb-4d27-88e6-61336ea63a36\",\"Detected obfuscated command line - ['98513445-5947-bfcb-ca66-4182c794c2ba']\",\"None@seccxpninja.onmicrosoft.com\",\"DummyTestHost-805873551 (OSFamily.Windows)\",\"26.68.157.223\",\"AdminHost (OSFamily.Windows)\"],\"DisplayName\":[\"Detected obfuscated command line\",\"Detected obfuscated command line\",\"JeffL\",null,null,null],\"DnsDomain\":[null,null,null,\"None\",null,\"None\"],\"EndTime\":[\"2022-01-11T19:58:00Z\",\"None\",null,null,null,null],\"Host\":[null,null,\"None\",null,null,null],\"HostName\":[null,null,null,\"DummyTestHost-805873551\",null,\"AdminHost\"],\"IncidentID\":[\"fac7e091-b7cb-4d27-88e6-61336ea63a36\",null,null,null,null,null],\"IsDomainJoined\":[null,null,\"False\",\"False\",null,\"False\"],\"Location\":[null,null,null,null,\"None\",null],\"LogonId\":[null,null,\"None\",null,null,null],\"NTDomain\":[null,null,\"None\",\"None\",null,\"None\"],\"Name\":[\"Incident: Detected obfuscated command line\",\"Alert: Detected obfuscated command line\",\"JeffL\",\"DummyTestHost-805873551\",\"26.68.157.223\",\"AdminHost\"],\"NetBiosName\":[null,null,null,\"DummyTestHost-805873551\",null,\"AdminHost\"],\"OMSAgentID\":[null,null,null,\"None\",null,\"None\"],\"OSFamily\":[null,null,null,\"OSFamily.Windows\",null,\"OSFamily.Windows\"],\"OSVersion\":[null,null,null,\"None\",null,\"None\"],\"ObjectGuid\":[null,null,\"None\",null,null,null],\"Owner\":[\"{'Name': None, 'Email': None, 'UPN': None, 'ID': None}\",null,null,null,null,null],\"PUID\":[null,null,\"None\",null,null,null],\"ProviderName\":[null,\"None\",null,null,null,null],\"Severity\":[\"Low\",\"None\",null,null,null,null],\"Sid\":[null,null,\"None\",null,null,null],\"StartTime\":[\"2022-01-11T19:11:41.751Z\",\"None\",null,null,null,null],\"Status\":[\"New\",null,null,null,null,null],\"TimeGenerated\":[\"2022-01-11T20:01:37.3422477Z\",\"None\",\"None\",\"None\",\"None\",\"None\"],\"Type\":[\"incident\",\"alerts\",\"account\",\"host\",\"ipaddress\",\"host\"],\"UPNSuffix\":[null,null,\"seccxpninja.onmicrosoft.com\",null,null,null],\"VendorName\":[null,\"None\",null,null,null,null],\"index\":[\"Incident: Detected obfuscated command line\",\"Alert: Detected obfuscated command line\",\"JeffL\",\"DummyTestHost-805873551\",\"26.68.157.223\",\"AdminHost\"],\"node_color\":[\"red\",\"orange\",\"green\",\"green\",\"green\",\"green\"]},\"selected\":{\"id\":\"2079\"},\"selection_policy\":{\"id\":\"2078\"}},\"id\":\"1948\",\"type\":\"ColumnDataSource\"},{\"attributes\":{\"num_minor_ticks\":5,\"tickers\":[{\"id\":\"2102\"},{\"id\":\"2103\"},{\"id\":\"2104\"},{\"id\":\"2105\"},{\"id\":\"2106\"},{\"id\":\"2107\"},{\"id\":\"2108\"},{\"id\":\"2109\"},{\"id\":\"2110\"},{\"id\":\"2111\"},{\"id\":\"2112\"},{\"id\":\"2113\"}]},\"id\":\"2028\",\"type\":\"DatetimeTicker\"},{\"attributes\":{},\"id\":\"1935\",\"type\":\"HelpTool\"},{\"attributes\":{},\"id\":\"2078\",\"type\":\"UnionRenderers\"},{\"attributes\":{\"data\":{\"Center\":{\"__ndarray__\":\"ALjvLKrkd0I=\",\"dtype\":\"float64\",\"order\":\"little\",\"shape\":[1]},\"Name\":[\"Incident: Detected obfuscated command line\"],\"Row\":[0],\"Width\":{\"__ndarray__\":\"AAAAgEQyRUE=\",\"dtype\":\"float64\",\"order\":\"little\",\"shape\":[1]},\"end_time\":{\"__ndarray__\":\"AAAUgKvkd0I=\",\"dtype\":\"float64\",\"order\":\"little\",\"shape\":[1]},\"index\":[0],\"start_time\":{\"__ndarray__\":\"AHDL2ajkd0I=\",\"dtype\":\"float64\",\"order\":\"little\",\"shape\":[1]}},\"selected\":{\"id\":\"2083\"},\"selection_policy\":{\"id\":\"2082\"}},\"id\":\"1968\",\"type\":\"ColumnDataSource\"},{\"attributes\":{},\"id\":\"1927\",\"type\":\"BasicTicker\"},{\"attributes\":{},\"id\":\"2079\",\"type\":\"Selection\"},{\"attributes\":{\"coordinates\":null,\"group\":null,\"text\":\"Incident: Detected obfuscated command line\",\"text_font_size\":\"10pt\",\"x\":-0.3035126238090796,\"x_offset\":5,\"y\":0.0774147064973185,\"y_offset\":5},\"id\":\"1961\",\"type\":\"Label\"},{\"attributes\":{\"tools\":[{\"id\":\"1930\"},{\"id\":\"1931\"},{\"id\":\"1932\"},{\"id\":\"1933\"},{\"id\":\"1934\"},{\"id\":\"1935\"},{\"id\":\"1944\"}]},\"id\":\"1937\",\"type\":\"Toolbar\"},{\"attributes\":{\"overlay\":{\"id\":\"2043\"},\"x_range\":{\"id\":\"1974\"},\"y_range\":null},\"id\":\"2042\",\"type\":\"RangeTool\"},{\"attributes\":{\"days\":[\"%m-%d %H:%M\"],\"hours\":[\"%H:%M:%S\"],\"milliseconds\":[\"%H:%M:%S.%3N\"],\"minutes\":[\"%H:%M:%S\"],\"seconds\":[\"%H:%M:%S\"]},\"id\":\"2047\",\"type\":\"DatetimeTickFormatter\"},{\"attributes\":{},\"id\":\"2080\",\"type\":\"UnionRenderers\"},{\"attributes\":{},\"id\":\"1934\",\"type\":\"ResetTool\"},{\"attributes\":{\"coordinates\":null,\"fill_alpha\":0.2,\"fill_color\":\"navy\",\"group\":null,\"level\":\"overlay\",\"line_alpha\":1.0,\"line_color\":\"black\",\"line_dash\":[2,2],\"line_width\":0.5,\"syncable\":false},\"id\":\"2043\",\"type\":\"BoxAnnotation\"},{\"attributes\":{\"fill_color\":{\"value\":\"blue\"},\"hatch_color\":{\"value\":\"blue\"},\"line_color\":{\"value\":\"blue\"},\"x\":{\"field\":\"StartTime\"},\"y\":{\"field\":\"Row\"}},\"id\":\"2037\",\"type\":\"Circle\"},{\"attributes\":{\"callback\":null,\"tooltips\":[[\"Name\",\"@Name\"],[\"Description\",\"@Description\"],[\"Type\",\"@Type\"]]},\"id\":\"1944\",\"type\":\"HoverTool\"},{\"attributes\":{\"source\":{\"id\":\"2035\"}},\"id\":\"2041\",\"type\":\"CDSView\"},{\"attributes\":{\"end\":3,\"start\":-3},\"id\":\"1916\",\"type\":\"Range1d\"},{\"attributes\":{\"source\":{\"id\":\"1948\"}},\"id\":\"1950\",\"type\":\"CDSView\"},{\"attributes\":{},\"id\":\"2081\",\"type\":\"Selection\"},{\"attributes\":{\"coordinates\":null,\"data_source\":{\"id\":\"1952\"},\"glyph\":{\"id\":\"1951\"},\"group\":null,\"hover_glyph\":null,\"view\":{\"id\":\"1954\"}},\"id\":\"1953\",\"type\":\"GlyphRenderer\"},{\"attributes\":{\"coordinates\":null,\"group\":null,\"text\":\"JeffL\",\"text_font_size\":\"10pt\",\"x\":0.4337712894175039,\"x_offset\":5,\"y\":1.1350812172704114,\"y_offset\":5},\"id\":\"1963\",\"type\":\"Label\"},{\"attributes\":{},\"id\":\"2060\",\"type\":\"NodesOnly\"},{\"attributes\":{},\"id\":\"1931\",\"type\":\"WheelZoomTool\"},{\"attributes\":{\"axis\":{\"id\":\"1926\"},\"coordinates\":null,\"dimension\":1,\"group\":null,\"ticker\":null},\"id\":\"1929\",\"type\":\"Grid\"},{\"attributes\":{\"fill_alpha\":{\"value\":0.1},\"fill_color\":{\"value\":\"blue\"},\"hatch_alpha\":{\"value\":0.1},\"hatch_color\":{\"value\":\"blue\"},\"line_alpha\":{\"value\":0.1},\"line_color\":{\"value\":\"blue\"},\"x\":{\"field\":\"StartTime\"},\"y\":{\"field\":\"Row\"}},\"id\":\"2038\",\"type\":\"Circle\"},{\"attributes\":{\"graph_layout\":{\"26.68.157.223\":[-0.2594397523073844,-1.4139429088923159],\"AdminHost\":[-2.0,0.5809262454228309],\"Alert: Detected obfuscated command line\":[0.6018849494324452,-0.3868268074757101],\"DummyTestHost-805873551\":[1.5272961372665153,0.007347547177464504],\"Incident: Detected obfuscated command line\":[-0.3035126238090796,0.0774147064973185],\"JeffL\":[0.4337712894175039,1.1350812172704114]}},\"id\":\"1955\",\"type\":\"StaticLayoutProvider\"},{\"attributes\":{},\"id\":\"1930\",\"type\":\"PanTool\"},{\"attributes\":{},\"id\":\"2082\",\"type\":\"UnionRenderers\"},{\"attributes\":{\"coordinates\":null,\"group\":null,\"text\":\"26.68.157.223\",\"text_font_size\":\"10pt\",\"x\":-0.2594397523073844,\"x_offset\":5,\"y\":-1.4139429088923159,\"y_offset\":5},\"id\":\"1965\",\"type\":\"Label\"},{\"attributes\":{\"fill_alpha\":{\"value\":0.2},\"fill_color\":{\"value\":\"blue\"},\"hatch_alpha\":{\"value\":0.2},\"hatch_color\":{\"value\":\"blue\"},\"line_alpha\":{\"value\":0.2},\"line_color\":{\"value\":\"blue\"},\"x\":{\"field\":\"StartTime\"},\"y\":{\"field\":\"Row\"}},\"id\":\"2039\",\"type\":\"Circle\"}],\"root_ids\":[\"2050\"]},\"title\":\"Bokeh Application\",\"version\":\"2.4.2\"}};\n  const render_items = [{\"docid\":\"6ff7a9c9-09c6-4b3e-92bc-f92ffe56c33b\",\"root_ids\":[\"2050\"],\"roots\":{\"2050\":\"e7875f04-529e-4e88-a261-e0deb33e2a46\"}}];\n  root.Bokeh.embed.embed_items_notebook(docs_json, render_items);\n\n  }\n  if (root.Bokeh !== undefined) {\n    embed_document(root);\n  } else {\n    let attempts = 0;\n    const timer = setInterval(function(root) {\n      if (root.Bokeh !== undefined) {\n        clearInterval(timer);\n        embed_document(root);\n      } else {\n        attempts++;\n        if (attempts > 100) {\n          clearInterval(timer);\n          console.log(\"Bokeh: ERROR: Unable to run BokehJS code because BokehJS library is missing\");\n        }\n      }\n    }, 10, root)\n  }\n})(window);",
      "application/vnd.bokehjs_exec.v0+json": ""
     },
     "metadata": {
      "application/vnd.bokehjs_exec.v0+json": {
       "id": "2050"
      }
     },
     "output_type": "display_data"
    },
    {
     "data": {
      "text/html": [
       "<div style=\"display: table;\"><div style=\"display: table-row;\"><div style=\"display: table-cell;\"><b title=\"bokeh.models.layouts.Column\">Column</b>(</div><div style=\"display: table-cell;\">id&nbsp;=&nbsp;'2050', <span id=\"2442\" style=\"cursor: pointer;\">&hellip;)</span></div></div><div class=\"2441\" style=\"display: none;\"><div style=\"display: table-cell;\"></div><div style=\"display: table-cell;\">align&nbsp;=&nbsp;'start',</div></div><div class=\"2441\" style=\"display: none;\"><div style=\"display: table-cell;\"></div><div style=\"display: table-cell;\">aspect_ratio&nbsp;=&nbsp;None,</div></div><div class=\"2441\" style=\"display: none;\"><div style=\"display: table-cell;\"></div><div style=\"display: table-cell;\">background&nbsp;=&nbsp;None,</div></div><div class=\"2441\" style=\"display: none;\"><div style=\"display: table-cell;\"></div><div style=\"display: table-cell;\">children&nbsp;=&nbsp;[Figure(id='1911', ...), Column(id='2049', ...)],</div></div><div class=\"2441\" style=\"display: none;\"><div style=\"display: table-cell;\"></div><div style=\"display: table-cell;\">css_classes&nbsp;=&nbsp;[],</div></div><div class=\"2441\" style=\"display: none;\"><div style=\"display: table-cell;\"></div><div style=\"display: table-cell;\">disabled&nbsp;=&nbsp;False,</div></div><div class=\"2441\" style=\"display: none;\"><div style=\"display: table-cell;\"></div><div style=\"display: table-cell;\">height&nbsp;=&nbsp;None,</div></div><div class=\"2441\" style=\"display: none;\"><div style=\"display: table-cell;\"></div><div style=\"display: table-cell;\">height_policy&nbsp;=&nbsp;'auto',</div></div><div class=\"2441\" style=\"display: none;\"><div style=\"display: table-cell;\"></div><div style=\"display: table-cell;\">js_event_callbacks&nbsp;=&nbsp;{},</div></div><div class=\"2441\" style=\"display: none;\"><div style=\"display: table-cell;\"></div><div style=\"display: table-cell;\">js_property_callbacks&nbsp;=&nbsp;{},</div></div><div class=\"2441\" style=\"display: none;\"><div style=\"display: table-cell;\"></div><div style=\"display: table-cell;\">margin&nbsp;=&nbsp;(0, 0, 0, 0),</div></div><div class=\"2441\" style=\"display: none;\"><div style=\"display: table-cell;\"></div><div style=\"display: table-cell;\">max_height&nbsp;=&nbsp;None,</div></div><div class=\"2441\" style=\"display: none;\"><div style=\"display: table-cell;\"></div><div style=\"display: table-cell;\">max_width&nbsp;=&nbsp;None,</div></div><div class=\"2441\" style=\"display: none;\"><div style=\"display: table-cell;\"></div><div style=\"display: table-cell;\">min_height&nbsp;=&nbsp;None,</div></div><div class=\"2441\" style=\"display: none;\"><div style=\"display: table-cell;\"></div><div style=\"display: table-cell;\">min_width&nbsp;=&nbsp;None,</div></div><div class=\"2441\" style=\"display: none;\"><div style=\"display: table-cell;\"></div><div style=\"display: table-cell;\">name&nbsp;=&nbsp;None,</div></div><div class=\"2441\" style=\"display: none;\"><div style=\"display: table-cell;\"></div><div style=\"display: table-cell;\">rows&nbsp;=&nbsp;'auto',</div></div><div class=\"2441\" style=\"display: none;\"><div style=\"display: table-cell;\"></div><div style=\"display: table-cell;\">sizing_mode&nbsp;=&nbsp;None,</div></div><div class=\"2441\" style=\"display: none;\"><div style=\"display: table-cell;\"></div><div style=\"display: table-cell;\">spacing&nbsp;=&nbsp;0,</div></div><div class=\"2441\" style=\"display: none;\"><div style=\"display: table-cell;\"></div><div style=\"display: table-cell;\">subscribed_events&nbsp;=&nbsp;[],</div></div><div class=\"2441\" style=\"display: none;\"><div style=\"display: table-cell;\"></div><div style=\"display: table-cell;\">syncable&nbsp;=&nbsp;True,</div></div><div class=\"2441\" style=\"display: none;\"><div style=\"display: table-cell;\"></div><div style=\"display: table-cell;\">tags&nbsp;=&nbsp;[],</div></div><div class=\"2441\" style=\"display: none;\"><div style=\"display: table-cell;\"></div><div style=\"display: table-cell;\">visible&nbsp;=&nbsp;True,</div></div><div class=\"2441\" style=\"display: none;\"><div style=\"display: table-cell;\"></div><div style=\"display: table-cell;\">width&nbsp;=&nbsp;None,</div></div><div class=\"2441\" style=\"display: none;\"><div style=\"display: table-cell;\"></div><div style=\"display: table-cell;\">width_policy&nbsp;=&nbsp;'auto')</div></div></div>\n",
       "<script>\n",
       "(function() {\n",
       "  let expanded = false;\n",
       "  const ellipsis = document.getElementById(\"2442\");\n",
       "  ellipsis.addEventListener(\"click\", function() {\n",
       "    const rows = document.getElementsByClassName(\"2441\");\n",
       "    for (let i = 0; i < rows.length; i++) {\n",
       "      const el = rows[i];\n",
       "      el.style.display = expanded ? \"none\" : \"table-row\";\n",
       "    }\n",
       "    ellipsis.innerHTML = expanded ? \"&hellip;)\" : \"&lsaquo;&lsaquo;&lsaquo;\";\n",
       "    expanded = !expanded;\n",
       "  });\n",
       "})();\n",
       "</script>\n"
      ],
      "text/plain": [
       "Column(id='2050', ...)"
      ]
     },
     "execution_count": 18,
     "metadata": {},
     "output_type": "execute_result"
    }
   ],
   "source": [
    "incident_details = azs.get_incident(\n",
    "    alert_sel.selected_alert.id, entities=True, alerts=True\n",
    ")\n",
    "ent_dfs = []\n",
    "if \"Entities\" in incident_details:\n",
    "    for ent in incident_details[\"Entities\"][0]:\n",
    "        ent_df = pd.json_normalize(ent[1])\n",
    "        ent_df[\"Type\"] = ent[0]\n",
    "        ent_dfs.append(ent_df)\n",
    "\n",
    "    md(\"Incident Entities:\", \"bold\")\n",
    "    if ent_dfs:\n",
    "        new_df = pd.concat(ent_dfs, axis=0, ignore_index=True)\n",
    "        grp_df = new_df.groupby(\"Type\")\n",
    "        for grp in grp_df:\n",
    "            md(grp[0], \"bold\")\n",
    "            display(grp[1].dropna(axis=1))\n",
    "\n",
    "alert_out = []\n",
    "if \"Alerts\" in incident_details.columns:\n",
    "    for alert in incident_details.iloc[0][\"Alerts\"]:\n",
    "        qry = f\"SecurityAlert | where TimeGenerated between((datetime({alert_q_times.start})-7d)..datetime({alert_q_times.end})) | where SystemAlertId == '{alert['ID']}'\"\n",
    "        df = qry_prov.exec_query(qry)\n",
    "        display(df)\n",
    "        if df.empty or not df[\"Entities\"].iloc[0]:\n",
    "            alert_full = {\"ID\": alert[\"ID\"], \"Name\": alert[\"Name\"], \"Entities\": None}\n",
    "        else:\n",
    "            alert_full = {\n",
    "                \"ID\": alert[\"ID\"],\n",
    "                \"Name\": alert[\"Name\"],\n",
    "                \"Entities\": json.loads(df[\"Entities\"].iloc[0]),\n",
    "            }\n",
    "        alert_out.append(alert_full)\n",
    "\n",
    "    incident_details[\"Alerts\"] = [alert_out]\n",
    "\n",
    "md(\"Graph of incident entities:\", \"bold\")\n",
    "graph = EntityGraph(incident_details.iloc[0])\n",
    "graph.plot(timeline=True)"
   ]
  },
  {
   "cell_type": "code",
   "execution_count": 27,
   "metadata": {},
   "outputs": [],
   "source": [
    "incident_details.to_pickle(\"training_incident.pkl\")\n",
    "# incident_details.to_json()"
   ]
  },
  {
   "cell_type": "code",
   "execution_count": 26,
   "metadata": {},
   "outputs": [
    {
     "data": {
      "text/plain": [
       "0    [(Account, {'accountName': 'JeffL', 'upnSuffix': 'seccxpninja.onmicrosoft.com', 'aadTenantId': '...\n",
       "Name: Entities, dtype: object"
      ]
     },
     "execution_count": 26,
     "metadata": {},
     "output_type": "execute_result"
    }
   ],
   "source": [
    "incident_details.Entities"
   ]
  },
  {
   "cell_type": "markdown",
   "metadata": {},
   "source": [
    "### Entity Analysis\n",
    "Below is an analysis of the incident's entities that appear in threat intelligence sources."
   ]
  },
  {
   "cell_type": "code",
   "execution_count": null,
   "metadata": {
    "tags": [
     "output"
    ]
   },
   "outputs": [],
   "source": [
    "sev = []\n",
    "ip_ti_lookup_results = pd.DataFrame()\n",
    "\n",
    "# For each entity look it up in Threat Intelligence data\n",
    "md(\"Looking up entities in TI feeds...\")\n",
    "prog = Progress(completed_len=len(incident_details[\"Entities\"].iloc[0]))\n",
    "i = 0\n",
    "for ent in incident_details[\"Entities\"].iloc[0]:\n",
    "    i += 1\n",
    "    prog.update_progress(i)\n",
    "    if ent[0] == \"Ip\":\n",
    "        resp = ti.lookup_ioc(observable=ent[1][\"address\"], ioc_type=\"ipv4\")\n",
    "        ip_ti_lookup_results = ip_ti_lookup_results.append(ti.result_to_df(resp), ignore_index=True)\n",
    "        for response in resp[1]:\n",
    "            sev.append(response[1].severity)\n",
    "    if ent[0] == \"Url\" or ent[0] == \"DnsResolution\":\n",
    "        if \"url\" in ent[1]:\n",
    "            lkup_dom = ent[1][\"url\"]\n",
    "        else:\n",
    "            lkup_dom = ent[1][\"domainName\"]\n",
    "        resp = ti.lookup_ioc(lkup_dom, ioc_type=\"url\")\n",
    "        ip_ti_lookup_results = ip_ti_lookup_results.append(ti.result_to_df(resp), ignore_index=True)\n",
    "        for response in resp[1]:\n",
    "            sev.append(response[1].severity)\n",
    "    if ent[0] == \"FileHash\":\n",
    "        resp = ti.lookup_ioc(ent[1][\"hashValue\"])\n",
    "        ip_ti_lookup_results = ip_ti_lookup_results.append(ti.result_to_df(resp), ignore_index=True)\n",
    "        for response in resp[1]:\n",
    "            sev.append(response[1].severity)\n",
    "\n",
    "# Take overall severity of the entities based on the highest score\n",
    "if \"high\" in sev:\n",
    "    severity = \"High\"\n",
    "elif \"warning\" in sev:\n",
    "    severity = \"Warning\"\n",
    "elif \"information\" in sev:\n",
    "    severity = \"Information\"\n",
    "else:\n",
    "    severity = \"None\"\n",
    "\n",
    "md(\"Checking to see if incident entities appear in TI data...\")\n",
    "\n",
    "incident_details[\"TI Severity\"] = severity\n",
    "# Output TI hits of high or warning severity\n",
    "if (\n",
    "    incident_details[\"TI Severity\"].iloc[0] == \"High\"\n",
    "    or incident_details[\"TI Severity\"].iloc[0] == \"Warning\"\n",
    "    or incident_details[\"TI Severity\"].iloc[0] == \"Information\"\n",
    "):\n",
    "    print(\"Incident:\")\n",
    "    display(\n",
    "        incident_details[\n",
    "            [\n",
    "                \"properties.createdTimeUtc\",\n",
    "                \"properties.incidentNumber\",\n",
    "                \"properties.title\",\n",
    "                \"properties.status\",\n",
    "                \"properties.severity\",\n",
    "                \"TI Severity\",\n",
    "            ]\n",
    "        ]\n",
    "        .style.applymap(ti_color_cells)\n",
    "        .hide_index()\n",
    "    )\n",
    "    md(\"TI Results:\", \"bold\")\n",
    "    display(\n",
    "        ip_ti_lookup_results[[\"Ioc\", \"IocType\", \"Provider\", \"Severity\", \"Details\"]]\n",
    "        .sort_values(by=\"Severity\")\n",
    "        .style.applymap(ti_color_cells)\n",
    "        .hide_index()\n",
    "    )\n",
    "else:\n",
    "    md(\"None of the Entities appeared in TI data\", \"bold\")"
   ]
  },
  {
   "cell_type": "markdown",
   "metadata": {},
   "source": [
    "### IP Entity Analysis\n",
    "Below is an analysis of all IP entities attached to the incident."
   ]
  },
  {
   "cell_type": "code",
   "execution_count": null,
   "metadata": {},
   "outputs": [],
   "source": [
    "# Enrich IP entities using the IP Summary notebooklet\n",
    "ip_ent_nb = nb.nblts.azsent.network.IpAddressSummary()\n",
    "\n",
    "def display_ipnb_details(item, nb_out, header = \"\"):\n",
    "    if nb_out.check_valid_result_data(item, False):\n",
    "        md(header, \"bold\")\n",
    "        display(getattr(nb_out, item))\n",
    "\n",
    "def display_ip_map(nb_out):\n",
    "    if nb_out.check_valid_result_data(\"location\", False):\n",
    "        md(f\"Geo IP details for {ip_addr}\", \"bold\")\n",
    "        folium_map.add_ip_cluster([nb_out.ip_entity])\n",
    "        display(folium_map)\n",
    "\n",
    "def display_ip_alerts(nb_out):\n",
    "    if nb_out.check_valid_result_data(\"related_alerts\", False):\n",
    "        md(f\"Alerts for {ip_addr}\", \"bold\")\n",
    "        nb_out.related_alerts.mp_plot.timeline(\n",
    "            source_columns=[\"AlertName\", \"Severity\"],\n",
    "            title=f\"Alerts associated with {ip_addr}\",\n",
    "            height=300,\n",
    "        )\n",
    "\n",
    "def display_ip_hosts(nb_out):\n",
    "    if ip_ent_nb_out.host_entity[\"IpAddresses\"]:\n",
    "        md(f\"{ip_addr} belongs to a known host\", \"bold\")\n",
    "        display(\n",
    "            pd.DataFrame.from_records(\n",
    "                [\n",
    "                    {\n",
    "                        x: nb_out.host_entity[x]\n",
    "                        for x in nb_out.host_entity.__iter__()\n",
    "                    }\n",
    "                ]\n",
    "            )\n",
    "        )\n",
    "\n",
    "if not ip_ti_lookup_results.empty and \"ipv4\" in ip_ti_lookup_results[\"IocType\"].unique():\n",
    "    for ip_addr in ip_ti_lookup_results[ip_ti_lookup_results[\"IocType\"] == \"ipv4\"][\"Ioc\"].unique():\n",
    "        folium_map = FoliumMap(width=\"50%\", height=\"50%\")\n",
    "        try:\n",
    "            display(HTML(f\"<h1>Summary of Activity Related to {ip_addr}:</h1>\"))\n",
    "            ip_ent_nb_out = ip_ent_nb.run(value=ip_addr, timespan=timespan, silent=True)\n",
    "            md(\n",
    "                f\"{ip_addr} - {ip_ent_nb_out.ip_origin} - {ip_ent_nb_out.ip_type}\",\n",
    "                \"bold\",\n",
    "            )\n",
    "            display_ipnb_details(\"whois\", ip_ent_nb_out, f\"Whois information for {ip_addr}\")\n",
    "            display_ip_map(ip_ent_nb_out)\n",
    "            display_ipnb_details(\"passive_dns\", ip_ent_nb_out, f\"Passive DNS results for {ip_addr}\")\n",
    "            display_ipnb_details(\"vps_network\", ip_ent_nb_out, f\"{ip_addr} belongs to a known VPS provider\")\n",
    "            display_ip_alerts(ip_ent_nb_out)\n",
    "            display_ipnb_details(\"ti_results\", ip_ent_nb_out, f\"TI results for {ip_addr}\")\n",
    "            display_ip_hosts(ip_ent_nb_out)\n",
    "            md(\"<hr>\")\n",
    "            md(\"<br><br>\")\n",
    "        except:\n",
    "            md(f\"Error processing {ip_addr}\", \"bold\")\n",
    "else:\n",
    "    md(\"No IP entities present\", \"bold\")"
   ]
  },
  {
   "cell_type": "markdown",
   "metadata": {},
   "source": [
    "### Domain Entity Analysis\n",
    "Below is an analysis of all Domain/URL entities attached to the incident."
   ]
  },
  {
   "cell_type": "code",
   "execution_count": null,
   "metadata": {},
   "outputs": [],
   "source": [
    "# Enrich Domain entities\n",
    "domain_items = [\n",
    "    \"name\",\n",
    "    \"org\",\n",
    "    \"city\",\n",
    "    \"state\",\n",
    "    \"country\",\n",
    "    \"registrar\",\n",
    "    \"status\",\n",
    "    \"creation_date\",\n",
    "    \"expiration_date\",\n",
    "    \"updated_date\",\n",
    "    \"name_servers\",\n",
    "    \"dnssec\",\n",
    "]\n",
    "\n",
    "\n",
    "def Entropy(data):\n",
    "    \"\"\"Calculate entropy of string\"\"\"\n",
    "    s, lens = Counter(data), np.float(len(data))\n",
    "    return -sum(count / lens * np.log2(count / lens) for count in s.values())\n",
    "\n",
    "\n",
    "domain_records = pd.DataFrame()\n",
    "if not ip_ti_lookup_results.empty and \"url\" in ip_ti_lookup_results[\"IocType\"].unique():\n",
    "    md(\"Domain entity enrichment\", \"bold\")\n",
    "    for url in ip_ti_lookup_results[ip_ti_lookup_results[\"IocType\"] == \"url\"][\"Ioc\"].unique():\n",
    "        display(HTML(f\"<h1>Summary of Activity Related to{url}:</h1>\"))\n",
    "        wis = whois(url)\n",
    "        if not wis.domain_name:\n",
    "            continue\n",
    "        if isinstance(wis[\"domain_name\"], list):\n",
    "            domain = wis[\"domain_name\"][0]\n",
    "        else:\n",
    "            domain = wis[\"domain_name\"]\n",
    "        # Create domain record from whois data\n",
    "        dom_rec = {}\n",
    "        for key in wis.keys():\n",
    "            if key in domain_items:\n",
    "                dom_rec[key] = [wis[key]]\n",
    "        dom_rec[\"domain\"] = domain\n",
    "        dom_record = pd.DataFrame(dom_rec)\n",
    "        page_rank = ti.result_to_df(\n",
    "            ti.lookup_ioc(observable=domain, providers=[\"OPR\"])\n",
    "        )\n",
    "        page_rank_score = page_rank[\"RawResult\"][0][\"response\"][0][\n",
    "            \"page_rank_integer\"\n",
    "        ]\n",
    "        dom_record[\"Page Rank\"] = [page_rank_score]\n",
    "        dom_ent = Entropy(domain)\n",
    "        dom_record[\"Entropy\"] = [dom_ent]\n",
    "        # Highlight page rank of entropy scores of note\n",
    "        display(\n",
    "            dom_record.T.style.applymap(\n",
    "                ent_color_cells, subset=pd.IndexSlice[[\"Page Rank\", \"Entropy\"], 0]\n",
    "            )\n",
    "        )\n",
    "        md(\"If Page Rank or Domain Entropy are highlighted this indicates that their values are outside the expected values of a legitimate website\")\n",
    "        md(f\"The average entropy for the 1M most popular domains is 3.2675\")\n",
    "        md(\"<hr>\")\n",
    "        md(\"<br><br>\")\n",
    "else:\n",
    "    md(\"No Domain entities present\", \"bold\")"
   ]
  },
  {
   "cell_type": "markdown",
   "metadata": {},
   "source": [
    "### User Entity Analysis\n",
    "Below is an analysis of all User entities attached to the incident."
   ]
  },
  {
   "cell_type": "code",
   "execution_count": null,
   "metadata": {},
   "outputs": [],
   "source": [
    "# Enrich Account entities using the AccountSummary notebooklet\n",
    "timespan = TimeSpan(\n",
    "    start=pd.to_datetime(incident_details.iloc[0][\"properties.firstActivityTimeUtc\"]) - timedelta(days=1),\n",
    "    end=pd.to_datetime(incident_details.iloc[0][\"properties.lastActivityTimeUtc\"]) + timedelta(days=1)\n",
    ")\n",
    "account_nb = nb.nblts.azsent.account.AccountSummary()\n",
    "user = None\n",
    "uent = None\n",
    "\n",
    "def display_accnb_details(item, nb_out, header = \"\"):\n",
    "    if nb_out.check_valid_result_data(item, False):\n",
    "        md(header, \"bold\")\n",
    "        display(getattr(nb_out, item))\n",
    "\n",
    "if check_ent(incident_details[\"Entities\"][0], \"account\") or check_ent(\n",
    "    incident_details[\"Entities\"][0], \"mailbox\"\n",
    "):\n",
    "    md(\"Account entity enrichment\", \"bold\")\n",
    "    for ent in incident_details[\"Entities\"][0]:\n",
    "        if ent[0] == \"Account\" or ent[0] == \"Mailbox\":\n",
    "            if \"accountName\" in ent[1].keys():\n",
    "                uent = ent[1][\"accountName\"]\n",
    "            elif \"aadUserId\" in ent[1].keys():\n",
    "                uent = ent[1][\"aadUserId\"]\n",
    "            elif \"upn\" in ent[1].keys():\n",
    "                uent = ent[1][\"upn\"]\n",
    "            if \"upnSuffix\" in ent[1].keys():\n",
    "                user = uent + \"@\" + ent[1][\"upnSuffix\"]\n",
    "            else:\n",
    "                user = uent\n",
    "            if user:\n",
    "                try:\n",
    "                    display(HTML(f\"<h1>Summary of Activity Related to{user}:</h1>\"))\n",
    "                    ac_nb = account_nb.run(timespan=timespan, value=user, silent=True)\n",
    "                    if ac_nb.account_selector is not None:\n",
    "                        md(\"Warning: multiple matching accounts found\")\n",
    "                        display(ac_nb.account_selector)\n",
    "                    display_accnb_details(\"account_activity\", ac_nb, \"Recent activity\")\n",
    "                    display_accnb_details(\"related_alerts\", ac_nb, \"Related alerts\")\n",
    "                    ac_nb.get_additional_data(silent=True)\n",
    "                    display_accnb_details(\"host_logon_summary\", ac_nb, \"Host Logons\")\n",
    "                    display_accnb_details(\"azure_activity_summary\", ac_nb, \"Azure Activity\")\n",
    "                    display_accnb_details(\"azure_timeline_by_provider\", ac_nb)\n",
    "                    display_accnb_details(\"ip_summary\", ac_nb, \"IP summary\")\n",
    "                except:\n",
    "                    print(f\"Error processing {user}\")\n",
    "else:\n",
    "    md(\"No Account entities present\", \"bold\")"
   ]
  },
  {
   "cell_type": "markdown",
   "metadata": {},
   "source": [
    "### Host Entity Analysis\n",
    "Below is an analysis of all Host entities attached to the incident."
   ]
  },
  {
   "cell_type": "code",
   "execution_count": null,
   "metadata": {},
   "outputs": [],
   "source": [
    "# Enrich Host entities using the HostSummary notebooklet\n",
    "timespan = TimeSpan(\n",
    "    start=pd.to_datetime(incident_details.iloc[0][\"properties.firstActivityTimeUtc\"]) - timedelta(days=1),\n",
    "    end=pd.to_datetime(incident_details.iloc[0][\"properties.lastActivityTimeUtc\"]) + timedelta(days=1)\n",
    ")\n",
    "host_nb = nb.nblts.azsent.host.HostSummary()\n",
    "\n",
    "if check_ent(incident_details[\"Entities\"][0], \"host\"):\n",
    "    md(\"Host entity enrichment\", \"bold\")\n",
    "    for ent in incident_details[\"Entities\"][0]:\n",
    "        if ent[0] == \"Host\":\n",
    "            if \"dnsDomain\" in ent[1]:\n",
    "                host_name = ent[1][\"hostName\"] + \".\" + ent[1][\"dnsDomain\"], \"\"\n",
    "            else:\n",
    "                host_name = ent[1][\"hostName\"]\n",
    "            md(f\"Host summary for {host_name}\", \"bold\")\n",
    "            try:\n",
    "                display(HTML(f\"<h1>Summary of Activity Related to{host_name}:</h1>\"))\n",
    "                host_sum_out = host_nb.run(value=host_name, timespan=timespan)\n",
    "            except:\n",
    "                print(f\"Error processing {host_name}\")\n",
    "else:\n",
    "    md(\"No Host entities present\", \"bold\")"
   ]
  },
  {
   "cell_type": "markdown",
   "metadata": {},
   "source": [
    "### Other Entity Analysis\n",
    "If there are other entity types not analyzed above, a timeline of their appearance in security alerts appears below."
   ]
  },
  {
   "cell_type": "code",
   "execution_count": null,
   "metadata": {},
   "outputs": [],
   "source": [
    "ent_map = {\n",
    "    \"FieHash\": \"hashValue\",\n",
    "    \"Malware\": \"malwareName\",\n",
    "    \"File\": \"fileName\",\n",
    "    \"CloudApplication\": \"appId\",\n",
    "    \"AzureResource\": \"ResourceId\",\n",
    "    \"RegistryValue\": \"registryName\",\n",
    "    \"SecurityGroup\": \"SID\",\n",
    "    \"IoTDevice\": \"deviceId\",\n",
    "    \"Mailbox\": \"mailboxPrimaryAddress\",\n",
    "    \"MailMessage\": \"networkMessageId\",\n",
    "    \"SubmissionMail\": \"submissionId\",\n",
    "}\n",
    "for ent in incident_details[\"Entities\"][0]:\n",
    "    if ent[0] in ent_map:\n",
    "        ent_alerts(ent[1][ent_map[ent[0]]])"
   ]
  }
 ],
 "metadata": {
  "interpreter": {
   "hash": "2bc37074a50de3994d4ebdf9197e864a43c9c15c9793b7f9f3363bcff9457253"
  },
  "kernelspec": {
   "display_name": "Python 3.8 - AzureML",
   "language": "python",
   "name": "python3"
  },
  "language_info": {
   "codemirror_mode": {
    "name": "ipython",
    "version": 3
   },
   "file_extension": ".py",
   "mimetype": "text/x-python",
   "name": "python",
   "nbconvert_exporter": "python",
   "pygments_lexer": "ipython3",
   "version": "3.9.7"
  },
  "widgets": {
   "application/vnd.jupyter.widget-state+json": {
    "state": {
     "0040cad1767f4b95a00aefbc70d06bc1": {
      "model_module": "@jupyter-widgets/base",
      "model_module_version": "1.2.0",
      "model_name": "LayoutModel",
      "state": {}
     },
     "01069a28b66840f5908dbf5167e08482": {
      "model_module": "@jupyter-widgets/controls",
      "model_module_version": "1.5.0",
      "model_name": "DescriptionStyleModel",
      "state": {
       "description_width": ""
      }
     },
     "14eaa102acb64e0b8073da21f45e83b5": {
      "model_module": "@jupyter-widgets/controls",
      "model_module_version": "1.5.0",
      "model_name": "VBoxModel",
      "state": {
       "children": [
        "IPY_MODEL_e28b52485fcb486c91ec902f5b7c61db",
        "IPY_MODEL_db98f91c5e394abeb6b76ed5fb4284ad",
        "IPY_MODEL_6125ee42c10541e3bca956f190da4496"
       ],
       "layout": "IPY_MODEL_47880b93603046cea618b9d10a7f192c"
      }
     },
     "195c48cd5c414746b418dac44c964c18": {
      "model_module": "@jupyter-widgets/base",
      "model_module_version": "1.2.0",
      "model_name": "LayoutModel",
      "state": {
       "width": "100px"
      }
     },
     "2483892439044ba69f374f2c0bb01c72": {
      "model_module": "@jupyter-widgets/controls",
      "model_module_version": "1.5.0",
      "model_name": "DescriptionStyleModel",
      "state": {
       "description_width": ""
      }
     },
     "2b5f387ba79b44b9a764af8c44827521": {
      "model_module": "@jupyter-widgets/controls",
      "model_module_version": "1.5.0",
      "model_name": "LabelModel",
      "state": {
       "layout": "IPY_MODEL_af3398b31ebc4934a2dc1ed71efeb55c",
       "style": "IPY_MODEL_01069a28b66840f5908dbf5167e08482"
      }
     },
     "3338fc72841a43b983a7a5d7ab114635": {
      "model_module": "@jupyter-widgets/controls",
      "model_module_version": "1.5.0",
      "model_name": "DescriptionStyleModel",
      "state": {
       "description_width": "initial"
      }
     },
     "34aa9860ecc94a71b4ec1920d9554694": {
      "model_module": "@jupyter-widgets/base",
      "model_module_version": "1.2.0",
      "model_name": "LayoutModel",
      "state": {
       "width": "70%"
      }
     },
     "3c3908a4efe34c62a0a008f31eefd1c8": {
      "model_module": "@jupyter-widgets/controls",
      "model_module_version": "1.5.0",
      "model_name": "HBoxModel",
      "state": {
       "children": [
        "IPY_MODEL_d8ba0aa2aad54cd0aa69760a5354b452",
        "IPY_MODEL_94d2f3d7a77d475fa56029c6c1b102a2"
       ],
       "layout": "IPY_MODEL_b108e5c7f71d41aa896d812172987157"
      }
     },
     "3c990d1c0dac4fac9be32569b11c773a": {
      "model_module": "@jupyter-widgets/controls",
      "model_module_version": "1.5.0",
      "model_name": "DescriptionStyleModel",
      "state": {
       "description_width": "initial"
      }
     },
     "3de1a85313a54edab63eab8a97d013cd": {
      "model_module": "@jupyter-widgets/controls",
      "model_module_version": "1.5.0",
      "model_name": "DescriptionStyleModel",
      "state": {
       "description_width": ""
      }
     },
     "41ce3c950bf641e982dd88dc1439cc85": {
      "model_module": "@jupyter-widgets/controls",
      "model_module_version": "1.5.0",
      "model_name": "VBoxModel",
      "state": {
       "children": [
        "IPY_MODEL_6d846f2a40af446183bbc9999494c25c",
        "IPY_MODEL_db4165bc3d9e4a3182d06b7fca3178e4",
        "IPY_MODEL_aad0360f0cb94309b96360ef49ef7474"
       ],
       "layout": "IPY_MODEL_7601235d1fbb40478da390e5c635bde4"
      }
     },
     "424d17d0ee4b4d929ea90e253f069ed7": {
      "model_module": "@jupyter-widgets/controls",
      "model_module_version": "1.5.0",
      "model_name": "IntRangeSliderModel",
      "state": {
       "_model_name": "IntRangeSliderModel",
       "_view_name": "IntRangeSliderView",
       "description": "Time Range",
       "layout": "IPY_MODEL_847bf20ca3504a108341090f44a5d399",
       "max": 28,
       "min": -28,
       "style": "IPY_MODEL_ecd5058213f7439db39bd205512843e5",
       "value": [
        -1,
        1
       ]
      }
     },
     "442fd1263e334d45ad7d171c3457d7cd": {
      "model_module": "@jupyter-widgets/controls",
      "model_module_version": "1.5.0",
      "model_name": "TextModel",
      "state": {
       "description": "Time (24hr)",
       "layout": "IPY_MODEL_d1f7f46ac3b64c818536834c60392fea",
       "style": "IPY_MODEL_3de1a85313a54edab63eab8a97d013cd",
       "value": "22:38:45.575783"
      }
     },
     "47880b93603046cea618b9d10a7f192c": {
      "model_module": "@jupyter-widgets/base",
      "model_module_version": "1.2.0",
      "model_name": "LayoutModel",
      "state": {}
     },
     "4bf47ca149934c799ae842ef53122f0d": {
      "model_module": "@jupyter-widgets/base",
      "model_module_version": "1.2.0",
      "model_name": "LayoutModel",
      "state": {
       "width": "50%"
      }
     },
     "511af61975284928bb839f6a946ae2b6": {
      "model_module": "@jupyter-widgets/controls",
      "model_module_version": "1.5.0",
      "model_name": "DescriptionStyleModel",
      "state": {
       "description_width": ""
      }
     },
     "56dbb96a024b4062bb16295c93bb8386": {
      "model_module": "@jupyter-widgets/controls",
      "model_module_version": "1.5.0",
      "model_name": "DescriptionStyleModel",
      "state": {
       "description_width": ""
      }
     },
     "5d170286dedd41889a7345023f650a33": {
      "model_module": "@jupyter-widgets/base",
      "model_module_version": "1.2.0",
      "model_name": "LayoutModel",
      "state": {
       "width": "50%"
      }
     },
     "6125ee42c10541e3bca956f190da4496": {
      "model_module": "@jupyter-widgets/controls",
      "model_module_version": "1.5.0",
      "model_name": "TextModel",
      "state": {
       "description": "Query end time (UTC) :  ",
       "layout": "IPY_MODEL_4bf47ca149934c799ae842ef53122f0d",
       "style": "IPY_MODEL_c8d4203d9a214a2faf7c33159211f3ad",
       "value": "2021-07-03 22:38:35.047441"
      }
     },
     "621702c9f018481183b96930e706cc54": {
      "model_module": "@jupyter-widgets/base",
      "model_module_version": "1.2.0",
      "model_name": "LayoutModel",
      "state": {}
     },
     "6d846f2a40af446183bbc9999494c25c": {
      "model_module": "@jupyter-widgets/controls",
      "model_module_version": "1.5.0",
      "model_name": "HTMLModel",
      "state": {
       "layout": "IPY_MODEL_af92228a3694413aacca38bdf0d6db3a",
       "style": "IPY_MODEL_ff485c7bb935466a8425b6a4ae8f8da9",
       "value": "<h4>Set time range for pivot functions.</h4>"
      }
     },
     "722e044af71d41c6b6a82690cd8a577c": {
      "model_module": "@jupyter-widgets/controls",
      "model_module_version": "1.5.0",
      "model_name": "DropdownModel",
      "state": {
       "_options_labels": [
        "minute",
        "hour",
        "day",
        "week"
       ],
       "index": 2,
       "layout": "IPY_MODEL_96fa332bb44f43b19d7a373d509f7afb",
       "style": "IPY_MODEL_2483892439044ba69f374f2c0bb01c72"
      }
     },
     "7601235d1fbb40478da390e5c635bde4": {
      "model_module": "@jupyter-widgets/base",
      "model_module_version": "1.2.0",
      "model_name": "LayoutModel",
      "state": {}
     },
     "777e16e2c58745df8e5d76524f5a1433": {
      "model_module": "@jupyter-widgets/base",
      "model_module_version": "1.2.0",
      "model_name": "LayoutModel",
      "state": {}
     },
     "7a9485f145724c38b81876500dbb43f2": {
      "model_module": "@jupyter-widgets/controls",
      "model_module_version": "1.5.0",
      "model_name": "HTMLModel",
      "state": {
       "layout": "IPY_MODEL_fa1b0cab6957493e935f4e9a8d428cb2",
       "style": "IPY_MODEL_94439f6f9f9b400496af079cd6e37604",
       "value": "<h4>Set query time boundaries</h4>"
      }
     },
     "81676b130d4a4af3a1b88a9a378dd60d": {
      "model_module": "@jupyter-widgets/controls",
      "model_module_version": "1.5.0",
      "model_name": "DescriptionStyleModel",
      "state": {
       "description_width": ""
      }
     },
     "82a64b7fb54640eda6c0c87406c628d2": {
      "model_module": "@jupyter-widgets/base",
      "model_module_version": "1.2.0",
      "model_name": "LayoutModel",
      "state": {
       "width": "50%"
      }
     },
     "847bf20ca3504a108341090f44a5d399": {
      "model_module": "@jupyter-widgets/base",
      "model_module_version": "1.2.0",
      "model_name": "LayoutModel",
      "state": {
       "width": "70%"
      }
     },
     "8c8eab82b42945dc89a91bbb570eb170": {
      "model_module": "@jupyter-widgets/controls",
      "model_module_version": "1.5.0",
      "model_name": "DescriptionStyleModel",
      "state": {
       "description_width": ""
      }
     },
     "8f45b292a74043d0a1cee653bc57689a": {
      "model_module": "@jupyter-widgets/base",
      "model_module_version": "1.2.0",
      "model_name": "LayoutModel",
      "state": {}
     },
     "8f4f079d2f044d36a7adfaf4efdd27cc": {
      "model_module": "@jupyter-widgets/base",
      "model_module_version": "1.2.0",
      "model_name": "LayoutModel",
      "state": {
       "width": "95%"
      }
     },
     "927b173de2034b0dbe37d9e1ae388c9a": {
      "model_module": "@jupyter-widgets/controls",
      "model_module_version": "1.5.0",
      "model_name": "VBoxModel",
      "state": {
       "children": [
        "IPY_MODEL_7a9485f145724c38b81876500dbb43f2",
        "IPY_MODEL_d1fa63f01abb4c59a0158af8c3af9d8d",
        "IPY_MODEL_14eaa102acb64e0b8073da21f45e83b5"
       ],
       "layout": "IPY_MODEL_8f45b292a74043d0a1cee653bc57689a"
      }
     },
     "94439f6f9f9b400496af079cd6e37604": {
      "model_module": "@jupyter-widgets/controls",
      "model_module_version": "1.5.0",
      "model_name": "DescriptionStyleModel",
      "state": {
       "description_width": ""
      }
     },
     "949f237e510542789ff9e149560d5181": {
      "model_module": "@jupyter-widgets/controls",
      "model_module_version": "1.5.0",
      "model_name": "DatePickerModel",
      "state": {
       "description": "Origin Date",
       "disabled": false,
       "layout": "IPY_MODEL_dcd9308cd0474c24827bcc6cec31e96d",
       "style": "IPY_MODEL_81676b130d4a4af3a1b88a9a378dd60d",
       "value": {
        "date": 2,
        "month": 6,
        "year": 2021
       }
      }
     },
     "94d2f3d7a77d475fa56029c6c1b102a2": {
      "model_module": "@jupyter-widgets/controls",
      "model_module_version": "1.5.0",
      "model_name": "DropdownModel",
      "state": {
       "_options_labels": [
        "minute",
        "hour",
        "day",
        "week"
       ],
       "index": 2,
       "layout": "IPY_MODEL_195c48cd5c414746b418dac44c964c18",
       "style": "IPY_MODEL_8c8eab82b42945dc89a91bbb570eb170"
      }
     },
     "96fa332bb44f43b19d7a373d509f7afb": {
      "model_module": "@jupyter-widgets/base",
      "model_module_version": "1.2.0",
      "model_name": "LayoutModel",
      "state": {
       "width": "100px"
      }
     },
     "a445ee0e426c4f13af21b260b700e05f": {
      "model_module": "@jupyter-widgets/base",
      "model_module_version": "1.2.0",
      "model_name": "LayoutModel",
      "state": {
       "width": "99%"
      }
     },
     "a4d3df3b4447488f93e32ac4b3ada8c9": {
      "model_module": "@jupyter-widgets/controls",
      "model_module_version": "1.5.0",
      "model_name": "SliderStyleModel",
      "state": {
       "description_width": "initial"
      }
     },
     "aad0360f0cb94309b96360ef49ef7474": {
      "model_module": "@jupyter-widgets/controls",
      "model_module_version": "1.5.0",
      "model_name": "VBoxModel",
      "state": {
       "children": [
        "IPY_MODEL_3c3908a4efe34c62a0a008f31eefd1c8",
        "IPY_MODEL_f5fe70128cdf4eadaf8455cdbbd719cb",
        "IPY_MODEL_ae8c36ba95ab4ffb883b6cef6ffa6ac7"
       ],
       "layout": "IPY_MODEL_777e16e2c58745df8e5d76524f5a1433"
      }
     },
     "ae8c36ba95ab4ffb883b6cef6ffa6ac7": {
      "model_module": "@jupyter-widgets/controls",
      "model_module_version": "1.5.0",
      "model_name": "TextModel",
      "state": {
       "description": "Query end time (UTC) :  ",
       "layout": "IPY_MODEL_82a64b7fb54640eda6c0c87406c628d2",
       "style": "IPY_MODEL_f85fee408dda49ffadbae38d3f49eab9",
       "value": "2021-07-02 22:38:45.575783"
      }
     },
     "af3398b31ebc4934a2dc1ed71efeb55c": {
      "model_module": "@jupyter-widgets/base",
      "model_module_version": "1.2.0",
      "model_name": "LayoutModel",
      "state": {
       "width": "99%"
      }
     },
     "af92228a3694413aacca38bdf0d6db3a": {
      "model_module": "@jupyter-widgets/base",
      "model_module_version": "1.2.0",
      "model_name": "LayoutModel",
      "state": {}
     },
     "b108e5c7f71d41aa896d812172987157": {
      "model_module": "@jupyter-widgets/base",
      "model_module_version": "1.2.0",
      "model_name": "LayoutModel",
      "state": {}
     },
     "b7cffa19b0144d8eb66f2c87e47282f6": {
      "model_module": "@jupyter-widgets/base",
      "model_module_version": "1.2.0",
      "model_name": "LayoutModel",
      "state": {
       "width": "50%"
      }
     },
     "c8d4203d9a214a2faf7c33159211f3ad": {
      "model_module": "@jupyter-widgets/controls",
      "model_module_version": "1.5.0",
      "model_name": "DescriptionStyleModel",
      "state": {
       "description_width": "initial"
      }
     },
     "d1f7f46ac3b64c818536834c60392fea": {
      "model_module": "@jupyter-widgets/base",
      "model_module_version": "1.2.0",
      "model_name": "LayoutModel",
      "state": {}
     },
     "d1fa63f01abb4c59a0158af8c3af9d8d": {
      "model_module": "@jupyter-widgets/controls",
      "model_module_version": "1.5.0",
      "model_name": "HBoxModel",
      "state": {
       "children": [
        "IPY_MODEL_949f237e510542789ff9e149560d5181",
        "IPY_MODEL_e0f304182b2543cc88d79e19c5bae2c6"
       ],
       "layout": "IPY_MODEL_621702c9f018481183b96930e706cc54"
      }
     },
     "d43e2535709949c7bbe3b426483ff4ae": {
      "model_module": "@jupyter-widgets/base",
      "model_module_version": "1.2.0",
      "model_name": "LayoutModel",
      "state": {
       "width": "70%"
      }
     },
     "d6fa1751257f48c5a6161393ac096efc": {
      "model_module": "@jupyter-widgets/base",
      "model_module_version": "1.2.0",
      "model_name": "LayoutModel",
      "state": {}
     },
     "d8ba0aa2aad54cd0aa69760a5354b452": {
      "model_module": "@jupyter-widgets/controls",
      "model_module_version": "1.5.0",
      "model_name": "IntRangeSliderModel",
      "state": {
       "_model_name": "IntRangeSliderModel",
       "_view_name": "IntRangeSliderView",
       "description": "Time Range",
       "layout": "IPY_MODEL_d43e2535709949c7bbe3b426483ff4ae",
       "max": 28,
       "min": -28,
       "style": "IPY_MODEL_a4d3df3b4447488f93e32ac4b3ada8c9",
       "value": [
        -1,
        0
       ]
      }
     },
     "db4165bc3d9e4a3182d06b7fca3178e4": {
      "model_module": "@jupyter-widgets/controls",
      "model_module_version": "1.5.0",
      "model_name": "HBoxModel",
      "state": {
       "children": [
        "IPY_MODEL_ed5543a1b31c4370ab95fdb59cf1453e",
        "IPY_MODEL_442fd1263e334d45ad7d171c3457d7cd"
       ],
       "layout": "IPY_MODEL_f3278667c52b4c6986fe59f6854be181"
      }
     },
     "db98f91c5e394abeb6b76ed5fb4284ad": {
      "model_module": "@jupyter-widgets/controls",
      "model_module_version": "1.5.0",
      "model_name": "TextModel",
      "state": {
       "description": "Query start time (UTC):",
       "layout": "IPY_MODEL_5d170286dedd41889a7345023f650a33",
       "style": "IPY_MODEL_3c990d1c0dac4fac9be32569b11c773a",
       "value": "2021-07-01 22:38:35.047441"
      }
     },
     "dcd9308cd0474c24827bcc6cec31e96d": {
      "model_module": "@jupyter-widgets/base",
      "model_module_version": "1.2.0",
      "model_name": "LayoutModel",
      "state": {}
     },
     "debbd947449c4860aef557d0d8c54d08": {
      "model_module": "@jupyter-widgets/base",
      "model_module_version": "1.2.0",
      "model_name": "LayoutModel",
      "state": {
       "width": "70%"
      }
     },
     "e0f304182b2543cc88d79e19c5bae2c6": {
      "model_module": "@jupyter-widgets/controls",
      "model_module_version": "1.5.0",
      "model_name": "TextModel",
      "state": {
       "description": "Time (24hr)",
       "layout": "IPY_MODEL_d6fa1751257f48c5a6161393ac096efc",
       "style": "IPY_MODEL_56dbb96a024b4062bb16295c93bb8386",
       "value": "22:38:35.047441"
      }
     },
     "e28b52485fcb486c91ec902f5b7c61db": {
      "model_module": "@jupyter-widgets/controls",
      "model_module_version": "1.5.0",
      "model_name": "HBoxModel",
      "state": {
       "children": [
        "IPY_MODEL_424d17d0ee4b4d929ea90e253f069ed7",
        "IPY_MODEL_722e044af71d41c6b6a82690cd8a577c"
       ],
       "layout": "IPY_MODEL_0040cad1767f4b95a00aefbc70d06bc1"
      }
     },
     "e41efc3621cc45e399078cf24332bf67": {
      "model_module": "@jupyter-widgets/base",
      "model_module_version": "1.2.0",
      "model_name": "LayoutModel",
      "state": {
       "height": "150px",
       "width": "300px"
      }
     },
     "ec9a50e5fb5646669c679ce5dcf6f26a": {
      "model_module": "@jupyter-widgets/base",
      "model_module_version": "1.2.0",
      "model_name": "LayoutModel",
      "state": {}
     },
     "ecd5058213f7439db39bd205512843e5": {
      "model_module": "@jupyter-widgets/controls",
      "model_module_version": "1.5.0",
      "model_name": "SliderStyleModel",
      "state": {
       "description_width": "initial"
      }
     },
     "ed5543a1b31c4370ab95fdb59cf1453e": {
      "model_module": "@jupyter-widgets/controls",
      "model_module_version": "1.5.0",
      "model_name": "DatePickerModel",
      "state": {
       "description": "Origin Date",
       "disabled": false,
       "layout": "IPY_MODEL_ec9a50e5fb5646669c679ce5dcf6f26a",
       "style": "IPY_MODEL_511af61975284928bb839f6a946ae2b6",
       "value": {
        "date": 2,
        "month": 6,
        "year": 2021
       }
      }
     },
     "f3278667c52b4c6986fe59f6854be181": {
      "model_module": "@jupyter-widgets/base",
      "model_module_version": "1.2.0",
      "model_name": "LayoutModel",
      "state": {}
     },
     "f5fe70128cdf4eadaf8455cdbbd719cb": {
      "model_module": "@jupyter-widgets/controls",
      "model_module_version": "1.5.0",
      "model_name": "TextModel",
      "state": {
       "description": "Query start time (UTC):",
       "layout": "IPY_MODEL_b7cffa19b0144d8eb66f2c87e47282f6",
       "style": "IPY_MODEL_3338fc72841a43b983a7a5d7ab114635",
       "value": "2021-07-01 22:38:45.575783"
      }
     },
     "f662b92adde64b5da4e13750c0fa88c0": {
      "model_module": "@jupyter-widgets/base",
      "model_module_version": "1.2.0",
      "model_name": "LayoutModel",
      "state": {
       "width": "70%"
      }
     },
     "f85fee408dda49ffadbae38d3f49eab9": {
      "model_module": "@jupyter-widgets/controls",
      "model_module_version": "1.5.0",
      "model_name": "DescriptionStyleModel",
      "state": {
       "description_width": "initial"
      }
     },
     "f90cc4c565664db79c4aa5220fe7f94c": {
      "model_module": "@jupyter-widgets/base",
      "model_module_version": "1.2.0",
      "model_name": "LayoutModel",
      "state": {
       "height": "150px",
       "width": "300px"
      }
     },
     "fa1b0cab6957493e935f4e9a8d428cb2": {
      "model_module": "@jupyter-widgets/base",
      "model_module_version": "1.2.0",
      "model_name": "LayoutModel",
      "state": {}
     },
     "ff485c7bb935466a8425b6a4ae8f8da9": {
      "model_module": "@jupyter-widgets/controls",
      "model_module_version": "1.5.0",
      "model_name": "DescriptionStyleModel",
      "state": {
       "description_width": ""
      }
     }
    },
    "version_major": 2,
    "version_minor": 0
   }
  }
 },
 "nbformat": 4,
 "nbformat_minor": 4
}
