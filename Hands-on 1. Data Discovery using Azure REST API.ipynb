{
  "cells": [
    {
      "cell_type": "markdown",
      "source": [
        "# Hands-on - 1. Data Discovery using Azure REST API\r\n",
        "\r\n",
        "__Notebook Version:__ 1.0<br>\r\n",
        "__Python Version:__ Python 3.6 - AzureML<br>\r\n",
        "__Required Packages:__ No<br>\r\n",
        "__Platforms Supported:__  Azure Machine Learning Notebooks\r\n",
        "     \r\n",
        "__Data Source Required:__ Log Analytics tables \r\n",
        "    \r\n",
        "### Description\r\n",
        "This notebook will provide step-by-step instructions and sample code to guide you through Azure authentication, Sentinel data discovery by using Azure REST API.<br>\r\n",
        "*** No need to download and install any other Python modules. ***<br>\r\n",
        "*** Please run the cells sequentially to avoid errors. *** <br>\r\n",
        "\r\n",
        "## Table of Contents\r\n",
        "1. Warm-up\r\n",
        "2. Azure Authentication\r\n",
        "3. List Sentinel Watchlists Using API\r\n",
        "4. List Sentinel Incidents Using API"
      ],
      "metadata": {
        "nteract": {
          "transient": {
            "deleting": false
          }
        }
      }
    },
    {
      "cell_type": "markdown",
      "source": [
        "## 1. Warm-up"
      ],
      "metadata": {
        "nteract": {
          "transient": {
            "deleting": false
          }
        }
      }
    },
    {
      "cell_type": "code",
      "source": [
        "# If you need to know what Python modules are available, you may run this:\r\n",
        "# help(\"modules\")"
      ],
      "outputs": [],
      "execution_count": null,
      "metadata": {
        "collapsed": true,
        "jupyter": {
          "source_hidden": false,
          "outputs_hidden": false
        },
        "nteract": {
          "transient": {
            "deleting": false
          }
        },
        "gather": {
          "logged": 1605311668008
        }
      }
    },
    {
      "cell_type": "code",
      "source": [
        "# Loading Python libraries\r\n",
        "from azure.common.credentials import get_azure_cli_credentials\r\n",
        "import requests\r\n",
        "import json\r\n",
        "import pandas"
      ],
      "outputs": [],
      "execution_count": null,
      "metadata": {
        "collapsed": true,
        "jupyter": {
          "source_hidden": false,
          "outputs_hidden": false
        },
        "nteract": {
          "transient": {
            "deleting": false
          }
        },
        "gather": {
          "logged": 1607045813848
        }
      }
    },
    {
      "cell_type": "code",
      "source": [
        "# Functions will be used in this notebook\r\n",
        "def read_config_values(file_path):\r\n",
        "    \"This loads pre-generated parameters for Sentinel Workspace\"\r\n",
        "    with open(file_path) as json_file:\r\n",
        "        if json_file:\r\n",
        "            json_config = json.load(json_file)\r\n",
        "            return (json_config[\"tenant_id\"],\r\n",
        "                    json_config[\"subscription_id\"],\r\n",
        "                    json_config[\"resource_group\"],\r\n",
        "                    json_config[\"workspace_id\"],\r\n",
        "                    json_config[\"workspace_name\"])\r\n",
        "    return None\r\n",
        "\r\n",
        "# Calling Sentinel API for List, the same template can be used for calling other Azure REST APIs with different parameters.\r\n",
        "# For different environments, such as national clouds, you may need to use different root_url, please contact with your admins.\r\n",
        "# It can be ---.azure.us, ---.azure.microsoft.scloud, ---.azure.eaglex.ic.gov, etc.\r\n",
        "def call_azure_rest_api_for_list(token, resource_name, api_version):\r\n",
        "    \"Calling Sentinel REST API\"\r\n",
        "    headers = {\"Authorization\": token, \"content-type\":\"application/json\" }\r\n",
        "    provider_name = \"Microsoft.OperationalInsights\"\r\n",
        "    provider2_name = \"Microsoft.SecurityInsights\"\r\n",
        "    target_resource_name = resource_name\r\n",
        "    api_version = api_version\r\n",
        "    root_url = \"https://management.azure.com\"\r\n",
        "    arm_rest_url_template_for_list = \"{0}/subscriptions/{1}/resourceGroups/{2}/providers/{3}/workspaces/{4}/providers/{5}/{6}?api-version={7}\"\r\n",
        "    arm_rest_url = arm_rest_url_template_for_list.format(root_url, subscription_id, resource_group, provider_name, workspace_name, provider2_name, target_resource_name, api_version)\r\n",
        "    response = requests.get(arm_rest_url, headers=headers, verify=True)\r\n",
        "    return response\r\n",
        "\r\n",
        "def display_result_name(response):\r\n",
        "    \"Default to display column - name, you may change it to other columns\"\r\n",
        "    column_name = \"name\"\r\n",
        "    if response != None:\r\n",
        "        entries = [item[column_name] for item in response.json()[\"value\"]] \r\n",
        "        display(entries)\r\n",
        "\r\n",
        "def display_result(response):\r\n",
        "    \"Display the result set as pandas.DataFrame\"\r\n",
        "    if response != None:\r\n",
        "        df = pandas.DataFrame(response_incident.json()[\"value\"])\r\n",
        "        display(df)"
      ],
      "outputs": [],
      "execution_count": null,
      "metadata": {
        "collapsed": true,
        "jupyter": {
          "source_hidden": false,
          "outputs_hidden": false
        },
        "nteract": {
          "transient": {
            "deleting": false
          }
        },
        "gather": {
          "logged": 1607045815678
        }
      }
    },
    {
      "cell_type": "code",
      "source": [
        "# Calling the above function to populate Sentinel workspace parameters\r\n",
        "# The file, config.json, was generated by the system, however, you may modify the values, or manually set the variables\r\n",
        "tenant_id, subscription_id, resource_group, workspace_id, workspace_name = read_config_values('config.json');"
      ],
      "outputs": [],
      "execution_count": null,
      "metadata": {
        "collapsed": true,
        "jupyter": {
          "source_hidden": false,
          "outputs_hidden": false
        },
        "nteract": {
          "transient": {
            "deleting": false
          }
        },
        "gather": {
          "logged": 1607045818459
        }
      }
    },
    {
      "cell_type": "markdown",
      "source": [
        "## 2. Azure Authentication"
      ],
      "metadata": {
        "nteract": {
          "transient": {
            "deleting": false
          }
        }
      }
    },
    {
      "cell_type": "code",
      "source": [
        "# Azure CLI is used to get device code to login into Azure, you need to copy the code and open the DeviceLogin site.\r\n",
        "# You may add [--tenant $tenant_id] to the command\r\n",
        "!az login --use-device-code"
      ],
      "outputs": [],
      "execution_count": null,
      "metadata": {
        "gather": {
          "logged": 1607045875485
        }
      }
    },
    {
      "cell_type": "code",
      "source": [
        "# Extract access token, which will be used to access Sentinel Watchlist API for your Watchlist data.  \r\n",
        "credentials, sub_id = get_azure_cli_credentials()\r\n",
        "creds = credentials._get_cred(resource=None)\r\n",
        "token = creds._token_retriever()[2]\r\n",
        "access_token = token['accessToken']\r\n",
        "header_token_value = \"Bearer {}\".format(access_token)"
      ],
      "outputs": [],
      "execution_count": null,
      "metadata": {
        "collapsed": true,
        "jupyter": {
          "source_hidden": false,
          "outputs_hidden": false
        },
        "nteract": {
          "transient": {
            "deleting": false
          }
        },
        "gather": {
          "logged": 1607045901561
        }
      }
    },
    {
      "cell_type": "markdown",
      "source": [
        "## 3. List Sentinel Watchlists Using API"
      ],
      "metadata": {
        "nteract": {
          "transient": {
            "deleting": false
          }
        }
      }
    },
    {
      "cell_type": "code",
      "source": [
        "# Calling Sentinel Watchlist API\r\n",
        "# If you don't have Watchlist, you may create one, or try to access different features, such as Bookmarks.\r\n",
        "response_watchlist = call_azure_rest_api_for_list(header_token_value, \"watchlists\", \"2019-01-01-preview\")"
      ],
      "outputs": [],
      "execution_count": null,
      "metadata": {
        "collapsed": true,
        "jupyter": {
          "source_hidden": false,
          "outputs_hidden": false
        },
        "nteract": {
          "transient": {
            "deleting": false
          }
        },
        "gather": {
          "logged": 1607045905934
        }
      }
    },
    {
      "cell_type": "code",
      "source": [
        "# Display the result\r\n",
        "display_result_name(response_watchlist)"
      ],
      "outputs": [],
      "execution_count": null,
      "metadata": {
        "collapsed": true,
        "jupyter": {
          "source_hidden": false,
          "outputs_hidden": false
        },
        "nteract": {
          "transient": {
            "deleting": false
          }
        },
        "gather": {
          "logged": 1607045908581
        }
      }
    },
    {
      "cell_type": "markdown",
      "source": [
        "## 4. List Sentinel Incidents Using API"
      ],
      "metadata": {
        "nteract": {
          "transient": {
            "deleting": false
          }
        }
      }
    },
    {
      "cell_type": "code",
      "source": [
        "# Calling Sentinel Incident API\r\n",
        "# If you don't have incidents, you may create one through Azure Portal.\r\n",
        "response_incident = call_azure_rest_api_for_list(header_token_value, \"incidents\", \"2020-01-01\")"
      ],
      "outputs": [],
      "execution_count": null,
      "metadata": {
        "collapsed": true,
        "jupyter": {
          "source_hidden": false,
          "outputs_hidden": false
        },
        "nteract": {
          "transient": {
            "deleting": false
          }
        },
        "gather": {
          "logged": 1607045912196
        }
      }
    },
    {
      "cell_type": "code",
      "source": [
        "# Display the result\r\n",
        "display_result(response_incident)"
      ],
      "outputs": [],
      "execution_count": null,
      "metadata": {
        "collapsed": true,
        "jupyter": {
          "source_hidden": false,
          "outputs_hidden": false
        },
        "nteract": {
          "transient": {
            "deleting": false
          }
        },
        "gather": {
          "logged": 1607045914872
        }
      }
    },
    {
      "cell_type": "markdown",
      "source": [
        "Thanks for coming along all the way to the end.  In the next Hands-on notebook, I will show you how to access data using Azure SDK for Python.  And keep one of the watchlist name, it will be used in the next notebook.  A la prochaine."
      ],
      "metadata": {
        "nteract": {
          "transient": {
            "deleting": false
          }
        }
      }
    }
  ],
  "metadata": {
    "kernelspec": {
      "name": "python3-azureml",
      "language": "python",
      "display_name": "Python 3.6 - AzureML"
    },
    "language_info": {
      "name": "python",
      "version": "3.6.9",
      "mimetype": "text/x-python",
      "codemirror_mode": {
        "name": "ipython",
        "version": 3
      },
      "pygments_lexer": "ipython3",
      "nbconvert_exporter": "python",
      "file_extension": ".py"
    },
    "kernel_info": {
      "name": "python3-azureml"
    },
    "nteract": {
      "version": "nteract-front-end@1.0.0"
    }
  },
  "nbformat": 4,
  "nbformat_minor": 2
}