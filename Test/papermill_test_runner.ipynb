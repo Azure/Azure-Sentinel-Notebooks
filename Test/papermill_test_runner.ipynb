{
  "cells": [
    {
      "cell_type": "markdown",
      "source": [
        "# Notebook Testing"
      ],
      "metadata": {
        "nteract": {
          "transient": {
            "deleting": false
          }
        }
      }
    },
    {
      "cell_type": "code",
      "source": [
        "import papermill\r\n",
        "import json"
      ],
      "outputs": [],
      "execution_count": null,
      "metadata": {
        "tags": [
          "parameters"
        ],
        "gather": {
          "logged": 1619563497734
        }
      }
    },
    {
      "cell_type": "code",
      "source": [
        "def read_config_values(file_path):\r\n",
        "    \"This loads pre-generated parameters for Sentinel Workspace\"\r\n",
        "    with open(file_path) as json_file:\r\n",
        "        if json_file:\r\n",
        "            json_config = json.load(json_file)\r\n",
        "            return (json_config[\"tenant_id\"],\r\n",
        "                    json_config[\"subscription_id\"],\r\n",
        "                    json_config[\"resource_group\"],\r\n",
        "                    json_config[\"workspace_id\"],\r\n",
        "                    json_config[\"workspace_name\"])\r\n",
        "    return None"
      ],
      "outputs": [],
      "execution_count": null,
      "metadata": {
        "collapsed": true,
        "jupyter": {
          "source_hidden": false,
          "outputs_hidden": false
        },
        "nteract": {
          "transient": {
            "deleting": false
          }
        },
        "gather": {
          "logged": 1619562452749
        }
      }
    },
    {
      "cell_type": "code",
      "source": [
        "tenant_id, subscription_id, resource_group, workspace_id, workspace_name = read_config_values('config.json');"
      ],
      "outputs": [],
      "execution_count": null,
      "metadata": {
        "collapsed": true,
        "jupyter": {
          "source_hidden": false,
          "outputs_hidden": false
        },
        "nteract": {
          "transient": {
            "deleting": false
          }
        },
        "gather": {
          "logged": 1619562454729
        }
      }
    },
    {
      "cell_type": "code",
      "source": [
        "!az login --tenant $tenant_id --use-device-code"
      ],
      "outputs": [],
      "execution_count": null,
      "metadata": {
        "collapsed": true,
        "jupyter": {
          "source_hidden": false,
          "outputs_hidden": false
        },
        "nteract": {
          "transient": {
            "deleting": false
          }
        }
      }
    },
    {
      "cell_type": "code",
      "source": [
        "# Set parameters\r\n",
        "params = dict(\r\n",
        "                   test_run = True,\r\n",
        "                   watchlist_name = 'zzwl1118',\r\n",
        ")\r\n",
        "output_notebook = './Papermill_test_output.ipynb'\r\n",
        "\r\n",
        "input_notebooks = [\r\n",
        "'./Credential Scan on Azure Blob Storage.ipynb',\r\n",
        "'./Credential Scan on Azure Data Explorer.ipynb',\r\n",
        "'./Credential Scan on Azure Log Analytics.ipynb',\r\n",
        "'./Hands on - Surfing Your Data using Azure SDK for Python.ipynb',\r\n",
        "'./Hands on - Data Discovery using Azure REST API.ipynb',\r\n",
        "]"
      ],
      "outputs": [],
      "execution_count": null,
      "metadata": {
        "collapsed": true,
        "jupyter": {
          "source_hidden": false,
          "outputs_hidden": false
        },
        "nteract": {
          "transient": {
            "deleting": false
          }
        },
        "gather": {
          "logged": 1619563501918
        }
      }
    },
    {
      "cell_type": "code",
      "source": [
        "# Execute notebooks\r\n",
        "for nb in input_notebooks:\r\n",
        "    print('starting ' + nb)\r\n",
        "    papermill.execute_notebook(\r\n",
        "        nb,\r\n",
        "        output_notebook,\r\n",
        "        parameters=params\r\n",
        "    )\r\n",
        "    print(nb + ' completed')"
      ],
      "outputs": [],
      "execution_count": null,
      "metadata": {
        "collapsed": true,
        "jupyter": {
          "source_hidden": false,
          "outputs_hidden": true
        },
        "nteract": {
          "transient": {
            "deleting": false
          }
        },
        "gather": {
          "logged": 1619563560083
        }
      }
    },
    {
      "cell_type": "code",
      "source": [
        "# Set parameters for heavy notebooks\r\n",
        "params2 = dict(\r\n",
        "                   test_run = True,\r\n",
        "                   q_timestamp='2021-04-01',\r\n",
        "                   q_entity='user',\r\n",
        ")\r\n",
        "output_notebook2 = './Papermill_test_output2.ipynb'\r\n",
        "input_notebooks2 = [\r\n",
        "'./Guided Investigation - Anomaly Lookup.ipynb'\r\n",
        "]"
      ],
      "outputs": [],
      "execution_count": null,
      "metadata": {
        "collapsed": true,
        "jupyter": {
          "source_hidden": false,
          "outputs_hidden": false
        },
        "nteract": {
          "transient": {
            "deleting": false
          }
        },
        "gather": {
          "logged": 1619563567845
        }
      }
    },
    {
      "cell_type": "code",
      "source": [
        "# Execute heavy notebooks\r\n",
        "for nb2 in input_notebooks2:\r\n",
        "    papermill.execute_notebook(\r\n",
        "        nb2,\r\n",
        "        output_notebook2,\r\n",
        "        parameters=params2\r\n",
        "    )"
      ],
      "outputs": [],
      "execution_count": null,
      "metadata": {
        "collapsed": true,
        "jupyter": {
          "source_hidden": false,
          "outputs_hidden": false
        },
        "nteract": {
          "transient": {
            "deleting": false
          }
        },
        "gather": {
          "logged": 1619563581497
        }
      }
    }
  ],
  "metadata": {
    "celltoolbar": "Tags",
    "kernel_info": {
      "name": "python38-azureml"
    },
    "kernelspec": {
      "name": "python38-azureml",
      "language": "python",
      "display_name": "Python 3.8 - AzureML"
    },
    "language_info": {
      "name": "python",
      "version": "3.8.1",
      "mimetype": "text/x-python",
      "codemirror_mode": {
        "name": "ipython",
        "version": 3
      },
      "pygments_lexer": "ipython3",
      "nbconvert_exporter": "python",
      "file_extension": ".py"
    },
    "nteract": {
      "version": "nteract-front-end@1.0.0"
    },
    "microsoft": {
      "host": {
        "AzureML": {
          "notebookHasBeenCompleted": true
        }
      }
    }
  },
  "nbformat": 4,
  "nbformat_minor": 2
}