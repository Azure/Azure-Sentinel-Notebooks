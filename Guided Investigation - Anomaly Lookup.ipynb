{
  "cells": [
    {
      "metadata": {},
      "cell_type": "markdown",
      "source": "# Guided Investigation - Anomaly Lookup\n\n__Notebook Version:__ 1.0<br>\n__Python Version:__ Python 3.6 - AzureML<br>\n__Required Packages:__ Azure-Sentinel-Utilities<br>\n__Platforms Supported:__  Azure Machine Learning Notebooks\n     \n__Data Source Required:__ Log Analytics tables \n    \n### Description\nGain insights into the possible root cause of an alert by searching for related anomalies on the corresponding entities around the alert’s time. This notebook will provide valuable leads for an alert’s investigation, listing all suspicious increase in event counts or their properties around the time of the alert, and linking to the corresponding raw records in Log Analytics for the investigator to focus on and interpret.\n\n<font>You may need to select Python 3.6 - AzureML on Azure Machine Learning Notebooks.</font>\n\n## Table of Contents\n\n1. Initialize Azure Resource Management Clients\n2. Looking up for anomaly entities"
    },
    {
      "metadata": {},
      "cell_type": "markdown",
      "source": "## 1. Initialize Azure Resource Management Clients"
    },
    {
      "metadata": {
        "trusted": true
      },
      "cell_type": "code",
      "source": "# only run once\n!pip install --upgrade Azure-Sentinel-Utilities",
      "execution_count": null,
      "outputs": []
    },
    {
      "metadata": {
        "trusted": true
      },
      "cell_type": "code",
      "source": "# Set variables from config.json\nfrom SentinelWidgets import WidgetViewHelper\nfrom SentinelUtils import ConfigReader\ntenant_id, subscription_id, resource_group, workspace_id, workspace_name  = ConfigReader.read_config_values('config.json');",
      "execution_count": null,
      "outputs": []
    },
    {
      "metadata": {
        "trusted": true
      },
      "cell_type": "code",
      "source": "from azure.loganalytics import LogAnalyticsDataClient\nfrom azure.loganalytics.models import QueryBody\nfrom azure.mgmt.loganalytics import LogAnalyticsManagementClient\nimport SentinelAzure\nfrom SentinelAnomalyLookup import AnomalyFinder, AnomalyLookupViewHelper\n\nfrom pandas.io.json import json_normalize\nimport sys\nimport timeit\nimport datetime as dt\nimport pandas as pd\nimport copy\nfrom IPython.display import HTML",
      "execution_count": null,
      "outputs": []
    },
    {
      "metadata": {
        "trusted": true
      },
      "cell_type": "code",
      "source": "# Authentication to Log Analytics\nfrom azure.common.client_factory import get_client_from_cli_profile\nfrom azure.common.credentials import get_azure_cli_credentials\n!az login --tenant $tenant_id\nla_client = get_client_from_cli_profile(LogAnalyticsManagementClient, subscription_id = subscription_id)\nla = SentinelAzure.azure_loganalytics_helper.LogAnalyticsHelper(la_client)\ncreds, _ = get_azure_cli_credentials(resource=\"https://api.loganalytics.io\")\nla_data_client = LogAnalyticsDataClient(creds)",
      "execution_count": null,
      "outputs": []
    },
    {
      "metadata": {},
      "cell_type": "markdown",
      "source": "## 2. Looking up for anomaly entities"
    },
    {
      "metadata": {
        "trusted": true
      },
      "cell_type": "code",
      "source": "import ipywidgets as widgets\n#DateTime format: 2019-07-15T07:05:20.000\nq_timestamp = widgets.Text(value='2020-07-08',description='DateTime: ')\ndisplay(q_timestamp)\n#Entity format: computer\nq_entity = widgets.Text(value='computer',description='Entity: ')\ndisplay(q_entity)",
      "execution_count": null,
      "outputs": []
    },
    {
      "metadata": {
        "trusted": true,
        "scrolled": true
      },
      "cell_type": "code",
      "source": "anomaly_lookup = AnomalyFinder(workspace_id, la_data_client)\nselected_tables = WidgetViewHelper.select_multiple_tables(anomaly_lookup)\ndisplay(selected_tables)",
      "execution_count": null,
      "outputs": []
    },
    {
      "metadata": {
        "trusted": true
      },
      "cell_type": "code",
      "source": "# This action may take a few minutes or more, please be patient.\nstart = timeit.default_timer()\nanomalies, queries = anomaly_lookup.run(q_timestamp.value, q_entity.value, list(selected_tables.value))\n\nif anomalies is not None and len(anomalies) > 0:\n    display(anomalies)\n\nprint('======= Task completed ===========')\nprint('Elapsed time: ', timeit.default_timer() - start, ' seconds')\n\nif queries is not None:\n    url = WidgetViewHelper.construct_url_for_log_analytics_logs(tenant_id, subscription_id, resource_group, workspace_name)\n    print('======= Clicking the URL to go to Log Analytics =======')\n    print(url)\n    WidgetViewHelper.display_html(WidgetViewHelper.copy_to_clipboard(url, queries, 'Add queries to clipboard then paste to Logs'))\nelse:\n    print('0 records found.')",
      "execution_count": null,
      "outputs": []
    },
    {
      "metadata": {
        "jupyter": {
          "source_hidden": false,
          "outputs_hidden": false
        },
        "nteract": {
          "transient": {
            "deleting": false
          }
        },
        "trusted": true
      },
      "cell_type": "code",
      "source": "",
      "execution_count": null,
      "outputs": []
    }
  ],
  "metadata": {
    "celltoolbar": "Tags",
    "kernelspec": {
      "name": "python3-azureml",
      "language": "python",
      "display_name": "Python 3.6 - AzureML"
    },
    "language_info": {
      "mimetype": "text/x-python",
      "nbconvert_exporter": "python",
      "name": "python",
      "pygments_lexer": "ipython3",
      "version": "3.6.6",
      "file_extension": ".py",
      "codemirror_mode": {
        "version": 3,
        "name": "ipython"
      }
    },
    "kernel_info": {
      "name": "python3-azureml"
    },
    "nteract": {
      "version": "nteract-front-end@1.0.0"
    }
  },
  "nbformat": 4,
  "nbformat_minor": 1
}