{
  "cells": [
    {
      "cell_type": "markdown",
      "source": [ "# Guided Investigation - Anomaly Lookup\n", "\n", "__Notebook Version:__ 1.0<br>\n", "__Python Version:__ Python 3.6 - AzureML<br>\n", "__Required Packages:__ Azure-Sentinel-Utilities<br>\n", "__Platforms Supported:__  Azure Machine Learning Notebooks\n", "     \n", "__Data Source Required:__ Log Analytics tables \n", "    \n", "### Description\n", "Gain insights into the possible root cause of an alert by searching for related anomalies on the corresponding entities around the alert’s time. This notebook will provide valuable leads for an alert’s investigation, listing all suspicious increase in event counts or their properties around the time of the alert, and linking to the corresponding raw records in Log Analytics for the investigator to focus on and interpret.\n", "\n", "<font>You may need to select Python 3.6 - AzureML on Azure Machine Learning Notebooks.</font>\n", "\n", "## Table of Contents\n", "\n", "1. Initialize Azure Resource Management Clients\n", "2. Looking up for anomaly entities" ],
      "metadata": {}
    },
    {
      "cell_type": "markdown",
      "source": [ "## 1. Initialize Azure Resource Management Clients" ],
      "metadata": {}
    },
    {
      "cell_type": "code",
      "source": [ "# only run once\n", "!pip install --upgrade Azure-Sentinel-Utilities" ],
      "outputs": [],
      "execution_count": null,
      "metadata": { "trusted": true }
    },
    {
      "cell_type": "code",
      "source": [ "# Set variables from config.json\n", "from SentinelWidgets import WidgetViewHelper\n", "from SentinelUtils import ConfigReader\n", "tenant_id, subscription_id, resource_group, workspace_id, workspace_name  = ConfigReader.read_config_values('config.json');" ],
      "outputs": [],
      "execution_count": null,
      "metadata": { "trusted": true }
    },
    {
      "cell_type": "code",
      "source": [ "from azure.loganalytics import LogAnalyticsDataClient\n", "from azure.loganalytics.models import QueryBody\n", "from azure.mgmt.loganalytics import LogAnalyticsManagementClient\n", "import SentinelAzure\n", "from SentinelAnomalyLookup import AnomalyFinder, AnomalyLookupViewHelper\n", "\n", "from pandas.io.json import json_normalize\n", "import sys\n", "import timeit\n", "import datetime as dt\n", "import pandas as pd\n", "import copy\n", "from IPython.display import HTML" ],
      "outputs": [],
      "execution_count": null,
      "metadata": { "trusted": true }
    },
    {
      "cell_type": "code",
      "source": [ "# Authentication to Log Analytics\n", "from azure.common.client_factory import get_client_from_cli_profile\n", "from azure.common.credentials import get_azure_cli_credentials\n", "!az login --tenant $tenant_id\n", "la_client = get_client_from_cli_profile(LogAnalyticsManagementClient, subscription_id = subscription_id)\n", "la = SentinelAzure.azure_loganalytics_helper.LogAnalyticsHelper(la_client)\n", "creds, _ = get_azure_cli_credentials(resource=\"https://api.loganalytics.io\")\n", "la_data_client = LogAnalyticsDataClient(creds)" ],
      "outputs": [],
      "execution_count": null,
      "metadata": { "trusted": true }
    },
    {
      "cell_type": "markdown",
      "source": [ "## 2. Looking up for anomaly entities" ],
      "metadata": {}
    },
    {
      "cell_type": "code",
      "source": [ "import ipywidgets as widgets\n", "#DateTime format: 2019-07-15T07:05:20.000\n", "q_timestamp = widgets.Text(value='2020-08-03',description='DateTime: ')\n", "display(q_timestamp)\n", "#Entity format: computer\n", "q_entity = widgets.Text(value='user',description='Entity: ')\n", "display(q_entity)" ],
      "outputs": [],
      "execution_count": null,
      "metadata": { "trusted": true }
    },
    {
      "cell_type": "code",
      "source": [ "anomaly_lookup = AnomalyFinder(workspace_id, la_data_client)\n", "selected_tables = WidgetViewHelper.select_multiple_tables(anomaly_lookup)\n", "display(selected_tables)" ],
      "outputs": [],
      "execution_count": null,
      "metadata": {
        "trusted": true,
        "scrolled": true
      }
    },
    {
      "cell_type": "code",
      "source": [ "# Query data: this action may take a few minutes or more, please be patient.\n", "start = timeit.default_timer()\n", "anomalies, queries = anomaly_lookup.run(q_timestamp.value, q_entity.value, list(selected_tables.value))\n", "\n", "print('======= Task completed ===========')\n", "print('Elapsed time: ', timeit.default_timer() - start, ' seconds')\n", "\n", "if anomalies is not None:\n", "    print(str(len(anomalies)) + ' records found.')\n", "else:\n", "    print('0 records found.')" ],
      "outputs": [],
      "execution_count": null,
      "metadata": { "trusted": true }
    },
    {
      "cell_type": "code",
      "source": [ "# Dispolay query result in DataFrame\r\n", "if anomalies is not None and len(anomalies) > 0:\r\n", "    pd.set_option('display.max_rows', None)\r\n", "    pd.set_option('display.max_columns', None)\r\n", "    pd.set_option('display.width', None)\r\n", "    pd.set_option('display.max_colwidth', None)\r\n", "    sorted_anomalies = anomalies.sort_values(by=['anomalyScore'], ascending=False)\r\n", "    display(sorted_anomalies)" ],
      "outputs": [],
      "execution_count": null,
      "metadata": {
        "jupyter": {
          "source_hidden": false,
          "outputs_hidden": false
        },
        "nteract": { "transient": { "deleting": false } },
        "trusted": true
      }
    },
    {
      "cell_type": "code",
      "source": [ "# Go to Azure Log Analytics for further analysis\r\n", "if queries is not None:\r\n", "    url = WidgetViewHelper.construct_url_for_log_analytics_logs(tenant_id, subscription_id, resource_group, workspace_name)\r\n", "    print('======= Clicking the URL to go to Log Analytics =======')\r\n", "    print(url)\r\n", "\r\n", "    if len(queries) > 2000:\r\n", "        print('======= Copy the queries to go to Log Analytics =======')\r\n", "        print(queries)\r\n", "    else:\r\n", "        WidgetViewHelper.display_html(WidgetViewHelper.copy_to_clipboard(url, queries, 'Add queries to clipboard then paste to Logs'))" ],
      "outputs": [],
      "execution_count": null,
      "metadata": {
        "collapsed": true,
        "jupyter": {
          "source_hidden": false,
          "outputs_hidden": false
        },
        "nteract": { "transient": { "deleting": false } }
      }
    },
    {
      "cell_type": "code",
      "source": [],
      "outputs": [],
      "execution_count": null,
      "metadata": {
        "collapsed": true,
        "jupyter": {
          "source_hidden": false,
          "outputs_hidden": false
        },
        "nteract": { "transient": { "deleting": false } }
      }
    }
  ],
  "metadata": {
    "celltoolbar": "Tags",
    "kernelspec": {
      "name": "python3-azureml",
      "language": "python",
      "display_name": "Python 3.6 - AzureML"
    },
    "language_info": {
      "name": "python",
      "version": "3.6.9",
      "mimetype": "text/x-python",
      "codemirror_mode": {
        "name": "ipython",
        "version": 3
      },
      "pygments_lexer": "ipython3",
      "nbconvert_exporter": "python",
      "file_extension": ".py"
    },
    "kernel_info": { "name": "python3-azureml" },
    "nteract": { "version": "nteract-front-end@1.0.0" }
  },
  "nbformat": 4,
  "nbformat_minor": 1
}