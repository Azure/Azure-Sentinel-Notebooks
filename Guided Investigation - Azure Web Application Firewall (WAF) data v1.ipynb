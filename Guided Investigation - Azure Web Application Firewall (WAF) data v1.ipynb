{
 "cells": [
  {
   "cell_type": "markdown",
   "metadata": {},
   "source": [
    "# Investigate Web Application Firewall (WAF) Data </br>\n",
    "\n",
    "**Author:** Vani Asawa <br/>\n",
    "**Date:** November 2020 </br>\n",
    "**Notebook Version:** 1.0 <br/>\n",
    "**Python Version:** Python 3.6 <br/>\n",
    "**Required Packages:** msticpy, pandas, kqlmagic <br/>\n",
    "**Data Sources Required:** WAF data (AzureDiagnostics) <br/>"
   ]
  },
  {
   "cell_type": "markdown",
   "metadata": {},
   "source": [
    "## Overview\n",
    "\n",
    "**Distribution of WAF logs and alerts over an extended time frame**\n",
    "1. Set an extended time frame to visualise the distribution of the logs/alerts on a bar graph\n",
    "\n",
    "**What is the distribution of WAF alerts over Rule IDs, http-status codes, and client IP entities?**\n",
    "1. Set a time frame (recommended: time period of interest, after analysing the distribution of alerts in the extended time frame)\n",
    "2. Pick a host entity to explore in further detail\n",
    "3. Set x and y axes from the variables above, and view the number of alerts over the designate time frame.\n",
    "\n",
    "**Cluster the request URIs in WAF Alerts, based on TFIDF scores**\n",
    "\n",
    "*Term frequency-inverse document frequency (TFIDF)* score is a numerical statistic of how important a variable is to a document. The value of the statistic is directly proportional to the variable's frequency in the document, and inversely proportional to the number of documents that contain the variable. More information about TFIDF can be found on: https://www.researchgate.net/publication/326425709_Text_Mining_Use_of_TF-IDF_to_Examine_the_Relevance_of_Words_to_Documents\n",
    "\n",
    "In our analysis, the *variable* will be the 'split URIs' and 'rule IDs', while a single *document* is all the blocked alerts for a single client IP in the selected time frame. We will be assessing the relative importance of every single token of the split request URIs and the number of times a ruleID is triggered for our blocked alerts over multiple such 'documents'. We will be using these two sets of scores to cluster the request URIs, and obtain single/grouped sets of interesting (and potentially malicious) request URIs that were blocked by the WAF.\n",
    "\n",
    "1. Compute TFIDF scores based on the following 2 approaches:\n",
    "    - Request URIs split on \"/\" against the client IP entities\n",
    "    - Number of alerts for every Rule ID against the client IP entities\n",
    "2. Visualising the TFIDF scores for both approaches\n",
    "3. Performing DBScan Clustering + PCA to obtain the clustered and outlier request URIs for both approaches\n",
    "4. KQL query to further examine the WAF logs and alerts in the time frames with outlier request URIs**"
   ]
  },
  {
   "cell_type": "markdown",
   "metadata": {},
   "source": [
    "## Using the Notebook\n",
    "\n",
    "**Prerequisites**\n",
    "\n",
    "- msticpy - install the latest using pip install --upgrade msticpy\n",
    "- pandas- install using pip install pandas\n",
    "- kqlmagic\n",
    "\n",
    "**Running the Notebook**\n",
    "\n",
    "The best way of using the notebook is as follows:\n",
    "1. Individually run all of the cells up to the start of Section 1:\n",
    "    - Initialization and installation of libraries\n",
    "    - Authenticating to the workspace\n",
    "    - Setting notebook parameters\n",
    "2. Default paramenters will allow the entire notebook to run using the 'Run Selected Cell and All Below' option under the Run tab. However, for added value, run the cells sequentially in any given section. \n",
    "    - At the beginning of each section, set the time parameters. It is recommended that the first and third section have a larger timeframe than the second and fourth sections.\n",
    "    - Wait for the cell to finish running, before proceeding\n",
    "    - Select the options from the widget boxes when displayed and proceed."
   ]
  },
  {
   "cell_type": "code",
   "execution_count": 1,
   "metadata": {},
   "outputs": [],
   "source": [
    "%%capture\n",
    "!pip install adjustText\n",
    "\n",
    "import sys\n",
    "import os\n",
    "MIN_REQ_PYTHON = (3,6)\n",
    "if sys.version_info < MIN_REQ_PYTHON:\n",
    "    print('Check the Kernel->Change Kernel menu and ensure that Python 3.6')\n",
    "    print('or later is selected as the active kernel.')\n",
    "    sys.exit(\"Python %s.%s or later is required.\\n\" % MIN_REQ_PYTHON)\n",
    "\n",
    "from msticpy.nbtools.wsconfig import WorkspaceConfig\n",
    "from msticpy.data.data_providers import QueryProvider\n",
    "os.environ[\"KQLMAGIC_LOAD_MODE\"]=\"silent\"\n",
    "\n",
    "import pandas as pd\n",
    "from ipywidgets import widgets, interactive\n",
    "from IPython.display import display\n",
    "import plotly.graph_objects as go\n",
    "import plotly.express as px\n",
    "import numpy as np\n",
    "import re\n",
    "from msticpy.data.drivers.kql_driver import KqlDriver\n",
    "from sklearn.feature_extraction.text import TfidfVectorizer\n",
    "\n",
    "import matplotlib.pyplot as plt\n",
    "import seaborn as sns\n",
    "%matplotlib inline\n",
    "\n",
    "from IPython.display import display, Markdown\n",
    "from msticpy.nbtools import *\n",
    "\n",
    "from sklearn.cluster import KMeans\n",
    "from sklearn import metrics\n",
    "from sklearn.cluster import DBSCAN\n",
    "from sklearn.decomposition import PCA\n",
    "from adjustText import adjust_text\n",
    "import itertools\n",
    "import ipaddress\n",
    "\n",
    "pd.set_option('display.max_rows', 100)\n",
    "pd.set_option('display.max_columns', 50)\n",
    "#pd.set_option('display.max_colwidth', 100)\n",
    "pd.set_option('display.max_colwidth', None)\n",
    "\n",
    "layout = widgets.Layout(width=\"50%\", height=\"80px\")\n",
    "style = {\"description_width\": \"200px\"}\n",
    "class color:\n",
    "   BOLD = '\\033[1m'\n",
    "   END = '\\033[0m'"
   ]
  },
  {
   "cell_type": "code",
   "execution_count": 2,
   "metadata": {},
   "outputs": [
    {
     "name": "stdout",
     "output_type": "stream",
     "text": [
      "Please wait. Loading Kqlmagic extension...\n"
     ]
    },
    {
     "data": {
      "application/javascript": [
       "try {IPython.notebook.kernel.reconnect();} catch(err) {;}"
      ],
      "text/plain": [
       "<IPython.core.display.Javascript object>"
      ]
     },
     "metadata": {},
     "output_type": "display_data"
    },
    {
     "data": {
      "application/javascript": [
       "try {IPython.notebook.kernel.execute(\"NOTEBOOK_URL = '\" + window.location + \"'\");} catch(err) {;}"
      ],
      "text/plain": [
       "<IPython.core.display.Javascript object>"
      ]
     },
     "metadata": {},
     "output_type": "display_data"
    },
    {
     "data": {
      "application/javascript": [
       "try {IPython.notebook.kernel.execute(\"NOTEBOOK_URL = '\" + window.location + \"'\");} catch(err) {;}"
      ],
      "text/plain": [
       "<IPython.core.display.Javascript object>"
      ]
     },
     "metadata": {},
     "output_type": "display_data"
    },
    {
     "data": {
      "text/html": [
       "<!DOCTYPE html>\n",
       "                            <html><body>\n",
       "\n",
       "                            <!-- h1 id=\"user_code_p\"><b>D3FJRZWLY</b><br></h1-->\n",
       "\n",
       "                            <input  id=\"kql_MagicCodeAuthInput\" type=\"text\" readonly style=\"font-weight: bold; border: none;\" size = '9' value='D3FJRZWLY'>\n",
       "\n",
       "                            <button id='kql_MagicCodeAuth_button', onclick=\"this.style.visibility='hidden';kql_MagicCodeAuthFunction()\">Copy code to clipboard and authenticate</button>\n",
       "\n",
       "                            <script>\n",
       "                            var kql_MagicUserCodeAuthWindow = null;\n",
       "                            function kql_MagicCodeAuthFunction() {\n",
       "                                /* Get the text field */\n",
       "                                var copyText = document.getElementById(\"kql_MagicCodeAuthInput\");\n",
       "\n",
       "                                /* Select the text field */\n",
       "                                copyText.select();\n",
       "\n",
       "                                /* Copy the text inside the text field */\n",
       "                                document.execCommand(\"copy\");\n",
       "\n",
       "                                /* Alert the copied text */\n",
       "                                // alert(\"Copied the text: \" + copyText.value);\n",
       "\n",
       "                                var w = screen.width / 2;\n",
       "                                var h = screen.height / 2;\n",
       "                                params = 'width='+w+',height='+h\n",
       "                                kql_MagicUserCodeAuthWindow = window.open('https://microsoft.com/devicelogin', 'kql_MagicUserCodeAuthWindow', params);\n",
       "\n",
       "                                // TODO: save selected cell index, so that the clear will be done on the lince cell\n",
       "                            }\n",
       "                            </script>\n",
       "\n",
       "                            </body></html>"
      ],
      "text/plain": [
       "<IPython.core.display.HTML object>"
      ]
     },
     "metadata": {},
     "output_type": "display_data"
    },
    {
     "data": {
      "text/html": [
       "<!DOCTYPE html>\n",
       "                            <html><body><script>\n",
       "\n",
       "                                // close authentication window\n",
       "                                if (kql_MagicUserCodeAuthWindow && kql_MagicUserCodeAuthWindow.opener != null && !kql_MagicUserCodeAuthWindow.closed) {\n",
       "                                    kql_MagicUserCodeAuthWindow.close()\n",
       "                                }\n",
       "                                // TODO: make sure, you clear the right cell. BTW, not sure it is a must to do any clearing\n",
       "\n",
       "                                // clear output cell\n",
       "                                Jupyter.notebook.clear_output(Jupyter.notebook.get_selected_index())\n",
       "\n",
       "                                // TODO: if in run all mode, move to last cell, otherwise move to next cell\n",
       "                                // move to next cell\n",
       "\n",
       "                            </script></body></html>"
      ],
      "text/plain": [
       "<IPython.core.display.HTML object>"
      ]
     },
     "metadata": {},
     "output_type": "display_data"
    },
    {
     "data": {
      "text/html": [
       "<!DOCTYPE html>\n",
       "            <html><body>\n",
       "            <div style=''>\n",
       "            \n",
       "            <button onclick=\"this.style.visibility='visible';\n",
       "            kql_MagicLaunchWindowFunction('kqlmagic/temp_files/a2a8be50-7ed1-4bf6-a37b-0bc52eff2b4e/_8ecf8077-cf51-4820-aadd-14040956f35d_at_loganalytics_schema.html', 'fullscreen=no,directories=no,location=no,menubar=no,resizable=yes,scrollbars=yes,status=no,titlebar=no,toolbar=no,', '_8ecf8077_cf51_4820_aadd_14040956f35d_at_loganalytics_schema', '');\n",
       "            kql_MagicCloseWindow(kql_Magic__8ecf8077_cf51_4820_aadd_14040956f35d_at_loganalytics_schema, -1, -1);\">\n",
       "            popup schema 8ecf8077-cf51-4820-aadd-14040956f35d@loganalytics</button>\n",
       "            </div>\n",
       "\n",
       "            <script>\n",
       "            var kql_Magic__8ecf8077_cf51_4820_aadd_14040956f35d_at_loganalytics_schema = null;\n",
       "\n",
       "\n",
       "            function kql_MagicCloseWindow(window_obj, obj_secs, itself_secs) {\n",
       "                if (obj_secs >= 0) {\n",
       "                    _timeout = setTimeout(function(){\n",
       "                        window_obj.close();\n",
       "                        if (itself_secs >= 0) {\n",
       "                            __timeout = setTimeout(function(){window.close();}, itself_secs * 1000);\n",
       "                        }\n",
       "                    }, obj_secs * 1000);\n",
       "                } else if (itself_secs >= 0) {\n",
       "                    _timeout = setTimeout(function(){window.close();}, itself_secs * 1000);\n",
       "                }\n",
       "            }\n",
       "\n",
       "            function kql_MagicLaunchWindowFunction(file_path, window_params, window_name, host_or_text) {\n",
       "                var url;\n",
       "                if (host_or_text == 'text') {\n",
       "                    url = ''\n",
       "                } else if (file_path.startsWith('http')) {\n",
       "                    url = file_path;\n",
       "                } else {\n",
       "                    var base_url = '';\n",
       "\n",
       "                    // check if azure notebook\n",
       "                    var azure_host = (host_or_text == null || host_or_text.length == 0) ? 'https://notebooks.azure.com' : host_or_text;\n",
       "                    var start = azure_host.search('//');\n",
       "                    var azure_host_suffix = '.' + azure_host.substring(start+2);\n",
       "\n",
       "                    var loc = String(window.location);\n",
       "                    var end = loc.search(azure_host_suffix);\n",
       "                    start = loc.search('//');\n",
       "                    if (start > 0 && end > 0) {\n",
       "                        var parts = loc.substring(start+2, end).split('-');\n",
       "                        if (parts.length == 2) {\n",
       "                            var library = parts[0];\n",
       "                            var user = parts[1];\n",
       "                            base_url = azure_host + '/api/user/' +user+ '/library/' +library+ '/html/';\n",
       "                        }\n",
       "                    }\n",
       "\n",
       "                    // check if local jupyter lab\n",
       "                    if (base_url.length == 0) {\n",
       "                        var configDataScipt  = document.getElementById('jupyter-config-data');\n",
       "                        if (configDataScipt != null) {\n",
       "                            var jupyterConfigData = JSON.parse(configDataScipt.textContent);\n",
       "                            if (jupyterConfigData['appName'] == 'JupyterLab' && jupyterConfigData['serverRoot'] != null &&  jupyterConfigData['treeUrl'] != null) {\n",
       "                                var basePath = 'C:/Users/vaasawa/Desktop/WAF Notebooks' + '/';\n",
       "                                if (basePath.startsWith(jupyterConfigData['serverRoot'])) {\n",
       "                                    base_url = '/files/' + basePath.substring(jupyterConfigData['serverRoot'].length+1);\n",
       "                                }\n",
       "                            }\n",
       "                        }\n",
       "                    }\n",
       "\n",
       "                    // assume local jupyter notebook\n",
       "                    if (base_url.length == 0) {\n",
       "\n",
       "                        var parts = loc.split('/');\n",
       "                        parts.pop();\n",
       "                        base_url = parts.join('/') + '/';\n",
       "                    }\n",
       "                    url = base_url + file_path;\n",
       "                }\n",
       "\n",
       "                window.focus();\n",
       "                var w = screen.width / 2;\n",
       "                var h = screen.height / 2;\n",
       "                params = 'width='+w+',height='+h;\n",
       "                // kql_Magic + window_name should be a global variable \n",
       "                window_obj = window.open(url, window_name, window_params + params);\n",
       "                if (url == '') {\n",
       "                    var el = window_obj.document.createElement('p');\n",
       "                    window_obj.document.body.overflow = 'auto';\n",
       "                    el.style.top = 0;\n",
       "                    el.style.left = 0;\n",
       "                    el.innerHTML = file_path;\n",
       "                    window_obj.document.body.appendChild(el);\n",
       "                }\n",
       "                kql_Magic__8ecf8077_cf51_4820_aadd_14040956f35d_at_loganalytics_schema = window_obj;\n",
       "            }\n",
       "            </script>\n",
       "\n",
       "            </body></html>"
      ],
      "text/plain": [
       "<IPython.core.display.HTML object>"
      ]
     },
     "metadata": {},
     "output_type": "display_data"
    },
    {
     "data": {
      "application/javascript": [
       "try {IPython.notebook.kernel.execute(\"NOTEBOOK_URL = '\" + window.location + \"'\");} catch(err) {;}"
      ],
      "text/plain": [
       "<IPython.core.display.Javascript object>"
      ]
     },
     "metadata": {},
     "output_type": "display_data"
    }
   ],
   "source": [
    "#KQL driver\n",
    "\n",
    "#%env KQLMAGIC_LOAD_MODE=silent\n",
    "\n",
    "tenant_id = '72f988bf-86f1-41af-91ab-2d7cd011db47'\n",
    "workspace_id = '8ecf8077-cf51-4820-aadd-14040956f35d'\n",
    "la_connection_string = 'loganalytics://code().tenant(\"' + tenant_id + '\").workspace(\"' + workspace_id + '\")'\n",
    "\n",
    "qry_prov = QueryProvider(\"LogAnalytics\")\n",
    "qry_prov.connect(la_connection_string)"
   ]
  },
  {
   "cell_type": "markdown",
   "metadata": {},
   "source": [
    "**Querying Function** : Accessing the results of the Kusto query as a pandas dataframe, and removing empty/null columns from the dataframe"
   ]
  },
  {
   "cell_type": "code",
   "execution_count": 3,
   "metadata": {},
   "outputs": [],
   "source": [
    "def showQuery(query):\n",
    "    '''\n",
    "    str -> pandas.DataFrame\n",
    "    \n",
    "    Use KQL to query the necessary Access Logs/Firewall Logs database and return the pandas.Dataframe results\n",
    "    '''\n",
    "    #%kql -query query\n",
    "    #df = _kql_raw_result_.to_dataframe()\n",
    "    df = qry_prov.exec_query(query)\n",
    "    trimDF(df)\n",
    "    return df\n",
    "\n",
    "def trimDF(df):\n",
    "    ''' \n",
    "    pandas.DataFrame -> pandas.DataFrame\n",
    "    \n",
    "    Eliminate all columns of the pandas.Dataframe with null OR empty string '' values for all entries of the column\n",
    "    '''\n",
    "    # Store names of columns with null values for all entries\n",
    "    empty_null_cols = [col for col in df.columns if df[col].isnull().all()]\n",
    "    \n",
    "    # Store names of columns with empty string '' values for all entries\n",
    "    empty_str_cols = []\n",
    "    for col in df.columns:\n",
    "        try:\n",
    "            if ''.join(df[col].map(str)) == '':\n",
    "                empty_str_cols = empty_str_cols + [col]\n",
    "        except:\n",
    "            continue\n",
    "            \n",
    "    df.drop(empty_null_cols + empty_str_cols, axis=1, inplace=True)\n",
    "\n",
    "binIntervals = ['1m', '5m', '10m', '15m', '30m', '1h', '12h', '1d', '5d', '10d']"
   ]
  },
  {
   "cell_type": "markdown",
   "metadata": {},
   "source": [
    "**Selecting a Host**"
   ]
  },
  {
   "cell_type": "code",
   "execution_count": 4,
   "metadata": {},
   "outputs": [],
   "source": [
    "def queryHost(startTime, endTime):\n",
    "    query = '''\n",
    "    AzureDiagnostics\n",
    "    | where TimeGenerated between (datetime({startTime}).. datetime({endTime}))\n",
    "    | where Category == \"ApplicationGatewayFirewallLog\"\n",
    "    | where action_s == 'Blocked'\n",
    "    | summarize AlertCountPerHost = count() by hostname_s, bin(timeStamp_t, {binInterval})\n",
    "    | render timechart\n",
    "    '''.format(startTime = startTime, endTime = endTime, binInterval = '1h')\n",
    "    return(query)"
   ]
  },
  {
   "cell_type": "markdown",
   "metadata": {},
   "source": [
    "**Auto determine masking bits for clubbing IPs**"
   ]
  },
  {
   "cell_type": "code",
   "execution_count": 5,
   "metadata": {},
   "outputs": [],
   "source": [
    "def maskBitsVal(uniqueIPLen):\n",
    "    if uniqueIPLen > 150:\n",
    "        return '/8'\n",
    "    elif uniqueIPLen > 40:\n",
    "        return '/16'\n",
    "    elif uniqueIPLen > 15:\n",
    "        return '/24'\n",
    "    return '/32'"
   ]
  },
  {
   "cell_type": "markdown",
   "metadata": {},
   "source": [
    "## Section I: Distribution of WAF logs and blocked alerts over an extended time frame\n",
    "\n",
    "Select an extended time frame to view the distribution of WAF logs and blocked alerts over all hosts."
   ]
  },
  {
   "cell_type": "code",
   "execution_count": 6,
   "metadata": {},
   "outputs": [
    {
     "data": {
      "application/vnd.jupyter.widget-view+json": {
       "model_id": "fefb3ae3a0934f6ca6b0f367a55c0243",
       "version_major": 2,
       "version_minor": 0
      },
      "text/plain": [
       "HTML(value='<h4>Set query time boundaries</h4>')"
      ]
     },
     "metadata": {},
     "output_type": "display_data"
    },
    {
     "data": {
      "application/vnd.jupyter.widget-view+json": {
       "model_id": "c34a734c94d84a2c97ed1d5257757688",
       "version_major": 2,
       "version_minor": 0
      },
      "text/plain": [
       "HBox(children=(DatePicker(value=datetime.date(2020, 11, 30), description='Origin Date'), Text(value='15:03:26.…"
      ]
     },
     "metadata": {},
     "output_type": "display_data"
    },
    {
     "data": {
      "application/vnd.jupyter.widget-view+json": {
       "model_id": "572d6c984a1c45618f4fa4a3f107ca95",
       "version_major": 2,
       "version_minor": 0
      },
      "text/plain": [
       "VBox(children=(IntRangeSlider(value=(-15, 1), description='Time Range (day):', layout=Layout(width='80%'), max…"
      ]
     },
     "metadata": {},
     "output_type": "display_data"
    }
   ],
   "source": [
    "query_times_1 = nbwidgets.QueryTime(units='day', max_before=30, before=-15, max_after=-1)\n",
    "query_times_1.display()"
   ]
  },
  {
   "cell_type": "code",
   "execution_count": 7,
   "metadata": {},
   "outputs": [
    {
     "data": {
      "application/vnd.jupyter.widget-view+json": {
       "model_id": "60f2d901b8f5436cad8d5d620542a984",
       "version_major": 2,
       "version_minor": 0
      },
      "text/plain": [
       "interactive(children=(Select(description='Choose logs/alerts: ', layout=Layout(height='80px', width='50%'), op…"
      ]
     },
     "metadata": {},
     "output_type": "display_data"
    }
   ],
   "source": [
    "categories = ['ApplicationGatewayAccessLog', 'ApplicationGatewayFirewallLog']\n",
    "\n",
    "def viewLogs(category):\n",
    "    log_alert_query = '''\n",
    "    AzureDiagnostics\n",
    "    | where TimeGenerated between (datetime({startTime}).. datetime({endTime}))\n",
    "    | where Category == \"{category}\"\n",
    "    | where action_s == 'Blocked' or isempty(action_s)\n",
    "    | where ruleId_s != '920300'\n",
    "    | summarize NoOfAlerts= count() by bin(timeStamp_t, {binInterval})\n",
    "    | render timechart '''.format(startTime = query_times_1.start, endTime = query_times_1.end, category = category, binInterval = '1h')\n",
    "\n",
    "    %kql -query log_alert_query\n",
    "    \n",
    "    rawDataQuery = \"\"\"\n",
    "    AzureDiagnostics\n",
    "    | where TimeGenerated between (datetime({startTime}).. datetime({endTime}))\n",
    "    | where Category == '{category}'\n",
    "    | where action_s == 'Blocked' or isempty(action_s)\n",
    "    | take 15\n",
    "    \"\"\".format(startTime = query_times_1.start, endTime = query_times_1.end, category = category)\n",
    "\n",
    "    display(showQuery(rawDataQuery).head(5))\n",
    "    \n",
    "w = interactive(viewLogs, category = widgets.Select(options = categories, style = style, layout = layout, description = 'Choose logs/alerts: '))\n",
    "display(w)"
   ]
  },
  {
   "cell_type": "markdown",
   "metadata": {},
   "source": [
    "## Section II: What is the distribution of WAF alerts over Rule IDs, http-status codes, and client IP Entities?\n",
    "\n",
    "Select a time frame of interest to view the distribution of WAF blocked alerts over all hosts."
   ]
  },
  {
   "cell_type": "code",
   "execution_count": 8,
   "metadata": {},
   "outputs": [
    {
     "data": {
      "application/vnd.jupyter.widget-view+json": {
       "model_id": "d3a664e5b46f49659c69ade00566eb73",
       "version_major": 2,
       "version_minor": 0
      },
      "text/plain": [
       "HTML(value='<h4>Set query time boundaries</h4>')"
      ]
     },
     "metadata": {},
     "output_type": "display_data"
    },
    {
     "data": {
      "application/vnd.jupyter.widget-view+json": {
       "model_id": "a27c006beb20450686a21c45136aa334",
       "version_major": 2,
       "version_minor": 0
      },
      "text/plain": [
       "HBox(children=(DatePicker(value=datetime.date(2020, 11, 30), description='Origin Date'), Text(value='15:03:29.…"
      ]
     },
     "metadata": {},
     "output_type": "display_data"
    },
    {
     "data": {
      "application/vnd.jupyter.widget-view+json": {
       "model_id": "450311ec10684c07891bba2b20402a66",
       "version_major": 2,
       "version_minor": 0
      },
      "text/plain": [
       "VBox(children=(IntRangeSlider(value=(-10, 1), description='Time Range (day):', layout=Layout(width='80%'), max…"
      ]
     },
     "metadata": {},
     "output_type": "display_data"
    }
   ],
   "source": [
    "query_times_2 = nbwidgets.QueryTime(units='day', max_before=30, before=-10, max_after=-1)\n",
    "query_times_2.display()"
   ]
  },
  {
   "cell_type": "markdown",
   "metadata": {},
   "source": [
    "### Select a host entity\n",
    "\n",
    "The following host entity will be used for the remainder of this section"
   ]
  },
  {
   "cell_type": "code",
   "execution_count": 9,
   "metadata": {},
   "outputs": [
    {
     "data": {
      "application/javascript": [
       "try {IPython.notebook.kernel.execute(\"NOTEBOOK_URL = '\" + window.location + \"'\");} catch(err) {;}"
      ],
      "text/plain": [
       "<IPython.core.display.Javascript object>"
      ]
     },
     "metadata": {},
     "output_type": "display_data"
    },
    {
     "data": {
      "text/html": [
       "<html>\n",
       "        <head>\n",
       "            \n",
       "            \n",
       "        </head>\n",
       "        <body>\n",
       "            <div><p style='padding: 10px; color: #3a87ad; background-color: #d9edf7; border-color: #bce9f1'>&nbsp;*&nbsp;8ecf8077-cf51-4820-aadd-14040956f35d@loganalytics</p></div>\n",
       "        </body>\n",
       "        </html>"
      ],
      "text/plain": [
       "<IPython.core.display.HTML object>"
      ]
     },
     "metadata": {},
     "output_type": "display_data"
    },
    {
     "data": {
      "application/vnd.plotly.v1+json": {
       "config": {
        "plotlyServerURL": "https://plot.ly"
       },
       "data": [
        {
         "line": {
          "color": "rgb(31, 118, 179)",
          "width": 1
         },
         "name": "<undefined>:AlertCountPerHost",
         "opacity": 0.8,
         "type": "scatter",
         "x": [
          "2020-11-20T17:00:00+00:00",
          "2020-11-20T20:00:00+00:00",
          "2020-11-20T21:00:00+00:00",
          "2020-11-21T01:00:00+00:00",
          "2020-11-21T02:00:00+00:00",
          "2020-11-21T04:00:00+00:00",
          "2020-11-21T06:00:00+00:00",
          "2020-11-21T10:00:00+00:00",
          "2020-11-21T11:00:00+00:00",
          "2020-11-21T12:00:00+00:00",
          "2020-11-21T14:00:00+00:00",
          "2020-11-21T15:00:00+00:00",
          "2020-11-21T19:00:00+00:00",
          "2020-11-21T21:00:00+00:00",
          "2020-11-22T01:00:00+00:00",
          "2020-11-22T05:00:00+00:00",
          "2020-11-22T11:00:00+00:00",
          "2020-11-22T12:00:00+00:00",
          "2020-11-22T13:00:00+00:00",
          "2020-11-22T18:00:00+00:00",
          "2020-11-22T21:00:00+00:00",
          "2020-11-23T05:00:00+00:00",
          "2020-11-23T06:00:00+00:00",
          "2020-11-23T08:00:00+00:00",
          "2020-11-23T11:00:00+00:00",
          "2020-11-23T12:00:00+00:00",
          "2020-11-23T13:00:00+00:00",
          "2020-11-23T15:00:00+00:00",
          "2020-11-23T16:00:00+00:00",
          "2020-11-23T17:00:00+00:00",
          "2020-11-23T21:00:00+00:00",
          "2020-11-24T02:00:00+00:00",
          "2020-11-24T10:00:00+00:00",
          "2020-11-24T11:00:00+00:00",
          "2020-11-24T14:00:00+00:00",
          "2020-11-24T16:00:00+00:00",
          "2020-11-24T18:00:00+00:00",
          "2020-11-24T20:00:00+00:00",
          "2020-11-24T21:00:00+00:00",
          "2020-11-24T22:00:00+00:00",
          "2020-11-24T23:00:00+00:00",
          "2020-11-25T02:00:00+00:00",
          "2020-11-25T03:00:00+00:00",
          "2020-11-25T04:00:00+00:00",
          "2020-11-25T05:00:00+00:00",
          "2020-11-25T08:00:00+00:00",
          "2020-11-25T11:00:00+00:00",
          "2020-11-25T13:00:00+00:00",
          "2020-11-25T14:00:00+00:00",
          "2020-11-25T15:00:00+00:00",
          "2020-11-25T16:00:00+00:00",
          "2020-11-25T17:00:00+00:00",
          "2020-11-25T22:00:00+00:00",
          "2020-11-26T09:00:00+00:00",
          "2020-11-26T10:00:00+00:00",
          "2020-11-26T11:00:00+00:00",
          "2020-11-26T13:00:00+00:00",
          "2020-11-26T14:00:00+00:00",
          "2020-11-26T16:00:00+00:00",
          "2020-11-26T18:00:00+00:00",
          "2020-11-26T20:00:00+00:00",
          "2020-11-26T21:00:00+00:00",
          "2020-11-26T22:00:00+00:00",
          "2020-11-27T00:00:00+00:00",
          "2020-11-27T04:00:00+00:00",
          "2020-11-27T07:00:00+00:00",
          "2020-11-27T08:00:00+00:00",
          "2020-11-27T10:00:00+00:00",
          "2020-11-27T11:00:00+00:00",
          "2020-11-27T13:00:00+00:00",
          "2020-11-27T20:00:00+00:00",
          "2020-11-27T21:00:00+00:00",
          "2020-11-27T22:00:00+00:00",
          "2020-11-28T03:00:00+00:00",
          "2020-11-28T04:00:00+00:00",
          "2020-11-28T05:00:00+00:00",
          "2020-11-28T09:00:00+00:00",
          "2020-11-28T10:00:00+00:00",
          "2020-11-28T11:00:00+00:00",
          "2020-11-28T12:00:00+00:00",
          "2020-11-28T15:00:00+00:00",
          "2020-11-28T17:00:00+00:00",
          "2020-11-28T19:00:00+00:00",
          "2020-11-28T20:00:00+00:00",
          "2020-11-28T21:00:00+00:00",
          "2020-11-29T00:00:00+00:00",
          "2020-11-29T02:00:00+00:00",
          "2020-11-29T03:00:00+00:00",
          "2020-11-29T07:00:00+00:00",
          "2020-11-29T08:00:00+00:00",
          "2020-11-29T09:00:00+00:00",
          "2020-11-29T11:00:00+00:00",
          "2020-11-29T13:00:00+00:00",
          "2020-11-29T14:00:00+00:00",
          "2020-11-29T20:00:00+00:00",
          "2020-11-30T00:00:00+00:00",
          "2020-11-30T02:00:00+00:00",
          "2020-11-30T04:00:00+00:00",
          "2020-11-30T05:00:00+00:00",
          "2020-11-30T10:00:00+00:00",
          "2020-11-30T11:00:00+00:00",
          "2020-11-30T12:00:00+00:00",
          "2020-11-30T13:00:00+00:00",
          "2020-11-30T14:00:00+00:00"
         ],
         "y": [
          2,
          null,
          null,
          null,
          null,
          2,
          null,
          null,
          2,
          2,
          null,
          null,
          null,
          null,
          null,
          null,
          2,
          2,
          null,
          null,
          null,
          null,
          2,
          null,
          2,
          null,
          null,
          null,
          2,
          null,
          null,
          null,
          null,
          2,
          2,
          null,
          null,
          2,
          null,
          null,
          null,
          null,
          null,
          null,
          null,
          null,
          2,
          null,
          null,
          2,
          null,
          null,
          null,
          null,
          null,
          2,
          null,
          2,
          null,
          null,
          null,
          null,
          null,
          2,
          2,
          null,
          null,
          null,
          2,
          null,
          null,
          null,
          2,
          null,
          null,
          null,
          null,
          null,
          2,
          null,
          null,
          2,
          null,
          null,
          null,
          null,
          null,
          null,
          null,
          null,
          null,
          2,
          null,
          null,
          null,
          null,
          null,
          null,
          2,
          null,
          2,
          null,
          null,
          null
         ]
        },
        {
         "line": {
          "color": "rgb(254, 127, 14)",
          "width": 1
         },
         "name": "13.89.108.163:80:AlertCountPerHost",
         "opacity": 0.8,
         "type": "scatter",
         "x": [
          "2020-11-20T17:00:00+00:00",
          "2020-11-20T20:00:00+00:00",
          "2020-11-20T21:00:00+00:00",
          "2020-11-21T01:00:00+00:00",
          "2020-11-21T02:00:00+00:00",
          "2020-11-21T04:00:00+00:00",
          "2020-11-21T06:00:00+00:00",
          "2020-11-21T10:00:00+00:00",
          "2020-11-21T11:00:00+00:00",
          "2020-11-21T12:00:00+00:00",
          "2020-11-21T14:00:00+00:00",
          "2020-11-21T15:00:00+00:00",
          "2020-11-21T19:00:00+00:00",
          "2020-11-21T21:00:00+00:00",
          "2020-11-22T01:00:00+00:00",
          "2020-11-22T05:00:00+00:00",
          "2020-11-22T11:00:00+00:00",
          "2020-11-22T12:00:00+00:00",
          "2020-11-22T13:00:00+00:00",
          "2020-11-22T18:00:00+00:00",
          "2020-11-22T21:00:00+00:00",
          "2020-11-23T05:00:00+00:00",
          "2020-11-23T06:00:00+00:00",
          "2020-11-23T08:00:00+00:00",
          "2020-11-23T11:00:00+00:00",
          "2020-11-23T12:00:00+00:00",
          "2020-11-23T13:00:00+00:00",
          "2020-11-23T15:00:00+00:00",
          "2020-11-23T16:00:00+00:00",
          "2020-11-23T17:00:00+00:00",
          "2020-11-23T21:00:00+00:00",
          "2020-11-24T02:00:00+00:00",
          "2020-11-24T10:00:00+00:00",
          "2020-11-24T11:00:00+00:00",
          "2020-11-24T14:00:00+00:00",
          "2020-11-24T16:00:00+00:00",
          "2020-11-24T18:00:00+00:00",
          "2020-11-24T20:00:00+00:00",
          "2020-11-24T21:00:00+00:00",
          "2020-11-24T22:00:00+00:00",
          "2020-11-24T23:00:00+00:00",
          "2020-11-25T02:00:00+00:00",
          "2020-11-25T03:00:00+00:00",
          "2020-11-25T04:00:00+00:00",
          "2020-11-25T05:00:00+00:00",
          "2020-11-25T08:00:00+00:00",
          "2020-11-25T11:00:00+00:00",
          "2020-11-25T13:00:00+00:00",
          "2020-11-25T14:00:00+00:00",
          "2020-11-25T15:00:00+00:00",
          "2020-11-25T16:00:00+00:00",
          "2020-11-25T17:00:00+00:00",
          "2020-11-25T22:00:00+00:00",
          "2020-11-26T09:00:00+00:00",
          "2020-11-26T10:00:00+00:00",
          "2020-11-26T11:00:00+00:00",
          "2020-11-26T13:00:00+00:00",
          "2020-11-26T14:00:00+00:00",
          "2020-11-26T16:00:00+00:00",
          "2020-11-26T18:00:00+00:00",
          "2020-11-26T20:00:00+00:00",
          "2020-11-26T21:00:00+00:00",
          "2020-11-26T22:00:00+00:00",
          "2020-11-27T00:00:00+00:00",
          "2020-11-27T04:00:00+00:00",
          "2020-11-27T07:00:00+00:00",
          "2020-11-27T08:00:00+00:00",
          "2020-11-27T10:00:00+00:00",
          "2020-11-27T11:00:00+00:00",
          "2020-11-27T13:00:00+00:00",
          "2020-11-27T20:00:00+00:00",
          "2020-11-27T21:00:00+00:00",
          "2020-11-27T22:00:00+00:00",
          "2020-11-28T03:00:00+00:00",
          "2020-11-28T04:00:00+00:00",
          "2020-11-28T05:00:00+00:00",
          "2020-11-28T09:00:00+00:00",
          "2020-11-28T10:00:00+00:00",
          "2020-11-28T11:00:00+00:00",
          "2020-11-28T12:00:00+00:00",
          "2020-11-28T15:00:00+00:00",
          "2020-11-28T17:00:00+00:00",
          "2020-11-28T19:00:00+00:00",
          "2020-11-28T20:00:00+00:00",
          "2020-11-28T21:00:00+00:00",
          "2020-11-29T00:00:00+00:00",
          "2020-11-29T02:00:00+00:00",
          "2020-11-29T03:00:00+00:00",
          "2020-11-29T07:00:00+00:00",
          "2020-11-29T08:00:00+00:00",
          "2020-11-29T09:00:00+00:00",
          "2020-11-29T11:00:00+00:00",
          "2020-11-29T13:00:00+00:00",
          "2020-11-29T14:00:00+00:00",
          "2020-11-29T20:00:00+00:00",
          "2020-11-30T00:00:00+00:00",
          "2020-11-30T02:00:00+00:00",
          "2020-11-30T04:00:00+00:00",
          "2020-11-30T05:00:00+00:00",
          "2020-11-30T10:00:00+00:00",
          "2020-11-30T11:00:00+00:00",
          "2020-11-30T12:00:00+00:00",
          "2020-11-30T13:00:00+00:00",
          "2020-11-30T14:00:00+00:00"
         ],
         "y": [
          null,
          8,
          null,
          1,
          null,
          null,
          null,
          8,
          null,
          null,
          null,
          null,
          null,
          null,
          8,
          null,
          null,
          null,
          null,
          8,
          null,
          null,
          null,
          8,
          null,
          1,
          null,
          null,
          null,
          null,
          9,
          1,
          null,
          null,
          8,
          null,
          1,
          null,
          null,
          null,
          null,
          8,
          null,
          null,
          null,
          null,
          null,
          null,
          null,
          null,
          null,
          8,
          2,
          1,
          8,
          null,
          null,
          3,
          null,
          1,
          null,
          null,
          2,
          8,
          null,
          null,
          null,
          2,
          null,
          8,
          null,
          null,
          null,
          8,
          null,
          null,
          null,
          null,
          null,
          1,
          null,
          null,
          null,
          8,
          1,
          null,
          null,
          1,
          null,
          8,
          null,
          null,
          null,
          null,
          null,
          8,
          1,
          1,
          null,
          null,
          null,
          null,
          8,
          null
         ]
        },
        {
         "line": {
          "color": "rgb(44, 160, 44)",
          "width": 1
         },
         "name": "13.89.108.163:AlertCountPerHost",
         "opacity": 0.8,
         "type": "scatter",
         "x": [
          "2020-11-20T17:00:00+00:00",
          "2020-11-20T20:00:00+00:00",
          "2020-11-20T21:00:00+00:00",
          "2020-11-21T01:00:00+00:00",
          "2020-11-21T02:00:00+00:00",
          "2020-11-21T04:00:00+00:00",
          "2020-11-21T06:00:00+00:00",
          "2020-11-21T10:00:00+00:00",
          "2020-11-21T11:00:00+00:00",
          "2020-11-21T12:00:00+00:00",
          "2020-11-21T14:00:00+00:00",
          "2020-11-21T15:00:00+00:00",
          "2020-11-21T19:00:00+00:00",
          "2020-11-21T21:00:00+00:00",
          "2020-11-22T01:00:00+00:00",
          "2020-11-22T05:00:00+00:00",
          "2020-11-22T11:00:00+00:00",
          "2020-11-22T12:00:00+00:00",
          "2020-11-22T13:00:00+00:00",
          "2020-11-22T18:00:00+00:00",
          "2020-11-22T21:00:00+00:00",
          "2020-11-23T05:00:00+00:00",
          "2020-11-23T06:00:00+00:00",
          "2020-11-23T08:00:00+00:00",
          "2020-11-23T11:00:00+00:00",
          "2020-11-23T12:00:00+00:00",
          "2020-11-23T13:00:00+00:00",
          "2020-11-23T15:00:00+00:00",
          "2020-11-23T16:00:00+00:00",
          "2020-11-23T17:00:00+00:00",
          "2020-11-23T21:00:00+00:00",
          "2020-11-24T02:00:00+00:00",
          "2020-11-24T10:00:00+00:00",
          "2020-11-24T11:00:00+00:00",
          "2020-11-24T14:00:00+00:00",
          "2020-11-24T16:00:00+00:00",
          "2020-11-24T18:00:00+00:00",
          "2020-11-24T20:00:00+00:00",
          "2020-11-24T21:00:00+00:00",
          "2020-11-24T22:00:00+00:00",
          "2020-11-24T23:00:00+00:00",
          "2020-11-25T02:00:00+00:00",
          "2020-11-25T03:00:00+00:00",
          "2020-11-25T04:00:00+00:00",
          "2020-11-25T05:00:00+00:00",
          "2020-11-25T08:00:00+00:00",
          "2020-11-25T11:00:00+00:00",
          "2020-11-25T13:00:00+00:00",
          "2020-11-25T14:00:00+00:00",
          "2020-11-25T15:00:00+00:00",
          "2020-11-25T16:00:00+00:00",
          "2020-11-25T17:00:00+00:00",
          "2020-11-25T22:00:00+00:00",
          "2020-11-26T09:00:00+00:00",
          "2020-11-26T10:00:00+00:00",
          "2020-11-26T11:00:00+00:00",
          "2020-11-26T13:00:00+00:00",
          "2020-11-26T14:00:00+00:00",
          "2020-11-26T16:00:00+00:00",
          "2020-11-26T18:00:00+00:00",
          "2020-11-26T20:00:00+00:00",
          "2020-11-26T21:00:00+00:00",
          "2020-11-26T22:00:00+00:00",
          "2020-11-27T00:00:00+00:00",
          "2020-11-27T04:00:00+00:00",
          "2020-11-27T07:00:00+00:00",
          "2020-11-27T08:00:00+00:00",
          "2020-11-27T10:00:00+00:00",
          "2020-11-27T11:00:00+00:00",
          "2020-11-27T13:00:00+00:00",
          "2020-11-27T20:00:00+00:00",
          "2020-11-27T21:00:00+00:00",
          "2020-11-27T22:00:00+00:00",
          "2020-11-28T03:00:00+00:00",
          "2020-11-28T04:00:00+00:00",
          "2020-11-28T05:00:00+00:00",
          "2020-11-28T09:00:00+00:00",
          "2020-11-28T10:00:00+00:00",
          "2020-11-28T11:00:00+00:00",
          "2020-11-28T12:00:00+00:00",
          "2020-11-28T15:00:00+00:00",
          "2020-11-28T17:00:00+00:00",
          "2020-11-28T19:00:00+00:00",
          "2020-11-28T20:00:00+00:00",
          "2020-11-28T21:00:00+00:00",
          "2020-11-29T00:00:00+00:00",
          "2020-11-29T02:00:00+00:00",
          "2020-11-29T03:00:00+00:00",
          "2020-11-29T07:00:00+00:00",
          "2020-11-29T08:00:00+00:00",
          "2020-11-29T09:00:00+00:00",
          "2020-11-29T11:00:00+00:00",
          "2020-11-29T13:00:00+00:00",
          "2020-11-29T14:00:00+00:00",
          "2020-11-29T20:00:00+00:00",
          "2020-11-30T00:00:00+00:00",
          "2020-11-30T02:00:00+00:00",
          "2020-11-30T04:00:00+00:00",
          "2020-11-30T05:00:00+00:00",
          "2020-11-30T10:00:00+00:00",
          "2020-11-30T11:00:00+00:00",
          "2020-11-30T12:00:00+00:00",
          "2020-11-30T13:00:00+00:00",
          "2020-11-30T14:00:00+00:00"
         ],
         "y": [
          null,
          null,
          2,
          8,
          null,
          null,
          2,
          null,
          null,
          null,
          2,
          1,
          null,
          6,
          null,
          2,
          null,
          4,
          1,
          null,
          2,
          2,
          null,
          2,
          null,
          9,
          12,
          1,
          null,
          2,
          10,
          null,
          2,
          null,
          2,
          1,
          null,
          2,
          2,
          2,
          2,
          null,
          6,
          null,
          2,
          3,
          null,
          2,
          2,
          null,
          null,
          null,
          null,
          2,
          null,
          null,
          4,
          null,
          2,
          3,
          2,
          1,
          1,
          null,
          null,
          null,
          2,
          null,
          null,
          null,
          null,
          null,
          null,
          null,
          4,
          2,
          2,
          2,
          null,
          null,
          2,
          null,
          null,
          null,
          947,
          null,
          null,
          null,
          null,
          4,
          2,
          null,
          8,
          2,
          null,
          null,
          8,
          8,
          null,
          2,
          4,
          264,
          998,
          2
         ]
        },
        {
         "line": {
          "color": "rgb(214, 39, 39)",
          "width": 1
         },
         "name": "123.125.114.144:AlertCountPerHost",
         "opacity": 0.8,
         "type": "scatter",
         "x": [
          "2020-11-20T17:00:00+00:00",
          "2020-11-20T20:00:00+00:00",
          "2020-11-20T21:00:00+00:00",
          "2020-11-21T01:00:00+00:00",
          "2020-11-21T02:00:00+00:00",
          "2020-11-21T04:00:00+00:00",
          "2020-11-21T06:00:00+00:00",
          "2020-11-21T10:00:00+00:00",
          "2020-11-21T11:00:00+00:00",
          "2020-11-21T12:00:00+00:00",
          "2020-11-21T14:00:00+00:00",
          "2020-11-21T15:00:00+00:00",
          "2020-11-21T19:00:00+00:00",
          "2020-11-21T21:00:00+00:00",
          "2020-11-22T01:00:00+00:00",
          "2020-11-22T05:00:00+00:00",
          "2020-11-22T11:00:00+00:00",
          "2020-11-22T12:00:00+00:00",
          "2020-11-22T13:00:00+00:00",
          "2020-11-22T18:00:00+00:00",
          "2020-11-22T21:00:00+00:00",
          "2020-11-23T05:00:00+00:00",
          "2020-11-23T06:00:00+00:00",
          "2020-11-23T08:00:00+00:00",
          "2020-11-23T11:00:00+00:00",
          "2020-11-23T12:00:00+00:00",
          "2020-11-23T13:00:00+00:00",
          "2020-11-23T15:00:00+00:00",
          "2020-11-23T16:00:00+00:00",
          "2020-11-23T17:00:00+00:00",
          "2020-11-23T21:00:00+00:00",
          "2020-11-24T02:00:00+00:00",
          "2020-11-24T10:00:00+00:00",
          "2020-11-24T11:00:00+00:00",
          "2020-11-24T14:00:00+00:00",
          "2020-11-24T16:00:00+00:00",
          "2020-11-24T18:00:00+00:00",
          "2020-11-24T20:00:00+00:00",
          "2020-11-24T21:00:00+00:00",
          "2020-11-24T22:00:00+00:00",
          "2020-11-24T23:00:00+00:00",
          "2020-11-25T02:00:00+00:00",
          "2020-11-25T03:00:00+00:00",
          "2020-11-25T04:00:00+00:00",
          "2020-11-25T05:00:00+00:00",
          "2020-11-25T08:00:00+00:00",
          "2020-11-25T11:00:00+00:00",
          "2020-11-25T13:00:00+00:00",
          "2020-11-25T14:00:00+00:00",
          "2020-11-25T15:00:00+00:00",
          "2020-11-25T16:00:00+00:00",
          "2020-11-25T17:00:00+00:00",
          "2020-11-25T22:00:00+00:00",
          "2020-11-26T09:00:00+00:00",
          "2020-11-26T10:00:00+00:00",
          "2020-11-26T11:00:00+00:00",
          "2020-11-26T13:00:00+00:00",
          "2020-11-26T14:00:00+00:00",
          "2020-11-26T16:00:00+00:00",
          "2020-11-26T18:00:00+00:00",
          "2020-11-26T20:00:00+00:00",
          "2020-11-26T21:00:00+00:00",
          "2020-11-26T22:00:00+00:00",
          "2020-11-27T00:00:00+00:00",
          "2020-11-27T04:00:00+00:00",
          "2020-11-27T07:00:00+00:00",
          "2020-11-27T08:00:00+00:00",
          "2020-11-27T10:00:00+00:00",
          "2020-11-27T11:00:00+00:00",
          "2020-11-27T13:00:00+00:00",
          "2020-11-27T20:00:00+00:00",
          "2020-11-27T21:00:00+00:00",
          "2020-11-27T22:00:00+00:00",
          "2020-11-28T03:00:00+00:00",
          "2020-11-28T04:00:00+00:00",
          "2020-11-28T05:00:00+00:00",
          "2020-11-28T09:00:00+00:00",
          "2020-11-28T10:00:00+00:00",
          "2020-11-28T11:00:00+00:00",
          "2020-11-28T12:00:00+00:00",
          "2020-11-28T15:00:00+00:00",
          "2020-11-28T17:00:00+00:00",
          "2020-11-28T19:00:00+00:00",
          "2020-11-28T20:00:00+00:00",
          "2020-11-28T21:00:00+00:00",
          "2020-11-29T00:00:00+00:00",
          "2020-11-29T02:00:00+00:00",
          "2020-11-29T03:00:00+00:00",
          "2020-11-29T07:00:00+00:00",
          "2020-11-29T08:00:00+00:00",
          "2020-11-29T09:00:00+00:00",
          "2020-11-29T11:00:00+00:00",
          "2020-11-29T13:00:00+00:00",
          "2020-11-29T14:00:00+00:00",
          "2020-11-29T20:00:00+00:00",
          "2020-11-30T00:00:00+00:00",
          "2020-11-30T02:00:00+00:00",
          "2020-11-30T04:00:00+00:00",
          "2020-11-30T05:00:00+00:00",
          "2020-11-30T10:00:00+00:00",
          "2020-11-30T11:00:00+00:00",
          "2020-11-30T12:00:00+00:00",
          "2020-11-30T13:00:00+00:00",
          "2020-11-30T14:00:00+00:00"
         ],
         "y": [
          null,
          null,
          null,
          1,
          null,
          null,
          null,
          null,
          null,
          null,
          null,
          null,
          null,
          null,
          null,
          null,
          null,
          null,
          null,
          null,
          null,
          null,
          null,
          null,
          null,
          null,
          null,
          null,
          null,
          null,
          null,
          null,
          null,
          null,
          null,
          null,
          null,
          null,
          null,
          null,
          null,
          null,
          null,
          null,
          null,
          null,
          null,
          null,
          null,
          null,
          null,
          null,
          null,
          null,
          null,
          null,
          null,
          null,
          null,
          null,
          null,
          null,
          null,
          null,
          null,
          null,
          null,
          null,
          null,
          null,
          null,
          null,
          null,
          null,
          null,
          null,
          null,
          null,
          null,
          null,
          null,
          null,
          null,
          null,
          null,
          null,
          null,
          null,
          null,
          null,
          null,
          null,
          null,
          null,
          null,
          null,
          null,
          null,
          null,
          null,
          null,
          null,
          null,
          null
         ]
        },
        {
         "line": {
          "color": "rgb(147, 102, 189)",
          "width": 1
         },
         "name": ":AlertCountPerHost",
         "opacity": 0.8,
         "type": "scatter",
         "x": [
          "2020-11-20T17:00:00+00:00",
          "2020-11-20T20:00:00+00:00",
          "2020-11-20T21:00:00+00:00",
          "2020-11-21T01:00:00+00:00",
          "2020-11-21T02:00:00+00:00",
          "2020-11-21T04:00:00+00:00",
          "2020-11-21T06:00:00+00:00",
          "2020-11-21T10:00:00+00:00",
          "2020-11-21T11:00:00+00:00",
          "2020-11-21T12:00:00+00:00",
          "2020-11-21T14:00:00+00:00",
          "2020-11-21T15:00:00+00:00",
          "2020-11-21T19:00:00+00:00",
          "2020-11-21T21:00:00+00:00",
          "2020-11-22T01:00:00+00:00",
          "2020-11-22T05:00:00+00:00",
          "2020-11-22T11:00:00+00:00",
          "2020-11-22T12:00:00+00:00",
          "2020-11-22T13:00:00+00:00",
          "2020-11-22T18:00:00+00:00",
          "2020-11-22T21:00:00+00:00",
          "2020-11-23T05:00:00+00:00",
          "2020-11-23T06:00:00+00:00",
          "2020-11-23T08:00:00+00:00",
          "2020-11-23T11:00:00+00:00",
          "2020-11-23T12:00:00+00:00",
          "2020-11-23T13:00:00+00:00",
          "2020-11-23T15:00:00+00:00",
          "2020-11-23T16:00:00+00:00",
          "2020-11-23T17:00:00+00:00",
          "2020-11-23T21:00:00+00:00",
          "2020-11-24T02:00:00+00:00",
          "2020-11-24T10:00:00+00:00",
          "2020-11-24T11:00:00+00:00",
          "2020-11-24T14:00:00+00:00",
          "2020-11-24T16:00:00+00:00",
          "2020-11-24T18:00:00+00:00",
          "2020-11-24T20:00:00+00:00",
          "2020-11-24T21:00:00+00:00",
          "2020-11-24T22:00:00+00:00",
          "2020-11-24T23:00:00+00:00",
          "2020-11-25T02:00:00+00:00",
          "2020-11-25T03:00:00+00:00",
          "2020-11-25T04:00:00+00:00",
          "2020-11-25T05:00:00+00:00",
          "2020-11-25T08:00:00+00:00",
          "2020-11-25T11:00:00+00:00",
          "2020-11-25T13:00:00+00:00",
          "2020-11-25T14:00:00+00:00",
          "2020-11-25T15:00:00+00:00",
          "2020-11-25T16:00:00+00:00",
          "2020-11-25T17:00:00+00:00",
          "2020-11-25T22:00:00+00:00",
          "2020-11-26T09:00:00+00:00",
          "2020-11-26T10:00:00+00:00",
          "2020-11-26T11:00:00+00:00",
          "2020-11-26T13:00:00+00:00",
          "2020-11-26T14:00:00+00:00",
          "2020-11-26T16:00:00+00:00",
          "2020-11-26T18:00:00+00:00",
          "2020-11-26T20:00:00+00:00",
          "2020-11-26T21:00:00+00:00",
          "2020-11-26T22:00:00+00:00",
          "2020-11-27T00:00:00+00:00",
          "2020-11-27T04:00:00+00:00",
          "2020-11-27T07:00:00+00:00",
          "2020-11-27T08:00:00+00:00",
          "2020-11-27T10:00:00+00:00",
          "2020-11-27T11:00:00+00:00",
          "2020-11-27T13:00:00+00:00",
          "2020-11-27T20:00:00+00:00",
          "2020-11-27T21:00:00+00:00",
          "2020-11-27T22:00:00+00:00",
          "2020-11-28T03:00:00+00:00",
          "2020-11-28T04:00:00+00:00",
          "2020-11-28T05:00:00+00:00",
          "2020-11-28T09:00:00+00:00",
          "2020-11-28T10:00:00+00:00",
          "2020-11-28T11:00:00+00:00",
          "2020-11-28T12:00:00+00:00",
          "2020-11-28T15:00:00+00:00",
          "2020-11-28T17:00:00+00:00",
          "2020-11-28T19:00:00+00:00",
          "2020-11-28T20:00:00+00:00",
          "2020-11-28T21:00:00+00:00",
          "2020-11-29T00:00:00+00:00",
          "2020-11-29T02:00:00+00:00",
          "2020-11-29T03:00:00+00:00",
          "2020-11-29T07:00:00+00:00",
          "2020-11-29T08:00:00+00:00",
          "2020-11-29T09:00:00+00:00",
          "2020-11-29T11:00:00+00:00",
          "2020-11-29T13:00:00+00:00",
          "2020-11-29T14:00:00+00:00",
          "2020-11-29T20:00:00+00:00",
          "2020-11-30T00:00:00+00:00",
          "2020-11-30T02:00:00+00:00",
          "2020-11-30T04:00:00+00:00",
          "2020-11-30T05:00:00+00:00",
          "2020-11-30T10:00:00+00:00",
          "2020-11-30T11:00:00+00:00",
          "2020-11-30T12:00:00+00:00",
          "2020-11-30T13:00:00+00:00",
          "2020-11-30T14:00:00+00:00"
         ],
         "y": [
          null,
          null,
          null,
          null,
          1,
          null,
          null,
          null,
          null,
          null,
          null,
          null,
          null,
          null,
          null,
          null,
          null,
          null,
          null,
          null,
          null,
          null,
          null,
          null,
          null,
          null,
          null,
          null,
          null,
          null,
          null,
          null,
          null,
          null,
          null,
          null,
          null,
          null,
          null,
          null,
          null,
          null,
          null,
          null,
          null,
          null,
          null,
          null,
          null,
          null,
          1,
          null,
          null,
          null,
          null,
          null,
          null,
          null,
          null,
          null,
          null,
          null,
          null,
          null,
          null,
          1,
          null,
          null,
          null,
          null,
          null,
          null,
          null,
          null,
          null,
          null,
          null,
          null,
          null,
          null,
          null,
          null,
          1,
          null,
          null,
          1,
          1,
          null,
          null,
          null,
          null,
          null,
          null,
          null,
          1,
          null,
          null,
          1,
          null,
          null,
          1,
          null,
          null,
          null
         ]
        },
        {
         "line": {
          "color": "rgb(140, 86, 74)",
          "width": 1
         },
         "name": "127.0.0.1:AlertCountPerHost",
         "opacity": 0.8,
         "type": "scatter",
         "x": [
          "2020-11-20T17:00:00+00:00",
          "2020-11-20T20:00:00+00:00",
          "2020-11-20T21:00:00+00:00",
          "2020-11-21T01:00:00+00:00",
          "2020-11-21T02:00:00+00:00",
          "2020-11-21T04:00:00+00:00",
          "2020-11-21T06:00:00+00:00",
          "2020-11-21T10:00:00+00:00",
          "2020-11-21T11:00:00+00:00",
          "2020-11-21T12:00:00+00:00",
          "2020-11-21T14:00:00+00:00",
          "2020-11-21T15:00:00+00:00",
          "2020-11-21T19:00:00+00:00",
          "2020-11-21T21:00:00+00:00",
          "2020-11-22T01:00:00+00:00",
          "2020-11-22T05:00:00+00:00",
          "2020-11-22T11:00:00+00:00",
          "2020-11-22T12:00:00+00:00",
          "2020-11-22T13:00:00+00:00",
          "2020-11-22T18:00:00+00:00",
          "2020-11-22T21:00:00+00:00",
          "2020-11-23T05:00:00+00:00",
          "2020-11-23T06:00:00+00:00",
          "2020-11-23T08:00:00+00:00",
          "2020-11-23T11:00:00+00:00",
          "2020-11-23T12:00:00+00:00",
          "2020-11-23T13:00:00+00:00",
          "2020-11-23T15:00:00+00:00",
          "2020-11-23T16:00:00+00:00",
          "2020-11-23T17:00:00+00:00",
          "2020-11-23T21:00:00+00:00",
          "2020-11-24T02:00:00+00:00",
          "2020-11-24T10:00:00+00:00",
          "2020-11-24T11:00:00+00:00",
          "2020-11-24T14:00:00+00:00",
          "2020-11-24T16:00:00+00:00",
          "2020-11-24T18:00:00+00:00",
          "2020-11-24T20:00:00+00:00",
          "2020-11-24T21:00:00+00:00",
          "2020-11-24T22:00:00+00:00",
          "2020-11-24T23:00:00+00:00",
          "2020-11-25T02:00:00+00:00",
          "2020-11-25T03:00:00+00:00",
          "2020-11-25T04:00:00+00:00",
          "2020-11-25T05:00:00+00:00",
          "2020-11-25T08:00:00+00:00",
          "2020-11-25T11:00:00+00:00",
          "2020-11-25T13:00:00+00:00",
          "2020-11-25T14:00:00+00:00",
          "2020-11-25T15:00:00+00:00",
          "2020-11-25T16:00:00+00:00",
          "2020-11-25T17:00:00+00:00",
          "2020-11-25T22:00:00+00:00",
          "2020-11-26T09:00:00+00:00",
          "2020-11-26T10:00:00+00:00",
          "2020-11-26T11:00:00+00:00",
          "2020-11-26T13:00:00+00:00",
          "2020-11-26T14:00:00+00:00",
          "2020-11-26T16:00:00+00:00",
          "2020-11-26T18:00:00+00:00",
          "2020-11-26T20:00:00+00:00",
          "2020-11-26T21:00:00+00:00",
          "2020-11-26T22:00:00+00:00",
          "2020-11-27T00:00:00+00:00",
          "2020-11-27T04:00:00+00:00",
          "2020-11-27T07:00:00+00:00",
          "2020-11-27T08:00:00+00:00",
          "2020-11-27T10:00:00+00:00",
          "2020-11-27T11:00:00+00:00",
          "2020-11-27T13:00:00+00:00",
          "2020-11-27T20:00:00+00:00",
          "2020-11-27T21:00:00+00:00",
          "2020-11-27T22:00:00+00:00",
          "2020-11-28T03:00:00+00:00",
          "2020-11-28T04:00:00+00:00",
          "2020-11-28T05:00:00+00:00",
          "2020-11-28T09:00:00+00:00",
          "2020-11-28T10:00:00+00:00",
          "2020-11-28T11:00:00+00:00",
          "2020-11-28T12:00:00+00:00",
          "2020-11-28T15:00:00+00:00",
          "2020-11-28T17:00:00+00:00",
          "2020-11-28T19:00:00+00:00",
          "2020-11-28T20:00:00+00:00",
          "2020-11-28T21:00:00+00:00",
          "2020-11-29T00:00:00+00:00",
          "2020-11-29T02:00:00+00:00",
          "2020-11-29T03:00:00+00:00",
          "2020-11-29T07:00:00+00:00",
          "2020-11-29T08:00:00+00:00",
          "2020-11-29T09:00:00+00:00",
          "2020-11-29T11:00:00+00:00",
          "2020-11-29T13:00:00+00:00",
          "2020-11-29T14:00:00+00:00",
          "2020-11-29T20:00:00+00:00",
          "2020-11-30T00:00:00+00:00",
          "2020-11-30T02:00:00+00:00",
          "2020-11-30T04:00:00+00:00",
          "2020-11-30T05:00:00+00:00",
          "2020-11-30T10:00:00+00:00",
          "2020-11-30T11:00:00+00:00",
          "2020-11-30T12:00:00+00:00",
          "2020-11-30T13:00:00+00:00",
          "2020-11-30T14:00:00+00:00"
         ],
         "y": [
          null,
          null,
          null,
          null,
          null,
          null,
          null,
          null,
          null,
          null,
          null,
          null,
          1,
          null,
          null,
          null,
          null,
          null,
          null,
          null,
          null,
          null,
          null,
          null,
          null,
          null,
          null,
          null,
          null,
          null,
          null,
          null,
          null,
          null,
          null,
          null,
          2,
          null,
          null,
          null,
          null,
          null,
          null,
          2,
          null,
          null,
          null,
          null,
          null,
          null,
          null,
          null,
          null,
          null,
          null,
          null,
          null,
          null,
          null,
          null,
          null,
          null,
          null,
          null,
          null,
          null,
          null,
          null,
          null,
          null,
          1,
          null,
          null,
          null,
          null,
          null,
          null,
          null,
          null,
          null,
          null,
          null,
          null,
          null,
          null,
          null,
          null,
          null,
          null,
          null,
          null,
          null,
          null,
          null,
          null,
          null,
          null,
          null,
          null,
          null,
          null,
          null,
          null,
          null
         ]
        },
        {
         "line": {
          "color": "rgb(227, 119, 193)",
          "width": 1
         },
         "name": "127.0.0.1:80:AlertCountPerHost",
         "opacity": 0.8,
         "type": "scatter",
         "x": [
          "2020-11-20T17:00:00+00:00",
          "2020-11-20T20:00:00+00:00",
          "2020-11-20T21:00:00+00:00",
          "2020-11-21T01:00:00+00:00",
          "2020-11-21T02:00:00+00:00",
          "2020-11-21T04:00:00+00:00",
          "2020-11-21T06:00:00+00:00",
          "2020-11-21T10:00:00+00:00",
          "2020-11-21T11:00:00+00:00",
          "2020-11-21T12:00:00+00:00",
          "2020-11-21T14:00:00+00:00",
          "2020-11-21T15:00:00+00:00",
          "2020-11-21T19:00:00+00:00",
          "2020-11-21T21:00:00+00:00",
          "2020-11-22T01:00:00+00:00",
          "2020-11-22T05:00:00+00:00",
          "2020-11-22T11:00:00+00:00",
          "2020-11-22T12:00:00+00:00",
          "2020-11-22T13:00:00+00:00",
          "2020-11-22T18:00:00+00:00",
          "2020-11-22T21:00:00+00:00",
          "2020-11-23T05:00:00+00:00",
          "2020-11-23T06:00:00+00:00",
          "2020-11-23T08:00:00+00:00",
          "2020-11-23T11:00:00+00:00",
          "2020-11-23T12:00:00+00:00",
          "2020-11-23T13:00:00+00:00",
          "2020-11-23T15:00:00+00:00",
          "2020-11-23T16:00:00+00:00",
          "2020-11-23T17:00:00+00:00",
          "2020-11-23T21:00:00+00:00",
          "2020-11-24T02:00:00+00:00",
          "2020-11-24T10:00:00+00:00",
          "2020-11-24T11:00:00+00:00",
          "2020-11-24T14:00:00+00:00",
          "2020-11-24T16:00:00+00:00",
          "2020-11-24T18:00:00+00:00",
          "2020-11-24T20:00:00+00:00",
          "2020-11-24T21:00:00+00:00",
          "2020-11-24T22:00:00+00:00",
          "2020-11-24T23:00:00+00:00",
          "2020-11-25T02:00:00+00:00",
          "2020-11-25T03:00:00+00:00",
          "2020-11-25T04:00:00+00:00",
          "2020-11-25T05:00:00+00:00",
          "2020-11-25T08:00:00+00:00",
          "2020-11-25T11:00:00+00:00",
          "2020-11-25T13:00:00+00:00",
          "2020-11-25T14:00:00+00:00",
          "2020-11-25T15:00:00+00:00",
          "2020-11-25T16:00:00+00:00",
          "2020-11-25T17:00:00+00:00",
          "2020-11-25T22:00:00+00:00",
          "2020-11-26T09:00:00+00:00",
          "2020-11-26T10:00:00+00:00",
          "2020-11-26T11:00:00+00:00",
          "2020-11-26T13:00:00+00:00",
          "2020-11-26T14:00:00+00:00",
          "2020-11-26T16:00:00+00:00",
          "2020-11-26T18:00:00+00:00",
          "2020-11-26T20:00:00+00:00",
          "2020-11-26T21:00:00+00:00",
          "2020-11-26T22:00:00+00:00",
          "2020-11-27T00:00:00+00:00",
          "2020-11-27T04:00:00+00:00",
          "2020-11-27T07:00:00+00:00",
          "2020-11-27T08:00:00+00:00",
          "2020-11-27T10:00:00+00:00",
          "2020-11-27T11:00:00+00:00",
          "2020-11-27T13:00:00+00:00",
          "2020-11-27T20:00:00+00:00",
          "2020-11-27T21:00:00+00:00",
          "2020-11-27T22:00:00+00:00",
          "2020-11-28T03:00:00+00:00",
          "2020-11-28T04:00:00+00:00",
          "2020-11-28T05:00:00+00:00",
          "2020-11-28T09:00:00+00:00",
          "2020-11-28T10:00:00+00:00",
          "2020-11-28T11:00:00+00:00",
          "2020-11-28T12:00:00+00:00",
          "2020-11-28T15:00:00+00:00",
          "2020-11-28T17:00:00+00:00",
          "2020-11-28T19:00:00+00:00",
          "2020-11-28T20:00:00+00:00",
          "2020-11-28T21:00:00+00:00",
          "2020-11-29T00:00:00+00:00",
          "2020-11-29T02:00:00+00:00",
          "2020-11-29T03:00:00+00:00",
          "2020-11-29T07:00:00+00:00",
          "2020-11-29T08:00:00+00:00",
          "2020-11-29T09:00:00+00:00",
          "2020-11-29T11:00:00+00:00",
          "2020-11-29T13:00:00+00:00",
          "2020-11-29T14:00:00+00:00",
          "2020-11-29T20:00:00+00:00",
          "2020-11-30T00:00:00+00:00",
          "2020-11-30T02:00:00+00:00",
          "2020-11-30T04:00:00+00:00",
          "2020-11-30T05:00:00+00:00",
          "2020-11-30T10:00:00+00:00",
          "2020-11-30T11:00:00+00:00",
          "2020-11-30T12:00:00+00:00",
          "2020-11-30T13:00:00+00:00",
          "2020-11-30T14:00:00+00:00"
         ],
         "y": [
          null,
          null,
          null,
          null,
          null,
          null,
          null,
          null,
          null,
          null,
          null,
          null,
          null,
          null,
          null,
          null,
          null,
          null,
          null,
          null,
          null,
          null,
          null,
          null,
          null,
          null,
          null,
          null,
          null,
          null,
          null,
          null,
          null,
          null,
          null,
          null,
          null,
          null,
          null,
          null,
          null,
          null,
          null,
          null,
          null,
          null,
          null,
          null,
          null,
          null,
          null,
          null,
          null,
          null,
          null,
          1,
          null,
          null,
          null,
          null,
          null,
          null,
          null,
          null,
          null,
          null,
          null,
          null,
          null,
          null,
          null,
          null,
          null,
          null,
          null,
          null,
          null,
          null,
          null,
          null,
          null,
          null,
          null,
          null,
          null,
          null,
          null,
          null,
          2,
          null,
          null,
          null,
          null,
          null,
          null,
          null,
          null,
          null,
          null,
          null,
          null,
          null,
          null,
          null
         ]
        },
        {
         "line": {
          "color": "rgb(127, 127, 127)",
          "width": 1
         },
         "name": "127.0.0.1:8080:AlertCountPerHost",
         "opacity": 0.8,
         "type": "scatter",
         "x": [
          "2020-11-20T17:00:00+00:00",
          "2020-11-20T20:00:00+00:00",
          "2020-11-20T21:00:00+00:00",
          "2020-11-21T01:00:00+00:00",
          "2020-11-21T02:00:00+00:00",
          "2020-11-21T04:00:00+00:00",
          "2020-11-21T06:00:00+00:00",
          "2020-11-21T10:00:00+00:00",
          "2020-11-21T11:00:00+00:00",
          "2020-11-21T12:00:00+00:00",
          "2020-11-21T14:00:00+00:00",
          "2020-11-21T15:00:00+00:00",
          "2020-11-21T19:00:00+00:00",
          "2020-11-21T21:00:00+00:00",
          "2020-11-22T01:00:00+00:00",
          "2020-11-22T05:00:00+00:00",
          "2020-11-22T11:00:00+00:00",
          "2020-11-22T12:00:00+00:00",
          "2020-11-22T13:00:00+00:00",
          "2020-11-22T18:00:00+00:00",
          "2020-11-22T21:00:00+00:00",
          "2020-11-23T05:00:00+00:00",
          "2020-11-23T06:00:00+00:00",
          "2020-11-23T08:00:00+00:00",
          "2020-11-23T11:00:00+00:00",
          "2020-11-23T12:00:00+00:00",
          "2020-11-23T13:00:00+00:00",
          "2020-11-23T15:00:00+00:00",
          "2020-11-23T16:00:00+00:00",
          "2020-11-23T17:00:00+00:00",
          "2020-11-23T21:00:00+00:00",
          "2020-11-24T02:00:00+00:00",
          "2020-11-24T10:00:00+00:00",
          "2020-11-24T11:00:00+00:00",
          "2020-11-24T14:00:00+00:00",
          "2020-11-24T16:00:00+00:00",
          "2020-11-24T18:00:00+00:00",
          "2020-11-24T20:00:00+00:00",
          "2020-11-24T21:00:00+00:00",
          "2020-11-24T22:00:00+00:00",
          "2020-11-24T23:00:00+00:00",
          "2020-11-25T02:00:00+00:00",
          "2020-11-25T03:00:00+00:00",
          "2020-11-25T04:00:00+00:00",
          "2020-11-25T05:00:00+00:00",
          "2020-11-25T08:00:00+00:00",
          "2020-11-25T11:00:00+00:00",
          "2020-11-25T13:00:00+00:00",
          "2020-11-25T14:00:00+00:00",
          "2020-11-25T15:00:00+00:00",
          "2020-11-25T16:00:00+00:00",
          "2020-11-25T17:00:00+00:00",
          "2020-11-25T22:00:00+00:00",
          "2020-11-26T09:00:00+00:00",
          "2020-11-26T10:00:00+00:00",
          "2020-11-26T11:00:00+00:00",
          "2020-11-26T13:00:00+00:00",
          "2020-11-26T14:00:00+00:00",
          "2020-11-26T16:00:00+00:00",
          "2020-11-26T18:00:00+00:00",
          "2020-11-26T20:00:00+00:00",
          "2020-11-26T21:00:00+00:00",
          "2020-11-26T22:00:00+00:00",
          "2020-11-27T00:00:00+00:00",
          "2020-11-27T04:00:00+00:00",
          "2020-11-27T07:00:00+00:00",
          "2020-11-27T08:00:00+00:00",
          "2020-11-27T10:00:00+00:00",
          "2020-11-27T11:00:00+00:00",
          "2020-11-27T13:00:00+00:00",
          "2020-11-27T20:00:00+00:00",
          "2020-11-27T21:00:00+00:00",
          "2020-11-27T22:00:00+00:00",
          "2020-11-28T03:00:00+00:00",
          "2020-11-28T04:00:00+00:00",
          "2020-11-28T05:00:00+00:00",
          "2020-11-28T09:00:00+00:00",
          "2020-11-28T10:00:00+00:00",
          "2020-11-28T11:00:00+00:00",
          "2020-11-28T12:00:00+00:00",
          "2020-11-28T15:00:00+00:00",
          "2020-11-28T17:00:00+00:00",
          "2020-11-28T19:00:00+00:00",
          "2020-11-28T20:00:00+00:00",
          "2020-11-28T21:00:00+00:00",
          "2020-11-29T00:00:00+00:00",
          "2020-11-29T02:00:00+00:00",
          "2020-11-29T03:00:00+00:00",
          "2020-11-29T07:00:00+00:00",
          "2020-11-29T08:00:00+00:00",
          "2020-11-29T09:00:00+00:00",
          "2020-11-29T11:00:00+00:00",
          "2020-11-29T13:00:00+00:00",
          "2020-11-29T14:00:00+00:00",
          "2020-11-29T20:00:00+00:00",
          "2020-11-30T00:00:00+00:00",
          "2020-11-30T02:00:00+00:00",
          "2020-11-30T04:00:00+00:00",
          "2020-11-30T05:00:00+00:00",
          "2020-11-30T10:00:00+00:00",
          "2020-11-30T11:00:00+00:00",
          "2020-11-30T12:00:00+00:00",
          "2020-11-30T13:00:00+00:00",
          "2020-11-30T14:00:00+00:00"
         ],
         "y": [
          null,
          null,
          null,
          null,
          null,
          null,
          null,
          null,
          null,
          null,
          null,
          null,
          null,
          null,
          null,
          null,
          null,
          null,
          null,
          null,
          null,
          null,
          null,
          null,
          null,
          null,
          null,
          null,
          null,
          null,
          null,
          null,
          null,
          null,
          null,
          null,
          null,
          null,
          null,
          null,
          null,
          null,
          null,
          null,
          null,
          null,
          null,
          null,
          null,
          null,
          null,
          null,
          null,
          null,
          null,
          null,
          4,
          null,
          null,
          null,
          null,
          null,
          null,
          null,
          null,
          null,
          null,
          null,
          null,
          null,
          null,
          null,
          null,
          2,
          null,
          null,
          null,
          null,
          null,
          null,
          null,
          null,
          null,
          null,
          null,
          null,
          null,
          null,
          null,
          null,
          null,
          null,
          null,
          null,
          null,
          null,
          null,
          null,
          null,
          null,
          null,
          null,
          null,
          null
         ]
        },
        {
         "line": {
          "color": "rgb(188, 189, 33)",
          "width": 1
         },
         "name": "112.124.42.80:63435:AlertCountPerHost",
         "opacity": 0.8,
         "type": "scatter",
         "x": [
          "2020-11-20T17:00:00+00:00",
          "2020-11-20T20:00:00+00:00",
          "2020-11-20T21:00:00+00:00",
          "2020-11-21T01:00:00+00:00",
          "2020-11-21T02:00:00+00:00",
          "2020-11-21T04:00:00+00:00",
          "2020-11-21T06:00:00+00:00",
          "2020-11-21T10:00:00+00:00",
          "2020-11-21T11:00:00+00:00",
          "2020-11-21T12:00:00+00:00",
          "2020-11-21T14:00:00+00:00",
          "2020-11-21T15:00:00+00:00",
          "2020-11-21T19:00:00+00:00",
          "2020-11-21T21:00:00+00:00",
          "2020-11-22T01:00:00+00:00",
          "2020-11-22T05:00:00+00:00",
          "2020-11-22T11:00:00+00:00",
          "2020-11-22T12:00:00+00:00",
          "2020-11-22T13:00:00+00:00",
          "2020-11-22T18:00:00+00:00",
          "2020-11-22T21:00:00+00:00",
          "2020-11-23T05:00:00+00:00",
          "2020-11-23T06:00:00+00:00",
          "2020-11-23T08:00:00+00:00",
          "2020-11-23T11:00:00+00:00",
          "2020-11-23T12:00:00+00:00",
          "2020-11-23T13:00:00+00:00",
          "2020-11-23T15:00:00+00:00",
          "2020-11-23T16:00:00+00:00",
          "2020-11-23T17:00:00+00:00",
          "2020-11-23T21:00:00+00:00",
          "2020-11-24T02:00:00+00:00",
          "2020-11-24T10:00:00+00:00",
          "2020-11-24T11:00:00+00:00",
          "2020-11-24T14:00:00+00:00",
          "2020-11-24T16:00:00+00:00",
          "2020-11-24T18:00:00+00:00",
          "2020-11-24T20:00:00+00:00",
          "2020-11-24T21:00:00+00:00",
          "2020-11-24T22:00:00+00:00",
          "2020-11-24T23:00:00+00:00",
          "2020-11-25T02:00:00+00:00",
          "2020-11-25T03:00:00+00:00",
          "2020-11-25T04:00:00+00:00",
          "2020-11-25T05:00:00+00:00",
          "2020-11-25T08:00:00+00:00",
          "2020-11-25T11:00:00+00:00",
          "2020-11-25T13:00:00+00:00",
          "2020-11-25T14:00:00+00:00",
          "2020-11-25T15:00:00+00:00",
          "2020-11-25T16:00:00+00:00",
          "2020-11-25T17:00:00+00:00",
          "2020-11-25T22:00:00+00:00",
          "2020-11-26T09:00:00+00:00",
          "2020-11-26T10:00:00+00:00",
          "2020-11-26T11:00:00+00:00",
          "2020-11-26T13:00:00+00:00",
          "2020-11-26T14:00:00+00:00",
          "2020-11-26T16:00:00+00:00",
          "2020-11-26T18:00:00+00:00",
          "2020-11-26T20:00:00+00:00",
          "2020-11-26T21:00:00+00:00",
          "2020-11-26T22:00:00+00:00",
          "2020-11-27T00:00:00+00:00",
          "2020-11-27T04:00:00+00:00",
          "2020-11-27T07:00:00+00:00",
          "2020-11-27T08:00:00+00:00",
          "2020-11-27T10:00:00+00:00",
          "2020-11-27T11:00:00+00:00",
          "2020-11-27T13:00:00+00:00",
          "2020-11-27T20:00:00+00:00",
          "2020-11-27T21:00:00+00:00",
          "2020-11-27T22:00:00+00:00",
          "2020-11-28T03:00:00+00:00",
          "2020-11-28T04:00:00+00:00",
          "2020-11-28T05:00:00+00:00",
          "2020-11-28T09:00:00+00:00",
          "2020-11-28T10:00:00+00:00",
          "2020-11-28T11:00:00+00:00",
          "2020-11-28T12:00:00+00:00",
          "2020-11-28T15:00:00+00:00",
          "2020-11-28T17:00:00+00:00",
          "2020-11-28T19:00:00+00:00",
          "2020-11-28T20:00:00+00:00",
          "2020-11-28T21:00:00+00:00",
          "2020-11-29T00:00:00+00:00",
          "2020-11-29T02:00:00+00:00",
          "2020-11-29T03:00:00+00:00",
          "2020-11-29T07:00:00+00:00",
          "2020-11-29T08:00:00+00:00",
          "2020-11-29T09:00:00+00:00",
          "2020-11-29T11:00:00+00:00",
          "2020-11-29T13:00:00+00:00",
          "2020-11-29T14:00:00+00:00",
          "2020-11-29T20:00:00+00:00",
          "2020-11-30T00:00:00+00:00",
          "2020-11-30T02:00:00+00:00",
          "2020-11-30T04:00:00+00:00",
          "2020-11-30T05:00:00+00:00",
          "2020-11-30T10:00:00+00:00",
          "2020-11-30T11:00:00+00:00",
          "2020-11-30T12:00:00+00:00",
          "2020-11-30T13:00:00+00:00",
          "2020-11-30T14:00:00+00:00"
         ],
         "y": [
          null,
          null,
          null,
          null,
          null,
          null,
          null,
          null,
          null,
          null,
          null,
          null,
          null,
          null,
          null,
          null,
          null,
          null,
          null,
          null,
          null,
          null,
          null,
          null,
          null,
          null,
          null,
          null,
          null,
          null,
          null,
          null,
          null,
          null,
          null,
          null,
          null,
          null,
          null,
          null,
          null,
          null,
          null,
          null,
          null,
          null,
          null,
          null,
          null,
          null,
          null,
          null,
          null,
          null,
          null,
          null,
          null,
          null,
          null,
          null,
          null,
          null,
          null,
          null,
          null,
          null,
          null,
          null,
          null,
          null,
          null,
          1,
          null,
          null,
          null,
          null,
          null,
          null,
          null,
          null,
          null,
          null,
          null,
          null,
          null,
          null,
          null,
          null,
          null,
          null,
          null,
          null,
          null,
          null,
          null,
          null,
          null,
          null,
          null,
          null,
          null,
          null,
          null,
          null
         ]
        }
       ],
       "layout": {
        "autosize": true,
        "showlegend": true,
        "template": {
         "data": {
          "bar": [
           {
            "error_x": {
             "color": "#2a3f5f"
            },
            "error_y": {
             "color": "#2a3f5f"
            },
            "marker": {
             "line": {
              "color": "#E5ECF6",
              "width": 0.5
             }
            },
            "type": "bar"
           }
          ],
          "barpolar": [
           {
            "marker": {
             "line": {
              "color": "#E5ECF6",
              "width": 0.5
             }
            },
            "type": "barpolar"
           }
          ],
          "carpet": [
           {
            "aaxis": {
             "endlinecolor": "#2a3f5f",
             "gridcolor": "white",
             "linecolor": "white",
             "minorgridcolor": "white",
             "startlinecolor": "#2a3f5f"
            },
            "baxis": {
             "endlinecolor": "#2a3f5f",
             "gridcolor": "white",
             "linecolor": "white",
             "minorgridcolor": "white",
             "startlinecolor": "#2a3f5f"
            },
            "type": "carpet"
           }
          ],
          "choropleth": [
           {
            "colorbar": {
             "outlinewidth": 0,
             "ticks": ""
            },
            "type": "choropleth"
           }
          ],
          "contour": [
           {
            "colorbar": {
             "outlinewidth": 0,
             "ticks": ""
            },
            "colorscale": [
             [
              0,
              "#0d0887"
             ],
             [
              0.1111111111111111,
              "#46039f"
             ],
             [
              0.2222222222222222,
              "#7201a8"
             ],
             [
              0.3333333333333333,
              "#9c179e"
             ],
             [
              0.4444444444444444,
              "#bd3786"
             ],
             [
              0.5555555555555556,
              "#d8576b"
             ],
             [
              0.6666666666666666,
              "#ed7953"
             ],
             [
              0.7777777777777778,
              "#fb9f3a"
             ],
             [
              0.8888888888888888,
              "#fdca26"
             ],
             [
              1,
              "#f0f921"
             ]
            ],
            "type": "contour"
           }
          ],
          "contourcarpet": [
           {
            "colorbar": {
             "outlinewidth": 0,
             "ticks": ""
            },
            "type": "contourcarpet"
           }
          ],
          "heatmap": [
           {
            "colorbar": {
             "outlinewidth": 0,
             "ticks": ""
            },
            "colorscale": [
             [
              0,
              "#0d0887"
             ],
             [
              0.1111111111111111,
              "#46039f"
             ],
             [
              0.2222222222222222,
              "#7201a8"
             ],
             [
              0.3333333333333333,
              "#9c179e"
             ],
             [
              0.4444444444444444,
              "#bd3786"
             ],
             [
              0.5555555555555556,
              "#d8576b"
             ],
             [
              0.6666666666666666,
              "#ed7953"
             ],
             [
              0.7777777777777778,
              "#fb9f3a"
             ],
             [
              0.8888888888888888,
              "#fdca26"
             ],
             [
              1,
              "#f0f921"
             ]
            ],
            "type": "heatmap"
           }
          ],
          "heatmapgl": [
           {
            "colorbar": {
             "outlinewidth": 0,
             "ticks": ""
            },
            "colorscale": [
             [
              0,
              "#0d0887"
             ],
             [
              0.1111111111111111,
              "#46039f"
             ],
             [
              0.2222222222222222,
              "#7201a8"
             ],
             [
              0.3333333333333333,
              "#9c179e"
             ],
             [
              0.4444444444444444,
              "#bd3786"
             ],
             [
              0.5555555555555556,
              "#d8576b"
             ],
             [
              0.6666666666666666,
              "#ed7953"
             ],
             [
              0.7777777777777778,
              "#fb9f3a"
             ],
             [
              0.8888888888888888,
              "#fdca26"
             ],
             [
              1,
              "#f0f921"
             ]
            ],
            "type": "heatmapgl"
           }
          ],
          "histogram": [
           {
            "marker": {
             "colorbar": {
              "outlinewidth": 0,
              "ticks": ""
             }
            },
            "type": "histogram"
           }
          ],
          "histogram2d": [
           {
            "colorbar": {
             "outlinewidth": 0,
             "ticks": ""
            },
            "colorscale": [
             [
              0,
              "#0d0887"
             ],
             [
              0.1111111111111111,
              "#46039f"
             ],
             [
              0.2222222222222222,
              "#7201a8"
             ],
             [
              0.3333333333333333,
              "#9c179e"
             ],
             [
              0.4444444444444444,
              "#bd3786"
             ],
             [
              0.5555555555555556,
              "#d8576b"
             ],
             [
              0.6666666666666666,
              "#ed7953"
             ],
             [
              0.7777777777777778,
              "#fb9f3a"
             ],
             [
              0.8888888888888888,
              "#fdca26"
             ],
             [
              1,
              "#f0f921"
             ]
            ],
            "type": "histogram2d"
           }
          ],
          "histogram2dcontour": [
           {
            "colorbar": {
             "outlinewidth": 0,
             "ticks": ""
            },
            "colorscale": [
             [
              0,
              "#0d0887"
             ],
             [
              0.1111111111111111,
              "#46039f"
             ],
             [
              0.2222222222222222,
              "#7201a8"
             ],
             [
              0.3333333333333333,
              "#9c179e"
             ],
             [
              0.4444444444444444,
              "#bd3786"
             ],
             [
              0.5555555555555556,
              "#d8576b"
             ],
             [
              0.6666666666666666,
              "#ed7953"
             ],
             [
              0.7777777777777778,
              "#fb9f3a"
             ],
             [
              0.8888888888888888,
              "#fdca26"
             ],
             [
              1,
              "#f0f921"
             ]
            ],
            "type": "histogram2dcontour"
           }
          ],
          "mesh3d": [
           {
            "colorbar": {
             "outlinewidth": 0,
             "ticks": ""
            },
            "type": "mesh3d"
           }
          ],
          "parcoords": [
           {
            "line": {
             "colorbar": {
              "outlinewidth": 0,
              "ticks": ""
             }
            },
            "type": "parcoords"
           }
          ],
          "pie": [
           {
            "automargin": true,
            "type": "pie"
           }
          ],
          "scatter": [
           {
            "marker": {
             "colorbar": {
              "outlinewidth": 0,
              "ticks": ""
             }
            },
            "type": "scatter"
           }
          ],
          "scatter3d": [
           {
            "line": {
             "colorbar": {
              "outlinewidth": 0,
              "ticks": ""
             }
            },
            "marker": {
             "colorbar": {
              "outlinewidth": 0,
              "ticks": ""
             }
            },
            "type": "scatter3d"
           }
          ],
          "scattercarpet": [
           {
            "marker": {
             "colorbar": {
              "outlinewidth": 0,
              "ticks": ""
             }
            },
            "type": "scattercarpet"
           }
          ],
          "scattergeo": [
           {
            "marker": {
             "colorbar": {
              "outlinewidth": 0,
              "ticks": ""
             }
            },
            "type": "scattergeo"
           }
          ],
          "scattergl": [
           {
            "marker": {
             "colorbar": {
              "outlinewidth": 0,
              "ticks": ""
             }
            },
            "type": "scattergl"
           }
          ],
          "scattermapbox": [
           {
            "marker": {
             "colorbar": {
              "outlinewidth": 0,
              "ticks": ""
             }
            },
            "type": "scattermapbox"
           }
          ],
          "scatterpolar": [
           {
            "marker": {
             "colorbar": {
              "outlinewidth": 0,
              "ticks": ""
             }
            },
            "type": "scatterpolar"
           }
          ],
          "scatterpolargl": [
           {
            "marker": {
             "colorbar": {
              "outlinewidth": 0,
              "ticks": ""
             }
            },
            "type": "scatterpolargl"
           }
          ],
          "scatterternary": [
           {
            "marker": {
             "colorbar": {
              "outlinewidth": 0,
              "ticks": ""
             }
            },
            "type": "scatterternary"
           }
          ],
          "surface": [
           {
            "colorbar": {
             "outlinewidth": 0,
             "ticks": ""
            },
            "colorscale": [
             [
              0,
              "#0d0887"
             ],
             [
              0.1111111111111111,
              "#46039f"
             ],
             [
              0.2222222222222222,
              "#7201a8"
             ],
             [
              0.3333333333333333,
              "#9c179e"
             ],
             [
              0.4444444444444444,
              "#bd3786"
             ],
             [
              0.5555555555555556,
              "#d8576b"
             ],
             [
              0.6666666666666666,
              "#ed7953"
             ],
             [
              0.7777777777777778,
              "#fb9f3a"
             ],
             [
              0.8888888888888888,
              "#fdca26"
             ],
             [
              1,
              "#f0f921"
             ]
            ],
            "type": "surface"
           }
          ],
          "table": [
           {
            "cells": {
             "fill": {
              "color": "#EBF0F8"
             },
             "line": {
              "color": "white"
             }
            },
            "header": {
             "fill": {
              "color": "#C8D4E3"
             },
             "line": {
              "color": "white"
             }
            },
            "type": "table"
           }
          ]
         },
         "layout": {
          "annotationdefaults": {
           "arrowcolor": "#2a3f5f",
           "arrowhead": 0,
           "arrowwidth": 1
          },
          "coloraxis": {
           "colorbar": {
            "outlinewidth": 0,
            "ticks": ""
           }
          },
          "colorscale": {
           "diverging": [
            [
             0,
             "#8e0152"
            ],
            [
             0.1,
             "#c51b7d"
            ],
            [
             0.2,
             "#de77ae"
            ],
            [
             0.3,
             "#f1b6da"
            ],
            [
             0.4,
             "#fde0ef"
            ],
            [
             0.5,
             "#f7f7f7"
            ],
            [
             0.6,
             "#e6f5d0"
            ],
            [
             0.7,
             "#b8e186"
            ],
            [
             0.8,
             "#7fbc41"
            ],
            [
             0.9,
             "#4d9221"
            ],
            [
             1,
             "#276419"
            ]
           ],
           "sequential": [
            [
             0,
             "#0d0887"
            ],
            [
             0.1111111111111111,
             "#46039f"
            ],
            [
             0.2222222222222222,
             "#7201a8"
            ],
            [
             0.3333333333333333,
             "#9c179e"
            ],
            [
             0.4444444444444444,
             "#bd3786"
            ],
            [
             0.5555555555555556,
             "#d8576b"
            ],
            [
             0.6666666666666666,
             "#ed7953"
            ],
            [
             0.7777777777777778,
             "#fb9f3a"
            ],
            [
             0.8888888888888888,
             "#fdca26"
            ],
            [
             1,
             "#f0f921"
            ]
           ],
           "sequentialminus": [
            [
             0,
             "#0d0887"
            ],
            [
             0.1111111111111111,
             "#46039f"
            ],
            [
             0.2222222222222222,
             "#7201a8"
            ],
            [
             0.3333333333333333,
             "#9c179e"
            ],
            [
             0.4444444444444444,
             "#bd3786"
            ],
            [
             0.5555555555555556,
             "#d8576b"
            ],
            [
             0.6666666666666666,
             "#ed7953"
            ],
            [
             0.7777777777777778,
             "#fb9f3a"
            ],
            [
             0.8888888888888888,
             "#fdca26"
            ],
            [
             1,
             "#f0f921"
            ]
           ]
          },
          "colorway": [
           "#636efa",
           "#EF553B",
           "#00cc96",
           "#ab63fa",
           "#FFA15A",
           "#19d3f3",
           "#FF6692",
           "#B6E880",
           "#FF97FF",
           "#FECB52"
          ],
          "font": {
           "color": "#2a3f5f"
          },
          "geo": {
           "bgcolor": "white",
           "lakecolor": "white",
           "landcolor": "#E5ECF6",
           "showlakes": true,
           "showland": true,
           "subunitcolor": "white"
          },
          "hoverlabel": {
           "align": "left"
          },
          "hovermode": "closest",
          "mapbox": {
           "style": "light"
          },
          "paper_bgcolor": "white",
          "plot_bgcolor": "#E5ECF6",
          "polar": {
           "angularaxis": {
            "gridcolor": "white",
            "linecolor": "white",
            "ticks": ""
           },
           "bgcolor": "#E5ECF6",
           "radialaxis": {
            "gridcolor": "white",
            "linecolor": "white",
            "ticks": ""
           }
          },
          "scene": {
           "xaxis": {
            "backgroundcolor": "#E5ECF6",
            "gridcolor": "white",
            "gridwidth": 2,
            "linecolor": "white",
            "showbackground": true,
            "ticks": "",
            "zerolinecolor": "white"
           },
           "yaxis": {
            "backgroundcolor": "#E5ECF6",
            "gridcolor": "white",
            "gridwidth": 2,
            "linecolor": "white",
            "showbackground": true,
            "ticks": "",
            "zerolinecolor": "white"
           },
           "zaxis": {
            "backgroundcolor": "#E5ECF6",
            "gridcolor": "white",
            "gridwidth": 2,
            "linecolor": "white",
            "showbackground": true,
            "ticks": "",
            "zerolinecolor": "white"
           }
          },
          "shapedefaults": {
           "line": {
            "color": "#2a3f5f"
           }
          },
          "ternary": {
           "aaxis": {
            "gridcolor": "white",
            "linecolor": "white",
            "ticks": ""
           },
           "baxis": {
            "gridcolor": "white",
            "linecolor": "white",
            "ticks": ""
           },
           "bgcolor": "#E5ECF6",
           "caxis": {
            "gridcolor": "white",
            "linecolor": "white",
            "ticks": ""
           }
          },
          "title": {
           "x": 0.05
          },
          "xaxis": {
           "automargin": true,
           "gridcolor": "white",
           "linecolor": "white",
           "ticks": "",
           "title": {
            "standoff": 15
           },
           "zerolinecolor": "white",
           "zerolinewidth": 2
          },
          "yaxis": {
           "automargin": true,
           "gridcolor": "white",
           "linecolor": "white",
           "ticks": "",
           "title": {
            "standoff": 15
           },
           "zerolinecolor": "white",
           "zerolinewidth": 2
          }
         }
        },
        "title": {
         "text": "timechart"
        },
        "xaxis": {
         "autorange": true,
         "range": [
          "2020-11-20 17:00",
          "2020-11-30 14:00"
         ],
         "title": {
          "text": "timeStamp_t"
         },
         "type": "date"
        },
        "yaxis": {
         "autorange": true,
         "range": [
          -54.388888888888886,
          1053.388888888889
         ],
         "ticksuffix": "",
         "title": {
          "text": "AlertCountPerHost"
         },
         "type": "linear"
        }
       }
      },
      "image/png": "[encoded data removed]",
      "text/html": [
       "<div>                            <div id=\"40d538e6-8983-4f7c-83f8-37273ac08446\" class=\"plotly-graph-div\" style=\"height:525px; width:100%;\"></div>            <script type=\"text/javascript\">                require([\"plotly\"], function(Plotly) {                    window.PLOTLYENV=window.PLOTLYENV || {};                                    if (document.getElementById(\"40d538e6-8983-4f7c-83f8-37273ac08446\")) {                    Plotly.newPlot(                        \"40d538e6-8983-4f7c-83f8-37273ac08446\",                        [{\"line\": {\"color\": \"rgb(31, 118, 179)\", \"width\": 1}, \"name\": \"<undefined>:AlertCountPerHost\", \"opacity\": 0.8, \"type\": \"scatter\", \"x\": [\"2020-11-20T17:00:00+00:00\", \"2020-11-20T20:00:00+00:00\", \"2020-11-20T21:00:00+00:00\", \"2020-11-21T01:00:00+00:00\", \"2020-11-21T02:00:00+00:00\", \"2020-11-21T04:00:00+00:00\", \"2020-11-21T06:00:00+00:00\", \"2020-11-21T10:00:00+00:00\", \"2020-11-21T11:00:00+00:00\", \"2020-11-21T12:00:00+00:00\", \"2020-11-21T14:00:00+00:00\", \"2020-11-21T15:00:00+00:00\", \"2020-11-21T19:00:00+00:00\", \"2020-11-21T21:00:00+00:00\", \"2020-11-22T01:00:00+00:00\", \"2020-11-22T05:00:00+00:00\", \"2020-11-22T11:00:00+00:00\", \"2020-11-22T12:00:00+00:00\", \"2020-11-22T13:00:00+00:00\", \"2020-11-22T18:00:00+00:00\", \"2020-11-22T21:00:00+00:00\", \"2020-11-23T05:00:00+00:00\", \"2020-11-23T06:00:00+00:00\", \"2020-11-23T08:00:00+00:00\", \"2020-11-23T11:00:00+00:00\", \"2020-11-23T12:00:00+00:00\", \"2020-11-23T13:00:00+00:00\", \"2020-11-23T15:00:00+00:00\", \"2020-11-23T16:00:00+00:00\", \"2020-11-23T17:00:00+00:00\", \"2020-11-23T21:00:00+00:00\", \"2020-11-24T02:00:00+00:00\", \"2020-11-24T10:00:00+00:00\", \"2020-11-24T11:00:00+00:00\", \"2020-11-24T14:00:00+00:00\", \"2020-11-24T16:00:00+00:00\", \"2020-11-24T18:00:00+00:00\", \"2020-11-24T20:00:00+00:00\", \"2020-11-24T21:00:00+00:00\", \"2020-11-24T22:00:00+00:00\", \"2020-11-24T23:00:00+00:00\", \"2020-11-25T02:00:00+00:00\", \"2020-11-25T03:00:00+00:00\", \"2020-11-25T04:00:00+00:00\", \"2020-11-25T05:00:00+00:00\", \"2020-11-25T08:00:00+00:00\", \"2020-11-25T11:00:00+00:00\", \"2020-11-25T13:00:00+00:00\", \"2020-11-25T14:00:00+00:00\", \"2020-11-25T15:00:00+00:00\", \"2020-11-25T16:00:00+00:00\", \"2020-11-25T17:00:00+00:00\", \"2020-11-25T22:00:00+00:00\", \"2020-11-26T09:00:00+00:00\", \"2020-11-26T10:00:00+00:00\", \"2020-11-26T11:00:00+00:00\", \"2020-11-26T13:00:00+00:00\", \"2020-11-26T14:00:00+00:00\", \"2020-11-26T16:00:00+00:00\", \"2020-11-26T18:00:00+00:00\", \"2020-11-26T20:00:00+00:00\", \"2020-11-26T21:00:00+00:00\", \"2020-11-26T22:00:00+00:00\", \"2020-11-27T00:00:00+00:00\", \"2020-11-27T04:00:00+00:00\", \"2020-11-27T07:00:00+00:00\", \"2020-11-27T08:00:00+00:00\", \"2020-11-27T10:00:00+00:00\", \"2020-11-27T11:00:00+00:00\", \"2020-11-27T13:00:00+00:00\", \"2020-11-27T20:00:00+00:00\", \"2020-11-27T21:00:00+00:00\", \"2020-11-27T22:00:00+00:00\", \"2020-11-28T03:00:00+00:00\", \"2020-11-28T04:00:00+00:00\", \"2020-11-28T05:00:00+00:00\", \"2020-11-28T09:00:00+00:00\", \"2020-11-28T10:00:00+00:00\", \"2020-11-28T11:00:00+00:00\", \"2020-11-28T12:00:00+00:00\", \"2020-11-28T15:00:00+00:00\", \"2020-11-28T17:00:00+00:00\", \"2020-11-28T19:00:00+00:00\", \"2020-11-28T20:00:00+00:00\", \"2020-11-28T21:00:00+00:00\", \"2020-11-29T00:00:00+00:00\", \"2020-11-29T02:00:00+00:00\", \"2020-11-29T03:00:00+00:00\", \"2020-11-29T07:00:00+00:00\", \"2020-11-29T08:00:00+00:00\", \"2020-11-29T09:00:00+00:00\", \"2020-11-29T11:00:00+00:00\", \"2020-11-29T13:00:00+00:00\", \"2020-11-29T14:00:00+00:00\", \"2020-11-29T20:00:00+00:00\", \"2020-11-30T00:00:00+00:00\", \"2020-11-30T02:00:00+00:00\", \"2020-11-30T04:00:00+00:00\", \"2020-11-30T05:00:00+00:00\", \"2020-11-30T10:00:00+00:00\", \"2020-11-30T11:00:00+00:00\", \"2020-11-30T12:00:00+00:00\", \"2020-11-30T13:00:00+00:00\", \"2020-11-30T14:00:00+00:00\"], \"y\": [2, null, null, null, null, 2, null, null, 2, 2, null, null, null, null, null, null, 2, 2, null, null, null, null, 2, null, 2, null, null, null, 2, null, null, null, null, 2, 2, null, null, 2, null, null, null, null, null, null, null, null, 2, null, null, 2, null, null, null, null, null, 2, null, 2, null, null, null, null, null, 2, 2, null, null, null, 2, null, null, null, 2, null, null, null, null, null, 2, null, null, 2, null, null, null, null, null, null, null, null, null, 2, null, null, null, null, null, null, 2, null, 2, null, null, null]}, {\"line\": {\"color\": \"rgb(254, 127, 14)\", \"width\": 1}, \"name\": \"13.89.108.163:80:AlertCountPerHost\", \"opacity\": 0.8, \"type\": \"scatter\", \"x\": [\"2020-11-20T17:00:00+00:00\", \"2020-11-20T20:00:00+00:00\", \"2020-11-20T21:00:00+00:00\", \"2020-11-21T01:00:00+00:00\", \"2020-11-21T02:00:00+00:00\", \"2020-11-21T04:00:00+00:00\", \"2020-11-21T06:00:00+00:00\", \"2020-11-21T10:00:00+00:00\", \"2020-11-21T11:00:00+00:00\", \"2020-11-21T12:00:00+00:00\", \"2020-11-21T14:00:00+00:00\", \"2020-11-21T15:00:00+00:00\", \"2020-11-21T19:00:00+00:00\", \"2020-11-21T21:00:00+00:00\", \"2020-11-22T01:00:00+00:00\", \"2020-11-22T05:00:00+00:00\", \"2020-11-22T11:00:00+00:00\", \"2020-11-22T12:00:00+00:00\", \"2020-11-22T13:00:00+00:00\", \"2020-11-22T18:00:00+00:00\", \"2020-11-22T21:00:00+00:00\", \"2020-11-23T05:00:00+00:00\", \"2020-11-23T06:00:00+00:00\", \"2020-11-23T08:00:00+00:00\", \"2020-11-23T11:00:00+00:00\", \"2020-11-23T12:00:00+00:00\", \"2020-11-23T13:00:00+00:00\", \"2020-11-23T15:00:00+00:00\", \"2020-11-23T16:00:00+00:00\", \"2020-11-23T17:00:00+00:00\", \"2020-11-23T21:00:00+00:00\", \"2020-11-24T02:00:00+00:00\", \"2020-11-24T10:00:00+00:00\", \"2020-11-24T11:00:00+00:00\", \"2020-11-24T14:00:00+00:00\", \"2020-11-24T16:00:00+00:00\", \"2020-11-24T18:00:00+00:00\", \"2020-11-24T20:00:00+00:00\", \"2020-11-24T21:00:00+00:00\", \"2020-11-24T22:00:00+00:00\", \"2020-11-24T23:00:00+00:00\", \"2020-11-25T02:00:00+00:00\", \"2020-11-25T03:00:00+00:00\", \"2020-11-25T04:00:00+00:00\", \"2020-11-25T05:00:00+00:00\", \"2020-11-25T08:00:00+00:00\", \"2020-11-25T11:00:00+00:00\", \"2020-11-25T13:00:00+00:00\", \"2020-11-25T14:00:00+00:00\", \"2020-11-25T15:00:00+00:00\", \"2020-11-25T16:00:00+00:00\", \"2020-11-25T17:00:00+00:00\", \"2020-11-25T22:00:00+00:00\", \"2020-11-26T09:00:00+00:00\", \"2020-11-26T10:00:00+00:00\", \"2020-11-26T11:00:00+00:00\", \"2020-11-26T13:00:00+00:00\", \"2020-11-26T14:00:00+00:00\", \"2020-11-26T16:00:00+00:00\", \"2020-11-26T18:00:00+00:00\", \"2020-11-26T20:00:00+00:00\", \"2020-11-26T21:00:00+00:00\", \"2020-11-26T22:00:00+00:00\", \"2020-11-27T00:00:00+00:00\", \"2020-11-27T04:00:00+00:00\", \"2020-11-27T07:00:00+00:00\", \"2020-11-27T08:00:00+00:00\", \"2020-11-27T10:00:00+00:00\", \"2020-11-27T11:00:00+00:00\", \"2020-11-27T13:00:00+00:00\", \"2020-11-27T20:00:00+00:00\", \"2020-11-27T21:00:00+00:00\", \"2020-11-27T22:00:00+00:00\", \"2020-11-28T03:00:00+00:00\", \"2020-11-28T04:00:00+00:00\", \"2020-11-28T05:00:00+00:00\", \"2020-11-28T09:00:00+00:00\", \"2020-11-28T10:00:00+00:00\", \"2020-11-28T11:00:00+00:00\", \"2020-11-28T12:00:00+00:00\", \"2020-11-28T15:00:00+00:00\", \"2020-11-28T17:00:00+00:00\", \"2020-11-28T19:00:00+00:00\", \"2020-11-28T20:00:00+00:00\", \"2020-11-28T21:00:00+00:00\", \"2020-11-29T00:00:00+00:00\", \"2020-11-29T02:00:00+00:00\", \"2020-11-29T03:00:00+00:00\", \"2020-11-29T07:00:00+00:00\", \"2020-11-29T08:00:00+00:00\", \"2020-11-29T09:00:00+00:00\", \"2020-11-29T11:00:00+00:00\", \"2020-11-29T13:00:00+00:00\", \"2020-11-29T14:00:00+00:00\", \"2020-11-29T20:00:00+00:00\", \"2020-11-30T00:00:00+00:00\", \"2020-11-30T02:00:00+00:00\", \"2020-11-30T04:00:00+00:00\", \"2020-11-30T05:00:00+00:00\", \"2020-11-30T10:00:00+00:00\", \"2020-11-30T11:00:00+00:00\", \"2020-11-30T12:00:00+00:00\", \"2020-11-30T13:00:00+00:00\", \"2020-11-30T14:00:00+00:00\"], \"y\": [null, 8, null, 1, null, null, null, 8, null, null, null, null, null, null, 8, null, null, null, null, 8, null, null, null, 8, null, 1, null, null, null, null, 9, 1, null, null, 8, null, 1, null, null, null, null, 8, null, null, null, null, null, null, null, null, null, 8, 2, 1, 8, null, null, 3, null, 1, null, null, 2, 8, null, null, null, 2, null, 8, null, null, null, 8, null, null, null, null, null, 1, null, null, null, 8, 1, null, null, 1, null, 8, null, null, null, null, null, 8, 1, 1, null, null, null, null, 8, null]}, {\"line\": {\"color\": \"rgb(44, 160, 44)\", \"width\": 1}, \"name\": \"13.89.108.163:AlertCountPerHost\", \"opacity\": 0.8, \"type\": \"scatter\", \"x\": [\"2020-11-20T17:00:00+00:00\", \"2020-11-20T20:00:00+00:00\", \"2020-11-20T21:00:00+00:00\", \"2020-11-21T01:00:00+00:00\", \"2020-11-21T02:00:00+00:00\", \"2020-11-21T04:00:00+00:00\", \"2020-11-21T06:00:00+00:00\", \"2020-11-21T10:00:00+00:00\", \"2020-11-21T11:00:00+00:00\", \"2020-11-21T12:00:00+00:00\", \"2020-11-21T14:00:00+00:00\", \"2020-11-21T15:00:00+00:00\", \"2020-11-21T19:00:00+00:00\", \"2020-11-21T21:00:00+00:00\", \"2020-11-22T01:00:00+00:00\", \"2020-11-22T05:00:00+00:00\", \"2020-11-22T11:00:00+00:00\", \"2020-11-22T12:00:00+00:00\", \"2020-11-22T13:00:00+00:00\", \"2020-11-22T18:00:00+00:00\", \"2020-11-22T21:00:00+00:00\", \"2020-11-23T05:00:00+00:00\", \"2020-11-23T06:00:00+00:00\", \"2020-11-23T08:00:00+00:00\", \"2020-11-23T11:00:00+00:00\", \"2020-11-23T12:00:00+00:00\", \"2020-11-23T13:00:00+00:00\", \"2020-11-23T15:00:00+00:00\", \"2020-11-23T16:00:00+00:00\", \"2020-11-23T17:00:00+00:00\", \"2020-11-23T21:00:00+00:00\", \"2020-11-24T02:00:00+00:00\", \"2020-11-24T10:00:00+00:00\", \"2020-11-24T11:00:00+00:00\", \"2020-11-24T14:00:00+00:00\", \"2020-11-24T16:00:00+00:00\", \"2020-11-24T18:00:00+00:00\", \"2020-11-24T20:00:00+00:00\", \"2020-11-24T21:00:00+00:00\", \"2020-11-24T22:00:00+00:00\", \"2020-11-24T23:00:00+00:00\", \"2020-11-25T02:00:00+00:00\", \"2020-11-25T03:00:00+00:00\", \"2020-11-25T04:00:00+00:00\", \"2020-11-25T05:00:00+00:00\", \"2020-11-25T08:00:00+00:00\", \"2020-11-25T11:00:00+00:00\", \"2020-11-25T13:00:00+00:00\", \"2020-11-25T14:00:00+00:00\", \"2020-11-25T15:00:00+00:00\", \"2020-11-25T16:00:00+00:00\", \"2020-11-25T17:00:00+00:00\", \"2020-11-25T22:00:00+00:00\", \"2020-11-26T09:00:00+00:00\", \"2020-11-26T10:00:00+00:00\", \"2020-11-26T11:00:00+00:00\", \"2020-11-26T13:00:00+00:00\", \"2020-11-26T14:00:00+00:00\", \"2020-11-26T16:00:00+00:00\", \"2020-11-26T18:00:00+00:00\", \"2020-11-26T20:00:00+00:00\", \"2020-11-26T21:00:00+00:00\", \"2020-11-26T22:00:00+00:00\", \"2020-11-27T00:00:00+00:00\", \"2020-11-27T04:00:00+00:00\", \"2020-11-27T07:00:00+00:00\", \"2020-11-27T08:00:00+00:00\", \"2020-11-27T10:00:00+00:00\", \"2020-11-27T11:00:00+00:00\", \"2020-11-27T13:00:00+00:00\", \"2020-11-27T20:00:00+00:00\", \"2020-11-27T21:00:00+00:00\", \"2020-11-27T22:00:00+00:00\", \"2020-11-28T03:00:00+00:00\", \"2020-11-28T04:00:00+00:00\", \"2020-11-28T05:00:00+00:00\", \"2020-11-28T09:00:00+00:00\", \"2020-11-28T10:00:00+00:00\", \"2020-11-28T11:00:00+00:00\", \"2020-11-28T12:00:00+00:00\", \"2020-11-28T15:00:00+00:00\", \"2020-11-28T17:00:00+00:00\", \"2020-11-28T19:00:00+00:00\", \"2020-11-28T20:00:00+00:00\", \"2020-11-28T21:00:00+00:00\", \"2020-11-29T00:00:00+00:00\", \"2020-11-29T02:00:00+00:00\", \"2020-11-29T03:00:00+00:00\", \"2020-11-29T07:00:00+00:00\", \"2020-11-29T08:00:00+00:00\", \"2020-11-29T09:00:00+00:00\", \"2020-11-29T11:00:00+00:00\", \"2020-11-29T13:00:00+00:00\", \"2020-11-29T14:00:00+00:00\", \"2020-11-29T20:00:00+00:00\", \"2020-11-30T00:00:00+00:00\", \"2020-11-30T02:00:00+00:00\", \"2020-11-30T04:00:00+00:00\", \"2020-11-30T05:00:00+00:00\", \"2020-11-30T10:00:00+00:00\", \"2020-11-30T11:00:00+00:00\", \"2020-11-30T12:00:00+00:00\", \"2020-11-30T13:00:00+00:00\", \"2020-11-30T14:00:00+00:00\"], \"y\": [null, null, 2, 8, null, null, 2, null, null, null, 2, 1, null, 6, null, 2, null, 4, 1, null, 2, 2, null, 2, null, 9, 12, 1, null, 2, 10, null, 2, null, 2, 1, null, 2, 2, 2, 2, null, 6, null, 2, 3, null, 2, 2, null, null, null, null, 2, null, null, 4, null, 2, 3, 2, 1, 1, null, null, null, 2, null, null, null, null, null, null, null, 4, 2, 2, 2, null, null, 2, null, null, null, 947, null, null, null, null, 4, 2, null, 8, 2, null, null, 8, 8, null, 2, 4, 264, 998, 2]}, {\"line\": {\"color\": \"rgb(214, 39, 39)\", \"width\": 1}, \"name\": \"123.125.114.144:AlertCountPerHost\", \"opacity\": 0.8, \"type\": \"scatter\", \"x\": [\"2020-11-20T17:00:00+00:00\", \"2020-11-20T20:00:00+00:00\", \"2020-11-20T21:00:00+00:00\", \"2020-11-21T01:00:00+00:00\", \"2020-11-21T02:00:00+00:00\", \"2020-11-21T04:00:00+00:00\", \"2020-11-21T06:00:00+00:00\", \"2020-11-21T10:00:00+00:00\", \"2020-11-21T11:00:00+00:00\", \"2020-11-21T12:00:00+00:00\", \"2020-11-21T14:00:00+00:00\", \"2020-11-21T15:00:00+00:00\", \"2020-11-21T19:00:00+00:00\", \"2020-11-21T21:00:00+00:00\", \"2020-11-22T01:00:00+00:00\", \"2020-11-22T05:00:00+00:00\", \"2020-11-22T11:00:00+00:00\", \"2020-11-22T12:00:00+00:00\", \"2020-11-22T13:00:00+00:00\", \"2020-11-22T18:00:00+00:00\", \"2020-11-22T21:00:00+00:00\", \"2020-11-23T05:00:00+00:00\", \"2020-11-23T06:00:00+00:00\", \"2020-11-23T08:00:00+00:00\", \"2020-11-23T11:00:00+00:00\", \"2020-11-23T12:00:00+00:00\", \"2020-11-23T13:00:00+00:00\", \"2020-11-23T15:00:00+00:00\", \"2020-11-23T16:00:00+00:00\", \"2020-11-23T17:00:00+00:00\", \"2020-11-23T21:00:00+00:00\", \"2020-11-24T02:00:00+00:00\", \"2020-11-24T10:00:00+00:00\", \"2020-11-24T11:00:00+00:00\", \"2020-11-24T14:00:00+00:00\", \"2020-11-24T16:00:00+00:00\", \"2020-11-24T18:00:00+00:00\", \"2020-11-24T20:00:00+00:00\", \"2020-11-24T21:00:00+00:00\", \"2020-11-24T22:00:00+00:00\", \"2020-11-24T23:00:00+00:00\", \"2020-11-25T02:00:00+00:00\", \"2020-11-25T03:00:00+00:00\", \"2020-11-25T04:00:00+00:00\", \"2020-11-25T05:00:00+00:00\", \"2020-11-25T08:00:00+00:00\", \"2020-11-25T11:00:00+00:00\", \"2020-11-25T13:00:00+00:00\", \"2020-11-25T14:00:00+00:00\", \"2020-11-25T15:00:00+00:00\", \"2020-11-25T16:00:00+00:00\", \"2020-11-25T17:00:00+00:00\", \"2020-11-25T22:00:00+00:00\", \"2020-11-26T09:00:00+00:00\", \"2020-11-26T10:00:00+00:00\", \"2020-11-26T11:00:00+00:00\", \"2020-11-26T13:00:00+00:00\", \"2020-11-26T14:00:00+00:00\", \"2020-11-26T16:00:00+00:00\", \"2020-11-26T18:00:00+00:00\", \"2020-11-26T20:00:00+00:00\", \"2020-11-26T21:00:00+00:00\", \"2020-11-26T22:00:00+00:00\", \"2020-11-27T00:00:00+00:00\", \"2020-11-27T04:00:00+00:00\", \"2020-11-27T07:00:00+00:00\", \"2020-11-27T08:00:00+00:00\", \"2020-11-27T10:00:00+00:00\", \"2020-11-27T11:00:00+00:00\", \"2020-11-27T13:00:00+00:00\", \"2020-11-27T20:00:00+00:00\", \"2020-11-27T21:00:00+00:00\", \"2020-11-27T22:00:00+00:00\", \"2020-11-28T03:00:00+00:00\", \"2020-11-28T04:00:00+00:00\", \"2020-11-28T05:00:00+00:00\", \"2020-11-28T09:00:00+00:00\", \"2020-11-28T10:00:00+00:00\", \"2020-11-28T11:00:00+00:00\", \"2020-11-28T12:00:00+00:00\", \"2020-11-28T15:00:00+00:00\", \"2020-11-28T17:00:00+00:00\", \"2020-11-28T19:00:00+00:00\", \"2020-11-28T20:00:00+00:00\", \"2020-11-28T21:00:00+00:00\", \"2020-11-29T00:00:00+00:00\", \"2020-11-29T02:00:00+00:00\", \"2020-11-29T03:00:00+00:00\", \"2020-11-29T07:00:00+00:00\", \"2020-11-29T08:00:00+00:00\", \"2020-11-29T09:00:00+00:00\", \"2020-11-29T11:00:00+00:00\", \"2020-11-29T13:00:00+00:00\", \"2020-11-29T14:00:00+00:00\", \"2020-11-29T20:00:00+00:00\", \"2020-11-30T00:00:00+00:00\", \"2020-11-30T02:00:00+00:00\", \"2020-11-30T04:00:00+00:00\", \"2020-11-30T05:00:00+00:00\", \"2020-11-30T10:00:00+00:00\", \"2020-11-30T11:00:00+00:00\", \"2020-11-30T12:00:00+00:00\", \"2020-11-30T13:00:00+00:00\", \"2020-11-30T14:00:00+00:00\"], \"y\": [null, null, null, 1, null, null, null, null, null, null, null, null, null, null, null, null, null, null, null, null, null, null, null, null, null, null, null, null, null, null, null, null, null, null, null, null, null, null, null, null, null, null, null, null, null, null, null, null, null, null, null, null, null, null, null, null, null, null, null, null, null, null, null, null, null, null, null, null, null, null, null, null, null, null, null, null, null, null, null, null, null, null, null, null, null, null, null, null, null, null, null, null, null, null, null, null, null, null, null, null, null, null, null, null]}, {\"line\": {\"color\": \"rgb(147, 102, 189)\", \"width\": 1}, \"name\": \":AlertCountPerHost\", \"opacity\": 0.8, \"type\": \"scatter\", \"x\": [\"2020-11-20T17:00:00+00:00\", \"2020-11-20T20:00:00+00:00\", \"2020-11-20T21:00:00+00:00\", \"2020-11-21T01:00:00+00:00\", \"2020-11-21T02:00:00+00:00\", \"2020-11-21T04:00:00+00:00\", \"2020-11-21T06:00:00+00:00\", \"2020-11-21T10:00:00+00:00\", \"2020-11-21T11:00:00+00:00\", \"2020-11-21T12:00:00+00:00\", \"2020-11-21T14:00:00+00:00\", \"2020-11-21T15:00:00+00:00\", \"2020-11-21T19:00:00+00:00\", \"2020-11-21T21:00:00+00:00\", \"2020-11-22T01:00:00+00:00\", \"2020-11-22T05:00:00+00:00\", \"2020-11-22T11:00:00+00:00\", \"2020-11-22T12:00:00+00:00\", \"2020-11-22T13:00:00+00:00\", \"2020-11-22T18:00:00+00:00\", \"2020-11-22T21:00:00+00:00\", \"2020-11-23T05:00:00+00:00\", \"2020-11-23T06:00:00+00:00\", \"2020-11-23T08:00:00+00:00\", \"2020-11-23T11:00:00+00:00\", \"2020-11-23T12:00:00+00:00\", \"2020-11-23T13:00:00+00:00\", \"2020-11-23T15:00:00+00:00\", \"2020-11-23T16:00:00+00:00\", \"2020-11-23T17:00:00+00:00\", \"2020-11-23T21:00:00+00:00\", \"2020-11-24T02:00:00+00:00\", \"2020-11-24T10:00:00+00:00\", \"2020-11-24T11:00:00+00:00\", \"2020-11-24T14:00:00+00:00\", \"2020-11-24T16:00:00+00:00\", \"2020-11-24T18:00:00+00:00\", \"2020-11-24T20:00:00+00:00\", \"2020-11-24T21:00:00+00:00\", \"2020-11-24T22:00:00+00:00\", \"2020-11-24T23:00:00+00:00\", \"2020-11-25T02:00:00+00:00\", \"2020-11-25T03:00:00+00:00\", \"2020-11-25T04:00:00+00:00\", \"2020-11-25T05:00:00+00:00\", \"2020-11-25T08:00:00+00:00\", \"2020-11-25T11:00:00+00:00\", \"2020-11-25T13:00:00+00:00\", \"2020-11-25T14:00:00+00:00\", \"2020-11-25T15:00:00+00:00\", \"2020-11-25T16:00:00+00:00\", \"2020-11-25T17:00:00+00:00\", \"2020-11-25T22:00:00+00:00\", \"2020-11-26T09:00:00+00:00\", \"2020-11-26T10:00:00+00:00\", \"2020-11-26T11:00:00+00:00\", \"2020-11-26T13:00:00+00:00\", \"2020-11-26T14:00:00+00:00\", \"2020-11-26T16:00:00+00:00\", \"2020-11-26T18:00:00+00:00\", \"2020-11-26T20:00:00+00:00\", \"2020-11-26T21:00:00+00:00\", \"2020-11-26T22:00:00+00:00\", \"2020-11-27T00:00:00+00:00\", \"2020-11-27T04:00:00+00:00\", \"2020-11-27T07:00:00+00:00\", \"2020-11-27T08:00:00+00:00\", \"2020-11-27T10:00:00+00:00\", \"2020-11-27T11:00:00+00:00\", \"2020-11-27T13:00:00+00:00\", \"2020-11-27T20:00:00+00:00\", \"2020-11-27T21:00:00+00:00\", \"2020-11-27T22:00:00+00:00\", \"2020-11-28T03:00:00+00:00\", \"2020-11-28T04:00:00+00:00\", \"2020-11-28T05:00:00+00:00\", \"2020-11-28T09:00:00+00:00\", \"2020-11-28T10:00:00+00:00\", \"2020-11-28T11:00:00+00:00\", \"2020-11-28T12:00:00+00:00\", \"2020-11-28T15:00:00+00:00\", \"2020-11-28T17:00:00+00:00\", \"2020-11-28T19:00:00+00:00\", \"2020-11-28T20:00:00+00:00\", \"2020-11-28T21:00:00+00:00\", \"2020-11-29T00:00:00+00:00\", \"2020-11-29T02:00:00+00:00\", \"2020-11-29T03:00:00+00:00\", \"2020-11-29T07:00:00+00:00\", \"2020-11-29T08:00:00+00:00\", \"2020-11-29T09:00:00+00:00\", \"2020-11-29T11:00:00+00:00\", \"2020-11-29T13:00:00+00:00\", \"2020-11-29T14:00:00+00:00\", \"2020-11-29T20:00:00+00:00\", \"2020-11-30T00:00:00+00:00\", \"2020-11-30T02:00:00+00:00\", \"2020-11-30T04:00:00+00:00\", \"2020-11-30T05:00:00+00:00\", \"2020-11-30T10:00:00+00:00\", \"2020-11-30T11:00:00+00:00\", \"2020-11-30T12:00:00+00:00\", \"2020-11-30T13:00:00+00:00\", \"2020-11-30T14:00:00+00:00\"], \"y\": [null, null, null, null, 1, null, null, null, null, null, null, null, null, null, null, null, null, null, null, null, null, null, null, null, null, null, null, null, null, null, null, null, null, null, null, null, null, null, null, null, null, null, null, null, null, null, null, null, null, null, 1, null, null, null, null, null, null, null, null, null, null, null, null, null, null, 1, null, null, null, null, null, null, null, null, null, null, null, null, null, null, null, null, 1, null, null, 1, 1, null, null, null, null, null, null, null, 1, null, null, 1, null, null, 1, null, null, null]}, {\"line\": {\"color\": \"rgb(140, 86, 74)\", \"width\": 1}, \"name\": \"127.0.0.1:AlertCountPerHost\", \"opacity\": 0.8, \"type\": \"scatter\", \"x\": [\"2020-11-20T17:00:00+00:00\", \"2020-11-20T20:00:00+00:00\", \"2020-11-20T21:00:00+00:00\", \"2020-11-21T01:00:00+00:00\", \"2020-11-21T02:00:00+00:00\", \"2020-11-21T04:00:00+00:00\", \"2020-11-21T06:00:00+00:00\", \"2020-11-21T10:00:00+00:00\", \"2020-11-21T11:00:00+00:00\", \"2020-11-21T12:00:00+00:00\", \"2020-11-21T14:00:00+00:00\", \"2020-11-21T15:00:00+00:00\", \"2020-11-21T19:00:00+00:00\", \"2020-11-21T21:00:00+00:00\", \"2020-11-22T01:00:00+00:00\", \"2020-11-22T05:00:00+00:00\", \"2020-11-22T11:00:00+00:00\", \"2020-11-22T12:00:00+00:00\", \"2020-11-22T13:00:00+00:00\", \"2020-11-22T18:00:00+00:00\", \"2020-11-22T21:00:00+00:00\", \"2020-11-23T05:00:00+00:00\", \"2020-11-23T06:00:00+00:00\", \"2020-11-23T08:00:00+00:00\", \"2020-11-23T11:00:00+00:00\", \"2020-11-23T12:00:00+00:00\", \"2020-11-23T13:00:00+00:00\", \"2020-11-23T15:00:00+00:00\", \"2020-11-23T16:00:00+00:00\", \"2020-11-23T17:00:00+00:00\", \"2020-11-23T21:00:00+00:00\", \"2020-11-24T02:00:00+00:00\", \"2020-11-24T10:00:00+00:00\", \"2020-11-24T11:00:00+00:00\", \"2020-11-24T14:00:00+00:00\", \"2020-11-24T16:00:00+00:00\", \"2020-11-24T18:00:00+00:00\", \"2020-11-24T20:00:00+00:00\", \"2020-11-24T21:00:00+00:00\", \"2020-11-24T22:00:00+00:00\", \"2020-11-24T23:00:00+00:00\", \"2020-11-25T02:00:00+00:00\", \"2020-11-25T03:00:00+00:00\", \"2020-11-25T04:00:00+00:00\", \"2020-11-25T05:00:00+00:00\", \"2020-11-25T08:00:00+00:00\", \"2020-11-25T11:00:00+00:00\", \"2020-11-25T13:00:00+00:00\", \"2020-11-25T14:00:00+00:00\", \"2020-11-25T15:00:00+00:00\", \"2020-11-25T16:00:00+00:00\", \"2020-11-25T17:00:00+00:00\", \"2020-11-25T22:00:00+00:00\", \"2020-11-26T09:00:00+00:00\", \"2020-11-26T10:00:00+00:00\", \"2020-11-26T11:00:00+00:00\", \"2020-11-26T13:00:00+00:00\", \"2020-11-26T14:00:00+00:00\", \"2020-11-26T16:00:00+00:00\", \"2020-11-26T18:00:00+00:00\", \"2020-11-26T20:00:00+00:00\", \"2020-11-26T21:00:00+00:00\", \"2020-11-26T22:00:00+00:00\", \"2020-11-27T00:00:00+00:00\", \"2020-11-27T04:00:00+00:00\", \"2020-11-27T07:00:00+00:00\", \"2020-11-27T08:00:00+00:00\", \"2020-11-27T10:00:00+00:00\", \"2020-11-27T11:00:00+00:00\", \"2020-11-27T13:00:00+00:00\", \"2020-11-27T20:00:00+00:00\", \"2020-11-27T21:00:00+00:00\", \"2020-11-27T22:00:00+00:00\", \"2020-11-28T03:00:00+00:00\", \"2020-11-28T04:00:00+00:00\", \"2020-11-28T05:00:00+00:00\", \"2020-11-28T09:00:00+00:00\", \"2020-11-28T10:00:00+00:00\", \"2020-11-28T11:00:00+00:00\", \"2020-11-28T12:00:00+00:00\", \"2020-11-28T15:00:00+00:00\", \"2020-11-28T17:00:00+00:00\", \"2020-11-28T19:00:00+00:00\", \"2020-11-28T20:00:00+00:00\", \"2020-11-28T21:00:00+00:00\", \"2020-11-29T00:00:00+00:00\", \"2020-11-29T02:00:00+00:00\", \"2020-11-29T03:00:00+00:00\", \"2020-11-29T07:00:00+00:00\", \"2020-11-29T08:00:00+00:00\", \"2020-11-29T09:00:00+00:00\", \"2020-11-29T11:00:00+00:00\", \"2020-11-29T13:00:00+00:00\", \"2020-11-29T14:00:00+00:00\", \"2020-11-29T20:00:00+00:00\", \"2020-11-30T00:00:00+00:00\", \"2020-11-30T02:00:00+00:00\", \"2020-11-30T04:00:00+00:00\", \"2020-11-30T05:00:00+00:00\", \"2020-11-30T10:00:00+00:00\", \"2020-11-30T11:00:00+00:00\", \"2020-11-30T12:00:00+00:00\", \"2020-11-30T13:00:00+00:00\", \"2020-11-30T14:00:00+00:00\"], \"y\": [null, null, null, null, null, null, null, null, null, null, null, null, 1, null, null, null, null, null, null, null, null, null, null, null, null, null, null, null, null, null, null, null, null, null, null, null, 2, null, null, null, null, null, null, 2, null, null, null, null, null, null, null, null, null, null, null, null, null, null, null, null, null, null, null, null, null, null, null, null, null, null, 1, null, null, null, null, null, null, null, null, null, null, null, null, null, null, null, null, null, null, null, null, null, null, null, null, null, null, null, null, null, null, null, null, null]}, {\"line\": {\"color\": \"rgb(227, 119, 193)\", \"width\": 1}, \"name\": \"127.0.0.1:80:AlertCountPerHost\", \"opacity\": 0.8, \"type\": \"scatter\", \"x\": [\"2020-11-20T17:00:00+00:00\", \"2020-11-20T20:00:00+00:00\", \"2020-11-20T21:00:00+00:00\", \"2020-11-21T01:00:00+00:00\", \"2020-11-21T02:00:00+00:00\", \"2020-11-21T04:00:00+00:00\", \"2020-11-21T06:00:00+00:00\", \"2020-11-21T10:00:00+00:00\", \"2020-11-21T11:00:00+00:00\", \"2020-11-21T12:00:00+00:00\", \"2020-11-21T14:00:00+00:00\", \"2020-11-21T15:00:00+00:00\", \"2020-11-21T19:00:00+00:00\", \"2020-11-21T21:00:00+00:00\", \"2020-11-22T01:00:00+00:00\", \"2020-11-22T05:00:00+00:00\", \"2020-11-22T11:00:00+00:00\", \"2020-11-22T12:00:00+00:00\", \"2020-11-22T13:00:00+00:00\", \"2020-11-22T18:00:00+00:00\", \"2020-11-22T21:00:00+00:00\", \"2020-11-23T05:00:00+00:00\", \"2020-11-23T06:00:00+00:00\", \"2020-11-23T08:00:00+00:00\", \"2020-11-23T11:00:00+00:00\", \"2020-11-23T12:00:00+00:00\", \"2020-11-23T13:00:00+00:00\", \"2020-11-23T15:00:00+00:00\", \"2020-11-23T16:00:00+00:00\", \"2020-11-23T17:00:00+00:00\", \"2020-11-23T21:00:00+00:00\", \"2020-11-24T02:00:00+00:00\", \"2020-11-24T10:00:00+00:00\", \"2020-11-24T11:00:00+00:00\", \"2020-11-24T14:00:00+00:00\", \"2020-11-24T16:00:00+00:00\", \"2020-11-24T18:00:00+00:00\", \"2020-11-24T20:00:00+00:00\", \"2020-11-24T21:00:00+00:00\", \"2020-11-24T22:00:00+00:00\", \"2020-11-24T23:00:00+00:00\", \"2020-11-25T02:00:00+00:00\", \"2020-11-25T03:00:00+00:00\", \"2020-11-25T04:00:00+00:00\", \"2020-11-25T05:00:00+00:00\", \"2020-11-25T08:00:00+00:00\", \"2020-11-25T11:00:00+00:00\", \"2020-11-25T13:00:00+00:00\", \"2020-11-25T14:00:00+00:00\", \"2020-11-25T15:00:00+00:00\", \"2020-11-25T16:00:00+00:00\", \"2020-11-25T17:00:00+00:00\", \"2020-11-25T22:00:00+00:00\", \"2020-11-26T09:00:00+00:00\", \"2020-11-26T10:00:00+00:00\", \"2020-11-26T11:00:00+00:00\", \"2020-11-26T13:00:00+00:00\", \"2020-11-26T14:00:00+00:00\", \"2020-11-26T16:00:00+00:00\", \"2020-11-26T18:00:00+00:00\", \"2020-11-26T20:00:00+00:00\", \"2020-11-26T21:00:00+00:00\", \"2020-11-26T22:00:00+00:00\", \"2020-11-27T00:00:00+00:00\", \"2020-11-27T04:00:00+00:00\", \"2020-11-27T07:00:00+00:00\", \"2020-11-27T08:00:00+00:00\", \"2020-11-27T10:00:00+00:00\", \"2020-11-27T11:00:00+00:00\", \"2020-11-27T13:00:00+00:00\", \"2020-11-27T20:00:00+00:00\", \"2020-11-27T21:00:00+00:00\", \"2020-11-27T22:00:00+00:00\", \"2020-11-28T03:00:00+00:00\", \"2020-11-28T04:00:00+00:00\", \"2020-11-28T05:00:00+00:00\", \"2020-11-28T09:00:00+00:00\", \"2020-11-28T10:00:00+00:00\", \"2020-11-28T11:00:00+00:00\", \"2020-11-28T12:00:00+00:00\", \"2020-11-28T15:00:00+00:00\", \"2020-11-28T17:00:00+00:00\", \"2020-11-28T19:00:00+00:00\", \"2020-11-28T20:00:00+00:00\", \"2020-11-28T21:00:00+00:00\", \"2020-11-29T00:00:00+00:00\", \"2020-11-29T02:00:00+00:00\", \"2020-11-29T03:00:00+00:00\", \"2020-11-29T07:00:00+00:00\", \"2020-11-29T08:00:00+00:00\", \"2020-11-29T09:00:00+00:00\", \"2020-11-29T11:00:00+00:00\", \"2020-11-29T13:00:00+00:00\", \"2020-11-29T14:00:00+00:00\", \"2020-11-29T20:00:00+00:00\", \"2020-11-30T00:00:00+00:00\", \"2020-11-30T02:00:00+00:00\", \"2020-11-30T04:00:00+00:00\", \"2020-11-30T05:00:00+00:00\", \"2020-11-30T10:00:00+00:00\", \"2020-11-30T11:00:00+00:00\", \"2020-11-30T12:00:00+00:00\", \"2020-11-30T13:00:00+00:00\", \"2020-11-30T14:00:00+00:00\"], \"y\": [null, null, null, null, null, null, null, null, null, null, null, null, null, null, null, null, null, null, null, null, null, null, null, null, null, null, null, null, null, null, null, null, null, null, null, null, null, null, null, null, null, null, null, null, null, null, null, null, null, null, null, null, null, null, null, 1, null, null, null, null, null, null, null, null, null, null, null, null, null, null, null, null, null, null, null, null, null, null, null, null, null, null, null, null, null, null, null, null, 2, null, null, null, null, null, null, null, null, null, null, null, null, null, null, null]}, {\"line\": {\"color\": \"rgb(127, 127, 127)\", \"width\": 1}, \"name\": \"127.0.0.1:8080:AlertCountPerHost\", \"opacity\": 0.8, \"type\": \"scatter\", \"x\": [\"2020-11-20T17:00:00+00:00\", \"2020-11-20T20:00:00+00:00\", \"2020-11-20T21:00:00+00:00\", \"2020-11-21T01:00:00+00:00\", \"2020-11-21T02:00:00+00:00\", \"2020-11-21T04:00:00+00:00\", \"2020-11-21T06:00:00+00:00\", \"2020-11-21T10:00:00+00:00\", \"2020-11-21T11:00:00+00:00\", \"2020-11-21T12:00:00+00:00\", \"2020-11-21T14:00:00+00:00\", \"2020-11-21T15:00:00+00:00\", \"2020-11-21T19:00:00+00:00\", \"2020-11-21T21:00:00+00:00\", \"2020-11-22T01:00:00+00:00\", \"2020-11-22T05:00:00+00:00\", \"2020-11-22T11:00:00+00:00\", \"2020-11-22T12:00:00+00:00\", \"2020-11-22T13:00:00+00:00\", \"2020-11-22T18:00:00+00:00\", \"2020-11-22T21:00:00+00:00\", \"2020-11-23T05:00:00+00:00\", \"2020-11-23T06:00:00+00:00\", \"2020-11-23T08:00:00+00:00\", \"2020-11-23T11:00:00+00:00\", \"2020-11-23T12:00:00+00:00\", \"2020-11-23T13:00:00+00:00\", \"2020-11-23T15:00:00+00:00\", \"2020-11-23T16:00:00+00:00\", \"2020-11-23T17:00:00+00:00\", \"2020-11-23T21:00:00+00:00\", \"2020-11-24T02:00:00+00:00\", \"2020-11-24T10:00:00+00:00\", \"2020-11-24T11:00:00+00:00\", \"2020-11-24T14:00:00+00:00\", \"2020-11-24T16:00:00+00:00\", \"2020-11-24T18:00:00+00:00\", \"2020-11-24T20:00:00+00:00\", \"2020-11-24T21:00:00+00:00\", \"2020-11-24T22:00:00+00:00\", \"2020-11-24T23:00:00+00:00\", \"2020-11-25T02:00:00+00:00\", \"2020-11-25T03:00:00+00:00\", \"2020-11-25T04:00:00+00:00\", \"2020-11-25T05:00:00+00:00\", \"2020-11-25T08:00:00+00:00\", \"2020-11-25T11:00:00+00:00\", \"2020-11-25T13:00:00+00:00\", \"2020-11-25T14:00:00+00:00\", \"2020-11-25T15:00:00+00:00\", \"2020-11-25T16:00:00+00:00\", \"2020-11-25T17:00:00+00:00\", \"2020-11-25T22:00:00+00:00\", \"2020-11-26T09:00:00+00:00\", \"2020-11-26T10:00:00+00:00\", \"2020-11-26T11:00:00+00:00\", \"2020-11-26T13:00:00+00:00\", \"2020-11-26T14:00:00+00:00\", \"2020-11-26T16:00:00+00:00\", \"2020-11-26T18:00:00+00:00\", \"2020-11-26T20:00:00+00:00\", \"2020-11-26T21:00:00+00:00\", \"2020-11-26T22:00:00+00:00\", \"2020-11-27T00:00:00+00:00\", \"2020-11-27T04:00:00+00:00\", \"2020-11-27T07:00:00+00:00\", \"2020-11-27T08:00:00+00:00\", \"2020-11-27T10:00:00+00:00\", \"2020-11-27T11:00:00+00:00\", \"2020-11-27T13:00:00+00:00\", \"2020-11-27T20:00:00+00:00\", \"2020-11-27T21:00:00+00:00\", \"2020-11-27T22:00:00+00:00\", \"2020-11-28T03:00:00+00:00\", \"2020-11-28T04:00:00+00:00\", \"2020-11-28T05:00:00+00:00\", \"2020-11-28T09:00:00+00:00\", \"2020-11-28T10:00:00+00:00\", \"2020-11-28T11:00:00+00:00\", \"2020-11-28T12:00:00+00:00\", \"2020-11-28T15:00:00+00:00\", \"2020-11-28T17:00:00+00:00\", \"2020-11-28T19:00:00+00:00\", \"2020-11-28T20:00:00+00:00\", \"2020-11-28T21:00:00+00:00\", \"2020-11-29T00:00:00+00:00\", \"2020-11-29T02:00:00+00:00\", \"2020-11-29T03:00:00+00:00\", \"2020-11-29T07:00:00+00:00\", \"2020-11-29T08:00:00+00:00\", \"2020-11-29T09:00:00+00:00\", \"2020-11-29T11:00:00+00:00\", \"2020-11-29T13:00:00+00:00\", \"2020-11-29T14:00:00+00:00\", \"2020-11-29T20:00:00+00:00\", \"2020-11-30T00:00:00+00:00\", \"2020-11-30T02:00:00+00:00\", \"2020-11-30T04:00:00+00:00\", \"2020-11-30T05:00:00+00:00\", \"2020-11-30T10:00:00+00:00\", \"2020-11-30T11:00:00+00:00\", \"2020-11-30T12:00:00+00:00\", \"2020-11-30T13:00:00+00:00\", \"2020-11-30T14:00:00+00:00\"], \"y\": [null, null, null, null, null, null, null, null, null, null, null, null, null, null, null, null, null, null, null, null, null, null, null, null, null, null, null, null, null, null, null, null, null, null, null, null, null, null, null, null, null, null, null, null, null, null, null, null, null, null, null, null, null, null, null, null, 4, null, null, null, null, null, null, null, null, null, null, null, null, null, null, null, null, 2, null, null, null, null, null, null, null, null, null, null, null, null, null, null, null, null, null, null, null, null, null, null, null, null, null, null, null, null, null, null]}, {\"line\": {\"color\": \"rgb(188, 189, 33)\", \"width\": 1}, \"name\": \"112.124.42.80:63435:AlertCountPerHost\", \"opacity\": 0.8, \"type\": \"scatter\", \"x\": [\"2020-11-20T17:00:00+00:00\", \"2020-11-20T20:00:00+00:00\", \"2020-11-20T21:00:00+00:00\", \"2020-11-21T01:00:00+00:00\", \"2020-11-21T02:00:00+00:00\", \"2020-11-21T04:00:00+00:00\", \"2020-11-21T06:00:00+00:00\", \"2020-11-21T10:00:00+00:00\", \"2020-11-21T11:00:00+00:00\", \"2020-11-21T12:00:00+00:00\", \"2020-11-21T14:00:00+00:00\", \"2020-11-21T15:00:00+00:00\", \"2020-11-21T19:00:00+00:00\", \"2020-11-21T21:00:00+00:00\", \"2020-11-22T01:00:00+00:00\", \"2020-11-22T05:00:00+00:00\", \"2020-11-22T11:00:00+00:00\", \"2020-11-22T12:00:00+00:00\", \"2020-11-22T13:00:00+00:00\", \"2020-11-22T18:00:00+00:00\", \"2020-11-22T21:00:00+00:00\", \"2020-11-23T05:00:00+00:00\", \"2020-11-23T06:00:00+00:00\", \"2020-11-23T08:00:00+00:00\", \"2020-11-23T11:00:00+00:00\", \"2020-11-23T12:00:00+00:00\", \"2020-11-23T13:00:00+00:00\", \"2020-11-23T15:00:00+00:00\", \"2020-11-23T16:00:00+00:00\", \"2020-11-23T17:00:00+00:00\", \"2020-11-23T21:00:00+00:00\", \"2020-11-24T02:00:00+00:00\", \"2020-11-24T10:00:00+00:00\", \"2020-11-24T11:00:00+00:00\", \"2020-11-24T14:00:00+00:00\", \"2020-11-24T16:00:00+00:00\", \"2020-11-24T18:00:00+00:00\", \"2020-11-24T20:00:00+00:00\", \"2020-11-24T21:00:00+00:00\", \"2020-11-24T22:00:00+00:00\", \"2020-11-24T23:00:00+00:00\", \"2020-11-25T02:00:00+00:00\", \"2020-11-25T03:00:00+00:00\", \"2020-11-25T04:00:00+00:00\", \"2020-11-25T05:00:00+00:00\", \"2020-11-25T08:00:00+00:00\", \"2020-11-25T11:00:00+00:00\", \"2020-11-25T13:00:00+00:00\", \"2020-11-25T14:00:00+00:00\", \"2020-11-25T15:00:00+00:00\", \"2020-11-25T16:00:00+00:00\", \"2020-11-25T17:00:00+00:00\", \"2020-11-25T22:00:00+00:00\", \"2020-11-26T09:00:00+00:00\", \"2020-11-26T10:00:00+00:00\", \"2020-11-26T11:00:00+00:00\", \"2020-11-26T13:00:00+00:00\", \"2020-11-26T14:00:00+00:00\", \"2020-11-26T16:00:00+00:00\", \"2020-11-26T18:00:00+00:00\", \"2020-11-26T20:00:00+00:00\", \"2020-11-26T21:00:00+00:00\", \"2020-11-26T22:00:00+00:00\", \"2020-11-27T00:00:00+00:00\", \"2020-11-27T04:00:00+00:00\", \"2020-11-27T07:00:00+00:00\", \"2020-11-27T08:00:00+00:00\", \"2020-11-27T10:00:00+00:00\", \"2020-11-27T11:00:00+00:00\", \"2020-11-27T13:00:00+00:00\", \"2020-11-27T20:00:00+00:00\", \"2020-11-27T21:00:00+00:00\", \"2020-11-27T22:00:00+00:00\", \"2020-11-28T03:00:00+00:00\", \"2020-11-28T04:00:00+00:00\", \"2020-11-28T05:00:00+00:00\", \"2020-11-28T09:00:00+00:00\", \"2020-11-28T10:00:00+00:00\", \"2020-11-28T11:00:00+00:00\", \"2020-11-28T12:00:00+00:00\", \"2020-11-28T15:00:00+00:00\", \"2020-11-28T17:00:00+00:00\", \"2020-11-28T19:00:00+00:00\", \"2020-11-28T20:00:00+00:00\", \"2020-11-28T21:00:00+00:00\", \"2020-11-29T00:00:00+00:00\", \"2020-11-29T02:00:00+00:00\", \"2020-11-29T03:00:00+00:00\", \"2020-11-29T07:00:00+00:00\", \"2020-11-29T08:00:00+00:00\", \"2020-11-29T09:00:00+00:00\", \"2020-11-29T11:00:00+00:00\", \"2020-11-29T13:00:00+00:00\", \"2020-11-29T14:00:00+00:00\", \"2020-11-29T20:00:00+00:00\", \"2020-11-30T00:00:00+00:00\", \"2020-11-30T02:00:00+00:00\", \"2020-11-30T04:00:00+00:00\", \"2020-11-30T05:00:00+00:00\", \"2020-11-30T10:00:00+00:00\", \"2020-11-30T11:00:00+00:00\", \"2020-11-30T12:00:00+00:00\", \"2020-11-30T13:00:00+00:00\", \"2020-11-30T14:00:00+00:00\"], \"y\": [null, null, null, null, null, null, null, null, null, null, null, null, null, null, null, null, null, null, null, null, null, null, null, null, null, null, null, null, null, null, null, null, null, null, null, null, null, null, null, null, null, null, null, null, null, null, null, null, null, null, null, null, null, null, null, null, null, null, null, null, null, null, null, null, null, null, null, null, null, null, null, 1, null, null, null, null, null, null, null, null, null, null, null, null, null, null, null, null, null, null, null, null, null, null, null, null, null, null, null, null, null, null, null, null]}],                        {\"showlegend\": true, \"template\": {\"data\": {\"bar\": [{\"error_x\": {\"color\": \"#2a3f5f\"}, \"error_y\": {\"color\": \"#2a3f5f\"}, \"marker\": {\"line\": {\"color\": \"#E5ECF6\", \"width\": 0.5}}, \"type\": \"bar\"}], \"barpolar\": [{\"marker\": {\"line\": {\"color\": \"#E5ECF6\", \"width\": 0.5}}, \"type\": \"barpolar\"}], \"carpet\": [{\"aaxis\": {\"endlinecolor\": \"#2a3f5f\", \"gridcolor\": \"white\", \"linecolor\": \"white\", \"minorgridcolor\": \"white\", \"startlinecolor\": \"#2a3f5f\"}, \"baxis\": {\"endlinecolor\": \"#2a3f5f\", \"gridcolor\": \"white\", \"linecolor\": \"white\", \"minorgridcolor\": \"white\", \"startlinecolor\": \"#2a3f5f\"}, \"type\": \"carpet\"}], \"choropleth\": [{\"colorbar\": {\"outlinewidth\": 0, \"ticks\": \"\"}, \"type\": \"choropleth\"}], \"contour\": [{\"colorbar\": {\"outlinewidth\": 0, \"ticks\": \"\"}, \"colorscale\": [[0.0, \"#0d0887\"], [0.1111111111111111, \"#46039f\"], [0.2222222222222222, \"#7201a8\"], [0.3333333333333333, \"#9c179e\"], [0.4444444444444444, \"#bd3786\"], [0.5555555555555556, \"#d8576b\"], [0.6666666666666666, \"#ed7953\"], [0.7777777777777778, \"#fb9f3a\"], [0.8888888888888888, \"#fdca26\"], [1.0, \"#f0f921\"]], \"type\": \"contour\"}], \"contourcarpet\": [{\"colorbar\": {\"outlinewidth\": 0, \"ticks\": \"\"}, \"type\": \"contourcarpet\"}], \"heatmap\": [{\"colorbar\": {\"outlinewidth\": 0, \"ticks\": \"\"}, \"colorscale\": [[0.0, \"#0d0887\"], [0.1111111111111111, \"#46039f\"], [0.2222222222222222, \"#7201a8\"], [0.3333333333333333, \"#9c179e\"], [0.4444444444444444, \"#bd3786\"], [0.5555555555555556, \"#d8576b\"], [0.6666666666666666, \"#ed7953\"], [0.7777777777777778, \"#fb9f3a\"], [0.8888888888888888, \"#fdca26\"], [1.0, \"#f0f921\"]], \"type\": \"heatmap\"}], \"heatmapgl\": [{\"colorbar\": {\"outlinewidth\": 0, \"ticks\": \"\"}, \"colorscale\": [[0.0, \"#0d0887\"], [0.1111111111111111, \"#46039f\"], [0.2222222222222222, \"#7201a8\"], [0.3333333333333333, \"#9c179e\"], [0.4444444444444444, \"#bd3786\"], [0.5555555555555556, \"#d8576b\"], [0.6666666666666666, \"#ed7953\"], [0.7777777777777778, \"#fb9f3a\"], [0.8888888888888888, \"#fdca26\"], [1.0, \"#f0f921\"]], \"type\": \"heatmapgl\"}], \"histogram\": [{\"marker\": {\"colorbar\": {\"outlinewidth\": 0, \"ticks\": \"\"}}, \"type\": \"histogram\"}], \"histogram2d\": [{\"colorbar\": {\"outlinewidth\": 0, \"ticks\": \"\"}, \"colorscale\": [[0.0, \"#0d0887\"], [0.1111111111111111, \"#46039f\"], [0.2222222222222222, \"#7201a8\"], [0.3333333333333333, \"#9c179e\"], [0.4444444444444444, \"#bd3786\"], [0.5555555555555556, \"#d8576b\"], [0.6666666666666666, \"#ed7953\"], [0.7777777777777778, \"#fb9f3a\"], [0.8888888888888888, \"#fdca26\"], [1.0, \"#f0f921\"]], \"type\": \"histogram2d\"}], \"histogram2dcontour\": [{\"colorbar\": {\"outlinewidth\": 0, \"ticks\": \"\"}, \"colorscale\": [[0.0, \"#0d0887\"], [0.1111111111111111, \"#46039f\"], [0.2222222222222222, \"#7201a8\"], [0.3333333333333333, \"#9c179e\"], [0.4444444444444444, \"#bd3786\"], [0.5555555555555556, \"#d8576b\"], [0.6666666666666666, \"#ed7953\"], [0.7777777777777778, \"#fb9f3a\"], [0.8888888888888888, \"#fdca26\"], [1.0, \"#f0f921\"]], \"type\": \"histogram2dcontour\"}], \"mesh3d\": [{\"colorbar\": {\"outlinewidth\": 0, \"ticks\": \"\"}, \"type\": \"mesh3d\"}], \"parcoords\": [{\"line\": {\"colorbar\": {\"outlinewidth\": 0, \"ticks\": \"\"}}, \"type\": \"parcoords\"}], \"pie\": [{\"automargin\": true, \"type\": \"pie\"}], \"scatter\": [{\"marker\": {\"colorbar\": {\"outlinewidth\": 0, \"ticks\": \"\"}}, \"type\": \"scatter\"}], \"scatter3d\": [{\"line\": {\"colorbar\": {\"outlinewidth\": 0, \"ticks\": \"\"}}, \"marker\": {\"colorbar\": {\"outlinewidth\": 0, \"ticks\": \"\"}}, \"type\": \"scatter3d\"}], \"scattercarpet\": [{\"marker\": {\"colorbar\": {\"outlinewidth\": 0, \"ticks\": \"\"}}, \"type\": \"scattercarpet\"}], \"scattergeo\": [{\"marker\": {\"colorbar\": {\"outlinewidth\": 0, \"ticks\": \"\"}}, \"type\": \"scattergeo\"}], \"scattergl\": [{\"marker\": {\"colorbar\": {\"outlinewidth\": 0, \"ticks\": \"\"}}, \"type\": \"scattergl\"}], \"scattermapbox\": [{\"marker\": {\"colorbar\": {\"outlinewidth\": 0, \"ticks\": \"\"}}, \"type\": \"scattermapbox\"}], \"scatterpolar\": [{\"marker\": {\"colorbar\": {\"outlinewidth\": 0, \"ticks\": \"\"}}, \"type\": \"scatterpolar\"}], \"scatterpolargl\": [{\"marker\": {\"colorbar\": {\"outlinewidth\": 0, \"ticks\": \"\"}}, \"type\": \"scatterpolargl\"}], \"scatterternary\": [{\"marker\": {\"colorbar\": {\"outlinewidth\": 0, \"ticks\": \"\"}}, \"type\": \"scatterternary\"}], \"surface\": [{\"colorbar\": {\"outlinewidth\": 0, \"ticks\": \"\"}, \"colorscale\": [[0.0, \"#0d0887\"], [0.1111111111111111, \"#46039f\"], [0.2222222222222222, \"#7201a8\"], [0.3333333333333333, \"#9c179e\"], [0.4444444444444444, \"#bd3786\"], [0.5555555555555556, \"#d8576b\"], [0.6666666666666666, \"#ed7953\"], [0.7777777777777778, \"#fb9f3a\"], [0.8888888888888888, \"#fdca26\"], [1.0, \"#f0f921\"]], \"type\": \"surface\"}], \"table\": [{\"cells\": {\"fill\": {\"color\": \"#EBF0F8\"}, \"line\": {\"color\": \"white\"}}, \"header\": {\"fill\": {\"color\": \"#C8D4E3\"}, \"line\": {\"color\": \"white\"}}, \"type\": \"table\"}]}, \"layout\": {\"annotationdefaults\": {\"arrowcolor\": \"#2a3f5f\", \"arrowhead\": 0, \"arrowwidth\": 1}, \"coloraxis\": {\"colorbar\": {\"outlinewidth\": 0, \"ticks\": \"\"}}, \"colorscale\": {\"diverging\": [[0, \"#8e0152\"], [0.1, \"#c51b7d\"], [0.2, \"#de77ae\"], [0.3, \"#f1b6da\"], [0.4, \"#fde0ef\"], [0.5, \"#f7f7f7\"], [0.6, \"#e6f5d0\"], [0.7, \"#b8e186\"], [0.8, \"#7fbc41\"], [0.9, \"#4d9221\"], [1, \"#276419\"]], \"sequential\": [[0.0, \"#0d0887\"], [0.1111111111111111, \"#46039f\"], [0.2222222222222222, \"#7201a8\"], [0.3333333333333333, \"#9c179e\"], [0.4444444444444444, \"#bd3786\"], [0.5555555555555556, \"#d8576b\"], [0.6666666666666666, \"#ed7953\"], [0.7777777777777778, \"#fb9f3a\"], [0.8888888888888888, \"#fdca26\"], [1.0, \"#f0f921\"]], \"sequentialminus\": [[0.0, \"#0d0887\"], [0.1111111111111111, \"#46039f\"], [0.2222222222222222, \"#7201a8\"], [0.3333333333333333, \"#9c179e\"], [0.4444444444444444, \"#bd3786\"], [0.5555555555555556, \"#d8576b\"], [0.6666666666666666, \"#ed7953\"], [0.7777777777777778, \"#fb9f3a\"], [0.8888888888888888, \"#fdca26\"], [1.0, \"#f0f921\"]]}, \"colorway\": [\"#636efa\", \"#EF553B\", \"#00cc96\", \"#ab63fa\", \"#FFA15A\", \"#19d3f3\", \"#FF6692\", \"#B6E880\", \"#FF97FF\", \"#FECB52\"], \"font\": {\"color\": \"#2a3f5f\"}, \"geo\": {\"bgcolor\": \"white\", \"lakecolor\": \"white\", \"landcolor\": \"#E5ECF6\", \"showlakes\": true, \"showland\": true, \"subunitcolor\": \"white\"}, \"hoverlabel\": {\"align\": \"left\"}, \"hovermode\": \"closest\", \"mapbox\": {\"style\": \"light\"}, \"paper_bgcolor\": \"white\", \"plot_bgcolor\": \"#E5ECF6\", \"polar\": {\"angularaxis\": {\"gridcolor\": \"white\", \"linecolor\": \"white\", \"ticks\": \"\"}, \"bgcolor\": \"#E5ECF6\", \"radialaxis\": {\"gridcolor\": \"white\", \"linecolor\": \"white\", \"ticks\": \"\"}}, \"scene\": {\"xaxis\": {\"backgroundcolor\": \"#E5ECF6\", \"gridcolor\": \"white\", \"gridwidth\": 2, \"linecolor\": \"white\", \"showbackground\": true, \"ticks\": \"\", \"zerolinecolor\": \"white\"}, \"yaxis\": {\"backgroundcolor\": \"#E5ECF6\", \"gridcolor\": \"white\", \"gridwidth\": 2, \"linecolor\": \"white\", \"showbackground\": true, \"ticks\": \"\", \"zerolinecolor\": \"white\"}, \"zaxis\": {\"backgroundcolor\": \"#E5ECF6\", \"gridcolor\": \"white\", \"gridwidth\": 2, \"linecolor\": \"white\", \"showbackground\": true, \"ticks\": \"\", \"zerolinecolor\": \"white\"}}, \"shapedefaults\": {\"line\": {\"color\": \"#2a3f5f\"}}, \"ternary\": {\"aaxis\": {\"gridcolor\": \"white\", \"linecolor\": \"white\", \"ticks\": \"\"}, \"baxis\": {\"gridcolor\": \"white\", \"linecolor\": \"white\", \"ticks\": \"\"}, \"bgcolor\": \"#E5ECF6\", \"caxis\": {\"gridcolor\": \"white\", \"linecolor\": \"white\", \"ticks\": \"\"}}, \"title\": {\"x\": 0.05}, \"xaxis\": {\"automargin\": true, \"gridcolor\": \"white\", \"linecolor\": \"white\", \"ticks\": \"\", \"title\": {\"standoff\": 15}, \"zerolinecolor\": \"white\", \"zerolinewidth\": 2}, \"yaxis\": {\"automargin\": true, \"gridcolor\": \"white\", \"linecolor\": \"white\", \"ticks\": \"\", \"title\": {\"standoff\": 15}, \"zerolinecolor\": \"white\", \"zerolinewidth\": 2}}}, \"title\": {\"text\": \"timechart\"}, \"xaxis\": {\"autorange\": true, \"title\": {\"text\": \"timeStamp_t\"}, \"type\": \"date\"}, \"yaxis\": {\"ticksuffix\": \"\", \"title\": {\"text\": \"AlertCountPerHost\"}, \"type\": \"linear\"}},                        {\"responsive\": true}                    ).then(function(){\n",
       "                            \n",
       "var gd = document.getElementById('40d538e6-8983-4f7c-83f8-37273ac08446');\n",
       "var x = new MutationObserver(function (mutations, observer) {{\n",
       "        var display = window.getComputedStyle(gd).display;\n",
       "        if (!display || display === 'none') {{\n",
       "            console.log([gd, 'removed!']);\n",
       "            Plotly.purge(gd);\n",
       "            observer.disconnect();\n",
       "        }}\n",
       "}});\n",
       "\n",
       "// Listen for the removal of the full notebook cells\n",
       "var notebookContainer = gd.closest('#notebook-container');\n",
       "if (notebookContainer) {{\n",
       "    x.observe(notebookContainer, {childList: true});\n",
       "}}\n",
       "\n",
       "// Listen for the clearing of the current output cell\n",
       "var outputEl = gd.closest('.output');\n",
       "if (outputEl) {{\n",
       "    x.observe(outputEl, {childList: true});\n",
       "}}\n",
       "\n",
       "                        })                };                });            </script>        </div>"
      ]
     },
     "metadata": {},
     "output_type": "display_data"
    },
    {
     "data": {
      "text/html": [
       "<html>\n",
       "        <head>\n",
       "            \n",
       "            \n",
       "        </head>\n",
       "        <body>\n",
       "            <div><p style='padding: 10px; color: #3a87ad; background-color: #d9edf7; border-color: #bce9f1'>Done&nbsp;(00:02.372):&nbsp;130&nbsp;records</p></div>\n",
       "        </body>\n",
       "        </html>"
      ],
      "text/plain": [
       "<IPython.core.display.HTML object>"
      ]
     },
     "metadata": {},
     "output_type": "display_data"
    },
    {
     "data": {
      "application/javascript": [
       "try {IPython.notebook.kernel.execute(\"NOTEBOOK_URL = '\" + window.location + \"'\");} catch(err) {;}"
      ],
      "text/plain": [
       "<IPython.core.display.Javascript object>"
      ]
     },
     "metadata": {},
     "output_type": "display_data"
    },
    {
     "data": {
      "text/html": [
       "<div>\n",
       "<style scoped>\n",
       "    .dataframe tbody tr th:only-of-type {\n",
       "        vertical-align: middle;\n",
       "    }\n",
       "\n",
       "    .dataframe tbody tr th {\n",
       "        vertical-align: top;\n",
       "    }\n",
       "\n",
       "    .dataframe thead th {\n",
       "        text-align: right;\n",
       "    }\n",
       "</style>\n",
       "<table border=\"1\" class=\"dataframe\">\n",
       "  <thead>\n",
       "    <tr style=\"text-align: right;\">\n",
       "      <th></th>\n",
       "      <th>Num_blocked_alerts</th>\n",
       "    </tr>\n",
       "    <tr>\n",
       "      <th>hostname_s</th>\n",
       "      <th></th>\n",
       "    </tr>\n",
       "  </thead>\n",
       "  <tbody>\n",
       "    <tr>\n",
       "      <th></th>\n",
       "      <td>9</td>\n",
       "    </tr>\n",
       "    <tr>\n",
       "      <th>112.124.42.80:63435</th>\n",
       "      <td>1</td>\n",
       "    </tr>\n",
       "    <tr>\n",
       "      <th>123.125.114.144</th>\n",
       "      <td>1</td>\n",
       "    </tr>\n",
       "    <tr>\n",
       "      <th>127.0.0.1</th>\n",
       "      <td>6</td>\n",
       "    </tr>\n",
       "    <tr>\n",
       "      <th>127.0.0.1:80</th>\n",
       "      <td>3</td>\n",
       "    </tr>\n",
       "    <tr>\n",
       "      <th>127.0.0.1:8080</th>\n",
       "      <td>6</td>\n",
       "    </tr>\n",
       "    <tr>\n",
       "      <th>13.89.108.163</th>\n",
       "      <td>2374</td>\n",
       "    </tr>\n",
       "    <tr>\n",
       "      <th>13.89.108.163:80</th>\n",
       "      <td>157</td>\n",
       "    </tr>\n",
       "    <tr>\n",
       "      <th>&lt;undefined&gt;</th>\n",
       "      <td>50</td>\n",
       "    </tr>\n",
       "  </tbody>\n",
       "</table>\n",
       "</div>"
      ],
      "text/plain": [
       "                     Num_blocked_alerts\n",
       "hostname_s                             \n",
       "                                      9\n",
       "112.124.42.80:63435                   1\n",
       "123.125.114.144                       1\n",
       "127.0.0.1                             6\n",
       "127.0.0.1:80                          3\n",
       "127.0.0.1:8080                        6\n",
       "13.89.108.163                      2374\n",
       "13.89.108.163:80                    157\n",
       "<undefined>                          50"
      ]
     },
     "metadata": {},
     "output_type": "display_data"
    },
    {
     "data": {
      "application/vnd.jupyter.widget-view+json": {
       "model_id": "8031bc9576a24ce9afbcfa88023b8e2e",
       "version_major": 2,
       "version_minor": 0
      },
      "text/plain": [
       "Select(description='Select Host: ', index=4, layout=Layout(height='80px', width='50%'), options=('', '13.89.10…"
      ]
     },
     "metadata": {},
     "output_type": "display_data"
    }
   ],
   "source": [
    "query = queryHost(query_times_2.start, query_times_2.end)\n",
    "%kql -query query\n",
    "\n",
    "try:\n",
    "    df_host = showQuery(query)\n",
    "    list_hosts = set([x for x in df_host['hostname_s']])\n",
    "    df = df_host.groupby(['hostname_s']).agg({'AlertCountPerHost': sum}).rename(columns = {'AlertCountPerHost': 'Num_blocked_alerts'})\n",
    "    hosts = widgets.Select(options=list_hosts, style = style, layout = layout, value=df['Num_blocked_alerts'].idxmax(), description = 'Select Host: ')\n",
    "    display(df)\n",
    "    display(hosts)\n",
    "except Exception as e:\n",
    "    print('Error: ' + e)\n",
    "    traceback.print_exc()"
   ]
  },
  {
   "cell_type": "markdown",
   "metadata": {},
   "source": [
    "### Render visualisations of the distribution of alerts for the selected host\n",
    "\n",
    "We will be using balloon plots to visualise the number of WAF alerts over rule IDs, http-status codes, and client IP entities, for the selected host entity."
   ]
  },
  {
   "cell_type": "code",
   "execution_count": 10,
   "metadata": {},
   "outputs": [
    {
     "data": {
      "application/javascript": [
       "try {IPython.notebook.kernel.execute(\"NOTEBOOK_URL = '\" + window.location + \"'\");} catch(err) {;}"
      ],
      "text/plain": [
       "<IPython.core.display.Javascript object>"
      ]
     },
     "metadata": {},
     "output_type": "display_data"
    }
   ],
   "source": [
    "query_distribution = '''\n",
    "AzureDiagnostics\n",
    "| where TimeGenerated between (datetime({startTime}).. datetime({endTime}))\n",
    "| where Category == \"ApplicationGatewayFirewallLog\"\n",
    "| where hostname_s == \"{host}\"\n",
    "| where ruleId_s != '920300'\n",
    "| join kind=leftouter ( AzureDiagnostics\n",
    "| where TimeGenerated between  (datetime({startTime}).. datetime({endTime}))\n",
    "| where Category == \"ApplicationGatewayAccessLog\"\n",
    "| summarize by requestUri_s, httpStatus_d\n",
    ") on requestUri_s \n",
    "| summarize NoOfAlerts = count(), make_set(requestUri_s), DistinctURIs = dcount(requestUri_s) by clientIp_s, ruleId_s, httpStatus_d1\n",
    "'''.format(startTime = query_times_2.start, endTime = query_times_2.end, host = hosts.value)\n",
    "\n",
    "try:\n",
    "    df_distribution = showQuery(query_distribution)\n",
    "    df_distribution.rename(columns = {'clientIp_s':'Ip Address', 'ruleId_s':'Rule ID', 'set_requestUri_s': 'Request Uris'}, inplace = True)\n",
    "\n",
    "    if 'httpStatus_d1' in df_distribution.columns:\n",
    "        df_distribution = df_distribution.sort_values(by=['httpStatus_d1'], ascending = True).reset_index(drop = True)\n",
    "        df_distribution.rename(columns = {'httpStatus_d1':'Http status'}, inplace = True) \n",
    "        df_distribution['Http status'] = 'h: ' + df_distribution['Http status'].astype(str)\n",
    "    \n",
    "    maskBits = maskBitsVal(len(df_distribution['Ip Address'].unique()))\n",
    "    df_distribution['Ip Address'] = df_distribution['Ip Address'].apply(lambda x: ipaddress.IPv4Network(x + maskBits, strict = False))\n",
    "    \n",
    "    df_distribution['Ip Address'], df_distribution['Rule ID'] =  'Ip ' + df_distribution['Ip Address'].astype(str), 'rID ' + df_distribution['Rule ID'].astype(str)\n",
    "except Exception as e:\n",
    "    print('Error: ' + e)\n",
    "    traceback.print_exc()"
   ]
  },
  {
   "cell_type": "code",
   "execution_count": 11,
   "metadata": {},
   "outputs": [
    {
     "data": {
      "application/vnd.jupyter.widget-view+json": {
       "model_id": "f6a24c179b6d48a7aa8315ec8711cb0d",
       "version_major": 2,
       "version_minor": 0
      },
      "text/plain": [
       "interactive(children=(Select(description='Select x-axis: ', layout=Layout(height='80px', width='50%'), options…"
      ]
     },
     "metadata": {},
     "output_type": "display_data"
    }
   ],
   "source": [
    "import traceback\n",
    "options = ['Ip Address', 'Rule ID']\n",
    "if 'Http status' in df_distribution.columns:\n",
    "    options += ['Http status']\n",
    "\n",
    "def viewBalloonPlot(x_axis, y_axis, display_rawResult):\n",
    "    try:   \n",
    "        df_balloon_plot = (df_distribution\n",
    "                  .groupby([x_axis, y_axis], as_index=False)\n",
    "                  .agg({'NoOfAlerts': sum, 'DistinctURIs': sum, 'Request Uris': list})\n",
    "                  .reset_index(drop = True))\n",
    "        fig = px.scatter(df_balloon_plot,   x=df_balloon_plot[x_axis], y = df_balloon_plot[y_axis], \n",
    "                     size= np.log(1 + df_balloon_plot['NoOfAlerts'] ), color = 'NoOfAlerts',\n",
    "                     hover_data=['NoOfAlerts', 'DistinctURIs']) \n",
    "\n",
    "        fig.update_layout(height = max(300, 30 * len(set(df_balloon_plot[y_axis]))), title_text='Alert Distribution for host ID '+ str(hosts.value))\n",
    "\n",
    "        fig.show()\n",
    "        if display_rawResult == 'Yes':\n",
    "            print('Top 5 raw results with the highest number of alerts: \\n')\n",
    "            df_balloon_plot['Request Uris'] = [np.unique(list(itertools.chain(*row['Request Uris']))) for index, row in df_balloon_plot.iterrows() ]\n",
    "            df_balloon_plot['DistinctURIs'] = df_balloon_plot['Request Uris'].str.len()\n",
    "            display(df_balloon_plot[[y_axis, x_axis, 'NoOfAlerts','Request Uris', 'DistinctURIs']].sort_values(by='NoOfAlerts', ascending = False).head(5))\n",
    "    except ValueError:\n",
    "        print('ValueError: Choose distinct x and y axes')\n",
    "    except Exception as e:\n",
    "        print('Error: ' + e)\n",
    "        traceback.print_exc()\n",
    "        \n",
    "\n",
    "w = interactive(viewBalloonPlot, x_axis = widgets.Select(options = options, style = style, layout = layout, description = 'Select x-axis: '), \n",
    "                   y_axis = widgets.Select(options = options, style = style, layout = layout, description = 'Select y-axis: '), display_rawResult = widgets.Select(options = ['Yes', 'No'], style = style, layout = layout, description = 'Display raw result?: '))\n",
    "\n",
    "display(w)"
   ]
  },
  {
   "cell_type": "markdown",
   "metadata": {},
   "source": [
    "## Section III: Cluster the request URIs in WAF Alerts, based on TFIDF scores\n",
    "\n",
    "Select the timeframe and host entity for this section of the notebook"
   ]
  },
  {
   "cell_type": "code",
   "execution_count": 12,
   "metadata": {},
   "outputs": [
    {
     "data": {
      "application/vnd.jupyter.widget-view+json": {
       "model_id": "4782d3acc78c46c3af67022d6c288876",
       "version_major": 2,
       "version_minor": 0
      },
      "text/plain": [
       "HTML(value='<h4>Set query time boundaries</h4>')"
      ]
     },
     "metadata": {},
     "output_type": "display_data"
    },
    {
     "data": {
      "application/vnd.jupyter.widget-view+json": {
       "model_id": "1aba679d7df2434184bdb556a150797c",
       "version_major": 2,
       "version_minor": 0
      },
      "text/plain": [
       "HBox(children=(DatePicker(value=datetime.date(2020, 11, 30), description='Origin Date'), Text(value='15:03:34.…"
      ]
     },
     "metadata": {},
     "output_type": "display_data"
    },
    {
     "data": {
      "application/vnd.jupyter.widget-view+json": {
       "model_id": "91e84f69b6984486a6c8c4f317afa34c",
       "version_major": 2,
       "version_minor": 0
      },
      "text/plain": [
       "VBox(children=(IntRangeSlider(value=(-10, 1), description='Time Range (day):', layout=Layout(width='80%'), max…"
      ]
     },
     "metadata": {},
     "output_type": "display_data"
    }
   ],
   "source": [
    "query_times_3 = nbwidgets.QueryTime(units='day', max_before=30, before=10, max_after=-1)\n",
    "query_times_3.display()"
   ]
  },
  {
   "cell_type": "code",
   "execution_count": 13,
   "metadata": {},
   "outputs": [
    {
     "data": {
      "application/javascript": [
       "try {IPython.notebook.kernel.execute(\"NOTEBOOK_URL = '\" + window.location + \"'\");} catch(err) {;}"
      ],
      "text/plain": [
       "<IPython.core.display.Javascript object>"
      ]
     },
     "metadata": {},
     "output_type": "display_data"
    },
    {
     "data": {
      "text/html": [
       "<div>\n",
       "<style scoped>\n",
       "    .dataframe tbody tr th:only-of-type {\n",
       "        vertical-align: middle;\n",
       "    }\n",
       "\n",
       "    .dataframe tbody tr th {\n",
       "        vertical-align: top;\n",
       "    }\n",
       "\n",
       "    .dataframe thead th {\n",
       "        text-align: right;\n",
       "    }\n",
       "</style>\n",
       "<table border=\"1\" class=\"dataframe\">\n",
       "  <thead>\n",
       "    <tr style=\"text-align: right;\">\n",
       "      <th></th>\n",
       "      <th>Num_blocked_alerts</th>\n",
       "    </tr>\n",
       "    <tr>\n",
       "      <th>hostname_s</th>\n",
       "      <th></th>\n",
       "    </tr>\n",
       "  </thead>\n",
       "  <tbody>\n",
       "    <tr>\n",
       "      <th></th>\n",
       "      <td>9</td>\n",
       "    </tr>\n",
       "    <tr>\n",
       "      <th>112.124.42.80:63435</th>\n",
       "      <td>1</td>\n",
       "    </tr>\n",
       "    <tr>\n",
       "      <th>123.125.114.144</th>\n",
       "      <td>1</td>\n",
       "    </tr>\n",
       "    <tr>\n",
       "      <th>127.0.0.1</th>\n",
       "      <td>6</td>\n",
       "    </tr>\n",
       "    <tr>\n",
       "      <th>127.0.0.1:80</th>\n",
       "      <td>3</td>\n",
       "    </tr>\n",
       "    <tr>\n",
       "      <th>127.0.0.1:8080</th>\n",
       "      <td>6</td>\n",
       "    </tr>\n",
       "    <tr>\n",
       "      <th>13.89.108.163</th>\n",
       "      <td>2374</td>\n",
       "    </tr>\n",
       "    <tr>\n",
       "      <th>13.89.108.163:80</th>\n",
       "      <td>157</td>\n",
       "    </tr>\n",
       "    <tr>\n",
       "      <th>&lt;undefined&gt;</th>\n",
       "      <td>50</td>\n",
       "    </tr>\n",
       "  </tbody>\n",
       "</table>\n",
       "</div>"
      ],
      "text/plain": [
       "                     Num_blocked_alerts\n",
       "hostname_s                             \n",
       "                                      9\n",
       "112.124.42.80:63435                   1\n",
       "123.125.114.144                       1\n",
       "127.0.0.1                             6\n",
       "127.0.0.1:80                          3\n",
       "127.0.0.1:8080                        6\n",
       "13.89.108.163                      2374\n",
       "13.89.108.163:80                    157\n",
       "<undefined>                          50"
      ]
     },
     "metadata": {},
     "output_type": "display_data"
    },
    {
     "data": {
      "application/vnd.jupyter.widget-view+json": {
       "model_id": "5ef61bf85b3e4eda8b70048089e3dddb",
       "version_major": 2,
       "version_minor": 0
      },
      "text/plain": [
       "Select(description='Select Host: ', index=4, options=('', '13.89.108.163:80', '112.124.42.80:63435', '127.0.0.…"
      ]
     },
     "metadata": {},
     "output_type": "display_data"
    }
   ],
   "source": [
    "df_host_2 = showQuery(queryHost(query_times_3.start, query_times_3.end))\n",
    "df = df_host_2.groupby(['hostname_s']).agg({'AlertCountPerHost': sum}).rename(columns = {'AlertCountPerHost': 'Num_blocked_alerts'})\n",
    "hosts_2 = widgets.Select(options=set([x for x in df_host_2['hostname_s']]), value=df['Num_blocked_alerts'].idxmax(), description = 'Select Host: ')\n",
    "display(df)\n",
    "display(hosts_2)"
   ]
  },
  {
   "cell_type": "markdown",
   "metadata": {},
   "source": [
    "**Enter min_df and max_df value parameters**\n",
    "\n",
    "For more information about these parameters in the TFIDF vectorizer, please see https://stackoverflow.com/questions/27697766/understanding-min-df-and-max-df-in-scikit-countvectorizer\n",
    "If you would like to view the TFIDF scores for all the data, change the following code in the `tfidfScores` function:\n",
    "\n",
    "`vectorizer = TfidfVectorizer(tokenizer=identity_tokenizer, lowercase=False, min_df = min_df_value, max_df = max_df_value)   `\n",
    "\n",
    "to\n",
    "\n",
    "`vectorizer = TfidfVectorizer(tokenizer=identity_tokenizer, lowercase=False)  ` \n",
    "\n"
   ]
  },
  {
   "cell_type": "code",
   "execution_count": 14,
   "metadata": {},
   "outputs": [
    {
     "data": {
      "application/vnd.jupyter.widget-view+json": {
       "model_id": "ec6738e19cd24d549b8d21c14c1df27a",
       "version_major": 2,
       "version_minor": 0
      },
      "text/plain": [
       "Text(value='0.01', description='Enter min_df: ', layout=Layout(height='30px', width='50%'), placeholder='% or …"
      ]
     },
     "metadata": {},
     "output_type": "display_data"
    },
    {
     "data": {
      "application/vnd.jupyter.widget-view+json": {
       "model_id": "8db5469db9094e6ca7080de6d2aaa242",
       "version_major": 2,
       "version_minor": 0
      },
      "text/plain": [
       "Text(value='0.9', description='Enter max_df: ', layout=Layout(height='30px', width='50%'), placeholder='% or I…"
      ]
     },
     "metadata": {},
     "output_type": "display_data"
    }
   ],
   "source": [
    "min_df_widget = widgets.Text(style = style, layout = widgets.Layout(width=\"50%\", height=\"30px\"), description = 'Enter min_df: ', placeholder = '% or Integer or None', value = '0.01')\n",
    "max_df_widget = widgets.Text(style = style, layout = widgets.Layout(width=\"50%\", height=\"30px\"), description = 'Enter max_df: ', placeholder = '% or Integer or None', value = '0.9')\n",
    "\n",
    "display(min_df_widget)\n",
    "display(max_df_widget)"
   ]
  },
  {
   "cell_type": "code",
   "execution_count": 15,
   "metadata": {},
   "outputs": [],
   "source": [
    "try:\n",
    "    min_df_value = float(min_df_widget.value)\n",
    "    max_df_value = float(max_df_widget.value)\n",
    "except Exception as e:\n",
    "    print('Error: ' + str(e))\n",
    "    traceback.print_exc()\n",
    "    \n",
    "def tfidfScores(df, tokenList = None):\n",
    "    def identity_tokenizer(text):\n",
    "        return text\n",
    "    \n",
    "    vectorizer = TfidfVectorizer(tokenizer=identity_tokenizer, lowercase=False, min_df = min_df_value, max_df = max_df_value)    \n",
    "    vectors = vectorizer.fit_transform(tokenList)\n",
    "    feature_names = vectorizer.get_feature_names()\n",
    "    dense = vectors.todense()\n",
    "    denselist = dense.tolist()\n",
    "    df_scores = pd.DataFrame(denselist, columns = feature_names)\n",
    "    multicol1 = pd.MultiIndex.from_tuples([('weight', str(j)) for j in df_scores.columns])\n",
    "    df_multiIndex = pd.DataFrame([list(df_scores.iloc[i]) for i in range(0, len(df_scores))], index=[df['Ip Address']], columns=multicol1)\n",
    "    return df_multiIndex"
   ]
  },
  {
   "cell_type": "markdown",
   "metadata": {},
   "source": [
    "### Approach I: Compute TFIDF scores for split request URIs in the blocked WAF Alerts against client IP entities"
   ]
  },
  {
   "cell_type": "code",
   "execution_count": 16,
   "metadata": {},
   "outputs": [
    {
     "data": {
      "application/javascript": [
       "try {IPython.notebook.kernel.execute(\"NOTEBOOK_URL = '\" + window.location + \"'\");} catch(err) {;}"
      ],
      "text/plain": [
       "<IPython.core.display.Javascript object>"
      ]
     },
     "metadata": {},
     "output_type": "display_data"
    },
    {
     "data": {
      "text/html": [
       "<div>\n",
       "<style scoped>\n",
       "    .dataframe tbody tr th:only-of-type {\n",
       "        vertical-align: middle;\n",
       "    }\n",
       "\n",
       "    .dataframe tbody tr th {\n",
       "        vertical-align: top;\n",
       "    }\n",
       "\n",
       "    .dataframe thead tr th {\n",
       "        text-align: left;\n",
       "    }\n",
       "\n",
       "    .dataframe thead tr:last-of-type th {\n",
       "        text-align: right;\n",
       "    }\n",
       "</style>\n",
       "<table border=\"1\" class=\"dataframe\">\n",
       "  <thead>\n",
       "    <tr>\n",
       "      <th></th>\n",
       "      <th colspan=\"51\" halign=\"left\">weight</th>\n",
       "    </tr>\n",
       "    <tr>\n",
       "      <th></th>\n",
       "      <th>!.php</th>\n",
       "      <th>${@die(md5(HelloThinkPHP))}</th>\n",
       "      <th>%68%74%6D%6C%6F%66%66%69%63%65%73%65%72%76%6C%65%74</th>\n",
       "      <th>%69%6D</th>\n",
       "      <th>%69%73%70%69%72%69%74</th>\n",
       "      <th>%72%65%67%69%73%74%65%72?%65%6c%65%6d%65%6e%74%5f%70%61%72%65%6e%74%73=%74%69%6d%65%7a%6f%6e%65%2f%74%69%6d%65%7a%6f%6e%65%2f%23%76%61%6c%75%65\\u0026%61%6a%61%78%5f%66%6f%72%6d=1\\u0026%5f%77%72%61%70%70%65%72%5f%66%6f%72%6d%61%74=%64%72%75%70%61%6c%5f%61%6a%61%78</th>\n",
       "      <th>%73%65%65%79%6F%6E</th>\n",
       "      <th>%75%70%6C%6F%61%64%2E%70%68%70</th>\n",
       "      <th>%75%73%65%72</th>\n",
       "      <th>%75%73%65%72%2e%70%68%70</th>\n",
       "      <th>.config.php</th>\n",
       "      <th>.env</th>\n",
       "      <th>.git.php</th>\n",
       "      <th>.php</th>\n",
       "      <th>02.php</th>\n",
       "      <th>099.php</th>\n",
       "      <th>1</th>\n",
       "      <th>1.php</th>\n",
       "      <th>1111.php</th>\n",
       "      <th>11a.php</th>\n",
       "      <th>12.php</th>\n",
       "      <th>1213.php</th>\n",
       "      <th>123.php</th>\n",
       "      <th>123131</th>\n",
       "      <th>1234.php</th>\n",
       "      <th>...</th>\n",
       "      <th>yuyang.php</th>\n",
       "      <th>yyx.php</th>\n",
       "      <th>yyy.php</th>\n",
       "      <th>z.php</th>\n",
       "      <th>ze.php</th>\n",
       "      <th>zhk.php</th>\n",
       "      <th>zhui.php</th>\n",
       "      <th>zmp.php</th>\n",
       "      <th>zshmindex.php</th>\n",
       "      <th>zuo.php</th>\n",
       "      <th>zuoindex.php</th>\n",
       "      <th>zuos.php</th>\n",
       "      <th>zuoshou.php</th>\n",
       "      <th>zuoshss.php</th>\n",
       "      <th>zuoss.php</th>\n",
       "      <th>zxc.php</th>\n",
       "      <th>zxc0.php</th>\n",
       "      <th>zxc1.php</th>\n",
       "      <th>zxc2.php</th>\n",
       "      <th>zxy.php</th>\n",
       "      <th>zyc.php</th>\n",
       "      <th>zz.php</th>\n",
       "      <th>zza.php</th>\n",
       "      <th>zzk.php</th>\n",
       "      <th>zzz.php</th>\n",
       "    </tr>\n",
       "    <tr>\n",
       "      <th>Ip Address</th>\n",
       "      <th></th>\n",
       "      <th></th>\n",
       "      <th></th>\n",
       "      <th></th>\n",
       "      <th></th>\n",
       "      <th></th>\n",
       "      <th></th>\n",
       "      <th></th>\n",
       "      <th></th>\n",
       "      <th></th>\n",
       "      <th></th>\n",
       "      <th></th>\n",
       "      <th></th>\n",
       "      <th></th>\n",
       "      <th></th>\n",
       "      <th></th>\n",
       "      <th></th>\n",
       "      <th></th>\n",
       "      <th></th>\n",
       "      <th></th>\n",
       "      <th></th>\n",
       "      <th></th>\n",
       "      <th></th>\n",
       "      <th></th>\n",
       "      <th></th>\n",
       "      <th></th>\n",
       "      <th></th>\n",
       "      <th></th>\n",
       "      <th></th>\n",
       "      <th></th>\n",
       "      <th></th>\n",
       "      <th></th>\n",
       "      <th></th>\n",
       "      <th></th>\n",
       "      <th></th>\n",
       "      <th></th>\n",
       "      <th></th>\n",
       "      <th></th>\n",
       "      <th></th>\n",
       "      <th></th>\n",
       "      <th></th>\n",
       "      <th></th>\n",
       "      <th></th>\n",
       "      <th></th>\n",
       "      <th></th>\n",
       "      <th></th>\n",
       "      <th></th>\n",
       "      <th></th>\n",
       "      <th></th>\n",
       "      <th></th>\n",
       "      <th></th>\n",
       "    </tr>\n",
       "  </thead>\n",
       "  <tbody>\n",
       "    <tr>\n",
       "      <th>13.92.0.0/16</th>\n",
       "      <td>0.0</td>\n",
       "      <td>0.0</td>\n",
       "      <td>0.0</td>\n",
       "      <td>0.0</td>\n",
       "      <td>0.0</td>\n",
       "      <td>0.0</td>\n",
       "      <td>0.0</td>\n",
       "      <td>0.0</td>\n",
       "      <td>0.0</td>\n",
       "      <td>0.0</td>\n",
       "      <td>0.0</td>\n",
       "      <td>1.0</td>\n",
       "      <td>0.0</td>\n",
       "      <td>0.0</td>\n",
       "      <td>0.0</td>\n",
       "      <td>0.0</td>\n",
       "      <td>0.0</td>\n",
       "      <td>0.0</td>\n",
       "      <td>0.0</td>\n",
       "      <td>0.0</td>\n",
       "      <td>0.0</td>\n",
       "      <td>0.0</td>\n",
       "      <td>0.0</td>\n",
       "      <td>0.0</td>\n",
       "      <td>0.0</td>\n",
       "      <td>...</td>\n",
       "      <td>0.0</td>\n",
       "      <td>0.0</td>\n",
       "      <td>0.0</td>\n",
       "      <td>0.0</td>\n",
       "      <td>0.0</td>\n",
       "      <td>0.0</td>\n",
       "      <td>0.0</td>\n",
       "      <td>0.0</td>\n",
       "      <td>0.0</td>\n",
       "      <td>0.0</td>\n",
       "      <td>0.0</td>\n",
       "      <td>0.0</td>\n",
       "      <td>0.0</td>\n",
       "      <td>0.0</td>\n",
       "      <td>0.0</td>\n",
       "      <td>0.0</td>\n",
       "      <td>0.0</td>\n",
       "      <td>0.0</td>\n",
       "      <td>0.0</td>\n",
       "      <td>0.0</td>\n",
       "      <td>0.0</td>\n",
       "      <td>0.0</td>\n",
       "      <td>0.0</td>\n",
       "      <td>0.0</td>\n",
       "      <td>0.0</td>\n",
       "    </tr>\n",
       "    <tr>\n",
       "      <th>172.105.0.0/16</th>\n",
       "      <td>0.0</td>\n",
       "      <td>0.0</td>\n",
       "      <td>0.0</td>\n",
       "      <td>0.0</td>\n",
       "      <td>0.0</td>\n",
       "      <td>0.0</td>\n",
       "      <td>0.0</td>\n",
       "      <td>0.0</td>\n",
       "      <td>0.0</td>\n",
       "      <td>0.0</td>\n",
       "      <td>0.0</td>\n",
       "      <td>0.0</td>\n",
       "      <td>0.0</td>\n",
       "      <td>0.0</td>\n",
       "      <td>0.0</td>\n",
       "      <td>0.0</td>\n",
       "      <td>0.0</td>\n",
       "      <td>0.0</td>\n",
       "      <td>0.0</td>\n",
       "      <td>0.0</td>\n",
       "      <td>0.0</td>\n",
       "      <td>0.0</td>\n",
       "      <td>0.0</td>\n",
       "      <td>0.0</td>\n",
       "      <td>0.0</td>\n",
       "      <td>...</td>\n",
       "      <td>0.0</td>\n",
       "      <td>0.0</td>\n",
       "      <td>0.0</td>\n",
       "      <td>0.0</td>\n",
       "      <td>0.0</td>\n",
       "      <td>0.0</td>\n",
       "      <td>0.0</td>\n",
       "      <td>0.0</td>\n",
       "      <td>0.0</td>\n",
       "      <td>0.0</td>\n",
       "      <td>0.0</td>\n",
       "      <td>0.0</td>\n",
       "      <td>0.0</td>\n",
       "      <td>0.0</td>\n",
       "      <td>0.0</td>\n",
       "      <td>0.0</td>\n",
       "      <td>0.0</td>\n",
       "      <td>0.0</td>\n",
       "      <td>0.0</td>\n",
       "      <td>0.0</td>\n",
       "      <td>0.0</td>\n",
       "      <td>0.0</td>\n",
       "      <td>0.0</td>\n",
       "      <td>0.0</td>\n",
       "      <td>0.0</td>\n",
       "    </tr>\n",
       "    <tr>\n",
       "      <th>111.230.0.0/16</th>\n",
       "      <td>0.0</td>\n",
       "      <td>0.0</td>\n",
       "      <td>0.0</td>\n",
       "      <td>0.0</td>\n",
       "      <td>0.0</td>\n",
       "      <td>0.0</td>\n",
       "      <td>0.0</td>\n",
       "      <td>0.0</td>\n",
       "      <td>0.0</td>\n",
       "      <td>0.0</td>\n",
       "      <td>0.0</td>\n",
       "      <td>0.0</td>\n",
       "      <td>0.0</td>\n",
       "      <td>0.0</td>\n",
       "      <td>0.0</td>\n",
       "      <td>0.0</td>\n",
       "      <td>0.0</td>\n",
       "      <td>0.0</td>\n",
       "      <td>0.0</td>\n",
       "      <td>0.0</td>\n",
       "      <td>0.0</td>\n",
       "      <td>0.0</td>\n",
       "      <td>0.0</td>\n",
       "      <td>0.0</td>\n",
       "      <td>0.0</td>\n",
       "      <td>...</td>\n",
       "      <td>0.0</td>\n",
       "      <td>0.0</td>\n",
       "      <td>0.0</td>\n",
       "      <td>0.0</td>\n",
       "      <td>0.0</td>\n",
       "      <td>0.0</td>\n",
       "      <td>0.0</td>\n",
       "      <td>0.0</td>\n",
       "      <td>0.0</td>\n",
       "      <td>0.0</td>\n",
       "      <td>0.0</td>\n",
       "      <td>0.0</td>\n",
       "      <td>0.0</td>\n",
       "      <td>0.0</td>\n",
       "      <td>0.0</td>\n",
       "      <td>0.0</td>\n",
       "      <td>0.0</td>\n",
       "      <td>0.0</td>\n",
       "      <td>0.0</td>\n",
       "      <td>0.0</td>\n",
       "      <td>0.0</td>\n",
       "      <td>0.0</td>\n",
       "      <td>0.0</td>\n",
       "      <td>0.0</td>\n",
       "      <td>0.0</td>\n",
       "    </tr>\n",
       "    <tr>\n",
       "      <th>91.241.0.0/16</th>\n",
       "      <td>0.0</td>\n",
       "      <td>0.0</td>\n",
       "      <td>0.0</td>\n",
       "      <td>0.0</td>\n",
       "      <td>0.0</td>\n",
       "      <td>0.0</td>\n",
       "      <td>0.0</td>\n",
       "      <td>0.0</td>\n",
       "      <td>0.0</td>\n",
       "      <td>0.0</td>\n",
       "      <td>0.0</td>\n",
       "      <td>0.0</td>\n",
       "      <td>0.0</td>\n",
       "      <td>0.0</td>\n",
       "      <td>0.0</td>\n",
       "      <td>0.0</td>\n",
       "      <td>0.0</td>\n",
       "      <td>0.0</td>\n",
       "      <td>0.0</td>\n",
       "      <td>0.0</td>\n",
       "      <td>0.0</td>\n",
       "      <td>0.0</td>\n",
       "      <td>0.0</td>\n",
       "      <td>0.0</td>\n",
       "      <td>0.0</td>\n",
       "      <td>...</td>\n",
       "      <td>0.0</td>\n",
       "      <td>0.0</td>\n",
       "      <td>0.0</td>\n",
       "      <td>0.0</td>\n",
       "      <td>0.0</td>\n",
       "      <td>0.0</td>\n",
       "      <td>0.0</td>\n",
       "      <td>0.0</td>\n",
       "      <td>0.0</td>\n",
       "      <td>0.0</td>\n",
       "      <td>0.0</td>\n",
       "      <td>0.0</td>\n",
       "      <td>0.0</td>\n",
       "      <td>0.0</td>\n",
       "      <td>0.0</td>\n",
       "      <td>0.0</td>\n",
       "      <td>0.0</td>\n",
       "      <td>0.0</td>\n",
       "      <td>0.0</td>\n",
       "      <td>0.0</td>\n",
       "      <td>0.0</td>\n",
       "      <td>0.0</td>\n",
       "      <td>0.0</td>\n",
       "      <td>0.0</td>\n",
       "      <td>0.0</td>\n",
       "    </tr>\n",
       "    <tr>\n",
       "      <th>203.115.0.0/16</th>\n",
       "      <td>0.0</td>\n",
       "      <td>0.0</td>\n",
       "      <td>0.0</td>\n",
       "      <td>0.0</td>\n",
       "      <td>0.0</td>\n",
       "      <td>0.0</td>\n",
       "      <td>0.0</td>\n",
       "      <td>0.0</td>\n",
       "      <td>0.0</td>\n",
       "      <td>0.0</td>\n",
       "      <td>0.0</td>\n",
       "      <td>0.0</td>\n",
       "      <td>0.0</td>\n",
       "      <td>0.0</td>\n",
       "      <td>0.0</td>\n",
       "      <td>0.0</td>\n",
       "      <td>0.0</td>\n",
       "      <td>0.0</td>\n",
       "      <td>0.0</td>\n",
       "      <td>0.0</td>\n",
       "      <td>0.0</td>\n",
       "      <td>0.0</td>\n",
       "      <td>0.0</td>\n",
       "      <td>0.0</td>\n",
       "      <td>0.0</td>\n",
       "      <td>...</td>\n",
       "      <td>0.0</td>\n",
       "      <td>0.0</td>\n",
       "      <td>0.0</td>\n",
       "      <td>0.0</td>\n",
       "      <td>0.0</td>\n",
       "      <td>0.0</td>\n",
       "      <td>0.0</td>\n",
       "      <td>0.0</td>\n",
       "      <td>0.0</td>\n",
       "      <td>0.0</td>\n",
       "      <td>0.0</td>\n",
       "      <td>0.0</td>\n",
       "      <td>0.0</td>\n",
       "      <td>0.0</td>\n",
       "      <td>0.0</td>\n",
       "      <td>0.0</td>\n",
       "      <td>0.0</td>\n",
       "      <td>0.0</td>\n",
       "      <td>0.0</td>\n",
       "      <td>0.0</td>\n",
       "      <td>0.0</td>\n",
       "      <td>0.0</td>\n",
       "      <td>0.0</td>\n",
       "      <td>0.0</td>\n",
       "      <td>0.0</td>\n",
       "    </tr>\n",
       "  </tbody>\n",
       "</table>\n",
       "<p>5 rows × 835 columns</p>\n",
       "</div>"
      ],
      "text/plain": [
       "               weight                              \\\n",
       "                !.php ${@die(md5(HelloThinkPHP))}   \n",
       "Ip Address                                          \n",
       "13.92.0.0/16      0.0                         0.0   \n",
       "172.105.0.0/16    0.0                         0.0   \n",
       "111.230.0.0/16    0.0                         0.0   \n",
       "91.241.0.0/16     0.0                         0.0   \n",
       "203.115.0.0/16    0.0                         0.0   \n",
       "\n",
       "                                                                           \\\n",
       "               %68%74%6D%6C%6F%66%66%69%63%65%73%65%72%76%6C%65%74 %69%6D   \n",
       "Ip Address                                                                  \n",
       "13.92.0.0/16                                                   0.0    0.0   \n",
       "172.105.0.0/16                                                 0.0    0.0   \n",
       "111.230.0.0/16                                                 0.0    0.0   \n",
       "91.241.0.0/16                                                  0.0    0.0   \n",
       "203.115.0.0/16                                                 0.0    0.0   \n",
       "\n",
       "                                      \\\n",
       "               %69%73%70%69%72%69%74   \n",
       "Ip Address                             \n",
       "13.92.0.0/16                     0.0   \n",
       "172.105.0.0/16                   0.0   \n",
       "111.230.0.0/16                   0.0   \n",
       "91.241.0.0/16                    0.0   \n",
       "203.115.0.0/16                   0.0   \n",
       "\n",
       "                                                                                                                                                                                                                                                                                        \\\n",
       "               %72%65%67%69%73%74%65%72?%65%6c%65%6d%65%6e%74%5f%70%61%72%65%6e%74%73=%74%69%6d%65%7a%6f%6e%65%2f%74%69%6d%65%7a%6f%6e%65%2f%23%76%61%6c%75%65\\u0026%61%6a%61%78%5f%66%6f%72%6d=1\\u0026%5f%77%72%61%70%70%65%72%5f%66%6f%72%6d%61%74=%64%72%75%70%61%6c%5f%61%6a%61%78   \n",
       "Ip Address                                                                                                                                                                                                                                                                               \n",
       "13.92.0.0/16                                                                                                                                                                                                                                                                       0.0   \n",
       "172.105.0.0/16                                                                                                                                                                                                                                                                     0.0   \n",
       "111.230.0.0/16                                                                                                                                                                                                                                                                     0.0   \n",
       "91.241.0.0/16                                                                                                                                                                                                                                                                      0.0   \n",
       "203.115.0.0/16                                                                                                                                                                                                                                                                     0.0   \n",
       "\n",
       "                                                                               \\\n",
       "               %73%65%65%79%6F%6E %75%70%6C%6F%61%64%2E%70%68%70 %75%73%65%72   \n",
       "Ip Address                                                                      \n",
       "13.92.0.0/16                  0.0                            0.0          0.0   \n",
       "172.105.0.0/16                0.0                            0.0          0.0   \n",
       "111.230.0.0/16                0.0                            0.0          0.0   \n",
       "91.241.0.0/16                 0.0                            0.0          0.0   \n",
       "203.115.0.0/16                0.0                            0.0          0.0   \n",
       "\n",
       "                                                                               \\\n",
       "               %75%73%65%72%2e%70%68%70 .config.php .env .git.php .php 02.php   \n",
       "Ip Address                                                                      \n",
       "13.92.0.0/16                        0.0         0.0  1.0      0.0  0.0    0.0   \n",
       "172.105.0.0/16                      0.0         0.0  0.0      0.0  0.0    0.0   \n",
       "111.230.0.0/16                      0.0         0.0  0.0      0.0  0.0    0.0   \n",
       "91.241.0.0/16                       0.0         0.0  0.0      0.0  0.0    0.0   \n",
       "203.115.0.0/16                      0.0         0.0  0.0      0.0  0.0    0.0   \n",
       "\n",
       "                                                                            \\\n",
       "               099.php    1 1.php 1111.php 11a.php 12.php 1213.php 123.php   \n",
       "Ip Address                                                                   \n",
       "13.92.0.0/16       0.0  0.0   0.0      0.0     0.0    0.0      0.0     0.0   \n",
       "172.105.0.0/16     0.0  0.0   0.0      0.0     0.0    0.0      0.0     0.0   \n",
       "111.230.0.0/16     0.0  0.0   0.0      0.0     0.0    0.0      0.0     0.0   \n",
       "91.241.0.0/16      0.0  0.0   0.0      0.0     0.0    0.0      0.0     0.0   \n",
       "203.115.0.0/16     0.0  0.0   0.0      0.0     0.0    0.0      0.0     0.0   \n",
       "\n",
       "                                ...                                          \\\n",
       "               123131 1234.php  ... yuyang.php yyx.php yyy.php z.php ze.php   \n",
       "Ip Address                      ...                                           \n",
       "13.92.0.0/16      0.0      0.0  ...        0.0     0.0     0.0   0.0    0.0   \n",
       "172.105.0.0/16    0.0      0.0  ...        0.0     0.0     0.0   0.0    0.0   \n",
       "111.230.0.0/16    0.0      0.0  ...        0.0     0.0     0.0   0.0    0.0   \n",
       "91.241.0.0/16     0.0      0.0  ...        0.0     0.0     0.0   0.0    0.0   \n",
       "203.115.0.0/16    0.0      0.0  ...        0.0     0.0     0.0   0.0    0.0   \n",
       "\n",
       "                                                                            \\\n",
       "               zhk.php zhui.php zmp.php zshmindex.php zuo.php zuoindex.php   \n",
       "Ip Address                                                                   \n",
       "13.92.0.0/16       0.0      0.0     0.0           0.0     0.0          0.0   \n",
       "172.105.0.0/16     0.0      0.0     0.0           0.0     0.0          0.0   \n",
       "111.230.0.0/16     0.0      0.0     0.0           0.0     0.0          0.0   \n",
       "91.241.0.0/16      0.0      0.0     0.0           0.0     0.0          0.0   \n",
       "203.115.0.0/16     0.0      0.0     0.0           0.0     0.0          0.0   \n",
       "\n",
       "                                                                            \\\n",
       "               zuos.php zuoshou.php zuoshss.php zuoss.php zxc.php zxc0.php   \n",
       "Ip Address                                                                   \n",
       "13.92.0.0/16        0.0         0.0         0.0       0.0     0.0      0.0   \n",
       "172.105.0.0/16      0.0         0.0         0.0       0.0     0.0      0.0   \n",
       "111.230.0.0/16      0.0         0.0         0.0       0.0     0.0      0.0   \n",
       "91.241.0.0/16       0.0         0.0         0.0       0.0     0.0      0.0   \n",
       "203.115.0.0/16      0.0         0.0         0.0       0.0     0.0      0.0   \n",
       "\n",
       "                                                                         \\\n",
       "               zxc1.php zxc2.php zxy.php zyc.php zz.php zza.php zzk.php   \n",
       "Ip Address                                                                \n",
       "13.92.0.0/16        0.0      0.0     0.0     0.0    0.0     0.0     0.0   \n",
       "172.105.0.0/16      0.0      0.0     0.0     0.0    0.0     0.0     0.0   \n",
       "111.230.0.0/16      0.0      0.0     0.0     0.0    0.0     0.0     0.0   \n",
       "91.241.0.0/16       0.0      0.0     0.0     0.0    0.0     0.0     0.0   \n",
       "203.115.0.0/16      0.0      0.0     0.0     0.0    0.0     0.0     0.0   \n",
       "\n",
       "                        \n",
       "               zzz.php  \n",
       "Ip Address              \n",
       "13.92.0.0/16       0.0  \n",
       "172.105.0.0/16     0.0  \n",
       "111.230.0.0/16     0.0  \n",
       "91.241.0.0/16      0.0  \n",
       "203.115.0.0/16     0.0  \n",
       "\n",
       "[5 rows x 835 columns]"
      ]
     },
     "metadata": {},
     "output_type": "display_data"
    }
   ],
   "source": [
    "query_URIs = '''\n",
    "AzureDiagnostics\n",
    "| where TimeGenerated between (datetime({startTime}).. datetime({endTime}))\n",
    "| where Category == \"ApplicationGatewayFirewallLog\"\n",
    "| where hostname_s startswith \"{host}\"\n",
    "//| where ruleId_s != '920300'\n",
    "| where action_s == 'Blocked'\n",
    "| distinct clientIp_s, requestUri_s\n",
    "| summarize make_list(requestUri_s) by clientIp_s\n",
    "'''.format(startTime = query_times_3.start, endTime = query_times_3.end, host = hosts_2.value)\n",
    "\n",
    "try:\n",
    "    df_URIs = showQuery(query_URIs)\n",
    "    df_URIs.rename(columns = {'clientIp_s':'Ip Address', 'list_requestUri_s': 'RequestUris'}, inplace = True) \n",
    "\n",
    "    viewData_splitUri = df_URIs.copy()\n",
    "    maskBits = maskBitsVal(len(viewData_splitUri['Ip Address'].unique()))\n",
    "    viewData_splitUri['Ip Address'] = viewData_splitUri['Ip Address'].apply(lambda x: ipaddress.IPv4Network(x + maskBits, strict = False))\n",
    "    viewData_splitUri.groupby([\"Ip Address\"], as_index=False).agg({'RequestUris': list})\n",
    "\n",
    "    tokenList = []\n",
    "    for index, row in viewData_splitUri.iterrows():\n",
    "        splitUris = re.split('/', ''.join(row['RequestUris']))\n",
    "        tokenList = tokenList + [splitUris] \n",
    "\n",
    "    df_splitUri_tfidf = tfidfScores(viewData_splitUri, tokenList)\n",
    "    display(df_splitUri_tfidf.head(5))\n",
    "except Exception as e:\n",
    "    print('Error: ' + str(e))\n",
    "    traceback.print_exc()"
   ]
  },
  {
   "cell_type": "markdown",
   "metadata": {},
   "source": [
    "### Approach II: Computer TFIDF scores for volume of blocked WAF alerts for Rule Ids against the client IP entities"
   ]
  },
  {
   "cell_type": "code",
   "execution_count": 17,
   "metadata": {},
   "outputs": [
    {
     "data": {
      "application/javascript": [
       "try {IPython.notebook.kernel.execute(\"NOTEBOOK_URL = '\" + window.location + \"'\");} catch(err) {;}"
      ],
      "text/plain": [
       "<IPython.core.display.Javascript object>"
      ]
     },
     "metadata": {},
     "output_type": "display_data"
    },
    {
     "data": {
      "application/javascript": [
       "try {IPython.notebook.kernel.execute(\"NOTEBOOK_URL = '\" + window.location + \"'\");} catch(err) {;}"
      ],
      "text/plain": [
       "<IPython.core.display.Javascript object>"
      ]
     },
     "metadata": {},
     "output_type": "display_data"
    },
    {
     "data": {
      "text/html": [
       "<div>\n",
       "<style scoped>\n",
       "    .dataframe tbody tr th:only-of-type {\n",
       "        vertical-align: middle;\n",
       "    }\n",
       "\n",
       "    .dataframe tbody tr th {\n",
       "        vertical-align: top;\n",
       "    }\n",
       "\n",
       "    .dataframe thead tr th {\n",
       "        text-align: left;\n",
       "    }\n",
       "\n",
       "    .dataframe thead tr:last-of-type th {\n",
       "        text-align: right;\n",
       "    }\n",
       "</style>\n",
       "<table border=\"1\" class=\"dataframe\">\n",
       "  <thead>\n",
       "    <tr>\n",
       "      <th></th>\n",
       "      <th colspan=\"4\" halign=\"left\">weight</th>\n",
       "    </tr>\n",
       "    <tr>\n",
       "      <th></th>\n",
       "      <th>949110</th>\n",
       "      <th>980130</th>\n",
       "      <th>BlockGeoLocationChina</th>\n",
       "      <th>BlockInternetExplorer11</th>\n",
       "    </tr>\n",
       "    <tr>\n",
       "      <th>Ip Address</th>\n",
       "      <th></th>\n",
       "      <th></th>\n",
       "      <th></th>\n",
       "      <th></th>\n",
       "    </tr>\n",
       "  </thead>\n",
       "  <tbody>\n",
       "    <tr>\n",
       "      <th>1.192.0.0/16</th>\n",
       "      <td>0.000000</td>\n",
       "      <td>0.000000</td>\n",
       "      <td>1.0</td>\n",
       "      <td>0.0</td>\n",
       "    </tr>\n",
       "    <tr>\n",
       "      <th>3.81.0.0/16</th>\n",
       "      <td>0.707107</td>\n",
       "      <td>0.707107</td>\n",
       "      <td>0.0</td>\n",
       "      <td>0.0</td>\n",
       "    </tr>\n",
       "    <tr>\n",
       "      <th>3.229.0.0/16</th>\n",
       "      <td>0.707107</td>\n",
       "      <td>0.707107</td>\n",
       "      <td>0.0</td>\n",
       "      <td>0.0</td>\n",
       "    </tr>\n",
       "    <tr>\n",
       "      <th>13.65.0.0/16</th>\n",
       "      <td>0.707107</td>\n",
       "      <td>0.707107</td>\n",
       "      <td>0.0</td>\n",
       "      <td>0.0</td>\n",
       "    </tr>\n",
       "    <tr>\n",
       "      <th>13.68.0.0/16</th>\n",
       "      <td>0.707107</td>\n",
       "      <td>0.707107</td>\n",
       "      <td>0.0</td>\n",
       "      <td>0.0</td>\n",
       "    </tr>\n",
       "  </tbody>\n",
       "</table>\n",
       "</div>"
      ],
      "text/plain": [
       "                weight                                                        \n",
       "                949110    980130 BlockGeoLocationChina BlockInternetExplorer11\n",
       "Ip Address                                                                    \n",
       "1.192.0.0/16  0.000000  0.000000                   1.0                     0.0\n",
       "3.81.0.0/16   0.707107  0.707107                   0.0                     0.0\n",
       "3.229.0.0/16  0.707107  0.707107                   0.0                     0.0\n",
       "13.65.0.0/16  0.707107  0.707107                   0.0                     0.0\n",
       "13.68.0.0/16  0.707107  0.707107                   0.0                     0.0"
      ]
     },
     "metadata": {},
     "output_type": "display_data"
    }
   ],
   "source": [
    "query_RuleIds = '''\n",
    "AzureDiagnostics\n",
    "| where TimeGenerated between (datetime({startTime}).. datetime({endTime}))\n",
    "| where Category == \"ApplicationGatewayFirewallLog\"\n",
    "| where hostname_s startswith \"{host}\"\n",
    "| where action_s == 'Blocked'\n",
    "//| where ruleId_s != '920300'\n",
    "| summarize alertCount = count(), make_set(requestUri_s) by clientIp_s, ruleId_s\n",
    "'''.format(startTime = query_times_3.start, endTime = query_times_3.end, host = hosts_2.value)\n",
    "\n",
    "try:\n",
    "    dfPrac = showQuery(query_RuleIds)\n",
    "    df_RuleIds = showQuery(query_RuleIds)\n",
    "    df_RuleIds.rename(columns = {'clientIp_s':'Ip Address', 'ruleId_s':'RuleId', 'set_requestUri_s': 'RequestUris'}, inplace = True) \n",
    "    \n",
    "    maskBits = maskBitsVal(len(df_RuleIds['Ip Address'].unique()))\n",
    "    df_RuleIds['Ip Address'] = df_RuleIds['Ip Address'].apply(lambda x: ipaddress.IPv4Network(x + maskBits, strict = False))\n",
    "\n",
    "    viewData_ruleId = df_RuleIds.groupby([\"Ip Address\"], as_index=False).agg({'RuleId': list, 'alertCount': list, 'RequestUris': list})\n",
    "    tokenList = [sum([[s] * n for s, n in zip(viewData_ruleId['RuleId'][x], viewData_ruleId['alertCount'][x])], []) for x in range(0, len(viewData_ruleId))]\n",
    "\n",
    "    df_ruleId_tfidf = tfidfScores(viewData_ruleId, tokenList)\n",
    "    display(df_ruleId_tfidf.head(5))\n",
    "except Exception as e:\n",
    "    print('Error: ' + e)\n",
    "    traceback.print_exc()"
   ]
  },
  {
   "cell_type": "markdown",
   "metadata": {},
   "source": [
    "### Visualisation of the TFIDF scores for both approaches\n",
    "\n",
    "We will be using balloon plots to view the TFIDF scores for the two approaches"
   ]
  },
  {
   "cell_type": "code",
   "execution_count": 18,
   "metadata": {},
   "outputs": [
    {
     "data": {
      "application/vnd.jupyter.widget-view+json": {
       "model_id": "cd4cc8cfe1a443ae9f89bf2b346933bd",
       "version_major": 2,
       "version_minor": 0
      },
      "text/plain": [
       "interactive(children=(Select(description='TFIDF approach: ', layout=Layout(height='80px', width='50%'), option…"
      ]
     },
     "metadata": {},
     "output_type": "display_data"
    }
   ],
   "source": [
    "options = ['RuleId', 'SplitUris']\n",
    "\n",
    "def visualiseTFIDF(TfidfCategory):\n",
    "    try:\n",
    "        max_category = 30\n",
    "        df = pd.DataFrame()\n",
    "        if TfidfCategory == 'RuleId': df = df_ruleId_tfidf.copy()\n",
    "        else: df = df_splitUri_tfidf.copy()\n",
    "\n",
    "        df_tfidf = df.iloc[:, : max_category].stack().reset_index(drop = False).rename(columns = {'level_1':TfidfCategory, 'weight':'tfidf'})\n",
    "        df_tfidf['Ip Address'] = 'Ip ' + df_tfidf['Ip Address'].astype(str)\n",
    "        if 'RuleId' == TfidfCategory: df_tfidf['RuleId'] = 'rID ' + df_tfidf['RuleId'].astype(str)\n",
    "        fig = px.scatter(df_tfidf,  x = df_tfidf[TfidfCategory], y = df_tfidf['Ip Address'],\n",
    "                     size= np.log(1 + df_tfidf['tfidf']), color = df_tfidf['tfidf'],\n",
    "                     hover_data=[df_tfidf['tfidf']]) \n",
    "        fig.update_layout(height = max(800, 20 * len(set(df_tfidf[TfidfCategory]))), title_text= 'TFIDF distribution of ' +  TfidfCategory + ' against client IPs', width = 1700)\n",
    "        fig.show()\n",
    "        display(df.head(10))\n",
    "    except Exception as e:\n",
    "        print('Error: ' + e)\n",
    "        traceback.print_exc()\n",
    "    \n",
    "display(interactive(visualiseTFIDF, TfidfCategory = widgets.Select(options = options, style = style, layout = layout, description = 'TFIDF approach: ')))"
   ]
  },
  {
   "cell_type": "markdown",
   "metadata": {},
   "source": [
    "### DBSCAN Clustering and PCA of the request URIs for both approaches\n",
    "\n",
    "DBSCAN is a non-parametric density-based spatial clustering algorithm, which groups together points that are \"closely packed\" together. Points which lie in low density regions are marked as outliers. For more information, please see https://www.aaai.org/Papers/KDD/1996/KDD96-037.pdf."
   ]
  },
  {
   "cell_type": "code",
   "execution_count": 19,
   "metadata": {},
   "outputs": [],
   "source": [
    "def determineEps(data):\n",
    "    from sklearn.neighbors import NearestNeighbors\n",
    "    nearest_neighbors = NearestNeighbors(n_neighbors=5)\n",
    "    nearest_neighbors.fit(data)\n",
    "    distances, indices = nearest_neighbors.kneighbors(data)\n",
    "    distances = np.sort(distances, axis=0)[:, 1]\n",
    "    print(distances)\n",
    "    plt.plot(distances)\n",
    "    plt.show()\n",
    "\n",
    "def DBScanClustering(data, eps = 0.4):\n",
    "    dbscan = DBSCAN(eps=eps, min_samples = 5)\n",
    "    dbscan.fit(data)\n",
    "    return dbscan.labels_\n",
    "    \n",
    "def PrincipalComponentAnalysis(data, eps = 0.4):\n",
    "    while True: \n",
    "        try: \n",
    "            pca = PCA(n_components=2)\n",
    "            pca.fit(data)\n",
    "            x_pca = pca.transform(data)\n",
    "            break \n",
    "        except: \n",
    "            continue\n",
    "    clusters = DBScanClustering(data.values, eps)\n",
    "    \n",
    "    label = list(range(0, len(data), 1))\n",
    "    plt.figure(figsize=(20,15))\n",
    "    scatter = plt.scatter(x_pca[:,0],x_pca[:,1],c = clusters,cmap='rainbow')\n",
    "    handles, labels = scatter.legend_elements(prop=\"colors\", alpha=0.6)\n",
    "    plt.legend(handles, labels, loc=\"upper right\", title=\"Clusters\")\n",
    "    n = list(range(0, len(x_pca[:,0]), 1))\n",
    "    texts = []\n",
    "    for i, txt in enumerate(n):\n",
    "        texts.append(plt.text(x_pca[:,0][i], x_pca[:,1][i], txt))\n",
    "    adjust_text(texts)\n",
    "\n",
    "    plt.show()"
   ]
  },
  {
   "cell_type": "code",
   "execution_count": 20,
   "metadata": {},
   "outputs": [
    {
     "name": "stdout",
     "output_type": "stream",
     "text": [
      "\u001b[1mPrincipal Component Analysis \n",
      "\u001b[0m\n"
     ]
    },
    {
     "data": {
      "application/vnd.jupyter.widget-view+json": {
       "model_id": "9464db77f4e1499c982a6e09f4f57f86",
       "version_major": 2,
       "version_minor": 0
      },
      "text/plain": [
       "interactive(children=(Select(description='TFIDF approach: ', layout=Layout(height='80px', width='50%'), option…"
      ]
     },
     "metadata": {},
     "output_type": "display_data"
    }
   ],
   "source": [
    "options1 = ['RuleId', 'SplitUris']\n",
    "\n",
    "def viewPCA(tfidfCategory):\n",
    "    df = df_splitUri_tfidf.copy()\n",
    "    viewData = viewData_splitUri.copy()\n",
    "    if tfidfCategory == 'RuleId': \n",
    "        df = df_ruleId_tfidf.copy()\n",
    "        viewData = viewData_ruleId.copy()\n",
    "\n",
    "    print(tfidfCategory + ' approach (Outliers + Clustered request URI data): \\n')\n",
    "    while True:\n",
    "        try:\n",
    "            PrincipalComponentAnalysis(df)\n",
    "            break\n",
    "        except:\n",
    "            continue\n",
    "    \n",
    "print(color.BOLD + 'Principal Component Analysis \\n' + color.END)\n",
    "display(interactive(viewPCA, tfidfCategory = widgets.Select(options = options1, style = style, layout = layout, description = 'TFIDF approach: ')))    "
   ]
  },
  {
   "cell_type": "code",
   "execution_count": 21,
   "metadata": {},
   "outputs": [
    {
     "name": "stdout",
     "output_type": "stream",
     "text": [
      "\u001b[1mDBScan Clustering of the Request URIs \n",
      "\u001b[0m\n"
     ]
    },
    {
     "data": {
      "application/vnd.jupyter.widget-view+json": {
       "model_id": "9a59e7c076734509acdbaa3d7dcbd37e",
       "version_major": 2,
       "version_minor": 0
      },
      "text/plain": [
       "interactive(children=(Select(description='TFIDF approach: ', layout=Layout(height='80px', width='50%'), option…"
      ]
     },
     "metadata": {},
     "output_type": "display_data"
    }
   ],
   "source": [
    "options1 = ['RuleId', 'SplitUris']\n",
    "options2 = ['Outlier', 'Clustered']\n",
    "\n",
    "def viewClusters(tfidfCategory, requestURIs):\n",
    "    try:\n",
    "        df = df_splitUri_tfidf.copy()\n",
    "        viewData = viewData_splitUri.copy()\n",
    "        if tfidfCategory == 'RuleId': \n",
    "            df = df_ruleId_tfidf.copy()\n",
    "            viewData = viewData_ruleId.copy()\n",
    "\n",
    "        #print('Principal Component Analysis for ' + tfidfCategory + ' approach (Outliers + Clustered request URI data): \\n')\n",
    "         #PrincipalComponentAnalysis(df)\n",
    "\n",
    "        clusters = DBScanClustering(df.values)\n",
    "        print(requestURIs + ' URIs for ' + tfidfCategory+ ': \\n')\n",
    "\n",
    "        clusterList = list(set(clusters))\n",
    "        try:\n",
    "            clusterList.remove(-1)\n",
    "        except:\n",
    "            print()\n",
    "\n",
    "        if requestURIs == 'Outlier':\n",
    "            clusterList = [-1]\n",
    "\n",
    "        if clusterList:\n",
    "            for k in clusterList:\n",
    "                print('Cluster ' + str(k))\n",
    "                display(viewData[viewData['Ip Address'].isin(df.index.get_level_values(0)[clusters == k])])\n",
    "        else:\n",
    "            print('No Data')\n",
    "    except Exception as e:\n",
    "        print('Error: ' + e)\n",
    "        traceback.print_exc()\n",
    "\n",
    "print(color.BOLD + 'DBScan Clustering of the Request URIs \\n' + color.END)\n",
    "display(interactive(viewClusters, tfidfCategory = widgets.Select(options = options1, style = style, layout = layout, description = 'TFIDF approach: '), requestURIs = widgets.Select(options = options2, style = style, layout = layout, description = 'Request URIs: ') ))"
   ]
  },
  {
   "cell_type": "markdown",
   "metadata": {},
   "source": [
    "### Kusto query to further examine the WAF logs and alerts in the time frames with outlier request URIs"
   ]
  },
  {
   "cell_type": "code",
   "execution_count": 22,
   "metadata": {},
   "outputs": [
    {
     "name": "stdout",
     "output_type": "stream",
     "text": [
      "\u001b[1m\n",
      "Start time: \u001b[0m2020-11-20 15:03:34.308267\n",
      "\n",
      "\u001b[1mEnd time: \u001b[0m2020-12-01 15:03:34.308267\n",
      "\n"
     ]
    },
    {
     "data": {
      "application/vnd.jupyter.widget-view+json": {
       "model_id": "ec24bd460e0a44bda0b5411ff95f39eb",
       "version_major": 2,
       "version_minor": 0
      },
      "text/plain": [
       "Text(value='', description='IP address: ', layout=Layout(height='30px', width='50%'), placeholder='Enter maske…"
      ]
     },
     "metadata": {},
     "output_type": "display_data"
    },
    {
     "data": {
      "application/vnd.jupyter.widget-view+json": {
       "model_id": "ef458a1a9154462585ae53a2d22098c6",
       "version_major": 2,
       "version_minor": 0
      },
      "text/plain": [
       "Text(value='', description='Request URI: ', layout=Layout(height='30px', width='50%'), placeholder='Enter requ…"
      ]
     },
     "metadata": {},
     "output_type": "display_data"
    }
   ],
   "source": [
    "ipAddress = widgets.Text(style = style, layout = widgets.Layout(width=\"50%\", height=\"30px\"), description = 'IP address: ', placeholder = 'Enter masked IP address from the results above. Include masking bits.')\n",
    "requestURI = widgets.Text(style = style, layout = widgets.Layout(width=\"50%\", height=\"30px\"), description = 'Request URI: ', placeholder = 'Enter request URI from the results above')\n",
    "\n",
    "print(color.BOLD + '\\nStart time: ' + color.END + str(query_times_3.start) + '\\n')\n",
    "print(color.BOLD + 'End time: ' + color.END + str(query_times_3.end) + '\\n')\n",
    "\n",
    "display(ipAddress)\n",
    "display(requestURI)"
   ]
  },
  {
   "cell_type": "code",
   "execution_count": 25,
   "metadata": {},
   "outputs": [
    {
     "name": "stdout",
     "output_type": "stream",
     "text": [
      "\u001b[1m\n",
      "Start time: \u001b[0m2020-11-20 15:03:34.308267\n",
      "\n",
      "\u001b[1mEnd time: \u001b[0m2020-12-01 15:03:34.308267\n",
      "\n",
      "\u001b[1mIp Address entered: \u001b[0m43.226.0.0/16\n",
      "\n",
      "\u001b[1mRequest Uri entered: \u001b[0m/text.php\n",
      "\n"
     ]
    },
    {
     "data": {
      "application/javascript": [
       "try {IPython.notebook.kernel.execute(\"NOTEBOOK_URL = '\" + window.location + \"'\");} catch(err) {;}"
      ],
      "text/plain": [
       "<IPython.core.display.Javascript object>"
      ]
     },
     "metadata": {},
     "output_type": "display_data"
    },
    {
     "name": "stdout",
     "output_type": "stream",
     "text": [
      "ApplicationGatewayAccessLog (Raw) Data- \n",
      "\n"
     ]
    },
    {
     "data": {
      "text/html": [
       "<div>\n",
       "<style scoped>\n",
       "    .dataframe tbody tr th:only-of-type {\n",
       "        vertical-align: middle;\n",
       "    }\n",
       "\n",
       "    .dataframe tbody tr th {\n",
       "        vertical-align: top;\n",
       "    }\n",
       "\n",
       "    .dataframe thead th {\n",
       "        text-align: right;\n",
       "    }\n",
       "</style>\n",
       "<table border=\"1\" class=\"dataframe\">\n",
       "  <thead>\n",
       "    <tr style=\"text-align: right;\">\n",
       "      <th></th>\n",
       "      <th>TenantId</th>\n",
       "      <th>TimeGenerated</th>\n",
       "      <th>ResourceId</th>\n",
       "      <th>Category</th>\n",
       "      <th>ResourceGroup</th>\n",
       "      <th>SubscriptionId</th>\n",
       "      <th>ResourceProvider</th>\n",
       "      <th>Resource</th>\n",
       "      <th>ResourceType</th>\n",
       "      <th>OperationName</th>\n",
       "      <th>requestUri_s</th>\n",
       "      <th>userAgent_s</th>\n",
       "      <th>ruleName_s</th>\n",
       "      <th>httpMethod_s</th>\n",
       "      <th>instanceId_s</th>\n",
       "      <th>httpVersion_s</th>\n",
       "      <th>clientIP_s</th>\n",
       "      <th>host_s</th>\n",
       "      <th>clientPort_d</th>\n",
       "      <th>httpStatus_d</th>\n",
       "      <th>receivedBytes_d</th>\n",
       "      <th>sentBytes_d</th>\n",
       "      <th>timeTaken_d</th>\n",
       "      <th>SourceSystem</th>\n",
       "      <th>listenerName_s</th>\n",
       "      <th>backendPoolName_s</th>\n",
       "      <th>backendSettingName_s</th>\n",
       "      <th>transactionId_g</th>\n",
       "      <th>timeStamp_t</th>\n",
       "      <th>originalRequestUriWithArgs_s</th>\n",
       "      <th>originalHost_s</th>\n",
       "      <th>Type</th>\n",
       "      <th>_ResourceId</th>\n",
       "    </tr>\n",
       "  </thead>\n",
       "  <tbody>\n",
       "    <tr>\n",
       "      <th>0</th>\n",
       "      <td>8ecf8077-cf51-4820-aadd-14040956f35d</td>\n",
       "      <td>2020-11-28 21:40:24.660000+00:00</td>\n",
       "      <td>/SUBSCRIPTIONS/D1D8779D-38D7-4F06-91DB-9CBC8DE0176F/RESOURCEGROUPS/SOC-NS/PROVIDERS/MICROSOFT.NETWORK/APPLICATIONGATEWAYS/SOC-NS-AG-WAFV2</td>\n",
       "      <td>ApplicationGatewayAccessLog</td>\n",
       "      <td>SOC-NS</td>\n",
       "      <td>d1d8779d-38d7-4f06-91db-9cbc8de0176f</td>\n",
       "      <td>MICROSOFT.NETWORK</td>\n",
       "      <td>SOC-NS-AG-WAFV2</td>\n",
       "      <td>APPLICATIONGATEWAYS</td>\n",
       "      <td>ApplicationGatewayAccess</td>\n",
       "      <td>/text.php</td>\n",
       "      <td>Mozilla/5.0 (Windows NT 6.1; Win64; x64) AppleWebKit/537.36 (KHTML, like Gecko) Chrome/49.0.2623.105 Safari/537.36</td>\n",
       "      <td>PublicIPRule</td>\n",
       "      <td>GET</td>\n",
       "      <td>appgw_1</td>\n",
       "      <td>HTTP/1.1</td>\n",
       "      <td>43.226.40.197</td>\n",
       "      <td>13.89.108.163</td>\n",
       "      <td>48241.0</td>\n",
       "      <td>403.0</td>\n",
       "      <td>224.0</td>\n",
       "      <td>762.0</td>\n",
       "      <td>0.0</td>\n",
       "      <td>Azure</td>\n",
       "      <td>Public-HTTP</td>\n",
       "      <td>PAAS-APP</td>\n",
       "      <td>Default</td>\n",
       "      <td>20bb559e-cb85-caeb-ffa6-2d1e292168a8</td>\n",
       "      <td>2020-11-28 21:39:00+00:00</td>\n",
       "      <td>/text.php</td>\n",
       "      <td>13.89.108.163</td>\n",
       "      <td>AzureDiagnostics</td>\n",
       "      <td>/subscriptions/d1d8779d-38d7-4f06-91db-9cbc8de0176f/resourcegroups/soc-ns/providers/microsoft.network/applicationgateways/soc-ns-ag-wafv2</td>\n",
       "    </tr>\n",
       "  </tbody>\n",
       "</table>\n",
       "</div>"
      ],
      "text/plain": [
       "                               TenantId                    TimeGenerated  \\\n",
       "0  8ecf8077-cf51-4820-aadd-14040956f35d 2020-11-28 21:40:24.660000+00:00   \n",
       "\n",
       "                                                                                                                                  ResourceId  \\\n",
       "0  /SUBSCRIPTIONS/D1D8779D-38D7-4F06-91DB-9CBC8DE0176F/RESOURCEGROUPS/SOC-NS/PROVIDERS/MICROSOFT.NETWORK/APPLICATIONGATEWAYS/SOC-NS-AG-WAFV2   \n",
       "\n",
       "                      Category ResourceGroup  \\\n",
       "0  ApplicationGatewayAccessLog        SOC-NS   \n",
       "\n",
       "                         SubscriptionId   ResourceProvider         Resource  \\\n",
       "0  d1d8779d-38d7-4f06-91db-9cbc8de0176f  MICROSOFT.NETWORK  SOC-NS-AG-WAFV2   \n",
       "\n",
       "          ResourceType             OperationName requestUri_s  \\\n",
       "0  APPLICATIONGATEWAYS  ApplicationGatewayAccess    /text.php   \n",
       "\n",
       "                                                                                                          userAgent_s  \\\n",
       "0  Mozilla/5.0 (Windows NT 6.1; Win64; x64) AppleWebKit/537.36 (KHTML, like Gecko) Chrome/49.0.2623.105 Safari/537.36   \n",
       "\n",
       "     ruleName_s httpMethod_s instanceId_s httpVersion_s     clientIP_s  \\\n",
       "0  PublicIPRule          GET      appgw_1      HTTP/1.1  43.226.40.197   \n",
       "\n",
       "          host_s  clientPort_d  httpStatus_d  receivedBytes_d  sentBytes_d  \\\n",
       "0  13.89.108.163       48241.0         403.0            224.0        762.0   \n",
       "\n",
       "   timeTaken_d SourceSystem listenerName_s backendPoolName_s  \\\n",
       "0          0.0        Azure    Public-HTTP          PAAS-APP   \n",
       "\n",
       "  backendSettingName_s                       transactionId_g  \\\n",
       "0              Default  20bb559e-cb85-caeb-ffa6-2d1e292168a8   \n",
       "\n",
       "                timeStamp_t originalRequestUriWithArgs_s originalHost_s  \\\n",
       "0 2020-11-28 21:39:00+00:00                    /text.php  13.89.108.163   \n",
       "\n",
       "               Type  \\\n",
       "0  AzureDiagnostics   \n",
       "\n",
       "                                                                                                                                 _ResourceId  \n",
       "0  /subscriptions/d1d8779d-38d7-4f06-91db-9cbc8de0176f/resourcegroups/soc-ns/providers/microsoft.network/applicationgateways/soc-ns-ag-wafv2  "
      ]
     },
     "metadata": {},
     "output_type": "display_data"
    },
    {
     "data": {
      "application/javascript": [
       "try {IPython.notebook.kernel.execute(\"NOTEBOOK_URL = '\" + window.location + \"'\");} catch(err) {;}"
      ],
      "text/plain": [
       "<IPython.core.display.Javascript object>"
      ]
     },
     "metadata": {},
     "output_type": "display_data"
    },
    {
     "name": "stdout",
     "output_type": "stream",
     "text": [
      "ApplicationGatewayFirewallLog (Alert) Data- \n",
      "\n"
     ]
    },
    {
     "data": {
      "text/html": [
       "<div>\n",
       "<style scoped>\n",
       "    .dataframe tbody tr th:only-of-type {\n",
       "        vertical-align: middle;\n",
       "    }\n",
       "\n",
       "    .dataframe tbody tr th {\n",
       "        vertical-align: top;\n",
       "    }\n",
       "\n",
       "    .dataframe thead th {\n",
       "        text-align: right;\n",
       "    }\n",
       "</style>\n",
       "<table border=\"1\" class=\"dataframe\">\n",
       "  <thead>\n",
       "    <tr style=\"text-align: right;\">\n",
       "      <th></th>\n",
       "      <th>TenantId</th>\n",
       "      <th>TimeGenerated</th>\n",
       "      <th>ResourceId</th>\n",
       "      <th>Category</th>\n",
       "      <th>ResourceGroup</th>\n",
       "      <th>SubscriptionId</th>\n",
       "      <th>ResourceProvider</th>\n",
       "      <th>Resource</th>\n",
       "      <th>ResourceType</th>\n",
       "      <th>OperationName</th>\n",
       "      <th>requestUri_s</th>\n",
       "      <th>Message</th>\n",
       "      <th>instanceId_s</th>\n",
       "      <th>SourceSystem</th>\n",
       "      <th>engine_s</th>\n",
       "      <th>ruleSetType_s</th>\n",
       "      <th>ruleId_s</th>\n",
       "      <th>action_s</th>\n",
       "      <th>hostname_s</th>\n",
       "      <th>transactionId_g</th>\n",
       "      <th>policyId_s</th>\n",
       "      <th>policyScope_s</th>\n",
       "      <th>policyScopeName_s</th>\n",
       "      <th>timeStamp_t</th>\n",
       "      <th>clientIp_s</th>\n",
       "      <th>Type</th>\n",
       "      <th>_ResourceId</th>\n",
       "    </tr>\n",
       "  </thead>\n",
       "  <tbody>\n",
       "    <tr>\n",
       "      <th>0</th>\n",
       "      <td>8ecf8077-cf51-4820-aadd-14040956f35d</td>\n",
       "      <td>2020-11-28 21:40:26.555000+00:00</td>\n",
       "      <td>/SUBSCRIPTIONS/D1D8779D-38D7-4F06-91DB-9CBC8DE0176F/RESOURCEGROUPS/SOC-NS/PROVIDERS/MICROSOFT.NETWORK/APPLICATIONGATEWAYS/SOC-NS-AG-WAFV2</td>\n",
       "      <td>ApplicationGatewayFirewallLog</td>\n",
       "      <td>SOC-NS</td>\n",
       "      <td>d1d8779d-38d7-4f06-91db-9cbc8de0176f</td>\n",
       "      <td>MICROSOFT.NETWORK</td>\n",
       "      <td>SOC-NS-AG-WAFV2</td>\n",
       "      <td>APPLICATIONGATEWAYS</td>\n",
       "      <td>ApplicationGatewayFirewall</td>\n",
       "      <td>/text.php</td>\n",
       "      <td>Found condition 0 in RemoteAddr, with value 43.226.40.197 (CN).</td>\n",
       "      <td>appgw_1</td>\n",
       "      <td>Azure</td>\n",
       "      <td>Azwaf</td>\n",
       "      <td>Custom</td>\n",
       "      <td>BlockGeoLocationChina</td>\n",
       "      <td>Blocked</td>\n",
       "      <td>13.89.108.163</td>\n",
       "      <td>20bb559e-cb85-caeb-ffa6-2d1e292168a8</td>\n",
       "      <td>2#default</td>\n",
       "      <td>Global</td>\n",
       "      <td>Global</td>\n",
       "      <td>2020-11-28 21:39:00+00:00</td>\n",
       "      <td>43.226.40.197</td>\n",
       "      <td>AzureDiagnostics</td>\n",
       "      <td>/subscriptions/d1d8779d-38d7-4f06-91db-9cbc8de0176f/resourcegroups/soc-ns/providers/microsoft.network/applicationgateways/soc-ns-ag-wafv2</td>\n",
       "    </tr>\n",
       "  </tbody>\n",
       "</table>\n",
       "</div>"
      ],
      "text/plain": [
       "                               TenantId                    TimeGenerated  \\\n",
       "0  8ecf8077-cf51-4820-aadd-14040956f35d 2020-11-28 21:40:26.555000+00:00   \n",
       "\n",
       "                                                                                                                                  ResourceId  \\\n",
       "0  /SUBSCRIPTIONS/D1D8779D-38D7-4F06-91DB-9CBC8DE0176F/RESOURCEGROUPS/SOC-NS/PROVIDERS/MICROSOFT.NETWORK/APPLICATIONGATEWAYS/SOC-NS-AG-WAFV2   \n",
       "\n",
       "                        Category ResourceGroup  \\\n",
       "0  ApplicationGatewayFirewallLog        SOC-NS   \n",
       "\n",
       "                         SubscriptionId   ResourceProvider         Resource  \\\n",
       "0  d1d8779d-38d7-4f06-91db-9cbc8de0176f  MICROSOFT.NETWORK  SOC-NS-AG-WAFV2   \n",
       "\n",
       "          ResourceType               OperationName requestUri_s  \\\n",
       "0  APPLICATIONGATEWAYS  ApplicationGatewayFirewall    /text.php   \n",
       "\n",
       "                                                           Message  \\\n",
       "0  Found condition 0 in RemoteAddr, with value 43.226.40.197 (CN).   \n",
       "\n",
       "  instanceId_s SourceSystem engine_s ruleSetType_s               ruleId_s  \\\n",
       "0      appgw_1        Azure    Azwaf        Custom  BlockGeoLocationChina   \n",
       "\n",
       "  action_s     hostname_s                       transactionId_g policyId_s  \\\n",
       "0  Blocked  13.89.108.163  20bb559e-cb85-caeb-ffa6-2d1e292168a8  2#default   \n",
       "\n",
       "  policyScope_s policyScopeName_s               timeStamp_t     clientIp_s  \\\n",
       "0        Global            Global 2020-11-28 21:39:00+00:00  43.226.40.197   \n",
       "\n",
       "               Type  \\\n",
       "0  AzureDiagnostics   \n",
       "\n",
       "                                                                                                                                 _ResourceId  \n",
       "0  /subscriptions/d1d8779d-38d7-4f06-91db-9cbc8de0176f/resourcegroups/soc-ns/providers/microsoft.network/applicationgateways/soc-ns-ag-wafv2  "
      ]
     },
     "metadata": {},
     "output_type": "display_data"
    }
   ],
   "source": [
    "try:\n",
    "    kql_query = '''\n",
    "    AzureDiagnostics\n",
    "    | where TimeGenerated between (datetime({startTime}).. datetime({endTime}))\n",
    "    | where Category == \"{category}\"\n",
    "    | where {hostname} startswith \"{host}\" \n",
    "    | where action_s == 'Blocked' or isempty(action_s)\n",
    "    //| where ruleId_s != '920300'\n",
    "    | where {ip} startswith \"{ipaddress}\"\n",
    "    | extend originalRequestUriWithArgs_s = column_ifexists(\"originalRequestUriWithArgs_s\", \"\")\n",
    "    | where requestUri_s contains {uri} or originalRequestUriWithArgs_s contains {uri}\n",
    "    | take 10\n",
    "    '''\n",
    "    cutOff = [1, 2, 3, 4]\n",
    "    intlist = [8, 16, 24, 32]\n",
    "    \n",
    "    if ipAddress.value != '':\n",
    "        ipaddress = str(ipAddress.value).strip().split('/')[0]\n",
    "        maskBits =  int(str(ipAddress.value).strip().split('/')[1])\n",
    "        ipaddress = '.'.join(ipaddress.split('.')[0:cutOff[intlist.index(maskBits)]])\n",
    "    else:\n",
    "        ipaddress = ''\n",
    "        \n",
    "    print(color.BOLD + '\\nStart time: ' + color.END + str(query_times_3.start) + '\\n')\n",
    "    print(color.BOLD + 'End time: '+ color.END + str(query_times_3.end) + '\\n')\n",
    "    \n",
    "    print(color.BOLD + 'Ip Address entered: ' + color.END + str(ipAddress.value) + '\\n')\n",
    "    print(color.BOLD  + 'Request Uri entered: ' + color.END + str((requestURI.value).strip()) + '\\n' )\n",
    "    \n",
    "    category = 'ApplicationGatewayAccessLog'\n",
    "    ip_var = 'clientIP_s'\n",
    "    host_var = 'host_s'\n",
    "    uri = '\\'' + (requestURI.value).strip() +  '\\''\n",
    "    kql_accessLogs = kql_query.format(hostname = host_var, startTime = query_times_3.start, endTime = query_times_3.end, host = hosts_2.value, category = category, ip = ip_var, ipaddress = ipaddress, uri = uri)\n",
    "    df_rawAccessKustoQuery = showQuery(kql_accessLogs)\n",
    "    print(category + ' (Raw) Data- \\n')\n",
    "    display(df_rawAccessKustoQuery.head(10))\n",
    "    \n",
    "    category = 'ApplicationGatewayFirewallLog'\n",
    "    ip_var = 'clientIp_s'\n",
    "    host_var = 'hostname_s'\n",
    "    uri = '@' + '\\'' + (requestURI.value).strip() +  '\\''\n",
    "    kql_firewallLogs = kql_query.format(hostname = host_var, startTime = query_times_3.start, endTime = query_times_3.end, host = hosts_2.value, category = category, ip = ip_var, ipaddress = ipaddress, uri = uri,)\n",
    "    df_rawFirewallKustoQuery = showQuery(kql_firewallLogs)\n",
    "    print(category + ' (Alert) Data- \\n')\n",
    "    display(df_rawFirewallKustoQuery.head(10))\n",
    "    \n",
    "except Exception as e:\n",
    "    print('Error: ' + str(e))\n",
    "    traceback.print_exc()"
   ]
  },
  {
   "cell_type": "code",
   "execution_count": null,
   "metadata": {},
   "outputs": [],
   "source": []
  }
 ],
 "metadata": {
  "kernelspec": {
   "display_name": "Python 3",
   "language": "python",
   "name": "python3"
  },
  "language_info": {
   "codemirror_mode": {
    "name": "ipython",
    "version": 3
   },
   "file_extension": ".py",
   "mimetype": "text/x-python",
   "name": "python",
   "nbconvert_exporter": "python",
   "pygments_lexer": "ipython3",
   "version": "3.8.0"
  }
 },
 "nbformat": 4,
 "nbformat_minor": 4
}