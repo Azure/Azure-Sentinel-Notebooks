{
  "cells": [
    {
      "cell_type": "markdown",
      "source": [
        "# Scheduled: Hunting - Automated Data Query and MDTI API and Ingestion to Custom Table\n",
        "\n",
        "__Notebook Version:__ 1.0<br>\n",
        "__Python Version:__ Python 3.8<br>\n",
        "__Apache Spark Version:__ 3.1<br>\n",
        "__Required Packages:__ azure-monitor-query, azure-mgmt-loganalytics<br>\n",
        "__Platforms Supported:__  Azure Synapse Analytics\n",
        "     \n",
        "__Data Source Required:__ Log Analytics custom table defined\n",
        "    \n",
        "### Description\n",
        "This notebook provides step-by-step instructions and sample code to query various data from Azure Log Analytics and then store it back to Log Analytocs pre-defined custom table.<br>\n",
        "*** Please run the cells sequentially to avoid errors.  Please do not use \"run all cells\". *** <br>\n",
        "Need to know more about KQL? [Getting started with Kusto Query Language](https://docs.microsoft.com/azure/data-explorer/kusto/concepts/).\n",
        "\n",
        "## Table of Contents\n",
        "1. Warm-up\n",
        "2. Azure Log Analytics Data Queries\n",
        "3. Save result to Azure Log Analytics Custom Table"
      ],
      "metadata": {}
    },
    {
      "cell_type": "markdown",
      "source": [
        "## 1. Warm-up"
      ],
      "metadata": {}
    },
    {
      "cell_type": "code",
      "source": [
        "# Load Python libraries that will be used in this notebook\n",
        "from azure.mgmt.loganalytics import LogAnalyticsManagementClient\n",
        "from azure.monitor.query import LogsQueryClient, MetricsQueryClient, LogsQueryStatus\n",
        "from azure.monitor.ingestion import LogsIngestionClient\n",
        "\n",
        "from azure.identity import AzureCliCredential, DefaultAzureCredential, ClientSecretCredential\n",
        "from azure.core.exceptions import  HttpResponseError \n",
        "\n",
        "from datetime import datetime, timezone, timedelta\n",
        "import requests\n",
        "import pandas as pd\n",
        "import numpy\n",
        "import json\n",
        "import ipywidgets\n",
        "from IPython.display import display, HTML, Markdown"
      ],
      "outputs": [
        {
          "output_type": "display_data",
          "data": {
            "application/vnd.livy.statement-meta+json": {
              "spark_pool": "XLargePool32",
              "session_id": "14",
              "statement_id": 5,
              "state": "finished",
              "livy_statement_state": "available",
              "queued_time": "2023-09-01T22:42:00.5711512Z",
              "session_start_time": null,
              "execution_start_time": "2023-09-01T22:42:00.7564605Z",
              "execution_finish_time": "2023-09-01T22:42:09.8987858Z",
              "spark_jobs": null,
              "parent_msg_id": "f9cdfdc2-f13c-40c1-830d-c040d35127d4"
            },
            "text/plain": "StatementMeta(XLargePool32, 14, 5, Finished, Available)"
          },
          "metadata": {}
        },
        {
          "output_type": "display_data",
          "data": {
            "application/vnd.livy.statement-meta+json": {
              "spark_pool": "XLargePool32",
              "session_id": "14",
              "statement_id": 6,
              "state": "finished",
              "livy_statement_state": "available",
              "queued_time": "2023-09-01T22:42:33.6816691Z",
              "session_start_time": null,
              "execution_start_time": "2023-09-01T22:42:33.8320787Z",
              "execution_finish_time": "2023-09-01T22:42:34.0695479Z",
              "spark_jobs": null,
              "parent_msg_id": "624aa070-2142-4def-9336-c08044d614d9"
            },
            "text/plain": "StatementMeta(XLargePool32, 14, 6, Finished, Available)"
          },
          "metadata": {}
        }
      ],
      "execution_count": 4,
      "metadata": {
        "jupyter": {
          "source_hidden": false,
          "outputs_hidden": false
        },
        "nteract": {
          "transient": {
            "deleting": false
          }
        },
        "tags": []
      }
    },
    {
      "cell_type": "code",
      "source": [
        "# User input for Log Analytics workspace as the data source for querying\r\n",
        "subscription_id_source = \"\"\r\n",
        "resource_group_name_source = \"\"\r\n",
        "workspace_name_source = \"\"\r\n",
        "workspace_id_source = \"\"\r\n",
        "workspace_resource_id_source = \"/subscriptions/{0}/resourceGroups/{1}/providers/Microsoft.OperationalInsights/workspaces/{2}\".format(subscription_id_source, resource_group_name_source, workspace_name_source)\r\n",
        "\r\n",
        "\r\n",
        "# User input for Log Analytics workspace for data ingestion\r\n",
        "resource_group_name = \"\"\r\n",
        "location = \"\"\r\n",
        "workspace_name = ''\r\n",
        "workspace_resource_id_source = \"/subscriptions/{0}/resourceGroups/{1}/providers/Microsoft.OperationalInsights/workspaces/{2}\".format(subscription_id, resource_group_name, workspace_name)\r\n",
        "data_collection_endpoint_name = \"\"\r\n",
        "data_collection_rule_name = \"\"\r\n",
        "custom_table_name = \"\"\r\n",
        "stream_name = \"Custom-\" + custom_table_name\r\n",
        "immutable_rule_id = \"\"\r\n",
        "dce_endpoint = \"\"\r\n",
        "\r\n",
        "tenant_id = \"\"\r\n",
        "subscription_id = \"\"\r\n",
        "workspace_id = \"\"\r\n",
        "\r\n",
        "akv_name = \"\"\r\n",
        "client_id_name = \"\"\r\n",
        "client_secret_name = \"\"\r\n",
        "akv_link_name = \"\""
      ],
      "outputs": [],
      "execution_count": null,
      "metadata": {
        "jupyter": {
          "source_hidden": false,
          "outputs_hidden": false
        },
        "nteract": {
          "transient": {
            "deleting": false
          }
        },
        "tags": [
          "parameters"
        ]
      }
    },
    {
      "cell_type": "code",
      "source": [
        "# You may need to change resource_uri for various cloud environments.\r\n",
        "resource_uri = \"https://api.loganalytics.io\"\r\n",
        "client_id = mssparkutils.credentials.getSecret(akv_name, client_id_name, akv_link_name)\r\n",
        "client_secret = mssparkutils.credentials.getSecret(akv_name, client_secret_name, akv_link_name)\r\n",
        "\r\n",
        "credential = ClientSecretCredential(\r\n",
        "    tenant_id=tenant_id, \r\n",
        "    client_id=client_id, \r\n",
        "    client_secret=client_secret)\r\n",
        "access_token = credential.get_token(resource_uri + \"/.default\")\r\n",
        "token = access_token[0]"
      ],
      "outputs": [
        {
          "output_type": "display_data",
          "data": {
            "application/vnd.livy.statement-meta+json": {
              "spark_pool": "XLargePool32",
              "session_id": "14",
              "statement_id": 8,
              "state": "finished",
              "livy_statement_state": "available",
              "queued_time": "2023-09-01T22:42:37.5127695Z",
              "session_start_time": null,
              "execution_start_time": "2023-09-01T22:42:37.663566Z",
              "execution_finish_time": "2023-09-01T22:42:39.6176162Z",
              "spark_jobs": null,
              "parent_msg_id": "34fd79bd-6452-4dea-b95f-5a4eafd23b92"
            },
            "text/plain": "StatementMeta(XLargePool32, 14, 8, Finished, Available)"
          },
          "metadata": {}
        }
      ],
      "execution_count": 7,
      "metadata": {}
    },
    {
      "cell_type": "markdown",
      "source": [
        "## 2. Azure Log Analytics Data Queries"
      ],
      "metadata": {
        "nteract": {
          "transient": {
            "deleting": false
          }
        }
      }
    },
    {
      "cell_type": "code",
      "source": [
        "# Functions for query\r\n",
        "def query_la(workspace_id_query, query):\r\n",
        "    la_data_client = LogsQueryClient(credential=credential)\r\n",
        "    end_time =  datetime.now(timezone.utc)\r\n",
        "    start_time = end_time - timedelta(15)\r\n",
        "\r\n",
        "    query_result = la_data_client.query_workspace(\r\n",
        "        workspace_id=workspace_id_query,\r\n",
        "        query=query,\r\n",
        "        timespan=(start_time, end_time))\r\n",
        "    \r\n",
        "    df_la_query = pd.DataFrame\r\n",
        "\r\n",
        "    if query_result.status == LogsQueryStatus.SUCCESS:\r\n",
        "        data = query_result.tables\r\n",
        "        if len(query_result.tables) > 1:\r\n",
        "            print('You have more than one tyable to processs')\r\n",
        "    elif query_result.status == LogsQueryStatus.PARTIAL:\r\n",
        "        data=query_result.partial_data\r\n",
        "        print(query_result.partial_error)\r\n",
        "    else:\r\n",
        "        print(query_result.error)\r\n",
        "    \r\n",
        "    if len(query_result.tables) > 1:\r\n",
        "        print('You have more than one tyable to processs')\r\n",
        "    for table in data:\r\n",
        "        df_la_query = pd.DataFrame(data=table.rows, columns=table.columns)\r\n",
        "        return df_la_query\r\n",
        "\r\n",
        "def create_ip_prefix(base):\r\n",
        "    a = []\r\n",
        "    for i in range(1,10):\r\n",
        "        a.append(base + str(i))\r\n",
        "    return a"
      ],
      "outputs": [
        {
          "output_type": "display_data",
          "data": {
            "application/vnd.livy.statement-meta+json": {
              "spark_pool": "XLargePool32",
              "session_id": "14",
              "statement_id": 9,
              "state": "finished",
              "livy_statement_state": "available",
              "queued_time": "2023-09-01T22:42:46.546817Z",
              "session_start_time": null,
              "execution_start_time": "2023-09-01T22:42:46.7086109Z",
              "execution_finish_time": "2023-09-01T22:42:46.8804332Z",
              "spark_jobs": null,
              "parent_msg_id": "6766aa39-8eab-4184-9fd4-c682358205f2"
            },
            "text/plain": "StatementMeta(XLargePool32, 14, 9, Finished, Available)"
          },
          "metadata": {}
        }
      ],
      "execution_count": 8,
      "metadata": {
        "jupyter": {
          "source_hidden": false,
          "outputs_hidden": false
        },
        "nteract": {
          "transient": {
            "deleting": false
          }
        }
      }
    },
    {
      "cell_type": "markdown",
      "source": [
        "### Slice data for query"
      ],
      "metadata": {
        "nteract": {
          "transient": {
            "deleting": false
          }
        }
      }
    },
    {
      "cell_type": "markdown",
      "source": [
        "### Using Multi-processing"
      ],
      "metadata": {
        "nteract": {
          "transient": {
            "deleting": false
          }
        }
      }
    },
    {
      "cell_type": "markdown",
      "source": [
        "### Joining query"
      ],
      "metadata": {
        "nteract": {
          "transient": {
            "deleting": false
          }
        }
      }
    },
    {
      "cell_type": "code",
      "source": [
        "# Use Dror's test LA table\r\n",
        "query = \"let t1 = SecurityAlert | extend ent = parse_json(Entities)| extend ip = tostring(ent[0]['Address']) | project-keep TimeGenerated, ip; let t2 = CommonSecurityLog | where TimeGenerated > ago({0}) | project ip = DestinationIP; t1 | join kind=innerunique t2 on ip\"\r\n",
        "lookback_period = '6h'\r\n",
        "\r\n",
        "query = query.format(lookback_period)\r\n",
        "#print(query)\r\n",
        "df_final = query_la(workspace_id_source, query)\r\n"
      ],
      "outputs": [
        {
          "output_type": "display_data",
          "data": {
            "application/vnd.livy.statement-meta+json": {
              "spark_pool": "XLargePool32",
              "session_id": "14",
              "statement_id": 25,
              "state": "finished",
              "livy_statement_state": "available",
              "queued_time": "2023-09-01T22:58:03.3980453Z",
              "session_start_time": null,
              "execution_start_time": "2023-09-01T22:58:03.6110478Z",
              "execution_finish_time": "2023-09-01T22:58:12.4177708Z",
              "spark_jobs": null,
              "parent_msg_id": "9b5b5c46-b825-4993-be6d-dcc0a07de680"
            },
            "text/plain": "StatementMeta(XLargePool32, 14, 25, Finished, Available)"
          },
          "metadata": {}
        }
      ],
      "execution_count": 24,
      "metadata": {
        "jupyter": {
          "source_hidden": false,
          "outputs_hidden": false
        },
        "nteract": {
          "transient": {
            "deleting": false
          }
        }
      }
    },
    {
      "cell_type": "markdown",
      "source": [
        "### Service Data: MDTI API"
      ],
      "metadata": {
        "nteract": {
          "transient": {
            "deleting": false
          }
        }
      }
    },
    {
      "cell_type": "code",
      "source": [
        "# Calling Microsoft MDTI API for List, the same template can be used for calling other Azure REST APIs with different parameters.\r\n",
        "# For different environments, such as national clouds, you may need to use different root_url, please contact with your admins.\r\n",
        "# It can be ---.azure.us, ---.azure.microsoft.scloud, ---.azure.eaglex.ic.gov, etc.\r\n",
        "def call_mdti_api_for_read(token, resource):\r\n",
        "    \"Calling Microsoft MDTI API\"\r\n",
        "    headers = {\"Authorization\": token, \"content-type\":\"application/json\" }\r\n",
        "    root_url = \"https://graph.microsoft.com\"\r\n",
        "    mdti_url_template = \"{0}/beta/security/threatIntelligence/{1}\"\r\n",
        "    mdti_url = mdti_url_template.format(root_url, resource)\r\n",
        "    # print(mdti_url)\r\n",
        "    response = requests.get(mdti_url, headers=headers, verify=True)\r\n",
        "    return response\r\n",
        "\r\n",
        "def get_token_for_graph():\r\n",
        "    resource_uri = \"https://graph.microsoft.com\"\r\n",
        "    client_id = mssparkutils.credentials.getSecret(akv_name, client_id_name, akv_link_name)\r\n",
        "    client_secret = mssparkutils.credentials.getSecret(akv_name, client_secret_name, akv_link_name)\r\n",
        "\r\n",
        "    credential = ClientSecretCredential(\r\n",
        "        tenant_id=tenant_id, \r\n",
        "        client_id=client_id, \r\n",
        "        client_secret=client_secret)\r\n",
        "    access_token = credential.get_token(resource_uri + \"/.default\")\r\n",
        "    return access_token[0]"
      ],
      "outputs": [
        {
          "output_type": "display_data",
          "data": {
            "application/vnd.livy.statement-meta+json": {
              "spark_pool": "XLargePool32",
              "session_id": "14",
              "statement_id": 27,
              "state": "finished",
              "livy_statement_state": "available",
              "queued_time": "2023-09-01T22:58:20.641195Z",
              "session_start_time": null,
              "execution_start_time": "2023-09-01T22:58:20.794435Z",
              "execution_finish_time": "2023-09-01T22:58:20.9837633Z",
              "spark_jobs": null,
              "parent_msg_id": "bb2aecd0-3a35-4485-b328-7544afd5e0ee"
            },
            "text/plain": "StatementMeta(XLargePool32, 14, 27, Finished, Available)"
          },
          "metadata": {}
        }
      ],
      "execution_count": 26,
      "metadata": {
        "jupyter": {
          "source_hidden": false,
          "outputs_hidden": false
        },
        "nteract": {
          "transient": {
            "deleting": false
          }
        }
      }
    },
    {
      "cell_type": "code",
      "source": [
        "# Temp solution for MDTI data\r\n",
        "sample_data = pd.read_json('abfs://modsynapsefiles/synapse/workspaces/modsynapse/mdti_host.json', typ='series').to_dict()\r\n",
        "df_host = pd.DataFrame(sample_data, index=[0])"
      ],
      "outputs": [
        {
          "output_type": "display_data",
          "data": {
            "application/vnd.livy.statement-meta+json": {
              "spark_pool": "XLargePool32",
              "session_id": "14",
              "statement_id": 29,
              "state": "finished",
              "livy_statement_state": "available",
              "queued_time": "2023-09-01T22:58:28.2125365Z",
              "session_start_time": null,
              "execution_start_time": "2023-09-01T22:58:28.3855283Z",
              "execution_finish_time": "2023-09-01T22:58:28.5595361Z",
              "spark_jobs": null,
              "parent_msg_id": "53c09f70-4609-4104-8f00-73fff697f5fc"
            },
            "text/plain": "StatementMeta(XLargePool32, 14, 29, Finished, Available)"
          },
          "metadata": {}
        }
      ],
      "execution_count": 28,
      "metadata": {
        "jupyter": {
          "source_hidden": false,
          "outputs_hidden": false
        },
        "nteract": {
          "transient": {
            "deleting": false
          }
        }
      }
    },
    {
      "cell_type": "code",
      "source": [
        "# Data process\r\n",
        "df_merged = pd.merge(df_final, df_host[['id','firstSeenDateTime','registrar']], left_on='ip', right_on='id', how=\"outer\")\r\n",
        "df_merged = df_merged.rename(columns = {'TimeGenerated': 'TimeGenerated', 'ip': 'Url', 'registrar': 'Fact'})[['TimeGenerated', 'Url', 'Fact']]\r\n",
        "df_merged = df_merged.fillna(numpy.nan).replace([numpy.nan], [None])"
      ],
      "outputs": [
        {
          "output_type": "display_data",
          "data": {
            "application/vnd.livy.statement-meta+json": {
              "spark_pool": "XLargePool32",
              "session_id": "14",
              "statement_id": 30,
              "state": "finished",
              "livy_statement_state": "available",
              "queued_time": "2023-09-01T22:58:30.0074969Z",
              "session_start_time": null,
              "execution_start_time": "2023-09-01T22:58:30.1421645Z",
              "execution_finish_time": "2023-09-01T22:58:30.6998566Z",
              "spark_jobs": null,
              "parent_msg_id": "31909e1d-c57d-49c6-adf1-38a4481921e6"
            },
            "text/plain": "StatementMeta(XLargePool32, 14, 30, Finished, Available)"
          },
          "metadata": {}
        }
      ],
      "execution_count": 29,
      "metadata": {
        "jupyter": {
          "source_hidden": false,
          "outputs_hidden": false
        },
        "nteract": {
          "transient": {
            "deleting": false
          }
        }
      }
    },
    {
      "cell_type": "markdown",
      "source": [
        "## 3. Save result to Azure Log Analytics Custom Table"
      ],
      "metadata": {
        "nteract": {
          "transient": {
            "deleting": false
          }
        }
      }
    },
    {
      "cell_type": "code",
      "source": [
        "# function for data converting\r\n",
        "def convert_dataframe_to_list_of_dictionaries(df, hasTimeGeneratedColumn):\r\n",
        "    list = df.to_dict('records')\r\n",
        "\r\n",
        "    for row in list:\r\n",
        "        # The dataframe may have more than one datetime columns, add all datetiome columns inside this loop, to render ISO 8601\r\n",
        "        if hasTimeGeneratedColumn and row['TimeGenerated'] != None:\r\n",
        "            row['TimeGenerated']= row['TimeGenerated'].strftime(\"%Y-%m-%dT%H:%M:%S.%fZ\")\r\n",
        "    \r\n",
        "    return list"
      ],
      "outputs": [
        {
          "output_type": "display_data",
          "data": {
            "application/vnd.livy.statement-meta+json": {
              "spark_pool": "XLargePool32",
              "session_id": "14",
              "statement_id": 32,
              "state": "finished",
              "livy_statement_state": "available",
              "queued_time": "2023-09-01T22:58:35.0322313Z",
              "session_start_time": null,
              "execution_start_time": "2023-09-01T22:58:35.2088563Z",
              "execution_finish_time": "2023-09-01T22:58:35.4122317Z",
              "spark_jobs": null,
              "parent_msg_id": "8fc8e906-1f02-49dd-bb80-1a020166f40a"
            },
            "text/plain": "StatementMeta(XLargePool32, 14, 32, Finished, Available)"
          },
          "metadata": {}
        }
      ],
      "execution_count": 31,
      "metadata": {
        "jupyter": {
          "source_hidden": false,
          "outputs_hidden": false
        },
        "nteract": {
          "transient": {
            "deleting": false
          }
        }
      }
    },
    {
      "cell_type": "code",
      "source": [
        "# Construct data body for LA data ingestion\r\n",
        "body = convert_dataframe_to_list_of_dictionaries(df_merged, True)"
      ],
      "outputs": [
        {
          "output_type": "display_data",
          "data": {
            "application/vnd.livy.statement-meta+json": {
              "spark_pool": "XLargePool32",
              "session_id": "14",
              "statement_id": 33,
              "state": "finished",
              "livy_statement_state": "available",
              "queued_time": "2023-09-01T22:58:37.2304119Z",
              "session_start_time": null,
              "execution_start_time": "2023-09-01T22:58:37.3770113Z",
              "execution_finish_time": "2023-09-01T22:58:37.9359598Z",
              "spark_jobs": null,
              "parent_msg_id": "2b61b288-25fc-4daa-b638-8e68268e4012"
            },
            "text/plain": "StatementMeta(XLargePool32, 14, 33, Finished, Available)"
          },
          "metadata": {}
        }
      ],
      "execution_count": 32,
      "metadata": {
        "jupyter": {
          "source_hidden": false,
          "outputs_hidden": false
        },
        "nteract": {
          "transient": {
            "deleting": false
          }
        }
      }
    },
    {
      "cell_type": "code",
      "source": [
        "# Data ingestion to LA custom table\r\n",
        "client = LogsIngestionClient(endpoint=dce_endpoint, credential=credential, logging_enable=True)\r\n",
        "\r\n",
        "try:\r\n",
        "    ingestion_result = client.upload(rule_id=immutable_rule_id, stream_name=stream_name, logs=body)\r\n",
        "except HttpResponseError as e:\r\n",
        "    print(f\"Upload failed: {e}\")"
      ],
      "outputs": [
        {
          "output_type": "display_data",
          "data": {
            "application/vnd.livy.statement-meta+json": {
              "spark_pool": "XLargePool32",
              "session_id": "14",
              "statement_id": 34,
              "state": "finished",
              "livy_statement_state": "available",
              "queued_time": "2023-09-01T22:58:40.0082521Z",
              "session_start_time": null,
              "execution_start_time": "2023-09-01T22:58:40.1827543Z",
              "execution_finish_time": "2023-09-01T22:58:41.3095117Z",
              "spark_jobs": null,
              "parent_msg_id": "900dda2e-a274-45a4-bdc0-62d8be857b01"
            },
            "text/plain": "StatementMeta(XLargePool32, 14, 34, Finished, Available)"
          },
          "metadata": {}
        }
      ],
      "execution_count": 33,
      "metadata": {
        "jupyter": {
          "source_hidden": false,
          "outputs_hidden": false
        },
        "nteract": {
          "transient": {
            "deleting": false
          }
        }
      }
    }
  ],
  "metadata": {
    "kernelspec": {
      "name": "synapse_pyspark",
      "display_name": "Synapse PySpark"
    },
    "language_info": {
      "name": "python"
    },
    "description": null,
    "save_output": true,
    "synapse_widget": {
      "version": "0.1",
      "state": {}
    }
  },
  "nbformat": 4,
  "nbformat_minor": 2
}