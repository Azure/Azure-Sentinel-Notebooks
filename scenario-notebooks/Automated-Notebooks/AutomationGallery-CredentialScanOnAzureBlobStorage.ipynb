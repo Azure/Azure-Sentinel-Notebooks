{
  "nbformat": 4,
  "nbformat_minor": 2,
  "metadata": {
    "kernelspec": {
      "name": "synapse_pyspark",
      "display_name": "Synapse PySpark"
    },
    "language_info": {
      "name": "python"
    },
    "description": null,
    "save_output": true,
    "synapse_widget": {
      "version": "0.1",
      "state": {}
    }
  },
  "cells": [
    {
      "cell_type": "markdown",
      "metadata": {
        "nteract": {
          "transient": {
            "deleting": false
          }
        }
      },
      "source": [
        "# Automation Gallery - Credential Scan on Azure Blob Storage\n",
        "\n",
        "__Notebook Version:__ 1.0<br>\n",
        "__Python Version:__ Python 3.8<br>\n",
        "__Apache Spark Version:__ 3.1<br>\n",
        "__Required Packages:__ No<br>\n",
        "__Platforms Supported:__  Azure Synapse Analytics\n",
        "     \n",
        "__Data Source Required:__ No \n",
        "    \n",
        "### Description\n",
        "This notebook provides step-by-step instructions and sample code to detect credential leak into Azure Blob Storage using Azure SDK for Python.<br>\n",
        "*** No need to download and install any other Python modules. ***<br>\n",
        "*** Please run the cells sequentially to avoid errors.  Please do not use \"run all cells\". *** <br>\n",
        "\n",
        "## Table of Contents\n",
        "1. Warm-up\n",
        "2. Authentication to Azure Storage\n",
        "3. Scan Azure Blob for Leaking Credentials"
      ]
    },
    {
      "cell_type": "markdown",
      "metadata": {
        "nteract": {
          "transient": {
            "deleting": false
          }
        }
      },
      "source": [
        "## 1. Warm-up"
      ]
    },
    {
      "cell_type": "code",
      "execution_count": null,
      "outputs": [],
      "metadata": {
        "gather": {
          "logged": 1642180667371
        },
        "jupyter": {
          "outputs_hidden": false,
          "source_hidden": false
        },
        "nteract": {
          "transient": {
            "deleting": false
          }
        },
        "collapsed": true
      },
      "source": [
        "# Load Python libraries that will be used in this notebook\n",
        "from azure.mgmt.storage import StorageManagementClient\n",
        "from azure.identity import DefaultAzureCredential\n",
        "from azure.storage.blob import BlobServiceClient, BlobClient, ContainerClient, __version__\n",
        "\n",
        "from azure.identity import ClientSecretCredential\n",
        "from datetime import datetime, timedelta, timezone\n",
        "\n",
        "import json\n",
        "import os\n",
        "import csv\n",
        "from IPython.display import display, HTML, Markdown\n",
        "import re"
      ]
    },
    {
      "cell_type": "code",
      "execution_count": null,
      "outputs": [],
      "metadata": {
        "gather": {
          "logged": 1642180670633
        },
        "jupyter": {
          "outputs_hidden": false,
          "source_hidden": false
        },
        "nteract": {
          "transient": {
            "deleting": false
          }
        },
        "collapsed": true
      },
      "source": [
        "# Functions will be used in this notebook\n",
        "def get_file_content(blob):\n",
        "    \"Decoding file content\"\n",
        "    try:\n",
        "        content = blob.content_as_text(max_concurrency=1, encoding='UTF-8')\n",
        "    except UnicodeDecodeError:\n",
        "        content = blob.content_as_text(max_concurrency=1, encoding='UTF-16')\n",
        "    return content\n",
        "\n",
        "def get_regex_list():\n",
        "    \"This function return RegEx list for credscan\"\n",
        "    regex_list = [\n",
        "        \"(?i)(ida:password|IssuerSecret|(api|client|app(lication)?)[_\\\\- ]?(key|secret)[^,a-z]|\\\\.azuredatabricks\\\\.net).{0,10}(dapi)?[a-z0-9/+]{22}\",\n",
        "        \"(?i)(x-api-(key|token).{0,10}[a-z0-9/+]{40}|v1\\\\.[a-z0-9/+]{40}[^a-z0-9/+])\",\n",
        "        \"(?-i:)\\\\WAIza(?i)[a-z0-9_\\\\\\\\\\\\-]{35}\\\\W\",\n",
        "        \"(?i)(\\\\Wsig\\\\W|Secret(Value)?|IssuerSecret|(\\\\Wsas|primary|secondary|management|Shared(Access(Policy)?)?).?Key|\\\\.azure\\\\-devices\\\\.net|\\\\.(core|servicebus|redis\\\\.cache|accesscontrol|mediaservices)\\\\.(windows\\\\.net|chinacloudapi\\\\.cn|cloudapi\\\\.de|usgovcloudapi\\\\.net)|New\\\\-AzureRedisCache).{0,100}([a-z0-9/+]{43}=)\",\n",
        "        \"(?i)visualstudio\\\\.com.{1,100}\\\\W(?-i:)[a-z2-7]{52}\\\\W\",\n",
        "        \"(?i)se=2021.+sig=[a-z0-9%]{43,63}%3d\",\n",
        "        \"(?i)(x-functions-key|ApiKey|Code=|\\\\.azurewebsites\\\\.net/api/).{0,100}[a-z0-9/\\\\+]{54}={2}\",\n",
        "        \"(?i)code=[a-z0-9%]{54,74}(%3d){2}\",\n",
        "        \"(?i)(userpwd|publishingpassword).{0,100}[a-z0-9/\\\\+]{60}\\\\W\",\n",
        "        \"(?i)[^a-z0-9/\\\\+][a-z0-9/\\\\+]{86}==\",\n",
        "        \"(?-i:)\\\\-{5}BEGIN( ([DR]SA|EC|OPENSSH|PGP))? PRIVATE KEY( BLOCK)?\\\\-{5}\",\n",
        "        \"(?i)(app(lication)?|client)[_\\\\- ]?(key(url)?|secret)([\\\\s=:>]{1,10}|[\\\\s\\\"':=|>\\\\]]{3,15}|[\\\"'=:\\\\(]{2})[^\\\\-]\",\n",
        "        \"(?i)refresh[_\\\\-]?token([\\\\s=:>]{1,10}|[\\\\s\\\"':=|>\\\\]]{3,15}|[\\\"'=:\\\\(]{2})(\\\"data:text/plain,.+\\\"|[a-z0-9/+=_.-]{20,200})\",\n",
        "        \"(?i)AccessToken(Secret)?([\\\\s\\\"':=|>\\\\]]{3,15}|[\\\"'=:\\\\(]{2}|[\\\\s=:>]{1,10})[a-z0-9/+=_.-]{20,200}\",\n",
        "        \"(?i)[a-z0-9]{3,5}://[^%:\\\\s\\\"'/][^:\\\\s\\\"'/\\\\$]+[^:\\\\s\\\"'/\\\\$%]:([^%\\\\s\\\"'/][^@\\\\s\\\"'/]{0,100}[^%\\\\s\\\"'/])@[\\\\$a-z0-9:\\\\.\\\\-_%\\\\?=/]+\",\n",
        "        \"(?i)snmp(\\\\-server)?\\\\.exe.{0,100}(priv|community)\",\n",
        "        \"(?i)(ConvertTo\\\\-?SecureString\\\\s*((\\\\(|\\\\Wstring)\\\\s*)?['\\\"]+)\",\n",
        "        \"(?i)(Consumer|api)[_\\\\- ]?(Secret|Key)([\\\\s=:>]{1,10}|[\\\\s\\\"':=|>,\\\\]]{3,15}|[\\\"'=:\\\\(]{2})[^\\\\s]{5,}\",\n",
        "        \"(?i)authorization[,\\\\[:= \\\"']+([dbaohmnsv])\",\n",
        "        \"(?i)-u\\\\s+.{2,100}-p\\\\s+[^\\\\-/]\",\n",
        "        \"(?i)(amqp|ssh|(ht|f)tps?)://[^%:\\\\s\\\"'/][^:\\\\s\\\"'/\\\\$]+[^:\\\\s\\\"'/\\\\$%]:([^%\\\\s\\\"'/][^@\\\\s\\\"'/]{0,100}[^%\\\\s\\\"'/])@[\\\\$a-z0-9:\\\\.\\\\-_%\\\\?=/]+\",\n",
        "        \"(?i)(\\\\Waws|amazon)?.{0,5}(secret|access.?key).{0,10}\\\\W[a-z0-9/\\\\+]{40}\",\n",
        "        \"(?-i:)(eyJ0eXAiOiJKV1Qi|eyJhbGci)\",\n",
        "        \"(?i)@(\\\\.(on)?)?microsoft\\\\.com[ -~\\\\s]{1,100}?(\\\\w?pass\\\\w?)\",\n",
        "        \"(?i)net(\\\\.exe)?.{1,5}(user\\\\s+|share\\\\s+/user:|user-?secrets? set)\\\\s+[a-z0-9]\",\n",
        "        \"(?i)xox[pbar]\\\\-[a-z0-9]\",\n",
        "        \"(?i)[\\\":\\\\s=]((x?corp|extranet(test)?|ntdev)(\\\\.microsoft\\\\.com)?|corp|redmond|europe|middleeast|northamerica|southpacific|southamerica|fareast|africa|exchange|extranet(test)?|partners|parttest|ntdev|ntwksta)\\\\W.{0,100}(password|\\\\Wpwd|\\\\Wpass|\\\\Wpw\\\\W|userpass)\",\n",
        "        \"(?i)(sign_in|SharePointOnlineAuthenticatedContext|(User|Exchange)Credentials?|password)[ -~\\\\s]{0,100}?@([a-z0-9.]+\\\\.(on)?)?microsoft\\\\.com['\\\"]?\",\n",
        "        \"(?i)(\\\\.database\\\\.azure\\\\.com|\\\\.database(\\\\.secure)?\\\\.windows\\\\.net|\\\\.cloudapp\\\\.net|\\\\.database\\\\.usgovcloudapi\\\\.net|\\\\.database\\\\.chinacloudapi\\\\.cn|\\\\.database.cloudapi.de).{0,100}(DB_PASS|(sql|service)?password|\\\\Wpwd\\\\W)\",\n",
        "        \"(?i)(secret(.?key)?|password)[\\\"']?\\\\s*[:=]\\\\s*[\\\"'][^\\\\s]+?[\\\"']\",\n",
        "        \"(?i)[^a-z\\\\$](DB_USER|user id|uid|(sql)?user(name)?|service\\\\s?account)\\\\s*[^\\\\w\\\\s,]([ -~\\\\s]{2,120}?|[ -~]{2,30}?)([^a-z\\\\s\\\\$]|\\\\s)\\\\s*(DB_PASS|(sql|service)?password|pwd)\",\n",
        "        \"(?i)(password|secret(key)?)[ \\\\t]*[=:]+[ \\\\t]*([^:\\\\s\\\"';,<]{2,200})\",\n",
        "    ]\n",
        "\n",
        "    return regex_list\n",
        "\n",
        "def convert_result_to_string(result_row):\n",
        "    if (type(result_row)) == str:\n",
        "        return result_row\n",
        "    elif (type(result_row)) == tuple:\n",
        "        return ','.join([m for m in result_row if len(m) > 0])\n",
        "\n",
        "def file_modified_date_check(days_back, modified_date):\n",
        "    aware_local_now = datetime.now(timezone.utc).astimezone()\n",
        "    time_between_modified = aware_local_now - modified_date\n",
        "    return time_between_modified.days < days_back\n",
        "\n",
        "\n",
        "from msrest.authentication import BasicTokenAuthentication\n",
        "from azure.core.pipeline.policies import BearerTokenCredentialPolicy\n",
        "from azure.core.pipeline import PipelineRequest, PipelineContext\n",
        "from azure.core.pipeline.transport import HttpRequest\n",
        "from azure.identity import DefaultAzureCredential\n",
        "\n",
        "class AzureIdentityCredentialAdapter(BasicTokenAuthentication):\n",
        "    def __init__(self, credential=None, resource_id=\"https://management.azure.com/.default\", **kwargs):\n",
        "        \"\"\"Adapt any azure-identity credential to work with SDK that needs azure.common.credentials or msrestazure.\n",
        "        Default resource is ARM (syntax of endpoint v2)\n",
        "        :param credential: Any azure-identity credential (DefaultAzureCredential by default)\n",
        "        :param str resource_id: The scope to use to get the token (default ARM)\n",
        "        \"\"\"\n",
        "        super(AzureIdentityCredentialAdapter, self).__init__(None)\n",
        "        if credential is None:\n",
        "            credential = DefaultAzureCredential()\n",
        "        self._policy = BearerTokenCredentialPolicy(credential, resource_id, **kwargs)\n",
        "\n",
        "    def _make_request(self):\n",
        "        return PipelineRequest(\n",
        "            HttpRequest(\n",
        "                \"AzureIdentityCredentialAdapter\",\n",
        "                \"https://fakeurl\"\n",
        "            ),\n",
        "            PipelineContext(None)\n",
        "        )\n",
        "\n",
        "    def set_token(self):\n",
        "        \"\"\"Ask the azure-core BearerTokenCredentialPolicy policy to get a token.\n",
        "        Using the policy gives us for free the caching system of azure-core.\n",
        "        We could make this code simpler by using private method, but by definition\n",
        "        I can't assure they will be there forever, so mocking a fake call to the policy\n",
        "        to extract the token, using 100% public API.\"\"\"\n",
        "        request = self._make_request()\n",
        "        self._policy.on_request(request)\n",
        "        # Read Authorization, and get the second part after Bearer\n",
        "        token = request.http_request.headers[\"Authorization\"].split(\" \", 1)[1]\n",
        "        self.token = {\"access_token\": token}\n",
        "\n",
        "    def signed_session(self, session=None):\n",
        "        self.set_token()\n",
        "        return super(AzureIdentityCredentialAdapter, self).signed_session(session)"
      ]
    },
    {
      "cell_type": "markdown",
      "metadata": {
        "nteract": {
          "transient": {
            "deleting": false
          }
        }
      },
      "source": [
        "## 2. Authentication to Azure Storage"
      ]
    },
    {
      "cell_type": "code",
      "execution_count": null,
      "outputs": [],
      "metadata": {
        "jupyter": {
          "source_hidden": false,
          "outputs_hidden": false
        },
        "nteract": {
          "transient": {
            "deleting": false
          }
        },
        "gather": {
          "logged": 1642180979202
        },
        "tags": [
          "parameters"
        ]
      },
      "source": [
        "tenant_id = ''\r\n",
        "subscription_id = ''\r\n",
        "akv_name = ''\r\n",
        "client_id_name = ''\r\n",
        "client_secret_name = ''\r\n",
        "akv_link_name = ''\r\n",
        "group_name = ''\r\n",
        "storage_account_name = ''\r\n",
        "container_name = ''"
      ]
    },
    {
      "cell_type": "code",
      "execution_count": null,
      "outputs": [],
      "metadata": {
        "jupyter": {
          "source_hidden": false,
          "outputs_hidden": false
        },
        "nteract": {
          "transient": {
            "deleting": false
          }
        }
      },
      "source": [
        "client_id = mssparkutils.credentials.getSecret(akv_name, client_id_name, akv_link_name)\r\n",
        "client_secret = mssparkutils.credentials.getSecret(akv_name, client_secret_name, akv_link_name)"
      ]
    },
    {
      "cell_type": "code",
      "execution_count": null,
      "outputs": [],
      "metadata": {
        "jupyter": {
          "source_hidden": false,
          "outputs_hidden": false
        },
        "nteract": {
          "transient": {
            "deleting": false
          }
        }
      },
      "source": [
        "credential = ClientSecretCredential(\r\n",
        "    tenant_id=tenant_id, \r\n",
        "    client_id=client_id, \r\n",
        "    client_secret=client_secret)\r\n",
        "cred = AzureIdentityCredentialAdapter(credential)"
      ]
    },
    {
      "cell_type": "code",
      "execution_count": null,
      "outputs": [],
      "metadata": {
        "jupyter": {
          "source_hidden": false,
          "outputs_hidden": false
        },
        "nteract": {
          "transient": {
            "deleting": false
          }
        }
      },
      "source": [
        "storage_client = StorageManagementClient(cred, subscription_id=subscription_id)"
      ]
    },
    {
      "cell_type": "markdown",
      "metadata": {
        "nteract": {
          "transient": {
            "deleting": false
          }
        }
      },
      "source": [
        "## 3. Scan Azure Blob for Leaking Credentials"
      ]
    },
    {
      "cell_type": "code",
      "execution_count": null,
      "outputs": [],
      "metadata": {
        "jupyter": {
          "source_hidden": false,
          "outputs_hidden": false
        },
        "nteract": {
          "transient": {
            "deleting": false
          }
        },
        "gather": {
          "logged": 1642183953308
        }
      },
      "source": [
        "storage_keys = storage_client.storage_accounts.list_keys(group_name,storage_account_name)\r\n",
        "if storage_keys != None:\r\n",
        "    storage_key = {v.key_name: v.value for v in storage_keys.keys}['key1']\r\n",
        "    print(\"key:\" + storage_key)\r\n",
        "\r\n",
        "    blob_service_client = BlobServiceClient(\r\n",
        "        account_url=\"https://{0}.blob.core.windows.net\".format(storage_account_name),\r\n",
        "        credential=storage_key\r\n",
        "    )\r\n",
        "\r\n",
        "    if blob_service_client != None:\r\n",
        "        container_client = blob_service_client.get_container_client(container_name)\r\n",
        "        if container_client != None:\r\n",
        "            blob_list = container_client.list_blobs()\r\n",
        "            for b in blob_list:\r\n",
        "                print(b.name)\r\n",
        "                print(b.last_modified)\r\n",
        "                try:\r\n",
        "                    if (file_modified_date_check(1000, b.last_modified)):\r\n",
        "                        blob = container_client.download_blob(b)\r\n",
        "                        content = get_file_content(blob)\r\n",
        "                    \r\n",
        "                        # Run Regex strings on the file content\r\n",
        "                        import warnings\r\n",
        "                        warnings.filterwarnings('ignore')\r\n",
        "                        result_list = []\r\n",
        "                        csv_string = \"\"\r\n",
        "                        if content != None:\r\n",
        "                            has_leaking = False\r\n",
        "                            regex_list = get_regex_list()\r\n",
        "                            for regex in regex_list:\r\n",
        "                                re.compile(regex)\r\n",
        "                                results = re.findall(regex, content)\r\n",
        "                                if results:\r\n",
        "                                    print(\"================================================\")\r\n",
        "                                    print(\"MATCHED REGEX:\\n\" + regex)\r\n",
        "                                    print(\"------------------------------------------------\")\r\n",
        "                                    print(\"FILE: \" + b.name + \"\\n\")\r\n",
        "                                    #print(content)\r\n",
        "                                    print(\"---------------MATCHED CONTENT -----------------\")\r\n",
        "                                    for result in results:\r\n",
        "                                        print(str(result))\r\n",
        "                                        csv_string = convert_result_to_string(result)\r\n",
        "                                        result_list.append(csv_string)   \r\n",
        "                                    print(\"================================================\")\r\n",
        "                                    has_leaking = True   \r\n",
        "                            if has_leaking == False:\r\n",
        "                                print('No leaking data found')\r\n",
        "                except:\r\n",
        "                    print(\"An exception occurred\")\r\n",
        "    else:\r\n",
        "        print(\"failed on blob service client\")"
      ]
    },
    {
      "cell_type": "code",
      "execution_count": null,
      "outputs": [],
      "metadata": {
        "jupyter": {
          "source_hidden": false,
          "outputs_hidden": false
        },
        "nteract": {
          "transient": {
            "deleting": false
          }
        }
      },
      "source": []
    }
  ]
}