{
  "cells": [
    {
      "cell_type": "markdown",
      "source": [
        "# Guided Hunting - Use Machine Learning to Detect Potential Low and Slow Password Sprays using Apache Spark via Azure Synapse\r\n",
        "\r\n",
        "__Notebook Version:__ 1.0<br>\r\n",
        "__Python Version:__ Python 3.8<br>\r\n",
        "__Required Packages:__ azureml-synapse, msticpy, azure-storage-file-datalake <br>\r\n",
        "__Platforms Supported:__  Azure Machine Learning Notebooks connected to Azure Synapse Workspace\r\n",
        "     \r\n",
        "__Data Source Required:__ Yes\r\n",
        "\r\n",
        "__Data Source:__ SigninLogs\r\n",
        "\r\n",
        "__Spark Version:__ 3.1 or above\r\n",
        "    \r\n",
        "## Description\r\n",
        "This guided hunting notebook leverages machine learning to tackle the difficult problem of detecting low and slow password spray campaigns (This augments more broad-scoped password spray detection already provided via Microsoft’s Identity Protection Integration for Sentinel.)\r\n",
        "We leverage the built-in parallelism of PySpark and MLlib (via the Azure Synapse linked service) to ingest, query and analyse data at scale.\r\n",
        "\r\n",
        "Low and slow sprays are a variant on traditional password spray attacks that are being increasingly used by sophisticated adversaries.\r\n",
        "These adversaries can randomize client fields between each sign in attempt, including IP addresses, user agents and client application and are often willing to let the password spray campaigns run at a very low frequency over a period of months or years, making detection very challenging.  \r\n",
        "A key observation that we exploit in this noteboo is the fact that, within a single campaign, attackers often randomize the same large number of properties simultaneously, resulting in a group of logins occurring periodically over a long period of time with same set of anomalous properties.\r\n",
        "\r\n",
        "This notebook runs through the following ML-driven approach to surfacing potential low and slow sprays. (For more details on the approach see the accompanying Microsoft Tech Community blog post: [Microsoft Sentinel Blog - Microsoft Tech Community](https://techcommunity.microsoft.com/t5/microsoft-sentinel-blog/bg-p/MicrosoftSentinelBlog).)\r\n",
        "\r\n",
        "1.\t**Detect anomalous fields for each failed sign-in** attempt using successful sign-ins as a baseline\r\n",
        "2.\t**Use ML to cluster failed sign-ins** by the columns which were randomized/anomalous\r\n",
        "3.\t**Prune the clusters** from the previous step based on knowledge of what a low and slow spray looks like; for example, by removing clusters in which sign-ins do not occur at a steady frequency over an extended period of time\r\n",
        "4.\t**Further analyze the candidate password spray clusters** (using threat intelligence enrichments from msticpy, for example), to find any invariant properties within the clusters\r\n",
        "5.\t**Identify any successful sign-ins that follow the patterns** observed for each cluster from the previous step and create Sentinel incidents as appropriate\r\n",
        "\r\n",
        "**Related MITRE ATT&CK techniques:**\r\n",
        "- [T1110: Brute Force](https://attack.mitre.org/techniques/T1110/)\r\n",
        "   - [T1110.003: Password Spraying](https://attack.mitre.org/techniques/T1110/003/)\r\n",
        "   - [T1110.004: Credential Stuffing](https://attack.mitre.org/techniques/T1110/004/)\r\n",
        "- [T1078: Valid Accounts](https://attack.mitre.org/techniques/T1078/)\r\n",
        "   - [T1078.004: Cloud Accounts](https://attack.mitre.org/techniques/T1078/004/)\r\n",
        "   \r\n",
        "## Pre-Requisites\r\n",
        "\r\n",
        "1. This notebook also makes use of the Azure Synapse integration for Sentinel notebooks. To set up the Synapse integration, please use the notebook [Configurate Azure ML and Azure Synapse Analytics](https://github.com/Azure/Azure-Sentinel-Notebooks/blob/master/Configurate%20Azure%20ML%20and%20Azure%20Synapse%20Analytics.ipynb).\r\n",
        "2. Ensure that the `bayespy ~= 0.5.22` Python pacakge is installed on your Spark pool. You can do this by uploading a `requirements.txt` file as detailed in the [docs](https://docs.microsoft.com/azure/synapse-analytics/spark/apache-spark-manage-python-packages#pool-libraries).\r\n",
        "3. Ensure that Sentinel SigninLogs data has been exported to an appropriate ADLS storage container. To export the necessary data\r\n",
        "   - Set up a continuous log export rule\r\n",
        "   - Do a one-time export of historical data$^*$  \r\n",
        "\r\n",
        "$^*$: A walkthrough of the one-time export of historical log data is available in a TechCommunity blog post here: [Export Historical Data from Log Analytics (microsoft.com)](https://techcommunity.microsoft.com/t5/microsoft-sentinel-blog/export-historical-log-data-from-microsoft-sentinel/ba-p/3413418).\r\n",
        "<br>\r\n",
        "The template notebook is available via the Sentinel UI or on GitHub: [Export Historical Log Data (GitHub)](https://github.com/Azure/Azure-Sentinel-Notebooks/blob/master/scenario-notebooks/Export%20Historical%20Log%20Data.ipynb).\r\n",
        "\r\n",
        "**Python modules may need to be downloaded.**  \r\n",
        "**Please run the cells sequentially to avoid errors.  Please do not use \"run all cells\".**\r\n",
        "\r\n",
        "## Table of Contents\r\n",
        "1. Warm-up\r\n",
        "2. Authentication to Azure Resources\r\n",
        "3. Configure Azure ML and Azure Synapse Analytics\r\n",
        "4. Load the Data\r\n",
        "5. Data Cleansing using Spark\r\n",
        "6. Data Science using Spark\r\n",
        "6. Enriching the Results\r\n",
        "7. Conclusion\r\n",
        "\r\n"
      ],
      "metadata": {
        "nteract": {
          "transient": {
            "deleting": false
          }
        }
      }
    },
    {
      "cell_type": "markdown",
      "source": [
        "# 1. Setup"
      ],
      "metadata": {
        "nteract": {
          "transient": {
            "deleting": false
          }
        }
      }
    },
    {
      "cell_type": "markdown",
      "source": [
        "## Install Packages\r\n",
        "> **Note**: Install below packages only for the first time and restart the kernel once done."
      ],
      "metadata": {
        "nteract": {
          "transient": {
            "deleting": false
          }
        }
      }
    },
    {
      "cell_type": "code",
      "source": [
        "# Install AzureML Synapse package to use spark magics\n",
        "import sys\n",
        "!{sys.executable} -m pip install --upgrade azureml-synapse"
      ],
      "outputs": [],
      "execution_count": null,
      "metadata": {
        "gather": {
          "logged": 1657890880080
        }
      }
    },
    {
      "cell_type": "code",
      "source": [
        "# Install Azure storage datalake library to manipulate file systems\n",
        "import sys\n",
        "!{sys.executable} -m pip install --upgrade azure-storage-file-datalake --pre"
      ],
      "outputs": [],
      "execution_count": null,
      "metadata": {
        "jupyter": {
          "source_hidden": false,
          "outputs_hidden": false
        },
        "nteract": {
          "transient": {
            "deleting": false
          }
        },
        "gather": {
          "logged": 1657718929323
        }
      }
    },
    {
      "cell_type": "code",
      "source": [
        "# Install msticpy for enhanced security data analysis\n",
        "import sys\n",
        "!{sys.executable} -m pip install --upgrade msticpy[azure]"
      ],
      "outputs": [],
      "execution_count": null,
      "metadata": {
        "jupyter": {
          "source_hidden": false,
          "outputs_hidden": false
        },
        "nteract": {
          "transient": {
            "deleting": false
          }
        },
        "gather": {
          "logged": 1657719343783
        }
      }
    },
    {
      "cell_type": "markdown",
      "source": [
        "*** $\\color{red}{Note:~After~installing~the~packages,~please~restart~the~kernel.}$ ***\r\n",
        "\r\n",
        "## Initialize `msticpy`\r\n",
        "\r\n",
        "The `nbinit` module loads required libraries and optionally installs required packages."
      ],
      "metadata": {
        "nteract": {
          "transient": {
            "deleting": false
          }
        }
      }
    },
    {
      "cell_type": "code",
      "source": [
        "# Load Python libraries that will be used in the non-Synapse portion of this notebook\n",
        "from datetime import timedelta, datetime\n",
        "import importlib\n",
        "import json\n",
        "\n",
        "from azureml.core import Workspace, LinkedService, SynapseWorkspaceLinkedServiceConfiguration, Datastore\n",
        "\n",
        "from azure.storage.filedatalake import DataLakeServiceClient\n",
        "from azure.core._match_conditions import MatchConditions\n",
        "from azureml.core.compute import ComputeTarget, SynapseCompute\n",
        "from azure.storage.filedatalake._models import ContentSettings\n",
        "from msticpy.nbtools import nbinit\n",
        "\n",
        "import pandas as pd\n",
        "from IPython import get_ipython\n",
        "from IPython.display import display, HTML\n",
        "from ipywidgets import Dropdown, HBox, IntSlider, Label, Layout\n",
        "from scipy.stats import ks_1samp, ks_2samp\n",
        "import warnings\n",
        "warnings.simplefilter(action='ignore', category=FutureWarning)\n",
        "\n",
        "\n",
        "REQ_PYTHON_VER=(3, 8)\n",
        "REQ_MSTICPY_VER=(1, 4, 4)\n",
        "\n",
        "display(HTML(\"<h3>Starting Notebook setup...</h3>\"))\n",
        "nbinit.init_notebook(namespace=globals())\n",
        "\n",
        "\n",
        "WIDGET_DEFAULTS = {\n",
        "    \"layout\": Layout(width=\"95%\"),\n",
        "    \"style\": {\"description_width\": \"initial\"},\n",
        "}\n",
        "\n",
        "#Set pandas options\n",
        "pd.set_option('display.max_rows', 10)\n",
        "pd.set_option('max_colwidth', 50)"
      ],
      "outputs": [],
      "execution_count": null,
      "metadata": {
        "jupyter": {
          "source_hidden": false,
          "outputs_hidden": false
        },
        "nteract": {
          "transient": {
            "deleting": false
          }
        },
        "gather": {
          "logged": 1658243187835
        }
      }
    },
    {
      "cell_type": "markdown",
      "source": [
        "## Configure Azure ML and Azure Synapse Analytics\r\n",
        "\r\n",
        "If you haven't previously set up the Synapse linked service for AzureML, please use the notebook, [Configurate Azure ML and Azure Synapse Analytics](https://github.com/Azure/Azure-Sentinel-Notebooks/blob/master/Configurate%20Azure%20ML%20and%20Azure%20Synapse%20Analytics.ipynb), to do so. The notebook will configure an existing Azure Synapse workspace to create and connect to Spark pool. You can then create linked service and connect the AML workspace to the Azure Synapse workspace.<br>\r\n",
        "\r\n",
        "You will also need to ensure that the `bayespy ~= 0.5.22` Python pacakge is installed on your Spark pool. You can do this by uploading a `requirements.txt` file as detailed in the [docs](https://docs.microsoft.com/azure/synapse-analytics/spark/apache-spark-manage-python-packages#pool-libraries)."
      ],
      "metadata": {
        "nteract": {
          "transient": {
            "deleting": false
          }
        }
      }
    },
    {
      "cell_type": "markdown",
      "source": [
        "### Authentication to Azure Resources\r\n",
        "\r\n",
        "We now connect the AML workspace to the Azure Synapse workspace using the linked service.\r\n",
        "\r\n",
        "> **Note**: Specify the input parameters in below step in order to connect to the Spark attached compute."
      ],
      "metadata": {
        "nteract": {
          "transient": {
            "deleting": false
          }
        }
      }
    },
    {
      "cell_type": "code",
      "source": [
        "amlworkspace = '<aml workspace name>'  # fill in your AML workspace name\n",
        "subscription_id = '<subscription id>' # fill in your subscription id\n",
        "resource_group = '<resource group of AML workspace>' # fill in your resource groups for AML workspace\n",
        "linkedservice = '<linked service name>' # fill in your linked service created to connect to Synapse workspace"
      ],
      "outputs": [],
      "execution_count": null,
      "metadata": {
        "jupyter": {
          "source_hidden": false,
          "outputs_hidden": false
        },
        "nteract": {
          "transient": {
            "deleting": false
          }
        },
        "gather": {
          "logged": 1658243188299
        }
      }
    },
    {
      "cell_type": "code",
      "source": [
        "# Get the aml workspace\n",
        "aml_workspace = Workspace.get(name=amlworkspace, subscription_id=subscription_id, resource_group=resource_group)\n",
        "\n",
        "# Retrieve a known linked service\n",
        "linked_service = LinkedService.get(aml_workspace, linkedservice)"
      ],
      "outputs": [],
      "execution_count": null,
      "metadata": {
        "jupyter": {
          "source_hidden": false,
          "outputs_hidden": false
        },
        "nteract": {
          "transient": {
            "deleting": false
          }
        },
        "gather": {
          "logged": 1658243188890
        }
      }
    },
    {
      "cell_type": "markdown",
      "source": [
        "### Start Spark Session\r\n",
        "Enter your Synapse Spark compute below. To view details of available Spark computes in the AML UI, please follow these steps:  </br>\r\n",
        "1. On the AML Studio left menu, navigate to **Linked Services**  </br>\r\n",
        "2. Click on the name of the Link Service you want to use </br>\r\n",
        "3. Select **Spark pools** tab </br>\r\n",
        "\r\n",
        "> **Note:** The Python contexts for the AML notebooks session and the Spark session are separate - this means that Python all variables defined using the `%%synapse` cell magic are not available in the AML notebook session and vice-versa."
      ],
      "metadata": {
        "nteract": {
          "transient": {
            "deleting": false
          }
        }
      }
    },
    {
      "cell_type": "code",
      "source": [
        "available_spark_compute_targets = [compute.name for compute in ComputeTarget.list(aml_workspace) if compute.type == 'SynapseSpark']\r\n",
        "synapse_spark_compute_dd = Dropdown(options=available_spark_compute_targets)\r\n",
        "HBox([Label('Choose Synapse Spark compute:'), synapse_spark_compute_dd])"
      ],
      "outputs": [],
      "execution_count": null,
      "metadata": {
        "jupyter": {
          "source_hidden": false,
          "outputs_hidden": false
        },
        "nteract": {
          "transient": {
            "deleting": false
          }
        },
        "gather": {
          "logged": 1658243190338
        }
      }
    },
    {
      "cell_type": "markdown",
      "source": [
        "In order to work with months or years of data in an efficient, scalable way, we make use of Spark's native multi-executor paralellism. \r\n",
        "The code in this notebook will scale to any number of nodes, though the optimal performance-vs-cost balance will depend on the volume of your data - 10 executors may be a reasonable starting point. (See [pricing details](https://azure.microsoft.com/pricing/details/synapse-analytics/).)\r\n",
        "\r\n",
        "> **Note:** Make sure you have selected you Synapse Spark compute from the drop down in the pervious cell _before_ running the cell below"
      ],
      "metadata": {
        "nteract": {
          "transient": {
            "deleting": false
          }
        }
      }
    },
    {
      "cell_type": "code",
      "source": [
        "synapse_spark_compute = synapse_spark_compute_dd.value\r\n",
        "compute = SynapseCompute(aml_workspace, synapse_spark_compute)\r\n",
        "num_executors_slider = IntSlider(\r\n",
        "    value=compute.min_node_count, \r\n",
        "    min=compute.min_node_count, \r\n",
        "    max=compute.max_node_count - 2, \r\n",
        "    step=1, \r\n",
        ")\r\n",
        "HBox([Label('Maximum number of executors for Spark session:'), num_executors_slider])"
      ],
      "outputs": [],
      "execution_count": null,
      "metadata": {
        "jupyter": {
          "source_hidden": false,
          "outputs_hidden": false
        },
        "nteract": {
          "transient": {
            "deleting": false
          }
        },
        "gather": {
          "logged": 1658243196909
        }
      }
    },
    {
      "cell_type": "markdown",
      "source": [
        "Now we start the Spark session with the configuration options selected above.\r\n",
        "\r\n",
        "> **Note:** You can also use the Synapse line/cell magic to start a session if you do not need to expand variables in your spark configuration - e.g.  \r\n",
        "`%synapse start -s $subscription_id -w $amlworkspace -r $resource_group -c $synapse_spark_compute`  \r\n",
        "More details are here: [RemoteSynapseMagics class - Azure Machine Learning Python | Microsoft Docs](https://docs.microsoft.com/python/api/azureml-synapse/azureml.synapse.magics.remotesynapsemagics(class)?view=azure-ml-py#azureml-synapse-magics-remotesynapsemagics-synapse)"
      ],
      "metadata": {
        "nteract": {
          "transient": {
            "deleting": false
          }
        }
      }
    },
    {
      "cell_type": "code",
      "source": [
        "# Start Spark session\r\n",
        "spark_config = {\r\n",
        "    \"spark.dynamicAllocation.enabled\": \"true\",\r\n",
        "    \"spark.dynamicAllocation.maxExecutors\": num_executors_slider.value,\r\n",
        "    \"spark.dynamicAllocation.minExecutors\": compute.min_node_count,\r\n",
        "    \"spark.shuffle.service.enabled\": \"true\",\r\n",
        "}\r\n",
        "spark_config_json = json.dumps(spark_config)\r\n",
        "get_ipython().run_cell_magic(\r\n",
        "    'synapse', \r\n",
        "    'start -s $subscription_id -w $amlworkspace -r $resource_group -c $synapse_spark_compute',\r\n",
        "    spark_config_json\r\n",
        ")"
      ],
      "outputs": [],
      "execution_count": null,
      "metadata": {
        "jupyter": {
          "source_hidden": false,
          "outputs_hidden": false
        },
        "nteract": {
          "transient": {
            "deleting": false
          }
        },
        "gather": {
          "logged": 1658243447221
        }
      }
    },
    {
      "cell_type": "markdown",
      "source": [
        "# 2. Run ML on Azure Synapse Spark\r\n",
        "\r\n",
        "## Overview of ML Approach\r\n",
        "\r\n",
        "Our novel ML approach begins with the observation that attackers often randomize the same large number of properties simultaneously, resulting in a group of logins occurring periodically over a long period of time with same set of anomalous properties. \r\n",
        "Thus, we can attempt to cluster failed sign-ins (most password spray sign-in attempts will fail!) based on the set of properties that are anomalous.<br>\r\n",
        "\r\n",
        "We use a naive Bayes approach to estimate the likelihood of any given peroperty value ocurring for a legitimate sign-in and then use outlier detection to highlight unlikely values as being \"anomalous\". This gives a dataset in which the rows comprise a (failed) sign-in ID and boolean flags for each sign-in property denoting whether or not that property took an anomalous value. \r\n",
        "We model this scenario as a multivariate Bernoulli mixture model, and perform [variational Bayesian inference](https://en.wikipedia.org/wiki/Variational_Bayesian_methods) to detect the presence of latent classes which will be our candidates for low and slow password spray campaigns. \r\n",
        "Later, we filter these candidate low and slow clusters by computing various statistics (such as the uniformity of the time-distribution of the sign-ins) and comparing these against what we would expect from a low and slow password spray.\r\n",
        "\r\n",
        "For more details, see the accompanying Microsoft Tech Community blog post: [Microsoft Sentinel Blog - Microsoft Tech Community](https://techcommunity.microsoft.com/t5/microsoft-sentinel-blog/bg-p/MicrosoftSentinelBlog).)\r\n",
        "\r\n",
        "The overall approach looks like this:\r\n",
        "\r\n",
        "1.\t**Detect anomalous fields for each failed sign-in** attempt using successful sign-ins as a baseline\r\n",
        "2.\t**Cluster failed sign-ins** by the columns which were randomized/anomalous\r\n",
        "3.\t**Prune the clusters** from the previous step based on knowledge of what a low and slow spray looks like; for example, by removing clusters in which sign-ins do not occur at a steady frequency over an extended period of time\r\n",
        "4.\t**Further analyze the candidate password spray clusters** (using threat intelligence enrichments from msticpy, for example), to find any invariant properties within the clusters\r\n",
        "5.\t**Identify any successful sign-ins that follow the patterns** observed for each cluster from the previous step and create Sentinel incidents as appropriate"
      ],
      "metadata": {
        "nteract": {
          "transient": {
            "deleting": false
          }
        }
      }
    },
    {
      "cell_type": "markdown",
      "source": [
        "Having started the Spark session, we can run PySpark code by starting a cell with the `%%synapse` line magic.  \r\n",
        "Spark and MLlib are written with efficient parallelisation in mind, meaning that data ETL, analysis and ML is hugely distributed by default, allowing for highly scalable workloads.\r\n",
        "\r\n",
        "**SPARK and MLlib References:** \r\n",
        "\r\n",
        "- [User Guide — PySpark 3.2.1 documentation (apache.org)](https://spark.apache.org/docs/latest/api/python/user_guide/index.html)\r\n",
        "- [Spark SQL — PySpark 3.2.1 documentation (apache.org)](https://spark.apache.org/docs/latest/api/python/reference/pyspark.sql.html)\r\n",
        "- [MLlib (DataFrame-based) — PySpark 3.2.1 documentation (apache.org)](https://spark.apache.org/docs/latest/api/python/reference/pyspark.ml.html)"
      ],
      "metadata": {
        "nteract": {
          "transient": {
            "deleting": false
          }
        }
      }
    },
    {
      "cell_type": "markdown",
      "source": [
        "We start by importing the packages we will need for the ML into the current session.\r\n",
        "\r\n",
        "> **Note:** The Python contexts for the AML notebooks session and the Spark session are separate - this means that Python packages imported using the `%%synapse` cell magic are not imported into the AML notebook session and vice-versa."
      ],
      "metadata": {
        "nteract": {
          "transient": {
            "deleting": false
          }
        }
      }
    },
    {
      "cell_type": "code",
      "source": [
        "%%synapse\r\n",
        "\r\n",
        "# Import packages used for the Spark portion of this notebook\r\n",
        "from datetime import timedelta, datetime, date\r\n",
        "from itertools import chain\r\n",
        "\r\n",
        "from pyspark.ml.feature import IndexToString, OneHotEncoder, StringIndexer, VectorAssembler\r\n",
        "from pyspark.ml.stat import Summarizer\r\n",
        "from pyspark.sql import functions as F\r\n",
        "from pyspark.sql.functions import col, lit, pandas_udf\r\n",
        "from pyspark.sql.types import *\r\n",
        "from pyspark.sql.window import Window\r\n",
        "\r\n",
        "# NOTE: As per the notebook pre-requisites, ensure that you have `bayespy` installed on your Spark compute!\r\n",
        "from bayespy.inference import VB\r\n",
        "from bayespy.nodes import Bernoulli, Beta, Categorical, Dirichlet, Mixture\r\n",
        "import bayespy.plot as bpplt\r\n",
        "from bayespy.utils import random\r\n",
        "import pandas as pd\r\n",
        "import numpy as np\r\n",
        "from scipy.stats import entropy"
      ],
      "outputs": [],
      "execution_count": null,
      "metadata": {
        "jupyter": {
          "source_hidden": false,
          "outputs_hidden": false
        },
        "nteract": {
          "transient": {
            "deleting": false
          }
        }
      }
    },
    {
      "cell_type": "markdown",
      "source": [
        "## Load Data\r\n",
        "\r\n",
        "Fill in the location details for the ADLS container to which the Sentinel SigninLogs are exported. \r\n",
        "\r\n",
        "We also specify how much data we want to use with the ML algorithm by specifying an end date and a number of lookback days. Keep in mind that low and slow password sprays take place over long periods (typically months or even years).<br>\r\n",
        "You will also need to ensure that sufficient historical log data is actually available in ADLS. "
      ],
      "metadata": {
        "nteract": {
          "transient": {
            "deleting": false
          }
        }
      }
    },
    {
      "cell_type": "code",
      "source": [
        "%%synapse\n",
        "\n",
        "# Primary storage info\n",
        "account_name = '<storage account name>' # fill in your primary account name\n",
        "container_name = '<container name>' # fill in your container name\n",
        "subscription_id = 'd1d8779d-38d7-4f06-91db-9cbc8de0176f' #'<subscription id>' # fill in your subscription id\n",
        "resource_group = '<resource group>' # fill in your resource groups for ADLS\n",
        "workspace_name = '<Microsoft sentinel/log analytics workspace name>' # fill in your workspace name\n",
        "\n",
        "# Datetime and lookback parameters\n",
        "end_date = \"<enter date in the format yyyy-MM-dd e.g. 2021-09-17 or datetime.today().strftime('%Y-%m-%d')>\"  # fill in your end date\n",
        "lookback_days = 240  # how many days prior to the end date to include; make sure you have historical data available in ADLS"
      ],
      "outputs": [],
      "execution_count": null,
      "metadata": {
        "jupyter": {
          "source_hidden": false,
          "outputs_hidden": false
        },
        "nteract": {
          "transient": {
            "deleting": false
          }
        }
      }
    },
    {
      "cell_type": "markdown",
      "source": [
        "The information from the above cell is used to detemine the ALDS paths for the data we want to load (based on the partition scheme used by the \"continuous data export\" tool in Sentinel)."
      ],
      "metadata": {
        "nteract": {
          "transient": {
            "deleting": false
          }
        }
      }
    },
    {
      "cell_type": "code",
      "source": [
        "%%synapse\n",
        "\n",
        "# Compiling ADLS paths from date strings\n",
        "def generate_adls_paths(end_date_str: str, lookback_days: int, adls_path: str):\n",
        "    end_date = datetime.strptime(end_date_str, '%Y-%m-%d')\n",
        "    days = [end_date - timedelta(days=i) for i in range(lookback_days + 1)]\n",
        "\n",
        "    pathlist = []\n",
        "    for day in days:\n",
        "        date_str = day.strftime('%Y-%m-%d').split('-')\n",
        "        day_path = adls_path + f'/y={date_str[0]}/m={date_str[1]}/d={date_str[2]}'\n",
        "        pathlist.append(day_path)\n",
        "\n",
        "    return pathlist\n",
        "\n",
        "# This is the root directory to which data from the Sentinel continuous data export tool is written\n",
        "adls_path = (\n",
        "    f'abfss://{container_name}@{account_name}.dfs.core.windows.net/WorkspaceResourceId=/'\n",
        "    f'subscriptions/{subscription_id}/'\n",
        "    f'resourcegroups/{resource_group.lower()}/'\n",
        "    f'providers/microsoft.operationalinsights/'\n",
        "    f'workspaces/{workspace_name.lower()}'\n",
        ")\n",
        "# This gives a list of ADLS paths from which we want Spark to read (recursively)\n",
        "per_day_log_paths = generate_adls_paths(end_date, lookback_days, adls_path)"
      ],
      "outputs": [],
      "execution_count": null,
      "metadata": {
        "jupyter": {
          "source_hidden": false,
          "outputs_hidden": false
        },
        "nteract": {
          "transient": {
            "deleting": false
          }
        }
      }
    },
    {
      "cell_type": "markdown",
      "source": [
        "Now we can read the data into a Spark dataframe. It is worth noting that, since the exported log data comprises a separate data file for each 5-minute partition, we may be reading from over 100,000 files. \r\n",
        "Therefore, you may wish to increase the maximum number of executors available to the Azure Synapse Spark session - this will allow this operation to be massively parallelized automatically, dramatically reducing time taken.\r\n",
        "\r\n",
        "### Feature Selection\r\n",
        "\r\n",
        "Here, we also specify the columns that we want to read into the Spark dataframe. The list suggested below comprises some core sign in properties - `Id`, `UserPrincipalName`, `ResultType`, `TimeGenerated` - and some additional properties (which we refer to as \"features\" for the ML).  \r\n",
        "The features below have been selected to help spot behaviors that make password sprays stand out, e.g.\r\n",
        "\r\n",
        "- Features (properties) that an attacker is able to randomise (e.g. IP addresses, location details, user agent-derived fields)\r\n",
        "- Features (properties) where the \"normal\" values are concealed from attackers (so are hard for an attacker to guess) (e.g. operating system (included in DeviceDetail), browser, city)\r\n",
        "\r\n",
        "_(Some features fall into both categories)_"
      ],
      "metadata": {
        "nteract": {
          "transient": {
            "deleting": false
          }
        }
      }
    },
    {
      "cell_type": "code",
      "source": [
        "%%synapse\n",
        "\n",
        "# Specify the columns to select\n",
        "column_list = [\n",
        "    \"Id\",\n",
        "    \"UserPrincipalName\",\n",
        "    \"ResultType\",\n",
        "    \"TimeGenerated\",\n",
        "    \"AppDisplayName\",\n",
        "    \"ClientAppUsed\",\n",
        "    \"DeviceDetail\",\n",
        "    \"IPAddress\",\n",
        "    \"Location\",\n",
        "    \"LocationDetails\",\n",
        "    \"IsInteractive\",\n",
        "]\n",
        "\n",
        "# Read the data from ADLS into a Spark dataframe, selecting the columns specified above\n",
        "try:\n",
        "    df = spark.read.json(per_day_log_paths, recursiveFileLookup=True)\n",
        "    \n",
        "    # AutonomousSystemNumber is a new field and may not yet be available in all logs\n",
        "    # if available, this is preferred for use in analysis over IPAddress\n",
        "    if \"AutonomousSystemNumber\" in df.columns:\n",
        "        column_list += [\"AutonomousSystemNumber\"]\n",
        "\n",
        "    df = df.select(*column_list)\n",
        "\n",
        "    #Display the count of records\n",
        "    print(f\"\\n No. of records loaded from the past {lookback_days} days: {df.count()}\")\n",
        "\n",
        "except Exception as e:\n",
        "    # If you see \"path doesn't exist\" errors, it may be because the lookback_days parameter is set further back than the amount of historical data available\n",
        "    print(f\"Could not load data due to error:\\n\\t {e}\")"
      ],
      "outputs": [],
      "execution_count": null,
      "metadata": {
        "jupyter": {
          "source_hidden": false,
          "outputs_hidden": false
        },
        "nteract": {
          "transient": {
            "deleting": false
          }
        }
      }
    },
    {
      "cell_type": "markdown",
      "source": [
        "## Data Wrangling using Spark"
      ],
      "metadata": {
        "nteract": {
          "transient": {
            "deleting": false
          }
        }
      }
    },
    {
      "cell_type": "markdown",
      "source": [
        "### Filtering data\r\n",
        "\r\n",
        "We start by filtering the data set by result types, keeping result types: \r\n",
        "- 0 (successful sign in)\r\n",
        "- 50055 (expired password)\r\n",
        "- 50126 (incorrect username or password)\r\n",
        "\r\n",
        "The latter two failure errors are the ones most commonly observed as part of password sprays.  \r\n",
        "\r\n",
        "_See [Azure AD Authentication and authorization error codes](https://docs.microsoft.com/azure/active-directory/develop/reference-aadsts-error-codes) for more details._"
      ],
      "metadata": {
        "nteract": {
          "transient": {
            "deleting": false
          }
        }
      }
    },
    {
      "cell_type": "code",
      "source": [
        "%%synapse\n",
        "\n",
        "# We focus on failed login types 50055 and 50126 as these are the ones most commonly observed in password sprays\n",
        "df = df.filter(col(\"ResultType\").isin([\"0\", \"50055\", \"50126\"]))\n",
        "print(f\"Row count after filtering: {df.count()}\")"
      ],
      "outputs": [],
      "execution_count": null,
      "metadata": {
        "jupyter": {
          "source_hidden": false,
          "outputs_hidden": false
        },
        "nteract": {
          "transient": {
            "deleting": false
          }
        }
      }
    },
    {
      "cell_type": "markdown",
      "source": [
        "### Deduplication \r\n",
        "\r\n",
        "Exported logs may occasionally contain a small amount of duplication either due to the way in which they are collected or due to the data export process (see [data completeness for exported logs](https://docs.microsoft.com/azure/active-directory/develop/reference-aadsts-error-codes)).  \r\n",
        "In general, duplicate rows should be removed prior to analysis, but in some cases, you may decide to postpone or omit de-duplication if duplicated rows are unlikely to impact your detection logic (especially as de-duping can be a very expensive operation depending on the size of your dataframe and the number of columns that comprise a unique key)."
      ],
      "metadata": {
        "nteract": {
          "transient": {
            "deleting": false
          }
        }
      }
    },
    {
      "cell_type": "code",
      "source": [
        "%%synapse\n",
        "\n",
        "print(f'# Rows before de-duplication: {df.count()}')\n",
        "df = df.dropDuplicates(subset=['Id'])\n",
        "print(f'# Rows after de-duplication: {df.count()}')"
      ],
      "outputs": [],
      "execution_count": null,
      "metadata": {
        "jupyter": {
          "source_hidden": false,
          "outputs_hidden": false
        },
        "nteract": {
          "transient": {
            "deleting": false
          }
        }
      }
    },
    {
      "cell_type": "markdown",
      "source": [
        "### Data Parsing and Extration\r\n",
        "\r\n",
        "In this step, we\r\n",
        "- Create a new column containing the IP prefix (if IP ASN is available, prefer to use this instead)\r\n",
        "- Extract the \"browser\", \"displayName\" and \"operatingSystem\" fields from the \"DeviceDetail\" JSON column\r\n",
        "- Extract the \"city\", \"state\", \"longitude\" and \"latitude\" fields from the \"LocationDetails\" JSON column"
      ],
      "metadata": {
        "nteract": {
          "transient": {
            "deleting": false
          }
        }
      }
    },
    {
      "cell_type": "code",
      "source": [
        "%%synapse\n",
        "\n",
        "@pandas_udf(StringType())\n",
        "def ip_prefix(s: pd.Series) -> pd.Series:\n",
        "    \"\"\"Given a series of IP address strings, return the first three octets of each IP as a series of strings\"\"\"\n",
        "    return s.apply(lambda ip: '.'.join(ip.split('.')[:3]))\n",
        "\n",
        "# Create a new calculated column, \"IPPrefix\", with the first three octets of the IP address\n",
        "df = df.withColumn('IPPrefix', ip_prefix(col('IPAddress')))\n",
        "\n",
        "# Fields to extract from the \"DeviceDetail\" and \"LocationDetails\" JSON columns\n",
        "device_detail_cols = ['browser', 'displayName', 'operatingSystem']\n",
        "location_details_cols = ['city', 'state', 'geoCoordinates']\n",
        "\n",
        "# Parse the JSON columns and extract the specified fields as new columns\n",
        "df = (    \n",
        "    df\n",
        "    .select('*', F.json_tuple(col('DeviceDetail'), *device_detail_cols).alias(*device_detail_cols))\n",
        "    .select('*', F.json_tuple(col('LocationDetails'), *location_details_cols).alias(*location_details_cols))\n",
        "    .select('*', F.json_tuple(col('geoCoordinates'), 'latitude', 'longitude').alias('latitude', 'longitude'))\n",
        "    .drop('DeviceDetail', 'LocationDetails', 'geoCoordinates')\n",
        ")\n",
        "df.show()"
      ],
      "outputs": [],
      "execution_count": null,
      "metadata": {
        "jupyter": {
          "source_hidden": false,
          "outputs_hidden": false
        },
        "nteract": {
          "transient": {
            "deleting": false
          }
        }
      }
    },
    {
      "cell_type": "markdown",
      "source": [
        "## Feature Encoding\r\n",
        "\r\n",
        "We now [one-hot encode](https://en.wikipedia.org/wiki/One-hot#Machine_learning_and_statistics) our categorical features using Spark's MLlib \r\n",
        "(stringing together the [`StringIndexer`](https://spark.apache.org/docs/3.1.1/api/python/reference/api/pyspark.ml.feature.StringIndexer.html#pyspark.ml.feature.StringIndexer) transform followed by the [`OneHotEncoder`](https://spark.apache.org/docs/latest/api/python/reference/api/pyspark.ml.feature.OneHotEncoder.html) transform).\r\n"
      ],
      "metadata": {
        "nteract": {
          "transient": {
            "deleting": false
          }
        }
      }
    },
    {
      "cell_type": "markdown",
      "source": [
        "First we use the [`StringIndexer`](https://spark.apache.org/docs/3.1.1/api/python/reference/api/pyspark.ml.feature.StringIndexer.html#pyspark.ml.feature.StringIndexer) class to map the categorical feature columns \r\n",
        "to columns of category indices. For each column, the indices run from 0 to the number of distinct values observed."
      ],
      "metadata": {
        "nteract": {
          "transient": {
            "deleting": false
          }
        }
      }
    },
    {
      "cell_type": "code",
      "source": [
        "%%synapse\n",
        "\n",
        "# The columns to be ordinal-encoded (replace IPPrefix with AutonomousSystemNumber if it is available in your data!)\n",
        "feat_cols = [\"AppDisplayName\", \"ClientAppUsed\", \"browser\", \"displayName\", \"operatingSystem\", \"IPPrefix\", \"Location\", \"state\", \"city\"]  # We could include sign-in time (bucketed into hours) here as well\n",
        "# The output column names for the ordinal-encoded data\n",
        "ord_enc_cols = [\"OrdEnc_\" + col for col in feat_cols]\n",
        "\n",
        "# To missing data is encoded as its own category, we replace empty strings and nulls with \"NODATA\"\n",
        "df = df.replace(\"\", None, subset=feat_cols).fillna(\"NODATA\", subset=feat_cols)\n",
        "\n",
        "# Instantiate, fit, then transform\n",
        "ordinal_encoder = StringIndexer(inputCols=feat_cols, outputCols=ord_enc_cols, handleInvalid=\"keep\", stringOrderType=\"alphabetAsc\")\n",
        "ordinal_encoder = ordinal_encoder.fit(df)\n",
        "encoded_df = ordinal_encoder.transform(df).drop(*feat_cols)\n",
        "\n",
        "# Create a list of `IndexToString` objects which can be used to convert category indices back to the original values\n",
        "ordinal_decoders = [IndexToString(inputCol=in_col, outputCol=out_col, labels=labels) for (in_col, out_col, labels) in zip(feat_cols, ord_enc_cols, ordinal_encoder.labelsArray)]\n",
        "\n",
        "encoded_df.show()"
      ],
      "outputs": [],
      "execution_count": null,
      "metadata": {
        "jupyter": {
          "source_hidden": false,
          "outputs_hidden": false
        },
        "nteract": {
          "transient": {
            "deleting": false
          }
        }
      }
    },
    {
      "cell_type": "markdown",
      "source": [
        "At this stage, we also split our dataframe into two: one conatining successful sign-ins and the other containing failed sign-ins. Doing this here will be helpful later on."
      ],
      "metadata": {
        "nteract": {
          "transient": {
            "deleting": false
          }
        }
      }
    },
    {
      "cell_type": "code",
      "source": [
        "%%synapse\n",
        "\n",
        "success_df = encoded_df.filter(col(\"ResultType\") == \"0\")  # Result type 0 indicates a successful login\n",
        "fail_df = encoded_df.filter(col(\"ResultType\").isin([\"50055\", \"50126\"]))  # We focus on failed login types 50055 and 50126 as these are the ones most commonly observed in password sprays\n",
        "print(\"# Successful logins:\", n_successful:=success_df.count())\n",
        "print(\"# Failed logins:\", n_failed:=fail_df.count())"
      ],
      "outputs": [],
      "execution_count": null,
      "metadata": {
        "jupyter": {
          "source_hidden": false,
          "outputs_hidden": false
        },
        "nteract": {
          "transient": {
            "deleting": false
          }
        }
      }
    },
    {
      "cell_type": "markdown",
      "source": [
        "Finally, we use [`OneHotEncoder`](https://spark.apache.org/docs/latest/api/python/reference/api/pyspark.ml.feature.OneHotEncoder.html) class to convert our ordinal-encoded columns of category indices to one-hot binary vectors."
      ],
      "metadata": {
        "nteract": {
          "transient": {
            "deleting": false
          }
        }
      }
    },
    {
      "cell_type": "code",
      "source": [
        "%%synapse\n",
        "\n",
        "# The output column names for the one-hot encoded columns\n",
        "ohe_cols = [\"OHE_\" + col for col in feat_cols]\n",
        "\n",
        "# Instantiate, fit, then transform\n",
        "ohe = OneHotEncoder(inputCols=ord_enc_cols, outputCols=ohe_cols, dropLast=True)\n",
        "ohe = ohe.fit(success_df)\n",
        "ohe_df = ohe.transform(success_df).drop(*ord_enc_cols)\n",
        "\n",
        "ohe_df.show()"
      ],
      "outputs": [],
      "execution_count": null,
      "metadata": {
        "jupyter": {
          "source_hidden": false,
          "outputs_hidden": false
        },
        "nteract": {
          "transient": {
            "deleting": false
          }
        }
      }
    },
    {
      "cell_type": "markdown",
      "source": [
        "## Detect Anomalous Fields for Each Failed Sign-In\r\n",
        "\r\n",
        "The first step is to apply anomaly detection to each column of each failed sign in - we want to end up with a table that looks like this:\r\n",
        "\r\n",
        "| Sign-in ID | Is _Country_ anomalous? | Is _City_ anomalous? | Is _OS_ Anomalous? | Is _Browser_ anomalous? | Is _App Display Name_ anomalous? | etc. |\r\n",
        "|------------|-------------------------|----------------------|--------------------|-------------------------|----------------------------------|------|\r\n",
        "| 1          | **True**                | **True**             | False              | False                   | False                            | ...  |\r\n",
        "| 2          | False                   | False                | False              | **True**                | **True**                         | ...  |\r\n",
        "| 3          | False                   | **True**             | **True**           | False                   | False                            | ...  |\r\n",
        "\r\n",
        "\r\n",
        "We model each of our features as categorical random variables with the categories being the set of unique values observed from all sign in attempts (both successful and failed). We then use Bayesian parameter estimation with the set of successful sign ins to learn the true distributions for \"good” (i.e. non-malicious) sign-in attempts. \r\n",
        "(Since we obviously don’t have perfect good vs. malicious labels for all sign-ins, we are using successful sign-ins as a proxy for good sign-ins).\r\n",
        "\r\n",
        "Mathematically, we model the features as independent categorical variables with symmetric Dirichlet priors with concentration parameter, $\\alpha$. This leads us to estimate the probability of feature $i$ taking value $c$ as\r\n",
        "<br><br>\r\n",
        "$$\r\n",
        "\\hat{p}{i,c} = \\frac{N_{i, c} + \\alpha}{N + \\alpha K_i}\r\n",
        "$$\r\n",
        "\r\n",
        "where $N_{i,c}$ is the number of times that feature $i$ takes the value $c$ in the dataset of successful sign-ins, $N$ is the total number of successful sign-ins, and $K_i$ is the number of available categories of feature $i$ (as observed from both successful and failed sign-ins). <br>\r\n",
        "Here, $\\alpha$ acts as a _smoothing parameter_ (see [Additive/Laplace smoothing](https://en.wikipedia.org/wiki/Additive_smoothing)) - increasing $\\alpha$ will cause the algorithm to classify fewer values as being anomalous \r\n",
        "(in particular values which haven't been observed in successful sign-ins are less likely to be classed as anomalous).\r\n",
        "\r\n",
        "### Setting an Anomaly Threshold on Probabilities\r\n",
        "\r\n",
        "When determining whether values are anomalous, we can't just set a static threshold on the estimated probabilities (i.e. if the likelihood of a value is less than $p$, class it as an anomaly) - what constitues a good threshold will depend on the distribution of the observed values for that feature. \r\n",
        "For example, suppose we observe 20 different cities (derived from GeoIP data), and we 95% of successful sign-ins are from city 1, 4% are from city 2, and 1% are from cities 3 - 20. Then, we would probably want to class cities 2 - 20 as anomalous. \r\n",
        "Now suppose that we instead observed the following distribution: 24% of successful sign-ins are from city 1, 4$ of successful sign-ins are from each of cities 3-20. In this case, we would not want to class cities 2 - 20 a being anomalous \r\n",
        "_even though they are below the same threshold as in the first scenario_, since this would mean saying that 76% of all sign-ins had an anomalous sign-in location - this would make for a very noisy approach!\r\n",
        "\r\n",
        "Instead, we set thresholds dynamically on a per-feature basis by using basic outlier detection - specifically we set a threshold on $\\log(p)$ where this is more than $k$ standard deviations below the mean ($k = 2$ by default, but can be tuned). This is equivalent to standard-scaling the column of log-probabilities before using a static threshold.\r\n",
        "(This threshold can also be given an information-theoretic interpretation, since, for example, $-\\mathbb{E}[\\log(p)]$ is just entropy.)\r\n"
      ],
      "metadata": {
        "nteract": {
          "transient": {
            "deleting": false
          }
        }
      }
    },
    {
      "cell_type": "markdown",
      "source": [
        "First we run the anomalous feature detection algorithm described above - this produces a dataframe in which the rows comprise a (failed) sign-in ID and boolean flags for each sign-in property denoting whether or not that property took an anomalous value. "
      ],
      "metadata": {
        "nteract": {
          "transient": {
            "deleting": false
          }
        }
      }
    },
    {
      "cell_type": "code",
      "source": [
        "%%synapse\n",
        "\n",
        "# Run the anomalous feature detection\n",
        "\n",
        "# We could use a library such as scikit -learn's Naive Bayes classifier for this (https://scikit-learn.org/stable/modules/naive_bayes.html)\n",
        "# but using SPark MLlib directly allows Spark to parallelize this far more efficiently (https://spark.apache.org/mllib/)\n",
        "\n",
        "n_feats = len(ohe_cols)\n",
        "n_categories = np.array([len(labels) for labels in ordinal_encoder.labelsArray])\n",
        "category_counts = [np.array(vec) for vec in ohe_df.select([Summarizer.numNonZeros(col(c)) for c in ohe_cols]).collect()[0]]\n",
        "\n",
        "# We estimate the underlying categorical distribution for each feature (assuming independence of features and using a Dirichlet(alpha) prior)\n",
        "alpha = 2.0  # smoothing parameter - the concentration parameter from the Dirichlet prior\n",
        "log_probs = []\n",
        "for i in range(n_feats):\n",
        "    feat_category_counts = category_counts[i]\n",
        "    n_feat_categories = n_categories[i]\n",
        "    log_probs.append(np.log(feat_category_counts + alpha) - np.log(n_successful + (alpha * n_feat_categories)))\n",
        "\n",
        "# We call a value anomalous if it is below a certain probability threshold. However, we cannot just use a static threshold - \n",
        "# e.g. if each \"IPPrefix\" value only appears once for a given user, then each will have a low probability, but we don't want to class all of the IP prefixes as anomalous\n",
        "sigmage = 2.0\n",
        "thresholds = []\n",
        "for feat_category_counts, feat_log_probs in zip(category_counts, log_probs):\n",
        "    mean = np.average(feat_log_probs, weights=feat_category_counts)\n",
        "    variance = np.dot(feat_category_counts, (feat_log_probs - mean) ** 2) / feat_category_counts.sum()\n",
        "    std = np.sqrt(variance)\n",
        "    thresholds.append(mean - (sigmage * std))\n",
        "\n",
        "# For each feature, we can determine whether or not the i-th categorical value is anomalous\n",
        "anomalous_values_masks = [feat_log_prob < threshold for (feat_log_prob, threshold) in zip(log_probs, thresholds)]\n",
        "\n",
        "# Since we have already calculated the {value -> is_anomalous_boolean} mapping, we can create a Spark map type to apply this mapping to our dataframe\n",
        "spark_maps = [F.create_map([F.lit(x) for x in chain(*enumerate(mask.tolist()))]) for mask in anomalous_values_masks]\n",
        "is_anom_cols = []\n",
        "for i, enc_col in enumerate(ord_enc_cols):\n",
        "    new_col_name = 'IsAnom_' + feat_cols[i]\n",
        "    is_anom_cols.append(new_col_name)\n",
        "    fail_df = fail_df.withColumn(new_col_name, spark_maps[i][col(enc_col).cast(IntegerType())])\n",
        "\n",
        "# We only \"drop\" columns here for the purpose of the output\n",
        "fail_df.drop(*ord_enc_cols).show(truncate=False)"
      ],
      "outputs": [],
      "execution_count": null,
      "metadata": {
        "jupyter": {
          "source_hidden": false,
          "outputs_hidden": false
        },
        "nteract": {
          "transient": {
            "deleting": false
          }
        }
      }
    },
    {
      "cell_type": "markdown",
      "source": [
        "Now we collapse our binary \"IsAnom\\_\\*\" columns into a single column of binary vectors representing which features are anomalous for each failed sign-in. (This restructuring of the data will be more convenient for later analysis.)"
      ],
      "metadata": {
        "nteract": {
          "transient": {
            "deleting": false
          }
        }
      }
    },
    {
      "cell_type": "code",
      "source": [
        "%%synapse\r\n",
        "\r\n",
        "# Collapse the binary \"is_anom_*\" columns into a single column of binary vectors, then convert that column to a 2D numpy array (of shape (n_failed_signins, n_features))\r\n",
        "vec_assembler = VectorAssembler(inputCols=is_anom_cols, outputCol=\"anomalous_feats_mask\")\r\n",
        "ids, anomalous_feat_masks = np.array(\r\n",
        "    vec_assembler\r\n",
        "    .transform(fail_df)\r\n",
        "    .select(\"Id\", \"anomalous_feats_mask\")\r\n",
        "    .collect()\r\n",
        ").T\r\n",
        "\r\n",
        "# Convert Spark sparse vectors to numpy arrays\r\n",
        "anomalous_feat_masks = np.array([np.array(sparse_vec, dtype=int) for sparse_vec in anomalous_feat_masks])\r\n",
        "\r\n",
        "# Output a sample of the binary numpy array\r\n",
        "print(anomalous_feat_masks[:5])"
      ],
      "outputs": [],
      "execution_count": null,
      "metadata": {
        "jupyter": {
          "source_hidden": false,
          "outputs_hidden": false
        },
        "nteract": {
          "transient": {
            "deleting": false
          }
        }
      }
    },
    {
      "cell_type": "markdown",
      "source": [
        "## Cluster Failed Sign-Ins\r\n",
        "\r\n",
        "The core hypothesis for this detection algorithm is that the distribution of anomalous features looks very different depending on how the sign-in was generated - \r\n",
        "in particular, sign-ins from a password spray campaign in which attackers use tooling to spoof multiple sign-in properties will have a distinctive \"fingerprint\" of features that are often anomalous together.<br>\r\n",
        "For example, suppose that all failed sign-in attempts come from three sources: legitimate user error, pssword spray campaign 1 and password spray campaign 2. For each of these classes, the probability of a given feature being anomalous may look like this:\r\n",
        "\r\n",
        "\r\n",
        "| Source                | $\\mathbb{P}(\\text{Country is anomalous})$ | $\\mathbb{P}(\\text{City is anomalous})$ | $\\mathbb{P}(\\text{OS is anomalous})$ | $\\mathbb{P}(\\text{Browser is anomalous})$ | $\\mathbb{P}(\\text{App Display Name is anomalous})$ | etc. |\r\n",
        "| --------------------- | ----------------------------------------- | -------------------------------------- | ------------------------------------ | ----------------------------------------- | -------------------------------------------------- | ---- |\r\n",
        "| Legitimate user error | 0.02                                      | 0.1                                    | 0.01                                 | 0.2                                       | 0.25                                               | ...  |\r\n",
        "| PW Spray 1            | **_0.7_**                                 | **_0.95_**                             | **_0.6_**                            | **_0.9_**                                 | **_0.85_**                                         | ...  |\r\n",
        "| PW Spray 2            | 0.1                                       | **_0.8_**                              | 0.1                                  | **_0.6_**                                 | **_0.8_**                                          | ...  |\r\n",
        "\r\n",
        "\r\n",
        "From the hypothetical probabilities in the table, we can see that, for each class of sign-ins, the set of features which are usually anomalous forms a fingerprint for the class.\r\n",
        "\r\n",
        "Obviously, in practice, the sources of sign-ins are _latent_ variables - i.e. they cannot be observed directly. Instead, we work backwords from our dataset of failed sign-ins and associated anomalous features to try to detect the latent classes and associated probabilities for each feature taking an anomalous value. \r\n",
        "From our hypothesis, we hope that, if a password spray campaign is present in our data, it will correspond to one of the detected clusters of failed sign-ins.\r\n",
        "\r\n",
        "Mathematically, we do this by modelling our dataset as being generated from a [Bernouli mixture model](https://en.wikipedia.org/wiki/Latent_class_model). We then perform [variational Bayesian inference](https://en.wikipedia.org/wiki/Variational_Bayesian_methods) to try to detect the presence of latent classes."
      ],
      "metadata": {
        "nteract": {
          "transient": {
            "deleting": false
          }
        }
      }
    },
    {
      "cell_type": "markdown",
      "source": [
        "In the next cell, We use the `bayespy` Python package to set up the Bernoulli mixture model and run variational Bayesian inference - see [Bernoulli mixture model — BayesPy Documentation](https://www.bayespy.org/examples/bmm.html).\r\n",
        "\r\n",
        "> **Notes:** \r\n",
        "> - Set the number of clusters to look for. The true number of groups is unknown to us, so we use an upper bound for the number of clusters we expect to be present (10 is a resonable number to start with) - the algorithm may assign 0 weight to some clusters if this is too large.\r\n",
        "> - This step is not deterministic - rerunning may give slightly different clusterings! If this causes issues, we can simply re-run the variational Bayesian inference multiple times and select the model with the highest ELBO value."
      ],
      "metadata": {
        "nteract": {
          "transient": {
            "deleting": false
          }
        }
      }
    },
    {
      "cell_type": "code",
      "source": [
        "%%synapse\r\n",
        "\r\n",
        "# We will create a Bernoulli mixture model. The true number of groups is unknown to us, so we use a large enough number of clusters.\r\n",
        "\r\n",
        "# Here, Z defines the group assignments and P, the anomalous feature probability patterns for each group. \r\n",
        "\r\n",
        "n_clusters = 10  # 10 is a reasonable number to start with - this is the maximum number of cluster the algorithm will be allowed to find\r\n",
        "max_iterations = 5000  # Limit the number of iterations of the variational Bayesian inference algorithm\r\n",
        "\r\n",
        "# We use the categorical distribution for the group assignments and give the group assignment probabilities an uninformative Dirichlet prior (using a small concentration parameter helps avoid learning spurious classes)\r\n",
        "R = Dirichlet(n_clusters * [1e-5], name='R')\r\n",
        "Z = Categorical(R, plates=(n_failed, 1), name='Z')\r\n",
        "\r\n",
        "# Each group has a probability of a yes answer for each question. These probabilities are given beta priors (the beta distribution is the conjugate prior for the Bernoulli distribution)\r\n",
        "P = Beta([0.5, 0.5], plates=(n_feats, n_clusters), name='P')\r\n",
        "\r\n",
        "# This is the overall mixture model created from the components defined above\r\n",
        "X = Mixture(Z, Bernoulli, P)\r\n",
        "\r\n",
        "# This is the variational Bayesian inference class object\r\n",
        "Q = VB(Z, R, X, P)\r\n",
        "\r\n",
        "# Perform the inference\r\n",
        "P.initialize_from_random()\r\n",
        "X.observe(anomalous_feat_masks)\r\n",
        "Q.update(repeat=max_iterations, verbose=True)"
      ],
      "outputs": [],
      "execution_count": null,
      "metadata": {
        "jupyter": {
          "source_hidden": false,
          "outputs_hidden": false
        },
        "nteract": {
          "transient": {
            "deleting": false
          }
        }
      }
    },
    {
      "cell_type": "markdown",
      "source": [
        "### Visualize Clusters\r\n",
        "\r\n",
        "We use [Hinton diagrams](https://scipy-cookbook.readthedocs.io/items/Matplotlib_HintonDiagrams.html) to visually represent the learned clusters. Areas of filled squares represent probabilities (and non-filled squared are used to show uncertainty).\r\n",
        "\r\n",
        "The first digram shows the probabilities that a randomly selected failed sign-in will be assigned to that cluster by our model (the areas of the squares are proportional to the cluster assignment probabilities).\r\n",
        "\r\n",
        "In the second diagram. columns represent clusters and rows represent features, so, for example, a large white square in the 2nd column, 4th row would indicate that, failed logins in cluster #2 are likely to have an unusual value for feature #4.\r\n"
      ],
      "metadata": {
        "nteract": {
          "transient": {
            "deleting": false
          }
        }
      }
    },
    {
      "cell_type": "code",
      "source": [
        "%%synapse\r\n",
        "\r\n",
        "# Plot Hinton diagrams\r\n",
        "\r\n",
        "# Number of clusters that the model has learned\r\n",
        "n_clusters_learned = np.count_nonzero(np.exp(R.u))\r\n",
        "print(f'{n_clusters_learned} non-empty clusters learned.\\n')\r\n",
        "\r\n",
        "bpplt.hinton(R)\r\n",
        "print(f'\"Size\" of each of the {n_clusters} clusters', '(The areas of the squares are proportional to the cluster assignment probabilities)', sep='\\n')\r\n",
        "bpplt.pyplot.show()\r\n",
        "print('\\n')\r\n",
        "# Use this to retrieve the exact cluster assignment probabilities:\r\n",
        "# np.exp(R.u)\r\n",
        "\r\n",
        "print(\r\n",
        "    f'Probability that a feature takes an anomalous value per cluster', \r\n",
        "    f'(Columns represent clusters and rows represent features - e.g., a large white square in the 2nd column, 4th row would indicate that, failed logins in cluster 2 are likely to have an unusual value for \"{feat_cols[3]}\" (feature 4))',\r\n",
        "    sep='\\n'\r\n",
        ")\r\n",
        "print('Features (rows):', feat_cols)\r\n",
        "bpplt.hinton(P)\r\n",
        "bpplt.pyplot.show()\r\n",
        "# Use this to retrieve the exact probablities:\r\n",
        "# np.exp(P.u)"
      ],
      "outputs": [],
      "execution_count": null,
      "metadata": {
        "jupyter": {
          "source_hidden": false,
          "outputs_hidden": false
        },
        "nteract": {
          "transient": {
            "deleting": false
          }
        }
      }
    },
    {
      "cell_type": "markdown",
      "source": [
        "## Prune Clusters\r\n",
        "\r\n",
        "We first use our learned model to assign each failed sign-in to a cluster along with the associated probability of the sign-in belonging to the cluster."
      ],
      "metadata": {
        "nteract": {
          "transient": {
            "deleting": false
          }
        }
      }
    },
    {
      "cell_type": "code",
      "source": [
        "%%synapse\r\n",
        "\r\n",
        "# Append columns to the dataframe of failed logins diving the assigned cluster number and associated confidence (probability)\r\n",
        "\r\n",
        "# Extract the cluster assignment probability mass functions for each failed sign-in\r\n",
        "# `assignment_pmfs` is an array of shape (n_failed_signins, n_clusters)\r\n",
        "assignment_pmfs = Z.u[0][:, 0, :]\r\n",
        "\r\n",
        "# The assigned cluster for each failed sign-in is the one with the greatest probability\r\n",
        "assigned_clusters = assignment_pmfs.argmax(axis=1).tolist()  # clusters are indexed from 0 to (n_clusters - 1)\r\n",
        "assignment_probs = assignment_pmfs.max(axis=1).tolist()\r\n",
        "\r\n",
        "# Create a dataframe of (Signin ID, Assigned Cluster, Cluster Assignment Probability) rows\r\n",
        "assignments_df = spark.createDataFrame(zip(ids, assigned_clusters, assignment_probs), ('Id', 'cluster_id', 'assignment_probability'))\r\n",
        "\r\n",
        "# Join the cluster assignment dataframe back to the rest of the sign in data\r\n",
        "fail_df = fail_df.join(assignments_df, on='Id', how='inner')\r\n",
        "fail_df.drop(*ord_enc_cols).show(5)"
      ],
      "outputs": [],
      "execution_count": null,
      "metadata": {
        "jupyter": {
          "source_hidden": false,
          "outputs_hidden": false
        },
        "nteract": {
          "transient": {
            "deleting": false
          }
        }
      }
    },
    {
      "cell_type": "markdown",
      "source": [
        "Now we do some pruning of the learned clusters to remove those which are unlikely to represent the type of password spray activity we are looking for.\r\n",
        "\r\n",
        "First we set a confidence threshold to prune failed logins included in each cluster **(intra-cluster pruning)**. We then prune clusters by\r\n",
        "\r\n",
        "- Setting a minimum size for clusters of interest\r\n",
        "- Setting a minimum threshold on the number of features consistently taking anomalous values within a cluster\r\n",
        "\r\n",
        "> **Note:** The thresholds to use will depend very much on the data on which the algorithm is being run; start low, and increase the thresholds if results are too noisy."
      ],
      "metadata": {
        "nteract": {
          "transient": {
            "deleting": false
          }
        }
      }
    },
    {
      "cell_type": "code",
      "source": [
        "%%synapse\r\n",
        "\r\n",
        "# Determine how many features consistently take anomalous values within each cluster\r\n",
        "p = np.exp(P.u)[0, ..., 0]  # shape = (n_feats, n_clusters)\r\n",
        "consistently_anomalous_threshold = 0.4\r\n",
        "n_anomalous_features_per_cluster = (p > consistently_anomalous_threshold).sum(axis=0)\r\n",
        "\r\n",
        "# Prune clusters which do not have enough anomalous features to look like the type of password spray activity for which we are searching\r\n",
        "cluster_min_anomalous_feats = 2\r\n",
        "clusters_to_keep = (n_anomalous_features_per_cluster >= cluster_min_anomalous_feats).nonzero()[0].tolist()\r\n",
        "\r\n",
        "# Prune points within clusters and then remove clusters that are too small\r\n",
        "cluster_min_confidence_threshold = 0.4\r\n",
        "min_avg_attempts_per_day = 0\r\n",
        "cluster_min_size = min_avg_attempts_per_day * lookback_days\r\n",
        "\r\n",
        "clusters_df = (\r\n",
        "    fail_df\r\n",
        "    .filter(col('cluster_id').isin(clusters_to_keep))\r\n",
        "    .filter(col('assignment_probability') >= cluster_min_confidence_threshold)\r\n",
        "    .groupby('cluster_id')\r\n",
        "    .agg(F.count(col('Id')).alias('cluster_size'))\r\n",
        "    .filter(col('cluster_size') >= cluster_min_size)\r\n",
        ")\r\n",
        "\r\n",
        "# We now have our candidate low and slow clusters! We can filter the failed sign-in logs \r\n",
        "candidate_pw_spray_clusters = [row[0] for row in clusters_df.select(col('cluster_id')).collect()]\r\n",
        "low_and_slow_candidates = fail_df.filter(col('cluster_id').isin(candidate_pw_spray_clusters))\r\n",
        "print('Total number of candidate failed sign in attempts:', low_and_slow_candidates.count())\r\n",
        "\r\n",
        "clusters_df.show()"
      ],
      "outputs": [],
      "execution_count": null,
      "metadata": {
        "jupyter": {
          "source_hidden": false,
          "outputs_hidden": false
        },
        "nteract": {
          "transient": {
            "deleting": false
          }
        }
      }
    },
    {
      "cell_type": "markdown",
      "source": [
        "We now have our candidate low and slow password spray campaigns! These campaigns/clusters will be further pruned when we use `msticpy` for specific analysis and TI enrichment of these campaigns."
      ],
      "metadata": {
        "nteract": {
          "transient": {
            "deleting": false
          }
        }
      }
    },
    {
      "cell_type": "markdown",
      "source": [
        "## Export Results to ADLS\r\n",
        "\r\n",
        "At this point, we have all the data that we need fromt the big data analytics and ML steps using Spark, and can write the data back to the data lake before stopping the Spark session to minimize compute cost.  \r\n",
        "THis will allow the data to be read into the AML notebook context where we further erich, analyze and visualize these outputs before creating writing back to Sentinel.\r\n",
        "\r\n",
        "The following outputs will be persisted:\r\n",
        "\r\n",
        "1. **Full _SigninLogs_ rows for candidate password spray sign-ins**\r\n",
        "2. **Aggregated sign-in timestamps** - these will be used for some timeseries vizualizations using `msticpy`\r\n",
        "3. **Aggregated sign-in locations** - these will be used for geo-plotting using `msticpy`\r\n",
        "4. **Various \"baseline\" statistics** - these will be used as part of reporting back to Sentinel\r\n",
        "4. **Sample of successful sign-ins** - this will be used in MSTICPy vizualizations and as part of reporting back to Sentinel\r\n",
        "\r\n",
        "Each of the above outputs will be saved as a single json file in ADLS."
      ],
      "metadata": {
        "nteract": {
          "transient": {
            "deleting": false
          }
        }
      }
    },
    {
      "cell_type": "markdown",
      "source": [
        "### Export Candidate Password Sprays"
      ],
      "metadata": {
        "nteract": {
          "transient": {
            "deleting": false
          }
        }
      }
    },
    {
      "cell_type": "code",
      "source": [
        "%%synapse\r\n",
        "\r\n",
        "from pathlib import PurePosixPath\r\n",
        "\r\n",
        "base_dir_name = 'low_and_slow_pw_spray_ml'  # optionally add a suffix if you want to avoid overwriting results from a previous run\r\n",
        "base_path = PurePosixPath(adls_path, base_dir_name)\r\n",
        "\r\n",
        "# Candidate low and slow password sprays\r\n",
        "low_and_slow_candidates_path = base_path/'low_and_slow_candidates'\r\n",
        "ohe_df.coalesce(1).write.format('json').save(low_and_slow_candidates_path)"
      ],
      "outputs": [],
      "execution_count": null,
      "metadata": {
        "jupyter": {
          "source_hidden": false,
          "outputs_hidden": false
        },
        "nteract": {
          "transient": {
            "deleting": false
          }
        }
      }
    },
    {
      "cell_type": "markdown",
      "source": [
        "### Export Aggregated Data/Statistics"
      ],
      "metadata": {
        "nteract": {
          "transient": {
            "deleting": false
          }
        }
      }
    },
    {
      "cell_type": "code",
      "source": [
        "# Aggregated sign-in timestamps\n",
        "timestamp_df = (\n",
        "    success_df\n",
        "    .select(F.date_trunc('hour', 'TimeGenerated').alias('TimeGenerated'))\n",
        "    .groupBy('TimeGenerated')\n",
        "    .count()\n",
        "    .orderBy('TimeGenerated')\n",
        ")\n",
        "signin_day_df = (\n",
        "    success_df\n",
        "    .select(F.dayofweek('TimeGenerated').alias('day_of_week'))\n",
        "    .groupBy('hour')\n",
        "    .count()\n",
        "    .orderBy('hour')\n",
        ")\n",
        "signin_hour_df = (\n",
        "    success_df\n",
        "    .select(F.hour('TimeGenerated').alias('hour'))\n",
        "    .groupBy('hour')\n",
        "    .count()\n",
        "    .orderBy('hour')\n",
        ")\n",
        "\n",
        "# Most common successful sign-in locations (for geoplot)\n",
        "locations_df = (\n",
        "    success_df\n",
        "    .groupBy(['latitude', 'longitude'])\n",
        "    .count()\n",
        "    .na.drop()\n",
        "    .orderBy('count', ascending=False)\n",
        "    .head(5000)\n",
        ")\n",
        "\n",
        "# Entropy (not normalized) per feature (this is a measure of \"variability\")\n",
        "feat_entropies = dict(zip(feat_cols, entropy(category_counts, axis=1)))\n"
      ],
      "outputs": [],
      "execution_count": null,
      "metadata": {
        "jupyter": {
          "source_hidden": false,
          "outputs_hidden": false
        },
        "nteract": {
          "transient": {
            "deleting": false
          }
        },
        "gather": {
          "logged": 1658225807419
        }
      }
    },
    {
      "cell_type": "code",
      "source": [
        "# Persist aggregated data\r\n",
        "\r\n",
        "from pathlib import PurePosixPath\r\n",
        "\r\n",
        "dataframe_output_dirs = [\r\n",
        "    # (dataframe, output directory name)\r\n",
        "    (timestamp_df, 'signin_times'),\r\n",
        "    (signin_day_df, 'signin_days'),\r\n",
        "    (signin_hour_df, 'signin_hours'),\r\n",
        "    (locations_df, 'top_locations'),\r\n",
        "]\r\n",
        "\r\n",
        "for data, dir in dataframe_output_dirs:\r\n",
        "    path = base_path/dir\r\n",
        "    data.coalesce(1).write.format('json').save(path)"
      ],
      "outputs": [],
      "execution_count": null,
      "metadata": {
        "jupyter": {
          "source_hidden": false,
          "outputs_hidden": false
        },
        "nteract": {
          "transient": {
            "deleting": false
          }
        }
      }
    },
    {
      "cell_type": "code",
      "source": [
        "import json\r\n",
        "with open(str(base_path/'entropy_per_feature.json')) as f:\r\n",
        "    json.dump(feat_entropies)"
      ],
      "outputs": [],
      "execution_count": null,
      "metadata": {
        "jupyter": {
          "source_hidden": false,
          "outputs_hidden": false
        },
        "nteract": {
          "transient": {
            "deleting": false
          }
        }
      }
    },
    {
      "cell_type": "markdown",
      "source": [
        "### Export Baseline Sample"
      ],
      "metadata": {
        "nteract": {
          "transient": {
            "deleting": false
          }
        }
      }
    },
    {
      "cell_type": "code",
      "source": [
        "%%synapse\r\n",
        "\r\n",
        "# Retain a sample of successful logins to use as a baseline for \r\n",
        "baseline_sample_size = 10000\r\n",
        "sample_fraction = len(df) // baseline_sample_size\r\n",
        "df.sample(fraction=sample_fraction)\r\n",
        "\r\n",
        "baseline_sample_path = base_path/'successful_login_baseline_sample'\r\n",
        "low_and_slow_candidates.coalesce(1).write.format('json').save(baseline_sample_path)"
      ],
      "outputs": [],
      "execution_count": null,
      "metadata": {
        "jupyter": {
          "source_hidden": false,
          "outputs_hidden": false
        },
        "nteract": {
          "transient": {
            "deleting": false
          }
        }
      }
    },
    {
      "cell_type": "markdown",
      "source": [
        "## Stop Spark Session"
      ],
      "metadata": {
        "nteract": {
          "transient": {
            "deleting": false
          }
        }
      }
    },
    {
      "cell_type": "code",
      "source": [
        "%synapse stop"
      ],
      "outputs": [],
      "execution_count": null,
      "metadata": {
        "jupyter": {
          "source_hidden": false,
          "outputs_hidden": false
        },
        "nteract": {
          "transient": {
            "deleting": false
          }
        }
      }
    },
    {
      "cell_type": "markdown",
      "source": [
        "# 3. Analyze Clusters on AML Compute"
      ],
      "metadata": {
        "nteract": {
          "transient": {
            "deleting": false
          }
        }
      }
    },
    {
      "cell_type": "markdown",
      "source": [
        "## Export results from ADLS to local filesystem"
      ],
      "metadata": {
        "nteract": {
          "transient": {
            "deleting": false
          }
        }
      }
    },
    {
      "cell_type": "code",
      "source": [
        "def initialize_storage_account(storage_account_name, storage_account_key):\n",
        "    try:\n",
        "        global service_client\n",
        "        service_client = DataLakeServiceClient(\n",
        "            account_url='{}://{}.dfs.core.windows.net'.format(\n",
        "                'https', storage_account_name\n",
        "            ),\n",
        "            credential=storage_account_key,\n",
        "        )\n",
        "    except Exception as e:\n",
        "        print(e)\n",
        "\n",
        "\n",
        "def list_directory_contents(container_name, input_path, file_type):\n",
        "    try:\n",
        "        file_system_client = service_client.get_file_system_client(\n",
        "            file_system=container_name\n",
        "        )\n",
        "        paths = file_system_client.get_paths(path=input_path)\n",
        "\n",
        "        pathlist = []\n",
        "        for path in paths:\n",
        "            pathlist.append(path.name) if path.name.endswith(file_type) else pathlist\n",
        "        return pathlist\n",
        "\n",
        "    except Exception as e:\n",
        "        print(e)\n",
        "\n",
        "\n",
        "def download_file_from_directory(container_name, input_path, input_file):\n",
        "    try:\n",
        "        file_system_client = service_client.get_file_system_client(\n",
        "            file_system=container_name\n",
        "        )\n",
        "        directory_client = file_system_client.get_directory_client(input_path)\n",
        "        local_file = open('output.json', 'wb')\n",
        "        file_client = directory_client.get_file_client(input_file)\n",
        "        download = file_client.download_file()\n",
        "        downloaded_bytes = download.readall()\n",
        "        local_file.write(downloaded_bytes)\n",
        "        local_file.close()\n",
        "\n",
        "    except Exception as e:\n",
        "        print(e)\n",
        "\n",
        "\n",
        "def json_normalize(input_file, output_file):\n",
        "    resultList = []\n",
        "    with open(input_file) as f:\n",
        "        for jsonObj in f:\n",
        "            resultDict = json.loads(jsonObj)\n",
        "            resultList.append(resultDict)\n",
        "\n",
        "    with open(output_file, 'w') as write_file:\n",
        "        json.dump(resultList, write_file)"
      ],
      "outputs": [],
      "execution_count": null,
      "metadata": {
        "jupyter": {
          "source_hidden": false,
          "outputs_hidden": false
        },
        "nteract": {
          "transient": {
            "deleting": false
          }
        },
        "gather": {
          "logged": 1652529214937
        }
      }
    },
    {
      "cell_type": "markdown",
      "source": [
        "### Load the Data from ADLS\r\n",
        "\r\n",
        "In below sections, we will provide input details about ADLS account ad then use functions to connect , list contents and download results locally.\r\n",
        "\r\n",
        "If you need help in locating input details, follow below steps\r\n",
        "- Go to the https://web.azuresynapse.net and sign in to your workspace.\r\n",
        "- In Synapse Studio, click Data, select the Linked tab, and select the container under Azure Data Lake Storage Gen2.\r\n",
        "- Navigate to folder from the container, right click and select Properies.\r\n",
        "- Copy ABFSS path , extact the details and map to the input fields\r\n",
        "\r\n",
        "\r\n",
        "You can check [View account access keys](https://docs.microsoft.com/azure/storage/common/storage-account-keys-manage?tabs=azure-portal#view-account-access-keys) doc to find and retrieve your storage account keys for ADLS account.\r\n",
        "\r\n",
        "<p style=\"border: solid; padding: 5pt; color: black; background-color: #AA4000\">\r\n",
        "<b>Warning</b>: If you are storing secrets such as storage account keys in the notebook you should<br>\r\n",
        "probably opt to store either into msticpyconfig file on the compute instance or use<br.>\r\n",
        "Azure Key Vault to store the secrets.<br>\r\n",
        "Read more about using KeyVault\r\n",
        "<a href=https://msticpy.readthedocs.io/en/latest/getting_started/msticpyconfig.html#specifying-secrets-as-key-vault-secrets >in the MSTICPY docs</a>\r\n",
        "</p>"
      ],
      "metadata": {
        "nteract": {
          "transient": {
            "deleting": false
          }
        }
      }
    },
    {
      "cell_type": "code",
      "source": [
        "# Primary storage info\n",
        "account_name = '<storage account name>'  # fill in your primary account name\n",
        "container_name = '<container name>'  # fill in your container name\n",
        "subscription_id = '<subscription id>'  # fill in your subscription id\n",
        "resource_group = '<resource-group>'  # fill in your resource group for your log analytics workspace !!NOT: !!for ADLS account!!\n",
        "workspace_name = '<Microsoft Sentinel/Log Analytics workspace name>'  # fill in your log analytics workspace name\n",
        "\n",
        "input_path = (\n",
        "    f'WorkspaceResourceId=/'\n",
        "    f'subscriptions/{subscription_id}/'\n",
        "    f'resourcegroups/{resource_group.lower()}/'\n",
        "    f'providers/microsoft.operationalinsights/'\n",
        "    f'workspaces/{workspace_name.lower()}/'\n",
        ")\n",
        "adls_path = f'abfss://{container_name}@{account_name}.dfs.core.windows.net/{input_path}/{workspace_name}'\n",
        "adls_path = f\"abfss://{container_name}@{account_name}.dfs.core.windows.net/\"\n",
        "dir_name = 'low_and_slow_pw_spray_ml'\n",
        "# In production, make sure any keys are stored and retrieved securely (e.g. using Azure Key Vault) - don't store keys in plain text!\n",
        "account_key = '<storage-account-key>'  # replace your storage account key"
      ],
      "outputs": [],
      "execution_count": null,
      "metadata": {
        "jupyter": {
          "source_hidden": false,
          "outputs_hidden": false
        },
        "nteract": {
          "transient": {
            "deleting": false
          }
        },
        "gather": {
          "logged": 1652529532348
        }
      }
    },
    {
      "cell_type": "code",
      "source": [
        "# new_path = input_path + dir_name\n",
        "import json\n",
        "\n",
        "initialize_storage_account(account_name, account_key)\n",
        "pathlist = list_directory_contents(container_name, dir_name, \"json\")\n",
        "\n",
        "for path in pathlist:\n",
        "    path = PurePosixPath(path)\n",
        "    download_file_from_directory(container_name, path.parent, path.name)\n",
        "\n",
        "baseline_times = pd.read_json('signin_times/output.json')\n",
        "baseline_days = pd.read_json('signin_days/output.json')\n",
        "baseline_hours = pd.read_json('signin_hours/output.json')\n",
        "top_locations_df = pd.read_json('top_locations/output.json')\n",
        "baseline_entropies = pd.read_json('entropy_per_feature/output.json')\n",
        "clusters_df = pd.read_json('clusters/output.json')\n",
        "success_sample_df = pd.read_json('low_and_slow_candidates/output.json')\n",
        "cluster_details = pd.read_json('cluster_details/output.json')\n",
        "n_clusters = len(cluster_details)"
      ],
      "outputs": [],
      "execution_count": null,
      "metadata": {
        "jupyter": {
          "source_hidden": false,
          "outputs_hidden": false
        },
        "nteract": {
          "transient": {
            "deleting": false
          }
        },
        "gather": {
          "logged": 1652529851467
        }
      }
    },
    {
      "cell_type": "markdown",
      "source": [
        "## Analyze Clusters Using MSTICPy\r\n",
        "\r\n",
        "Having used using big data analytics and ML to slim reduce our SigninLogs data to a handful of candidate low and slow password spray clusters, we are now ready to investigate each of the generated clusters\r\n",
        "\r\n",
        "The two broad questions to try to answer at this stage are:\r\n",
        "- Do the clusters represent likely (low and slow) password spray activity?\r\n",
        "- Do the clusters exhibit any distinctive properties that will aid with remediation and/or attribution? (E.g. Do the sign-ins all use an unusual user agent that could be blocked?)<br>\r\n",
        "  This information can be added to incidents written back to Sentinel.\r\n",
        "\r\n",
        "In the following section, we use [MSTICPy](https://msticpy.readthedocs.io/en/latest/index.html)'s built-in security analytics tools to better understand each cluster. We only present a few general techniques here - your investigation may lead you down a different route."
      ],
      "metadata": {
        "nteract": {
          "transient": {
            "deleting": false
          }
        }
      }
    },
    {
      "cell_type": "markdown",
      "source": [
        "### Vizualize Clusters \r\n",
        "\r\n",
        "The candidate low and slow password spray clusters have been generated based on the mix of features which are typically anomalous. We can plot charts for each candidate cluster showing, for each sign-in property/feature\r\n",
        "\r\n",
        "1. The number of sign-ins where that property/feature is anomalous\r\n",
        "2. The \"variability\" of that property/feature\r\n",
        "\r\n",
        "Together, these two properties \"fingerprint\" each cluster and can give inform the direction further hunting. For example, suppose a cluster is characterised by its sign-ins having anomalous \"ClientAppUsed\" and \"Location\" peroperties, \r\n",
        "and suppose that the \"variability\" for yhese properties is low within the cluster. This indicates, that a relatively small number of anomalous client apps / sign-in locations are being used, which means that there is potential to write a rule-based detection on these static anomalous values."
      ],
      "metadata": {
        "nteract": {
          "transient": {
            "deleting": false
          }
        }
      }
    },
    {
      "cell_type": "code",
      "source": [
        "is_anom_cols = [col for col in clusters_df.columns if col.startswith('IsAnom_')]\r\n",
        "clusters_grouped = clusters_df.groupby('cluster_id')\r\n",
        "num_anom_per_cluster = clusters_grouped[is_anom_cols].sum()\r\n",
        "num_anom_per_cluster['label'] = '# Anomalous'\r\n",
        "entropy_per_cluster = clusters_grouped.apply(lambda g: g.apply(entropy, axis=0)) / baseline_entropies\r\n",
        "entropy_per_cluster['label'] = 'Entropy (normalized)'\r\n",
        "\r\n",
        "bar_charts = []\r\n",
        "for i in range(n_clusters):\r\n",
        "    bar_chart_data = pd.concat(\r\n",
        "        num_anom_per_cluster[num_anom_per_cluster.cluster_id == i],\r\n",
        "        entropy_per_cluster[entropy_per_cluster.cluster_id == i],\r\n",
        "    )\r\n",
        "    bar_charts.append(bar_chart_data)\r\n",
        "\r\n",
        "# Plot the i-th chart\r\n",
        "i = 0\r\n",
        "bar_charts[0].    hvplot.bar(stacked=False, height=500)"
      ],
      "outputs": [],
      "execution_count": null,
      "metadata": {
        "jupyter": {
          "source_hidden": false,
          "outputs_hidden": false
        },
        "nteract": {
          "transient": {
            "deleting": false
          }
        }
      }
    },
    {
      "cell_type": "markdown",
      "source": [
        "### Times Series Analysis\r\n",
        "\r\n",
        "A good indicator of low and slow password spray-like activity is regular patterns in the times of the candidate sign-ins. Although threat actors add some random noise to the schedule on which password spray sign in attempts occur, when viewed as a whole, there is often still a distinctive uniformity to the time series of sign in attempts as attacker endeavour to avoid lock-out.\r\n",
        "\r\n",
        "In order to test sign-ins in each of our candiadate clusters for \"uniform spread\" over time, we perform a [Kolmogorov-Smirnov goodness-of-fit test](https://docs.scipy.org/doc/scipy/reference/generated/scipy.stats.ks_1samp.html) against a uniform distribution. The output value will be between 0 and 1, with values closer to zero indicating that sign-in times are unlikely to generated from a uniform distribution."
      ],
      "metadata": {
        "nteract": {
          "transient": {
            "deleting": false
          }
        }
      }
    },
    {
      "cell_type": "code",
      "source": [
        "# Output is between 0 and 1; roughly speaking, larger means more uniform.\r\n",
        "\r\n",
        "def uniformity_metric(times: pd.Series):\r\n",
        "    # Depending on your data, you might want to remove outliers first!\r\n",
        "    max_time = times.max().to_numpy()\r\n",
        "    min_time = times.min().to_numpy() \r\n",
        "    cdf = lambda x: (x - min_time) / (max_time - min_time)\r\n",
        "    _, p = ks_1samp(times, cdf)\r\n",
        "    return p\r\n",
        "\r\n",
        "# Compute uniformity checks\r\n",
        "for i in range(n_clusters):\r\n",
        "    times = clusters_df[clusters_df.cluster_id == i].TimeGenerated.dropna()\r\n",
        "    p = uniformity_metric(times)\r\n",
        "    print(f\"Cluster {i} uniformity: {p}\")"
      ],
      "outputs": [],
      "execution_count": null,
      "metadata": {
        "jupyter": {
          "source_hidden": false,
          "outputs_hidden": false
        },
        "nteract": {
          "transient": {
            "deleting": false
          }
        }
      }
    },
    {
      "cell_type": "markdown",
      "source": [
        "Similarly, normal sign-in activity will exhibit distinctive day/week seasonality which we can check for in our candidate low and slow password spray clusters."
      ],
      "metadata": {
        "nteract": {
          "transient": {
            "deleting": false
          }
        }
      }
    },
    {
      "cell_type": "code",
      "source": [
        "# Output is between 0 and 1; roughly speaking, larger means that sign-ins from the candidate cluster follow a similar pattern to those from our baseline of successful sign-ins.\r\n",
        "\r\n",
        "for i in range(n_clusters):\r\n",
        "    times = clusters_df[clusters_df.cluster_id == i].TimeGenerated.dropna()\r\n",
        "    \r\n",
        "    # Test day-of-week seasonality\r\n",
        "    days = times.dt.dayofweek\r\n",
        "    _, days_distribution_similarity = ks_2samp(baseline_days, days)\r\n",
        "    print(f\"Likelihood that sign-in days from cluster {i} have a distribution matching the baseline: {days_distribution_similarity}\")\r\n",
        "\r\n",
        "    # Test hour-of-day seasonality\r\n",
        "    hours = times.dt.hour\r\n",
        "    _, hours_distribution_similarity = ks_2samp(baseline_hours, hours)\r\n",
        "    print(f\"Likelihood that sign-in hours from cluster {i} have a distribution matching the baseline: {hours_distribution_similarity}\")"
      ],
      "outputs": [],
      "execution_count": null,
      "metadata": {
        "jupyter": {
          "source_hidden": false,
          "outputs_hidden": false
        },
        "nteract": {
          "transient": {
            "deleting": false
          }
        }
      }
    },
    {
      "cell_type": "markdown",
      "source": [
        "#### Timeseries Plots\r\n",
        "\r\n",
        "The above statistics does not capture the many different patterns we might see in attacker behaviour (especially as attackers use increasingly sophisticated techniques to avoid detection).  \r\n",
        "A time-plot vizualization can highlight patterns not captured by analytics.\r\n",
        "\r\n",
        "Common things to look out for:\r\n",
        "\r\n",
        "- Sign-in attempts spread out fairly uniformly over time. \r\n",
        "- Lack of day/week/month seasonal patterns\r\n",
        "- Sign-ins on particularly unusual days (e.g. public holidays)\r\n",
        "\r\n",
        "You can also modify the plot below to show just the sign-in day-of-week or hour-of-day."
      ],
      "metadata": {
        "nteract": {
          "transient": {
            "deleting": false
          }
        }
      }
    },
    {
      "cell_type": "code",
      "source": [
        "from msticpy.vis.timeline import display_timeline_values\r\n",
        "\r\n",
        "min_time_generated = (success_sample_df.TimeGenerated.min()).tz_localize(None)\r\n",
        "max_time_generated = (success_sample_df.TimeGenerated.max()).tz_localize(None)\r\n",
        "\r\n",
        "baseline_times[\"cluster_id\"] = \"BASELINE\"\r\n",
        "\r\n",
        "time_plot_data = pd.concat([clusters_df[[\"TimeGenerated\", \"cluster_id\"]], baseline_times], axis=0)\r\n",
        "time_plot_data = time_plot_data.groupby([pd.Grouper(key=\"TimeGenerated\", freq=\"2T\"), \"cluster_id\"], as_index=False).size()\r\n",
        "display_timeline_values(\r\n",
        "    data=time_plot_data,\r\n",
        "    y=\"size\",\r\n",
        "    group_by=\"cluster_id\",\r\n",
        ")"
      ],
      "outputs": [],
      "execution_count": null,
      "metadata": {
        "jupyter": {
          "source_hidden": false,
          "outputs_hidden": false
        },
        "nteract": {
          "transient": {
            "deleting": false
          }
        }
      }
    },
    {
      "cell_type": "markdown",
      "source": [
        "### Sign-In Location Analysis\r\n",
        "\r\n",
        "We can use msticpy's visualisation libraries to plot locations on a map. This can be particularily useful when looking at the distribution of anomalous sign in attempts.\r\n",
        "\r\n",
        "<div style=\"border: solid; padding: 5pt\"><b>Note:</b>\r\n",
        "    If your logs source does not include GeoIP data, you can use msticpy's geolocation capabilities using the maxmind database. You will need a maxmind API key to download the database.\r\n",
        "    <br>\r\n",
        "    You may see the GeoLite driver downloading its database the first time you run this.\r\n",
        "</div>\r\n",
        "<details>\r\n",
        "    <summary>Learn more about MSTICPy GeoIP providers...</summary>\r\n",
        "    <p>\r\n",
        "    <a href=https://msticpy.readthedocs.io/en/latest/data_acquisition/GeoIPLookups.html >MSTICPy GeoIP Providers</a>\r\n",
        "    </p>\r\n",
        "</details>\r\n",
        "<br>\r\n",
        "\r\n",
        "We use two plots to answer two questions in this section:\r\n",
        "\r\n",
        "1. Are sign-in attempts generally from unusual locations as compared to the baseline successful sign-ins?\r\n",
        "2. Can we learn anything more specific about where sign-ins for each clusters are coming from?"
      ],
      "metadata": {
        "nteract": {
          "transient": {
            "deleting": false
          }
        }
      }
    },
    {
      "cell_type": "code",
      "source": [
        "# Plot the locations of sign-ins per cluster against the baseline sample of successful sign-ins\r\n",
        "\r\n",
        "common_args = dict(x=\"longitude\", y=\"latitude\", height=500, width=900)\r\n",
        "display(\r\n",
        "    clusters_df.hvplot.scatter(\r\n",
        "        **common_args,\r\n",
        "        title=\"Sign-in Locations by Cluster/Baseline\",\r\n",
        "        color=\"orange\",\r\n",
        "        by=\"cluster_id\",\r\n",
        "        alpha=0.3\r\n",
        "    )\r\n",
        "    * top_locations_df.hvplot.scatter(**common_args, color=\"green\", alpha=0.3, size=10)\r\n",
        ")\r\n",
        "md(\"Successful sign-in locations in green.\", \"bold\")\r\n",
        "md(\"Note: Fainter dots indicates fewer logons, brighter color indicates multiple logons.\")"
      ],
      "outputs": [],
      "execution_count": null,
      "metadata": {
        "jupyter": {
          "source_hidden": false,
          "outputs_hidden": false
        },
        "nteract": {
          "transient": {
            "deleting": false
          }
        }
      }
    },
    {
      "cell_type": "code",
      "source": [
        "# Using MSTICPy's Folium Map integration for interactive geo-plotting capabilities, we can dig a bit further into the sign-in locations per cluster\r\n",
        "\r\n",
        "clusters_df.mp_plot.folium_map(\r\n",
        "    lat_column=\"latitude\", \r\n",
        "    long_column=\"longitude\", \r\n",
        "    layer_column='cluster_id'\r\n",
        "    zoom_start=1,\r\n",
        ")"
      ],
      "outputs": [],
      "execution_count": null,
      "metadata": {
        "jupyter": {
          "source_hidden": false,
          "outputs_hidden": false
        },
        "nteract": {
          "transient": {
            "deleting": false
          }
        }
      }
    },
    {
      "cell_type": "markdown",
      "source": [
        "### Threat Intelligence Enrichment\r\n",
        "\r\n",
        "In this step, we can perform threatintel lookup using msticpy and open source TI providers such as IBM Xforce, VirusTotal, Greynoise etc. \r\n",
        "The below examples show TI lookups on single IP as well as a bulk lookup on all ips using IBM Xforce TI Provider. \r\n",
        "<br>You will need to register with IBM Xforce and enter API keys into `mstipyconfig.yaml`\r\n",
        "\r\n",
        "<details>\r\n",
        "    <summary>Learn more...</summary>\r\n",
        "    <p>\r\n",
        "    </p>\r\n",
        "    <ul>\r\n",
        "        <li>More details are shown in the <i>A Tour of Cybersec notebook features</i> notebook</li>\r\n",
        "        <li><a href=https://msticpy.readthedocs.io/en/latest/data_acquisition/TIProviders.html >Threat Intel Lookups in MSTICPy</a></li>\r\n",
        "        <li> To learn more about adding TI sources, see the TI Provider setup in the <i>A Getting Started Guide For Microsoft Sentinel ML Notebooks</i> notebook\r\n",
        "    </ul>\r\n",
        "</details>\r\n",
        "<br>"
      ],
      "metadata": {
        "nteract": {
          "transient": {
            "deleting": false
          }
        }
      }
    },
    {
      "cell_type": "code",
      "source": [
        "from msticpy import TILookup\n",
        "\n",
        "ti_lookup = TILookup()\n",
        "# Perform lookup on a single IOC\n",
        "result = ti_lookup.lookup_ioc(observable=\"52.183.120.194\", providers=[\"XForce\"])\n",
        "ti_lookup.result_to_df(result)"
      ],
      "outputs": [],
      "execution_count": null,
      "metadata": {
        "jupyter": {
          "source_hidden": false,
          "outputs_hidden": false
        },
        "nteract": {
          "transient": {
            "deleting": false
          }
        }
      }
    },
    {
      "cell_type": "markdown",
      "source": [
        "### Whois registration enrichment\r\n",
        "In this step, we can perform whois lokup on all public destination ips and populate additional information such as ASN. You can use this output to further filter known ASNs from the results."
      ],
      "metadata": {
        "nteract": {
          "transient": {
            "deleting": false
          }
        }
      }
    },
    {
      "cell_type": "code",
      "source": [
        "from msticpy.context.ip_utils import get_whois_info\r\n",
        "\r\n",
        "num_ips = len(df[\"DestinationIP\"].unique())\r\n",
        "print(f\"Performing WhoIs lookups for {num_ips} IPs \", end=\"\")\r\n",
        "df[\"DestASN\"] = df.apply(lambda x: get_whois_info(x.DestinationIP, True), axis=1)\r\n",
        "df[\"DestASNFull\"] = df.apply(lambda x: x.DestASN[1], axis=1)\r\n",
        "df[\"DestASN\"] = df.apply(lambda x: x.DestASN[0], axis=1)\r\n",
        "\r\n",
        "#Display results\r\n",
        "df.head()"
      ],
      "outputs": [],
      "execution_count": null,
      "metadata": {
        "jupyter": {
          "source_hidden": false,
          "outputs_hidden": false
        },
        "nteract": {
          "transient": {
            "deleting": false
          }
        }
      }
    },
    {
      "cell_type": "markdown",
      "source": [
        "### Other\r\n",
        "\r\n",
        "There is a lot more data available in the SigninLogs table that we haven't looked at. Using the MSTICPy `DataViewer` control below, you can interactively inspect your raw data to see if anything stands out.\r\n",
        "\r\n",
        "**Every security investigation is different, and will depend heavily on your data and environment.** There are many more tools (including those in MSTICPy) that you may wish to use to further your investigation. Take a look at our [guided hunting blog post]() and the [MSTICPy notebook examples](https://msticpy.readthedocs.io/en/latest/notebooksamples.html)."
      ],
      "metadata": {
        "nteract": {
          "transient": {
            "deleting": false
          }
        }
      }
    },
    {
      "cell_type": "code",
      "source": [
        "from msticpy.vis.data_viewer import DataViewer\r\n",
        "DataViewer(clusters_df)"
      ],
      "outputs": [],
      "execution_count": null,
      "metadata": {
        "jupyter": {
          "source_hidden": false,
          "outputs_hidden": false
        },
        "nteract": {
          "transient": {
            "deleting": false
          }
        }
      }
    },
    {
      "cell_type": "markdown",
      "source": [
        "# 4. Create Sentinel Incidents\r\n",
        "\r\n",
        "To support security analysts to respond to these candidate password spray events, we create custom incidents in the Sentinel workspace.\r\n",
        "\r\n",
        "MSTICPy has built-in support for reading from, and writing to, Microsoft Sentinel. Using the provided API, we first create a single incident to indicating potential low and slow password spray activity. \r\n",
        "We then add comments to the incident giving details of the each candidate campaign, including details of machines affected. This makes it easy for security analysts to make use of the outputs of this ML notebook to take further action as appropriate.\r\n",
        "\r\n",
        "You may wish to modify the structure of the incidents written back to Sentinel based on your team's workflow."
      ],
      "metadata": {
        "nteract": {
          "transient": {
            "deleting": false
          }
        }
      }
    },
    {
      "cell_type": "code",
      "source": [
        "from msticpy.context.azure.sentinel_core import MicrosoftSentinel\r\n",
        "\r\n",
        "sentinel = MicrosoftSentinel(\r\n",
        "    sub_id=\"1fc4ff85-c4cd-48f5-a9e4-165751ccc023\",\r\n",
        "    res_grp=\"soc-mstic-play\",\r\n",
        "    ws_name=\"dummyloganalyticsws\",\r\n",
        ")\r\n",
        "sentinel.connect()"
      ],
      "outputs": [],
      "execution_count": null,
      "metadata": {
        "jupyter": {
          "source_hidden": false,
          "outputs_hidden": false
        },
        "nteract": {
          "transient": {
            "deleting": false
          }
        },
        "gather": {
          "logged": 1649061232845
        }
      }
    },
    {
      "cell_type": "code",
      "source": [
        "for cluster_df in cluster_details.values():\r\n",
        "    sentinel.create_incident(\r\n",
        "        title=\"Potential Low and Slow Password Spray Activity\",\r\n",
        "        severity=\"Low\",\r\n",
        "        first_activity_time=cluster_df.TimeGenerated.min(),\r\n",
        "        last_activity_time=cluster_df.TimeGenerated.max(),\r\n",
        "        description=cluster_df.to_string()\r\n",
        "    )"
      ],
      "outputs": [],
      "execution_count": null,
      "metadata": {
        "jupyter": {
          "source_hidden": false,
          "outputs_hidden": false
        },
        "nteract": {
          "transient": {
            "deleting": false
          }
        },
        "gather": {
          "logged": 1648824183408
        }
      }
    },
    {
      "cell_type": "code",
      "source": [
        "incidents = sentinel.list_incidents()\r\n",
        "created_incident_id = incidents[\r\n",
        "    incidents[\"properties.title\"] == \"Demo - Potential password spray campaign\"\r\n",
        "].sort_values(by=\"properties.incidentNumber\", ascending=False).name[0]\r\n",
        "\r\n",
        "html_data = cluster_df.loc[cluster_df.index != \"Id\"].to_html(header=False)\r\n",
        "sentinel.post_comment(\r\n",
        "    incident_id=created_incident_id,\r\n",
        "    comment=html_data,\r\n",
        ")"
      ],
      "outputs": [],
      "execution_count": null,
      "metadata": {
        "jupyter": {
          "source_hidden": false,
          "outputs_hidden": false
        },
        "nteract": {
          "transient": {
            "deleting": false
          }
        },
        "gather": {
          "logged": 1649062444515
        }
      }
    },
    {
      "cell_type": "markdown",
      "source": [
        "# Conclusion\r\n",
        "\r\n",
        "Due to the nature of low and slow password sprays, we needed to start our hunting on very large datasets of historical sign in logs. The sheer scale of data made Spark a great tool to allow us to easily perform distributed data operations at scale.  \r\n",
        "We then executed several analytical queries to surface series of failed sign in attempts with high IP volatility based on known patterns used by attackers.\r\n",
        "In order to analyze this data further, we use msticpy's data enrichment and visualization capabilities\r\n",
        "\r\n",
        "Analysts can perform further investigation and can then create incidents in Microsoft Sentinel and track investigations in Sentinel. \r\n",
        "Details of possible next steps to take are in the accompanying Microsoft Tech Community blog post: [Microsoft Sentinel Blog - Microsoft Tech Community](https://techcommunity.microsoft.com/t5/microsoft-sentinel-blog/bg-p/MicrosoftSentinelBlog).  \r\n",
        "For more information on hunting and incident response playbooks for password sprays, please see [Password spray investigation | Microsoft Docs](https://docs.microsoft.com/security/compass/incident-response-playbook-password-spray)."
      ],
      "metadata": {
        "nteract": {
          "transient": {
            "deleting": false
          }
        }
      }
    }
  ],
  "metadata": {
    "kernelspec": {
      "name": "python38-azureml",
      "language": "python",
      "display_name": "Python 3.8 - AzureML"
    },
    "language_info": {
      "name": "python",
      "version": "3.8.5",
      "mimetype": "text/x-python",
      "codemirror_mode": {
        "name": "ipython",
        "version": 3
      },
      "pygments_lexer": "ipython3",
      "nbconvert_exporter": "python",
      "file_extension": ".py"
    },
    "nteract": {
      "version": "nteract-front-end@1.0.0"
    },
    "kernel_info": {
      "name": "python38-azureml"
    },
    "microsoft": {
      "language": "python"
    }
  },
  "nbformat": 4,
  "nbformat_minor": 2
}