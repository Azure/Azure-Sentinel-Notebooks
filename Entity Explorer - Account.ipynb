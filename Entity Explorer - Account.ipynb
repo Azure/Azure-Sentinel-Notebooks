{
 "cells": [
  {
   "cell_type": "markdown",
   "metadata": {},
   "source": [
    "# Entity Explorer - Account\n",
    " <details>\n",
    "     <summary>&nbsp;<u>Details...</u></summary>\n",
    "\n",
    " **Notebook Version:** 1.0<br>\n",
    " **Python Version:** Python 3.6 (including Python 3.6 - AzureML)<br>\n",
    " **Required Packages**: kqlmagic, msticpy, pandas, numpy, matplotlib, networkx, ipywidgets, ipython, dnspython, ipwhois, folium, maxminddb_geolite2<br>\n",
    "\n",
    " **Data Sources Required**:\n",
    " - Log Analytics - SecurityAlert, SecurityEvent, HuntingBookmark, Syslog, AAD SigninLogs, AzureActivity, OfficeActivity, ThreatIndicator\n",
    " - (Optional) - VirusTotal, AlienVault OTX, IBM XForce, Open Page Rank, (all require accounts and API keys)\n",
    " </details>\n",
    "\n",
    " Brings together a series of queries and visualizations to help you determine the security state of an Account. The account can be a Windows or Linux account or an Azure Active Directory/Office 365 account.\n",
    "\n",
    "The Notebook contains sections for reviewing activity for Host accounts (Linux and Windows) and for Azure Active Directory accounts. It also has a general section that looks for related items independent of the account type."
   ]
  },
  {
   "cell_type": "markdown",
   "metadata": {
    "toc": true
   },
   "source": [
    "<h1>Contents<span class=\"tocSkip\"></span></h1>\n",
    "<div class=\"toc\"><ul class=\"toc-item\"><li><span><a href=\"#Hunting-Hypothesis\" data-toc-modified-id=\"Hunting-Hypothesis-1\"><span class=\"toc-item-num\">1&nbsp;&nbsp;</span>Hunting Hypothesis</a></span><ul class=\"toc-item\"><li><span><a href=\"#Notebook-initialization\" data-toc-modified-id=\"Notebook-initialization-1.1\"><span class=\"toc-item-num\">1.1&nbsp;&nbsp;</span>Notebook initialization</a></span></li><li><span><a href=\"#Get-Workspace-and-Authenticate\" data-toc-modified-id=\"Get-Workspace-and-Authenticate-1.2\"><span class=\"toc-item-num\">1.2&nbsp;&nbsp;</span>Get Workspace and Authenticate</a></span><ul class=\"toc-item\"><li><span><a href=\"#Authentication-and-Configuration-Problems\" data-toc-modified-id=\"Authentication-and-Configuration-Problems-1.2.1\"><span class=\"toc-item-num\">1.2.1&nbsp;&nbsp;</span>Authentication and Configuration Problems</a></span></li></ul></li></ul></li><li><span><a href=\"#Enter-account-name-and-query-time-window\" data-toc-modified-id=\"Enter-account-name-and-query-time-window-2\"><span class=\"toc-item-num\">2&nbsp;&nbsp;</span>Enter account name and query time window</a></span></li><li><span><a href=\"#Data-Sources-available-to-query\" data-toc-modified-id=\"Data-Sources-available-to-query-3\"><span class=\"toc-item-num\">3&nbsp;&nbsp;</span>Data Sources available to query</a></span></li><li><span><a href=\"#Search-for-Account-Name-in-Host,-Azure-Active-Directory-(AAD),-Azure-and-Office-365-Data.\" data-toc-modified-id=\"Search-for-Account-Name-in-Host,-Azure-Active-Directory-(AAD),-Azure-and-Office-365-Data.-4\"><span class=\"toc-item-num\">4&nbsp;&nbsp;</span>Search for Account Name in Host, Azure Active Directory (AAD), Azure and Office 365 Data.</a></span><ul class=\"toc-item\"><li><span><a href=\"#Query-Data-Sources\" data-toc-modified-id=\"Query-Data-Sources-4.1\"><span class=\"toc-item-num\">4.1&nbsp;&nbsp;</span>Query Data Sources</a></span></li></ul></li><li><span><a href=\"#Display-logons-from-account-sources-and-choose-an-account-to-explore\" data-toc-modified-id=\"Display-logons-from-account-sources-and-choose-an-account-to-explore-5\"><span class=\"toc-item-num\">5&nbsp;&nbsp;</span>Display logons from account sources and choose an account to explore</a></span></li><li><span><a href=\"#Related-Alerts-and-Hunting-Bookmarks\" data-toc-modified-id=\"Related-Alerts-and-Hunting-Bookmarks-6\"><span class=\"toc-item-num\">6&nbsp;&nbsp;</span>Related Alerts and Hunting Bookmarks</a></span><ul class=\"toc-item\"><li><span><a href=\"#Alerts\" data-toc-modified-id=\"Alerts-6.1\"><span class=\"toc-item-num\">6.1&nbsp;&nbsp;</span>Alerts</a></span></li><li><span><a href=\"#Hunting/Investigation-Bookmarks\" data-toc-modified-id=\"Hunting/Investigation-Bookmarks-6.2\"><span class=\"toc-item-num\">6.2&nbsp;&nbsp;</span>Hunting/Investigation Bookmarks</a></span></li></ul></li><li><span><a href=\"#Further-Investigation\" data-toc-modified-id=\"Further-Investigation-7\"><span class=\"toc-item-num\">7&nbsp;&nbsp;</span>Further Investigation</a></span></li><li><span><a href=\"#Windows-Host\" data-toc-modified-id=\"Windows-Host-8\"><span class=\"toc-item-num\">8&nbsp;&nbsp;</span>Windows Host</a></span><ul class=\"toc-item\"><li><span><a href=\"#Host-Logon-Summary\" data-toc-modified-id=\"Host-Logon-Summary-8.1\"><span class=\"toc-item-num\">8.1&nbsp;&nbsp;</span>Host Logon Summary</a></span></li><li><span><a href=\"#Threat-Intelligence-for-logon-IP-Addresses\" data-toc-modified-id=\"Threat-Intelligence-for-logon-IP-Addresses-8.2\"><span class=\"toc-item-num\">8.2&nbsp;&nbsp;</span>Threat Intelligence for logon IP Addresses</a></span></li><li><span><a href=\"#Geolocation-and-ownership-for-source-logon-IP-addresses\" data-toc-modified-id=\"Geolocation-and-ownership-for-source-logon-IP-addresses-8.3\"><span class=\"toc-item-num\">8.3&nbsp;&nbsp;</span>Geolocation and ownership for source logon IP addresses</a></span></li><li><span><a href=\"#Additional-Alerts-for-logged-on-hosts\" data-toc-modified-id=\"Additional-Alerts-for-logged-on-hosts-8.4\"><span class=\"toc-item-num\">8.4&nbsp;&nbsp;</span>Additional Alerts for logged-on hosts</a></span><ul class=\"toc-item\"><li><span><a href=\"#Additional-alerts-for-source-IP-addresses\" data-toc-modified-id=\"Additional-alerts-for-source-IP-addresses-8.4.1\"><span class=\"toc-item-num\">8.4.1&nbsp;&nbsp;</span>Additional alerts for source IP addresses</a></span></li></ul></li><li><span><a href=\"#Additional-Investigation-Bookmarks-for-logged-on-hosts\" data-toc-modified-id=\"Additional-Investigation-Bookmarks-for-logged-on-hosts-8.5\"><span class=\"toc-item-num\">8.5&nbsp;&nbsp;</span>Additional Investigation Bookmarks for logged-on hosts</a></span></li></ul></li><li><span><a href=\"#Linux-Host\" data-toc-modified-id=\"Linux-Host-9\"><span class=\"toc-item-num\">9&nbsp;&nbsp;</span>Linux Host</a></span><ul class=\"toc-item\"><li><span><a href=\"#Host-Logon-Summary\" data-toc-modified-id=\"Host-Logon-Summary-9.1\"><span class=\"toc-item-num\">9.1&nbsp;&nbsp;</span>Host Logon Summary</a></span></li><li><span><a href=\"#Threat-Intelligence-for-logon-IP-Addresses\" data-toc-modified-id=\"Threat-Intelligence-for-logon-IP-Addresses-9.2\"><span class=\"toc-item-num\">9.2&nbsp;&nbsp;</span>Threat Intelligence for logon IP Addresses</a></span></li><li><span><a href=\"#Geolocation-and-ownership-for-source-logon-IP-addresses\" data-toc-modified-id=\"Geolocation-and-ownership-for-source-logon-IP-addresses-9.3\"><span class=\"toc-item-num\">9.3&nbsp;&nbsp;</span>Geolocation and ownership for source logon IP addresses</a></span></li><li><span><a href=\"#Additional-Alerts-for-logged-on-hosts\" data-toc-modified-id=\"Additional-Alerts-for-logged-on-hosts-9.4\"><span class=\"toc-item-num\">9.4&nbsp;&nbsp;</span>Additional Alerts for logged-on hosts</a></span><ul class=\"toc-item\"><li><span><a href=\"#Additional-alerts-for-source-IP-addresses\" data-toc-modified-id=\"Additional-alerts-for-source-IP-addresses-9.4.1\"><span class=\"toc-item-num\">9.4.1&nbsp;&nbsp;</span>Additional alerts for source IP addresses</a></span></li></ul></li><li><span><a href=\"#Additional-Investigation-Bookmarks-for-logged-on-hosts\" data-toc-modified-id=\"Additional-Investigation-Bookmarks-for-logged-on-hosts-9.5\"><span class=\"toc-item-num\">9.5&nbsp;&nbsp;</span>Additional Investigation Bookmarks for logged-on hosts</a></span></li></ul></li><li><span><a href=\"#AAD/Office-Account\" data-toc-modified-id=\"AAD/Office-Account-10\"><span class=\"toc-item-num\">10&nbsp;&nbsp;</span>AAD/Office Account</a></span><ul class=\"toc-item\"><li><span><a href=\"#Azure/Office-Summary\" data-toc-modified-id=\"Azure/Office-Summary-10.1\"><span class=\"toc-item-num\">10.1&nbsp;&nbsp;</span>Azure/Office Summary</a></span></li><li><span><a href=\"#Threat-Intelligence-for-IP-Addresses\" data-toc-modified-id=\"Threat-Intelligence-for-IP-Addresses-10.2\"><span class=\"toc-item-num\">10.2&nbsp;&nbsp;</span>Threat Intelligence for IP Addresses</a></span></li><li><span><a href=\"#Geolocation-and-ownership-for-source-IP-addresses\" data-toc-modified-id=\"Geolocation-and-ownership-for-source-IP-addresses-10.3\"><span class=\"toc-item-num\">10.3&nbsp;&nbsp;</span>Geolocation and ownership for source IP addresses</a></span></li><li><span><a href=\"#Additional-alerts-for-source-IP-addresses\" data-toc-modified-id=\"Additional-alerts-for-source-IP-addresses-10.4\"><span class=\"toc-item-num\">10.4&nbsp;&nbsp;</span>Additional alerts for source IP addresses</a></span></li></ul></li><li><span><a href=\"#Appendices\" data-toc-modified-id=\"Appendices-11\"><span class=\"toc-item-num\">11&nbsp;&nbsp;</span>Appendices</a></span><ul class=\"toc-item\"><li><span><a href=\"#Available-DataFrames\" data-toc-modified-id=\"Available-DataFrames-11.1\"><span class=\"toc-item-num\">11.1&nbsp;&nbsp;</span>Available DataFrames</a></span></li><li><span><a href=\"#Saving-data-to-Excel\" data-toc-modified-id=\"Saving-data-to-Excel-11.2\"><span class=\"toc-item-num\">11.2&nbsp;&nbsp;</span>Saving data to Excel</a></span></li></ul></li><li><span><a href=\"#Configuration\" data-toc-modified-id=\"Configuration-12\"><span class=\"toc-item-num\">12&nbsp;&nbsp;</span>Configuration</a></span><ul class=\"toc-item\"><li><span><a href=\"#msticpyconfig.yaml-configuration-File\" data-toc-modified-id=\"msticpyconfig.yaml-configuration-File-12.1\"><span class=\"toc-item-num\">12.1&nbsp;&nbsp;</span><code>msticpyconfig.yaml</code> configuration File</a></span></li></ul></li></ul></div>"
   ]
  },
  {
   "cell_type": "markdown",
   "metadata": {},
   "source": [
    "## Hunting Hypothesis\n",
    "Our broad initial hunting hypothesis is that a we have received account name entity which is suspected to be compromised and is being used malicious manner in internal networks, we will need to hunt from a range of different positions to validate or disprove this hypothesis."
   ]
  },
  {
   "cell_type": "markdown",
   "metadata": {},
   "source": [
    "---\n",
    "### Notebook initialization\n",
    "The next cell:\n",
    "- Checks for the correct Python version\n",
    "- Checks versions and optionally installs required packages\n",
    "- Imports the required packages into the notebook\n",
    "- Sets a number of configuration options.\n",
    "\n",
    "This should complete without errors. If you encounter errors or warnings look at the following two notebooks:\n",
    "- [TroubleShootingNotebooks](https://github.com/Azure/Azure-Sentinel-Notebooks/blob/master/TroubleShootingNotebooks.ipynb)\n",
    "- [ConfiguringNotebookEnvironment](https://github.com/Azure/Azure-Sentinel-Notebooks/blob/master/ConfiguringNotebookEnvironment.ipynb)\n",
    "\n",
    "If you are running in the Microsoft Sentinel Notebooks environment (Azure Notebooks or Azure ML) you can run live versions of these notebooks:\n",
    "- [Run TroubleShootingNotebooks](./TroubleShootingNotebooks.ipynb)\n",
    "- [Run ConfiguringNotebookEnvironment](./ConfiguringNotebookEnvironment.ipynb)\n",
    "\n",
    "You may also need to do some additional configuration to successfully use functions such as Threat Intelligence service lookup and Geo IP lookup. \n",
    "There are more details about this in the `ConfiguringNotebookEnvironment` notebook and in these documents:\n",
    "- [msticpy configuration](https://msticpy.readthedocs.io/en/latest/getting_started/msticpyconfig.html)\n",
    "- [Threat intelligence provider configuration](https://msticpy.readthedocs.io/en/latest/data_acquisition/TIProviders.html#configuration-file)\n"
   ]
  },
  {
   "cell_type": "code",
   "execution_count": null,
   "metadata": {
    "gather": {
     "logged": 1618283278857
    }
   },
   "outputs": [],
   "source": [
    "from pathlib import Path\n",
    "from IPython.display import display, HTML\n",
    "\n",
    "REQ_PYTHON_VER = \"3.6\"\n",
    "REQ_MSTICPY_VER = \"1.0.0\"\n",
    "\n",
    "display(HTML(\"<h3>Starting Notebook setup...</h3>\"))\n",
    "\n",
    "# If not using Azure Notebooks, install msticpy with\n",
    "# %pip install msticpy\n",
    "\n",
    "from msticpy.nbtools import nbinit\n",
    "nbinit.init_notebook(\n",
    "    namespace=globals(),\n",
    "    extra_imports=[\"ipwhois, IPWhois\"]\n",
    ");"
   ]
  },
  {
   "cell_type": "markdown",
   "metadata": {},
   "source": [
    "### Get Workspace and Authenticate\n",
    "<details>\n",
    "    <summary>&nbsp;<u>Details...</u></summary>\n",
    "If you are using user/device authentication, run the following cell. \n",
    "- Click the 'Copy code to clipboard and authenticate' button.\n",
    "- This will pop up an Azure Active Directory authentication dialog (in a new tab or browser window). The device code will have been copied to the clipboard. \n",
    "- Select the text box and paste (Ctrl-V/Cmd-V) the copied value. \n",
    "- You should then be redirected to a user authentication page where you should authenticate with a user account that has permission to query your Log Analytics workspace.\n",
    "\n",
    "Use the following syntax if you are authenticating using an Azure Active Directory AppId and Secret:\n",
    "```\n",
    "%kql loganalytics://tenant(aad_tenant).workspace(WORKSPACE_ID).clientid(client_id).clientsecret(client_secret)\n",
    "```\n",
    "instead of\n",
    "```\n",
    "%kql loganalytics://code().workspace(WORKSPACE_ID)\n",
    "```\n",
    "\n",
    "Note: you may occasionally see a JavaScript warning displayed at the end of the authentication - you can safely ignore this.<br>\n",
    "On successful authentication you should see a ```popup schema``` button.\n",
    "To find your Workspace Id go to [Log Analytics](https://ms.portal.azure.com/#blade/HubsExtension/Resources/resourceType/Microsoft.OperationalInsights%2Fworkspaces). Look at the workspace properties to find the ID.\n",
    "</details>"
   ]
  },
  {
   "cell_type": "code",
   "execution_count": null,
   "metadata": {
    "gather": {
     "logged": 1618283305919
    }
   },
   "outputs": [],
   "source": [
    "# See if we have a Microsoft Sentinel Workspace defined in our config file.\n",
    "# If not, let the user specify Workspace and Tenant IDs\n",
    "\n",
    "ws_config = WorkspaceConfig()\n",
    "if not ws_config.config_loaded:\n",
    "    ws_config.prompt_for_ws()\n",
    "    \n",
    "qry_prov = QueryProvider(data_environment=\"AzureSentinel\")"
   ]
  },
  {
   "cell_type": "code",
   "execution_count": null,
   "metadata": {
    "collapsed": true,
    "gather": {
     "logged": 1618283330269
    },
    "jupyter": {
     "outputs_hidden": false,
     "source_hidden": false
    },
    "nteract": {
     "transient": {
      "deleting": false
     }
    }
   },
   "outputs": [],
   "source": [
    "# Authenticate to Microsoft Sentinel workspace\n",
    "qry_prov.connect(ws_config)\n",
    "table_index = qry_prov.schema_tables"
   ]
  },
  {
   "cell_type": "markdown",
   "metadata": {},
   "source": [
    "#### Authentication and Configuration Problems\n",
    "\n",
    "<br>\n",
    "<details>\n",
    "    <summary>Click for details about configuring your authentication parameters</summary>\n",
    "    \n",
    "    \n",
    "The notebook is expecting your Microsoft Sentinel Tenant ID and Workspace ID to be configured in one of the following places:\n",
    "- `config.json` in the current folder\n",
    "- `msticpyconfig.yaml` in the current folder or location specified by `MSTICPYCONFIG` environment variable.\n",
    "    \n",
    "For help with setting up your `config.json` file (if this hasn't been done automatically) see the [`ConfiguringNotebookEnvironment`](https://github.com/Azure/Azure-Sentinel-Notebooks/blob/master/ConfiguringNotebookEnvironment.ipynb) notebook in the root folder of your Microsoft-Sentinel-Notebooks project. This shows you how to obtain your Workspace and Subscription IDs from the Microsoft Sentinel Portal. You can use the SubscriptionID to find your Tenant ID). To view the current `config.json` run the following in a code cell.\n",
    "\n",
    "```%pfile config.json```\n",
    "\n",
    "For help with setting up your `msticpyconfig.yaml` see the [Setup](#Setup) section at the end of this notebook and the [ConfigureNotebookEnvironment notebook](https://github.com/Azure/Azure-Sentinel-Notebooks/blob/master/ConfiguringNotebookEnvironment.ipynb)\n",
    "</details>"
   ]
  },
  {
   "cell_type": "markdown",
   "metadata": {},
   "source": [
    "## Enter account name and query time window\n",
    "Type the account name that you want to search for and the time bounds over which you want to search. \n",
    "\n",
    "You can specify the account as:\n",
    "\n",
    "- a simple user name (e.g. `alice`)\n",
    "- a user principal name (`alice@contoso.com`)\n",
    "- a qualified windows user name `mydomain\\alice`\n",
    "\n",
    "In the second two cases the domain qualifier will be stripped off before the search. The search is not case sensitive and will match full substrings. E.g. `bob` will match `domain\\bob` and `bob@contoso.com` but not `bobg` or `bo`."
   ]
  },
  {
   "cell_type": "code",
   "execution_count": null,
   "metadata": {
    "gather": {
     "logged": 1618283340709
    }
   },
   "outputs": [],
   "source": [
    "WIDGET_DEFAULTS = {\n",
    "    \"layout\": widgets.Layout(width=\"95%\"),\n",
    "    \"style\": {\"description_width\": \"initial\"},\n",
    "}\n",
    "accountname_text = widgets.Text(description='Enter the Account name to search for:', **WIDGET_DEFAULTS)\n",
    "display(accountname_text)"
   ]
  },
  {
   "cell_type": "code",
   "execution_count": null,
   "metadata": {
    "gather": {
     "logged": 1618283350809
    }
   },
   "outputs": [],
   "source": [
    "query_times = nbwidgets.QueryTime(units='day', max_before=200, before=5, max_after=7)\n",
    "query_times.display()"
   ]
  },
  {
   "cell_type": "code",
   "execution_count": null,
   "metadata": {
    "gather": {
     "logged": 1618283358110
    }
   },
   "outputs": [],
   "source": [
    "# Set up function to allow easy reference to common parameters for queries\n",
    "def acct_query_params():\n",
    "    return {\n",
    "        \"start\": query_times.start,\n",
    "        \"end\": query_times.end,\n",
    "        \"account_name\": accountname_text.value,\n",
    "    }"
   ]
  },
  {
   "cell_type": "markdown",
   "metadata": {},
   "source": [
    "## Data Sources available to query\n",
    "This shows all of the tables in the workspace with a string matching the account name entered.\n",
    "Note that these matches may be accidental and not necessarily relate to the account that you are interested in.\n",
    "\n",
    "> **Note**: \"search\" queries can be long-running and resource intensive. Feel free to skip this"
   ]
  },
  {
   "cell_type": "code",
   "execution_count": null,
   "metadata": {
    "gather": {
     "logged": 1618283379834
    }
   },
   "outputs": [],
   "source": [
    "# KQL query for full text search of IP address and display all datatypes \n",
    "datasource_status = '''\n",
    "search \\'{account_name}\\'\n",
    "| where TimeGenerated >= datetime({start}) and TimeGenerated <= datetime({end})\n",
    "| summarize RowCount=count() by Table=$table\n",
    "'''.format(**acct_query_params())\n",
    "datasource_status_df = qry_prov.exec_query(datasource_status)\n",
    "\n",
    "#Display result as transposed matrix of datatypes availabel to query for the query period \n",
    "if len(datasource_status_df) > 0:\n",
    "    display(Markdown(\"###  <span style='color:blue'> \"\n",
    "                     + \"Datasources available to query for Account \"\n",
    "                     + f\"*{acct_query_params()['account_name']}* </span>\"))\n",
    "    display(datasource_status_df)\n",
    "else:\n",
    "    display(Markdown(f'### <span style=\"color:orange\"> No datasources available to query for the query period </span>'))"
   ]
  },
  {
   "cell_type": "markdown",
   "metadata": {},
   "source": [
    "## Search for Account Name in Host, Azure Active Directory (AAD), Azure and Office 365 Data.\n",
    "\n",
    "This section searches for activity related to the account name entered earlier. It looks for the most recent activity in the following sources:\n",
    "- Azure Active Directory Signin logs\n",
    "- Azure Activity log\n",
    "- Office Activity log\n",
    "- Windows Security events for logon and logon failure\n",
    "- Linux Security events for logons\n",
    "\n",
    "### Query Data Sources"
   ]
  },
  {
   "cell_type": "code",
   "execution_count": null,
   "metadata": {
    "gather": {
     "logged": 1618283458114
    }
   },
   "outputs": [],
   "source": [
    "pd.set_option(\"display.html.table_schema\", False)\n",
    "\n",
    "# AAD\n",
    "md(\"Searching for AAD activity...\")\n",
    "summarize_clause = \"\"\"\n",
    "| summarize arg_max(TimeGenerated, *) by UserPrincipalName, OperationName, \n",
    "  Identity, IPAddress, tostring(LocationDetails)\n",
    "| project TimeGenerated, UserPrincipalName, Identity, IPAddress, LocationDetails\"\"\"\n",
    "\n",
    "aad_signin_df = (qry_prov.Azure\n",
    "                 .list_aad_signins_for_account(**acct_query_params(),\n",
    "                                               add_query_items=summarize_clause)\n",
    "                )\n",
    "\n",
    "md(\"Searching for Azure activity...\")\n",
    "# Azure Activity\n",
    "summarize_clause = \"\"\"\n",
    "| summarize arg_max(TimeGenerated, *) by Caller, OperationName, \n",
    "  CallerIpAddress, ResourceId\n",
    "| project TimeGenerated, UserPrincipalName=Caller, IPAddress=CallerIpAddress\"\"\"\n",
    "\n",
    "azure_activity_df = (qry_prov.Azure\n",
    "                     .list_azure_activity_for_account(**acct_query_params(),\n",
    "                                                      add_query_items=summarize_clause)\n",
    "                    )\n",
    "\n",
    "md(\"Searching for Office365 activity...\")\n",
    "# Office Activity\n",
    "summarize_clause = \"\"\"\n",
    "| project TimeGenerated, UserId = tolower(UserId), OfficeWorkload, Operation, ClientIP, UserType\n",
    "| summarize arg_max(TimeGenerated, *) by UserId, OfficeWorkload, ClientIP\n",
    "| order by TimeGenerated desc\"\"\"\n",
    "\n",
    "o365_activity_df = (qry_prov.Office365\n",
    "                    .list_activity_for_account(**acct_query_params(),\n",
    "                                               add_query_items=summarize_clause)\n",
    "                    )\n",
    "\n",
    "md(\"Searching for Windows logon activity...\")\n",
    "# Windows Host\n",
    "summarize_clause = \"\"\"\n",
    "| extend LogonStatus = iff(EventID == 4624, \"success\", \"failed\")\n",
    "| project TimeGenerated, TargetUserName, TargetDomainName, Computer, LogonType, SubjectUserName, \n",
    "  SubjectDomainName, TargetUserSid, EventID, IpAddress, LogonStatus \n",
    "| summarize arg_max(TimeGenerated, *) by TargetUserName, TargetDomainName, LogonType, Computer, LogonStatus\"\"\"\n",
    "\n",
    "win_logon_df = (qry_prov.WindowsSecurity\n",
    "                .list_logon_attempts_by_account(**acct_query_params(),\n",
    "                                                add_query_items=summarize_clause)\n",
    "               )\n",
    "\n",
    "md(\"Searching for Linux logon activity...\")\n",
    "# Linux host\n",
    "summarize_clause = \"\"\"\n",
    "| summarize arg_max(TimeGenerated, *) by LogonType, SourceIP, Computer, LogonResult\"\"\"\n",
    "\n",
    "linux_logon_df = (qry_prov.LinuxSyslog\n",
    "                  .list_logons_for_account(**acct_query_params(),\n",
    "                                           add_query_items=summarize_clause)\n",
    "                 )\n",
    "\n",
    "rec_count = (\n",
    "    len(aad_signin_df) + len(azure_activity_df) \n",
    "    + len(o365_activity_df) + len(win_logon_df) \n",
    "    + len(linux_logon_df)\n",
    ")\n",
    "md(f\"Found {rec_count} records...\")\n",
    "md(f\"  {len(aad_signin_df)} records in AAD\")\n",
    "md(f\"  {len(azure_activity_df)} records in Azure Activity\")\n",
    "md(f\"  {len(o365_activity_df)} records in Office Activity\")\n",
    "md(f\"  {len(win_logon_df)} records in Windows logon data\")\n",
    "md(f\"  {len(linux_logon_df)} records in Linux logon data\")"
   ]
  },
  {
   "cell_type": "markdown",
   "metadata": {},
   "source": [
    "## Display logons from account sources and choose an account to explore\n",
    "If any records were found in the previous search these will be displayed in a selection list. You can filter this list to reduce the number of items shown. Unique combinations of Account name and activity source are displayed in this list. So yo may see the same account listed against multiple activity types. E.g. an entry for alex@xyz.com for Office O365Activity and alex@xyz.com for AADLogon.\n",
    "\n",
    "As you select each account, the records from the previous search are displayed.\n",
    "\n",
    "Following this selection list there is a general section (applicable to accounts from all sources) and sections that are specific to account in specific domains (Linux, Windows or Azure/Office).\n",
    "\n",
    "Choosing an account affects which later parts of the notebook are applicable. For example if the account chosen is from a Linux logon, only the Linux section will be applicable but Windows and AAD/Office will not. If you have multiple accounts listed you can come back and chose a different account and re-run the later parts of the notebook on each account.\n"
   ]
  },
  {
   "cell_type": "code",
   "execution_count": null,
   "metadata": {
    "gather": {
     "logged": 1618283464333
    }
   },
   "outputs": [],
   "source": [
    "from collections import namedtuple\n",
    "AccountDFs = namedtuple(\"AccountDFs\", [\"linux\", \"windows\", \"aad\", \"azure\", \"o365\"])\n",
    "account_dfs = AccountDFs(\n",
    "    linux=linux_logon_df,\n",
    "    windows=win_logon_df,\n",
    "    aad=aad_signin_df,\n",
    "    azure=azure_activity_df,\n",
    "    o365=o365_activity_df,\n",
    ")\n",
    "\n",
    "# Combine into single data frame\n",
    "\n",
    "lx_df = (linux_logon_df[[\"AccountName\", \"TimeGenerated\"]]\n",
    "        .groupby(\"AccountName\")\n",
    "        .max()\n",
    "        .reset_index()\n",
    "        .assign(Source=\"LinuxHostLogon\"))\n",
    "\n",
    "win_df = (win_logon_df[[\"TargetUserName\", \"TimeGenerated\"]]\n",
    "          .groupby(\"TargetUserName\")\n",
    "          .max()\n",
    "          .reset_index()\n",
    "          .rename(columns={\"TargetUserName\": \"AccountName\"})\n",
    "          .assign(Source=\"WindowsHostLogon\"))\n",
    "\n",
    "o365_df = (o365_activity_df[[\"UserId\", \"TimeGenerated\"]]\n",
    "           .groupby(\"UserId\")\n",
    "           .max()\n",
    "           .reset_index()\n",
    "           .rename(columns={\"UserId\": \"AccountName\"})\n",
    "           .assign(Source=\"O365Activity\"))\n",
    "\n",
    "aad_df = (aad_signin_df[[\"UserPrincipalName\", \"TimeGenerated\"]]\n",
    "          .groupby(\"UserPrincipalName\")\n",
    "          .max()\n",
    "          .reset_index()\n",
    "          .rename(columns={\"UserPrincipalName\": \"AccountName\"})\n",
    "          .assign(Source=\"AADLogon\"))\n",
    "\n",
    "azure_df = (azure_activity_df[[\"UserPrincipalName\", \"TimeGenerated\"]]\n",
    "            .groupby(\"UserPrincipalName\")\n",
    "            .max()\n",
    "            .reset_index()\n",
    "            .rename(columns={\"UserPrincipalName\": \"AccountName\"})\n",
    "            .assign(Source=\"AzureActivity\"))\n",
    "\n",
    "\n",
    "all_sources_df = pd.concat([lx_df, win_df, o365_df, aad_df, azure_df])\n",
    "\n",
    "\n",
    "# Display the results that we've found\n",
    "format_tuple = (lambda x: \n",
    "                (x.AccountName + \"   \" + x.Source\n",
    "                 + \" (Last activity: \" + str(x.TimeGenerated) + \")\",\n",
    "                 x.AccountName + \" \" + x.Source))\n",
    "accts_dict = {item[0]: item[1] for item in all_sources_df.apply(format_tuple, axis=1)}\n",
    "\n",
    "\n",
    "def display_activity(selected_item):\n",
    "    acct, source = selected_account(selected_item)\n",
    "    outputs = []\n",
    "    title = HTML(f\"<b>{acct} (source: {source})</b>\")\n",
    "    outputs.append(title)\n",
    "    if source == \"LinuxHostLogon\":\n",
    "        outputs.append(\n",
    "            linux_logon_df[linux_logon_df[\"AccountName\"] == acct]\n",
    "            .sort_values(\"TimeGenerated\", ascending=True)\n",
    "        )\n",
    "    if source == \"WindowsHostLogon\":\n",
    "        outputs.append(\n",
    "            win_logon_df[win_logon_df[\"TargetUserName\"] == acct]\n",
    "            .sort_values(\"TimeGenerated\", ascending=True)\n",
    "        )\n",
    "    if source == \"AADLogon\":\n",
    "        outputs.append(\n",
    "            aad_signin_df[aad_signin_df[\"UserPrincipalName\"] == acct]\n",
    "            .sort_values(\"TimeGenerated\", ascending=True)\n",
    "        )\n",
    "    if source == \"AzureActivity\":\n",
    "        outputs.append(\n",
    "            azure_activity_df[azure_activity_df[\"UserPrincipalName\"] == acct]\n",
    "            .sort_values(\"TimeGenerated\", ascending=True)\n",
    "        )\n",
    "    if source == \"O365Activity\":\n",
    "        outputs.append(\n",
    "            o365_activity_df[o365_activity_df[\"UserId\"] == acct]\n",
    "            .sort_values(\"TimeGenerated\", ascending=True)\n",
    "        )\n",
    "    return outputs\n",
    "\n",
    "def selected_account(selected_acct):\n",
    "    if not selected_acct:\n",
    "        return \"\", \"\"\n",
    "    acct, source = selected_acct.split(\" \")\n",
    "    return acct, source\n",
    "\n",
    "select_acct = nbwidgets.SelectItem(\n",
    "    item_dict=accts_dict,\n",
    "    auto_display=True,\n",
    "    description=\"Select an account to explore\",\n",
    "    action=display_activity,\n",
    "    height=\"200px\",\n",
    "    width=\"100%\")"
   ]
  },
  {
   "cell_type": "markdown",
   "metadata": {},
   "source": [
    "## Related Alerts and Hunting Bookmarks\n",
    "### Alerts\n",
    "Any alerts with a matching account name are shown here. Select an alert to view the contents."
   ]
  },
  {
   "cell_type": "code",
   "execution_count": null,
   "metadata": {
    "gather": {
     "logged": 1618283996665
    }
   },
   "outputs": [],
   "source": [
    "account_name, account_source = selected_account(select_acct.value)\n",
    "related_alerts = qry_prov.SecurityAlert.list_related_alerts(\n",
    "    **acct_query_params()\n",
    ")\n",
    "\n",
    "def print_related_alerts(alertDict, entityType, entityName):\n",
    "    if len(alertDict) > 0:\n",
    "        md(f\"Found {len(alertDict)} different alert types related to this {entityType} (`{entityName}`)\",\n",
    "           \"large, bold\"\n",
    "        )\n",
    "        for (k, v) in alertDict.items():\n",
    "            print(f\"- {k}, # Alerts: {v}\")\n",
    "    else:\n",
    "        md(f\"No alerts for {entityType} entity `{entityName}`\")\n",
    "\n",
    "\n",
    "if isinstance(related_alerts, pd.DataFrame) and not related_alerts.empty:\n",
    "    alert_items = (\n",
    "        related_alerts[[\"AlertName\", \"TimeGenerated\"]]\n",
    "        .groupby(\"AlertName\")\n",
    "        .TimeGenerated.agg(\"count\")\n",
    "        .to_dict()\n",
    "    )\n",
    "    print_related_alerts(alert_items, \"account\", account_name)\n",
    "    nbdisplay.display_timeline(\n",
    "        data=related_alerts, title=\"Alerts\", source_columns=[\"AlertName\"], height=200\n",
    "    )\n",
    "else:\n",
    "    display(Markdown(\"No related alerts found.\"))\n",
    "\n",
    "def disp_full_alert(alert):\n",
    "    global related_alert\n",
    "    related_alert = SecurityAlert(alert)\n",
    "    return nbdisplay.format_alert(related_alert, show_entities=True)\n",
    "\n",
    "if related_alerts is not None and not related_alerts.empty:\n",
    "    related_alerts[\"CompromisedEntity\"] = related_alerts[\"src_accountname\"]\n",
    "    display(Markdown(\"### Click on alert to view details.\"))\n",
    "    rel_alert_select = nbwidgets.SelectAlert(\n",
    "        alerts=related_alerts,\n",
    "        action=disp_full_alert,\n",
    "    )\n",
    "    rel_alert_select.display()"
   ]
  },
  {
   "cell_type": "markdown",
   "metadata": {},
   "source": [
    "### Hunting/Investigation Bookmarks\n",
    "Any bookmarks created that reference the selected account are shown here. Select a bookmark to view the contents."
   ]
  },
  {
   "cell_type": "code",
   "execution_count": null,
   "metadata": {
    "gather": {
     "logged": 1618283999194
    }
   },
   "outputs": [],
   "source": [
    "acct_name = acct_query_params()[\"account_name\"]\n",
    "related_bkmark_df = qry_prov.AzureSentinel.list_bookmarks_for_entity(\n",
    "    **acct_query_params(), entity_id=acct_name\n",
    ")\n",
    "\n",
    "def print_related_bkmk(bookmarks, entityType, entityName):\n",
    "    if len(bookmarks) > 0:\n",
    "        md(f\"Found {len(bookmarks)} different bookmarks related to this {entityType} (`{entityName}`)\",\n",
    "           \"large, bold\"\n",
    "        )\n",
    "    else:\n",
    "        md(f\"No alerts for {entityType} entity `{entityName}`\")\n",
    "\n",
    "\n",
    "if isinstance(related_bkmark_df, pd.DataFrame) and not related_bkmark_df.empty:\n",
    "    bookmarks = (related_bkmark_df\n",
    "                 .apply(lambda x: (f\"{x.BookmarkName} {x.Tags}  {x.TimeGenerated}\", x.BookmarkId),\n",
    "                        axis=1)\n",
    "                 .tolist())\n",
    "    print_related_bkmk(bookmarks, \"account\", account_name)\n",
    "    nbdisplay.display_timeline(\n",
    "        data=related_bkmark_df,\n",
    "        title=\"Bookmarks\",\n",
    "        source_columns=[\"BookmarkName\", \"Tags\"], height=200\n",
    "    )\n",
    "else:\n",
    "    display(Markdown(\"No related bookmarks found.\"))\n",
    "\n",
    "def disp_bookmark(bookmark_id):\n",
    "    return related_bkmark_df[related_bkmark_df[\"BookmarkId\"] == bookmark_id].T\n",
    "\n",
    "if related_bkmark_df is not None and not related_bkmark_df.empty:\n",
    "    display(Markdown(\"### Click on bookmark to view details.\"))\n",
    "    rel_bkmk_select = nbwidgets.SelectItem(\n",
    "        item_list=bookmarks,\n",
    "        action=disp_bookmark,\n",
    "        auto_display=True\n",
    "    )\n",
    "    "
   ]
  },
  {
   "cell_type": "markdown",
   "metadata": {},
   "source": [
    "## Further Investigation\n",
    "Depending on the type of account (AAD or Host/Endpoint account) we can drill deeper to look at data specific to that account type.\n",
    "\n",
    "This cell determines which section of the notebook is applicable to the account type."
   ]
  },
  {
   "cell_type": "code",
   "execution_count": null,
   "metadata": {
    "gather": {
     "logged": 1618284002340
    }
   },
   "outputs": [],
   "source": [
    "# Function definitions used below\n",
    "# This cell should be executed before continuing further.\n",
    "\n",
    "# WHOIS lookup function\n",
    "from functools import lru_cache\n",
    "from ipwhois import IPWhois\n",
    "from ipaddress import ip_address\n",
    "\n",
    "@lru_cache(maxsize=1024)\n",
    "def get_whois_info(ip_lookup, show_progress=False):\n",
    "    try:\n",
    "        ip = ip_address(ip_lookup)\n",
    "    except ValueError:\n",
    "        return \"Not an IP Address\", {}\n",
    "    if ip.is_private:\n",
    "        return \"private address\", {}\n",
    "    if not ip.is_global:\n",
    "        return \"other address\", {}\n",
    "    whois = IPWhois(ip)\n",
    "    whois_result = whois.lookup_whois()\n",
    "    if show_progress:\n",
    "        print(\".\", end=\"\")\n",
    "    return whois_result[\"asn_description\"], whois_result\n",
    "\n",
    "\n",
    "ti_lookup = TILookup()\n",
    "def check_ip_ti(df, ip_col):\n",
    "\n",
    "    ip4_rgx = r\"((?:[0-9]{1,3}\\.){3}[0-9]{1,3})\"\n",
    "    df = (df\n",
    "          .assign(IP_ext=lambda x: x[ip_col].str.extract(ip4_rgx, expand=False))\n",
    "          .rename(columns={ip_col: ip_col + \"_orig\"})\n",
    "          .rename(columns={\"IP_ext\": ip_col})\n",
    "         )\n",
    "    src_ip_addrs = (df[[ip_col]]\n",
    "                    .dropna()\n",
    "                    .drop_duplicates()\n",
    "                   )\n",
    "    md(f\"Querying TI for {len(src_ip_addrs)} indicators...\")\n",
    "    ti_results = ti_lookup.lookup_iocs(data=src_ip_addrs, obs_col=ip_col)\n",
    "    ti_results = ti_results[ti_results[\"Severity\"].isin(['warning', 'high'])]\n",
    "\n",
    "    ti_merged_df = df.merge(ti_results, how=\"left\", left_on=ip_col, right_on=\"Ioc\")\n",
    "    return ti_results, ti_merged_df, src_ip_addrs\n",
    "\n",
    "\n",
    "geo_lookup = GeoLiteLookup()\n",
    "def check_geo_whois(ip_df, df, ip_col):\n",
    "    \n",
    "    ip4_rgx = r\"((?:[0-9]{1,3}\\.){3}[0-9]{1,3})\"\n",
    "    df = (df\n",
    "          .assign(IP_ext=lambda x: x[ip_col].str.extract(ip4_rgx, expand=False))\n",
    "          .rename(columns={ip_col: ip_col + \"_orig\"})\n",
    "          .rename(columns={\"IP_ext\": ip_col})\n",
    "         )\n",
    "    md(f\"Querying geolocation for {len(ip_df)} ip addresses...\")\n",
    "    \n",
    "    geo_ips = geo_lookup.lookup_ip(ip_addr_list=list(ip_df[ip_col].values))\n",
    "    # TODO replace\n",
    "    ip_dicts = [{**ent.Location.properties, \"IpAddress\": ent.Address} for ent in geo_ips[1]]\n",
    "    df_out = pd.DataFrame(data=ip_dicts)\n",
    "    geo_df = df.merge(df_out, how=\"left\", left_on=ip_col, right_on=\"IpAddress\")\n",
    "\n",
    "    md(f\"Querying WhoIs for {len(ip_df)} ip addresses...\")\n",
    "    whois_df = ip_df.copy()\n",
    "    # Get the WhoIs results\n",
    "    whois_df[[\"ASNDesc\", \"WhoisResult\"]] = (\n",
    "        ip_df\n",
    "        .apply(lambda x: get_whois_info(x[ip_col], show_progress=True),\n",
    "               axis=1, result_type=\"expand\"))\n",
    "    geo_whois_df = geo_df.merge(whois_df, how=\"left\", right_on=ip_col, left_on=ip_col)\n",
    "    return geo_whois_df\n",
    "\n",
    "# Based on the account type, advice the user where to go next.\n",
    "\n",
    "acct, source = selected_account(select_acct.value)\n",
    "md(f\"Account '{acct}'. Source is '{source}'\", \"bold, large, blue\")\n",
    "\n",
    "goto = lambda x: display(Markdown(f\"### For further analysis go to {x}\"))\n",
    "if source == \"LinuxHostLogon\":\n",
    "    goto(\"go to [LinuxHostLogon](#Linux-Host)\")\n",
    "if source == \"WindowsHostLogon\":\n",
    "    goto(\"go to [WindowsHostLogon](#Windows-Host)\")\n",
    "if source in [\"AADLogon\", \"AzureActivity\", \"O365Activity\"]:\n",
    "    goto(\"go to [AAD/Office Account](#AAD/Office-Account)\")"
   ]
  },
  {
   "cell_type": "markdown",
   "metadata": {},
   "source": [
    "## Windows Host\n",
    "For Windows accounts we look for the following types of data:\n",
    "\n",
    "- Logon Summary\n",
    "- Threat Intelligence reports for logon source IP Address(es)\n",
    "- Geo location and Whois lookup for logon source IP Address(es)\n",
    "- Additional alerts for the hosts where the account had logged on\n",
    "- Additional bookmarks for the hosts where the account had logged on"
   ]
  },
  {
   "cell_type": "code",
   "execution_count": null,
   "metadata": {
    "gather": {
     "logged": 1618283507428
    }
   },
   "outputs": [],
   "source": [
    "md(\"Fetching logon data...\")\n",
    "ext_logon_status = \"| extend LogonStatus = iff(EventID == 4624, 'success', 'failed')\"\n",
    "all_win_logons = (qry_prov.WindowsSecurity\n",
    "                  .list_logon_attempts_by_account(**acct_query_params(),\n",
    "                                                 add_query_items=ext_logon_status))\n",
    "md(\"done\")"
   ]
  },
  {
   "cell_type": "markdown",
   "metadata": {},
   "source": [
    "### Host Logon Summary"
   ]
  },
  {
   "cell_type": "code",
   "execution_count": null,
   "metadata": {
    "gather": {
     "logged": 1618283596644
    }
   },
   "outputs": [],
   "source": [
    "logon_summary = (all_win_logons\n",
    " .groupby(\"Computer\")\n",
    " .agg(\n",
    "     TotalLogons=pd.NamedAgg(column=\"EventID\", aggfunc=\"count\"),\n",
    "     LogonResult=pd.NamedAgg(column=\"LogonStatus\", aggfunc=lambda x: x.value_counts().to_dict()),\n",
    "     IPAddresses=pd.NamedAgg(column=\"IpAddress\", aggfunc=lambda x: x.unique().tolist()),\n",
    "     LogonTypeCount=pd.NamedAgg(column=\"LogonType\", aggfunc=lambda x: x.value_counts().to_dict()),\n",
    "     FirstLogon=pd.NamedAgg(column=\"TimeGenerated\", aggfunc=\"min\"),\n",
    "     LastLogon=pd.NamedAgg(column=\"TimeGenerated\", aggfunc=\"max\"),\n",
    "  )\n",
    ")\n",
    "\n",
    "display(logon_summary)\n",
    "if len(all_win_logons) > 1:\n",
    "  nbdisplay.display_timeline(\n",
    "    data=all_win_logons,\n",
    "    group_by=\"IpAddress\",\n",
    "    source_columns=[\"Computer\", \"LogonStatus\", \"LogonType\"],\n",
    "    title=\"Logons\"\n",
    "  )"
   ]
  },
  {
   "cell_type": "markdown",
   "metadata": {},
   "source": [
    "### Threat Intelligence for logon IP Addresses\n",
    "<details>\n",
    "    <summary>TI Configuration</summary>\n",
    "If you have not used msticpy threat intelligence lookups before you will need to supply API keys for the \n",
    "TI Providers that you want to use. Please see the section on configuring [msticpyconfig.yaml](#msticpyconfig.yaml-configuration-File)\n",
    "\n",
    "Then reload provider settings:\n",
    "```\n",
    "mylookup = TILookup()\n",
    "mylookup.reload_provider_settings()\n",
    "```\n",
    "</details>"
   ]
  },
  {
   "cell_type": "code",
   "execution_count": null,
   "metadata": {
    "gather": {
     "logged": 1618283661269
    }
   },
   "outputs": [],
   "source": [
    "ti_results, all_win_logons_ti, src_ip_addrs_win = check_ip_ti(df=all_win_logons, ip_col=\"IpAddress\")\n",
    "if not ti_results.empty:\n",
    "    md(f\"{len(ti_results)} threat intelligence hits have been \"\n",
    "       + \"matched on one or more source IP addresses.\", \"bold, red, large\")\n",
    "    md(\" You should investigate the hosts accessed from these adddresses \"\n",
    "       + \"(see previous cell for host name accessed by IP Address)\"\n",
    "       + \"the 'Entity Explorer - Windows Host' notebook\", \"bold, red\" )\n",
    "    md(\"Logon details for TI matches are in the `all_win_logons_ti` DataFrame\")\n",
    "    display(ti_results)\n",
    "else:\n",
    "    md(\"No additional items found for logged on hosts\")"
   ]
  },
  {
   "cell_type": "markdown",
   "metadata": {},
   "source": [
    "### Geolocation and ownership for source logon IP addresses\n",
    "We use the source IP addresses for the activity to perform and Geo-location lookup and a WhoIs lookup to try to identify the IP address owner."
   ]
  },
  {
   "cell_type": "code",
   "execution_count": null,
   "metadata": {
    "gather": {
     "logged": 1618283944848
    }
   },
   "outputs": [],
   "source": [
    "# src_ip_addrs_win = all_win_logons[[\"IpAddress\"]].drop_duplicates()\n",
    "all_win_logons_geo = check_geo_whois(src_ip_addrs_win, all_win_logons, \"IpAddress\")\n",
    "md(\"Geolocations and ASN Owner for account logon source IP addresses. Information only\", \"bold\")\n",
    "\n",
    "if len(all_win_logons_geo) < 5:\n",
    "  display(all_win_logons_geo)\n",
    "else:\n",
    "  display(\n",
    "    all_win_logons_geo[~all_win_logons_geo[\"CountryName\"].isna()]\n",
    "  .groupby([\"Computer\", \"IpAddress\", \"CountryCode\",\"CountryName\", \"City\", \"ASNDesc\"])\n",
    "  .agg(\n",
    "      TotalLogons=pd.NamedAgg(column=\"EventID\", aggfunc=\"count\"),\n",
    "      LogonResult=pd.NamedAgg(column=\"LogonStatus\", aggfunc=lambda x: x.value_counts().to_dict()),\n",
    "      LogonTypeCount=pd.NamedAgg(column=\"LogonType\", aggfunc=lambda x: x.value_counts().to_dict()),\n",
    "      FirstLogon=pd.NamedAgg(column=\"TimeGenerated\", aggfunc=\"min\"),\n",
    "      LastLogon=pd.NamedAgg(column=\"TimeGenerated\", aggfunc=\"max\"),\n",
    "    )\n",
    "  )\n"
   ]
  },
  {
   "cell_type": "markdown",
   "metadata": {},
   "source": [
    "### Additional Alerts for logged-on hosts"
   ]
  },
  {
   "cell_type": "code",
   "execution_count": null,
   "metadata": {
    "gather": {
     "logged": 1618283964263
    }
   },
   "outputs": [],
   "source": [
    "related_host_alerts = []\n",
    "for host in all_win_logons[\"Computer\"].unique():\n",
    "    host_alerts = qry_prov.SecurityAlert.list_related_alerts(\n",
    "        start=acct_query_params()[\"start\"],\n",
    "        end=acct_query_params()[\"end\"],\n",
    "        host_name=host\n",
    "    )\n",
    "    related_host_alerts.append(host_alerts)\n",
    "    \n",
    "related_host_alerts_df = pd.concat(related_host_alerts)\n",
    "\n",
    "# Show host alerts that were not in the Account alerts list\n",
    "related_host_alerts_df = related_host_alerts_df[~related_host_alerts_df[\"SystemAlertId\"]\n",
    "                                                .isin(related_alerts[\"SystemAlertId\"])]\n",
    "if not related_host_alerts_df.empty:\n",
    "    md(f\"{len(related_host_alerts_df)} additional alerts have been \"\n",
    "       + \"triggered on one or more hosts.\", \"bold, red, large\")\n",
    "    md(\" You should investigate these hosts using \"\n",
    "       + \"the 'Entity Explorer - Windows Host' notebook\", \"bold, red\" )\n",
    "    display(related_host_alerts_df)\n",
    "else:\n",
    "    md(\"No additional alerts found\")"
   ]
  },
  {
   "cell_type": "markdown",
   "metadata": {},
   "source": [
    "#### Additional alerts for source IP addresses\n",
    "We can also search for alerts that contain the IP addresses that were the origin of logons to the host."
   ]
  },
  {
   "cell_type": "code",
   "execution_count": null,
   "metadata": {
    "gather": {
     "logged": 1618283971097
    }
   },
   "outputs": [],
   "source": [
    "ip_list = \",\".join(list(all_win_logons[\"IpAddress\"].unique()))\n",
    "related_ip_alerts_df = qry_prov.SecurityAlert.list_alerts_for_ip(\n",
    "    start=acct_query_params()[\"start\"],\n",
    "    end=acct_query_params()[\"end\"],\n",
    "    source_ip_list=ip_list\n",
    ")\n",
    "# remove Account and host alerts already seen\n",
    "related_ip_alerts_df = related_ip_alerts_df[~related_ip_alerts_df[\"SystemAlertId\"]\n",
    "                                            .isin(related_alerts[\"SystemAlertId\"])]\n",
    "related_ip_alerts_df = related_ip_alerts_df[~related_ip_alerts_df[\"SystemAlertId\"]\n",
    "                                            .isin(related_host_alerts_df[\"SystemAlertId\"])]\n",
    "if not related_ip_alerts_df.empty:\n",
    "    md(f\"{len(related_ip_alerts_df)} additional alerts have been \"\n",
    "       + \"triggered from one or more source IPs.\", \"bold, red, large\")\n",
    "    md(\" You should investigate these IPs using \"\n",
    "       + \"the 'Entity Explorer - IP Address' notebook\", \"bold, red\" )\n",
    "    display(related_ip_alerts_df)\n",
    "else:\n",
    "    md(\"No additional alerts found.\")"
   ]
  },
  {
   "cell_type": "markdown",
   "metadata": {},
   "source": [
    "### Additional Investigation Bookmarks for logged-on hosts"
   ]
  },
  {
   "cell_type": "code",
   "execution_count": null,
   "metadata": {
    "gather": {
     "logged": 1618283975393
    }
   },
   "outputs": [],
   "source": [
    "related_host_bkmks = []\n",
    "for host in all_win_logons[\"Computer\"].unique():\n",
    "    host_bkmks = qry_prov.AzureSentinel.list_bookmarks_for_entity(\n",
    "        start=acct_query_params()[\"start\"],\n",
    "        end=acct_query_params()[\"end\"],\n",
    "        entity_id=f\"'{host}'\"\n",
    "    )\n",
    "    related_host_bkmks.append(host_bkmks)\n",
    "    \n",
    "related_host_bkmks_df = pd.concat(related_host_bkmks)\n",
    "\n",
    "# Show host bookmarks that were not in the Account bookmarks list\n",
    "related_host_bkmks_df = related_host_bkmks_df[~related_host_bkmks_df[\"BookmarkId\"]\n",
    "                                              .isin(related_bkmark_df[\"BookmarkId\"])]\n",
    "if not related_host_bkmks_df.empty:\n",
    "    md(f\"{len(related_host_bkmks_df)} additional investigation bookmarks have been \"\n",
    "       + \"found for one or more hosts.\", \"bold, red, large\")\n",
    "    md(\" You should investigate these hosts using \"\n",
    "       + \"the 'Entity Explorer - Windows Host' notebook\", \"bold, red\" )\n",
    "    display(related_host_bkmks_df)\n",
    "else:\n",
    "    md(\"No additional items found for logged on hosts\")"
   ]
  },
  {
   "cell_type": "markdown",
   "metadata": {},
   "source": [
    "## Linux Host\n",
    "For Linux accounts we look for the following types of data:\n",
    "- Logon Summary\n",
    "- Threat Intelligence reports for logon source IP Address(es)\n",
    "- Geo location and Whois lookup for logon source IP Address(es)\n",
    "- Additional alerts for the hosts where the account had logged on\n",
    "- Additional bookmarks for the hosts where the account had logged on\n"
   ]
  },
  {
   "cell_type": "code",
   "execution_count": null,
   "metadata": {},
   "outputs": [],
   "source": [
    "md(\"Fetching logon data...\")\n",
    "all_lx_logons = (qry_prov.LinuxSyslog\n",
    "                 .list_logons_for_account(**acct_query_params()))\n",
    "md(\"done\")"
   ]
  },
  {
   "cell_type": "markdown",
   "metadata": {},
   "source": [
    "### Host Logon Summary"
   ]
  },
  {
   "cell_type": "code",
   "execution_count": null,
   "metadata": {},
   "outputs": [],
   "source": [
    "logon_summary = (all_lx_logons\n",
    " .groupby(\"Computer\")\n",
    " .agg(\n",
    "     TotalLogons=pd.NamedAgg(column=\"Computer\", aggfunc=\"count\"),\n",
    "     FailedLogons=pd.NamedAgg(column=\"LogonResult\", aggfunc=lambda x: x.value_counts().to_dict()),\n",
    "     IPAddresses=pd.NamedAgg(column=\"SourceIP\", aggfunc=lambda x: x.unique().tolist()),\n",
    "     LogonTypeCount=pd.NamedAgg(column=\"LogonType\", aggfunc=lambda x: x.value_counts().to_dict()),\n",
    "     FirstLogon=pd.NamedAgg(column=\"TimeGenerated\", aggfunc=\"min\"),\n",
    "     LastLogon=pd.NamedAgg(column=\"TimeGenerated\", aggfunc=\"max\"),\n",
    "  )\n",
    ")\n",
    "\n",
    "display(logon_summary)\n",
    "nbdisplay.display_timeline(data=all_lx_logons,\n",
    "                           group_by=\"SourceIP\",\n",
    "                           source_columns=[\"Computer\", \"LogonResult\", \"LogonType\"],\n",
    "                           title=\"Logons\");"
   ]
  },
  {
   "cell_type": "markdown",
   "metadata": {},
   "source": [
    "### Threat Intelligence for logon IP Addresses\n",
    "<details>\n",
    "    <summary>TI Configuration</summary>\n",
    "If you have not used msticpy threat intelligence lookups before you will need to supply API keys for the \n",
    "TI Providers that you want to use. Please see the section on configuring [msticpyconfig.yaml](#msticpyconfig.yaml-configuration-File)\n",
    "\n",
    "Then reload provider settings:\n",
    "```\n",
    "mylookup = TILookup()\n",
    "mylookup.reload_provider_settings()\n",
    "```\n",
    "</details>"
   ]
  },
  {
   "cell_type": "code",
   "execution_count": null,
   "metadata": {},
   "outputs": [],
   "source": [
    "ti_results_lx, all_lx_logons_ti, src_ip_addrs_lx = check_ip_ti(df=all_lx_logons, ip_col=\"SourceIP\")\n",
    "\n",
    "if not ti_results_lx.empty:\n",
    "    md(f\"{len(ti_results_lx)} threat intelligence hits have been \"\n",
    "       + \"matched on one or more source IP addresses.\", \"bold, red, large\")\n",
    "    md(\" You should investigate these hosts accessed from these adddresses \"\n",
    "       + \"(see previous cell for host name accessed by IP Address)\"\n",
    "       + \"the 'Entity Explorer - Linux Host' notebook\", \"bold, red\" )\n",
    "    display(ti_results_lx)\n",
    "else:\n",
    "    md(\"No additional items found for logged on hosts\")"
   ]
  },
  {
   "cell_type": "markdown",
   "metadata": {},
   "source": [
    "### Geolocation and ownership for source logon IP addresses\n",
    "We use the source IP addresses for the activity to perform and Geo-location lookup and a WhoIs lookup to try to identify the IP address owner."
   ]
  },
  {
   "cell_type": "code",
   "execution_count": null,
   "metadata": {},
   "outputs": [],
   "source": [
    "all_lx_logons_geo = check_geo_whois(src_ip_addrs_lx, all_lx_logons, \"SourceIP\")\n",
    "\n",
    "md(\"Geolocations and ASN Owner for account logon source IP addresses. Information only\", \"bold\")\n",
    "\n",
    "(all_lx_logons_geo[~all_lx_logons_geo[\"CountryName\"].isna()]\n",
    " .groupby([\"Computer\", \"SourceIP\", \"CountryCode\",\"CountryName\", \"City\", \"ASNDesc\"])\n",
    " .agg(\n",
    "     TotalLogons=pd.NamedAgg(column=\"SourceSystem\", aggfunc=\"count\"),\n",
    "     LogonResult=pd.NamedAgg(column=\"LogonResult\", aggfunc=lambda x: x.value_counts().to_dict()),\n",
    "     LogonTypeCount=pd.NamedAgg(column=\"LogonType\", aggfunc=lambda x: x.value_counts().to_dict()),\n",
    "     FirstLogon=pd.NamedAgg(column=\"TimeGenerated\", aggfunc=\"min\"),\n",
    "     LastLogon=pd.NamedAgg(column=\"TimeGenerated\", aggfunc=\"max\"),\n",
    "  )\n",
    ")"
   ]
  },
  {
   "cell_type": "markdown",
   "metadata": {},
   "source": [
    "### Additional Alerts for logged-on hosts"
   ]
  },
  {
   "cell_type": "code",
   "execution_count": null,
   "metadata": {},
   "outputs": [],
   "source": [
    "related_host_alerts = []\n",
    "for host in all_lx_logons[\"Computer\"].unique():\n",
    "    host_alerts = qry_prov.SecurityAlert.list_related_alerts(\n",
    "        start=acct_query_params()[\"start\"],\n",
    "        end=acct_query_params()[\"end\"],\n",
    "        host_name=host\n",
    "    )\n",
    "    related_host_alerts.append(host_alerts)\n",
    "    \n",
    "related_host_alerts_df = pd.concat(related_host_alerts)\n",
    "\n",
    "# Show host alerts that were not in the Account alerts list\n",
    "related_host_alerts_df = related_host_alerts_df[~related_host_alerts_df[\"SystemAlertId\"]\n",
    "                                                .isin(related_alerts[\"SystemAlertId\"])]\n",
    "if not related_host_alerts_df.empty:\n",
    "    md(f\"{len(related_host_alerts_df)} additional alerts have been \"\n",
    "       + \"triggered on one or more hosts.\", \"bold, red, large\")\n",
    "    md(\" You should investigate these hosts using \"\n",
    "       + \"the 'Entity Explorer - Linux Host' notebook\", \"bold, red\" )\n",
    "    display(related_host_alerts_df[['TenantId','TimeGenerated','AlertDisplayName','ConfidenceLevel','ConfidenceScore','Computer','ExtendedProperties','Entities']])\n",
    "else:\n",
    "    md(\"No additional items found for logged on hosts\")"
   ]
  },
  {
   "cell_type": "markdown",
   "metadata": {},
   "source": [
    "#### Additional alerts for source IP addresses\n",
    "We can also search for alerts that contain the IP addresses that were the origin of logons to the host."
   ]
  },
  {
   "cell_type": "code",
   "execution_count": null,
   "metadata": {},
   "outputs": [],
   "source": [
    "ip_list = \",\".join(list(all_lx_logons[\"SourceIP\"].unique()))\n",
    "related_ip_alerts_df = qry_prov.SecurityAlert.list_alerts_for_ip(\n",
    "    start=acct_query_params()[\"start\"],\n",
    "    end=acct_query_params()[\"end\"],\n",
    "    source_ip_list=ip_list\n",
    ")\n",
    "# remove Account and host alerts already seen\n",
    "related_ip_alerts_df = related_ip_alerts_df[~related_ip_alerts_df[\"SystemAlertId\"]\n",
    "                                            .isin(related_alerts[\"SystemAlertId\"])]\n",
    "related_ip_alerts_df = related_ip_alerts_df[~related_ip_alerts_df[\"SystemAlertId\"]\n",
    "                                            .isin(related_host_alerts_df[\"SystemAlertId\"])]\n",
    "if not related_ip_alerts_df.empty:\n",
    "    md(f\"{len(related_ip_alerts_df)} additional alerts have been \"\n",
    "       + \"triggered from one or more source IPs.\", \"bold, red, large\")\n",
    "    md(\" You should investigate these IPs using \"\n",
    "       + \"the 'Entity Explorer - IP Address' notebook\", \"bold, red\" )\n",
    "    display(related_ip_alerts_df)\n",
    "else:\n",
    "    md(\"No additional alerts found.\")"
   ]
  },
  {
   "cell_type": "markdown",
   "metadata": {},
   "source": [
    "### Additional Investigation Bookmarks for logged-on hosts"
   ]
  },
  {
   "cell_type": "code",
   "execution_count": null,
   "metadata": {},
   "outputs": [],
   "source": [
    "related_host_bkmks = []\n",
    "for host in all_lx_logons[\"Computer\"].unique():\n",
    "    host_bkmks = qry_prov.AzureSentinel.list_bookmarks_for_entity(\n",
    "        start=acct_query_params()[\"start\"],\n",
    "        end=acct_query_params()[\"end\"],\n",
    "        entity_id=host\n",
    "    )\n",
    "    related_host_bkmks.append(host_bkmks)\n",
    "    \n",
    "related_host_bkmks_df = pd.concat(related_host_bkmks)\n",
    "\n",
    "# Show host bookmarks that were not in the Account bookmarks list\n",
    "related_host_bkmks_df = related_host_bkmks_df[~related_host_bkmks_df[\"BookmarkId\"]\n",
    "                                              .isin(related_bkmark_df[\"BookmarkId\"])]\n",
    "if not related_host_bkmks_df.empty:\n",
    "    md(f\"{len(related_host_bkmks_df)} additional investigation bookmarks have been \"\n",
    "       + \"found for one or more hosts.\", \"bold, red, large\")\n",
    "    md(\" You should investigate these hosts using \"\n",
    "       + \"the 'Entity Explorer - Windows Host' notebook\", \"bold, red\" )\n",
    "    display(related_host_bkmks_df)\n",
    "else:\n",
    "    md(\"No additional items found for logged on hosts\")"
   ]
  },
  {
   "cell_type": "markdown",
   "metadata": {},
   "source": [
    "## AAD/Office Account\n",
    "For an Azure Active Directory account we look for the following data:\n",
    "- AAD Sign-on activity\n",
    "- Azure Activity\n",
    "- Office 365 operations\n",
    "- Threat intelligence reports for the client IP Address used in any of these activities\n",
    "- Geo location and Whois lookup for logon source IP Address(es)\n",
    "- Additional alerts for the logon source IP Address(es)"
   ]
  },
  {
   "cell_type": "code",
   "execution_count": null,
   "metadata": {
    "gather": {
     "logged": 1618284018457
    }
   },
   "outputs": [],
   "source": [
    "md(\"Fetching Azure/Office data...\")\n",
    "# Fetch the data\n",
    "aad_sum_qry = \"\"\"\n",
    "| extend UserPrincipalName=tolower(UserPrincipalName)\n",
    "| project-rename Operation=OperationName, AppResourceProvider=AppDisplayName\"\"\"\n",
    "aad_signin_df = (qry_prov.Azure\n",
    "                 .list_aad_signins_for_account(**acct_query_params(),\n",
    "                                              add_query_items=aad_sum_qry)\n",
    "                )\n",
    "\n",
    "az_sum_qry = \"\"\"\n",
    "| extend UserPrincipalName=tolower(Caller)\n",
    "| project-rename IPAddress=CallerIpAddress, Operation=OperationName,\n",
    "  AppResourceProvider=ResourceProvider\"\"\"\n",
    "azure_activity_df = (qry_prov.Azure\n",
    "                     .list_azure_activity_for_account(**acct_query_params(),\n",
    "                                                      add_query_items=az_sum_qry)\n",
    "                    )\n",
    "\n",
    "o365_sum_qry = \"\"\"\n",
    "| extend UserPrincipalName=tolower(UserId)\n",
    "| project-rename IPAddress=ClientIP, ResourceId=OfficeObjectId,\n",
    "  AppResourceProvider=OfficeWorkload\"\"\"\n",
    "o365_activity_df = (qry_prov.Office365\n",
    "                    .list_activity_for_account(**acct_query_params(),\n",
    "                                               add_query_items=o365_sum_qry)\n",
    "                    )\n",
    "md(\"done\")"
   ]
  },
  {
   "cell_type": "markdown",
   "metadata": {},
   "source": [
    "### Azure/Office Summary"
   ]
  },
  {
   "cell_type": "code",
   "execution_count": null,
   "metadata": {
    "gather": {
     "logged": 1618284024253
    }
   },
   "outputs": [],
   "source": [
    "az_all_data = pd.concat([aad_signin_df, azure_activity_df, o365_activity_df], sort=False)\n",
    "\n",
    "nbdisplay.display_timeline(data=az_all_data,\n",
    "                          group_by=\"AppResourceProvider\",\n",
    "                          source_columns=[\"Operation\", \"IPAddress\", \"AppResourceProvider\"],\n",
    "                          title=\"Azure Signin activity by Provider\")\n",
    "nbdisplay.display_timeline(data=az_all_data,\n",
    "                          group_by=\"IPAddress\",\n",
    "                          source_columns=[\"Operation\", \"IPAddress\", \"AppResourceProvider\"],\n",
    "                          title=\"Azure Operations by Source IP\")\n",
    "nbdisplay.display_timeline(data=az_all_data,\n",
    "                          group_by=\"Operation\",\n",
    "                          source_columns=[\"Operation\", \"IPAddress\", \"AppResourceProvider\"],\n",
    "                          title=\"Azure Operations by Operation\");"
   ]
  },
  {
   "cell_type": "code",
   "execution_count": null,
   "metadata": {
    "gather": {
     "logged": 1618284033327
    }
   },
   "outputs": [],
   "source": [
    "(az_all_data\n",
    ".groupby([\"UserPrincipalName\", \"Type\", \"IPAddress\", \"AppResourceProvider\", \"UserType\"])\n",
    ".agg(\n",
    "     OperationCount=pd.NamedAgg(column=\"Type\", aggfunc=\"count\"),\n",
    "     OperationTypes=pd.NamedAgg(column=\"Operation\", aggfunc=lambda x: x.unique().tolist()),\n",
    "     Resources=pd.NamedAgg(column=\"ResourceId\", aggfunc=\"nunique\"),\n",
    "     FirstOperation=pd.NamedAgg(column=\"TimeGenerated\", aggfunc=\"min\"),\n",
    "     LastOperation=pd.NamedAgg(column=\"TimeGenerated\", aggfunc=\"max\"),\n",
    "  )\n",
    ")"
   ]
  },
  {
   "cell_type": "markdown",
   "metadata": {},
   "source": [
    "### Threat Intelligence for IP Addresses\n",
    "<details>\n",
    "    <summary>TI Configuration</summary>\n",
    "If you have not used msticpy threat intelligence lookups before you will need to supply API keys for the \n",
    "TI Providers that you want to use. Please see the section on configuring [msticpyconfig.yaml](#msticpyconfig.yaml-configuration-File)\n",
    "\n",
    "Then reload provider settings:\n",
    "```\n",
    "mylookup = TILookup()\n",
    "mylookup.reload_provider_settings()\n",
    "```\n",
    "</details>"
   ]
  },
  {
   "cell_type": "code",
   "execution_count": null,
   "metadata": {
    "gather": {
     "logged": 1618284060857
    }
   },
   "outputs": [],
   "source": [
    "ti_results_az, all_az_ti, src_ip_addrs_az = check_ip_ti(df=az_all_data, ip_col=\"IPAddress\")\n",
    "\n",
    "if not ti_results_az.empty:\n",
    "    md(f\"{len(ti_results_az)} threat intelligence hits have been \"\n",
    "       + \"matched on one or more source IP addresses.\", \"bold, red, large\")\n",
    "    md(\" You should investigate these IP addresses using \"\n",
    "       + \"the 'Entity Explorer - IP Address' notebook\", \"bold, red\" )\n",
    "    display(ti_results_az)\n",
    "else:\n",
    "    md(\"No additional items found\")"
   ]
  },
  {
   "cell_type": "markdown",
   "metadata": {},
   "source": [
    "### Geolocation and ownership for source IP addresses\n",
    "We use the source IP addresses for the activity to perform and Geo-location lookup and a WhoIs lookup to try to identify the IP address owner."
   ]
  },
  {
   "cell_type": "code",
   "execution_count": null,
   "metadata": {
    "gather": {
     "logged": 1618284071548
    }
   },
   "outputs": [],
   "source": [
    "all_az_geo = check_geo_whois(src_ip_addrs_az.iloc[0:50], az_all_data, \"IPAddress\")\n",
    "\n",
    "md(\"Geolocations and ASN Owner for source IP addresses. Information only\", \"bold\")\n",
    "\n",
    "(all_az_geo[~all_az_geo[\"CountryName\"].isna()]\n",
    " .groupby([\"UserPrincipalName\", \"IPAddress\", \"CountryCode\",\"CountryName\", \"City\", \"ASNDesc\"])\n",
    " .agg(\n",
    "     TotalOperations=pd.NamedAgg(column=\"SourceSystem\", aggfunc=\"count\"),\n",
    "     Operations=pd.NamedAgg(column=\"Operation\", aggfunc=lambda x: x.value_counts().to_dict()),\n",
    "     AppResources=pd.NamedAgg(column=\"AppResourceProvider\", aggfunc=lambda x: x.unique().tolist()),\n",
    "     FirstLogon=pd.NamedAgg(column=\"TimeGenerated\", aggfunc=\"min\"),\n",
    "     LastLogon=pd.NamedAgg(column=\"TimeGenerated\", aggfunc=\"max\"),\n",
    "  )\n",
    ")"
   ]
  },
  {
   "cell_type": "markdown",
   "metadata": {},
   "source": [
    "### Additional alerts for source IP addresses"
   ]
  },
  {
   "cell_type": "code",
   "execution_count": null,
   "metadata": {
    "gather": {
     "logged": 1618284116044
    }
   },
   "outputs": [],
   "source": [
    "ip_list = \",\".join(list(src_ip_addrs_az[\"IPAddress\"].unique()))\n",
    "related_ip_alerts_df = qry_prov.SecurityAlert.list_alerts_for_ip(\n",
    "    start=acct_query_params()[\"start\"],\n",
    "    end=acct_query_params()[\"end\"],\n",
    "    source_ip_list=ip_list\n",
    ")\n",
    "# remove Account and host alerts already seen\n",
    "related_ip_alerts_df = related_ip_alerts_df[~related_ip_alerts_df[\"SystemAlertId\"]\n",
    "                                            .isin(related_alerts[\"SystemAlertId\"])]\n",
    "if not related_ip_alerts_df.empty:\n",
    "    md(f\"{len(related_ip_alerts_df)} additional alerts have been \"\n",
    "       + \"triggered from one or more source IPs.\", \"bold, red, large\")\n",
    "    md(\" You should investigate these IPs using \"\n",
    "       + \"the 'Entity Explorer - IP Address' notebook\", \"bold, red\" )\n",
    "    display(related_ip_alerts_df)\n",
    "else:\n",
    "   md(\"No related alerts for source IPs found.\")"
   ]
  },
  {
   "cell_type": "markdown",
   "metadata": {},
   "source": [
    "## Appendices"
   ]
  },
  {
   "cell_type": "markdown",
   "metadata": {},
   "source": [
    "### Available DataFrames"
   ]
  },
  {
   "cell_type": "code",
   "execution_count": null,
   "metadata": {},
   "outputs": [],
   "source": [
    "print('List of current DataFrames in Notebook')\n",
    "print('-' * 50)\n",
    "current_vars = list(locals().keys())\n",
    "for var_name in current_vars:\n",
    "    if isinstance(locals()[var_name], pd.DataFrame) and not var_name.startswith('_'):\n",
    "        print(var_name)"
   ]
  },
  {
   "cell_type": "markdown",
   "metadata": {},
   "source": [
    "### Saving data to Excel\n",
    "To save the contents of a pandas DataFrame to an Excel spreadsheet\n",
    "use the following syntax\n",
    "```\n",
    "writer = pd.ExcelWriter('myWorksheet.xlsx')\n",
    "my_data_frame.to_excel(writer,'Sheet1')\n",
    "writer.save()\n",
    "```"
   ]
  },
  {
   "cell_type": "markdown",
   "metadata": {},
   "source": [
    "## Configuration\n",
    "\n",
    "### `msticpyconfig.yaml` configuration File\n",
    "You can configure primary and secondary TI providers and any required parameters in the `msticpyconfig.yaml` file. This is read from the current directory or you can set an environment variable (`MSTICPYCONFIG`) pointing to its location.\n",
    "\n",
    "To configure this file see the [ConfigureNotebookEnvironment notebook](https://github.com/Azure/Azure-Sentinel-Notebooks/blob/master/ConfiguringNotebookEnvironment.ipynb)"
   ]
  }
 ],
 "metadata": {
  "celltoolbar": "Attachments",
  "hide_input": false,
  "interpreter": {
   "hash": "f1a957ba120dd441fca5345565e323085d222a237914b966f18f2f288f750033"
  },
  "kernel_info": {
   "name": "python38-azureml"
  },
  "kernelspec": {
   "display_name": "Python 3.8 - AzureML",
   "language": "python",
   "name": "python38-azureml"
  },
  "language_info": {
   "codemirror_mode": {
    "name": "ipython",
    "version": 3
   },
   "file_extension": ".py",
   "mimetype": "text/x-python",
   "name": "python",
   "nbconvert_exporter": "python",
   "pygments_lexer": "ipython3",
   "version": "3.9.7"
  },
  "latex_envs": {
   "LaTeX_envs_menu_present": true,
   "autoclose": false,
   "autocomplete": true,
   "bibliofile": "biblio.bib",
   "cite_by": "apalike",
   "current_citInitial": 1,
   "eqLabelWithNumbers": true,
   "eqNumInitial": 1,
   "hotkeys": {
    "equation": "Ctrl-E",
    "itemize": "Ctrl-I"
   },
   "labels_anchors": false,
   "latex_user_defs": false,
   "report_style_numbering": false,
   "user_envs_cfg": false
  },
  "microsoft": {
   "host": {
    "AzureML": {
     "notebookHasBeenCompleted": true
    }
   }
  },
  "nteract": {
   "version": "nteract-front-end@1.0.0"
  },
  "toc": {
   "base_numbering": 1,
   "nav_menu": {},
   "number_sections": true,
   "sideBar": true,
   "skip_h1_title": true,
   "title_cell": "Contents",
   "title_sidebar": "Contents",
   "toc_cell": true,
   "toc_position": {
    "height": "calc(100% - 180px)",
    "left": "10px",
    "top": "150px",
    "width": "512px"
   },
   "toc_section_display": true,
   "toc_window_display": true
  },
  "varInspector": {
   "cols": {
    "lenName": 16,
    "lenType": 16,
    "lenVar": 40
   },
   "kernels_config": {
    "python": {
     "delete_cmd_postfix": "",
     "delete_cmd_prefix": "del ",
     "library": "var_list.py",
     "varRefreshCmd": "print(var_dic_list())"
    },
    "r": {
     "delete_cmd_postfix": ") ",
     "delete_cmd_prefix": "rm(",
     "library": "var_list.r",
     "varRefreshCmd": "cat(var_dic_list()) "
    }
   },
   "types_to_exclude": [
    "module",
    "function",
    "builtin_function_or_method",
    "instance",
    "_Feature"
   ],
   "window_display": false
  }
 },
 "nbformat": 4,
 "nbformat_minor": 4
}
